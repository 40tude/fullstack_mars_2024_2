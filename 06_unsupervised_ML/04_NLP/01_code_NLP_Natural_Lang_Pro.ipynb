{
 "cells": [
  {
   "cell_type": "markdown",
   "metadata": {},
   "source": [
    "# Jeudi 25 Avril \n",
    "\n",
    "# NLP - Code"
   ]
  },
  {
   "cell_type": "markdown",
   "metadata": {},
   "source": [
    "## What you will learn in this course 🧐🧐\n",
    "\n",
    "You can perform NLP with a lot of different libraries. Among them are <a href=\"https://scikit-learn.org/stable/\" target=\"_blank\">sklearn</a>, <a href=\"https://spacy.io/\" target=\"_blank\">spaCy</a> and <a href=\"https://www.nltk.org/\" target=\"_blank\">NLTK</a>. In this course we will focus on `sklearn` and `spacy`. You will learn: \n",
    "\n",
    "* How to create `doc` object with `spacy`\n",
    "* How to get tokenize `doc` object with `spacy`\n",
    "* How to stem, lemmatize words using `spacy`\n",
    "* Create TF-IDF using `sklearn`"
   ]
  },
  {
   "cell_type": "markdown",
   "metadata": {
    "colab_type": "text",
    "id": "E410wyV3L9tI"
   },
   "source": [
    "## NLP With Spacy 🚀🚀\n",
    "\n",
    "If you are doing NLP, you will need to use a library that will allow you to manage your different preprocessing needs. `Spacy` is an extremely powerful library for this task. \n",
    "\n",
    "To give you some context, this library has been designed to create an end-to-end NLP tool i.e. from data preprocessing to the deployment of an algorithm. \n",
    "\n",
    "For our needs, we will look at how the library works on the preprocessing part. "
   ]
  },
  {
   "cell_type": "code",
   "execution_count": 2,
   "metadata": {},
   "outputs": [],
   "source": [
    "# Install spacy \n",
    "## -q is for \"quiet\". It removes logs \n",
    "# !pip install spacy -q"
   ]
  },
  {
   "cell_type": "code",
   "execution_count": 1,
   "metadata": {
    "colab": {
     "base_uri": "https://localhost:8080/",
     "height": 35
    },
    "colab_type": "code",
    "executionInfo": {
     "elapsed": 3153,
     "status": "ok",
     "timestamp": 1582023129137,
     "user": {
      "displayName": "Antoine Krajnc",
      "photoUrl": "https://lh3.googleusercontent.com/a-/AAuE7mC4XzNDVGvURzl4T5duDbMr6bUdhkYkDul_37G0OA=s64",
      "userId": "08465960390418158788"
     },
     "user_tz": -60
    },
    "id": "DPlCOLZJL2wW",
    "outputId": "3120806a-5d56-4bd8-96b4-50065af4c2ef"
   },
   "outputs": [
    {
     "data": {
      "text/plain": [
       "'3.7.2'"
      ]
     },
     "execution_count": 1,
     "metadata": {},
     "output_type": "execute_result"
    }
   ],
   "source": [
    "# Import spacy, if you don't have it --> !pip install spacy \n",
    "import spacy\n",
    "spacy.__version__"
   ]
  },
  {
   "cell_type": "markdown",
   "metadata": {
    "colab_type": "text",
    "id": "yvxD1FqSMEs3"
   },
   "source": [
    "## Import a Language 🗺️🗺️"
   ]
  },
  {
   "cell_type": "markdown",
   "metadata": {
    "colab_type": "text",
    "id": "ft0D5hps7SJS"
   },
   "source": [
    "First of all, to get started in `spacy`, you will need to import a language. Indeed each language has its own specificities. In fact, you won't be able to have universal preprocessing templates. \n",
    "\n",
    "Let's import English specificities. To do so, you will need to first download a `model` which holds everything you need to apply on your preprocessing. "
   ]
  },
  {
   "cell_type": "code",
   "execution_count": 2,
   "metadata": {},
   "outputs": [
    {
     "name": "stdout",
     "output_type": "stream",
     "text": [
      "✔ Download and installation successful\n",
      "You can now load the package via spacy.load('en_core_web_sm')\n"
     ]
    }
   ],
   "source": [
    "# Download model \n",
    "\n",
    "# sm : small\n",
    "# md : medium\n",
    "# lg : large\n",
    "!python -m spacy download en_core_web_sm -q"
   ]
  },
  {
   "cell_type": "markdown",
   "metadata": {},
   "source": [
    "Now you can simply load your model by importing it.   "
   ]
  },
  {
   "cell_type": "code",
   "execution_count": 3,
   "metadata": {
    "colab": {},
    "colab_type": "code",
    "id": "CNxspFY6MBql"
   },
   "outputs": [],
   "source": [
    "# Import English using en_core_web_sm.load()\n",
    "import en_core_web_sm\n",
    "nlp = en_core_web_sm.load()"
   ]
  },
  {
   "cell_type": "markdown",
   "metadata": {},
   "source": [
    "With `spacy`, you have many languages that you can load. Here they are (extracted from <a href=\"https://spacy.io/usage/models\" target=\"_blank\">`spacy`'s documentation</a>): \n",
    "\n",
    "|Language|Code|Language Data|Models|\n",
    "|--- |--- |--- |--- |\n",
    "|Chinese|zh|lang/zh|3 models|\n",
    "|Danish|da|lang/da|3 models|\n",
    "|Dutch|nl|lang/nl|3 models|\n",
    "|English|en|lang/en|3 models|\n",
    "|French|fr|lang/fr|3 models|\n",
    "|German|de|lang/de|3 models|\n",
    "|Greek|el|lang/el|3 models|\n",
    "|Italian|it|lang/it|3 models|\n",
    "|Japanese|ja|lang/ja|3 models|\n",
    "|Lithuanian|lt|lang/lt|3 models|\n",
    "|Multi-language|xx|lang/xx|1 model|\n",
    "|Norwegian Bokmål|nb|lang/nb|3 models|\n",
    "|Polish|pl|lang/pl|3 models|\n",
    "|Portuguese|pt|lang/pt|3 models|\n",
    "|Romanian|ro|lang/ro|3 models|\n",
    "|Spanish|es|lang/es|3 models|\n",
    "|Afrikaans|af|lang/af|none yet|\n",
    "|Albanian|sq|lang/sq|none yet|\n",
    "|Arabic|ar|lang/ar|none yet|\n",
    "|Armenian|hy|lang/hy|none yet|\n",
    "|Basque|eu|lang/eu|none yet|\n",
    "|Bengali|bn|lang/bn|none yet|\n",
    "|Bulgarian|bg|lang/bg|none yet|\n",
    "|Catalan|ca|lang/ca|none yet|\n",
    "|Croatian|hr|lang/hr|none yet|\n",
    "|Czech|cs|lang/cs|none yet|\n",
    "|Estonian|et|lang/et|none yet|\n",
    "|Finnish|fi|lang/fi|none yet|\n",
    "|Gujarati|gu|lang/gu|none yet|\n",
    "|Hebrew|he|lang/he|none yet|\n",
    "|Hindi|hi|lang/hi|none yet|\n",
    "|Hungarian|hu|lang/hu|none yet|\n",
    "|Icelandic|is|lang/is|none yet|\n",
    "|Indonesian|id|lang/id|none yet|\n",
    "|Irish|ga|lang/ga|none yet|\n",
    "|Kannada|kn|lang/kn|none yet|\n",
    "|Korean|ko|lang/ko|none yet|\n",
    "|Latvian|lv|lang/lv|none yet|\n",
    "|Ligurian|lij|lang/lij|none yet|\n",
    "|Luxembourgish|lb|lang/lb|none yet|\n",
    "|Macedonian|mk|lang/mk|none yet|\n",
    "|Malayalam|ml|lang/ml|none yet|\n",
    "|Marathi|mr|lang/mr|none yet|\n",
    "|Nepali|ne|lang/ne|none yet|\n",
    "|Persian|fa|lang/fa|none yet|\n",
    "|Russian|ru|lang/ru|none yet|\n",
    "|Serbian|sr|lang/sr|none yet|\n",
    "|Sinhala|si|lang/si|none yet|\n",
    "|Slovak|sk|lang/sk|none yet|\n",
    "|Slovenian|sl|lang/sl|none yet|\n",
    "|Swedish|sv|lang/sv|none yet|\n",
    "|Tagalog|tl|lang/tl|none yet|\n",
    "|Tamil|ta|lang/ta|none yet|\n",
    "|Tatar|tt|lang/tt|none yet|\n",
    "|Telugu|te|lang/te|none yet|\n",
    "|Thai|th|lang/th|none yet|\n",
    "|Turkish|tr|lang/tr|none yet|\n",
    "|Ukrainian|uk|lang/uk|none yet|\n",
    "|Urdu|ur|lang/ur|none yet|\n",
    "|Vietnamese|vi|lang/vi|none yet|\n",
    "|Yoruba|yo|lang/yo|none yet|"
   ]
  },
  {
   "cell_type": "markdown",
   "metadata": {},
   "source": [
    "All you will have to do is to do `python -m spacy da_core_web_sm` if you want to import danish model. "
   ]
  },
  {
   "cell_type": "markdown",
   "metadata": {
    "colab_type": "text",
    "id": "h9jnqZJhMQan"
   },
   "source": [
    "## Create a Doc object 📄📄"
   ]
  },
  {
   "cell_type": "markdown",
   "metadata": {
    "colab_type": "text",
    "id": "At6g2RZT7i0_"
   },
   "source": [
    "Once you have imported your language, you can create a `doc` object. This doc is your complete body of text. Once you have instantiated your doc, you will be able to use the full power of `spacy`. "
   ]
  },
  {
   "cell_type": "code",
   "execution_count": 4,
   "metadata": {},
   "outputs": [],
   "source": [
    "doc2 = nlp(\"Hello my name is philippe\")"
   ]
  },
  {
   "cell_type": "code",
   "execution_count": 4,
   "metadata": {
    "colab": {
     "base_uri": "https://localhost:8080/",
     "height": 124
    },
    "colab_type": "code",
    "executionInfo": {
     "elapsed": 1058,
     "status": "ok",
     "timestamp": 1581949363086,
     "user": {
      "displayName": "Antoine Krajnc",
      "photoUrl": "https://lh3.googleusercontent.com/a-/AAuE7mC4XzNDVGvURzl4T5duDbMr6bUdhkYkDul_37G0OA=s64",
      "userId": "08465960390418158788"
     },
     "user_tz": -60
    },
    "id": "zJYg4OC-MP6n",
    "outputId": "61609ff2-c7ce-473d-b4d1-3a45871523c5"
   },
   "outputs": [
    {
     "name": "stdout",
     "output_type": "stream",
     "text": [
      "Tokens: ['Hello', 'World', '!', 'Do', \"n't\", 'do', 'this', '.', 'I', 'am', 'superman', 'wherever', 'you', 'are', 'in', 'the', 'world']\n",
      "------------\n",
      "Lemma: ['hello', 'World', '!', 'do', 'not', 'do', 'this', '.', 'I', 'be', 'superman', 'wherever', 'you', 'be', 'in', 'the', 'world']\n",
      "------------\n",
      "Indices: [0, 1, 2, 3, 4, 5, 6, 7, 8, 9, 10, 11, 12, 13, 14, 15, 16]\n",
      "------------\n",
      "Alpha Numeric: [True, True, False, True, False, True, True, False, True, True, True, True, True, True, True, True, True]\n",
      "------------\n",
      "Numbers: [False, False, False, False, False, False, False, False, False, False, False, False, False, False, False, False, False]\n"
     ]
    }
   ],
   "source": [
    "doc = nlp(\"Hello World! Don't do this. I am superman wherever you are in the world\")\n",
    "\n",
    "# Print tokens\n",
    "print(\"Tokens: {}\".format([token.text for token in doc]))\n",
    "print(\"------------\")\n",
    "\n",
    "# Print Lemmatized tokens\n",
    "print(\"Lemma: {}\".format([token.lemma_ for token in doc]))\n",
    "print(\"------------\")\n",
    "\n",
    "# Print Indices of each tokens\n",
    "print(\"Indices: {}\".format([token.i for token in doc]))\n",
    "print(\"------------\")\n",
    "\n",
    "# Print whether tokens are alpha numeric \n",
    "print(\"Alpha Numeric: {}\".format([token.is_alpha for token in doc]))\n",
    "print(\"------------\")\n",
    "\n",
    "# Print whether tokens are numbers\n",
    "print(\"Numbers: {}\".format([token.like_num for token in doc]))"
   ]
  },
  {
   "cell_type": "code",
   "execution_count": null,
   "metadata": {},
   "outputs": [],
   "source": []
  },
  {
   "cell_type": "markdown",
   "metadata": {
    "colab_type": "text",
    "id": "PZ6uIB4u7weu"
   },
   "source": [
    "As you can see above, once we created our `doc`, we were able to extract: \n",
    "\n",
    "* Tokens \n",
    "* Lemmatized tokens\n",
    "* Indices of each token \n",
    "* Booleans that determine whether tokens are words or punctuation (alpha_numeric) \n",
    "* Booleans that determine if the tokens are numbers\n",
    "\n",
    "Powerful, isn't it? 💪"
   ]
  },
  {
   "cell_type": "markdown",
   "metadata": {
    "colab_type": "text",
    "id": "mEB89kN58Rs2"
   },
   "source": [
    "## Stop Words ⛔⛔\n",
    "\n",
    "In NLP, stop words are all the linking words, articles and quantifiers that are widely used in a language but which are not in themselves meaningful.\n",
    "\n",
    "For each language, you have a list of stop words made by spacy. "
   ]
  },
  {
   "cell_type": "code",
   "execution_count": 5,
   "metadata": {
    "colab": {
     "base_uri": "https://localhost:8080/",
     "height": 55
    },
    "colab_type": "code",
    "executionInfo": {
     "elapsed": 493,
     "status": "ok",
     "timestamp": 1581949368857,
     "user": {
      "displayName": "Antoine Krajnc",
      "photoUrl": "https://lh3.googleusercontent.com/a-/AAuE7mC4XzNDVGvURzl4T5duDbMr6bUdhkYkDul_37G0OA=s64",
      "userId": "08465960390418158788"
     },
     "user_tz": -60
    },
    "id": "SFXmpBZWVsYW",
    "outputId": "d7ec8a9c-ab3e-436c-a9f0-3dc32aa8ce54"
   },
   "outputs": [
    {
     "name": "stdout",
     "output_type": "stream",
     "text": [
      "{'’ve', 'much', 'hers', 'latterly', 'your', 'on', 'third', 'there', 'may', 'no', 'through', 'within', '’m', 'whither', 'also', 'sixty', 'thence', 'twenty', 'will', 'would', 'always', 'became', 'hereupon', 'everything', 'you', 'whereas', 'while', 'towards', 'ourselves', 'fifteen', 'have', 'him', 'although', 'still', 'afterwards', 'often', 'where', '‘ve', 'about', '‘re', 'first', '’re', 'any', 'across', 'whereafter', 'behind', 'should', '‘m', 'part', 'a', 'using', 'other', 'ca', 'anywhere', 'as', 'out', 'due', 'fifty', 'seem', 'three', 'or', 'next', 'everywhere', 'nine', 'none', '‘ll', 'please', 'it', 'nowhere', 'onto', 'rather', 'by', 'becoming', \"'re\", 'moreover', 'just', 'sometimes', 'this', 'five', 'those', 'side', 'myself', 'somewhere', \"n't\", 'various', 'thereupon', 'last', '‘s', 'they', 'move', 'thru', 'nobody', 'ever', 'get', 'another', 'call', 'them', 'up', 'when', 'indeed', 'least', 'besides', 'we', 'yours', 'several', 'over', 'become', 'formerly', 'until', 'could', 'to', 'i', 'six', 'were', 'whether', 'whereupon', 'he', 'all', 'twelve', 'most', 'take', 'anyway', 'what', 'say', 'in', 'one', 'perhaps', 'except', 'therefore', 'before', 'upon', \"'s\", 'nevertheless', 'enough', 'yourself', \"'d\", 'above', 'wherein', 'but', 'herein', 'among', 'own', 'hereafter', 'of', 'doing', 'everyone', 'an', 'see', 'not', 'us', 'do', 'either', 'how', 'same', 'along', 'else', 'thereby', 'ours', 'whole', 'can', 'even', 'meanwhile', 'elsewhere', 'however', 'top', 'made', 'noone', 'which', 'been', '‘d', 'its', 'these', 'whoever', 'be', 'must', 'whatever', 'who', 'regarding', 'seeming', 'being', 'whereby', 'whence', 'former', 'whom', 'yourselves', 'had', 'so', 'now', 'toward', 'yet', 'hundred', 'beforehand', 'again', 'latter', 'already', 'keep', 'cannot', 'both', 'really', 'seemed', 'bottom', 'more', 'unless', 'once', 'sometime', 'itself', 'eight', 'than', 'whenever', 'themselves', 'am', 'under', 'put', 'are', 'full', 'front', 'ten', 'something', 'and', 'beyond', 'go', 'becomes', '’ll', 'n‘t', '’s', 'used', 'some', 'against', 'few', 'neither', 'mine', 'eleven', 'hereby', 'off', 'quite', 'though', 'only', 'is', 'less', 'four', 'therein', 'during', 'mostly', 'around', 'otherwise', 'anything', 'the', 'each', 'if', 're', 'show', 'per', 'why', 'between', 'forty', 'others', 'since', 'thereafter', '’d', 'into', 'never', 'give', \"'ll\", 'has', 'almost', 'does', 'namely', 'at', 'together', 'she', 'thus', 'every', 'after', 'nor', \"'m\", 'my', 'herself', 'from', 'n’t', 'their', 'somehow', 'nothing', 'her', 'here', 'someone', 'beside', 'such', 'many', 'did', 'me', 'amount', 'then', 'done', 'too', 'with', 'serious', 'anyone', 'without', 'himself', 'name', 'that', 'might', 'because', 'empty', 'our', \"'ve\", 'further', 'anyhow', 'wherever', 'hence', 'via', 'back', 'make', 'two', 'amongst', 'was', 'seems', 'throughout', 'very', 'well', 'below', 'whose', 'alone', 'his', 'for', 'down'}\n"
     ]
    }
   ],
   "source": [
    "# Import english stop words\n",
    "from spacy.lang.en.stop_words import STOP_WORDS\n",
    "\n",
    "# Print stop words\n",
    "print(STOP_WORDS)"
   ]
  },
  {
   "cell_type": "markdown",
   "metadata": {
    "colab_type": "text",
    "id": "wled3-cnNZMe"
   },
   "source": [
    "## WordCloud ☁️☁️"
   ]
  },
  {
   "cell_type": "markdown",
   "metadata": {
    "colab_type": "text",
    "id": "AExMTSMN8qM2"
   },
   "source": [
    "One visualization that we do a lot when doing NLP is to create a word cloud. Although it is not directly a `spacy` method, we thought it was important to show you how to create it via `wordcloud` and `matplotlib`."
   ]
  },
  {
   "cell_type": "code",
   "execution_count": 8,
   "metadata": {},
   "outputs": [],
   "source": [
    "# Install wordcloud if necessary \n",
    "# !pip install wordcloud -q"
   ]
  },
  {
   "cell_type": "code",
   "execution_count": 6,
   "metadata": {
    "colab": {},
    "colab_type": "code",
    "id": "Pi0DRf8T9Dnt"
   },
   "outputs": [
    {
     "data": {
      "image/png": "[encoded data removed]",
      "text/plain": [
       "<Figure size 640x480 with 1 Axes>"
      ]
     },
     "metadata": {},
     "output_type": "display_data"
    }
   ],
   "source": [
    "# Import matplotlib and wordcloud \n",
    "import matplotlib.pyplot as plt\n",
    "import wordcloud\n",
    "\n",
    "# Instanciate WordCloud \n",
    "wd = wordcloud.WordCloud()\n",
    "cloud = wd.generate(doc.text)\n",
    "\n",
    "# Show word cloud with matplotlib \n",
    "plt.imshow(cloud)\n",
    "\n",
    "# Remove trailing logs \n",
    "plt.show()"
   ]
  },
  {
   "cell_type": "markdown",
   "metadata": {
    "colab_type": "text",
    "id": "DIkC-w-782EP"
   },
   "source": [
    "Making a word cloud with stop words can hide important words in a body of text, so here's how you can remove them. "
   ]
  },
  {
   "cell_type": "code",
   "execution_count": 7,
   "metadata": {
    "colab": {
     "base_uri": "https://localhost:8080/",
     "height": 236
    },
    "colab_type": "code",
    "executionInfo": {
     "elapsed": 1302,
     "status": "ok",
     "timestamp": 1581949370852,
     "user": {
      "displayName": "Antoine Krajnc",
      "photoUrl": "https://lh3.googleusercontent.com/a-/AAuE7mC4XzNDVGvURzl4T5duDbMr6bUdhkYkDul_37G0OA=s64",
      "userId": "08465960390418158788"
     },
     "user_tz": -60
    },
    "id": "3fZjHem1Nd5f",
    "outputId": "215d3878-d7ed-435c-e200-5094ff404af4"
   },
   "outputs": [
    {
     "data": {
      "image/png": "[encoded data removed]",
      "text/plain": [
       "<Figure size 640x480 with 1 Axes>"
      ]
     },
     "metadata": {},
     "output_type": "display_data"
    }
   ],
   "source": [
    "# Instanciate WordCloud with no stop words\n",
    "wd = wordcloud.WordCloud(stopwords=STOP_WORDS)\n",
    "\n",
    "# Generate word cloud \n",
    "cloud = wd.generate(doc.text)\n",
    "\n",
    "# Show with matplotlib \n",
    "plt.imshow(cloud)\n",
    "\n",
    "# Remove trailing log \n",
    "plt.show()"
   ]
  },
  {
   "cell_type": "markdown",
   "metadata": {
    "colab_type": "text",
    "id": "bTGMn8spZGBX"
   },
   "source": [
    "## Visualize 🎨🎨"
   ]
  },
  {
   "cell_type": "markdown",
   "metadata": {
    "colab_type": "text",
    "id": "PRewxnIw8_Es"
   },
   "source": [
    "Finally, an interesting feature of spacy is `displacy` which allows you to see all the relationships between words in a corpus of text. Here's how you can use this visualization."
   ]
  },
  {
   "cell_type": "code",
   "execution_count": 8,
   "metadata": {
    "colab": {
     "base_uri": "https://localhost:8080/",
     "height": 284
    },
    "colab_type": "code",
    "executionInfo": {
     "elapsed": 370,
     "status": "ok",
     "timestamp": 1581949371171,
     "user": {
      "displayName": "Antoine Krajnc",
      "photoUrl": "https://lh3.googleusercontent.com/a-/AAuE7mC4XzNDVGvURzl4T5duDbMr6bUdhkYkDul_37G0OA=s64",
      "userId": "08465960390418158788"
     },
     "user_tz": -60
    },
    "id": "OhpBBKNgZHhD",
    "outputId": "52af76e7-d089-4107-8bd1-0948f8594875"
   },
   "outputs": [
    {
     "data": {
      "text/html": [
       "<span class=\"tex2jax_ignore\"><svg xmlns=\"http://www.w3.org/2000/svg\" xmlns:xlink=\"http://www.w3.org/1999/xlink\" xml:lang=\"en\" id=\"97a443734fa94059bf0f0844593099b6-0\" class=\"displacy\" width=\"1100\" height=\"242.0\" direction=\"ltr\" style=\"max-width: none; height: 242.0px; color: #000000; background: #ffffff; font-family: Arial; direction: ltr\">\n",
       "<text class=\"displacy-token\" fill=\"currentColor\" text-anchor=\"middle\" y=\"152.0\">\n",
       "    <tspan class=\"displacy-word\" fill=\"currentColor\" x=\"50\">Hello</tspan>\n",
       "    <tspan class=\"displacy-tag\" dy=\"2em\" fill=\"currentColor\" x=\"50\">INTJ</tspan>\n",
       "</text>\n",
       "\n",
       "<text class=\"displacy-token\" fill=\"currentColor\" text-anchor=\"middle\" y=\"152.0\">\n",
       "    <tspan class=\"displacy-word\" fill=\"currentColor\" x=\"120\">World!</tspan>\n",
       "    <tspan class=\"displacy-tag\" dy=\"2em\" fill=\"currentColor\" x=\"120\">PROPN</tspan>\n",
       "</text>\n",
       "\n",
       "<text class=\"displacy-token\" fill=\"currentColor\" text-anchor=\"middle\" y=\"152.0\">\n",
       "    <tspan class=\"displacy-word\" fill=\"currentColor\" x=\"190\">Do</tspan>\n",
       "    <tspan class=\"displacy-tag\" dy=\"2em\" fill=\"currentColor\" x=\"190\">AUX</tspan>\n",
       "</text>\n",
       "\n",
       "<text class=\"displacy-token\" fill=\"currentColor\" text-anchor=\"middle\" y=\"152.0\">\n",
       "    <tspan class=\"displacy-word\" fill=\"currentColor\" x=\"260\">n't</tspan>\n",
       "    <tspan class=\"displacy-tag\" dy=\"2em\" fill=\"currentColor\" x=\"260\">PART</tspan>\n",
       "</text>\n",
       "\n",
       "<text class=\"displacy-token\" fill=\"currentColor\" text-anchor=\"middle\" y=\"152.0\">\n",
       "    <tspan class=\"displacy-word\" fill=\"currentColor\" x=\"330\">do</tspan>\n",
       "    <tspan class=\"displacy-tag\" dy=\"2em\" fill=\"currentColor\" x=\"330\">VERB</tspan>\n",
       "</text>\n",
       "\n",
       "<text class=\"displacy-token\" fill=\"currentColor\" text-anchor=\"middle\" y=\"152.0\">\n",
       "    <tspan class=\"displacy-word\" fill=\"currentColor\" x=\"400\">this.</tspan>\n",
       "    <tspan class=\"displacy-tag\" dy=\"2em\" fill=\"currentColor\" x=\"400\">PRON</tspan>\n",
       "</text>\n",
       "\n",
       "<text class=\"displacy-token\" fill=\"currentColor\" text-anchor=\"middle\" y=\"152.0\">\n",
       "    <tspan class=\"displacy-word\" fill=\"currentColor\" x=\"470\">I</tspan>\n",
       "    <tspan class=\"displacy-tag\" dy=\"2em\" fill=\"currentColor\" x=\"470\">PRON</tspan>\n",
       "</text>\n",
       "\n",
       "<text class=\"displacy-token\" fill=\"currentColor\" text-anchor=\"middle\" y=\"152.0\">\n",
       "    <tspan class=\"displacy-word\" fill=\"currentColor\" x=\"540\">am</tspan>\n",
       "    <tspan class=\"displacy-tag\" dy=\"2em\" fill=\"currentColor\" x=\"540\">AUX</tspan>\n",
       "</text>\n",
       "\n",
       "<text class=\"displacy-token\" fill=\"currentColor\" text-anchor=\"middle\" y=\"152.0\">\n",
       "    <tspan class=\"displacy-word\" fill=\"currentColor\" x=\"610\">superman</tspan>\n",
       "    <tspan class=\"displacy-tag\" dy=\"2em\" fill=\"currentColor\" x=\"610\">NOUN</tspan>\n",
       "</text>\n",
       "\n",
       "<text class=\"displacy-token\" fill=\"currentColor\" text-anchor=\"middle\" y=\"152.0\">\n",
       "    <tspan class=\"displacy-word\" fill=\"currentColor\" x=\"680\">wherever</tspan>\n",
       "    <tspan class=\"displacy-tag\" dy=\"2em\" fill=\"currentColor\" x=\"680\">SCONJ</tspan>\n",
       "</text>\n",
       "\n",
       "<text class=\"displacy-token\" fill=\"currentColor\" text-anchor=\"middle\" y=\"152.0\">\n",
       "    <tspan class=\"displacy-word\" fill=\"currentColor\" x=\"750\">you</tspan>\n",
       "    <tspan class=\"displacy-tag\" dy=\"2em\" fill=\"currentColor\" x=\"750\">PRON</tspan>\n",
       "</text>\n",
       "\n",
       "<text class=\"displacy-token\" fill=\"currentColor\" text-anchor=\"middle\" y=\"152.0\">\n",
       "    <tspan class=\"displacy-word\" fill=\"currentColor\" x=\"820\">are</tspan>\n",
       "    <tspan class=\"displacy-tag\" dy=\"2em\" fill=\"currentColor\" x=\"820\">AUX</tspan>\n",
       "</text>\n",
       "\n",
       "<text class=\"displacy-token\" fill=\"currentColor\" text-anchor=\"middle\" y=\"152.0\">\n",
       "    <tspan class=\"displacy-word\" fill=\"currentColor\" x=\"890\">in</tspan>\n",
       "    <tspan class=\"displacy-tag\" dy=\"2em\" fill=\"currentColor\" x=\"890\">ADP</tspan>\n",
       "</text>\n",
       "\n",
       "<text class=\"displacy-token\" fill=\"currentColor\" text-anchor=\"middle\" y=\"152.0\">\n",
       "    <tspan class=\"displacy-word\" fill=\"currentColor\" x=\"960\">the</tspan>\n",
       "    <tspan class=\"displacy-tag\" dy=\"2em\" fill=\"currentColor\" x=\"960\">DET</tspan>\n",
       "</text>\n",
       "\n",
       "<text class=\"displacy-token\" fill=\"currentColor\" text-anchor=\"middle\" y=\"152.0\">\n",
       "    <tspan class=\"displacy-word\" fill=\"currentColor\" x=\"1030\">world</tspan>\n",
       "    <tspan class=\"displacy-tag\" dy=\"2em\" fill=\"currentColor\" x=\"1030\">NOUN</tspan>\n",
       "</text>\n",
       "\n",
       "<g class=\"displacy-arrow\">\n",
       "    <path class=\"displacy-arc\" id=\"arrow-97a443734fa94059bf0f0844593099b6-0-0\" stroke-width=\"2px\" d=\"M70,107.0 C70,72.0 110.0,72.0 110.0,107.0\" fill=\"none\" stroke=\"currentColor\"/>\n",
       "    <text dy=\"1.25em\" style=\"font-size: 0.8em; letter-spacing: 1px\">\n",
       "        <textPath xlink:href=\"#arrow-97a443734fa94059bf0f0844593099b6-0-0\" class=\"displacy-label\" startOffset=\"50%\" side=\"left\" fill=\"currentColor\" text-anchor=\"middle\">npadvmod</textPath>\n",
       "    </text>\n",
       "    <path class=\"displacy-arrowhead\" d=\"M110.0,109.0 L118.0,97.0 102.0,97.0\" fill=\"currentColor\"/>\n",
       "</g>\n",
       "\n",
       "<g class=\"displacy-arrow\">\n",
       "    <path class=\"displacy-arc\" id=\"arrow-97a443734fa94059bf0f0844593099b6-0-1\" stroke-width=\"2px\" d=\"M210,107.0 C210,37.0 325.0,37.0 325.0,107.0\" fill=\"none\" stroke=\"currentColor\"/>\n",
       "    <text dy=\"1.25em\" style=\"font-size: 0.8em; letter-spacing: 1px\">\n",
       "        <textPath xlink:href=\"#arrow-97a443734fa94059bf0f0844593099b6-0-1\" class=\"displacy-label\" startOffset=\"50%\" side=\"left\" fill=\"currentColor\" text-anchor=\"middle\">aux</textPath>\n",
       "    </text>\n",
       "    <path class=\"displacy-arrowhead\" d=\"M210,109.0 L202,97.0 218,97.0\" fill=\"currentColor\"/>\n",
       "</g>\n",
       "\n",
       "<g class=\"displacy-arrow\">\n",
       "    <path class=\"displacy-arc\" id=\"arrow-97a443734fa94059bf0f0844593099b6-0-2\" stroke-width=\"2px\" d=\"M280,107.0 C280,72.0 320.0,72.0 320.0,107.0\" fill=\"none\" stroke=\"currentColor\"/>\n",
       "    <text dy=\"1.25em\" style=\"font-size: 0.8em; letter-spacing: 1px\">\n",
       "        <textPath xlink:href=\"#arrow-97a443734fa94059bf0f0844593099b6-0-2\" class=\"displacy-label\" startOffset=\"50%\" side=\"left\" fill=\"currentColor\" text-anchor=\"middle\">neg</textPath>\n",
       "    </text>\n",
       "    <path class=\"displacy-arrowhead\" d=\"M280,109.0 L272,97.0 288,97.0\" fill=\"currentColor\"/>\n",
       "</g>\n",
       "\n",
       "<g class=\"displacy-arrow\">\n",
       "    <path class=\"displacy-arc\" id=\"arrow-97a443734fa94059bf0f0844593099b6-0-3\" stroke-width=\"2px\" d=\"M350,107.0 C350,72.0 390.0,72.0 390.0,107.0\" fill=\"none\" stroke=\"currentColor\"/>\n",
       "    <text dy=\"1.25em\" style=\"font-size: 0.8em; letter-spacing: 1px\">\n",
       "        <textPath xlink:href=\"#arrow-97a443734fa94059bf0f0844593099b6-0-3\" class=\"displacy-label\" startOffset=\"50%\" side=\"left\" fill=\"currentColor\" text-anchor=\"middle\">dobj</textPath>\n",
       "    </text>\n",
       "    <path class=\"displacy-arrowhead\" d=\"M390.0,109.0 L398.0,97.0 382.0,97.0\" fill=\"currentColor\"/>\n",
       "</g>\n",
       "\n",
       "<g class=\"displacy-arrow\">\n",
       "    <path class=\"displacy-arc\" id=\"arrow-97a443734fa94059bf0f0844593099b6-0-4\" stroke-width=\"2px\" d=\"M490,107.0 C490,72.0 530.0,72.0 530.0,107.0\" fill=\"none\" stroke=\"currentColor\"/>\n",
       "    <text dy=\"1.25em\" style=\"font-size: 0.8em; letter-spacing: 1px\">\n",
       "        <textPath xlink:href=\"#arrow-97a443734fa94059bf0f0844593099b6-0-4\" class=\"displacy-label\" startOffset=\"50%\" side=\"left\" fill=\"currentColor\" text-anchor=\"middle\">nsubj</textPath>\n",
       "    </text>\n",
       "    <path class=\"displacy-arrowhead\" d=\"M490,109.0 L482,97.0 498,97.0\" fill=\"currentColor\"/>\n",
       "</g>\n",
       "\n",
       "<g class=\"displacy-arrow\">\n",
       "    <path class=\"displacy-arc\" id=\"arrow-97a443734fa94059bf0f0844593099b6-0-5\" stroke-width=\"2px\" d=\"M560,107.0 C560,72.0 600.0,72.0 600.0,107.0\" fill=\"none\" stroke=\"currentColor\"/>\n",
       "    <text dy=\"1.25em\" style=\"font-size: 0.8em; letter-spacing: 1px\">\n",
       "        <textPath xlink:href=\"#arrow-97a443734fa94059bf0f0844593099b6-0-5\" class=\"displacy-label\" startOffset=\"50%\" side=\"left\" fill=\"currentColor\" text-anchor=\"middle\">attr</textPath>\n",
       "    </text>\n",
       "    <path class=\"displacy-arrowhead\" d=\"M600.0,109.0 L608.0,97.0 592.0,97.0\" fill=\"currentColor\"/>\n",
       "</g>\n",
       "\n",
       "<g class=\"displacy-arrow\">\n",
       "    <path class=\"displacy-arc\" id=\"arrow-97a443734fa94059bf0f0844593099b6-0-6\" stroke-width=\"2px\" d=\"M700,107.0 C700,37.0 815.0,37.0 815.0,107.0\" fill=\"none\" stroke=\"currentColor\"/>\n",
       "    <text dy=\"1.25em\" style=\"font-size: 0.8em; letter-spacing: 1px\">\n",
       "        <textPath xlink:href=\"#arrow-97a443734fa94059bf0f0844593099b6-0-6\" class=\"displacy-label\" startOffset=\"50%\" side=\"left\" fill=\"currentColor\" text-anchor=\"middle\">advmod</textPath>\n",
       "    </text>\n",
       "    <path class=\"displacy-arrowhead\" d=\"M700,109.0 L692,97.0 708,97.0\" fill=\"currentColor\"/>\n",
       "</g>\n",
       "\n",
       "<g class=\"displacy-arrow\">\n",
       "    <path class=\"displacy-arc\" id=\"arrow-97a443734fa94059bf0f0844593099b6-0-7\" stroke-width=\"2px\" d=\"M770,107.0 C770,72.0 810.0,72.0 810.0,107.0\" fill=\"none\" stroke=\"currentColor\"/>\n",
       "    <text dy=\"1.25em\" style=\"font-size: 0.8em; letter-spacing: 1px\">\n",
       "        <textPath xlink:href=\"#arrow-97a443734fa94059bf0f0844593099b6-0-7\" class=\"displacy-label\" startOffset=\"50%\" side=\"left\" fill=\"currentColor\" text-anchor=\"middle\">nsubj</textPath>\n",
       "    </text>\n",
       "    <path class=\"displacy-arrowhead\" d=\"M770,109.0 L762,97.0 778,97.0\" fill=\"currentColor\"/>\n",
       "</g>\n",
       "\n",
       "<g class=\"displacy-arrow\">\n",
       "    <path class=\"displacy-arc\" id=\"arrow-97a443734fa94059bf0f0844593099b6-0-8\" stroke-width=\"2px\" d=\"M560,107.0 C560,2.0 820.0,2.0 820.0,107.0\" fill=\"none\" stroke=\"currentColor\"/>\n",
       "    <text dy=\"1.25em\" style=\"font-size: 0.8em; letter-spacing: 1px\">\n",
       "        <textPath xlink:href=\"#arrow-97a443734fa94059bf0f0844593099b6-0-8\" class=\"displacy-label\" startOffset=\"50%\" side=\"left\" fill=\"currentColor\" text-anchor=\"middle\">advcl</textPath>\n",
       "    </text>\n",
       "    <path class=\"displacy-arrowhead\" d=\"M820.0,109.0 L828.0,97.0 812.0,97.0\" fill=\"currentColor\"/>\n",
       "</g>\n",
       "\n",
       "<g class=\"displacy-arrow\">\n",
       "    <path class=\"displacy-arc\" id=\"arrow-97a443734fa94059bf0f0844593099b6-0-9\" stroke-width=\"2px\" d=\"M840,107.0 C840,72.0 880.0,72.0 880.0,107.0\" fill=\"none\" stroke=\"currentColor\"/>\n",
       "    <text dy=\"1.25em\" style=\"font-size: 0.8em; letter-spacing: 1px\">\n",
       "        <textPath xlink:href=\"#arrow-97a443734fa94059bf0f0844593099b6-0-9\" class=\"displacy-label\" startOffset=\"50%\" side=\"left\" fill=\"currentColor\" text-anchor=\"middle\">prep</textPath>\n",
       "    </text>\n",
       "    <path class=\"displacy-arrowhead\" d=\"M880.0,109.0 L888.0,97.0 872.0,97.0\" fill=\"currentColor\"/>\n",
       "</g>\n",
       "\n",
       "<g class=\"displacy-arrow\">\n",
       "    <path class=\"displacy-arc\" id=\"arrow-97a443734fa94059bf0f0844593099b6-0-10\" stroke-width=\"2px\" d=\"M980,107.0 C980,72.0 1020.0,72.0 1020.0,107.0\" fill=\"none\" stroke=\"currentColor\"/>\n",
       "    <text dy=\"1.25em\" style=\"font-size: 0.8em; letter-spacing: 1px\">\n",
       "        <textPath xlink:href=\"#arrow-97a443734fa94059bf0f0844593099b6-0-10\" class=\"displacy-label\" startOffset=\"50%\" side=\"left\" fill=\"currentColor\" text-anchor=\"middle\">det</textPath>\n",
       "    </text>\n",
       "    <path class=\"displacy-arrowhead\" d=\"M980,109.0 L972,97.0 988,97.0\" fill=\"currentColor\"/>\n",
       "</g>\n",
       "\n",
       "<g class=\"displacy-arrow\">\n",
       "    <path class=\"displacy-arc\" id=\"arrow-97a443734fa94059bf0f0844593099b6-0-11\" stroke-width=\"2px\" d=\"M910,107.0 C910,37.0 1025.0,37.0 1025.0,107.0\" fill=\"none\" stroke=\"currentColor\"/>\n",
       "    <text dy=\"1.25em\" style=\"font-size: 0.8em; letter-spacing: 1px\">\n",
       "        <textPath xlink:href=\"#arrow-97a443734fa94059bf0f0844593099b6-0-11\" class=\"displacy-label\" startOffset=\"50%\" side=\"left\" fill=\"currentColor\" text-anchor=\"middle\">pobj</textPath>\n",
       "    </text>\n",
       "    <path class=\"displacy-arrowhead\" d=\"M1025.0,109.0 L1033.0,97.0 1017.0,97.0\" fill=\"currentColor\"/>\n",
       "</g>\n",
       "</svg></span>"
      ],
      "text/plain": [
       "<IPython.core.display.HTML object>"
      ]
     },
     "metadata": {},
     "output_type": "display_data"
    }
   ],
   "source": [
    "# import displacy\n",
    "from spacy import displacy\n",
    "\n",
    "# render displacy\n",
    "displacy.render(doc, style='dep', jupyter=True,options={'distance': 70})"
   ]
  },
  {
   "cell_type": "markdown",
   "metadata": {},
   "source": [
    "## Text Mining with `sklearn` ⛏️⛏️\n",
    "\n",
    "Now that we have tokens and we can easily manipulate our corpus of text, let's now sklearn for advanced text mining technics like `tf-idf`.\n",
    "\n",
    "In terms of process, we will: \n",
    "\n",
    "1. Create an array of documents \n",
    "2. Preprocess text (remove punctuation...)\n",
    "3. Create a Tf-IDF matrix using sklearn"
   ]
  },
  {
   "cell_type": "markdown",
   "metadata": {},
   "source": [
    "### Create an array of documents 💌\n",
    "\n",
    "Let's see with a closer to *real-world* example where we have different documents. We will then create a `pandas` dataframe that includes each documents. "
   ]
  },
  {
   "cell_type": "code",
   "execution_count": 9,
   "metadata": {},
   "outputs": [
    {
     "data": {
      "text/html": [
       "<div>\n",
       "<style scoped>\n",
       "    .dataframe tbody tr th:only-of-type {\n",
       "        vertical-align: middle;\n",
       "    }\n",
       "\n",
       "    .dataframe tbody tr th {\n",
       "        vertical-align: top;\n",
       "    }\n",
       "\n",
       "    .dataframe thead th {\n",
       "        text-align: right;\n",
       "    }\n",
       "</style>\n",
       "<table border=\"1\" class=\"dataframe\">\n",
       "  <thead>\n",
       "    <tr style=\"text-align: right;\">\n",
       "      <th></th>\n",
       "      <th>documents</th>\n",
       "    </tr>\n",
       "  </thead>\n",
       "  <tbody>\n",
       "    <tr>\n",
       "      <th>0</th>\n",
       "      <td>Hello World! Don't do this. I am superman wher...</td>\n",
       "    </tr>\n",
       "    <tr>\n",
       "      <th>1</th>\n",
       "      <td>Do. Or do not. There is no try.</td>\n",
       "    </tr>\n",
       "    <tr>\n",
       "      <th>2</th>\n",
       "      <td>In my experience there is no such thing as luck.</td>\n",
       "    </tr>\n",
       "    <tr>\n",
       "      <th>3</th>\n",
       "      <td>I find your lack of faith disturbing.</td>\n",
       "    </tr>\n",
       "    <tr>\n",
       "      <th>4</th>\n",
       "      <td>I’ve got a bad feeling about this.</td>\n",
       "    </tr>\n",
       "  </tbody>\n",
       "</table>\n",
       "</div>"
      ],
      "text/plain": [
       "                                           documents\n",
       "0  Hello World! Don't do this. I am superman wher...\n",
       "1                    Do. Or do not. There is no try.\n",
       "2   In my experience there is no such thing as luck.\n",
       "3              I find your lack of faith disturbing.\n",
       "4                 I’ve got a bad feeling about this."
      ]
     },
     "execution_count": 9,
     "metadata": {},
     "output_type": "execute_result"
    }
   ],
   "source": [
    "# Create an array of documents \n",
    "doc_1 = \"Hello World! Don't do this. I am superman wherever you are in the world\"\n",
    "doc_2 = \"Do. Or do not. There is no try.\"\n",
    "doc_3 = \"In my experience there is no such thing as luck.\"\n",
    "doc_4 = \"I find your lack of faith disturbing.\"\n",
    "doc_5 = \"I’ve got a bad feeling about this.\"\n",
    "\n",
    "# insert that in a Pandas dataset \n",
    "\n",
    "## importing pandas \n",
    "import pandas as pd \n",
    "\n",
    "## insert documents docs in a DataFrame\n",
    "df = pd.DataFrame()\n",
    "df[\"documents\"] = [doc_1,doc_2,doc_3,doc_4,doc_5]\n",
    "df"
   ]
  },
  {
   "cell_type": "markdown",
   "metadata": {},
   "source": [
    "### Preprocessing text 🧽\n",
    "\n",
    "Now that we have a dataset. Let's go ahead and preprocess it so that we remove punctuation, lower case all characters and remove stop words. "
   ]
  },
  {
   "cell_type": "code",
   "execution_count": 10,
   "metadata": {},
   "outputs": [
    {
     "data": {
      "text/plain": [
       "'!\"#$%&\\'()*+,-./:;<=>?@[\\\\]^_`{|}~'"
      ]
     },
     "execution_count": 10,
     "metadata": {},
     "output_type": "execute_result"
    }
   ],
   "source": [
    "# Get all string punctuation that we want to remove. \n",
    "import string \n",
    "string.punctuation"
   ]
  },
  {
   "cell_type": "code",
   "execution_count": 11,
   "metadata": {},
   "outputs": [
    {
     "data": {
      "text/html": [
       "<div>\n",
       "<style scoped>\n",
       "    .dataframe tbody tr th:only-of-type {\n",
       "        vertical-align: middle;\n",
       "    }\n",
       "\n",
       "    .dataframe tbody tr th {\n",
       "        vertical-align: top;\n",
       "    }\n",
       "\n",
       "    .dataframe thead th {\n",
       "        text-align: right;\n",
       "    }\n",
       "</style>\n",
       "<table border=\"1\" class=\"dataframe\">\n",
       "  <thead>\n",
       "    <tr style=\"text-align: right;\">\n",
       "      <th></th>\n",
       "      <th>documents</th>\n",
       "      <th>clean_documents</th>\n",
       "    </tr>\n",
       "  </thead>\n",
       "  <tbody>\n",
       "    <tr>\n",
       "      <th>0</th>\n",
       "      <td>Hello World! Don't do this. I am superman wher...</td>\n",
       "      <td>hello world! don't do this. i am superman wher...</td>\n",
       "    </tr>\n",
       "    <tr>\n",
       "      <th>1</th>\n",
       "      <td>Do. Or do not. There is no try.</td>\n",
       "      <td>do. or do not. there is no try.</td>\n",
       "    </tr>\n",
       "    <tr>\n",
       "      <th>2</th>\n",
       "      <td>In my experience there is no such thing as luck.</td>\n",
       "      <td>in my experience there is no such thing as luck.</td>\n",
       "    </tr>\n",
       "    <tr>\n",
       "      <th>3</th>\n",
       "      <td>I find your lack of faith disturbing.</td>\n",
       "      <td>i find your lack of faith disturbing.</td>\n",
       "    </tr>\n",
       "    <tr>\n",
       "      <th>4</th>\n",
       "      <td>I’ve got a bad feeling about this.</td>\n",
       "      <td>i’ve got a bad feeling about this.</td>\n",
       "    </tr>\n",
       "  </tbody>\n",
       "</table>\n",
       "</div>"
      ],
      "text/plain": [
       "                                           documents  \\\n",
       "0  Hello World! Don't do this. I am superman wher...   \n",
       "1                    Do. Or do not. There is no try.   \n",
       "2   In my experience there is no such thing as luck.   \n",
       "3              I find your lack of faith disturbing.   \n",
       "4                 I’ve got a bad feeling about this.   \n",
       "\n",
       "                                     clean_documents  \n",
       "0  hello world! don't do this. i am superman wher...  \n",
       "1                    do. or do not. there is no try.  \n",
       "2   in my experience there is no such thing as luck.  \n",
       "3              i find your lack of faith disturbing.  \n",
       "4                 i’ve got a bad feeling about this.  "
      ]
     },
     "execution_count": 11,
     "metadata": {},
     "output_type": "execute_result"
    }
   ],
   "source": [
    "# Remove punctuation and lower case all doc \n",
    "# We use Regular Expression. More info here --> https://stackoverflow.com/questions/20731966/regex-remove-all-special-characters-except-numbers\n",
    "# Build regular expression with Regexr --> https://regexr.com/\n",
    "df['clean_documents'] = df['documents'].str.replace(r\"[!\\\"#$%&()*+,-./:;<=>?@[\\\\\\]^_`{|}~]+\", \" \") \n",
    "\n",
    "# Could also use: \n",
    "\"\"\"\n",
    "import re\n",
    "df['clean_documents'] = df['documents'].apply(lambda x: re.sub('[!\\\"#$%&()*+,-./:;<=>?@\\[\\]^_`{|}~\\\\\\]+',\" \", x)) \n",
    "\"\"\"\n",
    "\n",
    "df['clean_documents'] = df['clean_documents'].fillna('').apply(lambda x: x.lower())\n",
    "df"
   ]
  },
  {
   "cell_type": "code",
   "execution_count": 12,
   "metadata": {},
   "outputs": [
    {
     "data": {
      "text/plain": [
       "0    [hello, world, !, ., superman, world]\n",
       "1                           [., ., try, .]\n",
       "2             [experience, thing, luck, .]\n",
       "3       [find, lack, faith, disturbing, .]\n",
       "4                   [get, bad, feeling, .]\n",
       "Name: clean_documents, dtype: object"
      ]
     },
     "execution_count": 12,
     "metadata": {},
     "output_type": "execute_result"
    }
   ],
   "source": [
    "## Import stop words from spacy \n",
    "from spacy.lang.en.stop_words import STOP_WORDS\n",
    "\n",
    "## Tokenize the cleaned document\n",
    "tokenized_doc = df['clean_documents'].fillna('').apply(lambda x: nlp(x))\n",
    "\n",
    "# remove stop-words\n",
    "tokenized_doc = tokenized_doc.apply(lambda x: [token.lemma_ for token in x if token.text not in STOP_WORDS])\n",
    "tokenized_doc"
   ]
  },
  {
   "cell_type": "code",
   "execution_count": 13,
   "metadata": {},
   "outputs": [
    {
     "data": {
      "text/html": [
       "<div>\n",
       "<style scoped>\n",
       "    .dataframe tbody tr th:only-of-type {\n",
       "        vertical-align: middle;\n",
       "    }\n",
       "\n",
       "    .dataframe tbody tr th {\n",
       "        vertical-align: top;\n",
       "    }\n",
       "\n",
       "    .dataframe thead th {\n",
       "        text-align: right;\n",
       "    }\n",
       "</style>\n",
       "<table border=\"1\" class=\"dataframe\">\n",
       "  <thead>\n",
       "    <tr style=\"text-align: right;\">\n",
       "      <th></th>\n",
       "      <th>documents</th>\n",
       "      <th>clean_documents</th>\n",
       "      <th>clean_token</th>\n",
       "    </tr>\n",
       "  </thead>\n",
       "  <tbody>\n",
       "    <tr>\n",
       "      <th>0</th>\n",
       "      <td>Hello World! Don't do this. I am superman wher...</td>\n",
       "      <td>hello world! don't do this. i am superman wher...</td>\n",
       "      <td>hello world ! . superman world</td>\n",
       "    </tr>\n",
       "    <tr>\n",
       "      <th>1</th>\n",
       "      <td>Do. Or do not. There is no try.</td>\n",
       "      <td>do. or do not. there is no try.</td>\n",
       "      <td>. . try .</td>\n",
       "    </tr>\n",
       "    <tr>\n",
       "      <th>2</th>\n",
       "      <td>In my experience there is no such thing as luck.</td>\n",
       "      <td>in my experience there is no such thing as luck.</td>\n",
       "      <td>experience thing luck .</td>\n",
       "    </tr>\n",
       "    <tr>\n",
       "      <th>3</th>\n",
       "      <td>I find your lack of faith disturbing.</td>\n",
       "      <td>i find your lack of faith disturbing.</td>\n",
       "      <td>find lack faith disturbing .</td>\n",
       "    </tr>\n",
       "    <tr>\n",
       "      <th>4</th>\n",
       "      <td>I’ve got a bad feeling about this.</td>\n",
       "      <td>i’ve got a bad feeling about this.</td>\n",
       "      <td>get bad feeling .</td>\n",
       "    </tr>\n",
       "  </tbody>\n",
       "</table>\n",
       "</div>"
      ],
      "text/plain": [
       "                                           documents  \\\n",
       "0  Hello World! Don't do this. I am superman wher...   \n",
       "1                    Do. Or do not. There is no try.   \n",
       "2   In my experience there is no such thing as luck.   \n",
       "3              I find your lack of faith disturbing.   \n",
       "4                 I’ve got a bad feeling about this.   \n",
       "\n",
       "                                     clean_documents  \\\n",
       "0  hello world! don't do this. i am superman wher...   \n",
       "1                    do. or do not. there is no try.   \n",
       "2   in my experience there is no such thing as luck.   \n",
       "3              i find your lack of faith disturbing.   \n",
       "4                 i’ve got a bad feeling about this.   \n",
       "\n",
       "                      clean_token  \n",
       "0  hello world ! . superman world  \n",
       "1                       . . try .  \n",
       "2         experience thing luck .  \n",
       "3    find lack faith disturbing .  \n",
       "4               get bad feeling .  "
      ]
     },
     "execution_count": 13,
     "metadata": {},
     "output_type": "execute_result"
    }
   ],
   "source": [
    "# add a clean token column \n",
    "df[\"clean_token\"] = [\" \".join(x) for x in tokenized_doc]\n",
    "df.head()"
   ]
  },
  {
   "cell_type": "markdown",
   "metadata": {},
   "source": [
    "### Create TF-IDF matrix 🍍\n",
    "\n",
    "Finally, let's create a tf-idf matrix where we can classify each word's importance. "
   ]
  },
  {
   "cell_type": "code",
   "execution_count": 14,
   "metadata": {},
   "outputs": [
    {
     "data": {
      "text/plain": [
       "array([[0.        , 0.        , 0.        , 0.        , 0.        ,\n",
       "        0.40824829, 0.        , 0.        , 0.40824829, 0.        ,\n",
       "        0.        , 0.81649658],\n",
       "       [0.        , 0.        , 0.        , 0.        , 0.        ,\n",
       "        0.        , 0.        , 0.        , 0.        , 0.        ,\n",
       "        1.        , 0.        ],\n",
       "       [0.        , 0.        , 0.57735027, 0.        , 0.        ,\n",
       "        0.        , 0.        , 0.57735027, 0.        , 0.57735027,\n",
       "        0.        , 0.        ],\n",
       "       [0.        , 0.57735027, 0.        , 0.57735027, 0.        ,\n",
       "        0.        , 0.57735027, 0.        , 0.        , 0.        ,\n",
       "        0.        , 0.        ],\n",
       "       [0.70710678, 0.        , 0.        , 0.        , 0.70710678,\n",
       "        0.        , 0.        , 0.        , 0.        , 0.        ,\n",
       "        0.        , 0.        ]])"
      ]
     },
     "execution_count": 14,
     "metadata": {},
     "output_type": "execute_result"
    }
   ],
   "source": [
    "# Tfidf transformer \n",
    "from sklearn.feature_extraction.text import TfidfVectorizer\n",
    "\n",
    "# TF-IDF vector\n",
    "vectorizer = TfidfVectorizer(stop_words='english')\n",
    "X = vectorizer.fit_transform(df['clean_token'])\n",
    "\n",
    "# X is a generator. We can transform that as an array\n",
    "dense = X.toarray()\n",
    "dense"
   ]
  },
  {
   "cell_type": "code",
   "execution_count": 18,
   "metadata": {
    "scrolled": true
   },
   "outputs": [
    {
     "data": {
      "text/plain": [
       "{'hello': 5,\n",
       " 'world': 11,\n",
       " 'superman': 8,\n",
       " 'try': 10,\n",
       " 'experience': 2,\n",
       " 'thing': 9,\n",
       " 'luck': 7,\n",
       " 'lack': 6,\n",
       " 'faith': 3,\n",
       " 'disturbing': 1,\n",
       " 'bad': 0,\n",
       " 'feeling': 4}"
      ]
     },
     "execution_count": 18,
     "metadata": {},
     "output_type": "execute_result"
    }
   ],
   "source": [
    "# Get tokens for all documents\n",
    "vectorizer.vocabulary_"
   ]
  },
  {
   "cell_type": "code",
   "execution_count": 20,
   "metadata": {
    "scrolled": true
   },
   "outputs": [
    {
     "data": {
      "text/html": [
       "<div>\n",
       "<style scoped>\n",
       "    .dataframe tbody tr th:only-of-type {\n",
       "        vertical-align: middle;\n",
       "    }\n",
       "\n",
       "    .dataframe tbody tr th {\n",
       "        vertical-align: top;\n",
       "    }\n",
       "\n",
       "    .dataframe thead th {\n",
       "        text-align: right;\n",
       "    }\n",
       "</style>\n",
       "<table border=\"1\" class=\"dataframe\">\n",
       "  <thead>\n",
       "    <tr style=\"text-align: right;\">\n",
       "      <th></th>\n",
       "      <th>bad</th>\n",
       "      <th>disturbing</th>\n",
       "      <th>experience</th>\n",
       "      <th>faith</th>\n",
       "      <th>feeling</th>\n",
       "      <th>hello</th>\n",
       "      <th>lack</th>\n",
       "      <th>luck</th>\n",
       "      <th>superman</th>\n",
       "      <th>thing</th>\n",
       "      <th>try</th>\n",
       "      <th>world</th>\n",
       "    </tr>\n",
       "  </thead>\n",
       "  <tbody>\n",
       "    <tr>\n",
       "      <th>doc_1</th>\n",
       "      <td>0.000000</td>\n",
       "      <td>0.00000</td>\n",
       "      <td>0.00000</td>\n",
       "      <td>0.00000</td>\n",
       "      <td>0.000000</td>\n",
       "      <td>0.408248</td>\n",
       "      <td>0.00000</td>\n",
       "      <td>0.00000</td>\n",
       "      <td>0.408248</td>\n",
       "      <td>0.00000</td>\n",
       "      <td>0.0</td>\n",
       "      <td>0.816497</td>\n",
       "    </tr>\n",
       "    <tr>\n",
       "      <th>doc_2</th>\n",
       "      <td>0.000000</td>\n",
       "      <td>0.00000</td>\n",
       "      <td>0.00000</td>\n",
       "      <td>0.00000</td>\n",
       "      <td>0.000000</td>\n",
       "      <td>0.000000</td>\n",
       "      <td>0.00000</td>\n",
       "      <td>0.00000</td>\n",
       "      <td>0.000000</td>\n",
       "      <td>0.00000</td>\n",
       "      <td>1.0</td>\n",
       "      <td>0.000000</td>\n",
       "    </tr>\n",
       "    <tr>\n",
       "      <th>doc_3</th>\n",
       "      <td>0.000000</td>\n",
       "      <td>0.00000</td>\n",
       "      <td>0.57735</td>\n",
       "      <td>0.00000</td>\n",
       "      <td>0.000000</td>\n",
       "      <td>0.000000</td>\n",
       "      <td>0.00000</td>\n",
       "      <td>0.57735</td>\n",
       "      <td>0.000000</td>\n",
       "      <td>0.57735</td>\n",
       "      <td>0.0</td>\n",
       "      <td>0.000000</td>\n",
       "    </tr>\n",
       "    <tr>\n",
       "      <th>doc_4</th>\n",
       "      <td>0.000000</td>\n",
       "      <td>0.57735</td>\n",
       "      <td>0.00000</td>\n",
       "      <td>0.57735</td>\n",
       "      <td>0.000000</td>\n",
       "      <td>0.000000</td>\n",
       "      <td>0.57735</td>\n",
       "      <td>0.00000</td>\n",
       "      <td>0.000000</td>\n",
       "      <td>0.00000</td>\n",
       "      <td>0.0</td>\n",
       "      <td>0.000000</td>\n",
       "    </tr>\n",
       "    <tr>\n",
       "      <th>doc_5</th>\n",
       "      <td>0.707107</td>\n",
       "      <td>0.00000</td>\n",
       "      <td>0.00000</td>\n",
       "      <td>0.00000</td>\n",
       "      <td>0.707107</td>\n",
       "      <td>0.000000</td>\n",
       "      <td>0.00000</td>\n",
       "      <td>0.00000</td>\n",
       "      <td>0.000000</td>\n",
       "      <td>0.00000</td>\n",
       "      <td>0.0</td>\n",
       "      <td>0.000000</td>\n",
       "    </tr>\n",
       "  </tbody>\n",
       "</table>\n",
       "</div>"
      ],
      "text/plain": [
       "            bad  disturbing  experience    faith   feeling     hello     lack  \\\n",
       "doc_1  0.000000     0.00000     0.00000  0.00000  0.000000  0.408248  0.00000   \n",
       "doc_2  0.000000     0.00000     0.00000  0.00000  0.000000  0.000000  0.00000   \n",
       "doc_3  0.000000     0.00000     0.57735  0.00000  0.000000  0.000000  0.00000   \n",
       "doc_4  0.000000     0.57735     0.00000  0.57735  0.000000  0.000000  0.57735   \n",
       "doc_5  0.707107     0.00000     0.00000  0.00000  0.707107  0.000000  0.00000   \n",
       "\n",
       "          luck  superman    thing  try     world  \n",
       "doc_1  0.00000  0.408248  0.00000  0.0  0.816497  \n",
       "doc_2  0.00000  0.000000  0.00000  1.0  0.000000  \n",
       "doc_3  0.57735  0.000000  0.57735  0.0  0.000000  \n",
       "doc_4  0.00000  0.000000  0.00000  0.0  0.000000  \n",
       "doc_5  0.00000  0.000000  0.00000  0.0  0.000000  "
      ]
     },
     "execution_count": 20,
     "metadata": {},
     "output_type": "execute_result"
    }
   ],
   "source": [
    "# Create a tf-idf matrix for each token and each document\n",
    "pd.DataFrame(dense, \n",
    "             columns=[x for x in vectorizer.get_feature_names_out()],        # vectorizer.get_feature_names()\n",
    "             index=[\"doc_{}\".format(x) for x in range(1, 6)] )"
   ]
  },
  {
   "cell_type": "markdown",
   "metadata": {},
   "source": [
    "Here, we can see that **doc1** is described as a mixing of \"don\", \"hello\", \"superman\", and \"world\", the latter being twice more important as the other ones (because it has been found twice in the document)"
   ]
  },
  {
   "cell_type": "markdown",
   "metadata": {
    "colab_type": "text",
    "id": "fQ8N4H_KWczv"
   },
   "source": [
    "## Resources 📚📚\n",
    "\n",
    "* <a href=\"https://scikit-learn.org/stable/modules/generated/sklearn.feature_extraction.text.TfidfVectorizer.html?highlight=tfidf#sklearn.feature_extraction.text.TfidfVectorizer\" target=\"_blank\">TF-IDF Vectorizer</a>\n",
    "* <a href=\"https://aylien.com/blog/10-common-nlp-terms-explained-for-the-text-analysis-novice\" target=\"_blank\">10 Common NLP Terms Explained for the Text Analysis Novice</a>\n",
    "* [Lemmatizer](https://spacy.io/api/lemmatizer)\n",
    "* [Adding Languages](https://spacy.io/usage/adding-languages#lemmatizer)\n",
    "* [Getting Started with spaCy for Natural Language Processing](https://www.kdnuggets.com/2018/05/getting-started-spacy-natural-language-processing.html)"
   ]
  }
 ],
 "metadata": {
  "colab": {
   "authorship_tag": "ABX9TyPRug/xoB0w3Vnp9Ro21r9L",
   "collapsed_sections": [],
   "name": "NLP with Spacy.ipynb",
   "provenance": []
  },
  "kernelspec": {
   "display_name": "Python 3.9.12 ('base')",
   "language": "python",
   "name": "python3"
  },
  "language_info": {
   "codemirror_mode": {
    "name": "ipython",
    "version": 3
   },
   "file_extension": ".py",
   "mimetype": "text/x-python",
   "name": "python",
   "nbconvert_exporter": "python",
   "pygments_lexer": "ipython3",
   "version": "3.11.7"
  },
  "vscode": {
   "interpreter": {
    "hash": "16196ea7eff63910081d4e10ae1bdb1eb18fd83cb470bb8efbb9fa6b0c724af5"
   }
  }
 },
 "nbformat": 4,
 "nbformat_minor": 4
}
