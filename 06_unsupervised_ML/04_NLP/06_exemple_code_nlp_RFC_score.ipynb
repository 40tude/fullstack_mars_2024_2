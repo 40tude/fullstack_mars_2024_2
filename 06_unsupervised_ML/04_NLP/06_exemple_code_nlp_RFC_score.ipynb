{
 "cells": [
  {
   "cell_type": "code",
   "execution_count": 1,
   "metadata": {},
   "outputs": [
    {
     "name": "stdout",
     "output_type": "stream",
     "text": [
      "Score: 1.0\n"
     ]
    }
   ],
   "source": [
    "# chargeons le modèle spaCy pour le français\n",
    "# avons quelques documents sur lesquels nous allons travailler\n",
    "# effectuons un strip des documents pour enlever les espaces en début et fin\n",
    "# nettoyons les caractères de ponctuation et autres\n",
    "# utilisons les STOP_WORDS fournis par spaCy pour enlever les mots vides\n",
    "# tokenisons et lemmatisons chaque document\n",
    "# utilisons TfidfVectorizer pour convertir les documents en une matrice TF-IDF\n",
    "# définissons des étiquettes fictives y pour chaque document\n",
    "# divisons les données en ensembles d'entraînement et de test\n",
    "# utilisons un RandomForestClassifier pour entraîner un modèle\n",
    "# prédisons les étiquettes sur l'ensemble de test\n",
    "# calculons le score d'exactitude du modèle\n",
    "\n",
    "import spacy\n",
    "import string\n",
    "from sklearn.feature_extraction.text import TfidfVectorizer\n",
    "from sklearn.ensemble import RandomForestClassifier\n",
    "from sklearn.model_selection import train_test_split\n",
    "from sklearn.metrics import accuracy_score\n",
    "\n",
    "# Charger le modèle de la langue française\n",
    "nlp = spacy.load(\"fr_core_news_sm\")\n",
    "\n",
    "# Texte de quelques phrases\n",
    "documents = [\n",
    "    \"Les chiens courent rapidement sur les routes.\",\n",
    "    \"Le chat dort paisiblement sur le canapé.\",\n",
    "    \"Les oiseaux chantent joyeusement dans les arbres.\"\n",
    "]\n",
    "\n",
    "# Strip des documents\n",
    "documents_stripped = [doc.strip() for doc in documents]\n",
    "\n",
    "# Nettoyage des caractères de ponctuation et autres\n",
    "documents_cleaned = []\n",
    "for doc in documents_stripped:\n",
    "    doc_cleaned = doc.translate(str.maketrans('', '', string.punctuation))\n",
    "    documents_cleaned.append(doc_cleaned)\n",
    "\n",
    "# Utilisation des STOP_WORDS\n",
    "stop_words = spacy.lang.fr.stop_words.STOP_WORDS\n",
    "\n",
    "# Tokenisation et lemmatisation\n",
    "tokenized_docs = []\n",
    "for doc in documents_cleaned:\n",
    "    doc_tokens = []\n",
    "    doc = nlp(doc)\n",
    "    for token in doc:\n",
    "        if token.text.lower() not in stop_words:\n",
    "            doc_tokens.append(token.lemma_)\n",
    "    tokenized_docs.append(\" \".join(doc_tokens))\n",
    "\n",
    "# Utilisation de TfidfVectorizer\n",
    "vectorizer = TfidfVectorizer()\n",
    "X = vectorizer.fit_transform(tokenized_docs)\n",
    "\n",
    "# Définition de y (étiquettes) - à titre d'exemple, disons qu'elles sont toutes de la même classe\n",
    "y = [0, 0, 0]  # Classe 0 pour chaque document\n",
    "\n",
    "# Division des données en ensembles d'entraînement et de test\n",
    "X_train, X_test, y_train, y_test = train_test_split(X, y, test_size=0.2, random_state=42)\n",
    "\n",
    "# Utilisation d'un RandomForestClassifier\n",
    "classifier = RandomForestClassifier()\n",
    "classifier.fit(X_train, y_train)\n",
    "\n",
    "# Prédiction sur l'ensemble de test\n",
    "y_pred = classifier.predict(X_test)\n",
    "\n",
    "# Calcul du score d'exactitude\n",
    "score = accuracy_score(y_test, y_pred)\n",
    "print(\"Score:\", score)\n"
   ]
  }
 ],
 "metadata": {
  "kernelspec": {
   "display_name": "jedha",
   "language": "python",
   "name": "python3"
  },
  "language_info": {
   "codemirror_mode": {
    "name": "ipython",
    "version": 3
   },
   "file_extension": ".py",
   "mimetype": "text/x-python",
   "name": "python",
   "nbconvert_exporter": "python",
   "pygments_lexer": "ipython3",
   "version": "3.11.7"
  }
 },
 "nbformat": 4,
 "nbformat_minor": 2
}
