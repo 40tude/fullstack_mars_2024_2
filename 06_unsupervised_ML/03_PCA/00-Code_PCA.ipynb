{
  "cells": [
    {
      "cell_type": "markdown",
      "metadata": {
        "id": "Otwmj4rj0H3M"
      },
      "source": [
        "# Mercredi 24 \n",
        "\n",
        "\n",
        "# PCA - Code\n",
        "\n",
        "## What you will learn in this course\n",
        "\n",
        "While a lot of theory come into place when creating a PCA, coding it is rather simple. In this course, you will learn:\n",
        "\n",
        "* How to implement PCA\n",
        "* How to choose principal components\n",
        "* How to create covariance matrix\n",
        "* How to implement basic linear algebra"
      ]
    },
    {
      "cell_type": "code",
      "execution_count": 10,
      "metadata": {
        "id": "p3dgxb3KVRrC"
      },
      "outputs": [],
      "source": [
        "import pandas as pd\n",
        "import plotly.express as px\n",
        "import plotly.graph_objects as go\n",
        "import plotly.io as pio\n",
        "\n",
        "from sklearn.decomposition import PCA\n",
        "from sklearn.preprocessing import StandardScaler\n",
        "\n",
        "\n",
        "\n",
        "# setting Jedha color palette as default\n",
        "pio.templates[\"jedha\"] = go.layout.Template(\n",
        "    layout_colorway=[\"#4B9AC7\", \"#4BE8E0\", \"#9DD4F3\", \"#97FBF6\", \"#2A7FAF\", \"#23B1AB\", \"#0E3449\", \"#015955\"]\n",
        ")\n",
        "# pio.templates.default = \"jedha\"\n",
        "# pio.renderers.default = \"svg\" # to be replaced by \"iframe\" if working on JULIE"
      ]
    },
    {
      "cell_type": "markdown",
      "metadata": {
        "id": "ju2bXFBm0H3R"
      },
      "source": [
        "## Dataset\n",
        "\n",
        "Let's use <a href=\"https://scikit-learn.org/stable/datasets/index.html#iris-dataset\" target=\"_blank\">Iris</a> from <a href=\"https://scikit-learn.org/stable/index.html\" target=\"_blank\"> Scikit Learn</a> to illustrate PCA."
      ]
    },
    {
      "cell_type": "code",
      "execution_count": 11,
      "metadata": {
        "colab": {
          "base_uri": "https://localhost:8080/",
          "height": 206
        },
        "id": "oB_uwKUb0H3S",
        "outputId": "1ee33a1d-30ce-46b2-b4ae-02a54c83106e"
      },
      "outputs": [
        {
          "data": {
            "text/html": [
              "<div>\n",
              "<style scoped>\n",
              "    .dataframe tbody tr th:only-of-type {\n",
              "        vertical-align: middle;\n",
              "    }\n",
              "\n",
              "    .dataframe tbody tr th {\n",
              "        vertical-align: top;\n",
              "    }\n",
              "\n",
              "    .dataframe thead th {\n",
              "        text-align: right;\n",
              "    }\n",
              "</style>\n",
              "<table border=\"1\" class=\"dataframe\">\n",
              "  <thead>\n",
              "    <tr style=\"text-align: right;\">\n",
              "      <th></th>\n",
              "      <th>sepal length (cm)</th>\n",
              "      <th>sepal width (cm)</th>\n",
              "      <th>petal length (cm)</th>\n",
              "      <th>petal width (cm)</th>\n",
              "    </tr>\n",
              "  </thead>\n",
              "  <tbody>\n",
              "    <tr>\n",
              "      <th>0</th>\n",
              "      <td>5.1</td>\n",
              "      <td>3.5</td>\n",
              "      <td>1.4</td>\n",
              "      <td>0.2</td>\n",
              "    </tr>\n",
              "    <tr>\n",
              "      <th>1</th>\n",
              "      <td>4.9</td>\n",
              "      <td>3.0</td>\n",
              "      <td>1.4</td>\n",
              "      <td>0.2</td>\n",
              "    </tr>\n",
              "    <tr>\n",
              "      <th>2</th>\n",
              "      <td>4.7</td>\n",
              "      <td>3.2</td>\n",
              "      <td>1.3</td>\n",
              "      <td>0.2</td>\n",
              "    </tr>\n",
              "    <tr>\n",
              "      <th>3</th>\n",
              "      <td>4.6</td>\n",
              "      <td>3.1</td>\n",
              "      <td>1.5</td>\n",
              "      <td>0.2</td>\n",
              "    </tr>\n",
              "    <tr>\n",
              "      <th>4</th>\n",
              "      <td>5.0</td>\n",
              "      <td>3.6</td>\n",
              "      <td>1.4</td>\n",
              "      <td>0.2</td>\n",
              "    </tr>\n",
              "  </tbody>\n",
              "</table>\n",
              "</div>"
            ],
            "text/plain": [
              "   sepal length (cm)  sepal width (cm)  petal length (cm)  petal width (cm)\n",
              "0                5.1               3.5                1.4               0.2\n",
              "1                4.9               3.0                1.4               0.2\n",
              "2                4.7               3.2                1.3               0.2\n",
              "3                4.6               3.1                1.5               0.2\n",
              "4                5.0               3.6                1.4               0.2"
            ]
          },
          "execution_count": 11,
          "metadata": {},
          "output_type": "execute_result"
        }
      ],
      "source": [
        "# Import Iris\n",
        "from sklearn.datasets import load_iris\n",
        "\n",
        "# Load iris as a DataFrame seperated where we only get target values\n",
        "# It is common to use _ when we don't need the values return by the tuple\n",
        "# Here we don't need the target variable since we will perform unsupervised learning\n",
        "X, _ = load_iris(return_X_y=True, as_frame=True)\n",
        "\n",
        "# Visualize first 5 rows\n",
        "X.head()"
      ]
    },
    {
      "cell_type": "markdown",
      "metadata": {
        "id": "tD4N61TH0H3U"
      },
      "source": [
        "As stated in the theory part of the course, we need to follow a few steps to get our PCA. Here they are:\n",
        "\n",
        "<img src=\"https://full-stack-assets.s3.eu-west-3.amazonaws.com/images/PCA_process.png\" alt=\"PCA_process\"/>"
      ]
    },
    {
      "cell_type": "markdown",
      "metadata": {
        "id": "uLmdA3uo0H3U"
      },
      "source": [
        "## Normalize dataset\n",
        "\n",
        "Let's normalize our dataset before going anywhere:"
      ]
    },
    {
      "cell_type": "code",
      "execution_count": 12,
      "metadata": {},
      "outputs": [],
      "source": [
        "# Normalisation\n",
        "# Matrice Covariance\n",
        "# Eigenvalues Eigenvectors de la matrice de covariance via SVD et AX = lambda X\n",
        "# Produit Scalaire eigenvectors AT"
      ]
    },
    {
      "cell_type": "code",
      "execution_count": 13,
      "metadata": {
        "colab": {
          "base_uri": "https://localhost:8080/"
        },
        "id": "Bj3d-FF_0H3V",
        "outputId": "6189e23c-a8ba-4827-feea-beb16423a764"
      },
      "outputs": [
        {
          "data": {
            "text/plain": [
              "array([[-0.90068117,  1.01900435, -1.34022653, -1.3154443 ],\n",
              "       [-1.14301691, -0.13197948, -1.34022653, -1.3154443 ],\n",
              "       [-1.38535265,  0.32841405, -1.39706395, -1.3154443 ],\n",
              "       [-1.50652052,  0.09821729, -1.2833891 , -1.3154443 ],\n",
              "       [-1.02184904,  1.24920112, -1.34022653, -1.3154443 ]])"
            ]
          },
          "execution_count": 13,
          "metadata": {},
          "output_type": "execute_result"
        }
      ],
      "source": [
        "# Import Standard Scaler\n",
        "\n",
        "# Initialize StandardScaler\n",
        "# StandardScaler will substract mean and divide by standard deviation to each observation\n",
        "sc = StandardScaler()\n",
        "\n",
        "# Apply StandardScaler to X\n",
        "X = sc.fit_transform(X)\n",
        "\n",
        "# Visualize first five rows\n",
        "# Standard scaler transform X as numpy array. Therefore you can't use .head()\n",
        "X[:5]"
      ]
    },
    {
      "cell_type": "code",
      "execution_count": 20,
      "metadata": {},
      "outputs": [
        {
          "data": {
            "text/html": [
              "<div>\n",
              "<style scoped>\n",
              "    .dataframe tbody tr th:only-of-type {\n",
              "        vertical-align: middle;\n",
              "    }\n",
              "\n",
              "    .dataframe tbody tr th {\n",
              "        vertical-align: top;\n",
              "    }\n",
              "\n",
              "    .dataframe thead th {\n",
              "        text-align: right;\n",
              "    }\n",
              "</style>\n",
              "<table border=\"1\" class=\"dataframe\">\n",
              "  <thead>\n",
              "    <tr style=\"text-align: right;\">\n",
              "      <th></th>\n",
              "      <th>PC1</th>\n",
              "      <th>PC2</th>\n",
              "      <th>PC3</th>\n",
              "      <th>PC4</th>\n",
              "    </tr>\n",
              "  </thead>\n",
              "  <tbody>\n",
              "    <tr>\n",
              "      <th>0</th>\n",
              "      <td>-0.900681</td>\n",
              "      <td>1.019004</td>\n",
              "      <td>-1.340227</td>\n",
              "      <td>-1.315444</td>\n",
              "    </tr>\n",
              "    <tr>\n",
              "      <th>1</th>\n",
              "      <td>-1.143017</td>\n",
              "      <td>-0.131979</td>\n",
              "      <td>-1.340227</td>\n",
              "      <td>-1.315444</td>\n",
              "    </tr>\n",
              "    <tr>\n",
              "      <th>2</th>\n",
              "      <td>-1.385353</td>\n",
              "      <td>0.328414</td>\n",
              "      <td>-1.397064</td>\n",
              "      <td>-1.315444</td>\n",
              "    </tr>\n",
              "    <tr>\n",
              "      <th>3</th>\n",
              "      <td>-1.506521</td>\n",
              "      <td>0.098217</td>\n",
              "      <td>-1.283389</td>\n",
              "      <td>-1.315444</td>\n",
              "    </tr>\n",
              "    <tr>\n",
              "      <th>4</th>\n",
              "      <td>-1.021849</td>\n",
              "      <td>1.249201</td>\n",
              "      <td>-1.340227</td>\n",
              "      <td>-1.315444</td>\n",
              "    </tr>\n",
              "    <tr>\n",
              "      <th>...</th>\n",
              "      <td>...</td>\n",
              "      <td>...</td>\n",
              "      <td>...</td>\n",
              "      <td>...</td>\n",
              "    </tr>\n",
              "    <tr>\n",
              "      <th>145</th>\n",
              "      <td>1.038005</td>\n",
              "      <td>-0.131979</td>\n",
              "      <td>0.819596</td>\n",
              "      <td>1.448832</td>\n",
              "    </tr>\n",
              "    <tr>\n",
              "      <th>146</th>\n",
              "      <td>0.553333</td>\n",
              "      <td>-1.282963</td>\n",
              "      <td>0.705921</td>\n",
              "      <td>0.922303</td>\n",
              "    </tr>\n",
              "    <tr>\n",
              "      <th>147</th>\n",
              "      <td>0.795669</td>\n",
              "      <td>-0.131979</td>\n",
              "      <td>0.819596</td>\n",
              "      <td>1.053935</td>\n",
              "    </tr>\n",
              "    <tr>\n",
              "      <th>148</th>\n",
              "      <td>0.432165</td>\n",
              "      <td>0.788808</td>\n",
              "      <td>0.933271</td>\n",
              "      <td>1.448832</td>\n",
              "    </tr>\n",
              "    <tr>\n",
              "      <th>149</th>\n",
              "      <td>0.068662</td>\n",
              "      <td>-0.131979</td>\n",
              "      <td>0.762758</td>\n",
              "      <td>0.790671</td>\n",
              "    </tr>\n",
              "  </tbody>\n",
              "</table>\n",
              "<p>150 rows × 4 columns</p>\n",
              "</div>"
            ],
            "text/plain": [
              "          PC1       PC2       PC3       PC4\n",
              "0   -0.900681  1.019004 -1.340227 -1.315444\n",
              "1   -1.143017 -0.131979 -1.340227 -1.315444\n",
              "2   -1.385353  0.328414 -1.397064 -1.315444\n",
              "3   -1.506521  0.098217 -1.283389 -1.315444\n",
              "4   -1.021849  1.249201 -1.340227 -1.315444\n",
              "..        ...       ...       ...       ...\n",
              "145  1.038005 -0.131979  0.819596  1.448832\n",
              "146  0.553333 -1.282963  0.705921  0.922303\n",
              "147  0.795669 -0.131979  0.819596  1.053935\n",
              "148  0.432165  0.788808  0.933271  1.448832\n",
              "149  0.068662 -0.131979  0.762758  0.790671\n",
              "\n",
              "[150 rows x 4 columns]"
            ]
          },
          "execution_count": 20,
          "metadata": {},
          "output_type": "execute_result"
        }
      ],
      "source": [
        "df = pd.DataFrame(X, columns=[\"PC1\",\"PC2\", \"PC3\", \"PC4\"])\n",
        "df"
      ]
    },
    {
      "cell_type": "code",
      "execution_count": null,
      "metadata": {},
      "outputs": [],
      "source": [
        "# Voir code \n",
        "# Si on fait du clustering sur la représentation en 3D\n",
        "# \n",
        "\n",
        "# Garder en tête qu'on passe de 150 dim à 3 (pour la présentation)\n",
        "# Code de Embedding Projector\n",
        "# https://projector.tensorflow.org/"
      ]
    },
    {
      "cell_type": "markdown",
      "metadata": {
        "id": "IYFKWXNC0H3V"
      },
      "source": [
        "## Apply PCA\n",
        "\n",
        "Now, if we want to be fast, we can already apply <a href=\"https://scikit-learn.org/stable/modules/generated/sklearn.decomposition.PCA.html#sklearn.decomposition.PCA\" target=\"_blank\">PCA</a> on our dataset using from <a href=\"https://scikit-learn.org/stable/index.html\" target=\"_blank\">Scikit Learn</a>."
      ]
    },
    {
      "cell_type": "code",
      "execution_count": 21,
      "metadata": {
        "colab": {
          "base_uri": "https://localhost:8080/"
        },
        "id": "SIrBAUDp0H3V",
        "outputId": "66e49176-b14d-4602-a2e7-25716c56153d"
      },
      "outputs": [
        {
          "data": {
            "text/plain": [
              "array([[-2.26470281,  0.4800266 , -0.12770602, -0.0241682 ],\n",
              "       [-2.08096115, -0.67413356, -0.23460885, -0.10300677],\n",
              "       [-2.36422905, -0.34190802,  0.04420148, -0.02837705],\n",
              "       [-2.29938422, -0.59739451,  0.09129011,  0.06595556],\n",
              "       [-2.38984217,  0.64683538,  0.0157382 ,  0.03592281]])"
            ]
          },
          "execution_count": 21,
          "metadata": {},
          "output_type": "execute_result"
        }
      ],
      "source": [
        "# import PCA\n",
        "\n",
        "# Instanciate PCA\n",
        "# We can even specify how many components we want within the class\n",
        "pca = PCA(n_components=4)\n",
        "\n",
        "# Fit pca to our model\n",
        "PC = pca.fit_transform(X)\n",
        "\n",
        "# Visualize first five rows\n",
        "PC[:5]"
      ]
    },
    {
      "cell_type": "code",
      "execution_count": 16,
      "metadata": {},
      "outputs": [
        {
          "data": {
            "text/plain": [
              "array([0.72962445, 0.22850762])"
            ]
          },
          "execution_count": 16,
          "metadata": {},
          "output_type": "execute_result"
        }
      ],
      "source": [
        "pca.explained_variance_ratio_\n",
        "# PCA explique 72% de la variance\n",
        "# PCA2 explique 22"
      ]
    },
    {
      "cell_type": "code",
      "execution_count": 17,
      "metadata": {},
      "outputs": [
        {
          "data": {
            "text/plain": [
              "0.9581320720000163"
            ]
          },
          "execution_count": 17,
          "metadata": {},
          "output_type": "execute_result"
        }
      ],
      "source": [
        "pca.explained_variance_ratio_.sum()\n",
        "\n",
        "# on explique que 95%\n",
        "# si on avait décompoé sur 4 vecteurs on aurait 100%"
      ]
    },
    {
      "cell_type": "code",
      "execution_count": 26,
      "metadata": {},
      "outputs": [
        {
          "data": {
            "text/html": [
              "<div>\n",
              "<style scoped>\n",
              "    .dataframe tbody tr th:only-of-type {\n",
              "        vertical-align: middle;\n",
              "    }\n",
              "\n",
              "    .dataframe tbody tr th {\n",
              "        vertical-align: top;\n",
              "    }\n",
              "\n",
              "    .dataframe thead th {\n",
              "        text-align: right;\n",
              "    }\n",
              "</style>\n",
              "<table border=\"1\" class=\"dataframe\">\n",
              "  <thead>\n",
              "    <tr style=\"text-align: right;\">\n",
              "      <th></th>\n",
              "      <th>PC1</th>\n",
              "      <th>PC2</th>\n",
              "      <th>PC3</th>\n",
              "      <th>PC4</th>\n",
              "    </tr>\n",
              "  </thead>\n",
              "  <tbody>\n",
              "    <tr>\n",
              "      <th>0</th>\n",
              "      <td>-2.264703</td>\n",
              "      <td>0.480027</td>\n",
              "      <td>-0.127706</td>\n",
              "      <td>-0.024168</td>\n",
              "    </tr>\n",
              "    <tr>\n",
              "      <th>1</th>\n",
              "      <td>-2.080961</td>\n",
              "      <td>-0.674134</td>\n",
              "      <td>-0.234609</td>\n",
              "      <td>-0.103007</td>\n",
              "    </tr>\n",
              "    <tr>\n",
              "      <th>2</th>\n",
              "      <td>-2.364229</td>\n",
              "      <td>-0.341908</td>\n",
              "      <td>0.044201</td>\n",
              "      <td>-0.028377</td>\n",
              "    </tr>\n",
              "    <tr>\n",
              "      <th>3</th>\n",
              "      <td>-2.299384</td>\n",
              "      <td>-0.597395</td>\n",
              "      <td>0.091290</td>\n",
              "      <td>0.065956</td>\n",
              "    </tr>\n",
              "    <tr>\n",
              "      <th>4</th>\n",
              "      <td>-2.389842</td>\n",
              "      <td>0.646835</td>\n",
              "      <td>0.015738</td>\n",
              "      <td>0.035923</td>\n",
              "    </tr>\n",
              "    <tr>\n",
              "      <th>...</th>\n",
              "      <td>...</td>\n",
              "      <td>...</td>\n",
              "      <td>...</td>\n",
              "      <td>...</td>\n",
              "    </tr>\n",
              "    <tr>\n",
              "      <th>145</th>\n",
              "      <td>1.870503</td>\n",
              "      <td>0.386966</td>\n",
              "      <td>0.256274</td>\n",
              "      <td>-0.389257</td>\n",
              "    </tr>\n",
              "    <tr>\n",
              "      <th>146</th>\n",
              "      <td>1.564580</td>\n",
              "      <td>-0.896687</td>\n",
              "      <td>-0.026371</td>\n",
              "      <td>-0.220192</td>\n",
              "    </tr>\n",
              "    <tr>\n",
              "      <th>147</th>\n",
              "      <td>1.521170</td>\n",
              "      <td>0.269069</td>\n",
              "      <td>0.180178</td>\n",
              "      <td>-0.119171</td>\n",
              "    </tr>\n",
              "    <tr>\n",
              "      <th>148</th>\n",
              "      <td>1.372788</td>\n",
              "      <td>1.011254</td>\n",
              "      <td>0.933395</td>\n",
              "      <td>-0.026129</td>\n",
              "    </tr>\n",
              "    <tr>\n",
              "      <th>149</th>\n",
              "      <td>0.960656</td>\n",
              "      <td>-0.024332</td>\n",
              "      <td>0.528249</td>\n",
              "      <td>0.163078</td>\n",
              "    </tr>\n",
              "  </tbody>\n",
              "</table>\n",
              "<p>150 rows × 4 columns</p>\n",
              "</div>"
            ],
            "text/plain": [
              "          PC1       PC2       PC3       PC4\n",
              "0   -2.264703  0.480027 -0.127706 -0.024168\n",
              "1   -2.080961 -0.674134 -0.234609 -0.103007\n",
              "2   -2.364229 -0.341908  0.044201 -0.028377\n",
              "3   -2.299384 -0.597395  0.091290  0.065956\n",
              "4   -2.389842  0.646835  0.015738  0.035923\n",
              "..        ...       ...       ...       ...\n",
              "145  1.870503  0.386966  0.256274 -0.389257\n",
              "146  1.564580 -0.896687 -0.026371 -0.220192\n",
              "147  1.521170  0.269069  0.180178 -0.119171\n",
              "148  1.372788  1.011254  0.933395 -0.026129\n",
              "149  0.960656 -0.024332  0.528249  0.163078\n",
              "\n",
              "[150 rows x 4 columns]"
            ]
          },
          "execution_count": 26,
          "metadata": {},
          "output_type": "execute_result"
        }
      ],
      "source": [
        "df = pd.DataFrame(PC, columns=[\"PC1\",\"PC2\", \"PC3\", \"PC4\"])\n",
        "df\n"
      ]
    },
    {
      "cell_type": "code",
      "execution_count": 27,
      "metadata": {},
      "outputs": [
        {
          "data": {
            "application/vnd.plotly.v1+json": {
              "config": {
                "plotlyServerURL": "https://plot.ly"
              },
              "data": [
                {
                  "hovertemplate": "PC1=%{x}<br>PC2=%{y}<extra></extra>",
                  "legendgroup": "",
                  "marker": {
                    "color": "#636efa",
                    "symbol": "circle"
                  },
                  "mode": "markers",
                  "name": "",
                  "orientation": "v",
                  "showlegend": false,
                  "type": "scatter",
                  "x": [
                    -2.264702808807591,
                    -2.0809611519657696,
                    -2.3642290538902997,
                    -2.299384217042708,
                    -2.3898421663138447,
                    -2.075630948176512,
                    -2.4440288351341524,
                    -2.2328471588720147,
                    -2.3346404779076213,
                    -2.184328174933942,
                    -2.1663101007013226,
                    -2.3261308664426985,
                    -2.2184508988224088,
                    -2.6331006957652274,
                    -2.1987406032666894,
                    -2.262214531601021,
                    -2.207587695824592,
                    -2.190349509192298,
                    -1.8985719958028417,
                    -2.343369053074993,
                    -1.9143229960825678,
                    -2.207012843194798,
                    -2.7743447029273325,
                    -1.818669528695849,
                    -2.2271633057066387,
                    -1.951846330900375,
                    -2.0511513727294153,
                    -2.1685771746542164,
                    -2.1395634513013313,
                    -2.2652614931542407,
                    -2.1401221356479843,
                    -1.8315947706760278,
                    -2.6149479358589347,
                    -2.446177391696515,
                    -2.109974875318652,
                    -2.207808899078265,
                    -2.045146206754201,
                    -2.527331913170486,
                    -2.429632575084546,
                    -2.169710711630663,
                    -2.28647514334567,
                    -1.8581224563735708,
                    -2.553638395614356,
                    -1.9644476837637403,
                    -2.137059005811623,
                    -2.0697442995918296,
                    -2.384733165778263,
                    -2.394376314219633,
                    -2.2294465479426746,
                    -2.20383343551913,
                    1.101781183052948,
                    0.7313374253960874,
                    1.2409793195158312,
                    0.40748305881738517,
                    1.0754747006090786,
                    0.38868733653566484,
                    0.7465297413291606,
                    -0.4873227421256395,
                    0.9279016383549453,
                    0.011426188736980163,
                    -0.11019628000062884,
                    0.4406934489830784,
                    0.5621083064431792,
                    0.7195618886754965,
                    -0.03335470317877213,
                    0.8754071908577379,
                    0.3502516679950826,
                    0.15881004754797134,
                    1.2250936335624323,
                    0.16491789938632737,
                    0.7376826487712581,
                    0.4762871909409715,
                    1.2341780976571493,
                    0.6328581997098217,
                    0.7026611831361824,
                    0.8742736538812904,
                    1.2565091165418834,
                    1.358405121440632,
                    0.6648003672253948,
                    -0.040258610900595175,
                    0.13079517549786074,
                    0.023452688970550976,
                    0.24153827295451105,
                    1.0610946088426139,
                    0.22397877351237966,
                    0.42913911551616046,
                    1.0487280512090877,
                    1.0445313843962793,
                    0.06958832111642291,
                    0.2834772382875755,
                    0.27907777605546075,
                    0.6245697914985715,
                    0.336530370131436,
                    -0.36218338461938315,
                    0.28858623882315737,
                    0.09136065565450514,
                    0.22771686553469994,
                    0.5763882886534788,
                    -0.44766701902861156,
                    0.25673058888758477,
                    1.844568867723029,
                    1.1578816132057799,
                    2.205266791075378,
                    1.4401506638275396,
                    1.8678122203305374,
                    2.7518733356662763,
                    0.3670176878607243,
                    2.302439444625197,
                    2.006686467676606,
                    2.2597773490125004,
                    1.3641754921860079,
                    1.6026786704779306,
                    1.8839007017032428,
                    1.260115099197508,
                    1.4676452010173242,
                    1.5900773176145657,
                    1.4714314611333184,
                    2.4263289873157,
                    3.310695583933888,
                    1.2637666736398283,
                    2.0377163014694046,
                    0.9779807342494216,
                    2.8976514907341695,
                    1.3332321759732093,
                    1.700733897491217,
                    1.954326705853071,
                    1.1751036315549328,
                    1.020950550695791,
                    1.788349920179666,
                    1.863647553328261,
                    2.435953727922704,
                    2.3049277218317643,
                    1.8627032197949558,
                    1.1141477406864748,
                    1.2024733016783906,
                    2.7987704475781086,
                    1.576255910194754,
                    1.3462921036270616,
                    0.9248249165424193,
                    1.8520450517676703,
                    2.014810429954876,
                    1.9017840902621894,
                    1.1578816132057799,
                    2.040558228052092,
                    1.9981470959523764,
                    1.8705032929564112,
                    1.5645804830303283,
                    1.5211704996278381,
                    1.3727877895140728,
                    0.9606560300371276
                  ],
                  "xaxis": "x",
                  "y": [
                    0.48002659652098956,
                    -0.6741335566053532,
                    -0.34190802388467617,
                    -0.5973945076746755,
                    0.646835382902026,
                    1.4891775233211653,
                    0.04764419763001386,
                    0.22314807268959116,
                    -1.1153276754616657,
                    -0.46901356140237577,
                    1.0436906530538588,
                    0.13307833523923118,
                    -0.7286761653165706,
                    -0.9615067291701623,
                    1.8600571132939288,
                    2.68628448511059,
                    1.4836093631555707,
                    0.4888383164863269,
                    1.4050187944665478,
                    1.1278493819084752,
                    0.4088557077559054,
                    0.9241214267468976,
                    0.45834366775291474,
                    0.08555852628736567,
                    0.13725445536342695,
                    -0.6256185877766766,
                    0.24216355266166645,
                    0.5271495253082665,
                    0.3132178101399511,
                    -0.3377319037604805,
                    -0.5045406901415183,
                    0.423695067603785,
                    1.793575856104427,
                    2.150727877392922,
                    -0.46020184143703735,
                    -0.20610739768843725,
                    0.661558111463107,
                    0.592292774190809,
                    -0.9041800403761476,
                    0.26887896143547013,
                    0.44171538769904933,
                    -2.337415157553346,
                    -0.47910069012231377,
                    0.47232666771926013,
                    1.1422292620394079,
                    -0.7110527253858938,
                    1.1204297019845353,
                    -0.3862468725891572,
                    0.9979597643079792,
                    0.009216357521275823,
                    0.8629724182621581,
                    0.5946147256694241,
                    0.6162976544374976,
                    -1.754403989323409,
                    -0.20842104605096543,
                    -0.5932836359900745,
                    0.773019312098596,
                    -1.8524290868575723,
                    0.032226077891153594,
                    -1.0340182751294396,
                    -2.654072818536562,
                    -0.06329518843800136,
                    -1.7647243806169437,
                    -0.18622460583150552,
                    -0.43900320998162434,
                    0.509063956773408,
                    -0.19631173455144352,
                    -0.7920957424327206,
                    -1.6222438030915007,
                    -1.3026092302957712,
                    0.3965715619602389,
                    -0.41732028121355075,
                    -0.9333257287992776,
                    -0.41638772088909903,
                    -0.06341181972480026,
                    0.25079339290061164,
                    -0.07725601969586916,
                    0.33131168179089776,
                    -0.22592785469484336,
                    -1.0587185465539082,
                    -1.562271834209966,
                    -1.572475594216703,
                    -0.7772563825848413,
                    -0.6338432447349461,
                    -0.2877735120432017,
                    0.8455822409050783,
                    0.5220517968629421,
                    -1.3829887191907808,
                    -0.2195033346477146,
                    -1.3293246390695754,
                    -1.1200285237424024,
                    0.024923029254012758,
                    -0.9884040176703592,
                    -2.01923787323861,
                    -0.8557303199870653,
                    -0.18119212582577499,
                    -0.3849200809873534,
                    -0.15487359721655874,
                    -1.543792034397755,
                    -0.5988517961556689,
                    0.870421312324823,
                    -0.6988698623306895,
                    0.5620104770083552,
                    -0.046987588105806236,
                    0.29504482445701974,
                    0.8004092010275414,
                    -1.561502891476504,
                    0.420065579642776,
                    -0.7114386535471582,
                    1.9210103764598854,
                    0.6927564544903865,
                    -0.4217004497726168,
                    0.41924965060512326,
                    -1.1622604214064625,
                    -0.44227158737708183,
                    0.6762448057233196,
                    0.2556218244714705,
                    2.5566612507954907,
                    0.017780949320627064,
                    -1.7067453803762662,
                    0.9104674096183101,
                    -0.571764324812991,
                    0.41364105959564734,
                    -0.4818112186494291,
                    1.013921867322791,
                    1.0077775961534516,
                    -0.31639447230979073,
                    0.06434602923956201,
                    -0.18736121459082855,
                    0.562290725886144,
                    0.2592844331442798,
                    2.6263234682323766,
                    -0.17854949462549016,
                    -0.2929226233357311,
                    -0.8113152708396677,
                    0.8568033294971046,
                    1.0685811073208071,
                    0.4224306108525082,
                    0.017223100452284326,
                    0.6761281744365207,
                    0.6138856369235747,
                    0.6895754942430017,
                    -0.6988698623306895,
                    0.8675206009552279,
                    1.0491687471841444,
                    0.3869660816657251,
                    -0.8966868088965253,
                    0.2690691442779515,
                    1.0112544185267924,
                    -0.02433166816939896
                  ],
                  "yaxis": "y"
                }
              ],
              "layout": {
                "legend": {
                  "tracegroupgap": 0
                },
                "margin": {
                  "t": 60
                },
                "template": {
                  "data": {
                    "bar": [
                      {
                        "error_x": {
                          "color": "#2a3f5f"
                        },
                        "error_y": {
                          "color": "#2a3f5f"
                        },
                        "marker": {
                          "line": {
                            "color": "#E5ECF6",
                            "width": 0.5
                          },
                          "pattern": {
                            "fillmode": "overlay",
                            "size": 10,
                            "solidity": 0.2
                          }
                        },
                        "type": "bar"
                      }
                    ],
                    "barpolar": [
                      {
                        "marker": {
                          "line": {
                            "color": "#E5ECF6",
                            "width": 0.5
                          },
                          "pattern": {
                            "fillmode": "overlay",
                            "size": 10,
                            "solidity": 0.2
                          }
                        },
                        "type": "barpolar"
                      }
                    ],
                    "carpet": [
                      {
                        "aaxis": {
                          "endlinecolor": "#2a3f5f",
                          "gridcolor": "white",
                          "linecolor": "white",
                          "minorgridcolor": "white",
                          "startlinecolor": "#2a3f5f"
                        },
                        "baxis": {
                          "endlinecolor": "#2a3f5f",
                          "gridcolor": "white",
                          "linecolor": "white",
                          "minorgridcolor": "white",
                          "startlinecolor": "#2a3f5f"
                        },
                        "type": "carpet"
                      }
                    ],
                    "choropleth": [
                      {
                        "colorbar": {
                          "outlinewidth": 0,
                          "ticks": ""
                        },
                        "type": "choropleth"
                      }
                    ],
                    "contour": [
                      {
                        "colorbar": {
                          "outlinewidth": 0,
                          "ticks": ""
                        },
                        "colorscale": [
                          [
                            0,
                            "#0d0887"
                          ],
                          [
                            0.1111111111111111,
                            "#46039f"
                          ],
                          [
                            0.2222222222222222,
                            "#7201a8"
                          ],
                          [
                            0.3333333333333333,
                            "#9c179e"
                          ],
                          [
                            0.4444444444444444,
                            "#bd3786"
                          ],
                          [
                            0.5555555555555556,
                            "#d8576b"
                          ],
                          [
                            0.6666666666666666,
                            "#ed7953"
                          ],
                          [
                            0.7777777777777778,
                            "#fb9f3a"
                          ],
                          [
                            0.8888888888888888,
                            "#fdca26"
                          ],
                          [
                            1,
                            "#f0f921"
                          ]
                        ],
                        "type": "contour"
                      }
                    ],
                    "contourcarpet": [
                      {
                        "colorbar": {
                          "outlinewidth": 0,
                          "ticks": ""
                        },
                        "type": "contourcarpet"
                      }
                    ],
                    "heatmap": [
                      {
                        "colorbar": {
                          "outlinewidth": 0,
                          "ticks": ""
                        },
                        "colorscale": [
                          [
                            0,
                            "#0d0887"
                          ],
                          [
                            0.1111111111111111,
                            "#46039f"
                          ],
                          [
                            0.2222222222222222,
                            "#7201a8"
                          ],
                          [
                            0.3333333333333333,
                            "#9c179e"
                          ],
                          [
                            0.4444444444444444,
                            "#bd3786"
                          ],
                          [
                            0.5555555555555556,
                            "#d8576b"
                          ],
                          [
                            0.6666666666666666,
                            "#ed7953"
                          ],
                          [
                            0.7777777777777778,
                            "#fb9f3a"
                          ],
                          [
                            0.8888888888888888,
                            "#fdca26"
                          ],
                          [
                            1,
                            "#f0f921"
                          ]
                        ],
                        "type": "heatmap"
                      }
                    ],
                    "heatmapgl": [
                      {
                        "colorbar": {
                          "outlinewidth": 0,
                          "ticks": ""
                        },
                        "colorscale": [
                          [
                            0,
                            "#0d0887"
                          ],
                          [
                            0.1111111111111111,
                            "#46039f"
                          ],
                          [
                            0.2222222222222222,
                            "#7201a8"
                          ],
                          [
                            0.3333333333333333,
                            "#9c179e"
                          ],
                          [
                            0.4444444444444444,
                            "#bd3786"
                          ],
                          [
                            0.5555555555555556,
                            "#d8576b"
                          ],
                          [
                            0.6666666666666666,
                            "#ed7953"
                          ],
                          [
                            0.7777777777777778,
                            "#fb9f3a"
                          ],
                          [
                            0.8888888888888888,
                            "#fdca26"
                          ],
                          [
                            1,
                            "#f0f921"
                          ]
                        ],
                        "type": "heatmapgl"
                      }
                    ],
                    "histogram": [
                      {
                        "marker": {
                          "pattern": {
                            "fillmode": "overlay",
                            "size": 10,
                            "solidity": 0.2
                          }
                        },
                        "type": "histogram"
                      }
                    ],
                    "histogram2d": [
                      {
                        "colorbar": {
                          "outlinewidth": 0,
                          "ticks": ""
                        },
                        "colorscale": [
                          [
                            0,
                            "#0d0887"
                          ],
                          [
                            0.1111111111111111,
                            "#46039f"
                          ],
                          [
                            0.2222222222222222,
                            "#7201a8"
                          ],
                          [
                            0.3333333333333333,
                            "#9c179e"
                          ],
                          [
                            0.4444444444444444,
                            "#bd3786"
                          ],
                          [
                            0.5555555555555556,
                            "#d8576b"
                          ],
                          [
                            0.6666666666666666,
                            "#ed7953"
                          ],
                          [
                            0.7777777777777778,
                            "#fb9f3a"
                          ],
                          [
                            0.8888888888888888,
                            "#fdca26"
                          ],
                          [
                            1,
                            "#f0f921"
                          ]
                        ],
                        "type": "histogram2d"
                      }
                    ],
                    "histogram2dcontour": [
                      {
                        "colorbar": {
                          "outlinewidth": 0,
                          "ticks": ""
                        },
                        "colorscale": [
                          [
                            0,
                            "#0d0887"
                          ],
                          [
                            0.1111111111111111,
                            "#46039f"
                          ],
                          [
                            0.2222222222222222,
                            "#7201a8"
                          ],
                          [
                            0.3333333333333333,
                            "#9c179e"
                          ],
                          [
                            0.4444444444444444,
                            "#bd3786"
                          ],
                          [
                            0.5555555555555556,
                            "#d8576b"
                          ],
                          [
                            0.6666666666666666,
                            "#ed7953"
                          ],
                          [
                            0.7777777777777778,
                            "#fb9f3a"
                          ],
                          [
                            0.8888888888888888,
                            "#fdca26"
                          ],
                          [
                            1,
                            "#f0f921"
                          ]
                        ],
                        "type": "histogram2dcontour"
                      }
                    ],
                    "mesh3d": [
                      {
                        "colorbar": {
                          "outlinewidth": 0,
                          "ticks": ""
                        },
                        "type": "mesh3d"
                      }
                    ],
                    "parcoords": [
                      {
                        "line": {
                          "colorbar": {
                            "outlinewidth": 0,
                            "ticks": ""
                          }
                        },
                        "type": "parcoords"
                      }
                    ],
                    "pie": [
                      {
                        "automargin": true,
                        "type": "pie"
                      }
                    ],
                    "scatter": [
                      {
                        "fillpattern": {
                          "fillmode": "overlay",
                          "size": 10,
                          "solidity": 0.2
                        },
                        "type": "scatter"
                      }
                    ],
                    "scatter3d": [
                      {
                        "line": {
                          "colorbar": {
                            "outlinewidth": 0,
                            "ticks": ""
                          }
                        },
                        "marker": {
                          "colorbar": {
                            "outlinewidth": 0,
                            "ticks": ""
                          }
                        },
                        "type": "scatter3d"
                      }
                    ],
                    "scattercarpet": [
                      {
                        "marker": {
                          "colorbar": {
                            "outlinewidth": 0,
                            "ticks": ""
                          }
                        },
                        "type": "scattercarpet"
                      }
                    ],
                    "scattergeo": [
                      {
                        "marker": {
                          "colorbar": {
                            "outlinewidth": 0,
                            "ticks": ""
                          }
                        },
                        "type": "scattergeo"
                      }
                    ],
                    "scattergl": [
                      {
                        "marker": {
                          "colorbar": {
                            "outlinewidth": 0,
                            "ticks": ""
                          }
                        },
                        "type": "scattergl"
                      }
                    ],
                    "scattermapbox": [
                      {
                        "marker": {
                          "colorbar": {
                            "outlinewidth": 0,
                            "ticks": ""
                          }
                        },
                        "type": "scattermapbox"
                      }
                    ],
                    "scatterpolar": [
                      {
                        "marker": {
                          "colorbar": {
                            "outlinewidth": 0,
                            "ticks": ""
                          }
                        },
                        "type": "scatterpolar"
                      }
                    ],
                    "scatterpolargl": [
                      {
                        "marker": {
                          "colorbar": {
                            "outlinewidth": 0,
                            "ticks": ""
                          }
                        },
                        "type": "scatterpolargl"
                      }
                    ],
                    "scatterternary": [
                      {
                        "marker": {
                          "colorbar": {
                            "outlinewidth": 0,
                            "ticks": ""
                          }
                        },
                        "type": "scatterternary"
                      }
                    ],
                    "surface": [
                      {
                        "colorbar": {
                          "outlinewidth": 0,
                          "ticks": ""
                        },
                        "colorscale": [
                          [
                            0,
                            "#0d0887"
                          ],
                          [
                            0.1111111111111111,
                            "#46039f"
                          ],
                          [
                            0.2222222222222222,
                            "#7201a8"
                          ],
                          [
                            0.3333333333333333,
                            "#9c179e"
                          ],
                          [
                            0.4444444444444444,
                            "#bd3786"
                          ],
                          [
                            0.5555555555555556,
                            "#d8576b"
                          ],
                          [
                            0.6666666666666666,
                            "#ed7953"
                          ],
                          [
                            0.7777777777777778,
                            "#fb9f3a"
                          ],
                          [
                            0.8888888888888888,
                            "#fdca26"
                          ],
                          [
                            1,
                            "#f0f921"
                          ]
                        ],
                        "type": "surface"
                      }
                    ],
                    "table": [
                      {
                        "cells": {
                          "fill": {
                            "color": "#EBF0F8"
                          },
                          "line": {
                            "color": "white"
                          }
                        },
                        "header": {
                          "fill": {
                            "color": "#C8D4E3"
                          },
                          "line": {
                            "color": "white"
                          }
                        },
                        "type": "table"
                      }
                    ]
                  },
                  "layout": {
                    "annotationdefaults": {
                      "arrowcolor": "#2a3f5f",
                      "arrowhead": 0,
                      "arrowwidth": 1
                    },
                    "autotypenumbers": "strict",
                    "coloraxis": {
                      "colorbar": {
                        "outlinewidth": 0,
                        "ticks": ""
                      }
                    },
                    "colorscale": {
                      "diverging": [
                        [
                          0,
                          "#8e0152"
                        ],
                        [
                          0.1,
                          "#c51b7d"
                        ],
                        [
                          0.2,
                          "#de77ae"
                        ],
                        [
                          0.3,
                          "#f1b6da"
                        ],
                        [
                          0.4,
                          "#fde0ef"
                        ],
                        [
                          0.5,
                          "#f7f7f7"
                        ],
                        [
                          0.6,
                          "#e6f5d0"
                        ],
                        [
                          0.7,
                          "#b8e186"
                        ],
                        [
                          0.8,
                          "#7fbc41"
                        ],
                        [
                          0.9,
                          "#4d9221"
                        ],
                        [
                          1,
                          "#276419"
                        ]
                      ],
                      "sequential": [
                        [
                          0,
                          "#0d0887"
                        ],
                        [
                          0.1111111111111111,
                          "#46039f"
                        ],
                        [
                          0.2222222222222222,
                          "#7201a8"
                        ],
                        [
                          0.3333333333333333,
                          "#9c179e"
                        ],
                        [
                          0.4444444444444444,
                          "#bd3786"
                        ],
                        [
                          0.5555555555555556,
                          "#d8576b"
                        ],
                        [
                          0.6666666666666666,
                          "#ed7953"
                        ],
                        [
                          0.7777777777777778,
                          "#fb9f3a"
                        ],
                        [
                          0.8888888888888888,
                          "#fdca26"
                        ],
                        [
                          1,
                          "#f0f921"
                        ]
                      ],
                      "sequentialminus": [
                        [
                          0,
                          "#0d0887"
                        ],
                        [
                          0.1111111111111111,
                          "#46039f"
                        ],
                        [
                          0.2222222222222222,
                          "#7201a8"
                        ],
                        [
                          0.3333333333333333,
                          "#9c179e"
                        ],
                        [
                          0.4444444444444444,
                          "#bd3786"
                        ],
                        [
                          0.5555555555555556,
                          "#d8576b"
                        ],
                        [
                          0.6666666666666666,
                          "#ed7953"
                        ],
                        [
                          0.7777777777777778,
                          "#fb9f3a"
                        ],
                        [
                          0.8888888888888888,
                          "#fdca26"
                        ],
                        [
                          1,
                          "#f0f921"
                        ]
                      ]
                    },
                    "colorway": [
                      "#636efa",
                      "#EF553B",
                      "#00cc96",
                      "#ab63fa",
                      "#FFA15A",
                      "#19d3f3",
                      "#FF6692",
                      "#B6E880",
                      "#FF97FF",
                      "#FECB52"
                    ],
                    "font": {
                      "color": "#2a3f5f"
                    },
                    "geo": {
                      "bgcolor": "white",
                      "lakecolor": "white",
                      "landcolor": "#E5ECF6",
                      "showlakes": true,
                      "showland": true,
                      "subunitcolor": "white"
                    },
                    "hoverlabel": {
                      "align": "left"
                    },
                    "hovermode": "closest",
                    "mapbox": {
                      "style": "light"
                    },
                    "paper_bgcolor": "white",
                    "plot_bgcolor": "#E5ECF6",
                    "polar": {
                      "angularaxis": {
                        "gridcolor": "white",
                        "linecolor": "white",
                        "ticks": ""
                      },
                      "bgcolor": "#E5ECF6",
                      "radialaxis": {
                        "gridcolor": "white",
                        "linecolor": "white",
                        "ticks": ""
                      }
                    },
                    "scene": {
                      "xaxis": {
                        "backgroundcolor": "#E5ECF6",
                        "gridcolor": "white",
                        "gridwidth": 2,
                        "linecolor": "white",
                        "showbackground": true,
                        "ticks": "",
                        "zerolinecolor": "white"
                      },
                      "yaxis": {
                        "backgroundcolor": "#E5ECF6",
                        "gridcolor": "white",
                        "gridwidth": 2,
                        "linecolor": "white",
                        "showbackground": true,
                        "ticks": "",
                        "zerolinecolor": "white"
                      },
                      "zaxis": {
                        "backgroundcolor": "#E5ECF6",
                        "gridcolor": "white",
                        "gridwidth": 2,
                        "linecolor": "white",
                        "showbackground": true,
                        "ticks": "",
                        "zerolinecolor": "white"
                      }
                    },
                    "shapedefaults": {
                      "line": {
                        "color": "#2a3f5f"
                      }
                    },
                    "ternary": {
                      "aaxis": {
                        "gridcolor": "white",
                        "linecolor": "white",
                        "ticks": ""
                      },
                      "baxis": {
                        "gridcolor": "white",
                        "linecolor": "white",
                        "ticks": ""
                      },
                      "bgcolor": "#E5ECF6",
                      "caxis": {
                        "gridcolor": "white",
                        "linecolor": "white",
                        "ticks": ""
                      }
                    },
                    "title": {
                      "x": 0.05
                    },
                    "xaxis": {
                      "automargin": true,
                      "gridcolor": "white",
                      "linecolor": "white",
                      "ticks": "",
                      "title": {
                        "standoff": 15
                      },
                      "zerolinecolor": "white",
                      "zerolinewidth": 2
                    },
                    "yaxis": {
                      "automargin": true,
                      "gridcolor": "white",
                      "linecolor": "white",
                      "ticks": "",
                      "title": {
                        "standoff": 15
                      },
                      "zerolinecolor": "white",
                      "zerolinewidth": 2
                    }
                  }
                },
                "xaxis": {
                  "anchor": "y",
                  "domain": [
                    0,
                    1
                  ],
                  "title": {
                    "text": "PC1"
                  }
                },
                "yaxis": {
                  "anchor": "x",
                  "domain": [
                    0,
                    1
                  ],
                  "title": {
                    "text": "PC2"
                  }
                }
              }
            }
          },
          "metadata": {},
          "output_type": "display_data"
        }
      ],
      "source": [
        "px.scatter(data_frame = df, x=\"PC1\", y= \"PC2\")"
      ]
    },
    {
      "cell_type": "code",
      "execution_count": 28,
      "metadata": {},
      "outputs": [
        {
          "ename": "AttributeError",
          "evalue": "module 'plotly.express' has no attribute 'scatter3D'",
          "output_type": "error",
          "traceback": [
            "\u001b[1;31m---------------------------------------------------------------------------\u001b[0m",
            "\u001b[1;31mAttributeError\u001b[0m                            Traceback (most recent call last)",
            "Cell \u001b[1;32mIn[28], line 1\u001b[0m\n\u001b[1;32m----> 1\u001b[0m \u001b[43mpx\u001b[49m\u001b[38;5;241;43m.\u001b[39;49m\u001b[43mscatter3D\u001b[49m(data_frame \u001b[38;5;241m=\u001b[39m df, x\u001b[38;5;241m=\u001b[39m\u001b[38;5;124m\"\u001b[39m\u001b[38;5;124mPC1\u001b[39m\u001b[38;5;124m\"\u001b[39m, y\u001b[38;5;241m=\u001b[39m \u001b[38;5;124m\"\u001b[39m\u001b[38;5;124mPC2\u001b[39m\u001b[38;5;124m\"\u001b[39m, z\u001b[38;5;241m=\u001b[39m\u001b[38;5;124m\"\u001b[39m\u001b[38;5;124mPC3\u001b[39m\u001b[38;5;124m\"\u001b[39m)\n",
            "\u001b[1;31mAttributeError\u001b[0m: module 'plotly.express' has no attribute 'scatter3D'"
          ]
        }
      ],
      "source": [
        "px.scatter3D(data_frame = df, x=\"PC1\", y= \"PC2\", z=\"PC3\")"
      ]
    },
    {
      "cell_type": "markdown",
      "metadata": {
        "id": "JY69PM1L0H3W"
      },
      "source": [
        "What is this `PC` dataset? It is our dataset of Principal Components. Let's actually find our eigen-vectors using `.components_` property."
      ]
    },
    {
      "cell_type": "code",
      "execution_count": 29,
      "metadata": {
        "colab": {
          "base_uri": "https://localhost:8080/"
        },
        "id": "c4OdxbU-0H3W",
        "outputId": "a5d81a08-dbd4-426e-f23c-dcd45bc036cd"
      },
      "outputs": [
        {
          "data": {
            "text/plain": [
              "array([[ 0.52106591, -0.26934744,  0.5804131 ,  0.56485654],\n",
              "       [ 0.37741762,  0.92329566,  0.02449161,  0.06694199],\n",
              "       [-0.71956635,  0.24438178,  0.14212637,  0.63427274],\n",
              "       [-0.26128628,  0.12350962,  0.80144925, -0.52359713]])"
            ]
          },
          "execution_count": 29,
          "metadata": {},
          "output_type": "execute_result"
        }
      ],
      "source": [
        "# Here are our eigen vectors\n",
        "pca.components_"
      ]
    },
    {
      "cell_type": "markdown",
      "metadata": {
        "id": "6tNKRnco0H3X"
      },
      "source": [
        "This is also our $U$ matrix of $Eigen-vectors$ that we can find using SVD. To verify, we can multiply this matrix by our initial dataset, we get our `PC` matrix back."
      ]
    },
    {
      "cell_type": "code",
      "execution_count": 30,
      "metadata": {
        "colab": {
          "base_uri": "https://localhost:8080/"
        },
        "id": "uwhOCM8I0H3X",
        "outputId": "2fdb17ed-0e47-44e1-db4b-b84cd79949cf"
      },
      "outputs": [
        {
          "data": {
            "text/plain": [
              "array([[-2.26470281,  0.4800266 , -0.12770602, -0.0241682 ],\n",
              "       [-2.08096115, -0.67413356, -0.23460885, -0.10300677],\n",
              "       [-2.36422905, -0.34190802,  0.04420148, -0.02837705],\n",
              "       [-2.29938422, -0.59739451,  0.09129011,  0.06595556],\n",
              "       [-2.38984217,  0.64683538,  0.0157382 ,  0.03592281]])"
            ]
          },
          "execution_count": 30,
          "metadata": {},
          "output_type": "execute_result"
        }
      ],
      "source": [
        "# Let's multiply (use dot product) X by pca.components_ transpose\n",
        "X.dot(pca.components_.T)[:5]"
      ]
    },
    {
      "cell_type": "markdown",
      "metadata": {
        "id": "sQnoqiZS0H3X"
      },
      "source": [
        "`pca.components_` gives us an idea of how `PC` is built. For example:"
      ]
    },
    {
      "cell_type": "code",
      "execution_count": 31,
      "metadata": {
        "colab": {
          "base_uri": "https://localhost:8080/"
        },
        "id": "EeC9ZUBh0H3Y",
        "outputId": "af13fb48-3581-4674-9684-b7f62a9fa357"
      },
      "outputs": [
        {
          "data": {
            "text/plain": [
              "array([-2.26470281, -2.08096115, -2.36422905, -2.29938422, -2.38984217])"
            ]
          },
          "execution_count": 31,
          "metadata": {},
          "output_type": "execute_result"
        }
      ],
      "source": [
        "# Get first principal component\n",
        "PC1 = PC[:, 0]\n",
        "\n",
        "# Visualize PC1\n",
        "PC1[:5]"
      ]
    },
    {
      "cell_type": "code",
      "execution_count": 8,
      "metadata": {
        "colab": {
          "base_uri": "https://localhost:8080/"
        },
        "id": "pfFf4XSq0H3Y",
        "outputId": "54b6e99f-b9f5-429e-c528-5290f2586ca3"
      },
      "outputs": [
        {
          "data": {
            "text/plain": [
              "array([ 0.52106591, -0.26934744,  0.5804131 ,  0.56485654])"
            ]
          },
          "execution_count": 8,
          "metadata": {},
          "output_type": "execute_result"
        }
      ],
      "source": [
        "# Here is the associated eigen vector\n",
        "eig_vec_1 = pca.components_[0, :]\n",
        "eig_vec_1"
      ]
    },
    {
      "cell_type": "markdown",
      "metadata": {
        "id": "yLQk85lm0H3Y"
      },
      "source": [
        "What it means is that `PC1` is a linear combination of:\n",
        "\n",
        "`0.52*Sepal Length + (-0.27)*sepal width + 0.58*petal length + 0.56*petal width`\n",
        "\n",
        "This is how we can interpret what `PC1` actually means! 💪"
      ]
    },
    {
      "cell_type": "markdown",
      "metadata": {
        "id": "U0Mrqasy0H3Y"
      },
      "source": [
        "## Visualization\n",
        "\n",
        "\n",
        "Let's now visualize our new dataset!"
      ]
    },
    {
      "cell_type": "code",
      "execution_count": 9,
      "metadata": {
        "colab": {
          "base_uri": "https://localhost:8080/",
          "height": 206
        },
        "id": "0wR5iPki0H3Z",
        "outputId": "d9975306-0689-4d9f-a053-eccc88bf7772"
      },
      "outputs": [
        {
          "data": {
            "text/html": [
              "<div>\n",
              "<style scoped>\n",
              "    .dataframe tbody tr th:only-of-type {\n",
              "        vertical-align: middle;\n",
              "    }\n",
              "\n",
              "    .dataframe tbody tr th {\n",
              "        vertical-align: top;\n",
              "    }\n",
              "\n",
              "    .dataframe thead th {\n",
              "        text-align: right;\n",
              "    }\n",
              "</style>\n",
              "<table border=\"1\" class=\"dataframe\">\n",
              "  <thead>\n",
              "    <tr style=\"text-align: right;\">\n",
              "      <th></th>\n",
              "      <th>PC1</th>\n",
              "      <th>PC2</th>\n",
              "    </tr>\n",
              "  </thead>\n",
              "  <tbody>\n",
              "    <tr>\n",
              "      <th>0</th>\n",
              "      <td>-2.264703</td>\n",
              "      <td>0.480027</td>\n",
              "    </tr>\n",
              "    <tr>\n",
              "      <th>1</th>\n",
              "      <td>-2.080961</td>\n",
              "      <td>-0.674134</td>\n",
              "    </tr>\n",
              "    <tr>\n",
              "      <th>2</th>\n",
              "      <td>-2.364229</td>\n",
              "      <td>-0.341908</td>\n",
              "    </tr>\n",
              "    <tr>\n",
              "      <th>3</th>\n",
              "      <td>-2.299384</td>\n",
              "      <td>-0.597395</td>\n",
              "    </tr>\n",
              "    <tr>\n",
              "      <th>4</th>\n",
              "      <td>-2.389842</td>\n",
              "      <td>0.646835</td>\n",
              "    </tr>\n",
              "  </tbody>\n",
              "</table>\n",
              "</div>"
            ],
            "text/plain": [
              "        PC1       PC2\n",
              "0 -2.264703  0.480027\n",
              "1 -2.080961 -0.674134\n",
              "2 -2.364229 -0.341908\n",
              "3 -2.299384 -0.597395\n",
              "4 -2.389842  0.646835"
            ]
          },
          "execution_count": 9,
          "metadata": {},
          "output_type": "execute_result"
        }
      ],
      "source": [
        "# Import pandas\n",
        "import pandas as pd\n",
        "\n",
        "# Convert PC into a DataFrame\n",
        "PC = pd.DataFrame(data=PC, columns=[\"PC1\", \"PC2\"])\n",
        "\n",
        "# PC Head\n",
        "PC.head()"
      ]
    },
    {
      "cell_type": "code",
      "execution_count": 10,
      "metadata": {
        "colab": {
          "base_uri": "https://localhost:8080/",
          "height": 522
        },
        "id": "LQQiYDIJ0H3Z",
        "outputId": "0f50ca4a-7407-484e-ecbe-77c482b3e4c2"
      },
      "outputs": [
        {
          "data": {
            "application/vnd.plotly.v1+json": {
              "config": {
                "plotlyServerURL": "https://plot.ly"
              },
              "data": [
                {
                  "hovertemplate": "PC1=%{x}<br>PC2=%{y}<extra></extra>",
                  "legendgroup": "",
                  "marker": {
                    "color": "#636efa",
                    "symbol": "circle"
                  },
                  "mode": "markers",
                  "name": "",
                  "orientation": "v",
                  "showlegend": false,
                  "type": "scatter",
                  "x": [
                    -2.264702808807591,
                    -2.0809611519657696,
                    -2.3642290538902997,
                    -2.299384217042708,
                    -2.3898421663138447,
                    -2.075630948176512,
                    -2.4440288351341524,
                    -2.2328471588720147,
                    -2.3346404779076213,
                    -2.184328174933942,
                    -2.1663101007013226,
                    -2.3261308664426985,
                    -2.2184508988224088,
                    -2.6331006957652274,
                    -2.1987406032666894,
                    -2.262214531601021,
                    -2.207587695824592,
                    -2.190349509192298,
                    -1.8985719958028417,
                    -2.343369053074993,
                    -1.9143229960825678,
                    -2.207012843194798,
                    -2.7743447029273325,
                    -1.818669528695849,
                    -2.2271633057066387,
                    -1.951846330900375,
                    -2.0511513727294153,
                    -2.1685771746542164,
                    -2.1395634513013313,
                    -2.2652614931542407,
                    -2.1401221356479843,
                    -1.8315947706760278,
                    -2.6149479358589347,
                    -2.446177391696515,
                    -2.109974875318652,
                    -2.207808899078265,
                    -2.045146206754201,
                    -2.527331913170486,
                    -2.429632575084546,
                    -2.169710711630663,
                    -2.28647514334567,
                    -1.8581224563735708,
                    -2.553638395614356,
                    -1.9644476837637403,
                    -2.137059005811623,
                    -2.0697442995918296,
                    -2.384733165778263,
                    -2.394376314219633,
                    -2.2294465479426746,
                    -2.20383343551913,
                    1.101781183052948,
                    0.7313374253960874,
                    1.2409793195158312,
                    0.40748305881738517,
                    1.0754747006090786,
                    0.38868733653566484,
                    0.7465297413291606,
                    -0.4873227421256395,
                    0.9279016383549453,
                    0.011426188736980163,
                    -0.11019628000062884,
                    0.4406934489830784,
                    0.5621083064431792,
                    0.7195618886754965,
                    -0.03335470317877213,
                    0.8754071908577379,
                    0.3502516679950826,
                    0.15881004754797134,
                    1.2250936335624323,
                    0.16491789938632737,
                    0.7376826487712581,
                    0.4762871909409715,
                    1.2341780976571493,
                    0.6328581997098217,
                    0.7026611831361824,
                    0.8742736538812904,
                    1.2565091165418834,
                    1.358405121440632,
                    0.6648003672253948,
                    -0.040258610900595175,
                    0.13079517549786074,
                    0.023452688970550976,
                    0.24153827295451105,
                    1.0610946088426139,
                    0.22397877351237966,
                    0.42913911551616046,
                    1.0487280512090877,
                    1.0445313843962793,
                    0.06958832111642291,
                    0.2834772382875755,
                    0.27907777605546075,
                    0.6245697914985715,
                    0.336530370131436,
                    -0.36218338461938315,
                    0.28858623882315737,
                    0.09136065565450514,
                    0.22771686553469994,
                    0.5763882886534788,
                    -0.44766701902861156,
                    0.25673058888758477,
                    1.844568867723029,
                    1.1578816132057799,
                    2.205266791075378,
                    1.4401506638275396,
                    1.8678122203305374,
                    2.7518733356662763,
                    0.3670176878607243,
                    2.302439444625197,
                    2.006686467676606,
                    2.2597773490125004,
                    1.3641754921860079,
                    1.6026786704779306,
                    1.8839007017032428,
                    1.260115099197508,
                    1.4676452010173242,
                    1.5900773176145657,
                    1.4714314611333184,
                    2.4263289873157,
                    3.310695583933888,
                    1.2637666736398283,
                    2.0377163014694046,
                    0.9779807342494216,
                    2.8976514907341695,
                    1.3332321759732093,
                    1.700733897491217,
                    1.954326705853071,
                    1.1751036315549328,
                    1.020950550695791,
                    1.788349920179666,
                    1.863647553328261,
                    2.435953727922704,
                    2.3049277218317643,
                    1.8627032197949558,
                    1.1141477406864748,
                    1.2024733016783906,
                    2.7987704475781086,
                    1.576255910194754,
                    1.3462921036270616,
                    0.9248249165424193,
                    1.8520450517676703,
                    2.014810429954876,
                    1.9017840902621894,
                    1.1578816132057799,
                    2.040558228052092,
                    1.9981470959523764,
                    1.8705032929564112,
                    1.5645804830303283,
                    1.5211704996278381,
                    1.3727877895140728,
                    0.9606560300371276
                  ],
                  "xaxis": "x",
                  "y": [
                    0.48002659652098956,
                    -0.6741335566053532,
                    -0.34190802388467617,
                    -0.5973945076746755,
                    0.646835382902026,
                    1.4891775233211653,
                    0.04764419763001386,
                    0.22314807268959116,
                    -1.1153276754616657,
                    -0.46901356140237577,
                    1.0436906530538588,
                    0.13307833523923118,
                    -0.7286761653165706,
                    -0.9615067291701623,
                    1.8600571132939288,
                    2.68628448511059,
                    1.4836093631555707,
                    0.4888383164863269,
                    1.4050187944665478,
                    1.1278493819084752,
                    0.4088557077559054,
                    0.9241214267468976,
                    0.45834366775291474,
                    0.08555852628736567,
                    0.13725445536342695,
                    -0.6256185877766766,
                    0.24216355266166645,
                    0.5271495253082665,
                    0.3132178101399511,
                    -0.3377319037604805,
                    -0.5045406901415183,
                    0.423695067603785,
                    1.793575856104427,
                    2.150727877392922,
                    -0.46020184143703735,
                    -0.20610739768843725,
                    0.661558111463107,
                    0.592292774190809,
                    -0.9041800403761476,
                    0.26887896143547013,
                    0.44171538769904933,
                    -2.337415157553346,
                    -0.47910069012231377,
                    0.47232666771926013,
                    1.1422292620394079,
                    -0.7110527253858938,
                    1.1204297019845353,
                    -0.3862468725891572,
                    0.9979597643079792,
                    0.009216357521275823,
                    0.8629724182621581,
                    0.5946147256694241,
                    0.6162976544374976,
                    -1.754403989323409,
                    -0.20842104605096543,
                    -0.5932836359900745,
                    0.773019312098596,
                    -1.8524290868575723,
                    0.032226077891153594,
                    -1.0340182751294396,
                    -2.654072818536562,
                    -0.06329518843800136,
                    -1.7647243806169437,
                    -0.18622460583150552,
                    -0.43900320998162434,
                    0.509063956773408,
                    -0.19631173455144352,
                    -0.7920957424327206,
                    -1.6222438030915007,
                    -1.3026092302957712,
                    0.3965715619602389,
                    -0.41732028121355075,
                    -0.9333257287992776,
                    -0.41638772088909903,
                    -0.06341181972480026,
                    0.25079339290061164,
                    -0.07725601969586916,
                    0.33131168179089776,
                    -0.22592785469484336,
                    -1.0587185465539082,
                    -1.562271834209966,
                    -1.572475594216703,
                    -0.7772563825848413,
                    -0.6338432447349461,
                    -0.2877735120432017,
                    0.8455822409050783,
                    0.5220517968629421,
                    -1.3829887191907808,
                    -0.2195033346477146,
                    -1.3293246390695754,
                    -1.1200285237424024,
                    0.024923029254012758,
                    -0.9884040176703592,
                    -2.01923787323861,
                    -0.8557303199870653,
                    -0.18119212582577499,
                    -0.3849200809873534,
                    -0.15487359721655874,
                    -1.543792034397755,
                    -0.5988517961556689,
                    0.870421312324823,
                    -0.6988698623306895,
                    0.5620104770083552,
                    -0.046987588105806236,
                    0.29504482445701974,
                    0.8004092010275414,
                    -1.561502891476504,
                    0.420065579642776,
                    -0.7114386535471582,
                    1.9210103764598854,
                    0.6927564544903865,
                    -0.4217004497726168,
                    0.41924965060512326,
                    -1.1622604214064625,
                    -0.44227158737708183,
                    0.6762448057233196,
                    0.2556218244714705,
                    2.5566612507954907,
                    0.017780949320627064,
                    -1.7067453803762662,
                    0.9104674096183101,
                    -0.571764324812991,
                    0.41364105959564734,
                    -0.4818112186494291,
                    1.013921867322791,
                    1.0077775961534516,
                    -0.31639447230979073,
                    0.06434602923956201,
                    -0.18736121459082855,
                    0.562290725886144,
                    0.2592844331442798,
                    2.6263234682323766,
                    -0.17854949462549016,
                    -0.2929226233357311,
                    -0.8113152708396677,
                    0.8568033294971046,
                    1.0685811073208071,
                    0.4224306108525082,
                    0.017223100452284326,
                    0.6761281744365207,
                    0.6138856369235747,
                    0.6895754942430017,
                    -0.6988698623306895,
                    0.8675206009552279,
                    1.0491687471841444,
                    0.3869660816657251,
                    -0.8966868088965253,
                    0.2690691442779515,
                    1.0112544185267924,
                    -0.02433166816939896
                  ],
                  "yaxis": "y"
                }
              ],
              "layout": {
                "legend": {
                  "tracegroupgap": 0
                },
                "margin": {
                  "t": 60
                },
                "template": {
                  "data": {
                    "bar": [
                      {
                        "error_x": {
                          "color": "#2a3f5f"
                        },
                        "error_y": {
                          "color": "#2a3f5f"
                        },
                        "marker": {
                          "line": {
                            "color": "#E5ECF6",
                            "width": 0.5
                          },
                          "pattern": {
                            "fillmode": "overlay",
                            "size": 10,
                            "solidity": 0.2
                          }
                        },
                        "type": "bar"
                      }
                    ],
                    "barpolar": [
                      {
                        "marker": {
                          "line": {
                            "color": "#E5ECF6",
                            "width": 0.5
                          },
                          "pattern": {
                            "fillmode": "overlay",
                            "size": 10,
                            "solidity": 0.2
                          }
                        },
                        "type": "barpolar"
                      }
                    ],
                    "carpet": [
                      {
                        "aaxis": {
                          "endlinecolor": "#2a3f5f",
                          "gridcolor": "white",
                          "linecolor": "white",
                          "minorgridcolor": "white",
                          "startlinecolor": "#2a3f5f"
                        },
                        "baxis": {
                          "endlinecolor": "#2a3f5f",
                          "gridcolor": "white",
                          "linecolor": "white",
                          "minorgridcolor": "white",
                          "startlinecolor": "#2a3f5f"
                        },
                        "type": "carpet"
                      }
                    ],
                    "choropleth": [
                      {
                        "colorbar": {
                          "outlinewidth": 0,
                          "ticks": ""
                        },
                        "type": "choropleth"
                      }
                    ],
                    "contour": [
                      {
                        "colorbar": {
                          "outlinewidth": 0,
                          "ticks": ""
                        },
                        "colorscale": [
                          [
                            0,
                            "#0d0887"
                          ],
                          [
                            0.1111111111111111,
                            "#46039f"
                          ],
                          [
                            0.2222222222222222,
                            "#7201a8"
                          ],
                          [
                            0.3333333333333333,
                            "#9c179e"
                          ],
                          [
                            0.4444444444444444,
                            "#bd3786"
                          ],
                          [
                            0.5555555555555556,
                            "#d8576b"
                          ],
                          [
                            0.6666666666666666,
                            "#ed7953"
                          ],
                          [
                            0.7777777777777778,
                            "#fb9f3a"
                          ],
                          [
                            0.8888888888888888,
                            "#fdca26"
                          ],
                          [
                            1,
                            "#f0f921"
                          ]
                        ],
                        "type": "contour"
                      }
                    ],
                    "contourcarpet": [
                      {
                        "colorbar": {
                          "outlinewidth": 0,
                          "ticks": ""
                        },
                        "type": "contourcarpet"
                      }
                    ],
                    "heatmap": [
                      {
                        "colorbar": {
                          "outlinewidth": 0,
                          "ticks": ""
                        },
                        "colorscale": [
                          [
                            0,
                            "#0d0887"
                          ],
                          [
                            0.1111111111111111,
                            "#46039f"
                          ],
                          [
                            0.2222222222222222,
                            "#7201a8"
                          ],
                          [
                            0.3333333333333333,
                            "#9c179e"
                          ],
                          [
                            0.4444444444444444,
                            "#bd3786"
                          ],
                          [
                            0.5555555555555556,
                            "#d8576b"
                          ],
                          [
                            0.6666666666666666,
                            "#ed7953"
                          ],
                          [
                            0.7777777777777778,
                            "#fb9f3a"
                          ],
                          [
                            0.8888888888888888,
                            "#fdca26"
                          ],
                          [
                            1,
                            "#f0f921"
                          ]
                        ],
                        "type": "heatmap"
                      }
                    ],
                    "heatmapgl": [
                      {
                        "colorbar": {
                          "outlinewidth": 0,
                          "ticks": ""
                        },
                        "colorscale": [
                          [
                            0,
                            "#0d0887"
                          ],
                          [
                            0.1111111111111111,
                            "#46039f"
                          ],
                          [
                            0.2222222222222222,
                            "#7201a8"
                          ],
                          [
                            0.3333333333333333,
                            "#9c179e"
                          ],
                          [
                            0.4444444444444444,
                            "#bd3786"
                          ],
                          [
                            0.5555555555555556,
                            "#d8576b"
                          ],
                          [
                            0.6666666666666666,
                            "#ed7953"
                          ],
                          [
                            0.7777777777777778,
                            "#fb9f3a"
                          ],
                          [
                            0.8888888888888888,
                            "#fdca26"
                          ],
                          [
                            1,
                            "#f0f921"
                          ]
                        ],
                        "type": "heatmapgl"
                      }
                    ],
                    "histogram": [
                      {
                        "marker": {
                          "pattern": {
                            "fillmode": "overlay",
                            "size": 10,
                            "solidity": 0.2
                          }
                        },
                        "type": "histogram"
                      }
                    ],
                    "histogram2d": [
                      {
                        "colorbar": {
                          "outlinewidth": 0,
                          "ticks": ""
                        },
                        "colorscale": [
                          [
                            0,
                            "#0d0887"
                          ],
                          [
                            0.1111111111111111,
                            "#46039f"
                          ],
                          [
                            0.2222222222222222,
                            "#7201a8"
                          ],
                          [
                            0.3333333333333333,
                            "#9c179e"
                          ],
                          [
                            0.4444444444444444,
                            "#bd3786"
                          ],
                          [
                            0.5555555555555556,
                            "#d8576b"
                          ],
                          [
                            0.6666666666666666,
                            "#ed7953"
                          ],
                          [
                            0.7777777777777778,
                            "#fb9f3a"
                          ],
                          [
                            0.8888888888888888,
                            "#fdca26"
                          ],
                          [
                            1,
                            "#f0f921"
                          ]
                        ],
                        "type": "histogram2d"
                      }
                    ],
                    "histogram2dcontour": [
                      {
                        "colorbar": {
                          "outlinewidth": 0,
                          "ticks": ""
                        },
                        "colorscale": [
                          [
                            0,
                            "#0d0887"
                          ],
                          [
                            0.1111111111111111,
                            "#46039f"
                          ],
                          [
                            0.2222222222222222,
                            "#7201a8"
                          ],
                          [
                            0.3333333333333333,
                            "#9c179e"
                          ],
                          [
                            0.4444444444444444,
                            "#bd3786"
                          ],
                          [
                            0.5555555555555556,
                            "#d8576b"
                          ],
                          [
                            0.6666666666666666,
                            "#ed7953"
                          ],
                          [
                            0.7777777777777778,
                            "#fb9f3a"
                          ],
                          [
                            0.8888888888888888,
                            "#fdca26"
                          ],
                          [
                            1,
                            "#f0f921"
                          ]
                        ],
                        "type": "histogram2dcontour"
                      }
                    ],
                    "mesh3d": [
                      {
                        "colorbar": {
                          "outlinewidth": 0,
                          "ticks": ""
                        },
                        "type": "mesh3d"
                      }
                    ],
                    "parcoords": [
                      {
                        "line": {
                          "colorbar": {
                            "outlinewidth": 0,
                            "ticks": ""
                          }
                        },
                        "type": "parcoords"
                      }
                    ],
                    "pie": [
                      {
                        "automargin": true,
                        "type": "pie"
                      }
                    ],
                    "scatter": [
                      {
                        "fillpattern": {
                          "fillmode": "overlay",
                          "size": 10,
                          "solidity": 0.2
                        },
                        "type": "scatter"
                      }
                    ],
                    "scatter3d": [
                      {
                        "line": {
                          "colorbar": {
                            "outlinewidth": 0,
                            "ticks": ""
                          }
                        },
                        "marker": {
                          "colorbar": {
                            "outlinewidth": 0,
                            "ticks": ""
                          }
                        },
                        "type": "scatter3d"
                      }
                    ],
                    "scattercarpet": [
                      {
                        "marker": {
                          "colorbar": {
                            "outlinewidth": 0,
                            "ticks": ""
                          }
                        },
                        "type": "scattercarpet"
                      }
                    ],
                    "scattergeo": [
                      {
                        "marker": {
                          "colorbar": {
                            "outlinewidth": 0,
                            "ticks": ""
                          }
                        },
                        "type": "scattergeo"
                      }
                    ],
                    "scattergl": [
                      {
                        "marker": {
                          "colorbar": {
                            "outlinewidth": 0,
                            "ticks": ""
                          }
                        },
                        "type": "scattergl"
                      }
                    ],
                    "scattermapbox": [
                      {
                        "marker": {
                          "colorbar": {
                            "outlinewidth": 0,
                            "ticks": ""
                          }
                        },
                        "type": "scattermapbox"
                      }
                    ],
                    "scatterpolar": [
                      {
                        "marker": {
                          "colorbar": {
                            "outlinewidth": 0,
                            "ticks": ""
                          }
                        },
                        "type": "scatterpolar"
                      }
                    ],
                    "scatterpolargl": [
                      {
                        "marker": {
                          "colorbar": {
                            "outlinewidth": 0,
                            "ticks": ""
                          }
                        },
                        "type": "scatterpolargl"
                      }
                    ],
                    "scatterternary": [
                      {
                        "marker": {
                          "colorbar": {
                            "outlinewidth": 0,
                            "ticks": ""
                          }
                        },
                        "type": "scatterternary"
                      }
                    ],
                    "surface": [
                      {
                        "colorbar": {
                          "outlinewidth": 0,
                          "ticks": ""
                        },
                        "colorscale": [
                          [
                            0,
                            "#0d0887"
                          ],
                          [
                            0.1111111111111111,
                            "#46039f"
                          ],
                          [
                            0.2222222222222222,
                            "#7201a8"
                          ],
                          [
                            0.3333333333333333,
                            "#9c179e"
                          ],
                          [
                            0.4444444444444444,
                            "#bd3786"
                          ],
                          [
                            0.5555555555555556,
                            "#d8576b"
                          ],
                          [
                            0.6666666666666666,
                            "#ed7953"
                          ],
                          [
                            0.7777777777777778,
                            "#fb9f3a"
                          ],
                          [
                            0.8888888888888888,
                            "#fdca26"
                          ],
                          [
                            1,
                            "#f0f921"
                          ]
                        ],
                        "type": "surface"
                      }
                    ],
                    "table": [
                      {
                        "cells": {
                          "fill": {
                            "color": "#EBF0F8"
                          },
                          "line": {
                            "color": "white"
                          }
                        },
                        "header": {
                          "fill": {
                            "color": "#C8D4E3"
                          },
                          "line": {
                            "color": "white"
                          }
                        },
                        "type": "table"
                      }
                    ]
                  },
                  "layout": {
                    "annotationdefaults": {
                      "arrowcolor": "#2a3f5f",
                      "arrowhead": 0,
                      "arrowwidth": 1
                    },
                    "autotypenumbers": "strict",
                    "coloraxis": {
                      "colorbar": {
                        "outlinewidth": 0,
                        "ticks": ""
                      }
                    },
                    "colorscale": {
                      "diverging": [
                        [
                          0,
                          "#8e0152"
                        ],
                        [
                          0.1,
                          "#c51b7d"
                        ],
                        [
                          0.2,
                          "#de77ae"
                        ],
                        [
                          0.3,
                          "#f1b6da"
                        ],
                        [
                          0.4,
                          "#fde0ef"
                        ],
                        [
                          0.5,
                          "#f7f7f7"
                        ],
                        [
                          0.6,
                          "#e6f5d0"
                        ],
                        [
                          0.7,
                          "#b8e186"
                        ],
                        [
                          0.8,
                          "#7fbc41"
                        ],
                        [
                          0.9,
                          "#4d9221"
                        ],
                        [
                          1,
                          "#276419"
                        ]
                      ],
                      "sequential": [
                        [
                          0,
                          "#0d0887"
                        ],
                        [
                          0.1111111111111111,
                          "#46039f"
                        ],
                        [
                          0.2222222222222222,
                          "#7201a8"
                        ],
                        [
                          0.3333333333333333,
                          "#9c179e"
                        ],
                        [
                          0.4444444444444444,
                          "#bd3786"
                        ],
                        [
                          0.5555555555555556,
                          "#d8576b"
                        ],
                        [
                          0.6666666666666666,
                          "#ed7953"
                        ],
                        [
                          0.7777777777777778,
                          "#fb9f3a"
                        ],
                        [
                          0.8888888888888888,
                          "#fdca26"
                        ],
                        [
                          1,
                          "#f0f921"
                        ]
                      ],
                      "sequentialminus": [
                        [
                          0,
                          "#0d0887"
                        ],
                        [
                          0.1111111111111111,
                          "#46039f"
                        ],
                        [
                          0.2222222222222222,
                          "#7201a8"
                        ],
                        [
                          0.3333333333333333,
                          "#9c179e"
                        ],
                        [
                          0.4444444444444444,
                          "#bd3786"
                        ],
                        [
                          0.5555555555555556,
                          "#d8576b"
                        ],
                        [
                          0.6666666666666666,
                          "#ed7953"
                        ],
                        [
                          0.7777777777777778,
                          "#fb9f3a"
                        ],
                        [
                          0.8888888888888888,
                          "#fdca26"
                        ],
                        [
                          1,
                          "#f0f921"
                        ]
                      ]
                    },
                    "colorway": [
                      "#636efa",
                      "#EF553B",
                      "#00cc96",
                      "#ab63fa",
                      "#FFA15A",
                      "#19d3f3",
                      "#FF6692",
                      "#B6E880",
                      "#FF97FF",
                      "#FECB52"
                    ],
                    "font": {
                      "color": "#2a3f5f"
                    },
                    "geo": {
                      "bgcolor": "white",
                      "lakecolor": "white",
                      "landcolor": "#E5ECF6",
                      "showlakes": true,
                      "showland": true,
                      "subunitcolor": "white"
                    },
                    "hoverlabel": {
                      "align": "left"
                    },
                    "hovermode": "closest",
                    "mapbox": {
                      "style": "light"
                    },
                    "paper_bgcolor": "white",
                    "plot_bgcolor": "#E5ECF6",
                    "polar": {
                      "angularaxis": {
                        "gridcolor": "white",
                        "linecolor": "white",
                        "ticks": ""
                      },
                      "bgcolor": "#E5ECF6",
                      "radialaxis": {
                        "gridcolor": "white",
                        "linecolor": "white",
                        "ticks": ""
                      }
                    },
                    "scene": {
                      "xaxis": {
                        "backgroundcolor": "#E5ECF6",
                        "gridcolor": "white",
                        "gridwidth": 2,
                        "linecolor": "white",
                        "showbackground": true,
                        "ticks": "",
                        "zerolinecolor": "white"
                      },
                      "yaxis": {
                        "backgroundcolor": "#E5ECF6",
                        "gridcolor": "white",
                        "gridwidth": 2,
                        "linecolor": "white",
                        "showbackground": true,
                        "ticks": "",
                        "zerolinecolor": "white"
                      },
                      "zaxis": {
                        "backgroundcolor": "#E5ECF6",
                        "gridcolor": "white",
                        "gridwidth": 2,
                        "linecolor": "white",
                        "showbackground": true,
                        "ticks": "",
                        "zerolinecolor": "white"
                      }
                    },
                    "shapedefaults": {
                      "line": {
                        "color": "#2a3f5f"
                      }
                    },
                    "ternary": {
                      "aaxis": {
                        "gridcolor": "white",
                        "linecolor": "white",
                        "ticks": ""
                      },
                      "baxis": {
                        "gridcolor": "white",
                        "linecolor": "white",
                        "ticks": ""
                      },
                      "bgcolor": "#E5ECF6",
                      "caxis": {
                        "gridcolor": "white",
                        "linecolor": "white",
                        "ticks": ""
                      }
                    },
                    "title": {
                      "x": 0.05
                    },
                    "xaxis": {
                      "automargin": true,
                      "gridcolor": "white",
                      "linecolor": "white",
                      "ticks": "",
                      "title": {
                        "standoff": 15
                      },
                      "zerolinecolor": "white",
                      "zerolinewidth": 2
                    },
                    "yaxis": {
                      "automargin": true,
                      "gridcolor": "white",
                      "linecolor": "white",
                      "ticks": "",
                      "title": {
                        "standoff": 15
                      },
                      "zerolinecolor": "white",
                      "zerolinewidth": 2
                    }
                  }
                },
                "xaxis": {
                  "anchor": "y",
                  "domain": [
                    0,
                    1
                  ],
                  "title": {
                    "text": "PC1"
                  }
                },
                "yaxis": {
                  "anchor": "x",
                  "domain": [
                    0,
                    1
                  ],
                  "title": {
                    "text": "PC2"
                  }
                }
              }
            }
          },
          "metadata": {},
          "output_type": "display_data"
        }
      ],
      "source": [
        "# Import plotly\n",
        "import plotly.express as px\n",
        "\n",
        "# Create scatterplot\n",
        "fig = px.scatter(data_frame=PC, x=\"PC1\", y=\"PC2\")\n",
        "\n",
        "# Show scatterplot\n",
        "fig.show()"
      ]
    },
    {
      "cell_type": "code",
      "execution_count": 11,
      "metadata": {
        "colab": {
          "base_uri": "https://localhost:8080/"
        },
        "id": "zMIxtz9hRZJh",
        "outputId": "9bee4e60-8862-419d-fa7e-4ec2bd96035f"
      },
      "outputs": [
        {
          "data": {
            "text/plain": [
              "array([0.72962445, 0.22850762])"
            ]
          },
          "execution_count": 11,
          "metadata": {},
          "output_type": "execute_result"
        }
      ],
      "source": [
        "pca.explained_variance_ratio_"
      ]
    },
    {
      "cell_type": "markdown",
      "metadata": {
        "id": "83IkxAOi0H3Z"
      },
      "source": [
        "We can clearly visualize two clusters thanks to PCA! 🎉"
      ]
    },
    {
      "cell_type": "markdown",
      "metadata": {
        "id": "ZTfps2h-0H3Z"
      },
      "source": [
        "## What is the link between PCA and SVD?\n",
        "\n",
        "At this point, you might be feeling that Scikit Learn is a little too much under the hood to understand fully how PCA works. If that's your case, you can read this section.\n",
        "\n",
        "> It is completely optional, it is for you to have a better understanding of the concept but  you can definitely stick with `sklearn`."
      ]
    },
    {
      "cell_type": "markdown",
      "metadata": {
        "id": "Q44YJemH0H3a"
      },
      "source": [
        "Let's remind what SVD is:\n",
        "\n",
        "$$A = U\\Sigma V^\\intercal$$\n",
        "\n",
        "It basically says that we can decompose any matrix into 3 matrices containing $eigen-vectors$ and $eigen-values$ of the covariance matrix.\n",
        "\n",
        "Let's take back our `X` matrix (which is already normalized)."
      ]
    },
    {
      "cell_type": "code",
      "execution_count": 12,
      "metadata": {
        "colab": {
          "base_uri": "https://localhost:8080/"
        },
        "id": "diL-zBDF0H3a",
        "outputId": "4c6e638d-d08e-4886-9ede-06a977b3d42f"
      },
      "outputs": [
        {
          "data": {
            "text/plain": [
              "array([[-0.90068117,  1.01900435, -1.34022653, -1.3154443 ],\n",
              "       [-1.14301691, -0.13197948, -1.34022653, -1.3154443 ],\n",
              "       [-1.38535265,  0.32841405, -1.39706395, -1.3154443 ],\n",
              "       [-1.50652052,  0.09821729, -1.2833891 , -1.3154443 ],\n",
              "       [-1.02184904,  1.24920112, -1.34022653, -1.3154443 ]])"
            ]
          },
          "execution_count": 12,
          "metadata": {},
          "output_type": "execute_result"
        }
      ],
      "source": [
        "# Here is our normalized iris dataset\n",
        "X[:5]"
      ]
    },
    {
      "cell_type": "markdown",
      "metadata": {
        "id": "gFh9t5Pa0H3a"
      },
      "source": [
        "We can use `numpy` to get $eigen-values$ and $eigen-vectors$. We need first to get the covariance matrix."
      ]
    },
    {
      "cell_type": "code",
      "execution_count": 13,
      "metadata": {
        "colab": {
          "base_uri": "https://localhost:8080/",
          "height": 175
        },
        "id": "mTfj9A7K0H3a",
        "outputId": "abcd7bd4-ae40-4816-cfb6-b5c1428bea39"
      },
      "outputs": [
        {
          "data": {
            "text/html": [
              "<div>\n",
              "<style scoped>\n",
              "    .dataframe tbody tr th:only-of-type {\n",
              "        vertical-align: middle;\n",
              "    }\n",
              "\n",
              "    .dataframe tbody tr th {\n",
              "        vertical-align: top;\n",
              "    }\n",
              "\n",
              "    .dataframe thead th {\n",
              "        text-align: right;\n",
              "    }\n",
              "</style>\n",
              "<table border=\"1\" class=\"dataframe\">\n",
              "  <thead>\n",
              "    <tr style=\"text-align: right;\">\n",
              "      <th></th>\n",
              "      <th>0</th>\n",
              "      <th>1</th>\n",
              "      <th>2</th>\n",
              "      <th>3</th>\n",
              "    </tr>\n",
              "  </thead>\n",
              "  <tbody>\n",
              "    <tr>\n",
              "      <th>0</th>\n",
              "      <td>150.000000</td>\n",
              "      <td>-17.635468</td>\n",
              "      <td>130.763066</td>\n",
              "      <td>122.691169</td>\n",
              "    </tr>\n",
              "    <tr>\n",
              "      <th>1</th>\n",
              "      <td>-17.635468</td>\n",
              "      <td>150.000000</td>\n",
              "      <td>-64.266016</td>\n",
              "      <td>-54.918890</td>\n",
              "    </tr>\n",
              "    <tr>\n",
              "      <th>2</th>\n",
              "      <td>130.763066</td>\n",
              "      <td>-64.266016</td>\n",
              "      <td>150.000000</td>\n",
              "      <td>144.429815</td>\n",
              "    </tr>\n",
              "    <tr>\n",
              "      <th>3</th>\n",
              "      <td>122.691169</td>\n",
              "      <td>-54.918890</td>\n",
              "      <td>144.429815</td>\n",
              "      <td>150.000000</td>\n",
              "    </tr>\n",
              "  </tbody>\n",
              "</table>\n",
              "</div>"
            ],
            "text/plain": [
              "            0           1           2           3\n",
              "0  150.000000  -17.635468  130.763066  122.691169\n",
              "1  -17.635468  150.000000  -64.266016  -54.918890\n",
              "2  130.763066  -64.266016  150.000000  144.429815\n",
              "3  122.691169  -54.918890  144.429815  150.000000"
            ]
          },
          "execution_count": 13,
          "metadata": {},
          "output_type": "execute_result"
        }
      ],
      "source": [
        "# Import numpy\n",
        "import numpy as np\n",
        "\n",
        "# Calculate covariance matrix by multiplying Xt by X\n",
        "cov_mat = X.T.dot(X)\n",
        "\n",
        "# Let's use Pandas to visualize our covariance matrix better\n",
        "pd.DataFrame(cov_mat)"
      ]
    },
    {
      "cell_type": "code",
      "execution_count": null,
      "metadata": {},
      "outputs": [],
      "source": []
    },
    {
      "cell_type": "markdown",
      "metadata": {
        "id": "T2xlLnPh0H3b"
      },
      "source": [
        "🚨 Here we multiplied $X^\\intercal$ by $X$. The reason why is because initally is $X$ is a matrix with vectors in columns whereas we need a matrix with vectors in rows to make SVD work. In any case it boils down to the same output. 🚨"
      ]
    },
    {
      "cell_type": "markdown",
      "metadata": {
        "id": "DN3ZKcl-0H3b"
      },
      "source": [
        "Let's now get the $eigen - values$ and $eigen-vectors$ with `numpy`"
      ]
    },
    {
      "cell_type": "code",
      "execution_count": 14,
      "metadata": {
        "colab": {
          "base_uri": "https://localhost:8080/"
        },
        "id": "R1u4Ha5T0H3b",
        "outputId": "773ae484-1ad5-464b-fdfd-5435dbc30e97"
      },
      "outputs": [
        {
          "data": {
            "text/plain": [
              "(array([437.77467248, 137.10457072,  22.01353134,   3.10722546]),\n",
              " array([[ 0.52106591, -0.37741762, -0.71956635,  0.26128628],\n",
              "        [-0.26934744, -0.92329566,  0.24438178, -0.12350962],\n",
              "        [ 0.5804131 , -0.02449161,  0.14212637, -0.80144925],\n",
              "        [ 0.56485654, -0.06694199,  0.63427274,  0.52359713]]))"
            ]
          },
          "execution_count": 14,
          "metadata": {},
          "output_type": "execute_result"
        }
      ],
      "source": [
        "# Use .linealg.eig to get eigen values and eigen vectors\n",
        "eig_val, eig_vec = np.linalg.eig(cov_mat)\n",
        "\n",
        "# Visualize both variables\n",
        "eig_val, eig_vec"
      ]
    },
    {
      "cell_type": "markdown",
      "metadata": {
        "id": "aX1JwTFC0H3b"
      },
      "source": [
        "Let's now compare the `eig_vec` with `pca.components_`"
      ]
    },
    {
      "cell_type": "code",
      "execution_count": 15,
      "metadata": {
        "colab": {
          "base_uri": "https://localhost:8080/"
        },
        "id": "fiRc9-v50H3b",
        "outputId": "98e32cb1-e432-45a0-d1d0-9a2dc7e1db5a"
      },
      "outputs": [
        {
          "name": "stdout",
          "output_type": "stream",
          "text": [
            "Eigen Vectors\n",
            "[[ 0.52106591 -0.26934744  0.5804131   0.56485654]\n",
            " [-0.37741762 -0.92329566 -0.02449161 -0.06694199]]\n",
            "\n",
            "Principal components using sklearn\n",
            "[[ 0.52106591 -0.26934744  0.5804131   0.56485654]\n",
            " [ 0.37741762  0.92329566  0.02449161  0.06694199]]\n"
          ]
        }
      ],
      "source": [
        "# Let's transpose Eigen Vectors and print out the first two rows\n",
        "print(\"Eigen Vectors\")\n",
        "print(eig_vec.T[:2, :])\n",
        "\n",
        "# Add simple space\n",
        "print()\n",
        "\n",
        "# Print out pca components_\n",
        "print(\"Principal components using sklearn\")\n",
        "print(pca.components_)"
      ]
    },
    {
      "cell_type": "markdown",
      "metadata": {
        "id": "xgqKqEAx0H3c"
      },
      "source": [
        "As you can see both are exactly the same!\n",
        "\n",
        "> You might say that signs are not exactly equals, well actually signs are symetric so it comes down to the same thing in vector terms."
      ]
    },
    {
      "cell_type": "markdown",
      "metadata": {
        "id": "gpoPImYH0H3c"
      },
      "source": [
        "Let's now multiply `eig_vec` by `X` and see what we get!"
      ]
    },
    {
      "cell_type": "code",
      "execution_count": 16,
      "metadata": {
        "colab": {
          "base_uri": "https://localhost:8080/"
        },
        "id": "Flb6JE340H3c",
        "outputId": "fa525769-93ce-49ed-8102-4384eeb73382"
      },
      "outputs": [
        {
          "data": {
            "text/plain": [
              "array([[-2.26470281, -0.4800266 , -0.12770602,  0.0241682 ],\n",
              "       [-2.08096115,  0.67413356, -0.23460885,  0.10300677],\n",
              "       [-2.36422905,  0.34190802,  0.04420148,  0.02837705],\n",
              "       [-2.29938422,  0.59739451,  0.09129011, -0.06595556],\n",
              "       [-2.38984217, -0.64683538,  0.0157382 , -0.03592281]])"
            ]
          },
          "execution_count": 16,
          "metadata": {},
          "output_type": "execute_result"
        }
      ],
      "source": [
        "X.dot(eig_vec)[:5]"
      ]
    },
    {
      "cell_type": "code",
      "execution_count": 17,
      "metadata": {
        "colab": {
          "base_uri": "https://localhost:8080/"
        },
        "id": "1PYaR_qD0H3c",
        "outputId": "d6fcf05b-d32e-4c3b-d6ba-9fab28883658"
      },
      "outputs": [
        {
          "data": {
            "text/plain": [
              "array([[-2.26470281, -0.4800266 , -0.12770602,  0.0241682 ],\n",
              "       [-2.08096115,  0.67413356, -0.23460885,  0.10300677],\n",
              "       [-2.36422905,  0.34190802,  0.04420148,  0.02837705],\n",
              "       [-2.29938422,  0.59739451,  0.09129011, -0.06595556],\n",
              "       [-2.38984217, -0.64683538,  0.0157382 , -0.03592281]])"
            ]
          },
          "execution_count": 17,
          "metadata": {},
          "output_type": "execute_result"
        }
      ],
      "source": [
        "# Multiply X by eigen vectors\n",
        "X_eig_vec = X.dot(eig_vec)\n",
        "X_eig_vec[:5]"
      ]
    },
    {
      "cell_type": "code",
      "execution_count": 18,
      "metadata": {
        "colab": {
          "base_uri": "https://localhost:8080/",
          "height": 206
        },
        "id": "0aFA8sz00H3c",
        "outputId": "57400343-90c3-4f52-a014-e0b56af9f108"
      },
      "outputs": [
        {
          "data": {
            "text/html": [
              "<div>\n",
              "<style scoped>\n",
              "    .dataframe tbody tr th:only-of-type {\n",
              "        vertical-align: middle;\n",
              "    }\n",
              "\n",
              "    .dataframe tbody tr th {\n",
              "        vertical-align: top;\n",
              "    }\n",
              "\n",
              "    .dataframe thead th {\n",
              "        text-align: right;\n",
              "    }\n",
              "</style>\n",
              "<table border=\"1\" class=\"dataframe\">\n",
              "  <thead>\n",
              "    <tr style=\"text-align: right;\">\n",
              "      <th></th>\n",
              "      <th>PC1</th>\n",
              "      <th>PC2</th>\n",
              "    </tr>\n",
              "  </thead>\n",
              "  <tbody>\n",
              "    <tr>\n",
              "      <th>0</th>\n",
              "      <td>-2.264703</td>\n",
              "      <td>0.480027</td>\n",
              "    </tr>\n",
              "    <tr>\n",
              "      <th>1</th>\n",
              "      <td>-2.080961</td>\n",
              "      <td>-0.674134</td>\n",
              "    </tr>\n",
              "    <tr>\n",
              "      <th>2</th>\n",
              "      <td>-2.364229</td>\n",
              "      <td>-0.341908</td>\n",
              "    </tr>\n",
              "    <tr>\n",
              "      <th>3</th>\n",
              "      <td>-2.299384</td>\n",
              "      <td>-0.597395</td>\n",
              "    </tr>\n",
              "    <tr>\n",
              "      <th>4</th>\n",
              "      <td>-2.389842</td>\n",
              "      <td>0.646835</td>\n",
              "    </tr>\n",
              "  </tbody>\n",
              "</table>\n",
              "</div>"
            ],
            "text/plain": [
              "        PC1       PC2\n",
              "0 -2.264703  0.480027\n",
              "1 -2.080961 -0.674134\n",
              "2 -2.364229 -0.341908\n",
              "3 -2.299384 -0.597395\n",
              "4 -2.389842  0.646835"
            ]
          },
          "execution_count": 18,
          "metadata": {},
          "output_type": "execute_result"
        }
      ],
      "source": [
        "# Visualize PC\n",
        "PC[:5]"
      ]
    },
    {
      "cell_type": "markdown",
      "metadata": {
        "id": "HuYdxy8o0H3d"
      },
      "source": [
        "As you can see they are both the same! Now why do we have only 2 `PCs`? Well let's simply get the covariance matrix of `X_eig_vec`"
      ]
    },
    {
      "cell_type": "code",
      "execution_count": 19,
      "metadata": {
        "colab": {
          "base_uri": "https://localhost:8080/",
          "height": 175
        },
        "id": "dutDRt7F0H3d",
        "outputId": "e9365ab9-ebdb-43f9-c6aa-efb6977157cf"
      },
      "outputs": [
        {
          "data": {
            "text/html": [
              "<div>\n",
              "<style scoped>\n",
              "    .dataframe tbody tr th:only-of-type {\n",
              "        vertical-align: middle;\n",
              "    }\n",
              "\n",
              "    .dataframe tbody tr th {\n",
              "        vertical-align: top;\n",
              "    }\n",
              "\n",
              "    .dataframe thead th {\n",
              "        text-align: right;\n",
              "    }\n",
              "</style>\n",
              "<table border=\"1\" class=\"dataframe\">\n",
              "  <thead>\n",
              "    <tr style=\"text-align: right;\">\n",
              "      <th></th>\n",
              "      <th>0</th>\n",
              "      <th>1</th>\n",
              "      <th>2</th>\n",
              "      <th>3</th>\n",
              "    </tr>\n",
              "  </thead>\n",
              "  <tbody>\n",
              "    <tr>\n",
              "      <th>0</th>\n",
              "      <td>2.938085e+00</td>\n",
              "      <td>4.834799e-16</td>\n",
              "      <td>-8.222100e-16</td>\n",
              "      <td>3.452647e-16</td>\n",
              "    </tr>\n",
              "    <tr>\n",
              "      <th>1</th>\n",
              "      <td>4.834799e-16</td>\n",
              "      <td>9.201649e-01</td>\n",
              "      <td>5.164542e-16</td>\n",
              "      <td>1.233909e-16</td>\n",
              "    </tr>\n",
              "    <tr>\n",
              "      <th>2</th>\n",
              "      <td>-8.222100e-16</td>\n",
              "      <td>5.164542e-16</td>\n",
              "      <td>1.477418e-01</td>\n",
              "      <td>-3.292965e-16</td>\n",
              "    </tr>\n",
              "    <tr>\n",
              "      <th>3</th>\n",
              "      <td>3.452647e-16</td>\n",
              "      <td>1.233909e-16</td>\n",
              "      <td>-3.292965e-16</td>\n",
              "      <td>2.085386e-02</td>\n",
              "    </tr>\n",
              "  </tbody>\n",
              "</table>\n",
              "</div>"
            ],
            "text/plain": [
              "              0             1             2             3\n",
              "0  2.938085e+00  4.834799e-16 -8.222100e-16  3.452647e-16\n",
              "1  4.834799e-16  9.201649e-01  5.164542e-16  1.233909e-16\n",
              "2 -8.222100e-16  5.164542e-16  1.477418e-01 -3.292965e-16\n",
              "3  3.452647e-16  1.233909e-16 -3.292965e-16  2.085386e-02"
            ]
          },
          "execution_count": 19,
          "metadata": {},
          "output_type": "execute_result"
        }
      ],
      "source": [
        "# We can use Numpy of multiply by its transpose\n",
        "cov_mat_with_svd = np.cov(X_eig_vec.T) # <-- This is equal to X_eig_vec.T.dot(X_eig_vec)\n",
        "\n",
        "# Transform into pandas for better visualization\n",
        "cov_mat_with_svd = pd.DataFrame(cov_mat_with_svd)\n",
        "cov_mat_with_svd"
      ]
    },
    {
      "cell_type": "markdown",
      "metadata": {
        "id": "PD6uOOs70H3d"
      },
      "source": [
        "As you can see all the values on the off-diagonals are very close to zero while the values of the diagonals are ordered and positive. Let's actually calculate the `explained_variance_ratio`"
      ]
    },
    {
      "cell_type": "code",
      "execution_count": 20,
      "metadata": {
        "colab": {
          "base_uri": "https://localhost:8080/"
        },
        "id": "1SqvcFV20H3d",
        "outputId": "00534f1e-389a-423c-cb19-a23a0ea9b2cd"
      },
      "outputs": [
        {
          "data": {
            "text/plain": [
              "[0.7296244541329989,\n",
              " 0.2285076178670174,\n",
              " 0.036689218892828786,\n",
              " 0.005178709107154798]"
            ]
          },
          "execution_count": 20,
          "metadata": {},
          "output_type": "execute_result"
        }
      ],
      "source": [
        "# Calculate explained variance for each pcs\n",
        "# Initialize empty list\n",
        "explained_variance = []\n",
        "for i, _ in enumerate(cov_mat_with_svd.columns):\n",
        "    exp_var = cov_mat_with_svd.iloc[i, i] / cov_mat_with_svd.sum().sum()\n",
        "    explained_variance.append(exp_var)\n",
        "\n",
        "explained_variance"
      ]
    },
    {
      "cell_type": "markdown",
      "metadata": {
        "id": "LGyoVsIj0H3e"
      },
      "source": [
        "As you can see PC1 and PC2 are explaining respectively 73% and 23% of the variance. That is why we can keep them both and remove the others! 🙌"
      ]
    },
    {
      "cell_type": "markdown",
      "metadata": {
        "id": "71Mzh1sq0H3f"
      },
      "source": [
        "## Resources\n",
        "\n",
        "* <a href=\"https://www.mathsisfun.com/algebra/matrix-multiplying.html\" target=\"_blank\">How to multiply matrices</a>\n",
        "\n",
        "* <a href=\"https://scikit-learn.org/stable/modules/generated/sklearn.decomposition.PCA.html#sklearn.decomposition.PCA\" target=\"_blank\">PCA</a>\n",
        "\n",
        "* <a href=\"https://en.wikipedia.org/wiki/Dot_product\" target=\"_blank\">Dot Product</a>\n",
        "\n",
        "* <a href=\"https://lpsa.swarthmore.edu/MtrxVibe/EigMat/MatrixEigen.html\" target=\"_blank\">How to find Eigen Values & Eigen Vectors</a>"
      ]
    }
  ],
  "metadata": {
    "colab": {
      "provenance": []
    },
    "kernelspec": {
      "display_name": "Python 3",
      "language": "python",
      "name": "python3"
    },
    "language_info": {
      "codemirror_mode": {
        "name": "ipython",
        "version": 3
      },
      "file_extension": ".py",
      "mimetype": "text/x-python",
      "name": "python",
      "nbconvert_exporter": "python",
      "pygments_lexer": "ipython3",
      "version": "3.11.7"
    }
  },
  "nbformat": 4,
  "nbformat_minor": 0
}
