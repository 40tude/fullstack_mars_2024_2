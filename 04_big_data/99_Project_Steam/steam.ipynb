{
 "cells": [
  {
   "cell_type": "markdown",
   "metadata": {},
   "source": [
    "# Steam"
   ]
  },
  {
   "cell_type": "markdown",
   "metadata": {},
   "source": [
    "* Voir https://app.jedha.co/course/project-steam-ft/steam-ft\n",
    "* https://store.steampowered.com/tag/\n",
    "\n"
   ]
  },
  {
   "cell_type": "markdown",
   "metadata": {},
   "source": [
    "## Project\n",
    "\n",
    "* You're working for Ubisoft, a French video game publisher. \n",
    "* They'd like to release a new revolutionary videogame! \n",
    "* They asked you conduct a global analysis of the games available on Steam's marketplace in order to better understand the videogames ecosystem and today's trends."
   ]
  },
  {
   "cell_type": "markdown",
   "metadata": {},
   "source": [
    "## Goals\n",
    "\n",
    "* The **ultimate** goal of this project is to understand **what factors affect the popularity or sales of a video game.** \n",
    "* Your boss asked you to take advantage of this opportunity to analyze the video game market globally.\n",
    "    * To carry out this project, you will have to adopt **different levels of analysis**. \n",
    "\n",
    "\n",
    "Your boss gave you a list of examples of questions that would be interesting:\n",
    "\n",
    "1. Analysis at the \"macro\" level\n",
    "\n",
    "    1. Which publisher has released the most games on Steam?\n",
    "    1. What are the best rated games?\n",
    "    1. Are there years with more releases? Were there more or fewer game releases during the Covid, for example?\n",
    "    1. How are the prizes distributed? Are there many games with a discount?\n",
    "    1. What are the most represented languages?\n",
    "    1. Are there many games prohibited for children under 16/18?\n",
    "\n",
    "2. Genres analysis\n",
    "    1. What are the most represented genres?\n",
    "    1. Are there any genres that have a better positive/negative review ratio?\n",
    "    1. Do some publishers have favorite genres?\n",
    "    1. What are the most lucrative genres?\n",
    "\n",
    "3. Platform analysis\n",
    "    1. Are most games available on Windows/Mac/Linux instead?\n",
    "    1. Do certain genres tend to be preferentially available on certain platforms?\n",
    "    1. You're free to follow these guidelines, or to choose a different angle of analysis, as long as your analysis reveals relevant and useful information."
   ]
  },
  {
   "cell_type": "markdown",
   "metadata": {},
   "source": [
    "## Scope of this project\n",
    "* Use Databricks and PySpark to conduct this EDA\n",
    "* Use Databrick's visualisation tool to create the visualizations\n",
    "\n",
    "The dataset is available in our S3 bucket at the following url: ``s3://full-stack-bigdata-datasets/Big_Data/Project_Steam/steam_game_output.json``"
   ]
  },
  {
   "cell_type": "markdown",
   "metadata": {},
   "source": [
    "## Helpers\n",
    "\n",
    "* adopt different levels of analysis\n",
    "* create different dataframes.\n",
    "\n",
    "* The dataset is semi-structured with a nested schema\n",
    "    * ``getField()`` and ``explode()`` may help you\n",
    "* There are some text and date fields in this dataset\n",
    "    ** Pyspark offers utilitary functions to manipulate these types of data efficiently\n",
    "* Use ``agregate`` functions and ``groupBy`` to conduct segmented analysis."
   ]
  },
  {
   "cell_type": "markdown",
   "metadata": {},
   "source": [
    "## Deliverable\n",
    "\n",
    "You should deliver\n",
    "1. One or several notebooks including data manipulation with PySpark and data visualization with Databrick's dashboarding tool\n",
    "1. To make sure the jury can view all the visualizations\n",
    "    * use the ``publish`` button on Databricks notebooks \n",
    "    * create a public url where a copy of your notebook will be available\n",
    "    * Databricks may tell you that your notebook's size exceeds the maximal size allowed. If this happens, just split your notebook in several notebooks.\n",
    "1. Copy-paste the link(s) to your published notebooks into your Github repo such that the jury can access it"
   ]
  }
 ],
 "metadata": {
  "language_info": {
   "name": "python"
  }
 },
 "nbformat": 4,
 "nbformat_minor": 2
}
