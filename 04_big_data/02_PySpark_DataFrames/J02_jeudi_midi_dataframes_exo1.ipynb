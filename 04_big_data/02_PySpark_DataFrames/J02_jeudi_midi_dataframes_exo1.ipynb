{
 "cells": [
  {
   "cell_type": "markdown",
   "metadata": {
    "application/vnd.databricks.v1+cell": {
     "cellMetadata": {
      "byteLimit": 2048000,
      "rowLimit": 10000
     },
     "inputWidgets": {},
     "nuid": "920f54b6-ed78-41a0-a80e-33e9edb991a6",
     "showTitle": false,
     "title": ""
    }
   },
   "source": [
    "# First steps with DataFrames"
   ]
  },
  {
   "cell_type": "markdown",
   "metadata": {
    "application/vnd.databricks.v1+cell": {
     "cellMetadata": {
      "byteLimit": 2048000,
      "rowLimit": 10000
     },
     "inputWidgets": {},
     "nuid": "f7470686-6754-4a6d-a0d3-714165015468",
     "showTitle": false,
     "title": ""
    }
   },
   "source": [
    "## Learning objectives\n",
    "\n",
    "- Learn basic transformations and actions on PySpark DataFrames\n",
    "- Learn to define a temporary view and execute SQL statements using the SparkSession"
   ]
  },
  {
   "cell_type": "code",
   "execution_count": null,
   "metadata": {
    "application/vnd.databricks.v1+cell": {
     "cellMetadata": {
      "byteLimit": 2048000,
      "rowLimit": 10000
     },
     "inputWidgets": {},
     "nuid": "d0c1aee6-2b13-4494-b205-fbf02c4a6ab6",
     "showTitle": false,
     "title": ""
    }
   },
   "outputs": [
    {
     "data": {
      "text/html": [
       "\n",
       "            <div>\n",
       "                <p><b>SparkSession - hive</b></p>\n",
       "                \n",
       "        <div>\n",
       "            <p><b>SparkContext</b></p>\n",
       "\n",
       "            <p><a href=\"/?o=3208668746250363#setting/sparkui/0404-080719-hh6ij9p6/driver-5936165971312345648\">Spark UI</a></p>\n",
       "\n",
       "            <dl>\n",
       "              <dt>Version</dt>\n",
       "                <dd><code>v3.3.2</code></dd>\n",
       "              <dt>Master</dt>\n",
       "                <dd><code>local[8]</code></dd>\n",
       "              <dt>AppName</dt>\n",
       "                <dd><code>Databricks Shell</code></dd>\n",
       "            </dl>\n",
       "        </div>\n",
       "        \n",
       "            </div>\n",
       "        "
      ]
     },
     "metadata": {
      "application/vnd.databricks.v1+output": {
       "addedWidgets": {},
       "arguments": {},
       "data": "\n            <div>\n                <p><b>SparkSession - hive</b></p>\n                \n        <div>\n            <p><b>SparkContext</b></p>\n\n            <p><a href=\"/?o=3208668746250363#setting/sparkui/0404-080719-hh6ij9p6/driver-5936165971312345648\">Spark UI</a></p>\n\n            <dl>\n              <dt>Version</dt>\n                <dd><code>v3.3.2</code></dd>\n              <dt>Master</dt>\n                <dd><code>local[8]</code></dd>\n              <dt>AppName</dt>\n                <dd><code>Databricks Shell</code></dd>\n            </dl>\n        </div>\n        \n            </div>\n        ",
       "datasetInfos": [],
       "metadata": {},
       "removedWidgets": [],
       "textData": null,
       "type": "htmlSandbox"
      }
     },
     "output_type": "display_data"
    }
   ],
   "source": [
    "spark"
   ]
  },
  {
   "cell_type": "code",
   "execution_count": null,
   "metadata": {
    "application/vnd.databricks.v1+cell": {
     "cellMetadata": {
      "byteLimit": 2048000,
      "rowLimit": 10000
     },
     "inputWidgets": {},
     "nuid": "bc6cb2d6-64c5-403f-8973-43b2b35da1db",
     "showTitle": false,
     "title": ""
    }
   },
   "outputs": [],
   "source": [
    "# Load the file hosted at `filepath` onto a PySpark DataFrame: user_logs\n",
    "filepath = \"s3://full-stack-bigdata-datasets/Big_Data/youtube_playlog.csv\"\n",
    "\n",
    "user_logs_df = (spark.read.format('csv')\\\n",
    "             .option('header', 'true')\\\n",
    "             .option('inferSchema', 'true')\\\n",
    "             .load(filepath))"
   ]
  },
  {
   "cell_type": "markdown",
   "metadata": {
    "application/vnd.databricks.v1+cell": {
     "cellMetadata": {
      "byteLimit": 2048000,
      "rowLimit": 10000
     },
     "inputWidgets": {},
     "nuid": "6db2174c-a610-4400-a8b2-c8c1017c5466",
     "showTitle": false,
     "title": ""
    }
   },
   "source": [
    "It's easier to see PySpark DataFrames abstractions as SQL tables rather than to think of them as equivalent to `pandas`.  If you are familiar with data manipulation in `pandas`, it will be tempting to shortcut your thinking into `pandas`, this is the worse you can do.\n",
    "\n",
    "The goal of this notebook is to help you counter your intuition on this.\n",
    "\n",
    "This is why, for every task in this notebook, we will first implement them using declarative SQL (using `spark.sql(...)`), you will then try to get the same result using PySpark DataFrames imperative programming style.\n",
    "\n",
    "Before we get started, we will first start by running a few actions that have no equivalent in SQL: `.show()`, `.printSchema()` and `.describe()`.\n",
    "\n",
    "Remember, these are actions, that means they will **actually perform computations**.\n",
    "\n",
    "Unlike most actions, `.show()` and `.printSchema()` won't return a result, but just print out to the screen.\n",
    "\n",
    "1. Show the first 10 rows of `user_logs`:"
   ]
  },
  {
   "cell_type": "code",
   "execution_count": null,
   "metadata": {
    "application/vnd.databricks.v1+cell": {
     "cellMetadata": {
      "byteLimit": 2048000,
      "rowLimit": 10000
     },
     "inputWidgets": {},
     "nuid": "2f57187d-186e-4007-bc82-396a8d1f2e2e",
     "showTitle": false,
     "title": ""
    }
   },
   "outputs": [
    {
     "name": "stdout",
     "output_type": "stream",
     "text": [
      "+----------+----+-----------+\n",
      "| timestamp|user|       song|\n",
      "+----------+----+-----------+\n",
      "|1392387533|   0|t1l8Z6gLPzo|\n",
      "|1392387538|   1|t1l8Z6gLPzo|\n",
      "|1392387556|   2|t1l8Z6gLPzo|\n",
      "|1392387561|   3|we5gzZq5Avg|\n",
      "|1392387566|   4|we5gzZq5Avg|\n",
      "|1392387566|   5|we5gzZq5Avg|\n",
      "|1392387574|   6|49esza4eiK4|\n",
      "|1392387579|   2|BoO6LfR7ca0|\n",
      "|1392387583|   7|DaH4W1rY9us|\n",
      "|1392387584|   2|BoO6LfR7ca0|\n",
      "+----------+----+-----------+\n",
      "only showing top 10 rows\n",
      "\n"
     ]
    }
   ],
   "source": [
    "user_logs_df.show(10)"
   ]
  },
  {
   "cell_type": "markdown",
   "metadata": {
    "application/vnd.databricks.v1+cell": {
     "cellMetadata": {
      "byteLimit": 2048000,
      "rowLimit": 10000
     },
     "inputWidgets": {},
     "nuid": "6e17b490-13fd-43c3-8547-939f8ae9e052",
     "showTitle": false,
     "title": ""
    }
   },
   "source": [
    "2. Print out the schema of `user_logs`"
   ]
  },
  {
   "cell_type": "code",
   "execution_count": null,
   "metadata": {
    "application/vnd.databricks.v1+cell": {
     "cellMetadata": {
      "byteLimit": 2048000,
      "rowLimit": 10000
     },
     "inputWidgets": {},
     "nuid": "647a0e32-c6d3-4a6c-964e-bce677b79e52",
     "showTitle": false,
     "title": ""
    }
   },
   "outputs": [
    {
     "name": "stdout",
     "output_type": "stream",
     "text": [
      "root\n",
      " |-- timestamp: integer (nullable = true)\n",
      " |-- user: integer (nullable = true)\n",
      " |-- song: string (nullable = true)\n",
      "\n"
     ]
    }
   ],
   "source": [
    "user_logs_df.printSchema()"
   ]
  },
  {
   "cell_type": "markdown",
   "metadata": {
    "application/vnd.databricks.v1+cell": {
     "cellMetadata": {
      "byteLimit": 2048000,
      "rowLimit": 10000
     },
     "inputWidgets": {},
     "nuid": "6ff029ba-36d0-4384-a871-5fa8c3b1f815",
     "showTitle": false,
     "title": ""
    }
   },
   "source": [
    "Another action, `.describe()`, this one returns a value: descriptive statistics about the DataFrame in a Spark DataFrame format."
   ]
  },
  {
   "cell_type": "markdown",
   "metadata": {
    "application/vnd.databricks.v1+cell": {
     "cellMetadata": {
      "byteLimit": 2048000,
      "rowLimit": 10000
     },
     "inputWidgets": {},
     "nuid": "f3ba3f70-e7e2-43be-a278-b2565f4d8be8",
     "showTitle": false,
     "title": ""
    }
   },
   "source": [
    "3. Use `.describe()` on `user_logs` and put it inside `user_describe`:"
   ]
  },
  {
   "cell_type": "code",
   "execution_count": null,
   "metadata": {
    "application/vnd.databricks.v1+cell": {
     "cellMetadata": {
      "byteLimit": 2048000,
      "rowLimit": 10000
     },
     "inputWidgets": {},
     "nuid": "9059fe0b-7a90-4ccf-94e4-efa4252a9361",
     "showTitle": false,
     "title": ""
    }
   },
   "outputs": [],
   "source": [
    "user_describe = user_logs_df.describe()"
   ]
  },
  {
   "cell_type": "markdown",
   "metadata": {
    "application/vnd.databricks.v1+cell": {
     "cellMetadata": {
      "byteLimit": 2048000,
      "rowLimit": 10000
     },
     "inputWidgets": {},
     "nuid": "b2195e61-a74e-4477-b1e8-c1a12af378f9",
     "showTitle": false,
     "title": ""
    }
   },
   "source": [
    "4. Show the results with `.toPandas()`:"
   ]
  },
  {
   "cell_type": "code",
   "execution_count": null,
   "metadata": {
    "application/vnd.databricks.v1+cell": {
     "cellMetadata": {
      "byteLimit": 2048000,
      "rowLimit": 10000
     },
     "inputWidgets": {},
     "nuid": "fdd9034f-e7f7-4938-86d8-7181588a2551",
     "showTitle": false,
     "title": ""
    }
   },
   "outputs": [],
   "source": [
    "# ATTENTION ça prend 2H !!!!\n",
    "# 7 min !\n",
    "tmp = user_describe.toPandas()"
   ]
  },
  {
   "cell_type": "markdown",
   "metadata": {
    "application/vnd.databricks.v1+cell": {
     "cellMetadata": {
      "byteLimit": 2048000,
      "rowLimit": 10000
     },
     "inputWidgets": {},
     "nuid": "3a421e74-abfc-4d11-b489-964700f535a0",
     "showTitle": false,
     "title": ""
    }
   },
   "source": [
    "5. Show the results with `display()`:"
   ]
  },
  {
   "cell_type": "code",
   "execution_count": null,
   "metadata": {
    "application/vnd.databricks.v1+cell": {
     "cellMetadata": {
      "byteLimit": 2048000,
      "rowLimit": 10000
     },
     "inputWidgets": {},
     "nuid": "a2c66698-a0e3-4ebf-853b-3fad3b3a51f8",
     "showTitle": false,
     "title": ""
    }
   },
   "outputs": [
    {
     "data": {
      "text/html": [
       "<style scoped>\n",
       "  .table-result-container {\n",
       "    max-height: 300px;\n",
       "    overflow: auto;\n",
       "  }\n",
       "  table, th, td {\n",
       "    border: 1px solid black;\n",
       "    border-collapse: collapse;\n",
       "  }\n",
       "  th, td {\n",
       "    padding: 5px;\n",
       "  }\n",
       "  th {\n",
       "    text-align: left;\n",
       "  }\n",
       "</style><div class='table-result-container'><table class='table-result'><thead style='background-color: white'><tr><th>summary</th><th>timestamp</th><th>user</th><th>song</th></tr></thead><tbody><tr><td>count</td><td>25739537</td><td>25739537</td><td>25739537</td></tr><tr><td>mean</td><td>1.4427006561045842E9</td><td>12697.352275450798</td><td>2.532571778181818E8</td></tr><tr><td>stddev</td><td>3.443284872371195E7</td><td>13094.065905828476</td><td>8.334645614940468E8</td></tr><tr><td>min</td><td>-139955897</td><td>0</td><td>---AtpxbkaE</td></tr><tr><td>max</td><td>1554321113</td><td>45903</td><td>zzzcFgRMY6c</td></tr></tbody></table></div>"
      ]
     },
     "metadata": {
      "application/vnd.databricks.v1+output": {
       "addedWidgets": {},
       "aggData": [],
       "aggError": "",
       "aggOverflow": false,
       "aggSchema": [],
       "aggSeriesLimitReached": false,
       "aggType": "",
       "arguments": {},
       "columnCustomDisplayInfos": {},
       "data": [
        [
         "count",
         "25739537",
         "25739537",
         "25739537"
        ],
        [
         "mean",
         "1.4427006561045842E9",
         "12697.352275450798",
         "2.532571778181818E8"
        ],
        [
         "stddev",
         "3.443284872371195E7",
         "13094.065905828476",
         "8.334645614940468E8"
        ],
        [
         "min",
         "-139955897",
         "0",
         "---AtpxbkaE"
        ],
        [
         "max",
         "1554321113",
         "45903",
         "zzzcFgRMY6c"
        ]
       ],
       "datasetInfos": [],
       "dbfsResultPath": null,
       "isJsonSchema": true,
       "metadata": {},
       "overflow": false,
       "plotOptions": {
        "customPlotOptions": {},
        "displayType": "table",
        "pivotAggregation": null,
        "pivotColumns": [],
        "xColumns": [],
        "yColumns": []
       },
       "removedWidgets": [],
       "schema": [
        {
         "metadata": "{}",
         "name": "summary",
         "type": "\"string\""
        },
        {
         "metadata": "{}",
         "name": "timestamp",
         "type": "\"string\""
        },
        {
         "metadata": "{}",
         "name": "user",
         "type": "\"string\""
        },
        {
         "metadata": "{}",
         "name": "song",
         "type": "\"string\""
        }
       ],
       "type": "table"
      }
     },
     "output_type": "display_data"
    }
   ],
   "source": [
    "tmp.display()"
   ]
  },
  {
   "cell_type": "markdown",
   "metadata": {
    "application/vnd.databricks.v1+cell": {
     "cellMetadata": {
      "byteLimit": 2048000,
      "rowLimit": 10000
     },
     "inputWidgets": {},
     "nuid": "ec37e70a-a36a-469f-9f58-3bbdd2e6975b",
     "showTitle": false,
     "title": ""
    }
   },
   "source": [
    "6. Show the results using `.show()`:"
   ]
  },
  {
   "cell_type": "code",
   "execution_count": null,
   "metadata": {
    "application/vnd.databricks.v1+cell": {
     "cellMetadata": {
      "byteLimit": 2048000,
      "rowLimit": 10000
     },
     "inputWidgets": {},
     "nuid": "f99f1593-bc22-489f-8e12-00301792e782",
     "showTitle": false,
     "title": ""
    }
   },
   "outputs": [
    {
     "name": "stdout",
     "output_type": "stream",
     "text": [
      "+-------+--------------------+------------------+-------------------+\n",
      "|summary|           timestamp|              user|               song|\n",
      "+-------+--------------------+------------------+-------------------+\n",
      "|  count|            25739537|          25739537|           25739537|\n",
      "|   mean|1.4427006561045842E9|12697.352275450798|2.532571778181818E8|\n",
      "| stddev| 3.443284872371195E7|13094.065905828476|8.334645614940468E8|\n",
      "|    min|          -139955897|                 0|        ---AtpxbkaE|\n",
      "|    max|          1554321113|             45903|        zzzcFgRMY6c|\n",
      "+-------+--------------------+------------------+-------------------+\n",
      "\n"
     ]
    }
   ],
   "source": [
    "spark.createDataFrame(tmp).show()"
   ]
  },
  {
   "cell_type": "markdown",
   "metadata": {
    "application/vnd.databricks.v1+cell": {
     "cellMetadata": {
      "byteLimit": 2048000,
      "rowLimit": 10000
     },
     "inputWidgets": {},
     "nuid": "0f28c873-4d29-43f6-abd4-3cfbc3eb9351",
     "showTitle": false,
     "title": ""
    }
   },
   "source": [
    "7. Before we can query using SQL, we need a `TempView`. Create a TempView of `user_logs` in `user_logs_table`."
   ]
  },
  {
   "cell_type": "code",
   "execution_count": null,
   "metadata": {
    "application/vnd.databricks.v1+cell": {
     "cellMetadata": {
      "byteLimit": 2048000,
      "rowLimit": 10000
     },
     "inputWidgets": {},
     "nuid": "8b7d092c-e858-4698-a34a-5b1cb1f2e479",
     "showTitle": false,
     "title": ""
    }
   },
   "outputs": [],
   "source": [
    "user_logs_df.createOrReplaceTempView('my_table')"
   ]
  },
  {
   "cell_type": "markdown",
   "metadata": {
    "application/vnd.databricks.v1+cell": {
     "cellMetadata": {
      "byteLimit": 2048000,
      "rowLimit": 10000
     },
     "inputWidgets": {},
     "nuid": "3aaaa3bc-94df-4de0-afad-2c2ae840b43c",
     "showTitle": false,
     "title": ""
    }
   },
   "source": [
    "## Task 1: count the number of records"
   ]
  },
  {
   "cell_type": "markdown",
   "metadata": {
    "application/vnd.databricks.v1+cell": {
     "cellMetadata": {
      "byteLimit": 2048000,
      "rowLimit": 10000
     },
     "inputWidgets": {},
     "nuid": "1e3fd65a-8403-49af-807b-44de75c09659",
     "showTitle": false,
     "title": ""
    }
   },
   "source": [
    "`.count(...)` is an action not a transformation (and will perform computation), while using COUNT in a SQL statement will still return a DataFrame (you'll have to force the compute).\n",
    "\n",
    "1. count the number of records using SQL"
   ]
  },
  {
   "cell_type": "code",
   "execution_count": null,
   "metadata": {
    "application/vnd.databricks.v1+cell": {
     "cellMetadata": {
      "byteLimit": 2048000,
      "rowLimit": 10000
     },
     "inputWidgets": {},
     "nuid": "d9c8c209-618c-42c1-901e-062f4d320b4f",
     "showTitle": false,
     "title": ""
    }
   },
   "outputs": [
    {
     "data": {
      "text/html": [
       "<style scoped>\n",
       "  .table-result-container {\n",
       "    max-height: 300px;\n",
       "    overflow: auto;\n",
       "  }\n",
       "  table, th, td {\n",
       "    border: 1px solid black;\n",
       "    border-collapse: collapse;\n",
       "  }\n",
       "  th, td {\n",
       "    padding: 5px;\n",
       "  }\n",
       "  th {\n",
       "    text-align: left;\n",
       "  }\n",
       "</style><div class='table-result-container'><table class='table-result'><thead style='background-color: white'><tr><th>count(1)</th></tr></thead><tbody><tr><td>25739537</td></tr></tbody></table></div>"
      ]
     },
     "metadata": {
      "application/vnd.databricks.v1+output": {
       "addedWidgets": {},
       "aggData": [],
       "aggError": "",
       "aggOverflow": false,
       "aggSchema": [],
       "aggSeriesLimitReached": false,
       "aggType": "",
       "arguments": {},
       "columnCustomDisplayInfos": {},
       "data": [
        [
         25739537
        ]
       ],
       "datasetInfos": [],
       "dbfsResultPath": null,
       "isJsonSchema": true,
       "metadata": {},
       "overflow": false,
       "plotOptions": {
        "customPlotOptions": {},
        "displayType": "table",
        "pivotAggregation": null,
        "pivotColumns": [],
        "xColumns": [],
        "yColumns": []
       },
       "removedWidgets": [],
       "schema": [
        {
         "metadata": "{\"__autoGeneratedAlias\":\"true\"}",
         "name": "count(1)",
         "type": "\"long\""
        }
       ],
       "type": "table"
      }
     },
     "output_type": "display_data"
    }
   ],
   "source": [
    "# ATTENTION le cours dit qu'il faut 3 guillemet\n",
    "\n",
    "result = spark.sql(\"SELECT COUNT(*) FROM my_table\") # filters elements from my_table where position \n",
    "display(result)"
   ]
  },
  {
   "cell_type": "markdown",
   "metadata": {
    "application/vnd.databricks.v1+cell": {
     "cellMetadata": {
      "byteLimit": 2048000,
      "rowLimit": 10000
     },
     "inputWidgets": {},
     "nuid": "0fe8644c-e0ce-400f-8d3e-2a6fea982c72",
     "showTitle": false,
     "title": ""
    }
   },
   "source": [
    "2. count the number of records using PySpark DataFrames transformations and actions"
   ]
  },
  {
   "cell_type": "code",
   "execution_count": null,
   "metadata": {
    "application/vnd.databricks.v1+cell": {
     "cellMetadata": {
      "byteLimit": 2048000,
      "rowLimit": 10000
     },
     "inputWidgets": {},
     "nuid": "ee5c86df-b4f2-4005-bd3a-7dad94e8387b",
     "showTitle": false,
     "title": ""
    }
   },
   "outputs": [
    {
     "name": "stdout",
     "output_type": "stream",
     "text": [
      "25739537"
     ]
    }
   ],
   "source": [
    "result = user_logs_df.count()\n",
    "display(result)"
   ]
  },
  {
   "cell_type": "markdown",
   "metadata": {
    "application/vnd.databricks.v1+cell": {
     "cellMetadata": {
      "byteLimit": 2048000,
      "rowLimit": 10000
     },
     "inputWidgets": {},
     "nuid": "b4ed6d4d-7db1-4d30-ad6f-ee80012ad8a4",
     "showTitle": false,
     "title": ""
    }
   },
   "source": [
    "## Task 2: select the column `user`"
   ]
  },
  {
   "cell_type": "markdown",
   "metadata": {
    "application/vnd.databricks.v1+cell": {
     "cellMetadata": {
      "byteLimit": 2048000,
      "rowLimit": 10000
     },
     "inputWidgets": {},
     "nuid": "10d13006-bab2-4a96-a52f-9170e7cd0822",
     "showTitle": false,
     "title": ""
    }
   },
   "source": [
    "1. Select the column 'user' using SQL"
   ]
  },
  {
   "cell_type": "code",
   "execution_count": null,
   "metadata": {
    "application/vnd.databricks.v1+cell": {
     "cellMetadata": {
      "byteLimit": 2048000,
      "rowLimit": 10000
     },
     "inputWidgets": {},
     "nuid": "982ad143-1786-47de-a610-0186583397f2",
     "showTitle": false,
     "title": ""
    }
   },
   "outputs": [
    {
     "data": {
      "text/html": [
       "<style scoped>\n",
       "  .table-result-container {\n",
       "    max-height: 300px;\n",
       "    overflow: auto;\n",
       "  }\n",
       "  table, th, td {\n",
       "    border: 1px solid black;\n",
       "    border-collapse: collapse;\n",
       "  }\n",
       "  th, td {\n",
       "    padding: 5px;\n",
       "  }\n",
       "  th {\n",
       "    text-align: left;\n",
       "  }\n",
       "</style><div class='table-result-container'><table class='table-result'><thead style='background-color: white'><tr><th>user</th></tr></thead><tbody><tr><td>0</td></tr><tr><td>1</td></tr><tr><td>2</td></tr><tr><td>3</td></tr><tr><td>4</td></tr><tr><td>5</td></tr><tr><td>6</td></tr><tr><td>2</td></tr><tr><td>7</td></tr><tr><td>2</td></tr><tr><td>8</td></tr><tr><td>9</td></tr><tr><td>3</td></tr><tr><td>10</td></tr><tr><td>11</td></tr><tr><td>7</td></tr><tr><td>12</td></tr><tr><td>13</td></tr><tr><td>3</td></tr><tr><td>14</td></tr></tbody></table></div>"
      ]
     },
     "metadata": {
      "application/vnd.databricks.v1+output": {
       "addedWidgets": {},
       "aggData": [],
       "aggError": "",
       "aggOverflow": false,
       "aggSchema": [],
       "aggSeriesLimitReached": false,
       "aggType": "",
       "arguments": {},
       "columnCustomDisplayInfos": {},
       "data": [
        [
         0
        ],
        [
         1
        ],
        [
         2
        ],
        [
         3
        ],
        [
         4
        ],
        [
         5
        ],
        [
         6
        ],
        [
         2
        ],
        [
         7
        ],
        [
         2
        ],
        [
         8
        ],
        [
         9
        ],
        [
         3
        ],
        [
         10
        ],
        [
         11
        ],
        [
         7
        ],
        [
         12
        ],
        [
         13
        ],
        [
         3
        ],
        [
         14
        ]
       ],
       "datasetInfos": [],
       "dbfsResultPath": null,
       "isJsonSchema": true,
       "metadata": {},
       "overflow": false,
       "plotOptions": {
        "customPlotOptions": {},
        "displayType": "table",
        "pivotAggregation": null,
        "pivotColumns": null,
        "xColumns": null,
        "yColumns": null
       },
       "removedWidgets": [],
       "schema": [
        {
         "metadata": "{}",
         "name": "user",
         "type": "\"integer\""
        }
       ],
       "type": "table"
      }
     },
     "output_type": "display_data"
    }
   ],
   "source": [
    "result = spark.sql(\"SELECT user FROM my_table LIMIT 20\")  \n",
    "display(result)"
   ]
  },
  {
   "cell_type": "markdown",
   "metadata": {
    "application/vnd.databricks.v1+cell": {
     "cellMetadata": {
      "byteLimit": 2048000,
      "rowLimit": 10000
     },
     "inputWidgets": {},
     "nuid": "4e93af3f-e12f-46cd-8c01-6340e78edb10",
     "showTitle": false,
     "title": ""
    }
   },
   "source": [
    "2. Select the column 'user' using PySpark SQL"
   ]
  },
  {
   "cell_type": "code",
   "execution_count": null,
   "metadata": {
    "application/vnd.databricks.v1+cell": {
     "cellMetadata": {
      "byteLimit": 2048000,
      "rowLimit": 10000
     },
     "inputWidgets": {},
     "nuid": "092118f9-e6f5-4eba-bed0-95206ccaf424",
     "showTitle": false,
     "title": ""
    }
   },
   "outputs": [
    {
     "name": "stdout",
     "output_type": "stream",
     "text": [
      "+----+\n",
      "|user|\n",
      "+----+\n",
      "|   0|\n",
      "|   1|\n",
      "|   2|\n",
      "|   3|\n",
      "|   4|\n",
      "|   5|\n",
      "|   6|\n",
      "|   2|\n",
      "|   7|\n",
      "|   2|\n",
      "|   8|\n",
      "|   9|\n",
      "|   3|\n",
      "|  10|\n",
      "|  11|\n",
      "|   7|\n",
      "|  12|\n",
      "|  13|\n",
      "|   3|\n",
      "|  14|\n",
      "+----+\n",
      "only showing top 20 rows\n",
      "\n"
     ]
    }
   ],
   "source": [
    "user_logs_df.select(\"user\").show(20)"
   ]
  },
  {
   "cell_type": "markdown",
   "metadata": {
    "application/vnd.databricks.v1+cell": {
     "cellMetadata": {
      "byteLimit": 2048000,
      "rowLimit": 10000
     },
     "inputWidgets": {},
     "nuid": "5fe7e298-d164-44e9-b615-49f9e3d42c2f",
     "showTitle": false,
     "title": ""
    }
   },
   "source": [
    "## Task 3: select all distinct user"
   ]
  },
  {
   "cell_type": "markdown",
   "metadata": {
    "application/vnd.databricks.v1+cell": {
     "cellMetadata": {
      "byteLimit": 2048000,
      "rowLimit": 10000
     },
     "inputWidgets": {},
     "nuid": "5836c05d-47e7-4a25-b845-13b4643e38c0",
     "showTitle": false,
     "title": ""
    }
   },
   "source": [
    "1. Select distinct user using SQL"
   ]
  },
  {
   "cell_type": "code",
   "execution_count": null,
   "metadata": {
    "application/vnd.databricks.v1+cell": {
     "cellMetadata": {
      "byteLimit": 2048000,
      "rowLimit": 10000
     },
     "inputWidgets": {},
     "nuid": "c95dd3be-06c8-4c64-add5-a754dd8ca177",
     "showTitle": false,
     "title": ""
    }
   },
   "outputs": [
    {
     "data": {
      "text/html": [
       "<style scoped>\n",
       "  .table-result-container {\n",
       "    max-height: 300px;\n",
       "    overflow: auto;\n",
       "  }\n",
       "  table, th, td {\n",
       "    border: 1px solid black;\n",
       "    border-collapse: collapse;\n",
       "  }\n",
       "  th, td {\n",
       "    padding: 5px;\n",
       "  }\n",
       "  th {\n",
       "    text-align: left;\n",
       "  }\n",
       "</style><div class='table-result-container'><table class='table-result'><thead style='background-color: white'><tr><th>user</th></tr></thead><tbody><tr><td>12</td></tr><tr><td>1</td></tr><tr><td>13</td></tr><tr><td>6</td></tr><tr><td>16</td></tr><tr><td>3</td></tr><tr><td>5</td></tr><tr><td>19</td></tr><tr><td>15</td></tr><tr><td>9</td></tr><tr><td>17</td></tr><tr><td>4</td></tr><tr><td>8</td></tr><tr><td>7</td></tr><tr><td>10</td></tr><tr><td>11</td></tr><tr><td>14</td></tr><tr><td>2</td></tr><tr><td>0</td></tr><tr><td>18</td></tr></tbody></table></div>"
      ]
     },
     "metadata": {
      "application/vnd.databricks.v1+output": {
       "addedWidgets": {},
       "aggData": [],
       "aggError": "",
       "aggOverflow": false,
       "aggSchema": [],
       "aggSeriesLimitReached": false,
       "aggType": "",
       "arguments": {},
       "columnCustomDisplayInfos": {},
       "data": [
        [
         12
        ],
        [
         1
        ],
        [
         13
        ],
        [
         6
        ],
        [
         16
        ],
        [
         3
        ],
        [
         5
        ],
        [
         19
        ],
        [
         15
        ],
        [
         9
        ],
        [
         17
        ],
        [
         4
        ],
        [
         8
        ],
        [
         7
        ],
        [
         10
        ],
        [
         11
        ],
        [
         14
        ],
        [
         2
        ],
        [
         0
        ],
        [
         18
        ]
       ],
       "datasetInfos": [],
       "dbfsResultPath": null,
       "isJsonSchema": true,
       "metadata": {},
       "overflow": false,
       "plotOptions": {
        "customPlotOptions": {},
        "displayType": "table",
        "pivotAggregation": null,
        "pivotColumns": null,
        "xColumns": null,
        "yColumns": null
       },
       "removedWidgets": [],
       "schema": [
        {
         "metadata": "{}",
         "name": "user",
         "type": "\"integer\""
        }
       ],
       "type": "table"
      }
     },
     "output_type": "display_data"
    }
   ],
   "source": [
    "result = spark.sql(\"SELECT DISTINCT user FROM my_table LIMIT 20\")  \n",
    "display(result)"
   ]
  },
  {
   "cell_type": "markdown",
   "metadata": {
    "application/vnd.databricks.v1+cell": {
     "cellMetadata": {
      "byteLimit": 2048000,
      "rowLimit": 10000
     },
     "inputWidgets": {},
     "nuid": "64781de6-dbaf-490d-9314-e36f4522762d",
     "showTitle": false,
     "title": ""
    }
   },
   "source": [
    "2. Select distinct user using PySpark DataFrame API"
   ]
  },
  {
   "cell_type": "code",
   "execution_count": null,
   "metadata": {
    "application/vnd.databricks.v1+cell": {
     "cellMetadata": {
      "byteLimit": 2048000,
      "rowLimit": 10000
     },
     "inputWidgets": {},
     "nuid": "fcee02dd-b3c0-4d88-b3e1-6d63bac45ad4",
     "showTitle": false,
     "title": ""
    }
   },
   "outputs": [
    {
     "name": "stdout",
     "output_type": "stream",
     "text": [
      "+----+\n",
      "|user|\n",
      "+----+\n",
      "|  12|\n",
      "|   1|\n",
      "|  13|\n",
      "|   6|\n",
      "|  16|\n",
      "|   3|\n",
      "|  20|\n",
      "|   5|\n",
      "|  19|\n",
      "|  15|\n",
      "|   9|\n",
      "|  17|\n",
      "|   4|\n",
      "|   8|\n",
      "|   7|\n",
      "|  10|\n",
      "|  11|\n",
      "|  14|\n",
      "|   2|\n",
      "|   0|\n",
      "+----+\n",
      "only showing top 20 rows\n",
      "\n"
     ]
    }
   ],
   "source": [
    "user_logs_df.select('user').distinct().show(20)"
   ]
  },
  {
   "cell_type": "markdown",
   "metadata": {
    "application/vnd.databricks.v1+cell": {
     "cellMetadata": {
      "byteLimit": 2048000,
      "rowLimit": 10000
     },
     "inputWidgets": {},
     "nuid": "27a378f9-fb5b-43aa-9948-e83c1c7f1401",
     "showTitle": false,
     "title": ""
    }
   },
   "source": [
    "## Task 4: Select all distinct users and alias the column name to `distinct_user`"
   ]
  },
  {
   "cell_type": "markdown",
   "metadata": {
    "application/vnd.databricks.v1+cell": {
     "cellMetadata": {
      "byteLimit": 2048000,
      "rowLimit": 10000
     },
     "inputWidgets": {},
     "nuid": "849c80e3-8a8c-4010-a926-37a8cb7ca09b",
     "showTitle": false,
     "title": ""
    }
   },
   "source": [
    "1. Select distinct user using SQL and alias the name of the new column to `distinct_user`"
   ]
  },
  {
   "cell_type": "code",
   "execution_count": null,
   "metadata": {
    "application/vnd.databricks.v1+cell": {
     "cellMetadata": {
      "byteLimit": 2048000,
      "rowLimit": 10000
     },
     "inputWidgets": {},
     "nuid": "1c38450d-5bf4-4d40-bc57-32a20b476619",
     "showTitle": false,
     "title": ""
    }
   },
   "outputs": [
    {
     "data": {
      "text/html": [
       "<style scoped>\n",
       "  .table-result-container {\n",
       "    max-height: 300px;\n",
       "    overflow: auto;\n",
       "  }\n",
       "  table, th, td {\n",
       "    border: 1px solid black;\n",
       "    border-collapse: collapse;\n",
       "  }\n",
       "  th, td {\n",
       "    padding: 5px;\n",
       "  }\n",
       "  th {\n",
       "    text-align: left;\n",
       "  }\n",
       "</style><div class='table-result-container'><table class='table-result'><thead style='background-color: white'><tr><th>distinct_user</th></tr></thead><tbody><tr><td>12</td></tr><tr><td>1</td></tr><tr><td>13</td></tr><tr><td>6</td></tr><tr><td>16</td></tr><tr><td>3</td></tr><tr><td>5</td></tr><tr><td>19</td></tr><tr><td>15</td></tr><tr><td>9</td></tr><tr><td>17</td></tr><tr><td>4</td></tr><tr><td>8</td></tr><tr><td>7</td></tr><tr><td>10</td></tr><tr><td>11</td></tr><tr><td>14</td></tr><tr><td>2</td></tr><tr><td>0</td></tr><tr><td>18</td></tr></tbody></table></div>"
      ]
     },
     "metadata": {
      "application/vnd.databricks.v1+output": {
       "addedWidgets": {},
       "aggData": [],
       "aggError": "",
       "aggOverflow": false,
       "aggSchema": [],
       "aggSeriesLimitReached": false,
       "aggType": "",
       "arguments": {},
       "columnCustomDisplayInfos": {},
       "data": [
        [
         12
        ],
        [
         1
        ],
        [
         13
        ],
        [
         6
        ],
        [
         16
        ],
        [
         3
        ],
        [
         5
        ],
        [
         19
        ],
        [
         15
        ],
        [
         9
        ],
        [
         17
        ],
        [
         4
        ],
        [
         8
        ],
        [
         7
        ],
        [
         10
        ],
        [
         11
        ],
        [
         14
        ],
        [
         2
        ],
        [
         0
        ],
        [
         18
        ]
       ],
       "datasetInfos": [],
       "dbfsResultPath": null,
       "isJsonSchema": true,
       "metadata": {},
       "overflow": false,
       "plotOptions": {
        "customPlotOptions": {},
        "displayType": "table",
        "pivotAggregation": null,
        "pivotColumns": [],
        "xColumns": [],
        "yColumns": []
       },
       "removedWidgets": [],
       "schema": [
        {
         "metadata": "{}",
         "name": "distinct_user",
         "type": "\"integer\""
        }
       ],
       "type": "table"
      }
     },
     "output_type": "display_data"
    }
   ],
   "source": [
    "result = spark.sql(\"SELECT DISTINCT user as distinct_user FROM my_table LIMIT 20\")  \n",
    "display(result)"
   ]
  },
  {
   "cell_type": "markdown",
   "metadata": {
    "application/vnd.databricks.v1+cell": {
     "cellMetadata": {
      "byteLimit": 2048000,
      "rowLimit": 10000
     },
     "inputWidgets": {},
     "nuid": "8816b6e2-8ff3-4a82-a903-516074afc2ed",
     "showTitle": false,
     "title": ""
    }
   },
   "source": [
    "2. Select distinct user using SQL and alias the name of the new column to `distinct_user`"
   ]
  },
  {
   "cell_type": "code",
   "execution_count": null,
   "metadata": {
    "application/vnd.databricks.v1+cell": {
     "cellMetadata": {
      "byteLimit": 2048000,
      "rowLimit": 10000
     },
     "inputWidgets": {},
     "nuid": "56a15771-2945-4e49-b9ed-235ac3023af5",
     "showTitle": false,
     "title": ""
    }
   },
   "outputs": [
    {
     "name": "stdout",
     "output_type": "stream",
     "text": [
      "+-------------+\n",
      "|distinct_user|\n",
      "+-------------+\n",
      "|           12|\n",
      "|            1|\n",
      "|           13|\n",
      "|            6|\n",
      "|           16|\n",
      "|            3|\n",
      "|           20|\n",
      "|            5|\n",
      "|           19|\n",
      "|           15|\n",
      "|            9|\n",
      "|           17|\n",
      "|            4|\n",
      "|            8|\n",
      "|            7|\n",
      "|           10|\n",
      "|           11|\n",
      "|           14|\n",
      "|            2|\n",
      "|            0|\n",
      "+-------------+\n",
      "only showing top 20 rows\n",
      "\n"
     ]
    }
   ],
   "source": [
    "user_logs_df.select(user_logs_df[\"user\"].alias(\"distinct_user\")).distinct().show(20)"
   ]
  },
  {
   "cell_type": "markdown",
   "metadata": {
    "application/vnd.databricks.v1+cell": {
     "cellMetadata": {
      "byteLimit": 2048000,
      "rowLimit": 10000
     },
     "inputWidgets": {},
     "nuid": "18ff63a2-ce1f-450f-92ac-be6042f1da75",
     "showTitle": false,
     "title": ""
    }
   },
   "source": [
    "## Task 5: count the number of distinct user"
   ]
  },
  {
   "cell_type": "markdown",
   "metadata": {
    "application/vnd.databricks.v1+cell": {
     "cellMetadata": {
      "byteLimit": 2048000,
      "rowLimit": 10000
     },
     "inputWidgets": {},
     "nuid": "46af2a39-73d1-43a6-9c86-faaabfa0733c",
     "showTitle": false,
     "title": ""
    }
   },
   "source": [
    "1. Count the number of distinct user using SQL. Alias the resulting column to `total_distinct_user`"
   ]
  },
  {
   "cell_type": "code",
   "execution_count": null,
   "metadata": {
    "application/vnd.databricks.v1+cell": {
     "cellMetadata": {
      "byteLimit": 2048000,
      "rowLimit": 10000
     },
     "inputWidgets": {},
     "nuid": "ac065835-85d0-4c43-a055-4c6476c52d91",
     "showTitle": false,
     "title": ""
    }
   },
   "outputs": [
    {
     "data": {
      "text/html": [
       "<style scoped>\n",
       "  .table-result-container {\n",
       "    max-height: 300px;\n",
       "    overflow: auto;\n",
       "  }\n",
       "  table, th, td {\n",
       "    border: 1px solid black;\n",
       "    border-collapse: collapse;\n",
       "  }\n",
       "  th, td {\n",
       "    padding: 5px;\n",
       "  }\n",
       "  th {\n",
       "    text-align: left;\n",
       "  }\n",
       "</style><div class='table-result-container'><table class='table-result'><thead style='background-color: white'><tr><th>total_distinct_user</th></tr></thead><tbody><tr><td>45904</td></tr></tbody></table></div>"
      ]
     },
     "metadata": {
      "application/vnd.databricks.v1+output": {
       "addedWidgets": {},
       "aggData": [],
       "aggError": "",
       "aggOverflow": false,
       "aggSchema": [],
       "aggSeriesLimitReached": false,
       "aggType": "",
       "arguments": {},
       "columnCustomDisplayInfos": {},
       "data": [
        [
         45904
        ]
       ],
       "datasetInfos": [],
       "dbfsResultPath": null,
       "isJsonSchema": true,
       "metadata": {},
       "overflow": false,
       "plotOptions": {
        "customPlotOptions": {},
        "displayType": "table",
        "pivotAggregation": null,
        "pivotColumns": null,
        "xColumns": null,
        "yColumns": null
       },
       "removedWidgets": [],
       "schema": [
        {
         "metadata": "{}",
         "name": "total_distinct_user",
         "type": "\"long\""
        }
       ],
       "type": "table"
      }
     },
     "output_type": "display_data"
    }
   ],
   "source": [
    "result = spark.sql(\"SELECT COUNT(DISTINCT user) as total_distinct_user FROM my_table LIMIT 20\")  \n",
    "display(result)"
   ]
  },
  {
   "cell_type": "markdown",
   "metadata": {
    "application/vnd.databricks.v1+cell": {
     "cellMetadata": {
      "byteLimit": 2048000,
      "rowLimit": 10000
     },
     "inputWidgets": {},
     "nuid": "105de301-b0df-4cc1-a274-f3de4241bdaf",
     "showTitle": false,
     "title": ""
    }
   },
   "source": [
    "2. Count the number of distinct user using PySpark DataFrame API"
   ]
  },
  {
   "cell_type": "code",
   "execution_count": null,
   "metadata": {
    "application/vnd.databricks.v1+cell": {
     "cellMetadata": {
      "byteLimit": 2048000,
      "rowLimit": 10000
     },
     "inputWidgets": {},
     "nuid": "e037e2a7-9d84-409f-948e-d70435bd12dc",
     "showTitle": false,
     "title": ""
    }
   },
   "outputs": [
    {
     "name": "stdout",
     "output_type": "stream",
     "text": [
      "Out[93]: 45904"
     ]
    }
   ],
   "source": [
    "user_logs_df.select(user_logs_df[\"user\"].alias(\"distinct_user\")).distinct().count()"
   ]
  },
  {
   "cell_type": "markdown",
   "metadata": {
    "application/vnd.databricks.v1+cell": {
     "cellMetadata": {
      "byteLimit": 2048000,
      "rowLimit": 10000
     },
     "inputWidgets": {},
     "nuid": "83b4143e-1813-4f32-9762-c2025b40d7ed",
     "showTitle": false,
     "title": ""
    }
   },
   "source": [
    "## Task 6: count the number of distinct songs"
   ]
  },
  {
   "cell_type": "markdown",
   "metadata": {
    "application/vnd.databricks.v1+cell": {
     "cellMetadata": {
      "byteLimit": 2048000,
      "rowLimit": 10000
     },
     "inputWidgets": {},
     "nuid": "e17017ae-e016-4fd1-acdf-c2880f798c91",
     "showTitle": false,
     "title": ""
    }
   },
   "source": [
    "1. Count the number of distinct songs using SQL. Alias the resulting column to `total_distinct_song`"
   ]
  },
  {
   "cell_type": "code",
   "execution_count": null,
   "metadata": {
    "application/vnd.databricks.v1+cell": {
     "cellMetadata": {
      "byteLimit": 2048000,
      "rowLimit": 10000
     },
     "inputWidgets": {},
     "nuid": "c7b35105-e5b3-47c6-91a8-f94e941f8b00",
     "showTitle": false,
     "title": ""
    }
   },
   "outputs": [
    {
     "data": {
      "text/html": [
       "<style scoped>\n",
       "  .table-result-container {\n",
       "    max-height: 300px;\n",
       "    overflow: auto;\n",
       "  }\n",
       "  table, th, td {\n",
       "    border: 1px solid black;\n",
       "    border-collapse: collapse;\n",
       "  }\n",
       "  th, td {\n",
       "    padding: 5px;\n",
       "  }\n",
       "  th {\n",
       "    text-align: left;\n",
       "  }\n",
       "</style><div class='table-result-container'><table class='table-result'><thead style='background-color: white'><tr><th>total_distinct_song</th></tr></thead><tbody><tr><td>631348</td></tr></tbody></table></div>"
      ]
     },
     "metadata": {
      "application/vnd.databricks.v1+output": {
       "addedWidgets": {},
       "aggData": [],
       "aggError": "",
       "aggOverflow": false,
       "aggSchema": [],
       "aggSeriesLimitReached": false,
       "aggType": "",
       "arguments": {},
       "columnCustomDisplayInfos": {},
       "data": [
        [
         631348
        ]
       ],
       "datasetInfos": [],
       "dbfsResultPath": null,
       "isJsonSchema": true,
       "metadata": {},
       "overflow": false,
       "plotOptions": {
        "customPlotOptions": {},
        "displayType": "table",
        "pivotAggregation": null,
        "pivotColumns": null,
        "xColumns": null,
        "yColumns": null
       },
       "removedWidgets": [],
       "schema": [
        {
         "metadata": "{}",
         "name": "total_distinct_song",
         "type": "\"long\""
        }
       ],
       "type": "table"
      }
     },
     "output_type": "display_data"
    }
   ],
   "source": [
    "result = spark.sql(\"SELECT COUNT(DISTINCT song) as total_distinct_song FROM my_table LIMIT 20\")  \n",
    "display(result)"
   ]
  },
  {
   "cell_type": "markdown",
   "metadata": {
    "application/vnd.databricks.v1+cell": {
     "cellMetadata": {
      "byteLimit": 2048000,
      "rowLimit": 10000
     },
     "inputWidgets": {},
     "nuid": "1661641f-1f52-4d33-befa-b4d758618cea",
     "showTitle": false,
     "title": ""
    }
   },
   "source": [
    "2. Count the number of distinct songs using SQL"
   ]
  },
  {
   "cell_type": "code",
   "execution_count": null,
   "metadata": {
    "application/vnd.databricks.v1+cell": {
     "cellMetadata": {
      "byteLimit": 2048000,
      "rowLimit": 10000
     },
     "inputWidgets": {},
     "nuid": "2dbee5e0-3de5-406c-9d22-7abf385ee438",
     "showTitle": false,
     "title": ""
    }
   },
   "outputs": [
    {
     "name": "stdout",
     "output_type": "stream",
     "text": [
      "Out[96]: 631348"
     ]
    }
   ],
   "source": [
    "user_logs_df.select(user_logs_df[\"song\"].alias(\"distinct_user\")).distinct().count()"
   ]
  }
 ],
 "metadata": {
  "application/vnd.databricks.v1+notebook": {
   "dashboards": [],
   "language": "python",
   "notebookMetadata": {
    "pythonIndentUnit": 2
   },
   "notebookName": "J02_jeudi_midi_dataframes_exo1",
   "widgets": {}
  },
  "kernelspec": {
   "display_name": "Python 3.9.12 ('tf': conda)",
   "language": "python",
   "name": "python3"
  },
  "language_info": {
   "codemirror_mode": {
    "name": "ipython",
    "version": 3
   },
   "file_extension": ".py",
   "mimetype": "text/x-python",
   "name": "python",
   "nbconvert_exporter": "python",
   "pygments_lexer": "ipython3",
   "version": "3.9.12"
  },
  "vscode": {
   "interpreter": {
    "hash": "fbc4d3870518eee81184ced0d2279c769a0eca59aab465c4e7ec13e5e6c47a3e"
   }
  }
 },
 "nbformat": 4,
 "nbformat_minor": 0
}
