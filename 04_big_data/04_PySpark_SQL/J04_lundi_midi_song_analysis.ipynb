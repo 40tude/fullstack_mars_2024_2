{
 "cells": [
  {
   "cell_type": "markdown",
   "metadata": {
    "application/vnd.databricks.v1+cell": {
     "cellMetadata": {
      "byteLimit": 2048000,
      "rowLimit": 10000
     },
     "inputWidgets": {},
     "nuid": "00e23ed0-fa94-4510-b894-9f8dbc02f49b",
     "showTitle": false,
     "title": ""
    }
   },
   "source": [
    "# Songs Analysis"
   ]
  },
  {
   "cell_type": "code",
   "execution_count": 0,
   "metadata": {
    "application/vnd.databricks.v1+cell": {
     "cellMetadata": {
      "byteLimit": 2048000,
      "rowLimit": 10000
     },
     "inputWidgets": {},
     "nuid": "67d3ac09-411a-4f96-9473-12512f0ccd4b",
     "showTitle": false,
     "title": ""
    }
   },
   "outputs": [],
   "source": [
    "# prelude\n",
    "from pyspark.sql import functions as F\n",
    "from pyspark.sql.functions import avg, col, desc"
   ]
  },
  {
   "cell_type": "code",
   "execution_count": 0,
   "metadata": {
    "application/vnd.databricks.v1+cell": {
     "cellMetadata": {
      "byteLimit": 2048000,
      "rowLimit": 10000
     },
     "inputWidgets": {},
     "nuid": "1df39f41-cebe-4598-8a4e-7bde8bdee219",
     "showTitle": false,
     "title": ""
    }
   },
   "outputs": [
    {
     "output_type": "stream",
     "name": "stdout",
     "output_type": "stream",
     "text": [
      "root\n |-- contentDetails_duration: string (nullable = true)\n |-- id: string (nullable = true)\n |-- snippet_channelId: string (nullable = true)\n |-- snippet_channelTitle: string (nullable = true)\n |-- snippet_publishedAt: string (nullable = true)\n |-- snippet_title: string (nullable = true)\n |-- statistics_commentCount: double (nullable = true)\n |-- statistics_dislikeCount: double (nullable = true)\n |-- statistics_viewCount: long (nullable = true)\n\nOut[12]: (3907, 9)"
     ]
    }
   ],
   "source": [
    "file_type = 'parquet'\n",
    "\n",
    "songs = spark.read.parquet(\"s3://full-stack-bigdata-datasets/Big_Data/YOUTUBE/items_selected.parquet\")\n",
    "songs.printSchema()\n",
    "songs.count(), len(songs.columns)"
   ]
  },
  {
   "cell_type": "markdown",
   "metadata": {
    "application/vnd.databricks.v1+cell": {
     "cellMetadata": {
      "byteLimit": 2048000,
      "rowLimit": 10000
     },
     "inputWidgets": {},
     "nuid": "790e77c0-566e-49e2-8f4a-fb5b301fd695",
     "showTitle": false,
     "title": ""
    }
   },
   "source": [
    "1. Use `.describe()` on the DataFrame"
   ]
  },
  {
   "cell_type": "code",
   "execution_count": 0,
   "metadata": {
    "application/vnd.databricks.v1+cell": {
     "cellMetadata": {
      "byteLimit": 2048000,
      "rowLimit": 10000
     },
     "inputWidgets": {},
     "nuid": "26d73a74-5054-43b5-b173-94ca7308597d",
     "showTitle": false,
     "title": ""
    }
   },
   "outputs": [
    {
     "output_type": "display_data",
     "data": {
      "text/html": [
       "<div>\n",
       "<style scoped>\n",
       "    .dataframe tbody tr th:only-of-type {\n",
       "        vertical-align: middle;\n",
       "    }\n",
       "\n",
       "    .dataframe tbody tr th {\n",
       "        vertical-align: top;\n",
       "    }\n",
       "\n",
       "    .dataframe thead th {\n",
       "        text-align: right;\n",
       "    }\n",
       "</style>\n",
       "<table border=\"1\" class=\"dataframe\">\n",
       "  <thead>\n",
       "    <tr style=\"text-align: right;\">\n",
       "      <th></th>\n",
       "      <th>summary</th>\n",
       "      <th>contentDetails_duration</th>\n",
       "      <th>id</th>\n",
       "      <th>snippet_channelId</th>\n",
       "      <th>snippet_channelTitle</th>\n",
       "      <th>snippet_publishedAt</th>\n",
       "      <th>snippet_title</th>\n",
       "      <th>statistics_commentCount</th>\n",
       "      <th>statistics_dislikeCount</th>\n",
       "      <th>statistics_viewCount</th>\n",
       "    </tr>\n",
       "  </thead>\n",
       "  <tbody>\n",
       "    <tr>\n",
       "      <th>0</th>\n",
       "      <td>count</td>\n",
       "      <td>3907</td>\n",
       "      <td>3907</td>\n",
       "      <td>3907</td>\n",
       "      <td>3907</td>\n",
       "      <td>3907</td>\n",
       "      <td>3907</td>\n",
       "      <td>3880</td>\n",
       "      <td>3893</td>\n",
       "      <td>3907</td>\n",
       "    </tr>\n",
       "    <tr>\n",
       "      <th>1</th>\n",
       "      <td>mean</td>\n",
       "      <td>None</td>\n",
       "      <td>None</td>\n",
       "      <td>None</td>\n",
       "      <td>7.296272962E9</td>\n",
       "      <td>None</td>\n",
       "      <td>None</td>\n",
       "      <td>6134.878865979382</td>\n",
       "      <td>4669.332391471872</td>\n",
       "      <td>2.0763860959815715E7</td>\n",
       "    </tr>\n",
       "    <tr>\n",
       "      <th>2</th>\n",
       "      <td>stddev</td>\n",
       "      <td>None</td>\n",
       "      <td>None</td>\n",
       "      <td>None</td>\n",
       "      <td>0.0</td>\n",
       "      <td>None</td>\n",
       "      <td>None</td>\n",
       "      <td>38535.66393506117</td>\n",
       "      <td>34768.35562984628</td>\n",
       "      <td>1.2295665130505532E8</td>\n",
       "    </tr>\n",
       "    <tr>\n",
       "      <th>3</th>\n",
       "      <td>min</td>\n",
       "      <td>PT10M</td>\n",
       "      <td>--RRkree8kM</td>\n",
       "      <td>UC--yIemFNSgwQ0JxyYsABAQ</td>\n",
       "      <td>!!! (Chk Chk Chk)</td>\n",
       "      <td>2005-11-02T22:02:48Z</td>\n",
       "      <td>!!! - One Girl/One Boy</td>\n",
       "      <td>0.0</td>\n",
       "      <td>0.0</td>\n",
       "      <td>78</td>\n",
       "    </tr>\n",
       "    <tr>\n",
       "      <th>4</th>\n",
       "      <td>max</td>\n",
       "      <td>PT9M7S</td>\n",
       "      <td>zzrNI66FUWE</td>\n",
       "      <td>UCzz_ERveHOdZve_Qsthwhnw</td>\n",
       "      <td>さむい者おげし</td>\n",
       "      <td>2019-11-04T14:55:48Z</td>\n",
       "      <td>📺 Danakil - Le rêve [Official Video]</td>\n",
       "      <td>1057699.0</td>\n",
       "      <td>1373532.0</td>\n",
       "      <td>3058853981</td>\n",
       "    </tr>\n",
       "  </tbody>\n",
       "</table>\n",
       "</div>"
      ]
     },
     "metadata": {
      "application/vnd.databricks.v1+output": {
       "addedWidgets": {},
       "arguments": {},
       "data": "<div>\n<style scoped>\n    .dataframe tbody tr th:only-of-type {\n        vertical-align: middle;\n    }\n\n    .dataframe tbody tr th {\n        vertical-align: top;\n    }\n\n    .dataframe thead th {\n        text-align: right;\n    }\n</style>\n<table border=\"1\" class=\"dataframe\">\n  <thead>\n    <tr style=\"text-align: right;\">\n      <th></th>\n      <th>summary</th>\n      <th>contentDetails_duration</th>\n      <th>id</th>\n      <th>snippet_channelId</th>\n      <th>snippet_channelTitle</th>\n      <th>snippet_publishedAt</th>\n      <th>snippet_title</th>\n      <th>statistics_commentCount</th>\n      <th>statistics_dislikeCount</th>\n      <th>statistics_viewCount</th>\n    </tr>\n  </thead>\n  <tbody>\n    <tr>\n      <th>0</th>\n      <td>count</td>\n      <td>3907</td>\n      <td>3907</td>\n      <td>3907</td>\n      <td>3907</td>\n      <td>3907</td>\n      <td>3907</td>\n      <td>3880</td>\n      <td>3893</td>\n      <td>3907</td>\n    </tr>\n    <tr>\n      <th>1</th>\n      <td>mean</td>\n      <td>None</td>\n      <td>None</td>\n      <td>None</td>\n      <td>7.296272962E9</td>\n      <td>None</td>\n      <td>None</td>\n      <td>6134.878865979382</td>\n      <td>4669.332391471872</td>\n      <td>2.0763860959815715E7</td>\n    </tr>\n    <tr>\n      <th>2</th>\n      <td>stddev</td>\n      <td>None</td>\n      <td>None</td>\n      <td>None</td>\n      <td>0.0</td>\n      <td>None</td>\n      <td>None</td>\n      <td>38535.66393506117</td>\n      <td>34768.35562984628</td>\n      <td>1.2295665130505532E8</td>\n    </tr>\n    <tr>\n      <th>3</th>\n      <td>min</td>\n      <td>PT10M</td>\n      <td>--RRkree8kM</td>\n      <td>UC--yIemFNSgwQ0JxyYsABAQ</td>\n      <td>!!! (Chk Chk Chk)</td>\n      <td>2005-11-02T22:02:48Z</td>\n      <td>!!! - One Girl/One Boy</td>\n      <td>0.0</td>\n      <td>0.0</td>\n      <td>78</td>\n    </tr>\n    <tr>\n      <th>4</th>\n      <td>max</td>\n      <td>PT9M7S</td>\n      <td>zzrNI66FUWE</td>\n      <td>UCzz_ERveHOdZve_Qsthwhnw</td>\n      <td>さむい者おげし</td>\n      <td>2019-11-04T14:55:48Z</td>\n      <td>📺 Danakil - Le rêve [Official Video]</td>\n      <td>1057699.0</td>\n      <td>1373532.0</td>\n      <td>3058853981</td>\n    </tr>\n  </tbody>\n</table>\n</div>",
       "datasetInfos": [],
       "metadata": {},
       "removedWidgets": [],
       "textData": null,
       "type": "htmlSandbox"
      }
     },
     "output_type": "display_data"
    }
   ],
   "source": [
    "songs.describe().toPandas()"
   ]
  },
  {
   "cell_type": "markdown",
   "metadata": {
    "application/vnd.databricks.v1+cell": {
     "cellMetadata": {
      "byteLimit": 2048000,
      "rowLimit": 10000
     },
     "inputWidgets": {},
     "nuid": "5124d649-fe22-4a67-bb16-706f9560fa41",
     "showTitle": false,
     "title": ""
    }
   },
   "source": [
    "2. Count the number of missing values for each column\n",
    "\n",
    "*NOTE: Print out the results as a pandas DataFrame*"
   ]
  },
  {
   "cell_type": "code",
   "execution_count": 0,
   "metadata": {
    "application/vnd.databricks.v1+cell": {
     "cellMetadata": {
      "byteLimit": 2048000,
      "rowLimit": 10000
     },
     "inputWidgets": {},
     "nuid": "09d420db-9d69-41e7-9f9d-5e884f28c1e9",
     "showTitle": false,
     "title": ""
    }
   },
   "outputs": [
    {
     "output_type": "display_data",
     "data": {
      "text/html": [
       "<div>\n",
       "<style scoped>\n",
       "    .dataframe tbody tr th:only-of-type {\n",
       "        vertical-align: middle;\n",
       "    }\n",
       "\n",
       "    .dataframe tbody tr th {\n",
       "        vertical-align: top;\n",
       "    }\n",
       "\n",
       "    .dataframe thead th {\n",
       "        text-align: right;\n",
       "    }\n",
       "</style>\n",
       "<table border=\"1\" class=\"dataframe\">\n",
       "  <thead>\n",
       "    <tr style=\"text-align: right;\">\n",
       "      <th></th>\n",
       "      <th>contentDetails_duration</th>\n",
       "      <th>id</th>\n",
       "      <th>snippet_channelId</th>\n",
       "      <th>snippet_channelTitle</th>\n",
       "      <th>snippet_publishedAt</th>\n",
       "      <th>snippet_title</th>\n",
       "      <th>statistics_commentCount</th>\n",
       "      <th>statistics_dislikeCount</th>\n",
       "      <th>statistics_viewCount</th>\n",
       "    </tr>\n",
       "  </thead>\n",
       "  <tbody>\n",
       "    <tr>\n",
       "      <th>0</th>\n",
       "      <td>0</td>\n",
       "      <td>0</td>\n",
       "      <td>0</td>\n",
       "      <td>0</td>\n",
       "      <td>0</td>\n",
       "      <td>0</td>\n",
       "      <td>27</td>\n",
       "      <td>14</td>\n",
       "      <td>0</td>\n",
       "    </tr>\n",
       "  </tbody>\n",
       "</table>\n",
       "</div>"
      ]
     },
     "metadata": {
      "application/vnd.databricks.v1+output": {
       "addedWidgets": {},
       "arguments": {},
       "data": "<div>\n<style scoped>\n    .dataframe tbody tr th:only-of-type {\n        vertical-align: middle;\n    }\n\n    .dataframe tbody tr th {\n        vertical-align: top;\n    }\n\n    .dataframe thead th {\n        text-align: right;\n    }\n</style>\n<table border=\"1\" class=\"dataframe\">\n  <thead>\n    <tr style=\"text-align: right;\">\n      <th></th>\n      <th>contentDetails_duration</th>\n      <th>id</th>\n      <th>snippet_channelId</th>\n      <th>snippet_channelTitle</th>\n      <th>snippet_publishedAt</th>\n      <th>snippet_title</th>\n      <th>statistics_commentCount</th>\n      <th>statistics_dislikeCount</th>\n      <th>statistics_viewCount</th>\n    </tr>\n  </thead>\n  <tbody>\n    <tr>\n      <th>0</th>\n      <td>0</td>\n      <td>0</td>\n      <td>0</td>\n      <td>0</td>\n      <td>0</td>\n      <td>0</td>\n      <td>27</td>\n      <td>14</td>\n      <td>0</td>\n    </tr>\n  </tbody>\n</table>\n</div>",
       "datasetInfos": [],
       "metadata": {},
       "removedWidgets": [],
       "textData": null,
       "type": "htmlSandbox"
      }
     },
     "output_type": "display_data"
    }
   ],
   "source": [
    "def count_missing(col_name):\n",
    "  return F.sum(F.col(col_name).isNull().cast('int')).alias(col_name)\n",
    "\n",
    "missing_values = songs.select(*[count_missing(c) for c in songs.columns]).toPandas()\n",
    "missing_values"
   ]
  },
  {
   "cell_type": "code",
   "execution_count": 0,
   "metadata": {
    "application/vnd.databricks.v1+cell": {
     "cellMetadata": {
      "byteLimit": 2048000,
      "rowLimit": 10000
     },
     "inputWidgets": {},
     "nuid": "5be059c0-0443-4277-a9a2-ecea27048989",
     "showTitle": false,
     "title": ""
    }
   },
   "outputs": [],
   "source": []
  },
  {
   "cell_type": "markdown",
   "metadata": {
    "application/vnd.databricks.v1+cell": {
     "cellMetadata": {
      "byteLimit": 2048000,
      "rowLimit": 10000
     },
     "inputWidgets": {},
     "nuid": "c58cf06b-cb60-4088-a6d0-422b9d6af41a",
     "showTitle": false,
     "title": ""
    }
   },
   "source": [
    "Curiously, we have a few songs with missing `viewCounts`.\n",
    "\n",
    "3. What are the 5 most popular songs? (by view count)"
   ]
  },
  {
   "cell_type": "code",
   "execution_count": 0,
   "metadata": {
    "application/vnd.databricks.v1+cell": {
     "cellMetadata": {
      "byteLimit": 2048000,
      "rowLimit": 10000
     },
     "inputWidgets": {},
     "nuid": "5772a514-6feb-4afe-8194-161218c6246b",
     "showTitle": false,
     "title": ""
    }
   },
   "outputs": [
    {
     "output_type": "display_data",
     "data": {
      "text/html": [
       "<div>\n",
       "<style scoped>\n",
       "    .dataframe tbody tr th:only-of-type {\n",
       "        vertical-align: middle;\n",
       "    }\n",
       "\n",
       "    .dataframe tbody tr th {\n",
       "        vertical-align: top;\n",
       "    }\n",
       "\n",
       "    .dataframe thead th {\n",
       "        text-align: right;\n",
       "    }\n",
       "</style>\n",
       "<table border=\"1\" class=\"dataframe\">\n",
       "  <thead>\n",
       "    <tr style=\"text-align: right;\">\n",
       "      <th></th>\n",
       "      <th>snippet_channelTitle</th>\n",
       "      <th>snippet_title</th>\n",
       "      <th>statistics_viewCount</th>\n",
       "    </tr>\n",
       "  </thead>\n",
       "  <tbody>\n",
       "    <tr>\n",
       "      <th>0</th>\n",
       "      <td>OneRepublicVEVO</td>\n",
       "      <td>OneRepublic - Counting Stars (Official Music V...</td>\n",
       "      <td>3058853981</td>\n",
       "    </tr>\n",
       "    <tr>\n",
       "      <th>1</th>\n",
       "      <td>Passenger</td>\n",
       "      <td>Passenger | Let Her Go (Official Video)</td>\n",
       "      <td>2789082191</td>\n",
       "    </tr>\n",
       "    <tr>\n",
       "      <th>2</th>\n",
       "      <td>EminemVEVO</td>\n",
       "      <td>Eminem - Love The Way You Lie ft. Rihanna</td>\n",
       "      <td>2064352955</td>\n",
       "    </tr>\n",
       "    <tr>\n",
       "      <th>3</th>\n",
       "      <td>AviciiOfficialVEVO</td>\n",
       "      <td>Avicii - Wake Me Up (Official Video)</td>\n",
       "      <td>1963215194</td>\n",
       "    </tr>\n",
       "    <tr>\n",
       "      <th>4</th>\n",
       "      <td>gotyemusic</td>\n",
       "      <td>Gotye - Somebody That I Used To Know (feat. Ki...</td>\n",
       "      <td>1506602164</td>\n",
       "    </tr>\n",
       "  </tbody>\n",
       "</table>\n",
       "</div>"
      ]
     },
     "metadata": {
      "application/vnd.databricks.v1+output": {
       "addedWidgets": {},
       "arguments": {},
       "data": "<div>\n<style scoped>\n    .dataframe tbody tr th:only-of-type {\n        vertical-align: middle;\n    }\n\n    .dataframe tbody tr th {\n        vertical-align: top;\n    }\n\n    .dataframe thead th {\n        text-align: right;\n    }\n</style>\n<table border=\"1\" class=\"dataframe\">\n  <thead>\n    <tr style=\"text-align: right;\">\n      <th></th>\n      <th>snippet_channelTitle</th>\n      <th>snippet_title</th>\n      <th>statistics_viewCount</th>\n    </tr>\n  </thead>\n  <tbody>\n    <tr>\n      <th>0</th>\n      <td>OneRepublicVEVO</td>\n      <td>OneRepublic - Counting Stars (Official Music V...</td>\n      <td>3058853981</td>\n    </tr>\n    <tr>\n      <th>1</th>\n      <td>Passenger</td>\n      <td>Passenger | Let Her Go (Official Video)</td>\n      <td>2789082191</td>\n    </tr>\n    <tr>\n      <th>2</th>\n      <td>EminemVEVO</td>\n      <td>Eminem - Love The Way You Lie ft. Rihanna</td>\n      <td>2064352955</td>\n    </tr>\n    <tr>\n      <th>3</th>\n      <td>AviciiOfficialVEVO</td>\n      <td>Avicii - Wake Me Up (Official Video)</td>\n      <td>1963215194</td>\n    </tr>\n    <tr>\n      <th>4</th>\n      <td>gotyemusic</td>\n      <td>Gotye - Somebody That I Used To Know (feat. Ki...</td>\n      <td>1506602164</td>\n    </tr>\n  </tbody>\n</table>\n</div>",
       "datasetInfos": [],
       "metadata": {},
       "removedWidgets": [],
       "textData": null,
       "type": "htmlSandbox"
      }
     },
     "output_type": "display_data"
    }
   ],
   "source": [
    "songs.select('snippet_channelTitle', 'snippet_title', 'statistics_viewCount').orderBy(F.desc('statistics_viewCount')).limit(5).toPandas()"
   ]
  },
  {
   "cell_type": "code",
   "execution_count": 0,
   "metadata": {
    "application/vnd.databricks.v1+cell": {
     "cellMetadata": {},
     "inputWidgets": {},
     "nuid": "47df626c-2791-4886-a01e-4fb6a7262b05",
     "showTitle": false,
     "title": ""
    }
   },
   "outputs": [
    {
     "output_type": "display_data",
     "data": {
      "text/html": [
       "<div>\n",
       "<style scoped>\n",
       "    .dataframe tbody tr th:only-of-type {\n",
       "        vertical-align: middle;\n",
       "    }\n",
       "\n",
       "    .dataframe tbody tr th {\n",
       "        vertical-align: top;\n",
       "    }\n",
       "\n",
       "    .dataframe thead th {\n",
       "        text-align: right;\n",
       "    }\n",
       "</style>\n",
       "<table border=\"1\" class=\"dataframe\">\n",
       "  <thead>\n",
       "    <tr style=\"text-align: right;\">\n",
       "      <th></th>\n",
       "      <th>snippet_channelTitle</th>\n",
       "      <th>snippet_title</th>\n",
       "      <th>statistics_viewCount</th>\n",
       "    </tr>\n",
       "  </thead>\n",
       "  <tbody>\n",
       "    <tr>\n",
       "      <th>0</th>\n",
       "      <td>OneRepublicVEVO</td>\n",
       "      <td>OneRepublic - Counting Stars (Official Music V...</td>\n",
       "      <td>3058853981</td>\n",
       "    </tr>\n",
       "    <tr>\n",
       "      <th>1</th>\n",
       "      <td>Passenger</td>\n",
       "      <td>Passenger | Let Her Go (Official Video)</td>\n",
       "      <td>2789082191</td>\n",
       "    </tr>\n",
       "    <tr>\n",
       "      <th>2</th>\n",
       "      <td>EminemVEVO</td>\n",
       "      <td>Eminem - Love The Way You Lie ft. Rihanna</td>\n",
       "      <td>2064352955</td>\n",
       "    </tr>\n",
       "    <tr>\n",
       "      <th>3</th>\n",
       "      <td>AviciiOfficialVEVO</td>\n",
       "      <td>Avicii - Wake Me Up (Official Video)</td>\n",
       "      <td>1963215194</td>\n",
       "    </tr>\n",
       "    <tr>\n",
       "      <th>4</th>\n",
       "      <td>gotyemusic</td>\n",
       "      <td>Gotye - Somebody That I Used To Know (feat. Ki...</td>\n",
       "      <td>1506602164</td>\n",
       "    </tr>\n",
       "  </tbody>\n",
       "</table>\n",
       "</div>"
      ]
     },
     "metadata": {
      "application/vnd.databricks.v1+output": {
       "addedWidgets": {},
       "arguments": {},
       "data": "<div>\n<style scoped>\n    .dataframe tbody tr th:only-of-type {\n        vertical-align: middle;\n    }\n\n    .dataframe tbody tr th {\n        vertical-align: top;\n    }\n\n    .dataframe thead th {\n        text-align: right;\n    }\n</style>\n<table border=\"1\" class=\"dataframe\">\n  <thead>\n    <tr style=\"text-align: right;\">\n      <th></th>\n      <th>snippet_channelTitle</th>\n      <th>snippet_title</th>\n      <th>statistics_viewCount</th>\n    </tr>\n  </thead>\n  <tbody>\n    <tr>\n      <th>0</th>\n      <td>OneRepublicVEVO</td>\n      <td>OneRepublic - Counting Stars (Official Music V...</td>\n      <td>3058853981</td>\n    </tr>\n    <tr>\n      <th>1</th>\n      <td>Passenger</td>\n      <td>Passenger | Let Her Go (Official Video)</td>\n      <td>2789082191</td>\n    </tr>\n    <tr>\n      <th>2</th>\n      <td>EminemVEVO</td>\n      <td>Eminem - Love The Way You Lie ft. Rihanna</td>\n      <td>2064352955</td>\n    </tr>\n    <tr>\n      <th>3</th>\n      <td>AviciiOfficialVEVO</td>\n      <td>Avicii - Wake Me Up (Official Video)</td>\n      <td>1963215194</td>\n    </tr>\n    <tr>\n      <th>4</th>\n      <td>gotyemusic</td>\n      <td>Gotye - Somebody That I Used To Know (feat. Ki...</td>\n      <td>1506602164</td>\n    </tr>\n  </tbody>\n</table>\n</div>",
       "datasetInfos": [],
       "metadata": {},
       "removedWidgets": [],
       "textData": null,
       "type": "htmlSandbox"
      }
     },
     "output_type": "display_data"
    }
   ],
   "source": [
    ")"
   ]
  },
  {
   "cell_type": "markdown",
   "metadata": {
    "application/vnd.databricks.v1+cell": {
     "cellMetadata": {},
     "inputWidgets": {},
     "nuid": "026e7ea9-3801-4ceb-a61b-83ca07659334",
     "showTitle": false,
     "title": ""
    }
   },
   "source": [
    "4. Compute:\n",
    "- total_viewCount: the total viewcount per a channelTitle\n",
    "- mean_viewCount: the average viewcount per a channel\n",
    "- max_viewCount: the max view count per a channel\n",
    "- min_viewCount: the min view count per a channel\n",
    "- std_viewCount: the standard deviation of view counts per channel\n",
    "- songsCount: number of songs associated per channel on our list"
   ]
  },
  {
   "cell_type": "code",
   "execution_count": 0,
   "metadata": {
    "application/vnd.databricks.v1+cell": {
     "cellMetadata": {
      "byteLimit": 2048000,
      "rowLimit": 10000
     },
     "inputWidgets": {},
     "nuid": "6aa57661-c376-48e9-8c7e-e54fc0ad7f05",
     "showTitle": false,
     "title": ""
    }
   },
   "outputs": [
    {
     "output_type": "display_data",
     "data": {
      "text/html": [
       "<div>\n",
       "<style scoped>\n",
       "    .dataframe tbody tr th:only-of-type {\n",
       "        vertical-align: middle;\n",
       "    }\n",
       "\n",
       "    .dataframe tbody tr th {\n",
       "        vertical-align: top;\n",
       "    }\n",
       "\n",
       "    .dataframe thead th {\n",
       "        text-align: right;\n",
       "    }\n",
       "</style>\n",
       "<table border=\"1\" class=\"dataframe\">\n",
       "  <thead>\n",
       "    <tr style=\"text-align: right;\">\n",
       "      <th></th>\n",
       "      <th>snippet_channelTitle</th>\n",
       "      <th>sum(statistics_viewCount)</th>\n",
       "    </tr>\n",
       "  </thead>\n",
       "  <tbody>\n",
       "    <tr>\n",
       "      <th>0</th>\n",
       "      <td>Being part of something special, makes you spe...</td>\n",
       "      <td>67464186</td>\n",
       "    </tr>\n",
       "    <tr>\n",
       "      <th>1</th>\n",
       "      <td>Grimes</td>\n",
       "      <td>66954706</td>\n",
       "    </tr>\n",
       "    <tr>\n",
       "      <th>2</th>\n",
       "      <td>Sargent House</td>\n",
       "      <td>123884</td>\n",
       "    </tr>\n",
       "    <tr>\n",
       "      <th>3</th>\n",
       "      <td>WildBeastsVEVO</td>\n",
       "      <td>581479</td>\n",
       "    </tr>\n",
       "    <tr>\n",
       "      <th>4</th>\n",
       "      <td>ParetoPark</td>\n",
       "      <td>3083</td>\n",
       "    </tr>\n",
       "  </tbody>\n",
       "</table>\n",
       "</div>"
      ]
     },
     "metadata": {
      "application/vnd.databricks.v1+output": {
       "addedWidgets": {},
       "arguments": {},
       "data": "<div>\n<style scoped>\n    .dataframe tbody tr th:only-of-type {\n        vertical-align: middle;\n    }\n\n    .dataframe tbody tr th {\n        vertical-align: top;\n    }\n\n    .dataframe thead th {\n        text-align: right;\n    }\n</style>\n<table border=\"1\" class=\"dataframe\">\n  <thead>\n    <tr style=\"text-align: right;\">\n      <th></th>\n      <th>snippet_channelTitle</th>\n      <th>sum(statistics_viewCount)</th>\n    </tr>\n  </thead>\n  <tbody>\n    <tr>\n      <th>0</th>\n      <td>Being part of something special, makes you spe...</td>\n      <td>67464186</td>\n    </tr>\n    <tr>\n      <th>1</th>\n      <td>Grimes</td>\n      <td>66954706</td>\n    </tr>\n    <tr>\n      <th>2</th>\n      <td>Sargent House</td>\n      <td>123884</td>\n    </tr>\n    <tr>\n      <th>3</th>\n      <td>WildBeastsVEVO</td>\n      <td>581479</td>\n    </tr>\n    <tr>\n      <th>4</th>\n      <td>ParetoPark</td>\n      <td>3083</td>\n    </tr>\n  </tbody>\n</table>\n</div>",
       "datasetInfos": [],
       "metadata": {},
       "removedWidgets": [],
       "textData": null,
       "type": "htmlSandbox"
      }
     },
     "output_type": "display_data"
    }
   ],
   "source": [
    "songs.groupBy('snippet_channelTitle').agg(F.sum(\"statistics_viewCount\")).limit(5).toPandas()"
   ]
  },
  {
   "cell_type": "code",
   "execution_count": 0,
   "metadata": {
    "application/vnd.databricks.v1+cell": {
     "cellMetadata": {
      "byteLimit": 2048000,
      "rowLimit": 10000
     },
     "inputWidgets": {},
     "nuid": "db01c821-5e1b-40a9-b38c-f8444d91507f",
     "showTitle": false,
     "title": ""
    }
   },
   "outputs": [
    {
     "output_type": "display_data",
     "data": {
      "text/html": [
       "<div>\n",
       "<style scoped>\n",
       "    .dataframe tbody tr th:only-of-type {\n",
       "        vertical-align: middle;\n",
       "    }\n",
       "\n",
       "    .dataframe tbody tr th {\n",
       "        vertical-align: top;\n",
       "    }\n",
       "\n",
       "    .dataframe thead th {\n",
       "        text-align: right;\n",
       "    }\n",
       "</style>\n",
       "<table border=\"1\" class=\"dataframe\">\n",
       "  <thead>\n",
       "    <tr style=\"text-align: right;\">\n",
       "      <th></th>\n",
       "      <th>snippet_channelTitle</th>\n",
       "      <th>sum(statistics_viewCount)</th>\n",
       "      <th>avg(statistics_viewCount)</th>\n",
       "    </tr>\n",
       "  </thead>\n",
       "  <tbody>\n",
       "    <tr>\n",
       "      <th>0</th>\n",
       "      <td>Being part of something special, makes you spe...</td>\n",
       "      <td>67464186</td>\n",
       "      <td>16866046.5</td>\n",
       "    </tr>\n",
       "    <tr>\n",
       "      <th>1</th>\n",
       "      <td>Grimes</td>\n",
       "      <td>66954706</td>\n",
       "      <td>33477353.0</td>\n",
       "    </tr>\n",
       "    <tr>\n",
       "      <th>2</th>\n",
       "      <td>Sargent House</td>\n",
       "      <td>123884</td>\n",
       "      <td>123884.0</td>\n",
       "    </tr>\n",
       "    <tr>\n",
       "      <th>3</th>\n",
       "      <td>WildBeastsVEVO</td>\n",
       "      <td>581479</td>\n",
       "      <td>581479.0</td>\n",
       "    </tr>\n",
       "    <tr>\n",
       "      <th>4</th>\n",
       "      <td>ParetoPark</td>\n",
       "      <td>3083</td>\n",
       "      <td>3083.0</td>\n",
       "    </tr>\n",
       "  </tbody>\n",
       "</table>\n",
       "</div>"
      ]
     },
     "metadata": {
      "application/vnd.databricks.v1+output": {
       "addedWidgets": {},
       "arguments": {},
       "data": "<div>\n<style scoped>\n    .dataframe tbody tr th:only-of-type {\n        vertical-align: middle;\n    }\n\n    .dataframe tbody tr th {\n        vertical-align: top;\n    }\n\n    .dataframe thead th {\n        text-align: right;\n    }\n</style>\n<table border=\"1\" class=\"dataframe\">\n  <thead>\n    <tr style=\"text-align: right;\">\n      <th></th>\n      <th>snippet_channelTitle</th>\n      <th>sum(statistics_viewCount)</th>\n      <th>avg(statistics_viewCount)</th>\n    </tr>\n  </thead>\n  <tbody>\n    <tr>\n      <th>0</th>\n      <td>Being part of something special, makes you spe...</td>\n      <td>67464186</td>\n      <td>16866046.5</td>\n    </tr>\n    <tr>\n      <th>1</th>\n      <td>Grimes</td>\n      <td>66954706</td>\n      <td>33477353.0</td>\n    </tr>\n    <tr>\n      <th>2</th>\n      <td>Sargent House</td>\n      <td>123884</td>\n      <td>123884.0</td>\n    </tr>\n    <tr>\n      <th>3</th>\n      <td>WildBeastsVEVO</td>\n      <td>581479</td>\n      <td>581479.0</td>\n    </tr>\n    <tr>\n      <th>4</th>\n      <td>ParetoPark</td>\n      <td>3083</td>\n      <td>3083.0</td>\n    </tr>\n  </tbody>\n</table>\n</div>",
       "datasetInfos": [],
       "metadata": {},
       "removedWidgets": [],
       "textData": null,
       "type": "htmlSandbox"
      }
     },
     "output_type": "display_data"
    }
   ],
   "source": [
    "songs.groupBy('snippet_channelTitle').agg(F.sum(\"statistics_viewCount\"), F.mean(\"statistics_viewCount\")).limit(5).toPandas()"
   ]
  },
  {
   "cell_type": "code",
   "execution_count": 0,
   "metadata": {
    "application/vnd.databricks.v1+cell": {
     "cellMetadata": {
      "byteLimit": 2048000,
      "rowLimit": 10000
     },
     "inputWidgets": {},
     "nuid": "6813c314-69a2-47ea-9e4e-5a1a9ac44744",
     "showTitle": false,
     "title": ""
    }
   },
   "outputs": [
    {
     "output_type": "display_data",
     "data": {
      "text/html": [
       "<div>\n",
       "<style scoped>\n",
       "    .dataframe tbody tr th:only-of-type {\n",
       "        vertical-align: middle;\n",
       "    }\n",
       "\n",
       "    .dataframe tbody tr th {\n",
       "        vertical-align: top;\n",
       "    }\n",
       "\n",
       "    .dataframe thead th {\n",
       "        text-align: right;\n",
       "    }\n",
       "</style>\n",
       "<table border=\"1\" class=\"dataframe\">\n",
       "  <thead>\n",
       "    <tr style=\"text-align: right;\">\n",
       "      <th></th>\n",
       "      <th>snippet_channelTitle</th>\n",
       "      <th>Bob</th>\n",
       "      <th>avg(statistics_viewCount)</th>\n",
       "      <th>max(statistics_viewCount)</th>\n",
       "      <th>min(statistics_viewCount)</th>\n",
       "      <th>stddev_samp(statistics_viewCount)</th>\n",
       "      <th>count(statistics_viewCount)</th>\n",
       "    </tr>\n",
       "  </thead>\n",
       "  <tbody>\n",
       "    <tr>\n",
       "      <th>0</th>\n",
       "      <td>Being part of something special, makes you spe...</td>\n",
       "      <td>67464186</td>\n",
       "      <td>16866046.5</td>\n",
       "      <td>27567026</td>\n",
       "      <td>13069025</td>\n",
       "      <td>7.139327e+06</td>\n",
       "      <td>4</td>\n",
       "    </tr>\n",
       "    <tr>\n",
       "      <th>1</th>\n",
       "      <td>Grimes</td>\n",
       "      <td>66954706</td>\n",
       "      <td>33477353.0</td>\n",
       "      <td>64988035</td>\n",
       "      <td>1966671</td>\n",
       "      <td>4.456283e+07</td>\n",
       "      <td>2</td>\n",
       "    </tr>\n",
       "    <tr>\n",
       "      <th>2</th>\n",
       "      <td>Sargent House</td>\n",
       "      <td>123884</td>\n",
       "      <td>123884.0</td>\n",
       "      <td>123884</td>\n",
       "      <td>123884</td>\n",
       "      <td>NaN</td>\n",
       "      <td>1</td>\n",
       "    </tr>\n",
       "    <tr>\n",
       "      <th>3</th>\n",
       "      <td>WildBeastsVEVO</td>\n",
       "      <td>581479</td>\n",
       "      <td>581479.0</td>\n",
       "      <td>581479</td>\n",
       "      <td>581479</td>\n",
       "      <td>NaN</td>\n",
       "      <td>1</td>\n",
       "    </tr>\n",
       "    <tr>\n",
       "      <th>4</th>\n",
       "      <td>ParetoPark</td>\n",
       "      <td>3083</td>\n",
       "      <td>3083.0</td>\n",
       "      <td>3083</td>\n",
       "      <td>3083</td>\n",
       "      <td>NaN</td>\n",
       "      <td>1</td>\n",
       "    </tr>\n",
       "  </tbody>\n",
       "</table>\n",
       "</div>"
      ]
     },
     "metadata": {
      "application/vnd.databricks.v1+output": {
       "addedWidgets": {},
       "arguments": {},
       "data": "<div>\n<style scoped>\n    .dataframe tbody tr th:only-of-type {\n        vertical-align: middle;\n    }\n\n    .dataframe tbody tr th {\n        vertical-align: top;\n    }\n\n    .dataframe thead th {\n        text-align: right;\n    }\n</style>\n<table border=\"1\" class=\"dataframe\">\n  <thead>\n    <tr style=\"text-align: right;\">\n      <th></th>\n      <th>snippet_channelTitle</th>\n      <th>Bob</th>\n      <th>avg(statistics_viewCount)</th>\n      <th>max(statistics_viewCount)</th>\n      <th>min(statistics_viewCount)</th>\n      <th>stddev_samp(statistics_viewCount)</th>\n      <th>count(statistics_viewCount)</th>\n    </tr>\n  </thead>\n  <tbody>\n    <tr>\n      <th>0</th>\n      <td>Being part of something special, makes you spe...</td>\n      <td>67464186</td>\n      <td>16866046.5</td>\n      <td>27567026</td>\n      <td>13069025</td>\n      <td>7.139327e+06</td>\n      <td>4</td>\n    </tr>\n    <tr>\n      <th>1</th>\n      <td>Grimes</td>\n      <td>66954706</td>\n      <td>33477353.0</td>\n      <td>64988035</td>\n      <td>1966671</td>\n      <td>4.456283e+07</td>\n      <td>2</td>\n    </tr>\n    <tr>\n      <th>2</th>\n      <td>Sargent House</td>\n      <td>123884</td>\n      <td>123884.0</td>\n      <td>123884</td>\n      <td>123884</td>\n      <td>NaN</td>\n      <td>1</td>\n    </tr>\n    <tr>\n      <th>3</th>\n      <td>WildBeastsVEVO</td>\n      <td>581479</td>\n      <td>581479.0</td>\n      <td>581479</td>\n      <td>581479</td>\n      <td>NaN</td>\n      <td>1</td>\n    </tr>\n    <tr>\n      <th>4</th>\n      <td>ParetoPark</td>\n      <td>3083</td>\n      <td>3083.0</td>\n      <td>3083</td>\n      <td>3083</td>\n      <td>NaN</td>\n      <td>1</td>\n    </tr>\n  </tbody>\n</table>\n</div>",
       "datasetInfos": [],
       "metadata": {},
       "removedWidgets": [],
       "textData": null,
       "type": "htmlSandbox"
      }
     },
     "output_type": "display_data"
    }
   ],
   "source": [
    "songs.groupBy('snippet_channelTitle').agg(F.sum(\"statistics_viewCount\").alias('Bob'), F.mean(\"statistics_viewCount\"), F.max(\"statistics_viewCount\"), F.min(\"statistics_viewCount\"), F.stddev(\"statistics_viewCount\"), F.count(\"statistics_viewCount\")).limit(5).toPandas()"
   ]
  },
  {
   "cell_type": "code",
   "execution_count": 0,
   "metadata": {
    "application/vnd.databricks.v1+cell": {
     "cellMetadata": {
      "byteLimit": 2048000,
      "rowLimit": 10000
     },
     "inputWidgets": {},
     "nuid": "5f884a65-f50e-4c42-9c5c-5861769cf15c",
     "showTitle": false,
     "title": ""
    }
   },
   "outputs": [
    {
     "output_type": "display_data",
     "data": {
      "text/html": [
       "<div>\n",
       "<style scoped>\n",
       "    .dataframe tbody tr th:only-of-type {\n",
       "        vertical-align: middle;\n",
       "    }\n",
       "\n",
       "    .dataframe tbody tr th {\n",
       "        vertical-align: top;\n",
       "    }\n",
       "\n",
       "    .dataframe thead th {\n",
       "        text-align: right;\n",
       "    }\n",
       "</style>\n",
       "<table border=\"1\" class=\"dataframe\">\n",
       "  <thead>\n",
       "    <tr style=\"text-align: right;\">\n",
       "      <th></th>\n",
       "      <th>snippet_channelTitle</th>\n",
       "      <th>Bob</th>\n",
       "      <th>avg(statistics_viewCount)</th>\n",
       "      <th>max(statistics_viewCount)</th>\n",
       "      <th>min(statistics_viewCount)</th>\n",
       "      <th>stddev_samp(statistics_viewCount)</th>\n",
       "      <th>count(statistics_viewCount)</th>\n",
       "    </tr>\n",
       "  </thead>\n",
       "  <tbody>\n",
       "    <tr>\n",
       "      <th>0</th>\n",
       "      <td>Being part of something special, makes you spe...</td>\n",
       "      <td>67464186</td>\n",
       "      <td>16866046.5</td>\n",
       "      <td>27567026</td>\n",
       "      <td>13069025</td>\n",
       "      <td>7.139327e+06</td>\n",
       "      <td>4</td>\n",
       "    </tr>\n",
       "    <tr>\n",
       "      <th>1</th>\n",
       "      <td>Grimes</td>\n",
       "      <td>66954706</td>\n",
       "      <td>33477353.0</td>\n",
       "      <td>64988035</td>\n",
       "      <td>1966671</td>\n",
       "      <td>4.456283e+07</td>\n",
       "      <td>2</td>\n",
       "    </tr>\n",
       "    <tr>\n",
       "      <th>2</th>\n",
       "      <td>Sargent House</td>\n",
       "      <td>123884</td>\n",
       "      <td>123884.0</td>\n",
       "      <td>123884</td>\n",
       "      <td>123884</td>\n",
       "      <td>NaN</td>\n",
       "      <td>1</td>\n",
       "    </tr>\n",
       "    <tr>\n",
       "      <th>3</th>\n",
       "      <td>WildBeastsVEVO</td>\n",
       "      <td>581479</td>\n",
       "      <td>581479.0</td>\n",
       "      <td>581479</td>\n",
       "      <td>581479</td>\n",
       "      <td>NaN</td>\n",
       "      <td>1</td>\n",
       "    </tr>\n",
       "    <tr>\n",
       "      <th>4</th>\n",
       "      <td>ParetoPark</td>\n",
       "      <td>3083</td>\n",
       "      <td>3083.0</td>\n",
       "      <td>3083</td>\n",
       "      <td>3083</td>\n",
       "      <td>NaN</td>\n",
       "      <td>1</td>\n",
       "    </tr>\n",
       "  </tbody>\n",
       "</table>\n",
       "</div>"
      ]
     },
     "metadata": {
      "application/vnd.databricks.v1+output": {
       "addedWidgets": {},
       "arguments": {},
       "data": "<div>\n<style scoped>\n    .dataframe tbody tr th:only-of-type {\n        vertical-align: middle;\n    }\n\n    .dataframe tbody tr th {\n        vertical-align: top;\n    }\n\n    .dataframe thead th {\n        text-align: right;\n    }\n</style>\n<table border=\"1\" class=\"dataframe\">\n  <thead>\n    <tr style=\"text-align: right;\">\n      <th></th>\n      <th>snippet_channelTitle</th>\n      <th>Bob</th>\n      <th>avg(statistics_viewCount)</th>\n      <th>max(statistics_viewCount)</th>\n      <th>min(statistics_viewCount)</th>\n      <th>stddev_samp(statistics_viewCount)</th>\n      <th>count(statistics_viewCount)</th>\n    </tr>\n  </thead>\n  <tbody>\n    <tr>\n      <th>0</th>\n      <td>Being part of something special, makes you spe...</td>\n      <td>67464186</td>\n      <td>16866046.5</td>\n      <td>27567026</td>\n      <td>13069025</td>\n      <td>7.139327e+06</td>\n      <td>4</td>\n    </tr>\n    <tr>\n      <th>1</th>\n      <td>Grimes</td>\n      <td>66954706</td>\n      <td>33477353.0</td>\n      <td>64988035</td>\n      <td>1966671</td>\n      <td>4.456283e+07</td>\n      <td>2</td>\n    </tr>\n    <tr>\n      <th>2</th>\n      <td>Sargent House</td>\n      <td>123884</td>\n      <td>123884.0</td>\n      <td>123884</td>\n      <td>123884</td>\n      <td>NaN</td>\n      <td>1</td>\n    </tr>\n    <tr>\n      <th>3</th>\n      <td>WildBeastsVEVO</td>\n      <td>581479</td>\n      <td>581479.0</td>\n      <td>581479</td>\n      <td>581479</td>\n      <td>NaN</td>\n      <td>1</td>\n    </tr>\n    <tr>\n      <th>4</th>\n      <td>ParetoPark</td>\n      <td>3083</td>\n      <td>3083.0</td>\n      <td>3083</td>\n      <td>3083</td>\n      <td>NaN</td>\n      <td>1</td>\n    </tr>\n  </tbody>\n</table>\n</div>",
       "datasetInfos": [],
       "metadata": {},
       "removedWidgets": [],
       "textData": null,
       "type": "htmlSandbox"
      }
     },
     "output_type": "display_data"
    }
   ],
   "source": [
    "songs.groupBy('snippet_channelTitle').agg(F.sum(\"statistics_viewCount\").alias('Bob'), F.mean(\"statistics_viewCount\"), F.max(\"statistics_viewCount\"), F.min(\"statistics_viewCount\"), F.stddev(\"statistics_viewCount\"), F.count(\"statistics_viewCount\")).limit(5).toPandas()"
   ]
  },
  {
   "cell_type": "markdown",
   "metadata": {
    "application/vnd.databricks.v1+cell": {
     "cellMetadata": {},
     "inputWidgets": {},
     "nuid": "797bda23-b7af-4e22-a3a1-80bc0ac7bf7d",
     "showTitle": false,
     "title": ""
    }
   },
   "source": [
    "5. What are the top 5 channels by `mean_viewCount`?"
   ]
  },
  {
   "cell_type": "code",
   "execution_count": 0,
   "metadata": {
    "application/vnd.databricks.v1+cell": {
     "cellMetadata": {
      "byteLimit": 2048000,
      "rowLimit": 10000
     },
     "inputWidgets": {},
     "nuid": "40e3f47f-b336-486d-bd3c-2e9d9b97f4e5",
     "showTitle": false,
     "title": ""
    }
   },
   "outputs": [
    {
     "output_type": "display_data",
     "data": {
      "text/html": [
       "<div>\n",
       "<style scoped>\n",
       "    .dataframe tbody tr th:only-of-type {\n",
       "        vertical-align: middle;\n",
       "    }\n",
       "\n",
       "    .dataframe tbody tr th {\n",
       "        vertical-align: top;\n",
       "    }\n",
       "\n",
       "    .dataframe thead th {\n",
       "        text-align: right;\n",
       "    }\n",
       "</style>\n",
       "<table border=\"1\" class=\"dataframe\">\n",
       "  <thead>\n",
       "    <tr style=\"text-align: right;\">\n",
       "      <th></th>\n",
       "      <th>snippet_channelTitle</th>\n",
       "      <th>sum(statistics_viewCount)</th>\n",
       "      <th>Bob</th>\n",
       "      <th>max(statistics_viewCount)</th>\n",
       "      <th>min(statistics_viewCount)</th>\n",
       "      <th>stddev_samp(statistics_viewCount)</th>\n",
       "      <th>count(statistics_viewCount)</th>\n",
       "    </tr>\n",
       "  </thead>\n",
       "  <tbody>\n",
       "    <tr>\n",
       "      <th>0</th>\n",
       "      <td>OneRepublicVEVO</td>\n",
       "      <td>3058853981</td>\n",
       "      <td>3.058854e+09</td>\n",
       "      <td>3058853981</td>\n",
       "      <td>3058853981</td>\n",
       "      <td>NaN</td>\n",
       "      <td>1</td>\n",
       "    </tr>\n",
       "    <tr>\n",
       "      <th>1</th>\n",
       "      <td>Passenger</td>\n",
       "      <td>2789082191</td>\n",
       "      <td>2.789082e+09</td>\n",
       "      <td>2789082191</td>\n",
       "      <td>2789082191</td>\n",
       "      <td>NaN</td>\n",
       "      <td>1</td>\n",
       "    </tr>\n",
       "    <tr>\n",
       "      <th>2</th>\n",
       "      <td>gotyemusic</td>\n",
       "      <td>1506602164</td>\n",
       "      <td>1.506602e+09</td>\n",
       "      <td>1506602164</td>\n",
       "      <td>1506602164</td>\n",
       "      <td>NaN</td>\n",
       "      <td>1</td>\n",
       "    </tr>\n",
       "    <tr>\n",
       "      <th>3</th>\n",
       "      <td>GunsNRosesVEVO</td>\n",
       "      <td>1436168604</td>\n",
       "      <td>1.436169e+09</td>\n",
       "      <td>1436168604</td>\n",
       "      <td>1436168604</td>\n",
       "      <td>NaN</td>\n",
       "      <td>1</td>\n",
       "    </tr>\n",
       "    <tr>\n",
       "      <th>4</th>\n",
       "      <td>PitbullVEVO</td>\n",
       "      <td>1231470918</td>\n",
       "      <td>1.231471e+09</td>\n",
       "      <td>1231470918</td>\n",
       "      <td>1231470918</td>\n",
       "      <td>NaN</td>\n",
       "      <td>1</td>\n",
       "    </tr>\n",
       "  </tbody>\n",
       "</table>\n",
       "</div>"
      ]
     },
     "metadata": {
      "application/vnd.databricks.v1+output": {
       "addedWidgets": {},
       "arguments": {},
       "data": "<div>\n<style scoped>\n    .dataframe tbody tr th:only-of-type {\n        vertical-align: middle;\n    }\n\n    .dataframe tbody tr th {\n        vertical-align: top;\n    }\n\n    .dataframe thead th {\n        text-align: right;\n    }\n</style>\n<table border=\"1\" class=\"dataframe\">\n  <thead>\n    <tr style=\"text-align: right;\">\n      <th></th>\n      <th>snippet_channelTitle</th>\n      <th>sum(statistics_viewCount)</th>\n      <th>Bob</th>\n      <th>max(statistics_viewCount)</th>\n      <th>min(statistics_viewCount)</th>\n      <th>stddev_samp(statistics_viewCount)</th>\n      <th>count(statistics_viewCount)</th>\n    </tr>\n  </thead>\n  <tbody>\n    <tr>\n      <th>0</th>\n      <td>OneRepublicVEVO</td>\n      <td>3058853981</td>\n      <td>3.058854e+09</td>\n      <td>3058853981</td>\n      <td>3058853981</td>\n      <td>NaN</td>\n      <td>1</td>\n    </tr>\n    <tr>\n      <th>1</th>\n      <td>Passenger</td>\n      <td>2789082191</td>\n      <td>2.789082e+09</td>\n      <td>2789082191</td>\n      <td>2789082191</td>\n      <td>NaN</td>\n      <td>1</td>\n    </tr>\n    <tr>\n      <th>2</th>\n      <td>gotyemusic</td>\n      <td>1506602164</td>\n      <td>1.506602e+09</td>\n      <td>1506602164</td>\n      <td>1506602164</td>\n      <td>NaN</td>\n      <td>1</td>\n    </tr>\n    <tr>\n      <th>3</th>\n      <td>GunsNRosesVEVO</td>\n      <td>1436168604</td>\n      <td>1.436169e+09</td>\n      <td>1436168604</td>\n      <td>1436168604</td>\n      <td>NaN</td>\n      <td>1</td>\n    </tr>\n    <tr>\n      <th>4</th>\n      <td>PitbullVEVO</td>\n      <td>1231470918</td>\n      <td>1.231471e+09</td>\n      <td>1231470918</td>\n      <td>1231470918</td>\n      <td>NaN</td>\n      <td>1</td>\n    </tr>\n  </tbody>\n</table>\n</div>",
       "datasetInfos": [],
       "metadata": {},
       "removedWidgets": [],
       "textData": null,
       "type": "htmlSandbox"
      }
     },
     "output_type": "display_data"
    }
   ],
   "source": [
    "songs.groupBy('snippet_channelTitle').agg(F.sum(\"statistics_viewCount\"), F.mean(\"statistics_viewCount\").alias('Bob'), F.max(\"statistics_viewCount\"), F.min(\"statistics_viewCount\"), F.stddev(\"statistics_viewCount\"), F.count(\"statistics_viewCount\")).orderBy(F.desc('Bob')).limit(5).toPandas()"
   ]
  },
  {
   "cell_type": "code",
   "execution_count": 0,
   "metadata": {
    "application/vnd.databricks.v1+cell": {
     "cellMetadata": {},
     "inputWidgets": {},
     "nuid": "44472cbe-3509-4668-a9d5-22d679220015",
     "showTitle": false,
     "title": ""
    }
   },
   "outputs": [
    {
     "output_type": "display_data",
     "data": {
      "text/html": [
       "<div>\n",
       "<style scoped>\n",
       "    .dataframe tbody tr th:only-of-type {\n",
       "        vertical-align: middle;\n",
       "    }\n",
       "\n",
       "    .dataframe tbody tr th {\n",
       "        vertical-align: top;\n",
       "    }\n",
       "\n",
       "    .dataframe thead th {\n",
       "        text-align: right;\n",
       "    }\n",
       "</style>\n",
       "<table border=\"1\" class=\"dataframe\">\n",
       "  <thead>\n",
       "    <tr style=\"text-align: right;\">\n",
       "      <th></th>\n",
       "      <th>snippet_channelTitle</th>\n",
       "      <th>total_viewCount</th>\n",
       "      <th>mean_viewCount</th>\n",
       "      <th>min_viewCount</th>\n",
       "      <th>max_viewCount</th>\n",
       "      <th>stdViewCount</th>\n",
       "      <th>songsCount</th>\n",
       "    </tr>\n",
       "  </thead>\n",
       "  <tbody>\n",
       "    <tr>\n",
       "      <th>0</th>\n",
       "      <td>OneRepublicVEVO</td>\n",
       "      <td>3058853981</td>\n",
       "      <td>3.058854e+09</td>\n",
       "      <td>3058853981</td>\n",
       "      <td>3058853981</td>\n",
       "      <td>NaN</td>\n",
       "      <td>1</td>\n",
       "    </tr>\n",
       "    <tr>\n",
       "      <th>1</th>\n",
       "      <td>Passenger</td>\n",
       "      <td>2789082191</td>\n",
       "      <td>2.789082e+09</td>\n",
       "      <td>2789082191</td>\n",
       "      <td>2789082191</td>\n",
       "      <td>NaN</td>\n",
       "      <td>1</td>\n",
       "    </tr>\n",
       "    <tr>\n",
       "      <th>2</th>\n",
       "      <td>gotyemusic</td>\n",
       "      <td>1506602164</td>\n",
       "      <td>1.506602e+09</td>\n",
       "      <td>1506602164</td>\n",
       "      <td>1506602164</td>\n",
       "      <td>NaN</td>\n",
       "      <td>1</td>\n",
       "    </tr>\n",
       "    <tr>\n",
       "      <th>3</th>\n",
       "      <td>GunsNRosesVEVO</td>\n",
       "      <td>1436168604</td>\n",
       "      <td>1.436169e+09</td>\n",
       "      <td>1436168604</td>\n",
       "      <td>1436168604</td>\n",
       "      <td>NaN</td>\n",
       "      <td>1</td>\n",
       "    </tr>\n",
       "    <tr>\n",
       "      <th>4</th>\n",
       "      <td>PitbullVEVO</td>\n",
       "      <td>1231470918</td>\n",
       "      <td>1.231471e+09</td>\n",
       "      <td>1231470918</td>\n",
       "      <td>1231470918</td>\n",
       "      <td>NaN</td>\n",
       "      <td>1</td>\n",
       "    </tr>\n",
       "  </tbody>\n",
       "</table>\n",
       "</div>"
      ]
     },
     "metadata": {
      "application/vnd.databricks.v1+output": {
       "addedWidgets": {},
       "arguments": {},
       "data": "<div>\n<style scoped>\n    .dataframe tbody tr th:only-of-type {\n        vertical-align: middle;\n    }\n\n    .dataframe tbody tr th {\n        vertical-align: top;\n    }\n\n    .dataframe thead th {\n        text-align: right;\n    }\n</style>\n<table border=\"1\" class=\"dataframe\">\n  <thead>\n    <tr style=\"text-align: right;\">\n      <th></th>\n      <th>snippet_channelTitle</th>\n      <th>total_viewCount</th>\n      <th>mean_viewCount</th>\n      <th>min_viewCount</th>\n      <th>max_viewCount</th>\n      <th>stdViewCount</th>\n      <th>songsCount</th>\n    </tr>\n  </thead>\n  <tbody>\n    <tr>\n      <th>0</th>\n      <td>OneRepublicVEVO</td>\n      <td>3058853981</td>\n      <td>3.058854e+09</td>\n      <td>3058853981</td>\n      <td>3058853981</td>\n      <td>NaN</td>\n      <td>1</td>\n    </tr>\n    <tr>\n      <th>1</th>\n      <td>Passenger</td>\n      <td>2789082191</td>\n      <td>2.789082e+09</td>\n      <td>2789082191</td>\n      <td>2789082191</td>\n      <td>NaN</td>\n      <td>1</td>\n    </tr>\n    <tr>\n      <th>2</th>\n      <td>gotyemusic</td>\n      <td>1506602164</td>\n      <td>1.506602e+09</td>\n      <td>1506602164</td>\n      <td>1506602164</td>\n      <td>NaN</td>\n      <td>1</td>\n    </tr>\n    <tr>\n      <th>3</th>\n      <td>GunsNRosesVEVO</td>\n      <td>1436168604</td>\n      <td>1.436169e+09</td>\n      <td>1436168604</td>\n      <td>1436168604</td>\n      <td>NaN</td>\n      <td>1</td>\n    </tr>\n    <tr>\n      <th>4</th>\n      <td>PitbullVEVO</td>\n      <td>1231470918</td>\n      <td>1.231471e+09</td>\n      <td>1231470918</td>\n      <td>1231470918</td>\n      <td>NaN</td>\n      <td>1</td>\n    </tr>\n  </tbody>\n</table>\n</div>",
       "datasetInfos": [],
       "metadata": {},
       "removedWidgets": [],
       "textData": null,
       "type": "htmlSandbox"
      }
     },
     "output_type": "display_data"
    }
   ],
   "source": []
  },
  {
   "cell_type": "markdown",
   "metadata": {
    "application/vnd.databricks.v1+cell": {
     "cellMetadata": {},
     "inputWidgets": {},
     "nuid": "678606d2-8a68-4799-81f0-92a5e0ff7d4a",
     "showTitle": false,
     "title": ""
    }
   },
   "source": [
    "6. What are the top 5 channels by `max_viewCount`?"
   ]
  },
  {
   "cell_type": "code",
   "execution_count": 0,
   "metadata": {
    "application/vnd.databricks.v1+cell": {
     "cellMetadata": {
      "byteLimit": 2048000,
      "rowLimit": 10000
     },
     "inputWidgets": {},
     "nuid": "d9eb1f05-4f95-4c08-9086-ee687218fa56",
     "showTitle": false,
     "title": ""
    }
   },
   "outputs": [
    {
     "output_type": "display_data",
     "data": {
      "text/html": [
       "<div>\n",
       "<style scoped>\n",
       "    .dataframe tbody tr th:only-of-type {\n",
       "        vertical-align: middle;\n",
       "    }\n",
       "\n",
       "    .dataframe tbody tr th {\n",
       "        vertical-align: top;\n",
       "    }\n",
       "\n",
       "    .dataframe thead th {\n",
       "        text-align: right;\n",
       "    }\n",
       "</style>\n",
       "<table border=\"1\" class=\"dataframe\">\n",
       "  <thead>\n",
       "    <tr style=\"text-align: right;\">\n",
       "      <th></th>\n",
       "      <th>snippet_channelTitle</th>\n",
       "      <th>sum(statistics_viewCount)</th>\n",
       "      <th>avg(statistics_viewCount)</th>\n",
       "      <th>Bob</th>\n",
       "      <th>min(statistics_viewCount)</th>\n",
       "      <th>stddev_samp(statistics_viewCount)</th>\n",
       "      <th>count(statistics_viewCount)</th>\n",
       "    </tr>\n",
       "  </thead>\n",
       "  <tbody>\n",
       "    <tr>\n",
       "      <th>0</th>\n",
       "      <td>OneRepublicVEVO</td>\n",
       "      <td>3058853981</td>\n",
       "      <td>3.058854e+09</td>\n",
       "      <td>3058853981</td>\n",
       "      <td>3058853981</td>\n",
       "      <td>NaN</td>\n",
       "      <td>1</td>\n",
       "    </tr>\n",
       "    <tr>\n",
       "      <th>1</th>\n",
       "      <td>Passenger</td>\n",
       "      <td>2789082191</td>\n",
       "      <td>2.789082e+09</td>\n",
       "      <td>2789082191</td>\n",
       "      <td>2789082191</td>\n",
       "      <td>NaN</td>\n",
       "      <td>1</td>\n",
       "    </tr>\n",
       "    <tr>\n",
       "      <th>2</th>\n",
       "      <td>EminemVEVO</td>\n",
       "      <td>4181548740</td>\n",
       "      <td>8.363097e+08</td>\n",
       "      <td>2064352955</td>\n",
       "      <td>35244992</td>\n",
       "      <td>8.032428e+08</td>\n",
       "      <td>5</td>\n",
       "    </tr>\n",
       "    <tr>\n",
       "      <th>3</th>\n",
       "      <td>AviciiOfficialVEVO</td>\n",
       "      <td>2881230160</td>\n",
       "      <td>7.203075e+08</td>\n",
       "      <td>1963215194</td>\n",
       "      <td>73376915</td>\n",
       "      <td>8.477492e+08</td>\n",
       "      <td>4</td>\n",
       "    </tr>\n",
       "    <tr>\n",
       "      <th>4</th>\n",
       "      <td>gotyemusic</td>\n",
       "      <td>1506602164</td>\n",
       "      <td>1.506602e+09</td>\n",
       "      <td>1506602164</td>\n",
       "      <td>1506602164</td>\n",
       "      <td>NaN</td>\n",
       "      <td>1</td>\n",
       "    </tr>\n",
       "  </tbody>\n",
       "</table>\n",
       "</div>"
      ]
     },
     "metadata": {
      "application/vnd.databricks.v1+output": {
       "addedWidgets": {},
       "arguments": {},
       "data": "<div>\n<style scoped>\n    .dataframe tbody tr th:only-of-type {\n        vertical-align: middle;\n    }\n\n    .dataframe tbody tr th {\n        vertical-align: top;\n    }\n\n    .dataframe thead th {\n        text-align: right;\n    }\n</style>\n<table border=\"1\" class=\"dataframe\">\n  <thead>\n    <tr style=\"text-align: right;\">\n      <th></th>\n      <th>snippet_channelTitle</th>\n      <th>sum(statistics_viewCount)</th>\n      <th>avg(statistics_viewCount)</th>\n      <th>Bob</th>\n      <th>min(statistics_viewCount)</th>\n      <th>stddev_samp(statistics_viewCount)</th>\n      <th>count(statistics_viewCount)</th>\n    </tr>\n  </thead>\n  <tbody>\n    <tr>\n      <th>0</th>\n      <td>OneRepublicVEVO</td>\n      <td>3058853981</td>\n      <td>3.058854e+09</td>\n      <td>3058853981</td>\n      <td>3058853981</td>\n      <td>NaN</td>\n      <td>1</td>\n    </tr>\n    <tr>\n      <th>1</th>\n      <td>Passenger</td>\n      <td>2789082191</td>\n      <td>2.789082e+09</td>\n      <td>2789082191</td>\n      <td>2789082191</td>\n      <td>NaN</td>\n      <td>1</td>\n    </tr>\n    <tr>\n      <th>2</th>\n      <td>EminemVEVO</td>\n      <td>4181548740</td>\n      <td>8.363097e+08</td>\n      <td>2064352955</td>\n      <td>35244992</td>\n      <td>8.032428e+08</td>\n      <td>5</td>\n    </tr>\n    <tr>\n      <th>3</th>\n      <td>AviciiOfficialVEVO</td>\n      <td>2881230160</td>\n      <td>7.203075e+08</td>\n      <td>1963215194</td>\n      <td>73376915</td>\n      <td>8.477492e+08</td>\n      <td>4</td>\n    </tr>\n    <tr>\n      <th>4</th>\n      <td>gotyemusic</td>\n      <td>1506602164</td>\n      <td>1.506602e+09</td>\n      <td>1506602164</td>\n      <td>1506602164</td>\n      <td>NaN</td>\n      <td>1</td>\n    </tr>\n  </tbody>\n</table>\n</div>",
       "datasetInfos": [],
       "metadata": {},
       "removedWidgets": [],
       "textData": null,
       "type": "htmlSandbox"
      }
     },
     "output_type": "display_data"
    }
   ],
   "source": [
    "songs.groupBy('snippet_channelTitle').agg(F.sum(\"statistics_viewCount\"), F.mean(\"statistics_viewCount\"), F.max(\"statistics_viewCount\").alias('Bob'), F.min(\"statistics_viewCount\"), F.stddev(\"statistics_viewCount\"), F.count(\"statistics_viewCount\")).orderBy(F.desc('Bob')).limit(5).toPandas()"
   ]
  },
  {
   "cell_type": "code",
   "execution_count": 0,
   "metadata": {
    "application/vnd.databricks.v1+cell": {
     "cellMetadata": {},
     "inputWidgets": {},
     "nuid": "297f5469-0b29-4147-ad3c-c548c8017cf4",
     "showTitle": false,
     "title": ""
    }
   },
   "outputs": [
    {
     "output_type": "display_data",
     "data": {
      "text/html": [
       "<div>\n",
       "<style scoped>\n",
       "    .dataframe tbody tr th:only-of-type {\n",
       "        vertical-align: middle;\n",
       "    }\n",
       "\n",
       "    .dataframe tbody tr th {\n",
       "        vertical-align: top;\n",
       "    }\n",
       "\n",
       "    .dataframe thead th {\n",
       "        text-align: right;\n",
       "    }\n",
       "</style>\n",
       "<table border=\"1\" class=\"dataframe\">\n",
       "  <thead>\n",
       "    <tr style=\"text-align: right;\">\n",
       "      <th></th>\n",
       "      <th>snippet_channelTitle</th>\n",
       "      <th>total_viewCount</th>\n",
       "      <th>mean_viewCount</th>\n",
       "      <th>min_viewCount</th>\n",
       "      <th>max_viewCount</th>\n",
       "      <th>stdViewCount</th>\n",
       "      <th>songsCount</th>\n",
       "    </tr>\n",
       "  </thead>\n",
       "  <tbody>\n",
       "    <tr>\n",
       "      <th>0</th>\n",
       "      <td>OneRepublicVEVO</td>\n",
       "      <td>3058853981</td>\n",
       "      <td>3.058854e+09</td>\n",
       "      <td>3058853981</td>\n",
       "      <td>3058853981</td>\n",
       "      <td>NaN</td>\n",
       "      <td>1</td>\n",
       "    </tr>\n",
       "    <tr>\n",
       "      <th>1</th>\n",
       "      <td>Passenger</td>\n",
       "      <td>2789082191</td>\n",
       "      <td>2.789082e+09</td>\n",
       "      <td>2789082191</td>\n",
       "      <td>2789082191</td>\n",
       "      <td>NaN</td>\n",
       "      <td>1</td>\n",
       "    </tr>\n",
       "    <tr>\n",
       "      <th>2</th>\n",
       "      <td>EminemVEVO</td>\n",
       "      <td>4181548740</td>\n",
       "      <td>8.363097e+08</td>\n",
       "      <td>35244992</td>\n",
       "      <td>2064352955</td>\n",
       "      <td>8.032428e+08</td>\n",
       "      <td>5</td>\n",
       "    </tr>\n",
       "    <tr>\n",
       "      <th>3</th>\n",
       "      <td>AviciiOfficialVEVO</td>\n",
       "      <td>2881230160</td>\n",
       "      <td>7.203075e+08</td>\n",
       "      <td>73376915</td>\n",
       "      <td>1963215194</td>\n",
       "      <td>8.477492e+08</td>\n",
       "      <td>4</td>\n",
       "    </tr>\n",
       "    <tr>\n",
       "      <th>4</th>\n",
       "      <td>gotyemusic</td>\n",
       "      <td>1506602164</td>\n",
       "      <td>1.506602e+09</td>\n",
       "      <td>1506602164</td>\n",
       "      <td>1506602164</td>\n",
       "      <td>NaN</td>\n",
       "      <td>1</td>\n",
       "    </tr>\n",
       "  </tbody>\n",
       "</table>\n",
       "</div>"
      ]
     },
     "metadata": {
      "application/vnd.databricks.v1+output": {
       "addedWidgets": {},
       "arguments": {},
       "data": "<div>\n<style scoped>\n    .dataframe tbody tr th:only-of-type {\n        vertical-align: middle;\n    }\n\n    .dataframe tbody tr th {\n        vertical-align: top;\n    }\n\n    .dataframe thead th {\n        text-align: right;\n    }\n</style>\n<table border=\"1\" class=\"dataframe\">\n  <thead>\n    <tr style=\"text-align: right;\">\n      <th></th>\n      <th>snippet_channelTitle</th>\n      <th>total_viewCount</th>\n      <th>mean_viewCount</th>\n      <th>min_viewCount</th>\n      <th>max_viewCount</th>\n      <th>stdViewCount</th>\n      <th>songsCount</th>\n    </tr>\n  </thead>\n  <tbody>\n    <tr>\n      <th>0</th>\n      <td>OneRepublicVEVO</td>\n      <td>3058853981</td>\n      <td>3.058854e+09</td>\n      <td>3058853981</td>\n      <td>3058853981</td>\n      <td>NaN</td>\n      <td>1</td>\n    </tr>\n    <tr>\n      <th>1</th>\n      <td>Passenger</td>\n      <td>2789082191</td>\n      <td>2.789082e+09</td>\n      <td>2789082191</td>\n      <td>2789082191</td>\n      <td>NaN</td>\n      <td>1</td>\n    </tr>\n    <tr>\n      <th>2</th>\n      <td>EminemVEVO</td>\n      <td>4181548740</td>\n      <td>8.363097e+08</td>\n      <td>35244992</td>\n      <td>2064352955</td>\n      <td>8.032428e+08</td>\n      <td>5</td>\n    </tr>\n    <tr>\n      <th>3</th>\n      <td>AviciiOfficialVEVO</td>\n      <td>2881230160</td>\n      <td>7.203075e+08</td>\n      <td>73376915</td>\n      <td>1963215194</td>\n      <td>8.477492e+08</td>\n      <td>4</td>\n    </tr>\n    <tr>\n      <th>4</th>\n      <td>gotyemusic</td>\n      <td>1506602164</td>\n      <td>1.506602e+09</td>\n      <td>1506602164</td>\n      <td>1506602164</td>\n      <td>NaN</td>\n      <td>1</td>\n    </tr>\n  </tbody>\n</table>\n</div>",
       "datasetInfos": [],
       "metadata": {},
       "removedWidgets": [],
       "textData": null,
       "type": "htmlSandbox"
      }
     },
     "output_type": "display_data"
    }
   ],
   "source": []
  },
  {
   "cell_type": "markdown",
   "metadata": {
    "application/vnd.databricks.v1+cell": {
     "cellMetadata": {},
     "inputWidgets": {},
     "nuid": "7222c533-58b3-4cef-8402-3a1c9d668730",
     "showTitle": false,
     "title": ""
    }
   },
   "source": [
    "7. What are the top 5 channels by `total_viewCount`?"
   ]
  },
  {
   "cell_type": "code",
   "execution_count": 0,
   "metadata": {
    "application/vnd.databricks.v1+cell": {
     "cellMetadata": {
      "byteLimit": 2048000,
      "rowLimit": 10000
     },
     "inputWidgets": {},
     "nuid": "f32faa11-2f81-4918-808f-aef3f72813a9",
     "showTitle": false,
     "title": ""
    }
   },
   "outputs": [
    {
     "output_type": "display_data",
     "data": {
      "text/html": [
       "<div>\n",
       "<style scoped>\n",
       "    .dataframe tbody tr th:only-of-type {\n",
       "        vertical-align: middle;\n",
       "    }\n",
       "\n",
       "    .dataframe tbody tr th {\n",
       "        vertical-align: top;\n",
       "    }\n",
       "\n",
       "    .dataframe thead th {\n",
       "        text-align: right;\n",
       "    }\n",
       "</style>\n",
       "<table border=\"1\" class=\"dataframe\">\n",
       "  <thead>\n",
       "    <tr style=\"text-align: right;\">\n",
       "      <th></th>\n",
       "      <th>snippet_channelTitle</th>\n",
       "      <th>Bob</th>\n",
       "      <th>avg(statistics_viewCount)</th>\n",
       "      <th>max(statistics_viewCount)</th>\n",
       "      <th>min(statistics_viewCount)</th>\n",
       "      <th>stddev_samp(statistics_viewCount)</th>\n",
       "      <th>count(statistics_viewCount)</th>\n",
       "    </tr>\n",
       "  </thead>\n",
       "  <tbody>\n",
       "    <tr>\n",
       "      <th>0</th>\n",
       "      <td>EminemVEVO</td>\n",
       "      <td>4181548740</td>\n",
       "      <td>8.363097e+08</td>\n",
       "      <td>2064352955</td>\n",
       "      <td>35244992</td>\n",
       "      <td>8.032428e+08</td>\n",
       "      <td>5</td>\n",
       "    </tr>\n",
       "    <tr>\n",
       "      <th>1</th>\n",
       "      <td>OneRepublicVEVO</td>\n",
       "      <td>3058853981</td>\n",
       "      <td>3.058854e+09</td>\n",
       "      <td>3058853981</td>\n",
       "      <td>3058853981</td>\n",
       "      <td>NaN</td>\n",
       "      <td>1</td>\n",
       "    </tr>\n",
       "    <tr>\n",
       "      <th>2</th>\n",
       "      <td>AviciiOfficialVEVO</td>\n",
       "      <td>2881230160</td>\n",
       "      <td>7.203075e+08</td>\n",
       "      <td>1963215194</td>\n",
       "      <td>73376915</td>\n",
       "      <td>8.477492e+08</td>\n",
       "      <td>4</td>\n",
       "    </tr>\n",
       "    <tr>\n",
       "      <th>3</th>\n",
       "      <td>Passenger</td>\n",
       "      <td>2789082191</td>\n",
       "      <td>2.789082e+09</td>\n",
       "      <td>2789082191</td>\n",
       "      <td>2789082191</td>\n",
       "      <td>NaN</td>\n",
       "      <td>1</td>\n",
       "    </tr>\n",
       "    <tr>\n",
       "      <th>4</th>\n",
       "      <td>Macklemore LLC</td>\n",
       "      <td>2541772489</td>\n",
       "      <td>8.472575e+08</td>\n",
       "      <td>1477980957</td>\n",
       "      <td>252792552</td>\n",
       "      <td>6.133985e+08</td>\n",
       "      <td>3</td>\n",
       "    </tr>\n",
       "  </tbody>\n",
       "</table>\n",
       "</div>"
      ]
     },
     "metadata": {
      "application/vnd.databricks.v1+output": {
       "addedWidgets": {},
       "arguments": {},
       "data": "<div>\n<style scoped>\n    .dataframe tbody tr th:only-of-type {\n        vertical-align: middle;\n    }\n\n    .dataframe tbody tr th {\n        vertical-align: top;\n    }\n\n    .dataframe thead th {\n        text-align: right;\n    }\n</style>\n<table border=\"1\" class=\"dataframe\">\n  <thead>\n    <tr style=\"text-align: right;\">\n      <th></th>\n      <th>snippet_channelTitle</th>\n      <th>Bob</th>\n      <th>avg(statistics_viewCount)</th>\n      <th>max(statistics_viewCount)</th>\n      <th>min(statistics_viewCount)</th>\n      <th>stddev_samp(statistics_viewCount)</th>\n      <th>count(statistics_viewCount)</th>\n    </tr>\n  </thead>\n  <tbody>\n    <tr>\n      <th>0</th>\n      <td>EminemVEVO</td>\n      <td>4181548740</td>\n      <td>8.363097e+08</td>\n      <td>2064352955</td>\n      <td>35244992</td>\n      <td>8.032428e+08</td>\n      <td>5</td>\n    </tr>\n    <tr>\n      <th>1</th>\n      <td>OneRepublicVEVO</td>\n      <td>3058853981</td>\n      <td>3.058854e+09</td>\n      <td>3058853981</td>\n      <td>3058853981</td>\n      <td>NaN</td>\n      <td>1</td>\n    </tr>\n    <tr>\n      <th>2</th>\n      <td>AviciiOfficialVEVO</td>\n      <td>2881230160</td>\n      <td>7.203075e+08</td>\n      <td>1963215194</td>\n      <td>73376915</td>\n      <td>8.477492e+08</td>\n      <td>4</td>\n    </tr>\n    <tr>\n      <th>3</th>\n      <td>Passenger</td>\n      <td>2789082191</td>\n      <td>2.789082e+09</td>\n      <td>2789082191</td>\n      <td>2789082191</td>\n      <td>NaN</td>\n      <td>1</td>\n    </tr>\n    <tr>\n      <th>4</th>\n      <td>Macklemore LLC</td>\n      <td>2541772489</td>\n      <td>8.472575e+08</td>\n      <td>1477980957</td>\n      <td>252792552</td>\n      <td>6.133985e+08</td>\n      <td>3</td>\n    </tr>\n  </tbody>\n</table>\n</div>",
       "datasetInfos": [],
       "metadata": {},
       "removedWidgets": [],
       "textData": null,
       "type": "htmlSandbox"
      }
     },
     "output_type": "display_data"
    }
   ],
   "source": [
    "songs.groupBy('snippet_channelTitle').agg(F.sum(\"statistics_viewCount\").alias('Bob'), F.mean(\"statistics_viewCount\"), F.max(\"statistics_viewCount\"), F.min(\"statistics_viewCount\"), F.stddev(\"statistics_viewCount\"), F.count(\"statistics_viewCount\")).orderBy(F.desc('Bob')).limit(5).toPandas()"
   ]
  },
  {
   "cell_type": "code",
   "execution_count": 0,
   "metadata": {
    "application/vnd.databricks.v1+cell": {
     "cellMetadata": {},
     "inputWidgets": {},
     "nuid": "e96fb863-9fc8-45ea-8c3d-4819f08c0139",
     "showTitle": false,
     "title": ""
    }
   },
   "outputs": [
    {
     "output_type": "display_data",
     "data": {
      "text/html": [
       "<div>\n",
       "<style scoped>\n",
       "    .dataframe tbody tr th:only-of-type {\n",
       "        vertical-align: middle;\n",
       "    }\n",
       "\n",
       "    .dataframe tbody tr th {\n",
       "        vertical-align: top;\n",
       "    }\n",
       "\n",
       "    .dataframe thead th {\n",
       "        text-align: right;\n",
       "    }\n",
       "</style>\n",
       "<table border=\"1\" class=\"dataframe\">\n",
       "  <thead>\n",
       "    <tr style=\"text-align: right;\">\n",
       "      <th></th>\n",
       "      <th>snippet_channelTitle</th>\n",
       "      <th>total_viewCount</th>\n",
       "      <th>mean_viewCount</th>\n",
       "      <th>min_viewCount</th>\n",
       "      <th>max_viewCount</th>\n",
       "      <th>stdViewCount</th>\n",
       "      <th>songsCount</th>\n",
       "    </tr>\n",
       "  </thead>\n",
       "  <tbody>\n",
       "    <tr>\n",
       "      <th>0</th>\n",
       "      <td>EminemVEVO</td>\n",
       "      <td>4181548740</td>\n",
       "      <td>8.363097e+08</td>\n",
       "      <td>35244992</td>\n",
       "      <td>2064352955</td>\n",
       "      <td>8.032428e+08</td>\n",
       "      <td>5</td>\n",
       "    </tr>\n",
       "    <tr>\n",
       "      <th>1</th>\n",
       "      <td>OneRepublicVEVO</td>\n",
       "      <td>3058853981</td>\n",
       "      <td>3.058854e+09</td>\n",
       "      <td>3058853981</td>\n",
       "      <td>3058853981</td>\n",
       "      <td>NaN</td>\n",
       "      <td>1</td>\n",
       "    </tr>\n",
       "    <tr>\n",
       "      <th>2</th>\n",
       "      <td>AviciiOfficialVEVO</td>\n",
       "      <td>2881230160</td>\n",
       "      <td>7.203075e+08</td>\n",
       "      <td>73376915</td>\n",
       "      <td>1963215194</td>\n",
       "      <td>8.477492e+08</td>\n",
       "      <td>4</td>\n",
       "    </tr>\n",
       "    <tr>\n",
       "      <th>3</th>\n",
       "      <td>Passenger</td>\n",
       "      <td>2789082191</td>\n",
       "      <td>2.789082e+09</td>\n",
       "      <td>2789082191</td>\n",
       "      <td>2789082191</td>\n",
       "      <td>NaN</td>\n",
       "      <td>1</td>\n",
       "    </tr>\n",
       "    <tr>\n",
       "      <th>4</th>\n",
       "      <td>Macklemore LLC</td>\n",
       "      <td>2541772489</td>\n",
       "      <td>8.472575e+08</td>\n",
       "      <td>252792552</td>\n",
       "      <td>1477980957</td>\n",
       "      <td>6.133985e+08</td>\n",
       "      <td>3</td>\n",
       "    </tr>\n",
       "  </tbody>\n",
       "</table>\n",
       "</div>"
      ]
     },
     "metadata": {
      "application/vnd.databricks.v1+output": {
       "addedWidgets": {},
       "arguments": {},
       "data": "<div>\n<style scoped>\n    .dataframe tbody tr th:only-of-type {\n        vertical-align: middle;\n    }\n\n    .dataframe tbody tr th {\n        vertical-align: top;\n    }\n\n    .dataframe thead th {\n        text-align: right;\n    }\n</style>\n<table border=\"1\" class=\"dataframe\">\n  <thead>\n    <tr style=\"text-align: right;\">\n      <th></th>\n      <th>snippet_channelTitle</th>\n      <th>total_viewCount</th>\n      <th>mean_viewCount</th>\n      <th>min_viewCount</th>\n      <th>max_viewCount</th>\n      <th>stdViewCount</th>\n      <th>songsCount</th>\n    </tr>\n  </thead>\n  <tbody>\n    <tr>\n      <th>0</th>\n      <td>EminemVEVO</td>\n      <td>4181548740</td>\n      <td>8.363097e+08</td>\n      <td>35244992</td>\n      <td>2064352955</td>\n      <td>8.032428e+08</td>\n      <td>5</td>\n    </tr>\n    <tr>\n      <th>1</th>\n      <td>OneRepublicVEVO</td>\n      <td>3058853981</td>\n      <td>3.058854e+09</td>\n      <td>3058853981</td>\n      <td>3058853981</td>\n      <td>NaN</td>\n      <td>1</td>\n    </tr>\n    <tr>\n      <th>2</th>\n      <td>AviciiOfficialVEVO</td>\n      <td>2881230160</td>\n      <td>7.203075e+08</td>\n      <td>73376915</td>\n      <td>1963215194</td>\n      <td>8.477492e+08</td>\n      <td>4</td>\n    </tr>\n    <tr>\n      <th>3</th>\n      <td>Passenger</td>\n      <td>2789082191</td>\n      <td>2.789082e+09</td>\n      <td>2789082191</td>\n      <td>2789082191</td>\n      <td>NaN</td>\n      <td>1</td>\n    </tr>\n    <tr>\n      <th>4</th>\n      <td>Macklemore LLC</td>\n      <td>2541772489</td>\n      <td>8.472575e+08</td>\n      <td>252792552</td>\n      <td>1477980957</td>\n      <td>6.133985e+08</td>\n      <td>3</td>\n    </tr>\n  </tbody>\n</table>\n</div>",
       "datasetInfos": [],
       "metadata": {},
       "removedWidgets": [],
       "textData": null,
       "type": "htmlSandbox"
      }
     },
     "output_type": "display_data"
    }
   ],
   "source": []
  },
  {
   "cell_type": "markdown",
   "metadata": {
    "application/vnd.databricks.v1+cell": {
     "cellMetadata": {},
     "inputWidgets": {},
     "nuid": "edbfadbd-6b3b-4ef4-8541-c317f24e88c7",
     "showTitle": false,
     "title": ""
    }
   },
   "source": [
    "8. What are the top 5 channels by number of songs on our service?"
   ]
  },
  {
   "cell_type": "code",
   "execution_count": 0,
   "metadata": {
    "application/vnd.databricks.v1+cell": {
     "cellMetadata": {
      "byteLimit": 2048000,
      "rowLimit": 10000
     },
     "inputWidgets": {},
     "nuid": "1b74d61f-8483-4daa-aacf-ab830032b7f9",
     "showTitle": false,
     "title": ""
    }
   },
   "outputs": [
    {
     "output_type": "display_data",
     "data": {
      "text/html": [
       "<div>\n",
       "<style scoped>\n",
       "    .dataframe tbody tr th:only-of-type {\n",
       "        vertical-align: middle;\n",
       "    }\n",
       "\n",
       "    .dataframe tbody tr th {\n",
       "        vertical-align: top;\n",
       "    }\n",
       "\n",
       "    .dataframe thead th {\n",
       "        text-align: right;\n",
       "    }\n",
       "</style>\n",
       "<table border=\"1\" class=\"dataframe\">\n",
       "  <thead>\n",
       "    <tr style=\"text-align: right;\">\n",
       "      <th></th>\n",
       "      <th>snippet_channelTitle</th>\n",
       "      <th>sum(statistics_viewCount)</th>\n",
       "      <th>avg(statistics_viewCount)</th>\n",
       "      <th>max(statistics_viewCount)</th>\n",
       "      <th>min(statistics_viewCount)</th>\n",
       "      <th>stddev_samp(statistics_viewCount)</th>\n",
       "      <th>Bob</th>\n",
       "    </tr>\n",
       "  </thead>\n",
       "  <tbody>\n",
       "    <tr>\n",
       "      <th>0</th>\n",
       "      <td>TheSoundYouNeed</td>\n",
       "      <td>1713339950</td>\n",
       "      <td>4.283350e+07</td>\n",
       "      <td>512730266</td>\n",
       "      <td>481371</td>\n",
       "      <td>1.090023e+08</td>\n",
       "      <td>40</td>\n",
       "    </tr>\n",
       "    <tr>\n",
       "      <th>1</th>\n",
       "      <td>Majestic Casual</td>\n",
       "      <td>271966905</td>\n",
       "      <td>7.770483e+06</td>\n",
       "      <td>54628130</td>\n",
       "      <td>329645</td>\n",
       "      <td>1.400784e+07</td>\n",
       "      <td>35</td>\n",
       "    </tr>\n",
       "    <tr>\n",
       "      <th>2</th>\n",
       "      <td>Spinnin' Records</td>\n",
       "      <td>2256309801</td>\n",
       "      <td>1.253505e+08</td>\n",
       "      <td>1425286294</td>\n",
       "      <td>182933</td>\n",
       "      <td>3.455796e+08</td>\n",
       "      <td>18</td>\n",
       "    </tr>\n",
       "    <tr>\n",
       "      <th>3</th>\n",
       "      <td>MrSuicideSheep</td>\n",
       "      <td>149500698</td>\n",
       "      <td>8.305594e+06</td>\n",
       "      <td>96501569</td>\n",
       "      <td>539727</td>\n",
       "      <td>2.239703e+07</td>\n",
       "      <td>18</td>\n",
       "    </tr>\n",
       "    <tr>\n",
       "      <th>4</th>\n",
       "      <td>FAUVE</td>\n",
       "      <td>66064873</td>\n",
       "      <td>3.886169e+06</td>\n",
       "      <td>12990703</td>\n",
       "      <td>223988</td>\n",
       "      <td>4.195480e+06</td>\n",
       "      <td>17</td>\n",
       "    </tr>\n",
       "  </tbody>\n",
       "</table>\n",
       "</div>"
      ]
     },
     "metadata": {
      "application/vnd.databricks.v1+output": {
       "addedWidgets": {},
       "arguments": {},
       "data": "<div>\n<style scoped>\n    .dataframe tbody tr th:only-of-type {\n        vertical-align: middle;\n    }\n\n    .dataframe tbody tr th {\n        vertical-align: top;\n    }\n\n    .dataframe thead th {\n        text-align: right;\n    }\n</style>\n<table border=\"1\" class=\"dataframe\">\n  <thead>\n    <tr style=\"text-align: right;\">\n      <th></th>\n      <th>snippet_channelTitle</th>\n      <th>sum(statistics_viewCount)</th>\n      <th>avg(statistics_viewCount)</th>\n      <th>max(statistics_viewCount)</th>\n      <th>min(statistics_viewCount)</th>\n      <th>stddev_samp(statistics_viewCount)</th>\n      <th>Bob</th>\n    </tr>\n  </thead>\n  <tbody>\n    <tr>\n      <th>0</th>\n      <td>TheSoundYouNeed</td>\n      <td>1713339950</td>\n      <td>4.283350e+07</td>\n      <td>512730266</td>\n      <td>481371</td>\n      <td>1.090023e+08</td>\n      <td>40</td>\n    </tr>\n    <tr>\n      <th>1</th>\n      <td>Majestic Casual</td>\n      <td>271966905</td>\n      <td>7.770483e+06</td>\n      <td>54628130</td>\n      <td>329645</td>\n      <td>1.400784e+07</td>\n      <td>35</td>\n    </tr>\n    <tr>\n      <th>2</th>\n      <td>Spinnin' Records</td>\n      <td>2256309801</td>\n      <td>1.253505e+08</td>\n      <td>1425286294</td>\n      <td>182933</td>\n      <td>3.455796e+08</td>\n      <td>18</td>\n    </tr>\n    <tr>\n      <th>3</th>\n      <td>MrSuicideSheep</td>\n      <td>149500698</td>\n      <td>8.305594e+06</td>\n      <td>96501569</td>\n      <td>539727</td>\n      <td>2.239703e+07</td>\n      <td>18</td>\n    </tr>\n    <tr>\n      <th>4</th>\n      <td>FAUVE</td>\n      <td>66064873</td>\n      <td>3.886169e+06</td>\n      <td>12990703</td>\n      <td>223988</td>\n      <td>4.195480e+06</td>\n      <td>17</td>\n    </tr>\n  </tbody>\n</table>\n</div>",
       "datasetInfos": [],
       "metadata": {},
       "removedWidgets": [],
       "textData": null,
       "type": "htmlSandbox"
      }
     },
     "output_type": "display_data"
    }
   ],
   "source": [
    "songs.groupBy('snippet_channelTitle').agg(F.sum(\"statistics_viewCount\"), F.mean(\"statistics_viewCount\"), F.max(\"statistics_viewCount\"), F.min(\"statistics_viewCount\"), F.stddev(\"statistics_viewCount\"), F.count(\"statistics_viewCount\").alias('Bob')).orderBy(F.desc('Bob')).limit(5).toPandas()"
   ]
  },
  {
   "cell_type": "code",
   "execution_count": 0,
   "metadata": {
    "application/vnd.databricks.v1+cell": {
     "cellMetadata": {},
     "inputWidgets": {},
     "nuid": "9a29a8dd-707c-47ba-9da8-de59bbce8a6a",
     "showTitle": false,
     "title": ""
    }
   },
   "outputs": [
    {
     "output_type": "display_data",
     "data": {
      "text/html": [
       "<div>\n",
       "<style scoped>\n",
       "    .dataframe tbody tr th:only-of-type {\n",
       "        vertical-align: middle;\n",
       "    }\n",
       "\n",
       "    .dataframe tbody tr th {\n",
       "        vertical-align: top;\n",
       "    }\n",
       "\n",
       "    .dataframe thead th {\n",
       "        text-align: right;\n",
       "    }\n",
       "</style>\n",
       "<table border=\"1\" class=\"dataframe\">\n",
       "  <thead>\n",
       "    <tr style=\"text-align: right;\">\n",
       "      <th></th>\n",
       "      <th>snippet_channelTitle</th>\n",
       "      <th>total_viewCount</th>\n",
       "      <th>mean_viewCount</th>\n",
       "      <th>min_viewCount</th>\n",
       "      <th>max_viewCount</th>\n",
       "      <th>stdViewCount</th>\n",
       "      <th>songsCount</th>\n",
       "    </tr>\n",
       "  </thead>\n",
       "  <tbody>\n",
       "    <tr>\n",
       "      <th>0</th>\n",
       "      <td>TheSoundYouNeed</td>\n",
       "      <td>1713339950</td>\n",
       "      <td>4.283350e+07</td>\n",
       "      <td>481371</td>\n",
       "      <td>512730266</td>\n",
       "      <td>1.090023e+08</td>\n",
       "      <td>40</td>\n",
       "    </tr>\n",
       "    <tr>\n",
       "      <th>1</th>\n",
       "      <td>Majestic Casual</td>\n",
       "      <td>271966905</td>\n",
       "      <td>7.770483e+06</td>\n",
       "      <td>329645</td>\n",
       "      <td>54628130</td>\n",
       "      <td>1.400784e+07</td>\n",
       "      <td>35</td>\n",
       "    </tr>\n",
       "    <tr>\n",
       "      <th>2</th>\n",
       "      <td>Spinnin' Records</td>\n",
       "      <td>2256309801</td>\n",
       "      <td>1.253505e+08</td>\n",
       "      <td>182933</td>\n",
       "      <td>1425286294</td>\n",
       "      <td>3.455796e+08</td>\n",
       "      <td>18</td>\n",
       "    </tr>\n",
       "    <tr>\n",
       "      <th>3</th>\n",
       "      <td>MrSuicideSheep</td>\n",
       "      <td>149500698</td>\n",
       "      <td>8.305594e+06</td>\n",
       "      <td>539727</td>\n",
       "      <td>96501569</td>\n",
       "      <td>2.239703e+07</td>\n",
       "      <td>18</td>\n",
       "    </tr>\n",
       "    <tr>\n",
       "      <th>4</th>\n",
       "      <td>FAUVE</td>\n",
       "      <td>66064873</td>\n",
       "      <td>3.886169e+06</td>\n",
       "      <td>223988</td>\n",
       "      <td>12990703</td>\n",
       "      <td>4.195480e+06</td>\n",
       "      <td>17</td>\n",
       "    </tr>\n",
       "  </tbody>\n",
       "</table>\n",
       "</div>"
      ]
     },
     "metadata": {
      "application/vnd.databricks.v1+output": {
       "addedWidgets": {},
       "arguments": {},
       "data": "<div>\n<style scoped>\n    .dataframe tbody tr th:only-of-type {\n        vertical-align: middle;\n    }\n\n    .dataframe tbody tr th {\n        vertical-align: top;\n    }\n\n    .dataframe thead th {\n        text-align: right;\n    }\n</style>\n<table border=\"1\" class=\"dataframe\">\n  <thead>\n    <tr style=\"text-align: right;\">\n      <th></th>\n      <th>snippet_channelTitle</th>\n      <th>total_viewCount</th>\n      <th>mean_viewCount</th>\n      <th>min_viewCount</th>\n      <th>max_viewCount</th>\n      <th>stdViewCount</th>\n      <th>songsCount</th>\n    </tr>\n  </thead>\n  <tbody>\n    <tr>\n      <th>0</th>\n      <td>TheSoundYouNeed</td>\n      <td>1713339950</td>\n      <td>4.283350e+07</td>\n      <td>481371</td>\n      <td>512730266</td>\n      <td>1.090023e+08</td>\n      <td>40</td>\n    </tr>\n    <tr>\n      <th>1</th>\n      <td>Majestic Casual</td>\n      <td>271966905</td>\n      <td>7.770483e+06</td>\n      <td>329645</td>\n      <td>54628130</td>\n      <td>1.400784e+07</td>\n      <td>35</td>\n    </tr>\n    <tr>\n      <th>2</th>\n      <td>Spinnin' Records</td>\n      <td>2256309801</td>\n      <td>1.253505e+08</td>\n      <td>182933</td>\n      <td>1425286294</td>\n      <td>3.455796e+08</td>\n      <td>18</td>\n    </tr>\n    <tr>\n      <th>3</th>\n      <td>MrSuicideSheep</td>\n      <td>149500698</td>\n      <td>8.305594e+06</td>\n      <td>539727</td>\n      <td>96501569</td>\n      <td>2.239703e+07</td>\n      <td>18</td>\n    </tr>\n    <tr>\n      <th>4</th>\n      <td>FAUVE</td>\n      <td>66064873</td>\n      <td>3.886169e+06</td>\n      <td>223988</td>\n      <td>12990703</td>\n      <td>4.195480e+06</td>\n      <td>17</td>\n    </tr>\n  </tbody>\n</table>\n</div>",
       "datasetInfos": [],
       "metadata": {},
       "removedWidgets": [],
       "textData": null,
       "type": "htmlSandbox"
      }
     },
     "output_type": "display_data"
    }
   ],
   "source": []
  },
  {
   "cell_type": "markdown",
   "metadata": {
    "application/vnd.databricks.v1+cell": {
     "cellMetadata": {},
     "inputWidgets": {},
     "nuid": "b8f0408b-4cc6-4159-9322-a415f5e58e67",
     "showTitle": false,
     "title": ""
    }
   },
   "source": [
    "9. Scatter plot log of `meanViewCount` vs log of `trackCount`"
   ]
  },
  {
   "cell_type": "code",
   "execution_count": 0,
   "metadata": {
    "application/vnd.databricks.v1+cell": {
     "cellMetadata": {
      "byteLimit": 2048000,
      "rowLimit": 10000
     },
     "inputWidgets": {},
     "nuid": "6744c379-b5d9-4c1a-bb1d-70fa1142ef26",
     "showTitle": false,
     "title": ""
    }
   },
   "outputs": [
    {
     "output_type": "display_data",
     "data": {
      "text/html": [
       "<div>\n",
       "<style scoped>\n",
       "    .dataframe tbody tr th:only-of-type {\n",
       "        vertical-align: middle;\n",
       "    }\n",
       "\n",
       "    .dataframe tbody tr th {\n",
       "        vertical-align: top;\n",
       "    }\n",
       "\n",
       "    .dataframe thead th {\n",
       "        text-align: right;\n",
       "    }\n",
       "</style>\n",
       "<table border=\"1\" class=\"dataframe\">\n",
       "  <thead>\n",
       "    <tr style=\"text-align: right;\">\n",
       "      <th></th>\n",
       "      <th>snippet_channelTitle</th>\n",
       "      <th>ln(avg(statistics_viewCount))</th>\n",
       "      <th>ln(count(statistics_viewCount))</th>\n",
       "    </tr>\n",
       "  </thead>\n",
       "  <tbody>\n",
       "    <tr>\n",
       "      <th>0</th>\n",
       "      <td>Being part of something special, makes you spe...</td>\n",
       "      <td>16.640813</td>\n",
       "      <td>1.386294</td>\n",
       "    </tr>\n",
       "    <tr>\n",
       "      <th>1</th>\n",
       "      <td>Grimes</td>\n",
       "      <td>17.326380</td>\n",
       "      <td>0.693147</td>\n",
       "    </tr>\n",
       "    <tr>\n",
       "      <th>2</th>\n",
       "      <td>Sargent House</td>\n",
       "      <td>11.727101</td>\n",
       "      <td>0.000000</td>\n",
       "    </tr>\n",
       "    <tr>\n",
       "      <th>3</th>\n",
       "      <td>WildBeastsVEVO</td>\n",
       "      <td>13.273330</td>\n",
       "      <td>0.000000</td>\n",
       "    </tr>\n",
       "    <tr>\n",
       "      <th>4</th>\n",
       "      <td>ParetoPark</td>\n",
       "      <td>8.033658</td>\n",
       "      <td>0.000000</td>\n",
       "    </tr>\n",
       "  </tbody>\n",
       "</table>\n",
       "</div>"
      ]
     },
     "metadata": {
      "application/vnd.databricks.v1+output": {
       "addedWidgets": {},
       "arguments": {},
       "data": "<div>\n<style scoped>\n    .dataframe tbody tr th:only-of-type {\n        vertical-align: middle;\n    }\n\n    .dataframe tbody tr th {\n        vertical-align: top;\n    }\n\n    .dataframe thead th {\n        text-align: right;\n    }\n</style>\n<table border=\"1\" class=\"dataframe\">\n  <thead>\n    <tr style=\"text-align: right;\">\n      <th></th>\n      <th>snippet_channelTitle</th>\n      <th>ln(avg(statistics_viewCount))</th>\n      <th>ln(count(statistics_viewCount))</th>\n    </tr>\n  </thead>\n  <tbody>\n    <tr>\n      <th>0</th>\n      <td>Being part of something special, makes you spe...</td>\n      <td>16.640813</td>\n      <td>1.386294</td>\n    </tr>\n    <tr>\n      <th>1</th>\n      <td>Grimes</td>\n      <td>17.326380</td>\n      <td>0.693147</td>\n    </tr>\n    <tr>\n      <th>2</th>\n      <td>Sargent House</td>\n      <td>11.727101</td>\n      <td>0.000000</td>\n    </tr>\n    <tr>\n      <th>3</th>\n      <td>WildBeastsVEVO</td>\n      <td>13.273330</td>\n      <td>0.000000</td>\n    </tr>\n    <tr>\n      <th>4</th>\n      <td>ParetoPark</td>\n      <td>8.033658</td>\n      <td>0.000000</td>\n    </tr>\n  </tbody>\n</table>\n</div>",
       "datasetInfos": [],
       "metadata": {},
       "removedWidgets": [],
       "textData": null,
       "type": "htmlSandbox"
      }
     },
     "output_type": "display_data"
    }
   ],
   "source": [
    "songs.groupBy('snippet_channelTitle').agg(F.log(F.mean(\"statistics_viewCount\")), F.log(F.count(\"statistics_viewCount\"))).limit(5).toPandas()"
   ]
  },
  {
   "cell_type": "code",
   "execution_count": 0,
   "metadata": {
    "application/vnd.databricks.v1+cell": {
     "cellMetadata": {
      "byteLimit": 2048000,
      "rowLimit": 10000
     },
     "inputWidgets": {},
     "nuid": "286cfb06-8eb8-42bf-b434-e8519003f948",
     "showTitle": false,
     "title": ""
    }
   },
   "outputs": [
    {
     "output_type": "display_data",
     "data": {
      "text/html": [
       "<style scoped>\n",
       "  .table-result-container {\n",
       "    max-height: 300px;\n",
       "    overflow: auto;\n",
       "  }\n",
       "  table, th, td {\n",
       "    border: 1px solid black;\n",
       "    border-collapse: collapse;\n",
       "  }\n",
       "  th, td {\n",
       "    padding: 5px;\n",
       "  }\n",
       "  th {\n",
       "    text-align: left;\n",
       "  }\n",
       "</style><div class='table-result-container'><table class='table-result'><thead style='background-color: white'><tr><th>ln(avg(statistics_viewCount))</th><th>ln(count(statistics_viewCount))</th></tr></thead><tbody><tr><td>16.640813076138894</td><td>1.3862943611198906</td></tr><tr><td>17.32637973833333</td><td>0.6931471805599453</td></tr><tr><td>11.727100922878089</td><td>0.0</td></tr><tr><td>13.273330136789179</td><td>0.0</td></tr><tr><td>8.03365842788615</td><td>0.0</td></tr><tr><td>16.002462889304873</td><td>0.0</td></tr><tr><td>10.482730882413174</td><td>1.3862943611198906</td></tr><tr><td>7.428333194190806</td><td>0.0</td></tr><tr><td>7.247080584585756</td><td>0.0</td></tr><tr><td>18.212742405255103</td><td>0.0</td></tr><tr><td>14.01598632533827</td><td>0.0</td></tr><tr><td>14.709915125485615</td><td>0.0</td></tr><tr><td>14.130648251648344</td><td>0.0</td></tr><tr><td>14.24092142038036</td><td>0.0</td></tr><tr><td>16.109044411801055</td><td>0.0</td></tr><tr><td>13.350379836793746</td><td>0.0</td></tr><tr><td>9.338381721857067</td><td>0.0</td></tr><tr><td>12.544004530631755</td><td>0.0</td></tr><tr><td>11.100828414064017</td><td>0.0</td></tr><tr><td>15.373119664228929</td><td>0.0</td></tr></tbody></table></div>"
      ]
     },
     "metadata": {
      "application/vnd.databricks.v1+output": {
       "addedWidgets": {},
       "aggData": [],
       "aggError": "",
       "aggOverflow": false,
       "aggSchema": [],
       "aggSeriesLimitReached": false,
       "aggType": "",
       "arguments": {},
       "columnCustomDisplayInfos": {},
       "data": [
        [
         16.640813076138894,
         1.3862943611198906
        ],
        [
         17.32637973833333,
         0.6931471805599453
        ],
        [
         11.727100922878089,
         0.0
        ],
        [
         13.273330136789179,
         0.0
        ],
        [
         8.03365842788615,
         0.0
        ],
        [
         16.002462889304873,
         0.0
        ],
        [
         10.482730882413174,
         1.3862943611198906
        ],
        [
         7.428333194190806,
         0.0
        ],
        [
         7.247080584585756,
         0.0
        ],
        [
         18.212742405255103,
         0.0
        ],
        [
         14.01598632533827,
         0.0
        ],
        [
         14.709915125485615,
         0.0
        ],
        [
         14.130648251648344,
         0.0
        ],
        [
         14.24092142038036,
         0.0
        ],
        [
         16.109044411801055,
         0.0
        ],
        [
         13.350379836793746,
         0.0
        ],
        [
         9.338381721857067,
         0.0
        ],
        [
         12.544004530631755,
         0.0
        ],
        [
         11.100828414064017,
         0.0
        ],
        [
         15.373119664228929,
         0.0
        ]
       ],
       "datasetInfos": [],
       "dbfsResultPath": null,
       "isJsonSchema": true,
       "metadata": {},
       "overflow": false,
       "plotOptions": {
        "customPlotOptions": {},
        "displayType": "table",
        "pivotAggregation": null,
        "pivotColumns": null,
        "xColumns": null,
        "yColumns": null
       },
       "removedWidgets": [],
       "schema": [
        {
         "metadata": "{}",
         "name": "ln(avg(statistics_viewCount))",
         "type": "\"double\""
        },
        {
         "metadata": "{}",
         "name": "ln(count(statistics_viewCount))",
         "type": "\"double\""
        }
       ],
       "type": "table"
      }
     },
     "output_type": "display_data"
    },
    {
     "output_type": "display_data",
     "data": {
      "text/plain": [
       "Databricks visualization. Run in Databricks to view."
      ]
     },
     "metadata": {
      "application/vnd.databricks.v1.subcommand+json": {
       "baseErrorDetails": null,
       "bindings": {},
       "collapsed": false,
       "command": "%python\n__backend_agg_display_orig = display\n__backend_agg_dfs = []\ndef __backend_agg_display_new(df):\n    __backend_agg_df_modules = [\"pandas.core.frame\", \"databricks.koalas.frame\", \"pyspark.sql.dataframe\", \"pyspark.pandas.frame\", \"pyspark.sql.connect.dataframe\"]\n    if (type(df).__module__ in __backend_agg_df_modules and type(df).__name__ == 'DataFrame') or isinstance(df, list):\n        __backend_agg_dfs.append(df)\n\ndisplay = __backend_agg_display_new\n\ndef __backend_agg_user_code_fn():\n    import base64\n    exec(base64.standard_b64decode(\"ZGZfdG1wID0gc29uZ3MuZ3JvdXBCeSgnc25pcHBldF9jaGFubmVsVGl0bGUnKS5hZ2coRi5sb2coRi5tZWFuKCJzdGF0aXN0aWNzX3ZpZXdDb3VudCIpKSwgRi5sb2coRi5jb3VudCgic3RhdGlzdGljc192aWV3Q291bnQiKSkpLmxpbWl0KDUpCmRmX3RtcCA9IGRmX3RtcC5kcm9wKCJzbmlwcGV0X2NoYW5uZWxUaXRsZSIpCmRpc3BsYXkoZGZfdG1wKQ==\").decode())\n\ntry:\n    # run user code\n    __backend_agg_user_code_fn()\n\n    #reset display function\n    display = __backend_agg_display_orig\n\n    if len(__backend_agg_dfs) > 0:\n        # create a temp view\n        if type(__backend_agg_dfs[0]).__module__ == \"databricks.koalas.frame\":\n            # koalas dataframe\n            __backend_agg_dfs[0].to_spark().createOrReplaceTempView(\"DatabricksView93ccaa2\")\n        elif type(__backend_agg_dfs[0]).__module__ == \"pandas.core.frame\" or isinstance(__backend_agg_dfs[0], list):\n            # pandas dataframe\n            spark.createDataFrame(__backend_agg_dfs[0]).createOrReplaceTempView(\"DatabricksView93ccaa2\")\n        else:\n            __backend_agg_dfs[0].createOrReplaceTempView(\"DatabricksView93ccaa2\")\n        #run backend agg\n        display(spark.sql(\"\"\"WITH q AS (select * from DatabricksView93ccaa2) SELECT `ln(avg(statistics_viewCount))`,SUM(`ln(count(statistics_viewCount))`) `column_c7df70292` FROM q GROUP BY `ln(avg(statistics_viewCount))`\"\"\"))\n    else:\n        displayHTML(\"dataframe no longer exists. If you're using dataframe.display(), use display(dataframe) instead.\")\n\n\nfinally:\n    spark.sql(\"drop view if exists DatabricksView93ccaa2\")\n    display = __backend_agg_display_orig\n    del __backend_agg_display_new\n    del __backend_agg_display_orig\n    del __backend_agg_dfs\n    del __backend_agg_user_code_fn\n\n",
       "commandTitle": "Visualization 1",
       "commandType": "auto",
       "commandVersion": 0,
       "commentThread": [],
       "commentsVisible": false,
       "contentSha256Hex": null,
       "customPlotOptions": {
        "redashChart": [
         {
          "key": "type",
          "value": "CHART"
         },
         {
          "key": "options",
          "value": {
           "alignYAxesAtZero": true,
           "coefficient": 1,
           "columnConfigurationMap": {
            "x": {
             "column": "ln(avg(statistics_viewCount))",
             "id": "column_c7df70291"
            },
            "y": [
             {
              "column": "ln(count(statistics_viewCount))",
              "id": "column_c7df70292",
              "transform": "SUM"
             }
            ]
           },
           "dateTimeFormat": "DD/MM/YYYY HH:mm",
           "direction": {
            "type": "counterclockwise"
           },
           "error_y": {
            "type": "data",
            "visible": true
           },
           "globalSeriesType": "line",
           "isAggregationOn": true,
           "legend": {
            "traceorder": "normal"
           },
           "missingValuesAsZero": true,
           "numberFormat": "0,0.[00000]",
           "percentFormat": "0[.]00%",
           "series": {
            "error_y": {
             "type": "data",
             "visible": true
            },
            "stacking": null
           },
           "seriesOptions": {
            "column_c7df70292": {
             "name": "ln(count(statistics_viewCount))",
             "type": "line",
             "yAxis": 0
            }
           },
           "showDataLabels": false,
           "sizemode": "diameter",
           "sortX": true,
           "sortY": true,
           "swappedAxes": false,
           "textFormat": "",
           "useAggregationsUi": true,
           "valuesOptions": {},
           "version": 2,
           "xAxis": {
            "labels": {
             "enabled": true
            },
            "type": "-"
           },
           "yAxis": [
            {
             "type": "-"
            },
            {
             "opposite": true,
             "type": "-"
            }
           ]
          }
         }
        ]
       },
       "datasetPreviewNameToCmdIdMap": {},
       "diffDeletes": [],
       "diffInserts": [],
       "displayType": "redashChart",
       "error": null,
       "errorDetails": null,
       "errorSummary": null,
       "errorTraceType": null,
       "finishTime": 0,
       "globalVars": {},
       "guid": "",
       "height": "auto",
       "hideCommandCode": false,
       "hideCommandResult": false,
       "iPythonMetadata": null,
       "inputWidgets": {},
       "isLockedInExamMode": false,
       "latestUser": "a user",
       "latestUserId": null,
       "listResultMetadata": null,
       "metadata": {},
       "nuid": "1a90a606-bc8d-41d5-ba07-1cf3abdc9209",
       "origId": 0,
       "parentHierarchy": [],
       "pivotAggregation": null,
       "pivotColumns": null,
       "position": 20.75,
       "resultDbfsErrorMessage": null,
       "resultDbfsStatus": "INLINED_IN_TREE",
       "results": null,
       "showCommandTitle": false,
       "startTime": 0,
       "state": "input",
       "streamStates": {},
       "subcommandOptions": {
        "queryPlan": {
         "groups": [
          {
           "column": "ln(avg(statistics_viewCount))",
           "type": "column"
          }
         ],
         "selects": [
          {
           "column": "ln(avg(statistics_viewCount))",
           "type": "column"
          },
          {
           "alias": "column_c7df70292",
           "args": [
            {
             "column": "ln(count(statistics_viewCount))",
             "type": "column"
            }
           ],
           "function": "SUM",
           "type": "function"
          }
         ]
        }
       },
       "submitTime": 0,
       "subtype": "tableResultSubCmd.visualization",
       "tableResultIndex": 0,
       "useConsistentColors": false,
       "version": "CommandV1",
       "width": "auto",
       "workflows": [],
       "xColumns": null,
       "yColumns": null
      }
     },
     "output_type": "display_data"
    }
   ],
   "source": [
    "df_tmp = songs.groupBy('snippet_channelTitle').agg(F.log(F.mean(\"statistics_viewCount\")), F.log(F.count(\"statistics_viewCount\"))).limit(20)\n",
    "df_tmp = df_tmp.drop(\"snippet_channelTitle\")\n",
    "display(df_tmp)"
   ]
  },
  {
   "cell_type": "code",
   "execution_count": 0,
   "metadata": {
    "application/vnd.databricks.v1+cell": {
     "cellMetadata": {},
     "inputWidgets": {},
     "nuid": "cdadc22d-d355-494c-a94a-f0edfa963b5b",
     "showTitle": false,
     "title": ""
    }
   },
   "outputs": [
    {
     "output_type": "display_data",
     "data": {
      "text/html": [
       "<style scoped>\n",
       "  .table-result-container {\n",
       "    max-height: 300px;\n",
       "    overflow: auto;\n",
       "  }\n",
       "  table, th, td {\n",
       "    border: 1px solid black;\n",
       "    border-collapse: collapse;\n",
       "  }\n",
       "  th, td {\n",
       "    padding: 5px;\n",
       "  }\n",
       "  th {\n",
       "    text-align: left;\n",
       "  }\n",
       "</style><div class='table-result-container'><table class='table-result'><thead style='background-color: white'><tr><th>ln(mean_viewCount)</th><th>ln(songsCount)</th></tr></thead><tbody><tr><td>16.640813076138894</td><td>1.3862943611198906</td></tr><tr><td>17.32637973833333</td><td>0.6931471805599453</td></tr><tr><td>11.727100922878089</td><td>0.0</td></tr><tr><td>13.273330136789179</td><td>0.0</td></tr><tr><td>8.03365842788615</td><td>0.0</td></tr><tr><td>16.002462889304873</td><td>0.0</td></tr><tr><td>10.482730882413174</td><td>1.3862943611198906</td></tr><tr><td>7.428333194190806</td><td>0.0</td></tr><tr><td>7.247080584585756</td><td>0.0</td></tr><tr><td>18.212742405255103</td><td>0.0</td></tr><tr><td>14.01598632533827</td><td>0.0</td></tr><tr><td>14.709915125485615</td><td>0.0</td></tr><tr><td>14.130648251648344</td><td>0.0</td></tr><tr><td>14.24092142038036</td><td>0.0</td></tr><tr><td>16.109044411801055</td><td>0.0</td></tr><tr><td>13.350379836793746</td><td>0.0</td></tr><tr><td>9.338381721857067</td><td>0.0</td></tr><tr><td>12.544004530631755</td><td>0.0</td></tr><tr><td>11.100828414064017</td><td>0.0</td></tr><tr><td>15.373119664228929</td><td>0.0</td></tr><tr><td>9.766120240743215</td><td>0.0</td></tr><tr><td>8.34924780056679</td><td>0.0</td></tr><tr><td>12.66922787794707</td><td>0.0</td></tr><tr><td>16.71961980081747</td><td>0.0</td></tr><tr><td>12.3124801129427</td><td>0.0</td></tr><tr><td>11.163311249602069</td><td>0.0</td></tr><tr><td>14.214590658560484</td><td>0.0</td></tr><tr><td>13.194198339655781</td><td>0.0</td></tr><tr><td>14.408380392751273</td><td>0.0</td></tr><tr><td>10.609378189243436</td><td>0.0</td></tr><tr><td>20.903890439728</td><td>0.0</td></tr><tr><td>13.995708194168227</td><td>0.0</td></tr><tr><td>17.570005851137882</td><td>0.0</td></tr><tr><td>11.52645354644992</td><td>0.0</td></tr><tr><td>11.368246453600785</td><td>0.0</td></tr><tr><td>17.014885673954343</td><td>0.0</td></tr><tr><td>11.149110808117252</td><td>0.0</td></tr><tr><td>12.370145367267332</td><td>0.0</td></tr><tr><td>7.884576510596324</td><td>0.0</td></tr><tr><td>12.683973137319303</td><td>0.0</td></tr><tr><td>16.913858328056087</td><td>2.1972245773362196</td></tr><tr><td>11.793235430092388</td><td>0.0</td></tr><tr><td>15.725853187108351</td><td>0.0</td></tr><tr><td>12.112997466250414</td><td>0.0</td></tr><tr><td>12.517325970375607</td><td>0.0</td></tr><tr><td>10.6255379807028</td><td>0.0</td></tr><tr><td>9.318566777047053</td><td>0.0</td></tr><tr><td>7.76046702921342</td><td>0.0</td></tr><tr><td>16.10042666981943</td><td>0.0</td></tr><tr><td>10.708086658390217</td><td>0.0</td></tr><tr><td>14.218026655344913</td><td>0.0</td></tr><tr><td>13.54717479956329</td><td>0.0</td></tr><tr><td>13.35001833699564</td><td>0.0</td></tr><tr><td>7.738052297689316</td><td>0.0</td></tr><tr><td>12.940851093061072</td><td>0.0</td></tr><tr><td>16.327498915400465</td><td>0.0</td></tr><tr><td>12.378524826527345</td><td>0.0</td></tr><tr><td>10.260287488663012</td><td>0.0</td></tr><tr><td>9.402859753746583</td><td>0.0</td></tr><tr><td>13.857489003537168</td><td>0.0</td></tr><tr><td>13.7056488158584</td><td>0.0</td></tr><tr><td>11.803802428318528</td><td>0.0</td></tr><tr><td>13.413546812923991</td><td>0.0</td></tr><tr><td>15.476584628501444</td><td>1.3862943611198906</td></tr><tr><td>7.60489448081162</td><td>0.0</td></tr><tr><td>15.677426488113113</td><td>0.0</td></tr><tr><td>13.728106740343529</td><td>0.0</td></tr><tr><td>13.042560141055246</td><td>0.0</td></tr><tr><td>7.81237820598861</td><td>0.0</td></tr><tr><td>10.515966830028619</td><td>0.0</td></tr><tr><td>8.777401286867264</td><td>0.0</td></tr><tr><td>9.50747760319872</td><td>0.0</td></tr><tr><td>12.446922510763198</td><td>0.0</td></tr><tr><td>17.96243866767262</td><td>0.0</td></tr><tr><td>14.22181797789488</td><td>0.0</td></tr><tr><td>12.498667629842599</td><td>0.0</td></tr><tr><td>14.355954885090323</td><td>0.6931471805599453</td></tr><tr><td>19.496878558018743</td><td>0.0</td></tr><tr><td>10.709673197721699</td><td>0.0</td></tr><tr><td>8.997394645638419</td><td>0.0</td></tr><tr><td>8.620471540869739</td><td>0.0</td></tr><tr><td>14.767617367638822</td><td>0.0</td></tr><tr><td>17.420055340423485</td><td>0.0</td></tr><tr><td>15.436810042971882</td><td>0.0</td></tr><tr><td>14.816661053767913</td><td>0.0</td></tr><tr><td>17.312911689774804</td><td>0.0</td></tr><tr><td>7.468513271496337</td><td>0.0</td></tr><tr><td>15.505432373038788</td><td>0.0</td></tr><tr><td>8.954931860074698</td><td>0.0</td></tr><tr><td>11.175296559665634</td><td>0.0</td></tr><tr><td>11.871655296181219</td><td>0.0</td></tr><tr><td>12.347229267061975</td><td>0.6931471805599453</td></tr><tr><td>15.288560888460047</td><td>0.0</td></tr><tr><td>11.800942481322037</td><td>0.0</td></tr><tr><td>12.798150091849449</td><td>0.0</td></tr><tr><td>10.408254861718154</td><td>0.0</td></tr><tr><td>14.009281321735132</td><td>0.0</td></tr><tr><td>16.638700838522368</td><td>0.0</td></tr><tr><td>15.311789178743457</td><td>0.0</td></tr><tr><td>7.63433723562832</td><td>0.0</td></tr><tr><td>18.055687916421665</td><td>0.0</td></tr><tr><td>16.35150932357144</td><td>0.6931471805599453</td></tr><tr><td>18.66954241735448</td><td>1.6094379124341003</td></tr><tr><td>17.964679202333606</td><td>0.0</td></tr><tr><td>9.480749115757506</td><td>0.0</td></tr><tr><td>12.274707452919827</td><td>0.0</td></tr><tr><td>10.638016570874843</td><td>0.0</td></tr><tr><td>15.482082206156043</td><td>0.0</td></tr><tr><td>10.916414856894058</td><td>0.0</td></tr><tr><td>19.644589493157884</td><td>0.0</td></tr><tr><td>17.916448353641726</td><td>0.0</td></tr><tr><td>9.916502489613622</td><td>0.0</td></tr><tr><td>11.9603575118997</td><td>0.0</td></tr><tr><td>20.601892841965253</td><td>0.0</td></tr><tr><td>12.574610940816129</td><td>0.0</td></tr><tr><td>15.661205345026888</td><td>0.0</td></tr><tr><td>9.703388915639492</td><td>0.0</td></tr><tr><td>14.377911036475977</td><td>0.0</td></tr><tr><td>20.055201789786828</td><td>0.0</td></tr><tr><td>10.0519075576544</td><td>0.0</td></tr><tr><td>11.046626963254315</td><td>0.0</td></tr><tr><td>13.540977655017585</td><td>0.0</td></tr><tr><td>15.83384269236944</td><td>1.3862943611198906</td></tr><tr><td>12.743287977589999</td><td>0.0</td></tr><tr><td>14.774497111647245</td><td>0.0</td></tr><tr><td>13.474222343114201</td><td>0.0</td></tr><tr><td>11.06137453266671</td><td>0.0</td></tr><tr><td>7.6708948313621175</td><td>0.0</td></tr><tr><td>12.316609490847584</td><td>0.6931471805599453</td></tr><tr><td>9.808462332127018</td><td>0.0</td></tr><tr><td>14.910535419503598</td><td>0.0</td></tr><tr><td>10.646876224532782</td><td>0.0</td></tr><tr><td>11.440967487612728</td><td>0.0</td></tr><tr><td>11.094314325192048</td><td>0.0</td></tr><tr><td>10.992672207054676</td><td>0.0</td></tr><tr><td>15.120655057074726</td><td>0.0</td></tr><tr><td>14.172710763928752</td><td>0.0</td></tr><tr><td>10.93149853402069</td><td>0.0</td></tr><tr><td>19.360486368835897</td><td>1.6094379124341003</td></tr><tr><td>12.495445787317868</td><td>0.0</td></tr><tr><td>8.164794804244766</td><td>0.0</td></tr><tr><td>15.970013420787666</td><td>0.0</td></tr><tr><td>15.862148005885956</td><td>0.0</td></tr><tr><td>10.364387367532393</td><td>0.0</td></tr><tr><td>11.271312397372357</td><td>0.0</td></tr><tr><td>9.443612456086433</td><td>1.3862943611198906</td></tr><tr><td>15.325805033040886</td><td>0.0</td></tr><tr><td>14.439598079092717</td><td>0.0</td></tr><tr><td>16.147647365796107</td><td>0.0</td></tr><tr><td>14.120986624110701</td><td>0.0</td></tr><tr><td>14.906170308861029</td><td>0.0</td></tr><tr><td>9.167537249650874</td><td>0.0</td></tr><tr><td>14.163042128372181</td><td>0.0</td></tr><tr><td>9.286467732363734</td><td>0.0</td></tr><tr><td>15.902361085201223</td><td>0.0</td></tr><tr><td>10.733326750679167</td><td>0.0</td></tr><tr><td>8.78813593986372</td><td>0.0</td></tr><tr><td>12.538300171815798</td><td>0.0</td></tr><tr><td>14.79203920159805</td><td>0.0</td></tr><tr><td>18.139402523003792</td><td>0.0</td></tr><tr><td>10.677015845042886</td><td>0.0</td></tr><tr><td>12.738695963944851</td><td>0.0</td></tr><tr><td>15.683010261718822</td><td>0.0</td></tr><tr><td>18.239009083929748</td><td>0.6931471805599453</td></tr><tr><td>12.350934604163747</td><td>0.0</td></tr><tr><td>17.423751241377733</td><td>0.0</td></tr><tr><td>14.147075774832484</td><td>0.0</td></tr><tr><td>12.912987120486475</td><td>0.0</td></tr><tr><td>12.90464010977565</td><td>0.0</td></tr><tr><td>16.30772663700079</td><td>1.3862943611198906</td></tr><tr><td>13.549766087030394</td><td>0.0</td></tr><tr><td>18.370223980277167</td><td>1.0986122886681096</td></tr><tr><td>11.325136991783454</td><td>0.0</td></tr><tr><td>15.676658331596489</td><td>0.0</td></tr><tr><td>11.945340797944942</td><td>0.6931471805599453</td></tr><tr><td>12.789852683500538</td><td>0.6931471805599453</td></tr><tr><td>8.4071550862073</td><td>0.0</td></tr><tr><td>13.16872392577954</td><td>0.0</td></tr><tr><td>13.04099929710238</td><td>0.0</td></tr><tr><td>10.303336921858657</td><td>0.0</td></tr><tr><td>7.753194269884341</td><td>0.0</td></tr><tr><td>19.97992878248025</td><td>0.0</td></tr><tr><td>10.846614938363842</td><td>0.0</td></tr><tr><td>8.0323601479245</td><td>0.0</td></tr><tr><td>15.04621866765023</td><td>0.0</td></tr><tr><td>13.583142087622106</td><td>0.0</td></tr><tr><td>19.57316411939448</td><td>0.6931471805599453</td></tr><tr><td>14.09992003130033</td><td>0.0</td></tr><tr><td>16.319406187133282</td><td>0.0</td></tr><tr><td>11.096561175993063</td><td>0.0</td></tr><tr><td>9.44311737225863</td><td>0.0</td></tr><tr><td>12.142754712505093</td><td>0.0</td></tr><tr><td>13.402738317673517</td><td>0.0</td></tr><tr><td>11.673836101858502</td><td>0.6931471805599453</td></tr><tr><td>17.812481733433625</td><td>0.0</td></tr><tr><td>13.096247302171554</td><td>0.0</td></tr><tr><td>19.085633454695877</td><td>0.0</td></tr><tr><td>12.0759155535446</td><td>0.6931471805599453</td></tr><tr><td>12.563086032190707</td><td>0.0</td></tr><tr><td>21.085244712936433</td><td>0.0</td></tr><tr><td>6.068425588244111</td><td>0.0</td></tr><tr><td>7.0192966537150445</td><td>0.0</td></tr><tr><td>16.458059214370543</td><td>0.6931471805599453</td></tr><tr><td>15.968919195803846</td><td>0.0</td></tr><tr><td>12.671098280094299</td><td>0.0</td></tr><tr><td>14.411997047189589</td><td>0.0</td></tr><tr><td>13.596146106847144</td><td>0.0</td></tr><tr><td>8.280711075662847</td><td>0.0</td></tr><tr><td>10.325809777710715</td><td>0.0</td></tr><tr><td>17.74966109384875</td><td>0.0</td></tr><tr><td>19.305134399929337</td><td>0.0</td></tr><tr><td>17.636611422050002</td><td>0.0</td></tr><tr><td>8.68777949199177</td><td>1.6094379124341003</td></tr><tr><td>13.383833395999291</td><td>0.0</td></tr><tr><td>12.903386134959534</td><td>0.0</td></tr><tr><td>11.172700194519704</td><td>0.6931471805599453</td></tr><tr><td>10.755751632245435</td><td>0.0</td></tr><tr><td>17.59331823407937</td><td>0.0</td></tr><tr><td>10.407197922816518</td><td>0.0</td></tr><tr><td>9.50554408582681</td><td>0.0</td></tr><tr><td>17.587485463077982</td><td>0.0</td></tr><tr><td>11.144813943403413</td><td>0.0</td></tr><tr><td>10.849181734779526</td><td>0.0</td></tr><tr><td>15.26146436939004</td><td>0.0</td></tr><tr><td>6.434546518787453</td><td>0.0</td></tr><tr><td>11.130199843831553</td><td>0.0</td></tr><tr><td>9.140883106960962</td><td>0.0</td></tr><tr><td>12.987791443604559</td><td>0.0</td></tr><tr><td>17.299549097214623</td><td>0.6931471805599453</td></tr><tr><td>6.208590026096629</td><td>0.0</td></tr><tr><td>13.501136742658813</td><td>0.0</td></tr><tr><td>9.63991255542758</td><td>0.0</td></tr><tr><td>15.954832091351168</td><td>0.0</td></tr><tr><td>13.468727244428857</td><td>0.6931471805599453</td></tr><tr><td>10.17458282138351</td><td>0.0</td></tr><tr><td>16.16920379320627</td><td>0.0</td></tr><tr><td>11.87423664493836</td><td>0.0</td></tr><tr><td>13.021694063056826</td><td>0.0</td></tr><tr><td>10.397848372270873</td><td>0.0</td></tr><tr><td>15.064437320478843</td><td>0.0</td></tr><tr><td>13.233847505418174</td><td>0.0</td></tr><tr><td>14.62023623242509</td><td>0.0</td></tr><tr><td>16.526043408074862</td><td>0.6931471805599453</td></tr><tr><td>11.727823112070588</td><td>0.6931471805599453</td></tr><tr><td>13.04289800304184</td><td>0.0</td></tr><tr><td>10.873792872716521</td><td>0.0</td></tr><tr><td>13.58362894070678</td><td>0.0</td></tr><tr><td>11.786937020248835</td><td>0.0</td></tr><tr><td>10.73591830019846</td><td>0.0</td></tr><tr><td>11.797901379076277</td><td>0.0</td></tr><tr><td>12.452342705685439</td><td>0.0</td></tr><tr><td>6.927557906278317</td><td>0.0</td></tr><tr><td>14.448524964480836</td><td>0.0</td></tr><tr><td>10.307651814911244</td><td>0.0</td></tr><tr><td>19.347301433622164</td><td>0.0</td></tr><tr><td>11.434498950552483</td><td>0.0</td></tr><tr><td>14.650514875749264</td><td>0.0</td></tr><tr><td>11.132616276743182</td><td>0.0</td></tr><tr><td>15.622074892337004</td><td>0.0</td></tr><tr><td>13.858890877179405</td><td>0.0</td></tr><tr><td>9.266248003914479</td><td>0.0</td></tr><tr><td>13.976172564447175</td><td>0.0</td></tr><tr><td>11.991145248987305</td><td>0.0</td></tr><tr><td>12.691928093188604</td><td>0.0</td></tr><tr><td>13.569535847978853</td><td>0.0</td></tr><tr><td>14.594809287634448</td><td>0.0</td></tr><tr><td>10.587707503696082</td><td>0.6931471805599453</td></tr><tr><td>17.789359082666298</td><td>0.6931471805599453</td></tr><tr><td>14.284412956077524</td><td>0.0</td></tr><tr><td>11.161337560080053</td><td>0.0</td></tr><tr><td>15.370167522263444</td><td>0.6931471805599453</td></tr><tr><td>12.570890512366363</td><td>1.0986122886681096</td></tr><tr><td>14.373373954215035</td><td>0.0</td></tr><tr><td>13.545057870217429</td><td>0.0</td></tr><tr><td>17.74727448290236</td><td>0.0</td></tr><tr><td>14.587118580322773</td><td>0.0</td></tr><tr><td>10.309627432934256</td><td>1.3862943611198906</td></tr><tr><td>10.128908508594378</td><td>0.0</td></tr><tr><td>12.706784295054147</td><td>0.0</td></tr><tr><td>8.928110078202646</td><td>0.0</td></tr><tr><td>12.381826851070567</td><td>0.0</td></tr><tr><td>10.738004078558598</td><td>0.0</td></tr><tr><td>13.420966101874603</td><td>0.0</td></tr><tr><td>11.468733214177846</td><td>0.0</td></tr><tr><td>11.500042839139216</td><td>0.0</td></tr><tr><td>13.290771928978288</td><td>0.0</td></tr><tr><td>17.059317757160898</td><td>0.0</td></tr><tr><td>9.702227794721923</td><td>0.0</td></tr><tr><td>12.83356868622182</td><td>0.0</td></tr><tr><td>15.312544541372446</td><td>0.0</td></tr><tr><td>10.395069192935358</td><td>0.0</td></tr><tr><td>10.064117198461096</td><td>0.0</td></tr><tr><td>12.462825039018151</td><td>0.0</td></tr><tr><td>13.720084971500857</td><td>0.0</td></tr><tr><td>12.500509353977884</td><td>0.0</td></tr><tr><td>10.366812680153265</td><td>0.0</td></tr><tr><td>11.693729203794385</td><td>0.0</td></tr><tr><td>10.749892156946117</td><td>0.0</td></tr><tr><td>12.944009140379613</td><td>0.0</td></tr><tr><td>15.798907775421707</td><td>0.0</td></tr><tr><td>13.611814178622623</td><td>0.0</td></tr><tr><td>13.98645514173489</td><td>0.0</td></tr><tr><td>15.745578159674631</td><td>0.0</td></tr><tr><td>10.111009722947381</td><td>0.6931471805599453</td></tr><tr><td>9.700330435154035</td><td>0.0</td></tr><tr><td>16.932649914596947</td><td>0.0</td></tr><tr><td>13.137445074704285</td><td>0.0</td></tr><tr><td>13.248481358472944</td><td>0.0</td></tr><tr><td>8.778171881033469</td><td>0.0</td></tr><tr><td>13.872333137640464</td><td>0.0</td></tr><tr><td>12.37724477784546</td><td>0.0</td></tr><tr><td>7.841099765422119</td><td>0.0</td></tr><tr><td>16.968370418813475</td><td>0.0</td></tr><tr><td>11.445646124550018</td><td>1.6094379124341003</td></tr><tr><td>11.08064912658532</td><td>0.0</td></tr><tr><td>14.608843739442602</td><td>0.0</td></tr><tr><td>11.357265313129764</td><td>0.0</td></tr><tr><td>5.117993812416755</td><td>0.6931471805599453</td></tr><tr><td>15.121824313648911</td><td>0.0</td></tr><tr><td>20.487612401051845</td><td>0.6931471805599453</td></tr><tr><td>14.189231096781592</td><td>0.0</td></tr><tr><td>13.99873087741671</td><td>0.0</td></tr><tr><td>9.361601165816767</td><td>0.0</td></tr><tr><td>13.330925940903464</td><td>0.0</td></tr><tr><td>12.162173003240156</td><td>0.6931471805599453</td></tr><tr><td>15.916090721357087</td><td>0.0</td></tr><tr><td>11.049253746797524</td><td>0.0</td></tr><tr><td>17.84217062454519</td><td>0.0</td></tr><tr><td>9.431321587125709</td><td>0.0</td></tr><tr><td>15.12024257818605</td><td>0.0</td></tr><tr><td>15.730393149542097</td><td>0.0</td></tr><tr><td>11.221342460433497</td><td>0.0</td></tr><tr><td>17.335393027570547</td><td>0.0</td></tr><tr><td>13.285544587545855</td><td>0.0</td></tr><tr><td>10.455330351773332</td><td>0.0</td></tr><tr><td>7.189922170745808</td><td>0.0</td></tr><tr><td>12.123006204311864</td><td>0.0</td></tr><tr><td>11.735508859425876</td><td>0.0</td></tr><tr><td>9.127284796838858</td><td>0.0</td></tr><tr><td>10.146276856097172</td><td>0.0</td></tr><tr><td>13.994412942712573</td><td>0.0</td></tr><tr><td>15.301247005339231</td><td>0.0</td></tr><tr><td>6.752270376141742</td><td>0.0</td></tr><tr><td>11.932346073839886</td><td>0.0</td></tr><tr><td>16.030668587583076</td><td>0.0</td></tr><tr><td>9.722565016655881</td><td>0.0</td></tr><tr><td>12.204461348087397</td><td>0.0</td></tr><tr><td>16.93027033694527</td><td>1.0986122886681096</td></tr><tr><td>14.981496719358942</td><td>0.0</td></tr><tr><td>12.250089530946948</td><td>0.0</td></tr><tr><td>15.487689877693763</td><td>1.791759469228055</td></tr><tr><td>14.66168521636766</td><td>0.0</td></tr><tr><td>13.765701162054595</td><td>2.0794415416798357</td></tr><tr><td>8.756210091886738</td><td>0.0</td></tr><tr><td>12.43218378918327</td><td>0.0</td></tr><tr><td>15.508523332662799</td><td>0.0</td></tr><tr><td>11.635302377044246</td><td>0.0</td></tr><tr><td>14.09434535846966</td><td>0.0</td></tr><tr><td>9.790150867197125</td><td>0.0</td></tr><tr><td>13.921911731949342</td><td>0.0</td></tr><tr><td>9.744140059301994</td><td>0.0</td></tr><tr><td>15.136755067239326</td><td>0.0</td></tr><tr><td>9.579003173560242</td><td>0.0</td></tr><tr><td>13.425151772639403</td><td>0.0</td></tr><tr><td>10.889136422512594</td><td>0.0</td></tr><tr><td>11.322007060950755</td><td>0.0</td></tr><tr><td>9.503681402279643</td><td>0.0</td></tr><tr><td>10.771994613556476</td><td>0.0</td></tr><tr><td>15.389971858293638</td><td>0.0</td></tr><tr><td>12.876863014641012</td><td>0.6931471805599453</td></tr><tr><td>10.04246657981758</td><td>0.0</td></tr><tr><td>13.446544674655588</td><td>0.0</td></tr><tr><td>11.976634323653215</td><td>0.0</td></tr><tr><td>14.48325479871119</td><td>0.0</td></tr><tr><td>17.0784402819183</td><td>0.0</td></tr><tr><td>12.38528938737065</td><td>0.0</td></tr><tr><td>13.61388140332684</td><td>0.0</td></tr><tr><td>14.814482605629463</td><td>0.0</td></tr><tr><td>6.738152494595957</td><td>0.0</td></tr><tr><td>12.139689223609238</td><td>1.6094379124341003</td></tr><tr><td>17.79627218922835</td><td>0.0</td></tr><tr><td>12.376064334283246</td><td>0.0</td></tr><tr><td>12.246550580868856</td><td>1.0986122886681096</td></tr><tr><td>15.987315441784169</td><td>0.0</td></tr><tr><td>10.83700897967195</td><td>0.0</td></tr><tr><td>14.292564276822493</td><td>0.0</td></tr><tr><td>13.37922019600316</td><td>0.0</td></tr><tr><td>9.736074312475292</td><td>0.0</td></tr><tr><td>16.338159424622226</td><td>0.0</td></tr><tr><td>16.898988197405462</td><td>0.0</td></tr><tr><td>14.141173873820895</td><td>0.0</td></tr><tr><td>13.621034635215253</td><td>0.0</td></tr><tr><td>16.05146512978046</td><td>0.0</td></tr><tr><td>15.122265286236154</td><td>1.0986122886681096</td></tr><tr><td>15.638902761491677</td><td>1.6094379124341003</td></tr><tr><td>13.319727886176814</td><td>0.0</td></tr><tr><td>13.860891106471188</td><td>0.0</td></tr><tr><td>9.219993629004321</td><td>0.0</td></tr><tr><td>14.086264911607389</td><td>0.0</td></tr><tr><td>12.57219036579549</td><td>0.0</td></tr><tr><td>9.244065241377804</td><td>0.0</td></tr><tr><td>12.282264872686039</td><td>0.0</td></tr><tr><td>12.225576208503233</td><td>0.0</td></tr><tr><td>18.01873680424805</td><td>0.0</td></tr><tr><td>13.71493413581544</td><td>0.6931471805599453</td></tr><tr><td>15.383398815364078</td><td>0.6931471805599453</td></tr><tr><td>6.133398042996649</td><td>0.0</td></tr><tr><td>16.009330011106503</td><td>1.0986122886681096</td></tr><tr><td>11.69188303657203</td><td>0.0</td></tr><tr><td>14.366279902681175</td><td>0.0</td></tr><tr><td>12.566348598047965</td><td>0.0</td></tr><tr><td>14.160686946167973</td><td>0.0</td></tr><tr><td>15.868866946043411</td><td>0.0</td></tr><tr><td>7.017506142941256</td><td>0.0</td></tr><tr><td>16.032984068216262</td><td>0.0</td></tr><tr><td>16.552419877535716</td><td>1.0986122886681096</td></tr><tr><td>16.414671877893436</td><td>0.0</td></tr><tr><td>18.895542621525266</td><td>0.0</td></tr><tr><td>12.603942314516507</td><td>0.6931471805599453</td></tr><tr><td>14.234801645205776</td><td>0.0</td></tr><tr><td>11.513035458920672</td><td>0.0</td></tr><tr><td>17.288259685511097</td><td>0.0</td></tr><tr><td>8.580167990577626</td><td>0.0</td></tr><tr><td>14.655065375359394</td><td>0.0</td></tr><tr><td>11.313290899206928</td><td>0.0</td></tr><tr><td>13.419124609270403</td><td>0.0</td></tr><tr><td>15.74525604572175</td><td>0.0</td></tr><tr><td>18.204338026950605</td><td>0.0</td></tr><tr><td>14.202156015496305</td><td>0.6931471805599453</td></tr><tr><td>10.254602065894211</td><td>0.0</td></tr><tr><td>6.806829360392176</td><td>0.0</td></tr><tr><td>17.719268945326753</td><td>0.0</td></tr><tr><td>10.945952680581236</td><td>0.0</td></tr><tr><td>11.699745223003951</td><td>0.0</td></tr><tr><td>11.442492271002386</td><td>0.0</td></tr><tr><td>11.740029164536077</td><td>0.0</td></tr><tr><td>19.58153636244545</td><td>0.0</td></tr><tr><td>12.102094507281597</td><td>0.0</td></tr><tr><td>12.620487584157923</td><td>0.0</td></tr><tr><td>14.861276065507157</td><td>0.0</td></tr><tr><td>13.489586493255626</td><td>0.0</td></tr><tr><td>10.324071131775993</td><td>0.0</td></tr><tr><td>7.6255950721324535</td><td>0.0</td></tr><tr><td>12.163707794752405</td><td>0.0</td></tr><tr><td>18.01145964593707</td><td>0.0</td></tr><tr><td>15.284354481968881</td><td>0.0</td></tr><tr><td>13.12734295868468</td><td>0.0</td></tr><tr><td>20.169871402197597</td><td>0.6931471805599453</td></tr><tr><td>21.841306166748993</td><td>0.0</td></tr><tr><td>9.13075589263334</td><td>0.0</td></tr><tr><td>15.152843640275458</td><td>0.0</td></tr><tr><td>11.905116190347785</td><td>0.0</td></tr><tr><td>8.79346036105272</td><td>0.0</td></tr><tr><td>15.210065208760545</td><td>0.0</td></tr><tr><td>17.173290113571092</td><td>0.0</td></tr><tr><td>9.128587870103924</td><td>1.6094379124341003</td></tr><tr><td>14.715327539677522</td><td>0.0</td></tr><tr><td>16.06044280902659</td><td>0.0</td></tr><tr><td>10.614450092966075</td><td>0.0</td></tr><tr><td>14.57621357797505</td><td>0.0</td></tr><tr><td>15.303593839181179</td><td>0.0</td></tr><tr><td>11.211401365496345</td><td>0.0</td></tr><tr><td>8.430981494597171</td><td>1.0986122886681096</td></tr><tr><td>8.66561319653451</td><td>0.0</td></tr><tr><td>13.952232667333861</td><td>0.6931471805599453</td></tr><tr><td>14.164597183301286</td><td>0.0</td></tr><tr><td>11.97718764358685</td><td>0.0</td></tr><tr><td>15.075018300673415</td><td>0.6931471805599453</td></tr><tr><td>15.75603365142771</td><td>0.0</td></tr><tr><td>11.974956774558176</td><td>0.6931471805599453</td></tr><tr><td>9.198874893866904</td><td>0.0</td></tr><tr><td>11.972133531254757</td><td>0.0</td></tr><tr><td>12.973645247851382</td><td>0.0</td></tr><tr><td>11.664100292767346</td><td>0.0</td></tr><tr><td>14.660194003745993</td><td>0.0</td></tr><tr><td>9.450459027496354</td><td>0.0</td></tr><tr><td>11.963994714883409</td><td>0.0</td></tr><tr><td>17.01231458291037</td><td>0.0</td></tr><tr><td>12.95281983296959</td><td>0.0</td></tr><tr><td>16.35430104378745</td><td>0.0</td></tr><tr><td>15.932439861784273</td><td>2.8903717578961645</td></tr><tr><td>15.184887370941821</td><td>0.0</td></tr><tr><td>7.468513271496337</td><td>0.0</td></tr><tr><td>12.033010091568318</td><td>0.0</td></tr><tr><td>15.25587208772286</td><td>0.0</td></tr><tr><td>16.106397898252485</td><td>0.0</td></tr><tr><td>11.635638550158871</td><td>0.0</td></tr><tr><td>7.86940171257709</td><td>0.0</td></tr><tr><td>15.942607215127529</td><td>0.0</td></tr><tr><td>12.804321061642888</td><td>1.3862943611198906</td></tr><tr><td>14.067075177167043</td><td>0.0</td></tr><tr><td>12.738055860566856</td><td>0.0</td></tr><tr><td>12.342947816491652</td><td>0.0</td></tr><tr><td>11.129701185797959</td><td>0.0</td></tr><tr><td>14.413850782081777</td><td>0.0</td></tr><tr><td>9.292933670280036</td><td>0.0</td></tr><tr><td>14.546359028708064</td><td>0.0</td></tr><tr><td>18.239593688847542</td><td>0.0</td></tr><tr><td>16.27740315434287</td><td>0.0</td></tr><tr><td>15.261194661103238</td><td>0.0</td></tr><tr><td>13.619384962313893</td><td>0.0</td></tr><tr><td>14.431712437264219</td><td>0.0</td></tr><tr><td>9.929204031040765</td><td>0.0</td></tr><tr><td>9.602314889901848</td><td>0.0</td></tr><tr><td>14.686131312818324</td><td>0.0</td></tr><tr><td>13.467574461682807</td><td>0.0</td></tr><tr><td>11.689715082095354</td><td>0.0</td></tr><tr><td>11.697328187968008</td><td>0.0</td></tr><tr><td>12.725036067414761</td><td>0.0</td></tr><tr><td>16.411406700948103</td><td>0.0</td></tr><tr><td>12.059143328783694</td><td>0.0</td></tr><tr><td>9.689737246238513</td><td>0.0</td></tr><tr><td>14.104094973182342</td><td>0.0</td></tr><tr><td>13.610845227895837</td><td>0.6931471805599453</td></tr><tr><td>11.680311033148202</td><td>0.0</td></tr><tr><td>15.17293439742319</td><td>2.833213344056216</td></tr><tr><td>12.853296299187113</td><td>0.6931471805599453</td></tr><tr><td>11.33349372862009</td><td>0.6931471805599453</td></tr><tr><td>13.644430379451107</td><td>0.0</td></tr><tr><td>9.63795828472548</td><td>0.0</td></tr><tr><td>13.736031108297826</td><td>0.0</td></tr><tr><td>11.270662802709307</td><td>0.0</td></tr><tr><td>11.215004486698195</td><td>0.0</td></tr><tr><td>14.643885795166646</td><td>1.791759469228055</td></tr><tr><td>10.981029410584947</td><td>0.0</td></tr><tr><td>10.930048726626888</td><td>0.0</td></tr><tr><td>13.657883174735083</td><td>0.0</td></tr><tr><td>13.086533070323501</td><td>0.0</td></tr><tr><td>15.651325986805825</td><td>0.0</td></tr><tr><td>16.462236834461507</td><td>0.0</td></tr><tr><td>14.724064638986707</td><td>0.0</td></tr><tr><td>13.877964094531356</td><td>0.0</td></tr><tr><td>13.002696568560838</td><td>0.0</td></tr><tr><td>10.84675122191171</td><td>0.0</td></tr><tr><td>9.300363874623772</td><td>0.0</td></tr><tr><td>9.688993982035823</td><td>0.0</td></tr><tr><td>12.435567981481798</td><td>0.0</td></tr><tr><td>12.723195400681126</td><td>0.0</td></tr><tr><td>14.406185824614148</td><td>0.0</td></tr><tr><td>7.27655640271871</td><td>0.0</td></tr><tr><td>9.394576760974909</td><td>0.0</td></tr><tr><td>14.941098055368926</td><td>0.0</td></tr><tr><td>10.72731205673769</td><td>0.0</td></tr><tr><td>8.790421306897867</td><td>0.0</td></tr><tr><td>12.492750463887573</td><td>0.0</td></tr><tr><td>13.273084181928395</td><td>0.0</td></tr><tr><td>10.163811274974622</td><td>0.0</td></tr><tr><td>16.414451001554703</td><td>0.0</td></tr><tr><td>13.099504083258246</td><td>0.0</td></tr><tr><td>11.010696120429595</td><td>0.0</td></tr><tr><td>13.511567658629737</td><td>0.0</td></tr><tr><td>11.938278164085316</td><td>0.0</td></tr><tr><td>9.802893437300426</td><td>0.0</td></tr><tr><td>15.389554633404824</td><td>0.0</td></tr><tr><td>12.106086550654247</td><td>0.0</td></tr><tr><td>17.247952149249652</td><td>0.0</td></tr><tr><td>11.025213972876479</td><td>0.6931471805599453</td></tr><tr><td>14.77780802831459</td><td>1.791759469228055</td></tr><tr><td>17.848842323039644</td><td>0.0</td></tr><tr><td>15.427175189418437</td><td>0.0</td></tr><tr><td>11.447319707872234</td><td>0.0</td></tr><tr><td>16.458005899409624</td><td>0.0</td></tr><tr><td>8.783089671796096</td><td>0.0</td></tr><tr><td>13.292732116372388</td><td>0.0</td></tr><tr><td>14.969997065876942</td><td>0.6931471805599453</td></tr><tr><td>15.144053182204084</td><td>0.0</td></tr><tr><td>17.790464314635358</td><td>0.6931471805599453</td></tr><tr><td>10.42611328041787</td><td>0.0</td></tr><tr><td>11.215691249044829</td><td>0.0</td></tr><tr><td>13.361449566812878</td><td>0.0</td></tr><tr><td>8.423321975806166</td><td>0.0</td></tr><tr><td>10.572213958554391</td><td>0.0</td></tr><tr><td>6.943122422819428</td><td>0.0</td></tr><tr><td>14.076103639428183</td><td>1.3862943611198906</td></tr><tr><td>13.080741062713305</td><td>0.0</td></tr><tr><td>15.324968343344613</td><td>0.0</td></tr><tr><td>13.403887528717952</td><td>0.0</td></tr><tr><td>13.561229734279765</td><td>0.0</td></tr><tr><td>15.914448675209275</td><td>0.0</td></tr><tr><td>12.153842069926522</td><td>0.0</td></tr><tr><td>13.967743113652771</td><td>0.0</td></tr><tr><td>10.007667371445791</td><td>0.0</td></tr><tr><td>11.395042424313512</td><td>0.0</td></tr><tr><td>12.826122112683906</td><td>0.0</td></tr><tr><td>9.875345246589848</td><td>0.0</td></tr><tr><td>13.862749996570573</td><td>0.6931471805599453</td></tr><tr><td>12.951010246889856</td><td>0.0</td></tr><tr><td>16.15577604381176</td><td>0.0</td></tr><tr><td>13.216978770445674</td><td>0.0</td></tr><tr><td>9.08851166361105</td><td>0.0</td></tr><tr><td>15.242191538842581</td><td>0.0</td></tr><tr><td>13.038686072577644</td><td>0.0</td></tr><tr><td>13.70004358815556</td><td>0.0</td></tr><tr><td>15.590034172914022</td><td>0.0</td></tr><tr><td>9.339524830357009</td><td>0.0</td></tr><tr><td>16.23811405298728</td><td>0.0</td></tr><tr><td>8.006700845440367</td><td>0.0</td></tr><tr><td>11.33665357200282</td><td>0.0</td></tr><tr><td>12.030331390980917</td><td>0.0</td></tr><tr><td>18.799337360910396</td><td>0.6931471805599453</td></tr><tr><td>8.442900586834382</td><td>0.0</td></tr><tr><td>13.484663470484419</td><td>0.0</td></tr><tr><td>13.341946999683705</td><td>0.0</td></tr><tr><td>12.925279796104027</td><td>0.0</td></tr><tr><td>11.698823950254525</td><td>0.0</td></tr><tr><td>13.886229938176927</td><td>0.0</td></tr><tr><td>13.405730152338437</td><td>0.0</td></tr><tr><td>13.691600163326655</td><td>0.0</td></tr><tr><td>15.173413674981271</td><td>0.0</td></tr><tr><td>14.390930513810376</td><td>0.0</td></tr><tr><td>13.355509535433022</td><td>0.0</td></tr><tr><td>14.0175840871767</td><td>0.0</td></tr><tr><td>9.771840098470129</td><td>0.0</td></tr><tr><td>17.557326425805513</td><td>1.3862943611198906</td></tr><tr><td>13.523425473131011</td><td>0.0</td></tr><tr><td>12.667155351401009</td><td>0.0</td></tr><tr><td>16.28572640777567</td><td>0.0</td></tr><tr><td>9.348187438668308</td><td>0.0</td></tr><tr><td>14.043370967391908</td><td>0.0</td></tr><tr><td>5.056245805348308</td><td>0.0</td></tr><tr><td>7.890582534656536</td><td>0.0</td></tr><tr><td>14.252286330964385</td><td>0.0</td></tr><tr><td>14.153540152702135</td><td>0.0</td></tr><tr><td>10.642969504301549</td><td>0.0</td></tr><tr><td>14.657529365783791</td><td>0.0</td></tr><tr><td>17.504266229417453</td><td>0.0</td></tr><tr><td>9.60521627853008</td><td>0.0</td></tr><tr><td>13.281545947439378</td><td>0.0</td></tr><tr><td>13.24965132019501</td><td>0.0</td></tr><tr><td>16.19248514776597</td><td>0.0</td></tr><tr><td>12.782694436764952</td><td>0.0</td></tr><tr><td>14.235391260306749</td><td>0.6931471805599453</td></tr><tr><td>13.09320229606134</td><td>0.0</td></tr><tr><td>12.24696983722305</td><td>0.0</td></tr><tr><td>10.583979998637826</td><td>0.0</td></tr><tr><td>11.034228154955759</td><td>0.0</td></tr><tr><td>11.454808945234552</td><td>0.0</td></tr><tr><td>13.252127683459607</td><td>0.0</td></tr><tr><td>18.825777477552304</td><td>0.0</td></tr><tr><td>9.92896034850916</td><td>0.0</td></tr><tr><td>13.196158300563328</td><td>0.0</td></tr><tr><td>9.242323417829233</td><td>0.0</td></tr><tr><td>15.21623357359671</td><td>0.0</td></tr><tr><td>14.412702850940489</td><td>0.0</td></tr><tr><td>12.485152197174619</td><td>0.6931471805599453</td></tr><tr><td>17.478559149426957</td><td>0.0</td></tr><tr><td>19.140936129404103</td><td>0.0</td></tr><tr><td>15.617710336996105</td><td>0.0</td></tr><tr><td>12.612870198872116</td><td>0.0</td></tr><tr><td>12.036345445821791</td><td>0.0</td></tr><tr><td>17.861300405796467</td><td>0.6931471805599453</td></tr><tr><td>10.643566027780505</td><td>0.0</td></tr><tr><td>8.567506005289827</td><td>0.0</td></tr><tr><td>14.940699861482836</td><td>0.0</td></tr><tr><td>11.700765102448088</td><td>0.0</td></tr><tr><td>11.993009367121347</td><td>0.0</td></tr><tr><td>11.89023112461782</td><td>0.0</td></tr><tr><td>10.151908911034607</td><td>0.0</td></tr><tr><td>14.079286901901188</td><td>0.0</td></tr><tr><td>11.562401108430754</td><td>0.0</td></tr><tr><td>10.632556742272136</td><td>0.0</td></tr><tr><td>13.734202883891323</td><td>0.0</td></tr><tr><td>10.784254728341237</td><td>0.0</td></tr><tr><td>17.91313211164663</td><td>0.0</td></tr><tr><td>14.669032295497775</td><td>0.0</td></tr><tr><td>8.797699580118923</td><td>0.0</td></tr><tr><td>11.898779527429276</td><td>0.0</td></tr><tr><td>12.689091211853404</td><td>0.0</td></tr><tr><td>12.866216147068188</td><td>0.0</td></tr><tr><td>15.562318685307073</td><td>0.0</td></tr><tr><td>9.156200925875535</td><td>0.0</td></tr><tr><td>15.733193616228025</td><td>0.0</td></tr><tr><td>9.341368634382587</td><td>0.0</td></tr><tr><td>18.0865429972878</td><td>0.6931471805599453</td></tr><tr><td>9.455088847042777</td><td>0.0</td></tr><tr><td>12.82919964138331</td><td>0.0</td></tr><tr><td>14.97483060224801</td><td>0.0</td></tr><tr><td>12.737006732172816</td><td>0.0</td></tr><tr><td>13.108254310985567</td><td>0.0</td></tr><tr><td>9.201299627324033</td><td>0.0</td></tr><tr><td>15.00889136461291</td><td>0.0</td></tr><tr><td>14.377012565867812</td><td>0.0</td></tr><tr><td>13.774462496226084</td><td>0.0</td></tr><tr><td>6.274762021241939</td><td>0.0</td></tr><tr><td>13.167304237738653</td><td>0.0</td></tr><tr><td>12.672338046298256</td><td>0.0</td></tr><tr><td>11.239054248743635</td><td>0.0</td></tr><tr><td>11.63808566674344</td><td>0.0</td></tr><tr><td>12.71558240392494</td><td>0.0</td></tr><tr><td>14.060720055687456</td><td>0.6931471805599453</td></tr><tr><td>17.064166571569455</td><td>1.0986122886681096</td></tr><tr><td>13.019484225061056</td><td>0.6931471805599453</td></tr><tr><td>10.473138533353255</td><td>0.0</td></tr><tr><td>15.740701831524769</td><td>0.0</td></tr><tr><td>10.335010194963582</td><td>0.0</td></tr><tr><td>15.876568654831908</td><td>0.0</td></tr><tr><td>11.394603534135918</td><td>0.0</td></tr><tr><td>17.176292806771187</td><td>0.0</td></tr><tr><td>10.359772509640926</td><td>0.0</td></tr><tr><td>12.739966148086957</td><td>0.0</td></tr><tr><td>5.82600010738045</td><td>0.0</td></tr><tr><td>14.359777147352473</td><td>0.0</td></tr><tr><td>15.31176835005505</td><td>0.0</td></tr><tr><td>17.70599798860974</td><td>0.0</td></tr><tr><td>15.702094786168722</td><td>0.0</td></tr><tr><td>11.901373263181783</td><td>0.0</td></tr><tr><td>15.262433776185748</td><td>0.0</td></tr><tr><td>14.06152340209458</td><td>0.0</td></tr><tr><td>12.348825762054114</td><td>0.0</td></tr><tr><td>17.78837323973003</td><td>0.0</td></tr><tr><td>13.776145834441998</td><td>0.0</td></tr><tr><td>12.64063366559118</td><td>0.0</td></tr><tr><td>7.733245646529795</td><td>0.0</td></tr><tr><td>12.045991917672115</td><td>0.0</td></tr><tr><td>8.341648618901306</td><td>0.0</td></tr><tr><td>6.541029999189903</td><td>0.0</td></tr><tr><td>9.923633258229085</td><td>0.0</td></tr><tr><td>10.366403624279968</td><td>0.0</td></tr><tr><td>15.19024586993733</td><td>0.0</td></tr><tr><td>13.413153614503978</td><td>0.0</td></tr><tr><td>12.549499216047268</td><td>0.0</td></tr><tr><td>10.292823278714408</td><td>0.0</td></tr><tr><td>9.526901403978341</td><td>0.0</td></tr><tr><td>9.897469480210566</td><td>0.0</td></tr><tr><td>11.784798226215246</td><td>0.0</td></tr><tr><td>11.290856336257285</td><td>0.0</td></tr><tr><td>14.49539365826314</td><td>0.0</td></tr><tr><td>14.158107571217943</td><td>0.6931471805599453</td></tr><tr><td>16.878166209747153</td><td>0.0</td></tr><tr><td>16.21201076720474</td><td>0.0</td></tr><tr><td>11.3243403328803</td><td>0.0</td></tr><tr><td>12.142472350787205</td><td>0.0</td></tr><tr><td>16.68837506550316</td><td>0.6931471805599453</td></tr><tr><td>9.049702026013371</td><td>0.0</td></tr><tr><td>12.245946991173035</td><td>0.0</td></tr><tr><td>10.32692354596553</td><td>0.0</td></tr><tr><td>12.85193427941586</td><td>0.0</td></tr><tr><td>13.800010043296567</td><td>0.0</td></tr><tr><td>13.155465409549432</td><td>0.0</td></tr><tr><td>10.94822426823492</td><td>0.0</td></tr><tr><td>10.541359838437318</td><td>0.0</td></tr><tr><td>10.46851723031563</td><td>0.0</td></tr><tr><td>11.885502300964985</td><td>0.0</td></tr><tr><td>12.999705227666706</td><td>0.0</td></tr><tr><td>16.133042685390794</td><td>0.0</td></tr><tr><td>11.732277838844428</td><td>0.0</td></tr><tr><td>18.641350197208475</td><td>0.0</td></tr><tr><td>6.762729506931879</td><td>0.0</td></tr><tr><td>11.655656907057216</td><td>0.0</td></tr><tr><td>12.914216807096027</td><td>0.0</td></tr><tr><td>11.84708789317955</td><td>0.0</td></tr><tr><td>9.278933163441794</td><td>0.0</td></tr><tr><td>10.780683963269196</td><td>0.0</td></tr><tr><td>14.098060483450151</td><td>0.0</td></tr><tr><td>9.095714846134879</td><td>0.0</td></tr><tr><td>13.723791024068456</td><td>0.0</td></tr><tr><td>11.811458452726246</td><td>0.0</td></tr><tr><td>13.077794789827902</td><td>0.0</td></tr><tr><td>12.782166211841247</td><td>0.0</td></tr><tr><td>11.553520233676654</td><td>0.0</td></tr><tr><td>13.109097777113435</td><td>1.0986122886681096</td></tr><tr><td>13.224634726496621</td><td>0.0</td></tr><tr><td>15.733495693703498</td><td>0.0</td></tr><tr><td>14.201152478564898</td><td>0.0</td></tr><tr><td>10.162345677674331</td><td>0.0</td></tr><tr><td>15.280823564122967</td><td>0.0</td></tr><tr><td>12.194632455387618</td><td>0.0</td></tr><tr><td>15.568277677295509</td><td>2.302585092994046</td></tr><tr><td>16.372862047667965</td><td>0.0</td></tr><tr><td>12.68706566957551</td><td>0.6931471805599453</td></tr><tr><td>16.25339102435355</td><td>0.0</td></tr><tr><td>13.076759132799308</td><td>0.0</td></tr><tr><td>15.869832477147984</td><td>0.0</td></tr><tr><td>14.223660724740572</td><td>0.0</td></tr><tr><td>7.396335293800808</td><td>0.0</td></tr><tr><td>14.682869415628604</td><td>0.0</td></tr><tr><td>14.848395708258032</td><td>0.0</td></tr><tr><td>15.110768269726732</td><td>0.0</td></tr><tr><td>12.60578792165773</td><td>0.0</td></tr><tr><td>8.757940876678804</td><td>0.0</td></tr><tr><td>9.29798488182823</td><td>0.0</td></tr><tr><td>17.225378309765073</td><td>0.0</td></tr><tr><td>9.735956081214809</td><td>0.0</td></tr><tr><td>15.070443456172637</td><td>0.0</td></tr><tr><td>12.526248529255914</td><td>0.0</td></tr><tr><td>13.03534254582455</td><td>0.0</td></tr><tr><td>14.605307248298338</td><td>0.6931471805599453</td></tr><tr><td>13.340190421104083</td><td>0.0</td></tr><tr><td>11.386182407942334</td><td>0.0</td></tr><tr><td>14.675035787034123</td><td>0.6931471805599453</td></tr><tr><td>13.37378180027761</td><td>0.0</td></tr><tr><td>16.056540940493505</td><td>0.0</td></tr><tr><td>11.130712908672214</td><td>0.0</td></tr><tr><td>9.119211438565081</td><td>0.0</td></tr><tr><td>17.888333788764054</td><td>0.0</td></tr><tr><td>15.86863969464805</td><td>0.0</td></tr><tr><td>12.469570882192714</td><td>0.0</td></tr><tr><td>13.957418023145381</td><td>0.0</td></tr><tr><td>12.105069290313756</td><td>0.0</td></tr><tr><td>8.802672840312818</td><td>0.0</td></tr><tr><td>12.058013375339232</td><td>0.0</td></tr><tr><td>11.762843363000993</td><td>0.0</td></tr><tr><td>12.549534682196606</td><td>0.0</td></tr><tr><td>15.859086551624086</td><td>0.0</td></tr><tr><td>6.84587987526405</td><td>0.0</td></tr><tr><td>16.087576854069333</td><td>0.0</td></tr><tr><td>16.500149372022687</td><td>0.0</td></tr><tr><td>13.758365438153607</td><td>0.0</td></tr><tr><td>17.159936668484132</td><td>0.6931471805599453</td></tr><tr><td>13.13453105011726</td><td>0.0</td></tr><tr><td>13.601091338749042</td><td>0.0</td></tr><tr><td>13.956855594410584</td><td>0.0</td></tr><tr><td>13.58257673798626</td><td>0.0</td></tr><tr><td>16.166424994680604</td><td>0.6931471805599453</td></tr><tr><td>15.795345691754045</td><td>0.0</td></tr><tr><td>11.583141587979876</td><td>0.0</td></tr><tr><td>14.114823133148022</td><td>1.6094379124341003</td></tr><tr><td>11.332002929089981</td><td>0.6931471805599453</td></tr><tr><td>20.395188817665417</td><td>1.3862943611198906</td></tr><tr><td>15.273557279676487</td><td>0.0</td></tr><tr><td>16.971909777152103</td><td>0.0</td></tr><tr><td>8.913146539151807</td><td>0.0</td></tr><tr><td>10.438254287073526</td><td>0.0</td></tr><tr><td>14.764086469221304</td><td>0.0</td></tr><tr><td>10.721305107600823</td><td>0.6931471805599453</td></tr><tr><td>13.040096364463617</td><td>0.0</td></tr><tr><td>15.370062836542084</td><td>0.0</td></tr><tr><td>16.48463004439291</td><td>1.6094379124341003</td></tr><tr><td>10.300786071311231</td><td>0.0</td></tr><tr><td>9.069698042173716</td><td>0.0</td></tr><tr><td>11.665792464088986</td><td>0.0</td></tr><tr><td>8.28349412616251</td><td>0.0</td></tr><tr><td>13.508328932284728</td><td>0.6931471805599453</td></tr><tr><td>14.703296459972814</td><td>0.0</td></tr><tr><td>14.640458071228684</td><td>0.0</td></tr><tr><td>15.263283764183276</td><td>0.0</td></tr><tr><td>13.184528459161681</td><td>0.0</td></tr><tr><td>14.540306345892368</td><td>0.6931471805599453</td></tr><tr><td>9.108750516214549</td><td>0.0</td></tr><tr><td>14.050604814286148</td><td>0.0</td></tr><tr><td>11.523449888426441</td><td>0.0</td></tr><tr><td>16.922246002411477</td><td>0.0</td></tr><tr><td>16.94204479639149</td><td>0.6931471805599453</td></tr><tr><td>14.35508280958727</td><td>0.0</td></tr><tr><td>8.98744678941718</td><td>0.0</td></tr><tr><td>15.690297506768312</td><td>0.0</td></tr><tr><td>11.960159319287799</td><td>0.0</td></tr><tr><td>11.064323184384369</td><td>0.0</td></tr><tr><td>9.790822646878661</td><td>0.0</td></tr><tr><td>16.76677646997723</td><td>0.6931471805599453</td></tr><tr><td>11.447084763029794</td><td>0.0</td></tr><tr><td>14.945596319575936</td><td>0.0</td></tr><tr><td>15.403781488793994</td><td>1.0986122886681096</td></tr><tr><td>13.423323899738447</td><td>0.0</td></tr><tr><td>17.638655015232214</td><td>0.6931471805599453</td></tr><tr><td>13.417316203748396</td><td>1.3862943611198906</td></tr><tr><td>15.995755798765575</td><td>0.0</td></tr><tr><td>15.130204633388182</td><td>1.0986122886681096</td></tr><tr><td>11.454236468621549</td><td>0.0</td></tr><tr><td>10.984292222554274</td><td>0.0</td></tr><tr><td>11.781225921488108</td><td>0.0</td></tr><tr><td>10.505587952077706</td><td>0.0</td></tr><tr><td>11.69189139795082</td><td>0.0</td></tr><tr><td>7.161622002939187</td><td>0.0</td></tr><tr><td>11.4591554217604</td><td>0.0</td></tr><tr><td>9.887612203377838</td><td>0.0</td></tr><tr><td>9.360741172643708</td><td>0.0</td></tr><tr><td>10.79845249769553</td><td>0.0</td></tr><tr><td>7.890956716138919</td><td>0.0</td></tr><tr><td>15.81654728426736</td><td>0.6931471805599453</td></tr><tr><td>13.37097660517023</td><td>0.0</td></tr><tr><td>8.46611040118692</td><td>0.0</td></tr><tr><td>18.190799558169918</td><td>0.0</td></tr><tr><td>14.895559610972988</td><td>0.0</td></tr><tr><td>8.814033201652784</td><td>0.0</td></tr><tr><td>14.09006863631706</td><td>0.0</td></tr><tr><td>14.910142937289496</td><td>0.0</td></tr><tr><td>15.060993376070924</td><td>0.0</td></tr><tr><td>4.61512051684126</td><td>0.0</td></tr><tr><td>13.071924454779365</td><td>0.0</td></tr><tr><td>12.161768031223412</td><td>0.6931471805599453</td></tr><tr><td>13.00940742262467</td><td>1.0986122886681096</td></tr><tr><td>12.74707338643103</td><td>0.0</td></tr><tr><td>12.857532874268793</td><td>0.0</td></tr><tr><td>14.022486515236412</td><td>0.0</td></tr><tr><td>10.089095370321234</td><td>0.0</td></tr><tr><td>13.965032541887707</td><td>0.0</td></tr><tr><td>20.91791473060833</td><td>0.0</td></tr><tr><td>18.646624726396396</td><td>2.8903717578961645</td></tr><tr><td>17.483422905539175</td><td>0.6931471805599453</td></tr><tr><td>11.631881146142364</td><td>0.0</td></tr><tr><td>10.83241806475672</td><td>0.0</td></tr><tr><td>16.744104453680208</td><td>0.0</td></tr><tr><td>10.490774092396565</td><td>0.0</td></tr><tr><td>9.246575864558277</td><td>0.0</td></tr><tr><td>13.47147680499922</td><td>0.0</td></tr><tr><td>11.610161062694507</td><td>0.0</td></tr><tr><td>12.419731357633168</td><td>0.0</td></tr><tr><td>11.551049423061338</td><td>0.0</td></tr><tr><td>11.869620408708963</td><td>0.0</td></tr><tr><td>17.359412418058124</td><td>0.0</td></tr><tr><td>12.035533403847353</td><td>0.0</td></tr><tr><td>10.519483673907658</td><td>0.0</td></tr><tr><td>12.268216113315878</td><td>0.0</td></tr><tr><td>12.473194804016593</td><td>0.0</td></tr><tr><td>13.337132763064137</td><td>0.0</td></tr><tr><td>13.732599490477142</td><td>0.0</td></tr><tr><td>10.837048295575237</td><td>0.0</td></tr><tr><td>9.539572174084759</td><td>0.0</td></tr><tr><td>13.406019356006109</td><td>0.0</td></tr><tr><td>8.4368504387337</td><td>0.0</td></tr><tr><td>9.457512901089753</td><td>0.0</td></tr><tr><td>11.396121949427345</td><td>0.0</td></tr><tr><td>17.347374411448314</td><td>0.0</td></tr><tr><td>12.579840666895084</td><td>0.0</td></tr><tr><td>12.979270995266319</td><td>0.0</td></tr><tr><td>12.072301224101043</td><td>0.0</td></tr><tr><td>11.058562086849406</td><td>1.6094379124341003</td></tr><tr><td>11.629837009877729</td><td>0.0</td></tr><tr><td>9.339876293325217</td><td>0.0</td></tr><tr><td>13.847063487117323</td><td>0.0</td></tr><tr><td>8.731174900938061</td><td>0.0</td></tr><tr><td>14.975970563300521</td><td>0.0</td></tr><tr><td>13.723675931421488</td><td>0.0</td></tr><tr><td>18.02001283088229</td><td>0.0</td></tr><tr><td>11.935798177733426</td><td>0.0</td></tr><tr><td>14.116897291083832</td><td>0.0</td></tr><tr><td>16.7277386063665</td><td>0.0</td></tr><tr><td>14.424461123644992</td><td>0.0</td></tr><tr><td>12.468429217660386</td><td>0.0</td></tr><tr><td>15.37146520081734</td><td>0.0</td></tr><tr><td>18.879130141909023</td><td>0.6931471805599453</td></tr><tr><td>8.063377822367027</td><td>0.0</td></tr><tr><td>15.468312702692037</td><td>0.0</td></tr><tr><td>15.34525245262095</td><td>0.0</td></tr><tr><td>8.549466751966532</td><td>0.0</td></tr><tr><td>12.050354070530753</td><td>0.0</td></tr><tr><td>17.708655570090446</td><td>0.0</td></tr><tr><td>11.95368049385684</td><td>0.0</td></tr><tr><td>14.688618176736895</td><td>0.0</td></tr><tr><td>14.158733528449025</td><td>0.0</td></tr><tr><td>14.726370972316559</td><td>0.0</td></tr><tr><td>11.3407720370919</td><td>0.0</td></tr><tr><td>11.552030786850809</td><td>0.0</td></tr><tr><td>17.549086750074895</td><td>1.791759469228055</td></tr><tr><td>14.090520679312146</td><td>0.0</td></tr><tr><td>15.153609715390644</td><td>0.0</td></tr><tr><td>9.994607145903611</td><td>0.0</td></tr><tr><td>10.580708582545814</td><td>0.0</td></tr><tr><td>17.473448213938557</td><td>0.0</td></tr><tr><td>17.895001144092777</td><td>0.0</td></tr><tr><td>14.458992066209355</td><td>0.0</td></tr><tr><td>17.44004934565182</td><td>1.9459101490553132</td></tr><tr><td>14.64869659907574</td><td>0.0</td></tr><tr><td>13.69205622083628</td><td>0.0</td></tr><tr><td>11.56149655752618</td><td>0.0</td></tr><tr><td>11.989687454960427</td><td>0.0</td></tr><tr><td>10.001158579709575</td><td>0.0</td></tr><tr><td>5.552959584921617</td><td>0.0</td></tr><tr><td>13.749268186097108</td><td>0.0</td></tr><tr><td>9.635804166591036</td><td>0.0</td></tr><tr><td>14.893546940433124</td><td>0.0</td></tr><tr><td>14.200234718691625</td><td>0.0</td></tr><tr><td>8.251663923605589</td><td>0.0</td></tr><tr><td>9.254070134837509</td><td>0.0</td></tr><tr><td>15.195463856977263</td><td>0.0</td></tr><tr><td>11.840508307745525</td><td>0.0</td></tr><tr><td>9.834887461043872</td><td>0.0</td></tr><tr><td>14.417718293129115</td><td>0.0</td></tr><tr><td>13.867701599256455</td><td>0.0</td></tr><tr><td>9.452501929126154</td><td>0.0</td></tr><tr><td>10.883654085997756</td><td>0.0</td></tr><tr><td>10.609674346603876</td><td>0.0</td></tr><tr><td>16.456589200492335</td><td>0.0</td></tr><tr><td>13.827267177287835</td><td>0.0</td></tr><tr><td>11.756122592482464</td><td>0.0</td></tr><tr><td>11.882328067533177</td><td>0.0</td></tr><tr><td>12.377270057821192</td><td>0.0</td></tr><tr><td>11.87692253658462</td><td>0.0</td></tr><tr><td>15.118504828561528</td><td>0.6931471805599453</td></tr><tr><td>14.725806557280734</td><td>0.0</td></tr><tr><td>12.436183866159977</td><td>0.0</td></tr><tr><td>9.433403920090221</td><td>0.0</td></tr><tr><td>15.136534129903781</td><td>0.0</td></tr><tr><td>13.939827754971589</td><td>0.0</td></tr><tr><td>11.93942120423903</td><td>0.0</td></tr><tr><td>17.048683845261994</td><td>0.0</td></tr><tr><td>12.46523949602104</td><td>0.0</td></tr><tr><td>13.455296501605877</td><td>0.0</td></tr><tr><td>11.32942321142811</td><td>0.0</td></tr><tr><td>13.831504962785157</td><td>0.0</td></tr><tr><td>9.64633468511917</td><td>0.0</td></tr><tr><td>13.538972822728221</td><td>0.0</td></tr><tr><td>14.363557975297375</td><td>0.0</td></tr><tr><td>9.710933825175925</td><td>0.0</td></tr><tr><td>12.822946048734128</td><td>0.0</td></tr><tr><td>16.00837575811959</td><td>0.0</td></tr><tr><td>13.76520204168145</td><td>0.0</td></tr><tr><td>11.692693764976466</td><td>0.0</td></tr><tr><td>13.449360870062998</td><td>0.0</td></tr></tbody></table>Showing the first 1000 rows.</div>"
      ]
     },
     "metadata": {
      "application/vnd.databricks.v1+output": {
       "addedWidgets": {},
       "arguments": {},
       "data": "<style scoped>\n  .table-result-container {\n    max-height: 300px;\n    overflow: auto;\n  }\n  table, th, td {\n    border: 1px solid black;\n    border-collapse: collapse;\n  }\n  th, td {\n    padding: 5px;\n  }\n  th {\n    text-align: left;\n  }\n</style><div class='table-result-container'><table class='table-result'><thead style='background-color: white'><tr><th>ln(mean_viewCount)</th><th>ln(songsCount)</th></tr></thead><tbody><tr><td>16.640813076138894</td><td>1.3862943611198906</td></tr><tr><td>17.32637973833333</td><td>0.6931471805599453</td></tr><tr><td>11.727100922878089</td><td>0.0</td></tr><tr><td>13.273330136789179</td><td>0.0</td></tr><tr><td>8.03365842788615</td><td>0.0</td></tr><tr><td>16.002462889304873</td><td>0.0</td></tr><tr><td>10.482730882413174</td><td>1.3862943611198906</td></tr><tr><td>7.428333194190806</td><td>0.0</td></tr><tr><td>7.247080584585756</td><td>0.0</td></tr><tr><td>18.212742405255103</td><td>0.0</td></tr><tr><td>14.01598632533827</td><td>0.0</td></tr><tr><td>14.709915125485615</td><td>0.0</td></tr><tr><td>14.130648251648344</td><td>0.0</td></tr><tr><td>14.24092142038036</td><td>0.0</td></tr><tr><td>16.109044411801055</td><td>0.0</td></tr><tr><td>13.350379836793746</td><td>0.0</td></tr><tr><td>9.338381721857067</td><td>0.0</td></tr><tr><td>12.544004530631755</td><td>0.0</td></tr><tr><td>11.100828414064017</td><td>0.0</td></tr><tr><td>15.373119664228929</td><td>0.0</td></tr><tr><td>9.766120240743215</td><td>0.0</td></tr><tr><td>8.34924780056679</td><td>0.0</td></tr><tr><td>12.66922787794707</td><td>0.0</td></tr><tr><td>16.71961980081747</td><td>0.0</td></tr><tr><td>12.3124801129427</td><td>0.0</td></tr><tr><td>11.163311249602069</td><td>0.0</td></tr><tr><td>14.214590658560484</td><td>0.0</td></tr><tr><td>13.194198339655781</td><td>0.0</td></tr><tr><td>14.408380392751273</td><td>0.0</td></tr><tr><td>10.609378189243436</td><td>0.0</td></tr><tr><td>20.903890439728</td><td>0.0</td></tr><tr><td>13.995708194168227</td><td>0.0</td></tr><tr><td>17.570005851137882</td><td>0.0</td></tr><tr><td>11.52645354644992</td><td>0.0</td></tr><tr><td>11.368246453600785</td><td>0.0</td></tr><tr><td>17.014885673954343</td><td>0.0</td></tr><tr><td>11.149110808117252</td><td>0.0</td></tr><tr><td>12.370145367267332</td><td>0.0</td></tr><tr><td>7.884576510596324</td><td>0.0</td></tr><tr><td>12.683973137319303</td><td>0.0</td></tr><tr><td>16.913858328056087</td><td>2.1972245773362196</td></tr><tr><td>11.793235430092388</td><td>0.0</td></tr><tr><td>15.725853187108351</td><td>0.0</td></tr><tr><td>12.112997466250414</td><td>0.0</td></tr><tr><td>12.517325970375607</td><td>0.0</td></tr><tr><td>10.6255379807028</td><td>0.0</td></tr><tr><td>9.318566777047053</td><td>0.0</td></tr><tr><td>7.76046702921342</td><td>0.0</td></tr><tr><td>16.10042666981943</td><td>0.0</td></tr><tr><td>10.708086658390217</td><td>0.0</td></tr><tr><td>14.218026655344913</td><td>0.0</td></tr><tr><td>13.54717479956329</td><td>0.0</td></tr><tr><td>13.35001833699564</td><td>0.0</td></tr><tr><td>7.738052297689316</td><td>0.0</td></tr><tr><td>12.940851093061072</td><td>0.0</td></tr><tr><td>16.327498915400465</td><td>0.0</td></tr><tr><td>12.378524826527345</td><td>0.0</td></tr><tr><td>10.260287488663012</td><td>0.0</td></tr><tr><td>9.402859753746583</td><td>0.0</td></tr><tr><td>13.857489003537168</td><td>0.0</td></tr><tr><td>13.7056488158584</td><td>0.0</td></tr><tr><td>11.803802428318528</td><td>0.0</td></tr><tr><td>13.413546812923991</td><td>0.0</td></tr><tr><td>15.476584628501444</td><td>1.3862943611198906</td></tr><tr><td>7.60489448081162</td><td>0.0</td></tr><tr><td>15.677426488113113</td><td>0.0</td></tr><tr><td>13.728106740343529</td><td>0.0</td></tr><tr><td>13.042560141055246</td><td>0.0</td></tr><tr><td>7.81237820598861</td><td>0.0</td></tr><tr><td>10.515966830028619</td><td>0.0</td></tr><tr><td>8.777401286867264</td><td>0.0</td></tr><tr><td>9.50747760319872</td><td>0.0</td></tr><tr><td>12.446922510763198</td><td>0.0</td></tr><tr><td>17.96243866767262</td><td>0.0</td></tr><tr><td>14.22181797789488</td><td>0.0</td></tr><tr><td>12.498667629842599</td><td>0.0</td></tr><tr><td>14.355954885090323</td><td>0.6931471805599453</td></tr><tr><td>19.496878558018743</td><td>0.0</td></tr><tr><td>10.709673197721699</td><td>0.0</td></tr><tr><td>8.997394645638419</td><td>0.0</td></tr><tr><td>8.620471540869739</td><td>0.0</td></tr><tr><td>14.767617367638822</td><td>0.0</td></tr><tr><td>17.420055340423485</td><td>0.0</td></tr><tr><td>15.436810042971882</td><td>0.0</td></tr><tr><td>14.816661053767913</td><td>0.0</td></tr><tr><td>17.312911689774804</td><td>0.0</td></tr><tr><td>7.468513271496337</td><td>0.0</td></tr><tr><td>15.505432373038788</td><td>0.0</td></tr><tr><td>8.954931860074698</td><td>0.0</td></tr><tr><td>11.175296559665634</td><td>0.0</td></tr><tr><td>11.871655296181219</td><td>0.0</td></tr><tr><td>12.347229267061975</td><td>0.6931471805599453</td></tr><tr><td>15.288560888460047</td><td>0.0</td></tr><tr><td>11.800942481322037</td><td>0.0</td></tr><tr><td>12.798150091849449</td><td>0.0</td></tr><tr><td>10.408254861718154</td><td>0.0</td></tr><tr><td>14.009281321735132</td><td>0.0</td></tr><tr><td>16.638700838522368</td><td>0.0</td></tr><tr><td>15.311789178743457</td><td>0.0</td></tr><tr><td>7.63433723562832</td><td>0.0</td></tr><tr><td>18.055687916421665</td><td>0.0</td></tr><tr><td>16.35150932357144</td><td>0.6931471805599453</td></tr><tr><td>18.66954241735448</td><td>1.6094379124341003</td></tr><tr><td>17.964679202333606</td><td>0.0</td></tr><tr><td>9.480749115757506</td><td>0.0</td></tr><tr><td>12.274707452919827</td><td>0.0</td></tr><tr><td>10.638016570874843</td><td>0.0</td></tr><tr><td>15.482082206156043</td><td>0.0</td></tr><tr><td>10.916414856894058</td><td>0.0</td></tr><tr><td>19.644589493157884</td><td>0.0</td></tr><tr><td>17.916448353641726</td><td>0.0</td></tr><tr><td>9.916502489613622</td><td>0.0</td></tr><tr><td>11.9603575118997</td><td>0.0</td></tr><tr><td>20.601892841965253</td><td>0.0</td></tr><tr><td>12.574610940816129</td><td>0.0</td></tr><tr><td>15.661205345026888</td><td>0.0</td></tr><tr><td>9.703388915639492</td><td>0.0</td></tr><tr><td>14.377911036475977</td><td>0.0</td></tr><tr><td>20.055201789786828</td><td>0.0</td></tr><tr><td>10.0519075576544</td><td>0.0</td></tr><tr><td>11.046626963254315</td><td>0.0</td></tr><tr><td>13.540977655017585</td><td>0.0</td></tr><tr><td>15.83384269236944</td><td>1.3862943611198906</td></tr><tr><td>12.743287977589999</td><td>0.0</td></tr><tr><td>14.774497111647245</td><td>0.0</td></tr><tr><td>13.474222343114201</td><td>0.0</td></tr><tr><td>11.06137453266671</td><td>0.0</td></tr><tr><td>7.6708948313621175</td><td>0.0</td></tr><tr><td>12.316609490847584</td><td>0.6931471805599453</td></tr><tr><td>9.808462332127018</td><td>0.0</td></tr><tr><td>14.910535419503598</td><td>0.0</td></tr><tr><td>10.646876224532782</td><td>0.0</td></tr><tr><td>11.440967487612728</td><td>0.0</td></tr><tr><td>11.094314325192048</td><td>0.0</td></tr><tr><td>10.992672207054676</td><td>0.0</td></tr><tr><td>15.120655057074726</td><td>0.0</td></tr><tr><td>14.172710763928752</td><td>0.0</td></tr><tr><td>10.93149853402069</td><td>0.0</td></tr><tr><td>19.360486368835897</td><td>1.6094379124341003</td></tr><tr><td>12.495445787317868</td><td>0.0</td></tr><tr><td>8.164794804244766</td><td>0.0</td></tr><tr><td>15.970013420787666</td><td>0.0</td></tr><tr><td>15.862148005885956</td><td>0.0</td></tr><tr><td>10.364387367532393</td><td>0.0</td></tr><tr><td>11.271312397372357</td><td>0.0</td></tr><tr><td>9.443612456086433</td><td>1.3862943611198906</td></tr><tr><td>15.325805033040886</td><td>0.0</td></tr><tr><td>14.439598079092717</td><td>0.0</td></tr><tr><td>16.147647365796107</td><td>0.0</td></tr><tr><td>14.120986624110701</td><td>0.0</td></tr><tr><td>14.906170308861029</td><td>0.0</td></tr><tr><td>9.167537249650874</td><td>0.0</td></tr><tr><td>14.163042128372181</td><td>0.0</td></tr><tr><td>9.286467732363734</td><td>0.0</td></tr><tr><td>15.902361085201223</td><td>0.0</td></tr><tr><td>10.733326750679167</td><td>0.0</td></tr><tr><td>8.78813593986372</td><td>0.0</td></tr><tr><td>12.538300171815798</td><td>0.0</td></tr><tr><td>14.79203920159805</td><td>0.0</td></tr><tr><td>18.139402523003792</td><td>0.0</td></tr><tr><td>10.677015845042886</td><td>0.0</td></tr><tr><td>12.738695963944851</td><td>0.0</td></tr><tr><td>15.683010261718822</td><td>0.0</td></tr><tr><td>18.239009083929748</td><td>0.6931471805599453</td></tr><tr><td>12.350934604163747</td><td>0.0</td></tr><tr><td>17.423751241377733</td><td>0.0</td></tr><tr><td>14.147075774832484</td><td>0.0</td></tr><tr><td>12.912987120486475</td><td>0.0</td></tr><tr><td>12.90464010977565</td><td>0.0</td></tr><tr><td>16.30772663700079</td><td>1.3862943611198906</td></tr><tr><td>13.549766087030394</td><td>0.0</td></tr><tr><td>18.370223980277167</td><td>1.0986122886681096</td></tr><tr><td>11.325136991783454</td><td>0.0</td></tr><tr><td>15.676658331596489</td><td>0.0</td></tr><tr><td>11.945340797944942</td><td>0.6931471805599453</td></tr><tr><td>12.789852683500538</td><td>0.6931471805599453</td></tr><tr><td>8.4071550862073</td><td>0.0</td></tr><tr><td>13.16872392577954</td><td>0.0</td></tr><tr><td>13.04099929710238</td><td>0.0</td></tr><tr><td>10.303336921858657</td><td>0.0</td></tr><tr><td>7.753194269884341</td><td>0.0</td></tr><tr><td>19.97992878248025</td><td>0.0</td></tr><tr><td>10.846614938363842</td><td>0.0</td></tr><tr><td>8.0323601479245</td><td>0.0</td></tr><tr><td>15.04621866765023</td><td>0.0</td></tr><tr><td>13.583142087622106</td><td>0.0</td></tr><tr><td>19.57316411939448</td><td>0.6931471805599453</td></tr><tr><td>14.09992003130033</td><td>0.0</td></tr><tr><td>16.319406187133282</td><td>0.0</td></tr><tr><td>11.096561175993063</td><td>0.0</td></tr><tr><td>9.44311737225863</td><td>0.0</td></tr><tr><td>12.142754712505093</td><td>0.0</td></tr><tr><td>13.402738317673517</td><td>0.0</td></tr><tr><td>11.673836101858502</td><td>0.6931471805599453</td></tr><tr><td>17.812481733433625</td><td>0.0</td></tr><tr><td>13.096247302171554</td><td>0.0</td></tr><tr><td>19.085633454695877</td><td>0.0</td></tr><tr><td>12.0759155535446</td><td>0.6931471805599453</td></tr><tr><td>12.563086032190707</td><td>0.0</td></tr><tr><td>21.085244712936433</td><td>0.0</td></tr><tr><td>6.068425588244111</td><td>0.0</td></tr><tr><td>7.0192966537150445</td><td>0.0</td></tr><tr><td>16.458059214370543</td><td>0.6931471805599453</td></tr><tr><td>15.968919195803846</td><td>0.0</td></tr><tr><td>12.671098280094299</td><td>0.0</td></tr><tr><td>14.411997047189589</td><td>0.0</td></tr><tr><td>13.596146106847144</td><td>0.0</td></tr><tr><td>8.280711075662847</td><td>0.0</td></tr><tr><td>10.325809777710715</td><td>0.0</td></tr><tr><td>17.74966109384875</td><td>0.0</td></tr><tr><td>19.305134399929337</td><td>0.0</td></tr><tr><td>17.636611422050002</td><td>0.0</td></tr><tr><td>8.68777949199177</td><td>1.6094379124341003</td></tr><tr><td>13.383833395999291</td><td>0.0</td></tr><tr><td>12.903386134959534</td><td>0.0</td></tr><tr><td>11.172700194519704</td><td>0.6931471805599453</td></tr><tr><td>10.755751632245435</td><td>0.0</td></tr><tr><td>17.59331823407937</td><td>0.0</td></tr><tr><td>10.407197922816518</td><td>0.0</td></tr><tr><td>9.50554408582681</td><td>0.0</td></tr><tr><td>17.587485463077982</td><td>0.0</td></tr><tr><td>11.144813943403413</td><td>0.0</td></tr><tr><td>10.849181734779526</td><td>0.0</td></tr><tr><td>15.26146436939004</td><td>0.0</td></tr><tr><td>6.434546518787453</td><td>0.0</td></tr><tr><td>11.130199843831553</td><td>0.0</td></tr><tr><td>9.140883106960962</td><td>0.0</td></tr><tr><td>12.987791443604559</td><td>0.0</td></tr><tr><td>17.299549097214623</td><td>0.6931471805599453</td></tr><tr><td>6.208590026096629</td><td>0.0</td></tr><tr><td>13.501136742658813</td><td>0.0</td></tr><tr><td>9.63991255542758</td><td>0.0</td></tr><tr><td>15.954832091351168</td><td>0.0</td></tr><tr><td>13.468727244428857</td><td>0.6931471805599453</td></tr><tr><td>10.17458282138351</td><td>0.0</td></tr><tr><td>16.16920379320627</td><td>0.0</td></tr><tr><td>11.87423664493836</td><td>0.0</td></tr><tr><td>13.021694063056826</td><td>0.0</td></tr><tr><td>10.397848372270873</td><td>0.0</td></tr><tr><td>15.064437320478843</td><td>0.0</td></tr><tr><td>13.233847505418174</td><td>0.0</td></tr><tr><td>14.62023623242509</td><td>0.0</td></tr><tr><td>16.526043408074862</td><td>0.6931471805599453</td></tr><tr><td>11.727823112070588</td><td>0.6931471805599453</td></tr><tr><td>13.04289800304184</td><td>0.0</td></tr><tr><td>10.873792872716521</td><td>0.0</td></tr><tr><td>13.58362894070678</td><td>0.0</td></tr><tr><td>11.786937020248835</td><td>0.0</td></tr><tr><td>10.73591830019846</td><td>0.0</td></tr><tr><td>11.797901379076277</td><td>0.0</td></tr><tr><td>12.452342705685439</td><td>0.0</td></tr><tr><td>6.927557906278317</td><td>0.0</td></tr><tr><td>14.448524964480836</td><td>0.0</td></tr><tr><td>10.307651814911244</td><td>0.0</td></tr><tr><td>19.347301433622164</td><td>0.0</td></tr><tr><td>11.434498950552483</td><td>0.0</td></tr><tr><td>14.650514875749264</td><td>0.0</td></tr><tr><td>11.132616276743182</td><td>0.0</td></tr><tr><td>15.622074892337004</td><td>0.0</td></tr><tr><td>13.858890877179405</td><td>0.0</td></tr><tr><td>9.266248003914479</td><td>0.0</td></tr><tr><td>13.976172564447175</td><td>0.0</td></tr><tr><td>11.991145248987305</td><td>0.0</td></tr><tr><td>12.691928093188604</td><td>0.0</td></tr><tr><td>13.569535847978853</td><td>0.0</td></tr><tr><td>14.594809287634448</td><td>0.0</td></tr><tr><td>10.587707503696082</td><td>0.6931471805599453</td></tr><tr><td>17.789359082666298</td><td>0.6931471805599453</td></tr><tr><td>14.284412956077524</td><td>0.0</td></tr><tr><td>11.161337560080053</td><td>0.0</td></tr><tr><td>15.370167522263444</td><td>0.6931471805599453</td></tr><tr><td>12.570890512366363</td><td>1.0986122886681096</td></tr><tr><td>14.373373954215035</td><td>0.0</td></tr><tr><td>13.545057870217429</td><td>0.0</td></tr><tr><td>17.74727448290236</td><td>0.0</td></tr><tr><td>14.587118580322773</td><td>0.0</td></tr><tr><td>10.309627432934256</td><td>1.3862943611198906</td></tr><tr><td>10.128908508594378</td><td>0.0</td></tr><tr><td>12.706784295054147</td><td>0.0</td></tr><tr><td>8.928110078202646</td><td>0.0</td></tr><tr><td>12.381826851070567</td><td>0.0</td></tr><tr><td>10.738004078558598</td><td>0.0</td></tr><tr><td>13.420966101874603</td><td>0.0</td></tr><tr><td>11.468733214177846</td><td>0.0</td></tr><tr><td>11.500042839139216</td><td>0.0</td></tr><tr><td>13.290771928978288</td><td>0.0</td></tr><tr><td>17.059317757160898</td><td>0.0</td></tr><tr><td>9.702227794721923</td><td>0.0</td></tr><tr><td>12.83356868622182</td><td>0.0</td></tr><tr><td>15.312544541372446</td><td>0.0</td></tr><tr><td>10.395069192935358</td><td>0.0</td></tr><tr><td>10.064117198461096</td><td>0.0</td></tr><tr><td>12.462825039018151</td><td>0.0</td></tr><tr><td>13.720084971500857</td><td>0.0</td></tr><tr><td>12.500509353977884</td><td>0.0</td></tr><tr><td>10.366812680153265</td><td>0.0</td></tr><tr><td>11.693729203794385</td><td>0.0</td></tr><tr><td>10.749892156946117</td><td>0.0</td></tr><tr><td>12.944009140379613</td><td>0.0</td></tr><tr><td>15.798907775421707</td><td>0.0</td></tr><tr><td>13.611814178622623</td><td>0.0</td></tr><tr><td>13.98645514173489</td><td>0.0</td></tr><tr><td>15.745578159674631</td><td>0.0</td></tr><tr><td>10.111009722947381</td><td>0.6931471805599453</td></tr><tr><td>9.700330435154035</td><td>0.0</td></tr><tr><td>16.932649914596947</td><td>0.0</td></tr><tr><td>13.137445074704285</td><td>0.0</td></tr><tr><td>13.248481358472944</td><td>0.0</td></tr><tr><td>8.778171881033469</td><td>0.0</td></tr><tr><td>13.872333137640464</td><td>0.0</td></tr><tr><td>12.37724477784546</td><td>0.0</td></tr><tr><td>7.841099765422119</td><td>0.0</td></tr><tr><td>16.968370418813475</td><td>0.0</td></tr><tr><td>11.445646124550018</td><td>1.6094379124341003</td></tr><tr><td>11.08064912658532</td><td>0.0</td></tr><tr><td>14.608843739442602</td><td>0.0</td></tr><tr><td>11.357265313129764</td><td>0.0</td></tr><tr><td>5.117993812416755</td><td>0.6931471805599453</td></tr><tr><td>15.121824313648911</td><td>0.0</td></tr><tr><td>20.487612401051845</td><td>0.6931471805599453</td></tr><tr><td>14.189231096781592</td><td>0.0</td></tr><tr><td>13.99873087741671</td><td>0.0</td></tr><tr><td>9.361601165816767</td><td>0.0</td></tr><tr><td>13.330925940903464</td><td>0.0</td></tr><tr><td>12.162173003240156</td><td>0.6931471805599453</td></tr><tr><td>15.916090721357087</td><td>0.0</td></tr><tr><td>11.049253746797524</td><td>0.0</td></tr><tr><td>17.84217062454519</td><td>0.0</td></tr><tr><td>9.431321587125709</td><td>0.0</td></tr><tr><td>15.12024257818605</td><td>0.0</td></tr><tr><td>15.730393149542097</td><td>0.0</td></tr><tr><td>11.221342460433497</td><td>0.0</td></tr><tr><td>17.335393027570547</td><td>0.0</td></tr><tr><td>13.285544587545855</td><td>0.0</td></tr><tr><td>10.455330351773332</td><td>0.0</td></tr><tr><td>7.189922170745808</td><td>0.0</td></tr><tr><td>12.123006204311864</td><td>0.0</td></tr><tr><td>11.735508859425876</td><td>0.0</td></tr><tr><td>9.127284796838858</td><td>0.0</td></tr><tr><td>10.146276856097172</td><td>0.0</td></tr><tr><td>13.994412942712573</td><td>0.0</td></tr><tr><td>15.301247005339231</td><td>0.0</td></tr><tr><td>6.752270376141742</td><td>0.0</td></tr><tr><td>11.932346073839886</td><td>0.0</td></tr><tr><td>16.030668587583076</td><td>0.0</td></tr><tr><td>9.722565016655881</td><td>0.0</td></tr><tr><td>12.204461348087397</td><td>0.0</td></tr><tr><td>16.93027033694527</td><td>1.0986122886681096</td></tr><tr><td>14.981496719358942</td><td>0.0</td></tr><tr><td>12.250089530946948</td><td>0.0</td></tr><tr><td>15.487689877693763</td><td>1.791759469228055</td></tr><tr><td>14.66168521636766</td><td>0.0</td></tr><tr><td>13.765701162054595</td><td>2.0794415416798357</td></tr><tr><td>8.756210091886738</td><td>0.0</td></tr><tr><td>12.43218378918327</td><td>0.0</td></tr><tr><td>15.508523332662799</td><td>0.0</td></tr><tr><td>11.635302377044246</td><td>0.0</td></tr><tr><td>14.09434535846966</td><td>0.0</td></tr><tr><td>9.790150867197125</td><td>0.0</td></tr><tr><td>13.921911731949342</td><td>0.0</td></tr><tr><td>9.744140059301994</td><td>0.0</td></tr><tr><td>15.136755067239326</td><td>0.0</td></tr><tr><td>9.579003173560242</td><td>0.0</td></tr><tr><td>13.425151772639403</td><td>0.0</td></tr><tr><td>10.889136422512594</td><td>0.0</td></tr><tr><td>11.322007060950755</td><td>0.0</td></tr><tr><td>9.503681402279643</td><td>0.0</td></tr><tr><td>10.771994613556476</td><td>0.0</td></tr><tr><td>15.389971858293638</td><td>0.0</td></tr><tr><td>12.876863014641012</td><td>0.6931471805599453</td></tr><tr><td>10.04246657981758</td><td>0.0</td></tr><tr><td>13.446544674655588</td><td>0.0</td></tr><tr><td>11.976634323653215</td><td>0.0</td></tr><tr><td>14.48325479871119</td><td>0.0</td></tr><tr><td>17.0784402819183</td><td>0.0</td></tr><tr><td>12.38528938737065</td><td>0.0</td></tr><tr><td>13.61388140332684</td><td>0.0</td></tr><tr><td>14.814482605629463</td><td>0.0</td></tr><tr><td>6.738152494595957</td><td>0.0</td></tr><tr><td>12.139689223609238</td><td>1.6094379124341003</td></tr><tr><td>17.79627218922835</td><td>0.0</td></tr><tr><td>12.376064334283246</td><td>0.0</td></tr><tr><td>12.246550580868856</td><td>1.0986122886681096</td></tr><tr><td>15.987315441784169</td><td>0.0</td></tr><tr><td>10.83700897967195</td><td>0.0</td></tr><tr><td>14.292564276822493</td><td>0.0</td></tr><tr><td>13.37922019600316</td><td>0.0</td></tr><tr><td>9.736074312475292</td><td>0.0</td></tr><tr><td>16.338159424622226</td><td>0.0</td></tr><tr><td>16.898988197405462</td><td>0.0</td></tr><tr><td>14.141173873820895</td><td>0.0</td></tr><tr><td>13.621034635215253</td><td>0.0</td></tr><tr><td>16.05146512978046</td><td>0.0</td></tr><tr><td>15.122265286236154</td><td>1.0986122886681096</td></tr><tr><td>15.638902761491677</td><td>1.6094379124341003</td></tr><tr><td>13.319727886176814</td><td>0.0</td></tr><tr><td>13.860891106471188</td><td>0.0</td></tr><tr><td>9.219993629004321</td><td>0.0</td></tr><tr><td>14.086264911607389</td><td>0.0</td></tr><tr><td>12.57219036579549</td><td>0.0</td></tr><tr><td>9.244065241377804</td><td>0.0</td></tr><tr><td>12.282264872686039</td><td>0.0</td></tr><tr><td>12.225576208503233</td><td>0.0</td></tr><tr><td>18.01873680424805</td><td>0.0</td></tr><tr><td>13.71493413581544</td><td>0.6931471805599453</td></tr><tr><td>15.383398815364078</td><td>0.6931471805599453</td></tr><tr><td>6.133398042996649</td><td>0.0</td></tr><tr><td>16.009330011106503</td><td>1.0986122886681096</td></tr><tr><td>11.69188303657203</td><td>0.0</td></tr><tr><td>14.366279902681175</td><td>0.0</td></tr><tr><td>12.566348598047965</td><td>0.0</td></tr><tr><td>14.160686946167973</td><td>0.0</td></tr><tr><td>15.868866946043411</td><td>0.0</td></tr><tr><td>7.017506142941256</td><td>0.0</td></tr><tr><td>16.032984068216262</td><td>0.0</td></tr><tr><td>16.552419877535716</td><td>1.0986122886681096</td></tr><tr><td>16.414671877893436</td><td>0.0</td></tr><tr><td>18.895542621525266</td><td>0.0</td></tr><tr><td>12.603942314516507</td><td>0.6931471805599453</td></tr><tr><td>14.234801645205776</td><td>0.0</td></tr><tr><td>11.513035458920672</td><td>0.0</td></tr><tr><td>17.288259685511097</td><td>0.0</td></tr><tr><td>8.580167990577626</td><td>0.0</td></tr><tr><td>14.655065375359394</td><td>0.0</td></tr><tr><td>11.313290899206928</td><td>0.0</td></tr><tr><td>13.419124609270403</td><td>0.0</td></tr><tr><td>15.74525604572175</td><td>0.0</td></tr><tr><td>18.204338026950605</td><td>0.0</td></tr><tr><td>14.202156015496305</td><td>0.6931471805599453</td></tr><tr><td>10.254602065894211</td><td>0.0</td></tr><tr><td>6.806829360392176</td><td>0.0</td></tr><tr><td>17.719268945326753</td><td>0.0</td></tr><tr><td>10.945952680581236</td><td>0.0</td></tr><tr><td>11.699745223003951</td><td>0.0</td></tr><tr><td>11.442492271002386</td><td>0.0</td></tr><tr><td>11.740029164536077</td><td>0.0</td></tr><tr><td>19.58153636244545</td><td>0.0</td></tr><tr><td>12.102094507281597</td><td>0.0</td></tr><tr><td>12.620487584157923</td><td>0.0</td></tr><tr><td>14.861276065507157</td><td>0.0</td></tr><tr><td>13.489586493255626</td><td>0.0</td></tr><tr><td>10.324071131775993</td><td>0.0</td></tr><tr><td>7.6255950721324535</td><td>0.0</td></tr><tr><td>12.163707794752405</td><td>0.0</td></tr><tr><td>18.01145964593707</td><td>0.0</td></tr><tr><td>15.284354481968881</td><td>0.0</td></tr><tr><td>13.12734295868468</td><td>0.0</td></tr><tr><td>20.169871402197597</td><td>0.6931471805599453</td></tr><tr><td>21.841306166748993</td><td>0.0</td></tr><tr><td>9.13075589263334</td><td>0.0</td></tr><tr><td>15.152843640275458</td><td>0.0</td></tr><tr><td>11.905116190347785</td><td>0.0</td></tr><tr><td>8.79346036105272</td><td>0.0</td></tr><tr><td>15.210065208760545</td><td>0.0</td></tr><tr><td>17.173290113571092</td><td>0.0</td></tr><tr><td>9.128587870103924</td><td>1.6094379124341003</td></tr><tr><td>14.715327539677522</td><td>0.0</td></tr><tr><td>16.06044280902659</td><td>0.0</td></tr><tr><td>10.614450092966075</td><td>0.0</td></tr><tr><td>14.57621357797505</td><td>0.0</td></tr><tr><td>15.303593839181179</td><td>0.0</td></tr><tr><td>11.211401365496345</td><td>0.0</td></tr><tr><td>8.430981494597171</td><td>1.0986122886681096</td></tr><tr><td>8.66561319653451</td><td>0.0</td></tr><tr><td>13.952232667333861</td><td>0.6931471805599453</td></tr><tr><td>14.164597183301286</td><td>0.0</td></tr><tr><td>11.97718764358685</td><td>0.0</td></tr><tr><td>15.075018300673415</td><td>0.6931471805599453</td></tr><tr><td>15.75603365142771</td><td>0.0</td></tr><tr><td>11.974956774558176</td><td>0.6931471805599453</td></tr><tr><td>9.198874893866904</td><td>0.0</td></tr><tr><td>11.972133531254757</td><td>0.0</td></tr><tr><td>12.973645247851382</td><td>0.0</td></tr><tr><td>11.664100292767346</td><td>0.0</td></tr><tr><td>14.660194003745993</td><td>0.0</td></tr><tr><td>9.450459027496354</td><td>0.0</td></tr><tr><td>11.963994714883409</td><td>0.0</td></tr><tr><td>17.01231458291037</td><td>0.0</td></tr><tr><td>12.95281983296959</td><td>0.0</td></tr><tr><td>16.35430104378745</td><td>0.0</td></tr><tr><td>15.932439861784273</td><td>2.8903717578961645</td></tr><tr><td>15.184887370941821</td><td>0.0</td></tr><tr><td>7.468513271496337</td><td>0.0</td></tr><tr><td>12.033010091568318</td><td>0.0</td></tr><tr><td>15.25587208772286</td><td>0.0</td></tr><tr><td>16.106397898252485</td><td>0.0</td></tr><tr><td>11.635638550158871</td><td>0.0</td></tr><tr><td>7.86940171257709</td><td>0.0</td></tr><tr><td>15.942607215127529</td><td>0.0</td></tr><tr><td>12.804321061642888</td><td>1.3862943611198906</td></tr><tr><td>14.067075177167043</td><td>0.0</td></tr><tr><td>12.738055860566856</td><td>0.0</td></tr><tr><td>12.342947816491652</td><td>0.0</td></tr><tr><td>11.129701185797959</td><td>0.0</td></tr><tr><td>14.413850782081777</td><td>0.0</td></tr><tr><td>9.292933670280036</td><td>0.0</td></tr><tr><td>14.546359028708064</td><td>0.0</td></tr><tr><td>18.239593688847542</td><td>0.0</td></tr><tr><td>16.27740315434287</td><td>0.0</td></tr><tr><td>15.261194661103238</td><td>0.0</td></tr><tr><td>13.619384962313893</td><td>0.0</td></tr><tr><td>14.431712437264219</td><td>0.0</td></tr><tr><td>9.929204031040765</td><td>0.0</td></tr><tr><td>9.602314889901848</td><td>0.0</td></tr><tr><td>14.686131312818324</td><td>0.0</td></tr><tr><td>13.467574461682807</td><td>0.0</td></tr><tr><td>11.689715082095354</td><td>0.0</td></tr><tr><td>11.697328187968008</td><td>0.0</td></tr><tr><td>12.725036067414761</td><td>0.0</td></tr><tr><td>16.411406700948103</td><td>0.0</td></tr><tr><td>12.059143328783694</td><td>0.0</td></tr><tr><td>9.689737246238513</td><td>0.0</td></tr><tr><td>14.104094973182342</td><td>0.0</td></tr><tr><td>13.610845227895837</td><td>0.6931471805599453</td></tr><tr><td>11.680311033148202</td><td>0.0</td></tr><tr><td>15.17293439742319</td><td>2.833213344056216</td></tr><tr><td>12.853296299187113</td><td>0.6931471805599453</td></tr><tr><td>11.33349372862009</td><td>0.6931471805599453</td></tr><tr><td>13.644430379451107</td><td>0.0</td></tr><tr><td>9.63795828472548</td><td>0.0</td></tr><tr><td>13.736031108297826</td><td>0.0</td></tr><tr><td>11.270662802709307</td><td>0.0</td></tr><tr><td>11.215004486698195</td><td>0.0</td></tr><tr><td>14.643885795166646</td><td>1.791759469228055</td></tr><tr><td>10.981029410584947</td><td>0.0</td></tr><tr><td>10.930048726626888</td><td>0.0</td></tr><tr><td>13.657883174735083</td><td>0.0</td></tr><tr><td>13.086533070323501</td><td>0.0</td></tr><tr><td>15.651325986805825</td><td>0.0</td></tr><tr><td>16.462236834461507</td><td>0.0</td></tr><tr><td>14.724064638986707</td><td>0.0</td></tr><tr><td>13.877964094531356</td><td>0.0</td></tr><tr><td>13.002696568560838</td><td>0.0</td></tr><tr><td>10.84675122191171</td><td>0.0</td></tr><tr><td>9.300363874623772</td><td>0.0</td></tr><tr><td>9.688993982035823</td><td>0.0</td></tr><tr><td>12.435567981481798</td><td>0.0</td></tr><tr><td>12.723195400681126</td><td>0.0</td></tr><tr><td>14.406185824614148</td><td>0.0</td></tr><tr><td>7.27655640271871</td><td>0.0</td></tr><tr><td>9.394576760974909</td><td>0.0</td></tr><tr><td>14.941098055368926</td><td>0.0</td></tr><tr><td>10.72731205673769</td><td>0.0</td></tr><tr><td>8.790421306897867</td><td>0.0</td></tr><tr><td>12.492750463887573</td><td>0.0</td></tr><tr><td>13.273084181928395</td><td>0.0</td></tr><tr><td>10.163811274974622</td><td>0.0</td></tr><tr><td>16.414451001554703</td><td>0.0</td></tr><tr><td>13.099504083258246</td><td>0.0</td></tr><tr><td>11.010696120429595</td><td>0.0</td></tr><tr><td>13.511567658629737</td><td>0.0</td></tr><tr><td>11.938278164085316</td><td>0.0</td></tr><tr><td>9.802893437300426</td><td>0.0</td></tr><tr><td>15.389554633404824</td><td>0.0</td></tr><tr><td>12.106086550654247</td><td>0.0</td></tr><tr><td>17.247952149249652</td><td>0.0</td></tr><tr><td>11.025213972876479</td><td>0.6931471805599453</td></tr><tr><td>14.77780802831459</td><td>1.791759469228055</td></tr><tr><td>17.848842323039644</td><td>0.0</td></tr><tr><td>15.427175189418437</td><td>0.0</td></tr><tr><td>11.447319707872234</td><td>0.0</td></tr><tr><td>16.458005899409624</td><td>0.0</td></tr><tr><td>8.783089671796096</td><td>0.0</td></tr><tr><td>13.292732116372388</td><td>0.0</td></tr><tr><td>14.969997065876942</td><td>0.6931471805599453</td></tr><tr><td>15.144053182204084</td><td>0.0</td></tr><tr><td>17.790464314635358</td><td>0.6931471805599453</td></tr><tr><td>10.42611328041787</td><td>0.0</td></tr><tr><td>11.215691249044829</td><td>0.0</td></tr><tr><td>13.361449566812878</td><td>0.0</td></tr><tr><td>8.423321975806166</td><td>0.0</td></tr><tr><td>10.572213958554391</td><td>0.0</td></tr><tr><td>6.943122422819428</td><td>0.0</td></tr><tr><td>14.076103639428183</td><td>1.3862943611198906</td></tr><tr><td>13.080741062713305</td><td>0.0</td></tr><tr><td>15.324968343344613</td><td>0.0</td></tr><tr><td>13.403887528717952</td><td>0.0</td></tr><tr><td>13.561229734279765</td><td>0.0</td></tr><tr><td>15.914448675209275</td><td>0.0</td></tr><tr><td>12.153842069926522</td><td>0.0</td></tr><tr><td>13.967743113652771</td><td>0.0</td></tr><tr><td>10.007667371445791</td><td>0.0</td></tr><tr><td>11.395042424313512</td><td>0.0</td></tr><tr><td>12.826122112683906</td><td>0.0</td></tr><tr><td>9.875345246589848</td><td>0.0</td></tr><tr><td>13.862749996570573</td><td>0.6931471805599453</td></tr><tr><td>12.951010246889856</td><td>0.0</td></tr><tr><td>16.15577604381176</td><td>0.0</td></tr><tr><td>13.216978770445674</td><td>0.0</td></tr><tr><td>9.08851166361105</td><td>0.0</td></tr><tr><td>15.242191538842581</td><td>0.0</td></tr><tr><td>13.038686072577644</td><td>0.0</td></tr><tr><td>13.70004358815556</td><td>0.0</td></tr><tr><td>15.590034172914022</td><td>0.0</td></tr><tr><td>9.339524830357009</td><td>0.0</td></tr><tr><td>16.23811405298728</td><td>0.0</td></tr><tr><td>8.006700845440367</td><td>0.0</td></tr><tr><td>11.33665357200282</td><td>0.0</td></tr><tr><td>12.030331390980917</td><td>0.0</td></tr><tr><td>18.799337360910396</td><td>0.6931471805599453</td></tr><tr><td>8.442900586834382</td><td>0.0</td></tr><tr><td>13.484663470484419</td><td>0.0</td></tr><tr><td>13.341946999683705</td><td>0.0</td></tr><tr><td>12.925279796104027</td><td>0.0</td></tr><tr><td>11.698823950254525</td><td>0.0</td></tr><tr><td>13.886229938176927</td><td>0.0</td></tr><tr><td>13.405730152338437</td><td>0.0</td></tr><tr><td>13.691600163326655</td><td>0.0</td></tr><tr><td>15.173413674981271</td><td>0.0</td></tr><tr><td>14.390930513810376</td><td>0.0</td></tr><tr><td>13.355509535433022</td><td>0.0</td></tr><tr><td>14.0175840871767</td><td>0.0</td></tr><tr><td>9.771840098470129</td><td>0.0</td></tr><tr><td>17.557326425805513</td><td>1.3862943611198906</td></tr><tr><td>13.523425473131011</td><td>0.0</td></tr><tr><td>12.667155351401009</td><td>0.0</td></tr><tr><td>16.28572640777567</td><td>0.0</td></tr><tr><td>9.348187438668308</td><td>0.0</td></tr><tr><td>14.043370967391908</td><td>0.0</td></tr><tr><td>5.056245805348308</td><td>0.0</td></tr><tr><td>7.890582534656536</td><td>0.0</td></tr><tr><td>14.252286330964385</td><td>0.0</td></tr><tr><td>14.153540152702135</td><td>0.0</td></tr><tr><td>10.642969504301549</td><td>0.0</td></tr><tr><td>14.657529365783791</td><td>0.0</td></tr><tr><td>17.504266229417453</td><td>0.0</td></tr><tr><td>9.60521627853008</td><td>0.0</td></tr><tr><td>13.281545947439378</td><td>0.0</td></tr><tr><td>13.24965132019501</td><td>0.0</td></tr><tr><td>16.19248514776597</td><td>0.0</td></tr><tr><td>12.782694436764952</td><td>0.0</td></tr><tr><td>14.235391260306749</td><td>0.6931471805599453</td></tr><tr><td>13.09320229606134</td><td>0.0</td></tr><tr><td>12.24696983722305</td><td>0.0</td></tr><tr><td>10.583979998637826</td><td>0.0</td></tr><tr><td>11.034228154955759</td><td>0.0</td></tr><tr><td>11.454808945234552</td><td>0.0</td></tr><tr><td>13.252127683459607</td><td>0.0</td></tr><tr><td>18.825777477552304</td><td>0.0</td></tr><tr><td>9.92896034850916</td><td>0.0</td></tr><tr><td>13.196158300563328</td><td>0.0</td></tr><tr><td>9.242323417829233</td><td>0.0</td></tr><tr><td>15.21623357359671</td><td>0.0</td></tr><tr><td>14.412702850940489</td><td>0.0</td></tr><tr><td>12.485152197174619</td><td>0.6931471805599453</td></tr><tr><td>17.478559149426957</td><td>0.0</td></tr><tr><td>19.140936129404103</td><td>0.0</td></tr><tr><td>15.617710336996105</td><td>0.0</td></tr><tr><td>12.612870198872116</td><td>0.0</td></tr><tr><td>12.036345445821791</td><td>0.0</td></tr><tr><td>17.861300405796467</td><td>0.6931471805599453</td></tr><tr><td>10.643566027780505</td><td>0.0</td></tr><tr><td>8.567506005289827</td><td>0.0</td></tr><tr><td>14.940699861482836</td><td>0.0</td></tr><tr><td>11.700765102448088</td><td>0.0</td></tr><tr><td>11.993009367121347</td><td>0.0</td></tr><tr><td>11.89023112461782</td><td>0.0</td></tr><tr><td>10.151908911034607</td><td>0.0</td></tr><tr><td>14.079286901901188</td><td>0.0</td></tr><tr><td>11.562401108430754</td><td>0.0</td></tr><tr><td>10.632556742272136</td><td>0.0</td></tr><tr><td>13.734202883891323</td><td>0.0</td></tr><tr><td>10.784254728341237</td><td>0.0</td></tr><tr><td>17.91313211164663</td><td>0.0</td></tr><tr><td>14.669032295497775</td><td>0.0</td></tr><tr><td>8.797699580118923</td><td>0.0</td></tr><tr><td>11.898779527429276</td><td>0.0</td></tr><tr><td>12.689091211853404</td><td>0.0</td></tr><tr><td>12.866216147068188</td><td>0.0</td></tr><tr><td>15.562318685307073</td><td>0.0</td></tr><tr><td>9.156200925875535</td><td>0.0</td></tr><tr><td>15.733193616228025</td><td>0.0</td></tr><tr><td>9.341368634382587</td><td>0.0</td></tr><tr><td>18.0865429972878</td><td>0.6931471805599453</td></tr><tr><td>9.455088847042777</td><td>0.0</td></tr><tr><td>12.82919964138331</td><td>0.0</td></tr><tr><td>14.97483060224801</td><td>0.0</td></tr><tr><td>12.737006732172816</td><td>0.0</td></tr><tr><td>13.108254310985567</td><td>0.0</td></tr><tr><td>9.201299627324033</td><td>0.0</td></tr><tr><td>15.00889136461291</td><td>0.0</td></tr><tr><td>14.377012565867812</td><td>0.0</td></tr><tr><td>13.774462496226084</td><td>0.0</td></tr><tr><td>6.274762021241939</td><td>0.0</td></tr><tr><td>13.167304237738653</td><td>0.0</td></tr><tr><td>12.672338046298256</td><td>0.0</td></tr><tr><td>11.239054248743635</td><td>0.0</td></tr><tr><td>11.63808566674344</td><td>0.0</td></tr><tr><td>12.71558240392494</td><td>0.0</td></tr><tr><td>14.060720055687456</td><td>0.6931471805599453</td></tr><tr><td>17.064166571569455</td><td>1.0986122886681096</td></tr><tr><td>13.019484225061056</td><td>0.6931471805599453</td></tr><tr><td>10.473138533353255</td><td>0.0</td></tr><tr><td>15.740701831524769</td><td>0.0</td></tr><tr><td>10.335010194963582</td><td>0.0</td></tr><tr><td>15.876568654831908</td><td>0.0</td></tr><tr><td>11.394603534135918</td><td>0.0</td></tr><tr><td>17.176292806771187</td><td>0.0</td></tr><tr><td>10.359772509640926</td><td>0.0</td></tr><tr><td>12.739966148086957</td><td>0.0</td></tr><tr><td>5.82600010738045</td><td>0.0</td></tr><tr><td>14.359777147352473</td><td>0.0</td></tr><tr><td>15.31176835005505</td><td>0.0</td></tr><tr><td>17.70599798860974</td><td>0.0</td></tr><tr><td>15.702094786168722</td><td>0.0</td></tr><tr><td>11.901373263181783</td><td>0.0</td></tr><tr><td>15.262433776185748</td><td>0.0</td></tr><tr><td>14.06152340209458</td><td>0.0</td></tr><tr><td>12.348825762054114</td><td>0.0</td></tr><tr><td>17.78837323973003</td><td>0.0</td></tr><tr><td>13.776145834441998</td><td>0.0</td></tr><tr><td>12.64063366559118</td><td>0.0</td></tr><tr><td>7.733245646529795</td><td>0.0</td></tr><tr><td>12.045991917672115</td><td>0.0</td></tr><tr><td>8.341648618901306</td><td>0.0</td></tr><tr><td>6.541029999189903</td><td>0.0</td></tr><tr><td>9.923633258229085</td><td>0.0</td></tr><tr><td>10.366403624279968</td><td>0.0</td></tr><tr><td>15.19024586993733</td><td>0.0</td></tr><tr><td>13.413153614503978</td><td>0.0</td></tr><tr><td>12.549499216047268</td><td>0.0</td></tr><tr><td>10.292823278714408</td><td>0.0</td></tr><tr><td>9.526901403978341</td><td>0.0</td></tr><tr><td>9.897469480210566</td><td>0.0</td></tr><tr><td>11.784798226215246</td><td>0.0</td></tr><tr><td>11.290856336257285</td><td>0.0</td></tr><tr><td>14.49539365826314</td><td>0.0</td></tr><tr><td>14.158107571217943</td><td>0.6931471805599453</td></tr><tr><td>16.878166209747153</td><td>0.0</td></tr><tr><td>16.21201076720474</td><td>0.0</td></tr><tr><td>11.3243403328803</td><td>0.0</td></tr><tr><td>12.142472350787205</td><td>0.0</td></tr><tr><td>16.68837506550316</td><td>0.6931471805599453</td></tr><tr><td>9.049702026013371</td><td>0.0</td></tr><tr><td>12.245946991173035</td><td>0.0</td></tr><tr><td>10.32692354596553</td><td>0.0</td></tr><tr><td>12.85193427941586</td><td>0.0</td></tr><tr><td>13.800010043296567</td><td>0.0</td></tr><tr><td>13.155465409549432</td><td>0.0</td></tr><tr><td>10.94822426823492</td><td>0.0</td></tr><tr><td>10.541359838437318</td><td>0.0</td></tr><tr><td>10.46851723031563</td><td>0.0</td></tr><tr><td>11.885502300964985</td><td>0.0</td></tr><tr><td>12.999705227666706</td><td>0.0</td></tr><tr><td>16.133042685390794</td><td>0.0</td></tr><tr><td>11.732277838844428</td><td>0.0</td></tr><tr><td>18.641350197208475</td><td>0.0</td></tr><tr><td>6.762729506931879</td><td>0.0</td></tr><tr><td>11.655656907057216</td><td>0.0</td></tr><tr><td>12.914216807096027</td><td>0.0</td></tr><tr><td>11.84708789317955</td><td>0.0</td></tr><tr><td>9.278933163441794</td><td>0.0</td></tr><tr><td>10.780683963269196</td><td>0.0</td></tr><tr><td>14.098060483450151</td><td>0.0</td></tr><tr><td>9.095714846134879</td><td>0.0</td></tr><tr><td>13.723791024068456</td><td>0.0</td></tr><tr><td>11.811458452726246</td><td>0.0</td></tr><tr><td>13.077794789827902</td><td>0.0</td></tr><tr><td>12.782166211841247</td><td>0.0</td></tr><tr><td>11.553520233676654</td><td>0.0</td></tr><tr><td>13.109097777113435</td><td>1.0986122886681096</td></tr><tr><td>13.224634726496621</td><td>0.0</td></tr><tr><td>15.733495693703498</td><td>0.0</td></tr><tr><td>14.201152478564898</td><td>0.0</td></tr><tr><td>10.162345677674331</td><td>0.0</td></tr><tr><td>15.280823564122967</td><td>0.0</td></tr><tr><td>12.194632455387618</td><td>0.0</td></tr><tr><td>15.568277677295509</td><td>2.302585092994046</td></tr><tr><td>16.372862047667965</td><td>0.0</td></tr><tr><td>12.68706566957551</td><td>0.6931471805599453</td></tr><tr><td>16.25339102435355</td><td>0.0</td></tr><tr><td>13.076759132799308</td><td>0.0</td></tr><tr><td>15.869832477147984</td><td>0.0</td></tr><tr><td>14.223660724740572</td><td>0.0</td></tr><tr><td>7.396335293800808</td><td>0.0</td></tr><tr><td>14.682869415628604</td><td>0.0</td></tr><tr><td>14.848395708258032</td><td>0.0</td></tr><tr><td>15.110768269726732</td><td>0.0</td></tr><tr><td>12.60578792165773</td><td>0.0</td></tr><tr><td>8.757940876678804</td><td>0.0</td></tr><tr><td>9.29798488182823</td><td>0.0</td></tr><tr><td>17.225378309765073</td><td>0.0</td></tr><tr><td>9.735956081214809</td><td>0.0</td></tr><tr><td>15.070443456172637</td><td>0.0</td></tr><tr><td>12.526248529255914</td><td>0.0</td></tr><tr><td>13.03534254582455</td><td>0.0</td></tr><tr><td>14.605307248298338</td><td>0.6931471805599453</td></tr><tr><td>13.340190421104083</td><td>0.0</td></tr><tr><td>11.386182407942334</td><td>0.0</td></tr><tr><td>14.675035787034123</td><td>0.6931471805599453</td></tr><tr><td>13.37378180027761</td><td>0.0</td></tr><tr><td>16.056540940493505</td><td>0.0</td></tr><tr><td>11.130712908672214</td><td>0.0</td></tr><tr><td>9.119211438565081</td><td>0.0</td></tr><tr><td>17.888333788764054</td><td>0.0</td></tr><tr><td>15.86863969464805</td><td>0.0</td></tr><tr><td>12.469570882192714</td><td>0.0</td></tr><tr><td>13.957418023145381</td><td>0.0</td></tr><tr><td>12.105069290313756</td><td>0.0</td></tr><tr><td>8.802672840312818</td><td>0.0</td></tr><tr><td>12.058013375339232</td><td>0.0</td></tr><tr><td>11.762843363000993</td><td>0.0</td></tr><tr><td>12.549534682196606</td><td>0.0</td></tr><tr><td>15.859086551624086</td><td>0.0</td></tr><tr><td>6.84587987526405</td><td>0.0</td></tr><tr><td>16.087576854069333</td><td>0.0</td></tr><tr><td>16.500149372022687</td><td>0.0</td></tr><tr><td>13.758365438153607</td><td>0.0</td></tr><tr><td>17.159936668484132</td><td>0.6931471805599453</td></tr><tr><td>13.13453105011726</td><td>0.0</td></tr><tr><td>13.601091338749042</td><td>0.0</td></tr><tr><td>13.956855594410584</td><td>0.0</td></tr><tr><td>13.58257673798626</td><td>0.0</td></tr><tr><td>16.166424994680604</td><td>0.6931471805599453</td></tr><tr><td>15.795345691754045</td><td>0.0</td></tr><tr><td>11.583141587979876</td><td>0.0</td></tr><tr><td>14.114823133148022</td><td>1.6094379124341003</td></tr><tr><td>11.332002929089981</td><td>0.6931471805599453</td></tr><tr><td>20.395188817665417</td><td>1.3862943611198906</td></tr><tr><td>15.273557279676487</td><td>0.0</td></tr><tr><td>16.971909777152103</td><td>0.0</td></tr><tr><td>8.913146539151807</td><td>0.0</td></tr><tr><td>10.438254287073526</td><td>0.0</td></tr><tr><td>14.764086469221304</td><td>0.0</td></tr><tr><td>10.721305107600823</td><td>0.6931471805599453</td></tr><tr><td>13.040096364463617</td><td>0.0</td></tr><tr><td>15.370062836542084</td><td>0.0</td></tr><tr><td>16.48463004439291</td><td>1.6094379124341003</td></tr><tr><td>10.300786071311231</td><td>0.0</td></tr><tr><td>9.069698042173716</td><td>0.0</td></tr><tr><td>11.665792464088986</td><td>0.0</td></tr><tr><td>8.28349412616251</td><td>0.0</td></tr><tr><td>13.508328932284728</td><td>0.6931471805599453</td></tr><tr><td>14.703296459972814</td><td>0.0</td></tr><tr><td>14.640458071228684</td><td>0.0</td></tr><tr><td>15.263283764183276</td><td>0.0</td></tr><tr><td>13.184528459161681</td><td>0.0</td></tr><tr><td>14.540306345892368</td><td>0.6931471805599453</td></tr><tr><td>9.108750516214549</td><td>0.0</td></tr><tr><td>14.050604814286148</td><td>0.0</td></tr><tr><td>11.523449888426441</td><td>0.0</td></tr><tr><td>16.922246002411477</td><td>0.0</td></tr><tr><td>16.94204479639149</td><td>0.6931471805599453</td></tr><tr><td>14.35508280958727</td><td>0.0</td></tr><tr><td>8.98744678941718</td><td>0.0</td></tr><tr><td>15.690297506768312</td><td>0.0</td></tr><tr><td>11.960159319287799</td><td>0.0</td></tr><tr><td>11.064323184384369</td><td>0.0</td></tr><tr><td>9.790822646878661</td><td>0.0</td></tr><tr><td>16.76677646997723</td><td>0.6931471805599453</td></tr><tr><td>11.447084763029794</td><td>0.0</td></tr><tr><td>14.945596319575936</td><td>0.0</td></tr><tr><td>15.403781488793994</td><td>1.0986122886681096</td></tr><tr><td>13.423323899738447</td><td>0.0</td></tr><tr><td>17.638655015232214</td><td>0.6931471805599453</td></tr><tr><td>13.417316203748396</td><td>1.3862943611198906</td></tr><tr><td>15.995755798765575</td><td>0.0</td></tr><tr><td>15.130204633388182</td><td>1.0986122886681096</td></tr><tr><td>11.454236468621549</td><td>0.0</td></tr><tr><td>10.984292222554274</td><td>0.0</td></tr><tr><td>11.781225921488108</td><td>0.0</td></tr><tr><td>10.505587952077706</td><td>0.0</td></tr><tr><td>11.69189139795082</td><td>0.0</td></tr><tr><td>7.161622002939187</td><td>0.0</td></tr><tr><td>11.4591554217604</td><td>0.0</td></tr><tr><td>9.887612203377838</td><td>0.0</td></tr><tr><td>9.360741172643708</td><td>0.0</td></tr><tr><td>10.79845249769553</td><td>0.0</td></tr><tr><td>7.890956716138919</td><td>0.0</td></tr><tr><td>15.81654728426736</td><td>0.6931471805599453</td></tr><tr><td>13.37097660517023</td><td>0.0</td></tr><tr><td>8.46611040118692</td><td>0.0</td></tr><tr><td>18.190799558169918</td><td>0.0</td></tr><tr><td>14.895559610972988</td><td>0.0</td></tr><tr><td>8.814033201652784</td><td>0.0</td></tr><tr><td>14.09006863631706</td><td>0.0</td></tr><tr><td>14.910142937289496</td><td>0.0</td></tr><tr><td>15.060993376070924</td><td>0.0</td></tr><tr><td>4.61512051684126</td><td>0.0</td></tr><tr><td>13.071924454779365</td><td>0.0</td></tr><tr><td>12.161768031223412</td><td>0.6931471805599453</td></tr><tr><td>13.00940742262467</td><td>1.0986122886681096</td></tr><tr><td>12.74707338643103</td><td>0.0</td></tr><tr><td>12.857532874268793</td><td>0.0</td></tr><tr><td>14.022486515236412</td><td>0.0</td></tr><tr><td>10.089095370321234</td><td>0.0</td></tr><tr><td>13.965032541887707</td><td>0.0</td></tr><tr><td>20.91791473060833</td><td>0.0</td></tr><tr><td>18.646624726396396</td><td>2.8903717578961645</td></tr><tr><td>17.483422905539175</td><td>0.6931471805599453</td></tr><tr><td>11.631881146142364</td><td>0.0</td></tr><tr><td>10.83241806475672</td><td>0.0</td></tr><tr><td>16.744104453680208</td><td>0.0</td></tr><tr><td>10.490774092396565</td><td>0.0</td></tr><tr><td>9.246575864558277</td><td>0.0</td></tr><tr><td>13.47147680499922</td><td>0.0</td></tr><tr><td>11.610161062694507</td><td>0.0</td></tr><tr><td>12.419731357633168</td><td>0.0</td></tr><tr><td>11.551049423061338</td><td>0.0</td></tr><tr><td>11.869620408708963</td><td>0.0</td></tr><tr><td>17.359412418058124</td><td>0.0</td></tr><tr><td>12.035533403847353</td><td>0.0</td></tr><tr><td>10.519483673907658</td><td>0.0</td></tr><tr><td>12.268216113315878</td><td>0.0</td></tr><tr><td>12.473194804016593</td><td>0.0</td></tr><tr><td>13.337132763064137</td><td>0.0</td></tr><tr><td>13.732599490477142</td><td>0.0</td></tr><tr><td>10.837048295575237</td><td>0.0</td></tr><tr><td>9.539572174084759</td><td>0.0</td></tr><tr><td>13.406019356006109</td><td>0.0</td></tr><tr><td>8.4368504387337</td><td>0.0</td></tr><tr><td>9.457512901089753</td><td>0.0</td></tr><tr><td>11.396121949427345</td><td>0.0</td></tr><tr><td>17.347374411448314</td><td>0.0</td></tr><tr><td>12.579840666895084</td><td>0.0</td></tr><tr><td>12.979270995266319</td><td>0.0</td></tr><tr><td>12.072301224101043</td><td>0.0</td></tr><tr><td>11.058562086849406</td><td>1.6094379124341003</td></tr><tr><td>11.629837009877729</td><td>0.0</td></tr><tr><td>9.339876293325217</td><td>0.0</td></tr><tr><td>13.847063487117323</td><td>0.0</td></tr><tr><td>8.731174900938061</td><td>0.0</td></tr><tr><td>14.975970563300521</td><td>0.0</td></tr><tr><td>13.723675931421488</td><td>0.0</td></tr><tr><td>18.02001283088229</td><td>0.0</td></tr><tr><td>11.935798177733426</td><td>0.0</td></tr><tr><td>14.116897291083832</td><td>0.0</td></tr><tr><td>16.7277386063665</td><td>0.0</td></tr><tr><td>14.424461123644992</td><td>0.0</td></tr><tr><td>12.468429217660386</td><td>0.0</td></tr><tr><td>15.37146520081734</td><td>0.0</td></tr><tr><td>18.879130141909023</td><td>0.6931471805599453</td></tr><tr><td>8.063377822367027</td><td>0.0</td></tr><tr><td>15.468312702692037</td><td>0.0</td></tr><tr><td>15.34525245262095</td><td>0.0</td></tr><tr><td>8.549466751966532</td><td>0.0</td></tr><tr><td>12.050354070530753</td><td>0.0</td></tr><tr><td>17.708655570090446</td><td>0.0</td></tr><tr><td>11.95368049385684</td><td>0.0</td></tr><tr><td>14.688618176736895</td><td>0.0</td></tr><tr><td>14.158733528449025</td><td>0.0</td></tr><tr><td>14.726370972316559</td><td>0.0</td></tr><tr><td>11.3407720370919</td><td>0.0</td></tr><tr><td>11.552030786850809</td><td>0.0</td></tr><tr><td>17.549086750074895</td><td>1.791759469228055</td></tr><tr><td>14.090520679312146</td><td>0.0</td></tr><tr><td>15.153609715390644</td><td>0.0</td></tr><tr><td>9.994607145903611</td><td>0.0</td></tr><tr><td>10.580708582545814</td><td>0.0</td></tr><tr><td>17.473448213938557</td><td>0.0</td></tr><tr><td>17.895001144092777</td><td>0.0</td></tr><tr><td>14.458992066209355</td><td>0.0</td></tr><tr><td>17.44004934565182</td><td>1.9459101490553132</td></tr><tr><td>14.64869659907574</td><td>0.0</td></tr><tr><td>13.69205622083628</td><td>0.0</td></tr><tr><td>11.56149655752618</td><td>0.0</td></tr><tr><td>11.989687454960427</td><td>0.0</td></tr><tr><td>10.001158579709575</td><td>0.0</td></tr><tr><td>5.552959584921617</td><td>0.0</td></tr><tr><td>13.749268186097108</td><td>0.0</td></tr><tr><td>9.635804166591036</td><td>0.0</td></tr><tr><td>14.893546940433124</td><td>0.0</td></tr><tr><td>14.200234718691625</td><td>0.0</td></tr><tr><td>8.251663923605589</td><td>0.0</td></tr><tr><td>9.254070134837509</td><td>0.0</td></tr><tr><td>15.195463856977263</td><td>0.0</td></tr><tr><td>11.840508307745525</td><td>0.0</td></tr><tr><td>9.834887461043872</td><td>0.0</td></tr><tr><td>14.417718293129115</td><td>0.0</td></tr><tr><td>13.867701599256455</td><td>0.0</td></tr><tr><td>9.452501929126154</td><td>0.0</td></tr><tr><td>10.883654085997756</td><td>0.0</td></tr><tr><td>10.609674346603876</td><td>0.0</td></tr><tr><td>16.456589200492335</td><td>0.0</td></tr><tr><td>13.827267177287835</td><td>0.0</td></tr><tr><td>11.756122592482464</td><td>0.0</td></tr><tr><td>11.882328067533177</td><td>0.0</td></tr><tr><td>12.377270057821192</td><td>0.0</td></tr><tr><td>11.87692253658462</td><td>0.0</td></tr><tr><td>15.118504828561528</td><td>0.6931471805599453</td></tr><tr><td>14.725806557280734</td><td>0.0</td></tr><tr><td>12.436183866159977</td><td>0.0</td></tr><tr><td>9.433403920090221</td><td>0.0</td></tr><tr><td>15.136534129903781</td><td>0.0</td></tr><tr><td>13.939827754971589</td><td>0.0</td></tr><tr><td>11.93942120423903</td><td>0.0</td></tr><tr><td>17.048683845261994</td><td>0.0</td></tr><tr><td>12.46523949602104</td><td>0.0</td></tr><tr><td>13.455296501605877</td><td>0.0</td></tr><tr><td>11.32942321142811</td><td>0.0</td></tr><tr><td>13.831504962785157</td><td>0.0</td></tr><tr><td>9.64633468511917</td><td>0.0</td></tr><tr><td>13.538972822728221</td><td>0.0</td></tr><tr><td>14.363557975297375</td><td>0.0</td></tr><tr><td>9.710933825175925</td><td>0.0</td></tr><tr><td>12.822946048734128</td><td>0.0</td></tr><tr><td>16.00837575811959</td><td>0.0</td></tr><tr><td>13.76520204168145</td><td>0.0</td></tr><tr><td>11.692693764976466</td><td>0.0</td></tr><tr><td>13.449360870062998</td><td>0.0</td></tr></tbody></table>Showing the first 1000 rows.</div>",
       "datasetInfos": [],
       "metadata": {},
       "removedWidgets": [],
       "textData": null,
       "type": "htmlSandbox"
      }
     },
     "output_type": "display_data"
    }
   ],
   "source": []
  }
 ],
 "metadata": {
  "application/vnd.databricks.v1+notebook": {
   "dashboards": [],
   "language": "python",
   "notebookMetadata": {
    "pythonIndentUnit": 2
   },
   "notebookName": "J04_lundi_midi_song_analysis",
   "widgets": {}
  },
  "kernelspec": {
   "display_name": "Python 3",
   "language": "python",
   "name": "python3"
  },
  "language_info": {
   "codemirror_mode": {
    "name": "ipython",
    "version": 3
   },
   "file_extension": ".py",
   "mimetype": "text/x-python",
   "name": "python",
   "nbconvert_exporter": "python",
   "pygments_lexer": "ipython3",
   "version": "3.8.5"
  },
  "name": "02-Songs_analysis",
  "notebookId": 1829803932831145
 },
 "nbformat": 4,
 "nbformat_minor": 0
}
