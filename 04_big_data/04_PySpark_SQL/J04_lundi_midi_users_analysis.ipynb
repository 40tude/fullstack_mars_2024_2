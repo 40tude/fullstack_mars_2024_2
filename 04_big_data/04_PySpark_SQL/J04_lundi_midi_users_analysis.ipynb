{
 "cells": [
  {
   "cell_type": "markdown",
   "metadata": {
    "application/vnd.databricks.v1+cell": {
     "cellMetadata": {
      "byteLimit": 2048000,
      "rowLimit": 10000
     },
     "inputWidgets": {},
     "nuid": "a723cb04-f1e1-4e11-bf04-5c783bcbca00",
     "showTitle": false,
     "title": ""
    }
   },
   "source": [
    "# Users analysis"
   ]
  },
  {
   "cell_type": "code",
   "execution_count": null,
   "metadata": {
    "application/vnd.databricks.v1+cell": {
     "cellMetadata": {
      "byteLimit": 2048000,
      "rowLimit": 10000
     },
     "inputWidgets": {},
     "nuid": "1fd2430c-8a2b-45ad-a86b-abfa9d063345",
     "showTitle": false,
     "title": ""
    }
   },
   "outputs": [
    {
     "name": "stdout",
     "output_type": "stream",
     "text": [
      "root\n",
      " |-- timestamp: integer (nullable = true)\n",
      " |-- user: integer (nullable = true)\n",
      " |-- song: string (nullable = true)\n",
      "\n"
     ]
    }
   ],
   "source": [
    "playlog = spark.read.format(\"csv\").option(\"header\", \"true\").option(\"inferSchema\",\"true\").load(\"s3://full-stack-bigdata-datasets/Big_Data/youtube_playlog.csv\")\n",
    "playlog.printSchema()"
   ]
  },
  {
   "cell_type": "code",
   "execution_count": null,
   "metadata": {
    "application/vnd.databricks.v1+cell": {
     "cellMetadata": {
      "byteLimit": 2048000,
      "rowLimit": 10000
     },
     "inputWidgets": {},
     "nuid": "aa566a70-5eb2-4d23-bfab-55cff880e2c0",
     "showTitle": false,
     "title": ""
    }
   },
   "outputs": [
    {
     "data": {
      "text/html": [
       "<div>\n",
       "<style scoped>\n",
       "    .dataframe tbody tr th:only-of-type {\n",
       "        vertical-align: middle;\n",
       "    }\n",
       "\n",
       "    .dataframe tbody tr th {\n",
       "        vertical-align: top;\n",
       "    }\n",
       "\n",
       "    .dataframe thead th {\n",
       "        text-align: right;\n",
       "    }\n",
       "</style>\n",
       "<table border=\"1\" class=\"dataframe\">\n",
       "  <thead>\n",
       "    <tr style=\"text-align: right;\">\n",
       "      <th></th>\n",
       "      <th>timestamp</th>\n",
       "      <th>user</th>\n",
       "      <th>song</th>\n",
       "    </tr>\n",
       "  </thead>\n",
       "  <tbody>\n",
       "    <tr>\n",
       "      <th>0</th>\n",
       "      <td>1392387533</td>\n",
       "      <td>0</td>\n",
       "      <td>t1l8Z6gLPzo</td>\n",
       "    </tr>\n",
       "    <tr>\n",
       "      <th>1</th>\n",
       "      <td>1392387538</td>\n",
       "      <td>1</td>\n",
       "      <td>t1l8Z6gLPzo</td>\n",
       "    </tr>\n",
       "    <tr>\n",
       "      <th>2</th>\n",
       "      <td>1392387556</td>\n",
       "      <td>2</td>\n",
       "      <td>t1l8Z6gLPzo</td>\n",
       "    </tr>\n",
       "    <tr>\n",
       "      <th>3</th>\n",
       "      <td>1392387561</td>\n",
       "      <td>3</td>\n",
       "      <td>we5gzZq5Avg</td>\n",
       "    </tr>\n",
       "    <tr>\n",
       "      <th>4</th>\n",
       "      <td>1392387566</td>\n",
       "      <td>4</td>\n",
       "      <td>we5gzZq5Avg</td>\n",
       "    </tr>\n",
       "  </tbody>\n",
       "</table>\n",
       "</div>"
      ]
     },
     "metadata": {
      "application/vnd.databricks.v1+output": {
       "addedWidgets": {},
       "arguments": {},
       "data": "<div>\n<style scoped>\n    .dataframe tbody tr th:only-of-type {\n        vertical-align: middle;\n    }\n\n    .dataframe tbody tr th {\n        vertical-align: top;\n    }\n\n    .dataframe thead th {\n        text-align: right;\n    }\n</style>\n<table border=\"1\" class=\"dataframe\">\n  <thead>\n    <tr style=\"text-align: right;\">\n      <th></th>\n      <th>timestamp</th>\n      <th>user</th>\n      <th>song</th>\n    </tr>\n  </thead>\n  <tbody>\n    <tr>\n      <th>0</th>\n      <td>1392387533</td>\n      <td>0</td>\n      <td>t1l8Z6gLPzo</td>\n    </tr>\n    <tr>\n      <th>1</th>\n      <td>1392387538</td>\n      <td>1</td>\n      <td>t1l8Z6gLPzo</td>\n    </tr>\n    <tr>\n      <th>2</th>\n      <td>1392387556</td>\n      <td>2</td>\n      <td>t1l8Z6gLPzo</td>\n    </tr>\n    <tr>\n      <th>3</th>\n      <td>1392387561</td>\n      <td>3</td>\n      <td>we5gzZq5Avg</td>\n    </tr>\n    <tr>\n      <th>4</th>\n      <td>1392387566</td>\n      <td>4</td>\n      <td>we5gzZq5Avg</td>\n    </tr>\n  </tbody>\n</table>\n</div>",
       "datasetInfos": [],
       "metadata": {},
       "removedWidgets": [],
       "textData": null,
       "type": "htmlSandbox"
      }
     },
     "output_type": "display_data"
    }
   ],
   "source": [
    "playlog.limit(5).toPandas()"
   ]
  },
  {
   "cell_type": "markdown",
   "metadata": {
    "application/vnd.databricks.v1+cell": {
     "cellMetadata": {
      "byteLimit": 2048000,
      "rowLimit": 10000
     },
     "inputWidgets": {},
     "nuid": "ffa9ef5e-e8c8-4aec-99bf-7760f4cd6091",
     "showTitle": false,
     "title": ""
    }
   },
   "source": [
    "1. Compute a new column `datetime` that converts the timestamp to a datetime, drop the `timestamp` column, and order by `datetime`, save this as a new DataFrame `df`, show the first 5 rows of `df`.\n",
    "\n",
    "> TIP: use the method `.from_unixtime(...)`, this method converts integers into dates."
   ]
  },
  {
   "cell_type": "code",
   "execution_count": null,
   "metadata": {
    "application/vnd.databricks.v1+cell": {
     "cellMetadata": {
      "byteLimit": 2048000,
      "rowLimit": 10000
     },
     "inputWidgets": {},
     "nuid": "ad627dca-eb3e-4148-b8e5-b35a1756c292",
     "showTitle": false,
     "title": ""
    }
   },
   "outputs": [
    {
     "name": "stdout",
     "output_type": "stream",
     "text": [
      "+----+-----------+-------------------+\n",
      "|user|       song|           datetime|\n",
      "+----+-----------+-------------------+\n",
      "|   0|t1l8Z6gLPzo|2014-02-14 14:18:53|\n",
      "|   1|t1l8Z6gLPzo|2014-02-14 14:18:58|\n",
      "|   2|t1l8Z6gLPzo|2014-02-14 14:19:16|\n",
      "|   3|we5gzZq5Avg|2014-02-14 14:19:21|\n",
      "|   4|we5gzZq5Avg|2014-02-14 14:19:26|\n",
      "+----+-----------+-------------------+\n",
      "only showing top 5 rows\n",
      "\n"
     ]
    }
   ],
   "source": [
    "from pyspark.sql import functions as F\n",
    "playlog = playlog.withColumn(\"datetime\", F.from_unixtime(F.col(\"timestamp\")))\n",
    "playlog = playlog.drop(\"timestamp\")\n",
    "playlog.show(5)"
   ]
  },
  {
   "cell_type": "code",
   "execution_count": null,
   "metadata": {
    "application/vnd.databricks.v1+cell": {
     "cellMetadata": {
      "byteLimit": 2048000,
      "rowLimit": 10000
     },
     "inputWidgets": {},
     "nuid": "92e62f79-1c39-4baf-91a1-67d034176022",
     "showTitle": false,
     "title": ""
    }
   },
   "outputs": [
    {
     "name": "stdout",
     "output_type": "stream",
     "text": [
      "+----+-----------+-------------------+\n",
      "|user|       song|           datetime|\n",
      "+----+-----------+-------------------+\n",
      "|   4|nRa-eGzpT6o|1965-07-26 03:21:43|\n",
      "|   0|t1l8Z6gLPzo|2014-02-14 14:18:53|\n",
      "|  70|VJ6ofd0pB_c|2014-02-14 14:18:57|\n",
      "|  22|Q24VZL8wpOM|2014-02-14 14:18:57|\n",
      "|   1|t1l8Z6gLPzo|2014-02-14 14:18:58|\n",
      "+----+-----------+-------------------+\n",
      "only showing top 5 rows\n",
      "\n"
     ]
    }
   ],
   "source": [
    "# slow \n",
    "playlog.orderBy(\"datetime\").show(5)"
   ]
  },
  {
   "cell_type": "markdown",
   "metadata": {
    "application/vnd.databricks.v1+cell": {
     "cellMetadata": {
      "byteLimit": 2048000,
      "rowLimit": 10000
     },
     "inputWidgets": {},
     "nuid": "9a926d9a-a8bb-42c8-a753-bd30156553e9",
     "showTitle": false,
     "title": ""
    }
   },
   "source": [
    "Now that we have a datetime column, we can compute new columns, namely:\n",
    "- [year](https://spark.apache.org/docs/latest/api/python/reference/pyspark.sql/api/pyspark.sql.functions.year.html#pyspark.sql.functions.year)\n",
    "- [month](https://spark.apache.org/docs/latest/api/python/reference/pyspark.sql/api/pyspark.sql.functions.month.html#pyspark.sql.functions.month)\n",
    "- [dayofmonth](https://spark.apache.org/docs/latest/api/python/reference/pyspark.sql/api/pyspark.sql.functions.dayofmonth.html#pyspark.sql.functions.dayofmonth)\n",
    "- [dayofweek](https://spark.apache.org/docs/latest/api/python/reference/pyspark.sql/api/pyspark.sql.functions.dayofweek.html#pyspark.sql.functions.dayofweek)\n",
    "- [dayofyear](https://spark.apache.org/docs/latest/api/python/reference/pyspark.sql/api/pyspark.sql.functions.dayofyear.html#pyspark.sql.functions.dayofyear)\n",
    "- [weekofyear](https://spark.apache.org/docs/latest/api/python/reference/pyspark.sql/api/pyspark.sql.functions.weekofyear.html#pyspark.sql.functions.weekofyear)\n",
    "\n",
    "We will put the resulting DataFrame in a variable called `df_enriched`.\n",
    "\n",
    "2. Follow previous instructions\n",
    "\n",
    "*Tip: you use the reduce function from the functools package in order to automatically produce all the columns, otherwise you can just manually create them one by one*"
   ]
  },
  {
   "cell_type": "code",
   "execution_count": null,
   "metadata": {
    "application/vnd.databricks.v1+cell": {
     "cellMetadata": {
      "byteLimit": 2048000,
      "rowLimit": 10000
     },
     "inputWidgets": {},
     "nuid": "41f969bc-6349-4e1d-861f-ccfb7c13b6b4",
     "showTitle": false,
     "title": ""
    }
   },
   "outputs": [
    {
     "name": "stdout",
     "output_type": "stream",
     "text": [
      "+----+-----------+-------------------+----+\n",
      "|user|       song|           datetime|year|\n",
      "+----+-----------+-------------------+----+\n",
      "|   0|t1l8Z6gLPzo|2014-02-14 14:18:53|2014|\n",
      "|   1|t1l8Z6gLPzo|2014-02-14 14:18:58|2014|\n",
      "|   2|t1l8Z6gLPzo|2014-02-14 14:19:16|2014|\n",
      "|   3|we5gzZq5Avg|2014-02-14 14:19:21|2014|\n",
      "|   4|we5gzZq5Avg|2014-02-14 14:19:26|2014|\n",
      "+----+-----------+-------------------+----+\n",
      "only showing top 5 rows\n",
      "\n"
     ]
    }
   ],
   "source": [
    "playlog = playlog.withColumn('year', F.year('datetime'))\n",
    "playlog.show(5)"
   ]
  },
  {
   "cell_type": "code",
   "execution_count": null,
   "metadata": {
    "application/vnd.databricks.v1+cell": {
     "cellMetadata": {
      "byteLimit": 2048000,
      "rowLimit": 10000
     },
     "inputWidgets": {},
     "nuid": "37290847-f70b-497e-bc7f-b6e1ce5d1664",
     "showTitle": false,
     "title": ""
    }
   },
   "outputs": [
    {
     "name": "stdout",
     "output_type": "stream",
     "text": [
      "+----+-----------+-------------------+----+-----+----------+---------+---------+----------+\n",
      "|user|       song|           datetime|year|month|dayofmonth|dayofweek|dayofyear|weekofyear|\n",
      "+----+-----------+-------------------+----+-----+----------+---------+---------+----------+\n",
      "|   0|t1l8Z6gLPzo|2014-02-14 14:18:53|2014|    2|        14|        6|       45|         7|\n",
      "|   1|t1l8Z6gLPzo|2014-02-14 14:18:58|2014|    2|        14|        6|       45|         7|\n",
      "|   2|t1l8Z6gLPzo|2014-02-14 14:19:16|2014|    2|        14|        6|       45|         7|\n",
      "|   3|we5gzZq5Avg|2014-02-14 14:19:21|2014|    2|        14|        6|       45|         7|\n",
      "|   4|we5gzZq5Avg|2014-02-14 14:19:26|2014|    2|        14|        6|       45|         7|\n",
      "+----+-----------+-------------------+----+-----+----------+---------+---------+----------+\n",
      "only showing top 5 rows\n",
      "\n"
     ]
    }
   ],
   "source": [
    "playlog = playlog.withColumn('month', F.month('datetime')).withColumn(\"dayofmonth\", F.dayofmonth(\"datetime\")).withColumn(\"dayofweek\", F.dayofweek(\"datetime\")).withColumn(\"dayofyear\", F.dayofyear(\"datetime\")).withColumn(\"weekofyear\", F.weekofyear(\"datetime\"))\n",
    "playlog.show(5)"
   ]
  },
  {
   "cell_type": "code",
   "execution_count": null,
   "metadata": {
    "application/vnd.databricks.v1+cell": {
     "cellMetadata": {},
     "inputWidgets": {},
     "nuid": "b7e207ec-d90c-4fd6-9795-e48f2bf6764e",
     "showTitle": false,
     "title": ""
    }
   },
   "outputs": [
    {
     "data": {
      "text/html": [
       "<style scoped>\n",
       "  .ansiout {\n",
       "    display: block;\n",
       "    unicode-bidi: embed;\n",
       "    white-space: pre-wrap;\n",
       "    word-wrap: break-word;\n",
       "    word-break: break-all;\n",
       "    font-family: \"Menlo\", \"Monaco\", \"Consolas\", \"Ubuntu Mono\", \"Source Code Pro\", monospace;\n",
       "    font-size: 13px;\n",
       "    color: #555;\n",
       "    margin-left: 4px;\n",
       "    line-height: 19px;\n",
       "  }\n",
       "</style>\n",
       "<div class=\"ansiout\">root\n",
       "-- user: integer (nullable = true)\n",
       "-- song: string (nullable = true)\n",
       "-- datetime: string (nullable = true)\n",
       "-- year: integer (nullable = true)\n",
       "-- month: integer (nullable = true)\n",
       "-- dayofmonth: integer (nullable = true)\n",
       "-- dayofyear: integer (nullable = true)\n",
       "-- weekofyear: integer (nullable = true)\n",
       "\n",
       "Out[2]: </div>"
      ]
     },
     "metadata": {
      "application/vnd.databricks.v1+output": {
       "addedWidgets": {},
       "arguments": {},
       "data": "<div class=\"ansiout\">root\n |-- user: integer (nullable = true)\n |-- song: string (nullable = true)\n |-- datetime: string (nullable = true)\n |-- year: integer (nullable = true)\n |-- month: integer (nullable = true)\n |-- dayofmonth: integer (nullable = true)\n |-- dayofyear: integer (nullable = true)\n |-- weekofyear: integer (nullable = true)\n\nOut[2]: </div>",
       "datasetInfos": [],
       "metadata": {},
       "removedWidgets": [],
       "type": "html"
      }
     },
     "output_type": "display_data"
    },
    {
     "data": {
      "text/html": [
       "<div>\n",
       "<style scoped>\n",
       "    .dataframe tbody tr th:only-of-type {\n",
       "        vertical-align: middle;\n",
       "    }\n",
       "\n",
       "    .dataframe tbody tr th {\n",
       "        vertical-align: top;\n",
       "    }\n",
       "\n",
       "    .dataframe thead th {\n",
       "        text-align: right;\n",
       "    }\n",
       "</style>\n",
       "<table border=\"1\" class=\"dataframe\">\n",
       "  <thead>\n",
       "    <tr style=\"text-align: right;\">\n",
       "      <th></th>\n",
       "      <th>user</th>\n",
       "      <th>song</th>\n",
       "      <th>datetime</th>\n",
       "      <th>year</th>\n",
       "      <th>month</th>\n",
       "      <th>dayofmonth</th>\n",
       "      <th>dayofyear</th>\n",
       "      <th>weekofyear</th>\n",
       "    </tr>\n",
       "  </thead>\n",
       "  <tbody>\n",
       "    <tr>\n",
       "      <th>0</th>\n",
       "      <td>4</td>\n",
       "      <td>nRa-eGzpT6o</td>\n",
       "      <td>1965-07-26 03:21:43</td>\n",
       "      <td>1965</td>\n",
       "      <td>7</td>\n",
       "      <td>26</td>\n",
       "      <td>207</td>\n",
       "      <td>30</td>\n",
       "    </tr>\n",
       "    <tr>\n",
       "      <th>1</th>\n",
       "      <td>0</td>\n",
       "      <td>t1l8Z6gLPzo</td>\n",
       "      <td>2014-02-14 14:18:53</td>\n",
       "      <td>2014</td>\n",
       "      <td>2</td>\n",
       "      <td>14</td>\n",
       "      <td>45</td>\n",
       "      <td>7</td>\n",
       "    </tr>\n",
       "    <tr>\n",
       "      <th>2</th>\n",
       "      <td>22</td>\n",
       "      <td>Q24VZL8wpOM</td>\n",
       "      <td>2014-02-14 14:18:57</td>\n",
       "      <td>2014</td>\n",
       "      <td>2</td>\n",
       "      <td>14</td>\n",
       "      <td>45</td>\n",
       "      <td>7</td>\n",
       "    </tr>\n",
       "    <tr>\n",
       "      <th>3</th>\n",
       "      <td>70</td>\n",
       "      <td>VJ6ofd0pB_c</td>\n",
       "      <td>2014-02-14 14:18:57</td>\n",
       "      <td>2014</td>\n",
       "      <td>2</td>\n",
       "      <td>14</td>\n",
       "      <td>45</td>\n",
       "      <td>7</td>\n",
       "    </tr>\n",
       "    <tr>\n",
       "      <th>4</th>\n",
       "      <td>1</td>\n",
       "      <td>t1l8Z6gLPzo</td>\n",
       "      <td>2014-02-14 14:18:58</td>\n",
       "      <td>2014</td>\n",
       "      <td>2</td>\n",
       "      <td>14</td>\n",
       "      <td>45</td>\n",
       "      <td>7</td>\n",
       "    </tr>\n",
       "  </tbody>\n",
       "</table>\n",
       "</div>"
      ]
     },
     "metadata": {
      "application/vnd.databricks.v1+output": {
       "addedWidgets": {},
       "arguments": {},
       "data": "<div>\n<style scoped>\n    .dataframe tbody tr th:only-of-type {\n        vertical-align: middle;\n    }\n\n    .dataframe tbody tr th {\n        vertical-align: top;\n    }\n\n    .dataframe thead th {\n        text-align: right;\n    }\n</style>\n<table border=\"1\" class=\"dataframe\">\n  <thead>\n    <tr style=\"text-align: right;\">\n      <th></th>\n      <th>user</th>\n      <th>song</th>\n      <th>datetime</th>\n      <th>year</th>\n      <th>month</th>\n      <th>dayofmonth</th>\n      <th>dayofyear</th>\n      <th>weekofyear</th>\n    </tr>\n  </thead>\n  <tbody>\n    <tr>\n      <th>0</th>\n      <td>4</td>\n      <td>nRa-eGzpT6o</td>\n      <td>1965-07-26 03:21:43</td>\n      <td>1965</td>\n      <td>7</td>\n      <td>26</td>\n      <td>207</td>\n      <td>30</td>\n    </tr>\n    <tr>\n      <th>1</th>\n      <td>0</td>\n      <td>t1l8Z6gLPzo</td>\n      <td>2014-02-14 14:18:53</td>\n      <td>2014</td>\n      <td>2</td>\n      <td>14</td>\n      <td>45</td>\n      <td>7</td>\n    </tr>\n    <tr>\n      <th>2</th>\n      <td>22</td>\n      <td>Q24VZL8wpOM</td>\n      <td>2014-02-14 14:18:57</td>\n      <td>2014</td>\n      <td>2</td>\n      <td>14</td>\n      <td>45</td>\n      <td>7</td>\n    </tr>\n    <tr>\n      <th>3</th>\n      <td>70</td>\n      <td>VJ6ofd0pB_c</td>\n      <td>2014-02-14 14:18:57</td>\n      <td>2014</td>\n      <td>2</td>\n      <td>14</td>\n      <td>45</td>\n      <td>7</td>\n    </tr>\n    <tr>\n      <th>4</th>\n      <td>1</td>\n      <td>t1l8Z6gLPzo</td>\n      <td>2014-02-14 14:18:58</td>\n      <td>2014</td>\n      <td>2</td>\n      <td>14</td>\n      <td>45</td>\n      <td>7</td>\n    </tr>\n  </tbody>\n</table>\n</div>",
       "datasetInfos": [],
       "metadata": {},
       "removedWidgets": [],
       "textData": null,
       "type": "htmlSandbox"
      }
     },
     "output_type": "display_data"
    }
   ],
   "source": []
  },
  {
   "cell_type": "code",
   "execution_count": null,
   "metadata": {
    "application/vnd.databricks.v1+cell": {
     "cellMetadata": {},
     "inputWidgets": {},
     "nuid": "2a3b9967-4ddd-40d2-bd44-042986702adc",
     "showTitle": false,
     "title": ""
    }
   },
   "outputs": [
    {
     "data": {
      "text/html": [
       "<style scoped>\n",
       "  .ansiout {\n",
       "    display: block;\n",
       "    unicode-bidi: embed;\n",
       "    white-space: pre-wrap;\n",
       "    word-wrap: break-word;\n",
       "    word-break: break-all;\n",
       "    font-family: \"Menlo\", \"Monaco\", \"Consolas\", \"Ubuntu Mono\", \"Source Code Pro\", monospace;\n",
       "    font-size: 13px;\n",
       "    color: #555;\n",
       "    margin-left: 4px;\n",
       "    line-height: 19px;\n",
       "  }\n",
       "</style>"
      ]
     },
     "metadata": {
      "application/vnd.databricks.v1+output": {
       "arguments": {},
       "data": "",
       "errorSummary": "",
       "errorTraceType": null,
       "metadata": {},
       "type": "ipynbError"
      }
     },
     "output_type": "display_data"
    }
   ],
   "source": []
  },
  {
   "cell_type": "markdown",
   "metadata": {
    "application/vnd.databricks.v1+cell": {
     "cellMetadata": {},
     "inputWidgets": {},
     "nuid": "b41ea5de-e61e-45e1-820f-5d5d38802c55",
     "showTitle": false,
     "title": ""
    }
   },
   "source": [
    "### Aggregates\n",
    "\n",
    "#### `firstPlay`, `lastPlay`, `playCount`, `uniquePlayCount`\n",
    "For each user, we will compute these metrics:\n",
    "- `firstPlay`: datetime of the first listening\n",
    "- `lastPlay`: datetime of the last listening\n",
    "- `playCount`: total play counts\n",
    "- `uniquePlayCount`: unique play counts\n",
    "\n",
    "We'll save all these in a new DataFrame: `users`.  \n",
    "When you're done, print out the first 5 rows of `users` ordered by descending `playCount`.\n",
    "\n",
    "3. Compute, for each user\n",
    "- firstPlay\n",
    "- lastPlay\n",
    "- playCount\n",
    "- uniquePlayCount\n",
    "Save the results in a DataFrame named `users`"
   ]
  },
  {
   "cell_type": "code",
   "execution_count": null,
   "metadata": {
    "application/vnd.databricks.v1+cell": {
     "cellMetadata": {
      "byteLimit": 2048000,
      "rowLimit": 10000
     },
     "inputWidgets": {},
     "nuid": "da0b72b7-4aa8-4f49-a3a7-c9225739a94c",
     "showTitle": false,
     "title": ""
    }
   },
   "outputs": [
    {
     "name": "stdout",
     "output_type": "stream",
     "text": [
      "+----+-------------------+\n",
      "|user|          FirstPlay|\n",
      "+----+-------------------+\n",
      "|   0|2014-02-14 14:18:53|\n",
      "|   1|2014-02-14 14:18:58|\n",
      "|   2|2014-02-14 14:19:16|\n",
      "|   3|2014-02-14 14:19:21|\n",
      "|   4|1965-07-26 03:21:43|\n",
      "+----+-------------------+\n",
      "only showing top 5 rows\n",
      "\n"
     ]
    }
   ],
   "source": [
    "playlog.groupBy(\"user\").agg(F.min(\"datetime\").alias(\"FirstPlay\")).show(5)"
   ]
  },
  {
   "cell_type": "code",
   "execution_count": null,
   "metadata": {
    "application/vnd.databricks.v1+cell": {
     "cellMetadata": {
      "byteLimit": 2048000,
      "rowLimit": 10000
     },
     "inputWidgets": {},
     "nuid": "ec1219a5-2856-4b02-8cdf-658827a905ff",
     "showTitle": false,
     "title": ""
    }
   },
   "outputs": [
    {
     "name": "stdout",
     "output_type": "stream",
     "text": [
      "+----+-------------------+-------------------+\n",
      "|user|          FirstPlay|           LastPlay|\n",
      "+----+-------------------+-------------------+\n",
      "|   1|2014-02-14 14:18:58|2016-11-10 01:23:00|\n",
      "|   3|2014-02-14 14:19:21|2017-01-16 12:54:35|\n",
      "|   5|2014-02-14 14:19:26|2019-03-13 15:35:46|\n",
      "|   6|2014-02-14 14:19:27|2019-03-17 17:44:38|\n",
      "|  12|2014-02-14 14:20:12|2016-07-16 14:31:38|\n",
      "+----+-------------------+-------------------+\n",
      "\n"
     ]
    }
   ],
   "source": [
    "playlog.groupBy(\"user\").agg(F.min(\"datetime\").alias(\"FirstPlay\"), F.max(\"datetime\").alias(\"LastPlay\"), F.count(\"song\").alias(\"PlayCount\"), F.countDistinct(\"song\").alias(\"UniquePlayCount\")).limit(5).show()"
   ]
  },
  {
   "cell_type": "code",
   "execution_count": null,
   "metadata": {
    "application/vnd.databricks.v1+cell": {
     "cellMetadata": {
      "byteLimit": 2048000,
      "rowLimit": 10000
     },
     "inputWidgets": {},
     "nuid": "31c1fb94-d9d2-479f-9ddc-dd966b901644",
     "showTitle": false,
     "title": ""
    }
   },
   "outputs": [
    {
     "name": "stdout",
     "output_type": "stream",
     "text": [
      "+----+-------------------+-------------------+---------+---------------+\n",
      "|user|          FirstPlay|           LastPlay|PlayCount|UniquePlayCount|\n",
      "+----+-------------------+-------------------+---------+---------------+\n",
      "|1649|2014-02-18 04:17:33|2014-02-18 04:17:33|        1|              1|\n",
      "|1086|2014-02-16 13:52:48|2014-02-16 13:52:48|        1|              1|\n",
      "|1075|2014-02-15 22:22:03|2014-02-15 22:22:03|        1|              1|\n",
      "|1174|2014-02-16 12:59:19|2014-02-16 12:59:19|        1|              1|\n",
      "|2375|2014-02-21 15:56:44|2014-02-21 15:56:44|        1|              1|\n",
      "+----+-------------------+-------------------+---------+---------------+\n",
      "\n"
     ]
    }
   ],
   "source": [
    "playlog.groupBy(\"user\").agg(F.min(\"datetime\").alias(\"FirstPlay\"), F.max(\"datetime\").alias(\"LastPlay\"), F.count(\"song\").alias(\"PlayCount\"), F.countDistinct(\"song\").alias(\"UniquePlayCount\")).orderBy(\"UniquePlayCount\").limit(5).show()"
   ]
  },
  {
   "cell_type": "code",
   "execution_count": null,
   "metadata": {
    "application/vnd.databricks.v1+cell": {
     "cellMetadata": {
      "byteLimit": 2048000,
      "rowLimit": 10000
     },
     "inputWidgets": {},
     "nuid": "2ffa44b2-e5f1-4898-8328-c1aba6af32fd",
     "showTitle": false,
     "title": ""
    }
   },
   "outputs": [
    {
     "name": "stdout",
     "output_type": "stream",
     "text": [
      "+----+-------------------+-------------------+---------+---------------+\n",
      "|user|          FirstPlay|           LastPlay|PlayCount|UniquePlayCount|\n",
      "+----+-------------------+-------------------+---------+---------------+\n",
      "|1147|2014-02-16 09:16:26|2014-02-16 09:16:26|        1|              1|\n",
      "|1086|2014-02-16 13:52:48|2014-02-16 13:52:48|        1|              1|\n",
      "|1427|2014-02-17 16:01:46|2014-02-17 16:01:46|        2|              1|\n",
      "|1174|2014-02-16 12:59:19|2014-02-16 12:59:19|        1|              1|\n",
      "|1075|2014-02-15 22:22:03|2014-02-15 22:22:03|        1|              1|\n",
      "+----+-------------------+-------------------+---------+---------------+\n",
      "\n"
     ]
    }
   ],
   "source": [
    "my_aggregate = [\n",
    "  F.min(\"datetime\").alias(\"FirstPlay\"), \n",
    "  F.max(\"datetime\").alias(\"LastPlay\"), \n",
    "  F.count(\"song\").alias(\"PlayCount\"), \n",
    "  F.countDistinct(\"song\").alias(\"UniquePlayCount\")\n",
    "]\n",
    "\n",
    "playlog.groupBy(\"user\").agg(*my_aggregate).orderBy(\"UniquePlayCount\").limit(5).show()"
   ]
  },
  {
   "cell_type": "code",
   "execution_count": null,
   "metadata": {
    "application/vnd.databricks.v1+cell": {
     "cellMetadata": {
      "byteLimit": 2048000,
      "rowLimit": 10000
     },
     "inputWidgets": {},
     "nuid": "8eb0b4c2-abc4-4382-bda8-2b30a6a6f9ab",
     "showTitle": false,
     "title": ""
    }
   },
   "outputs": [
    {
     "data": {
      "text/html": [
       "<div>\n",
       "<style scoped>\n",
       "    .dataframe tbody tr th:only-of-type {\n",
       "        vertical-align: middle;\n",
       "    }\n",
       "\n",
       "    .dataframe tbody tr th {\n",
       "        vertical-align: top;\n",
       "    }\n",
       "\n",
       "    .dataframe thead th {\n",
       "        text-align: right;\n",
       "    }\n",
       "</style>\n",
       "<table border=\"1\" class=\"dataframe\">\n",
       "  <thead>\n",
       "    <tr style=\"text-align: right;\">\n",
       "      <th></th>\n",
       "      <th>user</th>\n",
       "      <th>FirstPlay</th>\n",
       "      <th>LastPlay</th>\n",
       "      <th>PlayCount</th>\n",
       "      <th>UniquePlayCount</th>\n",
       "    </tr>\n",
       "  </thead>\n",
       "  <tbody>\n",
       "    <tr>\n",
       "      <th>0</th>\n",
       "      <td>213</td>\n",
       "      <td>2014-02-14 15:34:17</td>\n",
       "      <td>2019-04-02 06:04:08</td>\n",
       "      <td>278749</td>\n",
       "      <td>161406</td>\n",
       "    </tr>\n",
       "    <tr>\n",
       "      <th>1</th>\n",
       "      <td>7290</td>\n",
       "      <td>2014-04-30 20:12:41</td>\n",
       "      <td>2019-04-03 06:50:05</td>\n",
       "      <td>151513</td>\n",
       "      <td>83831</td>\n",
       "    </tr>\n",
       "    <tr>\n",
       "      <th>2</th>\n",
       "      <td>226</td>\n",
       "      <td>2014-02-14 16:28:13</td>\n",
       "      <td>2019-04-02 13:36:34</td>\n",
       "      <td>94589</td>\n",
       "      <td>38883</td>\n",
       "    </tr>\n",
       "    <tr>\n",
       "      <th>3</th>\n",
       "      <td>22332</td>\n",
       "      <td>2014-10-29 19:05:20</td>\n",
       "      <td>2018-12-13 06:50:53</td>\n",
       "      <td>63516</td>\n",
       "      <td>37584</td>\n",
       "    </tr>\n",
       "    <tr>\n",
       "      <th>4</th>\n",
       "      <td>347</td>\n",
       "      <td>2014-02-14 17:53:17</td>\n",
       "      <td>2019-03-26 20:07:34</td>\n",
       "      <td>93724</td>\n",
       "      <td>31240</td>\n",
       "    </tr>\n",
       "  </tbody>\n",
       "</table>\n",
       "</div>"
      ]
     },
     "metadata": {
      "application/vnd.databricks.v1+output": {
       "addedWidgets": {},
       "arguments": {},
       "data": "<div>\n<style scoped>\n    .dataframe tbody tr th:only-of-type {\n        vertical-align: middle;\n    }\n\n    .dataframe tbody tr th {\n        vertical-align: top;\n    }\n\n    .dataframe thead th {\n        text-align: right;\n    }\n</style>\n<table border=\"1\" class=\"dataframe\">\n  <thead>\n    <tr style=\"text-align: right;\">\n      <th></th>\n      <th>user</th>\n      <th>FirstPlay</th>\n      <th>LastPlay</th>\n      <th>PlayCount</th>\n      <th>UniquePlayCount</th>\n    </tr>\n  </thead>\n  <tbody>\n    <tr>\n      <th>0</th>\n      <td>213</td>\n      <td>2014-02-14 15:34:17</td>\n      <td>2019-04-02 06:04:08</td>\n      <td>278749</td>\n      <td>161406</td>\n    </tr>\n    <tr>\n      <th>1</th>\n      <td>7290</td>\n      <td>2014-04-30 20:12:41</td>\n      <td>2019-04-03 06:50:05</td>\n      <td>151513</td>\n      <td>83831</td>\n    </tr>\n    <tr>\n      <th>2</th>\n      <td>226</td>\n      <td>2014-02-14 16:28:13</td>\n      <td>2019-04-02 13:36:34</td>\n      <td>94589</td>\n      <td>38883</td>\n    </tr>\n    <tr>\n      <th>3</th>\n      <td>22332</td>\n      <td>2014-10-29 19:05:20</td>\n      <td>2018-12-13 06:50:53</td>\n      <td>63516</td>\n      <td>37584</td>\n    </tr>\n    <tr>\n      <th>4</th>\n      <td>347</td>\n      <td>2014-02-14 17:53:17</td>\n      <td>2019-03-26 20:07:34</td>\n      <td>93724</td>\n      <td>31240</td>\n    </tr>\n  </tbody>\n</table>\n</div>",
       "datasetInfos": [],
       "metadata": {},
       "removedWidgets": [],
       "textData": null,
       "type": "htmlSandbox"
      }
     },
     "output_type": "display_data"
    }
   ],
   "source": [
    "my_aggregate = [\n",
    "  F.min(\"datetime\").alias(\"FirstPlay\"), \n",
    "  F.max(\"datetime\").alias(\"LastPlay\"), \n",
    "  F.count(\"song\").alias(\"PlayCount\"), \n",
    "  F.countDistinct(\"song\").alias(\"UniquePlayCount\")\n",
    "]\n",
    "\n",
    "playlog.groupBy(\"user\").agg(*my_aggregate).orderBy(F.desc(\"UniquePlayCount\")).limit(5).toPandas()"
   ]
  },
  {
   "cell_type": "code",
   "execution_count": null,
   "metadata": {
    "application/vnd.databricks.v1+cell": {
     "cellMetadata": {
      "byteLimit": 2048000,
      "rowLimit": 10000
     },
     "inputWidgets": {},
     "nuid": "1d5477ea-f04c-43fa-a416-d62835ed5f33",
     "showTitle": false,
     "title": ""
    }
   },
   "outputs": [
    {
     "data": {
      "text/html": [
       "<div>\n",
       "<style scoped>\n",
       "    .dataframe tbody tr th:only-of-type {\n",
       "        vertical-align: middle;\n",
       "    }\n",
       "\n",
       "    .dataframe tbody tr th {\n",
       "        vertical-align: top;\n",
       "    }\n",
       "\n",
       "    .dataframe thead th {\n",
       "        text-align: right;\n",
       "    }\n",
       "</style>\n",
       "<table border=\"1\" class=\"dataframe\">\n",
       "  <thead>\n",
       "    <tr style=\"text-align: right;\">\n",
       "      <th></th>\n",
       "      <th>user</th>\n",
       "      <th>FirstPlay</th>\n",
       "      <th>LastPlay</th>\n",
       "      <th>PlayCount</th>\n",
       "      <th>UniquePlayCount</th>\n",
       "    </tr>\n",
       "  </thead>\n",
       "  <tbody>\n",
       "    <tr>\n",
       "      <th>0</th>\n",
       "      <td>213</td>\n",
       "      <td>2014-02-14 15:34:17</td>\n",
       "      <td>2019-04-02 06:04:08</td>\n",
       "      <td>278749</td>\n",
       "      <td>161406</td>\n",
       "    </tr>\n",
       "    <tr>\n",
       "      <th>1</th>\n",
       "      <td>7290</td>\n",
       "      <td>2014-04-30 20:12:41</td>\n",
       "      <td>2019-04-03 06:50:05</td>\n",
       "      <td>151513</td>\n",
       "      <td>83831</td>\n",
       "    </tr>\n",
       "    <tr>\n",
       "      <th>2</th>\n",
       "      <td>226</td>\n",
       "      <td>2014-02-14 16:28:13</td>\n",
       "      <td>2019-04-02 13:36:34</td>\n",
       "      <td>94589</td>\n",
       "      <td>38883</td>\n",
       "    </tr>\n",
       "    <tr>\n",
       "      <th>3</th>\n",
       "      <td>22332</td>\n",
       "      <td>2014-10-29 19:05:20</td>\n",
       "      <td>2018-12-13 06:50:53</td>\n",
       "      <td>63516</td>\n",
       "      <td>37584</td>\n",
       "    </tr>\n",
       "    <tr>\n",
       "      <th>4</th>\n",
       "      <td>347</td>\n",
       "      <td>2014-02-14 17:53:17</td>\n",
       "      <td>2019-03-26 20:07:34</td>\n",
       "      <td>93724</td>\n",
       "      <td>31240</td>\n",
       "    </tr>\n",
       "  </tbody>\n",
       "</table>\n",
       "</div>"
      ]
     },
     "metadata": {
      "application/vnd.databricks.v1+output": {
       "addedWidgets": {},
       "arguments": {},
       "data": "<div>\n<style scoped>\n    .dataframe tbody tr th:only-of-type {\n        vertical-align: middle;\n    }\n\n    .dataframe tbody tr th {\n        vertical-align: top;\n    }\n\n    .dataframe thead th {\n        text-align: right;\n    }\n</style>\n<table border=\"1\" class=\"dataframe\">\n  <thead>\n    <tr style=\"text-align: right;\">\n      <th></th>\n      <th>user</th>\n      <th>FirstPlay</th>\n      <th>LastPlay</th>\n      <th>PlayCount</th>\n      <th>UniquePlayCount</th>\n    </tr>\n  </thead>\n  <tbody>\n    <tr>\n      <th>0</th>\n      <td>213</td>\n      <td>2014-02-14 15:34:17</td>\n      <td>2019-04-02 06:04:08</td>\n      <td>278749</td>\n      <td>161406</td>\n    </tr>\n    <tr>\n      <th>1</th>\n      <td>7290</td>\n      <td>2014-04-30 20:12:41</td>\n      <td>2019-04-03 06:50:05</td>\n      <td>151513</td>\n      <td>83831</td>\n    </tr>\n    <tr>\n      <th>2</th>\n      <td>226</td>\n      <td>2014-02-14 16:28:13</td>\n      <td>2019-04-02 13:36:34</td>\n      <td>94589</td>\n      <td>38883</td>\n    </tr>\n    <tr>\n      <th>3</th>\n      <td>22332</td>\n      <td>2014-10-29 19:05:20</td>\n      <td>2018-12-13 06:50:53</td>\n      <td>63516</td>\n      <td>37584</td>\n    </tr>\n    <tr>\n      <th>4</th>\n      <td>347</td>\n      <td>2014-02-14 17:53:17</td>\n      <td>2019-03-26 20:07:34</td>\n      <td>93724</td>\n      <td>31240</td>\n    </tr>\n  </tbody>\n</table>\n</div>",
       "datasetInfos": [],
       "metadata": {},
       "removedWidgets": [],
       "textData": null,
       "type": "htmlSandbox"
      }
     },
     "output_type": "display_data"
    }
   ],
   "source": [
    "my_aggregate = [\n",
    "  F.min(\"datetime\").alias(\"FirstPlay\"), \n",
    "  F.max(\"datetime\").alias(\"LastPlay\"), \n",
    "  F.count(\"song\").alias(\"PlayCount\"), \n",
    "  F.countDistinct(\"song\").alias(\"UniquePlayCount\")\n",
    "]\n",
    "\n",
    "# oublié de sauver dans dataframe users\n",
    "users = playlog.groupBy(\"user\").agg(*my_aggregate).orderBy(F.desc(\"UniquePlayCount\")).limit(5)\n",
    "users.toPandas()"
   ]
  },
  {
   "cell_type": "code",
   "execution_count": null,
   "metadata": {
    "application/vnd.databricks.v1+cell": {
     "cellMetadata": {},
     "inputWidgets": {},
     "nuid": "4b83ebb0-2b31-438c-823d-1370607ebd42",
     "showTitle": false,
     "title": ""
    }
   },
   "outputs": [
    {
     "data": {
      "text/html": [
       "<style scoped>\n",
       "  .ansiout {\n",
       "    display: block;\n",
       "    unicode-bidi: embed;\n",
       "    white-space: pre-wrap;\n",
       "    word-wrap: break-word;\n",
       "    word-break: break-all;\n",
       "    font-family: \"Menlo\", \"Monaco\", \"Consolas\", \"Ubuntu Mono\", \"Source Code Pro\", monospace;\n",
       "    font-size: 13px;\n",
       "    color: #555;\n",
       "    margin-left: 4px;\n",
       "    line-height: 19px;\n",
       "  }\n",
       "</style>\n",
       "<div class=\"ansiout\">Out[3]: </div>"
      ]
     },
     "metadata": {
      "application/vnd.databricks.v1+output": {
       "addedWidgets": {},
       "arguments": {},
       "data": "<div class=\"ansiout\">Out[3]: </div>",
       "datasetInfos": [],
       "metadata": {},
       "removedWidgets": [],
       "type": "html"
      }
     },
     "output_type": "display_data"
    },
    {
     "data": {
      "text/html": [
       "<div>\n",
       "<style scoped>\n",
       "    .dataframe tbody tr th:only-of-type {\n",
       "        vertical-align: middle;\n",
       "    }\n",
       "\n",
       "    .dataframe tbody tr th {\n",
       "        vertical-align: top;\n",
       "    }\n",
       "\n",
       "    .dataframe thead th {\n",
       "        text-align: right;\n",
       "    }\n",
       "</style>\n",
       "<table border=\"1\" class=\"dataframe\">\n",
       "  <thead>\n",
       "    <tr style=\"text-align: right;\">\n",
       "      <th></th>\n",
       "      <th>user</th>\n",
       "      <th>firstPlay</th>\n",
       "      <th>lastPlay</th>\n",
       "      <th>playCount</th>\n",
       "      <th>uniquePlayCount</th>\n",
       "    </tr>\n",
       "  </thead>\n",
       "  <tbody>\n",
       "    <tr>\n",
       "      <th>0</th>\n",
       "      <td>213</td>\n",
       "      <td>2014-02-14 15:34:17</td>\n",
       "      <td>2019-04-02 06:04:08</td>\n",
       "      <td>278749</td>\n",
       "      <td>161406</td>\n",
       "    </tr>\n",
       "    <tr>\n",
       "      <th>1</th>\n",
       "      <td>7290</td>\n",
       "      <td>2014-04-30 20:12:41</td>\n",
       "      <td>2019-04-03 06:50:05</td>\n",
       "      <td>151513</td>\n",
       "      <td>83831</td>\n",
       "    </tr>\n",
       "    <tr>\n",
       "      <th>2</th>\n",
       "      <td>435</td>\n",
       "      <td>2014-02-14 19:51:09</td>\n",
       "      <td>2019-04-03 19:36:28</td>\n",
       "      <td>144711</td>\n",
       "      <td>20055</td>\n",
       "    </tr>\n",
       "    <tr>\n",
       "      <th>3</th>\n",
       "      <td>21950</td>\n",
       "      <td>2014-10-23 09:09:36</td>\n",
       "      <td>2019-02-06 00:54:54</td>\n",
       "      <td>126285</td>\n",
       "      <td>15075</td>\n",
       "    </tr>\n",
       "    <tr>\n",
       "      <th>4</th>\n",
       "      <td>6270</td>\n",
       "      <td>2014-04-13 18:45:54</td>\n",
       "      <td>2018-08-11 20:46:08</td>\n",
       "      <td>125056</td>\n",
       "      <td>9247</td>\n",
       "    </tr>\n",
       "  </tbody>\n",
       "</table>\n",
       "</div>"
      ]
     },
     "metadata": {
      "application/vnd.databricks.v1+output": {
       "addedWidgets": {},
       "arguments": {},
       "data": "<div>\n<style scoped>\n    .dataframe tbody tr th:only-of-type {\n        vertical-align: middle;\n    }\n\n    .dataframe tbody tr th {\n        vertical-align: top;\n    }\n\n    .dataframe thead th {\n        text-align: right;\n    }\n</style>\n<table border=\"1\" class=\"dataframe\">\n  <thead>\n    <tr style=\"text-align: right;\">\n      <th></th>\n      <th>user</th>\n      <th>firstPlay</th>\n      <th>lastPlay</th>\n      <th>playCount</th>\n      <th>uniquePlayCount</th>\n    </tr>\n  </thead>\n  <tbody>\n    <tr>\n      <th>0</th>\n      <td>213</td>\n      <td>2014-02-14 15:34:17</td>\n      <td>2019-04-02 06:04:08</td>\n      <td>278749</td>\n      <td>161406</td>\n    </tr>\n    <tr>\n      <th>1</th>\n      <td>7290</td>\n      <td>2014-04-30 20:12:41</td>\n      <td>2019-04-03 06:50:05</td>\n      <td>151513</td>\n      <td>83831</td>\n    </tr>\n    <tr>\n      <th>2</th>\n      <td>435</td>\n      <td>2014-02-14 19:51:09</td>\n      <td>2019-04-03 19:36:28</td>\n      <td>144711</td>\n      <td>20055</td>\n    </tr>\n    <tr>\n      <th>3</th>\n      <td>21950</td>\n      <td>2014-10-23 09:09:36</td>\n      <td>2019-02-06 00:54:54</td>\n      <td>126285</td>\n      <td>15075</td>\n    </tr>\n    <tr>\n      <th>4</th>\n      <td>6270</td>\n      <td>2014-04-13 18:45:54</td>\n      <td>2018-08-11 20:46:08</td>\n      <td>125056</td>\n      <td>9247</td>\n    </tr>\n  </tbody>\n</table>\n</div>",
       "datasetInfos": [],
       "metadata": {},
       "removedWidgets": [],
       "textData": null,
       "type": "htmlSandbox"
      }
     },
     "output_type": "display_data"
    }
   ],
   "source": []
  },
  {
   "cell_type": "markdown",
   "metadata": {
    "application/vnd.databricks.v1+cell": {
     "cellMetadata": {},
     "inputWidgets": {},
     "nuid": "e217deba-a4d3-4689-8ad0-d7b512fb2904",
     "showTitle": false,
     "title": ""
    }
   },
   "source": [
    "4. Run a sanity check that all firstPlay are anterior to lastPlay"
   ]
  },
  {
   "cell_type": "code",
   "execution_count": null,
   "metadata": {
    "application/vnd.databricks.v1+cell": {
     "cellMetadata": {
      "byteLimit": 2048000,
      "rowLimit": 10000
     },
     "inputWidgets": {},
     "nuid": "6b7a58cb-db61-463c-920a-d90e68c83ccb",
     "showTitle": false,
     "title": ""
    }
   },
   "outputs": [
    {
     "name": "stdout",
     "output_type": "stream",
     "text": [
      "Out[50]: 0"
     ]
    }
   ],
   "source": [
    "users.filter(F.col(\"LastPlay\") < F.col(\"FirstPlay\")).count() "
   ]
  },
  {
   "cell_type": "code",
   "execution_count": null,
   "metadata": {
    "application/vnd.databricks.v1+cell": {
     "cellMetadata": {},
     "inputWidgets": {},
     "nuid": "66c2e502-921a-4264-93d6-51f1df279e4e",
     "showTitle": false,
     "title": ""
    }
   },
   "outputs": [
    {
     "data": {
      "text/html": [
       "<style scoped>\n",
       "  .ansiout {\n",
       "    display: block;\n",
       "    unicode-bidi: embed;\n",
       "    white-space: pre-wrap;\n",
       "    word-wrap: break-word;\n",
       "    word-break: break-all;\n",
       "    font-family: \"Menlo\", \"Monaco\", \"Consolas\", \"Ubuntu Mono\", \"Source Code Pro\", monospace;\n",
       "    font-size: 13px;\n",
       "    color: #555;\n",
       "    margin-left: 4px;\n",
       "    line-height: 19px;\n",
       "  }\n",
       "</style>\n",
       "<div class=\"ansiout\">Out[4]: 0</div>"
      ]
     },
     "metadata": {
      "application/vnd.databricks.v1+output": {
       "addedWidgets": {},
       "arguments": {},
       "data": "<div class=\"ansiout\">Out[4]: 0</div>",
       "datasetInfos": [],
       "metadata": {},
       "removedWidgets": [],
       "type": "html"
      }
     },
     "output_type": "display_data"
    }
   ],
   "source": []
  },
  {
   "cell_type": "markdown",
   "metadata": {
    "application/vnd.databricks.v1+cell": {
     "cellMetadata": {},
     "inputWidgets": {},
     "nuid": "c1ad3ab4-45a1-4b58-98e5-eedbe64011fc",
     "showTitle": false,
     "title": ""
    }
   },
   "source": [
    "5. Another sanity check, we grouped on the user column, so each user should represent a single row. Make sure all users are unique in the DataFrame"
   ]
  },
  {
   "cell_type": "code",
   "execution_count": null,
   "metadata": {
    "application/vnd.databricks.v1+cell": {
     "cellMetadata": {
      "byteLimit": 2048000,
      "rowLimit": 10000
     },
     "inputWidgets": {},
     "nuid": "2036f1f3-74cd-4076-a3f5-b6cf72d440d4",
     "showTitle": false,
     "title": ""
    }
   },
   "outputs": [
    {
     "name": "stdout",
     "output_type": "stream",
     "text": [
      "# users           :  <bound method DataFrame.count of DataFrame[user: int, FirstPlay: string, LastPlay: string, PlayCount: bigint, UniquePlayCount: bigint]>\n",
      "# disctinct users :  5\n"
     ]
    }
   ],
   "source": [
    "print(\"# users           : \", users.count)\n",
    "print(\"# disctinct users : \", users.select(\"user\").distinct().count())"
   ]
  },
  {
   "cell_type": "code",
   "execution_count": null,
   "metadata": {
    "application/vnd.databricks.v1+cell": {
     "cellMetadata": {},
     "inputWidgets": {},
     "nuid": "8304f18b-7ddb-4202-9f26-f9231a734faa",
     "showTitle": false,
     "title": ""
    }
   },
   "outputs": [
    {
     "data": {
      "text/html": [
       "<style scoped>\n",
       "  .ansiout {\n",
       "    display: block;\n",
       "    unicode-bidi: embed;\n",
       "    white-space: pre-wrap;\n",
       "    word-wrap: break-word;\n",
       "    word-break: break-all;\n",
       "    font-family: \"Menlo\", \"Monaco\", \"Consolas\", \"Ubuntu Mono\", \"Source Code Pro\", monospace;\n",
       "    font-size: 13px;\n",
       "    color: #555;\n",
       "    margin-left: 4px;\n",
       "    line-height: 19px;\n",
       "  }\n",
       "</style>\n",
       "<div class=\"ansiout\">Total users: 45904\n",
       "Distinct users: 45904\n",
       "</div>"
      ]
     },
     "metadata": {
      "application/vnd.databricks.v1+output": {
       "addedWidgets": {},
       "arguments": {},
       "data": "<div class=\"ansiout\">Total users: 45904\nDistinct users: 45904\n</div>",
       "datasetInfos": [],
       "metadata": {},
       "removedWidgets": [],
       "type": "html"
      }
     },
     "output_type": "display_data"
    }
   ],
   "source": []
  },
  {
   "cell_type": "markdown",
   "metadata": {
    "application/vnd.databricks.v1+cell": {
     "cellMetadata": {},
     "inputWidgets": {},
     "nuid": "15a1cc14-07eb-4227-b7ed-e7258ed75bd5",
     "showTitle": false,
     "title": ""
    }
   },
   "source": [
    "### `timespan`\n",
    "We will compute `timespan`: the overall span of activity from a user in days, rounded to the inferior, for example:\n",
    "- if a user was active 23 hours on the service, we will say he was active 0 days\n",
    "- for 53 hours, that would be 2 days of activity\n",
    "\n",
    "We **will not** transform the `users` DataFrame in place, but instead save the result as a new DataFrame: `users_with_timespan`.\n",
    "\n",
    "6. Compute timespan and save the result a new DataFrame: `users_with_timespan`"
   ]
  },
  {
   "cell_type": "code",
   "execution_count": null,
   "metadata": {
    "application/vnd.databricks.v1+cell": {
     "cellMetadata": {
      "byteLimit": 2048000,
      "rowLimit": 10000
     },
     "inputWidgets": {},
     "nuid": "361cf7e3-e770-4134-b97f-eb5bf3233b7d",
     "showTitle": false,
     "title": ""
    }
   },
   "outputs": [
    {
     "name": "stdout",
     "output_type": "stream",
     "text": [
      "+----------------------+\n",
      "|(LastPlay - FirstPlay)|\n",
      "+----------------------+\n",
      "|                  null|\n",
      "|                  null|\n",
      "|                  null|\n",
      "|                  null|\n",
      "|                  null|\n",
      "+----------------------+\n",
      "\n"
     ]
    }
   ],
   "source": [
    "users_with_timespan = users.select(F.col(\"LastPlay\")-F.col(\"FirstPlay\"))\n",
    "users_with_timespan.show(5)"
   ]
  },
  {
   "cell_type": "code",
   "execution_count": null,
   "metadata": {
    "application/vnd.databricks.v1+cell": {
     "cellMetadata": {
      "byteLimit": 2048000,
      "rowLimit": 10000
     },
     "inputWidgets": {},
     "nuid": "09c87a24-43d5-414b-a0c4-8a0b3035a8b6",
     "showTitle": false,
     "title": ""
    }
   },
   "outputs": [
    {
     "data": {
      "text/html": [
       "<div>\n",
       "<style scoped>\n",
       "    .dataframe tbody tr th:only-of-type {\n",
       "        vertical-align: middle;\n",
       "    }\n",
       "\n",
       "    .dataframe tbody tr th {\n",
       "        vertical-align: top;\n",
       "    }\n",
       "\n",
       "    .dataframe thead th {\n",
       "        text-align: right;\n",
       "    }\n",
       "</style>\n",
       "<table border=\"1\" class=\"dataframe\">\n",
       "  <thead>\n",
       "    <tr style=\"text-align: right;\">\n",
       "      <th></th>\n",
       "      <th>user</th>\n",
       "      <th>FirstPlay</th>\n",
       "      <th>LastPlay</th>\n",
       "      <th>PlayCount</th>\n",
       "      <th>UniquePlayCount</th>\n",
       "      <th>timespan</th>\n",
       "    </tr>\n",
       "  </thead>\n",
       "  <tbody>\n",
       "    <tr>\n",
       "      <th>0</th>\n",
       "      <td>213</td>\n",
       "      <td>2014-02-14 15:34:17</td>\n",
       "      <td>2019-04-02 06:04:08</td>\n",
       "      <td>278749</td>\n",
       "      <td>161406</td>\n",
       "      <td>1872</td>\n",
       "    </tr>\n",
       "    <tr>\n",
       "      <th>1</th>\n",
       "      <td>7290</td>\n",
       "      <td>2014-04-30 20:12:41</td>\n",
       "      <td>2019-04-03 06:50:05</td>\n",
       "      <td>151513</td>\n",
       "      <td>83831</td>\n",
       "      <td>1798</td>\n",
       "    </tr>\n",
       "    <tr>\n",
       "      <th>2</th>\n",
       "      <td>226</td>\n",
       "      <td>2014-02-14 16:28:13</td>\n",
       "      <td>2019-04-02 13:36:34</td>\n",
       "      <td>94589</td>\n",
       "      <td>38883</td>\n",
       "      <td>1872</td>\n",
       "    </tr>\n",
       "    <tr>\n",
       "      <th>3</th>\n",
       "      <td>22332</td>\n",
       "      <td>2014-10-29 19:05:20</td>\n",
       "      <td>2018-12-13 06:50:53</td>\n",
       "      <td>63516</td>\n",
       "      <td>37584</td>\n",
       "      <td>1505</td>\n",
       "    </tr>\n",
       "    <tr>\n",
       "      <th>4</th>\n",
       "      <td>347</td>\n",
       "      <td>2014-02-14 17:53:17</td>\n",
       "      <td>2019-03-26 20:07:34</td>\n",
       "      <td>93724</td>\n",
       "      <td>31240</td>\n",
       "      <td>1866</td>\n",
       "    </tr>\n",
       "  </tbody>\n",
       "</table>\n",
       "</div>"
      ]
     },
     "metadata": {
      "application/vnd.databricks.v1+output": {
       "addedWidgets": {},
       "arguments": {},
       "data": "<div>\n<style scoped>\n    .dataframe tbody tr th:only-of-type {\n        vertical-align: middle;\n    }\n\n    .dataframe tbody tr th {\n        vertical-align: top;\n    }\n\n    .dataframe thead th {\n        text-align: right;\n    }\n</style>\n<table border=\"1\" class=\"dataframe\">\n  <thead>\n    <tr style=\"text-align: right;\">\n      <th></th>\n      <th>user</th>\n      <th>FirstPlay</th>\n      <th>LastPlay</th>\n      <th>PlayCount</th>\n      <th>UniquePlayCount</th>\n      <th>timespan</th>\n    </tr>\n  </thead>\n  <tbody>\n    <tr>\n      <th>0</th>\n      <td>213</td>\n      <td>2014-02-14 15:34:17</td>\n      <td>2019-04-02 06:04:08</td>\n      <td>278749</td>\n      <td>161406</td>\n      <td>1872</td>\n    </tr>\n    <tr>\n      <th>1</th>\n      <td>7290</td>\n      <td>2014-04-30 20:12:41</td>\n      <td>2019-04-03 06:50:05</td>\n      <td>151513</td>\n      <td>83831</td>\n      <td>1798</td>\n    </tr>\n    <tr>\n      <th>2</th>\n      <td>226</td>\n      <td>2014-02-14 16:28:13</td>\n      <td>2019-04-02 13:36:34</td>\n      <td>94589</td>\n      <td>38883</td>\n      <td>1872</td>\n    </tr>\n    <tr>\n      <th>3</th>\n      <td>22332</td>\n      <td>2014-10-29 19:05:20</td>\n      <td>2018-12-13 06:50:53</td>\n      <td>63516</td>\n      <td>37584</td>\n      <td>1505</td>\n    </tr>\n    <tr>\n      <th>4</th>\n      <td>347</td>\n      <td>2014-02-14 17:53:17</td>\n      <td>2019-03-26 20:07:34</td>\n      <td>93724</td>\n      <td>31240</td>\n      <td>1866</td>\n    </tr>\n  </tbody>\n</table>\n</div>",
       "datasetInfos": [],
       "metadata": {},
       "removedWidgets": [],
       "textData": null,
       "type": "htmlSandbox"
      }
     },
     "output_type": "display_data"
    }
   ],
   "source": [
    "# Copier coller de la solution\n",
    "from pyspark.sql.types import IntegerType\n",
    "\n",
    "def compute_timespan(df):\n",
    "  return \n",
    "\n",
    "\n",
    "users_with_timespan = users.transform(compute_timespan)\n",
    "users_with_timespan.limit(5).toPandas()"
   ]
  },
  {
   "cell_type": "code",
   "execution_count": null,
   "metadata": {
    "application/vnd.databricks.v1+cell": {
     "cellMetadata": {},
     "inputWidgets": {},
     "nuid": "bae15dbd-be95-4769-8112-20dcc11d8299",
     "showTitle": false,
     "title": ""
    }
   },
   "outputs": [],
   "source": []
  },
  {
   "cell_type": "markdown",
   "metadata": {
    "application/vnd.databricks.v1+cell": {
     "cellMetadata": {},
     "inputWidgets": {},
     "nuid": "b5b0ba6e-b61e-46b7-b955-a4d7adc313bf",
     "showTitle": false,
     "title": ""
    }
   },
   "source": [
    "Let's check how this looks like, we will be using Databricks' `display` to plot an histogram of `timespan`.\n",
    "\n",
    "7. Plot an histogram of `timespan`"
   ]
  },
  {
   "cell_type": "code",
   "execution_count": null,
   "metadata": {
    "application/vnd.databricks.v1+cell": {
     "cellMetadata": {
      "byteLimit": 2048000,
      "rowLimit": 10000
     },
     "inputWidgets": {},
     "nuid": "b061e07c-41ab-440f-add4-009077c0995a",
     "showTitle": false,
     "title": ""
    }
   },
   "outputs": [
    {
     "data": {
      "text/html": [
       "<style scoped>\n",
       "  .table-result-container {\n",
       "    max-height: 300px;\n",
       "    overflow: auto;\n",
       "  }\n",
       "  table, th, td {\n",
       "    border: 1px solid black;\n",
       "    border-collapse: collapse;\n",
       "  }\n",
       "  th, td {\n",
       "    padding: 5px;\n",
       "  }\n",
       "  th {\n",
       "    text-align: left;\n",
       "  }\n",
       "</style><div class='table-result-container'><table class='table-result'><thead style='background-color: white'><tr><th>timespan</th></tr></thead><tbody><tr><td>1872</td></tr><tr><td>1798</td></tr><tr><td>1872</td></tr><tr><td>1505</td></tr><tr><td>1866</td></tr></tbody></table></div>"
      ]
     },
     "metadata": {
      "application/vnd.databricks.v1+output": {
       "addedWidgets": {},
       "aggData": [],
       "aggError": "",
       "aggOverflow": false,
       "aggSchema": [],
       "aggSeriesLimitReached": false,
       "aggType": "",
       "arguments": {},
       "columnCustomDisplayInfos": {},
       "data": [
        [
         1872
        ],
        [
         1798
        ],
        [
         1872
        ],
        [
         1505
        ],
        [
         1866
        ]
       ],
       "datasetInfos": [],
       "dbfsResultPath": null,
       "isJsonSchema": true,
       "metadata": {},
       "overflow": false,
       "plotOptions": {
        "customPlotOptions": {},
        "displayType": "table",
        "pivotAggregation": null,
        "pivotColumns": null,
        "xColumns": null,
        "yColumns": null
       },
       "removedWidgets": [],
       "schema": [
        {
         "metadata": "{}",
         "name": "timespan",
         "type": "\"integer\""
        }
       ],
       "type": "table"
      }
     },
     "output_type": "display_data"
    },
    {
     "data": {
      "text/plain": [
       "Databricks visualization. Run in Databricks to view."
      ]
     },
     "metadata": {
      "application/vnd.databricks.v1.subcommand+json": {
       "baseErrorDetails": null,
       "bindings": {},
       "collapsed": false,
       "command": "%python\n__backend_agg_display_orig = display\n__backend_agg_dfs = []\ndef __backend_agg_display_new(df):\n    __backend_agg_df_modules = [\"pandas.core.frame\", \"databricks.koalas.frame\", \"pyspark.sql.dataframe\", \"pyspark.pandas.frame\", \"pyspark.sql.connect.dataframe\"]\n    if (type(df).__module__ in __backend_agg_df_modules and type(df).__name__ == 'DataFrame') or isinstance(df, list):\n        __backend_agg_dfs.append(df)\n\ndisplay = __backend_agg_display_new\n\ndef __backend_agg_user_code_fn():\n    import base64\n    exec(base64.standard_b64decode(\"ZGlzcGxheSh1c2Vyc193aXRoX3RpbWVzcGFuLnNlbGVjdCgndGltZXNwYW4nKSk=\").decode())\n\ntry:\n    # run user code\n    __backend_agg_user_code_fn()\n\n    #reset display function\n    display = __backend_agg_display_orig\n\n    if len(__backend_agg_dfs) > 0:\n        # create a temp view\n        if type(__backend_agg_dfs[0]).__module__ == \"databricks.koalas.frame\":\n            # koalas dataframe\n            __backend_agg_dfs[0].to_spark().createOrReplaceTempView(\"DatabricksView5759a4e\")\n        elif type(__backend_agg_dfs[0]).__module__ == \"pandas.core.frame\" or isinstance(__backend_agg_dfs[0], list):\n            # pandas dataframe\n            spark.createDataFrame(__backend_agg_dfs[0]).createOrReplaceTempView(\"DatabricksView5759a4e\")\n        else:\n            __backend_agg_dfs[0].createOrReplaceTempView(\"DatabricksView5759a4e\")\n        #run backend agg\n        display(spark.sql(\"\"\"WITH q AS (select * from DatabricksView5759a4e) ,min_max AS (SELECT `timespan`,(SELECT MAX(`timespan`) FROM q) `target_column_max`,(SELECT MIN(`timespan`) FROM q) `target_column_min` FROM q) ,histogram_meta AS (SELECT `timespan`,`target_column_min` `min_value`,IF(`target_column_max` = `target_column_min`,`target_column_max` + 1,`target_column_max`) `max_value`,(`target_column_max` - `target_column_min`) / 10 `step` FROM min_max) SELECT IF(ISNULL(`timespan`),NULL,LEAST(WIDTH_BUCKET(`timespan`,`min_value`,`max_value`,10),10)) `timespan_BIN`,FIRST(`min_value` + ((IF(ISNULL(`timespan`),NULL,LEAST(WIDTH_BUCKET(`timespan`,`min_value`,`max_value`,10),10)) - 1) * `step`)) `timespan_BIN_LOWER_BOUND`,FIRST(`step`) `timespan_BIN_STEP`,COUNT(`timespan`) `COUNT` FROM histogram_meta GROUP BY `timespan_BIN`\"\"\"))\n    else:\n        displayHTML(\"dataframe no longer exists. If you're using dataframe.display(), use display(dataframe) instead.\")\n\n\nfinally:\n    spark.sql(\"drop view if exists DatabricksView5759a4e\")\n    display = __backend_agg_display_orig\n    del __backend_agg_display_new\n    del __backend_agg_display_orig\n    del __backend_agg_dfs\n    del __backend_agg_user_code_fn\n\n",
       "commandTitle": "Visualization 1",
       "commandType": "auto",
       "commandVersion": 0,
       "commentThread": [],
       "commentsVisible": false,
       "contentSha256Hex": null,
       "customPlotOptions": {
        "redashChart": [
         {
          "key": "type",
          "value": "CHART"
         },
         {
          "key": "options",
          "value": {
           "alignYAxesAtZero": true,
           "coefficient": 1,
           "columnConfigurationMap": {
            "x": {
             "column": "timespan",
             "id": "column_8f76f5f92"
            }
           },
           "dateTimeFormat": "DD/MM/YYYY HH:mm",
           "direction": {
            "type": "counterclockwise"
           },
           "error_y": {
            "type": "data",
            "visible": true
           },
           "globalSeriesType": "histogram",
           "isAggregationOn": true,
           "legend": {
            "traceorder": "normal"
           },
           "missingValuesAsZero": true,
           "numBins": 10,
           "numberFormat": "0,0.[00000]",
           "percentFormat": "0[.]00%",
           "series": {
            "error_y": {
             "type": "data",
             "visible": true
            },
            "stacking": null
           },
           "seriesOptions": {},
           "showDataLabels": false,
           "sizemode": "diameter",
           "sortX": true,
           "sortY": true,
           "swappedAxes": false,
           "textFormat": "",
           "useAggregationsUi": true,
           "valuesOptions": {},
           "version": 2,
           "xAxis": {
            "labels": {
             "enabled": true
            },
            "type": "-"
           },
           "yAxis": [
            {
             "type": "-"
            },
            {
             "opposite": true,
             "type": "-"
            }
           ]
          }
         }
        ]
       },
       "datasetPreviewNameToCmdIdMap": {},
       "diffDeletes": [],
       "diffInserts": [],
       "displayType": "redashChart",
       "error": null,
       "errorDetails": null,
       "errorSummary": null,
       "errorTraceType": null,
       "finishTime": 0,
       "globalVars": {},
       "guid": "",
       "height": "auto",
       "hideCommandCode": false,
       "hideCommandResult": false,
       "iPythonMetadata": null,
       "inputWidgets": {},
       "isLockedInExamMode": false,
       "latestUser": "a user",
       "latestUserId": null,
       "listResultMetadata": null,
       "metadata": {},
       "nuid": "b37032c7-9131-40aa-a2bc-aff695dae71c",
       "origId": 0,
       "parentHierarchy": [],
       "pivotAggregation": null,
       "pivotColumns": null,
       "position": 16.5,
       "resultDbfsErrorMessage": null,
       "resultDbfsStatus": "INLINED_IN_TREE",
       "results": null,
       "showCommandTitle": false,
       "startTime": 0,
       "state": "input",
       "streamStates": {},
       "subcommandOptions": {
        "queryPlan": {
         "groups": [
          {
           "column": "timespan_BIN",
           "type": "column"
          }
         ],
         "selects": [
          {
           "alias": "timespan_BIN",
           "args": [
            {
             "column": "timespan",
             "type": "column"
            },
            {
             "number": 10,
             "type": "number"
            }
           ],
           "function": "BIN",
           "type": "function"
          },
          {
           "alias": "timespan_BIN_LOWER_BOUND",
           "args": [
            {
             "column": "timespan",
             "type": "column"
            },
            {
             "number": 10,
             "type": "number"
            }
           ],
           "function": "BIN_LOWER_BOUND",
           "type": "function"
          },
          {
           "alias": "timespan_BIN_STEP",
           "args": [
            {
             "column": "timespan",
             "type": "column"
            },
            {
             "number": 10,
             "type": "number"
            }
           ],
           "function": "BIN_STEP",
           "type": "function"
          },
          {
           "alias": "COUNT",
           "args": [
            {
             "column": "timespan",
             "type": "column"
            }
           ],
           "function": "COUNT",
           "type": "function"
          }
         ]
        }
       },
       "submitTime": 0,
       "subtype": "tableResultSubCmd.visualization",
       "tableResultIndex": 0,
       "useConsistentColors": false,
       "version": "CommandV1",
       "width": "auto",
       "workflows": [],
       "xColumns": null,
       "yColumns": null
      }
     },
     "output_type": "display_data"
    }
   ],
   "source": [
    "display(users_with_timespan.select('timespan'))"
   ]
  },
  {
   "cell_type": "code",
   "execution_count": null,
   "metadata": {
    "application/vnd.databricks.v1+cell": {
     "cellMetadata": {},
     "inputWidgets": {},
     "nuid": "a005e9db-4c58-4cf1-8770-80f595d7eb44",
     "showTitle": false,
     "title": ""
    }
   },
   "outputs": [],
   "source": []
  },
  {
   "cell_type": "markdown",
   "metadata": {
    "application/vnd.databricks.v1+cell": {
     "cellMetadata": {},
     "inputWidgets": {},
     "nuid": "53caceec-e0e6-4d0b-93d1-131f5244ca5a",
     "showTitle": false,
     "title": ""
    }
   },
   "source": [
    "Looking like a powerlaw, let's try to log transform.\n",
    "\n",
    "8. Use describe on the `timespan` column"
   ]
  },
  {
   "cell_type": "code",
   "execution_count": null,
   "metadata": {
    "application/vnd.databricks.v1+cell": {
     "cellMetadata": {
      "byteLimit": 2048000,
      "rowLimit": 10000
     },
     "inputWidgets": {},
     "nuid": "7685ca34-b640-4c76-8632-e5529ca26370",
     "showTitle": false,
     "title": ""
    }
   },
   "outputs": [
    {
     "name": "stdout",
     "output_type": "stream",
     "text": [
      "+-------+------------------+\n",
      "|summary|          timespan|\n",
      "+-------+------------------+\n",
      "|  count|                 5|\n",
      "|   mean|            1782.6|\n",
      "| stddev|158.30287426322994|\n",
      "|    min|              1505|\n",
      "|    max|              1872|\n",
      "+-------+------------------+\n",
      "\n"
     ]
    }
   ],
   "source": [
    "users_with_timespan.select(\"timespan\").describe().show()"
   ]
  },
  {
   "cell_type": "code",
   "execution_count": null,
   "metadata": {
    "application/vnd.databricks.v1+cell": {
     "cellMetadata": {
      "byteLimit": 2048000,
      "rowLimit": 10000
     },
     "inputWidgets": {},
     "nuid": "5fdf17c5-340d-4ace-ab5c-b676e4a9342f",
     "showTitle": false,
     "title": ""
    }
   },
   "outputs": [],
   "source": [
    "# la solution proposée\n",
    "users_with_timespan.select('timespan').describe().toPandas().set_index('summary')"
   ]
  },
  {
   "cell_type": "markdown",
   "metadata": {
    "application/vnd.databricks.v1+cell": {
     "cellMetadata": {},
     "inputWidgets": {},
     "nuid": "28dd6eaa-28f0-46dc-94e4-af7ae914f630",
     "showTitle": false,
     "title": ""
    }
   },
   "source": [
    "9. Plot a histogram of log transformed `timespan`"
   ]
  },
  {
   "cell_type": "code",
   "execution_count": null,
   "metadata": {
    "application/vnd.databricks.v1+cell": {
     "cellMetadata": {
      "byteLimit": 2048000,
      "rowLimit": 10000
     },
     "inputWidgets": {},
     "nuid": "23fb6aeb-76a0-46dc-950f-dfe80d1838bd",
     "showTitle": false,
     "title": ""
    }
   },
   "outputs": [
    {
     "data": {
      "text/html": [
       "<style scoped>\n",
       "  .table-result-container {\n",
       "    max-height: 300px;\n",
       "    overflow: auto;\n",
       "  }\n",
       "  table, th, td {\n",
       "    border: 1px solid black;\n",
       "    border-collapse: collapse;\n",
       "  }\n",
       "  th, td {\n",
       "    padding: 5px;\n",
       "  }\n",
       "  th {\n",
       "    text-align: left;\n",
       "  }\n",
       "</style><div class='table-result-container'><table class='table-result'><thead style='background-color: white'><tr><th>ln(timespan)</th></tr></thead><tbody><tr><td>7.534762657037537</td></tr><tr><td>7.494430215031565</td></tr><tr><td>7.534762657037537</td></tr><tr><td>7.316548177182976</td></tr><tr><td>7.531552381407289</td></tr></tbody></table></div>"
      ]
     },
     "metadata": {
      "application/vnd.databricks.v1+output": {
       "addedWidgets": {},
       "aggData": [],
       "aggError": "",
       "aggOverflow": false,
       "aggSchema": [],
       "aggSeriesLimitReached": false,
       "aggType": "",
       "arguments": {},
       "columnCustomDisplayInfos": {},
       "data": [
        [
         7.534762657037537
        ],
        [
         7.494430215031565
        ],
        [
         7.534762657037537
        ],
        [
         7.316548177182976
        ],
        [
         7.531552381407289
        ]
       ],
       "datasetInfos": [],
       "dbfsResultPath": null,
       "isJsonSchema": true,
       "metadata": {},
       "overflow": false,
       "plotOptions": {
        "customPlotOptions": {},
        "displayType": "table",
        "pivotAggregation": null,
        "pivotColumns": null,
        "xColumns": null,
        "yColumns": null
       },
       "removedWidgets": [],
       "schema": [
        {
         "metadata": "{}",
         "name": "ln(timespan)",
         "type": "\"double\""
        }
       ],
       "type": "table"
      }
     },
     "output_type": "display_data"
    },
    {
     "data": {
      "text/plain": [
       "Databricks visualization. Run in Databricks to view."
      ]
     },
     "metadata": {
      "application/vnd.databricks.v1.subcommand+json": {
       "baseErrorDetails": null,
       "bindings": {},
       "collapsed": false,
       "command": "%python\n__backend_agg_display_orig = display\n__backend_agg_dfs = []\ndef __backend_agg_display_new(df):\n    __backend_agg_df_modules = [\"pandas.core.frame\", \"databricks.koalas.frame\", \"pyspark.sql.dataframe\", \"pyspark.pandas.frame\", \"pyspark.sql.connect.dataframe\"]\n    if (type(df).__module__ in __backend_agg_df_modules and type(df).__name__ == 'DataFrame') or isinstance(df, list):\n        __backend_agg_dfs.append(df)\n\ndisplay = __backend_agg_display_new\n\ndef __backend_agg_user_code_fn():\n    import base64\n    exec(base64.standard_b64decode(\"ZGlzcGxheSh1c2Vyc193aXRoX3RpbWVzcGFuLnNlbGVjdChGLmxvZygndGltZXNwYW4nKSkp\").decode())\n\ntry:\n    # run user code\n    __backend_agg_user_code_fn()\n\n    #reset display function\n    display = __backend_agg_display_orig\n\n    if len(__backend_agg_dfs) > 0:\n        # create a temp view\n        if type(__backend_agg_dfs[0]).__module__ == \"databricks.koalas.frame\":\n            # koalas dataframe\n            __backend_agg_dfs[0].to_spark().createOrReplaceTempView(\"DatabricksView134e691\")\n        elif type(__backend_agg_dfs[0]).__module__ == \"pandas.core.frame\" or isinstance(__backend_agg_dfs[0], list):\n            # pandas dataframe\n            spark.createDataFrame(__backend_agg_dfs[0]).createOrReplaceTempView(\"DatabricksView134e691\")\n        else:\n            __backend_agg_dfs[0].createOrReplaceTempView(\"DatabricksView134e691\")\n        #run backend agg\n        display(spark.sql(\"\"\"WITH q AS (select * from DatabricksView134e691) ,min_max AS (SELECT `ln(timespan)`,(SELECT MAX(`ln(timespan)`) FROM q) `target_column_max`,(SELECT MIN(`ln(timespan)`) FROM q) `target_column_min` FROM q) ,histogram_meta AS (SELECT `ln(timespan)`,`target_column_min` `min_value`,IF(`target_column_max` = `target_column_min`,`target_column_max` + 1,`target_column_max`) `max_value`,(`target_column_max` - `target_column_min`) / 10 `step` FROM min_max) SELECT IF(ISNULL(`ln(timespan)`),NULL,LEAST(WIDTH_BUCKET(`ln(timespan)`,`min_value`,`max_value`,10),10)) `ln(timespan)_BIN`,FIRST(`min_value` + ((IF(ISNULL(`ln(timespan)`),NULL,LEAST(WIDTH_BUCKET(`ln(timespan)`,`min_value`,`max_value`,10),10)) - 1) * `step`)) `ln(timespan)_BIN_LOWER_BOUND`,FIRST(`step`) `ln(timespan)_BIN_STEP`,COUNT(`ln(timespan)`) `COUNT` FROM histogram_meta GROUP BY `ln(timespan)_BIN`\"\"\"))\n    else:\n        displayHTML(\"dataframe no longer exists. If you're using dataframe.display(), use display(dataframe) instead.\")\n\n\nfinally:\n    spark.sql(\"drop view if exists DatabricksView134e691\")\n    display = __backend_agg_display_orig\n    del __backend_agg_display_new\n    del __backend_agg_display_orig\n    del __backend_agg_dfs\n    del __backend_agg_user_code_fn\n\n",
       "commandTitle": "Visualization 1",
       "commandType": "auto",
       "commandVersion": 0,
       "commentThread": [],
       "commentsVisible": false,
       "contentSha256Hex": null,
       "customPlotOptions": {
        "redashChart": [
         {
          "key": "type",
          "value": "CHART"
         },
         {
          "key": "options",
          "value": {
           "alignYAxesAtZero": true,
           "coefficient": 1,
           "columnConfigurationMap": {
            "x": {
             "column": "ln(timespan)",
             "id": "column_8f76f5f93"
            }
           },
           "dateTimeFormat": "DD/MM/YYYY HH:mm",
           "direction": {
            "type": "counterclockwise"
           },
           "error_y": {
            "type": "data",
            "visible": true
           },
           "globalSeriesType": "histogram",
           "legend": {
            "traceorder": "normal"
           },
           "missingValuesAsZero": true,
           "numBins": 10,
           "numberFormat": "0,0.[00000]",
           "percentFormat": "0[.]00%",
           "series": {
            "error_y": {
             "type": "data",
             "visible": true
            },
            "stacking": null
           },
           "seriesOptions": {},
           "showDataLabels": false,
           "sizemode": "diameter",
           "sortX": true,
           "sortY": true,
           "swappedAxes": false,
           "textFormat": "",
           "useAggregationsUi": true,
           "valuesOptions": {},
           "version": 2,
           "xAxis": {
            "labels": {
             "enabled": true
            },
            "type": "-"
           },
           "yAxis": [
            {
             "type": "-"
            },
            {
             "opposite": true,
             "type": "-"
            }
           ]
          }
         }
        ]
       },
       "datasetPreviewNameToCmdIdMap": {},
       "diffDeletes": [],
       "diffInserts": [],
       "displayType": "redashChart",
       "error": null,
       "errorDetails": null,
       "errorSummary": null,
       "errorTraceType": null,
       "finishTime": 0,
       "globalVars": {},
       "guid": "",
       "height": "auto",
       "hideCommandCode": false,
       "hideCommandResult": false,
       "iPythonMetadata": null,
       "inputWidgets": {},
       "isLockedInExamMode": false,
       "latestUser": "a user",
       "latestUserId": null,
       "listResultMetadata": null,
       "metadata": {},
       "nuid": "1f64a125-6e46-4cec-a837-cb1bf031822f",
       "origId": 0,
       "parentHierarchy": [],
       "pivotAggregation": null,
       "pivotColumns": null,
       "position": 21,
       "resultDbfsErrorMessage": null,
       "resultDbfsStatus": "INLINED_IN_TREE",
       "results": null,
       "showCommandTitle": false,
       "startTime": 0,
       "state": "input",
       "streamStates": {},
       "subcommandOptions": {
        "queryPlan": {
         "groups": [
          {
           "column": "ln(timespan)_BIN",
           "type": "column"
          }
         ],
         "selects": [
          {
           "alias": "ln(timespan)_BIN",
           "args": [
            {
             "column": "ln(timespan)",
             "type": "column"
            },
            {
             "number": 10,
             "type": "number"
            }
           ],
           "function": "BIN",
           "type": "function"
          },
          {
           "alias": "ln(timespan)_BIN_LOWER_BOUND",
           "args": [
            {
             "column": "ln(timespan)",
             "type": "column"
            },
            {
             "number": 10,
             "type": "number"
            }
           ],
           "function": "BIN_LOWER_BOUND",
           "type": "function"
          },
          {
           "alias": "ln(timespan)_BIN_STEP",
           "args": [
            {
             "column": "ln(timespan)",
             "type": "column"
            },
            {
             "number": 10,
             "type": "number"
            }
           ],
           "function": "BIN_STEP",
           "type": "function"
          },
          {
           "alias": "COUNT",
           "args": [
            {
             "column": "ln(timespan)",
             "type": "column"
            }
           ],
           "function": "COUNT",
           "type": "function"
          }
         ]
        }
       },
       "submitTime": 0,
       "subtype": "tableResultSubCmd.visualization",
       "tableResultIndex": 0,
       "useConsistentColors": false,
       "version": "CommandV1",
       "width": "auto",
       "workflows": [],
       "xColumns": null,
       "yColumns": null
      }
     },
     "output_type": "display_data"
    }
   ],
   "source": [
    "display(users_with_timespan.select(F.log('timespan')))"
   ]
  },
  {
   "cell_type": "code",
   "execution_count": null,
   "metadata": {
    "application/vnd.databricks.v1+cell": {
     "cellMetadata": {},
     "inputWidgets": {},
     "nuid": "8cb81d21-519e-49f4-b5d7-8ae209913bbf",
     "showTitle": false,
     "title": ""
    }
   },
   "outputs": [],
   "source": []
  },
  {
   "cell_type": "markdown",
   "metadata": {
    "application/vnd.databricks.v1+cell": {
     "cellMetadata": {},
     "inputWidgets": {},
     "nuid": "8a64865e-f405-478e-a133-ce394cc43de9",
     "showTitle": false,
     "title": ""
    }
   },
   "source": [
    "10. Plot a QQ-Plot of log transformed `timespan`"
   ]
  },
  {
   "cell_type": "code",
   "execution_count": null,
   "metadata": {
    "application/vnd.databricks.v1+cell": {
     "cellMetadata": {
      "byteLimit": 2048000,
      "rowLimit": 10000
     },
     "inputWidgets": {},
     "nuid": "97dc1d35-00d6-4a24-8d9b-2cdbd76f9ecb",
     "showTitle": false,
     "title": ""
    }
   },
   "outputs": [
    {
     "data": {
      "text/html": [
       "<style scoped>\n",
       "  .table-result-container {\n",
       "    max-height: 300px;\n",
       "    overflow: auto;\n",
       "  }\n",
       "  table, th, td {\n",
       "    border: 1px solid black;\n",
       "    border-collapse: collapse;\n",
       "  }\n",
       "  th, td {\n",
       "    padding: 5px;\n",
       "  }\n",
       "  th {\n",
       "    text-align: left;\n",
       "  }\n",
       "</style><div class='table-result-container'><table class='table-result'><thead style='background-color: white'><tr><th>ln(timespan)</th></tr></thead><tbody><tr><td>7.534762657037537</td></tr><tr><td>7.494430215031565</td></tr><tr><td>7.534762657037537</td></tr><tr><td>7.316548177182976</td></tr><tr><td>7.531552381407289</td></tr></tbody></table></div>"
      ]
     },
     "metadata": {
      "application/vnd.databricks.v1+output": {
       "addedWidgets": {},
       "aggData": [],
       "aggError": "",
       "aggOverflow": false,
       "aggSchema": [],
       "aggSeriesLimitReached": false,
       "aggType": "",
       "arguments": {},
       "columnCustomDisplayInfos": {},
       "data": [
        [
         7.534762657037537
        ],
        [
         7.494430215031565
        ],
        [
         7.534762657037537
        ],
        [
         7.316548177182976
        ],
        [
         7.531552381407289
        ]
       ],
       "datasetInfos": [],
       "dbfsResultPath": null,
       "isJsonSchema": true,
       "metadata": {},
       "overflow": false,
       "plotOptions": {
        "customPlotOptions": {},
        "displayType": "table",
        "pivotAggregation": null,
        "pivotColumns": null,
        "xColumns": null,
        "yColumns": null
       },
       "removedWidgets": [],
       "schema": [
        {
         "metadata": "{}",
         "name": "ln(timespan)",
         "type": "\"double\""
        }
       ],
       "type": "table"
      }
     },
     "output_type": "display_data"
    }
   ],
   "source": [
    "display(users_with_timespan.select(F.log('timespan')))"
   ]
  },
  {
   "cell_type": "code",
   "execution_count": null,
   "metadata": {
    "application/vnd.databricks.v1+cell": {
     "cellMetadata": {},
     "inputWidgets": {},
     "nuid": "f5073715-c1d7-466c-8435-519293a8129e",
     "showTitle": false,
     "title": ""
    }
   },
   "outputs": [],
   "source": [
    "# Voir : https://fr.wikipedia.org/wiki/Diagramme_quantile-quantile\n"
   ]
  },
  {
   "cell_type": "markdown",
   "metadata": {
    "application/vnd.databricks.v1+cell": {
     "cellMetadata": {},
     "inputWidgets": {},
     "nuid": "c2fa0b25-6e96-4716-8fb3-929a96b573db",
     "showTitle": false,
     "title": ""
    }
   },
   "source": [
    "We'll filter out users who stayed for less than a day and plot an histogram of this filtered data.\n",
    "\n",
    "11. Plot a histogram of log transformed `timespan` of users who stayed more than one day"
   ]
  },
  {
   "cell_type": "code",
   "execution_count": null,
   "metadata": {
    "application/vnd.databricks.v1+cell": {
     "cellMetadata": {},
     "inputWidgets": {},
     "nuid": "bd414a0b-1930-461c-bd46-70e9def69b13",
     "showTitle": false,
     "title": ""
    }
   },
   "outputs": [],
   "source": [
    "display(users_with_timespan.where(F.col('timespan') != 0).select(F.log('timespan')))"
   ]
  },
  {
   "cell_type": "markdown",
   "metadata": {
    "application/vnd.databricks.v1+cell": {
     "cellMetadata": {},
     "inputWidgets": {},
     "nuid": "283fe093-e7c2-4031-a5a5-437a0869096f",
     "showTitle": false,
     "title": ""
    }
   },
   "source": [
    "### `isSingleDayUser`\n",
    "What percentage of users used the service for less than one day?"
   ]
  },
  {
   "cell_type": "markdown",
   "metadata": {
    "application/vnd.databricks.v1+cell": {
     "cellMetadata": {},
     "inputWidgets": {},
     "nuid": "1d08f703-3f57-48d7-87d8-fe5bb5f1c6c5",
     "showTitle": false,
     "title": ""
    }
   },
   "source": [
    "12. Compute the percentage of users who used the service for less than a day"
   ]
  },
  {
   "cell_type": "code",
   "execution_count": null,
   "metadata": {
    "application/vnd.databricks.v1+cell": {
     "cellMetadata": {},
     "inputWidgets": {},
     "nuid": "0d4e3e9f-96c1-40d4-85f5-82286fa2488d",
     "showTitle": false,
     "title": ""
    }
   },
   "outputs": [],
   "source": []
  },
  {
   "cell_type": "markdown",
   "metadata": {
    "application/vnd.databricks.v1+cell": {
     "cellMetadata": {},
     "inputWidgets": {},
     "nuid": "2c6807a6-3962-4a74-8d1b-76800c9f8bb9",
     "showTitle": false,
     "title": ""
    }
   },
   "source": [
    "Wow, that's a lot! We will flag this as its own column.  \n",
    "That means we will create a new Boolean column `isSingleDayUser` that is `True` if the user used the service for less than a day and `False` otherwise.\n",
    "\n",
    "13. Create a new column (isSingleDayUser) to flag if a user used the service for less than a day"
   ]
  },
  {
   "cell_type": "code",
   "execution_count": null,
   "metadata": {
    "application/vnd.databricks.v1+cell": {
     "cellMetadata": {},
     "inputWidgets": {},
     "nuid": "0fa5170a-9690-4b21-9c26-70ea4498f6ce",
     "showTitle": false,
     "title": ""
    }
   },
   "outputs": [],
   "source": []
  },
  {
   "cell_type": "markdown",
   "metadata": {
    "application/vnd.databricks.v1+cell": {
     "cellMetadata": {},
     "inputWidgets": {},
     "nuid": "e1e31eb7-cdd1-470b-a3db-039286706bf6",
     "showTitle": false,
     "title": ""
    }
   },
   "source": [
    "### Measure of activity: `activeDaysCount` and `meanPlaycountByActiveDay`\n",
    "This one is a bit harder, we want to compute:\n",
    "- the number of active days for each user (not the `timespan`)\n",
    "- the average play count on these active days for each user\n",
    "\n",
    "14. Create 2 new columns\n",
    "- activeDaysCount: the count of days each user was active\n",
    "- dailyAvgPlayCount: the daily average playcount per user (active days only)\n",
    "- activeDay"
   ]
  },
  {
   "cell_type": "code",
   "execution_count": null,
   "metadata": {
    "application/vnd.databricks.v1+cell": {
     "cellMetadata": {},
     "inputWidgets": {},
     "nuid": "514128b5-1ed1-408c-abea-7d7a9ac16700",
     "showTitle": false,
     "title": ""
    }
   },
   "outputs": [],
   "source": []
  },
  {
   "cell_type": "markdown",
   "metadata": {
    "application/vnd.databricks.v1+cell": {
     "cellMetadata": {},
     "inputWidgets": {},
     "nuid": "e601c2b9-4527-4bb5-ab77-fd023a276b03",
     "showTitle": false,
     "title": ""
    }
   },
   "source": [
    "15. Plot a histogram of log of `activeDaysCount`"
   ]
  },
  {
   "cell_type": "code",
   "execution_count": null,
   "metadata": {
    "application/vnd.databricks.v1+cell": {
     "cellMetadata": {},
     "inputWidgets": {},
     "nuid": "a712a033-1821-4208-afbe-28fcfeb74f31",
     "showTitle": false,
     "title": ""
    }
   },
   "outputs": [],
   "source": []
  },
  {
   "cell_type": "markdown",
   "metadata": {
    "application/vnd.databricks.v1+cell": {
     "cellMetadata": {},
     "inputWidgets": {},
     "nuid": "a04bfb10-0b9e-4a03-9c59-4ea26cf79035",
     "showTitle": false,
     "title": ""
    }
   },
   "source": [
    "16. Plot a histogram of log of `dailyAvgPlayCount`"
   ]
  },
  {
   "cell_type": "code",
   "execution_count": null,
   "metadata": {
    "application/vnd.databricks.v1+cell": {
     "cellMetadata": {},
     "inputWidgets": {},
     "nuid": "4419bb3c-510a-4461-b0b2-7063ac0558be",
     "showTitle": false,
     "title": ""
    }
   },
   "outputs": [],
   "source": []
  },
  {
   "cell_type": "markdown",
   "metadata": {
    "application/vnd.databricks.v1+cell": {
     "cellMetadata": {},
     "inputWidgets": {},
     "nuid": "343a68d5-6906-41ed-94b0-6a2133c7ca61",
     "showTitle": false,
     "title": ""
    }
   },
   "source": [
    "## Going further\n",
    "What else do you think would be interesting to compute?\n",
    "What about the ratio of activity, e.g. the ratio between `timespan` and `activeDaysCount`?"
   ]
  }
 ],
 "metadata": {
  "application/vnd.databricks.v1+notebook": {
   "dashboards": [],
   "language": "python",
   "notebookMetadata": {
    "pythonIndentUnit": 2
   },
   "notebookName": "J04_lundi_midi_users_analysis",
   "widgets": {}
  },
  "kernelspec": {
   "display_name": "Python 3",
   "language": "python",
   "name": "python3"
  },
  "language_info": {
   "codemirror_mode": {
    "name": "ipython",
    "version": 3
   },
   "file_extension": ".py",
   "mimetype": "text/x-python",
   "name": "python",
   "nbconvert_exporter": "python",
   "pygments_lexer": "ipython3",
   "version": "3.8.5"
  },
  "name": "03-Users_analysis",
  "notebookId": 1829803932831159
 },
 "nbformat": 4,
 "nbformat_minor": 0
}
