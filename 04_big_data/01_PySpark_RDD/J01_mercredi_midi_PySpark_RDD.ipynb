{
 "cells": [
  {
   "cell_type": "markdown",
   "metadata": {
    "application/vnd.databricks.v1+cell": {
     "cellMetadata": {
      "byteLimit": 2048000,
      "rowLimit": 10000
     },
     "inputWidgets": {},
     "nuid": "7877e55c-13cc-4502-975c-15a838cb1f13",
     "showTitle": false,
     "title": ""
    }
   },
   "source": [
    "# First steps with PySpark"
   ]
  },
  {
   "cell_type": "markdown",
   "metadata": {
    "application/vnd.databricks.v1+cell": {
     "cellMetadata": {
      "byteLimit": 2048000,
      "rowLimit": 10000
     },
     "inputWidgets": {},
     "nuid": "3a6a8e64-96de-4097-aa7b-cb1b8e0ca40c",
     "showTitle": false,
     "title": ""
    }
   },
   "source": [
    "## Learning objectives\n",
    "\n",
    "- Get familiar with PySpark RDDs\n",
    "- Become imbued with the concept of lazyness"
   ]
  },
  {
   "cell_type": "markdown",
   "metadata": {
    "application/vnd.databricks.v1+cell": {
     "cellMetadata": {
      "byteLimit": 2048000,
      "rowLimit": 10000
     },
     "inputWidgets": {},
     "nuid": "4edbf173-1d53-4bcf-a75f-0231273ce55e",
     "showTitle": false,
     "title": ""
    }
   },
   "source": [
    "Let's start by loading the file from it's URI: `s3://full-stack-bigdata-datasets/Big_Data/tears_in_rain.txt`"
   ]
  },
  {
   "cell_type": "code",
   "execution_count": null,
   "metadata": {
    "application/vnd.databricks.v1+cell": {
     "cellMetadata": {
      "byteLimit": 2048000,
      "rowLimit": 10000
     },
     "inputWidgets": {},
     "nuid": "ca328d46-7d4b-4714-a929-89efc0f949f5",
     "showTitle": false,
     "title": ""
    }
   },
   "outputs": [],
   "source": [
    "# spark\n",
    "# sc = spark.sparkContext\n",
    "\n",
    "text_rdd = sc.textFile('s3://full-stack-bigdata-datasets/Big_Data/tears_in_rain.txt')"
   ]
  },
  {
   "cell_type": "markdown",
   "metadata": {
    "application/vnd.databricks.v1+cell": {
     "cellMetadata": {
      "byteLimit": 2048000,
      "rowLimit": 10000
     },
     "inputWidgets": {},
     "nuid": "4dee91ef-54c0-4313-a787-575ded834a3f",
     "showTitle": false,
     "title": ""
    }
   },
   "source": [
    "Print out the first line to make sure everything went well."
   ]
  },
  {
   "cell_type": "code",
   "execution_count": null,
   "metadata": {
    "application/vnd.databricks.v1+cell": {
     "cellMetadata": {
      "byteLimit": 2048000,
      "rowLimit": 10000
     },
     "inputWidgets": {},
     "nuid": "51b69984-47cb-477c-80e5-3d61d610043a",
     "showTitle": false,
     "title": ""
    }
   },
   "outputs": [
    {
     "name": "stdout",
     "output_type": "stream",
     "text": [
      "Out[2]: [\"I've seen things you people wouldn't believe. \"]"
     ]
    }
   ],
   "source": [
    "text_rdd.take(1)"
   ]
  },
  {
   "cell_type": "markdown",
   "metadata": {
    "application/vnd.databricks.v1+cell": {
     "cellMetadata": {
      "byteLimit": 2048000,
      "rowLimit": 10000
     },
     "inputWidgets": {},
     "nuid": "e1d48d5e-4042-4894-89c2-0f8d9e75892b",
     "showTitle": false,
     "title": ""
    }
   },
   "source": [
    "Good you remember how to load a file from a URI, however, most of the time you will need to access files from distributed files systems, like amazon S3, here we will show you how you can access the file from an S3 bucket using specific credentials."
   ]
  },
  {
   "cell_type": "code",
   "execution_count": null,
   "metadata": {
    "application/vnd.databricks.v1+cell": {
     "cellMetadata": {
      "byteLimit": 2048000,
      "rowLimit": 10000
     },
     "inputWidgets": {},
     "nuid": "3aceeb3a-b326-4e77-8c16-c5c15c37debc",
     "showTitle": false,
     "title": ""
    }
   },
   "outputs": [
    {
     "name": "stdout",
     "output_type": "stream",
     "text": [
      "Out[3]: [\"I've seen things you people wouldn't believe. \"]"
     ]
    }
   ],
   "source": [
    "# When you try to load a non public file you will get an error\n",
    "\n",
    "text_rdd_1 = sc.textFile(\"s3://full-stack-bigdata-datasets/Big_Data/tears_in_rain_not_public.txt\")\n",
    "text_rdd_1.take(1)\n",
    "\n",
    "# Note that you will only get the error after trying to perform an action, that's only then that you are trying to access the data."
   ]
  },
  {
   "cell_type": "code",
   "execution_count": null,
   "metadata": {
    "application/vnd.databricks.v1+cell": {
     "cellMetadata": {
      "byteLimit": 2048000,
      "rowLimit": 10000
     },
     "inputWidgets": {},
     "nuid": "42e1ec8b-4129-4cbd-a9cb-c9a69cb66a24",
     "showTitle": false,
     "title": ""
    }
   },
   "outputs": [],
   "source": [
    "# Let's set up everything to easily load the file\n",
    "\n",
    "FILENAME = 's3://full-stack-bigdata-datasets/Big_Data/tears_in_rain_not_public.txt'\n",
    "\n",
    "# ACCESS_KEY_ID = \"your access key ID\" # jedha student account access key\n",
    "# SECRET_ACCESS_KEY = \"your secret access key\" # student account secret key\n",
    "\n",
    "# hadoop_conf = spark._jsc.hadoopConfiguration() # this will set the Spark framework to interact with your S3 DFS\n",
    "# hadoop_conf.set(\"fs.s3a.access.key\", ACCESS_KEY_ID)\n",
    "# hadoop_conf.set(\"fs.s3a.secret.key\", SECRET_ACCESS_KEY)\n",
    "# hadoop_conf.set(\"fs.s3a.impl\",\"org.apache.hadoop.fs.s3a.S3AFileSystem\")"
   ]
  },
  {
   "cell_type": "markdown",
   "metadata": {
    "application/vnd.databricks.v1+cell": {
     "cellMetadata": {
      "byteLimit": 2048000,
      "rowLimit": 10000
     },
     "inputWidgets": {},
     "nuid": "5ecc6b15-91f7-4c1e-803e-9961778e9ee5",
     "showTitle": false,
     "title": ""
    }
   },
   "source": [
    "1. Load the file from `filepath` into a PySpark RDD into a `text_file` variable."
   ]
  },
  {
   "cell_type": "code",
   "execution_count": null,
   "metadata": {
    "application/vnd.databricks.v1+cell": {
     "cellMetadata": {
      "byteLimit": 2048000,
      "rowLimit": 10000
     },
     "inputWidgets": {},
     "nuid": "8ec58bdb-6d1a-4721-b137-466ff03a2c28",
     "showTitle": false,
     "title": ""
    }
   },
   "outputs": [],
   "source": [
    "text_file = sc.textFile(FILENAME)\n",
    "# text_file = sc.textFile(\"s3://full-stack-bigdata-datasets/Big_Data/tears_in_rain_not_public.txt\")"
   ]
  },
  {
   "cell_type": "markdown",
   "metadata": {
    "application/vnd.databricks.v1+cell": {
     "cellMetadata": {
      "byteLimit": 2048000,
      "rowLimit": 10000
     },
     "inputWidgets": {},
     "nuid": "775b4bda-659f-4661-878e-d16d5a9ce61a",
     "showTitle": false,
     "title": ""
    }
   },
   "source": [
    "2. Print out `text_file`."
   ]
  },
  {
   "cell_type": "code",
   "execution_count": null,
   "metadata": {
    "application/vnd.databricks.v1+cell": {
     "cellMetadata": {
      "byteLimit": 2048000,
      "rowLimit": 10000
     },
     "inputWidgets": {},
     "nuid": "fc11187b-5b3c-485f-93f3-acf9f9cd1500",
     "showTitle": false,
     "title": ""
    }
   },
   "outputs": [
    {
     "name": "stdout",
     "output_type": "stream",
     "text": [
      "Out[6]: [\"I've seen things you people wouldn't believe. \"]"
     ]
    }
   ],
   "source": [
    "text_file.take(1)"
   ]
  },
  {
   "cell_type": "markdown",
   "metadata": {
    "application/vnd.databricks.v1+cell": {
     "cellMetadata": {
      "byteLimit": 2048000,
      "rowLimit": 10000
     },
     "inputWidgets": {},
     "nuid": "baded0c8-c4f1-4dba-b64d-4c936fd2a82d",
     "showTitle": false,
     "title": ""
    }
   },
   "source": [
    "3. That doesn't tell us much, what would you do to see the first 3 elements of this RDD? Print out the first 3 elements of the `text_file`."
   ]
  },
  {
   "cell_type": "code",
   "execution_count": null,
   "metadata": {
    "application/vnd.databricks.v1+cell": {
     "cellMetadata": {
      "byteLimit": 2048000,
      "rowLimit": 10000
     },
     "inputWidgets": {},
     "nuid": "0f9eea5a-284d-431e-ac2b-961f05892c67",
     "showTitle": false,
     "title": ""
    }
   },
   "outputs": [
    {
     "name": "stdout",
     "output_type": "stream",
     "text": [
      "Out[7]: [\"I've seen things you people wouldn't believe. \",\n",
      " 'Attack ships on fire off the shoulder of Orion. ',\n",
      " 'I watched C-beams glitter in the dark near the Tannhäuser Gate. ']"
     ]
    }
   ],
   "source": [
    "text_file.take(3)"
   ]
  },
  {
   "cell_type": "markdown",
   "metadata": {
    "application/vnd.databricks.v1+cell": {
     "cellMetadata": {
      "byteLimit": 2048000,
      "rowLimit": 10000
     },
     "inputWidgets": {},
     "nuid": "92efdd37-6d8c-40e6-884d-038a75216ca5",
     "showTitle": false,
     "title": ""
    }
   },
   "source": [
    "4. What's the type of `text_file`?"
   ]
  },
  {
   "cell_type": "code",
   "execution_count": null,
   "metadata": {
    "application/vnd.databricks.v1+cell": {
     "cellMetadata": {
      "byteLimit": 2048000,
      "rowLimit": 10000
     },
     "inputWidgets": {},
     "nuid": "7bd6b0e2-b603-4fef-ac82-9f12ddb664f7",
     "showTitle": false,
     "title": ""
    }
   },
   "outputs": [
    {
     "name": "stdout",
     "output_type": "stream",
     "text": [
      "Out[8]: pyspark.rdd.RDD"
     ]
    }
   ],
   "source": [
    "type(text_file)"
   ]
  },
  {
   "cell_type": "markdown",
   "metadata": {
    "application/vnd.databricks.v1+cell": {
     "cellMetadata": {
      "byteLimit": 2048000,
      "rowLimit": 10000
     },
     "inputWidgets": {},
     "nuid": "05537fe5-2ce9-4738-866e-9c69d957bc12",
     "showTitle": false,
     "title": ""
    }
   },
   "source": [
    "It's a PySpark `RDD`. It means we can call **actions** on it and it will return a result.\n",
    "\n",
    "We want the results to be all elements of the `rdd`."
   ]
  },
  {
   "cell_type": "markdown",
   "metadata": {
    "application/vnd.databricks.v1+cell": {
     "cellMetadata": {
      "byteLimit": 2048000,
      "rowLimit": 10000
     },
     "inputWidgets": {},
     "nuid": "96ff932f-62b1-4f89-8a40-63aedeefeb78",
     "showTitle": false,
     "title": ""
    }
   },
   "source": [
    "5. collect all elements of `text_file`."
   ]
  },
  {
   "cell_type": "code",
   "execution_count": null,
   "metadata": {
    "application/vnd.databricks.v1+cell": {
     "cellMetadata": {
      "byteLimit": 2048000,
      "rowLimit": 10000
     },
     "inputWidgets": {},
     "nuid": "1e9900eb-7445-4023-ae4c-08a8f4fe3ae0",
     "showTitle": false,
     "title": ""
    }
   },
   "outputs": [
    {
     "name": "stdout",
     "output_type": "stream",
     "text": [
      "Out[9]: [\"I've seen things you people wouldn't believe. \",\n",
      " 'Attack ships on fire off the shoulder of Orion. ',\n",
      " 'I watched C-beams glitter in the dark near the Tannhäuser Gate. ',\n",
      " 'All those moments will be lost in time, like tears in rain. ',\n",
      " 'Time to die.']"
     ]
    }
   ],
   "source": [
    "text_file.collect()"
   ]
  },
  {
   "cell_type": "markdown",
   "metadata": {
    "application/vnd.databricks.v1+cell": {
     "cellMetadata": {
      "byteLimit": 2048000,
      "rowLimit": 10000
     },
     "inputWidgets": {},
     "nuid": "6fae9f22-2262-41d6-b897-a8ffff58ad50",
     "showTitle": false,
     "title": ""
    }
   },
   "source": [
    "6. How many lines are there in `text_file`? Count the number of lines in `text_file`."
   ]
  },
  {
   "cell_type": "code",
   "execution_count": null,
   "metadata": {
    "application/vnd.databricks.v1+cell": {
     "cellMetadata": {
      "byteLimit": 2048000,
      "rowLimit": 10000
     },
     "inputWidgets": {},
     "nuid": "29820e71-848e-484d-9bbe-5175cf6061e2",
     "showTitle": false,
     "title": ""
    }
   },
   "outputs": [
    {
     "name": "stdout",
     "output_type": "stream",
     "text": [
      "Nb de lignes = 5 \n"
     ]
    }
   ],
   "source": [
    "print(f\"Nb de lignes = {text_file.count()} \")"
   ]
  },
  {
   "cell_type": "markdown",
   "metadata": {
    "application/vnd.databricks.v1+cell": {
     "cellMetadata": {
      "byteLimit": 2048000,
      "rowLimit": 10000
     },
     "inputWidgets": {},
     "nuid": "f6b0f906-5172-4f33-b66d-dc824fe8bf6e",
     "showTitle": false,
     "title": ""
    }
   },
   "source": [
    "7. What's the length of each sentence? Call `.map(...)` on your rdd and give it a function that computes the lenght of a string: `lineLengths`\n",
    "\n",
    "*NOTE: `lineLengths` is how you should name your result variable*"
   ]
  },
  {
   "cell_type": "code",
   "execution_count": null,
   "metadata": {
    "application/vnd.databricks.v1+cell": {
     "cellMetadata": {
      "byteLimit": 2048000,
      "rowLimit": 10000
     },
     "inputWidgets": {},
     "nuid": "8bf5724c-ca0b-4e77-95f5-dadaa5cb6454",
     "showTitle": false,
     "title": ""
    }
   },
   "outputs": [],
   "source": [
    "# lineLengths = text_file.map(lambda s: len(s))\n",
    "lineLengths = text_file.map(len)"
   ]
  },
  {
   "cell_type": "markdown",
   "metadata": {
    "application/vnd.databricks.v1+cell": {
     "cellMetadata": {
      "byteLimit": 2048000,
      "rowLimit": 10000
     },
     "inputWidgets": {},
     "nuid": "d7ecda21-4d64-4ae1-94c5-09aa3a9d0245",
     "showTitle": false,
     "title": ""
    }
   },
   "source": [
    "8. Take the first 3 elements of lineLengths"
   ]
  },
  {
   "cell_type": "code",
   "execution_count": null,
   "metadata": {
    "application/vnd.databricks.v1+cell": {
     "cellMetadata": {
      "byteLimit": 2048000,
      "rowLimit": 10000
     },
     "inputWidgets": {},
     "nuid": "0ec7aa70-6332-407f-82cf-b874ca5a92c0",
     "showTitle": false,
     "title": ""
    }
   },
   "outputs": [
    {
     "name": "stdout",
     "output_type": "stream",
     "text": [
      "Out[20]: [46, 48, 64]"
     ]
    }
   ],
   "source": [
    "lineLengths.take(3)"
   ]
  },
  {
   "cell_type": "markdown",
   "metadata": {
    "application/vnd.databricks.v1+cell": {
     "cellMetadata": {
      "byteLimit": 2048000,
      "rowLimit": 10000
     },
     "inputWidgets": {},
     "nuid": "8fd4b2a6-6677-4c15-9c66-f2a084e29cf5",
     "showTitle": false,
     "title": ""
    }
   },
   "source": [
    "9. Collect all elements of lineLenghts"
   ]
  },
  {
   "cell_type": "code",
   "execution_count": null,
   "metadata": {
    "application/vnd.databricks.v1+cell": {
     "cellMetadata": {
      "byteLimit": 2048000,
      "rowLimit": 10000
     },
     "inputWidgets": {},
     "nuid": "e2427bd5-0e55-4229-8064-cb4cb11b5f3f",
     "showTitle": false,
     "title": ""
    }
   },
   "outputs": [
    {
     "name": "stdout",
     "output_type": "stream",
     "text": [
      "Out[21]: [46, 48, 64, 60, 12]"
     ]
    }
   ],
   "source": [
    "lineLengths.collect()"
   ]
  },
  {
   "cell_type": "markdown",
   "metadata": {
    "application/vnd.databricks.v1+cell": {
     "cellMetadata": {
      "byteLimit": 2048000,
      "rowLimit": 10000
     },
     "inputWidgets": {},
     "nuid": "b95695ec-05de-43e0-9032-44b796226afc",
     "showTitle": false,
     "title": ""
    }
   },
   "source": [
    "10. What's the average length? Compute the average value of `lineLengths`: `avgLength`"
   ]
  },
  {
   "cell_type": "code",
   "execution_count": null,
   "metadata": {
    "application/vnd.databricks.v1+cell": {
     "cellMetadata": {
      "byteLimit": 2048000,
      "rowLimit": 10000
     },
     "inputWidgets": {},
     "nuid": "4afefb48-74fc-40ae-a52f-61bda8923325",
     "showTitle": false,
     "title": ""
    }
   },
   "outputs": [],
   "source": [
    "avgLength = lineLengths.mean()"
   ]
  },
  {
   "cell_type": "markdown",
   "metadata": {
    "application/vnd.databricks.v1+cell": {
     "cellMetadata": {
      "byteLimit": 2048000,
      "rowLimit": 10000
     },
     "inputWidgets": {},
     "nuid": "ebc6ba26-628f-4408-98f4-e881a3735a81",
     "showTitle": false,
     "title": ""
    }
   },
   "source": [
    "11. What's the type of `avgLength`? Print it out."
   ]
  },
  {
   "cell_type": "code",
   "execution_count": null,
   "metadata": {
    "application/vnd.databricks.v1+cell": {
     "cellMetadata": {
      "byteLimit": 2048000,
      "rowLimit": 10000
     },
     "inputWidgets": {},
     "nuid": "b07832a2-7738-4961-bf5e-8252f435e395",
     "showTitle": false,
     "title": ""
    }
   },
   "outputs": [
    {
     "name": "stdout",
     "output_type": "stream",
     "text": [
      "Out[23]: float"
     ]
    }
   ],
   "source": [
    "type(avgLength)"
   ]
  },
  {
   "cell_type": "markdown",
   "metadata": {
    "application/vnd.databricks.v1+cell": {
     "cellMetadata": {
      "byteLimit": 2048000,
      "rowLimit": 10000
     },
     "inputWidgets": {},
     "nuid": "e1373b20-eee7-4b6d-9b4d-81be6fa62429",
     "showTitle": false,
     "title": ""
    }
   },
   "source": [
    "12. Print out `avgLength`"
   ]
  },
  {
   "cell_type": "code",
   "execution_count": null,
   "metadata": {
    "application/vnd.databricks.v1+cell": {
     "cellMetadata": {
      "byteLimit": 2048000,
      "rowLimit": 10000
     },
     "inputWidgets": {},
     "nuid": "488a9d40-f4ee-4700-a763-a61aa364eca1",
     "showTitle": false,
     "title": ""
    }
   },
   "outputs": [
    {
     "name": "stdout",
     "output_type": "stream",
     "text": [
      "Long moyenne des chaines : 46.0\n"
     ]
    }
   ],
   "source": [
    "print(f\"Long moyenne des chaines : {avgLength}\")"
   ]
  },
  {
   "cell_type": "markdown",
   "metadata": {
    "application/vnd.databricks.v1+cell": {
     "cellMetadata": {
      "byteLimit": 2048000,
      "rowLimit": 10000
     },
     "inputWidgets": {},
     "nuid": "0b2cb83f-7d5e-485d-b701-cacde5aa8b05",
     "showTitle": false,
     "title": ""
    }
   },
   "source": [
    "13. Now we want to compute the total length of the document. Compute the sum of all `lineLengths`: `totalLength`"
   ]
  },
  {
   "cell_type": "code",
   "execution_count": null,
   "metadata": {
    "application/vnd.databricks.v1+cell": {
     "cellMetadata": {
      "byteLimit": 2048000,
      "rowLimit": 10000
     },
     "inputWidgets": {},
     "nuid": "cd64a20c-9568-4cf6-8505-afb4102413c1",
     "showTitle": false,
     "title": ""
    }
   },
   "outputs": [],
   "source": [
    "totalLength = lineLengths.sum()"
   ]
  },
  {
   "cell_type": "markdown",
   "metadata": {
    "application/vnd.databricks.v1+cell": {
     "cellMetadata": {
      "byteLimit": 2048000,
      "rowLimit": 10000
     },
     "inputWidgets": {},
     "nuid": "5ab58dc8-b81f-4164-b6fb-0a9e5847677f",
     "showTitle": false,
     "title": ""
    }
   },
   "source": [
    "14. What's the type of `totalLength`"
   ]
  },
  {
   "cell_type": "code",
   "execution_count": null,
   "metadata": {
    "application/vnd.databricks.v1+cell": {
     "cellMetadata": {
      "byteLimit": 2048000,
      "rowLimit": 10000
     },
     "inputWidgets": {},
     "nuid": "d750d4d5-0771-4f6c-9d6a-67665dd2c826",
     "showTitle": false,
     "title": ""
    }
   },
   "outputs": [
    {
     "name": "stdout",
     "output_type": "stream",
     "text": [
      "Out[27]: int"
     ]
    }
   ],
   "source": [
    "type(totalLength)"
   ]
  },
  {
   "cell_type": "markdown",
   "metadata": {
    "application/vnd.databricks.v1+cell": {
     "cellMetadata": {
      "byteLimit": 2048000,
      "rowLimit": 10000
     },
     "inputWidgets": {},
     "nuid": "77897c0f-1b12-476a-8b20-34008b176638",
     "showTitle": false,
     "title": ""
    }
   },
   "source": [
    "15. Print out `totalLength`"
   ]
  },
  {
   "cell_type": "code",
   "execution_count": null,
   "metadata": {
    "application/vnd.databricks.v1+cell": {
     "cellMetadata": {
      "byteLimit": 2048000,
      "rowLimit": 10000
     },
     "inputWidgets": {},
     "nuid": "b0f4e7d5-7731-450b-b521-b59bd677a0ea",
     "showTitle": false,
     "title": ""
    }
   },
   "outputs": [
    {
     "name": "stdout",
     "output_type": "stream",
     "text": [
      "Long totale du texte : 230\n"
     ]
    }
   ],
   "source": [
    "print(f\"Long totale du texte : {totalLength}\")"
   ]
  },
  {
   "cell_type": "markdown",
   "metadata": {
    "application/vnd.databricks.v1+cell": {
     "cellMetadata": {
      "byteLimit": 2048000,
      "rowLimit": 10000
     },
     "inputWidgets": {},
     "nuid": "095ee3c0-7f49-47f9-9bfe-d99649806b25",
     "showTitle": false,
     "title": ""
    }
   },
   "source": [
    "## Bonus: another way to compute the sum would be to use a `reducer`\n",
    "This is a step exercise to get you prepare for the next (optional) assignment.\n",
    "\n",
    "Your goal is to compute the sum of lineLenghts, just like we did, but this time using `.reduce(...)`.  \n",
    "Here is the link to the [documentation](https://spark.apache.org/docs/latest/rdd-programming-guide.html#actions)."
   ]
  },
  {
   "cell_type": "markdown",
   "metadata": {
    "application/vnd.databricks.v1+cell": {
     "cellMetadata": {
      "byteLimit": 2048000,
      "rowLimit": 10000
     },
     "inputWidgets": {},
     "nuid": "da07e111-25c1-41fc-9527-316b7beb7220",
     "showTitle": false,
     "title": ""
    }
   },
   "source": [
    "16. Try to compute the total sum, but this time using `.reduce(...)`"
   ]
  },
  {
   "cell_type": "code",
   "execution_count": null,
   "metadata": {
    "application/vnd.databricks.v1+cell": {
     "cellMetadata": {
      "byteLimit": 2048000,
      "rowLimit": 10000
     },
     "inputWidgets": {},
     "nuid": "f5a37451-a781-44a5-8589-98026a090033",
     "showTitle": false,
     "title": ""
    }
   },
   "outputs": [],
   "source": [
    "totalLength2 = text_file                    \\\n",
    "                .map(len)                   \\\n",
    "                .reduce(lambda a, b: a + b)  "
   ]
  },
  {
   "cell_type": "code",
   "execution_count": null,
   "metadata": {
    "application/vnd.databricks.v1+cell": {
     "cellMetadata": {
      "byteLimit": 2048000,
      "rowLimit": 10000
     },
     "inputWidgets": {},
     "nuid": "58c850b6-d3c3-45f4-a1ee-ec659a65722b",
     "showTitle": false,
     "title": ""
    }
   },
   "outputs": [
    {
     "name": "stdout",
     "output_type": "stream",
     "text": [
      "Long totale du texte : 230\n"
     ]
    }
   ],
   "source": [
    "print(f\"Long totale du texte : {totalLength2}\")"
   ]
  },
  {
   "cell_type": "code",
   "execution_count": null,
   "metadata": {
    "application/vnd.databricks.v1+cell": {
     "cellMetadata": {},
     "inputWidgets": {},
     "nuid": "6a8805ec-257e-4c54-b79e-38e79cbce3fc",
     "showTitle": false,
     "title": ""
    }
   },
   "outputs": [],
   "source": []
  }
 ],
 "metadata": {
  "application/vnd.databricks.v1+notebook": {
   "dashboards": [],
   "language": "python",
   "notebookMetadata": {
    "pythonIndentUnit": 2
   },
   "notebookName": "J01_mercredi_midi_PySpark_RDD",
   "widgets": {}
  },
  "kernelspec": {
   "display_name": "Python 3.9.12 ('tf': conda)",
   "language": "python",
   "name": "python3"
  },
  "language_info": {
   "codemirror_mode": {
    "name": "ipython",
    "version": 3
   },
   "file_extension": ".py",
   "mimetype": "text/x-python",
   "name": "python",
   "nbconvert_exporter": "python",
   "pygments_lexer": "ipython3",
   "version": "3.9.12"
  },
  "vscode": {
   "interpreter": {
    "hash": "fbc4d3870518eee81184ced0d2279c769a0eca59aab465c4e7ec13e5e6c47a3e"
   }
  }
 },
 "nbformat": 4,
 "nbformat_minor": 0
}
