{
 "cells": [
  {
   "cell_type": "markdown",
   "metadata": {
    "application/vnd.databricks.v1+cell": {
     "inputWidgets": {},
     "nuid": "95994017-91ad-4d2b-9f03-1428f19f5f40",
     "showTitle": false,
     "title": ""
    }
   },
   "source": [
    "# Redshift's ingestion"
   ]
  },
  {
   "cell_type": "markdown",
   "metadata": {
    "application/vnd.databricks.v1+cell": {
     "inputWidgets": {},
     "nuid": "fc825c77-19fb-4013-b5a6-6439c64e5848",
     "showTitle": false,
     "title": ""
    }
   },
   "source": [
    "## Loading our data from S3"
   ]
  },
  {
   "cell_type": "code",
   "execution_count": null,
   "metadata": {
    "application/vnd.databricks.v1+cell": {
     "inputWidgets": {},
     "nuid": "4ca4d3ee-29b6-4eda-81a0-7ea09fb79d99",
     "showTitle": false,
     "title": ""
    }
   },
   "outputs": [
    {
     "data": {
      "text/html": [
       "<style scoped>\n",
       "  .ansiout {\n",
       "    display: block;\n",
       "    unicode-bidi: embed;\n",
       "    white-space: pre-wrap;\n",
       "    word-wrap: break-word;\n",
       "    word-break: break-all;\n",
       "    font-family: \"Source Code Pro\", \"Menlo\", monospace;;\n",
       "    font-size: 13px;\n",
       "    color: #555;\n",
       "    margin-left: 4px;\n",
       "    line-height: 19px;\n",
       "  }\n",
       "</style>\n",
       "<div class=\"ansiout\"></div>"
      ]
     },
     "metadata": {
      "application/vnd.databricks.v1+output": {
       "addedWidgets": {},
       "arguments": {},
       "data": "<div class=\"ansiout\"></div>",
       "datasetInfos": [],
       "removedWidgets": [],
       "type": "html"
      }
     },
     "output_type": "display_data"
    }
   ],
   "source": [
    "INPUT_FILENAME = 's3://full-stack-bigdata-datasets/Big_Data/YOUTUBE/items_tidy.parquet'"
   ]
  },
  {
   "cell_type": "code",
   "execution_count": null,
   "metadata": {
    "application/vnd.databricks.v1+cell": {
     "inputWidgets": {},
     "nuid": "683bc74e-9bd9-453e-8f6a-4e252de0de78",
     "showTitle": false,
     "title": ""
    }
   },
   "outputs": [
    {
     "data": {
      "text/html": [
       "<style scoped>\n",
       "  .ansiout {\n",
       "    display: block;\n",
       "    unicode-bidi: embed;\n",
       "    white-space: pre-wrap;\n",
       "    word-wrap: break-word;\n",
       "    word-break: break-all;\n",
       "    font-family: \"Source Code Pro\", \"Menlo\", monospace;;\n",
       "    font-size: 13px;\n",
       "    color: #555;\n",
       "    margin-left: 4px;\n",
       "    line-height: 19px;\n",
       "  }\n",
       "</style>\n",
       "<div class=\"ansiout\">Out[8]: 3907</div>"
      ]
     },
     "metadata": {
      "application/vnd.databricks.v1+output": {
       "addedWidgets": {},
       "arguments": {},
       "data": "<div class=\"ansiout\">Out[8]: 3907</div>",
       "datasetInfos": [],
       "removedWidgets": [],
       "type": "html"
      }
     },
     "output_type": "display_data"
    }
   ],
   "source": [
    "df = spark.read.parquet(INPUT_FILENAME)\n",
    "df.count()"
   ]
  },
  {
   "cell_type": "markdown",
   "metadata": {},
   "source": [
    "1. Print out our DataFrame's schema"
   ]
  },
  {
   "cell_type": "code",
   "execution_count": null,
   "metadata": {
    "application/vnd.databricks.v1+cell": {
     "inputWidgets": {},
     "nuid": "8c561d1f-b27a-4cb5-a058-ff031c98e5e6",
     "showTitle": false,
     "title": ""
    }
   },
   "outputs": [
    {
     "data": {
      "text/html": [
       "<style scoped>\n",
       "  .ansiout {\n",
       "    display: block;\n",
       "    unicode-bidi: embed;\n",
       "    white-space: pre-wrap;\n",
       "    word-wrap: break-word;\n",
       "    word-break: break-all;\n",
       "    font-family: \"Source Code Pro\", \"Menlo\", monospace;;\n",
       "    font-size: 13px;\n",
       "    color: #555;\n",
       "    margin-left: 4px;\n",
       "    line-height: 19px;\n",
       "  }\n",
       "</style>\n",
       "<div class=\"ansiout\">root\n",
       "-- items.contentDetails.caption: string (nullable = true)\n",
       "-- items.contentDetails.contentRating.ytRating: string (nullable = true)\n",
       "-- items.contentDetails.definition: string (nullable = true)\n",
       "-- items.contentDetails.dimension: string (nullable = true)\n",
       "-- items.contentDetails.duration: string (nullable = true)\n",
       "-- items.contentDetails.licensedContent: boolean (nullable = true)\n",
       "-- items.contentDetails.projection: string (nullable = true)\n",
       "-- items.etag: string (nullable = true)\n",
       "-- items.id: string (nullable = true)\n",
       "-- items.kind: string (nullable = true)\n",
       "-- items.snippet.categoryId: string (nullable = true)\n",
       "-- items.snippet.channelId: string (nullable = true)\n",
       "-- items.snippet.channelTitle: string (nullable = true)\n",
       "-- items.snippet.defaultAudioLanguage: string (nullable = true)\n",
       "-- items.snippet.defaultLanguage: string (nullable = true)\n",
       "-- items.snippet.description: string (nullable = true)\n",
       "-- items.snippet.liveBroadcastContent: string (nullable = true)\n",
       "-- items.snippet.localized.description: string (nullable = true)\n",
       "-- items.snippet.localized.title: string (nullable = true)\n",
       "-- items.snippet.publishedAt: string (nullable = true)\n",
       "-- items.snippet.thumbnails.default.height: long (nullable = true)\n",
       "-- items.snippet.thumbnails.default.url: string (nullable = true)\n",
       "-- items.snippet.thumbnails.default.width: long (nullable = true)\n",
       "-- items.snippet.thumbnails.high.height: long (nullable = true)\n",
       "-- items.snippet.thumbnails.high.url: string (nullable = true)\n",
       "-- items.snippet.thumbnails.high.width: long (nullable = true)\n",
       "-- items.snippet.thumbnails.maxres.height: long (nullable = true)\n",
       "-- items.snippet.thumbnails.maxres.url: string (nullable = true)\n",
       "-- items.snippet.thumbnails.maxres.width: long (nullable = true)\n",
       "-- items.snippet.thumbnails.medium.height: long (nullable = true)\n",
       "-- items.snippet.thumbnails.medium.url: string (nullable = true)\n",
       "-- items.snippet.thumbnails.medium.width: long (nullable = true)\n",
       "-- items.snippet.thumbnails.standard.height: long (nullable = true)\n",
       "-- items.snippet.thumbnails.standard.url: string (nullable = true)\n",
       "-- items.snippet.thumbnails.standard.width: long (nullable = true)\n",
       "-- items.snippet.title: string (nullable = true)\n",
       "-- items.statistics.commentCount: string (nullable = true)\n",
       "-- items.statistics.dislikeCount: string (nullable = true)\n",
       "-- items.statistics.favoriteCount: string (nullable = true)\n",
       "-- items.statistics.likeCount: string (nullable = true)\n",
       "-- items.statistics.viewCount: string (nullable = true)\n",
       "-- items.status.embeddable: boolean (nullable = true)\n",
       "-- items.status.license: string (nullable = true)\n",
       "-- items.status.madeForKids: boolean (nullable = true)\n",
       "-- items.status.privacyStatus: string (nullable = true)\n",
       "-- items.status.publicStatsViewable: boolean (nullable = true)\n",
       "-- items.status.uploadStatus: string (nullable = true)\n",
       "\n",
       "</div>"
      ]
     },
     "metadata": {
      "application/vnd.databricks.v1+output": {
       "addedWidgets": {},
       "arguments": {},
       "data": "<div class=\"ansiout\">root\n |-- items.contentDetails.caption: string (nullable = true)\n |-- items.contentDetails.contentRating.ytRating: string (nullable = true)\n |-- items.contentDetails.definition: string (nullable = true)\n |-- items.contentDetails.dimension: string (nullable = true)\n |-- items.contentDetails.duration: string (nullable = true)\n |-- items.contentDetails.licensedContent: boolean (nullable = true)\n |-- items.contentDetails.projection: string (nullable = true)\n |-- items.etag: string (nullable = true)\n |-- items.id: string (nullable = true)\n |-- items.kind: string (nullable = true)\n |-- items.snippet.categoryId: string (nullable = true)\n |-- items.snippet.channelId: string (nullable = true)\n |-- items.snippet.channelTitle: string (nullable = true)\n |-- items.snippet.defaultAudioLanguage: string (nullable = true)\n |-- items.snippet.defaultLanguage: string (nullable = true)\n |-- items.snippet.description: string (nullable = true)\n |-- items.snippet.liveBroadcastContent: string (nullable = true)\n |-- items.snippet.localized.description: string (nullable = true)\n |-- items.snippet.localized.title: string (nullable = true)\n |-- items.snippet.publishedAt: string (nullable = true)\n |-- items.snippet.thumbnails.default.height: long (nullable = true)\n |-- items.snippet.thumbnails.default.url: string (nullable = true)\n |-- items.snippet.thumbnails.default.width: long (nullable = true)\n |-- items.snippet.thumbnails.high.height: long (nullable = true)\n |-- items.snippet.thumbnails.high.url: string (nullable = true)\n |-- items.snippet.thumbnails.high.width: long (nullable = true)\n |-- items.snippet.thumbnails.maxres.height: long (nullable = true)\n |-- items.snippet.thumbnails.maxres.url: string (nullable = true)\n |-- items.snippet.thumbnails.maxres.width: long (nullable = true)\n |-- items.snippet.thumbnails.medium.height: long (nullable = true)\n |-- items.snippet.thumbnails.medium.url: string (nullable = true)\n |-- items.snippet.thumbnails.medium.width: long (nullable = true)\n |-- items.snippet.thumbnails.standard.height: long (nullable = true)\n |-- items.snippet.thumbnails.standard.url: string (nullable = true)\n |-- items.snippet.thumbnails.standard.width: long (nullable = true)\n |-- items.snippet.title: string (nullable = true)\n |-- items.statistics.commentCount: string (nullable = true)\n |-- items.statistics.dislikeCount: string (nullable = true)\n |-- items.statistics.favoriteCount: string (nullable = true)\n |-- items.statistics.likeCount: string (nullable = true)\n |-- items.statistics.viewCount: string (nullable = true)\n |-- items.status.embeddable: boolean (nullable = true)\n |-- items.status.license: string (nullable = true)\n |-- items.status.madeForKids: boolean (nullable = true)\n |-- items.status.privacyStatus: string (nullable = true)\n |-- items.status.publicStatsViewable: boolean (nullable = true)\n |-- items.status.uploadStatus: string (nullable = true)\n\n</div>",
       "datasetInfos": [],
       "removedWidgets": [],
       "type": "html"
      }
     },
     "output_type": "display_data"
    }
   ],
   "source": []
  },
  {
   "cell_type": "markdown",
   "metadata": {},
   "source": [
    "2. Display the first 5 rows of df"
   ]
  },
  {
   "cell_type": "code",
   "execution_count": null,
   "metadata": {
    "application/vnd.databricks.v1+cell": {
     "inputWidgets": {},
     "nuid": "f6e56db2-55c4-4a4f-a014-a689def17d90",
     "showTitle": false,
     "title": ""
    }
   },
   "outputs": [
    {
     "data": {
      "text/html": [
       "<style scoped>\n",
       "  .ansiout {\n",
       "    display: block;\n",
       "    unicode-bidi: embed;\n",
       "    white-space: pre-wrap;\n",
       "    word-wrap: break-word;\n",
       "    word-break: break-all;\n",
       "    font-family: \"Source Code Pro\", \"Menlo\", monospace;;\n",
       "    font-size: 13px;\n",
       "    color: #555;\n",
       "    margin-left: 4px;\n",
       "    line-height: 19px;\n",
       "  }\n",
       "</style>\n",
       "<div class=\"ansiout\">Out[10]: </div>"
      ]
     },
     "metadata": {
      "application/vnd.databricks.v1+output": {
       "addedWidgets": {},
       "arguments": {},
       "data": "<div class=\"ansiout\">Out[10]: </div>",
       "datasetInfos": [],
       "removedWidgets": [],
       "type": "html"
      }
     },
     "output_type": "display_data"
    },
    {
     "data": {
      "text/html": [
       "<div>\n",
       "<style scoped>\n",
       "    .dataframe tbody tr th:only-of-type {\n",
       "        vertical-align: middle;\n",
       "    }\n",
       "\n",
       "    .dataframe tbody tr th {\n",
       "        vertical-align: top;\n",
       "    }\n",
       "\n",
       "    .dataframe thead th {\n",
       "        text-align: right;\n",
       "    }\n",
       "</style>\n",
       "<table border=\"1\" class=\"dataframe\">\n",
       "  <thead>\n",
       "    <tr style=\"text-align: right;\">\n",
       "      <th></th>\n",
       "      <th>items.contentDetails.caption</th>\n",
       "      <th>items.contentDetails.contentRating.ytRating</th>\n",
       "      <th>items.contentDetails.definition</th>\n",
       "      <th>items.contentDetails.dimension</th>\n",
       "      <th>items.contentDetails.duration</th>\n",
       "      <th>items.contentDetails.licensedContent</th>\n",
       "      <th>items.contentDetails.projection</th>\n",
       "      <th>items.etag</th>\n",
       "      <th>items.id</th>\n",
       "      <th>items.kind</th>\n",
       "      <th>items.snippet.categoryId</th>\n",
       "      <th>items.snippet.channelId</th>\n",
       "      <th>items.snippet.channelTitle</th>\n",
       "      <th>items.snippet.defaultAudioLanguage</th>\n",
       "      <th>items.snippet.defaultLanguage</th>\n",
       "      <th>items.snippet.description</th>\n",
       "      <th>items.snippet.liveBroadcastContent</th>\n",
       "      <th>items.snippet.localized.description</th>\n",
       "      <th>items.snippet.localized.title</th>\n",
       "      <th>items.snippet.publishedAt</th>\n",
       "      <th>items.snippet.thumbnails.default.height</th>\n",
       "      <th>items.snippet.thumbnails.default.url</th>\n",
       "      <th>items.snippet.thumbnails.default.width</th>\n",
       "      <th>items.snippet.thumbnails.high.height</th>\n",
       "      <th>items.snippet.thumbnails.high.url</th>\n",
       "      <th>items.snippet.thumbnails.high.width</th>\n",
       "      <th>items.snippet.thumbnails.maxres.height</th>\n",
       "      <th>items.snippet.thumbnails.maxres.url</th>\n",
       "      <th>items.snippet.thumbnails.maxres.width</th>\n",
       "      <th>items.snippet.thumbnails.medium.height</th>\n",
       "      <th>items.snippet.thumbnails.medium.url</th>\n",
       "      <th>items.snippet.thumbnails.medium.width</th>\n",
       "      <th>items.snippet.thumbnails.standard.height</th>\n",
       "      <th>items.snippet.thumbnails.standard.url</th>\n",
       "      <th>items.snippet.thumbnails.standard.width</th>\n",
       "      <th>items.snippet.title</th>\n",
       "      <th>items.statistics.commentCount</th>\n",
       "      <th>items.statistics.dislikeCount</th>\n",
       "      <th>items.statistics.favoriteCount</th>\n",
       "      <th>items.statistics.likeCount</th>\n",
       "      <th>items.statistics.viewCount</th>\n",
       "      <th>items.status.embeddable</th>\n",
       "      <th>items.status.license</th>\n",
       "      <th>items.status.madeForKids</th>\n",
       "      <th>items.status.privacyStatus</th>\n",
       "      <th>items.status.publicStatsViewable</th>\n",
       "      <th>items.status.uploadStatus</th>\n",
       "    </tr>\n",
       "  </thead>\n",
       "  <tbody>\n",
       "    <tr>\n",
       "      <th>0</th>\n",
       "      <td>false</td>\n",
       "      <td>None</td>\n",
       "      <td>sd</td>\n",
       "      <td>2d</td>\n",
       "      <td>PT3M33S</td>\n",
       "      <td>True</td>\n",
       "      <td>rectangular</td>\n",
       "      <td>SqP7uUVSol30dxvuScN6JUny6T4</td>\n",
       "      <td>t1l8Z6gLPzo</td>\n",
       "      <td>youtube#video</td>\n",
       "      <td>10</td>\n",
       "      <td>UCUERSOitwgUq_37kGslN96w</td>\n",
       "      <td>VOLO</td>\n",
       "      <td>None</td>\n",
       "      <td>None</td>\n",
       "      <td>Enregistré et mixé par Cyrille PELTIER au \"Kee...</td>\n",
       "      <td>none</td>\n",
       "      <td>Enregistré et mixé par Cyrille PELTIER au \"Kee...</td>\n",
       "      <td>VOLO. \"L'air d'un con\"</td>\n",
       "      <td>2013-07-22T12:09:11Z</td>\n",
       "      <td>90</td>\n",
       "      <td>https://i.ytimg.com/vi/t1l8Z6gLPzo/default.jpg</td>\n",
       "      <td>120</td>\n",
       "      <td>360</td>\n",
       "      <td>https://i.ytimg.com/vi/t1l8Z6gLPzo/hqdefault.jpg</td>\n",
       "      <td>480</td>\n",
       "      <td>NaN</td>\n",
       "      <td>None</td>\n",
       "      <td>NaN</td>\n",
       "      <td>180</td>\n",
       "      <td>https://i.ytimg.com/vi/t1l8Z6gLPzo/mqdefault.jpg</td>\n",
       "      <td>320</td>\n",
       "      <td>480.0</td>\n",
       "      <td>https://i.ytimg.com/vi/t1l8Z6gLPzo/sddefault.jpg</td>\n",
       "      <td>640.0</td>\n",
       "      <td>VOLO. \"L'air d'un con\"</td>\n",
       "      <td>38</td>\n",
       "      <td>26</td>\n",
       "      <td>0</td>\n",
       "      <td>1028</td>\n",
       "      <td>223172</td>\n",
       "      <td>True</td>\n",
       "      <td>youtube</td>\n",
       "      <td>False</td>\n",
       "      <td>public</td>\n",
       "      <td>True</td>\n",
       "      <td>processed</td>\n",
       "    </tr>\n",
       "    <tr>\n",
       "      <th>1</th>\n",
       "      <td>false</td>\n",
       "      <td>None</td>\n",
       "      <td>hd</td>\n",
       "      <td>2d</td>\n",
       "      <td>PT7M46S</td>\n",
       "      <td>False</td>\n",
       "      <td>rectangular</td>\n",
       "      <td>m3DnhzTEw9ABiqzBvdasfk5Av_8</td>\n",
       "      <td>we5gzZq5Avg</td>\n",
       "      <td>youtube#video</td>\n",
       "      <td>10</td>\n",
       "      <td>UCson549gpvRhPnJ3Whs5onA</td>\n",
       "      <td>LongWayToDream</td>\n",
       "      <td>None</td>\n",
       "      <td>None</td>\n",
       "      <td>Air Conditionné EP</td>\n",
       "      <td>none</td>\n",
       "      <td>Air Conditionné EP</td>\n",
       "      <td>Julian Jeweil - Air Conditionné</td>\n",
       "      <td>2012-03-17T08:34:30Z</td>\n",
       "      <td>90</td>\n",
       "      <td>https://i.ytimg.com/vi/we5gzZq5Avg/default.jpg</td>\n",
       "      <td>120</td>\n",
       "      <td>360</td>\n",
       "      <td>https://i.ytimg.com/vi/we5gzZq5Avg/hqdefault.jpg</td>\n",
       "      <td>480</td>\n",
       "      <td>720.0</td>\n",
       "      <td>https://i.ytimg.com/vi/we5gzZq5Avg/maxresdefau...</td>\n",
       "      <td>1280.0</td>\n",
       "      <td>180</td>\n",
       "      <td>https://i.ytimg.com/vi/we5gzZq5Avg/mqdefault.jpg</td>\n",
       "      <td>320</td>\n",
       "      <td>480.0</td>\n",
       "      <td>https://i.ytimg.com/vi/we5gzZq5Avg/sddefault.jpg</td>\n",
       "      <td>640.0</td>\n",
       "      <td>Julian Jeweil - Air Conditionné</td>\n",
       "      <td>2</td>\n",
       "      <td>3</td>\n",
       "      <td>0</td>\n",
       "      <td>124</td>\n",
       "      <td>13409</td>\n",
       "      <td>True</td>\n",
       "      <td>youtube</td>\n",
       "      <td>False</td>\n",
       "      <td>public</td>\n",
       "      <td>True</td>\n",
       "      <td>processed</td>\n",
       "    </tr>\n",
       "    <tr>\n",
       "      <th>2</th>\n",
       "      <td>false</td>\n",
       "      <td>None</td>\n",
       "      <td>sd</td>\n",
       "      <td>2d</td>\n",
       "      <td>PT3M7S</td>\n",
       "      <td>False</td>\n",
       "      <td>rectangular</td>\n",
       "      <td>zyzs7STAR3NG-_pZe-0nGkbKoqg</td>\n",
       "      <td>49esza4eiK4</td>\n",
       "      <td>youtube#video</td>\n",
       "      <td>10</td>\n",
       "      <td>UCcHYZ8Ez4gG_2bHEuBL8IfQ</td>\n",
       "      <td>Downtown Records</td>\n",
       "      <td>None</td>\n",
       "      <td>None</td>\n",
       "      <td>myspace.com/etjusticepourtous\\r\\n(Downtown / E...</td>\n",
       "      <td>none</td>\n",
       "      <td>myspace.com/etjusticepourtous\\r\\n(Downtown / E...</td>\n",
       "      <td>Justice - D.A.N.C.E</td>\n",
       "      <td>2007-09-08T02:02:07Z</td>\n",
       "      <td>90</td>\n",
       "      <td>https://i.ytimg.com/vi/49esza4eiK4/default.jpg</td>\n",
       "      <td>120</td>\n",
       "      <td>360</td>\n",
       "      <td>https://i.ytimg.com/vi/49esza4eiK4/hqdefault.jpg</td>\n",
       "      <td>480</td>\n",
       "      <td>NaN</td>\n",
       "      <td>None</td>\n",
       "      <td>NaN</td>\n",
       "      <td>180</td>\n",
       "      <td>https://i.ytimg.com/vi/49esza4eiK4/mqdefault.jpg</td>\n",
       "      <td>320</td>\n",
       "      <td>NaN</td>\n",
       "      <td>None</td>\n",
       "      <td>NaN</td>\n",
       "      <td>Justice - D.A.N.C.E</td>\n",
       "      <td>3168</td>\n",
       "      <td>780</td>\n",
       "      <td>0</td>\n",
       "      <td>25540</td>\n",
       "      <td>10106655</td>\n",
       "      <td>True</td>\n",
       "      <td>youtube</td>\n",
       "      <td>False</td>\n",
       "      <td>public</td>\n",
       "      <td>True</td>\n",
       "      <td>processed</td>\n",
       "    </tr>\n",
       "    <tr>\n",
       "      <th>3</th>\n",
       "      <td>false</td>\n",
       "      <td>None</td>\n",
       "      <td>hd</td>\n",
       "      <td>2d</td>\n",
       "      <td>PT3M43S</td>\n",
       "      <td>False</td>\n",
       "      <td>rectangular</td>\n",
       "      <td>hX2C15F6fdO5A-stUFMU5Az2PvI</td>\n",
       "      <td>BoO6LfR7ca0</td>\n",
       "      <td>youtube#video</td>\n",
       "      <td>22</td>\n",
       "      <td>UCQ0wLCF7u23gZKJkHFs1Tpg</td>\n",
       "      <td>Music Is Our Drug</td>\n",
       "      <td>None</td>\n",
       "      <td>None</td>\n",
       "      <td>♫ Music Is Our Drug - Spotify Playlist: https:...</td>\n",
       "      <td>none</td>\n",
       "      <td>♫ Music Is Our Drug - Spotify Playlist: https:...</td>\n",
       "      <td>Gramatik - Torture (feat. Eric Krasno)</td>\n",
       "      <td>2014-01-24T12:52:38Z</td>\n",
       "      <td>90</td>\n",
       "      <td>https://i.ytimg.com/vi/BoO6LfR7ca0/default.jpg</td>\n",
       "      <td>120</td>\n",
       "      <td>360</td>\n",
       "      <td>https://i.ytimg.com/vi/BoO6LfR7ca0/hqdefault.jpg</td>\n",
       "      <td>480</td>\n",
       "      <td>720.0</td>\n",
       "      <td>https://i.ytimg.com/vi/BoO6LfR7ca0/maxresdefau...</td>\n",
       "      <td>1280.0</td>\n",
       "      <td>180</td>\n",
       "      <td>https://i.ytimg.com/vi/BoO6LfR7ca0/mqdefault.jpg</td>\n",
       "      <td>320</td>\n",
       "      <td>480.0</td>\n",
       "      <td>https://i.ytimg.com/vi/BoO6LfR7ca0/sddefault.jpg</td>\n",
       "      <td>640.0</td>\n",
       "      <td>Gramatik - Torture (feat. Eric Krasno)</td>\n",
       "      <td>6</td>\n",
       "      <td>0</td>\n",
       "      <td>0</td>\n",
       "      <td>255</td>\n",
       "      <td>29153</td>\n",
       "      <td>True</td>\n",
       "      <td>youtube</td>\n",
       "      <td>False</td>\n",
       "      <td>public</td>\n",
       "      <td>True</td>\n",
       "      <td>processed</td>\n",
       "    </tr>\n",
       "    <tr>\n",
       "      <th>4</th>\n",
       "      <td>false</td>\n",
       "      <td>None</td>\n",
       "      <td>hd</td>\n",
       "      <td>2d</td>\n",
       "      <td>PT5M</td>\n",
       "      <td>False</td>\n",
       "      <td>rectangular</td>\n",
       "      <td>rYHoV38PLpMbRuX_zhGTVBKNotw</td>\n",
       "      <td>DaH4W1rY9us</td>\n",
       "      <td>youtube#video</td>\n",
       "      <td>10</td>\n",
       "      <td>UCJsTMPZxYD-Q3kEmL4Qijpg</td>\n",
       "      <td>Harvey Pearson</td>\n",
       "      <td>None</td>\n",
       "      <td>None</td>\n",
       "      <td>Buy The Burgh Island EP now:\\nhttps://itunes.a...</td>\n",
       "      <td>none</td>\n",
       "      <td>Buy The Burgh Island EP now:\\nhttps://itunes.a...</td>\n",
       "      <td>Ben Howard - Oats In The Water</td>\n",
       "      <td>2012-12-02T12:41:13Z</td>\n",
       "      <td>90</td>\n",
       "      <td>https://i.ytimg.com/vi/DaH4W1rY9us/default.jpg</td>\n",
       "      <td>120</td>\n",
       "      <td>360</td>\n",
       "      <td>https://i.ytimg.com/vi/DaH4W1rY9us/hqdefault.jpg</td>\n",
       "      <td>480</td>\n",
       "      <td>720.0</td>\n",
       "      <td>https://i.ytimg.com/vi/DaH4W1rY9us/maxresdefau...</td>\n",
       "      <td>1280.0</td>\n",
       "      <td>180</td>\n",
       "      <td>https://i.ytimg.com/vi/DaH4W1rY9us/mqdefault.jpg</td>\n",
       "      <td>320</td>\n",
       "      <td>480.0</td>\n",
       "      <td>https://i.ytimg.com/vi/DaH4W1rY9us/sddefault.jpg</td>\n",
       "      <td>640.0</td>\n",
       "      <td>Ben Howard - Oats In The Water</td>\n",
       "      <td>5303</td>\n",
       "      <td>1784</td>\n",
       "      <td>0</td>\n",
       "      <td>136033</td>\n",
       "      <td>16488714</td>\n",
       "      <td>True</td>\n",
       "      <td>youtube</td>\n",
       "      <td>False</td>\n",
       "      <td>public</td>\n",
       "      <td>True</td>\n",
       "      <td>processed</td>\n",
       "    </tr>\n",
       "  </tbody>\n",
       "</table>\n",
       "</div>"
      ]
     },
     "metadata": {
      "application/vnd.databricks.v1+output": {
       "addedWidgets": {},
       "arguments": {},
       "data": "<div>\n<style scoped>\n    .dataframe tbody tr th:only-of-type {\n        vertical-align: middle;\n    }\n\n    .dataframe tbody tr th {\n        vertical-align: top;\n    }\n\n    .dataframe thead th {\n        text-align: right;\n    }\n</style>\n<table border=\"1\" class=\"dataframe\">\n  <thead>\n    <tr style=\"text-align: right;\">\n      <th></th>\n      <th>items.contentDetails.caption</th>\n      <th>items.contentDetails.contentRating.ytRating</th>\n      <th>items.contentDetails.definition</th>\n      <th>items.contentDetails.dimension</th>\n      <th>items.contentDetails.duration</th>\n      <th>items.contentDetails.licensedContent</th>\n      <th>items.contentDetails.projection</th>\n      <th>items.etag</th>\n      <th>items.id</th>\n      <th>items.kind</th>\n      <th>items.snippet.categoryId</th>\n      <th>items.snippet.channelId</th>\n      <th>items.snippet.channelTitle</th>\n      <th>items.snippet.defaultAudioLanguage</th>\n      <th>items.snippet.defaultLanguage</th>\n      <th>items.snippet.description</th>\n      <th>items.snippet.liveBroadcastContent</th>\n      <th>items.snippet.localized.description</th>\n      <th>items.snippet.localized.title</th>\n      <th>items.snippet.publishedAt</th>\n      <th>items.snippet.thumbnails.default.height</th>\n      <th>items.snippet.thumbnails.default.url</th>\n      <th>items.snippet.thumbnails.default.width</th>\n      <th>items.snippet.thumbnails.high.height</th>\n      <th>items.snippet.thumbnails.high.url</th>\n      <th>items.snippet.thumbnails.high.width</th>\n      <th>items.snippet.thumbnails.maxres.height</th>\n      <th>items.snippet.thumbnails.maxres.url</th>\n      <th>items.snippet.thumbnails.maxres.width</th>\n      <th>items.snippet.thumbnails.medium.height</th>\n      <th>items.snippet.thumbnails.medium.url</th>\n      <th>items.snippet.thumbnails.medium.width</th>\n      <th>items.snippet.thumbnails.standard.height</th>\n      <th>items.snippet.thumbnails.standard.url</th>\n      <th>items.snippet.thumbnails.standard.width</th>\n      <th>items.snippet.title</th>\n      <th>items.statistics.commentCount</th>\n      <th>items.statistics.dislikeCount</th>\n      <th>items.statistics.favoriteCount</th>\n      <th>items.statistics.likeCount</th>\n      <th>items.statistics.viewCount</th>\n      <th>items.status.embeddable</th>\n      <th>items.status.license</th>\n      <th>items.status.madeForKids</th>\n      <th>items.status.privacyStatus</th>\n      <th>items.status.publicStatsViewable</th>\n      <th>items.status.uploadStatus</th>\n    </tr>\n  </thead>\n  <tbody>\n    <tr>\n      <th>0</th>\n      <td>false</td>\n      <td>None</td>\n      <td>sd</td>\n      <td>2d</td>\n      <td>PT3M33S</td>\n      <td>True</td>\n      <td>rectangular</td>\n      <td>SqP7uUVSol30dxvuScN6JUny6T4</td>\n      <td>t1l8Z6gLPzo</td>\n      <td>youtube#video</td>\n      <td>10</td>\n      <td>UCUERSOitwgUq_37kGslN96w</td>\n      <td>VOLO</td>\n      <td>None</td>\n      <td>None</td>\n      <td>Enregistré et mixé par Cyrille PELTIER au \"Kee...</td>\n      <td>none</td>\n      <td>Enregistré et mixé par Cyrille PELTIER au \"Kee...</td>\n      <td>VOLO. \"L'air d'un con\"</td>\n      <td>2013-07-22T12:09:11Z</td>\n      <td>90</td>\n      <td>https://i.ytimg.com/vi/t1l8Z6gLPzo/default.jpg</td>\n      <td>120</td>\n      <td>360</td>\n      <td>https://i.ytimg.com/vi/t1l8Z6gLPzo/hqdefault.jpg</td>\n      <td>480</td>\n      <td>NaN</td>\n      <td>None</td>\n      <td>NaN</td>\n      <td>180</td>\n      <td>https://i.ytimg.com/vi/t1l8Z6gLPzo/mqdefault.jpg</td>\n      <td>320</td>\n      <td>480.0</td>\n      <td>https://i.ytimg.com/vi/t1l8Z6gLPzo/sddefault.jpg</td>\n      <td>640.0</td>\n      <td>VOLO. \"L'air d'un con\"</td>\n      <td>38</td>\n      <td>26</td>\n      <td>0</td>\n      <td>1028</td>\n      <td>223172</td>\n      <td>True</td>\n      <td>youtube</td>\n      <td>False</td>\n      <td>public</td>\n      <td>True</td>\n      <td>processed</td>\n    </tr>\n    <tr>\n      <th>1</th>\n      <td>false</td>\n      <td>None</td>\n      <td>hd</td>\n      <td>2d</td>\n      <td>PT7M46S</td>\n      <td>False</td>\n      <td>rectangular</td>\n      <td>m3DnhzTEw9ABiqzBvdasfk5Av_8</td>\n      <td>we5gzZq5Avg</td>\n      <td>youtube#video</td>\n      <td>10</td>\n      <td>UCson549gpvRhPnJ3Whs5onA</td>\n      <td>LongWayToDream</td>\n      <td>None</td>\n      <td>None</td>\n      <td>Air Conditionné EP</td>\n      <td>none</td>\n      <td>Air Conditionné EP</td>\n      <td>Julian Jeweil - Air Conditionné</td>\n      <td>2012-03-17T08:34:30Z</td>\n      <td>90</td>\n      <td>https://i.ytimg.com/vi/we5gzZq5Avg/default.jpg</td>\n      <td>120</td>\n      <td>360</td>\n      <td>https://i.ytimg.com/vi/we5gzZq5Avg/hqdefault.jpg</td>\n      <td>480</td>\n      <td>720.0</td>\n      <td>https://i.ytimg.com/vi/we5gzZq5Avg/maxresdefau...</td>\n      <td>1280.0</td>\n      <td>180</td>\n      <td>https://i.ytimg.com/vi/we5gzZq5Avg/mqdefault.jpg</td>\n      <td>320</td>\n      <td>480.0</td>\n      <td>https://i.ytimg.com/vi/we5gzZq5Avg/sddefault.jpg</td>\n      <td>640.0</td>\n      <td>Julian Jeweil - Air Conditionné</td>\n      <td>2</td>\n      <td>3</td>\n      <td>0</td>\n      <td>124</td>\n      <td>13409</td>\n      <td>True</td>\n      <td>youtube</td>\n      <td>False</td>\n      <td>public</td>\n      <td>True</td>\n      <td>processed</td>\n    </tr>\n    <tr>\n      <th>2</th>\n      <td>false</td>\n      <td>None</td>\n      <td>sd</td>\n      <td>2d</td>\n      <td>PT3M7S</td>\n      <td>False</td>\n      <td>rectangular</td>\n      <td>zyzs7STAR3NG-_pZe-0nGkbKoqg</td>\n      <td>49esza4eiK4</td>\n      <td>youtube#video</td>\n      <td>10</td>\n      <td>UCcHYZ8Ez4gG_2bHEuBL8IfQ</td>\n      <td>Downtown Records</td>\n      <td>None</td>\n      <td>None</td>\n      <td>myspace.com/etjusticepourtous\\r\\n(Downtown / E...</td>\n      <td>none</td>\n      <td>myspace.com/etjusticepourtous\\r\\n(Downtown / E...</td>\n      <td>Justice - D.A.N.C.E</td>\n      <td>2007-09-08T02:02:07Z</td>\n      <td>90</td>\n      <td>https://i.ytimg.com/vi/49esza4eiK4/default.jpg</td>\n      <td>120</td>\n      <td>360</td>\n      <td>https://i.ytimg.com/vi/49esza4eiK4/hqdefault.jpg</td>\n      <td>480</td>\n      <td>NaN</td>\n      <td>None</td>\n      <td>NaN</td>\n      <td>180</td>\n      <td>https://i.ytimg.com/vi/49esza4eiK4/mqdefault.jpg</td>\n      <td>320</td>\n      <td>NaN</td>\n      <td>None</td>\n      <td>NaN</td>\n      <td>Justice - D.A.N.C.E</td>\n      <td>3168</td>\n      <td>780</td>\n      <td>0</td>\n      <td>25540</td>\n      <td>10106655</td>\n      <td>True</td>\n      <td>youtube</td>\n      <td>False</td>\n      <td>public</td>\n      <td>True</td>\n      <td>processed</td>\n    </tr>\n    <tr>\n      <th>3</th>\n      <td>false</td>\n      <td>None</td>\n      <td>hd</td>\n      <td>2d</td>\n      <td>PT3M43S</td>\n      <td>False</td>\n      <td>rectangular</td>\n      <td>hX2C15F6fdO5A-stUFMU5Az2PvI</td>\n      <td>BoO6LfR7ca0</td>\n      <td>youtube#video</td>\n      <td>22</td>\n      <td>UCQ0wLCF7u23gZKJkHFs1Tpg</td>\n      <td>Music Is Our Drug</td>\n      <td>None</td>\n      <td>None</td>\n      <td>♫ Music Is Our Drug - Spotify Playlist: https:...</td>\n      <td>none</td>\n      <td>♫ Music Is Our Drug - Spotify Playlist: https:...</td>\n      <td>Gramatik - Torture (feat. Eric Krasno)</td>\n      <td>2014-01-24T12:52:38Z</td>\n      <td>90</td>\n      <td>https://i.ytimg.com/vi/BoO6LfR7ca0/default.jpg</td>\n      <td>120</td>\n      <td>360</td>\n      <td>https://i.ytimg.com/vi/BoO6LfR7ca0/hqdefault.jpg</td>\n      <td>480</td>\n      <td>720.0</td>\n      <td>https://i.ytimg.com/vi/BoO6LfR7ca0/maxresdefau...</td>\n      <td>1280.0</td>\n      <td>180</td>\n      <td>https://i.ytimg.com/vi/BoO6LfR7ca0/mqdefault.jpg</td>\n      <td>320</td>\n      <td>480.0</td>\n      <td>https://i.ytimg.com/vi/BoO6LfR7ca0/sddefault.jpg</td>\n      <td>640.0</td>\n      <td>Gramatik - Torture (feat. Eric Krasno)</td>\n      <td>6</td>\n      <td>0</td>\n      <td>0</td>\n      <td>255</td>\n      <td>29153</td>\n      <td>True</td>\n      <td>youtube</td>\n      <td>False</td>\n      <td>public</td>\n      <td>True</td>\n      <td>processed</td>\n    </tr>\n    <tr>\n      <th>4</th>\n      <td>false</td>\n      <td>None</td>\n      <td>hd</td>\n      <td>2d</td>\n      <td>PT5M</td>\n      <td>False</td>\n      <td>rectangular</td>\n      <td>rYHoV38PLpMbRuX_zhGTVBKNotw</td>\n      <td>DaH4W1rY9us</td>\n      <td>youtube#video</td>\n      <td>10</td>\n      <td>UCJsTMPZxYD-Q3kEmL4Qijpg</td>\n      <td>Harvey Pearson</td>\n      <td>None</td>\n      <td>None</td>\n      <td>Buy The Burgh Island EP now:\\nhttps://itunes.a...</td>\n      <td>none</td>\n      <td>Buy The Burgh Island EP now:\\nhttps://itunes.a...</td>\n      <td>Ben Howard - Oats In The Water</td>\n      <td>2012-12-02T12:41:13Z</td>\n      <td>90</td>\n      <td>https://i.ytimg.com/vi/DaH4W1rY9us/default.jpg</td>\n      <td>120</td>\n      <td>360</td>\n      <td>https://i.ytimg.com/vi/DaH4W1rY9us/hqdefault.jpg</td>\n      <td>480</td>\n      <td>720.0</td>\n      <td>https://i.ytimg.com/vi/DaH4W1rY9us/maxresdefau...</td>\n      <td>1280.0</td>\n      <td>180</td>\n      <td>https://i.ytimg.com/vi/DaH4W1rY9us/mqdefault.jpg</td>\n      <td>320</td>\n      <td>480.0</td>\n      <td>https://i.ytimg.com/vi/DaH4W1rY9us/sddefault.jpg</td>\n      <td>640.0</td>\n      <td>Ben Howard - Oats In The Water</td>\n      <td>5303</td>\n      <td>1784</td>\n      <td>0</td>\n      <td>136033</td>\n      <td>16488714</td>\n      <td>True</td>\n      <td>youtube</td>\n      <td>False</td>\n      <td>public</td>\n      <td>True</td>\n      <td>processed</td>\n    </tr>\n  </tbody>\n</table>\n</div>",
       "datasetInfos": [],
       "removedWidgets": [],
       "textData": null,
       "type": "htmlSandbox"
      }
     },
     "output_type": "display_data"
    }
   ],
   "source": []
  },
  {
   "cell_type": "markdown",
   "metadata": {},
   "source": [
    "2. Check your dataframe using `.describe(...)`"
   ]
  },
  {
   "cell_type": "code",
   "execution_count": null,
   "metadata": {
    "application/vnd.databricks.v1+cell": {
     "inputWidgets": {},
     "nuid": "0eda879c-0204-4abd-a105-6b15257bada5",
     "showTitle": false,
     "title": ""
    }
   },
   "outputs": [
    {
     "data": {
      "text/html": [
       "<style scoped>\n",
       "  .ansiout {\n",
       "    display: block;\n",
       "    unicode-bidi: embed;\n",
       "    white-space: pre-wrap;\n",
       "    word-wrap: break-word;\n",
       "    word-break: break-all;\n",
       "    font-family: \"Source Code Pro\", \"Menlo\", monospace;;\n",
       "    font-size: 13px;\n",
       "    color: #555;\n",
       "    margin-left: 4px;\n",
       "    line-height: 19px;\n",
       "  }\n",
       "</style>\n",
       "<div class=\"ansiout\">Out[11]: </div>"
      ]
     },
     "metadata": {
      "application/vnd.databricks.v1+output": {
       "addedWidgets": {},
       "arguments": {},
       "data": "<div class=\"ansiout\">Out[11]: </div>",
       "datasetInfos": [],
       "removedWidgets": [],
       "type": "html"
      }
     },
     "output_type": "display_data"
    },
    {
     "data": {
      "text/html": [
       "<div>\n",
       "<style scoped>\n",
       "    .dataframe tbody tr th:only-of-type {\n",
       "        vertical-align: middle;\n",
       "    }\n",
       "\n",
       "    .dataframe tbody tr th {\n",
       "        vertical-align: top;\n",
       "    }\n",
       "\n",
       "    .dataframe thead th {\n",
       "        text-align: right;\n",
       "    }\n",
       "</style>\n",
       "<table border=\"1\" class=\"dataframe\">\n",
       "  <thead>\n",
       "    <tr style=\"text-align: right;\">\n",
       "      <th></th>\n",
       "      <th>summary</th>\n",
       "      <th>items.contentDetails.caption</th>\n",
       "      <th>items.contentDetails.contentRating.ytRating</th>\n",
       "      <th>items.contentDetails.definition</th>\n",
       "      <th>items.contentDetails.dimension</th>\n",
       "      <th>items.contentDetails.duration</th>\n",
       "      <th>items.contentDetails.projection</th>\n",
       "      <th>items.etag</th>\n",
       "      <th>items.id</th>\n",
       "      <th>items.kind</th>\n",
       "      <th>items.snippet.categoryId</th>\n",
       "      <th>items.snippet.channelId</th>\n",
       "      <th>items.snippet.channelTitle</th>\n",
       "      <th>items.snippet.defaultAudioLanguage</th>\n",
       "      <th>items.snippet.defaultLanguage</th>\n",
       "      <th>items.snippet.description</th>\n",
       "      <th>items.snippet.liveBroadcastContent</th>\n",
       "      <th>items.snippet.localized.description</th>\n",
       "      <th>items.snippet.localized.title</th>\n",
       "      <th>items.snippet.publishedAt</th>\n",
       "      <th>items.snippet.thumbnails.default.height</th>\n",
       "      <th>items.snippet.thumbnails.default.url</th>\n",
       "      <th>items.snippet.thumbnails.default.width</th>\n",
       "      <th>items.snippet.thumbnails.high.height</th>\n",
       "      <th>items.snippet.thumbnails.high.url</th>\n",
       "      <th>items.snippet.thumbnails.high.width</th>\n",
       "      <th>items.snippet.thumbnails.maxres.height</th>\n",
       "      <th>items.snippet.thumbnails.maxres.url</th>\n",
       "      <th>items.snippet.thumbnails.maxres.width</th>\n",
       "      <th>items.snippet.thumbnails.medium.height</th>\n",
       "      <th>items.snippet.thumbnails.medium.url</th>\n",
       "      <th>items.snippet.thumbnails.medium.width</th>\n",
       "      <th>items.snippet.thumbnails.standard.height</th>\n",
       "      <th>items.snippet.thumbnails.standard.url</th>\n",
       "      <th>items.snippet.thumbnails.standard.width</th>\n",
       "      <th>items.snippet.title</th>\n",
       "      <th>items.statistics.commentCount</th>\n",
       "      <th>items.statistics.dislikeCount</th>\n",
       "      <th>items.statistics.favoriteCount</th>\n",
       "      <th>items.statistics.likeCount</th>\n",
       "      <th>items.statistics.viewCount</th>\n",
       "      <th>items.status.license</th>\n",
       "      <th>items.status.privacyStatus</th>\n",
       "      <th>items.status.uploadStatus</th>\n",
       "    </tr>\n",
       "  </thead>\n",
       "  <tbody>\n",
       "    <tr>\n",
       "      <th>0</th>\n",
       "      <td>count</td>\n",
       "      <td>3907</td>\n",
       "      <td>27</td>\n",
       "      <td>3907</td>\n",
       "      <td>3907</td>\n",
       "      <td>3907</td>\n",
       "      <td>3907</td>\n",
       "      <td>3907</td>\n",
       "      <td>3907</td>\n",
       "      <td>3907</td>\n",
       "      <td>3907</td>\n",
       "      <td>3907</td>\n",
       "      <td>3907</td>\n",
       "      <td>276</td>\n",
       "      <td>10</td>\n",
       "      <td>3907</td>\n",
       "      <td>3907</td>\n",
       "      <td>3907</td>\n",
       "      <td>3907</td>\n",
       "      <td>3907</td>\n",
       "      <td>3907</td>\n",
       "      <td>3907</td>\n",
       "      <td>3907</td>\n",
       "      <td>3907</td>\n",
       "      <td>3907</td>\n",
       "      <td>3907</td>\n",
       "      <td>1963</td>\n",
       "      <td>1963</td>\n",
       "      <td>1963</td>\n",
       "      <td>3907</td>\n",
       "      <td>3907</td>\n",
       "      <td>3907</td>\n",
       "      <td>2730</td>\n",
       "      <td>2730</td>\n",
       "      <td>2730</td>\n",
       "      <td>3907</td>\n",
       "      <td>3880</td>\n",
       "      <td>3893</td>\n",
       "      <td>3907</td>\n",
       "      <td>3893</td>\n",
       "      <td>3907</td>\n",
       "      <td>3907</td>\n",
       "      <td>3907</td>\n",
       "      <td>3907</td>\n",
       "    </tr>\n",
       "    <tr>\n",
       "      <th>1</th>\n",
       "      <td>mean</td>\n",
       "      <td>None</td>\n",
       "      <td>None</td>\n",
       "      <td>None</td>\n",
       "      <td>2.0</td>\n",
       "      <td>None</td>\n",
       "      <td>None</td>\n",
       "      <td>None</td>\n",
       "      <td>None</td>\n",
       "      <td>None</td>\n",
       "      <td>11.134118249296135</td>\n",
       "      <td>None</td>\n",
       "      <td>7.296272962E9</td>\n",
       "      <td>None</td>\n",
       "      <td>None</td>\n",
       "      <td>1982.0</td>\n",
       "      <td>None</td>\n",
       "      <td>1982.0</td>\n",
       "      <td>None</td>\n",
       "      <td>None</td>\n",
       "      <td>90.0</td>\n",
       "      <td>None</td>\n",
       "      <td>120.0</td>\n",
       "      <td>360.0</td>\n",
       "      <td>None</td>\n",
       "      <td>480.0</td>\n",
       "      <td>720.0</td>\n",
       "      <td>None</td>\n",
       "      <td>1280.0</td>\n",
       "      <td>180.0</td>\n",
       "      <td>None</td>\n",
       "      <td>320.0</td>\n",
       "      <td>480.0</td>\n",
       "      <td>None</td>\n",
       "      <td>640.0</td>\n",
       "      <td>None</td>\n",
       "      <td>6134.878865979382</td>\n",
       "      <td>4669.332391471872</td>\n",
       "      <td>0.0</td>\n",
       "      <td>117062.20524017468</td>\n",
       "      <td>2.0763860959815715E7</td>\n",
       "      <td>None</td>\n",
       "      <td>None</td>\n",
       "      <td>None</td>\n",
       "    </tr>\n",
       "    <tr>\n",
       "      <th>2</th>\n",
       "      <td>stddev</td>\n",
       "      <td>None</td>\n",
       "      <td>None</td>\n",
       "      <td>None</td>\n",
       "      <td>0.0</td>\n",
       "      <td>None</td>\n",
       "      <td>None</td>\n",
       "      <td>None</td>\n",
       "      <td>None</td>\n",
       "      <td>None</td>\n",
       "      <td>4.022457504074627</td>\n",
       "      <td>None</td>\n",
       "      <td>0.0</td>\n",
       "      <td>None</td>\n",
       "      <td>None</td>\n",
       "      <td>14.730919862656235</td>\n",
       "      <td>None</td>\n",
       "      <td>14.730919862656235</td>\n",
       "      <td>None</td>\n",
       "      <td>None</td>\n",
       "      <td>0.0</td>\n",
       "      <td>None</td>\n",
       "      <td>0.0</td>\n",
       "      <td>0.0</td>\n",
       "      <td>None</td>\n",
       "      <td>0.0</td>\n",
       "      <td>0.0</td>\n",
       "      <td>None</td>\n",
       "      <td>0.0</td>\n",
       "      <td>0.0</td>\n",
       "      <td>None</td>\n",
       "      <td>0.0</td>\n",
       "      <td>0.0</td>\n",
       "      <td>None</td>\n",
       "      <td>0.0</td>\n",
       "      <td>None</td>\n",
       "      <td>38535.66393506117</td>\n",
       "      <td>34768.35562984628</td>\n",
       "      <td>0.0</td>\n",
       "      <td>648689.5270756684</td>\n",
       "      <td>1.2295665130505532E8</td>\n",
       "      <td>None</td>\n",
       "      <td>None</td>\n",
       "      <td>None</td>\n",
       "    </tr>\n",
       "    <tr>\n",
       "      <th>3</th>\n",
       "      <td>min</td>\n",
       "      <td>false</td>\n",
       "      <td>ytAgeRestricted</td>\n",
       "      <td>hd</td>\n",
       "      <td>2d</td>\n",
       "      <td>PT10M</td>\n",
       "      <td>rectangular</td>\n",
       "      <td>--Ziwh4kQKLl92uSDbkiTfCENfI</td>\n",
       "      <td>--RRkree8kM</td>\n",
       "      <td>youtube#video</td>\n",
       "      <td>1</td>\n",
       "      <td>UC--yIemFNSgwQ0JxyYsABAQ</td>\n",
       "      <td>!!! (Chk Chk Chk)</td>\n",
       "      <td>ar</td>\n",
       "      <td>en</td>\n",
       "      <td></td>\n",
       "      <td>none</td>\n",
       "      <td></td>\n",
       "      <td>!!! - One Girl/One Boy</td>\n",
       "      <td>2005-11-02T22:02:48Z</td>\n",
       "      <td>90</td>\n",
       "      <td>https://i.ytimg.com/vi/--RRkree8kM/default.jpg</td>\n",
       "      <td>120</td>\n",
       "      <td>360</td>\n",
       "      <td>https://i.ytimg.com/vi/--RRkree8kM/hqdefault.jpg</td>\n",
       "      <td>480</td>\n",
       "      <td>720</td>\n",
       "      <td>https://i.ytimg.com/vi/--RRkree8kM/maxresdefau...</td>\n",
       "      <td>1280</td>\n",
       "      <td>180</td>\n",
       "      <td>https://i.ytimg.com/vi/--RRkree8kM/mqdefault.jpg</td>\n",
       "      <td>320</td>\n",
       "      <td>480</td>\n",
       "      <td>https://i.ytimg.com/vi/--RRkree8kM/sddefault.jpg</td>\n",
       "      <td>640</td>\n",
       "      <td>!!! - One Girl/One Boy</td>\n",
       "      <td>0</td>\n",
       "      <td>0</td>\n",
       "      <td>0</td>\n",
       "      <td>0</td>\n",
       "      <td>100011</td>\n",
       "      <td>creativeCommon</td>\n",
       "      <td>public</td>\n",
       "      <td>processed</td>\n",
       "    </tr>\n",
       "    <tr>\n",
       "      <th>4</th>\n",
       "      <td>max</td>\n",
       "      <td>true</td>\n",
       "      <td>ytAgeRestricted</td>\n",
       "      <td>sd</td>\n",
       "      <td>2d</td>\n",
       "      <td>PT9M7S</td>\n",
       "      <td>rectangular</td>\n",
       "      <td>zzz4gKlE3f6QaY5wxNh8wj_jNRA</td>\n",
       "      <td>zzrNI66FUWE</td>\n",
       "      <td>youtube#video</td>\n",
       "      <td>29</td>\n",
       "      <td>UCzz_ERveHOdZve_Qsthwhnw</td>\n",
       "      <td>さむい者おげし</td>\n",
       "      <td>tr</td>\n",
       "      <td>iw</td>\n",
       "      <td>🎶 Spotify Playlist http://spoti.fi/1Vr9N0E\\n📱 ...</td>\n",
       "      <td>none</td>\n",
       "      <td>🎶 Spotify Playlist http://spoti.fi/1Vr9N0E\\n📱 ...</td>\n",
       "      <td>📺 Danakil - Le rêve [Official Video]</td>\n",
       "      <td>2019-11-04T14:55:48Z</td>\n",
       "      <td>90</td>\n",
       "      <td>https://i.ytimg.com/vi/zzrNI66FUWE/default.jpg</td>\n",
       "      <td>120</td>\n",
       "      <td>360</td>\n",
       "      <td>https://i.ytimg.com/vi/zzrNI66FUWE/hqdefault.jpg</td>\n",
       "      <td>480</td>\n",
       "      <td>720</td>\n",
       "      <td>https://i.ytimg.com/vi/zzrNI66FUWE/maxresdefau...</td>\n",
       "      <td>1280</td>\n",
       "      <td>180</td>\n",
       "      <td>https://i.ytimg.com/vi/zzrNI66FUWE/mqdefault.jpg</td>\n",
       "      <td>320</td>\n",
       "      <td>480</td>\n",
       "      <td>https://i.ytimg.com/vi/zzrNI66FUWE/sddefault.jpg</td>\n",
       "      <td>640</td>\n",
       "      <td>📺 Danakil - Le rêve [Official Video]</td>\n",
       "      <td>9995</td>\n",
       "      <td>9970</td>\n",
       "      <td>0</td>\n",
       "      <td>99930</td>\n",
       "      <td>9998165</td>\n",
       "      <td>youtube</td>\n",
       "      <td>unlisted</td>\n",
       "      <td>processed</td>\n",
       "    </tr>\n",
       "  </tbody>\n",
       "</table>\n",
       "</div>"
      ]
     },
     "metadata": {
      "application/vnd.databricks.v1+output": {
       "addedWidgets": {},
       "arguments": {},
       "data": "<div>\n<style scoped>\n    .dataframe tbody tr th:only-of-type {\n        vertical-align: middle;\n    }\n\n    .dataframe tbody tr th {\n        vertical-align: top;\n    }\n\n    .dataframe thead th {\n        text-align: right;\n    }\n</style>\n<table border=\"1\" class=\"dataframe\">\n  <thead>\n    <tr style=\"text-align: right;\">\n      <th></th>\n      <th>summary</th>\n      <th>items.contentDetails.caption</th>\n      <th>items.contentDetails.contentRating.ytRating</th>\n      <th>items.contentDetails.definition</th>\n      <th>items.contentDetails.dimension</th>\n      <th>items.contentDetails.duration</th>\n      <th>items.contentDetails.projection</th>\n      <th>items.etag</th>\n      <th>items.id</th>\n      <th>items.kind</th>\n      <th>items.snippet.categoryId</th>\n      <th>items.snippet.channelId</th>\n      <th>items.snippet.channelTitle</th>\n      <th>items.snippet.defaultAudioLanguage</th>\n      <th>items.snippet.defaultLanguage</th>\n      <th>items.snippet.description</th>\n      <th>items.snippet.liveBroadcastContent</th>\n      <th>items.snippet.localized.description</th>\n      <th>items.snippet.localized.title</th>\n      <th>items.snippet.publishedAt</th>\n      <th>items.snippet.thumbnails.default.height</th>\n      <th>items.snippet.thumbnails.default.url</th>\n      <th>items.snippet.thumbnails.default.width</th>\n      <th>items.snippet.thumbnails.high.height</th>\n      <th>items.snippet.thumbnails.high.url</th>\n      <th>items.snippet.thumbnails.high.width</th>\n      <th>items.snippet.thumbnails.maxres.height</th>\n      <th>items.snippet.thumbnails.maxres.url</th>\n      <th>items.snippet.thumbnails.maxres.width</th>\n      <th>items.snippet.thumbnails.medium.height</th>\n      <th>items.snippet.thumbnails.medium.url</th>\n      <th>items.snippet.thumbnails.medium.width</th>\n      <th>items.snippet.thumbnails.standard.height</th>\n      <th>items.snippet.thumbnails.standard.url</th>\n      <th>items.snippet.thumbnails.standard.width</th>\n      <th>items.snippet.title</th>\n      <th>items.statistics.commentCount</th>\n      <th>items.statistics.dislikeCount</th>\n      <th>items.statistics.favoriteCount</th>\n      <th>items.statistics.likeCount</th>\n      <th>items.statistics.viewCount</th>\n      <th>items.status.license</th>\n      <th>items.status.privacyStatus</th>\n      <th>items.status.uploadStatus</th>\n    </tr>\n  </thead>\n  <tbody>\n    <tr>\n      <th>0</th>\n      <td>count</td>\n      <td>3907</td>\n      <td>27</td>\n      <td>3907</td>\n      <td>3907</td>\n      <td>3907</td>\n      <td>3907</td>\n      <td>3907</td>\n      <td>3907</td>\n      <td>3907</td>\n      <td>3907</td>\n      <td>3907</td>\n      <td>3907</td>\n      <td>276</td>\n      <td>10</td>\n      <td>3907</td>\n      <td>3907</td>\n      <td>3907</td>\n      <td>3907</td>\n      <td>3907</td>\n      <td>3907</td>\n      <td>3907</td>\n      <td>3907</td>\n      <td>3907</td>\n      <td>3907</td>\n      <td>3907</td>\n      <td>1963</td>\n      <td>1963</td>\n      <td>1963</td>\n      <td>3907</td>\n      <td>3907</td>\n      <td>3907</td>\n      <td>2730</td>\n      <td>2730</td>\n      <td>2730</td>\n      <td>3907</td>\n      <td>3880</td>\n      <td>3893</td>\n      <td>3907</td>\n      <td>3893</td>\n      <td>3907</td>\n      <td>3907</td>\n      <td>3907</td>\n      <td>3907</td>\n    </tr>\n    <tr>\n      <th>1</th>\n      <td>mean</td>\n      <td>None</td>\n      <td>None</td>\n      <td>None</td>\n      <td>2.0</td>\n      <td>None</td>\n      <td>None</td>\n      <td>None</td>\n      <td>None</td>\n      <td>None</td>\n      <td>11.134118249296135</td>\n      <td>None</td>\n      <td>7.296272962E9</td>\n      <td>None</td>\n      <td>None</td>\n      <td>1982.0</td>\n      <td>None</td>\n      <td>1982.0</td>\n      <td>None</td>\n      <td>None</td>\n      <td>90.0</td>\n      <td>None</td>\n      <td>120.0</td>\n      <td>360.0</td>\n      <td>None</td>\n      <td>480.0</td>\n      <td>720.0</td>\n      <td>None</td>\n      <td>1280.0</td>\n      <td>180.0</td>\n      <td>None</td>\n      <td>320.0</td>\n      <td>480.0</td>\n      <td>None</td>\n      <td>640.0</td>\n      <td>None</td>\n      <td>6134.878865979382</td>\n      <td>4669.332391471872</td>\n      <td>0.0</td>\n      <td>117062.20524017468</td>\n      <td>2.0763860959815715E7</td>\n      <td>None</td>\n      <td>None</td>\n      <td>None</td>\n    </tr>\n    <tr>\n      <th>2</th>\n      <td>stddev</td>\n      <td>None</td>\n      <td>None</td>\n      <td>None</td>\n      <td>0.0</td>\n      <td>None</td>\n      <td>None</td>\n      <td>None</td>\n      <td>None</td>\n      <td>None</td>\n      <td>4.022457504074627</td>\n      <td>None</td>\n      <td>0.0</td>\n      <td>None</td>\n      <td>None</td>\n      <td>14.730919862656235</td>\n      <td>None</td>\n      <td>14.730919862656235</td>\n      <td>None</td>\n      <td>None</td>\n      <td>0.0</td>\n      <td>None</td>\n      <td>0.0</td>\n      <td>0.0</td>\n      <td>None</td>\n      <td>0.0</td>\n      <td>0.0</td>\n      <td>None</td>\n      <td>0.0</td>\n      <td>0.0</td>\n      <td>None</td>\n      <td>0.0</td>\n      <td>0.0</td>\n      <td>None</td>\n      <td>0.0</td>\n      <td>None</td>\n      <td>38535.66393506117</td>\n      <td>34768.35562984628</td>\n      <td>0.0</td>\n      <td>648689.5270756684</td>\n      <td>1.2295665130505532E8</td>\n      <td>None</td>\n      <td>None</td>\n      <td>None</td>\n    </tr>\n    <tr>\n      <th>3</th>\n      <td>min</td>\n      <td>false</td>\n      <td>ytAgeRestricted</td>\n      <td>hd</td>\n      <td>2d</td>\n      <td>PT10M</td>\n      <td>rectangular</td>\n      <td>--Ziwh4kQKLl92uSDbkiTfCENfI</td>\n      <td>--RRkree8kM</td>\n      <td>youtube#video</td>\n      <td>1</td>\n      <td>UC--yIemFNSgwQ0JxyYsABAQ</td>\n      <td>!!! (Chk Chk Chk)</td>\n      <td>ar</td>\n      <td>en</td>\n      <td></td>\n      <td>none</td>\n      <td></td>\n      <td>!!! - One Girl/One Boy</td>\n      <td>2005-11-02T22:02:48Z</td>\n      <td>90</td>\n      <td>https://i.ytimg.com/vi/--RRkree8kM/default.jpg</td>\n      <td>120</td>\n      <td>360</td>\n      <td>https://i.ytimg.com/vi/--RRkree8kM/hqdefault.jpg</td>\n      <td>480</td>\n      <td>720</td>\n      <td>https://i.ytimg.com/vi/--RRkree8kM/maxresdefau...</td>\n      <td>1280</td>\n      <td>180</td>\n      <td>https://i.ytimg.com/vi/--RRkree8kM/mqdefault.jpg</td>\n      <td>320</td>\n      <td>480</td>\n      <td>https://i.ytimg.com/vi/--RRkree8kM/sddefault.jpg</td>\n      <td>640</td>\n      <td>!!! - One Girl/One Boy</td>\n      <td>0</td>\n      <td>0</td>\n      <td>0</td>\n      <td>0</td>\n      <td>100011</td>\n      <td>creativeCommon</td>\n      <td>public</td>\n      <td>processed</td>\n    </tr>\n    <tr>\n      <th>4</th>\n      <td>max</td>\n      <td>true</td>\n      <td>ytAgeRestricted</td>\n      <td>sd</td>\n      <td>2d</td>\n      <td>PT9M7S</td>\n      <td>rectangular</td>\n      <td>zzz4gKlE3f6QaY5wxNh8wj_jNRA</td>\n      <td>zzrNI66FUWE</td>\n      <td>youtube#video</td>\n      <td>29</td>\n      <td>UCzz_ERveHOdZve_Qsthwhnw</td>\n      <td>さむい者おげし</td>\n      <td>tr</td>\n      <td>iw</td>\n      <td>🎶 Spotify Playlist http://spoti.fi/1Vr9N0E\\n📱 ...</td>\n      <td>none</td>\n      <td>🎶 Spotify Playlist http://spoti.fi/1Vr9N0E\\n📱 ...</td>\n      <td>📺 Danakil - Le rêve [Official Video]</td>\n      <td>2019-11-04T14:55:48Z</td>\n      <td>90</td>\n      <td>https://i.ytimg.com/vi/zzrNI66FUWE/default.jpg</td>\n      <td>120</td>\n      <td>360</td>\n      <td>https://i.ytimg.com/vi/zzrNI66FUWE/hqdefault.jpg</td>\n      <td>480</td>\n      <td>720</td>\n      <td>https://i.ytimg.com/vi/zzrNI66FUWE/maxresdefau...</td>\n      <td>1280</td>\n      <td>180</td>\n      <td>https://i.ytimg.com/vi/zzrNI66FUWE/mqdefault.jpg</td>\n      <td>320</td>\n      <td>480</td>\n      <td>https://i.ytimg.com/vi/zzrNI66FUWE/sddefault.jpg</td>\n      <td>640</td>\n      <td>📺 Danakil - Le rêve [Official Video]</td>\n      <td>9995</td>\n      <td>9970</td>\n      <td>0</td>\n      <td>99930</td>\n      <td>9998165</td>\n      <td>youtube</td>\n      <td>unlisted</td>\n      <td>processed</td>\n    </tr>\n  </tbody>\n</table>\n</div>",
       "datasetInfos": [],
       "removedWidgets": [],
       "textData": null,
       "type": "htmlSandbox"
      }
     },
     "output_type": "display_data"
    }
   ],
   "source": []
  },
  {
   "cell_type": "markdown",
   "metadata": {
    "application/vnd.databricks.v1+cell": {
     "inputWidgets": {},
     "nuid": "828a3a5e-a2fc-4f5b-837b-b41639686405",
     "showTitle": false,
     "title": ""
    }
   },
   "source": [
    "Let's try something that will fail... accessing the columns in place:\n",
    "\n",
    "3. Try to select the first column by name (cf df.columns[0])\n",
    "*NOTE: ⚠️ This is supposed to fail*"
   ]
  },
  {
   "cell_type": "code",
   "execution_count": null,
   "metadata": {
    "application/vnd.databricks.v1+cell": {
     "inputWidgets": {},
     "nuid": "06222708-4011-4fb7-8e61-f441a9ee65e8",
     "showTitle": false,
     "title": ""
    }
   },
   "outputs": [
    {
     "data": {
      "text/html": [
       "<style scoped>\n",
       "  .ansiout {\n",
       "    display: block;\n",
       "    unicode-bidi: embed;\n",
       "    white-space: pre-wrap;\n",
       "    word-wrap: break-word;\n",
       "    word-break: break-all;\n",
       "    font-family: \"Source Code Pro\", \"Menlo\", monospace;;\n",
       "    font-size: 13px;\n",
       "    color: #555;\n",
       "    margin-left: 4px;\n",
       "    line-height: 19px;\n",
       "  }\n",
       "</style>\n",
       "<div class=\"ansiout\"></div>"
      ]
     },
     "metadata": {
      "application/vnd.databricks.v1+output": {
       "addedWidgets": {},
       "arguments": {},
       "data": "<div class=\"ansiout\"></div>",
       "datasetInfos": [],
       "removedWidgets": [],
       "type": "html"
      }
     },
     "output_type": "display_data"
    },
    {
     "data": {
      "text/html": [
       "<style scoped>\n",
       "  .ansiout {\n",
       "    display: block;\n",
       "    unicode-bidi: embed;\n",
       "    white-space: pre-wrap;\n",
       "    word-wrap: break-word;\n",
       "    word-break: break-all;\n",
       "    font-family: \"Source Code Pro\", \"Menlo\", monospace;;\n",
       "    font-size: 13px;\n",
       "    color: #555;\n",
       "    margin-left: 4px;\n",
       "    line-height: 19px;\n",
       "  }\n",
       "</style>\n",
       "<div class=\"ansiout\"><span class=\"ansi-red-fg\">---------------------------------------------------------------------------</span>\n",
       "<span class=\"ansi-red-fg\">AnalysisException</span>                         Traceback (most recent call last)\n",
       "<span class=\"ansi-green-fg\">&lt;command-4407832410620876&gt;</span> in <span class=\"ansi-cyan-fg\">&lt;module&gt;</span>\n",
       "<span class=\"ansi-green-intense-fg ansi-bold\">      2</span> <span class=\"ansi-red-fg\"># NOTE: ⚠️ This is supposed to fail</span>\n",
       "<span class=\"ansi-green-intense-fg ansi-bold\">      3</span> <span class=\"ansi-red-fg\">### BEGIN STRIP ###</span>\n",
       "<span class=\"ansi-green-fg\">----&gt; 4</span><span class=\"ansi-red-fg\"> </span>df<span class=\"ansi-blue-fg\">.</span>select<span class=\"ansi-blue-fg\">(</span>df<span class=\"ansi-blue-fg\">.</span>columns<span class=\"ansi-blue-fg\">[</span><span class=\"ansi-cyan-fg\">0</span><span class=\"ansi-blue-fg\">]</span><span class=\"ansi-blue-fg\">)</span><span class=\"ansi-blue-fg\">.</span>show<span class=\"ansi-blue-fg\">(</span><span class=\"ansi-cyan-fg\">3</span><span class=\"ansi-blue-fg\">)</span>\n",
       "<span class=\"ansi-green-intense-fg ansi-bold\">      5</span> <span class=\"ansi-red-fg\">### END STRIP ###</span>\n",
       "\n",
       "<span class=\"ansi-green-fg\">/databricks/spark/python/pyspark/sql/dataframe.py</span> in <span class=\"ansi-cyan-fg\">select</span><span class=\"ansi-blue-fg\">(self, *cols)</span>\n",
       "<span class=\"ansi-green-intense-fg ansi-bold\">   1690</span>         <span class=\"ansi-blue-fg\">[</span>Row<span class=\"ansi-blue-fg\">(</span>name<span class=\"ansi-blue-fg\">=</span><span class=\"ansi-blue-fg\">&#39;Alice&#39;</span><span class=\"ansi-blue-fg\">,</span> age<span class=\"ansi-blue-fg\">=</span><span class=\"ansi-cyan-fg\">12</span><span class=\"ansi-blue-fg\">)</span><span class=\"ansi-blue-fg\">,</span> Row<span class=\"ansi-blue-fg\">(</span>name<span class=\"ansi-blue-fg\">=</span><span class=\"ansi-blue-fg\">&#39;Bob&#39;</span><span class=\"ansi-blue-fg\">,</span> age<span class=\"ansi-blue-fg\">=</span><span class=\"ansi-cyan-fg\">15</span><span class=\"ansi-blue-fg\">)</span><span class=\"ansi-blue-fg\">]</span>\n",
       "<span class=\"ansi-green-intense-fg ansi-bold\">   1691</span>         &#34;&#34;&#34;\n",
       "<span class=\"ansi-green-fg\">-&gt; 1692</span><span class=\"ansi-red-fg\">         </span>jdf <span class=\"ansi-blue-fg\">=</span> self<span class=\"ansi-blue-fg\">.</span>_jdf<span class=\"ansi-blue-fg\">.</span>select<span class=\"ansi-blue-fg\">(</span>self<span class=\"ansi-blue-fg\">.</span>_jcols<span class=\"ansi-blue-fg\">(</span><span class=\"ansi-blue-fg\">*</span>cols<span class=\"ansi-blue-fg\">)</span><span class=\"ansi-blue-fg\">)</span>\n",
       "<span class=\"ansi-green-intense-fg ansi-bold\">   1693</span>         <span class=\"ansi-green-fg\">return</span> DataFrame<span class=\"ansi-blue-fg\">(</span>jdf<span class=\"ansi-blue-fg\">,</span> self<span class=\"ansi-blue-fg\">.</span>sql_ctx<span class=\"ansi-blue-fg\">)</span>\n",
       "<span class=\"ansi-green-intense-fg ansi-bold\">   1694</span> \n",
       "\n",
       "<span class=\"ansi-green-fg\">/databricks/spark/python/lib/py4j-0.10.9-src.zip/py4j/java_gateway.py</span> in <span class=\"ansi-cyan-fg\">__call__</span><span class=\"ansi-blue-fg\">(self, *args)</span>\n",
       "<span class=\"ansi-green-intense-fg ansi-bold\">   1302</span> \n",
       "<span class=\"ansi-green-intense-fg ansi-bold\">   1303</span>         answer <span class=\"ansi-blue-fg\">=</span> self<span class=\"ansi-blue-fg\">.</span>gateway_client<span class=\"ansi-blue-fg\">.</span>send_command<span class=\"ansi-blue-fg\">(</span>command<span class=\"ansi-blue-fg\">)</span>\n",
       "<span class=\"ansi-green-fg\">-&gt; 1304</span><span class=\"ansi-red-fg\">         return_value = get_return_value(\n",
       "</span><span class=\"ansi-green-intense-fg ansi-bold\">   1305</span>             answer, self.gateway_client, self.target_id, self.name)\n",
       "<span class=\"ansi-green-intense-fg ansi-bold\">   1306</span> \n",
       "\n",
       "<span class=\"ansi-green-fg\">/databricks/spark/python/pyspark/sql/utils.py</span> in <span class=\"ansi-cyan-fg\">deco</span><span class=\"ansi-blue-fg\">(*a, **kw)</span>\n",
       "<span class=\"ansi-green-intense-fg ansi-bold\">    114</span>                 <span class=\"ansi-red-fg\"># Hide where the exception came from that shows a non-Pythonic</span>\n",
       "<span class=\"ansi-green-intense-fg ansi-bold\">    115</span>                 <span class=\"ansi-red-fg\"># JVM exception message.</span>\n",
       "<span class=\"ansi-green-fg\">--&gt; 116</span><span class=\"ansi-red-fg\">                 </span><span class=\"ansi-green-fg\">raise</span> converted <span class=\"ansi-green-fg\">from</span> <span class=\"ansi-green-fg\">None</span>\n",
       "<span class=\"ansi-green-intense-fg ansi-bold\">    117</span>             <span class=\"ansi-green-fg\">else</span><span class=\"ansi-blue-fg\">:</span>\n",
       "<span class=\"ansi-green-intense-fg ansi-bold\">    118</span>                 <span class=\"ansi-green-fg\">raise</span>\n",
       "\n",
       "<span class=\"ansi-red-fg\">AnalysisException</span>: cannot resolve &#39;`items.contentDetails.caption`&#39; given input columns: [items.contentDetails.caption, items.contentDetails.contentRating.ytRating, items.contentDetails.definition, items.contentDetails.dimension, items.contentDetails.duration, items.contentDetails.licensedContent, items.contentDetails.projection, items.etag, items.id, items.kind, items.snippet.categoryId, items.snippet.channelId, items.snippet.channelTitle, items.snippet.defaultAudioLanguage, items.snippet.defaultLanguage, items.snippet.description, items.snippet.liveBroadcastContent, items.snippet.localized.description, items.snippet.localized.title, items.snippet.publishedAt, items.snippet.thumbnails.default.height, items.snippet.thumbnails.default.url, items.snippet.thumbnails.default.width, items.snippet.thumbnails.high.height, items.snippet.thumbnails.high.url, items.snippet.thumbnails.high.width, items.snippet.thumbnails.maxres.height, items.snippet.thumbnails.maxres.url, items.snippet.thumbnails.maxres.width, items.snippet.thumbnails.medium.height, items.snippet.thumbnails.medium.url, items.snippet.thumbnails.medium.width, items.snippet.thumbnails.standard.height, items.snippet.thumbnails.standard.url, items.snippet.thumbnails.standard.width, items.snippet.title, items.statistics.commentCount, items.statistics.dislikeCount, items.statistics.favoriteCount, items.statistics.likeCount, items.statistics.viewCount, items.status.embeddable, items.status.license, items.status.madeForKids, items.status.privacyStatus, items.status.publicStatsViewable, items.status.uploadStatus];\n",
       "&#39;Project [&#39;items.contentDetails.caption]\n",
       "+- Relation[items.contentDetails.caption#5027,items.contentDetails.contentRating.ytRating#5028,items.contentDetails.definition#5029,items.contentDetails.dimension#5030,items.contentDetails.duration#5031,items.contentDetails.licensedContent#5032,items.contentDetails.projection#5033,items.etag#5034,items.id#5035,items.kind#5036,items.snippet.categoryId#5037,items.snippet.channelId#5038,items.snippet.channelTitle#5039,items.snippet.defaultAudioLanguage#5040,items.snippet.defaultLanguage#5041,items.snippet.description#5042,items.snippet.liveBroadcastContent#5043,items.snippet.localized.description#5044,items.snippet.localized.title#5045,items.snippet.publishedAt#5046,items.snippet.thumbnails.default.height#5047L,items.snippet.thumbnails.default.url#5048,items.snippet.thumbnails.default.width#5049L,items.snippet.thumbnails.high.height#5050L,... 23 more fields] parquet\n",
       "</div>"
      ]
     },
     "metadata": {
      "application/vnd.databricks.v1+output": {
       "arguments": {},
       "data": "<div class=\"ansiout\"><span class=\"ansi-red-fg\">---------------------------------------------------------------------------</span>\n<span class=\"ansi-red-fg\">AnalysisException</span>                         Traceback (most recent call last)\n<span class=\"ansi-green-fg\">&lt;command-4407832410620876&gt;</span> in <span class=\"ansi-cyan-fg\">&lt;module&gt;</span>\n<span class=\"ansi-green-intense-fg ansi-bold\">      2</span> <span class=\"ansi-red-fg\"># NOTE: ⚠️ This is supposed to fail</span>\n<span class=\"ansi-green-intense-fg ansi-bold\">      3</span> <span class=\"ansi-red-fg\">### BEGIN STRIP ###</span>\n<span class=\"ansi-green-fg\">----&gt; 4</span><span class=\"ansi-red-fg\"> </span>df<span class=\"ansi-blue-fg\">.</span>select<span class=\"ansi-blue-fg\">(</span>df<span class=\"ansi-blue-fg\">.</span>columns<span class=\"ansi-blue-fg\">[</span><span class=\"ansi-cyan-fg\">0</span><span class=\"ansi-blue-fg\">]</span><span class=\"ansi-blue-fg\">)</span><span class=\"ansi-blue-fg\">.</span>show<span class=\"ansi-blue-fg\">(</span><span class=\"ansi-cyan-fg\">3</span><span class=\"ansi-blue-fg\">)</span>\n<span class=\"ansi-green-intense-fg ansi-bold\">      5</span> <span class=\"ansi-red-fg\">### END STRIP ###</span>\n\n<span class=\"ansi-green-fg\">/databricks/spark/python/pyspark/sql/dataframe.py</span> in <span class=\"ansi-cyan-fg\">select</span><span class=\"ansi-blue-fg\">(self, *cols)</span>\n<span class=\"ansi-green-intense-fg ansi-bold\">   1690</span>         <span class=\"ansi-blue-fg\">[</span>Row<span class=\"ansi-blue-fg\">(</span>name<span class=\"ansi-blue-fg\">=</span><span class=\"ansi-blue-fg\">&#39;Alice&#39;</span><span class=\"ansi-blue-fg\">,</span> age<span class=\"ansi-blue-fg\">=</span><span class=\"ansi-cyan-fg\">12</span><span class=\"ansi-blue-fg\">)</span><span class=\"ansi-blue-fg\">,</span> Row<span class=\"ansi-blue-fg\">(</span>name<span class=\"ansi-blue-fg\">=</span><span class=\"ansi-blue-fg\">&#39;Bob&#39;</span><span class=\"ansi-blue-fg\">,</span> age<span class=\"ansi-blue-fg\">=</span><span class=\"ansi-cyan-fg\">15</span><span class=\"ansi-blue-fg\">)</span><span class=\"ansi-blue-fg\">]</span>\n<span class=\"ansi-green-intense-fg ansi-bold\">   1691</span>         &#34;&#34;&#34;\n<span class=\"ansi-green-fg\">-&gt; 1692</span><span class=\"ansi-red-fg\">         </span>jdf <span class=\"ansi-blue-fg\">=</span> self<span class=\"ansi-blue-fg\">.</span>_jdf<span class=\"ansi-blue-fg\">.</span>select<span class=\"ansi-blue-fg\">(</span>self<span class=\"ansi-blue-fg\">.</span>_jcols<span class=\"ansi-blue-fg\">(</span><span class=\"ansi-blue-fg\">*</span>cols<span class=\"ansi-blue-fg\">)</span><span class=\"ansi-blue-fg\">)</span>\n<span class=\"ansi-green-intense-fg ansi-bold\">   1693</span>         <span class=\"ansi-green-fg\">return</span> DataFrame<span class=\"ansi-blue-fg\">(</span>jdf<span class=\"ansi-blue-fg\">,</span> self<span class=\"ansi-blue-fg\">.</span>sql_ctx<span class=\"ansi-blue-fg\">)</span>\n<span class=\"ansi-green-intense-fg ansi-bold\">   1694</span> \n\n<span class=\"ansi-green-fg\">/databricks/spark/python/lib/py4j-0.10.9-src.zip/py4j/java_gateway.py</span> in <span class=\"ansi-cyan-fg\">__call__</span><span class=\"ansi-blue-fg\">(self, *args)</span>\n<span class=\"ansi-green-intense-fg ansi-bold\">   1302</span> \n<span class=\"ansi-green-intense-fg ansi-bold\">   1303</span>         answer <span class=\"ansi-blue-fg\">=</span> self<span class=\"ansi-blue-fg\">.</span>gateway_client<span class=\"ansi-blue-fg\">.</span>send_command<span class=\"ansi-blue-fg\">(</span>command<span class=\"ansi-blue-fg\">)</span>\n<span class=\"ansi-green-fg\">-&gt; 1304</span><span class=\"ansi-red-fg\">         return_value = get_return_value(\n</span><span class=\"ansi-green-intense-fg ansi-bold\">   1305</span>             answer, self.gateway_client, self.target_id, self.name)\n<span class=\"ansi-green-intense-fg ansi-bold\">   1306</span> \n\n<span class=\"ansi-green-fg\">/databricks/spark/python/pyspark/sql/utils.py</span> in <span class=\"ansi-cyan-fg\">deco</span><span class=\"ansi-blue-fg\">(*a, **kw)</span>\n<span class=\"ansi-green-intense-fg ansi-bold\">    114</span>                 <span class=\"ansi-red-fg\"># Hide where the exception came from that shows a non-Pythonic</span>\n<span class=\"ansi-green-intense-fg ansi-bold\">    115</span>                 <span class=\"ansi-red-fg\"># JVM exception message.</span>\n<span class=\"ansi-green-fg\">--&gt; 116</span><span class=\"ansi-red-fg\">                 </span><span class=\"ansi-green-fg\">raise</span> converted <span class=\"ansi-green-fg\">from</span> <span class=\"ansi-green-fg\">None</span>\n<span class=\"ansi-green-intense-fg ansi-bold\">    117</span>             <span class=\"ansi-green-fg\">else</span><span class=\"ansi-blue-fg\">:</span>\n<span class=\"ansi-green-intense-fg ansi-bold\">    118</span>                 <span class=\"ansi-green-fg\">raise</span>\n\n<span class=\"ansi-red-fg\">AnalysisException</span>: cannot resolve &#39;`items.contentDetails.caption`&#39; given input columns: [items.contentDetails.caption, items.contentDetails.contentRating.ytRating, items.contentDetails.definition, items.contentDetails.dimension, items.contentDetails.duration, items.contentDetails.licensedContent, items.contentDetails.projection, items.etag, items.id, items.kind, items.snippet.categoryId, items.snippet.channelId, items.snippet.channelTitle, items.snippet.defaultAudioLanguage, items.snippet.defaultLanguage, items.snippet.description, items.snippet.liveBroadcastContent, items.snippet.localized.description, items.snippet.localized.title, items.snippet.publishedAt, items.snippet.thumbnails.default.height, items.snippet.thumbnails.default.url, items.snippet.thumbnails.default.width, items.snippet.thumbnails.high.height, items.snippet.thumbnails.high.url, items.snippet.thumbnails.high.width, items.snippet.thumbnails.maxres.height, items.snippet.thumbnails.maxres.url, items.snippet.thumbnails.maxres.width, items.snippet.thumbnails.medium.height, items.snippet.thumbnails.medium.url, items.snippet.thumbnails.medium.width, items.snippet.thumbnails.standard.height, items.snippet.thumbnails.standard.url, items.snippet.thumbnails.standard.width, items.snippet.title, items.statistics.commentCount, items.statistics.dislikeCount, items.statistics.favoriteCount, items.statistics.likeCount, items.statistics.viewCount, items.status.embeddable, items.status.license, items.status.madeForKids, items.status.privacyStatus, items.status.publicStatsViewable, items.status.uploadStatus];\n&#39;Project [&#39;items.contentDetails.caption]\n+- Relation[items.contentDetails.caption#5027,items.contentDetails.contentRating.ytRating#5028,items.contentDetails.definition#5029,items.contentDetails.dimension#5030,items.contentDetails.duration#5031,items.contentDetails.licensedContent#5032,items.contentDetails.projection#5033,items.etag#5034,items.id#5035,items.kind#5036,items.snippet.categoryId#5037,items.snippet.channelId#5038,items.snippet.channelTitle#5039,items.snippet.defaultAudioLanguage#5040,items.snippet.defaultLanguage#5041,items.snippet.description#5042,items.snippet.liveBroadcastContent#5043,items.snippet.localized.description#5044,items.snippet.localized.title#5045,items.snippet.publishedAt#5046,items.snippet.thumbnails.default.height#5047L,items.snippet.thumbnails.default.url#5048,items.snippet.thumbnails.default.width#5049L,items.snippet.thumbnails.high.height#5050L,... 23 more fields] parquet\n</div>",
       "errorSummary": "<span class=\"ansi-red-fg\">AnalysisException</span>: cannot resolve &#39;`items.contentDetails.caption`&#39; given input columns: [items.contentDetails.caption, items.contentDetails.contentRating.ytRating, items.contentDetails.definition, items.contentDetails.dimension, items.contentDetails.duration, items.contentDetails.licensedContent, items.contentDetails.projection, items.etag, items.id, items.kind, items.snippet.categoryId, items.snippet.channelId, items.snippet.channelTitle, items.snippet.defaultAudioLanguage, items.snippet.defaultLanguage, items.snippet.description, items.snippet.liveBroadcastContent, items.snippet.localized.description, items.snippet.localized.title, items.snippet.publishedAt, items.snippet.thumbnails.default.height, items.snippet.thumbnails.default.url, items.snippet.thumbnails.default.width, items.snippet.thumbnails.high.height, items.snippet.thumbnails.high.url, items.snippet.thumbnails.high.width, items.snippet.thumbnails.maxres.height, items.snippet.thumbnails.maxres.url, items.snippet.thumbnails.maxres.width, items.snippet.thumbnails.medium.height, items.snippet.thumbnails.medium.url, items.snippet.thumbnails.medium.width, items.snippet.thumbnails.standard.height, items.snippet.thumbnails.standard.url, items.snippet.thumbnails.standard.width, items.snippet.title, items.statistics.commentCount, items.statistics.dislikeCount, items.statistics.favoriteCount, items.statistics.likeCount, items.statistics.viewCount, items.status.embeddable, items.status.license, items.status.madeForKids, items.status.privacyStatus, items.status.publicStatsViewable, items.status.uploadStatus];",
       "type": "ipynbError"
      }
     },
     "output_type": "display_data"
    }
   ],
   "source": []
  },
  {
   "cell_type": "markdown",
   "metadata": {
    "application/vnd.databricks.v1+cell": {
     "inputWidgets": {},
     "nuid": "98827f47-7a1d-4e32-b855-fe23b60c9d8f",
     "showTitle": false,
     "title": ""
    }
   },
   "source": [
    "Did you understand what happened here? Because we have dots `.` in our column name, PySpark thinks we're trying to access nested field structure when calling `select`!\n",
    "\n",
    "In the Scala programming language (in which Spark is built), we can use the backtick to identify a **string literal**. String literal is what we need to tell Scala \"Please, don't interpret the `.`: they are supposed to be taken exactly as they are.\"\n",
    "\n",
    "Hence, the solution is to enclose every column names with backticks:\n",
    "\n",
    "```\n",
    "\"hello.world\" becomes \"`hello.word`\"\n",
    "```\n",
    "\n",
    "4. Show the selected content of the first column, with the trick we just gave you"
   ]
  },
  {
   "cell_type": "code",
   "execution_count": null,
   "metadata": {
    "application/vnd.databricks.v1+cell": {
     "inputWidgets": {},
     "nuid": "a338fd9c-87f2-4eca-a4e1-9d58458e80c2",
     "showTitle": false,
     "title": ""
    }
   },
   "outputs": [
    {
     "data": {
      "text/html": [
       "<style scoped>\n",
       "  .ansiout {\n",
       "    display: block;\n",
       "    unicode-bidi: embed;\n",
       "    white-space: pre-wrap;\n",
       "    word-wrap: break-word;\n",
       "    word-break: break-all;\n",
       "    font-family: \"Source Code Pro\", \"Menlo\", monospace;;\n",
       "    font-size: 13px;\n",
       "    color: #555;\n",
       "    margin-left: 4px;\n",
       "    line-height: 19px;\n",
       "  }\n",
       "</style>\n",
       "<div class=\"ansiout\">+----------------------------+\n",
       "items.contentDetails.caption|\n",
       "+----------------------------+\n",
       "                       false|\n",
       "                       false|\n",
       "                       false|\n",
       "                       false|\n",
       "                       false|\n",
       "                       false|\n",
       "                       false|\n",
       "                       false|\n",
       "                       false|\n",
       "                       false|\n",
       "                       false|\n",
       "                       false|\n",
       "                       false|\n",
       "                       false|\n",
       "                        true|\n",
       "                       false|\n",
       "                       false|\n",
       "                       false|\n",
       "                       false|\n",
       "                       false|\n",
       "+----------------------------+\n",
       "only showing top 20 rows\n",
       "\n",
       "</div>"
      ]
     },
     "metadata": {
      "application/vnd.databricks.v1+output": {
       "addedWidgets": {},
       "arguments": {},
       "data": "<div class=\"ansiout\">+----------------------------+\n|items.contentDetails.caption|\n+----------------------------+\n|                       false|\n|                       false|\n|                       false|\n|                       false|\n|                       false|\n|                       false|\n|                       false|\n|                       false|\n|                       false|\n|                       false|\n|                       false|\n|                       false|\n|                       false|\n|                       false|\n|                        true|\n|                       false|\n|                       false|\n|                       false|\n|                       false|\n|                       false|\n+----------------------------+\nonly showing top 20 rows\n\n</div>",
       "datasetInfos": [],
       "removedWidgets": [],
       "type": "html"
      }
     },
     "output_type": "display_data"
    }
   ],
   "source": []
  },
  {
   "cell_type": "markdown",
   "metadata": {
    "application/vnd.databricks.v1+cell": {
     "inputWidgets": {},
     "nuid": "a9ad700b-6348-40f1-b596-88f670a8a90d",
     "showTitle": false,
     "title": ""
    }
   },
   "source": [
    "Ok, it works, but it's not very convenient... Also, every columns starts with `items` which is not very informative.\n",
    "\n",
    "For each column, we will:\n",
    "- drop the first part, i.e. `items.`\n",
    "- replace all `.` with `_`\n",
    "\n",
    "Let's create a function that does just this, takes a column name as a string parameter and return a sanitized version of it.  For instance, `items.content.title` becomes `content_title`.\n",
    "\n",
    "We will call this function `sanitize_column_name`.\n",
    "\n",
    "5. Create the function: sanitize_column_name"
   ]
  },
  {
   "cell_type": "code",
   "execution_count": null,
   "metadata": {
    "application/vnd.databricks.v1+cell": {
     "inputWidgets": {},
     "nuid": "f8e41ad4-0c12-4f90-a825-5526dfee2894",
     "showTitle": false,
     "title": ""
    }
   },
   "outputs": [
    {
     "data": {
      "text/html": [
       "<style scoped>\n",
       "  .ansiout {\n",
       "    display: block;\n",
       "    unicode-bidi: embed;\n",
       "    white-space: pre-wrap;\n",
       "    word-wrap: break-word;\n",
       "    word-break: break-all;\n",
       "    font-family: \"Source Code Pro\", \"Menlo\", monospace;;\n",
       "    font-size: 13px;\n",
       "    color: #555;\n",
       "    margin-left: 4px;\n",
       "    line-height: 19px;\n",
       "  }\n",
       "</style>\n",
       "<div class=\"ansiout\"></div>"
      ]
     },
     "metadata": {
      "application/vnd.databricks.v1+output": {
       "addedWidgets": {},
       "arguments": {},
       "data": "<div class=\"ansiout\"></div>",
       "datasetInfos": [],
       "removedWidgets": [],
       "type": "html"
      }
     },
     "output_type": "display_data"
    }
   ],
   "source": []
  },
  {
   "cell_type": "markdown",
   "metadata": {},
   "source": [
    "6. Use this cell to test your new function"
   ]
  },
  {
   "cell_type": "code",
   "execution_count": null,
   "metadata": {
    "application/vnd.databricks.v1+cell": {
     "inputWidgets": {},
     "nuid": "a628dc38-2655-4ee0-82a1-785360d02a8f",
     "showTitle": false,
     "title": ""
    }
   },
   "outputs": [
    {
     "data": {
      "text/html": [
       "<style scoped>\n",
       "  .ansiout {\n",
       "    display: block;\n",
       "    unicode-bidi: embed;\n",
       "    white-space: pre-wrap;\n",
       "    word-wrap: break-word;\n",
       "    word-break: break-all;\n",
       "    font-family: \"Source Code Pro\", \"Menlo\", monospace;;\n",
       "    font-size: 13px;\n",
       "    color: #555;\n",
       "    margin-left: 4px;\n",
       "    line-height: 19px;\n",
       "  }\n",
       "</style>\n",
       "<div class=\"ansiout\">contentDetails_caption\n",
       "contentDetails_licensedContent\n",
       "\n",
       "</div>"
      ]
     },
     "metadata": {
      "application/vnd.databricks.v1+output": {
       "addedWidgets": {},
       "arguments": {},
       "data": "<div class=\"ansiout\">contentDetails_caption\ncontentDetails_licensedContent\n\n</div>",
       "datasetInfos": [],
       "removedWidgets": [],
       "type": "html"
      }
     },
     "output_type": "display_data"
    }
   ],
   "source": []
  },
  {
   "cell_type": "markdown",
   "metadata": {
    "application/vnd.databricks.v1+cell": {
     "inputWidgets": {},
     "nuid": "286837bc-9efc-49d8-948b-de85d2b29b0f",
     "showTitle": false,
     "title": ""
    }
   },
   "source": [
    "Now comes an interesting problem: we need the entire dataframe to be processed so its column names become sanitized. There are several way to achieve this...\n",
    "\n",
    "Using `functools.reduce` ([docs](https://docs.python.org/3/library/functools.html#functools.reduce)) is probably the most elegant way to achieve this, but it's not the easiest for beginners... Have a try! The most important is that you end up with the final result: choose your method.\n",
    "\n",
    "7. Create a new DataFrame with all columns sanitized: `df_renamed`"
   ]
  },
  {
   "cell_type": "code",
   "execution_count": null,
   "metadata": {
    "application/vnd.databricks.v1+cell": {
     "inputWidgets": {},
     "nuid": "33983bda-87b8-4fd1-bbf4-9d25ab500ea1",
     "showTitle": false,
     "title": ""
    }
   },
   "outputs": [
    {
     "data": {
      "text/html": [
       "<style scoped>\n",
       "  .ansiout {\n",
       "    display: block;\n",
       "    unicode-bidi: embed;\n",
       "    white-space: pre-wrap;\n",
       "    word-wrap: break-word;\n",
       "    word-break: break-all;\n",
       "    font-family: \"Source Code Pro\", \"Menlo\", monospace;;\n",
       "    font-size: 13px;\n",
       "    color: #555;\n",
       "    margin-left: 4px;\n",
       "    line-height: 19px;\n",
       "  }\n",
       "</style>\n",
       "<div class=\"ansiout\">Out[16]: [&#39;contentDetails_caption&#39;,\n",
       " &#39;contentDetails_contentRating_ytRating&#39;,\n",
       " &#39;contentDetails_definition&#39;,\n",
       " &#39;contentDetails_dimension&#39;,\n",
       " &#39;contentDetails_duration&#39;,\n",
       " &#39;contentDetails_licensedContent&#39;,\n",
       " &#39;contentDetails_projection&#39;,\n",
       " &#39;etag&#39;,\n",
       " &#39;id&#39;,\n",
       " &#39;kind&#39;,\n",
       " &#39;snippet_categoryId&#39;,\n",
       " &#39;snippet_channelId&#39;,\n",
       " &#39;snippet_channelTitle&#39;,\n",
       " &#39;snippet_defaultAudioLanguage&#39;,\n",
       " &#39;snippet_defaultLanguage&#39;,\n",
       " &#39;snippet_description&#39;,\n",
       " &#39;snippet_liveBroadcastContent&#39;,\n",
       " &#39;snippet_localized_description&#39;,\n",
       " &#39;snippet_localized_title&#39;,\n",
       " &#39;snippet_publishedAt&#39;,\n",
       " &#39;snippet_thumbnails_default_height&#39;,\n",
       " &#39;snippet_thumbnails_default_url&#39;,\n",
       " &#39;snippet_thumbnails_default_width&#39;,\n",
       " &#39;snippet_thumbnails_high_height&#39;,\n",
       " &#39;snippet_thumbnails_high_url&#39;,\n",
       " &#39;snippet_thumbnails_high_width&#39;,\n",
       " &#39;snippet_thumbnails_maxres_height&#39;,\n",
       " &#39;snippet_thumbnails_maxres_url&#39;,\n",
       " &#39;snippet_thumbnails_maxres_width&#39;,\n",
       " &#39;snippet_thumbnails_medium_height&#39;,\n",
       " &#39;snippet_thumbnails_medium_url&#39;,\n",
       " &#39;snippet_thumbnails_medium_width&#39;,\n",
       " &#39;snippet_thumbnails_standard_height&#39;,\n",
       " &#39;snippet_thumbnails_standard_url&#39;,\n",
       " &#39;snippet_thumbnails_standard_width&#39;,\n",
       " &#39;snippet_title&#39;,\n",
       " &#39;statistics_commentCount&#39;,\n",
       " &#39;statistics_dislikeCount&#39;,\n",
       " &#39;statistics_favoriteCount&#39;,\n",
       " &#39;statistics_likeCount&#39;,\n",
       " &#39;statistics_viewCount&#39;,\n",
       " &#39;status_embeddable&#39;,\n",
       " &#39;status_license&#39;,\n",
       " &#39;status_madeForKids&#39;,\n",
       " &#39;status_privacyStatus&#39;,\n",
       " &#39;status_publicStatsViewable&#39;,\n",
       " &#39;status_uploadStatus&#39;]</div>"
      ]
     },
     "metadata": {
      "application/vnd.databricks.v1+output": {
       "addedWidgets": {},
       "arguments": {},
       "data": "<div class=\"ansiout\">Out[16]: [&#39;contentDetails_caption&#39;,\n &#39;contentDetails_contentRating_ytRating&#39;,\n &#39;contentDetails_definition&#39;,\n &#39;contentDetails_dimension&#39;,\n &#39;contentDetails_duration&#39;,\n &#39;contentDetails_licensedContent&#39;,\n &#39;contentDetails_projection&#39;,\n &#39;etag&#39;,\n &#39;id&#39;,\n &#39;kind&#39;,\n &#39;snippet_categoryId&#39;,\n &#39;snippet_channelId&#39;,\n &#39;snippet_channelTitle&#39;,\n &#39;snippet_defaultAudioLanguage&#39;,\n &#39;snippet_defaultLanguage&#39;,\n &#39;snippet_description&#39;,\n &#39;snippet_liveBroadcastContent&#39;,\n &#39;snippet_localized_description&#39;,\n &#39;snippet_localized_title&#39;,\n &#39;snippet_publishedAt&#39;,\n &#39;snippet_thumbnails_default_height&#39;,\n &#39;snippet_thumbnails_default_url&#39;,\n &#39;snippet_thumbnails_default_width&#39;,\n &#39;snippet_thumbnails_high_height&#39;,\n &#39;snippet_thumbnails_high_url&#39;,\n &#39;snippet_thumbnails_high_width&#39;,\n &#39;snippet_thumbnails_maxres_height&#39;,\n &#39;snippet_thumbnails_maxres_url&#39;,\n &#39;snippet_thumbnails_maxres_width&#39;,\n &#39;snippet_thumbnails_medium_height&#39;,\n &#39;snippet_thumbnails_medium_url&#39;,\n &#39;snippet_thumbnails_medium_width&#39;,\n &#39;snippet_thumbnails_standard_height&#39;,\n &#39;snippet_thumbnails_standard_url&#39;,\n &#39;snippet_thumbnails_standard_width&#39;,\n &#39;snippet_title&#39;,\n &#39;statistics_commentCount&#39;,\n &#39;statistics_dislikeCount&#39;,\n &#39;statistics_favoriteCount&#39;,\n &#39;statistics_likeCount&#39;,\n &#39;statistics_viewCount&#39;,\n &#39;status_embeddable&#39;,\n &#39;status_license&#39;,\n &#39;status_madeForKids&#39;,\n &#39;status_privacyStatus&#39;,\n &#39;status_publicStatsViewable&#39;,\n &#39;status_uploadStatus&#39;]</div>",
       "datasetInfos": [],
       "removedWidgets": [],
       "type": "html"
      }
     },
     "output_type": "display_data"
    }
   ],
   "source": []
  },
  {
   "cell_type": "markdown",
   "metadata": {
    "application/vnd.databricks.v1+cell": {
     "inputWidgets": {},
     "nuid": "051122ab-361a-4d29-895a-553889862ad2",
     "showTitle": false,
     "title": ""
    }
   },
   "source": [
    "Now we should be able to query this DataFrame without having to mess with annoying _backticks_ escaping.\n",
    "\n",
    "Let's try it out...\n",
    "\n",
    "8. Select the first column of `df` and show the first 5 rows"
   ]
  },
  {
   "cell_type": "code",
   "execution_count": null,
   "metadata": {
    "application/vnd.databricks.v1+cell": {
     "inputWidgets": {},
     "nuid": "72a7996e-e479-4a1c-8750-1438f9f78a0f",
     "showTitle": false,
     "title": ""
    }
   },
   "outputs": [
    {
     "data": {
      "text/html": [
       "<style scoped>\n",
       "  .ansiout {\n",
       "    display: block;\n",
       "    unicode-bidi: embed;\n",
       "    white-space: pre-wrap;\n",
       "    word-wrap: break-word;\n",
       "    word-break: break-all;\n",
       "    font-family: \"Source Code Pro\", \"Menlo\", monospace;;\n",
       "    font-size: 13px;\n",
       "    color: #555;\n",
       "    margin-left: 4px;\n",
       "    line-height: 19px;\n",
       "  }\n",
       "</style>\n",
       "<div class=\"ansiout\">+----------------------+\n",
       "contentDetails_caption|\n",
       "+----------------------+\n",
       "                 false|\n",
       "                 false|\n",
       "                 false|\n",
       "                 false|\n",
       "                 false|\n",
       "+----------------------+\n",
       "only showing top 5 rows\n",
       "\n",
       "</div>"
      ]
     },
     "metadata": {
      "application/vnd.databricks.v1+output": {
       "addedWidgets": {},
       "arguments": {},
       "data": "<div class=\"ansiout\">+----------------------+\n|contentDetails_caption|\n+----------------------+\n|                 false|\n|                 false|\n|                 false|\n|                 false|\n|                 false|\n+----------------------+\nonly showing top 5 rows\n\n</div>",
       "datasetInfos": [],
       "removedWidgets": [],
       "type": "html"
      }
     },
     "output_type": "display_data"
    }
   ],
   "source": []
  },
  {
   "cell_type": "markdown",
   "metadata": {
    "application/vnd.databricks.v1+cell": {
     "inputWidgets": {},
     "nuid": "6d50bf20-812d-4a12-8d16-a0034aa77e2e",
     "showTitle": false,
     "title": ""
    }
   },
   "source": [
    "It works! :)"
   ]
  },
  {
   "cell_type": "markdown",
   "metadata": {
    "application/vnd.databricks.v1+cell": {
     "inputWidgets": {},
     "nuid": "75bec59e-b3a7-4b5c-b8f7-d203b3571a5e",
     "showTitle": false,
     "title": ""
    }
   },
   "source": [
    "## Updating the schema\n",
    "\n",
    "Let's have a look at the current schema, and more importantly, check out the types of the statistics columns...\n",
    "\n",
    "9. Print out the schema of `df_renamed`"
   ]
  },
  {
   "cell_type": "code",
   "execution_count": null,
   "metadata": {
    "application/vnd.databricks.v1+cell": {
     "inputWidgets": {},
     "nuid": "ae51c698-efda-48cf-8db8-8c5f58fb79ff",
     "showTitle": false,
     "title": ""
    }
   },
   "outputs": [
    {
     "data": {
      "text/html": [
       "<style scoped>\n",
       "  .ansiout {\n",
       "    display: block;\n",
       "    unicode-bidi: embed;\n",
       "    white-space: pre-wrap;\n",
       "    word-wrap: break-word;\n",
       "    word-break: break-all;\n",
       "    font-family: \"Source Code Pro\", \"Menlo\", monospace;;\n",
       "    font-size: 13px;\n",
       "    color: #555;\n",
       "    margin-left: 4px;\n",
       "    line-height: 19px;\n",
       "  }\n",
       "</style>\n",
       "<div class=\"ansiout\">root\n",
       "-- contentDetails_caption: string (nullable = true)\n",
       "-- contentDetails_contentRating_ytRating: string (nullable = true)\n",
       "-- contentDetails_definition: string (nullable = true)\n",
       "-- contentDetails_dimension: string (nullable = true)\n",
       "-- contentDetails_duration: string (nullable = true)\n",
       "-- contentDetails_licensedContent: boolean (nullable = true)\n",
       "-- contentDetails_projection: string (nullable = true)\n",
       "-- etag: string (nullable = true)\n",
       "-- id: string (nullable = true)\n",
       "-- kind: string (nullable = true)\n",
       "-- snippet_categoryId: string (nullable = true)\n",
       "-- snippet_channelId: string (nullable = true)\n",
       "-- snippet_channelTitle: string (nullable = true)\n",
       "-- snippet_defaultAudioLanguage: string (nullable = true)\n",
       "-- snippet_defaultLanguage: string (nullable = true)\n",
       "-- snippet_description: string (nullable = true)\n",
       "-- snippet_liveBroadcastContent: string (nullable = true)\n",
       "-- snippet_localized_description: string (nullable = true)\n",
       "-- snippet_localized_title: string (nullable = true)\n",
       "-- snippet_publishedAt: string (nullable = true)\n",
       "-- snippet_thumbnails_default_height: long (nullable = true)\n",
       "-- snippet_thumbnails_default_url: string (nullable = true)\n",
       "-- snippet_thumbnails_default_width: long (nullable = true)\n",
       "-- snippet_thumbnails_high_height: long (nullable = true)\n",
       "-- snippet_thumbnails_high_url: string (nullable = true)\n",
       "-- snippet_thumbnails_high_width: long (nullable = true)\n",
       "-- snippet_thumbnails_maxres_height: long (nullable = true)\n",
       "-- snippet_thumbnails_maxres_url: string (nullable = true)\n",
       "-- snippet_thumbnails_maxres_width: long (nullable = true)\n",
       "-- snippet_thumbnails_medium_height: long (nullable = true)\n",
       "-- snippet_thumbnails_medium_url: string (nullable = true)\n",
       "-- snippet_thumbnails_medium_width: long (nullable = true)\n",
       "-- snippet_thumbnails_standard_height: long (nullable = true)\n",
       "-- snippet_thumbnails_standard_url: string (nullable = true)\n",
       "-- snippet_thumbnails_standard_width: long (nullable = true)\n",
       "-- snippet_title: string (nullable = true)\n",
       "-- statistics_commentCount: string (nullable = true)\n",
       "-- statistics_dislikeCount: string (nullable = true)\n",
       "-- statistics_favoriteCount: string (nullable = true)\n",
       "-- statistics_likeCount: string (nullable = true)\n",
       "-- statistics_viewCount: string (nullable = true)\n",
       "-- status_embeddable: boolean (nullable = true)\n",
       "-- status_license: string (nullable = true)\n",
       "-- status_madeForKids: boolean (nullable = true)\n",
       "-- status_privacyStatus: string (nullable = true)\n",
       "-- status_publicStatsViewable: boolean (nullable = true)\n",
       "-- status_uploadStatus: string (nullable = true)\n",
       "\n",
       "</div>"
      ]
     },
     "metadata": {
      "application/vnd.databricks.v1+output": {
       "addedWidgets": {},
       "arguments": {},
       "data": "<div class=\"ansiout\">root\n |-- contentDetails_caption: string (nullable = true)\n |-- contentDetails_contentRating_ytRating: string (nullable = true)\n |-- contentDetails_definition: string (nullable = true)\n |-- contentDetails_dimension: string (nullable = true)\n |-- contentDetails_duration: string (nullable = true)\n |-- contentDetails_licensedContent: boolean (nullable = true)\n |-- contentDetails_projection: string (nullable = true)\n |-- etag: string (nullable = true)\n |-- id: string (nullable = true)\n |-- kind: string (nullable = true)\n |-- snippet_categoryId: string (nullable = true)\n |-- snippet_channelId: string (nullable = true)\n |-- snippet_channelTitle: string (nullable = true)\n |-- snippet_defaultAudioLanguage: string (nullable = true)\n |-- snippet_defaultLanguage: string (nullable = true)\n |-- snippet_description: string (nullable = true)\n |-- snippet_liveBroadcastContent: string (nullable = true)\n |-- snippet_localized_description: string (nullable = true)\n |-- snippet_localized_title: string (nullable = true)\n |-- snippet_publishedAt: string (nullable = true)\n |-- snippet_thumbnails_default_height: long (nullable = true)\n |-- snippet_thumbnails_default_url: string (nullable = true)\n |-- snippet_thumbnails_default_width: long (nullable = true)\n |-- snippet_thumbnails_high_height: long (nullable = true)\n |-- snippet_thumbnails_high_url: string (nullable = true)\n |-- snippet_thumbnails_high_width: long (nullable = true)\n |-- snippet_thumbnails_maxres_height: long (nullable = true)\n |-- snippet_thumbnails_maxres_url: string (nullable = true)\n |-- snippet_thumbnails_maxres_width: long (nullable = true)\n |-- snippet_thumbnails_medium_height: long (nullable = true)\n |-- snippet_thumbnails_medium_url: string (nullable = true)\n |-- snippet_thumbnails_medium_width: long (nullable = true)\n |-- snippet_thumbnails_standard_height: long (nullable = true)\n |-- snippet_thumbnails_standard_url: string (nullable = true)\n |-- snippet_thumbnails_standard_width: long (nullable = true)\n |-- snippet_title: string (nullable = true)\n |-- statistics_commentCount: string (nullable = true)\n |-- statistics_dislikeCount: string (nullable = true)\n |-- statistics_favoriteCount: string (nullable = true)\n |-- statistics_likeCount: string (nullable = true)\n |-- statistics_viewCount: string (nullable = true)\n |-- status_embeddable: boolean (nullable = true)\n |-- status_license: string (nullable = true)\n |-- status_madeForKids: boolean (nullable = true)\n |-- status_privacyStatus: string (nullable = true)\n |-- status_publicStatsViewable: boolean (nullable = true)\n |-- status_uploadStatus: string (nullable = true)\n\n</div>",
       "datasetInfos": [],
       "removedWidgets": [],
       "type": "html"
      }
     },
     "output_type": "display_data"
    }
   ],
   "source": []
  },
  {
   "cell_type": "markdown",
   "metadata": {
    "application/vnd.databricks.v1+cell": {
     "inputWidgets": {},
     "nuid": "eb952f99-e308-488c-a495-5a04664ec75e",
     "showTitle": false,
     "title": ""
    }
   },
   "source": [
    "As you just saw, all the statistics are casted as `string` instead of numbers! This is bad for later analysis, we need to fix this now. We put you on the right track by importing the type `LongType` that you need to use to cast all your statistics columns into.\n",
    "\n",
    "10. Cast all the statistics columns to `LongType`: `df_casted`"
   ]
  },
  {
   "cell_type": "code",
   "execution_count": null,
   "metadata": {
    "application/vnd.databricks.v1+cell": {
     "inputWidgets": {},
     "nuid": "933bd507-f1cc-4527-bdcb-dd26921a7a84",
     "showTitle": false,
     "title": ""
    }
   },
   "outputs": [
    {
     "data": {
      "text/html": [
       "<style scoped>\n",
       "  .ansiout {\n",
       "    display: block;\n",
       "    unicode-bidi: embed;\n",
       "    white-space: pre-wrap;\n",
       "    word-wrap: break-word;\n",
       "    word-break: break-all;\n",
       "    font-family: \"Source Code Pro\", \"Menlo\", monospace;;\n",
       "    font-size: 13px;\n",
       "    color: #555;\n",
       "    margin-left: 4px;\n",
       "    line-height: 19px;\n",
       "  }\n",
       "</style>\n",
       "<div class=\"ansiout\">root\n",
       "-- contentDetails_caption: string (nullable = true)\n",
       "-- contentDetails_contentRating_ytRating: string (nullable = true)\n",
       "-- contentDetails_definition: string (nullable = true)\n",
       "-- contentDetails_dimension: string (nullable = true)\n",
       "-- contentDetails_duration: string (nullable = true)\n",
       "-- contentDetails_licensedContent: boolean (nullable = true)\n",
       "-- contentDetails_projection: string (nullable = true)\n",
       "-- etag: string (nullable = true)\n",
       "-- id: string (nullable = true)\n",
       "-- kind: string (nullable = true)\n",
       "-- snippet_categoryId: string (nullable = true)\n",
       "-- snippet_channelId: string (nullable = true)\n",
       "-- snippet_channelTitle: string (nullable = true)\n",
       "-- snippet_defaultAudioLanguage: string (nullable = true)\n",
       "-- snippet_defaultLanguage: string (nullable = true)\n",
       "-- snippet_description: string (nullable = true)\n",
       "-- snippet_liveBroadcastContent: string (nullable = true)\n",
       "-- snippet_localized_description: string (nullable = true)\n",
       "-- snippet_localized_title: string (nullable = true)\n",
       "-- snippet_publishedAt: string (nullable = true)\n",
       "-- snippet_thumbnails_default_height: long (nullable = true)\n",
       "-- snippet_thumbnails_default_url: string (nullable = true)\n",
       "-- snippet_thumbnails_default_width: long (nullable = true)\n",
       "-- snippet_thumbnails_high_height: long (nullable = true)\n",
       "-- snippet_thumbnails_high_url: string (nullable = true)\n",
       "-- snippet_thumbnails_high_width: long (nullable = true)\n",
       "-- snippet_thumbnails_maxres_height: long (nullable = true)\n",
       "-- snippet_thumbnails_maxres_url: string (nullable = true)\n",
       "-- snippet_thumbnails_maxres_width: long (nullable = true)\n",
       "-- snippet_thumbnails_medium_height: long (nullable = true)\n",
       "-- snippet_thumbnails_medium_url: string (nullable = true)\n",
       "-- snippet_thumbnails_medium_width: long (nullable = true)\n",
       "-- snippet_thumbnails_standard_height: long (nullable = true)\n",
       "-- snippet_thumbnails_standard_url: string (nullable = true)\n",
       "-- snippet_thumbnails_standard_width: long (nullable = true)\n",
       "-- snippet_title: string (nullable = true)\n",
       "-- statistics_commentCount: long (nullable = true)\n",
       "-- statistics_dislikeCount: long (nullable = true)\n",
       "-- statistics_favoriteCount: long (nullable = true)\n",
       "-- statistics_likeCount: long (nullable = true)\n",
       "-- statistics_viewCount: long (nullable = true)\n",
       "-- status_embeddable: boolean (nullable = true)\n",
       "-- status_license: string (nullable = true)\n",
       "-- status_madeForKids: boolean (nullable = true)\n",
       "-- status_privacyStatus: string (nullable = true)\n",
       "-- status_publicStatsViewable: boolean (nullable = true)\n",
       "-- status_uploadStatus: string (nullable = true)\n",
       "\n",
       "</div>"
      ]
     },
     "metadata": {
      "application/vnd.databricks.v1+output": {
       "addedWidgets": {},
       "arguments": {},
       "data": "<div class=\"ansiout\">root\n |-- contentDetails_caption: string (nullable = true)\n |-- contentDetails_contentRating_ytRating: string (nullable = true)\n |-- contentDetails_definition: string (nullable = true)\n |-- contentDetails_dimension: string (nullable = true)\n |-- contentDetails_duration: string (nullable = true)\n |-- contentDetails_licensedContent: boolean (nullable = true)\n |-- contentDetails_projection: string (nullable = true)\n |-- etag: string (nullable = true)\n |-- id: string (nullable = true)\n |-- kind: string (nullable = true)\n |-- snippet_categoryId: string (nullable = true)\n |-- snippet_channelId: string (nullable = true)\n |-- snippet_channelTitle: string (nullable = true)\n |-- snippet_defaultAudioLanguage: string (nullable = true)\n |-- snippet_defaultLanguage: string (nullable = true)\n |-- snippet_description: string (nullable = true)\n |-- snippet_liveBroadcastContent: string (nullable = true)\n |-- snippet_localized_description: string (nullable = true)\n |-- snippet_localized_title: string (nullable = true)\n |-- snippet_publishedAt: string (nullable = true)\n |-- snippet_thumbnails_default_height: long (nullable = true)\n |-- snippet_thumbnails_default_url: string (nullable = true)\n |-- snippet_thumbnails_default_width: long (nullable = true)\n |-- snippet_thumbnails_high_height: long (nullable = true)\n |-- snippet_thumbnails_high_url: string (nullable = true)\n |-- snippet_thumbnails_high_width: long (nullable = true)\n |-- snippet_thumbnails_maxres_height: long (nullable = true)\n |-- snippet_thumbnails_maxres_url: string (nullable = true)\n |-- snippet_thumbnails_maxres_width: long (nullable = true)\n |-- snippet_thumbnails_medium_height: long (nullable = true)\n |-- snippet_thumbnails_medium_url: string (nullable = true)\n |-- snippet_thumbnails_medium_width: long (nullable = true)\n |-- snippet_thumbnails_standard_height: long (nullable = true)\n |-- snippet_thumbnails_standard_url: string (nullable = true)\n |-- snippet_thumbnails_standard_width: long (nullable = true)\n |-- snippet_title: string (nullable = true)\n |-- statistics_commentCount: long (nullable = true)\n |-- statistics_dislikeCount: long (nullable = true)\n |-- statistics_favoriteCount: long (nullable = true)\n |-- statistics_likeCount: long (nullable = true)\n |-- statistics_viewCount: long (nullable = true)\n |-- status_embeddable: boolean (nullable = true)\n |-- status_license: string (nullable = true)\n |-- status_madeForKids: boolean (nullable = true)\n |-- status_privacyStatus: string (nullable = true)\n |-- status_publicStatsViewable: boolean (nullable = true)\n |-- status_uploadStatus: string (nullable = true)\n\n</div>",
       "datasetInfos": [],
       "removedWidgets": [],
       "type": "html"
      }
     },
     "output_type": "display_data"
    }
   ],
   "source": []
  },
  {
   "cell_type": "code",
   "execution_count": null,
   "metadata": {
    "application/vnd.databricks.v1+cell": {
     "inputWidgets": {},
     "nuid": "17f786ec-fc0f-49f4-a169-1b4532d22812",
     "showTitle": false,
     "title": ""
    }
   },
   "outputs": [
    {
     "data": {
      "text/html": [
       "<style scoped>\n",
       "  .ansiout {\n",
       "    display: block;\n",
       "    unicode-bidi: embed;\n",
       "    white-space: pre-wrap;\n",
       "    word-wrap: break-word;\n",
       "    word-break: break-all;\n",
       "    font-family: \"Source Code Pro\", \"Menlo\", monospace;;\n",
       "    font-size: 13px;\n",
       "    color: #555;\n",
       "    margin-left: 4px;\n",
       "    line-height: 19px;\n",
       "  }\n",
       "</style>\n",
       "<div class=\"ansiout\">root\n",
       "-- contentDetails_caption: string (nullable = true)\n",
       "-- contentDetails_contentRating_ytRating: string (nullable = true)\n",
       "-- contentDetails_definition: string (nullable = true)\n",
       "-- contentDetails_dimension: string (nullable = true)\n",
       "-- contentDetails_duration: string (nullable = true)\n",
       "-- contentDetails_licensedContent: boolean (nullable = true)\n",
       "-- contentDetails_projection: string (nullable = true)\n",
       "-- etag: string (nullable = true)\n",
       "-- id: string (nullable = true)\n",
       "-- kind: string (nullable = true)\n",
       "-- snippet_categoryId: string (nullable = true)\n",
       "-- snippet_channelId: string (nullable = true)\n",
       "-- snippet_channelTitle: string (nullable = true)\n",
       "-- snippet_defaultAudioLanguage: string (nullable = true)\n",
       "-- snippet_defaultLanguage: string (nullable = true)\n",
       "-- snippet_liveBroadcastContent: string (nullable = true)\n",
       "-- snippet_publishedAt: string (nullable = true)\n",
       "-- snippet_thumbnails_default_height: long (nullable = true)\n",
       "-- snippet_thumbnails_default_url: string (nullable = true)\n",
       "-- snippet_thumbnails_default_width: long (nullable = true)\n",
       "-- snippet_thumbnails_high_height: long (nullable = true)\n",
       "-- snippet_thumbnails_high_url: string (nullable = true)\n",
       "-- snippet_thumbnails_high_width: long (nullable = true)\n",
       "-- snippet_thumbnails_maxres_height: long (nullable = true)\n",
       "-- snippet_thumbnails_maxres_url: string (nullable = true)\n",
       "-- snippet_thumbnails_maxres_width: long (nullable = true)\n",
       "-- snippet_thumbnails_medium_height: long (nullable = true)\n",
       "-- snippet_thumbnails_medium_url: string (nullable = true)\n",
       "-- snippet_thumbnails_medium_width: long (nullable = true)\n",
       "-- snippet_thumbnails_standard_height: long (nullable = true)\n",
       "-- snippet_thumbnails_standard_url: string (nullable = true)\n",
       "-- snippet_thumbnails_standard_width: long (nullable = true)\n",
       "-- snippet_title: string (nullable = true)\n",
       "-- statistics_commentCount: long (nullable = true)\n",
       "-- statistics_dislikeCount: long (nullable = true)\n",
       "-- statistics_favoriteCount: long (nullable = true)\n",
       "-- statistics_likeCount: long (nullable = true)\n",
       "-- statistics_viewCount: long (nullable = true)\n",
       "-- status_embeddable: boolean (nullable = true)\n",
       "-- status_license: string (nullable = true)\n",
       "-- status_madeForKids: boolean (nullable = true)\n",
       "-- status_privacyStatus: string (nullable = true)\n",
       "-- status_publicStatsViewable: boolean (nullable = true)\n",
       "-- status_uploadStatus: string (nullable = true)\n",
       "\n",
       "</div>"
      ]
     },
     "metadata": {
      "application/vnd.databricks.v1+output": {
       "addedWidgets": {},
       "arguments": {},
       "data": "<div class=\"ansiout\">root\n |-- contentDetails_caption: string (nullable = true)\n |-- contentDetails_contentRating_ytRating: string (nullable = true)\n |-- contentDetails_definition: string (nullable = true)\n |-- contentDetails_dimension: string (nullable = true)\n |-- contentDetails_duration: string (nullable = true)\n |-- contentDetails_licensedContent: boolean (nullable = true)\n |-- contentDetails_projection: string (nullable = true)\n |-- etag: string (nullable = true)\n |-- id: string (nullable = true)\n |-- kind: string (nullable = true)\n |-- snippet_categoryId: string (nullable = true)\n |-- snippet_channelId: string (nullable = true)\n |-- snippet_channelTitle: string (nullable = true)\n |-- snippet_defaultAudioLanguage: string (nullable = true)\n |-- snippet_defaultLanguage: string (nullable = true)\n |-- snippet_liveBroadcastContent: string (nullable = true)\n |-- snippet_publishedAt: string (nullable = true)\n |-- snippet_thumbnails_default_height: long (nullable = true)\n |-- snippet_thumbnails_default_url: string (nullable = true)\n |-- snippet_thumbnails_default_width: long (nullable = true)\n |-- snippet_thumbnails_high_height: long (nullable = true)\n |-- snippet_thumbnails_high_url: string (nullable = true)\n |-- snippet_thumbnails_high_width: long (nullable = true)\n |-- snippet_thumbnails_maxres_height: long (nullable = true)\n |-- snippet_thumbnails_maxres_url: string (nullable = true)\n |-- snippet_thumbnails_maxres_width: long (nullable = true)\n |-- snippet_thumbnails_medium_height: long (nullable = true)\n |-- snippet_thumbnails_medium_url: string (nullable = true)\n |-- snippet_thumbnails_medium_width: long (nullable = true)\n |-- snippet_thumbnails_standard_height: long (nullable = true)\n |-- snippet_thumbnails_standard_url: string (nullable = true)\n |-- snippet_thumbnails_standard_width: long (nullable = true)\n |-- snippet_title: string (nullable = true)\n |-- statistics_commentCount: long (nullable = true)\n |-- statistics_dislikeCount: long (nullable = true)\n |-- statistics_favoriteCount: long (nullable = true)\n |-- statistics_likeCount: long (nullable = true)\n |-- statistics_viewCount: long (nullable = true)\n |-- status_embeddable: boolean (nullable = true)\n |-- status_license: string (nullable = true)\n |-- status_madeForKids: boolean (nullable = true)\n |-- status_privacyStatus: string (nullable = true)\n |-- status_publicStatsViewable: boolean (nullable = true)\n |-- status_uploadStatus: string (nullable = true)\n\n</div>",
       "datasetInfos": [],
       "removedWidgets": [],
       "type": "html"
      }
     },
     "output_type": "display_data"
    }
   ],
   "source": [
    "# Get rid of the long description content before storing in warehouse\n",
    "to_drop = ['snippet_description', 'snippet_localized_description', 'snippet_localized_title']\n",
    "df_clean = df_casted.drop(*to_drop)\n",
    "\n",
    "# Some titles are longer than the default 256-byte length...\n",
    "df_clean = df_clean.withColumn('snippet_title', df_clean['snippet_title'].alias('snippet_title', metadata={'redshift_type': 'VARCHAR(512)'}))\n",
    "\n",
    "df_clean.printSchema()"
   ]
  },
  {
   "cell_type": "markdown",
   "metadata": {
    "application/vnd.databricks.v1+cell": {
     "inputWidgets": {},
     "nuid": "8a5130ae-590d-4bef-b61c-8e9a1bc2ff60",
     "showTitle": false,
     "title": ""
    }
   },
   "source": [
    "## Loading data onto Redshift\n",
    "\n",
    "Now that your data is properly formatted, clean and tidy, you just finished the `transform` step of your ETL pipeline, congratulations!\n",
    "\n",
    "What you need to do now is to **LOAD** this data into a place where it can be stored for later analysis. Today, you will load this data into a widely used Data Warehousing solution: [Amazon Redshift](https://aws.amazon.com/redshift/)\n",
    "\n",
    "The [spark-redshift documentation](https://docs.databricks.com/data/data-sources/aws/amazon-redshift.html) can be helpful... Don't hesistate to have a look."
   ]
  },
  {
   "cell_type": "code",
   "execution_count": null,
   "metadata": {
    "application/vnd.databricks.v1+cell": {
     "inputWidgets": {},
     "nuid": "80e99203-38eb-4185-8132-0486d25e0af8",
     "showTitle": false,
     "title": ""
    }
   },
   "outputs": [
    {
     "data": {
      "text/html": [
       "<style scoped>\n",
       "  .ansiout {\n",
       "    display: block;\n",
       "    unicode-bidi: embed;\n",
       "    white-space: pre-wrap;\n",
       "    word-wrap: break-word;\n",
       "    word-break: break-all;\n",
       "    font-family: \"Source Code Pro\", \"Menlo\", monospace;;\n",
       "    font-size: 13px;\n",
       "    color: #555;\n",
       "    margin-left: 4px;\n",
       "    line-height: 19px;\n",
       "  }\n",
       "</style>\n",
       "<div class=\"ansiout\"></div>"
      ]
     },
     "metadata": {
      "application/vnd.databricks.v1+output": {
       "addedWidgets": {},
       "arguments": {},
       "data": "<div class=\"ansiout\"></div>",
       "datasetInfos": [],
       "removedWidgets": [],
       "type": "html"
      }
     },
     "output_type": "display_data"
    }
   ],
   "source": [
    "# TODO: set up your Redshift parameters\n",
    "# NOTE: again, this is not the appropriate way to this... You should, at least, use environment variables for the password\n",
    "# however we are in databricks so let's do it this way anyway\n",
    "REDSHIFT_USER = 'YOUR_REDSHIFT_USERNAME'\n",
    "REDSHIFT_PASSWORD = 'YOUR_REDSHIFT_PASSWORD'\n",
    "\n",
    "redshift_path_full = \"JDBC_LINK\" # don't forget to replace \"redshift\" by \"postgresql\"\n",
    "REDSHIFT_TABLE = 'NAME_OF_THE_TABLE'"
   ]
  },
  {
   "cell_type": "markdown",
   "metadata": {
    "application/vnd.databricks.v1+cell": {
     "inputWidgets": {},
     "nuid": "71af55cf-b0ce-4dd6-abe3-f7455ff6d522",
     "showTitle": false,
     "title": ""
    }
   },
   "source": [
    "As written in this [tutorial](https://github.com/databricks/spark-redshift/tree/master/tutorial), there are several modes you can choose from when loading data from Spark to Redshift. \n",
    "\n",
    "The 4 `mode` to choose from are:\n",
    "  - `overwrite`: drop the table if it exists, then load the data in a new one\n",
    "  - `append`: create the table if it does not exists, else append the data to the existing table\n",
    "  - `error` (default) : create the table or raise an error if it exists\n",
    "  - `ignore`: same as `overwrite`, but does nothing if table already exists\n",
    "\n",
    "We ask you to use the `overwrite` mode here. Also, you need to set the option `tempformat` to `csv` because the default Avro format does not allow non letter characters (such as `_`) in columns names."
   ]
  },
  {
   "cell_type": "code",
   "execution_count": null,
   "metadata": {
    "application/vnd.databricks.v1+cell": {
     "inputWidgets": {},
     "nuid": "8329b0fe-eee4-4663-9608-154e1254728f",
     "showTitle": false,
     "title": ""
    }
   },
   "outputs": [
    {
     "data": {
      "text/html": [
       "<style scoped>\n",
       "  .ansiout {\n",
       "    display: block;\n",
       "    unicode-bidi: embed;\n",
       "    white-space: pre-wrap;\n",
       "    word-wrap: break-word;\n",
       "    word-break: break-all;\n",
       "    font-family: \"Source Code Pro\", \"Menlo\", monospace;;\n",
       "    font-size: 13px;\n",
       "    color: #555;\n",
       "    margin-left: 4px;\n",
       "    line-height: 19px;\n",
       "  }\n",
       "</style>\n",
       "<div class=\"ansiout\"></div>"
      ]
     },
     "metadata": {
      "application/vnd.databricks.v1+output": {
       "addedWidgets": {},
       "arguments": {},
       "data": "<div class=\"ansiout\"></div>",
       "datasetInfos": [],
       "removedWidgets": [],
       "type": "html"
      }
     },
     "output_type": "display_data"
    }
   ],
   "source": [
    "mode = \"overwrite\"\n",
    "properties = {\"user\": REDSHIFT_USER, \"password\": REDSHIFT_PASSWORD, \"driver\": \"org.postgresql.Driver\"}\n",
    "\n",
    "df_clean.limit(10).write.jdbc(url=redshift_path_full, table=REDSHIFT_TABLE, mode=mode, properties=properties)"
   ]
  },
  {
   "cell_type": "markdown",
   "metadata": {
    "application/vnd.databricks.v1+cell": {
     "inputWidgets": {},
     "nuid": "580f8354-e9be-4cdb-9914-dc92a67818ae",
     "showTitle": false,
     "title": ""
    }
   },
   "source": [
    "Now that the data is uploaded to redshift we way also load them back into spark"
   ]
  },
  {
   "cell_type": "code",
   "execution_count": null,
   "metadata": {
    "application/vnd.databricks.v1+cell": {
     "inputWidgets": {},
     "nuid": "e531384a-db77-4dad-a4c1-4de21ad9b2ea",
     "showTitle": false,
     "title": ""
    }
   },
   "outputs": [],
   "source": [
    "# TODO: set up your Redshift parameters\n",
    "# NOTE: again, this is not the appropriate way to this... You should, at least, use environment variables for the password\n",
    "# Change the credentials according to your specific redshift.\n",
    "REDSHIFT_USER = 'YOUR_REDSHIFT_USERNAME'\n",
    "REDSHIFT_PASSWORD = 'YOUR_REDSHIFT_PASSWORD'\n",
    "\n",
    "redshift_path_full = \"JDBC_LINK\" # don't forget to replace \"redshift\" by \"postgresql\"\n",
    "REDSHIFT_TABLE = 'NAME_OF_THE_TABLE'"
   ]
  },
  {
   "cell_type": "code",
   "execution_count": null,
   "metadata": {
    "application/vnd.databricks.v1+cell": {
     "inputWidgets": {},
     "nuid": "07ef2783-6af1-4fa8-bacc-481d23cbc877",
     "showTitle": false,
     "title": ""
    }
   },
   "outputs": [],
   "source": [
    "properties = {\"user\": REDSHIFT_USER, \"password\": REDSHIFT_PASSWORD, \"driver\": \"org.postgresql.Driver\"}\n",
    "\n",
    "songs_raw = sqlContext.read.jdbc(url=REDSHIFT_URL, table=REDSHIFT_TABLE, properties=properties)"
   ]
  },
  {
   "cell_type": "code",
   "execution_count": null,
   "metadata": {
    "application/vnd.databricks.v1+cell": {
     "inputWidgets": {},
     "nuid": "0dd54dd7-5cfa-4c70-b4fd-db960afee5b5",
     "showTitle": false,
     "title": ""
    }
   },
   "outputs": [],
   "source": [
    "# TODO: Load the data from Redshift into a PySpark DataFrame: `songs_raw`\n",
    "### BEGIN STRIP ###\n",
    "songs_raw = spark.read \\\n",
    "  .format(\"com.databricks.spark.redshift\") \\\n",
    "  .option(\"url\", REDSHIFT_URL) \\\n",
    "  .option(\"user\", REDSHIFT_USER) \\\n",
    "  .option(\"password\", REDSHIFT_PASSWORD) \\\n",
    "  .option(\"dbtable\", REDSHIFT_TABLE) \\\n",
    "  .option('aws_iam_role', REDSHIFT_IAM_ROLE) \\\n",
    "  .option('tempformat', 'csv') \\\n",
    "  .option('tempdir', REDSHIFT_TEMP_DIR) \\\n",
    "  .load()\n",
    "### END STRIP ###"
   ]
  }
 ],
 "metadata": {
  "application/vnd.databricks.v1+notebook": {
   "dashboards": [],
   "language": "python",
   "notebookMetadata": {
    "pythonIndentUnit": 2
   },
   "notebookName": "04-Redshift_ingestion_solutions",
   "notebookOrigID": 4407832410620865,
   "widgets": {}
  },
  "kernelspec": {
   "display_name": "Python 3",
   "language": "python",
   "name": "python3"
  },
  "language_info": {
   "codemirror_mode": {
    "name": "ipython",
    "version": 3
   },
   "file_extension": ".py",
   "mimetype": "text/x-python",
   "name": "python",
   "nbconvert_exporter": "python",
   "pygments_lexer": "ipython3",
   "version": "3.8.3"
  }
 },
 "nbformat": 4,
 "nbformat_minor": 4
}
