{
 "cells": [
  {
   "cell_type": "markdown",
   "metadata": {
    "application/vnd.databricks.v1+cell": {
     "cellMetadata": {},
     "inputWidgets": {},
     "nuid": "9a63cff3-3b4b-4f0d-b62a-fab5faef6fc6",
     "showTitle": false,
     "title": ""
    }
   },
   "source": [
    "# Tidying up our data - Part 2\n",
    "## Flattening a nested schema"
   ]
  },
  {
   "cell_type": "markdown",
   "metadata": {
    "application/vnd.databricks.v1+cell": {
     "cellMetadata": {},
     "inputWidgets": {},
     "nuid": "c0e36336-c92d-4226-b064-02d8f01a619a",
     "showTitle": false,
     "title": ""
    }
   },
   "source": [
    "As usual, we'll start by loading the data.  \n",
    "Because we expect you to know how to setup things so that you can load data from S3, we're doing it for you now.  \n",
    "Make sure you go through our code and check that you were actually using our best practices."
   ]
  },
  {
   "cell_type": "code",
   "execution_count": 0,
   "metadata": {
    "application/vnd.databricks.v1+cell": {
     "cellMetadata": {
      "byteLimit": 2048000,
      "rowLimit": 10000
     },
     "inputWidgets": {},
     "nuid": "f1531336-eb00-4fe2-af3d-279c4be9b76f",
     "showTitle": false,
     "title": ""
    }
   },
   "outputs": [],
   "source": [
    "items_exploded_path = \"s3://full-stack-bigdata-datasets/Big_Data/YOUTUBE/items_exploded.json\"\n",
    "df = spark.read.json(items_exploded_path)"
   ]
  },
  {
   "cell_type": "markdown",
   "metadata": {
    "application/vnd.databricks.v1+cell": {
     "cellMetadata": {},
     "inputWidgets": {},
     "nuid": "16173669-5201-4db9-8cde-8b86747908d3",
     "showTitle": false,
     "title": ""
    }
   },
   "source": [
    "1. As a sanity check, count the rows in the DataFrame"
   ]
  },
  {
   "cell_type": "code",
   "execution_count": 0,
   "metadata": {
    "application/vnd.databricks.v1+cell": {
     "cellMetadata": {
      "byteLimit": 2048000,
      "rowLimit": 10000
     },
     "inputWidgets": {},
     "nuid": "057900e2-ba18-4656-b927-f99976411288",
     "showTitle": false,
     "title": ""
    }
   },
   "outputs": [
    {
     "output_type": "stream",
     "name": "stdout",
     "output_type": "stream",
     "text": [
      "Out[3]: 3907"
     ]
    }
   ],
   "source": [
    "df.count()"
   ]
  },
  {
   "cell_type": "markdown",
   "metadata": {
    "application/vnd.databricks.v1+cell": {
     "cellMetadata": {},
     "inputWidgets": {},
     "nuid": "0a4b12e6-fbec-489d-ac5c-979dc57536da",
     "showTitle": false,
     "title": ""
    }
   },
   "source": [
    "2. Print out the schema of the DataFrame"
   ]
  },
  {
   "cell_type": "code",
   "execution_count": 0,
   "metadata": {
    "application/vnd.databricks.v1+cell": {
     "cellMetadata": {
      "byteLimit": 2048000,
      "rowLimit": 10000
     },
     "inputWidgets": {},
     "nuid": "5ce988b8-ea74-44a5-9915-c93a69045353",
     "showTitle": false,
     "title": ""
    }
   },
   "outputs": [
    {
     "output_type": "stream",
     "name": "stdout",
     "output_type": "stream",
     "text": [
      "root\n |-- items: struct (nullable = true)\n |    |-- contentDetails: struct (nullable = true)\n |    |    |-- caption: string (nullable = true)\n |    |    |-- contentRating: struct (nullable = true)\n |    |    |    |-- ytRating: string (nullable = true)\n |    |    |-- definition: string (nullable = true)\n |    |    |-- dimension: string (nullable = true)\n |    |    |-- duration: string (nullable = true)\n |    |    |-- licensedContent: boolean (nullable = true)\n |    |    |-- projection: string (nullable = true)\n |    |    |-- regionRestriction: struct (nullable = true)\n |    |    |    |-- allowed: array (nullable = true)\n |    |    |    |    |-- element: string (containsNull = true)\n |    |    |    |-- blocked: array (nullable = true)\n |    |    |    |    |-- element: string (containsNull = true)\n |    |-- etag: string (nullable = true)\n |    |-- id: string (nullable = true)\n |    |-- kind: string (nullable = true)\n |    |-- snippet: struct (nullable = true)\n |    |    |-- categoryId: string (nullable = true)\n |    |    |-- channelId: string (nullable = true)\n |    |    |-- channelTitle: string (nullable = true)\n |    |    |-- defaultAudioLanguage: string (nullable = true)\n |    |    |-- defaultLanguage: string (nullable = true)\n |    |    |-- description: string (nullable = true)\n |    |    |-- liveBroadcastContent: string (nullable = true)\n |    |    |-- localized: struct (nullable = true)\n |    |    |    |-- description: string (nullable = true)\n |    |    |    |-- title: string (nullable = true)\n |    |    |-- publishedAt: string (nullable = true)\n |    |    |-- tags: array (nullable = true)\n |    |    |    |-- element: string (containsNull = true)\n |    |    |-- thumbnails: struct (nullable = true)\n |    |    |    |-- default: struct (nullable = true)\n |    |    |    |    |-- height: long (nullable = true)\n |    |    |    |    |-- url: string (nullable = true)\n |    |    |    |    |-- width: long (nullable = true)\n |    |    |    |-- high: struct (nullable = true)\n |    |    |    |    |-- height: long (nullable = true)\n |    |    |    |    |-- url: string (nullable = true)\n |    |    |    |    |-- width: long (nullable = true)\n |    |    |    |-- maxres: struct (nullable = true)\n |    |    |    |    |-- height: long (nullable = true)\n |    |    |    |    |-- url: string (nullable = true)\n |    |    |    |    |-- width: long (nullable = true)\n |    |    |    |-- medium: struct (nullable = true)\n |    |    |    |    |-- height: long (nullable = true)\n |    |    |    |    |-- url: string (nullable = true)\n |    |    |    |    |-- width: long (nullable = true)\n |    |    |    |-- standard: struct (nullable = true)\n |    |    |    |    |-- height: long (nullable = true)\n |    |    |    |    |-- url: string (nullable = true)\n |    |    |    |    |-- width: long (nullable = true)\n |    |    |-- title: string (nullable = true)\n |    |-- statistics: struct (nullable = true)\n |    |    |-- commentCount: string (nullable = true)\n |    |    |-- dislikeCount: string (nullable = true)\n |    |    |-- favoriteCount: string (nullable = true)\n |    |    |-- likeCount: string (nullable = true)\n |    |    |-- viewCount: string (nullable = true)\n |    |-- status: struct (nullable = true)\n |    |    |-- embeddable: boolean (nullable = true)\n |    |    |-- license: string (nullable = true)\n |    |    |-- madeForKids: boolean (nullable = true)\n |    |    |-- privacyStatus: string (nullable = true)\n |    |    |-- publicStatsViewable: boolean (nullable = true)\n |    |    |-- uploadStatus: string (nullable = true)\n |    |-- topicDetails: struct (nullable = true)\n |    |    |-- relevantTopicIds: array (nullable = true)\n |    |    |    |-- element: string (containsNull = true)\n |    |    |-- topicCategories: array (nullable = true)\n |    |    |    |-- element: string (containsNull = true)\n\n"
     ]
    }
   ],
   "source": [
    "df.printSchema()"
   ]
  },
  {
   "cell_type": "code",
   "execution_count": 0,
   "metadata": {
    "application/vnd.databricks.v1+cell": {
     "cellMetadata": {
      "byteLimit": 2048000,
      "rowLimit": 10000
     },
     "inputWidgets": {},
     "nuid": "f5581ba3-9993-44d3-8f71-a7cda490b138",
     "showTitle": false,
     "title": ""
    }
   },
   "outputs": [
    {
     "output_type": "stream",
     "name": "stdout",
     "output_type": "stream",
     "text": [
      "Out[8]: ['items']"
     ]
    }
   ],
   "source": [
    "df.columns"
   ]
  },
  {
   "cell_type": "markdown",
   "metadata": {
    "application/vnd.databricks.v1+cell": {
     "cellMetadata": {},
     "inputWidgets": {},
     "nuid": "06a4c1c5-8572-4f02-8f35-a623abf3658b",
     "showTitle": false,
     "title": ""
    }
   },
   "source": [
    "### Working with the schema"
   ]
  },
  {
   "cell_type": "markdown",
   "metadata": {
    "application/vnd.databricks.v1+cell": {
     "cellMetadata": {},
     "inputWidgets": {},
     "nuid": "ae32b54b-b71e-44dd-866b-0ac73e5628be",
     "showTitle": false,
     "title": ""
    }
   },
   "source": [
    "We're ready to get started :)\n",
    "\n",
    "Our schema is like a tree, we want to collect all its leaves and put them neatly as columns of our DataFrame.  \n",
    "That's called **flattening a schema**."
   ]
  },
  {
   "cell_type": "markdown",
   "metadata": {
    "application/vnd.databricks.v1+cell": {
     "cellMetadata": {},
     "inputWidgets": {},
     "nuid": "6150bfbf-544c-47fc-9061-0f92ddaa14d2",
     "showTitle": false,
     "title": ""
    }
   },
   "source": [
    "Let's give it a try with the `title` element inside the `items` columns, then into the nested field `snippet`, and finally in the nested subfield `title`.\n",
    "\n",
    "You can do this using the `.getField()` column method [documentation](https://spark.apache.org/docs/latest/api/python/pyspark.sql.html#pyspark.sql.Column.getField).\n",
    "\n",
    "3. Select the `title` subfield from the `snippet` subfield in the `items` column show the first 5 elements"
   ]
  },
  {
   "cell_type": "code",
   "execution_count": 0,
   "metadata": {
    "application/vnd.databricks.v1+cell": {
     "cellMetadata": {
      "byteLimit": 2048000,
      "rowLimit": 10000
     },
     "inputWidgets": {},
     "nuid": "da5cdd62-005a-4caf-a8fc-38c9efc8530e",
     "showTitle": false,
     "title": ""
    }
   },
   "outputs": [
    {
     "output_type": "stream",
     "name": "stdout",
     "output_type": "stream",
     "text": [
      "+--------------------+\n|               items|\n+--------------------+\n|VOLO. \"L'air d'un...|\n|Julian Jeweil - A...|\n| Justice - D.A.N.C.E|\n|Gramatik - Tortur...|\n|Ben Howard - Oats...|\n|RA Sessions: DARK...|\n| Dusty Kid - America|\n|MØ - Waste Of Tim...|\n|[Electronic] - Pe...|\n|Always Coca Cola ...|\n|Dom La Nena  03 V...|\n|Lazare Hoche - Lu...|\n|Liars - The Other...|\n|NTM - That's my p...|\n|La maman et la pu...|\n|The Strokes - Aut...|\n|Skyden feat. Sask...|\n|Gift of Gab - El ...|\n|Down in Mexico by...|\n|Phoenix - If I Ev...|\n+--------------------+\nonly showing top 20 rows\n\n"
     ]
    }
   ],
   "source": [
    "from pyspark.sql import functions as F\n",
    "df.withColumn('items', F.col('items').getField('snippet').getField('title')).show()"
   ]
  },
  {
   "cell_type": "code",
   "execution_count": 0,
   "metadata": {
    "application/vnd.databricks.v1+cell": {
     "cellMetadata": {
      "byteLimit": 2048000,
      "rowLimit": 10000
     },
     "inputWidgets": {},
     "nuid": "ccf64b8d-19f1-42e1-b4df-4efcf9f1757c",
     "showTitle": false,
     "title": ""
    }
   },
   "outputs": [
    {
     "output_type": "stream",
     "name": "stdout",
     "output_type": "stream",
     "text": [
      "+--------------------+\n| items.snippet.title|\n+--------------------+\n|VOLO. \"L'air d'un...|\n|Julian Jeweil - A...|\n| Justice - D.A.N.C.E|\n|Gramatik - Tortur...|\n|Ben Howard - Oats...|\n|RA Sessions: DARK...|\n| Dusty Kid - America|\n|MØ - Waste Of Tim...|\n|[Electronic] - Pe...|\n|Always Coca Cola ...|\n|Dom La Nena  03 V...|\n|Lazare Hoche - Lu...|\n|Liars - The Other...|\n|NTM - That's my p...|\n|La maman et la pu...|\n|The Strokes - Aut...|\n|Skyden feat. Sask...|\n|Gift of Gab - El ...|\n|Down in Mexico by...|\n|Phoenix - If I Ev...|\n+--------------------+\nonly showing top 20 rows\n\n"
     ]
    }
   ],
   "source": [
    "df.select(F.col('items').getField('snippet').getField('title')).show()"
   ]
  },
  {
   "cell_type": "markdown",
   "metadata": {
    "application/vnd.databricks.v1+cell": {
     "cellMetadata": {},
     "inputWidgets": {},
     "nuid": "5bfd7c8f-b128-46b5-975e-c04b5f4811c6",
     "showTitle": false,
     "title": ""
    }
   },
   "source": [
    "That's it, easy peasy 🙂.\n",
    "\n",
    "We could just keep doing this for every single leaf of the schema and we're done.\n",
    "\n",
    "I don't know about you, but I think this is incredebly **boring**. Also, what if tomorrow, Youtube adds a new leaf to its API results?\n",
    "\n",
    "Come on, we're programmers, we're **supposed to automate stuff, aren't we?**\n",
    "\n",
    "What we need is a way to build that list of leaves... \n",
    "Not gonna lie, it's not trivial, it's called a tree traversal and this is beyond the scope of this course.\n",
    "\n",
    "Which means we will do this part for you. In the following cell, we've included a function called `walkSchema`. What this functions does, is that it walk the schema of our DataFrame with a nested schema and harvest its leave. Returning them with full path like this `items.snippet.title` as a string.\n",
    "\n",
    "Well, \"returning\", not exactly. But we will see about that later.\n",
    "\n",
    "**[TODO]**\n",
    "Take a look at the function, you're not supposed to understand what it does, this is beyond the scope of this course.  \n",
    "But when you're learning, it's always a good idea to be exposed to new things."
   ]
  },
  {
   "cell_type": "code",
   "execution_count": 0,
   "metadata": {
    "application/vnd.databricks.v1+cell": {
     "cellMetadata": {
      "byteLimit": 2048000,
      "rowLimit": 10000
     },
     "inputWidgets": {},
     "nuid": "9a26fc7b-e558-4556-94f3-f101dd0b8e30",
     "showTitle": false,
     "title": ""
    }
   },
   "outputs": [
    {
     "output_type": "stream",
     "name": "stdout",
     "output_type": "stream",
     "text": [
      "Out[15]: {'type': 'struct',\n 'fields': [{'name': 'items',\n   'type': {'type': 'struct',\n    'fields': [{'name': 'contentDetails',\n      'type': {'type': 'struct',\n       'fields': [{'name': 'caption',\n         'type': 'string',\n         'nullable': True,\n         'metadata': {}},\n        {'name': 'contentRating',\n         'type': {'type': 'struct',\n          'fields': [{'name': 'ytRating',\n            'type': 'string',\n            'nullable': True,\n            'metadata': {}}]},\n         'nullable': True,\n         'metadata': {}},\n        {'name': 'definition',\n         'type': 'string',\n         'nullable': True,\n         'metadata': {}},\n        {'name': 'dimension',\n         'type': 'string',\n         'nullable': True,\n         'metadata': {}},\n        {'name': 'duration',\n         'type': 'string',\n         'nullable': True,\n         'metadata': {}},\n        {'name': 'licensedContent',\n         'type': 'boolean',\n         'nullable': True,\n         'metadata': {}},\n        {'name': 'projection',\n         'type': 'string',\n         'nullable': True,\n         'metadata': {}},\n        {'name': 'regionRestriction',\n         'type': {'type': 'struct',\n          'fields': [{'name': 'allowed',\n            'type': {'type': 'array',\n             'elementType': 'string',\n             'containsNull': True},\n            'nullable': True,\n            'metadata': {}},\n           {'name': 'blocked',\n            'type': {'type': 'array',\n             'elementType': 'string',\n             'containsNull': True},\n            'nullable': True,\n            'metadata': {}}]},\n         'nullable': True,\n         'metadata': {}}]},\n      'nullable': True,\n      'metadata': {}},\n     {'name': 'etag', 'type': 'string', 'nullable': True, 'metadata': {}},\n     {'name': 'id', 'type': 'string', 'nullable': True, 'metadata': {}},\n     {'name': 'kind', 'type': 'string', 'nullable': True, 'metadata': {}},\n     {'name': 'snippet',\n      'type': {'type': 'struct',\n       'fields': [{'name': 'categoryId',\n         'type': 'string',\n         'nullable': True,\n         'metadata': {}},\n        {'name': 'channelId',\n         'type': 'string',\n         'nullable': True,\n         'metadata': {}},\n        {'name': 'channelTitle',\n         'type': 'string',\n         'nullable': True,\n         'metadata': {}},\n        {'name': 'defaultAudioLanguage',\n         'type': 'string',\n         'nullable': True,\n         'metadata': {}},\n        {'name': 'defaultLanguage',\n         'type': 'string',\n         'nullable': True,\n         'metadata': {}},\n        {'name': 'description',\n         'type': 'string',\n         'nullable': True,\n         'metadata': {}},\n        {'name': 'liveBroadcastContent',\n         'type': 'string',\n         'nullable': True,\n         'metadata': {}},\n        {'name': 'localized',\n         'type': {'type': 'struct',\n          'fields': [{'name': 'description',\n            'type': 'string',\n            'nullable': True,\n            'metadata': {}},\n           {'name': 'title',\n            'type': 'string',\n            'nullable': True,\n            'metadata': {}}]},\n         'nullable': True,\n         'metadata': {}},\n        {'name': 'publishedAt',\n         'type': 'string',\n         'nullable': True,\n         'metadata': {}},\n        {'name': 'tags',\n         'type': {'type': 'array',\n          'elementType': 'string',\n          'containsNull': True},\n         'nullable': True,\n         'metadata': {}},\n        {'name': 'thumbnails',\n         'type': {'type': 'struct',\n          'fields': [{'name': 'default',\n            'type': {'type': 'struct',\n             'fields': [{'name': 'height',\n               'type': 'long',\n               'nullable': True,\n               'metadata': {}},\n              {'name': 'url',\n               'type': 'string',\n               'nullable': True,\n               'metadata': {}},\n              {'name': 'width',\n               'type': 'long',\n               'nullable': True,\n               'metadata': {}}]},\n            'nullable': True,\n            'metadata': {}},\n           {'name': 'high',\n            'type': {'type': 'struct',\n             'fields': [{'name': 'height',\n               'type': 'long',\n               'nullable': True,\n               'metadata': {}},\n              {'name': 'url',\n               'type': 'string',\n               'nullable': True,\n               'metadata': {}},\n              {'name': 'width',\n               'type': 'long',\n               'nullable': True,\n               'metadata': {}}]},\n            'nullable': True,\n            'metadata': {}},\n           {'name': 'maxres',\n            'type': {'type': 'struct',\n             'fields': [{'name': 'height',\n               'type': 'long',\n               'nullable': True,\n               'metadata': {}},\n              {'name': 'url',\n               'type': 'string',\n               'nullable': True,\n               'metadata': {}},\n              {'name': 'width',\n               'type': 'long',\n               'nullable': True,\n               'metadata': {}}]},\n            'nullable': True,\n            'metadata': {}},\n           {'name': 'medium',\n            'type': {'type': 'struct',\n             'fields': [{'name': 'height',\n               'type': 'long',\n               'nullable': True,\n               'metadata': {}},\n              {'name': 'url',\n               'type': 'string',\n               'nullable': True,\n               'metadata': {}},\n              {'name': 'width',\n               'type': 'long',\n               'nullable': True,\n               'metadata': {}}]},\n            'nullable': True,\n            'metadata': {}},\n           {'name': 'standard',\n            'type': {'type': 'struct',\n             'fields': [{'name': 'height',\n               'type': 'long',\n               'nullable': True,\n               'metadata': {}},\n              {'name': 'url',\n               'type': 'string',\n               'nullable': True,\n               'metadata': {}},\n              {'name': 'width',\n               'type': 'long',\n               'nullable': True,\n               'metadata': {}}]},\n            'nullable': True,\n            'metadata': {}}]},\n         'nullable': True,\n         'metadata': {}},\n        {'name': 'title',\n         'type': 'string',\n         'nullable': True,\n         'metadata': {}}]},\n      'nullable': True,\n      'metadata': {}},\n     {'name': 'statistics',\n      'type': {'type': 'struct',\n       'fields': [{'name': 'commentCount',\n         'type': 'string',\n         'nullable': True,\n         'metadata': {}},\n        {'name': 'dislikeCount',\n         'type': 'string',\n         'nullable': True,\n         'metadata': {}},\n        {'name': 'favoriteCount',\n         'type': 'string',\n         'nullable': True,\n         'metadata': {}},\n        {'name': 'likeCount',\n         'type': 'string',\n         'nullable': True,\n         'metadata': {}},\n        {'name': 'viewCount',\n         'type': 'string',\n         'nullable': True,\n         'metadata': {}}]},\n      'nullable': True,\n      'metadata': {}},\n     {'name': 'status',\n      'type': {'type': 'struct',\n       'fields': [{'name': 'embeddable',\n         'type': 'boolean',\n         'nullable': True,\n         'metadata': {}},\n        {'name': 'license',\n         'type': 'string',\n         'nullable': True,\n         'metadata': {}},\n        {'name': 'madeForKids',\n         'type': 'boolean',\n         'nullable': True,\n         'metadata': {}},\n        {'name': 'privacyStatus',\n         'type': 'string',\n         'nullable': True,\n         'metadata': {}},\n        {'name': 'publicStatsViewable',\n         'type': 'boolean',\n         'nullable': True,\n         'metadata': {}},\n        {'name': 'uploadStatus',\n         'type': 'string',\n         'nullable': True,\n         'metadata': {}}]},\n      'nullable': True,\n      'metadata': {}},\n     {'name': 'topicDetails',\n      'type': {'type': 'struct',\n       'fields': [{'name': 'relevantTopicIds',\n         'type': {'type': 'array',\n          'elementType': 'string',\n          'containsNull': True},\n         'nullable': True,\n         'metadata': {}},\n        {'name': 'topicCategories',\n         'type': {'type': 'array',\n          'elementType': 'string',\n          'containsNull': True},\n         'nullable': True,\n         'metadata': {}}]},\n      'nullable': True,\n      'metadata': {}}]},\n   'nullable': True,\n   'metadata': {}}]}"
     ]
    }
   ],
   "source": [
    "# Let's give you the intuition for the flattening function we will share with you now\n",
    "# The idea is to automatically dig deeper and deeper into the schema in order to extract\n",
    "# all the column names in the form \"array1.array2.array3.field1\", let's go!\n",
    "\n",
    "# we'll work with the schema in json format, which will be way easier to manipulate\n",
    "df.schema.jsonValue()\n",
    "\n",
    "# It's nothing more than a dictionnary with keys"
   ]
  },
  {
   "cell_type": "code",
   "execution_count": 0,
   "metadata": {
    "application/vnd.databricks.v1+cell": {
     "cellMetadata": {
      "byteLimit": 2048000,
      "rowLimit": 10000
     },
     "inputWidgets": {},
     "nuid": "ef14328d-bda1-47e3-839f-8dadebe620df",
     "showTitle": false,
     "title": ""
    }
   },
   "outputs": [
    {
     "output_type": "stream",
     "name": "stdout",
     "output_type": "stream",
     "text": [
      "Out[16]: dict_keys(['type', 'fields'])"
     ]
    }
   ],
   "source": [
    "df.schema.jsonValue().keys()\n",
    "# Only two keys at this stage, type and fields, let's explore the type key"
   ]
  },
  {
   "cell_type": "code",
   "execution_count": 0,
   "metadata": {
    "application/vnd.databricks.v1+cell": {
     "cellMetadata": {
      "byteLimit": 2048000,
      "rowLimit": 10000
     },
     "inputWidgets": {},
     "nuid": "94dc91e7-eb55-4d85-9033-752db9b86757",
     "showTitle": false,
     "title": ""
    }
   },
   "outputs": [
    {
     "output_type": "stream",
     "name": "stdout",
     "output_type": "stream",
     "text": [
      "Out[17]: 'struct'"
     ]
    }
   ],
   "source": [
    "df.schema.jsonValue()[\"type\"]\n",
    "# The value associated is struct"
   ]
  },
  {
   "cell_type": "code",
   "execution_count": 0,
   "metadata": {
    "application/vnd.databricks.v1+cell": {
     "cellMetadata": {
      "byteLimit": 2048000,
      "rowLimit": 10000
     },
     "inputWidgets": {},
     "nuid": "bdcb2397-b213-4589-98a1-02742a181704",
     "showTitle": false,
     "title": ""
    }
   },
   "outputs": [
    {
     "output_type": "stream",
     "name": "stdout",
     "output_type": "stream",
     "text": [
      "Out[18]: [{'name': 'items',\n  'type': {'type': 'struct',\n   'fields': [{'name': 'contentDetails',\n     'type': {'type': 'struct',\n      'fields': [{'name': 'caption',\n        'type': 'string',\n        'nullable': True,\n        'metadata': {}},\n       {'name': 'contentRating',\n        'type': {'type': 'struct',\n         'fields': [{'name': 'ytRating',\n           'type': 'string',\n           'nullable': True,\n           'metadata': {}}]},\n        'nullable': True,\n        'metadata': {}},\n       {'name': 'definition',\n        'type': 'string',\n        'nullable': True,\n        'metadata': {}},\n       {'name': 'dimension',\n        'type': 'string',\n        'nullable': True,\n        'metadata': {}},\n       {'name': 'duration',\n        'type': 'string',\n        'nullable': True,\n        'metadata': {}},\n       {'name': 'licensedContent',\n        'type': 'boolean',\n        'nullable': True,\n        'metadata': {}},\n       {'name': 'projection',\n        'type': 'string',\n        'nullable': True,\n        'metadata': {}},\n       {'name': 'regionRestriction',\n        'type': {'type': 'struct',\n         'fields': [{'name': 'allowed',\n           'type': {'type': 'array',\n            'elementType': 'string',\n            'containsNull': True},\n           'nullable': True,\n           'metadata': {}},\n          {'name': 'blocked',\n           'type': {'type': 'array',\n            'elementType': 'string',\n            'containsNull': True},\n           'nullable': True,\n           'metadata': {}}]},\n        'nullable': True,\n        'metadata': {}}]},\n     'nullable': True,\n     'metadata': {}},\n    {'name': 'etag', 'type': 'string', 'nullable': True, 'metadata': {}},\n    {'name': 'id', 'type': 'string', 'nullable': True, 'metadata': {}},\n    {'name': 'kind', 'type': 'string', 'nullable': True, 'metadata': {}},\n    {'name': 'snippet',\n     'type': {'type': 'struct',\n      'fields': [{'name': 'categoryId',\n        'type': 'string',\n        'nullable': True,\n        'metadata': {}},\n       {'name': 'channelId',\n        'type': 'string',\n        'nullable': True,\n        'metadata': {}},\n       {'name': 'channelTitle',\n        'type': 'string',\n        'nullable': True,\n        'metadata': {}},\n       {'name': 'defaultAudioLanguage',\n        'type': 'string',\n        'nullable': True,\n        'metadata': {}},\n       {'name': 'defaultLanguage',\n        'type': 'string',\n        'nullable': True,\n        'metadata': {}},\n       {'name': 'description',\n        'type': 'string',\n        'nullable': True,\n        'metadata': {}},\n       {'name': 'liveBroadcastContent',\n        'type': 'string',\n        'nullable': True,\n        'metadata': {}},\n       {'name': 'localized',\n        'type': {'type': 'struct',\n         'fields': [{'name': 'description',\n           'type': 'string',\n           'nullable': True,\n           'metadata': {}},\n          {'name': 'title',\n           'type': 'string',\n           'nullable': True,\n           'metadata': {}}]},\n        'nullable': True,\n        'metadata': {}},\n       {'name': 'publishedAt',\n        'type': 'string',\n        'nullable': True,\n        'metadata': {}},\n       {'name': 'tags',\n        'type': {'type': 'array',\n         'elementType': 'string',\n         'containsNull': True},\n        'nullable': True,\n        'metadata': {}},\n       {'name': 'thumbnails',\n        'type': {'type': 'struct',\n         'fields': [{'name': 'default',\n           'type': {'type': 'struct',\n            'fields': [{'name': 'height',\n              'type': 'long',\n              'nullable': True,\n              'metadata': {}},\n             {'name': 'url',\n              'type': 'string',\n              'nullable': True,\n              'metadata': {}},\n             {'name': 'width',\n              'type': 'long',\n              'nullable': True,\n              'metadata': {}}]},\n           'nullable': True,\n           'metadata': {}},\n          {'name': 'high',\n           'type': {'type': 'struct',\n            'fields': [{'name': 'height',\n              'type': 'long',\n              'nullable': True,\n              'metadata': {}},\n             {'name': 'url',\n              'type': 'string',\n              'nullable': True,\n              'metadata': {}},\n             {'name': 'width',\n              'type': 'long',\n              'nullable': True,\n              'metadata': {}}]},\n           'nullable': True,\n           'metadata': {}},\n          {'name': 'maxres',\n           'type': {'type': 'struct',\n            'fields': [{'name': 'height',\n              'type': 'long',\n              'nullable': True,\n              'metadata': {}},\n             {'name': 'url',\n              'type': 'string',\n              'nullable': True,\n              'metadata': {}},\n             {'name': 'width',\n              'type': 'long',\n              'nullable': True,\n              'metadata': {}}]},\n           'nullable': True,\n           'metadata': {}},\n          {'name': 'medium',\n           'type': {'type': 'struct',\n            'fields': [{'name': 'height',\n              'type': 'long',\n              'nullable': True,\n              'metadata': {}},\n             {'name': 'url',\n              'type': 'string',\n              'nullable': True,\n              'metadata': {}},\n             {'name': 'width',\n              'type': 'long',\n              'nullable': True,\n              'metadata': {}}]},\n           'nullable': True,\n           'metadata': {}},\n          {'name': 'standard',\n           'type': {'type': 'struct',\n            'fields': [{'name': 'height',\n              'type': 'long',\n              'nullable': True,\n              'metadata': {}},\n             {'name': 'url',\n              'type': 'string',\n              'nullable': True,\n              'metadata': {}},\n             {'name': 'width',\n              'type': 'long',\n              'nullable': True,\n              'metadata': {}}]},\n           'nullable': True,\n           'metadata': {}}]},\n        'nullable': True,\n        'metadata': {}},\n       {'name': 'title', 'type': 'string', 'nullable': True, 'metadata': {}}]},\n     'nullable': True,\n     'metadata': {}},\n    {'name': 'statistics',\n     'type': {'type': 'struct',\n      'fields': [{'name': 'commentCount',\n        'type': 'string',\n        'nullable': True,\n        'metadata': {}},\n       {'name': 'dislikeCount',\n        'type': 'string',\n        'nullable': True,\n        'metadata': {}},\n       {'name': 'favoriteCount',\n        'type': 'string',\n        'nullable': True,\n        'metadata': {}},\n       {'name': 'likeCount',\n        'type': 'string',\n        'nullable': True,\n        'metadata': {}},\n       {'name': 'viewCount',\n        'type': 'string',\n        'nullable': True,\n        'metadata': {}}]},\n     'nullable': True,\n     'metadata': {}},\n    {'name': 'status',\n     'type': {'type': 'struct',\n      'fields': [{'name': 'embeddable',\n        'type': 'boolean',\n        'nullable': True,\n        'metadata': {}},\n       {'name': 'license', 'type': 'string', 'nullable': True, 'metadata': {}},\n       {'name': 'madeForKids',\n        'type': 'boolean',\n        'nullable': True,\n        'metadata': {}},\n       {'name': 'privacyStatus',\n        'type': 'string',\n        'nullable': True,\n        'metadata': {}},\n       {'name': 'publicStatsViewable',\n        'type': 'boolean',\n        'nullable': True,\n        'metadata': {}},\n       {'name': 'uploadStatus',\n        'type': 'string',\n        'nullable': True,\n        'metadata': {}}]},\n     'nullable': True,\n     'metadata': {}},\n    {'name': 'topicDetails',\n     'type': {'type': 'struct',\n      'fields': [{'name': 'relevantTopicIds',\n        'type': {'type': 'array',\n         'elementType': 'string',\n         'containsNull': True},\n        'nullable': True,\n        'metadata': {}},\n       {'name': 'topicCategories',\n        'type': {'type': 'array',\n         'elementType': 'string',\n         'containsNull': True},\n        'nullable': True,\n        'metadata': {}}]},\n     'nullable': True,\n     'metadata': {}}]},\n  'nullable': True,\n  'metadata': {}}]"
     ]
    }
   ],
   "source": [
    "# let's explore the content of the other key\n",
    "df.schema.jsonValue()[\"fields\"]"
   ]
  },
  {
   "cell_type": "code",
   "execution_count": 0,
   "metadata": {
    "application/vnd.databricks.v1+cell": {
     "cellMetadata": {
      "byteLimit": 2048000,
      "rowLimit": 10000
     },
     "inputWidgets": {},
     "nuid": "18b99b60-54db-41b1-9d88-0f7f44b284f3",
     "showTitle": false,
     "title": ""
    }
   },
   "outputs": [
    {
     "output_type": "stream",
     "name": "stdout",
     "output_type": "stream",
     "text": [
      "Out[19]: {'name': 'items',\n 'type': {'type': 'struct',\n  'fields': [{'name': 'contentDetails',\n    'type': {'type': 'struct',\n     'fields': [{'name': 'caption',\n       'type': 'string',\n       'nullable': True,\n       'metadata': {}},\n      {'name': 'contentRating',\n       'type': {'type': 'struct',\n        'fields': [{'name': 'ytRating',\n          'type': 'string',\n          'nullable': True,\n          'metadata': {}}]},\n       'nullable': True,\n       'metadata': {}},\n      {'name': 'definition',\n       'type': 'string',\n       'nullable': True,\n       'metadata': {}},\n      {'name': 'dimension',\n       'type': 'string',\n       'nullable': True,\n       'metadata': {}},\n      {'name': 'duration', 'type': 'string', 'nullable': True, 'metadata': {}},\n      {'name': 'licensedContent',\n       'type': 'boolean',\n       'nullable': True,\n       'metadata': {}},\n      {'name': 'projection',\n       'type': 'string',\n       'nullable': True,\n       'metadata': {}},\n      {'name': 'regionRestriction',\n       'type': {'type': 'struct',\n        'fields': [{'name': 'allowed',\n          'type': {'type': 'array',\n           'elementType': 'string',\n           'containsNull': True},\n          'nullable': True,\n          'metadata': {}},\n         {'name': 'blocked',\n          'type': {'type': 'array',\n           'elementType': 'string',\n           'containsNull': True},\n          'nullable': True,\n          'metadata': {}}]},\n       'nullable': True,\n       'metadata': {}}]},\n    'nullable': True,\n    'metadata': {}},\n   {'name': 'etag', 'type': 'string', 'nullable': True, 'metadata': {}},\n   {'name': 'id', 'type': 'string', 'nullable': True, 'metadata': {}},\n   {'name': 'kind', 'type': 'string', 'nullable': True, 'metadata': {}},\n   {'name': 'snippet',\n    'type': {'type': 'struct',\n     'fields': [{'name': 'categoryId',\n       'type': 'string',\n       'nullable': True,\n       'metadata': {}},\n      {'name': 'channelId',\n       'type': 'string',\n       'nullable': True,\n       'metadata': {}},\n      {'name': 'channelTitle',\n       'type': 'string',\n       'nullable': True,\n       'metadata': {}},\n      {'name': 'defaultAudioLanguage',\n       'type': 'string',\n       'nullable': True,\n       'metadata': {}},\n      {'name': 'defaultLanguage',\n       'type': 'string',\n       'nullable': True,\n       'metadata': {}},\n      {'name': 'description',\n       'type': 'string',\n       'nullable': True,\n       'metadata': {}},\n      {'name': 'liveBroadcastContent',\n       'type': 'string',\n       'nullable': True,\n       'metadata': {}},\n      {'name': 'localized',\n       'type': {'type': 'struct',\n        'fields': [{'name': 'description',\n          'type': 'string',\n          'nullable': True,\n          'metadata': {}},\n         {'name': 'title',\n          'type': 'string',\n          'nullable': True,\n          'metadata': {}}]},\n       'nullable': True,\n       'metadata': {}},\n      {'name': 'publishedAt',\n       'type': 'string',\n       'nullable': True,\n       'metadata': {}},\n      {'name': 'tags',\n       'type': {'type': 'array',\n        'elementType': 'string',\n        'containsNull': True},\n       'nullable': True,\n       'metadata': {}},\n      {'name': 'thumbnails',\n       'type': {'type': 'struct',\n        'fields': [{'name': 'default',\n          'type': {'type': 'struct',\n           'fields': [{'name': 'height',\n             'type': 'long',\n             'nullable': True,\n             'metadata': {}},\n            {'name': 'url',\n             'type': 'string',\n             'nullable': True,\n             'metadata': {}},\n            {'name': 'width',\n             'type': 'long',\n             'nullable': True,\n             'metadata': {}}]},\n          'nullable': True,\n          'metadata': {}},\n         {'name': 'high',\n          'type': {'type': 'struct',\n           'fields': [{'name': 'height',\n             'type': 'long',\n             'nullable': True,\n             'metadata': {}},\n            {'name': 'url',\n             'type': 'string',\n             'nullable': True,\n             'metadata': {}},\n            {'name': 'width',\n             'type': 'long',\n             'nullable': True,\n             'metadata': {}}]},\n          'nullable': True,\n          'metadata': {}},\n         {'name': 'maxres',\n          'type': {'type': 'struct',\n           'fields': [{'name': 'height',\n             'type': 'long',\n             'nullable': True,\n             'metadata': {}},\n            {'name': 'url',\n             'type': 'string',\n             'nullable': True,\n             'metadata': {}},\n            {'name': 'width',\n             'type': 'long',\n             'nullable': True,\n             'metadata': {}}]},\n          'nullable': True,\n          'metadata': {}},\n         {'name': 'medium',\n          'type': {'type': 'struct',\n           'fields': [{'name': 'height',\n             'type': 'long',\n             'nullable': True,\n             'metadata': {}},\n            {'name': 'url',\n             'type': 'string',\n             'nullable': True,\n             'metadata': {}},\n            {'name': 'width',\n             'type': 'long',\n             'nullable': True,\n             'metadata': {}}]},\n          'nullable': True,\n          'metadata': {}},\n         {'name': 'standard',\n          'type': {'type': 'struct',\n           'fields': [{'name': 'height',\n             'type': 'long',\n             'nullable': True,\n             'metadata': {}},\n            {'name': 'url',\n             'type': 'string',\n             'nullable': True,\n             'metadata': {}},\n            {'name': 'width',\n             'type': 'long',\n             'nullable': True,\n             'metadata': {}}]},\n          'nullable': True,\n          'metadata': {}}]},\n       'nullable': True,\n       'metadata': {}},\n      {'name': 'title', 'type': 'string', 'nullable': True, 'metadata': {}}]},\n    'nullable': True,\n    'metadata': {}},\n   {'name': 'statistics',\n    'type': {'type': 'struct',\n     'fields': [{'name': 'commentCount',\n       'type': 'string',\n       'nullable': True,\n       'metadata': {}},\n      {'name': 'dislikeCount',\n       'type': 'string',\n       'nullable': True,\n       'metadata': {}},\n      {'name': 'favoriteCount',\n       'type': 'string',\n       'nullable': True,\n       'metadata': {}},\n      {'name': 'likeCount',\n       'type': 'string',\n       'nullable': True,\n       'metadata': {}},\n      {'name': 'viewCount',\n       'type': 'string',\n       'nullable': True,\n       'metadata': {}}]},\n    'nullable': True,\n    'metadata': {}},\n   {'name': 'status',\n    'type': {'type': 'struct',\n     'fields': [{'name': 'embeddable',\n       'type': 'boolean',\n       'nullable': True,\n       'metadata': {}},\n      {'name': 'license', 'type': 'string', 'nullable': True, 'metadata': {}},\n      {'name': 'madeForKids',\n       'type': 'boolean',\n       'nullable': True,\n       'metadata': {}},\n      {'name': 'privacyStatus',\n       'type': 'string',\n       'nullable': True,\n       'metadata': {}},\n      {'name': 'publicStatsViewable',\n       'type': 'boolean',\n       'nullable': True,\n       'metadata': {}},\n      {'name': 'uploadStatus',\n       'type': 'string',\n       'nullable': True,\n       'metadata': {}}]},\n    'nullable': True,\n    'metadata': {}},\n   {'name': 'topicDetails',\n    'type': {'type': 'struct',\n     'fields': [{'name': 'relevantTopicIds',\n       'type': {'type': 'array',\n        'elementType': 'string',\n        'containsNull': True},\n       'nullable': True,\n       'metadata': {}},\n      {'name': 'topicCategories',\n       'type': {'type': 'array',\n        'elementType': 'string',\n        'containsNull': True},\n       'nullable': True,\n       'metadata': {}}]},\n    'nullable': True,\n    'metadata': {}}]},\n 'nullable': True,\n 'metadata': {}}"
     ]
    }
   ],
   "source": [
    "#it's a list, what's the first element?\n",
    "df.schema.jsonValue()[\"fields\"][0]"
   ]
  },
  {
   "cell_type": "code",
   "execution_count": 0,
   "metadata": {
    "application/vnd.databricks.v1+cell": {
     "cellMetadata": {
      "byteLimit": 2048000,
      "rowLimit": 10000
     },
     "inputWidgets": {},
     "nuid": "22c0d7d1-9aac-4d13-a6d0-e1e2940b502a",
     "showTitle": false,
     "title": ""
    }
   },
   "outputs": [
    {
     "output_type": "stream",
     "name": "stdout",
     "output_type": "stream",
     "text": [
      "Out[20]: dict_keys(['name', 'type', 'nullable', 'metadata'])"
     ]
    }
   ],
   "source": [
    "# what keys does it have ?\n",
    "df.schema.jsonValue()[\"fields\"][0].keys()"
   ]
  },
  {
   "cell_type": "code",
   "execution_count": 0,
   "metadata": {
    "application/vnd.databricks.v1+cell": {
     "cellMetadata": {
      "byteLimit": 2048000,
      "rowLimit": 10000
     },
     "inputWidgets": {},
     "nuid": "43c05d8f-cecb-47ad-8f69-e681ce5d019b",
     "showTitle": false,
     "title": ""
    }
   },
   "outputs": [
    {
     "output_type": "stream",
     "name": "stdout",
     "output_type": "stream",
     "text": [
      "Out[21]: 'items'"
     ]
    }
   ],
   "source": [
    "# the key name contains the name of the field\n",
    "df.schema.jsonValue()[\"fields\"][0][\"name\"]"
   ]
  },
  {
   "cell_type": "code",
   "execution_count": 0,
   "metadata": {
    "application/vnd.databricks.v1+cell": {
     "cellMetadata": {
      "byteLimit": 2048000,
      "rowLimit": 10000
     },
     "inputWidgets": {},
     "nuid": "3071809d-4a5e-453f-85c2-3a611bbc9fcc",
     "showTitle": false,
     "title": ""
    }
   },
   "outputs": [
    {
     "output_type": "stream",
     "name": "stdout",
     "output_type": "stream",
     "text": [
      "Out[22]: {'type': 'struct',\n 'fields': [{'name': 'contentDetails',\n   'type': {'type': 'struct',\n    'fields': [{'name': 'caption',\n      'type': 'string',\n      'nullable': True,\n      'metadata': {}},\n     {'name': 'contentRating',\n      'type': {'type': 'struct',\n       'fields': [{'name': 'ytRating',\n         'type': 'string',\n         'nullable': True,\n         'metadata': {}}]},\n      'nullable': True,\n      'metadata': {}},\n     {'name': 'definition',\n      'type': 'string',\n      'nullable': True,\n      'metadata': {}},\n     {'name': 'dimension', 'type': 'string', 'nullable': True, 'metadata': {}},\n     {'name': 'duration', 'type': 'string', 'nullable': True, 'metadata': {}},\n     {'name': 'licensedContent',\n      'type': 'boolean',\n      'nullable': True,\n      'metadata': {}},\n     {'name': 'projection',\n      'type': 'string',\n      'nullable': True,\n      'metadata': {}},\n     {'name': 'regionRestriction',\n      'type': {'type': 'struct',\n       'fields': [{'name': 'allowed',\n         'type': {'type': 'array',\n          'elementType': 'string',\n          'containsNull': True},\n         'nullable': True,\n         'metadata': {}},\n        {'name': 'blocked',\n         'type': {'type': 'array',\n          'elementType': 'string',\n          'containsNull': True},\n         'nullable': True,\n         'metadata': {}}]},\n      'nullable': True,\n      'metadata': {}}]},\n   'nullable': True,\n   'metadata': {}},\n  {'name': 'etag', 'type': 'string', 'nullable': True, 'metadata': {}},\n  {'name': 'id', 'type': 'string', 'nullable': True, 'metadata': {}},\n  {'name': 'kind', 'type': 'string', 'nullable': True, 'metadata': {}},\n  {'name': 'snippet',\n   'type': {'type': 'struct',\n    'fields': [{'name': 'categoryId',\n      'type': 'string',\n      'nullable': True,\n      'metadata': {}},\n     {'name': 'channelId', 'type': 'string', 'nullable': True, 'metadata': {}},\n     {'name': 'channelTitle',\n      'type': 'string',\n      'nullable': True,\n      'metadata': {}},\n     {'name': 'defaultAudioLanguage',\n      'type': 'string',\n      'nullable': True,\n      'metadata': {}},\n     {'name': 'defaultLanguage',\n      'type': 'string',\n      'nullable': True,\n      'metadata': {}},\n     {'name': 'description',\n      'type': 'string',\n      'nullable': True,\n      'metadata': {}},\n     {'name': 'liveBroadcastContent',\n      'type': 'string',\n      'nullable': True,\n      'metadata': {}},\n     {'name': 'localized',\n      'type': {'type': 'struct',\n       'fields': [{'name': 'description',\n         'type': 'string',\n         'nullable': True,\n         'metadata': {}},\n        {'name': 'title',\n         'type': 'string',\n         'nullable': True,\n         'metadata': {}}]},\n      'nullable': True,\n      'metadata': {}},\n     {'name': 'publishedAt',\n      'type': 'string',\n      'nullable': True,\n      'metadata': {}},\n     {'name': 'tags',\n      'type': {'type': 'array', 'elementType': 'string', 'containsNull': True},\n      'nullable': True,\n      'metadata': {}},\n     {'name': 'thumbnails',\n      'type': {'type': 'struct',\n       'fields': [{'name': 'default',\n         'type': {'type': 'struct',\n          'fields': [{'name': 'height',\n            'type': 'long',\n            'nullable': True,\n            'metadata': {}},\n           {'name': 'url', 'type': 'string', 'nullable': True, 'metadata': {}},\n           {'name': 'width',\n            'type': 'long',\n            'nullable': True,\n            'metadata': {}}]},\n         'nullable': True,\n         'metadata': {}},\n        {'name': 'high',\n         'type': {'type': 'struct',\n          'fields': [{'name': 'height',\n            'type': 'long',\n            'nullable': True,\n            'metadata': {}},\n           {'name': 'url', 'type': 'string', 'nullable': True, 'metadata': {}},\n           {'name': 'width',\n            'type': 'long',\n            'nullable': True,\n            'metadata': {}}]},\n         'nullable': True,\n         'metadata': {}},\n        {'name': 'maxres',\n         'type': {'type': 'struct',\n          'fields': [{'name': 'height',\n            'type': 'long',\n            'nullable': True,\n            'metadata': {}},\n           {'name': 'url', 'type': 'string', 'nullable': True, 'metadata': {}},\n           {'name': 'width',\n            'type': 'long',\n            'nullable': True,\n            'metadata': {}}]},\n         'nullable': True,\n         'metadata': {}},\n        {'name': 'medium',\n         'type': {'type': 'struct',\n          'fields': [{'name': 'height',\n            'type': 'long',\n            'nullable': True,\n            'metadata': {}},\n           {'name': 'url', 'type': 'string', 'nullable': True, 'metadata': {}},\n           {'name': 'width',\n            'type': 'long',\n            'nullable': True,\n            'metadata': {}}]},\n         'nullable': True,\n         'metadata': {}},\n        {'name': 'standard',\n         'type': {'type': 'struct',\n          'fields': [{'name': 'height',\n            'type': 'long',\n            'nullable': True,\n            'metadata': {}},\n           {'name': 'url', 'type': 'string', 'nullable': True, 'metadata': {}},\n           {'name': 'width',\n            'type': 'long',\n            'nullable': True,\n            'metadata': {}}]},\n         'nullable': True,\n         'metadata': {}}]},\n      'nullable': True,\n      'metadata': {}},\n     {'name': 'title', 'type': 'string', 'nullable': True, 'metadata': {}}]},\n   'nullable': True,\n   'metadata': {}},\n  {'name': 'statistics',\n   'type': {'type': 'struct',\n    'fields': [{'name': 'commentCount',\n      'type': 'string',\n      'nullable': True,\n      'metadata': {}},\n     {'name': 'dislikeCount',\n      'type': 'string',\n      'nullable': True,\n      'metadata': {}},\n     {'name': 'favoriteCount',\n      'type': 'string',\n      'nullable': True,\n      'metadata': {}},\n     {'name': 'likeCount', 'type': 'string', 'nullable': True, 'metadata': {}},\n     {'name': 'viewCount',\n      'type': 'string',\n      'nullable': True,\n      'metadata': {}}]},\n   'nullable': True,\n   'metadata': {}},\n  {'name': 'status',\n   'type': {'type': 'struct',\n    'fields': [{'name': 'embeddable',\n      'type': 'boolean',\n      'nullable': True,\n      'metadata': {}},\n     {'name': 'license', 'type': 'string', 'nullable': True, 'metadata': {}},\n     {'name': 'madeForKids',\n      'type': 'boolean',\n      'nullable': True,\n      'metadata': {}},\n     {'name': 'privacyStatus',\n      'type': 'string',\n      'nullable': True,\n      'metadata': {}},\n     {'name': 'publicStatsViewable',\n      'type': 'boolean',\n      'nullable': True,\n      'metadata': {}},\n     {'name': 'uploadStatus',\n      'type': 'string',\n      'nullable': True,\n      'metadata': {}}]},\n   'nullable': True,\n   'metadata': {}},\n  {'name': 'topicDetails',\n   'type': {'type': 'struct',\n    'fields': [{'name': 'relevantTopicIds',\n      'type': {'type': 'array', 'elementType': 'string', 'containsNull': True},\n      'nullable': True,\n      'metadata': {}},\n     {'name': 'topicCategories',\n      'type': {'type': 'array', 'elementType': 'string', 'containsNull': True},\n      'nullable': True,\n      'metadata': {}}]},\n   'nullable': True,\n   'metadata': {}}]}"
     ]
    }
   ],
   "source": [
    "# if we have the key type then we have subfields inside it\n",
    "df.schema.jsonValue()[\"fields\"][0][\"type\"]\n",
    "# and we are back to the same structure we had at the beginning and we can start digging again\n",
    "# that's the spirit of the function below"
   ]
  },
  {
   "cell_type": "code",
   "execution_count": 0,
   "metadata": {
    "application/vnd.databricks.v1+cell": {
     "cellMetadata": {
      "byteLimit": 2048000,
      "rowLimit": 10000
     },
     "inputWidgets": {},
     "nuid": "813e2092-5a27-4e7c-ac07-fe22f407a54d",
     "showTitle": false,
     "title": ""
    }
   },
   "outputs": [],
   "source": [
    "from pyspark.sql.types import StructType, StructField\n",
    "from typing import List, Dict, Generator, Union, Callable\n",
    "\n",
    "# This is actually written like a scala function, we'll walk you through it\n",
    "def walkSchema(schema: Union[StructType, StructField]) -> Generator[str, None, None]:\n",
    "    \"\"\"Explores a PySpark schema:\n",
    "    \n",
    "    schema: StructType | StructField\n",
    "    \n",
    "    Yield\n",
    "    -----\n",
    "    A generator of strings, the name of each field in the schema\n",
    "    \"\"\"\n",
    "    \n",
    "    # we define a function _walk that produces a string generator from\n",
    "    # a dictionnary \"schema_dct\", and a string \"prefix\"\n",
    "    def _walk(schema_dct: Dict['str', Union['str', list, dict]],\n",
    "              prefix: str = \"\") -> Generator[str, None, None]:\n",
    "        assert isinstance(prefix, str), \"prefix should be a string\" # check if prefix is a string\n",
    "        \n",
    "        # this function returns \"name\" if there's no prefix and \"prefix.name\" if prefix exists\n",
    "        fullName: Callable[str, str] = lambda name: ( \n",
    "            name if not prefix else f\"{prefix}.{name}\")\n",
    "        \n",
    "        # we get the next name one level lower from the dictionnary\n",
    "        name = schema_dct.get('name', '')\n",
    "        \n",
    "        # if the type is struct then we search for the fields key\n",
    "        # if fields is there we apply the function again and dig one level deeper in\n",
    "        # the schema and set a prefix\n",
    "        if schema_dct['type'] == 'struct':\n",
    "            assert 'fields' in schema_dct, (\n",
    "                \"It's a StructType, we should have some fields\")\n",
    "            for field in schema_dct['fields']:\n",
    "                yield from _walk(field, prefix=prefix)\n",
    "        # if we have a dict type and we can't find fields then we\n",
    "        # dig one level deeper and apply the _walk function again\n",
    "        elif isinstance(schema_dct['type'], dict):\n",
    "            assert 'fields' not in schema_dct, (\n",
    "                \"We're missing some keys here\")\n",
    "            yield from _walk(schema_dct['type'], prefix=fullName(name))\n",
    "        # If we finally reached the end and found a name we yield the full name\n",
    "        elif name:\n",
    "            yield fullName(name)\n",
    "    \n",
    "    yield from _walk(schema.jsonValue())\n",
    "\n",
    "# yield as opposed to return, returns a result but does not stop the function from running, it keeps\n",
    "# running even after returning one result."
   ]
  },
  {
   "cell_type": "markdown",
   "metadata": {
    "application/vnd.databricks.v1+cell": {
     "cellMetadata": {},
     "inputWidgets": {},
     "nuid": "cf9ac27c-7220-4bb0-8ab2-1921732dd717",
     "showTitle": false,
     "title": ""
    }
   },
   "source": [
    "We will give this function a try, and see how it behaves...  \n",
    "You might have to look into PySpark documentation to learn how to access the schema of a DataFrame.\n",
    "\n",
    "5. Call `walkSchema(...)` on our dataframe schema: `col_names` then print it out to the screen"
   ]
  },
  {
   "cell_type": "code",
   "execution_count": 0,
   "metadata": {
    "application/vnd.databricks.v1+cell": {
     "cellMetadata": {
      "byteLimit": 2048000,
      "rowLimit": 10000
     },
     "inputWidgets": {},
     "nuid": "2b2e9666-1812-433e-81f1-cef5a3a48c46",
     "showTitle": false,
     "title": ""
    }
   },
   "outputs": [
    {
     "output_type": "stream",
     "name": "stdout",
     "output_type": "stream",
     "text": [
      "Out[28]: <generator object walkSchema at 0x7fb8c6c52c10>"
     ]
    }
   ],
   "source": [
    "walkSchema(df.schema)"
   ]
  },
  {
   "cell_type": "markdown",
   "metadata": {
    "application/vnd.databricks.v1+cell": {
     "cellMetadata": {},
     "inputWidgets": {},
     "nuid": "9caea972-41b6-4b84-9aaa-8214e7ef146c",
     "showTitle": false,
     "title": ""
    }
   },
   "source": [
    "You should see an output similar to `<generator object walkSchema at 0x7f9eb0e390c0>`.  \n",
    "It's a Python's generator, you can read more about it [here](https://jeffknupp.com/blog/2013/04/07/improve-your-python-yield-and-generators-explained/).\n",
    "\n",
    "For now, you just have to know, that just like a python's `list`, a `generator` is also `iterable`, which means we can iterate over it with a `for` loop.\n",
    "\n",
    "```python\n",
    "for e in my_generator:\n",
    "    # You can access each element of the generator here\n",
    "```\n",
    "\n",
    "We'll give it a try, by printing out the values of our col_names.\n",
    "\n",
    "6. Iterate over the walked schema\n",
    "\n",
    "*NOTE: give the name `col_name` to the iterating variable*"
   ]
  },
  {
   "cell_type": "code",
   "execution_count": 0,
   "metadata": {
    "application/vnd.databricks.v1+cell": {
     "cellMetadata": {
      "byteLimit": 2048000,
      "rowLimit": 10000
     },
     "inputWidgets": {},
     "nuid": "4fe95d26-e5ff-492e-8ea2-69ae22afa420",
     "showTitle": false,
     "title": ""
    }
   },
   "outputs": [
    {
     "output_type": "stream",
     "name": "stdout",
     "output_type": "stream",
     "text": [
      "items.contentDetails.caption\nitems.contentDetails.contentRating.ytRating\nitems.contentDetails.definition\nitems.contentDetails.dimension\nitems.contentDetails.duration\nitems.contentDetails.licensedContent\nitems.contentDetails.projection\nitems.etag\nitems.id\nitems.kind\nitems.snippet.categoryId\nitems.snippet.channelId\nitems.snippet.channelTitle\nitems.snippet.defaultAudioLanguage\nitems.snippet.defaultLanguage\nitems.snippet.description\nitems.snippet.liveBroadcastContent\nitems.snippet.localized.description\nitems.snippet.localized.title\nitems.snippet.publishedAt\nitems.snippet.thumbnails.default.height\nitems.snippet.thumbnails.default.url\nitems.snippet.thumbnails.default.width\nitems.snippet.thumbnails.high.height\nitems.snippet.thumbnails.high.url\nitems.snippet.thumbnails.high.width\nitems.snippet.thumbnails.maxres.height\nitems.snippet.thumbnails.maxres.url\nitems.snippet.thumbnails.maxres.width\nitems.snippet.thumbnails.medium.height\nitems.snippet.thumbnails.medium.url\nitems.snippet.thumbnails.medium.width\nitems.snippet.thumbnails.standard.height\nitems.snippet.thumbnails.standard.url\nitems.snippet.thumbnails.standard.width\nitems.snippet.title\nitems.statistics.commentCount\nitems.statistics.dislikeCount\nitems.statistics.favoriteCount\nitems.statistics.likeCount\nitems.statistics.viewCount\nitems.status.embeddable\nitems.status.license\nitems.status.madeForKids\nitems.status.privacyStatus\nitems.status.publicStatsViewable\nitems.status.uploadStatus\n"
     ]
    }
   ],
   "source": [
    "for e in walkSchema(df.schema):\n",
    "    print(e)"
   ]
  },
  {
   "cell_type": "markdown",
   "metadata": {
    "application/vnd.databricks.v1+cell": {
     "cellMetadata": {},
     "inputWidgets": {},
     "nuid": "f81bd5a7-f47a-4b41-9049-0607600e6564",
     "showTitle": false,
     "title": ""
    }
   },
   "source": [
    "Perfect, that's all the leafs of our schema.  \n",
    "And we can just repeat the work we did with `items.snippet.title` for every column of this list.\n",
    "\n",
    "\n",
    "There are a couple ways to do this, you've got at least 2 options (using standard \"non-functionnal\" python):\n",
    "- build a list comprehension (or unpack the generator) and pass it to a `.select(...)` statement\n",
    "- iterate over the generator, and use `.withColumn(...)`\n",
    "\n",
    "_But our favorite uses a functional approach. It particularly makes sense because Spark is based on Scala, a functionnal language.  \n",
    "If you're interested in this approach, take a look at `reduce` from the `functools` package in Python.  \n",
    "In this simple isolated case, it actually makes things look a bit harder than they should, but it would make it easier to neatly integrate this step in a global pipeline.  \n",
    "**Beware, if you're not familiar with functional programming that will probably feel non-trivial.**_"
   ]
  },
  {
   "cell_type": "code",
   "execution_count": 0,
   "metadata": {
    "application/vnd.databricks.v1+cell": {
     "cellMetadata": {
      "byteLimit": 2048000,
      "rowLimit": 10000
     },
     "inputWidgets": {},
     "nuid": "1b7bb9fe-1bb7-406d-be7d-004d7f8b5b0e",
     "showTitle": false,
     "title": ""
    }
   },
   "outputs": [
    {
     "output_type": "display_data",
     "data": {
      "text/html": [
       "<div>\n",
       "<style scoped>\n",
       "    .dataframe tbody tr th:only-of-type {\n",
       "        vertical-align: middle;\n",
       "    }\n",
       "\n",
       "    .dataframe tbody tr th {\n",
       "        vertical-align: top;\n",
       "    }\n",
       "\n",
       "    .dataframe thead th {\n",
       "        text-align: right;\n",
       "    }\n",
       "</style>\n",
       "<table border=\"1\" class=\"dataframe\">\n",
       "  <thead>\n",
       "    <tr style=\"text-align: right;\">\n",
       "      <th></th>\n",
       "      <th>items.contentDetails.caption</th>\n",
       "      <th>items.contentDetails.contentRating.ytRating</th>\n",
       "      <th>items.contentDetails.definition</th>\n",
       "      <th>items.contentDetails.dimension</th>\n",
       "      <th>items.contentDetails.duration</th>\n",
       "      <th>items.contentDetails.licensedContent</th>\n",
       "      <th>items.contentDetails.projection</th>\n",
       "      <th>items.etag</th>\n",
       "      <th>items.id</th>\n",
       "      <th>items.kind</th>\n",
       "      <th>...</th>\n",
       "      <th>items.statistics.dislikeCount</th>\n",
       "      <th>items.statistics.favoriteCount</th>\n",
       "      <th>items.statistics.likeCount</th>\n",
       "      <th>items.statistics.viewCount</th>\n",
       "      <th>items.status.embeddable</th>\n",
       "      <th>items.status.license</th>\n",
       "      <th>items.status.madeForKids</th>\n",
       "      <th>items.status.privacyStatus</th>\n",
       "      <th>items.status.publicStatsViewable</th>\n",
       "      <th>items.status.uploadStatus</th>\n",
       "    </tr>\n",
       "  </thead>\n",
       "  <tbody>\n",
       "    <tr>\n",
       "      <th>0</th>\n",
       "      <td>false</td>\n",
       "      <td>None</td>\n",
       "      <td>sd</td>\n",
       "      <td>2d</td>\n",
       "      <td>PT3M33S</td>\n",
       "      <td>True</td>\n",
       "      <td>rectangular</td>\n",
       "      <td>SqP7uUVSol30dxvuScN6JUny6T4</td>\n",
       "      <td>t1l8Z6gLPzo</td>\n",
       "      <td>youtube#video</td>\n",
       "      <td>...</td>\n",
       "      <td>26</td>\n",
       "      <td>0</td>\n",
       "      <td>1028</td>\n",
       "      <td>223172</td>\n",
       "      <td>True</td>\n",
       "      <td>youtube</td>\n",
       "      <td>False</td>\n",
       "      <td>public</td>\n",
       "      <td>True</td>\n",
       "      <td>processed</td>\n",
       "    </tr>\n",
       "    <tr>\n",
       "      <th>1</th>\n",
       "      <td>false</td>\n",
       "      <td>None</td>\n",
       "      <td>hd</td>\n",
       "      <td>2d</td>\n",
       "      <td>PT7M46S</td>\n",
       "      <td>False</td>\n",
       "      <td>rectangular</td>\n",
       "      <td>m3DnhzTEw9ABiqzBvdasfk5Av_8</td>\n",
       "      <td>we5gzZq5Avg</td>\n",
       "      <td>youtube#video</td>\n",
       "      <td>...</td>\n",
       "      <td>3</td>\n",
       "      <td>0</td>\n",
       "      <td>124</td>\n",
       "      <td>13409</td>\n",
       "      <td>True</td>\n",
       "      <td>youtube</td>\n",
       "      <td>False</td>\n",
       "      <td>public</td>\n",
       "      <td>True</td>\n",
       "      <td>processed</td>\n",
       "    </tr>\n",
       "    <tr>\n",
       "      <th>2</th>\n",
       "      <td>false</td>\n",
       "      <td>None</td>\n",
       "      <td>sd</td>\n",
       "      <td>2d</td>\n",
       "      <td>PT3M7S</td>\n",
       "      <td>False</td>\n",
       "      <td>rectangular</td>\n",
       "      <td>zyzs7STAR3NG-_pZe-0nGkbKoqg</td>\n",
       "      <td>49esza4eiK4</td>\n",
       "      <td>youtube#video</td>\n",
       "      <td>...</td>\n",
       "      <td>780</td>\n",
       "      <td>0</td>\n",
       "      <td>25540</td>\n",
       "      <td>10106655</td>\n",
       "      <td>True</td>\n",
       "      <td>youtube</td>\n",
       "      <td>False</td>\n",
       "      <td>public</td>\n",
       "      <td>True</td>\n",
       "      <td>processed</td>\n",
       "    </tr>\n",
       "    <tr>\n",
       "      <th>3</th>\n",
       "      <td>false</td>\n",
       "      <td>None</td>\n",
       "      <td>hd</td>\n",
       "      <td>2d</td>\n",
       "      <td>PT3M43S</td>\n",
       "      <td>False</td>\n",
       "      <td>rectangular</td>\n",
       "      <td>hX2C15F6fdO5A-stUFMU5Az2PvI</td>\n",
       "      <td>BoO6LfR7ca0</td>\n",
       "      <td>youtube#video</td>\n",
       "      <td>...</td>\n",
       "      <td>0</td>\n",
       "      <td>0</td>\n",
       "      <td>255</td>\n",
       "      <td>29153</td>\n",
       "      <td>True</td>\n",
       "      <td>youtube</td>\n",
       "      <td>False</td>\n",
       "      <td>public</td>\n",
       "      <td>True</td>\n",
       "      <td>processed</td>\n",
       "    </tr>\n",
       "    <tr>\n",
       "      <th>4</th>\n",
       "      <td>false</td>\n",
       "      <td>None</td>\n",
       "      <td>hd</td>\n",
       "      <td>2d</td>\n",
       "      <td>PT5M</td>\n",
       "      <td>False</td>\n",
       "      <td>rectangular</td>\n",
       "      <td>rYHoV38PLpMbRuX_zhGTVBKNotw</td>\n",
       "      <td>DaH4W1rY9us</td>\n",
       "      <td>youtube#video</td>\n",
       "      <td>...</td>\n",
       "      <td>1784</td>\n",
       "      <td>0</td>\n",
       "      <td>136033</td>\n",
       "      <td>16488714</td>\n",
       "      <td>True</td>\n",
       "      <td>youtube</td>\n",
       "      <td>False</td>\n",
       "      <td>public</td>\n",
       "      <td>True</td>\n",
       "      <td>processed</td>\n",
       "    </tr>\n",
       "  </tbody>\n",
       "</table>\n",
       "<p>5 rows × 47 columns</p>\n",
       "</div>"
      ]
     },
     "metadata": {
      "application/vnd.databricks.v1+output": {
       "addedWidgets": {},
       "arguments": {},
       "data": "<div>\n<style scoped>\n    .dataframe tbody tr th:only-of-type {\n        vertical-align: middle;\n    }\n\n    .dataframe tbody tr th {\n        vertical-align: top;\n    }\n\n    .dataframe thead th {\n        text-align: right;\n    }\n</style>\n<table border=\"1\" class=\"dataframe\">\n  <thead>\n    <tr style=\"text-align: right;\">\n      <th></th>\n      <th>items.contentDetails.caption</th>\n      <th>items.contentDetails.contentRating.ytRating</th>\n      <th>items.contentDetails.definition</th>\n      <th>items.contentDetails.dimension</th>\n      <th>items.contentDetails.duration</th>\n      <th>items.contentDetails.licensedContent</th>\n      <th>items.contentDetails.projection</th>\n      <th>items.etag</th>\n      <th>items.id</th>\n      <th>items.kind</th>\n      <th>...</th>\n      <th>items.statistics.dislikeCount</th>\n      <th>items.statistics.favoriteCount</th>\n      <th>items.statistics.likeCount</th>\n      <th>items.statistics.viewCount</th>\n      <th>items.status.embeddable</th>\n      <th>items.status.license</th>\n      <th>items.status.madeForKids</th>\n      <th>items.status.privacyStatus</th>\n      <th>items.status.publicStatsViewable</th>\n      <th>items.status.uploadStatus</th>\n    </tr>\n  </thead>\n  <tbody>\n    <tr>\n      <th>0</th>\n      <td>false</td>\n      <td>None</td>\n      <td>sd</td>\n      <td>2d</td>\n      <td>PT3M33S</td>\n      <td>True</td>\n      <td>rectangular</td>\n      <td>SqP7uUVSol30dxvuScN6JUny6T4</td>\n      <td>t1l8Z6gLPzo</td>\n      <td>youtube#video</td>\n      <td>...</td>\n      <td>26</td>\n      <td>0</td>\n      <td>1028</td>\n      <td>223172</td>\n      <td>True</td>\n      <td>youtube</td>\n      <td>False</td>\n      <td>public</td>\n      <td>True</td>\n      <td>processed</td>\n    </tr>\n    <tr>\n      <th>1</th>\n      <td>false</td>\n      <td>None</td>\n      <td>hd</td>\n      <td>2d</td>\n      <td>PT7M46S</td>\n      <td>False</td>\n      <td>rectangular</td>\n      <td>m3DnhzTEw9ABiqzBvdasfk5Av_8</td>\n      <td>we5gzZq5Avg</td>\n      <td>youtube#video</td>\n      <td>...</td>\n      <td>3</td>\n      <td>0</td>\n      <td>124</td>\n      <td>13409</td>\n      <td>True</td>\n      <td>youtube</td>\n      <td>False</td>\n      <td>public</td>\n      <td>True</td>\n      <td>processed</td>\n    </tr>\n    <tr>\n      <th>2</th>\n      <td>false</td>\n      <td>None</td>\n      <td>sd</td>\n      <td>2d</td>\n      <td>PT3M7S</td>\n      <td>False</td>\n      <td>rectangular</td>\n      <td>zyzs7STAR3NG-_pZe-0nGkbKoqg</td>\n      <td>49esza4eiK4</td>\n      <td>youtube#video</td>\n      <td>...</td>\n      <td>780</td>\n      <td>0</td>\n      <td>25540</td>\n      <td>10106655</td>\n      <td>True</td>\n      <td>youtube</td>\n      <td>False</td>\n      <td>public</td>\n      <td>True</td>\n      <td>processed</td>\n    </tr>\n    <tr>\n      <th>3</th>\n      <td>false</td>\n      <td>None</td>\n      <td>hd</td>\n      <td>2d</td>\n      <td>PT3M43S</td>\n      <td>False</td>\n      <td>rectangular</td>\n      <td>hX2C15F6fdO5A-stUFMU5Az2PvI</td>\n      <td>BoO6LfR7ca0</td>\n      <td>youtube#video</td>\n      <td>...</td>\n      <td>0</td>\n      <td>0</td>\n      <td>255</td>\n      <td>29153</td>\n      <td>True</td>\n      <td>youtube</td>\n      <td>False</td>\n      <td>public</td>\n      <td>True</td>\n      <td>processed</td>\n    </tr>\n    <tr>\n      <th>4</th>\n      <td>false</td>\n      <td>None</td>\n      <td>hd</td>\n      <td>2d</td>\n      <td>PT5M</td>\n      <td>False</td>\n      <td>rectangular</td>\n      <td>rYHoV38PLpMbRuX_zhGTVBKNotw</td>\n      <td>DaH4W1rY9us</td>\n      <td>youtube#video</td>\n      <td>...</td>\n      <td>1784</td>\n      <td>0</td>\n      <td>136033</td>\n      <td>16488714</td>\n      <td>True</td>\n      <td>youtube</td>\n      <td>False</td>\n      <td>public</td>\n      <td>True</td>\n      <td>processed</td>\n    </tr>\n  </tbody>\n</table>\n<p>5 rows × 47 columns</p>\n</div>",
       "datasetInfos": [],
       "metadata": {},
       "removedWidgets": [],
       "textData": null,
       "type": "htmlSandbox"
      }
     },
     "output_type": "display_data"
    }
   ],
   "source": [
    "from functools import reduce\n",
    "from pyspark.sql import functions as F\n",
    "\n",
    "# Non-functional way: unpacking the generator\n",
    "# exploded_df = df.select(*walkSchema(df.schema))\n",
    "\n",
    "# The functional way, using functools' reduce\n",
    "exploded_df = reduce(lambda memo_df, col_name : memo_df.withColumn(col_name, F.col(col_name)), walkSchema(df.schema), df).drop('items')\n",
    "\n",
    "exploded_df.limit(5).toPandas()"
   ]
  },
  {
   "cell_type": "code",
   "execution_count": 0,
   "metadata": {
    "application/vnd.databricks.v1+cell": {
     "cellMetadata": {
      "byteLimit": 2048000,
      "rowLimit": 10000
     },
     "inputWidgets": {},
     "nuid": "8b098297-30e9-48ed-9dc2-fd93758e2a4b",
     "showTitle": false,
     "title": ""
    }
   },
   "outputs": [
    {
     "output_type": "display_data",
     "data": {
      "text/html": [
       "<div>\n",
       "<style scoped>\n",
       "    .dataframe tbody tr th:only-of-type {\n",
       "        vertical-align: middle;\n",
       "    }\n",
       "\n",
       "    .dataframe tbody tr th {\n",
       "        vertical-align: top;\n",
       "    }\n",
       "\n",
       "    .dataframe thead th {\n",
       "        text-align: right;\n",
       "    }\n",
       "</style>\n",
       "<table border=\"1\" class=\"dataframe\">\n",
       "  <thead>\n",
       "    <tr style=\"text-align: right;\">\n",
       "      <th></th>\n",
       "      <th>caption</th>\n",
       "      <th>ytRating</th>\n",
       "      <th>definition</th>\n",
       "      <th>dimension</th>\n",
       "      <th>duration</th>\n",
       "      <th>licensedContent</th>\n",
       "      <th>projection</th>\n",
       "      <th>etag</th>\n",
       "      <th>id</th>\n",
       "      <th>kind</th>\n",
       "      <th>...</th>\n",
       "      <th>dislikeCount</th>\n",
       "      <th>favoriteCount</th>\n",
       "      <th>likeCount</th>\n",
       "      <th>viewCount</th>\n",
       "      <th>embeddable</th>\n",
       "      <th>license</th>\n",
       "      <th>madeForKids</th>\n",
       "      <th>privacyStatus</th>\n",
       "      <th>publicStatsViewable</th>\n",
       "      <th>uploadStatus</th>\n",
       "    </tr>\n",
       "  </thead>\n",
       "  <tbody>\n",
       "    <tr>\n",
       "      <th>0</th>\n",
       "      <td>false</td>\n",
       "      <td>None</td>\n",
       "      <td>sd</td>\n",
       "      <td>2d</td>\n",
       "      <td>PT3M33S</td>\n",
       "      <td>True</td>\n",
       "      <td>rectangular</td>\n",
       "      <td>SqP7uUVSol30dxvuScN6JUny6T4</td>\n",
       "      <td>t1l8Z6gLPzo</td>\n",
       "      <td>youtube#video</td>\n",
       "      <td>...</td>\n",
       "      <td>26</td>\n",
       "      <td>0</td>\n",
       "      <td>1028</td>\n",
       "      <td>223172</td>\n",
       "      <td>True</td>\n",
       "      <td>youtube</td>\n",
       "      <td>False</td>\n",
       "      <td>public</td>\n",
       "      <td>True</td>\n",
       "      <td>processed</td>\n",
       "    </tr>\n",
       "    <tr>\n",
       "      <th>1</th>\n",
       "      <td>false</td>\n",
       "      <td>None</td>\n",
       "      <td>hd</td>\n",
       "      <td>2d</td>\n",
       "      <td>PT7M46S</td>\n",
       "      <td>False</td>\n",
       "      <td>rectangular</td>\n",
       "      <td>m3DnhzTEw9ABiqzBvdasfk5Av_8</td>\n",
       "      <td>we5gzZq5Avg</td>\n",
       "      <td>youtube#video</td>\n",
       "      <td>...</td>\n",
       "      <td>3</td>\n",
       "      <td>0</td>\n",
       "      <td>124</td>\n",
       "      <td>13409</td>\n",
       "      <td>True</td>\n",
       "      <td>youtube</td>\n",
       "      <td>False</td>\n",
       "      <td>public</td>\n",
       "      <td>True</td>\n",
       "      <td>processed</td>\n",
       "    </tr>\n",
       "    <tr>\n",
       "      <th>2</th>\n",
       "      <td>false</td>\n",
       "      <td>None</td>\n",
       "      <td>sd</td>\n",
       "      <td>2d</td>\n",
       "      <td>PT3M7S</td>\n",
       "      <td>False</td>\n",
       "      <td>rectangular</td>\n",
       "      <td>zyzs7STAR3NG-_pZe-0nGkbKoqg</td>\n",
       "      <td>49esza4eiK4</td>\n",
       "      <td>youtube#video</td>\n",
       "      <td>...</td>\n",
       "      <td>780</td>\n",
       "      <td>0</td>\n",
       "      <td>25540</td>\n",
       "      <td>10106655</td>\n",
       "      <td>True</td>\n",
       "      <td>youtube</td>\n",
       "      <td>False</td>\n",
       "      <td>public</td>\n",
       "      <td>True</td>\n",
       "      <td>processed</td>\n",
       "    </tr>\n",
       "    <tr>\n",
       "      <th>3</th>\n",
       "      <td>false</td>\n",
       "      <td>None</td>\n",
       "      <td>hd</td>\n",
       "      <td>2d</td>\n",
       "      <td>PT3M43S</td>\n",
       "      <td>False</td>\n",
       "      <td>rectangular</td>\n",
       "      <td>hX2C15F6fdO5A-stUFMU5Az2PvI</td>\n",
       "      <td>BoO6LfR7ca0</td>\n",
       "      <td>youtube#video</td>\n",
       "      <td>...</td>\n",
       "      <td>0</td>\n",
       "      <td>0</td>\n",
       "      <td>255</td>\n",
       "      <td>29153</td>\n",
       "      <td>True</td>\n",
       "      <td>youtube</td>\n",
       "      <td>False</td>\n",
       "      <td>public</td>\n",
       "      <td>True</td>\n",
       "      <td>processed</td>\n",
       "    </tr>\n",
       "    <tr>\n",
       "      <th>4</th>\n",
       "      <td>false</td>\n",
       "      <td>None</td>\n",
       "      <td>hd</td>\n",
       "      <td>2d</td>\n",
       "      <td>PT5M</td>\n",
       "      <td>False</td>\n",
       "      <td>rectangular</td>\n",
       "      <td>rYHoV38PLpMbRuX_zhGTVBKNotw</td>\n",
       "      <td>DaH4W1rY9us</td>\n",
       "      <td>youtube#video</td>\n",
       "      <td>...</td>\n",
       "      <td>1784</td>\n",
       "      <td>0</td>\n",
       "      <td>136033</td>\n",
       "      <td>16488714</td>\n",
       "      <td>True</td>\n",
       "      <td>youtube</td>\n",
       "      <td>False</td>\n",
       "      <td>public</td>\n",
       "      <td>True</td>\n",
       "      <td>processed</td>\n",
       "    </tr>\n",
       "  </tbody>\n",
       "</table>\n",
       "<p>5 rows × 47 columns</p>\n",
       "</div>"
      ]
     },
     "metadata": {
      "application/vnd.databricks.v1+output": {
       "addedWidgets": {},
       "arguments": {},
       "data": "<div>\n<style scoped>\n    .dataframe tbody tr th:only-of-type {\n        vertical-align: middle;\n    }\n\n    .dataframe tbody tr th {\n        vertical-align: top;\n    }\n\n    .dataframe thead th {\n        text-align: right;\n    }\n</style>\n<table border=\"1\" class=\"dataframe\">\n  <thead>\n    <tr style=\"text-align: right;\">\n      <th></th>\n      <th>caption</th>\n      <th>ytRating</th>\n      <th>definition</th>\n      <th>dimension</th>\n      <th>duration</th>\n      <th>licensedContent</th>\n      <th>projection</th>\n      <th>etag</th>\n      <th>id</th>\n      <th>kind</th>\n      <th>...</th>\n      <th>dislikeCount</th>\n      <th>favoriteCount</th>\n      <th>likeCount</th>\n      <th>viewCount</th>\n      <th>embeddable</th>\n      <th>license</th>\n      <th>madeForKids</th>\n      <th>privacyStatus</th>\n      <th>publicStatsViewable</th>\n      <th>uploadStatus</th>\n    </tr>\n  </thead>\n  <tbody>\n    <tr>\n      <th>0</th>\n      <td>false</td>\n      <td>None</td>\n      <td>sd</td>\n      <td>2d</td>\n      <td>PT3M33S</td>\n      <td>True</td>\n      <td>rectangular</td>\n      <td>SqP7uUVSol30dxvuScN6JUny6T4</td>\n      <td>t1l8Z6gLPzo</td>\n      <td>youtube#video</td>\n      <td>...</td>\n      <td>26</td>\n      <td>0</td>\n      <td>1028</td>\n      <td>223172</td>\n      <td>True</td>\n      <td>youtube</td>\n      <td>False</td>\n      <td>public</td>\n      <td>True</td>\n      <td>processed</td>\n    </tr>\n    <tr>\n      <th>1</th>\n      <td>false</td>\n      <td>None</td>\n      <td>hd</td>\n      <td>2d</td>\n      <td>PT7M46S</td>\n      <td>False</td>\n      <td>rectangular</td>\n      <td>m3DnhzTEw9ABiqzBvdasfk5Av_8</td>\n      <td>we5gzZq5Avg</td>\n      <td>youtube#video</td>\n      <td>...</td>\n      <td>3</td>\n      <td>0</td>\n      <td>124</td>\n      <td>13409</td>\n      <td>True</td>\n      <td>youtube</td>\n      <td>False</td>\n      <td>public</td>\n      <td>True</td>\n      <td>processed</td>\n    </tr>\n    <tr>\n      <th>2</th>\n      <td>false</td>\n      <td>None</td>\n      <td>sd</td>\n      <td>2d</td>\n      <td>PT3M7S</td>\n      <td>False</td>\n      <td>rectangular</td>\n      <td>zyzs7STAR3NG-_pZe-0nGkbKoqg</td>\n      <td>49esza4eiK4</td>\n      <td>youtube#video</td>\n      <td>...</td>\n      <td>780</td>\n      <td>0</td>\n      <td>25540</td>\n      <td>10106655</td>\n      <td>True</td>\n      <td>youtube</td>\n      <td>False</td>\n      <td>public</td>\n      <td>True</td>\n      <td>processed</td>\n    </tr>\n    <tr>\n      <th>3</th>\n      <td>false</td>\n      <td>None</td>\n      <td>hd</td>\n      <td>2d</td>\n      <td>PT3M43S</td>\n      <td>False</td>\n      <td>rectangular</td>\n      <td>hX2C15F6fdO5A-stUFMU5Az2PvI</td>\n      <td>BoO6LfR7ca0</td>\n      <td>youtube#video</td>\n      <td>...</td>\n      <td>0</td>\n      <td>0</td>\n      <td>255</td>\n      <td>29153</td>\n      <td>True</td>\n      <td>youtube</td>\n      <td>False</td>\n      <td>public</td>\n      <td>True</td>\n      <td>processed</td>\n    </tr>\n    <tr>\n      <th>4</th>\n      <td>false</td>\n      <td>None</td>\n      <td>hd</td>\n      <td>2d</td>\n      <td>PT5M</td>\n      <td>False</td>\n      <td>rectangular</td>\n      <td>rYHoV38PLpMbRuX_zhGTVBKNotw</td>\n      <td>DaH4W1rY9us</td>\n      <td>youtube#video</td>\n      <td>...</td>\n      <td>1784</td>\n      <td>0</td>\n      <td>136033</td>\n      <td>16488714</td>\n      <td>True</td>\n      <td>youtube</td>\n      <td>False</td>\n      <td>public</td>\n      <td>True</td>\n      <td>processed</td>\n    </tr>\n  </tbody>\n</table>\n<p>5 rows × 47 columns</p>\n</div>",
       "datasetInfos": [],
       "metadata": {},
       "removedWidgets": [],
       "textData": null,
       "type": "htmlSandbox"
      }
     },
     "output_type": "display_data"
    }
   ],
   "source": [
    "from pyspark.sql import functions as F\n",
    "\n",
    "# Non-functional way: unpacking the generator\n",
    "exploded_df = df.select(*walkSchema(df.schema))\n",
    "exploded_df.limit(5).toPandas()"
   ]
  },
  {
   "cell_type": "markdown",
   "metadata": {
    "application/vnd.databricks.v1+cell": {
     "cellMetadata": {},
     "inputWidgets": {},
     "nuid": "fb13b77b-668f-460d-9d2b-8967cef8e822",
     "showTitle": false,
     "title": ""
    }
   },
   "source": [
    "How amazing what we can do with a couple lines of well written code, isn't it?"
   ]
  },
  {
   "cell_type": "markdown",
   "metadata": {
    "application/vnd.databricks.v1+cell": {
     "cellMetadata": {},
     "inputWidgets": {},
     "nuid": "736bc970-a11e-4f2a-bdf9-2b51405dd0ed",
     "showTitle": false,
     "title": ""
    }
   },
   "source": [
    "Now that we're here, would be a good time to start analyzing the data we got. We will do this in the next assignment.\n",
    "\n",
    "7. Save the output to S3 as a parquet file"
   ]
  },
  {
   "cell_type": "code",
   "execution_count": 0,
   "metadata": {
    "application/vnd.databricks.v1+cell": {
     "cellMetadata": {
      "byteLimit": 2048000,
      "rowLimit": 10000
     },
     "inputWidgets": {},
     "nuid": "2cc336bd-d68b-430e-b4b4-7541fd3d1240",
     "showTitle": false,
     "title": ""
    }
   },
   "outputs": [
    {
     "output_type": "display_data",
     "data": {
      "text/plain": [
       "\u001B[0;31m---------------------------------------------------------------------------\u001B[0m\n",
       "\u001B[0;31mPy4JJavaError\u001B[0m                             Traceback (most recent call last)\n",
       "File \u001B[0;32m<command-4290759733100622>:2\u001B[0m\n",
       "\u001B[1;32m      1\u001B[0m out_path \u001B[38;5;241m=\u001B[39m \u001B[38;5;124m\"\u001B[39m\u001B[38;5;124ms3://full-stack-bigdata-datasets/Big_Data/40tude_tidy.parquet\u001B[39m\u001B[38;5;124m\"\u001B[39m\n",
       "\u001B[0;32m----> 2\u001B[0m exploded_df\u001B[38;5;241m.\u001B[39mwrite\u001B[38;5;241m.\u001B[39mparquet(out_path, mode\u001B[38;5;241m=\u001B[39m\u001B[38;5;124m\"\u001B[39m\u001B[38;5;124moverwrite\u001B[39m\u001B[38;5;124m\"\u001B[39m)\n",
       "\n",
       "File \u001B[0;32m/databricks/spark/python/pyspark/instrumentation_utils.py:48\u001B[0m, in \u001B[0;36m_wrap_function.<locals>.wrapper\u001B[0;34m(*args, **kwargs)\u001B[0m\n",
       "\u001B[1;32m     46\u001B[0m start \u001B[38;5;241m=\u001B[39m time\u001B[38;5;241m.\u001B[39mperf_counter()\n",
       "\u001B[1;32m     47\u001B[0m \u001B[38;5;28;01mtry\u001B[39;00m:\n",
       "\u001B[0;32m---> 48\u001B[0m     res \u001B[38;5;241m=\u001B[39m \u001B[43mfunc\u001B[49m\u001B[43m(\u001B[49m\u001B[38;5;241;43m*\u001B[39;49m\u001B[43margs\u001B[49m\u001B[43m,\u001B[49m\u001B[43m \u001B[49m\u001B[38;5;241;43m*\u001B[39;49m\u001B[38;5;241;43m*\u001B[39;49m\u001B[43mkwargs\u001B[49m\u001B[43m)\u001B[49m\n",
       "\u001B[1;32m     49\u001B[0m     logger\u001B[38;5;241m.\u001B[39mlog_success(\n",
       "\u001B[1;32m     50\u001B[0m         module_name, class_name, function_name, time\u001B[38;5;241m.\u001B[39mperf_counter() \u001B[38;5;241m-\u001B[39m start, signature\n",
       "\u001B[1;32m     51\u001B[0m     )\n",
       "\u001B[1;32m     52\u001B[0m     \u001B[38;5;28;01mreturn\u001B[39;00m res\n",
       "\n",
       "File \u001B[0;32m/databricks/spark/python/pyspark/sql/readwriter.py:1655\u001B[0m, in \u001B[0;36mDataFrameWriter.parquet\u001B[0;34m(self, path, mode, partitionBy, compression)\u001B[0m\n",
       "\u001B[1;32m   1653\u001B[0m     \u001B[38;5;28mself\u001B[39m\u001B[38;5;241m.\u001B[39mpartitionBy(partitionBy)\n",
       "\u001B[1;32m   1654\u001B[0m \u001B[38;5;28mself\u001B[39m\u001B[38;5;241m.\u001B[39m_set_opts(compression\u001B[38;5;241m=\u001B[39mcompression)\n",
       "\u001B[0;32m-> 1655\u001B[0m \u001B[38;5;28;43mself\u001B[39;49m\u001B[38;5;241;43m.\u001B[39;49m\u001B[43m_jwrite\u001B[49m\u001B[38;5;241;43m.\u001B[39;49m\u001B[43mparquet\u001B[49m\u001B[43m(\u001B[49m\u001B[43mpath\u001B[49m\u001B[43m)\u001B[49m\n",
       "\n",
       "File \u001B[0;32m/databricks/spark/python/lib/py4j-0.10.9.5-src.zip/py4j/java_gateway.py:1321\u001B[0m, in \u001B[0;36mJavaMember.__call__\u001B[0;34m(self, *args)\u001B[0m\n",
       "\u001B[1;32m   1315\u001B[0m command \u001B[38;5;241m=\u001B[39m proto\u001B[38;5;241m.\u001B[39mCALL_COMMAND_NAME \u001B[38;5;241m+\u001B[39m\\\n",
       "\u001B[1;32m   1316\u001B[0m     \u001B[38;5;28mself\u001B[39m\u001B[38;5;241m.\u001B[39mcommand_header \u001B[38;5;241m+\u001B[39m\\\n",
       "\u001B[1;32m   1317\u001B[0m     args_command \u001B[38;5;241m+\u001B[39m\\\n",
       "\u001B[1;32m   1318\u001B[0m     proto\u001B[38;5;241m.\u001B[39mEND_COMMAND_PART\n",
       "\u001B[1;32m   1320\u001B[0m answer \u001B[38;5;241m=\u001B[39m \u001B[38;5;28mself\u001B[39m\u001B[38;5;241m.\u001B[39mgateway_client\u001B[38;5;241m.\u001B[39msend_command(command)\n",
       "\u001B[0;32m-> 1321\u001B[0m return_value \u001B[38;5;241m=\u001B[39m \u001B[43mget_return_value\u001B[49m\u001B[43m(\u001B[49m\n",
       "\u001B[1;32m   1322\u001B[0m \u001B[43m    \u001B[49m\u001B[43manswer\u001B[49m\u001B[43m,\u001B[49m\u001B[43m \u001B[49m\u001B[38;5;28;43mself\u001B[39;49m\u001B[38;5;241;43m.\u001B[39;49m\u001B[43mgateway_client\u001B[49m\u001B[43m,\u001B[49m\u001B[43m \u001B[49m\u001B[38;5;28;43mself\u001B[39;49m\u001B[38;5;241;43m.\u001B[39;49m\u001B[43mtarget_id\u001B[49m\u001B[43m,\u001B[49m\u001B[43m \u001B[49m\u001B[38;5;28;43mself\u001B[39;49m\u001B[38;5;241;43m.\u001B[39;49m\u001B[43mname\u001B[49m\u001B[43m)\u001B[49m\n",
       "\u001B[1;32m   1324\u001B[0m \u001B[38;5;28;01mfor\u001B[39;00m temp_arg \u001B[38;5;129;01min\u001B[39;00m temp_args:\n",
       "\u001B[1;32m   1325\u001B[0m     temp_arg\u001B[38;5;241m.\u001B[39m_detach()\n",
       "\n",
       "File \u001B[0;32m/databricks/spark/python/pyspark/errors/exceptions.py:228\u001B[0m, in \u001B[0;36mcapture_sql_exception.<locals>.deco\u001B[0;34m(*a, **kw)\u001B[0m\n",
       "\u001B[1;32m    226\u001B[0m \u001B[38;5;28;01mdef\u001B[39;00m \u001B[38;5;21mdeco\u001B[39m(\u001B[38;5;241m*\u001B[39ma: Any, \u001B[38;5;241m*\u001B[39m\u001B[38;5;241m*\u001B[39mkw: Any) \u001B[38;5;241m-\u001B[39m\u001B[38;5;241m>\u001B[39m Any:\n",
       "\u001B[1;32m    227\u001B[0m     \u001B[38;5;28;01mtry\u001B[39;00m:\n",
       "\u001B[0;32m--> 228\u001B[0m         \u001B[38;5;28;01mreturn\u001B[39;00m \u001B[43mf\u001B[49m\u001B[43m(\u001B[49m\u001B[38;5;241;43m*\u001B[39;49m\u001B[43ma\u001B[49m\u001B[43m,\u001B[49m\u001B[43m \u001B[49m\u001B[38;5;241;43m*\u001B[39;49m\u001B[38;5;241;43m*\u001B[39;49m\u001B[43mkw\u001B[49m\u001B[43m)\u001B[49m\n",
       "\u001B[1;32m    229\u001B[0m     \u001B[38;5;28;01mexcept\u001B[39;00m Py4JJavaError \u001B[38;5;28;01mas\u001B[39;00m e:\n",
       "\u001B[1;32m    230\u001B[0m         converted \u001B[38;5;241m=\u001B[39m convert_exception(e\u001B[38;5;241m.\u001B[39mjava_exception)\n",
       "\n",
       "File \u001B[0;32m/databricks/spark/python/lib/py4j-0.10.9.5-src.zip/py4j/protocol.py:326\u001B[0m, in \u001B[0;36mget_return_value\u001B[0;34m(answer, gateway_client, target_id, name)\u001B[0m\n",
       "\u001B[1;32m    324\u001B[0m value \u001B[38;5;241m=\u001B[39m OUTPUT_CONVERTER[\u001B[38;5;28mtype\u001B[39m](answer[\u001B[38;5;241m2\u001B[39m:], gateway_client)\n",
       "\u001B[1;32m    325\u001B[0m \u001B[38;5;28;01mif\u001B[39;00m answer[\u001B[38;5;241m1\u001B[39m] \u001B[38;5;241m==\u001B[39m REFERENCE_TYPE:\n",
       "\u001B[0;32m--> 326\u001B[0m     \u001B[38;5;28;01mraise\u001B[39;00m Py4JJavaError(\n",
       "\u001B[1;32m    327\u001B[0m         \u001B[38;5;124m\"\u001B[39m\u001B[38;5;124mAn error occurred while calling \u001B[39m\u001B[38;5;132;01m{0}\u001B[39;00m\u001B[38;5;132;01m{1}\u001B[39;00m\u001B[38;5;132;01m{2}\u001B[39;00m\u001B[38;5;124m.\u001B[39m\u001B[38;5;130;01m\\n\u001B[39;00m\u001B[38;5;124m\"\u001B[39m\u001B[38;5;241m.\u001B[39m\n",
       "\u001B[1;32m    328\u001B[0m         \u001B[38;5;28mformat\u001B[39m(target_id, \u001B[38;5;124m\"\u001B[39m\u001B[38;5;124m.\u001B[39m\u001B[38;5;124m\"\u001B[39m, name), value)\n",
       "\u001B[1;32m    329\u001B[0m \u001B[38;5;28;01melse\u001B[39;00m:\n",
       "\u001B[1;32m    330\u001B[0m     \u001B[38;5;28;01mraise\u001B[39;00m Py4JError(\n",
       "\u001B[1;32m    331\u001B[0m         \u001B[38;5;124m\"\u001B[39m\u001B[38;5;124mAn error occurred while calling \u001B[39m\u001B[38;5;132;01m{0}\u001B[39;00m\u001B[38;5;132;01m{1}\u001B[39;00m\u001B[38;5;132;01m{2}\u001B[39;00m\u001B[38;5;124m. Trace:\u001B[39m\u001B[38;5;130;01m\\n\u001B[39;00m\u001B[38;5;132;01m{3}\u001B[39;00m\u001B[38;5;130;01m\\n\u001B[39;00m\u001B[38;5;124m\"\u001B[39m\u001B[38;5;241m.\u001B[39m\n",
       "\u001B[1;32m    332\u001B[0m         \u001B[38;5;28mformat\u001B[39m(target_id, \u001B[38;5;124m\"\u001B[39m\u001B[38;5;124m.\u001B[39m\u001B[38;5;124m\"\u001B[39m, name, value))\n",
       "\n",
       "\u001B[0;31mPy4JJavaError\u001B[0m: An error occurred while calling o1294.parquet.\n",
       ": java.nio.file.AccessDeniedException: s3://full-stack-bigdata-datasets/Big_Data/40tude_tidy.parquet: getFileStatus on s3://full-stack-bigdata-datasets/Big_Data/40tude_tidy.parquet: com.amazonaws.services.s3.model.AmazonS3Exception: Forbidden; request: HEAD https://full-stack-bigdata-datasets.s3.eu-west-3.amazonaws.com Big_Data/40tude_tidy.parquet {} Hadoop 3.3.4, aws-sdk-java/1.12.189 Linux/5.15.0-1053-aws OpenJDK_64-Bit_Server_VM/25.382-b05 java/1.8.0_382 scala/2.12.14 kotlin/1.6.0 vendor/Azul_Systems,_Inc. cfg/retry-mode/legacy com.amazonaws.services.s3.model.GetObjectMetadataRequest; Request ID: 0DEGJBN029TVVEA1, Extended Request ID: FmYd3md7k082/i/aMJTvusn5ukpcqRta6PU603oWvVP1M+IO1utz7sz/8oBXdBARaHizd+GK9Is=, Cloud Provider: AWS, Instance ID: i-0fd69a863ffdef93e credentials-provider: com.amazonaws.auth.AnonymousAWSCredentials credential-header: no-credential-header signature-present: false (Service: Amazon S3; Status Code: 403; Error Code: 403 Forbidden; Request ID: 0DEGJBN029TVVEA1; S3 Extended Request ID: FmYd3md7k082/i/aMJTvusn5ukpcqRta6PU603oWvVP1M+IO1utz7sz/8oBXdBARaHizd+GK9Is=; Proxy: null), S3 Extended Request ID: FmYd3md7k082/i/aMJTvusn5ukpcqRta6PU603oWvVP1M+IO1utz7sz/8oBXdBARaHizd+GK9Is=:403 Forbidden\n",
       "\tat shaded.databricks.org.apache.hadoop.fs.s3a.S3AUtils.translateException(S3AUtils.java:296)\n",
       "\tat shaded.databricks.org.apache.hadoop.fs.s3a.S3AUtils.translateException(S3AUtils.java:201)\n",
       "\tat shaded.databricks.org.apache.hadoop.fs.s3a.S3AFileSystem.s3GetFileStatus(S3AFileSystem.java:3896)\n",
       "\tat shaded.databricks.org.apache.hadoop.fs.s3a.S3AFileSystem.innerGetFileStatus(S3AFileSystem.java:3830)\n",
       "\tat shaded.databricks.org.apache.hadoop.fs.s3a.S3AFileSystem.getFileStatus(S3AFileSystem.java:3724)\n",
       "\tat com.databricks.common.filesystem.LokiFileSystem.getFileStatus(LokiFileSystem.scala:140)\n",
       "\tat org.apache.hadoop.fs.FileSystem.exists(FileSystem.java:1760)\n",
       "\tat org.apache.spark.sql.execution.datasources.InsertIntoHadoopFsR ... (truncated)"
      ]
     },
     "metadata": {
      "application/vnd.databricks.v1+output": {
       "arguments": {},
       "data": "\u001B[0;31m---------------------------------------------------------------------------\u001B[0m\n\u001B[0;31mPy4JJavaError\u001B[0m                             Traceback (most recent call last)\nFile \u001B[0;32m<command-4290759733100622>:2\u001B[0m\n\u001B[1;32m      1\u001B[0m out_path \u001B[38;5;241m=\u001B[39m \u001B[38;5;124m\"\u001B[39m\u001B[38;5;124ms3://full-stack-bigdata-datasets/Big_Data/40tude_tidy.parquet\u001B[39m\u001B[38;5;124m\"\u001B[39m\n\u001B[0;32m----> 2\u001B[0m exploded_df\u001B[38;5;241m.\u001B[39mwrite\u001B[38;5;241m.\u001B[39mparquet(out_path, mode\u001B[38;5;241m=\u001B[39m\u001B[38;5;124m\"\u001B[39m\u001B[38;5;124moverwrite\u001B[39m\u001B[38;5;124m\"\u001B[39m)\n\nFile \u001B[0;32m/databricks/spark/python/pyspark/instrumentation_utils.py:48\u001B[0m, in \u001B[0;36m_wrap_function.<locals>.wrapper\u001B[0;34m(*args, **kwargs)\u001B[0m\n\u001B[1;32m     46\u001B[0m start \u001B[38;5;241m=\u001B[39m time\u001B[38;5;241m.\u001B[39mperf_counter()\n\u001B[1;32m     47\u001B[0m \u001B[38;5;28;01mtry\u001B[39;00m:\n\u001B[0;32m---> 48\u001B[0m     res \u001B[38;5;241m=\u001B[39m \u001B[43mfunc\u001B[49m\u001B[43m(\u001B[49m\u001B[38;5;241;43m*\u001B[39;49m\u001B[43margs\u001B[49m\u001B[43m,\u001B[49m\u001B[43m \u001B[49m\u001B[38;5;241;43m*\u001B[39;49m\u001B[38;5;241;43m*\u001B[39;49m\u001B[43mkwargs\u001B[49m\u001B[43m)\u001B[49m\n\u001B[1;32m     49\u001B[0m     logger\u001B[38;5;241m.\u001B[39mlog_success(\n\u001B[1;32m     50\u001B[0m         module_name, class_name, function_name, time\u001B[38;5;241m.\u001B[39mperf_counter() \u001B[38;5;241m-\u001B[39m start, signature\n\u001B[1;32m     51\u001B[0m     )\n\u001B[1;32m     52\u001B[0m     \u001B[38;5;28;01mreturn\u001B[39;00m res\n\nFile \u001B[0;32m/databricks/spark/python/pyspark/sql/readwriter.py:1655\u001B[0m, in \u001B[0;36mDataFrameWriter.parquet\u001B[0;34m(self, path, mode, partitionBy, compression)\u001B[0m\n\u001B[1;32m   1653\u001B[0m     \u001B[38;5;28mself\u001B[39m\u001B[38;5;241m.\u001B[39mpartitionBy(partitionBy)\n\u001B[1;32m   1654\u001B[0m \u001B[38;5;28mself\u001B[39m\u001B[38;5;241m.\u001B[39m_set_opts(compression\u001B[38;5;241m=\u001B[39mcompression)\n\u001B[0;32m-> 1655\u001B[0m \u001B[38;5;28;43mself\u001B[39;49m\u001B[38;5;241;43m.\u001B[39;49m\u001B[43m_jwrite\u001B[49m\u001B[38;5;241;43m.\u001B[39;49m\u001B[43mparquet\u001B[49m\u001B[43m(\u001B[49m\u001B[43mpath\u001B[49m\u001B[43m)\u001B[49m\n\nFile \u001B[0;32m/databricks/spark/python/lib/py4j-0.10.9.5-src.zip/py4j/java_gateway.py:1321\u001B[0m, in \u001B[0;36mJavaMember.__call__\u001B[0;34m(self, *args)\u001B[0m\n\u001B[1;32m   1315\u001B[0m command \u001B[38;5;241m=\u001B[39m proto\u001B[38;5;241m.\u001B[39mCALL_COMMAND_NAME \u001B[38;5;241m+\u001B[39m\\\n\u001B[1;32m   1316\u001B[0m     \u001B[38;5;28mself\u001B[39m\u001B[38;5;241m.\u001B[39mcommand_header \u001B[38;5;241m+\u001B[39m\\\n\u001B[1;32m   1317\u001B[0m     args_command \u001B[38;5;241m+\u001B[39m\\\n\u001B[1;32m   1318\u001B[0m     proto\u001B[38;5;241m.\u001B[39mEND_COMMAND_PART\n\u001B[1;32m   1320\u001B[0m answer \u001B[38;5;241m=\u001B[39m \u001B[38;5;28mself\u001B[39m\u001B[38;5;241m.\u001B[39mgateway_client\u001B[38;5;241m.\u001B[39msend_command(command)\n\u001B[0;32m-> 1321\u001B[0m return_value \u001B[38;5;241m=\u001B[39m \u001B[43mget_return_value\u001B[49m\u001B[43m(\u001B[49m\n\u001B[1;32m   1322\u001B[0m \u001B[43m    \u001B[49m\u001B[43manswer\u001B[49m\u001B[43m,\u001B[49m\u001B[43m \u001B[49m\u001B[38;5;28;43mself\u001B[39;49m\u001B[38;5;241;43m.\u001B[39;49m\u001B[43mgateway_client\u001B[49m\u001B[43m,\u001B[49m\u001B[43m \u001B[49m\u001B[38;5;28;43mself\u001B[39;49m\u001B[38;5;241;43m.\u001B[39;49m\u001B[43mtarget_id\u001B[49m\u001B[43m,\u001B[49m\u001B[43m \u001B[49m\u001B[38;5;28;43mself\u001B[39;49m\u001B[38;5;241;43m.\u001B[39;49m\u001B[43mname\u001B[49m\u001B[43m)\u001B[49m\n\u001B[1;32m   1324\u001B[0m \u001B[38;5;28;01mfor\u001B[39;00m temp_arg \u001B[38;5;129;01min\u001B[39;00m temp_args:\n\u001B[1;32m   1325\u001B[0m     temp_arg\u001B[38;5;241m.\u001B[39m_detach()\n\nFile \u001B[0;32m/databricks/spark/python/pyspark/errors/exceptions.py:228\u001B[0m, in \u001B[0;36mcapture_sql_exception.<locals>.deco\u001B[0;34m(*a, **kw)\u001B[0m\n\u001B[1;32m    226\u001B[0m \u001B[38;5;28;01mdef\u001B[39;00m \u001B[38;5;21mdeco\u001B[39m(\u001B[38;5;241m*\u001B[39ma: Any, \u001B[38;5;241m*\u001B[39m\u001B[38;5;241m*\u001B[39mkw: Any) \u001B[38;5;241m-\u001B[39m\u001B[38;5;241m>\u001B[39m Any:\n\u001B[1;32m    227\u001B[0m     \u001B[38;5;28;01mtry\u001B[39;00m:\n\u001B[0;32m--> 228\u001B[0m         \u001B[38;5;28;01mreturn\u001B[39;00m \u001B[43mf\u001B[49m\u001B[43m(\u001B[49m\u001B[38;5;241;43m*\u001B[39;49m\u001B[43ma\u001B[49m\u001B[43m,\u001B[49m\u001B[43m \u001B[49m\u001B[38;5;241;43m*\u001B[39;49m\u001B[38;5;241;43m*\u001B[39;49m\u001B[43mkw\u001B[49m\u001B[43m)\u001B[49m\n\u001B[1;32m    229\u001B[0m     \u001B[38;5;28;01mexcept\u001B[39;00m Py4JJavaError \u001B[38;5;28;01mas\u001B[39;00m e:\n\u001B[1;32m    230\u001B[0m         converted \u001B[38;5;241m=\u001B[39m convert_exception(e\u001B[38;5;241m.\u001B[39mjava_exception)\n\nFile \u001B[0;32m/databricks/spark/python/lib/py4j-0.10.9.5-src.zip/py4j/protocol.py:326\u001B[0m, in \u001B[0;36mget_return_value\u001B[0;34m(answer, gateway_client, target_id, name)\u001B[0m\n\u001B[1;32m    324\u001B[0m value \u001B[38;5;241m=\u001B[39m OUTPUT_CONVERTER[\u001B[38;5;28mtype\u001B[39m](answer[\u001B[38;5;241m2\u001B[39m:], gateway_client)\n\u001B[1;32m    325\u001B[0m \u001B[38;5;28;01mif\u001B[39;00m answer[\u001B[38;5;241m1\u001B[39m] \u001B[38;5;241m==\u001B[39m REFERENCE_TYPE:\n\u001B[0;32m--> 326\u001B[0m     \u001B[38;5;28;01mraise\u001B[39;00m Py4JJavaError(\n\u001B[1;32m    327\u001B[0m         \u001B[38;5;124m\"\u001B[39m\u001B[38;5;124mAn error occurred while calling \u001B[39m\u001B[38;5;132;01m{0}\u001B[39;00m\u001B[38;5;132;01m{1}\u001B[39;00m\u001B[38;5;132;01m{2}\u001B[39;00m\u001B[38;5;124m.\u001B[39m\u001B[38;5;130;01m\\n\u001B[39;00m\u001B[38;5;124m\"\u001B[39m\u001B[38;5;241m.\u001B[39m\n\u001B[1;32m    328\u001B[0m         \u001B[38;5;28mformat\u001B[39m(target_id, \u001B[38;5;124m\"\u001B[39m\u001B[38;5;124m.\u001B[39m\u001B[38;5;124m\"\u001B[39m, name), value)\n\u001B[1;32m    329\u001B[0m \u001B[38;5;28;01melse\u001B[39;00m:\n\u001B[1;32m    330\u001B[0m     \u001B[38;5;28;01mraise\u001B[39;00m Py4JError(\n\u001B[1;32m    331\u001B[0m         \u001B[38;5;124m\"\u001B[39m\u001B[38;5;124mAn error occurred while calling \u001B[39m\u001B[38;5;132;01m{0}\u001B[39;00m\u001B[38;5;132;01m{1}\u001B[39;00m\u001B[38;5;132;01m{2}\u001B[39;00m\u001B[38;5;124m. Trace:\u001B[39m\u001B[38;5;130;01m\\n\u001B[39;00m\u001B[38;5;132;01m{3}\u001B[39;00m\u001B[38;5;130;01m\\n\u001B[39;00m\u001B[38;5;124m\"\u001B[39m\u001B[38;5;241m.\u001B[39m\n\u001B[1;32m    332\u001B[0m         \u001B[38;5;28mformat\u001B[39m(target_id, \u001B[38;5;124m\"\u001B[39m\u001B[38;5;124m.\u001B[39m\u001B[38;5;124m\"\u001B[39m, name, value))\n\n\u001B[0;31mPy4JJavaError\u001B[0m: An error occurred while calling o1294.parquet.\n: java.nio.file.AccessDeniedException: s3://full-stack-bigdata-datasets/Big_Data/40tude_tidy.parquet: getFileStatus on s3://full-stack-bigdata-datasets/Big_Data/40tude_tidy.parquet: com.amazonaws.services.s3.model.AmazonS3Exception: Forbidden; request: HEAD https://full-stack-bigdata-datasets.s3.eu-west-3.amazonaws.com Big_Data/40tude_tidy.parquet {} Hadoop 3.3.4, aws-sdk-java/1.12.189 Linux/5.15.0-1053-aws OpenJDK_64-Bit_Server_VM/25.382-b05 java/1.8.0_382 scala/2.12.14 kotlin/1.6.0 vendor/Azul_Systems,_Inc. cfg/retry-mode/legacy com.amazonaws.services.s3.model.GetObjectMetadataRequest; Request ID: 0DEGJBN029TVVEA1, Extended Request ID: FmYd3md7k082/i/aMJTvusn5ukpcqRta6PU603oWvVP1M+IO1utz7sz/8oBXdBARaHizd+GK9Is=, Cloud Provider: AWS, Instance ID: i-0fd69a863ffdef93e credentials-provider: com.amazonaws.auth.AnonymousAWSCredentials credential-header: no-credential-header signature-present: false (Service: Amazon S3; Status Code: 403; Error Code: 403 Forbidden; Request ID: 0DEGJBN029TVVEA1; S3 Extended Request ID: FmYd3md7k082/i/aMJTvusn5ukpcqRta6PU603oWvVP1M+IO1utz7sz/8oBXdBARaHizd+GK9Is=; Proxy: null), S3 Extended Request ID: FmYd3md7k082/i/aMJTvusn5ukpcqRta6PU603oWvVP1M+IO1utz7sz/8oBXdBARaHizd+GK9Is=:403 Forbidden\n\tat shaded.databricks.org.apache.hadoop.fs.s3a.S3AUtils.translateException(S3AUtils.java:296)\n\tat shaded.databricks.org.apache.hadoop.fs.s3a.S3AUtils.translateException(S3AUtils.java:201)\n\tat shaded.databricks.org.apache.hadoop.fs.s3a.S3AFileSystem.s3GetFileStatus(S3AFileSystem.java:3896)\n\tat shaded.databricks.org.apache.hadoop.fs.s3a.S3AFileSystem.innerGetFileStatus(S3AFileSystem.java:3830)\n\tat shaded.databricks.org.apache.hadoop.fs.s3a.S3AFileSystem.getFileStatus(S3AFileSystem.java:3724)\n\tat com.databricks.common.filesystem.LokiFileSystem.getFileStatus(LokiFileSystem.scala:140)\n\tat org.apache.hadoop.fs.FileSystem.exists(FileSystem.java:1760)\n\tat org.apache.spark.sql.execution.datasources.InsertIntoHadoopFsR ... (truncated)",
       "errorSummary": "java.nio.file.AccessDeniedException: s3://full-stack-bigdata-datasets/Big_Data/40tude_tidy.parquet: getFileStatus on s3://full-stack-bigdata-datasets/Big_Data/40tude_tidy.parquet: com.amazonaws.services.s3.model.AmazonS3Exception: Forbidden; request: HEAD https://full-stack-bigdata-datasets.s3.eu-west-3.amazonaws.com Big_Data/40tude_tidy.parquet {} Hadoop 3.3.4, aws-sdk-java/1.12.189 Linux/5.15.0-1053-aws OpenJDK_64-Bit_Server_VM/25.382-b05 java/1.8.0_382 scala/2.12.14 kotlin/1.6.0 vendor/Azul_Systems,_Inc. cfg/retry-mode/legacy com.amazonaws.services.s3.model.GetObjectMetadataRequest; Request ID: 0DEGJBN029TVVEA1, Extended Request ID: FmYd3md7k082/i/aMJTvusn5ukpcqRta6PU603oWvVP1M+IO1utz7sz/8oBXdBARaHizd+GK9Is=, Cloud Provider: AWS, Instance ID: i-0fd69a863ffdef93e credentials-provider: com.amazonaws.auth.AnonymousAWSCredentials credential-header: no-credential-header signature-present: false (Service: Amazon S3; Status Code: 403; Error Code: 403 Forbidden; Request ID: 0DEGJBN029TVVEA1; S3 Extended Request ID: FmYd3md7k082/i/aMJTvusn5ukpcqRta6PU603oWvVP1M+IO1utz7sz/8oBXdBARaHizd+GK9Is=; Proxy: null), S3 Extended Request ID: FmYd3md7k082/i/aMJTvusn5ukpcqRta6PU603oWvVP1M+IO1utz7sz/8oBXdBARaHizd+GK9Is=:403 Forbidden",
       "errorTraceType": "ansi",
       "metadata": {},
       "type": "ipynbError"
      }
     },
     "output_type": "display_data"
    }
   ],
   "source": [
    "out_path = \"s3://full-stack-bigdata-datasets/Big_Data/40tude_tidy.parquet\"\n",
    "exploded_df.write.parquet(out_path, mode=\"overwrite\")"
   ]
  }
 ],
 "metadata": {
  "application/vnd.databricks.v1+notebook": {
   "dashboards": [],
   "language": "python",
   "notebookMetadata": {
    "pythonIndentUnit": 2
   },
   "notebookName": "J03_vendredi_midi_exo3",
   "widgets": {}
  },
  "kernelspec": {
   "display_name": "Python 3",
   "language": "python",
   "name": "python3"
  },
  "language_info": {
   "codemirror_mode": {
    "name": "ipython",
    "version": 3
   },
   "file_extension": ".py",
   "mimetype": "text/x-python",
   "name": "python",
   "nbconvert_exporter": "python",
   "pygments_lexer": "ipython3",
   "version": "3.8.3"
  },
  "name": "03-Tidying-up-Part-2",
  "notebookId": 283981489604843
 },
 "nbformat": 4,
 "nbformat_minor": 0
}
