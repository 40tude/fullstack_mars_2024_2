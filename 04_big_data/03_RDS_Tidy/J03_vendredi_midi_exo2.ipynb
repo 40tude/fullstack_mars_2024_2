{
 "cells": [
  {
   "cell_type": "markdown",
   "metadata": {
    "application/vnd.databricks.v1+cell": {
     "cellMetadata": {
      "byteLimit": 2048000,
      "rowLimit": 10000
     },
     "inputWidgets": {},
     "nuid": "6ae4d48a-4950-4c50-b153-ffdfaa4438aa",
     "showTitle": false,
     "title": ""
    }
   },
   "source": [
    "# Tidying up our data - Part 1"
   ]
  },
  {
   "cell_type": "markdown",
   "metadata": {
    "application/vnd.databricks.v1+cell": {
     "cellMetadata": {
      "byteLimit": 2048000,
      "rowLimit": 10000
     },
     "inputWidgets": {},
     "nuid": "aee1c0a9-2310-46b8-b1ae-51d86ed1a82f",
     "showTitle": false,
     "title": ""
    }
   },
   "source": [
    "# Learning objectives\n",
    "\n",
    "- Manipulate deeply nested json data and transform them into structured data ready to be loaded into a Data Warehouse."
   ]
  },
  {
   "cell_type": "markdown",
   "metadata": {
    "application/vnd.databricks.v1+cell": {
     "cellMetadata": {
      "byteLimit": 2048000,
      "rowLimit": 10000
     },
     "inputWidgets": {},
     "nuid": "1ee2a632-d35c-4d44-a5dc-0a772dc9e3d5",
     "showTitle": false,
     "title": ""
    }
   },
   "source": [
    "## Loading our data from S3"
   ]
  },
  {
   "cell_type": "code",
   "execution_count": 0,
   "metadata": {
    "application/vnd.databricks.v1+cell": {
     "cellMetadata": {
      "byteLimit": 2048000,
      "rowLimit": 10000
     },
     "inputWidgets": {},
     "nuid": "7992e6f8-fe81-435c-bb26-77468b28f135",
     "showTitle": false,
     "title": ""
    }
   },
   "outputs": [],
   "source": [
    "filepath = \"s3://full-stack-bigdata-datasets/Big_Data/YOUTUBE/songs.json\""
   ]
  },
  {
   "cell_type": "code",
   "execution_count": 0,
   "metadata": {
    "application/vnd.databricks.v1+cell": {
     "cellMetadata": {
      "byteLimit": 2048000,
      "rowLimit": 10000
     },
     "inputWidgets": {},
     "nuid": "bbd182c1-4dbd-4b91-bb48-96f863b2a535",
     "showTitle": false,
     "title": ""
    }
   },
   "outputs": [],
   "source": [
    "df = spark.read.format('json').load(filepath, multiline=True)"
   ]
  },
  {
   "cell_type": "markdown",
   "metadata": {
    "application/vnd.databricks.v1+cell": {
     "cellMetadata": {
      "byteLimit": 2048000,
      "rowLimit": 10000
     },
     "inputWidgets": {},
     "nuid": "6f313d25-feed-4e4a-911c-a81ba699570b",
     "showTitle": false,
     "title": ""
    }
   },
   "source": [
    "## Tidying up\n",
    "\n",
    "---\n",
    "\n",
    "We have multiple issues with our data.  **It does not look like \"tidy data\" at all.**  \n",
    "First, we have rows within rows...\n",
    "And second, most of the data resides in deeply nested structure within the column items...\n",
    "\n",
    "We will fix the former, then handle the latter in the next notebook."
   ]
  },
  {
   "cell_type": "markdown",
   "metadata": {
    "application/vnd.databricks.v1+cell": {
     "cellMetadata": {
      "byteLimit": 2048000,
      "rowLimit": 10000
     },
     "inputWidgets": {},
     "nuid": "e8a3ea63-1f11-4797-a90d-ce65a104d58d",
     "showTitle": false,
     "title": ""
    }
   },
   "source": [
    "### 1. Fixing the rows\n",
    "Remember the `.explode` method? [documentation](https://spark.apache.org/docs/2.1.0/api/python/pyspark.sql.html#pyspark.sql.functions.explode).  \n",
    "What `.explode(...)` does, it \"Returns a new row for each element in the given array or map.\" We will use a lot of it here!\n",
    "\n",
    "If you remember properly, that's exactly the kind of structures we have in the schema of our DataFrame for the `items` column.\n",
    "\n",
    "1. Print out the schema of `df`"
   ]
  },
  {
   "cell_type": "code",
   "execution_count": 0,
   "metadata": {
    "application/vnd.databricks.v1+cell": {
     "cellMetadata": {
      "byteLimit": 2048000,
      "rowLimit": 10000
     },
     "inputWidgets": {},
     "nuid": "80a9cc3b-6f6c-48a0-9f77-df74774c040e",
     "showTitle": false,
     "title": ""
    }
   },
   "outputs": [
    {
     "output_type": "stream",
     "name": "stdout",
     "output_type": "stream",
     "text": [
      "root\n |-- etag: string (nullable = true)\n |-- items: array (nullable = true)\n |    |-- element: struct (containsNull = true)\n |    |    |-- contentDetails: struct (nullable = true)\n |    |    |    |-- caption: string (nullable = true)\n |    |    |    |-- contentRating: struct (nullable = true)\n |    |    |    |    |-- ytRating: string (nullable = true)\n |    |    |    |-- definition: string (nullable = true)\n |    |    |    |-- dimension: string (nullable = true)\n |    |    |    |-- duration: string (nullable = true)\n |    |    |    |-- licensedContent: boolean (nullable = true)\n |    |    |    |-- projection: string (nullable = true)\n |    |    |    |-- regionRestriction: struct (nullable = true)\n |    |    |    |    |-- allowed: array (nullable = true)\n |    |    |    |    |    |-- element: string (containsNull = true)\n |    |    |    |    |-- blocked: array (nullable = true)\n |    |    |    |    |    |-- element: string (containsNull = true)\n |    |    |-- etag: string (nullable = true)\n |    |    |-- id: string (nullable = true)\n |    |    |-- kind: string (nullable = true)\n |    |    |-- snippet: struct (nullable = true)\n |    |    |    |-- categoryId: string (nullable = true)\n |    |    |    |-- channelId: string (nullable = true)\n |    |    |    |-- channelTitle: string (nullable = true)\n |    |    |    |-- defaultAudioLanguage: string (nullable = true)\n |    |    |    |-- defaultLanguage: string (nullable = true)\n |    |    |    |-- description: string (nullable = true)\n |    |    |    |-- liveBroadcastContent: string (nullable = true)\n |    |    |    |-- localized: struct (nullable = true)\n |    |    |    |    |-- description: string (nullable = true)\n |    |    |    |    |-- title: string (nullable = true)\n |    |    |    |-- publishedAt: string (nullable = true)\n |    |    |    |-- tags: array (nullable = true)\n |    |    |    |    |-- element: string (containsNull = true)\n |    |    |    |-- thumbnails: struct (nullable = true)\n |    |    |    |    |-- default: struct (nullable = true)\n |    |    |    |    |    |-- height: long (nullable = true)\n |    |    |    |    |    |-- url: string (nullable = true)\n |    |    |    |    |    |-- width: long (nullable = true)\n |    |    |    |    |-- high: struct (nullable = true)\n |    |    |    |    |    |-- height: long (nullable = true)\n |    |    |    |    |    |-- url: string (nullable = true)\n |    |    |    |    |    |-- width: long (nullable = true)\n |    |    |    |    |-- maxres: struct (nullable = true)\n |    |    |    |    |    |-- height: long (nullable = true)\n |    |    |    |    |    |-- url: string (nullable = true)\n |    |    |    |    |    |-- width: long (nullable = true)\n |    |    |    |    |-- medium: struct (nullable = true)\n |    |    |    |    |    |-- height: long (nullable = true)\n |    |    |    |    |    |-- url: string (nullable = true)\n |    |    |    |    |    |-- width: long (nullable = true)\n |    |    |    |    |-- standard: struct (nullable = true)\n |    |    |    |    |    |-- height: long (nullable = true)\n |    |    |    |    |    |-- url: string (nullable = true)\n |    |    |    |    |    |-- width: long (nullable = true)\n |    |    |    |-- title: string (nullable = true)\n |    |    |-- statistics: struct (nullable = true)\n |    |    |    |-- commentCount: string (nullable = true)\n |    |    |    |-- dislikeCount: string (nullable = true)\n |    |    |    |-- favoriteCount: string (nullable = true)\n |    |    |    |-- likeCount: string (nullable = true)\n |    |    |    |-- viewCount: string (nullable = true)\n |    |    |-- status: struct (nullable = true)\n |    |    |    |-- embeddable: boolean (nullable = true)\n |    |    |    |-- license: string (nullable = true)\n |    |    |    |-- madeForKids: boolean (nullable = true)\n |    |    |    |-- privacyStatus: string (nullable = true)\n |    |    |    |-- publicStatsViewable: boolean (nullable = true)\n |    |    |    |-- uploadStatus: string (nullable = true)\n |    |    |-- topicDetails: struct (nullable = true)\n |    |    |    |-- relevantTopicIds: array (nullable = true)\n |    |    |    |    |-- element: string (containsNull = true)\n |    |    |    |-- topicCategories: array (nullable = true)\n |    |    |    |    |-- element: string (containsNull = true)\n |-- kind: string (nullable = true)\n |-- pageInfo: struct (nullable = true)\n |    |-- resultsPerPage: long (nullable = true)\n |    |-- totalResults: long (nullable = true)\n\n"
     ]
    }
   ],
   "source": [
    "df.printSchema()"
   ]
  },
  {
   "cell_type": "markdown",
   "metadata": {
    "application/vnd.databricks.v1+cell": {
     "cellMetadata": {
      "byteLimit": 2048000,
      "rowLimit": 10000
     },
     "inputWidgets": {},
     "nuid": "a694c6ef-5a68-4c9f-b341-ce93df853ecb",
     "showTitle": false,
     "title": ""
    }
   },
   "source": [
    "2. Import the PySpark SQL functions following usual convention"
   ]
  },
  {
   "cell_type": "code",
   "execution_count": 0,
   "metadata": {
    "application/vnd.databricks.v1+cell": {
     "cellMetadata": {
      "byteLimit": 2048000,
      "rowLimit": 10000
     },
     "inputWidgets": {},
     "nuid": "e078e235-c21e-45cf-8f3c-69613fbff1e6",
     "showTitle": false,
     "title": ""
    }
   },
   "outputs": [],
   "source": [
    "from pyspark.sql import functions as F"
   ]
  },
  {
   "cell_type": "markdown",
   "metadata": {
    "application/vnd.databricks.v1+cell": {
     "cellMetadata": {
      "byteLimit": 2048000,
      "rowLimit": 10000
     },
     "inputWidgets": {},
     "nuid": "ec4b5c71-0c7d-433c-b8cc-11c0bb171944",
     "showTitle": false,
     "title": ""
    }
   },
   "source": [
    "3. Use `.explode(...)` on the `items` column and count the number of results"
   ]
  },
  {
   "cell_type": "code",
   "execution_count": 0,
   "metadata": {
    "application/vnd.databricks.v1+cell": {
     "cellMetadata": {
      "byteLimit": 2048000,
      "rowLimit": 10000
     },
     "inputWidgets": {},
     "nuid": "d2f53520-8c3c-4575-90d7-90cc5f3589d4",
     "showTitle": false,
     "title": ""
    }
   },
   "outputs": [
    {
     "output_type": "stream",
     "name": "stdout",
     "output_type": "stream",
     "text": [
      "Out[18]: 3907"
     ]
    }
   ],
   "source": [
    "df.withColumn('items', F.explode('items')).select('items').count()\n",
    "\n"
   ]
  },
  {
   "cell_type": "markdown",
   "metadata": {
    "application/vnd.databricks.v1+cell": {
     "cellMetadata": {},
     "inputWidgets": {},
     "nuid": "11b2822e-b2f5-4406-9a7e-6d057107c6c0",
     "showTitle": false,
     "title": ""
    }
   },
   "source": [
    "If you got 3907 rows, you've made it, congrats! :)  \n",
    "We will use this as our new working DataFrame:\n",
    "- just do the same thing, but this time save the exploded dataset into a variable named `items_df`\n",
    "- don't forget to give a proper alias to your newly compute column: `items`\n",
    "- at the end, as a sanity check, make sure we have the right amount of columns in our new DataFrame\n",
    "\n",
    "4. Follow previous instructions"
   ]
  },
  {
   "cell_type": "code",
   "execution_count": 0,
   "metadata": {
    "application/vnd.databricks.v1+cell": {
     "cellMetadata": {
      "byteLimit": 2048000,
      "rowLimit": 10000
     },
     "inputWidgets": {},
     "nuid": "61d0cd96-567b-4800-8d58-41752c9af596",
     "showTitle": false,
     "title": ""
    }
   },
   "outputs": [
    {
     "output_type": "stream",
     "name": "stdout",
     "output_type": "stream",
     "text": [
      "Out[19]: 3907"
     ]
    }
   ],
   "source": [
    "items_df = df.withColumn('items', F.explode('items'))\n",
    "items_df.select('items').count()\n"
   ]
  },
  {
   "cell_type": "markdown",
   "metadata": {
    "application/vnd.databricks.v1+cell": {
     "cellMetadata": {},
     "inputWidgets": {},
     "nuid": "36eed885-7242-401d-8360-8672d2c3d81f",
     "showTitle": false,
     "title": ""
    }
   },
   "source": [
    "We're making progress, we now have one row per result (e.g. song)!\n",
    "\n",
    "But each song is a deeply nested structure... We will take care of this in the following notebook.\n",
    "\n",
    "5. Show the first 5 rows of the exploded dataset"
   ]
  },
  {
   "cell_type": "code",
   "execution_count": 0,
   "metadata": {
    "application/vnd.databricks.v1+cell": {
     "cellMetadata": {
      "byteLimit": 2048000,
      "rowLimit": 10000
     },
     "inputWidgets": {},
     "nuid": "3b74fd8e-391e-4b47-a374-c8b539ec1eb6",
     "showTitle": false,
     "title": ""
    }
   },
   "outputs": [
    {
     "output_type": "stream",
     "name": "stderr",
     "output_type": "stream",
     "text": [
      "/databricks/spark/python/pyspark/sql/pandas/conversion.py:122: UserWarning: toPandas attempted Arrow optimization because 'spark.sql.execution.arrow.pyspark.enabled' is set to true; however, failed by the reason below:\n  Unable to convert the field items. If this column is not necessary, you may consider dropping it or converting to primitive type before the conversion.\nDirect cause: Nested StructType not supported in conversion to Arrow\nAttempting non-optimization as 'spark.sql.execution.arrow.pyspark.fallback.enabled' is set to true.\n  warn(msg)\n"
     ]
    },
    {
     "output_type": "display_data",
     "data": {
      "text/html": [
       "<div>\n",
       "<style scoped>\n",
       "    .dataframe tbody tr th:only-of-type {\n",
       "        vertical-align: middle;\n",
       "    }\n",
       "\n",
       "    .dataframe tbody tr th {\n",
       "        vertical-align: top;\n",
       "    }\n",
       "\n",
       "    .dataframe thead th {\n",
       "        text-align: right;\n",
       "    }\n",
       "</style>\n",
       "<table border=\"1\" class=\"dataframe\">\n",
       "  <thead>\n",
       "    <tr style=\"text-align: right;\">\n",
       "      <th></th>\n",
       "      <th>etag</th>\n",
       "      <th>items</th>\n",
       "      <th>kind</th>\n",
       "      <th>pageInfo</th>\n",
       "    </tr>\n",
       "  </thead>\n",
       "  <tbody>\n",
       "    <tr>\n",
       "      <th>0</th>\n",
       "      <td>U0fncx_GV9jD5SKQr15LMvwuPcs</td>\n",
       "      <td>((false, (None,), sd, 2d, PT3M33S, True, recta...</td>\n",
       "      <td>youtube#videoListResponse</td>\n",
       "      <td>(38, 38)</td>\n",
       "    </tr>\n",
       "    <tr>\n",
       "      <th>1</th>\n",
       "      <td>U0fncx_GV9jD5SKQr15LMvwuPcs</td>\n",
       "      <td>((false, (None,), hd, 2d, PT7M46S, False, rect...</td>\n",
       "      <td>youtube#videoListResponse</td>\n",
       "      <td>(38, 38)</td>\n",
       "    </tr>\n",
       "    <tr>\n",
       "      <th>2</th>\n",
       "      <td>U0fncx_GV9jD5SKQr15LMvwuPcs</td>\n",
       "      <td>((false, (None,), sd, 2d, PT3M7S, False, recta...</td>\n",
       "      <td>youtube#videoListResponse</td>\n",
       "      <td>(38, 38)</td>\n",
       "    </tr>\n",
       "    <tr>\n",
       "      <th>3</th>\n",
       "      <td>U0fncx_GV9jD5SKQr15LMvwuPcs</td>\n",
       "      <td>((false, (None,), hd, 2d, PT3M43S, False, rect...</td>\n",
       "      <td>youtube#videoListResponse</td>\n",
       "      <td>(38, 38)</td>\n",
       "    </tr>\n",
       "    <tr>\n",
       "      <th>4</th>\n",
       "      <td>U0fncx_GV9jD5SKQr15LMvwuPcs</td>\n",
       "      <td>((false, (None,), hd, 2d, PT5M, False, rectang...</td>\n",
       "      <td>youtube#videoListResponse</td>\n",
       "      <td>(38, 38)</td>\n",
       "    </tr>\n",
       "  </tbody>\n",
       "</table>\n",
       "</div>"
      ]
     },
     "metadata": {
      "application/vnd.databricks.v1+output": {
       "addedWidgets": {},
       "arguments": {},
       "data": "<div>\n<style scoped>\n    .dataframe tbody tr th:only-of-type {\n        vertical-align: middle;\n    }\n\n    .dataframe tbody tr th {\n        vertical-align: top;\n    }\n\n    .dataframe thead th {\n        text-align: right;\n    }\n</style>\n<table border=\"1\" class=\"dataframe\">\n  <thead>\n    <tr style=\"text-align: right;\">\n      <th></th>\n      <th>etag</th>\n      <th>items</th>\n      <th>kind</th>\n      <th>pageInfo</th>\n    </tr>\n  </thead>\n  <tbody>\n    <tr>\n      <th>0</th>\n      <td>U0fncx_GV9jD5SKQr15LMvwuPcs</td>\n      <td>((false, (None,), sd, 2d, PT3M33S, True, recta...</td>\n      <td>youtube#videoListResponse</td>\n      <td>(38, 38)</td>\n    </tr>\n    <tr>\n      <th>1</th>\n      <td>U0fncx_GV9jD5SKQr15LMvwuPcs</td>\n      <td>((false, (None,), hd, 2d, PT7M46S, False, rect...</td>\n      <td>youtube#videoListResponse</td>\n      <td>(38, 38)</td>\n    </tr>\n    <tr>\n      <th>2</th>\n      <td>U0fncx_GV9jD5SKQr15LMvwuPcs</td>\n      <td>((false, (None,), sd, 2d, PT3M7S, False, recta...</td>\n      <td>youtube#videoListResponse</td>\n      <td>(38, 38)</td>\n    </tr>\n    <tr>\n      <th>3</th>\n      <td>U0fncx_GV9jD5SKQr15LMvwuPcs</td>\n      <td>((false, (None,), hd, 2d, PT3M43S, False, rect...</td>\n      <td>youtube#videoListResponse</td>\n      <td>(38, 38)</td>\n    </tr>\n    <tr>\n      <th>4</th>\n      <td>U0fncx_GV9jD5SKQr15LMvwuPcs</td>\n      <td>((false, (None,), hd, 2d, PT5M, False, rectang...</td>\n      <td>youtube#videoListResponse</td>\n      <td>(38, 38)</td>\n    </tr>\n  </tbody>\n</table>\n</div>",
       "datasetInfos": [],
       "metadata": {},
       "removedWidgets": [],
       "textData": null,
       "type": "htmlSandbox"
      }
     },
     "output_type": "display_data"
    }
   ],
   "source": [
    "items_df.limit(5).toPandas()"
   ]
  },
  {
   "cell_type": "code",
   "execution_count": 0,
   "metadata": {
    "application/vnd.databricks.v1+cell": {
     "cellMetadata": {
      "byteLimit": 2048000,
      "rowLimit": 10000
     },
     "inputWidgets": {},
     "nuid": "44495342-2a0d-4727-9f10-c01a53d51475",
     "showTitle": false,
     "title": ""
    }
   },
   "outputs": [
    {
     "output_type": "display_data",
     "data": {
      "text/html": [
       "<style scoped>\n",
       "  .table-result-container {\n",
       "    max-height: 300px;\n",
       "    overflow: auto;\n",
       "  }\n",
       "  table, th, td {\n",
       "    border: 1px solid black;\n",
       "    border-collapse: collapse;\n",
       "  }\n",
       "  th, td {\n",
       "    padding: 5px;\n",
       "  }\n",
       "  th {\n",
       "    text-align: left;\n",
       "  }\n",
       "</style><div class='table-result-container'><table class='table-result'><thead style='background-color: white'><tr><th>items</th></tr></thead><tbody><tr><td>List(List(false, List(null), sd, 2d, PT3M33S, true, rectangular, null), SqP7uUVSol30dxvuScN6JUny6T4, t1l8Z6gLPzo, youtube#video, List(10, UCUERSOitwgUq_37kGslN96w, VOLO, null, null, Enregistré et mixé par Cyrille PELTIER au \"Keen Studio\" à Tours.\n",
       "Merci à Cyrille PELTIER et au \"Keen Studio\" à Tours.\n",
       "Toutes les dates de la tournée sur volo.fr\n",
       "Le nouvel album \"Sans rire\" est sorti le 11 mars 2013.\n",
       "Volo était à l'Olympia le 29 avril dernier et est en tournée dans toute la France.\n",
       "Le clip de \"Toujours à côté\" est sur youtube sur http://www.youtube.com/watch?v=cWCH2dpyw1c : Le premier extrait de l'album est en playliste sur France Bleue, Europe 1, RFM, RFI, Radio Alouette.\n",
       "\"Sans rire\", autre extrait de l'album, est en playlist sur Virgin Radio.\n",
       "\n",
       "Sortie digitale de \"Toujours à côté\"\n",
       "https://itunes.apple.com/fr/album/toujours-a-cote-single/id570616846\n",
       "\n",
       "Volo est un duo de frères. Frédéric et Olivier VOLOVITCH. \n",
       "Avec un nom de famille qui leur vient d'un arrière grand-père Ukrainien, nés au milieu d'une fratrie de 4 enfants, ils grandissent dans la campagne tourangelle dans une famille de profs.\n",
       "\n",
       "Frédo intègre l'école de la rue Blanche en tant que comédien en 1992, Olivier le rejoint sur Paris en 1997 où il étudie la philosophie à la Sorbonne.\n",
       "Le duo se forme officiellement en 2002.\n",
       "Entre les différentes tournées des « Wriggles », dont Frédo est un des membres fondateurs, et Olivier le régisseur général, les deux frangins font leurs premiers concerts. D'abord et surtout dans des bars où autres Caf'conc, jusqu' à la sortie de leur 1er disque en 2005 chez « Opéra Music ».\n",
       "Depuis, et en tout, les deux frangins, ont sorti cinq albums. Trois studios, un live acoustique et un best of. \n",
       "Peu médiatisé « Volo » est aussi et surtout un groupe de scène qui peut compter sur un public fidèle et grandissant. Produits en live par « Blue Line Productions », on les a vus en tournée dans toute la France, à la Cigale, au Trianon, au Bataclan, à l'Olympia, aux Francofolies de la Rochelle etc...\n",
       "Aujourd'hui, récemment signé chez « Play On », Volo revient avec un nouvel album réalisé par Jean-François Delort sur des arrangements de Florian Dubos et Jocelyn Moze. Ce nouveau disque, attendu dans les bacs début 2013, sera accompagné d'une tournée qui démarrera cet automne et passera par la Cigale le 23 novembre 2012., none, List(Enregistré et mixé par Cyrille PELTIER au \"Keen Studio\" à Tours.\n",
       "Merci à Cyrille PELTIER et au \"Keen Studio\" à Tours.\n",
       "Toutes les dates de la tournée sur volo.fr\n",
       "Le nouvel album \"Sans rire\" est sorti le 11 mars 2013.\n",
       "Volo était à l'Olympia le 29 avril dernier et est en tournée dans toute la France.\n",
       "Le clip de \"Toujours à côté\" est sur youtube sur http://www.youtube.com/watch?v=cWCH2dpyw1c : Le premier extrait de l'album est en playliste sur France Bleue, Europe 1, RFM, RFI, Radio Alouette.\n",
       "\"Sans rire\", autre extrait de l'album, est en playlist sur Virgin Radio.\n",
       "\n",
       "Sortie digitale de \"Toujours à côté\"\n",
       "https://itunes.apple.com/fr/album/toujours-a-cote-single/id570616846\n",
       "\n",
       "Volo est un duo de frères. Frédéric et Olivier VOLOVITCH. \n",
       "Avec un nom de famille qui leur vient d'un arrière grand-père Ukrainien, nés au milieu d'une fratrie de 4 enfants, ils grandissent dans la campagne tourangelle dans une famille de profs.\n",
       "\n",
       "Frédo intègre l'école de la rue Blanche en tant que comédien en 1992, Olivier le rejoint sur Paris en 1997 où il étudie la philosophie à la Sorbonne.\n",
       "Le duo se forme officiellement en 2002.\n",
       "Entre les différentes tournées des « Wriggles », dont Frédo est un des membres fondateurs, et Olivier le régisseur général, les deux frangins font leurs premiers concerts. D'abord et surtout dans des bars où autres Caf'conc, jusqu' à la sortie de leur 1er disque en 2005 chez « Opéra Music ».\n",
       "Depuis, et en tout, les deux frangins, ont sorti cinq albums. Trois studios, un live acoustique et un best of. \n",
       "Peu médiatisé « Volo » est aussi et surtout un groupe de scène qui peut compter sur un public fidèle et grandissant. Produits en live par « Blue Line Productions », on les a vus en tournée dans toute la France, à la Cigale, au Trianon, au Bataclan, à l'Olympia, aux Francofolies de la Rochelle etc...\n",
       "Aujourd'hui, récemment signé chez « Play On », Volo revient avec un nouvel album réalisé par Jean-François Delort sur des arrangements de Florian Dubos et Jocelyn Moze. Ce nouveau disque, attendu dans les bacs début 2013, sera accompagné d'une tournée qui démarrera cet automne et passera par la Cigale le 23 novembre 2012., VOLO. \"L'air d'un con\"), 2013-07-22T12:09:11Z, List(volo, volovitch, wriggles, sans rire, toujours à côté, bien zarbos, en attendant, blancs manteaux, jours heureux, play on, zaz, tryo), List(List(90, https://i.ytimg.com/vi/t1l8Z6gLPzo/default.jpg, 120), List(360, https://i.ytimg.com/vi/t1l8Z6gLPzo/hqdefault.jpg, 480), null, List(180, https://i.ytimg.com/vi/t1l8Z6gLPzo/mqdefault.jpg, 320), List(480, https://i.ytimg.com/vi/t1l8Z6gLPzo/sddefault.jpg, 640)), VOLO. \"L'air d'un con\"), List(38, 26, 0, 1028, 223172), List(true, youtube, false, public, true, processed), List(List(/m/04rlf, /m/04rlf), List(https://en.wikipedia.org/wiki/Music)))</td></tr><tr><td>List(List(false, List(null), hd, 2d, PT7M46S, false, rectangular, List(null, List(DK))), m3DnhzTEw9ABiqzBvdasfk5Av_8, we5gzZq5Avg, youtube#video, List(10, UCson549gpvRhPnJ3Whs5onA, LongWayToDream, null, null, Air Conditionné EP, none, List(Air Conditionné EP, Julian Jeweil - Air Conditionné), 2012-03-17T08:34:30Z, List(mnml, minimal, electronic, music), List(List(90, https://i.ytimg.com/vi/we5gzZq5Avg/default.jpg, 120), List(360, https://i.ytimg.com/vi/we5gzZq5Avg/hqdefault.jpg, 480), List(720, https://i.ytimg.com/vi/we5gzZq5Avg/maxresdefault.jpg, 1280), List(180, https://i.ytimg.com/vi/we5gzZq5Avg/mqdefault.jpg, 320), List(480, https://i.ytimg.com/vi/we5gzZq5Avg/sddefault.jpg, 640)), Julian Jeweil - Air Conditionné), List(2, 3, 0, 124, 13409), List(true, youtube, false, public, true, processed), List(List(/m/04rlf, /m/04rlf), List(https://en.wikipedia.org/wiki/Music)))</td></tr><tr><td>List(List(false, List(null), sd, 2d, PT3M7S, false, rectangular, null), zyzs7STAR3NG-_pZe-0nGkbKoqg, 49esza4eiK4, youtube#video, List(10, UCcHYZ8Ez4gG_2bHEuBL8IfQ, Downtown Records, null, null, myspace.com/etjusticepourtous\r\n",
       "(Downtown / Ed Banger)\r\n",
       "\r\n",
       "Nominated for MTV VMA video of the year \r\n",
       "\r\n",
       "From the album 'Cross', none, List(myspace.com/etjusticepourtous\r\n",
       "(Downtown / Ed Banger)\r\n",
       "\r\n",
       "Nominated for MTV VMA video of the year \r\n",
       "\r\n",
       "From the album 'Cross', Justice - D.A.N.C.E), 2007-09-08T02:02:07Z, List(Justice, D.A.N.C.E, downtown), List(List(90, https://i.ytimg.com/vi/49esza4eiK4/default.jpg, 120), List(360, https://i.ytimg.com/vi/49esza4eiK4/hqdefault.jpg, 480), null, List(180, https://i.ytimg.com/vi/49esza4eiK4/mqdefault.jpg, 320), null), Justice - D.A.N.C.E), List(3168, 780, 0, 25540, 10106655), List(true, youtube, false, public, true, processed), List(List(/m/04rlf, /m/02lkt, /m/04rlf, /m/02lkt), List(https://en.wikipedia.org/wiki/Electronic_music, https://en.wikipedia.org/wiki/Music)))</td></tr><tr><td>List(List(false, List(null), hd, 2d, PT3M43S, false, rectangular, List(null, List(DK))), hX2C15F6fdO5A-stUFMU5Az2PvI, BoO6LfR7ca0, youtube#video, List(22, UCQ0wLCF7u23gZKJkHFs1Tpg, Music Is Our Drug, null, null, ♫ Music Is Our Drug - Spotify Playlist: https://goo.gl/rJvM5l\n",
       "►Follow us on Spotify: https://goo.gl/HqOgkN\n",
       "\n",
       "Torture from the new Gramatik album - The Age Of Reason!\n",
       "Gramatik:\n",
       "https://soundcloud.com/gramatik\n",
       "https://www.facebook.com/gramatik\n",
       "\n",
       "Image:\n",
       "http://www.allwalls.net/wallpapers/2012/09/Women-Graffiti-Stadium-Bracelets-1800x2880.jpg\n",
       "\n",
       "(If any producer or label has an issue with any of the uploads please get in contact with me on YouTube and I will delete it as soon as possible (this includes artists of the images used)., none, List(♫ Music Is Our Drug - Spotify Playlist: https://goo.gl/rJvM5l\n",
       "►Follow us on Spotify: https://goo.gl/HqOgkN\n",
       "\n",
       "Torture from the new Gramatik album - The Age Of Reason!\n",
       "Gramatik:\n",
       "https://soundcloud.com/gramatik\n",
       "https://www.facebook.com/gramatik\n",
       "\n",
       "Image:\n",
       "http://www.allwalls.net/wallpapers/2012/09/Women-Graffiti-Stadium-Bracelets-1800x2880.jpg\n",
       "\n",
       "(If any producer or label has an issue with any of the uploads please get in contact with me on YouTube and I will delete it as soon as possible (this includes artists of the images used)., Gramatik - Torture (feat. Eric Krasno)), 2014-01-24T12:52:38Z, List(Gramatik, Torture, The Age Of Reason, 2014, Music Is Our Drug, guitar, Eric Krisno), List(List(90, https://i.ytimg.com/vi/BoO6LfR7ca0/default.jpg, 120), List(360, https://i.ytimg.com/vi/BoO6LfR7ca0/hqdefault.jpg, 480), List(720, https://i.ytimg.com/vi/BoO6LfR7ca0/maxresdefault.jpg, 1280), List(180, https://i.ytimg.com/vi/BoO6LfR7ca0/mqdefault.jpg, 320), List(480, https://i.ytimg.com/vi/BoO6LfR7ca0/sddefault.jpg, 640)), Gramatik - Torture (feat. Eric Krasno)), List(6, 0, 0, 255, 29153), List(true, youtube, false, public, true, processed), List(List(/m/04rlf, /m/04rlf), List(https://en.wikipedia.org/wiki/Music)))</td></tr><tr><td>List(List(false, List(null), hd, 2d, PT5M, false, rectangular, List(null, List(DK))), rYHoV38PLpMbRuX_zhGTVBKNotw, DaH4W1rY9us, youtube#video, List(10, UCJsTMPZxYD-Q3kEmL4Qijpg, Harvey Pearson, null, null, Buy The Burgh Island EP now:\n",
       "https://itunes.apple.com/gb/album/burgh-island-ep/id571218980?affId=1657369&ign-mpt=uo%3D4 \n",
       "\n",
       "NO COPYRIGHT INFRINGEMENT INTENDED, none, List(Buy The Burgh Island EP now:\n",
       "https://itunes.apple.com/gb/album/burgh-island-ep/id571218980?affId=1657369&ign-mpt=uo%3D4 \n",
       "\n",
       "NO COPYRIGHT INFRINGEMENT INTENDED, Ben Howard - Oats In The Water), 2012-12-02T12:41:13Z, List(Ben Howard, Oats In The Water, Music Video, BBC Radio One, Zane Lowe, Greg James, Mickey Smith, Wales, Surf, Black And White, The Burgh Island EP, Burgh Island, Ireland, Astray Films, Harvey Pearson, Hounddogpictures, hdp, productions, iTunes, sony, nex, 5n, Timelapse, CS6, Ben, Howard, (musician), old, pine, only, love, keep, your, head, up, every, kingdom, harvpearson, official, video, music, Devon, beach, surf, surfers, Waves, Ocean, Hound Dog Pictures Productions, Sand, Surfing), List(List(90, https://i.ytimg.com/vi/DaH4W1rY9us/default.jpg, 120), List(360, https://i.ytimg.com/vi/DaH4W1rY9us/hqdefault.jpg, 480), List(720, https://i.ytimg.com/vi/DaH4W1rY9us/maxresdefault.jpg, 1280), List(180, https://i.ytimg.com/vi/DaH4W1rY9us/mqdefault.jpg, 320), List(480, https://i.ytimg.com/vi/DaH4W1rY9us/sddefault.jpg, 640)), Ben Howard - Oats In The Water), List(5303, 1784, 0, 136033, 16488714), List(true, youtube, false, public, true, processed), List(List(/m/04rlf, /m/064t9, /m/05rwpb, /m/04rlf, /m/064t9, /m/05rwpb), List(https://en.wikipedia.org/wiki/Pop_music, https://en.wikipedia.org/wiki/Independent_music, https://en.wikipedia.org/wiki/Music)))</td></tr></tbody></table></div>"
      ]
     },
     "metadata": {
      "application/vnd.databricks.v1+output": {
       "addedWidgets": {},
       "aggData": [],
       "aggError": "",
       "aggOverflow": false,
       "aggSchema": [],
       "aggSeriesLimitReached": false,
       "aggType": "",
       "arguments": {},
       "columnCustomDisplayInfos": {},
       "data": [
        [
         [
          [
           "false",
           [
            null
           ],
           "sd",
           "2d",
           "PT3M33S",
           true,
           "rectangular",
           null
          ],
          "SqP7uUVSol30dxvuScN6JUny6T4",
          "t1l8Z6gLPzo",
          "youtube#video",
          [
           "10",
           "UCUERSOitwgUq_37kGslN96w",
           "VOLO",
           null,
           null,
           "Enregistré et mixé par Cyrille PELTIER au \"Keen Studio\" à Tours.\nMerci à Cyrille PELTIER et au \"Keen Studio\" à Tours.\nToutes les dates de la tournée sur volo.fr\nLe nouvel album \"Sans rire\" est sorti le 11 mars 2013.\nVolo était à l'Olympia le 29 avril dernier et est en tournée dans toute la France.\nLe clip de \"Toujours à côté\" est sur youtube sur http://www.youtube.com/watch?v=cWCH2dpyw1c : Le premier extrait de l'album est en playliste sur France Bleue, Europe 1, RFM, RFI, Radio Alouette.\n\"Sans rire\", autre extrait de l'album, est en playlist sur Virgin Radio.\n\nSortie digitale de \"Toujours à côté\"\nhttps://itunes.apple.com/fr/album/toujours-a-cote-single/id570616846\n\nVolo est un duo de frères. Frédéric et Olivier VOLOVITCH. \nAvec un nom de famille qui leur vient d'un arrière grand-père Ukrainien, nés au milieu d'une fratrie de 4 enfants, ils grandissent dans la campagne tourangelle dans une famille de profs.\n\nFrédo intègre l'école de la rue Blanche en tant que comédien en 1992, Olivier le rejoint sur Paris en 1997 où il étudie la philosophie à la Sorbonne.\nLe duo se forme officiellement en 2002.\nEntre les différentes tournées des « Wriggles », dont Frédo est un des membres fondateurs, et Olivier le régisseur général, les deux frangins font leurs premiers concerts. D'abord et surtout dans des bars où autres Caf'conc, jusqu' à la sortie de leur 1er disque en 2005 chez « Opéra Music ».\nDepuis, et en tout, les deux frangins, ont sorti cinq albums. Trois studios, un live acoustique et un best of. \nPeu médiatisé « Volo » est aussi et surtout un groupe de scène qui peut compter sur un public fidèle et grandissant. Produits en live par « Blue Line Productions », on les a vus en tournée dans toute la France, à la Cigale, au Trianon, au Bataclan, à l'Olympia, aux Francofolies de la Rochelle etc...\nAujourd'hui, récemment signé chez « Play On », Volo revient avec un nouvel album réalisé par Jean-François Delort sur des arrangements de Florian Dubos et Jocelyn Moze. Ce nouveau disque, attendu dans les bacs début 2013, sera accompagné d'une tournée qui démarrera cet automne et passera par la Cigale le 23 novembre 2012.",
           "none",
           [
            "Enregistré et mixé par Cyrille PELTIER au \"Keen Studio\" à Tours.\nMerci à Cyrille PELTIER et au \"Keen Studio\" à Tours.\nToutes les dates de la tournée sur volo.fr\nLe nouvel album \"Sans rire\" est sorti le 11 mars 2013.\nVolo était à l'Olympia le 29 avril dernier et est en tournée dans toute la France.\nLe clip de \"Toujours à côté\" est sur youtube sur http://www.youtube.com/watch?v=cWCH2dpyw1c : Le premier extrait de l'album est en playliste sur France Bleue, Europe 1, RFM, RFI, Radio Alouette.\n\"Sans rire\", autre extrait de l'album, est en playlist sur Virgin Radio.\n\nSortie digitale de \"Toujours à côté\"\nhttps://itunes.apple.com/fr/album/toujours-a-cote-single/id570616846\n\nVolo est un duo de frères. Frédéric et Olivier VOLOVITCH. \nAvec un nom de famille qui leur vient d'un arrière grand-père Ukrainien, nés au milieu d'une fratrie de 4 enfants, ils grandissent dans la campagne tourangelle dans une famille de profs.\n\nFrédo intègre l'école de la rue Blanche en tant que comédien en 1992, Olivier le rejoint sur Paris en 1997 où il étudie la philosophie à la Sorbonne.\nLe duo se forme officiellement en 2002.\nEntre les différentes tournées des « Wriggles », dont Frédo est un des membres fondateurs, et Olivier le régisseur général, les deux frangins font leurs premiers concerts. D'abord et surtout dans des bars où autres Caf'conc, jusqu' à la sortie de leur 1er disque en 2005 chez « Opéra Music ».\nDepuis, et en tout, les deux frangins, ont sorti cinq albums. Trois studios, un live acoustique et un best of. \nPeu médiatisé « Volo » est aussi et surtout un groupe de scène qui peut compter sur un public fidèle et grandissant. Produits en live par « Blue Line Productions », on les a vus en tournée dans toute la France, à la Cigale, au Trianon, au Bataclan, à l'Olympia, aux Francofolies de la Rochelle etc...\nAujourd'hui, récemment signé chez « Play On », Volo revient avec un nouvel album réalisé par Jean-François Delort sur des arrangements de Florian Dubos et Jocelyn Moze. Ce nouveau disque, attendu dans les bacs début 2013, sera accompagné d'une tournée qui démarrera cet automne et passera par la Cigale le 23 novembre 2012.",
            "VOLO. \"L'air d'un con\""
           ],
           "2013-07-22T12:09:11Z",
           [
            "volo",
            "volovitch",
            "wriggles",
            "sans rire",
            "toujours à côté",
            "bien zarbos",
            "en attendant",
            "blancs manteaux",
            "jours heureux",
            "play on",
            "zaz",
            "tryo"
           ],
           [
            [
             90,
             "https://i.ytimg.com/vi/t1l8Z6gLPzo/default.jpg",
             120
            ],
            [
             360,
             "https://i.ytimg.com/vi/t1l8Z6gLPzo/hqdefault.jpg",
             480
            ],
            null,
            [
             180,
             "https://i.ytimg.com/vi/t1l8Z6gLPzo/mqdefault.jpg",
             320
            ],
            [
             480,
             "https://i.ytimg.com/vi/t1l8Z6gLPzo/sddefault.jpg",
             640
            ]
           ],
           "VOLO. \"L'air d'un con\""
          ],
          [
           "38",
           "26",
           "0",
           "1028",
           "223172"
          ],
          [
           true,
           "youtube",
           false,
           "public",
           true,
           "processed"
          ],
          [
           [
            "/m/04rlf",
            "/m/04rlf"
           ],
           [
            "https://en.wikipedia.org/wiki/Music"
           ]
          ]
         ]
        ],
        [
         [
          [
           "false",
           [
            null
           ],
           "hd",
           "2d",
           "PT7M46S",
           false,
           "rectangular",
           [
            null,
            [
             "DK"
            ]
           ]
          ],
          "m3DnhzTEw9ABiqzBvdasfk5Av_8",
          "we5gzZq5Avg",
          "youtube#video",
          [
           "10",
           "UCson549gpvRhPnJ3Whs5onA",
           "LongWayToDream",
           null,
           null,
           "Air Conditionné EP",
           "none",
           [
            "Air Conditionné EP",
            "Julian Jeweil - Air Conditionné"
           ],
           "2012-03-17T08:34:30Z",
           [
            "mnml",
            "minimal",
            "electronic",
            "music"
           ],
           [
            [
             90,
             "https://i.ytimg.com/vi/we5gzZq5Avg/default.jpg",
             120
            ],
            [
             360,
             "https://i.ytimg.com/vi/we5gzZq5Avg/hqdefault.jpg",
             480
            ],
            [
             720,
             "https://i.ytimg.com/vi/we5gzZq5Avg/maxresdefault.jpg",
             1280
            ],
            [
             180,
             "https://i.ytimg.com/vi/we5gzZq5Avg/mqdefault.jpg",
             320
            ],
            [
             480,
             "https://i.ytimg.com/vi/we5gzZq5Avg/sddefault.jpg",
             640
            ]
           ],
           "Julian Jeweil - Air Conditionné"
          ],
          [
           "2",
           "3",
           "0",
           "124",
           "13409"
          ],
          [
           true,
           "youtube",
           false,
           "public",
           true,
           "processed"
          ],
          [
           [
            "/m/04rlf",
            "/m/04rlf"
           ],
           [
            "https://en.wikipedia.org/wiki/Music"
           ]
          ]
         ]
        ],
        [
         [
          [
           "false",
           [
            null
           ],
           "sd",
           "2d",
           "PT3M7S",
           false,
           "rectangular",
           null
          ],
          "zyzs7STAR3NG-_pZe-0nGkbKoqg",
          "49esza4eiK4",
          "youtube#video",
          [
           "10",
           "UCcHYZ8Ez4gG_2bHEuBL8IfQ",
           "Downtown Records",
           null,
           null,
           "myspace.com/etjusticepourtous\r\n(Downtown / Ed Banger)\r\n\r\nNominated for MTV VMA video of the year \r\n\r\nFrom the album 'Cross'",
           "none",
           [
            "myspace.com/etjusticepourtous\r\n(Downtown / Ed Banger)\r\n\r\nNominated for MTV VMA video of the year \r\n\r\nFrom the album 'Cross'",
            "Justice - D.A.N.C.E"
           ],
           "2007-09-08T02:02:07Z",
           [
            "Justice",
            "D.A.N.C.E",
            "downtown"
           ],
           [
            [
             90,
             "https://i.ytimg.com/vi/49esza4eiK4/default.jpg",
             120
            ],
            [
             360,
             "https://i.ytimg.com/vi/49esza4eiK4/hqdefault.jpg",
             480
            ],
            null,
            [
             180,
             "https://i.ytimg.com/vi/49esza4eiK4/mqdefault.jpg",
             320
            ],
            null
           ],
           "Justice - D.A.N.C.E"
          ],
          [
           "3168",
           "780",
           "0",
           "25540",
           "10106655"
          ],
          [
           true,
           "youtube",
           false,
           "public",
           true,
           "processed"
          ],
          [
           [
            "/m/04rlf",
            "/m/02lkt",
            "/m/04rlf",
            "/m/02lkt"
           ],
           [
            "https://en.wikipedia.org/wiki/Electronic_music",
            "https://en.wikipedia.org/wiki/Music"
           ]
          ]
         ]
        ],
        [
         [
          [
           "false",
           [
            null
           ],
           "hd",
           "2d",
           "PT3M43S",
           false,
           "rectangular",
           [
            null,
            [
             "DK"
            ]
           ]
          ],
          "hX2C15F6fdO5A-stUFMU5Az2PvI",
          "BoO6LfR7ca0",
          "youtube#video",
          [
           "22",
           "UCQ0wLCF7u23gZKJkHFs1Tpg",
           "Music Is Our Drug",
           null,
           null,
           "♫ Music Is Our Drug - Spotify Playlist: https://goo.gl/rJvM5l\n►Follow us on Spotify: https://goo.gl/HqOgkN\n\nTorture from the new Gramatik album - The Age Of Reason!\nGramatik:\nhttps://soundcloud.com/gramatik\nhttps://www.facebook.com/gramatik\n\nImage:\nhttp://www.allwalls.net/wallpapers/2012/09/Women-Graffiti-Stadium-Bracelets-1800x2880.jpg\n\n(If any producer or label has an issue with any of the uploads please get in contact with me on YouTube and I will delete it as soon as possible (this includes artists of the images used).",
           "none",
           [
            "♫ Music Is Our Drug - Spotify Playlist: https://goo.gl/rJvM5l\n►Follow us on Spotify: https://goo.gl/HqOgkN\n\nTorture from the new Gramatik album - The Age Of Reason!\nGramatik:\nhttps://soundcloud.com/gramatik\nhttps://www.facebook.com/gramatik\n\nImage:\nhttp://www.allwalls.net/wallpapers/2012/09/Women-Graffiti-Stadium-Bracelets-1800x2880.jpg\n\n(If any producer or label has an issue with any of the uploads please get in contact with me on YouTube and I will delete it as soon as possible (this includes artists of the images used).",
            "Gramatik - Torture (feat. Eric Krasno)"
           ],
           "2014-01-24T12:52:38Z",
           [
            "Gramatik",
            "Torture",
            "The Age Of Reason",
            "2014",
            "Music Is Our Drug",
            "guitar",
            "Eric Krisno"
           ],
           [
            [
             90,
             "https://i.ytimg.com/vi/BoO6LfR7ca0/default.jpg",
             120
            ],
            [
             360,
             "https://i.ytimg.com/vi/BoO6LfR7ca0/hqdefault.jpg",
             480
            ],
            [
             720,
             "https://i.ytimg.com/vi/BoO6LfR7ca0/maxresdefault.jpg",
             1280
            ],
            [
             180,
             "https://i.ytimg.com/vi/BoO6LfR7ca0/mqdefault.jpg",
             320
            ],
            [
             480,
             "https://i.ytimg.com/vi/BoO6LfR7ca0/sddefault.jpg",
             640
            ]
           ],
           "Gramatik - Torture (feat. Eric Krasno)"
          ],
          [
           "6",
           "0",
           "0",
           "255",
           "29153"
          ],
          [
           true,
           "youtube",
           false,
           "public",
           true,
           "processed"
          ],
          [
           [
            "/m/04rlf",
            "/m/04rlf"
           ],
           [
            "https://en.wikipedia.org/wiki/Music"
           ]
          ]
         ]
        ],
        [
         [
          [
           "false",
           [
            null
           ],
           "hd",
           "2d",
           "PT5M",
           false,
           "rectangular",
           [
            null,
            [
             "DK"
            ]
           ]
          ],
          "rYHoV38PLpMbRuX_zhGTVBKNotw",
          "DaH4W1rY9us",
          "youtube#video",
          [
           "10",
           "UCJsTMPZxYD-Q3kEmL4Qijpg",
           "Harvey Pearson",
           null,
           null,
           "Buy The Burgh Island EP now:\nhttps://itunes.apple.com/gb/album/burgh-island-ep/id571218980?affId=1657369&ign-mpt=uo%3D4 \n\nNO COPYRIGHT INFRINGEMENT INTENDED",
           "none",
           [
            "Buy The Burgh Island EP now:\nhttps://itunes.apple.com/gb/album/burgh-island-ep/id571218980?affId=1657369&ign-mpt=uo%3D4 \n\nNO COPYRIGHT INFRINGEMENT INTENDED",
            "Ben Howard - Oats In The Water"
           ],
           "2012-12-02T12:41:13Z",
           [
            "Ben Howard",
            "Oats In The Water",
            "Music Video",
            "BBC Radio One",
            "Zane Lowe",
            "Greg James",
            "Mickey Smith",
            "Wales",
            "Surf",
            "Black And White",
            "The Burgh Island EP",
            "Burgh Island",
            "Ireland",
            "Astray Films",
            "Harvey Pearson",
            "Hounddogpictures",
            "hdp",
            "productions",
            "iTunes",
            "sony",
            "nex",
            "5n",
            "Timelapse",
            "CS6",
            "Ben",
            "Howard",
            "(musician)",
            "old",
            "pine",
            "only",
            "love",
            "keep",
            "your",
            "head",
            "up",
            "every",
            "kingdom",
            "harvpearson",
            "official",
            "video",
            "music",
            "Devon",
            "beach",
            "surf",
            "surfers",
            "Waves",
            "Ocean",
            "Hound Dog Pictures Productions",
            "Sand",
            "Surfing"
           ],
           [
            [
             90,
             "https://i.ytimg.com/vi/DaH4W1rY9us/default.jpg",
             120
            ],
            [
             360,
             "https://i.ytimg.com/vi/DaH4W1rY9us/hqdefault.jpg",
             480
            ],
            [
             720,
             "https://i.ytimg.com/vi/DaH4W1rY9us/maxresdefault.jpg",
             1280
            ],
            [
             180,
             "https://i.ytimg.com/vi/DaH4W1rY9us/mqdefault.jpg",
             320
            ],
            [
             480,
             "https://i.ytimg.com/vi/DaH4W1rY9us/sddefault.jpg",
             640
            ]
           ],
           "Ben Howard - Oats In The Water"
          ],
          [
           "5303",
           "1784",
           "0",
           "136033",
           "16488714"
          ],
          [
           true,
           "youtube",
           false,
           "public",
           true,
           "processed"
          ],
          [
           [
            "/m/04rlf",
            "/m/064t9",
            "/m/05rwpb",
            "/m/04rlf",
            "/m/064t9",
            "/m/05rwpb"
           ],
           [
            "https://en.wikipedia.org/wiki/Pop_music",
            "https://en.wikipedia.org/wiki/Independent_music",
            "https://en.wikipedia.org/wiki/Music"
           ]
          ]
         ]
        ]
       ],
       "datasetInfos": [],
       "dbfsResultPath": null,
       "isJsonSchema": true,
       "metadata": {},
       "overflow": false,
       "plotOptions": {
        "customPlotOptions": {},
        "displayType": "table",
        "pivotAggregation": null,
        "pivotColumns": null,
        "xColumns": null,
        "yColumns": null
       },
       "removedWidgets": [],
       "schema": [
        {
         "metadata": "{}",
         "name": "items",
         "type": "{\"type\":\"struct\",\"fields\":[{\"name\":\"contentDetails\",\"type\":{\"type\":\"struct\",\"fields\":[{\"name\":\"caption\",\"type\":\"string\",\"nullable\":true,\"metadata\":{}},{\"name\":\"contentRating\",\"type\":{\"type\":\"struct\",\"fields\":[{\"name\":\"ytRating\",\"type\":\"string\",\"nullable\":true,\"metadata\":{}}]},\"nullable\":true,\"metadata\":{}},{\"name\":\"definition\",\"type\":\"string\",\"nullable\":true,\"metadata\":{}},{\"name\":\"dimension\",\"type\":\"string\",\"nullable\":true,\"metadata\":{}},{\"name\":\"duration\",\"type\":\"string\",\"nullable\":true,\"metadata\":{}},{\"name\":\"licensedContent\",\"type\":\"boolean\",\"nullable\":true,\"metadata\":{}},{\"name\":\"projection\",\"type\":\"string\",\"nullable\":true,\"metadata\":{}},{\"name\":\"regionRestriction\",\"type\":{\"type\":\"struct\",\"fields\":[{\"name\":\"allowed\",\"type\":{\"type\":\"array\",\"elementType\":\"string\",\"containsNull\":true},\"nullable\":true,\"metadata\":{}},{\"name\":\"blocked\",\"type\":{\"type\":\"array\",\"elementType\":\"string\",\"containsNull\":true},\"nullable\":true,\"metadata\":{}}]},\"nullable\":true,\"metadata\":{}}]},\"nullable\":true,\"metadata\":{}},{\"name\":\"etag\",\"type\":\"string\",\"nullable\":true,\"metadata\":{}},{\"name\":\"id\",\"type\":\"string\",\"nullable\":true,\"metadata\":{}},{\"name\":\"kind\",\"type\":\"string\",\"nullable\":true,\"metadata\":{}},{\"name\":\"snippet\",\"type\":{\"type\":\"struct\",\"fields\":[{\"name\":\"categoryId\",\"type\":\"string\",\"nullable\":true,\"metadata\":{}},{\"name\":\"channelId\",\"type\":\"string\",\"nullable\":true,\"metadata\":{}},{\"name\":\"channelTitle\",\"type\":\"string\",\"nullable\":true,\"metadata\":{}},{\"name\":\"defaultAudioLanguage\",\"type\":\"string\",\"nullable\":true,\"metadata\":{}},{\"name\":\"defaultLanguage\",\"type\":\"string\",\"nullable\":true,\"metadata\":{}},{\"name\":\"description\",\"type\":\"string\",\"nullable\":true,\"metadata\":{}},{\"name\":\"liveBroadcastContent\",\"type\":\"string\",\"nullable\":true,\"metadata\":{}},{\"name\":\"localized\",\"type\":{\"type\":\"struct\",\"fields\":[{\"name\":\"description\",\"type\":\"string\",\"nullable\":true,\"metadata\":{}},{\"name\":\"title\",\"type\":\"string\",\"nullable\":true,\"metadata\":{}}]},\"nullable\":true,\"metadata\":{}},{\"name\":\"publishedAt\",\"type\":\"string\",\"nullable\":true,\"metadata\":{}},{\"name\":\"tags\",\"type\":{\"type\":\"array\",\"elementType\":\"string\",\"containsNull\":true},\"nullable\":true,\"metadata\":{}},{\"name\":\"thumbnails\",\"type\":{\"type\":\"struct\",\"fields\":[{\"name\":\"default\",\"type\":{\"type\":\"struct\",\"fields\":[{\"name\":\"height\",\"type\":\"long\",\"nullable\":true,\"metadata\":{}},{\"name\":\"url\",\"type\":\"string\",\"nullable\":true,\"metadata\":{}},{\"name\":\"width\",\"type\":\"long\",\"nullable\":true,\"metadata\":{}}]},\"nullable\":true,\"metadata\":{}},{\"name\":\"high\",\"type\":{\"type\":\"struct\",\"fields\":[{\"name\":\"height\",\"type\":\"long\",\"nullable\":true,\"metadata\":{}},{\"name\":\"url\",\"type\":\"string\",\"nullable\":true,\"metadata\":{}},{\"name\":\"width\",\"type\":\"long\",\"nullable\":true,\"metadata\":{}}]},\"nullable\":true,\"metadata\":{}},{\"name\":\"maxres\",\"type\":{\"type\":\"struct\",\"fields\":[{\"name\":\"height\",\"type\":\"long\",\"nullable\":true,\"metadata\":{}},{\"name\":\"url\",\"type\":\"string\",\"nullable\":true,\"metadata\":{}},{\"name\":\"width\",\"type\":\"long\",\"nullable\":true,\"metadata\":{}}]},\"nullable\":true,\"metadata\":{}},{\"name\":\"medium\",\"type\":{\"type\":\"struct\",\"fields\":[{\"name\":\"height\",\"type\":\"long\",\"nullable\":true,\"metadata\":{}},{\"name\":\"url\",\"type\":\"string\",\"nullable\":true,\"metadata\":{}},{\"name\":\"width\",\"type\":\"long\",\"nullable\":true,\"metadata\":{}}]},\"nullable\":true,\"metadata\":{}},{\"name\":\"standard\",\"type\":{\"type\":\"struct\",\"fields\":[{\"name\":\"height\",\"type\":\"long\",\"nullable\":true,\"metadata\":{}},{\"name\":\"url\",\"type\":\"string\",\"nullable\":true,\"metadata\":{}},{\"name\":\"width\",\"type\":\"long\",\"nullable\":true,\"metadata\":{}}]},\"nullable\":true,\"metadata\":{}}]},\"nullable\":true,\"metadata\":{}},{\"name\":\"title\",\"type\":\"string\",\"nullable\":true,\"metadata\":{}}]},\"nullable\":true,\"metadata\":{}},{\"name\":\"statistics\",\"type\":{\"type\":\"struct\",\"fields\":[{\"name\":\"commentCount\",\"type\":\"string\",\"nullable\":true,\"metadata\":{}},{\"name\":\"dislikeCount\",\"type\":\"string\",\"nullable\":true,\"metadata\":{}},{\"name\":\"favoriteCount\",\"type\":\"string\",\"nullable\":true,\"metadata\":{}},{\"name\":\"likeCount\",\"type\":\"string\",\"nullable\":true,\"metadata\":{}},{\"name\":\"viewCount\",\"type\":\"string\",\"nullable\":true,\"metadata\":{}}]},\"nullable\":true,\"metadata\":{}},{\"name\":\"status\",\"type\":{\"type\":\"struct\",\"fields\":[{\"name\":\"embeddable\",\"type\":\"boolean\",\"nullable\":true,\"metadata\":{}},{\"name\":\"license\",\"type\":\"string\",\"nullable\":true,\"metadata\":{}},{\"name\":\"madeForKids\",\"type\":\"boolean\",\"nullable\":true,\"metadata\":{}},{\"name\":\"privacyStatus\",\"type\":\"string\",\"nullable\":true,\"metadata\":{}},{\"name\":\"publicStatsViewable\",\"type\":\"boolean\",\"nullable\":true,\"metadata\":{}},{\"name\":\"uploadStatus\",\"type\":\"string\",\"nullable\":true,\"metadata\":{}}]},\"nullable\":true,\"metadata\":{}},{\"name\":\"topicDetails\",\"type\":{\"type\":\"struct\",\"fields\":[{\"name\":\"relevantTopicIds\",\"type\":{\"type\":\"array\",\"elementType\":\"string\",\"containsNull\":true},\"nullable\":true,\"metadata\":{}},{\"name\":\"topicCategories\",\"type\":{\"type\":\"array\",\"elementType\":\"string\",\"containsNull\":true},\"nullable\":true,\"metadata\":{}}]},\"nullable\":true,\"metadata\":{}}]}"
        }
       ],
       "type": "table"
      }
     },
     "output_type": "display_data"
    }
   ],
   "source": [
    "items_df.select(\"items\").limit(5).display()"
   ]
  },
  {
   "cell_type": "code",
   "execution_count": 0,
   "metadata": {
    "application/vnd.databricks.v1+cell": {
     "cellMetadata": {
      "byteLimit": 2048000,
      "rowLimit": 10000
     },
     "inputWidgets": {},
     "nuid": "7c4e86f4-8f8a-4d04-a99f-606395b9718e",
     "showTitle": false,
     "title": ""
    }
   },
   "outputs": [
    {
     "output_type": "stream",
     "name": "stdout",
     "output_type": "stream",
     "text": [
      "+--------------------+\n|               items|\n+--------------------+\n|{{false, {null}, ...|\n|{{false, {null}, ...|\n|{{false, {null}, ...|\n|{{false, {null}, ...|\n|{{false, {null}, ...|\n+--------------------+\n\n"
     ]
    }
   ],
   "source": [
    "items_df.select(\"items\").limit(5).show()"
   ]
  },
  {
   "cell_type": "markdown",
   "metadata": {
    "application/vnd.databricks.v1+cell": {
     "cellMetadata": {},
     "inputWidgets": {},
     "nuid": "4fbf221b-2c10-4f40-865d-eb6e6b802a5d",
     "showTitle": false,
     "title": ""
    }
   },
   "source": [
    "## Wrap-up\n",
    "\n",
    "You learned how to use `.explode(...)` to split arrays values into their own rows! 🎉"
   ]
  }
 ],
 "metadata": {
  "application/vnd.databricks.v1+notebook": {
   "dashboards": [],
   "language": "python",
   "notebookMetadata": {
    "pythonIndentUnit": 2
   },
   "notebookName": "J03_vendredi_midi_exo2",
   "widgets": {}
  },
  "kernelspec": {
   "display_name": "Python 3",
   "language": "python",
   "name": "python3"
  },
  "language_info": {
   "codemirror_mode": {
    "name": "ipython",
    "version": 3
   },
   "file_extension": ".py",
   "mimetype": "text/x-python",
   "name": "python",
   "nbconvert_exporter": "python",
   "pygments_lexer": "ipython3",
   "version": "3.8.3"
  },
  "name": "02-Tidying-up-Part-1",
  "notebookId": 283981489604811
 },
 "nbformat": 4,
 "nbformat_minor": 0
}
