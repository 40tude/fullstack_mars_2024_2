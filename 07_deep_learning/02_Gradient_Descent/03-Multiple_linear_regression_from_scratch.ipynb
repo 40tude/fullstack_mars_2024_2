{
  "cells": [
    {
      "cell_type": "markdown",
      "metadata": {
        "id": "OAW27oqRGbOp"
      },
      "source": [
        "# Multiple Linear regression without Scikit Learn"
      ]
    },
    {
      "cell_type": "markdown",
      "metadata": {
        "id": "dYaJBHGNGk3O"
      },
      "source": [
        "There's nothing better to understand the gradient descent algorithm than to code it from scratch. What? you have heard this before ? This time we are switching to gradient descent for multiple linear regression!\n",
        "\n",
        "Don't hesitate to come back to your Machine Learning course on linear regression to refresh your memory. \n",
        "\n",
        "Our goal will be to code a multiple linear regression such as : \n",
        "\n",
        "$f(x) = \\beta \\times x + \\beta_0 = \\beta_1 \\times x_1 + \\dots + \\beta_p \\times x_p + \\beta_0$"
      ]
    },
    {
      "cell_type": "markdown",
      "metadata": {
        "id": "dFAeKaG2GuI_"
      },
      "source": [
        "* Import the following libraries: \n",
        "  * Numpy "
      ]
    },
    {
      "cell_type": "code",
      "execution_count": 45,
      "metadata": {
        "id": "9OHkKal3F3Su"
      },
      "outputs": [],
      "source": [
        "import numpy as np \n",
        "from sklearn import datasets\n",
        "import plotly.express as px\n"
      ]
    },
    {
      "cell_type": "markdown",
      "metadata": {
        "id": "7_za_8SvGz_j"
      },
      "source": [
        "* Define a `Model` class that will take two methods: \n",
        "  1. `__init__(self, data)`, where `data` will be the dataset containing the training variables. It's the class builder which will allow you to define an attribute $\\beta_0$ (`beta_0` in your code) and an attribute $\\beta$ (`beta` in your code). These attributes represent the coefficients/parameters of the model an we will be initialize them randomly using Numpy (cf: `np.random.randn`).\n",
        "`beta` will have to contain a number of random values equal to the number of training variables.\n",
        "  2. `__call__(self, x)`, a special method that will turn our class into a callable which will return $\\beta \\times x + \\beta_0$ when called. \n",
        "  \n",
        "  ⚠️ we are now working with matrices and vectors, therefore you will need to use operations that work for these objects ⚠️"
      ]
    },
    {
      "cell_type": "code",
      "execution_count": 46,
      "metadata": {},
      "outputs": [
        {
          "data": {
            "text/plain": [
              "17"
            ]
          },
          "execution_count": 46,
          "metadata": {},
          "output_type": "execute_result"
        }
      ],
      "source": [
        "bob = np.array([1, 2, 3])\n",
        "marcel = np.array([1, 8, 0])\n",
        "# bob.dot(marcel)\n",
        "bob @ marcel.T\n"
      ]
    },
    {
      "cell_type": "code",
      "execution_count": 76,
      "metadata": {},
      "outputs": [
        {
          "name": "stdout",
          "output_type": "stream",
          "text": [
            "[1 2 3]\n",
            "(3,)\n",
            "\n",
            "[[  1   8]\n",
            " [ 10  20]\n",
            " [100 200]]\n",
            "(3, 2)\n",
            "\n",
            "Fait le produit scalaire du vecteur colonne bob et de chaque colonne. Retourne un vecteur colonne de 2 lignes\n",
            "[321 648]\n",
            "(2,)\n",
            "\n",
            "[321 648]\n",
            "(2,)\n"
          ]
        }
      ],
      "source": [
        "bob = np.array([1, 2, 3])                             # vecteur colonne\n",
        "marcel = np.array([[1, 8], [10,20], [100,200]])       # 3 lignes, 2 colonnes\n",
        "\n",
        "print(bob)\n",
        "print(bob.shape)\n",
        "print()\n",
        "\n",
        "print(marcel)\n",
        "print(marcel.shape)\n",
        "print()\n",
        "\n",
        "print(\"Fait le produit scalaire du vecteur colonne bob et de chaque colonne marcel\")\n",
        "print(\"Retourne un vecteur colonne de 2 lignes\")\n",
        "print(bob @ marcel)\n",
        "print((bob @ marcel).shape)\n",
        "\n",
        "print()\n",
        "print(bob.dot(marcel))\n",
        "print((bob.dot(marcel)).shape)\n"
      ]
    },
    {
      "cell_type": "code",
      "execution_count": 58,
      "metadata": {},
      "outputs": [
        {
          "name": "stdout",
          "output_type": "stream",
          "text": [
            "[21 48]\n"
          ]
        }
      ],
      "source": [
        "print(bob.dot(marcel))"
      ]
    },
    {
      "cell_type": "code",
      "execution_count": 48,
      "metadata": {
        "id": "9yj54VrvGzZL"
      },
      "outputs": [],
      "source": [
        "class Model():\n",
        "  def __init__(self,data):\n",
        "    np.random.seed(42)\n",
        "    \n",
        "    # nb_features = len(data)\n",
        "    nb_features = data.shape[1]               # !!!! Pas len\n",
        "\n",
        "    self.beta = np.random.randn(nb_features)\n",
        "    self.beta_0 = np.random.randn(1)\n",
        "\n",
        "    print(\"beta : \", self.beta)\n",
        "    print(type(self.beta))\n",
        "    print(self.beta.shape)\n",
        "\n",
        "    print()\n",
        "    print(\"beta 0: \", self.beta_0)\n",
        "    print(type(self.beta_0))\n",
        "    print(self.beta_0.shape)\n",
        "  \n",
        "\n",
        "\n",
        "  # C'est la version vectorielle de : self.beta_1*x + self.beta_0\n",
        "  # Voir exo précédent\n",
        "  \n",
        "  # beta est un n-vect. x est un n-vect OU une matrice 442 lignes x n colonnes\n",
        "  # pour faire le produit matriciel faut que x soit un vect colonne => transposé\n",
        "  # Si on considere qu'on a 2 vecteurs on peut faire dot\n",
        "  def __call__(self, x):\n",
        "    return self.beta @ x.T + self.beta_0\n",
        "    # return self.beta @ x.transpose() + self.beta_0\n",
        "    # return self.beta.dot(x.transpose()) + self.beta_0\n",
        "    \n",
        "    # Je garde la notation produit scalaire des 2 vecteurs + b0\n",
        "    # return self.beta.dot(x) + self.beta_0"
      ]
    },
    {
      "cell_type": "markdown",
      "metadata": {
        "id": "DbVCAIltt1sE"
      },
      "source": [
        "* Import `sklearn.datasets`\n",
        "  * Use the `load_diabetes()` function to load the diebetes dataset in an object called `diabetes`.\n",
        "  * Print the `DESCR` attribute of the diabetes object\n",
        "  * Save the content of the `data` attribute in an object named `diabetes_data`\n",
        "  * Save the content of the `target` attribute in an object named `y`"
      ]
    },
    {
      "cell_type": "code",
      "execution_count": 49,
      "metadata": {
        "colab": {
          "base_uri": "https://localhost:8080/"
        },
        "id": "xhNwqKzxIqqH",
        "outputId": "ab87aaa9-cd6d-438b-a5a0-eb0e53ba20a5"
      },
      "outputs": [],
      "source": [
        "df = datasets.load_diabetes()\n",
        "diabetes_data = df.data\n",
        "y = df.target\n"
      ]
    },
    {
      "cell_type": "code",
      "execution_count": 50,
      "metadata": {},
      "outputs": [
        {
          "name": "stdout",
          "output_type": "stream",
          "text": [
            "442\n",
            "(442, 10)\n"
          ]
        }
      ],
      "source": [
        "print(len(diabetes_data))\n",
        "print(diabetes_data.shape)"
      ]
    },
    {
      "cell_type": "code",
      "execution_count": 51,
      "metadata": {},
      "outputs": [
        {
          "data": {
            "text/html": [
              "<div>\n",
              "<style scoped>\n",
              "    .dataframe tbody tr th:only-of-type {\n",
              "        vertical-align: middle;\n",
              "    }\n",
              "\n",
              "    .dataframe tbody tr th {\n",
              "        vertical-align: top;\n",
              "    }\n",
              "\n",
              "    .dataframe thead th {\n",
              "        text-align: right;\n",
              "    }\n",
              "</style>\n",
              "<table border=\"1\" class=\"dataframe\">\n",
              "  <thead>\n",
              "    <tr style=\"text-align: right;\">\n",
              "      <th></th>\n",
              "      <th>0</th>\n",
              "      <th>1</th>\n",
              "      <th>2</th>\n",
              "      <th>3</th>\n",
              "      <th>4</th>\n",
              "      <th>5</th>\n",
              "      <th>6</th>\n",
              "      <th>7</th>\n",
              "      <th>8</th>\n",
              "      <th>9</th>\n",
              "    </tr>\n",
              "  </thead>\n",
              "  <tbody>\n",
              "    <tr>\n",
              "      <th>0</th>\n",
              "      <td>0.038076</td>\n",
              "      <td>0.050680</td>\n",
              "      <td>0.061696</td>\n",
              "      <td>0.021872</td>\n",
              "      <td>-0.044223</td>\n",
              "      <td>-0.034821</td>\n",
              "      <td>-0.043401</td>\n",
              "      <td>-0.002592</td>\n",
              "      <td>0.019907</td>\n",
              "      <td>-0.017646</td>\n",
              "    </tr>\n",
              "    <tr>\n",
              "      <th>1</th>\n",
              "      <td>-0.001882</td>\n",
              "      <td>-0.044642</td>\n",
              "      <td>-0.051474</td>\n",
              "      <td>-0.026328</td>\n",
              "      <td>-0.008449</td>\n",
              "      <td>-0.019163</td>\n",
              "      <td>0.074412</td>\n",
              "      <td>-0.039493</td>\n",
              "      <td>-0.068332</td>\n",
              "      <td>-0.092204</td>\n",
              "    </tr>\n",
              "    <tr>\n",
              "      <th>2</th>\n",
              "      <td>0.085299</td>\n",
              "      <td>0.050680</td>\n",
              "      <td>0.044451</td>\n",
              "      <td>-0.005670</td>\n",
              "      <td>-0.045599</td>\n",
              "      <td>-0.034194</td>\n",
              "      <td>-0.032356</td>\n",
              "      <td>-0.002592</td>\n",
              "      <td>0.002861</td>\n",
              "      <td>-0.025930</td>\n",
              "    </tr>\n",
              "    <tr>\n",
              "      <th>3</th>\n",
              "      <td>-0.089063</td>\n",
              "      <td>-0.044642</td>\n",
              "      <td>-0.011595</td>\n",
              "      <td>-0.036656</td>\n",
              "      <td>0.012191</td>\n",
              "      <td>0.024991</td>\n",
              "      <td>-0.036038</td>\n",
              "      <td>0.034309</td>\n",
              "      <td>0.022688</td>\n",
              "      <td>-0.009362</td>\n",
              "    </tr>\n",
              "    <tr>\n",
              "      <th>4</th>\n",
              "      <td>0.005383</td>\n",
              "      <td>-0.044642</td>\n",
              "      <td>-0.036385</td>\n",
              "      <td>0.021872</td>\n",
              "      <td>0.003935</td>\n",
              "      <td>0.015596</td>\n",
              "      <td>0.008142</td>\n",
              "      <td>-0.002592</td>\n",
              "      <td>-0.031988</td>\n",
              "      <td>-0.046641</td>\n",
              "    </tr>\n",
              "  </tbody>\n",
              "</table>\n",
              "</div>"
            ],
            "text/plain": [
              "          0         1         2         3         4         5         6  \\\n",
              "0  0.038076  0.050680  0.061696  0.021872 -0.044223 -0.034821 -0.043401   \n",
              "1 -0.001882 -0.044642 -0.051474 -0.026328 -0.008449 -0.019163  0.074412   \n",
              "2  0.085299  0.050680  0.044451 -0.005670 -0.045599 -0.034194 -0.032356   \n",
              "3 -0.089063 -0.044642 -0.011595 -0.036656  0.012191  0.024991 -0.036038   \n",
              "4  0.005383 -0.044642 -0.036385  0.021872  0.003935  0.015596  0.008142   \n",
              "\n",
              "          7         8         9  \n",
              "0 -0.002592  0.019907 -0.017646  \n",
              "1 -0.039493 -0.068332 -0.092204  \n",
              "2 -0.002592  0.002861 -0.025930  \n",
              "3  0.034309  0.022688 -0.009362  \n",
              "4 -0.002592 -0.031988 -0.046641  "
            ]
          },
          "execution_count": 51,
          "metadata": {},
          "output_type": "execute_result"
        }
      ],
      "source": [
        "import pandas as pd\n",
        "\n",
        "diabetes_df = pd.DataFrame(diabetes_data)\n",
        "diabetes_df.head()\n"
      ]
    },
    {
      "cell_type": "code",
      "execution_count": 52,
      "metadata": {},
      "outputs": [
        {
          "name": "stdout",
          "output_type": "stream",
          "text": [
            "<class 'numpy.ndarray'>\n",
            "(442, 10)\n",
            "(442,)\n"
          ]
        }
      ],
      "source": [
        "print(type(diabetes_data))\n",
        "print(diabetes_data.shape)\n",
        "print(y.shape)"
      ]
    },
    {
      "cell_type": "markdown",
      "metadata": {
        "id": "Uy2AancAImU6"
      },
      "source": [
        "* Create an instance of your class `Model` and display `beta_0` and `beta`"
      ]
    },
    {
      "cell_type": "code",
      "execution_count": 53,
      "metadata": {
        "id": "O3xFuq6K_GVe"
      },
      "outputs": [
        {
          "name": "stdout",
          "output_type": "stream",
          "text": [
            "beta :  [ 0.49671415 -0.1382643   0.64768854  1.52302986 -0.23415337 -0.23413696\n",
            "  1.57921282  0.76743473 -0.46947439  0.54256004]\n",
            "<class 'numpy.ndarray'>\n",
            "(10,)\n",
            "\n",
            "beta 0:  [-0.46341769]\n",
            "<class 'numpy.ndarray'>\n",
            "(1,)\n"
          ]
        }
      ],
      "source": [
        "# Va calculer beta0 et le vecteur beta pour la taille de diabetes_data\n",
        "model = Model(diabetes_data)\n",
        "\n"
      ]
    },
    {
      "cell_type": "markdown",
      "metadata": {
        "id": "vkltTi5mIsUz"
      },
      "source": [
        "* Try doing a first \"regression\" by running `model(diabetes_data[0,:])`. \n",
        "NB: If you don't have the same values as this notebook in output, this is normal since you have initialized your values randomly. "
      ]
    },
    {
      "cell_type": "code",
      "execution_count": 54,
      "metadata": {},
      "outputs": [
        {
          "data": {
            "text/plain": [
              "array([-0.44918067])"
            ]
          },
          "execution_count": 54,
          "metadata": {},
          "output_type": "execute_result"
        }
      ],
      "source": [
        "\n",
        "# ! BIEN VOIR : on passe la premiere ligne (10 valeurs)\n",
        "model(diabetes_data[0, :])"
      ]
    },
    {
      "cell_type": "code",
      "execution_count": 55,
      "metadata": {},
      "outputs": [
        {
          "data": {
            "text/plain": [
              "array([-0.44918067, -0.45589502, -0.45771637, -0.61984002, -0.44881756,\n",
              "       -0.550924  , -0.55308199, -0.31717212, -0.50309643, -0.58730845,\n",
              "       -0.57130368, -0.54082745, -0.44635102, -0.48387345, -0.40174933,\n",
              "       -0.45171479, -0.27968973, -0.41108348, -0.57390173, -0.53677669,\n",
              "       -0.57906058, -0.49211392, -0.49011248, -0.37743941, -0.51895877,\n",
              "       -0.66365533, -0.55673145, -0.45351227, -0.61043403, -0.28764662,\n",
              "       -0.47033211, -0.58379631, -0.37631679, -0.30774322, -0.57850968,\n",
              "       -0.38171861, -0.36152731, -0.51942106, -0.31431692, -0.60903986,\n",
              "       -0.43776635, -0.66967106, -0.60605254, -0.38472769, -0.47960819,\n",
              "       -0.46721094, -0.58847992, -0.70037719, -0.39755505, -0.5734833 ,\n",
              "       -0.42387308, -0.42767024, -0.47684303, -0.30892654, -0.38646623,\n",
              "       -0.41907887, -0.55687358, -0.52939462, -0.21300692, -0.42595264,\n",
              "       -0.49266141, -0.63212634, -0.45536384, -0.65455112, -0.50557262,\n",
              "       -0.46546158, -0.58509762, -0.5022422 , -0.52900267, -0.4730434 ,\n",
              "       -0.38750877, -0.25526909, -0.45895943, -0.48878943, -0.31424362,\n",
              "       -0.55569584, -0.40601396, -0.59825595, -0.64876444, -0.54364651,\n",
              "       -0.31282019, -0.53821907, -0.42248941, -0.57709429, -0.6275922 ,\n",
              "       -0.40937614, -0.63791553, -0.35859752, -0.52698824, -0.43902098,\n",
              "       -0.4061944 , -0.50974293, -0.2419342 , -0.62489057, -0.47228869,\n",
              "       -0.71044719, -0.41024743, -0.45082815, -0.53630837, -0.52852705,\n",
              "       -0.46951507, -0.29386073, -0.46387911, -0.46436293, -0.42202607,\n",
              "       -0.53629114, -0.63703519, -0.53334225, -0.45181392, -0.44054949,\n",
              "       -0.39925429, -0.43095653, -0.5260025 , -0.38437799, -0.33071328,\n",
              "       -0.54929497, -0.31202112, -0.30960968, -0.49667606, -0.442935  ,\n",
              "       -0.47097133, -0.42175404, -0.40571738, -0.4520623 , -0.40892363,\n",
              "       -0.552122  , -0.53464112, -0.44724605, -0.56825722, -0.41238041,\n",
              "       -0.26194473, -0.67335326, -0.49102344, -0.56785608, -0.46248082,\n",
              "       -0.5368155 , -0.57573849, -0.29391603, -0.25757834, -0.38132742,\n",
              "       -0.41476505, -0.50944496, -0.42250911, -0.40542314, -0.50210242,\n",
              "       -0.31481245, -0.50088264, -0.47973033, -0.49766642, -0.66418754,\n",
              "       -0.39911503, -0.41087996, -0.39951078, -0.38636322, -0.45218058,\n",
              "       -0.3792416 , -0.47339684, -0.53450268, -0.63985227, -0.35726861,\n",
              "       -0.63875558, -0.37562567, -0.5617797 , -0.26567575, -0.30480488,\n",
              "       -0.50828241, -0.62834598, -0.33041114, -0.43576519, -0.48203035,\n",
              "       -0.42120527, -0.67480114, -0.3931919 , -0.5976194 , -0.57456852,\n",
              "       -0.47838045, -0.36342717, -0.51608536, -0.40381753, -0.56677915,\n",
              "       -0.48717507, -0.53556698, -0.41493973, -0.36777621, -0.50971501,\n",
              "       -0.61471644, -0.60528092, -0.52701968, -0.35051209, -0.48733018,\n",
              "       -0.47358253, -0.62125911, -0.45460217, -0.6190548 , -0.49083875,\n",
              "       -0.46247733, -0.48647092, -0.38453596, -0.51719767, -0.40968215,\n",
              "       -0.39324045, -0.47487588, -0.42497642, -0.39854635, -0.36592863,\n",
              "       -0.44929694, -0.4913613 , -0.36949017, -0.26539667, -0.44214329,\n",
              "       -0.3796475 , -0.37463566, -0.29389088, -0.51043208, -0.37397764,\n",
              "       -0.2616448 , -0.38853524, -0.2346745 , -0.63637358, -0.55955528,\n",
              "       -0.47437925, -0.61594414, -0.46407786, -0.62287959, -0.68111656,\n",
              "       -0.44998343, -0.57385324, -0.26457786, -0.58416256, -0.48825875,\n",
              "       -0.53252843, -0.43667385, -0.51765387, -0.42531664, -0.33141194,\n",
              "       -0.39434934, -0.38242027, -0.51406558, -0.44145033, -0.38716963,\n",
              "       -0.34081241, -0.41201782, -0.59598385, -0.4836846 , -0.44804719,\n",
              "       -0.54144413, -0.55456072, -0.57161035, -0.38064948, -0.39249723,\n",
              "       -0.33201943, -0.35214518, -0.56349779, -0.38824652, -0.31988784,\n",
              "       -0.46087414, -0.49258807, -0.44721644, -0.52499557, -0.42337539,\n",
              "       -0.31470047, -0.06697971, -0.27730672, -0.60943383, -0.53867538,\n",
              "       -0.51399631, -0.33189502, -0.55600938, -0.28772394, -0.34376456,\n",
              "       -0.30198367, -0.41832566, -0.60291081, -0.4341327 , -0.43127548,\n",
              "       -0.45747846, -0.32931706, -0.4142078 , -0.63562664, -0.46034478,\n",
              "       -0.38992066, -0.6712755 , -0.41438621, -0.51538942, -0.52505925,\n",
              "       -0.57408129, -0.4326612 , -0.48312538, -0.35564025, -0.61891998,\n",
              "       -0.40618815, -0.38492735, -0.41072425, -0.40116448, -0.5245598 ,\n",
              "       -0.54566724, -0.49512862, -0.5674654 , -0.58985563, -0.48363269,\n",
              "       -0.47902913, -0.34472607, -0.38907919, -0.2849353 , -0.44425505,\n",
              "       -0.65717773, -0.44833309, -0.44971985, -0.49742282, -0.42915818,\n",
              "       -0.36235057, -0.49445321, -0.51398287, -0.35448221, -0.48139564,\n",
              "       -0.497431  , -0.48459286, -0.37780168, -0.29651393, -0.26793821,\n",
              "       -0.48579623, -0.30206753, -0.3647426 , -0.41052731, -0.46318974,\n",
              "       -0.57137921, -0.53782884, -0.28816283, -0.5199028 , -0.47083969,\n",
              "       -0.41867392, -0.52314664, -0.32420716, -0.47467854, -0.5762952 ,\n",
              "       -0.44181655, -0.50590186, -0.39833034, -0.6297532 , -0.51662098,\n",
              "       -0.26951216, -0.37690742, -0.37427921, -0.25983253, -0.62104241,\n",
              "       -0.49604248, -0.46709395, -0.59150788, -0.35820263, -0.67927794,\n",
              "       -0.24501764, -0.59108507, -0.43022589, -0.6168464 , -0.4400684 ,\n",
              "       -0.47916807, -0.52993188, -0.51415823, -0.50695096, -0.39143854,\n",
              "       -0.39280368, -0.30534471, -0.29257041, -0.57744991, -0.49204558,\n",
              "       -0.4613448 , -0.4664855 , -0.36235404, -0.46586721, -0.53032816,\n",
              "       -0.49397033, -0.44383453, -0.49647782, -0.49633795, -0.6647666 ,\n",
              "       -0.26158726, -0.47630804, -0.52166676, -0.55592671, -0.38486685,\n",
              "       -0.35642373, -0.73768851, -0.50574112, -0.49113168, -0.48836794,\n",
              "       -0.38509487, -0.42356429, -0.60701887, -0.44058793, -0.57695554,\n",
              "       -0.38546325, -0.57198694, -0.45626463, -0.57713447, -0.44418235,\n",
              "       -0.5528466 , -0.51352265, -0.50204584, -0.57303663, -0.38911733,\n",
              "       -0.1962842 , -0.4441152 , -0.50162441, -0.44863523, -0.3190781 ,\n",
              "       -0.33524393, -0.67439709, -0.47083447, -0.32092032, -0.47387289,\n",
              "       -0.57357382, -0.46721255, -0.20910775, -0.45430057, -0.48791395,\n",
              "       -0.56735221, -0.26392624, -0.53252422, -0.43029596, -0.53542342,\n",
              "       -0.47087238, -0.45625268, -0.39595906, -0.53869742, -0.53362784,\n",
              "       -0.63698952, -0.41735248, -0.46276377, -0.24194107, -0.49416593,\n",
              "       -0.61501822, -0.37259327, -0.40463611, -0.38882303, -0.3835953 ,\n",
              "       -0.56961287, -0.50182057, -0.40205324, -0.60288879, -0.43924388,\n",
              "       -0.51995438, -0.4294188 ])"
            ]
          },
          "execution_count": 55,
          "metadata": {},
          "output_type": "execute_result"
        }
      ],
      "source": [
        "# BIEN VOIR : on passe la matrice entière (442 lignes, 10 colonnes)\n",
        "\n",
        "model(diabetes_data)"
      ]
    },
    {
      "cell_type": "markdown",
      "metadata": {
        "id": "WM4sjYAMI8SU"
      },
      "source": [
        "* This value corresponds to a random prediction of your model. But we don't have any data yet. This time, let's use `sklearn` to import data. "
      ]
    },
    {
      "cell_type": "markdown",
      "metadata": {
        "id": "S4goQEJvKsS8"
      },
      "source": [
        "* Visualize `y` against the predictions using `plotly`."
      ]
    },
    {
      "cell_type": "code",
      "execution_count": 35,
      "metadata": {
        "colab": {
          "base_uri": "https://localhost:8080/",
          "height": 542
        },
        "id": "8Mvb3tc8KHJJ",
        "outputId": "09c9d4d3-375f-402c-e7cf-de57455691b0"
      },
      "outputs": [
        {
          "data": {
            "application/vnd.plotly.v1+json": {
              "config": {
                "plotlyServerURL": "https://plot.ly"
              },
              "data": [
                {
                  "hovertemplate": "x=%{x}<br>y=%{y}<extra></extra>",
                  "legendgroup": "",
                  "marker": {
                    "color": "#636efa",
                    "symbol": "circle"
                  },
                  "mode": "markers",
                  "name": "",
                  "orientation": "v",
                  "showlegend": false,
                  "type": "scatter",
                  "x": [
                    151,
                    75,
                    141,
                    206,
                    135,
                    97,
                    138,
                    63,
                    110,
                    310,
                    101,
                    69,
                    179,
                    185,
                    118,
                    171,
                    166,
                    144,
                    97,
                    168,
                    68,
                    49,
                    68,
                    245,
                    184,
                    202,
                    137,
                    85,
                    131,
                    283,
                    129,
                    59,
                    341,
                    87,
                    65,
                    102,
                    265,
                    276,
                    252,
                    90,
                    100,
                    55,
                    61,
                    92,
                    259,
                    53,
                    190,
                    142,
                    75,
                    142,
                    155,
                    225,
                    59,
                    104,
                    182,
                    128,
                    52,
                    37,
                    170,
                    170,
                    61,
                    144,
                    52,
                    128,
                    71,
                    163,
                    150,
                    97,
                    160,
                    178,
                    48,
                    270,
                    202,
                    111,
                    85,
                    42,
                    170,
                    200,
                    252,
                    113,
                    143,
                    51,
                    52,
                    210,
                    65,
                    141,
                    55,
                    134,
                    42,
                    111,
                    98,
                    164,
                    48,
                    96,
                    90,
                    162,
                    150,
                    279,
                    92,
                    83,
                    128,
                    102,
                    302,
                    198,
                    95,
                    53,
                    134,
                    144,
                    232,
                    81,
                    104,
                    59,
                    246,
                    297,
                    258,
                    229,
                    275,
                    281,
                    179,
                    200,
                    200,
                    173,
                    180,
                    84,
                    121,
                    161,
                    99,
                    109,
                    115,
                    268,
                    274,
                    158,
                    107,
                    83,
                    103,
                    272,
                    85,
                    280,
                    336,
                    281,
                    118,
                    317,
                    235,
                    60,
                    174,
                    259,
                    178,
                    128,
                    96,
                    126,
                    288,
                    88,
                    292,
                    71,
                    197,
                    186,
                    25,
                    84,
                    96,
                    195,
                    53,
                    217,
                    172,
                    131,
                    214,
                    59,
                    70,
                    220,
                    268,
                    152,
                    47,
                    74,
                    295,
                    101,
                    151,
                    127,
                    237,
                    225,
                    81,
                    151,
                    107,
                    64,
                    138,
                    185,
                    265,
                    101,
                    137,
                    143,
                    141,
                    79,
                    292,
                    178,
                    91,
                    116,
                    86,
                    122,
                    72,
                    129,
                    142,
                    90,
                    158,
                    39,
                    196,
                    222,
                    277,
                    99,
                    196,
                    202,
                    155,
                    77,
                    191,
                    70,
                    73,
                    49,
                    65,
                    263,
                    248,
                    296,
                    214,
                    185,
                    78,
                    93,
                    252,
                    150,
                    77,
                    208,
                    77,
                    108,
                    160,
                    53,
                    220,
                    154,
                    259,
                    90,
                    246,
                    124,
                    67,
                    72,
                    257,
                    262,
                    275,
                    177,
                    71,
                    47,
                    187,
                    125,
                    78,
                    51,
                    258,
                    215,
                    303,
                    243,
                    91,
                    150,
                    310,
                    153,
                    346,
                    63,
                    89,
                    50,
                    39,
                    103,
                    308,
                    116,
                    145,
                    74,
                    45,
                    115,
                    264,
                    87,
                    202,
                    127,
                    182,
                    241,
                    66,
                    94,
                    283,
                    64,
                    102,
                    200,
                    265,
                    94,
                    230,
                    181,
                    156,
                    233,
                    60,
                    219,
                    80,
                    68,
                    332,
                    248,
                    84,
                    200,
                    55,
                    85,
                    89,
                    31,
                    129,
                    83,
                    275,
                    65,
                    198,
                    236,
                    253,
                    124,
                    44,
                    172,
                    114,
                    142,
                    109,
                    180,
                    144,
                    163,
                    147,
                    97,
                    220,
                    190,
                    109,
                    191,
                    122,
                    230,
                    242,
                    248,
                    249,
                    192,
                    131,
                    237,
                    78,
                    135,
                    244,
                    199,
                    270,
                    164,
                    72,
                    96,
                    306,
                    91,
                    214,
                    95,
                    216,
                    263,
                    178,
                    113,
                    200,
                    139,
                    139,
                    88,
                    148,
                    88,
                    243,
                    71,
                    77,
                    109,
                    272,
                    60,
                    54,
                    221,
                    90,
                    311,
                    281,
                    182,
                    321,
                    58,
                    262,
                    206,
                    233,
                    242,
                    123,
                    167,
                    63,
                    197,
                    71,
                    168,
                    140,
                    217,
                    121,
                    235,
                    245,
                    40,
                    52,
                    104,
                    132,
                    88,
                    69,
                    219,
                    72,
                    201,
                    110,
                    51,
                    277,
                    63,
                    118,
                    69,
                    273,
                    258,
                    43,
                    198,
                    242,
                    232,
                    175,
                    93,
                    168,
                    275,
                    293,
                    281,
                    72,
                    140,
                    189,
                    181,
                    209,
                    136,
                    261,
                    113,
                    131,
                    174,
                    257,
                    55,
                    84,
                    42,
                    146,
                    212,
                    233,
                    91,
                    111,
                    152,
                    120,
                    67,
                    310,
                    94,
                    183,
                    66,
                    173,
                    72,
                    49,
                    64,
                    48,
                    178,
                    104,
                    132,
                    220,
                    57
                  ],
                  "xaxis": "x",
                  "y": [
                    -0.582619704833172,
                    -0.4867451406756551,
                    -0.44959522654354317,
                    -0.7401706075815775,
                    -0.40958112150860887,
                    -1.0395387773183038,
                    -0.6889508495277089,
                    0.1917752138974118,
                    -0.3624095169892232,
                    -0.9385901033972229,
                    -1.1002965307858152,
                    -0.20096458170329246,
                    -0.45246541730139084,
                    -0.618839012061521,
                    -0.3120351020333182,
                    -0.30574517093006703,
                    -0.5260985044035852,
                    -0.18323761025691127,
                    -0.7184507397268015,
                    -0.6329425478024643,
                    -0.8356128180261645,
                    -0.7243198809309742,
                    -0.5912824950925872,
                    -0.6133801027649985,
                    -0.7246965280721294,
                    -0.8067822026592442,
                    -1.129319878622971,
                    -0.6537588865349986,
                    -0.6141015268717313,
                    -0.6731388992786994,
                    -0.6109883703052386,
                    -0.7654970329971169,
                    -0.44229792451631256,
                    -0.6365084978823536,
                    -0.6599034635678731,
                    -0.3126458895449439,
                    -0.5909926230517599,
                    -0.7121770437924014,
                    -0.21702397147417074,
                    -0.5652369500820138,
                    -0.1969987447467051,
                    -1.0513169630408754,
                    -0.8394877717312736,
                    -0.30109643078449677,
                    -0.45444073555929587,
                    -0.46010985085861855,
                    -0.8994098628403321,
                    -1.1281388425244536,
                    -0.2094550464633732,
                    -0.7151762121900029,
                    -0.5268078368831062,
                    -0.48218491033580313,
                    -0.4269642964285903,
                    -0.3133960801364087,
                    -0.4155855869343919,
                    -0.5352355969799655,
                    -0.8144827957483858,
                    -0.9377247178073144,
                    -0.4602741210200463,
                    -0.1812794585161206,
                    -0.8969379519648439,
                    -0.8627537191303186,
                    -0.46922575516714565,
                    -0.4989960352899819,
                    -0.5752710980808873,
                    -0.6519998084109507,
                    -0.5726633540290096,
                    -0.38537941770980944,
                    -0.5324041198175944,
                    -0.6564946341665368,
                    -0.38777671083876675,
                    -0.3362625315281154,
                    -0.22258913928711255,
                    -0.2861474157956322,
                    -0.3016260438312498,
                    -0.5908467155011301,
                    -0.9558144955877839,
                    -0.7867019977787575,
                    -0.9778612013238516,
                    -0.620933872159611,
                    -0.06414142947299478,
                    -0.4064869314996703,
                    -0.3342310948101642,
                    -0.8426953093653475,
                    -0.6135425306707947,
                    -0.30835076396470434,
                    -0.7264702201738797,
                    -0.2986390982221103,
                    -0.712379064683638,
                    -0.5979860470553443,
                    -0.47345890854968214,
                    -0.1800665513160556,
                    -0.5210632503981003,
                    -0.698592308400384,
                    -0.6843935896604807,
                    -0.936064063993504,
                    -0.48421000857755425,
                    -0.3527617104512111,
                    -0.5998403743791935,
                    -0.4621363661791765,
                    -0.3120635318764594,
                    -0.32506938459478996,
                    -0.5720931143538265,
                    -0.09046272584194653,
                    -0.5139377705475188,
                    -0.5599245678164432,
                    -0.9104337109805382,
                    -0.24559613796167534,
                    -0.7422414563038966,
                    -0.21944757838288992,
                    -0.32834561342330115,
                    -0.3409676536932479,
                    -0.6133941059896829,
                    -0.3981714530211249,
                    -0.5887671682491991,
                    -0.5369644796559876,
                    -0.2590232454637287,
                    -0.255404371223646,
                    -0.5336168002965648,
                    -0.6471330167936253,
                    -0.659486407223241,
                    -0.29079751526753883,
                    -0.13864031862940773,
                    0.2760265576579922,
                    -0.6070056279631774,
                    -0.9154910861122332,
                    -0.8367214441703608,
                    -0.35575914426108646,
                    -0.6819383071398412,
                    -0.43408712009497946,
                    -0.5679496165221604,
                    -0.8389802134821958,
                    -0.27156780369350175,
                    -0.8548707919842797,
                    -0.5986472391012801,
                    -0.7746759234329628,
                    -0.9463145379301654,
                    -0.5063807218865809,
                    -0.45339600789060014,
                    -0.6711138615653112,
                    -0.36500271548479796,
                    -0.393268179677922,
                    -0.2677051579094797,
                    -0.4340361042958477,
                    -0.2706968490118966,
                    -0.6140997631099495,
                    -0.4907667410742022,
                    -0.5491043631651493,
                    -0.41045190405704635,
                    -0.9119725954074767,
                    -0.4499727011325746,
                    -0.5325306277560988,
                    -0.3527113640988189,
                    -0.29136005597938813,
                    -0.24133291457617612,
                    -0.20714018697258585,
                    -0.6686112197034395,
                    -0.39501415717915506,
                    -0.5404924532533344,
                    -0.5047288006747025,
                    -0.6340104148744363,
                    -0.11803796615648227,
                    -0.6537749080966171,
                    -0.2884648262252602,
                    -0.3573965533249597,
                    -0.7072483117004346,
                    -0.9405360085138004,
                    -0.3166781789766231,
                    -0.28194139148404396,
                    -0.7240799931991908,
                    -0.3187512152310309,
                    -0.8390034411741817,
                    -0.3452849213918556,
                    -1.00840512655822,
                    -0.9202040182989633,
                    -0.42351144232059557,
                    -0.23316000664239073,
                    -0.43067138881253497,
                    -0.21448151756660994,
                    -0.49723168414684477,
                    -0.636512237322352,
                    -0.20037842924791488,
                    -0.0803602396269511,
                    -0.39028509575359216,
                    -0.6295004949235425,
                    -0.9763011935939544,
                    -0.6289529344926198,
                    -0.9125203684072012,
                    -0.14706038399941157,
                    -0.5086531995721664,
                    -0.5771270658006805,
                    -0.933609780128249,
                    -0.2586996361706324,
                    -0.28164586799201274,
                    -0.898490480103544,
                    -0.26828613060696505,
                    -0.3683326551543652,
                    -0.34762343765389464,
                    -0.6830543130604196,
                    -0.5333024185739933,
                    -0.07959639423458043,
                    -0.5336341202783117,
                    -0.030799963437600275,
                    -0.300307053741812,
                    -0.23234089070535974,
                    -0.8210807592330549,
                    -0.37503369606762904,
                    -0.5079165081600656,
                    -0.16218273254527366,
                    -0.5234283501501299,
                    -0.18995804268101912,
                    -0.2769010390378175,
                    -0.1006670723749008,
                    -0.5001264606823327,
                    -0.6209149308854838,
                    -0.4859965341386955,
                    -0.22275978904368443,
                    -0.10058955841904943,
                    -0.6847119480187794,
                    -1.0706765025152114,
                    -0.4651756875923073,
                    -0.7233853573643516,
                    -0.772136811874778,
                    -1.0346230291206027,
                    -0.7907522863355861,
                    -0.7043861483028517,
                    -0.8568037138929193,
                    -0.23783854857759368,
                    -0.621368373858955,
                    -0.5234624795361111,
                    -0.011569966842868928,
                    -0.4581172169238559,
                    -0.3156978197487863,
                    -0.3907716148063367,
                    -0.4717634475662197,
                    -0.4781808708547855,
                    -0.16541782794276771,
                    -0.31910094780245507,
                    -0.5250257545409655,
                    -0.2711460353357982,
                    -0.38479593145592855,
                    -0.2384844147536782,
                    -1.00314574840366,
                    -0.5181247928328464,
                    -0.7335599248570811,
                    -0.8018046743185918,
                    -0.2919876144341146,
                    -0.8215697605913153,
                    -0.12748195012178232,
                    -0.4581088538024051,
                    -0.5185930496119973,
                    -0.4722836541503411,
                    -0.32908079234625787,
                    -0.07187327565307089,
                    -0.4983934553299386,
                    -0.5685353330250775,
                    -0.7003897645874415,
                    -0.6607886846180164,
                    -0.11265873451577985,
                    -0.37827112608492,
                    -0.2536814542461992,
                    -0.21402050014189988,
                    -0.4117399749882031,
                    -0.7965060726507392,
                    -0.43267622627764135,
                    -0.6275151608684828,
                    -0.5375907931831987,
                    -0.09664388397901968,
                    -0.14523110031232445,
                    -0.38079505405183234,
                    -0.6029274273366249,
                    -0.477131690560587,
                    -0.8087615352208745,
                    -0.3110944746314791,
                    -0.5021465500148532,
                    -0.5838349577755522,
                    -0.09090595031220572,
                    -0.818084027368468,
                    -0.37019966707495766,
                    -0.5059095741095339,
                    -0.42394107896583094,
                    -0.9966004281902219,
                    0.11685711546665134,
                    -0.6251750539910894,
                    -0.6858986173802903,
                    -0.5695112008006241,
                    -0.8203033215914994,
                    0.0542443762359921,
                    0.03968911912871298,
                    -0.6234928508839164,
                    -0.29945263377451403,
                    -0.2120021540098012,
                    -0.6087566562641582,
                    -0.36491937038786526,
                    -0.34237979904432686,
                    -0.7084649831959198,
                    -0.3947304232802392,
                    -0.5605316789345596,
                    -0.791614143243397,
                    -0.48625174369560864,
                    -0.5347715879178531,
                    -0.29546142670189174,
                    -0.3569801408806835,
                    -0.24509128286242554,
                    0.03740208398780953,
                    -0.6464633713558197,
                    -0.531435196709544,
                    -0.23007793186656567,
                    -0.7623040783039364,
                    -0.21854870367772639,
                    -0.36556306908629166,
                    -0.048833341320417334,
                    -0.715080950142727,
                    -0.2958704696927046,
                    -0.5547203012240364,
                    -0.3691819536984208,
                    -0.6408079959207424,
                    -0.15988859054104698,
                    -0.14883467641014725,
                    -0.5641304159566073,
                    -0.24736133083642214,
                    -0.17380323499669625,
                    -0.6614030052913057,
                    -0.4585603166776441,
                    -0.2189261540144513,
                    -0.40077616677187045,
                    -0.4757572681586315,
                    -0.10118600844372616,
                    -0.6726471684016457,
                    -0.6233898220909947,
                    -0.3149487010279324,
                    -0.4930987581071632,
                    -0.4725811184292725,
                    -0.5190546241126426,
                    -0.8721484233229077,
                    -0.43538194930852137,
                    -0.2848196918157253,
                    -0.4465744742191152,
                    -0.6491851128039385,
                    -0.2634009257316457,
                    -0.44670240936774486,
                    -0.36607312427854677,
                    -0.23961769715865466,
                    -0.32493814916491215,
                    -0.6030988566929099,
                    -0.10148920207074014,
                    -0.07095729848083149,
                    -0.5353560548379582,
                    -0.44577164522213203,
                    -0.7959914943004291,
                    -0.563286034154193,
                    -0.9846712202253834,
                    -0.7768380645946662,
                    -0.8253664267774647,
                    -0.2457122167190351,
                    -0.7372325212990928,
                    -0.4741516840043166,
                    -0.8625869366593707,
                    -0.6058983569708901,
                    -0.3286871766263799,
                    -0.4878492900443688,
                    -0.38630785566204073,
                    -0.46089781338446134,
                    -0.8526404477561651,
                    -0.5006070181702625,
                    -0.42128916433811514,
                    -0.5194745170366575,
                    -0.3270728237907875,
                    -0.6601658233626189,
                    -0.5584300289915027,
                    -0.4291716025517087,
                    -0.5773100374314099,
                    -0.5183461921575007,
                    -0.8646828341236654,
                    -1.1516506607683605,
                    -0.2489046212549711,
                    -0.04725062756465276,
                    -0.3806406750764687,
                    -0.5371234690223153,
                    -0.8566773396307126,
                    -0.535103293327482,
                    -0.9424546019619967,
                    -0.7780074608447284,
                    -0.5956585902682404,
                    -0.13023625133577504,
                    -0.6356609304363039,
                    -0.446664230992686,
                    -0.615602282937284,
                    -0.46936200549323476,
                    -0.5658003006149649,
                    -0.6224731846290481,
                    -0.6998846877853804,
                    -0.3795186305251897,
                    -0.77697401183089,
                    -0.7737507201065614,
                    -0.8190278335659775,
                    -0.8082675995967221,
                    -0.6670528089215564,
                    -0.4672043926108104,
                    -0.3318719903052866,
                    -0.4884499566546378,
                    -0.5577907836525637,
                    -0.23124642749241153,
                    -0.6684080918660884,
                    -0.5388961477553436,
                    -0.7901231304878409,
                    -0.8459453612920186,
                    -0.18469426634102026,
                    -0.31399778081118773,
                    -0.42576980366180145,
                    -0.5497362187284744,
                    -0.6725828076892406,
                    -0.10668393632026307,
                    -0.5066912850267878,
                    0.05868012806917744,
                    -0.41190568483231815,
                    -0.3489719436528593,
                    -0.55557377408562,
                    -0.029786886377449362,
                    -0.70897565326424,
                    -0.287812468175773,
                    -0.31162651870286473,
                    -0.42137345192615566,
                    -0.33036538132674653,
                    -0.5901565101221682,
                    -1.1901274929052885,
                    -0.19330132485278673,
                    -0.7571525520752301,
                    -0.2251837376518384,
                    -0.40739988360658347,
                    -0.4413410762736586,
                    -0.4566382810619136,
                    -0.28663019598359296,
                    -0.3325041356774897,
                    -0.29391470460585156,
                    -0.538076191507361,
                    -0.7337376686846802,
                    -0.4440847899135961,
                    -0.2421598683242479,
                    -0.40174267059673663,
                    -0.6428334903696343,
                    -0.39191969679254585
                  ],
                  "yaxis": "y"
                },
                {
                  "type": "scatter",
                  "x": [
                    151,
                    75,
                    141,
                    206,
                    135,
                    97,
                    138,
                    63,
                    110,
                    310,
                    101,
                    69,
                    179,
                    185,
                    118,
                    171,
                    166,
                    144,
                    97,
                    168,
                    68,
                    49,
                    68,
                    245,
                    184,
                    202,
                    137,
                    85,
                    131,
                    283,
                    129,
                    59,
                    341,
                    87,
                    65,
                    102,
                    265,
                    276,
                    252,
                    90,
                    100,
                    55,
                    61,
                    92,
                    259,
                    53,
                    190,
                    142,
                    75,
                    142,
                    155,
                    225,
                    59,
                    104,
                    182,
                    128,
                    52,
                    37,
                    170,
                    170,
                    61,
                    144,
                    52,
                    128,
                    71,
                    163,
                    150,
                    97,
                    160,
                    178,
                    48,
                    270,
                    202,
                    111,
                    85,
                    42,
                    170,
                    200,
                    252,
                    113,
                    143,
                    51,
                    52,
                    210,
                    65,
                    141,
                    55,
                    134,
                    42,
                    111,
                    98,
                    164,
                    48,
                    96,
                    90,
                    162,
                    150,
                    279,
                    92,
                    83,
                    128,
                    102,
                    302,
                    198,
                    95,
                    53,
                    134,
                    144,
                    232,
                    81,
                    104,
                    59,
                    246,
                    297,
                    258,
                    229,
                    275,
                    281,
                    179,
                    200,
                    200,
                    173,
                    180,
                    84,
                    121,
                    161,
                    99,
                    109,
                    115,
                    268,
                    274,
                    158,
                    107,
                    83,
                    103,
                    272,
                    85,
                    280,
                    336,
                    281,
                    118,
                    317,
                    235,
                    60,
                    174,
                    259,
                    178,
                    128,
                    96,
                    126,
                    288,
                    88,
                    292,
                    71,
                    197,
                    186,
                    25,
                    84,
                    96,
                    195,
                    53,
                    217,
                    172,
                    131,
                    214,
                    59,
                    70,
                    220,
                    268,
                    152,
                    47,
                    74,
                    295,
                    101,
                    151,
                    127,
                    237,
                    225,
                    81,
                    151,
                    107,
                    64,
                    138,
                    185,
                    265,
                    101,
                    137,
                    143,
                    141,
                    79,
                    292,
                    178,
                    91,
                    116,
                    86,
                    122,
                    72,
                    129,
                    142,
                    90,
                    158,
                    39,
                    196,
                    222,
                    277,
                    99,
                    196,
                    202,
                    155,
                    77,
                    191,
                    70,
                    73,
                    49,
                    65,
                    263,
                    248,
                    296,
                    214,
                    185,
                    78,
                    93,
                    252,
                    150,
                    77,
                    208,
                    77,
                    108,
                    160,
                    53,
                    220,
                    154,
                    259,
                    90,
                    246,
                    124,
                    67,
                    72,
                    257,
                    262,
                    275,
                    177,
                    71,
                    47,
                    187,
                    125,
                    78,
                    51,
                    258,
                    215,
                    303,
                    243,
                    91,
                    150,
                    310,
                    153,
                    346,
                    63,
                    89,
                    50,
                    39,
                    103,
                    308,
                    116,
                    145,
                    74,
                    45,
                    115,
                    264,
                    87,
                    202,
                    127,
                    182,
                    241,
                    66,
                    94,
                    283,
                    64,
                    102,
                    200,
                    265,
                    94,
                    230,
                    181,
                    156,
                    233,
                    60,
                    219,
                    80,
                    68,
                    332,
                    248,
                    84,
                    200,
                    55,
                    85,
                    89,
                    31,
                    129,
                    83,
                    275,
                    65,
                    198,
                    236,
                    253,
                    124,
                    44,
                    172,
                    114,
                    142,
                    109,
                    180,
                    144,
                    163,
                    147,
                    97,
                    220,
                    190,
                    109,
                    191,
                    122,
                    230,
                    242,
                    248,
                    249,
                    192,
                    131,
                    237,
                    78,
                    135,
                    244,
                    199,
                    270,
                    164,
                    72,
                    96,
                    306,
                    91,
                    214,
                    95,
                    216,
                    263,
                    178,
                    113,
                    200,
                    139,
                    139,
                    88,
                    148,
                    88,
                    243,
                    71,
                    77,
                    109,
                    272,
                    60,
                    54,
                    221,
                    90,
                    311,
                    281,
                    182,
                    321,
                    58,
                    262,
                    206,
                    233,
                    242,
                    123,
                    167,
                    63,
                    197,
                    71,
                    168,
                    140,
                    217,
                    121,
                    235,
                    245,
                    40,
                    52,
                    104,
                    132,
                    88,
                    69,
                    219,
                    72,
                    201,
                    110,
                    51,
                    277,
                    63,
                    118,
                    69,
                    273,
                    258,
                    43,
                    198,
                    242,
                    232,
                    175,
                    93,
                    168,
                    275,
                    293,
                    281,
                    72,
                    140,
                    189,
                    181,
                    209,
                    136,
                    261,
                    113,
                    131,
                    174,
                    257,
                    55,
                    84,
                    42,
                    146,
                    212,
                    233,
                    91,
                    111,
                    152,
                    120,
                    67,
                    310,
                    94,
                    183,
                    66,
                    173,
                    72,
                    49,
                    64,
                    48,
                    178,
                    104,
                    132,
                    220,
                    57
                  ],
                  "y": [
                    151,
                    75,
                    141,
                    206,
                    135,
                    97,
                    138,
                    63,
                    110,
                    310,
                    101,
                    69,
                    179,
                    185,
                    118,
                    171,
                    166,
                    144,
                    97,
                    168,
                    68,
                    49,
                    68,
                    245,
                    184,
                    202,
                    137,
                    85,
                    131,
                    283,
                    129,
                    59,
                    341,
                    87,
                    65,
                    102,
                    265,
                    276,
                    252,
                    90,
                    100,
                    55,
                    61,
                    92,
                    259,
                    53,
                    190,
                    142,
                    75,
                    142,
                    155,
                    225,
                    59,
                    104,
                    182,
                    128,
                    52,
                    37,
                    170,
                    170,
                    61,
                    144,
                    52,
                    128,
                    71,
                    163,
                    150,
                    97,
                    160,
                    178,
                    48,
                    270,
                    202,
                    111,
                    85,
                    42,
                    170,
                    200,
                    252,
                    113,
                    143,
                    51,
                    52,
                    210,
                    65,
                    141,
                    55,
                    134,
                    42,
                    111,
                    98,
                    164,
                    48,
                    96,
                    90,
                    162,
                    150,
                    279,
                    92,
                    83,
                    128,
                    102,
                    302,
                    198,
                    95,
                    53,
                    134,
                    144,
                    232,
                    81,
                    104,
                    59,
                    246,
                    297,
                    258,
                    229,
                    275,
                    281,
                    179,
                    200,
                    200,
                    173,
                    180,
                    84,
                    121,
                    161,
                    99,
                    109,
                    115,
                    268,
                    274,
                    158,
                    107,
                    83,
                    103,
                    272,
                    85,
                    280,
                    336,
                    281,
                    118,
                    317,
                    235,
                    60,
                    174,
                    259,
                    178,
                    128,
                    96,
                    126,
                    288,
                    88,
                    292,
                    71,
                    197,
                    186,
                    25,
                    84,
                    96,
                    195,
                    53,
                    217,
                    172,
                    131,
                    214,
                    59,
                    70,
                    220,
                    268,
                    152,
                    47,
                    74,
                    295,
                    101,
                    151,
                    127,
                    237,
                    225,
                    81,
                    151,
                    107,
                    64,
                    138,
                    185,
                    265,
                    101,
                    137,
                    143,
                    141,
                    79,
                    292,
                    178,
                    91,
                    116,
                    86,
                    122,
                    72,
                    129,
                    142,
                    90,
                    158,
                    39,
                    196,
                    222,
                    277,
                    99,
                    196,
                    202,
                    155,
                    77,
                    191,
                    70,
                    73,
                    49,
                    65,
                    263,
                    248,
                    296,
                    214,
                    185,
                    78,
                    93,
                    252,
                    150,
                    77,
                    208,
                    77,
                    108,
                    160,
                    53,
                    220,
                    154,
                    259,
                    90,
                    246,
                    124,
                    67,
                    72,
                    257,
                    262,
                    275,
                    177,
                    71,
                    47,
                    187,
                    125,
                    78,
                    51,
                    258,
                    215,
                    303,
                    243,
                    91,
                    150,
                    310,
                    153,
                    346,
                    63,
                    89,
                    50,
                    39,
                    103,
                    308,
                    116,
                    145,
                    74,
                    45,
                    115,
                    264,
                    87,
                    202,
                    127,
                    182,
                    241,
                    66,
                    94,
                    283,
                    64,
                    102,
                    200,
                    265,
                    94,
                    230,
                    181,
                    156,
                    233,
                    60,
                    219,
                    80,
                    68,
                    332,
                    248,
                    84,
                    200,
                    55,
                    85,
                    89,
                    31,
                    129,
                    83,
                    275,
                    65,
                    198,
                    236,
                    253,
                    124,
                    44,
                    172,
                    114,
                    142,
                    109,
                    180,
                    144,
                    163,
                    147,
                    97,
                    220,
                    190,
                    109,
                    191,
                    122,
                    230,
                    242,
                    248,
                    249,
                    192,
                    131,
                    237,
                    78,
                    135,
                    244,
                    199,
                    270,
                    164,
                    72,
                    96,
                    306,
                    91,
                    214,
                    95,
                    216,
                    263,
                    178,
                    113,
                    200,
                    139,
                    139,
                    88,
                    148,
                    88,
                    243,
                    71,
                    77,
                    109,
                    272,
                    60,
                    54,
                    221,
                    90,
                    311,
                    281,
                    182,
                    321,
                    58,
                    262,
                    206,
                    233,
                    242,
                    123,
                    167,
                    63,
                    197,
                    71,
                    168,
                    140,
                    217,
                    121,
                    235,
                    245,
                    40,
                    52,
                    104,
                    132,
                    88,
                    69,
                    219,
                    72,
                    201,
                    110,
                    51,
                    277,
                    63,
                    118,
                    69,
                    273,
                    258,
                    43,
                    198,
                    242,
                    232,
                    175,
                    93,
                    168,
                    275,
                    293,
                    281,
                    72,
                    140,
                    189,
                    181,
                    209,
                    136,
                    261,
                    113,
                    131,
                    174,
                    257,
                    55,
                    84,
                    42,
                    146,
                    212,
                    233,
                    91,
                    111,
                    152,
                    120,
                    67,
                    310,
                    94,
                    183,
                    66,
                    173,
                    72,
                    49,
                    64,
                    48,
                    178,
                    104,
                    132,
                    220,
                    57
                  ]
                }
              ],
              "layout": {
                "legend": {
                  "tracegroupgap": 0
                },
                "margin": {
                  "t": 60
                },
                "template": {
                  "data": {
                    "bar": [
                      {
                        "error_x": {
                          "color": "#2a3f5f"
                        },
                        "error_y": {
                          "color": "#2a3f5f"
                        },
                        "marker": {
                          "line": {
                            "color": "#E5ECF6",
                            "width": 0.5
                          },
                          "pattern": {
                            "fillmode": "overlay",
                            "size": 10,
                            "solidity": 0.2
                          }
                        },
                        "type": "bar"
                      }
                    ],
                    "barpolar": [
                      {
                        "marker": {
                          "line": {
                            "color": "#E5ECF6",
                            "width": 0.5
                          },
                          "pattern": {
                            "fillmode": "overlay",
                            "size": 10,
                            "solidity": 0.2
                          }
                        },
                        "type": "barpolar"
                      }
                    ],
                    "carpet": [
                      {
                        "aaxis": {
                          "endlinecolor": "#2a3f5f",
                          "gridcolor": "white",
                          "linecolor": "white",
                          "minorgridcolor": "white",
                          "startlinecolor": "#2a3f5f"
                        },
                        "baxis": {
                          "endlinecolor": "#2a3f5f",
                          "gridcolor": "white",
                          "linecolor": "white",
                          "minorgridcolor": "white",
                          "startlinecolor": "#2a3f5f"
                        },
                        "type": "carpet"
                      }
                    ],
                    "choropleth": [
                      {
                        "colorbar": {
                          "outlinewidth": 0,
                          "ticks": ""
                        },
                        "type": "choropleth"
                      }
                    ],
                    "contour": [
                      {
                        "colorbar": {
                          "outlinewidth": 0,
                          "ticks": ""
                        },
                        "colorscale": [
                          [
                            0,
                            "#0d0887"
                          ],
                          [
                            0.1111111111111111,
                            "#46039f"
                          ],
                          [
                            0.2222222222222222,
                            "#7201a8"
                          ],
                          [
                            0.3333333333333333,
                            "#9c179e"
                          ],
                          [
                            0.4444444444444444,
                            "#bd3786"
                          ],
                          [
                            0.5555555555555556,
                            "#d8576b"
                          ],
                          [
                            0.6666666666666666,
                            "#ed7953"
                          ],
                          [
                            0.7777777777777778,
                            "#fb9f3a"
                          ],
                          [
                            0.8888888888888888,
                            "#fdca26"
                          ],
                          [
                            1,
                            "#f0f921"
                          ]
                        ],
                        "type": "contour"
                      }
                    ],
                    "contourcarpet": [
                      {
                        "colorbar": {
                          "outlinewidth": 0,
                          "ticks": ""
                        },
                        "type": "contourcarpet"
                      }
                    ],
                    "heatmap": [
                      {
                        "colorbar": {
                          "outlinewidth": 0,
                          "ticks": ""
                        },
                        "colorscale": [
                          [
                            0,
                            "#0d0887"
                          ],
                          [
                            0.1111111111111111,
                            "#46039f"
                          ],
                          [
                            0.2222222222222222,
                            "#7201a8"
                          ],
                          [
                            0.3333333333333333,
                            "#9c179e"
                          ],
                          [
                            0.4444444444444444,
                            "#bd3786"
                          ],
                          [
                            0.5555555555555556,
                            "#d8576b"
                          ],
                          [
                            0.6666666666666666,
                            "#ed7953"
                          ],
                          [
                            0.7777777777777778,
                            "#fb9f3a"
                          ],
                          [
                            0.8888888888888888,
                            "#fdca26"
                          ],
                          [
                            1,
                            "#f0f921"
                          ]
                        ],
                        "type": "heatmap"
                      }
                    ],
                    "heatmapgl": [
                      {
                        "colorbar": {
                          "outlinewidth": 0,
                          "ticks": ""
                        },
                        "colorscale": [
                          [
                            0,
                            "#0d0887"
                          ],
                          [
                            0.1111111111111111,
                            "#46039f"
                          ],
                          [
                            0.2222222222222222,
                            "#7201a8"
                          ],
                          [
                            0.3333333333333333,
                            "#9c179e"
                          ],
                          [
                            0.4444444444444444,
                            "#bd3786"
                          ],
                          [
                            0.5555555555555556,
                            "#d8576b"
                          ],
                          [
                            0.6666666666666666,
                            "#ed7953"
                          ],
                          [
                            0.7777777777777778,
                            "#fb9f3a"
                          ],
                          [
                            0.8888888888888888,
                            "#fdca26"
                          ],
                          [
                            1,
                            "#f0f921"
                          ]
                        ],
                        "type": "heatmapgl"
                      }
                    ],
                    "histogram": [
                      {
                        "marker": {
                          "pattern": {
                            "fillmode": "overlay",
                            "size": 10,
                            "solidity": 0.2
                          }
                        },
                        "type": "histogram"
                      }
                    ],
                    "histogram2d": [
                      {
                        "colorbar": {
                          "outlinewidth": 0,
                          "ticks": ""
                        },
                        "colorscale": [
                          [
                            0,
                            "#0d0887"
                          ],
                          [
                            0.1111111111111111,
                            "#46039f"
                          ],
                          [
                            0.2222222222222222,
                            "#7201a8"
                          ],
                          [
                            0.3333333333333333,
                            "#9c179e"
                          ],
                          [
                            0.4444444444444444,
                            "#bd3786"
                          ],
                          [
                            0.5555555555555556,
                            "#d8576b"
                          ],
                          [
                            0.6666666666666666,
                            "#ed7953"
                          ],
                          [
                            0.7777777777777778,
                            "#fb9f3a"
                          ],
                          [
                            0.8888888888888888,
                            "#fdca26"
                          ],
                          [
                            1,
                            "#f0f921"
                          ]
                        ],
                        "type": "histogram2d"
                      }
                    ],
                    "histogram2dcontour": [
                      {
                        "colorbar": {
                          "outlinewidth": 0,
                          "ticks": ""
                        },
                        "colorscale": [
                          [
                            0,
                            "#0d0887"
                          ],
                          [
                            0.1111111111111111,
                            "#46039f"
                          ],
                          [
                            0.2222222222222222,
                            "#7201a8"
                          ],
                          [
                            0.3333333333333333,
                            "#9c179e"
                          ],
                          [
                            0.4444444444444444,
                            "#bd3786"
                          ],
                          [
                            0.5555555555555556,
                            "#d8576b"
                          ],
                          [
                            0.6666666666666666,
                            "#ed7953"
                          ],
                          [
                            0.7777777777777778,
                            "#fb9f3a"
                          ],
                          [
                            0.8888888888888888,
                            "#fdca26"
                          ],
                          [
                            1,
                            "#f0f921"
                          ]
                        ],
                        "type": "histogram2dcontour"
                      }
                    ],
                    "mesh3d": [
                      {
                        "colorbar": {
                          "outlinewidth": 0,
                          "ticks": ""
                        },
                        "type": "mesh3d"
                      }
                    ],
                    "parcoords": [
                      {
                        "line": {
                          "colorbar": {
                            "outlinewidth": 0,
                            "ticks": ""
                          }
                        },
                        "type": "parcoords"
                      }
                    ],
                    "pie": [
                      {
                        "automargin": true,
                        "type": "pie"
                      }
                    ],
                    "scatter": [
                      {
                        "fillpattern": {
                          "fillmode": "overlay",
                          "size": 10,
                          "solidity": 0.2
                        },
                        "type": "scatter"
                      }
                    ],
                    "scatter3d": [
                      {
                        "line": {
                          "colorbar": {
                            "outlinewidth": 0,
                            "ticks": ""
                          }
                        },
                        "marker": {
                          "colorbar": {
                            "outlinewidth": 0,
                            "ticks": ""
                          }
                        },
                        "type": "scatter3d"
                      }
                    ],
                    "scattercarpet": [
                      {
                        "marker": {
                          "colorbar": {
                            "outlinewidth": 0,
                            "ticks": ""
                          }
                        },
                        "type": "scattercarpet"
                      }
                    ],
                    "scattergeo": [
                      {
                        "marker": {
                          "colorbar": {
                            "outlinewidth": 0,
                            "ticks": ""
                          }
                        },
                        "type": "scattergeo"
                      }
                    ],
                    "scattergl": [
                      {
                        "marker": {
                          "colorbar": {
                            "outlinewidth": 0,
                            "ticks": ""
                          }
                        },
                        "type": "scattergl"
                      }
                    ],
                    "scattermapbox": [
                      {
                        "marker": {
                          "colorbar": {
                            "outlinewidth": 0,
                            "ticks": ""
                          }
                        },
                        "type": "scattermapbox"
                      }
                    ],
                    "scatterpolar": [
                      {
                        "marker": {
                          "colorbar": {
                            "outlinewidth": 0,
                            "ticks": ""
                          }
                        },
                        "type": "scatterpolar"
                      }
                    ],
                    "scatterpolargl": [
                      {
                        "marker": {
                          "colorbar": {
                            "outlinewidth": 0,
                            "ticks": ""
                          }
                        },
                        "type": "scatterpolargl"
                      }
                    ],
                    "scatterternary": [
                      {
                        "marker": {
                          "colorbar": {
                            "outlinewidth": 0,
                            "ticks": ""
                          }
                        },
                        "type": "scatterternary"
                      }
                    ],
                    "surface": [
                      {
                        "colorbar": {
                          "outlinewidth": 0,
                          "ticks": ""
                        },
                        "colorscale": [
                          [
                            0,
                            "#0d0887"
                          ],
                          [
                            0.1111111111111111,
                            "#46039f"
                          ],
                          [
                            0.2222222222222222,
                            "#7201a8"
                          ],
                          [
                            0.3333333333333333,
                            "#9c179e"
                          ],
                          [
                            0.4444444444444444,
                            "#bd3786"
                          ],
                          [
                            0.5555555555555556,
                            "#d8576b"
                          ],
                          [
                            0.6666666666666666,
                            "#ed7953"
                          ],
                          [
                            0.7777777777777778,
                            "#fb9f3a"
                          ],
                          [
                            0.8888888888888888,
                            "#fdca26"
                          ],
                          [
                            1,
                            "#f0f921"
                          ]
                        ],
                        "type": "surface"
                      }
                    ],
                    "table": [
                      {
                        "cells": {
                          "fill": {
                            "color": "#EBF0F8"
                          },
                          "line": {
                            "color": "white"
                          }
                        },
                        "header": {
                          "fill": {
                            "color": "#C8D4E3"
                          },
                          "line": {
                            "color": "white"
                          }
                        },
                        "type": "table"
                      }
                    ]
                  },
                  "layout": {
                    "annotationdefaults": {
                      "arrowcolor": "#2a3f5f",
                      "arrowhead": 0,
                      "arrowwidth": 1
                    },
                    "autotypenumbers": "strict",
                    "coloraxis": {
                      "colorbar": {
                        "outlinewidth": 0,
                        "ticks": ""
                      }
                    },
                    "colorscale": {
                      "diverging": [
                        [
                          0,
                          "#8e0152"
                        ],
                        [
                          0.1,
                          "#c51b7d"
                        ],
                        [
                          0.2,
                          "#de77ae"
                        ],
                        [
                          0.3,
                          "#f1b6da"
                        ],
                        [
                          0.4,
                          "#fde0ef"
                        ],
                        [
                          0.5,
                          "#f7f7f7"
                        ],
                        [
                          0.6,
                          "#e6f5d0"
                        ],
                        [
                          0.7,
                          "#b8e186"
                        ],
                        [
                          0.8,
                          "#7fbc41"
                        ],
                        [
                          0.9,
                          "#4d9221"
                        ],
                        [
                          1,
                          "#276419"
                        ]
                      ],
                      "sequential": [
                        [
                          0,
                          "#0d0887"
                        ],
                        [
                          0.1111111111111111,
                          "#46039f"
                        ],
                        [
                          0.2222222222222222,
                          "#7201a8"
                        ],
                        [
                          0.3333333333333333,
                          "#9c179e"
                        ],
                        [
                          0.4444444444444444,
                          "#bd3786"
                        ],
                        [
                          0.5555555555555556,
                          "#d8576b"
                        ],
                        [
                          0.6666666666666666,
                          "#ed7953"
                        ],
                        [
                          0.7777777777777778,
                          "#fb9f3a"
                        ],
                        [
                          0.8888888888888888,
                          "#fdca26"
                        ],
                        [
                          1,
                          "#f0f921"
                        ]
                      ],
                      "sequentialminus": [
                        [
                          0,
                          "#0d0887"
                        ],
                        [
                          0.1111111111111111,
                          "#46039f"
                        ],
                        [
                          0.2222222222222222,
                          "#7201a8"
                        ],
                        [
                          0.3333333333333333,
                          "#9c179e"
                        ],
                        [
                          0.4444444444444444,
                          "#bd3786"
                        ],
                        [
                          0.5555555555555556,
                          "#d8576b"
                        ],
                        [
                          0.6666666666666666,
                          "#ed7953"
                        ],
                        [
                          0.7777777777777778,
                          "#fb9f3a"
                        ],
                        [
                          0.8888888888888888,
                          "#fdca26"
                        ],
                        [
                          1,
                          "#f0f921"
                        ]
                      ]
                    },
                    "colorway": [
                      "#636efa",
                      "#EF553B",
                      "#00cc96",
                      "#ab63fa",
                      "#FFA15A",
                      "#19d3f3",
                      "#FF6692",
                      "#B6E880",
                      "#FF97FF",
                      "#FECB52"
                    ],
                    "font": {
                      "color": "#2a3f5f"
                    },
                    "geo": {
                      "bgcolor": "white",
                      "lakecolor": "white",
                      "landcolor": "#E5ECF6",
                      "showlakes": true,
                      "showland": true,
                      "subunitcolor": "white"
                    },
                    "hoverlabel": {
                      "align": "left"
                    },
                    "hovermode": "closest",
                    "mapbox": {
                      "style": "light"
                    },
                    "paper_bgcolor": "white",
                    "plot_bgcolor": "#E5ECF6",
                    "polar": {
                      "angularaxis": {
                        "gridcolor": "white",
                        "linecolor": "white",
                        "ticks": ""
                      },
                      "bgcolor": "#E5ECF6",
                      "radialaxis": {
                        "gridcolor": "white",
                        "linecolor": "white",
                        "ticks": ""
                      }
                    },
                    "scene": {
                      "xaxis": {
                        "backgroundcolor": "#E5ECF6",
                        "gridcolor": "white",
                        "gridwidth": 2,
                        "linecolor": "white",
                        "showbackground": true,
                        "ticks": "",
                        "zerolinecolor": "white"
                      },
                      "yaxis": {
                        "backgroundcolor": "#E5ECF6",
                        "gridcolor": "white",
                        "gridwidth": 2,
                        "linecolor": "white",
                        "showbackground": true,
                        "ticks": "",
                        "zerolinecolor": "white"
                      },
                      "zaxis": {
                        "backgroundcolor": "#E5ECF6",
                        "gridcolor": "white",
                        "gridwidth": 2,
                        "linecolor": "white",
                        "showbackground": true,
                        "ticks": "",
                        "zerolinecolor": "white"
                      }
                    },
                    "shapedefaults": {
                      "line": {
                        "color": "#2a3f5f"
                      }
                    },
                    "ternary": {
                      "aaxis": {
                        "gridcolor": "white",
                        "linecolor": "white",
                        "ticks": ""
                      },
                      "baxis": {
                        "gridcolor": "white",
                        "linecolor": "white",
                        "ticks": ""
                      },
                      "bgcolor": "#E5ECF6",
                      "caxis": {
                        "gridcolor": "white",
                        "linecolor": "white",
                        "ticks": ""
                      }
                    },
                    "title": {
                      "x": 0.05
                    },
                    "xaxis": {
                      "automargin": true,
                      "gridcolor": "white",
                      "linecolor": "white",
                      "ticks": "",
                      "title": {
                        "standoff": 15
                      },
                      "zerolinecolor": "white",
                      "zerolinewidth": 2
                    },
                    "yaxis": {
                      "automargin": true,
                      "gridcolor": "white",
                      "linecolor": "white",
                      "ticks": "",
                      "title": {
                        "standoff": 15
                      },
                      "zerolinecolor": "white",
                      "zerolinewidth": 2
                    }
                  }
                },
                "xaxis": {
                  "anchor": "y",
                  "domain": [
                    0,
                    1
                  ],
                  "title": {
                    "text": "x"
                  }
                },
                "yaxis": {
                  "anchor": "x",
                  "domain": [
                    0,
                    1
                  ],
                  "title": {
                    "text": "y"
                  }
                }
              }
            }
          },
          "metadata": {},
          "output_type": "display_data"
        }
      ],
      "source": [
        "fig = px.scatter(x=y, y=model(diabetes_data))     # \n",
        "fig.add_scatter(x=y, y=y)                         # rouge parfaite\n",
        "fig.show()\n"
      ]
    },
    {
      "cell_type": "markdown",
      "metadata": {
        "id": "DPi5j2qlLXPn"
      },
      "source": [
        "* Now we need to define a cost function. For a linear regression, we could use MSE : \n",
        "\n",
        "`np.mean((model(input) - y)**2)`\n",
        "\n",
        "  * Create a function which we'll call `mse` (for mean square error). This function will take two arguments `y_pred` & `y_true`."
      ]
    },
    {
      "cell_type": "code",
      "execution_count": 322,
      "metadata": {
        "id": "wqWx5tEHK9ur"
      },
      "outputs": [],
      "source": [
        "def mse(y_pred, y_true):\n",
        "  return np.mean((y_pred - y)**2)\n",
        "\n",
        "def rmse(y_pred, y_true):\n",
        "  return np.sqrt(mse(y_pred, y_true))"
      ]
    },
    {
      "cell_type": "markdown",
      "metadata": {
        "id": "69LJkKbCM-H6"
      },
      "source": [
        "* Test your function by inserting `model(diabetes_data)` & `y` as arguments. \n",
        "* Calculate the rmse as well"
      ]
    },
    {
      "cell_type": "code",
      "execution_count": 323,
      "metadata": {},
      "outputs": [
        {
          "name": "stdout",
          "output_type": "stream",
          "text": [
            "29324.489790449898\n",
            "171.24394818635167\n"
          ]
        }
      ],
      "source": [
        "print(mse(model(diabetes_data), y))\n",
        "print(rmse(model(diabetes_data), y))"
      ]
    },
    {
      "cell_type": "code",
      "execution_count": null,
      "metadata": {
        "colab": {
          "base_uri": "https://localhost:8080/"
        },
        "id": "ULoKIwiXMmft",
        "outputId": "8bf72501-1e56-49cd-f8ce-9b8b40bd1049"
      },
      "outputs": [],
      "source": []
    },
    {
      "cell_type": "markdown",
      "metadata": {
        "id": "b4t0xlPMwwuf"
      },
      "source": [
        "* We're going to need to compute the gradients for our variable `model.beta` and our constant `model.beta_0`. To do this, we're going to need to review our derivative formulas. Since we're not here to do math, we're going to give you these formulas. \n",
        "  * `derive_model_beta = 2/len(y_pred)*(x.transpose() @ (y_pred - y_true))`\n",
        "  * `derive_model_beta_0 = 2/len(y_pred)*(np.sum(y_pred - y_true))`\n",
        "\n",
        "  * Feel free to read this article if you want to know more about the calculation of the derivative: [Gradient Descent Derivation](https://mccormickml.com/2014/03/04/gradient-descent-derivation/)\n",
        "\n",
        "\n",
        "  * So using the above formulas, code the first function `derivative_mse_beta` that will take the arguments: \n",
        "    * `x` --> the values for your variable / `y_pred` --> the values predicted by your model / `y_true` --> the values of the target variable\n"
      ]
    },
    {
      "cell_type": "code",
      "execution_count": 324,
      "metadata": {
        "id": "JrVNZeiFnoDE"
      },
      "outputs": [],
      "source": [
        "def derivative_mse_beta(y_pred, y_true, x):\n",
        "  return 2/len(y_pred)*(x.transpose() @ (y_pred - y_true))           # !!! @ = produit matriciel"
      ]
    },
    {
      "cell_type": "code",
      "execution_count": 325,
      "metadata": {},
      "outputs": [
        {
          "data": {
            "text/plain": [
              "array([-1.37029187, -0.31058722, -4.29496067, -3.23293097, -1.55270832,\n",
              "       -1.27470899,  2.89022792, -3.15134777, -4.14321887, -2.80549582])"
            ]
          },
          "execution_count": 325,
          "metadata": {},
          "output_type": "execute_result"
        }
      ],
      "source": [
        "derivative_mse_beta(model(diabetes_data), y, diabetes_data)"
      ]
    },
    {
      "cell_type": "markdown",
      "metadata": {
        "id": "wtno1PCmzGSy"
      },
      "source": [
        "* Test you function"
      ]
    },
    {
      "cell_type": "markdown",
      "metadata": {
        "id": "t7uluSUoy6x4"
      },
      "source": [
        "* So using the above formulas, now code the `derivative_mse_beta_0` function which will take the arguments :\n",
        "    * `y_pred` --> the values predicted by your model / `y_true` --> the actual values to predict"
      ]
    },
    {
      "cell_type": "code",
      "execution_count": 326,
      "metadata": {},
      "outputs": [],
      "source": [
        "def derivative_mse_beta_0(y_pred, y_true):\n",
        "  return 2/len(y_pred)*(np.sum(y_pred - y_true))"
      ]
    },
    {
      "cell_type": "markdown",
      "metadata": {
        "id": "4R9sfYPdzNYc"
      },
      "source": [
        "* Test you function"
      ]
    },
    {
      "cell_type": "code",
      "execution_count": 327,
      "metadata": {},
      "outputs": [
        {
          "data": {
            "text/plain": [
              "-305.9129684066066"
            ]
          },
          "execution_count": 327,
          "metadata": {},
          "output_type": "execute_result"
        }
      ],
      "source": [
        "derivative_mse_beta_0(model(diabetes_data), y)"
      ]
    },
    {
      "cell_type": "markdown",
      "metadata": {
        "id": "tmtfiOnszUqi"
      },
      "source": [
        "* We will try to see if we can minimize our cost function using the two gradients above. To update our variables, we need to subtract their respective gradients. Ex: \n",
        "  * `param = param - learning_rate * gradient`\n",
        "\n",
        "  * Set a `learning_rate` to 0.1\n",
        "  * Try to apply your formula on `model.beta` and `model.beta_0`."
      ]
    },
    {
      "cell_type": "code",
      "execution_count": 328,
      "metadata": {},
      "outputs": [],
      "source": [
        "learning_rate = 0.1\n",
        "\n",
        "b0 = model.beta_0   # !!! Copie AVANT d'aller modifier model.beta_0 & model.beta_1\n",
        "b  = model.beta   # Bien voir que model(diabetes_X) utilise model.beta_0 & model.beta_1\n",
        "\n",
        "model.beta_0 -= learning_rate * derivative_mse_beta_0(model(diabetes_data), y)\n",
        "model.beta -= learning_rate * derivative_mse_beta(model(diabetes_data), y, diabetes_data)"
      ]
    },
    {
      "cell_type": "code",
      "execution_count": 329,
      "metadata": {},
      "outputs": [
        {
          "data": {
            "text/plain": [
              "array([ 1.69861882,  1.13555971,  0.83071733,  0.12902708,  0.31098027,\n",
              "       -0.46414237, -0.04682821,  0.89997688,  0.91862996, -1.58321362])"
            ]
          },
          "execution_count": 329,
          "metadata": {},
          "output_type": "execute_result"
        }
      ],
      "source": [
        "model.beta"
      ]
    },
    {
      "cell_type": "code",
      "execution_count": 330,
      "metadata": {},
      "outputs": [
        {
          "data": {
            "text/plain": [
              "array([29.7682968])"
            ]
          },
          "execution_count": 330,
          "metadata": {},
          "output_type": "execute_result"
        }
      ],
      "source": [
        "model.beta_0"
      ]
    },
    {
      "cell_type": "code",
      "execution_count": null,
      "metadata": {
        "colab": {
          "base_uri": "https://localhost:8080/"
        },
        "id": "WRROMSkNzvnI",
        "outputId": "3fd5289f-4b2a-47c2-d5ff-33cdadbb31a8"
      },
      "outputs": [],
      "source": []
    },
    {
      "cell_type": "markdown",
      "metadata": {
        "id": "uqqJKj8cLYXr"
      },
      "source": [
        "We see that the values of the two parameters have changed, let's see how it affected the predictions of the model. \n",
        "Visualize y vs the model's predictions."
      ]
    },
    {
      "cell_type": "code",
      "execution_count": 331,
      "metadata": {
        "colab": {
          "base_uri": "https://localhost:8080/",
          "height": 542
        },
        "id": "h1gy8x4O9QLw",
        "outputId": "8d37de7b-7856-4492-dd0d-28f87b9b296d"
      },
      "outputs": [
        {
          "data": {
            "application/vnd.plotly.v1+json": {
              "config": {
                "plotlyServerURL": "https://plot.ly"
              },
              "data": [
                {
                  "hovertemplate": "x=%{x}<br>y=%{y}<extra></extra>",
                  "legendgroup": "",
                  "marker": {
                    "color": "#636efa",
                    "symbol": "circle"
                  },
                  "mode": "markers",
                  "name": "",
                  "orientation": "v",
                  "showlegend": false,
                  "type": "scatter",
                  "x": [
                    151,
                    75,
                    141,
                    206,
                    135,
                    97,
                    138,
                    63,
                    110,
                    310,
                    101,
                    69,
                    179,
                    185,
                    118,
                    171,
                    166,
                    144,
                    97,
                    168,
                    68,
                    49,
                    68,
                    245,
                    184,
                    202,
                    137,
                    85,
                    131,
                    283,
                    129,
                    59,
                    341,
                    87,
                    65,
                    102,
                    265,
                    276,
                    252,
                    90,
                    100,
                    55,
                    61,
                    92,
                    259,
                    53,
                    190,
                    142,
                    75,
                    142,
                    155,
                    225,
                    59,
                    104,
                    182,
                    128,
                    52,
                    37,
                    170,
                    170,
                    61,
                    144,
                    52,
                    128,
                    71,
                    163,
                    150,
                    97,
                    160,
                    178,
                    48,
                    270,
                    202,
                    111,
                    85,
                    42,
                    170,
                    200,
                    252,
                    113,
                    143,
                    51,
                    52,
                    210,
                    65,
                    141,
                    55,
                    134,
                    42,
                    111,
                    98,
                    164,
                    48,
                    96,
                    90,
                    162,
                    150,
                    279,
                    92,
                    83,
                    128,
                    102,
                    302,
                    198,
                    95,
                    53,
                    134,
                    144,
                    232,
                    81,
                    104,
                    59,
                    246,
                    297,
                    258,
                    229,
                    275,
                    281,
                    179,
                    200,
                    200,
                    173,
                    180,
                    84,
                    121,
                    161,
                    99,
                    109,
                    115,
                    268,
                    274,
                    158,
                    107,
                    83,
                    103,
                    272,
                    85,
                    280,
                    336,
                    281,
                    118,
                    317,
                    235,
                    60,
                    174,
                    259,
                    178,
                    128,
                    96,
                    126,
                    288,
                    88,
                    292,
                    71,
                    197,
                    186,
                    25,
                    84,
                    96,
                    195,
                    53,
                    217,
                    172,
                    131,
                    214,
                    59,
                    70,
                    220,
                    268,
                    152,
                    47,
                    74,
                    295,
                    101,
                    151,
                    127,
                    237,
                    225,
                    81,
                    151,
                    107,
                    64,
                    138,
                    185,
                    265,
                    101,
                    137,
                    143,
                    141,
                    79,
                    292,
                    178,
                    91,
                    116,
                    86,
                    122,
                    72,
                    129,
                    142,
                    90,
                    158,
                    39,
                    196,
                    222,
                    277,
                    99,
                    196,
                    202,
                    155,
                    77,
                    191,
                    70,
                    73,
                    49,
                    65,
                    263,
                    248,
                    296,
                    214,
                    185,
                    78,
                    93,
                    252,
                    150,
                    77,
                    208,
                    77,
                    108,
                    160,
                    53,
                    220,
                    154,
                    259,
                    90,
                    246,
                    124,
                    67,
                    72,
                    257,
                    262,
                    275,
                    177,
                    71,
                    47,
                    187,
                    125,
                    78,
                    51,
                    258,
                    215,
                    303,
                    243,
                    91,
                    150,
                    310,
                    153,
                    346,
                    63,
                    89,
                    50,
                    39,
                    103,
                    308,
                    116,
                    145,
                    74,
                    45,
                    115,
                    264,
                    87,
                    202,
                    127,
                    182,
                    241,
                    66,
                    94,
                    283,
                    64,
                    102,
                    200,
                    265,
                    94,
                    230,
                    181,
                    156,
                    233,
                    60,
                    219,
                    80,
                    68,
                    332,
                    248,
                    84,
                    200,
                    55,
                    85,
                    89,
                    31,
                    129,
                    83,
                    275,
                    65,
                    198,
                    236,
                    253,
                    124,
                    44,
                    172,
                    114,
                    142,
                    109,
                    180,
                    144,
                    163,
                    147,
                    97,
                    220,
                    190,
                    109,
                    191,
                    122,
                    230,
                    242,
                    248,
                    249,
                    192,
                    131,
                    237,
                    78,
                    135,
                    244,
                    199,
                    270,
                    164,
                    72,
                    96,
                    306,
                    91,
                    214,
                    95,
                    216,
                    263,
                    178,
                    113,
                    200,
                    139,
                    139,
                    88,
                    148,
                    88,
                    243,
                    71,
                    77,
                    109,
                    272,
                    60,
                    54,
                    221,
                    90,
                    311,
                    281,
                    182,
                    321,
                    58,
                    262,
                    206,
                    233,
                    242,
                    123,
                    167,
                    63,
                    197,
                    71,
                    168,
                    140,
                    217,
                    121,
                    235,
                    245,
                    40,
                    52,
                    104,
                    132,
                    88,
                    69,
                    219,
                    72,
                    201,
                    110,
                    51,
                    277,
                    63,
                    118,
                    69,
                    273,
                    258,
                    43,
                    198,
                    242,
                    232,
                    175,
                    93,
                    168,
                    275,
                    293,
                    281,
                    72,
                    140,
                    189,
                    181,
                    209,
                    136,
                    261,
                    113,
                    131,
                    174,
                    257,
                    55,
                    84,
                    42,
                    146,
                    212,
                    233,
                    91,
                    111,
                    152,
                    120,
                    67,
                    310,
                    94,
                    183,
                    66,
                    173,
                    72,
                    49,
                    64,
                    48,
                    178,
                    104,
                    132,
                    220,
                    57
                  ],
                  "xaxis": "x",
                  "y": [
                    29.992931552807413,
                    29.718696109150564,
                    30.051486698922112,
                    29.612377900847616,
                    29.73507229927702,
                    29.583204724929292,
                    29.67375506470439,
                    29.895476164481085,
                    29.902854753672834,
                    29.71988305803794,
                    29.423555787329036,
                    29.930814981986728,
                    29.724705127455262,
                    29.894866680446246,
                    29.828249790598548,
                    29.908986567109537,
                    29.733261643998564,
                    30.010668267886636,
                    29.646971590701476,
                    29.69682036934347,
                    29.516209650641102,
                    29.58833382381629,
                    29.491996124272326,
                    29.962791367917266,
                    29.69669013476088,
                    29.79436750467877,
                    29.383759124067467,
                    29.613913172861544,
                    29.835817090930558,
                    29.87390194757399,
                    29.60384762603063,
                    29.5869505937192,
                    30.039521718928075,
                    29.65997881852147,
                    29.705999948801285,
                    29.828276215300345,
                    29.834706540677217,
                    29.702975229122586,
                    29.9799421596863,
                    29.83391091734737,
                    29.708393590336094,
                    29.42088029924495,
                    29.770787487981668,
                    29.50406500233474,
                    30.07858940623859,
                    29.90746160664436,
                    29.711788020146535,
                    29.606932204675413,
                    29.84712323733443,
                    29.880564341939813,
                    29.709093542327047,
                    29.976853725669635,
                    29.61220609032138,
                    29.58080637314106,
                    29.566921825639984,
                    29.497093720494835,
                    29.74479128318091,
                    29.61649847166234,
                    29.772853791593857,
                    29.91192234194778,
                    29.540288136936937,
                    29.8209681229077,
                    29.69821371451765,
                    29.689361654559626,
                    29.850475778818222,
                    29.81164970216458,
                    29.81556777125295,
                    29.85970118022585,
                    29.842824865762786,
                    29.59797082962656,
                    29.498463830005576,
                    29.68001909173996,
                    30.03871599779494,
                    29.858773396423874,
                    29.706731881691326,
                    29.738313428262757,
                    29.7225871459168,
                    29.41228862558139,
                    29.85883511423856,
                    29.47403796461426,
                    29.877540308151413,
                    29.843064751853568,
                    29.680816657199912,
                    29.678573970869966,
                    29.774526596712146,
                    29.89059155643149,
                    29.59400334214617,
                    29.863119438512857,
                    29.522215839119774,
                    29.512617664656556,
                    29.567485892507747,
                    29.85491008884367,
                    29.666273338684643,
                    29.58468604486367,
                    29.644617457971613,
                    29.5467713936187,
                    29.97837658817099,
                    29.640776151171156,
                    29.889718219389742,
                    29.782791337963296,
                    29.787168525581908,
                    29.703732443981487,
                    29.540291723141454,
                    30.013392110495577,
                    29.732387606811997,
                    29.791401383862667,
                    29.529295165549094,
                    29.78810794658928,
                    29.91360378834124,
                    29.721008567642645,
                    29.692945027615377,
                    29.767712820827313,
                    29.550073303254766,
                    29.8082896608314,
                    29.950087751325327,
                    29.942413924071612,
                    29.969186355157717,
                    29.736556642930317,
                    29.674829757344916,
                    29.66348960729357,
                    29.632889580576485,
                    29.86822871295611,
                    29.982532711625495,
                    29.88645640912595,
                    29.706558862131477,
                    29.89042812299716,
                    29.450225109539797,
                    30.004227568890492,
                    29.621478707357454,
                    29.624733865964338,
                    29.714917100853988,
                    29.533157809364084,
                    29.771194866929374,
                    29.658143625084335,
                    29.636830973521803,
                    29.749342755862397,
                    29.399989494450168,
                    29.81857000100796,
                    29.900616063611906,
                    29.885157265078558,
                    29.849807707298766,
                    29.64306721116526,
                    29.949305813225756,
                    29.66175463348616,
                    29.95877820788863,
                    29.795871820602297,
                    29.847160767827148,
                    29.674652853126705,
                    29.693535891519502,
                    29.919419592166392,
                    29.811604920459413,
                    29.70009883126002,
                    29.765325926758177,
                    29.80812065279306,
                    29.951449510482032,
                    29.8113324915057,
                    29.68454793867612,
                    29.766420960302202,
                    29.670990300795022,
                    29.821587668537692,
                    29.644723470622992,
                    29.82384639837617,
                    29.61288312906935,
                    29.798013218580785,
                    29.793784193535693,
                    29.525623680659876,
                    29.739854748799985,
                    29.84572070712886,
                    29.829663606086513,
                    29.8823315534095,
                    29.747995236425375,
                    29.628644998708758,
                    29.9247144069314,
                    29.694771026575168,
                    29.84062605746347,
                    29.732867637237312,
                    29.881734245166157,
                    29.909349363577874,
                    29.742551339511884,
                    29.71041229312969,
                    29.812896318274284,
                    29.82138772391834,
                    29.988548889057277,
                    29.803444246601856,
                    29.749182115189985,
                    29.814467093913816,
                    29.90977874340541,
                    29.583871917004355,
                    29.7298899157654,
                    29.676452788826445,
                    29.78564769982402,
                    29.77681774584492,
                    29.922008014207293,
                    29.882645435984077,
                    29.494707319044682,
                    29.882623134100545,
                    29.57559254967334,
                    29.90047544495975,
                    29.658722475798083,
                    29.832894744397173,
                    29.639037640113823,
                    29.589162893904657,
                    30.122523652720044,
                    29.885904306426887,
                    29.93001303831734,
                    29.819304040307546,
                    29.874832622055695,
                    29.732943072318655,
                    29.643532873625585,
                    29.920868026653235,
                    29.765965029272298,
                    29.886516607074114,
                    29.769482074386914,
                    29.589843778952712,
                    29.73928332423443,
                    29.831380600974093,
                    29.964332866883314,
                    29.83799669350651,
                    29.639275167161728,
                    29.555726140290282,
                    29.80976334121521,
                    29.66073880582076,
                    29.710643225681793,
                    29.55761108103072,
                    29.551507066295226,
                    30.006551234584457,
                    29.62537969792113,
                    29.833948873898418,
                    29.658437396317694,
                    29.68678012517352,
                    29.789500534736696,
                    29.696614155301152,
                    29.855526238988052,
                    29.863541618699838,
                    29.80361031156916,
                    29.865484700146165,
                    29.81544230597989,
                    29.668869650019868,
                    29.988833321567622,
                    29.758746986968614,
                    30.010360417077084,
                    29.73879955634924,
                    29.638544023655168,
                    29.838846785081646,
                    29.704884937526877,
                    29.769873883491442,
                    29.87823347187499,
                    29.61216288563965,
                    29.767457952380667,
                    29.839142830272408,
                    29.91320622480104,
                    29.939108322329606,
                    29.843654721865782,
                    29.829217328848383,
                    29.98942058703726,
                    29.62036796658225,
                    29.802749964698695,
                    29.78279584701629,
                    29.861843391577022,
                    29.658091081069223,
                    29.669551147896126,
                    29.689135545292842,
                    29.972449422691017,
                    29.555391272263545,
                    29.873825141293207,
                    29.680744309839877,
                    29.541355375584168,
                    29.802198654155838,
                    29.982380607576488,
                    29.694501066698276,
                    29.828601333207775,
                    29.871310232783006,
                    29.84113019383948,
                    30.055334166094006,
                    29.71685986447409,
                    29.707583951111882,
                    29.84735012556578,
                    29.513401979252276,
                    29.871108489076956,
                    29.8648825668648,
                    29.90191757808598,
                    29.607590920707587,
                    29.790265178189383,
                    29.59331833558859,
                    29.97232598202711,
                    29.9045485172253,
                    29.542297978649195,
                    29.836205573552892,
                    29.881615924975147,
                    29.90844137775021,
                    29.9776420895128,
                    30.011002150040245,
                    29.662088674704066,
                    29.614536284167578,
                    29.811198564843032,
                    29.74178937368558,
                    29.783626137876333,
                    29.69645613466586,
                    29.794520808209857,
                    29.852238806480496,
                    29.774598474864536,
                    29.722949678471046,
                    29.760653078064827,
                    29.992379922912395,
                    29.908002547365207,
                    29.952173023319098,
                    29.791454381632192,
                    29.83007854101778,
                    29.698646446652713,
                    29.69453449478452,
                    29.69325037964325,
                    29.900271432993023,
                    29.54689021176452,
                    30.063311199623637,
                    29.754119963594533,
                    29.66291354502601,
                    29.913180705485345,
                    29.659397391456306,
                    29.802230915683683,
                    29.672008952413034,
                    29.77526618430478,
                    30.05923508208975,
                    30.086657701755897,
                    30.095478325550665,
                    29.893212805295683,
                    29.826185670366677,
                    29.904917574114272,
                    29.943331689704834,
                    29.668022244062684,
                    29.63989775355992,
                    29.874803536876616,
                    29.908188037314453,
                    29.897459383959454,
                    29.875883637689263,
                    29.68018130709308,
                    29.69628586317278,
                    29.861059480478396,
                    29.884221662538504,
                    29.638560660399882,
                    29.759869637730603,
                    29.672324807365428,
                    29.931791379681044,
                    29.875980853299712,
                    29.606069347816018,
                    29.59169027517113,
                    29.9766588232568,
                    29.932340938800294,
                    29.90646194578286,
                    29.717250027290852,
                    29.859374829580673,
                    29.703296473684983,
                    29.62858078672078,
                    29.778469377219654,
                    29.753434757084328,
                    29.821527526114185,
                    29.64159312859831,
                    29.87252394660398,
                    29.914222407313655,
                    29.564059166262684,
                    29.84234158991356,
                    29.71343937103334,
                    29.620089488348395,
                    29.895349682872908,
                    29.748868777145923,
                    29.706474509937408,
                    29.613914215878108,
                    29.912821255254066,
                    29.959645374002964,
                    29.794544053804795,
                    29.689839067645583,
                    29.725777106402358,
                    30.107503413042867,
                    29.777104071827676,
                    29.51460684722384,
                    29.601112622856842,
                    29.906032381327574,
                    29.87032225564185,
                    30.029937401340913,
                    29.96277014467234,
                    29.554477309092693,
                    29.740083965508003,
                    29.69460472250886,
                    29.912656484945067,
                    29.749382109175812,
                    29.92766363705718,
                    29.826732669089868,
                    29.650006959117327,
                    29.658940912981247,
                    29.986181757226657,
                    29.874666284310436,
                    29.934314756891784,
                    29.578167784306544,
                    29.57551409835022,
                    29.510493921288013,
                    30.00333270327909,
                    29.734106036411315,
                    29.586601406310557,
                    29.784946082720644,
                    29.89122303696572,
                    29.956082631654173,
                    29.681996955431078,
                    29.539528617595145,
                    29.983528114421592,
                    29.764383440184847,
                    29.70036203730383,
                    30.11856910262083,
                    29.678934324462574,
                    29.763016400717653,
                    29.809848388613702,
                    29.81983289202342,
                    29.946121687130727,
                    29.704740473081568,
                    29.788290699397727,
                    29.522189949251285,
                    30.072469875090952,
                    29.770143872857613,
                    29.660480008823818,
                    29.606161440684378,
                    29.659463052900318,
                    29.54128932177726,
                    29.617354392560284,
                    29.985755377888555,
                    29.807602727680294,
                    29.978606779035736,
                    29.84959908297266,
                    29.55351064601871,
                    29.791226061307004,
                    29.64971944043531,
                    29.879576653144948,
                    29.62323113424674,
                    29.685107933120044,
                    29.884179417634332,
                    29.678629013018746,
                    29.548996736231135,
                    29.614565264519587,
                    29.687783501334597,
                    29.51239567095784,
                    29.93640999415031,
                    29.718289109719404,
                    29.8041282530225,
                    29.77815528964907,
                    29.529913096020913
                  ],
                  "yaxis": "y"
                },
                {
                  "type": "scatter",
                  "x": [
                    151,
                    75,
                    141,
                    206,
                    135,
                    97,
                    138,
                    63,
                    110,
                    310,
                    101,
                    69,
                    179,
                    185,
                    118,
                    171,
                    166,
                    144,
                    97,
                    168,
                    68,
                    49,
                    68,
                    245,
                    184,
                    202,
                    137,
                    85,
                    131,
                    283,
                    129,
                    59,
                    341,
                    87,
                    65,
                    102,
                    265,
                    276,
                    252,
                    90,
                    100,
                    55,
                    61,
                    92,
                    259,
                    53,
                    190,
                    142,
                    75,
                    142,
                    155,
                    225,
                    59,
                    104,
                    182,
                    128,
                    52,
                    37,
                    170,
                    170,
                    61,
                    144,
                    52,
                    128,
                    71,
                    163,
                    150,
                    97,
                    160,
                    178,
                    48,
                    270,
                    202,
                    111,
                    85,
                    42,
                    170,
                    200,
                    252,
                    113,
                    143,
                    51,
                    52,
                    210,
                    65,
                    141,
                    55,
                    134,
                    42,
                    111,
                    98,
                    164,
                    48,
                    96,
                    90,
                    162,
                    150,
                    279,
                    92,
                    83,
                    128,
                    102,
                    302,
                    198,
                    95,
                    53,
                    134,
                    144,
                    232,
                    81,
                    104,
                    59,
                    246,
                    297,
                    258,
                    229,
                    275,
                    281,
                    179,
                    200,
                    200,
                    173,
                    180,
                    84,
                    121,
                    161,
                    99,
                    109,
                    115,
                    268,
                    274,
                    158,
                    107,
                    83,
                    103,
                    272,
                    85,
                    280,
                    336,
                    281,
                    118,
                    317,
                    235,
                    60,
                    174,
                    259,
                    178,
                    128,
                    96,
                    126,
                    288,
                    88,
                    292,
                    71,
                    197,
                    186,
                    25,
                    84,
                    96,
                    195,
                    53,
                    217,
                    172,
                    131,
                    214,
                    59,
                    70,
                    220,
                    268,
                    152,
                    47,
                    74,
                    295,
                    101,
                    151,
                    127,
                    237,
                    225,
                    81,
                    151,
                    107,
                    64,
                    138,
                    185,
                    265,
                    101,
                    137,
                    143,
                    141,
                    79,
                    292,
                    178,
                    91,
                    116,
                    86,
                    122,
                    72,
                    129,
                    142,
                    90,
                    158,
                    39,
                    196,
                    222,
                    277,
                    99,
                    196,
                    202,
                    155,
                    77,
                    191,
                    70,
                    73,
                    49,
                    65,
                    263,
                    248,
                    296,
                    214,
                    185,
                    78,
                    93,
                    252,
                    150,
                    77,
                    208,
                    77,
                    108,
                    160,
                    53,
                    220,
                    154,
                    259,
                    90,
                    246,
                    124,
                    67,
                    72,
                    257,
                    262,
                    275,
                    177,
                    71,
                    47,
                    187,
                    125,
                    78,
                    51,
                    258,
                    215,
                    303,
                    243,
                    91,
                    150,
                    310,
                    153,
                    346,
                    63,
                    89,
                    50,
                    39,
                    103,
                    308,
                    116,
                    145,
                    74,
                    45,
                    115,
                    264,
                    87,
                    202,
                    127,
                    182,
                    241,
                    66,
                    94,
                    283,
                    64,
                    102,
                    200,
                    265,
                    94,
                    230,
                    181,
                    156,
                    233,
                    60,
                    219,
                    80,
                    68,
                    332,
                    248,
                    84,
                    200,
                    55,
                    85,
                    89,
                    31,
                    129,
                    83,
                    275,
                    65,
                    198,
                    236,
                    253,
                    124,
                    44,
                    172,
                    114,
                    142,
                    109,
                    180,
                    144,
                    163,
                    147,
                    97,
                    220,
                    190,
                    109,
                    191,
                    122,
                    230,
                    242,
                    248,
                    249,
                    192,
                    131,
                    237,
                    78,
                    135,
                    244,
                    199,
                    270,
                    164,
                    72,
                    96,
                    306,
                    91,
                    214,
                    95,
                    216,
                    263,
                    178,
                    113,
                    200,
                    139,
                    139,
                    88,
                    148,
                    88,
                    243,
                    71,
                    77,
                    109,
                    272,
                    60,
                    54,
                    221,
                    90,
                    311,
                    281,
                    182,
                    321,
                    58,
                    262,
                    206,
                    233,
                    242,
                    123,
                    167,
                    63,
                    197,
                    71,
                    168,
                    140,
                    217,
                    121,
                    235,
                    245,
                    40,
                    52,
                    104,
                    132,
                    88,
                    69,
                    219,
                    72,
                    201,
                    110,
                    51,
                    277,
                    63,
                    118,
                    69,
                    273,
                    258,
                    43,
                    198,
                    242,
                    232,
                    175,
                    93,
                    168,
                    275,
                    293,
                    281,
                    72,
                    140,
                    189,
                    181,
                    209,
                    136,
                    261,
                    113,
                    131,
                    174,
                    257,
                    55,
                    84,
                    42,
                    146,
                    212,
                    233,
                    91,
                    111,
                    152,
                    120,
                    67,
                    310,
                    94,
                    183,
                    66,
                    173,
                    72,
                    49,
                    64,
                    48,
                    178,
                    104,
                    132,
                    220,
                    57
                  ],
                  "y": [
                    151,
                    75,
                    141,
                    206,
                    135,
                    97,
                    138,
                    63,
                    110,
                    310,
                    101,
                    69,
                    179,
                    185,
                    118,
                    171,
                    166,
                    144,
                    97,
                    168,
                    68,
                    49,
                    68,
                    245,
                    184,
                    202,
                    137,
                    85,
                    131,
                    283,
                    129,
                    59,
                    341,
                    87,
                    65,
                    102,
                    265,
                    276,
                    252,
                    90,
                    100,
                    55,
                    61,
                    92,
                    259,
                    53,
                    190,
                    142,
                    75,
                    142,
                    155,
                    225,
                    59,
                    104,
                    182,
                    128,
                    52,
                    37,
                    170,
                    170,
                    61,
                    144,
                    52,
                    128,
                    71,
                    163,
                    150,
                    97,
                    160,
                    178,
                    48,
                    270,
                    202,
                    111,
                    85,
                    42,
                    170,
                    200,
                    252,
                    113,
                    143,
                    51,
                    52,
                    210,
                    65,
                    141,
                    55,
                    134,
                    42,
                    111,
                    98,
                    164,
                    48,
                    96,
                    90,
                    162,
                    150,
                    279,
                    92,
                    83,
                    128,
                    102,
                    302,
                    198,
                    95,
                    53,
                    134,
                    144,
                    232,
                    81,
                    104,
                    59,
                    246,
                    297,
                    258,
                    229,
                    275,
                    281,
                    179,
                    200,
                    200,
                    173,
                    180,
                    84,
                    121,
                    161,
                    99,
                    109,
                    115,
                    268,
                    274,
                    158,
                    107,
                    83,
                    103,
                    272,
                    85,
                    280,
                    336,
                    281,
                    118,
                    317,
                    235,
                    60,
                    174,
                    259,
                    178,
                    128,
                    96,
                    126,
                    288,
                    88,
                    292,
                    71,
                    197,
                    186,
                    25,
                    84,
                    96,
                    195,
                    53,
                    217,
                    172,
                    131,
                    214,
                    59,
                    70,
                    220,
                    268,
                    152,
                    47,
                    74,
                    295,
                    101,
                    151,
                    127,
                    237,
                    225,
                    81,
                    151,
                    107,
                    64,
                    138,
                    185,
                    265,
                    101,
                    137,
                    143,
                    141,
                    79,
                    292,
                    178,
                    91,
                    116,
                    86,
                    122,
                    72,
                    129,
                    142,
                    90,
                    158,
                    39,
                    196,
                    222,
                    277,
                    99,
                    196,
                    202,
                    155,
                    77,
                    191,
                    70,
                    73,
                    49,
                    65,
                    263,
                    248,
                    296,
                    214,
                    185,
                    78,
                    93,
                    252,
                    150,
                    77,
                    208,
                    77,
                    108,
                    160,
                    53,
                    220,
                    154,
                    259,
                    90,
                    246,
                    124,
                    67,
                    72,
                    257,
                    262,
                    275,
                    177,
                    71,
                    47,
                    187,
                    125,
                    78,
                    51,
                    258,
                    215,
                    303,
                    243,
                    91,
                    150,
                    310,
                    153,
                    346,
                    63,
                    89,
                    50,
                    39,
                    103,
                    308,
                    116,
                    145,
                    74,
                    45,
                    115,
                    264,
                    87,
                    202,
                    127,
                    182,
                    241,
                    66,
                    94,
                    283,
                    64,
                    102,
                    200,
                    265,
                    94,
                    230,
                    181,
                    156,
                    233,
                    60,
                    219,
                    80,
                    68,
                    332,
                    248,
                    84,
                    200,
                    55,
                    85,
                    89,
                    31,
                    129,
                    83,
                    275,
                    65,
                    198,
                    236,
                    253,
                    124,
                    44,
                    172,
                    114,
                    142,
                    109,
                    180,
                    144,
                    163,
                    147,
                    97,
                    220,
                    190,
                    109,
                    191,
                    122,
                    230,
                    242,
                    248,
                    249,
                    192,
                    131,
                    237,
                    78,
                    135,
                    244,
                    199,
                    270,
                    164,
                    72,
                    96,
                    306,
                    91,
                    214,
                    95,
                    216,
                    263,
                    178,
                    113,
                    200,
                    139,
                    139,
                    88,
                    148,
                    88,
                    243,
                    71,
                    77,
                    109,
                    272,
                    60,
                    54,
                    221,
                    90,
                    311,
                    281,
                    182,
                    321,
                    58,
                    262,
                    206,
                    233,
                    242,
                    123,
                    167,
                    63,
                    197,
                    71,
                    168,
                    140,
                    217,
                    121,
                    235,
                    245,
                    40,
                    52,
                    104,
                    132,
                    88,
                    69,
                    219,
                    72,
                    201,
                    110,
                    51,
                    277,
                    63,
                    118,
                    69,
                    273,
                    258,
                    43,
                    198,
                    242,
                    232,
                    175,
                    93,
                    168,
                    275,
                    293,
                    281,
                    72,
                    140,
                    189,
                    181,
                    209,
                    136,
                    261,
                    113,
                    131,
                    174,
                    257,
                    55,
                    84,
                    42,
                    146,
                    212,
                    233,
                    91,
                    111,
                    152,
                    120,
                    67,
                    310,
                    94,
                    183,
                    66,
                    173,
                    72,
                    49,
                    64,
                    48,
                    178,
                    104,
                    132,
                    220,
                    57
                  ]
                }
              ],
              "layout": {
                "legend": {
                  "tracegroupgap": 0
                },
                "margin": {
                  "t": 60
                },
                "template": {
                  "data": {
                    "bar": [
                      {
                        "error_x": {
                          "color": "#2a3f5f"
                        },
                        "error_y": {
                          "color": "#2a3f5f"
                        },
                        "marker": {
                          "line": {
                            "color": "#E5ECF6",
                            "width": 0.5
                          },
                          "pattern": {
                            "fillmode": "overlay",
                            "size": 10,
                            "solidity": 0.2
                          }
                        },
                        "type": "bar"
                      }
                    ],
                    "barpolar": [
                      {
                        "marker": {
                          "line": {
                            "color": "#E5ECF6",
                            "width": 0.5
                          },
                          "pattern": {
                            "fillmode": "overlay",
                            "size": 10,
                            "solidity": 0.2
                          }
                        },
                        "type": "barpolar"
                      }
                    ],
                    "carpet": [
                      {
                        "aaxis": {
                          "endlinecolor": "#2a3f5f",
                          "gridcolor": "white",
                          "linecolor": "white",
                          "minorgridcolor": "white",
                          "startlinecolor": "#2a3f5f"
                        },
                        "baxis": {
                          "endlinecolor": "#2a3f5f",
                          "gridcolor": "white",
                          "linecolor": "white",
                          "minorgridcolor": "white",
                          "startlinecolor": "#2a3f5f"
                        },
                        "type": "carpet"
                      }
                    ],
                    "choropleth": [
                      {
                        "colorbar": {
                          "outlinewidth": 0,
                          "ticks": ""
                        },
                        "type": "choropleth"
                      }
                    ],
                    "contour": [
                      {
                        "colorbar": {
                          "outlinewidth": 0,
                          "ticks": ""
                        },
                        "colorscale": [
                          [
                            0,
                            "#0d0887"
                          ],
                          [
                            0.1111111111111111,
                            "#46039f"
                          ],
                          [
                            0.2222222222222222,
                            "#7201a8"
                          ],
                          [
                            0.3333333333333333,
                            "#9c179e"
                          ],
                          [
                            0.4444444444444444,
                            "#bd3786"
                          ],
                          [
                            0.5555555555555556,
                            "#d8576b"
                          ],
                          [
                            0.6666666666666666,
                            "#ed7953"
                          ],
                          [
                            0.7777777777777778,
                            "#fb9f3a"
                          ],
                          [
                            0.8888888888888888,
                            "#fdca26"
                          ],
                          [
                            1,
                            "#f0f921"
                          ]
                        ],
                        "type": "contour"
                      }
                    ],
                    "contourcarpet": [
                      {
                        "colorbar": {
                          "outlinewidth": 0,
                          "ticks": ""
                        },
                        "type": "contourcarpet"
                      }
                    ],
                    "heatmap": [
                      {
                        "colorbar": {
                          "outlinewidth": 0,
                          "ticks": ""
                        },
                        "colorscale": [
                          [
                            0,
                            "#0d0887"
                          ],
                          [
                            0.1111111111111111,
                            "#46039f"
                          ],
                          [
                            0.2222222222222222,
                            "#7201a8"
                          ],
                          [
                            0.3333333333333333,
                            "#9c179e"
                          ],
                          [
                            0.4444444444444444,
                            "#bd3786"
                          ],
                          [
                            0.5555555555555556,
                            "#d8576b"
                          ],
                          [
                            0.6666666666666666,
                            "#ed7953"
                          ],
                          [
                            0.7777777777777778,
                            "#fb9f3a"
                          ],
                          [
                            0.8888888888888888,
                            "#fdca26"
                          ],
                          [
                            1,
                            "#f0f921"
                          ]
                        ],
                        "type": "heatmap"
                      }
                    ],
                    "heatmapgl": [
                      {
                        "colorbar": {
                          "outlinewidth": 0,
                          "ticks": ""
                        },
                        "colorscale": [
                          [
                            0,
                            "#0d0887"
                          ],
                          [
                            0.1111111111111111,
                            "#46039f"
                          ],
                          [
                            0.2222222222222222,
                            "#7201a8"
                          ],
                          [
                            0.3333333333333333,
                            "#9c179e"
                          ],
                          [
                            0.4444444444444444,
                            "#bd3786"
                          ],
                          [
                            0.5555555555555556,
                            "#d8576b"
                          ],
                          [
                            0.6666666666666666,
                            "#ed7953"
                          ],
                          [
                            0.7777777777777778,
                            "#fb9f3a"
                          ],
                          [
                            0.8888888888888888,
                            "#fdca26"
                          ],
                          [
                            1,
                            "#f0f921"
                          ]
                        ],
                        "type": "heatmapgl"
                      }
                    ],
                    "histogram": [
                      {
                        "marker": {
                          "pattern": {
                            "fillmode": "overlay",
                            "size": 10,
                            "solidity": 0.2
                          }
                        },
                        "type": "histogram"
                      }
                    ],
                    "histogram2d": [
                      {
                        "colorbar": {
                          "outlinewidth": 0,
                          "ticks": ""
                        },
                        "colorscale": [
                          [
                            0,
                            "#0d0887"
                          ],
                          [
                            0.1111111111111111,
                            "#46039f"
                          ],
                          [
                            0.2222222222222222,
                            "#7201a8"
                          ],
                          [
                            0.3333333333333333,
                            "#9c179e"
                          ],
                          [
                            0.4444444444444444,
                            "#bd3786"
                          ],
                          [
                            0.5555555555555556,
                            "#d8576b"
                          ],
                          [
                            0.6666666666666666,
                            "#ed7953"
                          ],
                          [
                            0.7777777777777778,
                            "#fb9f3a"
                          ],
                          [
                            0.8888888888888888,
                            "#fdca26"
                          ],
                          [
                            1,
                            "#f0f921"
                          ]
                        ],
                        "type": "histogram2d"
                      }
                    ],
                    "histogram2dcontour": [
                      {
                        "colorbar": {
                          "outlinewidth": 0,
                          "ticks": ""
                        },
                        "colorscale": [
                          [
                            0,
                            "#0d0887"
                          ],
                          [
                            0.1111111111111111,
                            "#46039f"
                          ],
                          [
                            0.2222222222222222,
                            "#7201a8"
                          ],
                          [
                            0.3333333333333333,
                            "#9c179e"
                          ],
                          [
                            0.4444444444444444,
                            "#bd3786"
                          ],
                          [
                            0.5555555555555556,
                            "#d8576b"
                          ],
                          [
                            0.6666666666666666,
                            "#ed7953"
                          ],
                          [
                            0.7777777777777778,
                            "#fb9f3a"
                          ],
                          [
                            0.8888888888888888,
                            "#fdca26"
                          ],
                          [
                            1,
                            "#f0f921"
                          ]
                        ],
                        "type": "histogram2dcontour"
                      }
                    ],
                    "mesh3d": [
                      {
                        "colorbar": {
                          "outlinewidth": 0,
                          "ticks": ""
                        },
                        "type": "mesh3d"
                      }
                    ],
                    "parcoords": [
                      {
                        "line": {
                          "colorbar": {
                            "outlinewidth": 0,
                            "ticks": ""
                          }
                        },
                        "type": "parcoords"
                      }
                    ],
                    "pie": [
                      {
                        "automargin": true,
                        "type": "pie"
                      }
                    ],
                    "scatter": [
                      {
                        "fillpattern": {
                          "fillmode": "overlay",
                          "size": 10,
                          "solidity": 0.2
                        },
                        "type": "scatter"
                      }
                    ],
                    "scatter3d": [
                      {
                        "line": {
                          "colorbar": {
                            "outlinewidth": 0,
                            "ticks": ""
                          }
                        },
                        "marker": {
                          "colorbar": {
                            "outlinewidth": 0,
                            "ticks": ""
                          }
                        },
                        "type": "scatter3d"
                      }
                    ],
                    "scattercarpet": [
                      {
                        "marker": {
                          "colorbar": {
                            "outlinewidth": 0,
                            "ticks": ""
                          }
                        },
                        "type": "scattercarpet"
                      }
                    ],
                    "scattergeo": [
                      {
                        "marker": {
                          "colorbar": {
                            "outlinewidth": 0,
                            "ticks": ""
                          }
                        },
                        "type": "scattergeo"
                      }
                    ],
                    "scattergl": [
                      {
                        "marker": {
                          "colorbar": {
                            "outlinewidth": 0,
                            "ticks": ""
                          }
                        },
                        "type": "scattergl"
                      }
                    ],
                    "scattermapbox": [
                      {
                        "marker": {
                          "colorbar": {
                            "outlinewidth": 0,
                            "ticks": ""
                          }
                        },
                        "type": "scattermapbox"
                      }
                    ],
                    "scatterpolar": [
                      {
                        "marker": {
                          "colorbar": {
                            "outlinewidth": 0,
                            "ticks": ""
                          }
                        },
                        "type": "scatterpolar"
                      }
                    ],
                    "scatterpolargl": [
                      {
                        "marker": {
                          "colorbar": {
                            "outlinewidth": 0,
                            "ticks": ""
                          }
                        },
                        "type": "scatterpolargl"
                      }
                    ],
                    "scatterternary": [
                      {
                        "marker": {
                          "colorbar": {
                            "outlinewidth": 0,
                            "ticks": ""
                          }
                        },
                        "type": "scatterternary"
                      }
                    ],
                    "surface": [
                      {
                        "colorbar": {
                          "outlinewidth": 0,
                          "ticks": ""
                        },
                        "colorscale": [
                          [
                            0,
                            "#0d0887"
                          ],
                          [
                            0.1111111111111111,
                            "#46039f"
                          ],
                          [
                            0.2222222222222222,
                            "#7201a8"
                          ],
                          [
                            0.3333333333333333,
                            "#9c179e"
                          ],
                          [
                            0.4444444444444444,
                            "#bd3786"
                          ],
                          [
                            0.5555555555555556,
                            "#d8576b"
                          ],
                          [
                            0.6666666666666666,
                            "#ed7953"
                          ],
                          [
                            0.7777777777777778,
                            "#fb9f3a"
                          ],
                          [
                            0.8888888888888888,
                            "#fdca26"
                          ],
                          [
                            1,
                            "#f0f921"
                          ]
                        ],
                        "type": "surface"
                      }
                    ],
                    "table": [
                      {
                        "cells": {
                          "fill": {
                            "color": "#EBF0F8"
                          },
                          "line": {
                            "color": "white"
                          }
                        },
                        "header": {
                          "fill": {
                            "color": "#C8D4E3"
                          },
                          "line": {
                            "color": "white"
                          }
                        },
                        "type": "table"
                      }
                    ]
                  },
                  "layout": {
                    "annotationdefaults": {
                      "arrowcolor": "#2a3f5f",
                      "arrowhead": 0,
                      "arrowwidth": 1
                    },
                    "autotypenumbers": "strict",
                    "coloraxis": {
                      "colorbar": {
                        "outlinewidth": 0,
                        "ticks": ""
                      }
                    },
                    "colorscale": {
                      "diverging": [
                        [
                          0,
                          "#8e0152"
                        ],
                        [
                          0.1,
                          "#c51b7d"
                        ],
                        [
                          0.2,
                          "#de77ae"
                        ],
                        [
                          0.3,
                          "#f1b6da"
                        ],
                        [
                          0.4,
                          "#fde0ef"
                        ],
                        [
                          0.5,
                          "#f7f7f7"
                        ],
                        [
                          0.6,
                          "#e6f5d0"
                        ],
                        [
                          0.7,
                          "#b8e186"
                        ],
                        [
                          0.8,
                          "#7fbc41"
                        ],
                        [
                          0.9,
                          "#4d9221"
                        ],
                        [
                          1,
                          "#276419"
                        ]
                      ],
                      "sequential": [
                        [
                          0,
                          "#0d0887"
                        ],
                        [
                          0.1111111111111111,
                          "#46039f"
                        ],
                        [
                          0.2222222222222222,
                          "#7201a8"
                        ],
                        [
                          0.3333333333333333,
                          "#9c179e"
                        ],
                        [
                          0.4444444444444444,
                          "#bd3786"
                        ],
                        [
                          0.5555555555555556,
                          "#d8576b"
                        ],
                        [
                          0.6666666666666666,
                          "#ed7953"
                        ],
                        [
                          0.7777777777777778,
                          "#fb9f3a"
                        ],
                        [
                          0.8888888888888888,
                          "#fdca26"
                        ],
                        [
                          1,
                          "#f0f921"
                        ]
                      ],
                      "sequentialminus": [
                        [
                          0,
                          "#0d0887"
                        ],
                        [
                          0.1111111111111111,
                          "#46039f"
                        ],
                        [
                          0.2222222222222222,
                          "#7201a8"
                        ],
                        [
                          0.3333333333333333,
                          "#9c179e"
                        ],
                        [
                          0.4444444444444444,
                          "#bd3786"
                        ],
                        [
                          0.5555555555555556,
                          "#d8576b"
                        ],
                        [
                          0.6666666666666666,
                          "#ed7953"
                        ],
                        [
                          0.7777777777777778,
                          "#fb9f3a"
                        ],
                        [
                          0.8888888888888888,
                          "#fdca26"
                        ],
                        [
                          1,
                          "#f0f921"
                        ]
                      ]
                    },
                    "colorway": [
                      "#636efa",
                      "#EF553B",
                      "#00cc96",
                      "#ab63fa",
                      "#FFA15A",
                      "#19d3f3",
                      "#FF6692",
                      "#B6E880",
                      "#FF97FF",
                      "#FECB52"
                    ],
                    "font": {
                      "color": "#2a3f5f"
                    },
                    "geo": {
                      "bgcolor": "white",
                      "lakecolor": "white",
                      "landcolor": "#E5ECF6",
                      "showlakes": true,
                      "showland": true,
                      "subunitcolor": "white"
                    },
                    "hoverlabel": {
                      "align": "left"
                    },
                    "hovermode": "closest",
                    "mapbox": {
                      "style": "light"
                    },
                    "paper_bgcolor": "white",
                    "plot_bgcolor": "#E5ECF6",
                    "polar": {
                      "angularaxis": {
                        "gridcolor": "white",
                        "linecolor": "white",
                        "ticks": ""
                      },
                      "bgcolor": "#E5ECF6",
                      "radialaxis": {
                        "gridcolor": "white",
                        "linecolor": "white",
                        "ticks": ""
                      }
                    },
                    "scene": {
                      "xaxis": {
                        "backgroundcolor": "#E5ECF6",
                        "gridcolor": "white",
                        "gridwidth": 2,
                        "linecolor": "white",
                        "showbackground": true,
                        "ticks": "",
                        "zerolinecolor": "white"
                      },
                      "yaxis": {
                        "backgroundcolor": "#E5ECF6",
                        "gridcolor": "white",
                        "gridwidth": 2,
                        "linecolor": "white",
                        "showbackground": true,
                        "ticks": "",
                        "zerolinecolor": "white"
                      },
                      "zaxis": {
                        "backgroundcolor": "#E5ECF6",
                        "gridcolor": "white",
                        "gridwidth": 2,
                        "linecolor": "white",
                        "showbackground": true,
                        "ticks": "",
                        "zerolinecolor": "white"
                      }
                    },
                    "shapedefaults": {
                      "line": {
                        "color": "#2a3f5f"
                      }
                    },
                    "ternary": {
                      "aaxis": {
                        "gridcolor": "white",
                        "linecolor": "white",
                        "ticks": ""
                      },
                      "baxis": {
                        "gridcolor": "white",
                        "linecolor": "white",
                        "ticks": ""
                      },
                      "bgcolor": "#E5ECF6",
                      "caxis": {
                        "gridcolor": "white",
                        "linecolor": "white",
                        "ticks": ""
                      }
                    },
                    "title": {
                      "x": 0.05
                    },
                    "xaxis": {
                      "automargin": true,
                      "gridcolor": "white",
                      "linecolor": "white",
                      "ticks": "",
                      "title": {
                        "standoff": 15
                      },
                      "zerolinecolor": "white",
                      "zerolinewidth": 2
                    },
                    "yaxis": {
                      "automargin": true,
                      "gridcolor": "white",
                      "linecolor": "white",
                      "ticks": "",
                      "title": {
                        "standoff": 15
                      },
                      "zerolinecolor": "white",
                      "zerolinewidth": 2
                    }
                  }
                },
                "xaxis": {
                  "anchor": "y",
                  "domain": [
                    0,
                    1
                  ],
                  "title": {
                    "text": "x"
                  }
                },
                "yaxis": {
                  "anchor": "x",
                  "domain": [
                    0,
                    1
                  ],
                  "title": {
                    "text": "y"
                  }
                }
              }
            }
          },
          "metadata": {},
          "output_type": "display_data"
        }
      ],
      "source": [
        "fig = px.scatter(x=y, y=model(diabetes_data))     # \n",
        "fig.add_scatter(x=y, y=y)                         # rouge parfaite\n",
        "fig.show()"
      ]
    },
    {
      "cell_type": "markdown",
      "metadata": {
        "id": "JaI_Zm-w0gxW"
      },
      "source": [
        "We notice the predictions got a little closer to our real data\n",
        "* Recalculate your MSE"
      ]
    },
    {
      "cell_type": "code",
      "execution_count": 332,
      "metadata": {},
      "outputs": [
        {
          "name": "stdout",
          "output_type": "stream",
          "text": [
            "20894.226165988213\n"
          ]
        }
      ],
      "source": [
        "print(mse(model(diabetes_data), y))\n"
      ]
    },
    {
      "cell_type": "code",
      "execution_count": null,
      "metadata": {
        "colab": {
          "base_uri": "https://localhost:8080/"
        },
        "id": "tz-ZBUTh0ixs",
        "outputId": "55193565-fbf3-495e-a849-c20b403e723a"
      },
      "outputs": [],
      "source": []
    },
    {
      "cell_type": "markdown",
      "metadata": {
        "id": "cCOgW_6N0nvt"
      },
      "source": [
        "* Our MSE has dropped a lot! This is good news but the process of gradient descent is iterative. So you'll have to do it several times before arriving at accurate predictions. \n",
        "  * By making a loop, try to repeat the process from above 10,000 times. \n",
        "  * Display every 1000 epochs: mse, model.beta & model.beta_0 "
      ]
    },
    {
      "cell_type": "code",
      "execution_count": 333,
      "metadata": {},
      "outputs": [
        {
          "name": "stdout",
          "output_type": "stream",
          "text": [
            "epoch : 0 mse = 15496.069\n",
            "[ 1.8  1.2  1.3  0.5  0.5 -0.3 -0.3  1.2  1.3 -1.3]\n",
            "\n",
            "epoch : 1000 mse = 3407.307\n",
            "[  49.3  -32.3  259.6  180.8   36.3   10.1 -148.1  134.5  230.1  127.2]\n",
            "\n",
            "epoch : 2000 mse = 3079.412\n",
            "[  38.9  -93.8  368.4  243.7    7.2  -37.3 -186.   143.9  312.4  142.5]\n",
            "\n",
            "epoch : 3000 mse = 2965.906\n",
            "[  24.8 -141.9  428.3  274.3  -17.   -72.8 -199.1  137.9  357.2  136.5]\n",
            "\n",
            "epoch : 4000 mse = 2919.212\n",
            "[  14.1 -175.2  464.8  291.8  -32.2  -94.5 -204.5  132.3  386.7  126.6]\n",
            "\n",
            "epoch : 5000 mse = 2899.015\n",
            "[   6.8 -197.5  487.8  302.5  -41.6 -106.8 -206.9  128.3  407.6  116.6]\n",
            "\n",
            "epoch : 6000 mse = 2889.886\n",
            "[   2.  -212.1  502.5  309.3  -47.7 -113.5 -207.9  125.5  422.9  107.7]\n",
            "\n",
            "epoch : 7000 mse = 2885.547\n",
            "[  -1.2 -221.5  512.   313.7  -52.1 -116.7 -208.   123.4  434.3  100.1]\n",
            "\n",
            "epoch : 8000 mse = 2883.356\n",
            "[  -3.2 -227.6  518.1  316.5  -55.6 -117.9 -207.8  121.9  443.    93.9]\n",
            "\n",
            "epoch : 9000 mse = 2882.163\n",
            "[  -4.5 -231.4  522.   318.4  -58.6 -117.7 -207.4  120.6  449.8   88.8]\n",
            "\n"
          ]
        }
      ],
      "source": [
        "learning_rate = 0.1\n",
        "\n",
        "for i in range(10_000):\n",
        "  model.beta_0  -= learning_rate * derivative_mse_beta_0(model(diabetes_data), y)\n",
        "  model.beta    -= learning_rate * derivative_mse_beta(model(diabetes_data), y, diabetes_data)\n",
        "  if(i%1000 == 0):\n",
        "    print(f\"epoch : {i} mse = {mse(model(diabetes_data), y):.3f}\")\n",
        "    # print(f\"y = {model.beta:0.3f} x  + {model.beta_0:0.3f} \")\n",
        "    print(model.beta.round(1))\n",
        "    print()"
      ]
    },
    {
      "cell_type": "markdown",
      "metadata": {
        "id": "eeXT-MEa1nGD"
      },
      "source": [
        "* Using `plotly`, view your model and actual values again"
      ]
    },
    {
      "cell_type": "code",
      "execution_count": 334,
      "metadata": {
        "colab": {
          "base_uri": "https://localhost:8080/",
          "height": 542
        },
        "id": "W-yIcFsltoDJ",
        "outputId": "72d63ec8-8f34-4cd7-d47a-1d45a586b52b"
      },
      "outputs": [
        {
          "data": {
            "application/vnd.plotly.v1+json": {
              "config": {
                "plotlyServerURL": "https://plot.ly"
              },
              "data": [
                {
                  "hovertemplate": "x=%{x}<br>y=%{y}<extra></extra>",
                  "legendgroup": "",
                  "marker": {
                    "color": "#636efa",
                    "symbol": "circle"
                  },
                  "mode": "markers",
                  "name": "",
                  "orientation": "v",
                  "showlegend": false,
                  "type": "scatter",
                  "x": [
                    151,
                    75,
                    141,
                    206,
                    135,
                    97,
                    138,
                    63,
                    110,
                    310,
                    101,
                    69,
                    179,
                    185,
                    118,
                    171,
                    166,
                    144,
                    97,
                    168,
                    68,
                    49,
                    68,
                    245,
                    184,
                    202,
                    137,
                    85,
                    131,
                    283,
                    129,
                    59,
                    341,
                    87,
                    65,
                    102,
                    265,
                    276,
                    252,
                    90,
                    100,
                    55,
                    61,
                    92,
                    259,
                    53,
                    190,
                    142,
                    75,
                    142,
                    155,
                    225,
                    59,
                    104,
                    182,
                    128,
                    52,
                    37,
                    170,
                    170,
                    61,
                    144,
                    52,
                    128,
                    71,
                    163,
                    150,
                    97,
                    160,
                    178,
                    48,
                    270,
                    202,
                    111,
                    85,
                    42,
                    170,
                    200,
                    252,
                    113,
                    143,
                    51,
                    52,
                    210,
                    65,
                    141,
                    55,
                    134,
                    42,
                    111,
                    98,
                    164,
                    48,
                    96,
                    90,
                    162,
                    150,
                    279,
                    92,
                    83,
                    128,
                    102,
                    302,
                    198,
                    95,
                    53,
                    134,
                    144,
                    232,
                    81,
                    104,
                    59,
                    246,
                    297,
                    258,
                    229,
                    275,
                    281,
                    179,
                    200,
                    200,
                    173,
                    180,
                    84,
                    121,
                    161,
                    99,
                    109,
                    115,
                    268,
                    274,
                    158,
                    107,
                    83,
                    103,
                    272,
                    85,
                    280,
                    336,
                    281,
                    118,
                    317,
                    235,
                    60,
                    174,
                    259,
                    178,
                    128,
                    96,
                    126,
                    288,
                    88,
                    292,
                    71,
                    197,
                    186,
                    25,
                    84,
                    96,
                    195,
                    53,
                    217,
                    172,
                    131,
                    214,
                    59,
                    70,
                    220,
                    268,
                    152,
                    47,
                    74,
                    295,
                    101,
                    151,
                    127,
                    237,
                    225,
                    81,
                    151,
                    107,
                    64,
                    138,
                    185,
                    265,
                    101,
                    137,
                    143,
                    141,
                    79,
                    292,
                    178,
                    91,
                    116,
                    86,
                    122,
                    72,
                    129,
                    142,
                    90,
                    158,
                    39,
                    196,
                    222,
                    277,
                    99,
                    196,
                    202,
                    155,
                    77,
                    191,
                    70,
                    73,
                    49,
                    65,
                    263,
                    248,
                    296,
                    214,
                    185,
                    78,
                    93,
                    252,
                    150,
                    77,
                    208,
                    77,
                    108,
                    160,
                    53,
                    220,
                    154,
                    259,
                    90,
                    246,
                    124,
                    67,
                    72,
                    257,
                    262,
                    275,
                    177,
                    71,
                    47,
                    187,
                    125,
                    78,
                    51,
                    258,
                    215,
                    303,
                    243,
                    91,
                    150,
                    310,
                    153,
                    346,
                    63,
                    89,
                    50,
                    39,
                    103,
                    308,
                    116,
                    145,
                    74,
                    45,
                    115,
                    264,
                    87,
                    202,
                    127,
                    182,
                    241,
                    66,
                    94,
                    283,
                    64,
                    102,
                    200,
                    265,
                    94,
                    230,
                    181,
                    156,
                    233,
                    60,
                    219,
                    80,
                    68,
                    332,
                    248,
                    84,
                    200,
                    55,
                    85,
                    89,
                    31,
                    129,
                    83,
                    275,
                    65,
                    198,
                    236,
                    253,
                    124,
                    44,
                    172,
                    114,
                    142,
                    109,
                    180,
                    144,
                    163,
                    147,
                    97,
                    220,
                    190,
                    109,
                    191,
                    122,
                    230,
                    242,
                    248,
                    249,
                    192,
                    131,
                    237,
                    78,
                    135,
                    244,
                    199,
                    270,
                    164,
                    72,
                    96,
                    306,
                    91,
                    214,
                    95,
                    216,
                    263,
                    178,
                    113,
                    200,
                    139,
                    139,
                    88,
                    148,
                    88,
                    243,
                    71,
                    77,
                    109,
                    272,
                    60,
                    54,
                    221,
                    90,
                    311,
                    281,
                    182,
                    321,
                    58,
                    262,
                    206,
                    233,
                    242,
                    123,
                    167,
                    63,
                    197,
                    71,
                    168,
                    140,
                    217,
                    121,
                    235,
                    245,
                    40,
                    52,
                    104,
                    132,
                    88,
                    69,
                    219,
                    72,
                    201,
                    110,
                    51,
                    277,
                    63,
                    118,
                    69,
                    273,
                    258,
                    43,
                    198,
                    242,
                    232,
                    175,
                    93,
                    168,
                    275,
                    293,
                    281,
                    72,
                    140,
                    189,
                    181,
                    209,
                    136,
                    261,
                    113,
                    131,
                    174,
                    257,
                    55,
                    84,
                    42,
                    146,
                    212,
                    233,
                    91,
                    111,
                    152,
                    120,
                    67,
                    310,
                    94,
                    183,
                    66,
                    173,
                    72,
                    49,
                    64,
                    48,
                    178,
                    104,
                    132,
                    220,
                    57
                  ],
                  "xaxis": "x",
                  "y": [
                    202.455436975576,
                    70.88944372431973,
                    173.61729157155736,
                    162.6608913969887,
                    127.87780809272684,
                    104.42004045328247,
                    79.26114292910827,
                    123.31876189970689,
                    159.5134312663879,
                    212.16878349349054,
                    100.84862883624754,
                    106.92326424564428,
                    114.2310890683855,
                    160.57815345705976,
                    101.19986749233739,
                    172.69373773892212,
                    207.914888455808,
                    181.07608664101738,
                    145.9823491825465,
                    120.70388976748723,
                    117.9501052719136,
                    92.50915009363396,
                    118.81920484548601,
                    277.61672800920155,
                    163.04067830771044,
                    143.5363974412075,
                    96.4464941730258,
                    177.79913517312218,
                    125.85742460572368,
                    182.27486852385408,
                    158.8870131164323,
                    68.97611935070418,
                    256.3975794964028,
                    106.83073261452024,
                    81.02703336124254,
                    82.85662080203227,
                    204.46859740630262,
                    152.97381025415817,
                    242.20448495210707,
                    134.64709576185052,
                    153.91151817248954,
                    74.4247597417261,
                    142.64200025879262,
                    80.54811135581758,
                    216.48119761816778,
                    123.12938330478661,
                    137.8822485615512,
                    105.28306091070355,
                    78.68921517686991,
                    184.80348240556924,
                    157.18309700192577,
                    166.41696131186993,
                    133.23474875251395,
                    158.81017717464402,
                    141.55588018237208,
                    76.22514914342942,
                    203.13341978282773,
                    79.83900635007878,
                    94.79733274114436,
                    133.16657382013202,
                    115.00499363187993,
                    175.02948764686974,
                    69.33491644259462,
                    99.8664728055798,
                    112.66912987155507,
                    185.04366063564441,
                    145.46470212913937,
                    123.68469245272946,
                    112.62816263589865,
                    124.75684123989446,
                    78.46128973080455,
                    234.834499667006,
                    146.8623455887759,
                    122.66612841275385,
                    150.46515027644622,
                    125.75161411307053,
                    190.79550778249882,
                    84.0250470530798,
                    160.32593689298406,
                    96.50377321817851,
                    171.50632312632962,
                    120.62762791892412,
                    67.53983766623114,
                    149.3272385102105,
                    57.437448224529305,
                    168.16222061008943,
                    54.411737178366764,
                    148.59395889654886,
                    81.53537632223822,
                    104.96331861124797,
                    86.23871962689378,
                    185.7798798445832,
                    187.22839383796574,
                    59.851140924678674,
                    105.74839464498133,
                    121.43967172107631,
                    206.17460779584826,
                    213.5238640426381,
                    121.25248862029423,
                    134.1196677366882,
                    165.75487702755692,
                    107.41887084703262,
                    148.86329579958178,
                    158.5432817931854,
                    156.9612338842418,
                    114.2759685167083,
                    75.43514689518645,
                    160.19140667028665,
                    226.41342981486622,
                    145.90652610836887,
                    56.605259870159756,
                    120.517996041843,
                    152.6488755817452,
                    207.29065344617268,
                    298.2924777422264,
                    190.67160135662476,
                    210.7469722436177,
                    238.2787913803136,
                    163.58393023126325,
                    146.32953337908268,
                    156.74567111294922,
                    196.97246345338826,
                    218.03248664977042,
                    173.78942075873886,
                    166.5530677248576,
                    189.12604852453097,
                    67.21662975070522,
                    104.17588747707825,
                    91.69271131792632,
                    208.66712904388314,
                    242.83510481927453,
                    71.26017314230516,
                    114.09600147156605,
                    73.59997455740034,
                    140.19510252961862,
                    235.94662272454826,
                    62.2753543724412,
                    230.40703919632372,
                    252.07023622517903,
                    249.62980093410528,
                    158.01905722333632,
                    227.72831685606837,
                    169.8017290036167,
                    118.36201189441692,
                    176.2502782353422,
                    237.51122019710613,
                    188.07141603163575,
                    226.0131808986311,
                    116.18351960018462,
                    173.93818693946002,
                    208.08732379112433,
                    141.171022652519,
                    197.03943083306766,
                    123.41639643187096,
                    149.15978934869656,
                    198.75099506114415,
                    144.19362155324234,
                    122.40559024827427,
                    85.34314977550473,
                    231.94534924687866,
                    83.22805179747262,
                    235.78339441732246,
                    143.9629338494638,
                    198.15202292295422,
                    140.6854286956763,
                    78.7136949689969,
                    64.7620677698367,
                    265.6325779866323,
                    226.75998746072176,
                    243.3562388888189,
                    57.999224075041326,
                    90.1926899123797,
                    224.33572409185064,
                    93.77908139523149,
                    160.34054881032318,
                    120.11837406705344,
                    156.74044487317664,
                    222.89296922233356,
                    102.23152308399787,
                    162.95047008422856,
                    175.45299136819065,
                    89.4933264865536,
                    169.6541712322055,
                    155.9045737564216,
                    198.36415032166508,
                    184.68126325405677,
                    192.9883613953607,
                    72.47947220914307,
                    152.89152360959068,
                    113.68293461318913,
                    190.8032201173025,
                    124.12054633328049,
                    92.49020407386094,
                    139.32044240975966,
                    151.51623474365883,
                    168.7176367278431,
                    99.39364992227186,
                    187.70563404268032,
                    149.6197120228905,
                    180.95078946050086,
                    97.12886113660846,
                    73.37898709829128,
                    169.60175355295638,
                    194.76339294111023,
                    176.29699175089658,
                    224.7068285305601,
                    158.13126723497302,
                    210.32401850140621,
                    221.99844222137756,
                    170.3636743711809,
                    126.4326825729384,
                    174.9319227668284,
                    150.80009603355984,
                    98.42856232810747,
                    96.6743554565229,
                    260.91898650231514,
                    219.38287880266665,
                    219.42127058771484,
                    129.42397724219606,
                    139.22444218904093,
                    65.28007054320044,
                    138.66955414207976,
                    151.3243764495366,
                    121.14783606598834,
                    77.77050975719158,
                    227.92172547526704,
                    78.9271895460458,
                    106.11861684604995,
                    116.43732498152679,
                    99.35013489991184,
                    169.165088566973,
                    155.76648929879116,
                    156.1644453643213,
                    141.08309173821374,
                    230.8495406871748,
                    174.6677907548692,
                    184.57370126358313,
                    68.45917120000523,
                    184.84900373980287,
                    179.8462205503132,
                    231.40218626167,
                    121.82464541724744,
                    91.7586939259644,
                    101.81810475373834,
                    141.64780815708497,
                    100.34993595309555,
                    117.62844694665812,
                    77.23465928728089,
                    234.70224169807128,
                    245.27559579178012,
                    264.6150883805543,
                    277.4781809792447,
                    178.72101373934655,
                    202.07089671057395,
                    270.90891883756814,
                    114.95541846158193,
                    263.8373697507095,
                    100.26219264206199,
                    118.74518859187802,
                    143.1145486424676,
                    64.27702460287827,
                    124.22453217649921,
                    260.0315833395324,
                    51.812744560946726,
                    129.53374204181992,
                    128.45128773095172,
                    42.725146203993205,
                    136.9575950956793,
                    241.7842838257122,
                    85.18817143999637,
                    188.17378677013284,
                    163.69973710533174,
                    144.33792348003112,
                    203.04253433187228,
                    172.79281680622267,
                    156.07175117583273,
                    188.9746087392713,
                    113.17826841873531,
                    110.44906815270426,
                    115.99641801037538,
                    161.81111822429514,
                    92.44738873641849,
                    140.2203685396318,
                    89.09398894355937,
                    155.98477107602463,
                    197.71011782489177,
                    73.87693228868005,
                    146.1150287103049,
                    87.18816243409242,
                    189.80358681240625,
                    219.05704089302512,
                    202.75312425549726,
                    95.08843947099638,
                    184.50377662255605,
                    90.79409976668359,
                    150.61221529500327,
                    79.47818629056756,
                    103.14405985924274,
                    106.72664798736078,
                    123.20001888255916,
                    215.77394283689893,
                    125.9144364273417,
                    204.0254838826276,
                    231.31403969118418,
                    123.76329768957429,
                    129.7893777696314,
                    128.88900359550223,
                    147.08588241873954,
                    89.57304525692541,
                    139.02026564909121,
                    203.8458349224882,
                    171.38177560988584,
                    123.80195773260468,
                    211.6565758887603,
                    172.0816009906524,
                    108.99860964985761,
                    198.83051127187113,
                    171.77573255223697,
                    160.04169838021443,
                    187.4328378876762,
                    188.5051343958872,
                    289.829600190067,
                    300.1540914183406,
                    236.43390085422556,
                    208.78193742071386,
                    220.3423119393766,
                    153.64082933785485,
                    222.0100049493928,
                    185.83249434083828,
                    102.80637518436275,
                    178.27866299198033,
                    113.15787617856971,
                    289.18561237409904,
                    179.4703343674881,
                    83.03793706250431,
                    87.69388730732757,
                    251.086911427088,
                    170.81586058729286,
                    121.62254103408975,
                    144.99994471237315,
                    171.17127367466998,
                    184.1813324612573,
                    165.38642824345962,
                    161.97869896128864,
                    141.3165610651941,
                    124.16210738155391,
                    179.73174631983917,
                    100.7113636181017,
                    127.77059751445012,
                    97.97093284253837,
                    251.78917779661828,
                    88.6246473870618,
                    55.78929757116529,
                    179.69414865630634,
                    197.04938605835247,
                    133.74884566138664,
                    92.60302518526454,
                    198.17298931461082,
                    59.768647185775365,
                    172.07998672900976,
                    193.28628876960627,
                    125.22021726919358,
                    232.85327655934964,
                    160.52661689083564,
                    158.22338173946764,
                    160.54318684883813,
                    255.04210215141165,
                    255.3490377368433,
                    201.40099946559144,
                    182.59650132700185,
                    60.94526648728471,
                    209.79200230894742,
                    108.07943266797244,
                    142.7760816963408,
                    122.24794918246795,
                    176.80567545851034,
                    210.41860605520884,
                    165.38924367581774,
                    160.40768897785938,
                    136.3557301276861,
                    177.04955503981083,
                    71.53355300252646,
                    255.86595653965776,
                    113.50420353868623,
                    110.3848352364931,
                    138.35595665463973,
                    109.29609487369245,
                    103.81099638718416,
                    159.17644843412847,
                    75.536465601147,
                    264.3734137997062,
                    61.53030453010598,
                    102.51795614659946,
                    101.47537451666597,
                    278.3942359636651,
                    164.108107433234,
                    71.91206728973916,
                    178.20156877641728,
                    168.75209065391184,
                    187.63184248563533,
                    184.97981238148066,
                    88.49054866762566,
                    145.03361980899277,
                    250.6155468304524,
                    199.22199360960988,
                    277.76574597002696,
                    51.11827121225522,
                    177.28549463709658,
                    202.42035335363153,
                    170.71473390059154,
                    157.5688798845617,
                    153.5373666179908,
                    231.31942546348802,
                    123.08694381929718,
                    164.705825482078,
                    168.5182204515502,
                    227.99902786887316,
                    153.0061216151495,
                    100.10013931095375,
                    86.18555986702515,
                    142.37375156967195,
                    189.45107193957966,
                    198.03940376001404,
                    148.8311658653217,
                    168.1246857753713,
                    107.55846084926624,
                    161.5436261969909,
                    132.11296552537738,
                    260.20658996160705,
                    100.76644875836992,
                    114.05095572973997,
                    119.79421588149829,
                    218.68135119532602,
                    62.277051005082924,
                    135.24418685853374,
                    120.57842434158876,
                    54.770725862416285,
                    190.5601548127592,
                    103.6262576749671,
                    124.9755408178065,
                    208.0802125468174,
                    47.75217385362018
                  ],
                  "yaxis": "y"
                },
                {
                  "type": "scatter",
                  "x": [
                    151,
                    75,
                    141,
                    206,
                    135,
                    97,
                    138,
                    63,
                    110,
                    310,
                    101,
                    69,
                    179,
                    185,
                    118,
                    171,
                    166,
                    144,
                    97,
                    168,
                    68,
                    49,
                    68,
                    245,
                    184,
                    202,
                    137,
                    85,
                    131,
                    283,
                    129,
                    59,
                    341,
                    87,
                    65,
                    102,
                    265,
                    276,
                    252,
                    90,
                    100,
                    55,
                    61,
                    92,
                    259,
                    53,
                    190,
                    142,
                    75,
                    142,
                    155,
                    225,
                    59,
                    104,
                    182,
                    128,
                    52,
                    37,
                    170,
                    170,
                    61,
                    144,
                    52,
                    128,
                    71,
                    163,
                    150,
                    97,
                    160,
                    178,
                    48,
                    270,
                    202,
                    111,
                    85,
                    42,
                    170,
                    200,
                    252,
                    113,
                    143,
                    51,
                    52,
                    210,
                    65,
                    141,
                    55,
                    134,
                    42,
                    111,
                    98,
                    164,
                    48,
                    96,
                    90,
                    162,
                    150,
                    279,
                    92,
                    83,
                    128,
                    102,
                    302,
                    198,
                    95,
                    53,
                    134,
                    144,
                    232,
                    81,
                    104,
                    59,
                    246,
                    297,
                    258,
                    229,
                    275,
                    281,
                    179,
                    200,
                    200,
                    173,
                    180,
                    84,
                    121,
                    161,
                    99,
                    109,
                    115,
                    268,
                    274,
                    158,
                    107,
                    83,
                    103,
                    272,
                    85,
                    280,
                    336,
                    281,
                    118,
                    317,
                    235,
                    60,
                    174,
                    259,
                    178,
                    128,
                    96,
                    126,
                    288,
                    88,
                    292,
                    71,
                    197,
                    186,
                    25,
                    84,
                    96,
                    195,
                    53,
                    217,
                    172,
                    131,
                    214,
                    59,
                    70,
                    220,
                    268,
                    152,
                    47,
                    74,
                    295,
                    101,
                    151,
                    127,
                    237,
                    225,
                    81,
                    151,
                    107,
                    64,
                    138,
                    185,
                    265,
                    101,
                    137,
                    143,
                    141,
                    79,
                    292,
                    178,
                    91,
                    116,
                    86,
                    122,
                    72,
                    129,
                    142,
                    90,
                    158,
                    39,
                    196,
                    222,
                    277,
                    99,
                    196,
                    202,
                    155,
                    77,
                    191,
                    70,
                    73,
                    49,
                    65,
                    263,
                    248,
                    296,
                    214,
                    185,
                    78,
                    93,
                    252,
                    150,
                    77,
                    208,
                    77,
                    108,
                    160,
                    53,
                    220,
                    154,
                    259,
                    90,
                    246,
                    124,
                    67,
                    72,
                    257,
                    262,
                    275,
                    177,
                    71,
                    47,
                    187,
                    125,
                    78,
                    51,
                    258,
                    215,
                    303,
                    243,
                    91,
                    150,
                    310,
                    153,
                    346,
                    63,
                    89,
                    50,
                    39,
                    103,
                    308,
                    116,
                    145,
                    74,
                    45,
                    115,
                    264,
                    87,
                    202,
                    127,
                    182,
                    241,
                    66,
                    94,
                    283,
                    64,
                    102,
                    200,
                    265,
                    94,
                    230,
                    181,
                    156,
                    233,
                    60,
                    219,
                    80,
                    68,
                    332,
                    248,
                    84,
                    200,
                    55,
                    85,
                    89,
                    31,
                    129,
                    83,
                    275,
                    65,
                    198,
                    236,
                    253,
                    124,
                    44,
                    172,
                    114,
                    142,
                    109,
                    180,
                    144,
                    163,
                    147,
                    97,
                    220,
                    190,
                    109,
                    191,
                    122,
                    230,
                    242,
                    248,
                    249,
                    192,
                    131,
                    237,
                    78,
                    135,
                    244,
                    199,
                    270,
                    164,
                    72,
                    96,
                    306,
                    91,
                    214,
                    95,
                    216,
                    263,
                    178,
                    113,
                    200,
                    139,
                    139,
                    88,
                    148,
                    88,
                    243,
                    71,
                    77,
                    109,
                    272,
                    60,
                    54,
                    221,
                    90,
                    311,
                    281,
                    182,
                    321,
                    58,
                    262,
                    206,
                    233,
                    242,
                    123,
                    167,
                    63,
                    197,
                    71,
                    168,
                    140,
                    217,
                    121,
                    235,
                    245,
                    40,
                    52,
                    104,
                    132,
                    88,
                    69,
                    219,
                    72,
                    201,
                    110,
                    51,
                    277,
                    63,
                    118,
                    69,
                    273,
                    258,
                    43,
                    198,
                    242,
                    232,
                    175,
                    93,
                    168,
                    275,
                    293,
                    281,
                    72,
                    140,
                    189,
                    181,
                    209,
                    136,
                    261,
                    113,
                    131,
                    174,
                    257,
                    55,
                    84,
                    42,
                    146,
                    212,
                    233,
                    91,
                    111,
                    152,
                    120,
                    67,
                    310,
                    94,
                    183,
                    66,
                    173,
                    72,
                    49,
                    64,
                    48,
                    178,
                    104,
                    132,
                    220,
                    57
                  ],
                  "y": [
                    151,
                    75,
                    141,
                    206,
                    135,
                    97,
                    138,
                    63,
                    110,
                    310,
                    101,
                    69,
                    179,
                    185,
                    118,
                    171,
                    166,
                    144,
                    97,
                    168,
                    68,
                    49,
                    68,
                    245,
                    184,
                    202,
                    137,
                    85,
                    131,
                    283,
                    129,
                    59,
                    341,
                    87,
                    65,
                    102,
                    265,
                    276,
                    252,
                    90,
                    100,
                    55,
                    61,
                    92,
                    259,
                    53,
                    190,
                    142,
                    75,
                    142,
                    155,
                    225,
                    59,
                    104,
                    182,
                    128,
                    52,
                    37,
                    170,
                    170,
                    61,
                    144,
                    52,
                    128,
                    71,
                    163,
                    150,
                    97,
                    160,
                    178,
                    48,
                    270,
                    202,
                    111,
                    85,
                    42,
                    170,
                    200,
                    252,
                    113,
                    143,
                    51,
                    52,
                    210,
                    65,
                    141,
                    55,
                    134,
                    42,
                    111,
                    98,
                    164,
                    48,
                    96,
                    90,
                    162,
                    150,
                    279,
                    92,
                    83,
                    128,
                    102,
                    302,
                    198,
                    95,
                    53,
                    134,
                    144,
                    232,
                    81,
                    104,
                    59,
                    246,
                    297,
                    258,
                    229,
                    275,
                    281,
                    179,
                    200,
                    200,
                    173,
                    180,
                    84,
                    121,
                    161,
                    99,
                    109,
                    115,
                    268,
                    274,
                    158,
                    107,
                    83,
                    103,
                    272,
                    85,
                    280,
                    336,
                    281,
                    118,
                    317,
                    235,
                    60,
                    174,
                    259,
                    178,
                    128,
                    96,
                    126,
                    288,
                    88,
                    292,
                    71,
                    197,
                    186,
                    25,
                    84,
                    96,
                    195,
                    53,
                    217,
                    172,
                    131,
                    214,
                    59,
                    70,
                    220,
                    268,
                    152,
                    47,
                    74,
                    295,
                    101,
                    151,
                    127,
                    237,
                    225,
                    81,
                    151,
                    107,
                    64,
                    138,
                    185,
                    265,
                    101,
                    137,
                    143,
                    141,
                    79,
                    292,
                    178,
                    91,
                    116,
                    86,
                    122,
                    72,
                    129,
                    142,
                    90,
                    158,
                    39,
                    196,
                    222,
                    277,
                    99,
                    196,
                    202,
                    155,
                    77,
                    191,
                    70,
                    73,
                    49,
                    65,
                    263,
                    248,
                    296,
                    214,
                    185,
                    78,
                    93,
                    252,
                    150,
                    77,
                    208,
                    77,
                    108,
                    160,
                    53,
                    220,
                    154,
                    259,
                    90,
                    246,
                    124,
                    67,
                    72,
                    257,
                    262,
                    275,
                    177,
                    71,
                    47,
                    187,
                    125,
                    78,
                    51,
                    258,
                    215,
                    303,
                    243,
                    91,
                    150,
                    310,
                    153,
                    346,
                    63,
                    89,
                    50,
                    39,
                    103,
                    308,
                    116,
                    145,
                    74,
                    45,
                    115,
                    264,
                    87,
                    202,
                    127,
                    182,
                    241,
                    66,
                    94,
                    283,
                    64,
                    102,
                    200,
                    265,
                    94,
                    230,
                    181,
                    156,
                    233,
                    60,
                    219,
                    80,
                    68,
                    332,
                    248,
                    84,
                    200,
                    55,
                    85,
                    89,
                    31,
                    129,
                    83,
                    275,
                    65,
                    198,
                    236,
                    253,
                    124,
                    44,
                    172,
                    114,
                    142,
                    109,
                    180,
                    144,
                    163,
                    147,
                    97,
                    220,
                    190,
                    109,
                    191,
                    122,
                    230,
                    242,
                    248,
                    249,
                    192,
                    131,
                    237,
                    78,
                    135,
                    244,
                    199,
                    270,
                    164,
                    72,
                    96,
                    306,
                    91,
                    214,
                    95,
                    216,
                    263,
                    178,
                    113,
                    200,
                    139,
                    139,
                    88,
                    148,
                    88,
                    243,
                    71,
                    77,
                    109,
                    272,
                    60,
                    54,
                    221,
                    90,
                    311,
                    281,
                    182,
                    321,
                    58,
                    262,
                    206,
                    233,
                    242,
                    123,
                    167,
                    63,
                    197,
                    71,
                    168,
                    140,
                    217,
                    121,
                    235,
                    245,
                    40,
                    52,
                    104,
                    132,
                    88,
                    69,
                    219,
                    72,
                    201,
                    110,
                    51,
                    277,
                    63,
                    118,
                    69,
                    273,
                    258,
                    43,
                    198,
                    242,
                    232,
                    175,
                    93,
                    168,
                    275,
                    293,
                    281,
                    72,
                    140,
                    189,
                    181,
                    209,
                    136,
                    261,
                    113,
                    131,
                    174,
                    257,
                    55,
                    84,
                    42,
                    146,
                    212,
                    233,
                    91,
                    111,
                    152,
                    120,
                    67,
                    310,
                    94,
                    183,
                    66,
                    173,
                    72,
                    49,
                    64,
                    48,
                    178,
                    104,
                    132,
                    220,
                    57
                  ]
                }
              ],
              "layout": {
                "legend": {
                  "tracegroupgap": 0
                },
                "margin": {
                  "t": 60
                },
                "template": {
                  "data": {
                    "bar": [
                      {
                        "error_x": {
                          "color": "#2a3f5f"
                        },
                        "error_y": {
                          "color": "#2a3f5f"
                        },
                        "marker": {
                          "line": {
                            "color": "#E5ECF6",
                            "width": 0.5
                          },
                          "pattern": {
                            "fillmode": "overlay",
                            "size": 10,
                            "solidity": 0.2
                          }
                        },
                        "type": "bar"
                      }
                    ],
                    "barpolar": [
                      {
                        "marker": {
                          "line": {
                            "color": "#E5ECF6",
                            "width": 0.5
                          },
                          "pattern": {
                            "fillmode": "overlay",
                            "size": 10,
                            "solidity": 0.2
                          }
                        },
                        "type": "barpolar"
                      }
                    ],
                    "carpet": [
                      {
                        "aaxis": {
                          "endlinecolor": "#2a3f5f",
                          "gridcolor": "white",
                          "linecolor": "white",
                          "minorgridcolor": "white",
                          "startlinecolor": "#2a3f5f"
                        },
                        "baxis": {
                          "endlinecolor": "#2a3f5f",
                          "gridcolor": "white",
                          "linecolor": "white",
                          "minorgridcolor": "white",
                          "startlinecolor": "#2a3f5f"
                        },
                        "type": "carpet"
                      }
                    ],
                    "choropleth": [
                      {
                        "colorbar": {
                          "outlinewidth": 0,
                          "ticks": ""
                        },
                        "type": "choropleth"
                      }
                    ],
                    "contour": [
                      {
                        "colorbar": {
                          "outlinewidth": 0,
                          "ticks": ""
                        },
                        "colorscale": [
                          [
                            0,
                            "#0d0887"
                          ],
                          [
                            0.1111111111111111,
                            "#46039f"
                          ],
                          [
                            0.2222222222222222,
                            "#7201a8"
                          ],
                          [
                            0.3333333333333333,
                            "#9c179e"
                          ],
                          [
                            0.4444444444444444,
                            "#bd3786"
                          ],
                          [
                            0.5555555555555556,
                            "#d8576b"
                          ],
                          [
                            0.6666666666666666,
                            "#ed7953"
                          ],
                          [
                            0.7777777777777778,
                            "#fb9f3a"
                          ],
                          [
                            0.8888888888888888,
                            "#fdca26"
                          ],
                          [
                            1,
                            "#f0f921"
                          ]
                        ],
                        "type": "contour"
                      }
                    ],
                    "contourcarpet": [
                      {
                        "colorbar": {
                          "outlinewidth": 0,
                          "ticks": ""
                        },
                        "type": "contourcarpet"
                      }
                    ],
                    "heatmap": [
                      {
                        "colorbar": {
                          "outlinewidth": 0,
                          "ticks": ""
                        },
                        "colorscale": [
                          [
                            0,
                            "#0d0887"
                          ],
                          [
                            0.1111111111111111,
                            "#46039f"
                          ],
                          [
                            0.2222222222222222,
                            "#7201a8"
                          ],
                          [
                            0.3333333333333333,
                            "#9c179e"
                          ],
                          [
                            0.4444444444444444,
                            "#bd3786"
                          ],
                          [
                            0.5555555555555556,
                            "#d8576b"
                          ],
                          [
                            0.6666666666666666,
                            "#ed7953"
                          ],
                          [
                            0.7777777777777778,
                            "#fb9f3a"
                          ],
                          [
                            0.8888888888888888,
                            "#fdca26"
                          ],
                          [
                            1,
                            "#f0f921"
                          ]
                        ],
                        "type": "heatmap"
                      }
                    ],
                    "heatmapgl": [
                      {
                        "colorbar": {
                          "outlinewidth": 0,
                          "ticks": ""
                        },
                        "colorscale": [
                          [
                            0,
                            "#0d0887"
                          ],
                          [
                            0.1111111111111111,
                            "#46039f"
                          ],
                          [
                            0.2222222222222222,
                            "#7201a8"
                          ],
                          [
                            0.3333333333333333,
                            "#9c179e"
                          ],
                          [
                            0.4444444444444444,
                            "#bd3786"
                          ],
                          [
                            0.5555555555555556,
                            "#d8576b"
                          ],
                          [
                            0.6666666666666666,
                            "#ed7953"
                          ],
                          [
                            0.7777777777777778,
                            "#fb9f3a"
                          ],
                          [
                            0.8888888888888888,
                            "#fdca26"
                          ],
                          [
                            1,
                            "#f0f921"
                          ]
                        ],
                        "type": "heatmapgl"
                      }
                    ],
                    "histogram": [
                      {
                        "marker": {
                          "pattern": {
                            "fillmode": "overlay",
                            "size": 10,
                            "solidity": 0.2
                          }
                        },
                        "type": "histogram"
                      }
                    ],
                    "histogram2d": [
                      {
                        "colorbar": {
                          "outlinewidth": 0,
                          "ticks": ""
                        },
                        "colorscale": [
                          [
                            0,
                            "#0d0887"
                          ],
                          [
                            0.1111111111111111,
                            "#46039f"
                          ],
                          [
                            0.2222222222222222,
                            "#7201a8"
                          ],
                          [
                            0.3333333333333333,
                            "#9c179e"
                          ],
                          [
                            0.4444444444444444,
                            "#bd3786"
                          ],
                          [
                            0.5555555555555556,
                            "#d8576b"
                          ],
                          [
                            0.6666666666666666,
                            "#ed7953"
                          ],
                          [
                            0.7777777777777778,
                            "#fb9f3a"
                          ],
                          [
                            0.8888888888888888,
                            "#fdca26"
                          ],
                          [
                            1,
                            "#f0f921"
                          ]
                        ],
                        "type": "histogram2d"
                      }
                    ],
                    "histogram2dcontour": [
                      {
                        "colorbar": {
                          "outlinewidth": 0,
                          "ticks": ""
                        },
                        "colorscale": [
                          [
                            0,
                            "#0d0887"
                          ],
                          [
                            0.1111111111111111,
                            "#46039f"
                          ],
                          [
                            0.2222222222222222,
                            "#7201a8"
                          ],
                          [
                            0.3333333333333333,
                            "#9c179e"
                          ],
                          [
                            0.4444444444444444,
                            "#bd3786"
                          ],
                          [
                            0.5555555555555556,
                            "#d8576b"
                          ],
                          [
                            0.6666666666666666,
                            "#ed7953"
                          ],
                          [
                            0.7777777777777778,
                            "#fb9f3a"
                          ],
                          [
                            0.8888888888888888,
                            "#fdca26"
                          ],
                          [
                            1,
                            "#f0f921"
                          ]
                        ],
                        "type": "histogram2dcontour"
                      }
                    ],
                    "mesh3d": [
                      {
                        "colorbar": {
                          "outlinewidth": 0,
                          "ticks": ""
                        },
                        "type": "mesh3d"
                      }
                    ],
                    "parcoords": [
                      {
                        "line": {
                          "colorbar": {
                            "outlinewidth": 0,
                            "ticks": ""
                          }
                        },
                        "type": "parcoords"
                      }
                    ],
                    "pie": [
                      {
                        "automargin": true,
                        "type": "pie"
                      }
                    ],
                    "scatter": [
                      {
                        "fillpattern": {
                          "fillmode": "overlay",
                          "size": 10,
                          "solidity": 0.2
                        },
                        "type": "scatter"
                      }
                    ],
                    "scatter3d": [
                      {
                        "line": {
                          "colorbar": {
                            "outlinewidth": 0,
                            "ticks": ""
                          }
                        },
                        "marker": {
                          "colorbar": {
                            "outlinewidth": 0,
                            "ticks": ""
                          }
                        },
                        "type": "scatter3d"
                      }
                    ],
                    "scattercarpet": [
                      {
                        "marker": {
                          "colorbar": {
                            "outlinewidth": 0,
                            "ticks": ""
                          }
                        },
                        "type": "scattercarpet"
                      }
                    ],
                    "scattergeo": [
                      {
                        "marker": {
                          "colorbar": {
                            "outlinewidth": 0,
                            "ticks": ""
                          }
                        },
                        "type": "scattergeo"
                      }
                    ],
                    "scattergl": [
                      {
                        "marker": {
                          "colorbar": {
                            "outlinewidth": 0,
                            "ticks": ""
                          }
                        },
                        "type": "scattergl"
                      }
                    ],
                    "scattermapbox": [
                      {
                        "marker": {
                          "colorbar": {
                            "outlinewidth": 0,
                            "ticks": ""
                          }
                        },
                        "type": "scattermapbox"
                      }
                    ],
                    "scatterpolar": [
                      {
                        "marker": {
                          "colorbar": {
                            "outlinewidth": 0,
                            "ticks": ""
                          }
                        },
                        "type": "scatterpolar"
                      }
                    ],
                    "scatterpolargl": [
                      {
                        "marker": {
                          "colorbar": {
                            "outlinewidth": 0,
                            "ticks": ""
                          }
                        },
                        "type": "scatterpolargl"
                      }
                    ],
                    "scatterternary": [
                      {
                        "marker": {
                          "colorbar": {
                            "outlinewidth": 0,
                            "ticks": ""
                          }
                        },
                        "type": "scatterternary"
                      }
                    ],
                    "surface": [
                      {
                        "colorbar": {
                          "outlinewidth": 0,
                          "ticks": ""
                        },
                        "colorscale": [
                          [
                            0,
                            "#0d0887"
                          ],
                          [
                            0.1111111111111111,
                            "#46039f"
                          ],
                          [
                            0.2222222222222222,
                            "#7201a8"
                          ],
                          [
                            0.3333333333333333,
                            "#9c179e"
                          ],
                          [
                            0.4444444444444444,
                            "#bd3786"
                          ],
                          [
                            0.5555555555555556,
                            "#d8576b"
                          ],
                          [
                            0.6666666666666666,
                            "#ed7953"
                          ],
                          [
                            0.7777777777777778,
                            "#fb9f3a"
                          ],
                          [
                            0.8888888888888888,
                            "#fdca26"
                          ],
                          [
                            1,
                            "#f0f921"
                          ]
                        ],
                        "type": "surface"
                      }
                    ],
                    "table": [
                      {
                        "cells": {
                          "fill": {
                            "color": "#EBF0F8"
                          },
                          "line": {
                            "color": "white"
                          }
                        },
                        "header": {
                          "fill": {
                            "color": "#C8D4E3"
                          },
                          "line": {
                            "color": "white"
                          }
                        },
                        "type": "table"
                      }
                    ]
                  },
                  "layout": {
                    "annotationdefaults": {
                      "arrowcolor": "#2a3f5f",
                      "arrowhead": 0,
                      "arrowwidth": 1
                    },
                    "autotypenumbers": "strict",
                    "coloraxis": {
                      "colorbar": {
                        "outlinewidth": 0,
                        "ticks": ""
                      }
                    },
                    "colorscale": {
                      "diverging": [
                        [
                          0,
                          "#8e0152"
                        ],
                        [
                          0.1,
                          "#c51b7d"
                        ],
                        [
                          0.2,
                          "#de77ae"
                        ],
                        [
                          0.3,
                          "#f1b6da"
                        ],
                        [
                          0.4,
                          "#fde0ef"
                        ],
                        [
                          0.5,
                          "#f7f7f7"
                        ],
                        [
                          0.6,
                          "#e6f5d0"
                        ],
                        [
                          0.7,
                          "#b8e186"
                        ],
                        [
                          0.8,
                          "#7fbc41"
                        ],
                        [
                          0.9,
                          "#4d9221"
                        ],
                        [
                          1,
                          "#276419"
                        ]
                      ],
                      "sequential": [
                        [
                          0,
                          "#0d0887"
                        ],
                        [
                          0.1111111111111111,
                          "#46039f"
                        ],
                        [
                          0.2222222222222222,
                          "#7201a8"
                        ],
                        [
                          0.3333333333333333,
                          "#9c179e"
                        ],
                        [
                          0.4444444444444444,
                          "#bd3786"
                        ],
                        [
                          0.5555555555555556,
                          "#d8576b"
                        ],
                        [
                          0.6666666666666666,
                          "#ed7953"
                        ],
                        [
                          0.7777777777777778,
                          "#fb9f3a"
                        ],
                        [
                          0.8888888888888888,
                          "#fdca26"
                        ],
                        [
                          1,
                          "#f0f921"
                        ]
                      ],
                      "sequentialminus": [
                        [
                          0,
                          "#0d0887"
                        ],
                        [
                          0.1111111111111111,
                          "#46039f"
                        ],
                        [
                          0.2222222222222222,
                          "#7201a8"
                        ],
                        [
                          0.3333333333333333,
                          "#9c179e"
                        ],
                        [
                          0.4444444444444444,
                          "#bd3786"
                        ],
                        [
                          0.5555555555555556,
                          "#d8576b"
                        ],
                        [
                          0.6666666666666666,
                          "#ed7953"
                        ],
                        [
                          0.7777777777777778,
                          "#fb9f3a"
                        ],
                        [
                          0.8888888888888888,
                          "#fdca26"
                        ],
                        [
                          1,
                          "#f0f921"
                        ]
                      ]
                    },
                    "colorway": [
                      "#636efa",
                      "#EF553B",
                      "#00cc96",
                      "#ab63fa",
                      "#FFA15A",
                      "#19d3f3",
                      "#FF6692",
                      "#B6E880",
                      "#FF97FF",
                      "#FECB52"
                    ],
                    "font": {
                      "color": "#2a3f5f"
                    },
                    "geo": {
                      "bgcolor": "white",
                      "lakecolor": "white",
                      "landcolor": "#E5ECF6",
                      "showlakes": true,
                      "showland": true,
                      "subunitcolor": "white"
                    },
                    "hoverlabel": {
                      "align": "left"
                    },
                    "hovermode": "closest",
                    "mapbox": {
                      "style": "light"
                    },
                    "paper_bgcolor": "white",
                    "plot_bgcolor": "#E5ECF6",
                    "polar": {
                      "angularaxis": {
                        "gridcolor": "white",
                        "linecolor": "white",
                        "ticks": ""
                      },
                      "bgcolor": "#E5ECF6",
                      "radialaxis": {
                        "gridcolor": "white",
                        "linecolor": "white",
                        "ticks": ""
                      }
                    },
                    "scene": {
                      "xaxis": {
                        "backgroundcolor": "#E5ECF6",
                        "gridcolor": "white",
                        "gridwidth": 2,
                        "linecolor": "white",
                        "showbackground": true,
                        "ticks": "",
                        "zerolinecolor": "white"
                      },
                      "yaxis": {
                        "backgroundcolor": "#E5ECF6",
                        "gridcolor": "white",
                        "gridwidth": 2,
                        "linecolor": "white",
                        "showbackground": true,
                        "ticks": "",
                        "zerolinecolor": "white"
                      },
                      "zaxis": {
                        "backgroundcolor": "#E5ECF6",
                        "gridcolor": "white",
                        "gridwidth": 2,
                        "linecolor": "white",
                        "showbackground": true,
                        "ticks": "",
                        "zerolinecolor": "white"
                      }
                    },
                    "shapedefaults": {
                      "line": {
                        "color": "#2a3f5f"
                      }
                    },
                    "ternary": {
                      "aaxis": {
                        "gridcolor": "white",
                        "linecolor": "white",
                        "ticks": ""
                      },
                      "baxis": {
                        "gridcolor": "white",
                        "linecolor": "white",
                        "ticks": ""
                      },
                      "bgcolor": "#E5ECF6",
                      "caxis": {
                        "gridcolor": "white",
                        "linecolor": "white",
                        "ticks": ""
                      }
                    },
                    "title": {
                      "x": 0.05
                    },
                    "xaxis": {
                      "automargin": true,
                      "gridcolor": "white",
                      "linecolor": "white",
                      "ticks": "",
                      "title": {
                        "standoff": 15
                      },
                      "zerolinecolor": "white",
                      "zerolinewidth": 2
                    },
                    "yaxis": {
                      "automargin": true,
                      "gridcolor": "white",
                      "linecolor": "white",
                      "ticks": "",
                      "title": {
                        "standoff": 15
                      },
                      "zerolinecolor": "white",
                      "zerolinewidth": 2
                    }
                  }
                },
                "xaxis": {
                  "anchor": "y",
                  "domain": [
                    0,
                    1
                  ],
                  "title": {
                    "text": "x"
                  }
                },
                "yaxis": {
                  "anchor": "x",
                  "domain": [
                    0,
                    1
                  ],
                  "title": {
                    "text": "y"
                  }
                }
              }
            }
          },
          "metadata": {},
          "output_type": "display_data"
        }
      ],
      "source": [
        "fig = px.scatter(x=y, y=model(diabetes_data))     # \n",
        "fig.add_scatter(x=y, y=y)                         # rouge parfaite\n",
        "fig.show()"
      ]
    },
    {
      "cell_type": "markdown",
      "metadata": {
        "id": "_zsSa40s1xZS"
      },
      "source": [
        "**We've got a nice regression this time!** "
      ]
    }
  ],
  "metadata": {
    "colab": {
      "collapsed_sections": [],
      "name": "02-Multiple_linear_regression_from_scratch.ipynb",
      "provenance": []
    },
    "kernelspec": {
      "display_name": "Python 3",
      "name": "python3"
    },
    "language_info": {
      "codemirror_mode": {
        "name": "ipython",
        "version": 3
      },
      "file_extension": ".py",
      "mimetype": "text/x-python",
      "name": "python",
      "nbconvert_exporter": "python",
      "pygments_lexer": "ipython3",
      "version": "3.11.7"
    }
  },
  "nbformat": 4,
  "nbformat_minor": 0
}
