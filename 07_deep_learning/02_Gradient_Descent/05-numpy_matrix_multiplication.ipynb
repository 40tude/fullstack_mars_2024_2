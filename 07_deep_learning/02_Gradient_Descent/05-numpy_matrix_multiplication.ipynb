{
 "cells": [
  {
   "cell_type": "markdown",
   "metadata": {},
   "source": [
    "# Numpy Matrix Multiplication"
   ]
  },
  {
   "cell_type": "markdown",
   "metadata": {},
   "source": [
    "3 ways to perform NumPy matrix multiplication\n",
    "\n",
    "1. `np.dot(array a, array b)`      : returns the scalar product or dot product of two arrays\n",
    "1. `np.matmul(array a, array b)`   : returns the matrix product of two arrays\n",
    "1. `np.multiply(array a, array b)` : returns the element-wise matrix multiplication of two arrays\n",
    "\n",
    "\n",
    "https://www.educative.io/blog/numpy-matrix-multiplication"
   ]
  },
  {
   "cell_type": "code",
   "execution_count": 11,
   "metadata": {},
   "outputs": [],
   "source": [
    "import numpy as np\n",
    "import pprint \n"
   ]
  },
  {
   "cell_type": "markdown",
   "metadata": {},
   "source": [
    "## Scalar Product"
   ]
  },
  {
   "cell_type": "markdown",
   "metadata": {},
   "source": [
    "### With a number"
   ]
  },
  {
   "cell_type": "code",
   "execution_count": 29,
   "metadata": {},
   "outputs": [
    {
     "name": "stdout",
     "output_type": "stream",
     "text": [
      "<class 'list'>\n",
      "array([[12, 14],\n",
      "       [16, 18]])\n"
     ]
    }
   ],
   "source": [
    "A = 2\n",
    "\n",
    "B = [\n",
    "  [6, 7],\n",
    "  [8, 9]\n",
    "]\n",
    "print(type(B))\n",
    " \n",
    "C = np.dot(A, B)\n",
    "pprint.pp(C)"
   ]
  },
  {
   "cell_type": "code",
   "execution_count": 33,
   "metadata": {},
   "outputs": [
    {
     "name": "stdout",
     "output_type": "stream",
     "text": [
      "<class 'numpy.ndarray'>\n",
      "array([[12, 14],\n",
      "       [16, 18]])\n",
      "array([[12, 14],\n",
      "       [16, 18]])\n"
     ]
    }
   ],
   "source": [
    "A = 2\n",
    "\n",
    "B = np.array([\n",
    "  [6, 7],\n",
    "  [8, 9]\n",
    "])\n",
    "print(type(B))\n",
    "\n",
    " \n",
    "C = np.dot(A,B)\n",
    "pprint.pp(C)\n",
    "print()\n",
    "\n",
    "C = A*B\n",
    "pprint.pp(C)\n"
   ]
  },
  {
   "cell_type": "markdown",
   "metadata": {},
   "source": [
    "### Vector"
   ]
  },
  {
   "cell_type": "code",
   "execution_count": 53,
   "metadata": {},
   "outputs": [
    {
     "name": "stdout",
     "output_type": "stream",
     "text": [
      "array([11,  8])\n"
     ]
    }
   ],
   "source": [
    "A = [1, 2, 3]\n",
    "\n",
    "B = [\n",
    "  [0, 1],\n",
    "  [1, 2],\n",
    "  [3, 1],\n",
    "]\n",
    " \n",
    "# A comme vecteur ligne \n",
    "C = np.dot(A,B)\n",
    "pprint.pp(C)"
   ]
  },
  {
   "cell_type": "code",
   "execution_count": 50,
   "metadata": {},
   "outputs": [
    {
     "name": "stdout",
     "output_type": "stream",
     "text": [
      "array([11,  8])\n"
     ]
    }
   ],
   "source": [
    "A = np.array([1, 2, 3])\n",
    "B = np.array([\n",
    "  [0, 1],\n",
    "  [1, 2],\n",
    "  [3, 1],\n",
    "])\n",
    " \n",
    "C = A.dot(B)\n",
    "pprint.pp(C)\n"
   ]
  },
  {
   "cell_type": "code",
   "execution_count": 39,
   "metadata": {},
   "outputs": [
    {
     "name": "stdout",
     "output_type": "stream",
     "text": [
      "40\n"
     ]
    }
   ],
   "source": [
    "A = np.array([2, 4])\n",
    "B = np.array([6, 7])\n",
    " \n",
    "C = A.dot(B)\n",
    "pprint.pp(C)\n",
    "\n",
    "# C = np.cross(A, B)\n",
    "# pprint.pp(C)"
   ]
  },
  {
   "cell_type": "code",
   "execution_count": 55,
   "metadata": {},
   "outputs": [
    {
     "name": "stdout",
     "output_type": "stream",
     "text": [
      "array([5, 5])\n"
     ]
    }
   ],
   "source": [
    "A = np.array([2, 1])\n",
    "\n",
    "B = [\n",
    "  [1, 2],\n",
    "  [3, 1]\n",
    "]\n",
    " \n",
    "# A comme vecteur ligne \n",
    "C = A@B\n",
    "pprint.pp(C)"
   ]
  },
  {
   "cell_type": "code",
   "execution_count": 15,
   "metadata": {},
   "outputs": [
    {
     "name": "stdout",
     "output_type": "stream",
     "text": [
      "array([44, 50])\n"
     ]
    }
   ],
   "source": [
    "A = np.array([2, 4])\n",
    "\n",
    "B = np.array([\n",
    "  [6, 7],\n",
    "  [8, 9]\n",
    "])\n",
    " \n",
    "# A comme vecteur ligne \n",
    "C = A@B\n",
    "pprint.pp(C)"
   ]
  },
  {
   "cell_type": "code",
   "execution_count": 16,
   "metadata": {},
   "outputs": [
    {
     "name": "stdout",
     "output_type": "stream",
     "text": [
      "array([40, 52])\n"
     ]
    }
   ],
   "source": [
    "B = [\n",
    "  [6, 7],\n",
    "  [8, 9]\n",
    "]\n",
    "\n",
    "A = [2, 4]\n",
    "\n",
    "# A comme vecteur colonne \n",
    "C = np.dot(B, A)\n",
    "pprint.pp(C)"
   ]
  },
  {
   "cell_type": "code",
   "execution_count": 23,
   "metadata": {},
   "outputs": [
    {
     "name": "stdout",
     "output_type": "stream",
     "text": [
      "14\n"
     ]
    }
   ],
   "source": [
    "A = [2, 4]\n",
    "\n",
    "B = [1, 3]\n",
    " \n",
    " \n",
    "C = np.dot(A,B)\n",
    "pprint.pp(C)"
   ]
  },
  {
   "cell_type": "code",
   "execution_count": 27,
   "metadata": {},
   "outputs": [
    {
     "name": "stdout",
     "output_type": "stream",
     "text": [
      "(2,)\n",
      "(2,)\n",
      "14\n"
     ]
    }
   ],
   "source": [
    "A = np.array([2, 4])\n",
    "print(A.shape)\n",
    "\n",
    "B = np.array([1, 3])\n",
    "print(B.shape)\n",
    " \n",
    " \n",
    "C = np.dot(A,B)\n",
    "pprint.pp(C)\n"
   ]
  },
  {
   "cell_type": "markdown",
   "metadata": {},
   "source": [
    "### Matrices"
   ]
  },
  {
   "cell_type": "code",
   "execution_count": 17,
   "metadata": {},
   "outputs": [
    {
     "name": "stdout",
     "output_type": "stream",
     "text": [
      "array([[22, 49],\n",
      "       [28, 64]])\n"
     ]
    }
   ],
   "source": [
    "A = [\n",
    "  [1, 3, 5],\n",
    "  [2, 4, 6],\n",
    "]\n",
    "      \n",
    "B = [\n",
    "  [1, 4],\n",
    "  [2, 5],\n",
    "  [3, 6],\n",
    "]\n",
    "\n",
    "C = np.dot(A,B)\n",
    "pprint.pp(C)"
   ]
  },
  {
   "cell_type": "markdown",
   "metadata": {},
   "source": [
    "## Matmul"
   ]
  },
  {
   "cell_type": "markdown",
   "metadata": {},
   "source": [
    "2 2D arrays\n",
    "\n",
    "Can’t use scalar values as input. \n",
    "\n",
    "If one argument is a 1-d array, the function converts it into a NumPy matrix by appending a 1 to its dimension. \n",
    "This is removed after the multiplication is done.\n",
    "\n",
    "If one of our arguments is greater than 2-d, the function treats it as a stack of matrices in the last two indexes.\n",
    "\n",
    "The matmul() method is great for times when we’re unsure of what the dimensions of our matrices will be."
   ]
  },
  {
   "cell_type": "code",
   "execution_count": 18,
   "metadata": {},
   "outputs": [
    {
     "name": "stdout",
     "output_type": "stream",
     "text": [
      "array([[22, 49],\n",
      "       [28, 64]])\n"
     ]
    }
   ],
   "source": [
    "A = [\n",
    "  [1, 3, 5],\n",
    "  [2, 4, 6],\n",
    "]\n",
    "      \n",
    "B = [\n",
    "  [1, 4],\n",
    "  [2, 5],\n",
    "  [3, 6],\n",
    "]\n",
    "\n",
    "C = np.matmul(A,B)\n",
    "pprint.pp(C)"
   ]
  },
  {
   "cell_type": "code",
   "execution_count": 19,
   "metadata": {},
   "outputs": [
    {
     "name": "stdout",
     "output_type": "stream",
     "text": [
      "array([25, 10])\n"
     ]
    }
   ],
   "source": [
    "A = [\n",
    "  [5, 0],\n",
    "  [0, 5]\n",
    "]\n",
    " \n",
    "B = [5, 2]\n",
    "\n",
    "C = np.matmul(A,B)\n",
    "pprint.pp(C)\n",
    " "
   ]
  },
  {
   "cell_type": "markdown",
   "metadata": {},
   "source": [
    "## Multiply"
   ]
  },
  {
   "cell_type": "markdown",
   "metadata": {},
   "source": [
    "* Both matrices should have the same dimensions.\n",
    "* Element-wise multiplication\n",
    "* Hadamard Product\n",
    "* Multiples every element of the first NumPy matrix by the equivalent element in the second matrix. "
   ]
  },
  {
   "cell_type": "code",
   "execution_count": 20,
   "metadata": {},
   "outputs": [
    {
     "name": "stdout",
     "output_type": "stream",
     "text": [
      "array([[ 1,  6, 15, 28, 45],\n",
      "       [10, 16, 18, 16, 10]])\n"
     ]
    }
   ],
   "source": [
    "A = np.array([\n",
    "  [1, 3, 5, 7, 9], \n",
    "  [2, 4, 6, 8, 10]\n",
    "])\n",
    "\n",
    "B = np.array([\n",
    "  [1, 2, 3, 4, 5], \n",
    "  [5, 4, 3, 2, 1]\n",
    "])\n",
    "\n",
    "C = np.multiply(A,B)\n",
    "pprint.pp(C)"
   ]
  }
 ],
 "metadata": {
  "kernelspec": {
   "display_name": "jedha",
   "language": "python",
   "name": "python3"
  },
  "language_info": {
   "codemirror_mode": {
    "name": "ipython",
    "version": 3
   },
   "file_extension": ".py",
   "mimetype": "text/x-python",
   "name": "python",
   "nbconvert_exporter": "python",
   "pygments_lexer": "ipython3",
   "version": "3.11.7"
  }
 },
 "nbformat": 4,
 "nbformat_minor": 2
}
