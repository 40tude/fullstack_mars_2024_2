{
 "cells": [
  {
   "cell_type": "markdown",
   "metadata": {
    "id": "63gRilnVbLd1"
   },
   "source": [
    "# Introduction to Tensorflow Hub\n",
    "\n",
    "<img src=\"https://full-stack-assets.s3.eu-west-3.amazonaws.com/images/M08-DeepLearning/tf_hub.png\" />\n",
    "\n",
    "Tensorflow Hub is a service provided with tensorflow where researchers and more broadly data scientists can upload and share the models that they train! Which means it's a great place to look for models you may use for transfer learning!\n",
    "\n",
    "All the models are listed <a href=\"https://tfhub.dev/\">here</a>. They are classified by application, which makes the interface very easy to navigate."
   ]
  },
  {
   "cell_type": "markdown",
   "metadata": {
    "id": "7fSwq3zhdItJ"
   },
   "source": [
    "## How do I use Tensorflow Hub in practice?\n",
    "\n",
    "Tensorflow hub is very easy to use, all you have to do is install the tensorflow hub dependency as follows and you are good to go!"
   ]
  },
  {
   "cell_type": "code",
   "execution_count": 1,
   "metadata": {
    "executionInfo": {
     "elapsed": 2690,
     "status": "ok",
     "timestamp": 1619629855022,
     "user": {
      "displayName": "Charles Tanguy",
      "photoUrl": "",
      "userId": "11930294859591867631"
     },
     "user_tz": -120
    },
    "id": "of-DiNlIctXR"
   },
   "outputs": [],
   "source": [
    "import tensorflow as tf\n",
    "import tensorflow_hub as hub"
   ]
  },
  {
   "cell_type": "markdown",
   "metadata": {
    "id": "6AdKNqHRd5Nw"
   },
   "source": [
    "Once you have done that, most models have a usage tutorial included with their documentation, check for example <a href=\"https://tfhub.dev/google/tf2-preview/inception_v3/classification/4\"> this page</a>."
   ]
  },
  {
   "cell_type": "code",
   "execution_count": 2,
   "metadata": {
    "executionInfo": {
     "elapsed": 6473,
     "status": "ok",
     "timestamp": 1619630093520,
     "user": {
      "displayName": "Charles Tanguy",
      "photoUrl": "",
      "userId": "11930294859591867631"
     },
     "user_tz": -120
    },
    "id": "lvCRGKWWaXK1"
   },
   "outputs": [],
   "source": [
    "m = tf.keras.Sequential([\n",
    "    hub.KerasLayer(\"https://tfhub.dev/google/tf2-preview/inception_v3/classification/4\", output_shape=[1001])\n",
    "])\n",
    "m.build([None, 299, 299, 3])  # Batch input shape."
   ]
  },
  {
   "cell_type": "markdown",
   "metadata": {
    "id": "CM-mg-uCegtW"
   },
   "source": [
    "You are now ready to predict using this pretrained inceptionV3 model to classifiy images."
   ]
  },
  {
   "cell_type": "code",
   "execution_count": 7,
   "metadata": {
    "colab": {
     "base_uri": "https://localhost:8080/",
     "height": 90
    },
    "executionInfo": {
     "elapsed": 463,
     "status": "ok",
     "timestamp": 1619630641715,
     "user": {
      "displayName": "Charles Tanguy",
      "photoUrl": "",
      "userId": "11930294859591867631"
     },
     "user_tz": -120
    },
    "id": "qEOQei4Kes17",
    "outputId": "abe0f450-d239-4f63-e2a3-73e6eeb5dbc8"
   },
   "outputs": [
    {
     "name": "stdout",
     "output_type": "stream",
     "text": [
      "Downloading data from https://storage.googleapis.com/download.tensorflow.org/example_images/Green_Sea_Turtle_grazing_seagrass.jpg\n",
      "32768/29042 [=================================] - 0s 0us/step\n"
     ]
    },
    {
     "data": {
      "application/vnd.google.colaboratory.intrinsic+json": {
       "type": "string"
      },
      "text/plain": [
       "'/content/turtle.png'"
      ]
     },
     "execution_count": 7,
     "metadata": {
      "tags": []
     },
     "output_type": "execute_result"
    }
   ],
   "source": [
    "tf.keras.utils.get_file(fname=\"/content/turtle.png\", origin=\"https://storage.googleapis.com/download.tensorflow.org/example_images/Green_Sea_Turtle_grazing_seagrass.jpg\")"
   ]
  },
  {
   "cell_type": "markdown",
   "metadata": {
    "id": "l9nMBg2ch3at"
   },
   "source": [
    "Let's load an image and see in what category the model will classify it!"
   ]
  },
  {
   "cell_type": "code",
   "execution_count": 9,
   "metadata": {
    "colab": {
     "base_uri": "https://localhost:8080/"
    },
    "executionInfo": {
     "elapsed": 498,
     "status": "ok",
     "timestamp": 1619630684135,
     "user": {
      "displayName": "Charles Tanguy",
      "photoUrl": "",
      "userId": "11930294859591867631"
     },
     "user_tz": -120
    },
    "id": "OaAgMo1ufkNv",
    "outputId": "fb26f46c-cab3-4b45-ae8a-bbcf348d70fd"
   },
   "outputs": [
    {
     "data": {
      "text/plain": [
       "TensorShape([1, 299, 299, 3])"
      ]
     },
     "execution_count": 9,
     "metadata": {
      "tags": []
     },
     "output_type": "execute_result"
    }
   ],
   "source": [
    "turtle = tf.io.read_file(\"/content/turtle.png\") # read the file as byte type\n",
    "turtle = tf.image.decode_image(turtle, channels=3) # convert bytes to a tensor\n",
    "turtle = tf.image.convert_image_dtype(turtle, tf.float64) # convert the image tensor from int 0-255 to float 0-1\n",
    "turtle = tf.image.resize(turtle, [299, 299]) # resize the image so the model can run inference\n",
    "turtle = tf.expand_dims(turtle, axis=0) # let's expand the dimension so the input data has shape (1,299,299,3)\n",
    "turtle.shape"
   ]
  },
  {
   "cell_type": "code",
   "execution_count": 14,
   "metadata": {
    "executionInfo": {
     "elapsed": 2133,
     "status": "ok",
     "timestamp": 1619630887882,
     "user": {
      "displayName": "Charles Tanguy",
      "photoUrl": "",
      "userId": "11930294859591867631"
     },
     "user_tz": -120
    },
    "id": "lbLed9thhW1R"
   },
   "outputs": [],
   "source": [
    "pred = m.predict(turtle) # compute the model output"
   ]
  },
  {
   "cell_type": "code",
   "execution_count": 19,
   "metadata": {
    "colab": {
     "base_uri": "https://localhost:8080/"
    },
    "executionInfo": {
     "elapsed": 461,
     "status": "ok",
     "timestamp": 1619630955652,
     "user": {
      "displayName": "Charles Tanguy",
      "photoUrl": "",
      "userId": "11930294859591867631"
     },
     "user_tz": -120
    },
    "id": "KXD3pUkdhhz4",
    "outputId": "c0c48868-b217-476c-bd3f-0e283d0ecc37"
   },
   "outputs": [
    {
     "data": {
      "text/plain": [
       "array([34])"
      ]
     },
     "execution_count": 19,
     "metadata": {
      "tags": []
     },
     "output_type": "execute_result"
    }
   ],
   "source": [
    "pred_label = tf.argmax(pred, axis=-1).numpy() # get the index of themost activated neuron on the output layer\n",
    "pred_label"
   ]
  },
  {
   "cell_type": "markdown",
   "metadata": {
    "id": "yfzK5Eloiswf"
   },
   "source": [
    "We get the label ⟺ index correspondance table from the model's documentation"
   ]
  },
  {
   "cell_type": "code",
   "execution_count": 16,
   "metadata": {
    "colab": {
     "base_uri": "https://localhost:8080/",
     "height": 202
    },
    "executionInfo": {
     "elapsed": 467,
     "status": "ok",
     "timestamp": 1619630920539,
     "user": {
      "displayName": "Charles Tanguy",
      "photoUrl": "",
      "userId": "11930294859591867631"
     },
     "user_tz": -120
    },
    "id": "9lj_AaqDhHCu",
    "outputId": "21e6a9c0-e1a9-4740-8949-ea24cb8029d9"
   },
   "outputs": [
    {
     "data": {
      "text/html": [
       "<div>\n",
       "<style scoped>\n",
       "    .dataframe tbody tr th:only-of-type {\n",
       "        vertical-align: middle;\n",
       "    }\n",
       "\n",
       "    .dataframe tbody tr th {\n",
       "        vertical-align: top;\n",
       "    }\n",
       "\n",
       "    .dataframe thead th {\n",
       "        text-align: right;\n",
       "    }\n",
       "</style>\n",
       "<table border=\"1\" class=\"dataframe\">\n",
       "  <thead>\n",
       "    <tr style=\"text-align: right;\">\n",
       "      <th></th>\n",
       "      <th>background</th>\n",
       "    </tr>\n",
       "  </thead>\n",
       "  <tbody>\n",
       "    <tr>\n",
       "      <th>0</th>\n",
       "      <td>tench</td>\n",
       "    </tr>\n",
       "    <tr>\n",
       "      <th>1</th>\n",
       "      <td>goldfish</td>\n",
       "    </tr>\n",
       "    <tr>\n",
       "      <th>2</th>\n",
       "      <td>great white shark</td>\n",
       "    </tr>\n",
       "    <tr>\n",
       "      <th>3</th>\n",
       "      <td>tiger shark</td>\n",
       "    </tr>\n",
       "    <tr>\n",
       "      <th>4</th>\n",
       "      <td>hammerhead</td>\n",
       "    </tr>\n",
       "  </tbody>\n",
       "</table>\n",
       "</div>"
      ],
      "text/plain": [
       "          background\n",
       "0              tench\n",
       "1           goldfish\n",
       "2  great white shark\n",
       "3        tiger shark\n",
       "4         hammerhead"
      ]
     },
     "execution_count": 16,
     "metadata": {
      "tags": []
     },
     "output_type": "execute_result"
    }
   ],
   "source": [
    "import pandas as pd\n",
    "labels = pd.read_csv(\"https://storage.googleapis.com/download.tensorflow.org/data/ImageNetLabels.txt\")\n",
    "labels.head()"
   ]
  },
  {
   "cell_type": "markdown",
   "metadata": {
    "id": "qMVx_6SZiziS"
   },
   "source": [
    "Finally let's see what label corresponds to the most activated neuron in the last layer of the network."
   ]
  },
  {
   "cell_type": "code",
   "execution_count": 21,
   "metadata": {
    "colab": {
     "base_uri": "https://localhost:8080/",
     "height": 79
    },
    "executionInfo": {
     "elapsed": 468,
     "status": "ok",
     "timestamp": 1619630965528,
     "user": {
      "displayName": "Charles Tanguy",
      "photoUrl": "",
      "userId": "11930294859591867631"
     },
     "user_tz": -120
    },
    "id": "PqqeKU6Chpoy",
    "outputId": "690f86c6-61b4-4a57-f127-7a686e4b9db2"
   },
   "outputs": [
    {
     "data": {
      "text/html": [
       "<div>\n",
       "<style scoped>\n",
       "    .dataframe tbody tr th:only-of-type {\n",
       "        vertical-align: middle;\n",
       "    }\n",
       "\n",
       "    .dataframe tbody tr th {\n",
       "        vertical-align: top;\n",
       "    }\n",
       "\n",
       "    .dataframe thead th {\n",
       "        text-align: right;\n",
       "    }\n",
       "</style>\n",
       "<table border=\"1\" class=\"dataframe\">\n",
       "  <thead>\n",
       "    <tr style=\"text-align: right;\">\n",
       "      <th></th>\n",
       "      <th>background</th>\n",
       "    </tr>\n",
       "  </thead>\n",
       "  <tbody>\n",
       "    <tr>\n",
       "      <th>34</th>\n",
       "      <td>leatherback turtle</td>\n",
       "    </tr>\n",
       "  </tbody>\n",
       "</table>\n",
       "</div>"
      ],
      "text/plain": [
       "            background\n",
       "34  leatherback turtle"
      ]
     },
     "execution_count": 21,
     "metadata": {
      "tags": []
     },
     "output_type": "execute_result"
    }
   ],
   "source": [
    "labels.iloc[pred_label,:]"
   ]
  },
  {
   "cell_type": "markdown",
   "metadata": {
    "id": "GncOjv20jKgi"
   },
   "source": [
    "Now that we checked that the model works, we can start using it for other purposes!\n",
    "That sums up our introduction to tensorflow hub!"
   ]
  }
 ],
 "metadata": {
  "colab": {
   "authorship_tag": "ABX9TyP0M1uO6zejHS7tkTFYR1TL",
   "name": "Introduction_to_Tensorflow_Hub.ipynb",
   "provenance": [],
   "toc_visible": true
  },
  "kernelspec": {
   "display_name": "Python 3",
   "language": "python",
   "name": "python3"
  },
  "language_info": {
   "codemirror_mode": {
    "name": "ipython",
    "version": 3
   },
   "file_extension": ".py",
   "mimetype": "text/x-python",
   "name": "python",
   "nbconvert_exporter": "python",
   "pygments_lexer": "ipython3",
   "version": "3.8.5"
  }
 },
 "nbformat": 4,
 "nbformat_minor": 1
}
