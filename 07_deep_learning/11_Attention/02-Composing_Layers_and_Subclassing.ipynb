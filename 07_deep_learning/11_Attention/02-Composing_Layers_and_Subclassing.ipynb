{
  "cells": [
    {
      "cell_type": "markdown",
      "metadata": {
        "id": "J5ozZw7Ks4l-"
      },
      "source": [
        "# <span style=\"color:red\"><b>TOURNE SUR PC</b></span>\n",
        "# Composing Layers & Subclassing\n",
        "\n",
        "## What you'll learn in this class 🧐🧐\n",
        "\n",
        "One last thing to see to be a deep learning expert on Tensorflow 2.0 is how to make layers by hand. This is done by a principle of Object Oriented Programming which is to create subclasses that inherit from a parent class. \n",
        "\n",
        "This will allow you to set up even the most complex Deep Learning models such as GANs (Generative Adversarial Models). "
      ]
    },
    {
      "cell_type": "code",
      "execution_count": 6,
      "metadata": {},
      "outputs": [],
      "source": [
        "import tensorflow as tf"
      ]
    },
    {
      "cell_type": "markdown",
      "metadata": {
        "id": "HqArsFOpyV_G"
      },
      "source": [
        "## Subclassing "
      ]
    },
    {
      "cell_type": "markdown",
      "metadata": {
        "id": "H5NfPXhsynZ6"
      },
      "source": [
        "To understand how to make Tensorflow layers it is useful to spend some time understanding the concept of subclasses. The principle is simple, a subclass is a class that inherits the attributes of a parent class. \n",
        "\n",
        "For the demonstration, we will use this excellent article from [Julian](https://pybit.es/author/julian.html) on [Pybite](https://pybit.es/python-subclasses.html). \n",
        "\n",
        "Imagine you have a Boss class, which describes a generic boss. Having experience in the working world, you know that there are GoodBosses and BadBosses. In terms of code, we come to the following thing: \n",
        "\n",
        "* **Relative Class**: Boss\n",
        "* **Sub-Class** : GoodBoss & BadBoss\n",
        "\n",
        "Each of the subclasses will inherit the generic Boss attributes, to which we can add other attributes specific to GoodBoss & BadBoss \n",
        "\n",
        "Let's see what it does in code: "
      ]
    },
    {
      "cell_type": "code",
      "execution_count": 7,
      "metadata": {
        "colab": {
          "base_uri": "https://localhost:8080/",
          "height": 36
        },
        "id": "RIsImluVsxBa",
        "outputId": "a718374f-34e7-4ea5-e2e2-adb4e409557e"
      },
      "outputs": [
        {
          "data": {
            "text/plain": [
              "'Positive'"
            ]
          },
          "execution_count": 7,
          "metadata": {},
          "output_type": "execute_result"
        }
      ],
      "source": [
        "# This is the Boss class. This one contains the attributes [name, attitude, behaviour, face]\n",
        "# and the methods get_attitude, get_behaviour, get_face which will return each of the attributes\n",
        "\n",
        "class Boss(object):\n",
        "    def __init__(self, name, attitude, behaviour, face):\n",
        "        self.name       = name\n",
        "        self.attitude   = attitude\n",
        "        self.behaviour  = behaviour\n",
        "        self.face       = face\n",
        "\n",
        "    def get_attitude(self):\n",
        "        return self.attitude\n",
        "\n",
        "    def get_behaviour(self):\n",
        "        return self.behaviour\n",
        "\n",
        "    def get_face(self):\n",
        "        return self.face\n",
        "      \n",
        "boss = Boss(\"Julian\", \"Positive\", \"Social\", \"Smiling\")\n",
        "boss.get_attitude()"
      ]
    },
    {
      "cell_type": "code",
      "execution_count": 8,
      "metadata": {
        "colab": {
          "base_uri": "https://localhost:8080/",
          "height": 36
        },
        "id": "ciPU_MXvo3YV",
        "outputId": "0411fe74-52b9-4f4d-bba7-4109c2417f57"
      },
      "outputs": [
        {
          "data": {
            "text/plain": [
              "'Positive'"
            ]
          },
          "execution_count": 8,
          "metadata": {},
          "output_type": "execute_result"
        }
      ],
      "source": [
        "boss.attitude"
      ]
    },
    {
      "cell_type": "code",
      "execution_count": 9,
      "metadata": {
        "colab": {
          "base_uri": "https://localhost:8080/"
        },
        "id": "YQFS-cDvz1gn",
        "outputId": "1dc5ed5d-1179-483f-dcce-5bfeb0c4a94e"
      },
      "outputs": [
        {
          "name": "stdout",
          "output_type": "stream",
          "text": [
            "Michel's Behaviour: Funny\n",
            "How does Michel nurtures talents: The employees feel all warm and fuzzy then put their talents to good use.\n",
            "Everyone stares while Bob yells.\n"
          ]
        }
      ],
      "source": [
        "# Now let's create two classes, GoodBoss & BadBoss that will inherit from Boss\n",
        "\n",
        "class GoodBoss(Boss):\n",
        "    def __init__(self, name, attitude, behaviour, face, experience):\n",
        "        super().__init__(name, attitude, behaviour, face)              # ! PAS OUBLIER !!!!!!!!!!!!!!!!!!!\n",
        "        self.experience = experience \n",
        "        \n",
        "    def nurture_talent(self):\n",
        "      #A good boss nurtures talent making employees happy!\n",
        "      return \"The employees feel all warm and fuzzy then put their talents to good use.\"\n",
        "\n",
        "    def encourage(self):\n",
        "      #A good boss encourages their employees!\n",
        "      return \"The team cheers, starts shouting awesome slogans then gets back to work.\"\n",
        "        \n",
        "michel = GoodBoss(\"Michel\", \"Positive\", \"Funny\", \"Happy\", 5) #appelle la fonction __init__\n",
        "\n",
        "print(\"{}'s Behaviour: {}\\nHow does {} nurtures talents: {}\".format(michel.name,\n",
        "                                                                     michel.get_behaviour(),\n",
        "                                                                     michel.name,\n",
        "                                                                     michel.nurture_talent()))\n",
        "\n",
        "class BadBoss(Boss):\n",
        "    def __init__(self, name, attitude, behaviour, face):\n",
        "        super().__init__(name, attitude, behaviour, face)\n",
        "        \n",
        "    def hoard_praise(self):\n",
        "      return \"The employees feel cheated and start plotting Bob's demise while he stares at his own reflection.\"\n",
        "\n",
        "    def yell(self):\n",
        "      return \"Everyone stares while {} yells.\".format(self.name)\n",
        "   \n",
        "\n",
        "bob = BadBoss(\"Bob\", \"Crazy\", \"Anti-Social\", \"Scowl of Hate\")\n",
        "print(bob.yell())"
      ]
    },
    {
      "cell_type": "markdown",
      "metadata": {
        "id": "roisa5XU2jM4"
      },
      "source": [
        "Here we created the _GoodBoss_ class, in which we added the `experience' attribute that corresponds to the number of years of experience and we inherited the attributes from _Boss_. We also added two `nurture_talent()` & `encourage()` methods which are specific to GoodBoss. \n",
        "\n",
        "We did the same with the _BadBoss_ class, in which we did not add new attributes, but added methods specific to _BadBoss_: `yell()` & `hoard_praises()`.\n",
        "\n",
        "#### Super()\n",
        "\n",
        "\n",
        "There is, however, something new which is this *super.__init__()*. This is a concept that is not necessarily easy to understand at first. The principle is actually only useful when you need to inherit your subclass from several parent classes. You can look at this [Stack Overflow answer](https://stackoverflow.com/questions/576169/understanding-python-super-with-init-methods) for more details. \n",
        "\n",
        "The important thing to remember, however, is to use this method in addition to your *__init__()* of your subclass to make sure your inheritance goes smoothly. "
      ]
    },
    {
      "cell_type": "markdown",
      "metadata": {
        "id": "cwxVBfZw5tMQ"
      },
      "source": [
        "## Compose Layers "
      ]
    },
    {
      "cell_type": "markdown",
      "metadata": {
        "id": "dY7gS9ke5-Cm"
      },
      "source": [
        "Now let's look at the concept of _layer composition_. This expression sounds scary, however, you've already done it as soon as you've created a neural network. This is what layer-building with Keras is all about:"
      ]
    },
    {
      "cell_type": "code",
      "execution_count": 10,
      "metadata": {
        "colab": {
          "base_uri": "https://localhost:8080/"
        },
        "id": "Ji1NoSF16Q76",
        "outputId": "234dc189-5f26-4fc5-a9cf-3618671fd9e5"
      },
      "outputs": [
        {
          "data": {
            "text/plain": [
              "<tf.Tensor: shape=(1, 2, 3, 3), dtype=float32, numpy=\n",
              "array([[[[0., 0., 0.],\n",
              "         [0., 0., 0.],\n",
              "         [0., 0., 0.]],\n",
              "\n",
              "        [[0., 0., 0.],\n",
              "         [0., 0., 0.],\n",
              "         [0., 0., 0.]]]], dtype=float32)>"
            ]
          },
          "execution_count": 10,
          "metadata": {},
          "output_type": "execute_result"
        }
      ],
      "source": [
        "my_seq = tf.keras.Sequential([tf.keras.layers.Conv2D(1, (1, 1), input_shape=(None, None, 3)),\n",
        "                             tf.keras.layers.BatchNormalization(),\n",
        "                             tf.keras.layers.Conv2D(2, 1,padding='same'),\n",
        "                             tf.keras.layers.BatchNormalization(),\n",
        "                             tf.keras.layers.Conv2D(3, (1, 1)),\n",
        "                             tf.keras.layers.BatchNormalization()])\n",
        "\n",
        "my_seq(tf.zeros([1, 2, 3, 3]))"
      ]
    },
    {
      "cell_type": "markdown",
      "metadata": {
        "id": "ocL_d43o6oSJ"
      },
      "source": [
        "This is a _diaper composition_. Here we have initialized a simple convolutional neural network in which we have added layers Conv2D, BatchNormalization etc. \n",
        "\n",
        "In all the _classical_ cases of Deep Learning, this will be more than enough to create robust models. Tensorflow developers [strongly recommend using this type of syntax](https://www.tensorflow.org/beta/tutorials/eager/custom_layers) as often as possible as it is easier to understand. \n",
        "\n",
        "However, if you want to implement more complex models, you will need to create custom compound layers. The principle, however, is not that complicated. You will create a subclass that will inherit from the parent class _keras.Model_. You can then create your layers as you wish. \n",
        "\n",
        "Let's see how we can rewrite the above sequence by creating a subclass of _keras.Model_."
      ]
    },
    {
      "cell_type": "code",
      "execution_count": 11,
      "metadata": {
        "id": "riMxBnLuvW_3"
      },
      "outputs": [],
      "source": [
        "# import tensorflow as tf\n",
        "\n",
        "inputs = tf.keras.Input(shape=(3,))\n",
        "x = tf.keras.layers.Dense(4, activation=tf.nn.relu)(inputs)\n",
        "outputs = tf.keras.layers.Dense(5, activation=tf.nn.softmax)(x)\n",
        "model = tf.keras.Model(inputs=inputs, outputs=outputs)"
      ]
    },
    {
      "cell_type": "code",
      "execution_count": 12,
      "metadata": {
        "colab": {
          "base_uri": "https://localhost:8080/"
        },
        "id": "9ytOqu8g6YH9",
        "outputId": "c09c59a5-8f87-413a-9aee-3adc3c55bf42"
      },
      "outputs": [
        {
          "data": {
            "text/plain": [
              "<tf.Tensor: shape=(1, 2, 3, 3), dtype=float32, numpy=\n",
              "array([[[[0., 0., 0.],\n",
              "         [0., 0., 0.],\n",
              "         [0., 0., 0.]],\n",
              "\n",
              "        [[0., 0., 0.],\n",
              "         [0., 0., 0.],\n",
              "         [0., 0., 0.]]]], dtype=float32)>"
            ]
          },
          "execution_count": 12,
          "metadata": {},
          "output_type": "execute_result"
        }
      ],
      "source": [
        "class ResnetIdentityBlock(tf.keras.Model):\n",
        "  \n",
        "  def __init__(self, kernel_size, filters):\n",
        "    super().__init__()\n",
        "    \n",
        "    filter1, filter2, filter3 = filters # filters = interable (filter1,filter2,filter3), [filter1,filter2,filter3]\n",
        "    \n",
        "    # On instancie les couches\n",
        "    # Pas de cablage juste de l'intaciation\n",
        "    self.conv2a = tf.keras.layers.Conv2D(filters = filter1,kernel_size= kernel_size, padding=\"same\")\n",
        "    self.bn2a = tf.keras.layers.BatchNormalization()\n",
        "    \n",
        "    self.conv2b = tf.keras.layers.Conv2D(filter2, kernel_size, padding=\"same\")\n",
        "    self.bn2b = tf.keras.layers.BatchNormalization()\n",
        "    \n",
        "    self.conv2c = tf.keras.layers.Conv2D(filter3, kernel_size, padding=\"same\")\n",
        "    self.bn2c = tf.keras.layers.BatchNormalization()\n",
        "    \n",
        "\n",
        "\n",
        "  def call(self, input_tensor, training=False):                   # ! *************** \n",
        "                                                                  # Nous c'est là qu'on va faire le cablage\n",
        "    x = self.conv2a(input_tensor)\n",
        "    x = self.bn2a(x, training=training)\n",
        "    x = tf.nn.relu(x)\n",
        "    \n",
        "    x = self.conv2b(x)\n",
        "    x = self.bn2b(x, training=training)\n",
        "    x = tf.nn.relu(x)\n",
        "    \n",
        "    x = self.conv2c(x)\n",
        "    x = self.bn2c(x, training=training)\n",
        "    x = tf.nn.relu(x)\n",
        "    \n",
        "    x += input_tensor\n",
        "    \n",
        "    return x\n",
        "    \n",
        "\n",
        "block = ResnetIdentityBlock(2, [1,2,3])\n",
        "block(tf.zeros([1, 2, 3, 3]))               # C'est call qui est invoqué. Permet "
      ]
    },
    {
      "cell_type": "code",
      "execution_count": 13,
      "metadata": {
        "id": "MHk2dn0S0ing"
      },
      "outputs": [],
      "source": [
        "# On fait 10 blocks avec 3 layers\n",
        "\n",
        "model_ = tf.keras.Sequential([ResnetIdentityBlock(2, [1,2,3]) for i in range(10)])"
      ]
    },
    {
      "cell_type": "code",
      "execution_count": 14,
      "metadata": {
        "colab": {
          "base_uri": "https://localhost:8080/"
        },
        "id": "yIpf5GBo8YTN",
        "outputId": "224adcf8-b362-482a-d6a2-b01c0b9c71f2"
      },
      "outputs": [
        {
          "data": {
            "text/plain": [
              "<tf.Tensor: shape=(1, 2, 3, 3), dtype=float32, numpy=\n",
              "array([[[[0., 0., 0.],\n",
              "         [0., 0., 0.],\n",
              "         [0., 0., 0.]],\n",
              "\n",
              "        [[0., 0., 0.],\n",
              "         [0., 0., 0.],\n",
              "         [0., 0., 0.]]]], dtype=float32)>"
            ]
          },
          "execution_count": 14,
          "metadata": {},
          "output_type": "execute_result"
        }
      ],
      "source": [
        "model_(tf.zeros([1, 2, 3, 3]))"
      ]
    },
    {
      "cell_type": "code",
      "execution_count": 15,
      "metadata": {
        "colab": {
          "base_uri": "https://localhost:8080/",
          "height": 1000
        },
        "id": "gkOtEI3374eF",
        "outputId": "29fd50dc-8f29-4b7e-932d-8dd654bd90b4"
      },
      "outputs": [
        {
          "data": {
            "image/png": "[encoded data removed]",
            "text/plain": [
              "<IPython.core.display.Image object>"
            ]
          },
          "execution_count": 15,
          "metadata": {},
          "output_type": "execute_result"
        }
      ],
      "source": [
        "tf.keras.utils.plot_model(model_, show_shapes=True)"
      ]
    },
    {
      "cell_type": "markdown",
      "metadata": {
        "id": "AayOeEBuAlQ7"
      },
      "source": [
        "So this is an exact copy of our sequential model of Keras. The structure of your subclass will very often follow this exact structure: \n",
        "\n",
        "* *__init__()* : Whose purpose is to initialize your layers and inherit _keras.Model_\n",
        "* *call()* : The purpose of this is to implement your _forward pass_, i.e. how your model will perform the operations from the first layer to the last one. \n",
        "\n",
        "So you can see that there is more flexibility to inherit from _keras.Model_ since you will be able to manipulate your _forward pass_ exactly the way you want! "
      ]
    },
    {
      "cell_type": "markdown",
      "metadata": {
        "id": "G1Dl8uJpLCmq"
      },
      "source": [
        "## Resources 📚📚\n",
        "\n",
        "* [Python Subclasses](https://pybit.es/python-subclasses.html)\n",
        "* [Custom Layers](rg/beta/tutorials/eager/custom_layers)\n",
        "* [Understand Python super() with __init__() methods](https://stackoverflow.com/questions/576169/understanding-python-super-with-init-methods)"
      ]
    }
  ],
  "metadata": {
    "colab": {
      "collapsed_sections": [],
      "name": "02-Composing_Layers_and_Subclassing.ipynb",
      "provenance": []
    },
    "kernelspec": {
      "display_name": "Python 3",
      "name": "python3"
    },
    "language_info": {
      "codemirror_mode": {
        "name": "ipython",
        "version": 3
      },
      "file_extension": ".py",
      "mimetype": "text/x-python",
      "name": "python",
      "nbconvert_exporter": "python",
      "pygments_lexer": "ipython3",
      "version": "3.10.13"
    }
  },
  "nbformat": 4,
  "nbformat_minor": 0
}
