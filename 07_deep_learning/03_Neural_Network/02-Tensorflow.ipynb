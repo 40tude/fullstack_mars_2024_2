{
 "cells": [
  {
   "cell_type": "markdown",
   "metadata": {
    "id": "bRV3iNsKyNq8"
   },
   "source": [
    "# VOIR AUSSI LA VERSION SUR COLAB\n",
    "\n",
    "\n",
    "# Tensorflow 💻💻\n",
    "\n",
    "Tensorflow is an end-to-end open source machine learning platform developped by Google that will make it very easy for us to preprocess data, build models and monitor performance for deep learning projects!\n",
    "\n",
    "<img src=\"https://full-stack-assets.s3.eu-west-3.amazonaws.com/images/M08-DeepLearning/tf_logo.png\" />"
   ]
  },
  {
   "cell_type": "markdown",
   "metadata": {
    "id": "0toxtWFQz4ux"
   },
   "source": [
    "## What you will learn in this course ? 🧐🧐\n",
    "\n",
    "This lecture will work like a demo that you can follow along where we start with the basics of tensorflow and learn how to load data and prepare it for training deep learning models. Here is the outline of the subjects we will cover here :\n",
    "* General introduction to what is tensorflow and why we use it?\n",
    "* Understand how to use and navigate the documentation\n",
    "* Intro to tensorflow, tensor operations\n",
    "* Data processing with tensorflow, how to take different kinds of data and turn them into tensors and tensor datasets?"
   ]
  },
  {
   "cell_type": "markdown",
   "metadata": {
    "id": "_Z8lnl8M1DTv"
   },
   "source": [
    "## General Introduction\n",
    "\n",
    "Tensorflow is a python library for machine learning and more specifically deep learning, since the release of version 2 it's able to run eagerly (meaning that you can now see the results of any operation immediatly very much like what we have seen in python, as opposed to Spark for example that uses lazy execution).\n",
    "\n",
    "It is not the only tool out there to build deep learning applications, another very popular one is Pytorch, which has been developped by facebook.\n",
    "\n",
    "Tensorflow is open-source, which means that all the code for every functionnality is publicly available on github <a href=\"https://github.com/tensorflow\">here</a> and a very active community of users may suggest updates and even contribute to improving this tool! It also means you can create your own functionnalities using the source code provided.\n",
    "\n",
    "The main reasons why we chose to teach you deep learning through tensorflow is its simplicity of use and the ever increasing variety of ressources that come with it. We will discover some of them together like tensorboard and tensorflow hub. Tensorflow is also very flexible and customizable, so during the module we will go from learning how to use veyr simple functionnalities and digging deeper and deeper until you know how to reproduce any application imaginable using the library."
   ]
  },
  {
   "cell_type": "markdown",
   "metadata": {
    "id": "-JqMYjLz379p"
   },
   "source": [
    "## Tensorflow documentation\n",
    "\n",
    "The tensoflow documentation contains four main sections :\n",
    "* <a href=\"https://www.tensorflow.org/install\">Installation guidelines</a>\n",
    "* <a href=\"https://www.tensorflow.org/tutorials\">Tutorials</a> with examples on how to use tensorflow on practical usecases\n",
    "* <a href=\"https://www.tensorflow.org/guide\">Guide</a>, a general walthrough the various functionnalities and additional libraries that come with tensorflow\n",
    "* <a href=\"https://www.tensorflow.org/api_docs/\">TF documentation</a> a classic documentation describing all the different modules of tensorflow.\n",
    "\n",
    "Let's take an example page from the documentation so we can explain to you how to navigate, read it, and understand it :\n"
   ]
  },
  {
   "cell_type": "markdown",
   "metadata": {
    "id": "X_xOcvdL9sG9"
   },
   "source": [
    "## Practical introduction to tensorflow en tensor operations\n",
    "\n",
    "The main class of tensorflow objects is... you guessed it : Tensors ! Tensors are built on another class of objects that you are already very familiar with : numpy arrays! This is great news because it means that anything you used to be able to do with numpy arrays will be possible with tensors as well, also tensors can easily be converted into arrays and the other way around.\n",
    "\n",
    "Let's practice a little together :"
   ]
  },
  {
   "cell_type": "code",
   "execution_count": null,
   "metadata": {
    "id": "jMeTNDLQ_GVZ"
   },
   "outputs": [],
   "source": [
    "# tensorflow is pre installed in colab but if you wish to use your local machine \n",
    "# please refer to the installation guidelines"
   ]
  },
  {
   "cell_type": "code",
   "execution_count": 1,
   "metadata": {
    "colab": {
     "base_uri": "https://localhost:8080/",
     "height": 35
    },
    "executionInfo": {
     "elapsed": 2221,
     "status": "ok",
     "timestamp": 1612357853611,
     "user": {
      "displayName": "Charles Tanguy",
      "photoUrl": "",
      "userId": "11930294859591867631"
     },
     "user_tz": -60
    },
    "id": "HRh3j1SWyMU8",
    "outputId": "8f84abd0-6b1e-42d7-f0f4-1737cd1ec33f"
   },
   "outputs": [
    {
     "data": {
      "text/plain": [
       "'2.10.0'"
      ]
     },
     "execution_count": 1,
     "metadata": {},
     "output_type": "execute_result"
    }
   ],
   "source": [
    "# first let's check that the installation went smoothly by printing the installed\n",
    "# version\n",
    "import tensorflow as tf\n",
    "tf.__version__"
   ]
  },
  {
   "cell_type": "markdown",
   "metadata": {
    "id": "2h7uA7QCBN_9"
   },
   "source": [
    "### Tensor operations"
   ]
  },
  {
   "cell_type": "code",
   "execution_count": 2,
   "metadata": {
    "colab": {
     "base_uri": "https://localhost:8080/"
    },
    "executionInfo": {
     "elapsed": 480,
     "status": "ok",
     "timestamp": 1612358012805,
     "user": {
      "displayName": "Charles Tanguy",
      "photoUrl": "",
      "userId": "11930294859591867631"
     },
     "user_tz": -60
    },
    "id": "QIN344MYBYcH",
    "outputId": "0af524cd-bfcc-4b3c-dc1e-ed5ec9d67986"
   },
   "outputs": [
    {
     "name": "stdout",
     "output_type": "stream",
     "text": [
      "tf.Tensor(\n",
      "[[1 2]\n",
      " [3 4]], shape=(2, 2), dtype=int32)\n"
     ]
    }
   ],
   "source": [
    "# let's create our first tensor\n",
    "# this is a constant tensor, meaning it is immutable, the values inside it\n",
    "# may not be changed in place\n",
    "tensor = tf.constant([[1,2],[3,4]])\n",
    "print(tensor)"
   ]
  },
  {
   "cell_type": "code",
   "execution_count": 3,
   "metadata": {
    "colab": {
     "base_uri": "https://localhost:8080/"
    },
    "executionInfo": {
     "elapsed": 479,
     "status": "ok",
     "timestamp": 1612358240922,
     "user": {
      "displayName": "Charles Tanguy",
      "photoUrl": "",
      "userId": "11930294859591867631"
     },
     "user_tz": -60
    },
    "id": "Sjx6LWteB7fa",
    "outputId": "ab2bbe6f-3abf-4f3a-c8d0-bbf823e83a65"
   },
   "outputs": [
    {
     "name": "stdout",
     "output_type": "stream",
     "text": [
      "tf.Tensor(\n",
      "[[6 7]\n",
      " [8 9]], shape=(2, 2), dtype=int32)\n",
      "tf.Tensor(\n",
      "[[6 7]\n",
      " [8 9]], shape=(2, 2), dtype=int32)\n"
     ]
    }
   ],
   "source": [
    "# Adding a scalar to a tensor\n",
    "print(tensor + 5)\n",
    "# We summing elements with different shapes, something called broadcasting\n",
    "# happens, that expands the smaller object so it can be added to the larger \n",
    "# object\n",
    "# It's equivalent to this operation\n",
    "print(tensor + tf.constant([[5,5],[5,5]]))"
   ]
  },
  {
   "cell_type": "code",
   "execution_count": 4,
   "metadata": {
    "colab": {
     "base_uri": "https://localhost:8080/"
    },
    "executionInfo": {
     "elapsed": 761,
     "status": "ok",
     "timestamp": 1612358356765,
     "user": {
      "displayName": "Charles Tanguy",
      "photoUrl": "",
      "userId": "11930294859591867631"
     },
     "user_tz": -60
    },
    "id": "36S_agBlCpL_",
    "outputId": "8059d4bd-8398-4007-b2b0-1ea090e5ef0f"
   },
   "outputs": [
    {
     "name": "stdout",
     "output_type": "stream",
     "text": [
      "tf.Tensor(\n",
      "[[ 6  8]\n",
      " [10 12]], shape=(2, 2), dtype=int32)\n"
     ]
    }
   ],
   "source": [
    "# Adding tensors of the same shape\n",
    "tensor2 = tf.constant([[5,6],[7,8]])\n",
    "print(tensor + tensor2)"
   ]
  },
  {
   "cell_type": "code",
   "execution_count": 5,
   "metadata": {
    "colab": {
     "base_uri": "https://localhost:8080/"
    },
    "executionInfo": {
     "elapsed": 519,
     "status": "ok",
     "timestamp": 1612358467300,
     "user": {
      "displayName": "Charles Tanguy",
      "photoUrl": "",
      "userId": "11930294859591867631"
     },
     "user_tz": -60
    },
    "id": "0qDL9obCDDXL",
    "outputId": "4e9f7f3c-f7cc-4559-ec83-29d60a461dcb"
   },
   "outputs": [
    {
     "name": "stdout",
     "output_type": "stream",
     "text": [
      "tf.Tensor(\n",
      "[[2 4]\n",
      " [4 6]], shape=(2, 2), dtype=int32)\n",
      "tf.Tensor(\n",
      "[[2 4]\n",
      " [4 6]], shape=(2, 2), dtype=int32)\n"
     ]
    }
   ],
   "source": [
    "# Adding tensors of different shapes\n",
    "tensor3 = tf.constant([1,2])\n",
    "print(tensor + tensor3)\n",
    "# By broadcasting it's equivalent to\n",
    "print(tensor + tf.constant([[1,2],[1,2]]))"
   ]
  },
  {
   "cell_type": "code",
   "execution_count": 6,
   "metadata": {
    "colab": {
     "base_uri": "https://localhost:8080/"
    },
    "executionInfo": {
     "elapsed": 696,
     "status": "ok",
     "timestamp": 1612359643052,
     "user": {
      "displayName": "Charles Tanguy",
      "photoUrl": "",
      "userId": "11930294859591867631"
     },
     "user_tz": -60
    },
    "id": "kvU-Ko9yDpv8",
    "outputId": "67aa003e-e66f-442c-e981-47581ad521be"
   },
   "outputs": [
    {
     "name": "stdout",
     "output_type": "stream",
     "text": [
      "tf.Tensor(\n",
      "[[2 3]\n",
      " [5 6]], shape=(2, 2), dtype=int32)\n",
      "tf.Tensor(\n",
      "[[2 3]\n",
      " [5 6]], shape=(2, 2), dtype=int32)\n"
     ]
    }
   ],
   "source": [
    "# Adding tensors of different shapes 2\n",
    "tensor4 = tf.constant([[1],[2]])\n",
    "print(tensor + tensor4)\n",
    "# By broacasting is equivalent to\n",
    "print(tensor + tf.constant([[1,1],[2,2]]))"
   ]
  },
  {
   "cell_type": "code",
   "execution_count": 7,
   "metadata": {
    "colab": {
     "base_uri": "https://localhost:8080/"
    },
    "executionInfo": {
     "elapsed": 977,
     "status": "ok",
     "timestamp": 1612359662515,
     "user": {
      "displayName": "Charles Tanguy",
      "photoUrl": "",
      "userId": "11930294859591867631"
     },
     "user_tz": -60
    },
    "id": "SFWnPzTlH6xz",
    "outputId": "e21bb294-6260-474d-db48-973dc2d01a51"
   },
   "outputs": [
    {
     "name": "stdout",
     "output_type": "stream",
     "text": [
      "tf.Tensor(\n",
      "[[ 4  8]\n",
      " [12 16]], shape=(2, 2), dtype=int32)\n"
     ]
    }
   ],
   "source": [
    "# Multiplication by a scalar\n",
    "print(tensor * 4)"
   ]
  },
  {
   "cell_type": "code",
   "execution_count": 8,
   "metadata": {
    "colab": {
     "base_uri": "https://localhost:8080/"
    },
    "executionInfo": {
     "elapsed": 339,
     "status": "ok",
     "timestamp": 1612359886554,
     "user": {
      "displayName": "Charles Tanguy",
      "photoUrl": "",
      "userId": "11930294859591867631"
     },
     "user_tz": -60
    },
    "id": "AlBPpx4VIrVP",
    "outputId": "9262a5ed-727c-4034-a065-017a936b24e3"
   },
   "outputs": [
    {
     "name": "stdout",
     "output_type": "stream",
     "text": [
      "tf.Tensor(\n",
      "[[ 5 12]\n",
      " [21 32]], shape=(2, 2), dtype=int32)\n"
     ]
    }
   ],
   "source": [
    "# Pointwise multiplication by a tensor of same shape\n",
    "print(tensor * tensor2)"
   ]
  },
  {
   "cell_type": "code",
   "execution_count": 9,
   "metadata": {
    "colab": {
     "base_uri": "https://localhost:8080/"
    },
    "executionInfo": {
     "elapsed": 985,
     "status": "ok",
     "timestamp": 1612359942778,
     "user": {
      "displayName": "Charles Tanguy",
      "photoUrl": "",
      "userId": "11930294859591867631"
     },
     "user_tz": -60
    },
    "id": "NgglNxAWI62A",
    "outputId": "1fcf0180-6383-477c-f3ac-d3ac6a569f4e"
   },
   "outputs": [
    {
     "name": "stdout",
     "output_type": "stream",
     "text": [
      "tf.Tensor(\n",
      "[[1 4]\n",
      " [3 8]], shape=(2, 2), dtype=int32)\n",
      "tf.Tensor(\n",
      "[[1 2]\n",
      " [6 8]], shape=(2, 2), dtype=int32)\n"
     ]
    }
   ],
   "source": [
    "# Pointwise multiplication of tensors of different shapes\n",
    "print(tensor * tensor3)\n",
    "print(tensor * tensor4)"
   ]
  },
  {
   "cell_type": "code",
   "execution_count": 10,
   "metadata": {
    "colab": {
     "base_uri": "https://localhost:8080/"
    },
    "executionInfo": {
     "elapsed": 483,
     "status": "ok",
     "timestamp": 1612360121712,
     "user": {
      "displayName": "Charles Tanguy",
      "photoUrl": "",
      "userId": "11930294859591867631"
     },
     "user_tz": -60
    },
    "id": "K3btMj_4JFeY",
    "outputId": "0cb13aca-a9cd-48b9-ec9b-00941bf6682c"
   },
   "outputs": [
    {
     "name": "stdout",
     "output_type": "stream",
     "text": [
      "tf.Tensor(\n",
      "[[19 22]\n",
      " [43 50]], shape=(2, 2), dtype=int32)\n",
      "tf.Tensor(\n",
      "[[ 5]\n",
      " [11]], shape=(2, 1), dtype=int32)\n"
     ]
    }
   ],
   "source": [
    "# Matrix multiplication of tensors\n",
    "print(tf.matmul(tensor, tensor2))\n",
    "print(tf.matmul(tensor, tensor4))"
   ]
  },
  {
   "cell_type": "markdown",
   "metadata": {
    "id": "otK30rFbKYV4"
   },
   "source": [
    "### Variable tensors\n",
    "Variable tensors, unlike constant tensors, are mutable which means new values may be assigned to them in place, this will be useful when working with models with trainable parameters."
   ]
  },
  {
   "cell_type": "code",
   "execution_count": 11,
   "metadata": {
    "colab": {
     "base_uri": "https://localhost:8080/"
    },
    "executionInfo": {
     "elapsed": 525,
     "status": "ok",
     "timestamp": 1612360571228,
     "user": {
      "displayName": "Charles Tanguy",
      "photoUrl": "",
      "userId": "11930294859591867631"
     },
     "user_tz": -60
    },
    "id": "MUAc10yKKvNd",
    "outputId": "562f5ac1-ae95-48f8-ac81-a8d1ad593d40"
   },
   "outputs": [
    {
     "name": "stdout",
     "output_type": "stream",
     "text": [
      "<tf.Variable 'Variable:0' shape=(2, 2) dtype=int32, numpy=\n",
      "array([[2, 3],\n",
      "       [4, 5]])>\n",
      "<tf.Variable 'Variable:0' shape=(2, 2) dtype=int32, numpy=\n",
      "array([[0, 1],\n",
      "       [2, 3]])>\n",
      "<tf.Variable 'Variable:0' shape=(2, 2) dtype=int32, numpy=\n",
      "array([[1, 2],\n",
      "       [3, 4]])>\n"
     ]
    }
   ],
   "source": [
    "variable_tensor = tf.Variable([[1,2],[3,4]])\n",
    "variable_tensor.assign_add([[1,1],[1,1]]) # adding one to all components\n",
    "print(variable_tensor)\n",
    "variable_tensor.assign_sub([[2,2],[2,2]]) # substracting two to all components\n",
    "print(variable_tensor)\n",
    "variable_tensor.assign([[1,2],[3,4]]) # assigning a new value all together\n",
    "print(variable_tensor)"
   ]
  },
  {
   "cell_type": "markdown",
   "metadata": {
    "id": "_R8v3x1cLj7w"
   },
   "source": [
    "### Useful tensor attributes and methods\n",
    "Here we present some common attributes and methods of tensors (we will discover many more in the future but these are really fundamental)"
   ]
  },
  {
   "cell_type": "code",
   "execution_count": 12,
   "metadata": {
    "colab": {
     "base_uri": "https://localhost:8080/"
    },
    "executionInfo": {
     "elapsed": 469,
     "status": "ok",
     "timestamp": 1612360687056,
     "user": {
      "displayName": "Charles Tanguy",
      "photoUrl": "",
      "userId": "11930294859591867631"
     },
     "user_tz": -60
    },
    "id": "SSOO133TLxPP",
    "outputId": "c1549709-05cc-4acb-94d0-6db62f2288f2"
   },
   "outputs": [
    {
     "data": {
      "text/plain": [
       "array([[1, 2],\n",
       "       [3, 4]])"
      ]
     },
     "execution_count": 12,
     "metadata": {},
     "output_type": "execute_result"
    }
   ],
   "source": [
    "tensor.numpy() # converts the tensor to a numpy array"
   ]
  },
  {
   "cell_type": "code",
   "execution_count": 13,
   "metadata": {
    "colab": {
     "base_uri": "https://localhost:8080/"
    },
    "executionInfo": {
     "elapsed": 762,
     "status": "ok",
     "timestamp": 1612360708242,
     "user": {
      "displayName": "Charles Tanguy",
      "photoUrl": "",
      "userId": "11930294859591867631"
     },
     "user_tz": -60
    },
    "id": "l18J3e_-L66x",
    "outputId": "b16d63eb-2319-4632-9ba4-348e6f8bd051"
   },
   "outputs": [
    {
     "data": {
      "text/plain": [
       "TensorShape([2, 2])"
      ]
     },
     "execution_count": 13,
     "metadata": {},
     "output_type": "execute_result"
    }
   ],
   "source": [
    "tensor.shape # gives the shape of the tensor"
   ]
  },
  {
   "cell_type": "code",
   "execution_count": 14,
   "metadata": {
    "colab": {
     "base_uri": "https://localhost:8080/"
    },
    "executionInfo": {
     "elapsed": 752,
     "status": "ok",
     "timestamp": 1612360736279,
     "user": {
      "displayName": "Charles Tanguy",
      "photoUrl": "",
      "userId": "11930294859591867631"
     },
     "user_tz": -60
    },
    "id": "N4SFnQ7qL_5t",
    "outputId": "eccfae6f-758c-48bd-8830-4cded3ac351b"
   },
   "outputs": [
    {
     "data": {
      "text/plain": [
       "<tf.Tensor: shape=(4, 1), dtype=int32, numpy=\n",
       "array([[1],\n",
       "       [2],\n",
       "       [3],\n",
       "       [4]])>"
      ]
     },
     "execution_count": 14,
     "metadata": {},
     "output_type": "execute_result"
    }
   ],
   "source": [
    "tf.reshape(tensor, [-1,1]) # reshapes the tensor"
   ]
  },
  {
   "cell_type": "markdown",
   "metadata": {
    "id": "XgjcNsDiNah8"
   },
   "source": [
    "## Data processing with tensorflow\n",
    "\n",
    "In this part we will see an example of processing tabular data with tensorflow"
   ]
  },
  {
   "cell_type": "code",
   "execution_count": 16,
   "metadata": {
    "id": "epNznsnwNoNf"
   },
   "outputs": [],
   "source": [
    "from sklearn.datasets import load_iris \n",
    "iris = load_iris() # loding the iris dataset\n",
    "data = iris.data # storing data in a separate object\n",
    "target = iris.target # storin the target in a separate object"
   ]
  },
  {
   "cell_type": "code",
   "execution_count": 17,
   "metadata": {
    "colab": {
     "base_uri": "https://localhost:8080/"
    },
    "executionInfo": {
     "elapsed": 775,
     "status": "ok",
     "timestamp": 1612361729153,
     "user": {
      "displayName": "Charles Tanguy",
      "photoUrl": "",
      "userId": "11930294859591867631"
     },
     "user_tz": -60
    },
    "id": "o-JbAnbeN2fA",
    "outputId": "d011bdff-fd7f-495c-93a9-d4445da39f47"
   },
   "outputs": [
    {
     "name": "stdout",
     "output_type": "stream",
     "text": [
      "x: tf.Tensor([6.  2.2 4.  1. ], shape=(4,), dtype=float64)\n",
      "y: tf.Tensor(1, shape=(), dtype=int32)\n",
      "x: tf.Tensor([6.  2.2 4.  1. ], shape=(4,), dtype=float64)\n",
      "y: tf.Tensor(1, shape=(), dtype=int32)\n"
     ]
    }
   ],
   "source": [
    "# To train deep learning models, we will use batch gradient descent\n",
    "# Therefore we are going to form batch datasets with tensorflow\n",
    "\n",
    "from sklearn.model_selection import train_test_split\n",
    "X_train, X_test, y_train, y_test = train_test_split(data,target)\n",
    "\n",
    "# to form a tensor dataset we will use a function call from_tensor_slices\n",
    "# that converts tuples of arrays into tensor datasets\n",
    "train = tf.data.Dataset.from_tensor_slices((X_train,y_train))\n",
    "test = tf.data.Dataset.from_tensor_slices((X_test,y_test))\n",
    "\n",
    "# to extract a tensor from these objects we can use two different techniques :\n",
    "x, y = next(iter(train)) # iter turns train into an iterator and next picks the next element of train\n",
    "print('x:',x)\n",
    "print('y:',y)\n",
    "\n",
    "for x, y in train.take(1): #take will give you the first n tensors in the dataset\n",
    "  print('x:',x)\n",
    "  print('y:',y)"
   ]
  },
  {
   "cell_type": "code",
   "execution_count": 18,
   "metadata": {
    "colab": {
     "base_uri": "https://localhost:8080/"
    },
    "executionInfo": {
     "elapsed": 518,
     "status": "ok",
     "timestamp": 1612361784633,
     "user": {
      "displayName": "Charles Tanguy",
      "photoUrl": "",
      "userId": "11930294859591867631"
     },
     "user_tz": -60
    },
    "id": "Zv8jBW5wP_yl",
    "outputId": "e4e2f635-8e96-46e4-db17-63605a538a88"
   },
   "outputs": [
    {
     "data": {
      "text/plain": [
       "<TensorSliceDataset element_spec=(TensorSpec(shape=(4,), dtype=tf.float64, name=None), TensorSpec(shape=(), dtype=tf.int32, name=None))>"
      ]
     },
     "execution_count": 18,
     "metadata": {},
     "output_type": "execute_result"
    }
   ],
   "source": [
    "# let's see the type of object obtained for train\n",
    "train\n",
    "# it's a TensorSliceDataset that contains tuples of tensors of respective shapes\n",
    "# (4,) (meaning 4 columns) and () (meaning it's a scalar)"
   ]
  },
  {
   "cell_type": "code",
   "execution_count": 19,
   "metadata": {
    "colab": {
     "base_uri": "https://localhost:8080/"
    },
    "executionInfo": {
     "elapsed": 501,
     "status": "ok",
     "timestamp": 1612362573915,
     "user": {
      "displayName": "Charles Tanguy",
      "photoUrl": "",
      "userId": "11930294859591867631"
     },
     "user_tz": -60
    },
    "id": "d1PfV_zhQV2Z",
    "outputId": "fc40e6c2-76fa-4f4c-c038-821f9dad6d26"
   },
   "outputs": [
    {
     "name": "stdout",
     "output_type": "stream",
     "text": [
      "x: tf.Tensor([4.8 3.4 1.6 0.2], shape=(4,), dtype=float64)\n",
      "y: tf.Tensor(0, shape=(), dtype=int32)\n",
      "x: tf.Tensor([6.3 2.7 4.9 1.8], shape=(4,), dtype=float64)\n",
      "y: tf.Tensor(2, shape=(), dtype=int32)\n",
      "x: tf.Tensor([6.4 2.7 5.3 1.9], shape=(4,), dtype=float64)\n",
      "y: tf.Tensor(2, shape=(), dtype=int32)\n",
      "x: tf.Tensor([5.4 3.4 1.5 0.4], shape=(4,), dtype=float64)\n",
      "y: tf.Tensor(0, shape=(), dtype=int32)\n"
     ]
    }
   ],
   "source": [
    "# Before creating our batches we need to add a property to our tensor dataset\n",
    "# the ability to shuffle th observations every time we use this object\n",
    "# the argument inside shuffle \"buffer_size\" gives you the amount of samples we wish to select\n",
    "# after each shuffle, if buffer_size is greater than the number of elements inside\n",
    "# the dataset it will simply take them all (it does not oversample)\n",
    "train_shuffle = train.shuffle(buffer_size=len(X_train))\n",
    "test_shuffle = test.shuffle(buffer_size=len(X_test))\n",
    "# the shuffle method will give this property to the tensor dataset\n",
    "for x, y in train_shuffle.take(1): \n",
    "  print('x:',x)\n",
    "  print('y:',y)\n",
    "for x, y in train_shuffle.take(1): \n",
    "  print('x:',x)\n",
    "  print('y:',y)\n",
    "# and now every time I use .take I get a different tensor\n",
    "# same thing goes for next(iter())\n",
    "x, y = next(iter(train_shuffle)) \n",
    "print('x:',x)\n",
    "print('y:',y)\n",
    "x, y = next(iter(train_shuffle)) \n",
    "print('x:',x)\n",
    "print('y:',y)"
   ]
  },
  {
   "cell_type": "code",
   "execution_count": 20,
   "metadata": {
    "colab": {
     "base_uri": "https://localhost:8080/"
    },
    "executionInfo": {
     "elapsed": 485,
     "status": "ok",
     "timestamp": 1612362623744,
     "user": {
      "displayName": "Charles Tanguy",
      "photoUrl": "",
      "userId": "11930294859591867631"
     },
     "user_tz": -60
    },
    "id": "NCeIHXvDR_I5",
    "outputId": "f62a9220-39c6-41c9-f1f2-04f64d213dc4"
   },
   "outputs": [
    {
     "name": "stdout",
     "output_type": "stream",
     "text": [
      "x: tf.Tensor(\n",
      "[[7.6 3.  6.6 2.1]\n",
      " [6.3 2.5 4.9 1.5]\n",
      " [5.1 2.5 3.  1.1]\n",
      " [5.4 3.9 1.3 0.4]\n",
      " [6.1 2.8 4.  1.3]\n",
      " [5.  3.5 1.6 0.6]\n",
      " [5.2 3.5 1.5 0.2]\n",
      " [7.7 2.8 6.7 2. ]], shape=(8, 4), dtype=float64)\n",
      "y: tf.Tensor([2 1 1 0 1 0 0 2], shape=(8,), dtype=int32)\n"
     ]
    }
   ],
   "source": [
    "# Now we are ready to form our batches, let's use the .batch method\n",
    "train_batch = train_shuffle.batch(batch_size=8)\n",
    "test_batch = test_shuffle.batch(batch_size=8)\n",
    "\n",
    "# When extracting data from these objects we now get batches!\n",
    "for x, y in train_batch.take(1): \n",
    "  print('x:',x)\n",
    "  print('y:',y)\n",
    "# This gives us a batch of 8 observations from the training data of \n",
    "# shape (8,4) (batch_size, ncol) and (8,) for the target associated with each\n",
    "# observation in the batch"
   ]
  },
  {
   "cell_type": "markdown",
   "metadata": {
    "id": "HKh1mJMET5Aq"
   },
   "source": [
    "You now know a little bit about tensorflow and how to process data now go have some practice on your own with the exercises!"
   ]
  },
  {
   "cell_type": "markdown",
   "metadata": {
    "id": "iB7wf0GFU3_j"
   },
   "source": [
    "## Ressources 📚📚\n",
    "\n",
    "* <a href=\"https://www.tensorflow.org/tutorials/load_data/csv\"> A tensorflow tutorial that goes a little further than what we have seen here </a>"
   ]
  }
 ],
 "metadata": {
  "colab": {
   "authorship_tag": "ABX9TyM9aLL3QyJ5mk9GMvdeMskn",
   "collapsed_sections": [],
   "name": "02-Tensorflow.ipynb",
   "provenance": []
  },
  "kernelspec": {
   "display_name": "Python 3",
   "language": "python",
   "name": "python3"
  },
  "language_info": {
   "codemirror_mode": {
    "name": "ipython",
    "version": 3
   },
   "file_extension": ".py",
   "mimetype": "text/x-python",
   "name": "python",
   "nbconvert_exporter": "python",
   "pygments_lexer": "ipython3",
   "version": "3.10.13"
  }
 },
 "nbformat": 4,
 "nbformat_minor": 1
}
