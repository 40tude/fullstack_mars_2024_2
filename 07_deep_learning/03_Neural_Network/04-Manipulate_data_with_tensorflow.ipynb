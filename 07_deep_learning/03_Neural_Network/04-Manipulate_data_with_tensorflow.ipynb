{
 "cells": [
  {
   "cell_type": "markdown",
   "metadata": {
    "id": "ZNW5K_m7t8Tu"
   },
   "source": [
    "# Manipulate data with tensorflow\n",
    "\n",
    "In this exercise you will practice manipulating tensors and forming tensor datasets with tensorflow.\n",
    "We are taking advantage of this moment to let you only manipulate data as we will be focusing much more on building models in the following days!"
   ]
  },
  {
   "cell_type": "code",
   "execution_count": 1,
   "metadata": {
    "id": "Awl5S3siIE2I"
   },
   "outputs": [],
   "source": [
    "import tensorflow as tf"
   ]
  },
  {
   "cell_type": "markdown",
   "metadata": {
    "id": "be1UHQRtufib"
   },
   "source": [
    "## Practice tensor operations\n",
    "\n",
    "* Create a constant tensor named `tensor1` containing the values `[0,1,2,3,4,5,6,7]` and a variable tensor named `tensor2` containing the values `[0,1,2,0,1,2]`"
   ]
  },
  {
   "cell_type": "code",
   "execution_count": 2,
   "metadata": {
    "colab": {
     "base_uri": "https://localhost:8080/"
    },
    "executionInfo": {
     "elapsed": 511,
     "status": "ok",
     "timestamp": 1612897222043,
     "user": {
      "displayName": "Charles Tanguy",
      "photoUrl": "",
      "userId": "11930294859591867631"
     },
     "user_tz": -60
    },
    "id": "bC8EkoJRt1YT",
    "outputId": "85adb7e2-08d2-4c81-9201-51fef55f8c2e"
   },
   "outputs": [
    {
     "name": "stdout",
     "output_type": "stream",
     "text": [
      "tensor1: tf.Tensor([0 1 2 3 4 5 6 7], shape=(8,), dtype=int32)\n",
      "tensor2: <tf.Variable 'Variable:0' shape=(6,) dtype=int32, numpy=array([0, 1, 2, 0, 1, 2])>\n"
     ]
    }
   ],
   "source": [
    "tensor1 = tf.constant([0,1,2,3,4,5,6,7])\n",
    "tensor2 = tf.Variable([0,1,2,0,1,2])\n",
    "print('tensor1:', tensor1)\n",
    "print('tensor2:', tensor2)"
   ]
  },
  {
   "cell_type": "markdown",
   "metadata": {
    "id": "8kZZuF9FIRPp"
   },
   "source": [
    "* Reshape `tensor1` so it has 2 columns and 4 rows, and `tensor2` so it has 2 rows and 3 columns.\n",
    "Has this operation changed the nature of `tensor2`? How could you change it back to its former nature?"
   ]
  },
  {
   "cell_type": "code",
   "execution_count": 3,
   "metadata": {
    "colab": {
     "base_uri": "https://localhost:8080/"
    },
    "executionInfo": {
     "elapsed": 479,
     "status": "ok",
     "timestamp": 1612897222894,
     "user": {
      "displayName": "Charles Tanguy",
      "photoUrl": "",
      "userId": "11930294859591867631"
     },
     "user_tz": -60
    },
    "id": "weoWXp-tIQB9",
    "outputId": "bedcb95d-d945-477f-cacb-20f072cb4cdf"
   },
   "outputs": [
    {
     "name": "stdout",
     "output_type": "stream",
     "text": [
      "tensor1: tf.Tensor(\n",
      "[[0 1]\n",
      " [2 3]\n",
      " [4 5]\n",
      " [6 7]], shape=(4, 2), dtype=int32)\n",
      "tensor2: tf.Tensor(\n",
      "[[0 1 2]\n",
      " [0 1 2]], shape=(2, 3), dtype=int32)\n"
     ]
    }
   ],
   "source": [
    "tensor1 = tf.reshape(tensor1, [4,2])\n",
    "tensor2 = tf.reshape(tensor2, [2,3])\n",
    "print('tensor1:', tensor1)\n",
    "print('tensor2:', tensor2)"
   ]
  },
  {
   "cell_type": "code",
   "execution_count": 4,
   "metadata": {
    "colab": {
     "base_uri": "https://localhost:8080/"
    },
    "executionInfo": {
     "elapsed": 549,
     "status": "ok",
     "timestamp": 1612897223357,
     "user": {
      "displayName": "Charles Tanguy",
      "photoUrl": "",
      "userId": "11930294859591867631"
     },
     "user_tz": -60
    },
    "id": "LM5T5YDFKPKy",
    "outputId": "11f6e868-c254-4dd9-c34c-9493e3b4a978"
   },
   "outputs": [
    {
     "name": "stdout",
     "output_type": "stream",
     "text": [
      "tensor2: <tf.Variable 'Variable:0' shape=(2, 3) dtype=int32, numpy=\n",
      "array([[0, 1, 2],\n",
      "       [0, 1, 2]])>\n"
     ]
    }
   ],
   "source": [
    "tensor2 = tf.Variable(tensor2)\n",
    "print('tensor2:', tensor2)"
   ]
  },
  {
   "cell_type": "markdown",
   "metadata": {
    "id": "A9t1o_2FI8gM"
   },
   "source": [
    "* Use a tensorflow function to create `tensor3` with the same shape as `tensor2` but filled with 1"
   ]
  },
  {
   "cell_type": "code",
   "execution_count": 5,
   "metadata": {
    "colab": {
     "base_uri": "https://localhost:8080/"
    },
    "executionInfo": {
     "elapsed": 486,
     "status": "ok",
     "timestamp": 1612897224389,
     "user": {
      "displayName": "Charles Tanguy",
      "photoUrl": "",
      "userId": "11930294859591867631"
     },
     "user_tz": -60
    },
    "id": "gfdyLooDJMmI",
    "outputId": "087430fe-5ab6-4092-ae56-0cfd368bee34"
   },
   "outputs": [
    {
     "name": "stdout",
     "output_type": "stream",
     "text": [
      "tensor3 tf.Tensor(\n",
      "[[1 1 1]\n",
      " [1 1 1]], shape=(2, 3), dtype=int32)\n"
     ]
    }
   ],
   "source": [
    "tensor3 = tf.ones_like(tensor2)\n",
    "print('tensor3', tensor3)"
   ]
  },
  {
   "cell_type": "markdown",
   "metadata": {
    "id": "D-cHLAq6JYB8"
   },
   "source": [
    "* Modify the value of `tensor2` by substracting the values in `tensor3`, use a method so that it is an in place operation. Why would not you be able to do that with `tensor1`?"
   ]
  },
  {
   "cell_type": "code",
   "execution_count": 6,
   "metadata": {
    "colab": {
     "base_uri": "https://localhost:8080/"
    },
    "executionInfo": {
     "elapsed": 450,
     "status": "ok",
     "timestamp": 1612897225660,
     "user": {
      "displayName": "Charles Tanguy",
      "photoUrl": "",
      "userId": "11930294859591867631"
     },
     "user_tz": -60
    },
    "id": "_fHJJyasJqXw",
    "outputId": "3b7011cb-ed10-46ef-cf2b-7cbef72aca95"
   },
   "outputs": [
    {
     "data": {
      "text/plain": [
       "<tf.Variable 'UnreadVariable' shape=(2, 3) dtype=int32, numpy=\n",
       "array([[-1,  0,  1],\n",
       "       [-1,  0,  1]])>"
      ]
     },
     "execution_count": 6,
     "metadata": {},
     "output_type": "execute_result"
    }
   ],
   "source": [
    "tensor2.assign_sub(tensor3)\n",
    "# we cannot do that with tensor1 because it is a constant tensor which is immutable"
   ]
  },
  {
   "cell_type": "markdown",
   "metadata": {
    "id": "f0CzXqjyKqpF"
   },
   "source": [
    "* Can you multiply `tensor1` and `tensor2` pointwise? How about with a matrix multiplication? Display the result of the possible operations."
   ]
  },
  {
   "cell_type": "code",
   "execution_count": 7,
   "metadata": {
    "colab": {
     "base_uri": "https://localhost:8080/",
     "height": 225
    },
    "executionInfo": {
     "elapsed": 482,
     "status": "error",
     "timestamp": 1612897307795,
     "user": {
      "displayName": "Charles Tanguy",
      "photoUrl": "",
      "userId": "11930294859591867631"
     },
     "user_tz": -60
    },
    "id": "wBDmBeOIKlw1",
    "outputId": "823a1d9b-9a1a-4837-e118-706980d3dee4"
   },
   "outputs": [],
   "source": [
    "# tensor1*tensor2"
   ]
  },
  {
   "cell_type": "code",
   "execution_count": 8,
   "metadata": {
    "colab": {
     "base_uri": "https://localhost:8080/"
    },
    "executionInfo": {
     "elapsed": 583,
     "status": "ok",
     "timestamp": 1612897336366,
     "user": {
      "displayName": "Charles Tanguy",
      "photoUrl": "",
      "userId": "11930294859591867631"
     },
     "user_tz": -60
    },
    "id": "nR_srVWnK927",
    "outputId": "9c355366-22ab-4734-e2d2-f8450da65a89"
   },
   "outputs": [
    {
     "data": {
      "text/plain": [
       "<tf.Tensor: shape=(4, 3), dtype=int32, numpy=\n",
       "array([[ -1,   0,   1],\n",
       "       [ -5,   0,   5],\n",
       "       [ -9,   0,   9],\n",
       "       [-13,   0,  13]])>"
      ]
     },
     "execution_count": 8,
     "metadata": {},
     "output_type": "execute_result"
    }
   ],
   "source": [
    "tf.matmul(tensor1,tensor2)"
   ]
  },
  {
   "cell_type": "markdown",
   "metadata": {
    "id": "l_Flhy7uLS7w"
   },
   "source": [
    "## Tabular data\n",
    "\n",
    "This part of the exercise will let you deal with tabular data in order to make batch datasets ready to be fed to deep learning models.\n",
    "\n",
    "* Using the `sklearn.datasets` module, load the mnist dataset thanks to the `load_digits` function."
   ]
  },
  {
   "cell_type": "code",
   "execution_count": 9,
   "metadata": {
    "id": "e3VytM5ALuCo"
   },
   "outputs": [],
   "source": [
    "from sklearn.datasets import load_digits\n",
    "digits = load_digits()"
   ]
  },
  {
   "cell_type": "markdown",
   "metadata": {
    "id": "EO54ZELkMDnI"
   },
   "source": [
    "* This function gives you a Data Bunch object, which works basically like a dictionnary. Create an object data containing the value of the `data` key and an object target containing the value of the `target` key."
   ]
  },
  {
   "cell_type": "code",
   "execution_count": 10,
   "metadata": {
    "colab": {
     "base_uri": "https://localhost:8080/"
    },
    "executionInfo": {
     "elapsed": 489,
     "status": "ok",
     "timestamp": 1612897864273,
     "user": {
      "displayName": "Charles Tanguy",
      "photoUrl": "",
      "userId": "11930294859591867631"
     },
     "user_tz": -60
    },
    "id": "oE8RzXi6MBOk",
    "outputId": "797631be-0376-4c2e-8cc1-0c0f3277a782"
   },
   "outputs": [
    {
     "name": "stdout",
     "output_type": "stream",
     "text": [
      "data: [[ 0.  0.  5. ...  0.  0.  0.]\n",
      " [ 0.  0.  0. ... 10.  0.  0.]\n",
      " [ 0.  0.  0. ... 16.  9.  0.]\n",
      " ...\n",
      " [ 0.  0.  1. ...  6.  0.  0.]\n",
      " [ 0.  0.  2. ... 12.  0.  0.]\n",
      " [ 0.  0. 10. ... 12.  1.  0.]]\n",
      "target: [0 1 2 ... 8 9 8]\n"
     ]
    }
   ],
   "source": [
    "data = digits.data\n",
    "target = digits.target\n",
    "print('data:', data)\n",
    "print('target:', target)"
   ]
  },
  {
   "cell_type": "markdown",
   "metadata": {
    "id": "RoyvPr2sNGxt"
   },
   "source": [
    "* What is the shape of `data` and `target`? Can you understand what these objects represent using the `DESCR` key of the Data Bunch?"
   ]
  },
  {
   "cell_type": "code",
   "execution_count": 11,
   "metadata": {
    "colab": {
     "base_uri": "https://localhost:8080/"
    },
    "executionInfo": {
     "elapsed": 397,
     "status": "ok",
     "timestamp": 1612898158861,
     "user": {
      "displayName": "Charles Tanguy",
      "photoUrl": "",
      "userId": "11930294859591867631"
     },
     "user_tz": -60
    },
    "id": "kOGvg9jcNV5N",
    "outputId": "ead6defd-6ec9-4e25-c384-8bc581549fb3"
   },
   "outputs": [
    {
     "name": "stdout",
     "output_type": "stream",
     "text": [
      "data shape: (1797, 64)\n",
      "target shape (1797,)\n",
      ".. _digits_dataset:\n",
      "\n",
      "Optical recognition of handwritten digits dataset\n",
      "--------------------------------------------------\n",
      "\n",
      "**Data Set Characteristics:**\n",
      "\n",
      ":Number of Instances: 1797\n",
      ":Number of Attributes: 64\n",
      ":Attribute Information: 8x8 image of integer pixels in the range 0..16.\n",
      ":Missing Attribute Values: None\n",
      ":Creator: E. Alpaydin (alpaydin '@' boun.edu.tr)\n",
      ":Date: July; 1998\n",
      "\n",
      "This is a copy of the test set of the UCI ML hand-written digits datasets\n",
      "https://archive.ics.uci.edu/ml/datasets/Optical+Recognition+of+Handwritten+Digits\n",
      "\n",
      "The data set contains images of hand-written digits: 10 classes where\n",
      "each class refers to a digit.\n",
      "\n",
      "Preprocessing programs made available by NIST were used to extract\n",
      "normalized bitmaps of handwritten digits from a preprinted form. From a\n",
      "total of 43 people, 30 contributed to the training set and different 13\n",
      "to the test set. 32x32 bitmaps are divided into nonoverlapping blocks of\n",
      "4x4 and the number of on pixels are counted in each block. This generates\n",
      "an input matrix of 8x8 where each element is an integer in the range\n",
      "0..16. This reduces dimensionality and gives invariance to small\n",
      "distortions.\n",
      "\n",
      "For info on NIST preprocessing routines, see M. D. Garris, J. L. Blue, G.\n",
      "T. Candela, D. L. Dimmick, J. Geist, P. J. Grother, S. A. Janet, and C.\n",
      "L. Wilson, NIST Form-Based Handprint Recognition System, NISTIR 5469,\n",
      "1994.\n",
      "\n",
      "|details-start|\n",
      "**References**\n",
      "|details-split|\n",
      "\n",
      "- C. Kaynak (1995) Methods of Combining Multiple Classifiers and Their\n",
      "  Applications to Handwritten Digit Recognition, MSc Thesis, Institute of\n",
      "  Graduate Studies in Science and Engineering, Bogazici University.\n",
      "- E. Alpaydin, C. Kaynak (1998) Cascading Classifiers, Kybernetika.\n",
      "- Ken Tang and Ponnuthurai N. Suganthan and Xi Yao and A. Kai Qin.\n",
      "  Linear dimensionalityreduction using relevance weighted LDA. School of\n",
      "  Electrical and Electronic Engineering Nanyang Technological University.\n",
      "  2005.\n",
      "- Claudio Gentile. A New Approximate Maximal Margin Classification\n",
      "  Algorithm. NIPS. 2000.\n",
      "\n",
      "|details-end|\n",
      "\n"
     ]
    }
   ],
   "source": [
    "print('data shape:', data.shape)\n",
    "print('target shape', target.shape)\n",
    "print(digits.DESCR)\n"
   ]
  },
  {
   "cell_type": "markdown",
   "metadata": {
    "id": "LgrbbCLSORpb"
   },
   "source": [
    "* Can you visualize the first image in data ?"
   ]
  },
  {
   "cell_type": "code",
   "execution_count": 12,
   "metadata": {
    "colab": {
     "base_uri": "https://localhost:8080/",
     "height": 542
    },
    "executionInfo": {
     "elapsed": 1340,
     "status": "ok",
     "timestamp": 1612900491459,
     "user": {
      "displayName": "Charles Tanguy",
      "photoUrl": "",
      "userId": "11930294859591867631"
     },
     "user_tz": -60
    },
    "id": "Fo0OnrB2OMcz",
    "outputId": "9167eafa-3071-4c07-db8b-5ab7b0e1f52c"
   },
   "outputs": [
    {
     "data": {
      "application/vnd.plotly.v1+json": {
       "config": {
        "plotlyServerURL": "https://plot.ly"
       },
       "data": [
        {
         "coloraxis": "coloraxis",
         "hovertemplate": "x: %{x}<br>y: %{y}<br>color: %{z}<extra></extra>",
         "name": "0",
         "type": "heatmap",
         "xaxis": "x",
         "yaxis": "y",
         "z": [
          [
           0,
           0,
           5,
           13,
           9,
           1,
           0,
           0
          ],
          [
           0,
           0,
           13,
           15,
           10,
           15,
           5,
           0
          ],
          [
           0,
           3,
           15,
           2,
           0,
           11,
           8,
           0
          ],
          [
           0,
           4,
           12,
           0,
           0,
           8,
           8,
           0
          ],
          [
           0,
           5,
           8,
           0,
           0,
           9,
           8,
           0
          ],
          [
           0,
           4,
           11,
           0,
           1,
           12,
           7,
           0
          ],
          [
           0,
           2,
           14,
           5,
           10,
           12,
           0,
           0
          ],
          [
           0,
           0,
           6,
           13,
           10,
           0,
           0,
           0
          ]
         ]
        }
       ],
       "layout": {
        "coloraxis": {
         "colorscale": [
          [
           0,
           "rgb(0, 0, 0)"
          ],
          [
           0.09090909090909091,
           "rgb(16, 16, 16)"
          ],
          [
           0.18181818181818182,
           "rgb(38, 38, 38)"
          ],
          [
           0.2727272727272727,
           "rgb(59, 59, 59)"
          ],
          [
           0.36363636363636365,
           "rgb(81, 80, 80)"
          ],
          [
           0.45454545454545453,
           "rgb(102, 101, 101)"
          ],
          [
           0.5454545454545454,
           "rgb(124, 123, 122)"
          ],
          [
           0.6363636363636364,
           "rgb(146, 146, 145)"
          ],
          [
           0.7272727272727273,
           "rgb(171, 171, 170)"
          ],
          [
           0.8181818181818182,
           "rgb(197, 197, 195)"
          ],
          [
           0.9090909090909091,
           "rgb(224, 224, 223)"
          ],
          [
           1,
           "rgb(254, 254, 253)"
          ]
         ]
        },
        "margin": {
         "t": 60
        },
        "template": {
         "data": {
          "bar": [
           {
            "error_x": {
             "color": "#2a3f5f"
            },
            "error_y": {
             "color": "#2a3f5f"
            },
            "marker": {
             "line": {
              "color": "#E5ECF6",
              "width": 0.5
             },
             "pattern": {
              "fillmode": "overlay",
              "size": 10,
              "solidity": 0.2
             }
            },
            "type": "bar"
           }
          ],
          "barpolar": [
           {
            "marker": {
             "line": {
              "color": "#E5ECF6",
              "width": 0.5
             },
             "pattern": {
              "fillmode": "overlay",
              "size": 10,
              "solidity": 0.2
             }
            },
            "type": "barpolar"
           }
          ],
          "carpet": [
           {
            "aaxis": {
             "endlinecolor": "#2a3f5f",
             "gridcolor": "white",
             "linecolor": "white",
             "minorgridcolor": "white",
             "startlinecolor": "#2a3f5f"
            },
            "baxis": {
             "endlinecolor": "#2a3f5f",
             "gridcolor": "white",
             "linecolor": "white",
             "minorgridcolor": "white",
             "startlinecolor": "#2a3f5f"
            },
            "type": "carpet"
           }
          ],
          "choropleth": [
           {
            "colorbar": {
             "outlinewidth": 0,
             "ticks": ""
            },
            "type": "choropleth"
           }
          ],
          "contour": [
           {
            "colorbar": {
             "outlinewidth": 0,
             "ticks": ""
            },
            "colorscale": [
             [
              0,
              "#0d0887"
             ],
             [
              0.1111111111111111,
              "#46039f"
             ],
             [
              0.2222222222222222,
              "#7201a8"
             ],
             [
              0.3333333333333333,
              "#9c179e"
             ],
             [
              0.4444444444444444,
              "#bd3786"
             ],
             [
              0.5555555555555556,
              "#d8576b"
             ],
             [
              0.6666666666666666,
              "#ed7953"
             ],
             [
              0.7777777777777778,
              "#fb9f3a"
             ],
             [
              0.8888888888888888,
              "#fdca26"
             ],
             [
              1,
              "#f0f921"
             ]
            ],
            "type": "contour"
           }
          ],
          "contourcarpet": [
           {
            "colorbar": {
             "outlinewidth": 0,
             "ticks": ""
            },
            "type": "contourcarpet"
           }
          ],
          "heatmap": [
           {
            "colorbar": {
             "outlinewidth": 0,
             "ticks": ""
            },
            "colorscale": [
             [
              0,
              "#0d0887"
             ],
             [
              0.1111111111111111,
              "#46039f"
             ],
             [
              0.2222222222222222,
              "#7201a8"
             ],
             [
              0.3333333333333333,
              "#9c179e"
             ],
             [
              0.4444444444444444,
              "#bd3786"
             ],
             [
              0.5555555555555556,
              "#d8576b"
             ],
             [
              0.6666666666666666,
              "#ed7953"
             ],
             [
              0.7777777777777778,
              "#fb9f3a"
             ],
             [
              0.8888888888888888,
              "#fdca26"
             ],
             [
              1,
              "#f0f921"
             ]
            ],
            "type": "heatmap"
           }
          ],
          "heatmapgl": [
           {
            "colorbar": {
             "outlinewidth": 0,
             "ticks": ""
            },
            "colorscale": [
             [
              0,
              "#0d0887"
             ],
             [
              0.1111111111111111,
              "#46039f"
             ],
             [
              0.2222222222222222,
              "#7201a8"
             ],
             [
              0.3333333333333333,
              "#9c179e"
             ],
             [
              0.4444444444444444,
              "#bd3786"
             ],
             [
              0.5555555555555556,
              "#d8576b"
             ],
             [
              0.6666666666666666,
              "#ed7953"
             ],
             [
              0.7777777777777778,
              "#fb9f3a"
             ],
             [
              0.8888888888888888,
              "#fdca26"
             ],
             [
              1,
              "#f0f921"
             ]
            ],
            "type": "heatmapgl"
           }
          ],
          "histogram": [
           {
            "marker": {
             "pattern": {
              "fillmode": "overlay",
              "size": 10,
              "solidity": 0.2
             }
            },
            "type": "histogram"
           }
          ],
          "histogram2d": [
           {
            "colorbar": {
             "outlinewidth": 0,
             "ticks": ""
            },
            "colorscale": [
             [
              0,
              "#0d0887"
             ],
             [
              0.1111111111111111,
              "#46039f"
             ],
             [
              0.2222222222222222,
              "#7201a8"
             ],
             [
              0.3333333333333333,
              "#9c179e"
             ],
             [
              0.4444444444444444,
              "#bd3786"
             ],
             [
              0.5555555555555556,
              "#d8576b"
             ],
             [
              0.6666666666666666,
              "#ed7953"
             ],
             [
              0.7777777777777778,
              "#fb9f3a"
             ],
             [
              0.8888888888888888,
              "#fdca26"
             ],
             [
              1,
              "#f0f921"
             ]
            ],
            "type": "histogram2d"
           }
          ],
          "histogram2dcontour": [
           {
            "colorbar": {
             "outlinewidth": 0,
             "ticks": ""
            },
            "colorscale": [
             [
              0,
              "#0d0887"
             ],
             [
              0.1111111111111111,
              "#46039f"
             ],
             [
              0.2222222222222222,
              "#7201a8"
             ],
             [
              0.3333333333333333,
              "#9c179e"
             ],
             [
              0.4444444444444444,
              "#bd3786"
             ],
             [
              0.5555555555555556,
              "#d8576b"
             ],
             [
              0.6666666666666666,
              "#ed7953"
             ],
             [
              0.7777777777777778,
              "#fb9f3a"
             ],
             [
              0.8888888888888888,
              "#fdca26"
             ],
             [
              1,
              "#f0f921"
             ]
            ],
            "type": "histogram2dcontour"
           }
          ],
          "mesh3d": [
           {
            "colorbar": {
             "outlinewidth": 0,
             "ticks": ""
            },
            "type": "mesh3d"
           }
          ],
          "parcoords": [
           {
            "line": {
             "colorbar": {
              "outlinewidth": 0,
              "ticks": ""
             }
            },
            "type": "parcoords"
           }
          ],
          "pie": [
           {
            "automargin": true,
            "type": "pie"
           }
          ],
          "scatter": [
           {
            "fillpattern": {
             "fillmode": "overlay",
             "size": 10,
             "solidity": 0.2
            },
            "type": "scatter"
           }
          ],
          "scatter3d": [
           {
            "line": {
             "colorbar": {
              "outlinewidth": 0,
              "ticks": ""
             }
            },
            "marker": {
             "colorbar": {
              "outlinewidth": 0,
              "ticks": ""
             }
            },
            "type": "scatter3d"
           }
          ],
          "scattercarpet": [
           {
            "marker": {
             "colorbar": {
              "outlinewidth": 0,
              "ticks": ""
             }
            },
            "type": "scattercarpet"
           }
          ],
          "scattergeo": [
           {
            "marker": {
             "colorbar": {
              "outlinewidth": 0,
              "ticks": ""
             }
            },
            "type": "scattergeo"
           }
          ],
          "scattergl": [
           {
            "marker": {
             "colorbar": {
              "outlinewidth": 0,
              "ticks": ""
             }
            },
            "type": "scattergl"
           }
          ],
          "scattermapbox": [
           {
            "marker": {
             "colorbar": {
              "outlinewidth": 0,
              "ticks": ""
             }
            },
            "type": "scattermapbox"
           }
          ],
          "scatterpolar": [
           {
            "marker": {
             "colorbar": {
              "outlinewidth": 0,
              "ticks": ""
             }
            },
            "type": "scatterpolar"
           }
          ],
          "scatterpolargl": [
           {
            "marker": {
             "colorbar": {
              "outlinewidth": 0,
              "ticks": ""
             }
            },
            "type": "scatterpolargl"
           }
          ],
          "scatterternary": [
           {
            "marker": {
             "colorbar": {
              "outlinewidth": 0,
              "ticks": ""
             }
            },
            "type": "scatterternary"
           }
          ],
          "surface": [
           {
            "colorbar": {
             "outlinewidth": 0,
             "ticks": ""
            },
            "colorscale": [
             [
              0,
              "#0d0887"
             ],
             [
              0.1111111111111111,
              "#46039f"
             ],
             [
              0.2222222222222222,
              "#7201a8"
             ],
             [
              0.3333333333333333,
              "#9c179e"
             ],
             [
              0.4444444444444444,
              "#bd3786"
             ],
             [
              0.5555555555555556,
              "#d8576b"
             ],
             [
              0.6666666666666666,
              "#ed7953"
             ],
             [
              0.7777777777777778,
              "#fb9f3a"
             ],
             [
              0.8888888888888888,
              "#fdca26"
             ],
             [
              1,
              "#f0f921"
             ]
            ],
            "type": "surface"
           }
          ],
          "table": [
           {
            "cells": {
             "fill": {
              "color": "#EBF0F8"
             },
             "line": {
              "color": "white"
             }
            },
            "header": {
             "fill": {
              "color": "#C8D4E3"
             },
             "line": {
              "color": "white"
             }
            },
            "type": "table"
           }
          ]
         },
         "layout": {
          "annotationdefaults": {
           "arrowcolor": "#2a3f5f",
           "arrowhead": 0,
           "arrowwidth": 1
          },
          "autotypenumbers": "strict",
          "coloraxis": {
           "colorbar": {
            "outlinewidth": 0,
            "ticks": ""
           }
          },
          "colorscale": {
           "diverging": [
            [
             0,
             "#8e0152"
            ],
            [
             0.1,
             "#c51b7d"
            ],
            [
             0.2,
             "#de77ae"
            ],
            [
             0.3,
             "#f1b6da"
            ],
            [
             0.4,
             "#fde0ef"
            ],
            [
             0.5,
             "#f7f7f7"
            ],
            [
             0.6,
             "#e6f5d0"
            ],
            [
             0.7,
             "#b8e186"
            ],
            [
             0.8,
             "#7fbc41"
            ],
            [
             0.9,
             "#4d9221"
            ],
            [
             1,
             "#276419"
            ]
           ],
           "sequential": [
            [
             0,
             "#0d0887"
            ],
            [
             0.1111111111111111,
             "#46039f"
            ],
            [
             0.2222222222222222,
             "#7201a8"
            ],
            [
             0.3333333333333333,
             "#9c179e"
            ],
            [
             0.4444444444444444,
             "#bd3786"
            ],
            [
             0.5555555555555556,
             "#d8576b"
            ],
            [
             0.6666666666666666,
             "#ed7953"
            ],
            [
             0.7777777777777778,
             "#fb9f3a"
            ],
            [
             0.8888888888888888,
             "#fdca26"
            ],
            [
             1,
             "#f0f921"
            ]
           ],
           "sequentialminus": [
            [
             0,
             "#0d0887"
            ],
            [
             0.1111111111111111,
             "#46039f"
            ],
            [
             0.2222222222222222,
             "#7201a8"
            ],
            [
             0.3333333333333333,
             "#9c179e"
            ],
            [
             0.4444444444444444,
             "#bd3786"
            ],
            [
             0.5555555555555556,
             "#d8576b"
            ],
            [
             0.6666666666666666,
             "#ed7953"
            ],
            [
             0.7777777777777778,
             "#fb9f3a"
            ],
            [
             0.8888888888888888,
             "#fdca26"
            ],
            [
             1,
             "#f0f921"
            ]
           ]
          },
          "colorway": [
           "#636efa",
           "#EF553B",
           "#00cc96",
           "#ab63fa",
           "#FFA15A",
           "#19d3f3",
           "#FF6692",
           "#B6E880",
           "#FF97FF",
           "#FECB52"
          ],
          "font": {
           "color": "#2a3f5f"
          },
          "geo": {
           "bgcolor": "white",
           "lakecolor": "white",
           "landcolor": "#E5ECF6",
           "showlakes": true,
           "showland": true,
           "subunitcolor": "white"
          },
          "hoverlabel": {
           "align": "left"
          },
          "hovermode": "closest",
          "mapbox": {
           "style": "light"
          },
          "paper_bgcolor": "white",
          "plot_bgcolor": "#E5ECF6",
          "polar": {
           "angularaxis": {
            "gridcolor": "white",
            "linecolor": "white",
            "ticks": ""
           },
           "bgcolor": "#E5ECF6",
           "radialaxis": {
            "gridcolor": "white",
            "linecolor": "white",
            "ticks": ""
           }
          },
          "scene": {
           "xaxis": {
            "backgroundcolor": "#E5ECF6",
            "gridcolor": "white",
            "gridwidth": 2,
            "linecolor": "white",
            "showbackground": true,
            "ticks": "",
            "zerolinecolor": "white"
           },
           "yaxis": {
            "backgroundcolor": "#E5ECF6",
            "gridcolor": "white",
            "gridwidth": 2,
            "linecolor": "white",
            "showbackground": true,
            "ticks": "",
            "zerolinecolor": "white"
           },
           "zaxis": {
            "backgroundcolor": "#E5ECF6",
            "gridcolor": "white",
            "gridwidth": 2,
            "linecolor": "white",
            "showbackground": true,
            "ticks": "",
            "zerolinecolor": "white"
           }
          },
          "shapedefaults": {
           "line": {
            "color": "#2a3f5f"
           }
          },
          "ternary": {
           "aaxis": {
            "gridcolor": "white",
            "linecolor": "white",
            "ticks": ""
           },
           "baxis": {
            "gridcolor": "white",
            "linecolor": "white",
            "ticks": ""
           },
           "bgcolor": "#E5ECF6",
           "caxis": {
            "gridcolor": "white",
            "linecolor": "white",
            "ticks": ""
           }
          },
          "title": {
           "x": 0.05
          },
          "xaxis": {
           "automargin": true,
           "gridcolor": "white",
           "linecolor": "white",
           "ticks": "",
           "title": {
            "standoff": 15
           },
           "zerolinecolor": "white",
           "zerolinewidth": 2
          },
          "yaxis": {
           "automargin": true,
           "gridcolor": "white",
           "linecolor": "white",
           "ticks": "",
           "title": {
            "standoff": 15
           },
           "zerolinecolor": "white",
           "zerolinewidth": 2
          }
         }
        },
        "xaxis": {
         "anchor": "y",
         "constrain": "domain",
         "domain": [
          0,
          1
         ],
         "scaleanchor": "y"
        },
        "yaxis": {
         "anchor": "x",
         "autorange": "reversed",
         "constrain": "domain",
         "domain": [
          0,
          1
         ]
        }
       }
      }
     },
     "metadata": {},
     "output_type": "display_data"
    }
   ],
   "source": [
    "from plotly import express as px\n",
    "first_image = data[0,:].reshape([8,8])\n",
    "px.imshow(first_image,  color_continuous_scale='gray')"
   ]
  },
  {
   "cell_type": "markdown",
   "metadata": {
    "id": "x3TwGhRPacK0"
   },
   "source": [
    "* The pixel values from those images is encoded in integers between 0 and 255, it is always better to feed your deep learning models with reasonnably scaled data to avoid the network not being able to learn. To do this we'll divide the value in each pixel by 255. Do this."
   ]
  },
  {
   "cell_type": "code",
   "execution_count": 13,
   "metadata": {
    "id": "zazDEYPiaak8"
   },
   "outputs": [],
   "source": [
    "data = data/255"
   ]
  },
  {
   "cell_type": "markdown",
   "metadata": {
    "id": "tPVqElsAXHTt"
   },
   "source": [
    "### Technique 1: Split the data with sklearn\n",
    "\n",
    "Most of the time when you will be dealing with data you want to feed to a deap learning model, you will have a pandas DataFrame or numpy array at some points that contains some representation of your data and the associated values of the target variable. In those cases, it's easier to just split the data in a train and validation set using sklearn. (Remember that for very large datasets or for training and evaluating deep learning models we most of the time use the three way hold out method, where on set serves as the training set, one as the validation set to control for overfitting, and the last one is the test set against which we will evaluate the model).\n",
    "\n",
    "* Split the data and target into three different parts, one containing the train set (60%), another with the validation set (20%), and a third with the test set (20%), using sklearn."
   ]
  },
  {
   "cell_type": "code",
   "execution_count": 14,
   "metadata": {
    "colab": {
     "base_uri": "https://localhost:8080/"
    },
    "executionInfo": {
     "elapsed": 445,
     "status": "ok",
     "timestamp": 1612901485770,
     "user": {
      "displayName": "Charles Tanguy",
      "photoUrl": "",
      "userId": "11930294859591867631"
     },
     "user_tz": -60
    },
    "id": "VBPDWY2OXFsd",
    "outputId": "65ec13e9-5aa6-42f2-ea4b-b2adc926cac6"
   },
   "outputs": [
    {
     "name": "stdout",
     "output_type": "stream",
     "text": [
      "X_train (1078, 64) y_train (1078,)\n",
      "X_val (359, 64) y_val (359,)\n",
      "X_test (360, 64) y_test (360,)\n"
     ]
    }
   ],
   "source": [
    "from sklearn.model_selection import train_test_split\n",
    "X_train, X_valtest, y_train, y_valtest = train_test_split(data,target, test_size=0.4)\n",
    "X_val, X_test, y_val, y_test = train_test_split(X_valtest, y_valtest, test_size=0.5)\n",
    "print(\"X_train\", X_train.shape, \"y_train\", y_train.shape)\n",
    "print(\"X_val\", X_val.shape, \"y_val\", y_val.shape)\n",
    "print(\"X_test\", X_test.shape, \"y_test\", y_test.shape)"
   ]
  },
  {
   "cell_type": "markdown",
   "metadata": {
    "id": "FzugIQTQZOUn"
   },
   "source": [
    "* Form three tensor slice datasets using the training validation and test data."
   ]
  },
  {
   "cell_type": "code",
   "execution_count": 15,
   "metadata": {
    "colab": {
     "base_uri": "https://localhost:8080/"
    },
    "executionInfo": {
     "elapsed": 480,
     "status": "ok",
     "timestamp": 1612901487768,
     "user": {
      "displayName": "Charles Tanguy",
      "photoUrl": "",
      "userId": "11930294859591867631"
     },
     "user_tz": -60
    },
    "id": "ZHWr5HfCZKLb",
    "outputId": "d4d79928-4642-4e2d-a07f-2725ef49844d"
   },
   "outputs": [
    {
     "name": "stdout",
     "output_type": "stream",
     "text": [
      "train: <TensorSliceDataset element_spec=(TensorSpec(shape=(64,), dtype=tf.float64, name=None), TensorSpec(shape=(), dtype=tf.int32, name=None))>\n",
      "val: <TensorSliceDataset element_spec=(TensorSpec(shape=(64,), dtype=tf.float64, name=None), TensorSpec(shape=(), dtype=tf.int32, name=None))>\n",
      "test: <TensorSliceDataset element_spec=(TensorSpec(shape=(64,), dtype=tf.float64, name=None), TensorSpec(shape=(), dtype=tf.int32, name=None))>\n"
     ]
    }
   ],
   "source": [
    "train = tf.data.Dataset.from_tensor_slices((X_train,y_train))\n",
    "val = tf.data.Dataset.from_tensor_slices((X_val,y_val))\n",
    "test = tf.data.Dataset.from_tensor_slices((X_test,y_test))\n",
    "print(\"train:\",train)\n",
    "print(\"val:\", val)\n",
    "print(\"test:\", test)"
   ]
  },
  {
   "cell_type": "markdown",
   "metadata": {
    "id": "7ft2lVP5ZraP"
   },
   "source": [
    "* Shuffle these tensor slice datasets and arrange them in batches of 8 observations, then display one batch from each of these batch datasets."
   ]
  },
  {
   "cell_type": "code",
   "execution_count": 16,
   "metadata": {
    "colab": {
     "base_uri": "https://localhost:8080/"
    },
    "executionInfo": {
     "elapsed": 419,
     "status": "ok",
     "timestamp": 1612901489996,
     "user": {
      "displayName": "Charles Tanguy",
      "photoUrl": "",
      "userId": "11930294859591867631"
     },
     "user_tz": -60
    },
    "id": "r6upGSBPZ6TY",
    "outputId": "62c74644-5f9d-4a9a-a4fe-b8d60817a9d4"
   },
   "outputs": [
    {
     "name": "stdout",
     "output_type": "stream",
     "text": [
      "train batch: (<tf.Tensor: shape=(8, 64), dtype=float64, numpy=\n",
      "array([[0.        , 0.        , 0.        , 0.05490196, 0.04313725,\n",
      "        0.        , 0.        , 0.        , 0.        , 0.        ,\n",
      "        0.        , 0.04705882, 0.0627451 , 0.00784314, 0.        ,\n",
      "        0.        , 0.        , 0.        , 0.        , 0.04705882,\n",
      "        0.0627451 , 0.00784314, 0.        , 0.        , 0.        ,\n",
      "        0.        , 0.        , 0.05882353, 0.0627451 , 0.00392157,\n",
      "        0.        , 0.        , 0.        , 0.        , 0.        ,\n",
      "        0.0627451 , 0.0627451 , 0.00392157, 0.        , 0.        ,\n",
      "        0.        , 0.        , 0.01176471, 0.0627451 , 0.05882353,\n",
      "        0.        , 0.        , 0.        , 0.        , 0.        ,\n",
      "        0.01568627, 0.0627451 , 0.05490196, 0.        , 0.        ,\n",
      "        0.        , 0.        , 0.        , 0.00392157, 0.05490196,\n",
      "        0.0627451 , 0.01568627, 0.        , 0.        ],\n",
      "       [0.        , 0.        , 0.02745098, 0.05882353, 0.05882353,\n",
      "        0.00784314, 0.        , 0.        , 0.        , 0.        ,\n",
      "        0.05098039, 0.02352941, 0.04705882, 0.02352941, 0.        ,\n",
      "        0.        , 0.        , 0.        , 0.        , 0.        ,\n",
      "        0.05882353, 0.00784314, 0.        , 0.        , 0.        ,\n",
      "        0.        , 0.        , 0.05098039, 0.03921569, 0.        ,\n",
      "        0.        , 0.        , 0.        , 0.        , 0.        ,\n",
      "        0.03137255, 0.05882353, 0.04705882, 0.        , 0.        ,\n",
      "        0.        , 0.01176471, 0.02745098, 0.        , 0.00784314,\n",
      "        0.05882353, 0.00392157, 0.        , 0.        , 0.00784314,\n",
      "        0.05882353, 0.02352941, 0.02352941, 0.0627451 , 0.00392157,\n",
      "        0.        , 0.        , 0.        , 0.01568627, 0.05882353,\n",
      "        0.0627451 , 0.02745098, 0.        , 0.        ],\n",
      "       [0.        , 0.        , 0.03137255, 0.0627451 , 0.0627451 ,\n",
      "        0.05098039, 0.        , 0.        , 0.        , 0.        ,\n",
      "        0.03921569, 0.04313725, 0.03529412, 0.0627451 , 0.00784314,\n",
      "        0.        , 0.        , 0.        , 0.        , 0.01568627,\n",
      "        0.0627451 , 0.04705882, 0.        , 0.        , 0.        ,\n",
      "        0.        , 0.00784314, 0.0627451 , 0.05882353, 0.00392157,\n",
      "        0.        , 0.        , 0.        , 0.        , 0.00784314,\n",
      "        0.05882353, 0.04313725, 0.        , 0.        , 0.        ,\n",
      "        0.        , 0.        , 0.        , 0.01568627, 0.0627451 ,\n",
      "        0.01176471, 0.        , 0.        , 0.        , 0.01176471,\n",
      "        0.04705882, 0.00784314, 0.05490196, 0.01568627, 0.        ,\n",
      "        0.        , 0.        , 0.        , 0.03529412, 0.0627451 ,\n",
      "        0.0627451 , 0.01960784, 0.        , 0.        ],\n",
      "       [0.        , 0.        , 0.02352941, 0.03921569, 0.03529412,\n",
      "        0.01568627, 0.        , 0.        , 0.        , 0.        ,\n",
      "        0.05490196, 0.03921569, 0.0627451 , 0.0627451 , 0.00392157,\n",
      "        0.        , 0.        , 0.01568627, 0.05882353, 0.00392157,\n",
      "        0.03529412, 0.0627451 , 0.        , 0.        , 0.        ,\n",
      "        0.01176471, 0.0627451 , 0.0627451 , 0.0627451 , 0.03137255,\n",
      "        0.        , 0.        , 0.        , 0.        , 0.04705882,\n",
      "        0.05490196, 0.0627451 , 0.01960784, 0.        , 0.        ,\n",
      "        0.        , 0.        , 0.04705882, 0.00392157, 0.03529412,\n",
      "        0.04705882, 0.        , 0.        , 0.        , 0.        ,\n",
      "        0.0627451 , 0.02352941, 0.05490196, 0.03529412, 0.        ,\n",
      "        0.        , 0.        , 0.        , 0.03137255, 0.04705882,\n",
      "        0.02352941, 0.00392157, 0.        , 0.        ],\n",
      "       [0.        , 0.        , 0.        , 0.05882353, 0.03137255,\n",
      "        0.        , 0.        , 0.        , 0.        , 0.        ,\n",
      "        0.01960784, 0.05882353, 0.00784314, 0.05098039, 0.01960784,\n",
      "        0.        , 0.        , 0.        , 0.05098039, 0.03529412,\n",
      "        0.00784314, 0.05882353, 0.00784314, 0.        , 0.        ,\n",
      "        0.01568627, 0.05490196, 0.00392157, 0.03921569, 0.04705882,\n",
      "        0.00784314, 0.        , 0.        , 0.03921569, 0.05490196,\n",
      "        0.03137255, 0.0627451 , 0.0627451 , 0.03921569, 0.        ,\n",
      "        0.        , 0.03921569, 0.0627451 , 0.0627451 , 0.05882353,\n",
      "        0.01960784, 0.        , 0.        , 0.        , 0.        ,\n",
      "        0.00784314, 0.04705882, 0.03137255, 0.        , 0.        ,\n",
      "        0.        , 0.        , 0.        , 0.        , 0.0627451 ,\n",
      "        0.01960784, 0.        , 0.        , 0.        ],\n",
      "       [0.        , 0.        , 0.02352941, 0.05490196, 0.05882353,\n",
      "        0.02745098, 0.        , 0.        , 0.        , 0.01176471,\n",
      "        0.05882353, 0.02352941, 0.00784314, 0.05490196, 0.01176471,\n",
      "        0.        , 0.        , 0.01568627, 0.05098039, 0.        ,\n",
      "        0.00392157, 0.0627451 , 0.01568627, 0.        , 0.        ,\n",
      "        0.        , 0.03921569, 0.04313725, 0.03529412, 0.0627451 ,\n",
      "        0.02352941, 0.        , 0.        , 0.        , 0.00392157,\n",
      "        0.03137255, 0.03921569, 0.05490196, 0.01960784, 0.        ,\n",
      "        0.        , 0.        , 0.        , 0.        , 0.        ,\n",
      "        0.03137255, 0.04313725, 0.        , 0.        , 0.00392157,\n",
      "        0.04705882, 0.01960784, 0.        , 0.03921569, 0.04313725,\n",
      "        0.        , 0.        , 0.        , 0.02745098, 0.05098039,\n",
      "        0.0627451 , 0.0627451 , 0.01568627, 0.        ],\n",
      "       [0.        , 0.        , 0.02352941, 0.0627451 , 0.0627451 ,\n",
      "        0.03529412, 0.        , 0.        , 0.        , 0.        ,\n",
      "        0.05490196, 0.03529412, 0.04705882, 0.04313725, 0.        ,\n",
      "        0.        , 0.        , 0.        , 0.00392157, 0.        ,\n",
      "        0.03529412, 0.02352941, 0.        , 0.        , 0.        ,\n",
      "        0.        , 0.00392157, 0.02352941, 0.0627451 , 0.03921569,\n",
      "        0.02352941, 0.        , 0.        , 0.        , 0.03921569,\n",
      "        0.0627451 , 0.05490196, 0.04313725, 0.01960784, 0.        ,\n",
      "        0.        , 0.        , 0.01960784, 0.05882353, 0.00784314,\n",
      "        0.        , 0.        , 0.        , 0.        , 0.        ,\n",
      "        0.01176471, 0.05098039, 0.        , 0.        , 0.        ,\n",
      "        0.        , 0.        , 0.        , 0.02745098, 0.03137255,\n",
      "        0.        , 0.        , 0.        , 0.        ],\n",
      "       [0.        , 0.        , 0.01960784, 0.0627451 , 0.01960784,\n",
      "        0.        , 0.        , 0.        , 0.        , 0.        ,\n",
      "        0.04705882, 0.05490196, 0.00392157, 0.        , 0.        ,\n",
      "        0.        , 0.        , 0.        , 0.05882353, 0.03921569,\n",
      "        0.        , 0.        , 0.        , 0.        , 0.        ,\n",
      "        0.01176471, 0.0627451 , 0.03529412, 0.00392157, 0.        ,\n",
      "        0.        , 0.        , 0.        , 0.02745098, 0.0627451 ,\n",
      "        0.0627451 , 0.0627451 , 0.03529412, 0.        , 0.        ,\n",
      "        0.        , 0.00392157, 0.0627451 , 0.03921569, 0.03137255,\n",
      "        0.0627451 , 0.02352941, 0.        , 0.        , 0.        ,\n",
      "        0.04705882, 0.05490196, 0.01960784, 0.03529412, 0.05098039,\n",
      "        0.        , 0.        , 0.        , 0.01568627, 0.05882353,\n",
      "        0.05882353, 0.04705882, 0.01176471, 0.        ]])>, <tf.Tensor: shape=(8,), dtype=int32, numpy=array([1, 3, 3, 8, 4, 9, 7, 6])>)\n",
      "val batch: (<tf.Tensor: shape=(8, 64), dtype=float64, numpy=\n",
      "array([[0.        , 0.        , 0.03921569, 0.03529412, 0.05490196,\n",
      "        0.03921569, 0.        , 0.        , 0.        , 0.00784314,\n",
      "        0.05882353, 0.05882353, 0.01568627, 0.05490196, 0.00784314,\n",
      "        0.        , 0.        , 0.        , 0.05098039, 0.01960784,\n",
      "        0.03529412, 0.04705882, 0.        , 0.        , 0.        ,\n",
      "        0.        , 0.01568627, 0.0627451 , 0.05490196, 0.00784314,\n",
      "        0.        , 0.        , 0.        , 0.        , 0.04313725,\n",
      "        0.04705882, 0.03921569, 0.        , 0.        , 0.        ,\n",
      "        0.        , 0.        , 0.05882353, 0.00392157, 0.04705882,\n",
      "        0.        , 0.        , 0.        , 0.        , 0.01176471,\n",
      "        0.04705882, 0.00784314, 0.05098039, 0.        , 0.        ,\n",
      "        0.        , 0.        , 0.        , 0.03529412, 0.0627451 ,\n",
      "        0.02745098, 0.        , 0.        , 0.        ],\n",
      "       [0.        , 0.00784314, 0.04313725, 0.0627451 , 0.05882353,\n",
      "        0.00784314, 0.        , 0.        , 0.        , 0.04705882,\n",
      "        0.05882353, 0.04705882, 0.0627451 , 0.01568627, 0.        ,\n",
      "        0.        , 0.        , 0.01176471, 0.01176471, 0.02352941,\n",
      "        0.0627451 , 0.00784314, 0.        , 0.        , 0.        ,\n",
      "        0.        , 0.00784314, 0.05882353, 0.04705882, 0.        ,\n",
      "        0.        , 0.        , 0.        , 0.        , 0.01176471,\n",
      "        0.0627451 , 0.0627451 , 0.04705882, 0.00392157, 0.        ,\n",
      "        0.        , 0.        , 0.        , 0.00392157, 0.02352941,\n",
      "        0.05882353, 0.03921569, 0.        , 0.        , 0.        ,\n",
      "        0.02352941, 0.04705882, 0.03137255, 0.05490196, 0.04313725,\n",
      "        0.        , 0.        , 0.00392157, 0.0627451 , 0.0627451 ,\n",
      "        0.0627451 , 0.04313725, 0.01176471, 0.        ],\n",
      "       [0.        , 0.        , 0.04705882, 0.03529412, 0.03529412,\n",
      "        0.03137255, 0.00392157, 0.        , 0.        , 0.00784314,\n",
      "        0.05882353, 0.03137255, 0.03137255, 0.03137255, 0.00784314,\n",
      "        0.        , 0.        , 0.03137255, 0.04705882, 0.03137255,\n",
      "        0.01960784, 0.        , 0.        , 0.        , 0.        ,\n",
      "        0.03137255, 0.05882353, 0.03529412, 0.05490196, 0.03529412,\n",
      "        0.        , 0.        , 0.        , 0.00784314, 0.00392157,\n",
      "        0.        , 0.00392157, 0.05490196, 0.01176471, 0.        ,\n",
      "        0.        , 0.        , 0.        , 0.        , 0.        ,\n",
      "        0.02352941, 0.04313725, 0.        , 0.        , 0.00392157,\n",
      "        0.03137255, 0.01568627, 0.01960784, 0.05490196, 0.03529412,\n",
      "        0.        , 0.        , 0.00392157, 0.04313725, 0.0627451 ,\n",
      "        0.04705882, 0.02745098, 0.        , 0.        ],\n",
      "       [0.        , 0.        , 0.        , 0.01176471, 0.05490196,\n",
      "        0.03529412, 0.        , 0.        , 0.        , 0.        ,\n",
      "        0.        , 0.05098039, 0.04313725, 0.00392157, 0.        ,\n",
      "        0.        , 0.        , 0.        , 0.03529412, 0.05490196,\n",
      "        0.        , 0.        , 0.        , 0.        , 0.        ,\n",
      "        0.01568627, 0.0627451 , 0.01568627, 0.        , 0.01568627,\n",
      "        0.00784314, 0.        , 0.        , 0.04705882, 0.04705882,\n",
      "        0.02745098, 0.05490196, 0.0627451 , 0.03921569, 0.        ,\n",
      "        0.        , 0.05098039, 0.0627451 , 0.05490196, 0.04313725,\n",
      "        0.0627451 , 0.01568627, 0.        , 0.        , 0.00784314,\n",
      "        0.00784314, 0.        , 0.04313725, 0.05098039, 0.        ,\n",
      "        0.        , 0.        , 0.        , 0.        , 0.01176471,\n",
      "        0.0627451 , 0.03529412, 0.        , 0.        ],\n",
      "       [0.        , 0.        , 0.01960784, 0.04705882, 0.0627451 ,\n",
      "        0.05882353, 0.00784314, 0.        , 0.        , 0.02352941,\n",
      "        0.05882353, 0.03529412, 0.03921569, 0.05882353, 0.01568627,\n",
      "        0.        , 0.        , 0.01176471, 0.05490196, 0.01176471,\n",
      "        0.00392157, 0.05490196, 0.01568627, 0.        , 0.        ,\n",
      "        0.        , 0.03921569, 0.0627451 , 0.05882353, 0.05098039,\n",
      "        0.00392157, 0.        , 0.        , 0.        , 0.02352941,\n",
      "        0.05882353, 0.05882353, 0.03921569, 0.        , 0.        ,\n",
      "        0.        , 0.        , 0.05882353, 0.01176471, 0.00784314,\n",
      "        0.05882353, 0.01176471, 0.        , 0.        , 0.        ,\n",
      "        0.0627451 , 0.03137255, 0.00392157, 0.05490196, 0.01568627,\n",
      "        0.        , 0.        , 0.        , 0.01568627, 0.05882353,\n",
      "        0.0627451 , 0.04313725, 0.00784314, 0.        ],\n",
      "       [0.        , 0.        , 0.02745098, 0.0627451 , 0.05490196,\n",
      "        0.05098039, 0.03921569, 0.        , 0.        , 0.        ,\n",
      "        0.03921569, 0.04705882, 0.03921569, 0.0627451 , 0.01568627,\n",
      "        0.        , 0.        , 0.        , 0.05882353, 0.01960784,\n",
      "        0.03137255, 0.05098039, 0.        , 0.        , 0.        ,\n",
      "        0.00392157, 0.02745098, 0.00392157, 0.0627451 , 0.01176471,\n",
      "        0.        , 0.        , 0.        , 0.00784314, 0.04313725,\n",
      "        0.05098039, 0.0627451 , 0.04705882, 0.02352941, 0.        ,\n",
      "        0.        , 0.01568627, 0.04705882, 0.05882353, 0.05490196,\n",
      "        0.04313725, 0.00784314, 0.        , 0.        , 0.        ,\n",
      "        0.01176471, 0.0627451 , 0.01176471, 0.        , 0.        ,\n",
      "        0.        , 0.        , 0.        , 0.03529412, 0.05098039,\n",
      "        0.        , 0.        , 0.        , 0.        ],\n",
      "       [0.        , 0.        , 0.01176471, 0.05882353, 0.01568627,\n",
      "        0.        , 0.        , 0.        , 0.        , 0.        ,\n",
      "        0.04705882, 0.0627451 , 0.00784314, 0.        , 0.        ,\n",
      "        0.        , 0.        , 0.00392157, 0.0627451 , 0.02745098,\n",
      "        0.00392157, 0.        , 0.        , 0.        , 0.        ,\n",
      "        0.01176471, 0.0627451 , 0.00392157, 0.02352941, 0.00392157,\n",
      "        0.        , 0.        , 0.        , 0.01176471, 0.05882353,\n",
      "        0.03137255, 0.04705882, 0.05098039, 0.01176471, 0.        ,\n",
      "        0.        , 0.00784314, 0.0627451 , 0.00784314, 0.        ,\n",
      "        0.02745098, 0.04705882, 0.        , 0.        , 0.        ,\n",
      "        0.05098039, 0.03529412, 0.01568627, 0.03529412, 0.05882353,\n",
      "        0.        , 0.        , 0.        , 0.01176471, 0.05098039,\n",
      "        0.0627451 , 0.05882353, 0.01960784, 0.        ],\n",
      "       [0.        , 0.        , 0.        , 0.00392157, 0.0627451 ,\n",
      "        0.01176471, 0.        , 0.        , 0.        , 0.        ,\n",
      "        0.        , 0.03921569, 0.04313725, 0.        , 0.        ,\n",
      "        0.        , 0.        , 0.        , 0.00392157, 0.05490196,\n",
      "        0.01176471, 0.        , 0.        , 0.        , 0.        ,\n",
      "        0.        , 0.02745098, 0.04705882, 0.        , 0.01176471,\n",
      "        0.03529412, 0.        , 0.        , 0.        , 0.05490196,\n",
      "        0.00784314, 0.        , 0.03921569, 0.02745098, 0.        ,\n",
      "        0.        , 0.02352941, 0.05098039, 0.01960784, 0.04313725,\n",
      "        0.05490196, 0.00392157, 0.        , 0.        , 0.04313725,\n",
      "        0.0627451 , 0.0627451 , 0.0627451 , 0.03529412, 0.        ,\n",
      "        0.        , 0.        , 0.00392157, 0.00784314, 0.00392157,\n",
      "        0.05490196, 0.00392157, 0.        , 0.        ]])>, <tf.Tensor: shape=(8,), dtype=int32, numpy=array([8, 3, 5, 4, 8, 7, 6, 4])>)\n",
      "test batch: (<tf.Tensor: shape=(8, 64), dtype=float64, numpy=\n",
      "array([[0.        , 0.        , 0.01568627, 0.05490196, 0.0627451 ,\n",
      "        0.01568627, 0.        , 0.        , 0.        , 0.        ,\n",
      "        0.04705882, 0.03137255, 0.03529412, 0.04705882, 0.        ,\n",
      "        0.        , 0.        , 0.00784314, 0.04313725, 0.        ,\n",
      "        0.        , 0.04705882, 0.01176471, 0.        , 0.        ,\n",
      "        0.01568627, 0.02745098, 0.        , 0.        , 0.01960784,\n",
      "        0.03137255, 0.        , 0.        , 0.02352941, 0.01568627,\n",
      "        0.        , 0.        , 0.01568627, 0.03137255, 0.        ,\n",
      "        0.        , 0.01568627, 0.03529412, 0.        , 0.        ,\n",
      "        0.02352941, 0.03137255, 0.        , 0.        , 0.        ,\n",
      "        0.05490196, 0.03529412, 0.02352941, 0.05882353, 0.00784314,\n",
      "        0.        , 0.        , 0.        , 0.01568627, 0.0627451 ,\n",
      "        0.05882353, 0.01960784, 0.        , 0.        ],\n",
      "       [0.        , 0.        , 0.01960784, 0.04705882, 0.0627451 ,\n",
      "        0.03921569, 0.        , 0.        , 0.        , 0.03137255,\n",
      "        0.05882353, 0.01960784, 0.04705882, 0.05098039, 0.        ,\n",
      "        0.        , 0.        , 0.        , 0.        , 0.01176471,\n",
      "        0.0627451 , 0.01568627, 0.        , 0.        , 0.        ,\n",
      "        0.        , 0.        , 0.01960784, 0.0627451 , 0.01176471,\n",
      "        0.        , 0.        , 0.        , 0.        , 0.        ,\n",
      "        0.00784314, 0.05882353, 0.03137255, 0.        , 0.        ,\n",
      "        0.        , 0.        , 0.        , 0.        , 0.00784314,\n",
      "        0.05490196, 0.02745098, 0.        , 0.        , 0.        ,\n",
      "        0.        , 0.        , 0.        , 0.05098039, 0.04313725,\n",
      "        0.        , 0.        , 0.        , 0.01960784, 0.0627451 ,\n",
      "        0.0627451 , 0.04313725, 0.01176471, 0.        ],\n",
      "       [0.        , 0.        , 0.00784314, 0.05882353, 0.02352941,\n",
      "        0.        , 0.        , 0.        , 0.        , 0.        ,\n",
      "        0.03921569, 0.05490196, 0.        , 0.01960784, 0.        ,\n",
      "        0.        , 0.        , 0.        , 0.05098039, 0.03529412,\n",
      "        0.03529412, 0.0627451 , 0.01176471, 0.        , 0.        ,\n",
      "        0.02352941, 0.05882353, 0.02352941, 0.0627451 , 0.01176471,\n",
      "        0.        , 0.        , 0.        , 0.03529412, 0.05098039,\n",
      "        0.04705882, 0.05882353, 0.04705882, 0.03137255, 0.        ,\n",
      "        0.        , 0.03529412, 0.0627451 , 0.0627451 , 0.05490196,\n",
      "        0.02745098, 0.00784314, 0.        , 0.        , 0.00392157,\n",
      "        0.02745098, 0.0627451 , 0.02745098, 0.        , 0.        ,\n",
      "        0.        , 0.        , 0.        , 0.00784314, 0.0627451 ,\n",
      "        0.02745098, 0.        , 0.        , 0.        ],\n",
      "       [0.        , 0.        , 0.        , 0.03137255, 0.05490196,\n",
      "        0.05490196, 0.00784314, 0.        , 0.        , 0.        ,\n",
      "        0.        , 0.02352941, 0.03921569, 0.05882353, 0.04313725,\n",
      "        0.        , 0.        , 0.        , 0.        , 0.        ,\n",
      "        0.        , 0.05490196, 0.03921569, 0.        , 0.        ,\n",
      "        0.00784314, 0.03137255, 0.04313725, 0.04705882, 0.0627451 ,\n",
      "        0.03137255, 0.        , 0.        , 0.03137255, 0.0627451 ,\n",
      "        0.0627451 , 0.0627451 , 0.0627451 , 0.02745098, 0.        ,\n",
      "        0.        , 0.        , 0.        , 0.        , 0.04313725,\n",
      "        0.05882353, 0.00392157, 0.        , 0.        , 0.        ,\n",
      "        0.        , 0.03529412, 0.0627451 , 0.02745098, 0.        ,\n",
      "        0.        , 0.        , 0.        , 0.        , 0.04705882,\n",
      "        0.05098039, 0.00392157, 0.        , 0.        ],\n",
      "       [0.        , 0.00392157, 0.05098039, 0.0627451 , 0.02745098,\n",
      "        0.        , 0.        , 0.        , 0.        , 0.01960784,\n",
      "        0.0627451 , 0.04705882, 0.05882353, 0.01176471, 0.        ,\n",
      "        0.        , 0.        , 0.        , 0.03529412, 0.02352941,\n",
      "        0.05882353, 0.03529412, 0.        , 0.        , 0.        ,\n",
      "        0.        , 0.        , 0.        , 0.05490196, 0.03921569,\n",
      "        0.        , 0.        , 0.        , 0.        , 0.        ,\n",
      "        0.        , 0.05490196, 0.04313725, 0.        , 0.        ,\n",
      "        0.        , 0.        , 0.        , 0.03137255, 0.0627451 ,\n",
      "        0.01568627, 0.00392157, 0.        , 0.        , 0.        ,\n",
      "        0.03529412, 0.0627451 , 0.0627451 , 0.02352941, 0.0627451 ,\n",
      "        0.01960784, 0.        , 0.        , 0.03137255, 0.04705882,\n",
      "        0.05098039, 0.0627451 , 0.0627451 , 0.04313725],\n",
      "       [0.        , 0.        , 0.03137255, 0.0627451 , 0.03137255,\n",
      "        0.        , 0.        , 0.        , 0.        , 0.        ,\n",
      "        0.0627451 , 0.02352941, 0.05882353, 0.00392157, 0.        ,\n",
      "        0.        , 0.        , 0.01568627, 0.03921569, 0.        ,\n",
      "        0.04705882, 0.00784314, 0.        , 0.        , 0.        ,\n",
      "        0.        , 0.        , 0.02745098, 0.0627451 , 0.01176471,\n",
      "        0.        , 0.        , 0.        , 0.        , 0.        ,\n",
      "        0.01960784, 0.05098039, 0.0627451 , 0.01176471, 0.        ,\n",
      "        0.        , 0.        , 0.        , 0.        , 0.        ,\n",
      "        0.04313725, 0.02352941, 0.        , 0.        , 0.        ,\n",
      "        0.04705882, 0.03529412, 0.03529412, 0.0627451 , 0.00784314,\n",
      "        0.        , 0.        , 0.        , 0.03137255, 0.0627451 ,\n",
      "        0.05882353, 0.02745098, 0.        , 0.        ],\n",
      "       [0.        , 0.        , 0.03137255, 0.05490196, 0.0627451 ,\n",
      "        0.0627451 , 0.00392157, 0.        , 0.        , 0.02352941,\n",
      "        0.0627451 , 0.0627451 , 0.03137255, 0.01176471, 0.        ,\n",
      "        0.        , 0.        , 0.05490196, 0.05490196, 0.00392157,\n",
      "        0.        , 0.        , 0.        , 0.        , 0.        ,\n",
      "        0.03921569, 0.05882353, 0.01568627, 0.        , 0.        ,\n",
      "        0.        , 0.        , 0.        , 0.01176471, 0.05882353,\n",
      "        0.0627451 , 0.02352941, 0.        , 0.        , 0.        ,\n",
      "        0.        , 0.        , 0.00392157, 0.03137255, 0.05882353,\n",
      "        0.00784314, 0.        , 0.        , 0.        , 0.        ,\n",
      "        0.00784314, 0.05098039, 0.05882353, 0.        , 0.        ,\n",
      "        0.        , 0.        , 0.        , 0.03921569, 0.0627451 ,\n",
      "        0.01568627, 0.        , 0.        , 0.        ],\n",
      "       [0.        , 0.        , 0.02352941, 0.0627451 , 0.0627451 ,\n",
      "        0.03529412, 0.        , 0.        , 0.        , 0.        ,\n",
      "        0.05490196, 0.03529412, 0.04705882, 0.04313725, 0.        ,\n",
      "        0.        , 0.        , 0.        , 0.00392157, 0.        ,\n",
      "        0.03529412, 0.02352941, 0.        , 0.        , 0.        ,\n",
      "        0.        , 0.00392157, 0.02352941, 0.0627451 , 0.03921569,\n",
      "        0.02352941, 0.        , 0.        , 0.        , 0.03921569,\n",
      "        0.0627451 , 0.05490196, 0.04313725, 0.01960784, 0.        ,\n",
      "        0.        , 0.        , 0.01960784, 0.05882353, 0.00784314,\n",
      "        0.        , 0.        , 0.        , 0.        , 0.        ,\n",
      "        0.01176471, 0.05098039, 0.        , 0.        , 0.        ,\n",
      "        0.        , 0.        , 0.        , 0.02745098, 0.03137255,\n",
      "        0.        , 0.        , 0.        , 0.        ]])>, <tf.Tensor: shape=(8,), dtype=int32, numpy=array([0, 3, 4, 7, 2, 3, 5, 7])>)\n"
     ]
    }
   ],
   "source": [
    "train_batch = train.shuffle(len(X_train)).batch(8)\n",
    "val_batch = train.shuffle(len(X_val)).batch(8)\n",
    "test_batch = train.shuffle(len(X_test)).batch(8)\n",
    "\n",
    "print(\"train batch:\", next(iter(train_batch)))\n",
    "print(\"val batch:\", next(iter(val_batch)))\n",
    "print(\"test batch:\", next(iter(test_batch)))"
   ]
  },
  {
   "cell_type": "markdown",
   "metadata": {
    "id": "AIG8SZ_fbAM4"
   },
   "source": [
    "We are now ready to start training deep learning models!"
   ]
  },
  {
   "cell_type": "markdown",
   "metadata": {
    "id": "fhAb3OHwbFHh"
   },
   "source": [
    "## Technique 2: split using tensorflow\n",
    "\n",
    "This technique is not so recommended because tensorflow is not able to work with datasets in the same way that sklearn does, it is not as practical to split the data in a random way, but we will show you how it can be done, as sometimes you will strictly be working with tensorflow objects.\n",
    "\n",
    "* Create a tensor slice dataset object using `data`and `target`."
   ]
  },
  {
   "cell_type": "code",
   "execution_count": 17,
   "metadata": {
    "colab": {
     "base_uri": "https://localhost:8080/"
    },
    "executionInfo": {
     "elapsed": 431,
     "status": "ok",
     "timestamp": 1612901705374,
     "user": {
      "displayName": "Charles Tanguy",
      "photoUrl": "",
      "userId": "11930294859591867631"
     },
     "user_tz": -60
    },
    "id": "kdlzq88sa5tr",
    "outputId": "54afcd37-29a3-4bb7-f2ea-d49925e59de5"
   },
   "outputs": [
    {
     "name": "stdout",
     "output_type": "stream",
     "text": [
      "full_ds: <TensorSliceDataset element_spec=(TensorSpec(shape=(64,), dtype=tf.float64, name=None), TensorSpec(shape=(), dtype=tf.int32, name=None))>\n"
     ]
    }
   ],
   "source": [
    "full_ds = tf.data.Dataset.from_tensor_slices((data,target))\n",
    "print(\"full_ds:\", full_ds)"
   ]
  },
  {
   "cell_type": "markdown",
   "metadata": {
    "id": "iLDSGNPIbvMn"
   },
   "source": [
    "* Using the commands take and skip, separate the tensor slice dataset into a train object containing 60% of the data, a val object (20%) and a test object (20%)."
   ]
  },
  {
   "cell_type": "code",
   "execution_count": 18,
   "metadata": {
    "colab": {
     "base_uri": "https://localhost:8080/"
    },
    "executionInfo": {
     "elapsed": 510,
     "status": "ok",
     "timestamp": 1612902008107,
     "user": {
      "displayName": "Charles Tanguy",
      "photoUrl": "",
      "userId": "11930294859591867631"
     },
     "user_tz": -60
    },
    "id": "NvTEUACTbuSb",
    "outputId": "4bb1bc34-f42c-42e5-f999-4719479fba6b"
   },
   "outputs": [
    {
     "name": "stdout",
     "output_type": "stream",
     "text": [
      "train: <TakeDataset element_spec=(TensorSpec(shape=(64,), dtype=tf.float64, name=None), TensorSpec(shape=(), dtype=tf.int32, name=None))> 1078\n",
      "val: <TakeDataset element_spec=(TensorSpec(shape=(64,), dtype=tf.float64, name=None), TensorSpec(shape=(), dtype=tf.int32, name=None))> 359\n",
      "test: <SkipDataset element_spec=(TensorSpec(shape=(64,), dtype=tf.float64, name=None), TensorSpec(shape=(), dtype=tf.int32, name=None))> 360\n"
     ]
    }
   ],
   "source": [
    "n_train = int(0.6*len(data))\n",
    "n_val = int(0.2*len(data))\n",
    "n_test = len(data) - n_train - n_val\n",
    "\n",
    "train = full_ds.take(n_train)\n",
    "valtest = full_ds.skip(n_train)\n",
    "val = valtest.take(n_val)\n",
    "test = valtest.skip(n_val)\n",
    "\n",
    "print(\"train:\", train, len(train))\n",
    "print(\"val:\", val, len(val))\n",
    "print(\"test:\", test, len(test))"
   ]
  },
  {
   "cell_type": "markdown",
   "metadata": {
    "id": "TTdWCH3ic7Dm"
   },
   "source": [
    "* Use methods shuffle and batch in order to create batch datasets with batches of 8 observations for train, val, and test, and show one batch from each of these objects."
   ]
  },
  {
   "cell_type": "code",
   "execution_count": 19,
   "metadata": {
    "colab": {
     "base_uri": "https://localhost:8080/"
    },
    "executionInfo": {
     "elapsed": 480,
     "status": "ok",
     "timestamp": 1612902150674,
     "user": {
      "displayName": "Charles Tanguy",
      "photoUrl": "",
      "userId": "11930294859591867631"
     },
     "user_tz": -60
    },
    "id": "ghhNRALRdGLy",
    "outputId": "fa57bcc3-2a43-4390-8470-8ba650515568"
   },
   "outputs": [
    {
     "name": "stdout",
     "output_type": "stream",
     "text": [
      "train batch: (<tf.Tensor: shape=(8, 64), dtype=float64, numpy=\n",
      "array([[0.        , 0.        , 0.00392157, 0.04705882, 0.01960784,\n",
      "        0.        , 0.        , 0.        , 0.        , 0.        ,\n",
      "        0.03529412, 0.0627451 , 0.05490196, 0.01176471, 0.        ,\n",
      "        0.        , 0.        , 0.00784314, 0.0627451 , 0.05490196,\n",
      "        0.04313725, 0.05098039, 0.        , 0.        , 0.        ,\n",
      "        0.00784314, 0.0627451 , 0.03921569, 0.        , 0.05490196,\n",
      "        0.01568627, 0.        , 0.        , 0.01568627, 0.0627451 ,\n",
      "        0.        , 0.        , 0.04705882, 0.01568627, 0.        ,\n",
      "        0.        , 0.01568627, 0.0627451 , 0.01176471, 0.        ,\n",
      "        0.04313725, 0.03921569, 0.        , 0.        , 0.        ,\n",
      "        0.05098039, 0.04705882, 0.03137255, 0.05490196, 0.02352941,\n",
      "        0.        , 0.        , 0.        , 0.01176471, 0.03921569,\n",
      "        0.0627451 , 0.04705882, 0.00392157, 0.        ],\n",
      "       [0.        , 0.        , 0.        , 0.05490196, 0.04705882,\n",
      "        0.00784314, 0.        , 0.        , 0.        , 0.        ,\n",
      "        0.        , 0.02352941, 0.03137255, 0.05490196, 0.00392157,\n",
      "        0.        , 0.        , 0.        , 0.03529412, 0.04313725,\n",
      "        0.        , 0.05098039, 0.01960784, 0.        , 0.        ,\n",
      "        0.00784314, 0.0627451 , 0.03137255, 0.        , 0.03137255,\n",
      "        0.03137255, 0.        , 0.        , 0.01960784, 0.05098039,\n",
      "        0.        , 0.        , 0.03137255, 0.02745098, 0.        ,\n",
      "        0.        , 0.02352941, 0.05098039, 0.        , 0.        ,\n",
      "        0.04313725, 0.01568627, 0.        , 0.        , 0.        ,\n",
      "        0.04705882, 0.03921569, 0.02352941, 0.05490196, 0.        ,\n",
      "        0.        , 0.        , 0.        , 0.00392157, 0.04313725,\n",
      "        0.05490196, 0.02745098, 0.        , 0.        ],\n",
      "       [0.        , 0.        , 0.00784314, 0.04313725, 0.05098039,\n",
      "        0.01568627, 0.        , 0.        , 0.        , 0.00392157,\n",
      "        0.05098039, 0.02745098, 0.03137255, 0.05882353, 0.        ,\n",
      "        0.        , 0.        , 0.02352941, 0.04313725, 0.        ,\n",
      "        0.01960784, 0.05098039, 0.        , 0.        , 0.        ,\n",
      "        0.03529412, 0.02745098, 0.00784314, 0.05490196, 0.05490196,\n",
      "        0.        , 0.        , 0.        , 0.01176471, 0.05490196,\n",
      "        0.05882353, 0.03137255, 0.05882353, 0.00392157, 0.        ,\n",
      "        0.        , 0.        , 0.        , 0.        , 0.        ,\n",
      "        0.04313725, 0.01960784, 0.        , 0.        , 0.        ,\n",
      "        0.04313725, 0.02745098, 0.        , 0.03921569, 0.02745098,\n",
      "        0.        , 0.        , 0.        , 0.01568627, 0.03921569,\n",
      "        0.05882353, 0.05882353, 0.01176471, 0.        ],\n",
      "       [0.        , 0.01176471, 0.0627451 , 0.0627451 , 0.04705882,\n",
      "        0.04705882, 0.02352941, 0.        , 0.        , 0.        ,\n",
      "        0.01568627, 0.01568627, 0.01960784, 0.05490196, 0.03137255,\n",
      "        0.        , 0.        , 0.        , 0.        , 0.        ,\n",
      "        0.04313725, 0.04313725, 0.        , 0.        , 0.        ,\n",
      "        0.        , 0.        , 0.01568627, 0.0627451 , 0.01176471,\n",
      "        0.        , 0.        , 0.        , 0.        , 0.        ,\n",
      "        0.        , 0.04705882, 0.04313725, 0.        , 0.        ,\n",
      "        0.        , 0.        , 0.        , 0.        , 0.03529412,\n",
      "        0.05490196, 0.        , 0.        , 0.        , 0.        ,\n",
      "        0.01176471, 0.02745098, 0.05882353, 0.01568627, 0.        ,\n",
      "        0.        , 0.        , 0.01176471, 0.0627451 , 0.05490196,\n",
      "        0.01568627, 0.        , 0.        , 0.        ],\n",
      "       [0.        , 0.        , 0.02745098, 0.0627451 , 0.04705882,\n",
      "        0.00392157, 0.        , 0.        , 0.        , 0.        ,\n",
      "        0.0627451 , 0.04313725, 0.0627451 , 0.03137255, 0.        ,\n",
      "        0.        , 0.        , 0.        , 0.01176471, 0.03529412,\n",
      "        0.0627451 , 0.02352941, 0.        , 0.        , 0.        ,\n",
      "        0.        , 0.        , 0.05098039, 0.0627451 , 0.05882353,\n",
      "        0.00392157, 0.        , 0.        , 0.        , 0.00392157,\n",
      "        0.00784314, 0.01960784, 0.05490196, 0.03137255, 0.        ,\n",
      "        0.        , 0.01960784, 0.05490196, 0.        , 0.        ,\n",
      "        0.03529412, 0.05882353, 0.        , 0.        , 0.01568627,\n",
      "        0.0627451 , 0.02745098, 0.02352941, 0.05098039, 0.05490196,\n",
      "        0.        , 0.        , 0.        , 0.02745098, 0.0627451 ,\n",
      "        0.0627451 , 0.0627451 , 0.01568627, 0.        ],\n",
      "       [0.        , 0.        , 0.00784314, 0.0627451 , 0.05882353,\n",
      "        0.01960784, 0.        , 0.        , 0.        , 0.        ,\n",
      "        0.03921569, 0.0627451 , 0.05490196, 0.05882353, 0.        ,\n",
      "        0.        , 0.        , 0.        , 0.05882353, 0.03921569,\n",
      "        0.        , 0.0627451 , 0.02745098, 0.        , 0.        ,\n",
      "        0.01568627, 0.0627451 , 0.00392157, 0.        , 0.04705882,\n",
      "        0.01960784, 0.        , 0.        , 0.01568627, 0.05882353,\n",
      "        0.        , 0.        , 0.04705882, 0.01960784, 0.        ,\n",
      "        0.        , 0.01960784, 0.0627451 , 0.02352941, 0.        ,\n",
      "        0.0627451 , 0.        , 0.        , 0.        , 0.        ,\n",
      "        0.05490196, 0.05098039, 0.03137255, 0.05882353, 0.        ,\n",
      "        0.        , 0.        , 0.        , 0.01176471, 0.05490196,\n",
      "        0.0627451 , 0.02352941, 0.        , 0.        ],\n",
      "       [0.        , 0.        , 0.00392157, 0.04705882, 0.0627451 ,\n",
      "        0.05490196, 0.00784314, 0.        , 0.        , 0.        ,\n",
      "        0.05098039, 0.04313725, 0.01176471, 0.0627451 , 0.01960784,\n",
      "        0.        , 0.        , 0.01568627, 0.05490196, 0.        ,\n",
      "        0.        , 0.05882353, 0.02352941, 0.        , 0.        ,\n",
      "        0.02352941, 0.04705882, 0.03137255, 0.05098039, 0.0627451 ,\n",
      "        0.01960784, 0.        , 0.        , 0.        , 0.03529412,\n",
      "        0.04705882, 0.01568627, 0.03921569, 0.03137255, 0.        ,\n",
      "        0.        , 0.        , 0.01176471, 0.        , 0.        ,\n",
      "        0.04313725, 0.01960784, 0.        , 0.        , 0.        ,\n",
      "        0.0627451 , 0.05490196, 0.01960784, 0.05882353, 0.01568627,\n",
      "        0.        , 0.        , 0.        , 0.01176471, 0.04705882,\n",
      "        0.0627451 , 0.04313725, 0.00392157, 0.        ],\n",
      "       [0.        , 0.        , 0.00784314, 0.05490196, 0.04313725,\n",
      "        0.        , 0.        , 0.        , 0.        , 0.        ,\n",
      "        0.03921569, 0.0627451 , 0.00392157, 0.        , 0.        ,\n",
      "        0.        , 0.        , 0.00392157, 0.0627451 , 0.03529412,\n",
      "        0.        , 0.        , 0.        , 0.        , 0.        ,\n",
      "        0.01568627, 0.0627451 , 0.01960784, 0.        , 0.        ,\n",
      "        0.        , 0.        , 0.        , 0.01960784, 0.0627451 ,\n",
      "        0.04705882, 0.04705882, 0.04313725, 0.00392157, 0.        ,\n",
      "        0.        , 0.01568627, 0.0627451 , 0.05490196, 0.03921569,\n",
      "        0.05490196, 0.04313725, 0.        , 0.        , 0.00784314,\n",
      "        0.05882353, 0.03921569, 0.02352941, 0.0627451 , 0.03921569,\n",
      "        0.        , 0.        , 0.        , 0.01176471, 0.05882353,\n",
      "        0.0627451 , 0.03921569, 0.00392157, 0.        ]])>, <tf.Tensor: shape=(8,), dtype=int32, numpy=array([0, 0, 9, 3, 3, 0, 9, 6])>)\n",
      "val batch: (<tf.Tensor: shape=(8, 64), dtype=float64, numpy=\n",
      "array([[0.        , 0.        , 0.00784314, 0.03529412, 0.05490196,\n",
      "        0.04705882, 0.        , 0.        , 0.        , 0.        ,\n",
      "        0.04705882, 0.0627451 , 0.03921569, 0.05882353, 0.00392157,\n",
      "        0.        , 0.        , 0.01568627, 0.05490196, 0.01176471,\n",
      "        0.00784314, 0.02352941, 0.02352941, 0.        , 0.        ,\n",
      "        0.01960784, 0.02745098, 0.        , 0.        , 0.01176471,\n",
      "        0.03137255, 0.        , 0.        , 0.01568627, 0.02745098,\n",
      "        0.        , 0.        , 0.00392157, 0.03137255, 0.        ,\n",
      "        0.        , 0.01176471, 0.04705882, 0.00392157, 0.        ,\n",
      "        0.01960784, 0.03137255, 0.        , 0.        , 0.        ,\n",
      "        0.03921569, 0.04705882, 0.02745098, 0.05490196, 0.01176471,\n",
      "        0.        , 0.        , 0.        , 0.00392157, 0.04705882,\n",
      "        0.0627451 , 0.03137255, 0.        , 0.        ],\n",
      "       [0.        , 0.        , 0.00392157, 0.05490196, 0.0627451 ,\n",
      "        0.03137255, 0.        , 0.        , 0.        , 0.        ,\n",
      "        0.03921569, 0.0627451 , 0.04313725, 0.01568627, 0.        ,\n",
      "        0.        , 0.        , 0.        , 0.00392157, 0.04313725,\n",
      "        0.00392157, 0.        , 0.        , 0.        , 0.        ,\n",
      "        0.00392157, 0.04705882, 0.01176471, 0.        , 0.        ,\n",
      "        0.        , 0.        , 0.        , 0.00784314, 0.0627451 ,\n",
      "        0.05490196, 0.05098039, 0.03137255, 0.00392157, 0.        ,\n",
      "        0.        , 0.01176471, 0.0627451 , 0.0627451 , 0.05098039,\n",
      "        0.0627451 , 0.03137255, 0.        , 0.        , 0.        ,\n",
      "        0.04705882, 0.0627451 , 0.02745098, 0.05882353, 0.04705882,\n",
      "        0.        , 0.        , 0.        , 0.00392157, 0.05098039,\n",
      "        0.0627451 , 0.0627451 , 0.03137255, 0.        ],\n",
      "       [0.        , 0.00784314, 0.05490196, 0.0627451 , 0.0627451 ,\n",
      "        0.02745098, 0.        , 0.        , 0.        , 0.02352941,\n",
      "        0.05882353, 0.01960784, 0.02352941, 0.05098039, 0.        ,\n",
      "        0.        , 0.        , 0.01568627, 0.05882353, 0.        ,\n",
      "        0.03529412, 0.0627451 , 0.02352941, 0.        , 0.        ,\n",
      "        0.00784314, 0.05098039, 0.0627451 , 0.0627451 , 0.05882353,\n",
      "        0.03529412, 0.        , 0.        , 0.        , 0.00392157,\n",
      "        0.01568627, 0.00784314, 0.05882353, 0.03137255, 0.        ,\n",
      "        0.        , 0.        , 0.        , 0.        , 0.00392157,\n",
      "        0.0627451 , 0.02352941, 0.        , 0.        , 0.        ,\n",
      "        0.        , 0.00392157, 0.04705882, 0.05882353, 0.00784314,\n",
      "        0.        , 0.        , 0.00392157, 0.05490196, 0.0627451 ,\n",
      "        0.0627451 , 0.02352941, 0.        , 0.        ],\n",
      "       [0.        , 0.        , 0.02745098, 0.05490196, 0.0627451 ,\n",
      "        0.05098039, 0.00392157, 0.        , 0.        , 0.03529412,\n",
      "        0.05882353, 0.03137255, 0.03921569, 0.0627451 , 0.02745098,\n",
      "        0.        , 0.        , 0.01960784, 0.00392157, 0.        ,\n",
      "        0.05490196, 0.05490196, 0.00392157, 0.        , 0.        ,\n",
      "        0.        , 0.        , 0.01568627, 0.0627451 , 0.04705882,\n",
      "        0.        , 0.        , 0.        , 0.        , 0.        ,\n",
      "        0.00784314, 0.0627451 , 0.05098039, 0.        , 0.        ,\n",
      "        0.        , 0.        , 0.        , 0.        , 0.02352941,\n",
      "        0.0627451 , 0.02745098, 0.        , 0.        , 0.        ,\n",
      "        0.03529412, 0.02745098, 0.02352941, 0.0627451 , 0.03529412,\n",
      "        0.        , 0.        , 0.        , 0.01960784, 0.05882353,\n",
      "        0.0627451 , 0.04313725, 0.01176471, 0.        ],\n",
      "       [0.        , 0.00392157, 0.04705882, 0.05882353, 0.03921569,\n",
      "        0.00784314, 0.        , 0.        , 0.        , 0.01568627,\n",
      "        0.05490196, 0.00392157, 0.02352941, 0.04705882, 0.00784314,\n",
      "        0.        , 0.        , 0.02745098, 0.05882353, 0.        ,\n",
      "        0.00392157, 0.05490196, 0.01568627, 0.        , 0.        ,\n",
      "        0.01176471, 0.05882353, 0.04705882, 0.05882353, 0.03921569,\n",
      "        0.        , 0.        , 0.        , 0.        , 0.01176471,\n",
      "        0.05882353, 0.00392157, 0.        , 0.        , 0.        ,\n",
      "        0.        , 0.        , 0.        , 0.01176471, 0.05098039,\n",
      "        0.00392157, 0.        , 0.        , 0.        , 0.        ,\n",
      "        0.        , 0.        , 0.03921569, 0.02352941, 0.        ,\n",
      "        0.        , 0.        , 0.        , 0.04313725, 0.04705882,\n",
      "        0.05098039, 0.01568627, 0.        , 0.        ],\n",
      "       [0.        , 0.        , 0.02745098, 0.0627451 , 0.05098039,\n",
      "        0.01568627, 0.        , 0.        , 0.        , 0.        ,\n",
      "        0.02745098, 0.0627451 , 0.0627451 , 0.03529412, 0.        ,\n",
      "        0.        , 0.        , 0.        , 0.00392157, 0.0627451 ,\n",
      "        0.0627451 , 0.03529412, 0.        , 0.        , 0.        ,\n",
      "        0.        , 0.01176471, 0.0627451 , 0.0627451 , 0.03529412,\n",
      "        0.        , 0.        , 0.        , 0.        , 0.03137255,\n",
      "        0.0627451 , 0.0627451 , 0.03137255, 0.        , 0.        ,\n",
      "        0.        , 0.        , 0.03921569, 0.0627451 , 0.0627451 ,\n",
      "        0.01568627, 0.        , 0.        , 0.        , 0.        ,\n",
      "        0.03529412, 0.0627451 , 0.05490196, 0.00392157, 0.        ,\n",
      "        0.        , 0.        , 0.        , 0.01568627, 0.04705882,\n",
      "        0.05490196, 0.03137255, 0.        , 0.        ],\n",
      "       [0.        , 0.        , 0.00392157, 0.05490196, 0.02352941,\n",
      "        0.        , 0.        , 0.        , 0.        , 0.        ,\n",
      "        0.02745098, 0.05882353, 0.00392157, 0.        , 0.        ,\n",
      "        0.        , 0.        , 0.        , 0.05098039, 0.02745098,\n",
      "        0.        , 0.        , 0.        , 0.        , 0.        ,\n",
      "        0.        , 0.05098039, 0.01960784, 0.        , 0.        ,\n",
      "        0.        , 0.        , 0.        , 0.        , 0.05490196,\n",
      "        0.02745098, 0.01960784, 0.01568627, 0.00392157, 0.        ,\n",
      "        0.        , 0.        , 0.03921569, 0.0627451 , 0.05098039,\n",
      "        0.05490196, 0.05490196, 0.        , 0.        , 0.        ,\n",
      "        0.03529412, 0.05490196, 0.00392157, 0.01568627, 0.0627451 ,\n",
      "        0.01176471, 0.        , 0.        , 0.00392157, 0.04705882,\n",
      "        0.05098039, 0.0627451 , 0.03529412, 0.00392157],\n",
      "       [0.        , 0.        , 0.        , 0.03137255, 0.05490196,\n",
      "        0.        , 0.        , 0.        , 0.        , 0.        ,\n",
      "        0.00784314, 0.0627451 , 0.03921569, 0.        , 0.        ,\n",
      "        0.        , 0.        , 0.        , 0.04705882, 0.0627451 ,\n",
      "        0.00392157, 0.01176471, 0.01960784, 0.        , 0.        ,\n",
      "        0.01960784, 0.0627451 , 0.02352941, 0.00784314, 0.0627451 ,\n",
      "        0.03529412, 0.        , 0.        , 0.04313725, 0.0627451 ,\n",
      "        0.        , 0.03137255, 0.0627451 , 0.02745098, 0.        ,\n",
      "        0.        , 0.03921569, 0.0627451 , 0.0627451 , 0.0627451 ,\n",
      "        0.04313725, 0.00392157, 0.        , 0.        , 0.00392157,\n",
      "        0.02745098, 0.03529412, 0.0627451 , 0.01568627, 0.        ,\n",
      "        0.        , 0.        , 0.        , 0.        , 0.03921569,\n",
      "        0.04313725, 0.        , 0.        , 0.        ]])>, <tf.Tensor: shape=(8,), dtype=int32, numpy=array([0, 6, 9, 3, 9, 1, 6, 4])>)\n",
      "test batch: (<tf.Tensor: shape=(8, 64), dtype=float64, numpy=\n",
      "array([[0.        , 0.        , 0.02745098, 0.05490196, 0.03137255,\n",
      "        0.01568627, 0.        , 0.        , 0.        , 0.        ,\n",
      "        0.0627451 , 0.03137255, 0.05882353, 0.05490196, 0.00392157,\n",
      "        0.        , 0.        , 0.01568627, 0.0627451 , 0.01568627,\n",
      "        0.        , 0.03137255, 0.01568627, 0.        , 0.        ,\n",
      "        0.03137255, 0.05490196, 0.        , 0.        , 0.01568627,\n",
      "        0.01568627, 0.        , 0.        , 0.03137255, 0.0627451 ,\n",
      "        0.        , 0.        , 0.01568627, 0.01960784, 0.        ,\n",
      "        0.        , 0.01176471, 0.0627451 , 0.00392157, 0.        ,\n",
      "        0.04313725, 0.01568627, 0.        , 0.        , 0.        ,\n",
      "        0.05882353, 0.0627451 , 0.0627451 , 0.04705882, 0.        ,\n",
      "        0.        , 0.        , 0.        , 0.02352941, 0.05098039,\n",
      "        0.02745098, 0.        , 0.        , 0.        ],\n",
      "       [0.        , 0.00784314, 0.02352941, 0.03921569, 0.04705882,\n",
      "        0.00392157, 0.        , 0.        , 0.        , 0.05490196,\n",
      "        0.05098039, 0.03921569, 0.01960784, 0.00392157, 0.        ,\n",
      "        0.        , 0.        , 0.03921569, 0.02352941, 0.        ,\n",
      "        0.        , 0.        , 0.        , 0.        , 0.        ,\n",
      "        0.03921569, 0.05098039, 0.04705882, 0.04705882, 0.01960784,\n",
      "        0.        , 0.        , 0.        , 0.00784314, 0.03137255,\n",
      "        0.01960784, 0.02745098, 0.05490196, 0.03137255, 0.        ,\n",
      "        0.        , 0.        , 0.        , 0.        , 0.        ,\n",
      "        0.01960784, 0.04705882, 0.        , 0.        , 0.        ,\n",
      "        0.00784314, 0.00784314, 0.00392157, 0.03921569, 0.03921569,\n",
      "        0.        , 0.        , 0.        , 0.01960784, 0.0627451 ,\n",
      "        0.0627451 , 0.05490196, 0.00392157, 0.        ],\n",
      "       [0.        , 0.01960784, 0.0627451 , 0.05882353, 0.01176471,\n",
      "        0.        , 0.        , 0.        , 0.        , 0.04313725,\n",
      "        0.05490196, 0.04313725, 0.04313725, 0.        , 0.        ,\n",
      "        0.        , 0.        , 0.03137255, 0.04313725, 0.01568627,\n",
      "        0.0627451 , 0.        , 0.        , 0.        , 0.        ,\n",
      "        0.        , 0.        , 0.01568627, 0.05098039, 0.        ,\n",
      "        0.        , 0.        , 0.        , 0.        , 0.        ,\n",
      "        0.03137255, 0.04705882, 0.        , 0.        , 0.        ,\n",
      "        0.        , 0.        , 0.        , 0.05098039, 0.03529412,\n",
      "        0.01960784, 0.00392157, 0.        , 0.        , 0.00392157,\n",
      "        0.04313725, 0.0627451 , 0.0627451 , 0.0627451 , 0.03921569,\n",
      "        0.        , 0.        , 0.01960784, 0.0627451 , 0.05490196,\n",
      "        0.03137255, 0.02352941, 0.00392157, 0.        ],\n",
      "       [0.        , 0.        , 0.        , 0.        , 0.03137255,\n",
      "        0.03921569, 0.        , 0.        , 0.        , 0.        ,\n",
      "        0.        , 0.        , 0.05098039, 0.02352941, 0.        ,\n",
      "        0.        , 0.        , 0.        , 0.        , 0.01960784,\n",
      "        0.05098039, 0.        , 0.        , 0.        , 0.        ,\n",
      "        0.        , 0.00784314, 0.05490196, 0.01176471, 0.03921569,\n",
      "        0.03921569, 0.        , 0.        , 0.00392157, 0.05490196,\n",
      "        0.05882353, 0.03921569, 0.0627451 , 0.02352941, 0.        ,\n",
      "        0.        , 0.05490196, 0.05490196, 0.04705882, 0.05882353,\n",
      "        0.0627451 , 0.00784314, 0.        , 0.        , 0.01176471,\n",
      "        0.        , 0.        , 0.03137255, 0.05490196, 0.        ,\n",
      "        0.        , 0.        , 0.        , 0.        , 0.        ,\n",
      "        0.01960784, 0.03921569, 0.        , 0.        ],\n",
      "       [0.        , 0.00392157, 0.05882353, 0.05490196, 0.00784314,\n",
      "        0.        , 0.        , 0.        , 0.        , 0.02352941,\n",
      "        0.05490196, 0.        , 0.        , 0.01176471, 0.00784314,\n",
      "        0.        , 0.        , 0.00784314, 0.0627451 , 0.01176471,\n",
      "        0.00784314, 0.05098039, 0.01176471, 0.        , 0.        ,\n",
      "        0.        , 0.04313725, 0.05490196, 0.05882353, 0.03529412,\n",
      "        0.        , 0.        , 0.        , 0.        , 0.02745098,\n",
      "        0.0627451 , 0.04313725, 0.        , 0.        , 0.        ,\n",
      "        0.        , 0.        , 0.05882353, 0.05098039, 0.05490196,\n",
      "        0.        , 0.        , 0.        , 0.        , 0.00784314,\n",
      "        0.05882353, 0.01568627, 0.0627451 , 0.01176471, 0.        ,\n",
      "        0.        , 0.        , 0.00392157, 0.05882353, 0.0627451 ,\n",
      "        0.04705882, 0.00392157, 0.        , 0.        ],\n",
      "       [0.        , 0.        , 0.03921569, 0.05098039, 0.01960784,\n",
      "        0.        , 0.        , 0.        , 0.        , 0.01176471,\n",
      "        0.0627451 , 0.0627451 , 0.0627451 , 0.03921569, 0.        ,\n",
      "        0.        , 0.        , 0.03137255, 0.0627451 , 0.00392157,\n",
      "        0.02352941, 0.0627451 , 0.01960784, 0.        , 0.        ,\n",
      "        0.03137255, 0.04313725, 0.        , 0.        , 0.03529412,\n",
      "        0.04705882, 0.        , 0.        , 0.03921569, 0.03137255,\n",
      "        0.        , 0.        , 0.03137255, 0.04705882, 0.        ,\n",
      "        0.        , 0.03137255, 0.04313725, 0.        , 0.        ,\n",
      "        0.03137255, 0.04313725, 0.        , 0.        , 0.01176471,\n",
      "        0.0627451 , 0.03921569, 0.03137255, 0.05882353, 0.03529412,\n",
      "        0.        , 0.        , 0.        , 0.03529412, 0.0627451 ,\n",
      "        0.0627451 , 0.03921569, 0.00392157, 0.        ],\n",
      "       [0.        , 0.        , 0.        , 0.03137255, 0.04705882,\n",
      "        0.03529412, 0.00784314, 0.        , 0.        , 0.        ,\n",
      "        0.01960784, 0.0627451 , 0.0627451 , 0.0627451 , 0.01568627,\n",
      "        0.        , 0.        , 0.        , 0.03529412, 0.0627451 ,\n",
      "        0.0627451 , 0.04313725, 0.        , 0.        , 0.        ,\n",
      "        0.01176471, 0.0627451 , 0.0627451 , 0.0627451 , 0.01960784,\n",
      "        0.        , 0.        , 0.        , 0.01568627, 0.0627451 ,\n",
      "        0.0627451 , 0.0627451 , 0.01568627, 0.        , 0.        ,\n",
      "        0.        , 0.00392157, 0.05882353, 0.0627451 , 0.0627451 ,\n",
      "        0.01176471, 0.        , 0.        , 0.        , 0.        ,\n",
      "        0.03137255, 0.0627451 , 0.0627451 , 0.03529412, 0.        ,\n",
      "        0.        , 0.        , 0.        , 0.        , 0.03529412,\n",
      "        0.04705882, 0.02352941, 0.        , 0.        ],\n",
      "       [0.        , 0.        , 0.00392157, 0.05882353, 0.05098039,\n",
      "        0.00784314, 0.        , 0.        , 0.        , 0.        ,\n",
      "        0.        , 0.03137255, 0.05490196, 0.03921569, 0.        ,\n",
      "        0.        , 0.        , 0.        , 0.        , 0.        ,\n",
      "        0.01960784, 0.05882353, 0.00392157, 0.        , 0.        ,\n",
      "        0.        , 0.        , 0.        , 0.00784314, 0.0627451 ,\n",
      "        0.01960784, 0.        , 0.        , 0.        , 0.        ,\n",
      "        0.        , 0.03137255, 0.05882353, 0.00392157, 0.        ,\n",
      "        0.        , 0.        , 0.01176471, 0.03921569, 0.05098039,\n",
      "        0.05098039, 0.        , 0.        , 0.        , 0.        ,\n",
      "        0.03137255, 0.0627451 , 0.0627451 , 0.04705882, 0.01568627,\n",
      "        0.        , 0.        , 0.        , 0.00392157, 0.05098039,\n",
      "        0.05882353, 0.05490196, 0.0627451 , 0.02745098]])>, <tf.Tensor: shape=(8,), dtype=int32, numpy=array([0, 5, 2, 4, 8, 0, 1, 2])>)\n"
     ]
    }
   ],
   "source": [
    "train_batch = train.shuffle(n_train).batch(8)\n",
    "val_batch = val.shuffle(n_val).batch(8)\n",
    "test_batch = test.shuffle(n_test).batch(8)\n",
    "\n",
    "print(\"train batch:\", next(iter(train_batch)))\n",
    "print(\"val batch:\", next(iter(val_batch)))\n",
    "print(\"test batch:\", next(iter(test_batch)))"
   ]
  },
  {
   "cell_type": "markdown",
   "metadata": {
    "id": "6fUS1ootddPP"
   },
   "source": [
    "Congratulations, you know two different ways of forming datasets that are fit for training deep learning models with tensorflow! This skill will come in very handy as we will try to focus more on building models from now on, and put less focus on preprocessing.\n",
    "Until then, happy learning!"
   ]
  }
 ],
 "metadata": {
  "colab": {
   "authorship_tag": "ABX9TyM8wLXvMgmJDXBv/ziGPMPW",
   "collapsed_sections": [],
   "name": "02-Manipulate_data_with_tensorflow",
   "provenance": []
  },
  "kernelspec": {
   "display_name": "Python 3",
   "language": "python",
   "name": "python3"
  },
  "language_info": {
   "codemirror_mode": {
    "name": "ipython",
    "version": 3
   },
   "file_extension": ".py",
   "mimetype": "text/x-python",
   "name": "python",
   "nbconvert_exporter": "python",
   "pygments_lexer": "ipython3",
   "version": "3.10.13"
  }
 },
 "nbformat": 4,
 "nbformat_minor": 1
}
