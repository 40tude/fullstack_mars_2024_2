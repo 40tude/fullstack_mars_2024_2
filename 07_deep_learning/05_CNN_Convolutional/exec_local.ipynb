{
 "cells": [
  {
   "cell_type": "code",
   "execution_count": 1,
   "metadata": {},
   "outputs": [
    {
     "name": "stdout",
     "output_type": "stream",
     "text": [
      "Downloading data from https://full-stack-assets.s3.eu-west-3.amazonaws.com/datasets/M08/cifar-10/train.zip\n",
      "119728390/119728390 [==============================] - 21s 0us/step\n"
     ]
    },
    {
     "data": {
      "text/plain": [
       "'C:/Users/phili/OneDrive/Documents/Programmation/Formations_JEDHA/fullstack_mars_2024/07_deep_learning/05_CNN/content/cifar10.zip'"
      ]
     },
     "execution_count": 1,
     "metadata": {},
     "output_type": "execute_result"
    }
   ],
   "source": [
    "# import tensorflow as tf\n",
    "\n",
    "# tf.keras.utils.get_file(\"C:/Users/phili/OneDrive/Documents/Programmation/Formations_JEDHA/fullstack_mars_2024/07_deep_learning/05_CNN/content/cifar10.zip\",\n",
    "#                         origin=\"https://full-stack-assets.s3.eu-west-3.amazonaws.com/datasets/M08/cifar-10/train.zip\",\n",
    "#                         extract=True,\n",
    "#                         cache_subdir=\"C:/Users/phili/OneDrive/Documents/Programmation/Formations_JEDHA/fullstack_mars_2024/07_deep_learning/05_CNN/content\")"
   ]
  },
  {
   "cell_type": "code",
   "execution_count": 5,
   "metadata": {},
   "outputs": [
    {
     "name": "stdout",
     "output_type": "stream",
     "text": [
      "Downloading data from https://full-stack-assets.s3.eu-west-3.amazonaws.com/datasets/M08/cifar-10/train.zip\n",
      "119728390/119728390 [==============================] - 21s 0us/step\n"
     ]
    },
    {
     "data": {
      "text/plain": [
       "'c:\\\\Users\\\\phili\\\\OneDrive\\\\Documents\\\\Programmation\\\\Formations_JEDHA\\\\fullstack_mars_2024\\\\07_deep_learning\\\\05_CNN/content/cifar10.zip'"
      ]
     },
     "execution_count": 5,
     "metadata": {},
     "output_type": "execute_result"
    }
   ],
   "source": [
    "import tensorflow as tf\n",
    "\n",
    "\n",
    "# from pathlib import Path\n",
    "# current_dir = Path(__file__).parent\n",
    "\n",
    "from pathlib import Path\n",
    "current_dir = Path.cwd()\n",
    "\n",
    "\n",
    "# import os\n",
    "# current_dir = os.getcwd()\n",
    " \n",
    "\n",
    "tf.keras.utils.get_file(current_dir/\"content/cifar10.zip\",\n",
    "                        origin=\"https://full-stack-assets.s3.eu-west-3.amazonaws.com/datasets/M08/cifar-10/train.zip\",\n",
    "                        extract=True,\n",
    "                        cache_subdir=current_dir/\"content\")"
   ]
  },
  {
   "cell_type": "code",
   "execution_count": 4,
   "metadata": {},
   "outputs": [
    {
     "data": {
      "text/plain": [
       "'c:\\\\Users\\\\phili\\\\OneDrive\\\\Documents\\\\Programmation\\\\Formations_JEDHA\\\\fullstack_mars_2024\\\\07_deep_learning\\\\05_CNN'"
      ]
     },
     "execution_count": 4,
     "metadata": {},
     "output_type": "execute_result"
    }
   ],
   "source": []
  }
 ],
 "metadata": {
  "kernelspec": {
   "display_name": "jedha_tf",
   "language": "python",
   "name": "python3"
  },
  "language_info": {
   "codemirror_mode": {
    "name": "ipython",
    "version": 3
   },
   "file_extension": ".py",
   "mimetype": "text/x-python",
   "name": "python",
   "nbconvert_exporter": "python",
   "pygments_lexer": "ipython3",
   "version": "3.10.13"
  }
 },
 "nbformat": 4,
 "nbformat_minor": 2
}
