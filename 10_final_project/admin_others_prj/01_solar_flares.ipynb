{
 "cells": [
  {
   "cell_type": "markdown",
   "metadata": {},
   "source": [
    "# Prédiction des Éruptions Solaires ----------"
   ]
  },
  {
   "cell_type": "markdown",
   "metadata": {},
   "source": [
    "**Description :**\n",
    "* Modèle de machine learning pour prédire les éruptions solaires en utilisant des données solaires historiques. \n",
    "* Affectent les communications radio et les réseaux électriques sur Terre. \n",
    "    * Parler du blackout de je sais plus quand\n",
    "    * Y eu un truc récemment\n",
    "* Prédire ces éruptions peut aider à prendre des mesures préventives pour atténuer leurs impacts.\n",
    "\n",
    "**Objectifs :**\n",
    "\n",
    "Mettre en place l'architecture et disposer d'un premier modèle\n",
    "\n",
    "1. MLFlow, S3 etc.\n",
    "2. Application \n",
    "3. Pour que même si le 1er modèle et les premières prédiction ne sont pas au top, on puisse facilement\n",
    "    * d'enrichir le dataset\n",
    "    * faire évoluer le modèle (suivre les performances...)\n",
    "    * ...\n",
    "\n",
    "En s'appuyant sur l'architecture en place.\n",
    "\n",
    "**Technologies et Langages :**\n",
    "- **Python** : Pour l'extraction des données et le développement des modèles de machine learning.\n",
    "- **Pandas/NumPy** : Pour la manipulation et l'analyse des données.\n",
    "- **Scikit-learn/TensorFlow** : Pour la création des modèles de prédiction.\n",
    "- **NASA Solar Dynamics Observatory (SDO) API** ou **GOES Satellite Data** : Pour collecter des données solaires.\n",
    "- **MLFlow, AWS...** : Pour l'architecture\n",
    "\n",
    "**Étapes :**\n",
    "\n",
    "3 grandes parties:\n",
    "\n",
    "1. Architecture\n",
    "1. Modèle\n",
    "1. Application \n",
    "\n",
    "Détails des étapes : \n",
    "1. Concevoir et mettre en place l'architecture\n",
    "1. Collecter des données solaires historiques incluant des événements d'éruption solaire.\n",
    "1. Prétraiter les données et extraire des caractéristiques pertinentes (activité magnétique, rayonnement, etc.).\n",
    "1. Construire et entraîner un modèle de machine learning pour prédire les éruptions solaires.\n",
    "1. Évaluer la performance du modèle et ajuster les hyperparamètres.\n",
    "1. Déployer une application pour visualiser les prédictions.\n",
    "\n"
   ]
  },
  {
   "cell_type": "markdown",
   "metadata": {},
   "source": [
    "## **Sources de Données :**\n",
    "- **NASA Solar Dynamics Observatory (SDO) API**\n",
    "- **GOES (Geostationary Operational Environmental Satellite) Satellite Data**\n",
    "- **Types de Données :**\n",
    "    - Images du Soleil en différentes longueurs d'onde.\n",
    "    - Données sur l'activité magnétique solaire (indices de taches solaires, champs magnétiques).\n",
    "    - Historique des éruptions solaires (classement des éruptions en fonction de leur intensité : classe A, B, C, M, X).\n"
   ]
  },
  {
   "cell_type": "markdown",
   "metadata": {},
   "source": [
    "#### Étape 1 : Collecte de Données avec l'API SDO\n",
    "* collecter des données solaires historiques à partir des API SDO et GOES\n",
    "* collecter des données sur les taches solaires\n",
    "* les combiner en un seul DataFrame pour une utilisation ultérieure dans la phase de prétraitement et de modélisation\n",
    "\n",
    "Nous concentrer sur l'analyse des données et le développement du modèle de machine learning."
   ]
  },
  {
   "cell_type": "code",
   "execution_count": null,
   "metadata": {},
   "outputs": [],
   "source": [
    "# https://sdo.gsfc.nasa.gov/assets/img/browse/2024/05/01/\n",
    "# https://sdo.gsfc.nasa.gov/data/bestpractice.php\n",
    "\n",
    "import requests\n",
    "import pandas as pd\n",
    "import datetime as dt\n",
    "\n",
    "# Fonction pour collecter les données d'images du SDO\n",
    "def fetch_sdo_data(start_date, end_date, instrument='HMI', wavelength='6173'):\n",
    "    base_url = 'https://sdo.gsfc.nasa.gov/assets/img/browse/{}/{}/{}/{}.png'\n",
    "    date_range = pd.date_range(start=start_date, end=end_date, freq='D')\n",
    "    \n",
    "    images = []\n",
    "    for date in date_range:\n",
    "        date_str = date.strftime('%Y/%m/%d')\n",
    "        image_url = base_url.format(instrument, wavelength, date_str, date_str)\n",
    "        images.append(image_url)\n",
    "    \n",
    "    return images\n",
    "\n",
    "# Exemple d'utilisation\n",
    "start_date = '2023-01-01'\n",
    "end_date = '2023-01-10'\n",
    "sdo_images = fetch_sdo_data(start_date, end_date)\n",
    "\n",
    "print(\"URLs des images SDO :\", sdo_images)\n",
    "\n"
   ]
  },
  {
   "cell_type": "markdown",
   "metadata": {},
   "source": [
    "#### Étape 2 : Collecte de Données avec l'API GOES"
   ]
  },
  {
   "cell_type": "code",
   "execution_count": null,
   "metadata": {},
   "outputs": [],
   "source": [
    "import requests\n",
    "\n",
    "# Fonction pour collecter les données des éruptions solaires du GOES\n",
    "def fetch_goes_data(start_date, end_date):\n",
    "    base_url = 'https://services.swpc.noaa.gov/json/goes/primary/xrays-1-day.json'\n",
    "    response = requests.get(base_url)\n",
    "    \n",
    "    if response.status_code == 200:\n",
    "        data = response.json()\n",
    "        filtered_data = []\n",
    "        for entry in data:\n",
    "            timestamp = dt.datetime.strptime(entry['time_tag'], '%Y-%m-%dT%H:%M:%SZ')\n",
    "            if start_date <= timestamp <= end_date:\n",
    "                filtered_data.append(entry)\n",
    "        return filtered_data\n",
    "    else:\n",
    "        print(\"Erreur lors de la récupération des données GOES\")\n",
    "        return []\n",
    "\n",
    "# Exemple d'utilisation\n",
    "start_date = dt.datetime(2023, 1, 1)\n",
    "end_date = dt.datetime(2023, 1, 10)\n",
    "goes_data = fetch_goes_data(start_date, end_date)\n",
    "\n",
    "print(\"Données GOES :\", goes_data)\n"
   ]
  },
  {
   "cell_type": "markdown",
   "metadata": {},
   "source": [
    "#### Étape 3 : Collecte de Données Historiques sur les Taches Solaires\n"
   ]
  },
  {
   "cell_type": "code",
   "execution_count": 2,
   "metadata": {},
   "outputs": [
    {
     "name": "stdout",
     "output_type": "stream",
     "text": [
      "Erreur lors de la récupération des données de taches solaires\n",
      "Données de taches solaires : []\n"
     ]
    }
   ],
   "source": [
    "import requests\n",
    "import pandas as pd\n",
    "import datetime as dt\n",
    "\n",
    "def fetch_sunspot_data(start_date, end_date):\n",
    "    base_url = 'https://services.swpc.noaa.gov/json/sunspot/observed-sunspot-numbers.json'\n",
    "    response = requests.get(base_url)\n",
    "    \n",
    "    if response.status_code == 200:\n",
    "        data = response.json()\n",
    "        sunspot_data = []\n",
    "        for entry in data:\n",
    "            date = dt.datetime.strptime(entry['time_tag'], '%Y-%m-%d')\n",
    "            if start_date <= date <= end_date:\n",
    "                sunspot_data.append(entry)\n",
    "        return sunspot_data\n",
    "    else:\n",
    "        print(\"Erreur lors de la récupération des données de taches solaires\")\n",
    "        return []\n",
    "\n",
    "start_date = dt.datetime(2023, 1, 1)\n",
    "end_date = dt.datetime(2023, 1, 10)\n",
    "sunspot_data = fetch_sunspot_data(start_date, end_date)\n",
    "\n",
    "print(\"Données de taches solaires :\", sunspot_data)\n"
   ]
  },
  {
   "cell_type": "markdown",
   "metadata": {},
   "source": [
    "### Etape 4 : Combinaison et Stockage\n",
    "Combiner et stocker les données collectées dans un format structuré tel qu'un DataFrame Pandas pour une utilisation ultérieure dans le prétraitement et la modélisation.\n"
   ]
  },
  {
   "cell_type": "code",
   "execution_count": null,
   "metadata": {},
   "outputs": [],
   "source": [
    "def combine_data(sdo_images, goes_data, sunspot_data):\n",
    "    # Créer des DataFrames à partir des listes de données\n",
    "    goes_df = pd.DataFrame(goes_data)\n",
    "    sunspot_df = pd.DataFrame(sunspot_data)\n",
    "    \n",
    "    # Combine les données basées sur les dates\n",
    "    combined_data = pd.merge(goes_df, sunspot_df, left_on='time_tag', right_on='time_tag', how='outer')\n",
    "    \n",
    "    # Ajouter les URLs des images SDO\n",
    "    combined_data['sdo_image_url'] = pd.Series(sdo_images)\n",
    "    \n",
    "    return combined_data\n",
    "\n",
    "# Exemple de combinaison des données\n",
    "combined_data = combine_data(sdo_images, goes_data, sunspot_data)\n",
    "print(\"Données combinées :\", combined_data)\n"
   ]
  },
  {
   "cell_type": "markdown",
   "metadata": {},
   "source": [
    "\n",
    "### 2. Prétraitement des Données\n",
    "\n",
    "**Étapes :**\n",
    "1. **Nettoyage des Données :** Supprimer ou imputer les valeurs manquantes, filtrer les données bruyantes.\n",
    "2. **Transformation des Données :** Normaliser les données, transformer les images pour qu'elles aient une taille uniforme.\n",
    "3. **Annotation des Données :** Associer les éruptions solaires historiques avec les caractéristiques solaires mesurées avant l'éruption.\n",
    "\n",
    "### 3. Extraction des Caractéristiques\n",
    "\n",
    "**Caractéristiques Possibles :**\n",
    "- **Indices de taches solaires** : Nombre de taches solaires et leur distribution.\n",
    "- **Flux de rayons X** : Mesuré par les satellites GOES.\n",
    "- **Images de l'atmosphère solaire** : Utilisation de techniques de traitement d'image pour extraire des caractéristiques visuelles.\n",
    "- **Données magnétiques** : Champs magnétiques mesurés à la surface du Soleil.\n",
    "\n",
    "### 4. Construction du Modèle\n",
    "\n",
    "**Choix des Modèles :**\n",
    "- **Modèles de Régression Logistique** : Pour une approche de base.\n",
    "- **Random Forests/Gradient Boosting** : Pour la classification et la détection de patterns complexes.\n",
    "- **Réseaux de Neurones Convolutionnels (CNN)** : Pour l'analyse des images solaires.\n",
    "- **LSTM (Long Short-Term Memory)** : Pour les données séquentielles et temporelles.\n",
    "\n",
    "**Entraînement et Validation :**\n",
    "1. **Séparation des Données** : Diviser les données en ensembles d'entraînement, de validation et de test.\n",
    "2. **Entraînement des Modèles** : Entraîner différents modèles et comparer leurs performances.\n",
    "3. **Validation Croisée** : Utiliser la validation croisée pour évaluer la robustesse des modèles.\n",
    "\n",
    "### 5. Évaluation du Modèle\n",
    "\n",
    "**Métriques de Performance :**\n",
    "- **Exactitude (Accuracy)**\n",
    "- **Précision (Precision)**\n",
    "- **Rappel (Recall)**\n",
    "- **F1-Score**\n",
    "\n",
    "**Analyse des Résultats :**\n",
    "- Comparer les performances des différents modèles.\n",
    "- Analyser les erreurs de prédiction et identifier les raisons possibles.\n",
    "\n",
    "### 6. Déploiement et Visualisation\n",
    "\n",
    "**Création d'une Application Web :**\n",
    "- **Flask/Django** : Pour créer une API backend.\n",
    "- **Dash/Streamlit** : Pour construire une interface utilisateur permettant de visualiser les prédictions en temps réel.\n",
    "\n",
    "**Fonctionnalités de l'Application :**\n",
    "- Affichage des prédictions d'éruptions solaires sur un calendrier.\n",
    "- Visualisation des caractéristiques solaires (indices de taches solaires, flux de rayons X).\n",
    "- Notifications pour les prévisions d'éruptions imminentes.\n",
    "\n",
    "### 7. Documentation et Rapport\n",
    "\n",
    "**Documentation du Code :**\n",
    "- Explication du processus de collecte de données, de prétraitement, d'extraction de caractéristiques, de modélisation et d'évaluation.\n",
    "\n",
    "**Rapport de Projet :**\n",
    "- Présentation des objectifs, de la méthodologie, des résultats et des conclusions.\n",
    "- Recommandations pour les améliorations futures et les applications pratiques du modèle.\n",
    "\n",
    "En suivant ce plan, vous pourrer créer un modèle de prédiction des éruptions solaires qui pourra potentiellement être utilisé pour prévenir les impacts des éruptions solaires sur les technologies terrestres."
   ]
  }
 ],
 "metadata": {
  "kernelspec": {
   "display_name": "jedha",
   "language": "python",
   "name": "python3"
  },
  "language_info": {
   "codemirror_mode": {
    "name": "ipython",
    "version": 3
   },
   "file_extension": ".py",
   "mimetype": "text/x-python",
   "name": "python",
   "nbconvert_exporter": "python",
   "pygments_lexer": "ipython3",
   "version": "3.11.7"
  }
 },
 "nbformat": 4,
 "nbformat_minor": 2
}
