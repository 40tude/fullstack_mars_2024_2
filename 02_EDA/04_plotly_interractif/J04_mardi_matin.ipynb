{
 "cells": [
  {
   "cell_type": "markdown",
   "metadata": {},
   "source": [
    "#  Mardi 26 Mars"
   ]
  },
  {
   "cell_type": "markdown",
   "metadata": {},
   "source": [
    "* Interactive Graphs\n",
    "* https://app.jedha.co/course/interactive-graphs-ft/interactive-graphs-replay-fr-ft"
   ]
  },
  {
   "cell_type": "code",
   "execution_count": 80,
   "metadata": {},
   "outputs": [],
   "source": [
    "# prelude\n",
    "\n",
    "import pandas as pd\n",
    "import plotly.express as px\n",
    "import plotly.graph_objects as go\n",
    "import plotly.io as pio\n",
    "\n",
    "# pio.renderers.default = \"svg\" # this line must be commented if working on colab"
   ]
  },
  {
   "cell_type": "code",
   "execution_count": 81,
   "metadata": {},
   "outputs": [
    {
     "data": {
      "text/html": [
       "<div>\n",
       "<style scoped>\n",
       "    .dataframe tbody tr th:only-of-type {\n",
       "        vertical-align: middle;\n",
       "    }\n",
       "\n",
       "    .dataframe tbody tr th {\n",
       "        vertical-align: top;\n",
       "    }\n",
       "\n",
       "    .dataframe thead th {\n",
       "        text-align: right;\n",
       "    }\n",
       "</style>\n",
       "<table border=\"1\" class=\"dataframe\">\n",
       "  <thead>\n",
       "    <tr style=\"text-align: right;\">\n",
       "      <th></th>\n",
       "      <th>sepal_length</th>\n",
       "      <th>sepal_width</th>\n",
       "      <th>petal_length</th>\n",
       "      <th>petal_width</th>\n",
       "      <th>species</th>\n",
       "      <th>species_id</th>\n",
       "    </tr>\n",
       "  </thead>\n",
       "  <tbody>\n",
       "    <tr>\n",
       "      <th>0</th>\n",
       "      <td>5.1</td>\n",
       "      <td>3.5</td>\n",
       "      <td>1.4</td>\n",
       "      <td>0.2</td>\n",
       "      <td>setosa</td>\n",
       "      <td>1</td>\n",
       "    </tr>\n",
       "    <tr>\n",
       "      <th>1</th>\n",
       "      <td>4.9</td>\n",
       "      <td>3.0</td>\n",
       "      <td>1.4</td>\n",
       "      <td>0.2</td>\n",
       "      <td>setosa</td>\n",
       "      <td>1</td>\n",
       "    </tr>\n",
       "    <tr>\n",
       "      <th>2</th>\n",
       "      <td>4.7</td>\n",
       "      <td>3.2</td>\n",
       "      <td>1.3</td>\n",
       "      <td>0.2</td>\n",
       "      <td>setosa</td>\n",
       "      <td>1</td>\n",
       "    </tr>\n",
       "    <tr>\n",
       "      <th>3</th>\n",
       "      <td>4.6</td>\n",
       "      <td>3.1</td>\n",
       "      <td>1.5</td>\n",
       "      <td>0.2</td>\n",
       "      <td>setosa</td>\n",
       "      <td>1</td>\n",
       "    </tr>\n",
       "    <tr>\n",
       "      <th>4</th>\n",
       "      <td>5.0</td>\n",
       "      <td>3.6</td>\n",
       "      <td>1.4</td>\n",
       "      <td>0.2</td>\n",
       "      <td>setosa</td>\n",
       "      <td>1</td>\n",
       "    </tr>\n",
       "  </tbody>\n",
       "</table>\n",
       "</div>"
      ],
      "text/plain": [
       "   sepal_length  sepal_width  petal_length  petal_width species  species_id\n",
       "0           5.1          3.5           1.4          0.2  setosa           1\n",
       "1           4.9          3.0           1.4          0.2  setosa           1\n",
       "2           4.7          3.2           1.3          0.2  setosa           1\n",
       "3           4.6          3.1           1.5          0.2  setosa           1\n",
       "4           5.0          3.6           1.4          0.2  setosa           1"
      ]
     },
     "execution_count": 81,
     "metadata": {},
     "output_type": "execute_result"
    }
   ],
   "source": [
    "df = px.data.iris()\n",
    "df.head()"
   ]
  },
  {
   "cell_type": "code",
   "execution_count": 82,
   "metadata": {},
   "outputs": [
    {
     "data": {
      "application/vnd.plotly.v1+json": {
       "config": {
        "plotlyServerURL": "https://plot.ly"
       },
       "data": [
        {
         "mode": "markers",
         "type": "scatter",
         "x": [
          3.5,
          3,
          3.2,
          3.1,
          3.6,
          3.9,
          3.4,
          3.4,
          2.9,
          3.1,
          3.7,
          3.4,
          3,
          3,
          4,
          4.4,
          3.9,
          3.5,
          3.8,
          3.8,
          3.4,
          3.7,
          3.6,
          3.3,
          3.4,
          3,
          3.4,
          3.5,
          3.4,
          3.2,
          3.1,
          3.4,
          4.1,
          4.2,
          3.1,
          3.2,
          3.5,
          3.1,
          3,
          3.4,
          3.5,
          2.3,
          3.2,
          3.5,
          3.8,
          3,
          3.8,
          3.2,
          3.7,
          3.3,
          3.2,
          3.2,
          3.1,
          2.3,
          2.8,
          2.8,
          3.3,
          2.4,
          2.9,
          2.7,
          2,
          3,
          2.2,
          2.9,
          2.9,
          3.1,
          3,
          2.7,
          2.2,
          2.5,
          3.2,
          2.8,
          2.5,
          2.8,
          2.9,
          3,
          2.8,
          3,
          2.9,
          2.6,
          2.4,
          2.4,
          2.7,
          2.7,
          3,
          3.4,
          3.1,
          2.3,
          3,
          2.5,
          2.6,
          3,
          2.6,
          2.3,
          2.7,
          3,
          2.9,
          2.9,
          2.5,
          2.8,
          3.3,
          2.7,
          3,
          2.9,
          3,
          3,
          2.5,
          2.9,
          2.5,
          3.6,
          3.2,
          2.7,
          3,
          2.5,
          2.8,
          3.2,
          3,
          3.8,
          2.6,
          2.2,
          3.2,
          2.8,
          2.8,
          2.7,
          3.3,
          3.2,
          2.8,
          3,
          2.8,
          3,
          2.8,
          3.8,
          2.8,
          2.8,
          2.6,
          3,
          3.4,
          3.1,
          3,
          3.1,
          3.1,
          3.1,
          2.7,
          3.2,
          3.3,
          3,
          2.5,
          3,
          3.4,
          3
         ],
         "y": [
          5.1,
          4.9,
          4.7,
          4.6,
          5,
          5.4,
          4.6,
          5,
          4.4,
          4.9,
          5.4,
          4.8,
          4.8,
          4.3,
          5.8,
          5.7,
          5.4,
          5.1,
          5.7,
          5.1,
          5.4,
          5.1,
          4.6,
          5.1,
          4.8,
          5,
          5,
          5.2,
          5.2,
          4.7,
          4.8,
          5.4,
          5.2,
          5.5,
          4.9,
          5,
          5.5,
          4.9,
          4.4,
          5.1,
          5,
          4.5,
          4.4,
          5,
          5.1,
          4.8,
          5.1,
          4.6,
          5.3,
          5,
          7,
          6.4,
          6.9,
          5.5,
          6.5,
          5.7,
          6.3,
          4.9,
          6.6,
          5.2,
          5,
          5.9,
          6,
          6.1,
          5.6,
          6.7,
          5.6,
          5.8,
          6.2,
          5.6,
          5.9,
          6.1,
          6.3,
          6.1,
          6.4,
          6.6,
          6.8,
          6.7,
          6,
          5.7,
          5.5,
          5.5,
          5.8,
          6,
          5.4,
          6,
          6.7,
          6.3,
          5.6,
          5.5,
          5.5,
          6.1,
          5.8,
          5,
          5.6,
          5.7,
          5.7,
          6.2,
          5.1,
          5.7,
          6.3,
          5.8,
          7.1,
          6.3,
          6.5,
          7.6,
          4.9,
          7.3,
          6.7,
          7.2,
          6.5,
          6.4,
          6.8,
          5.7,
          5.8,
          6.4,
          6.5,
          7.7,
          7.7,
          6,
          6.9,
          5.6,
          7.7,
          6.3,
          6.7,
          7.2,
          6.2,
          6.1,
          6.4,
          7.2,
          7.4,
          7.9,
          6.4,
          6.3,
          6.1,
          7.7,
          6.3,
          6.4,
          6,
          6.9,
          6.7,
          6.9,
          5.8,
          6.8,
          6.7,
          6.7,
          6.3,
          6.5,
          6.2,
          5.9
         ]
        }
       ],
       "layout": {
        "template": {
         "data": {
          "bar": [
           {
            "error_x": {
             "color": "#2a3f5f"
            },
            "error_y": {
             "color": "#2a3f5f"
            },
            "marker": {
             "line": {
              "color": "#E5ECF6",
              "width": 0.5
             },
             "pattern": {
              "fillmode": "overlay",
              "size": 10,
              "solidity": 0.2
             }
            },
            "type": "bar"
           }
          ],
          "barpolar": [
           {
            "marker": {
             "line": {
              "color": "#E5ECF6",
              "width": 0.5
             },
             "pattern": {
              "fillmode": "overlay",
              "size": 10,
              "solidity": 0.2
             }
            },
            "type": "barpolar"
           }
          ],
          "carpet": [
           {
            "aaxis": {
             "endlinecolor": "#2a3f5f",
             "gridcolor": "white",
             "linecolor": "white",
             "minorgridcolor": "white",
             "startlinecolor": "#2a3f5f"
            },
            "baxis": {
             "endlinecolor": "#2a3f5f",
             "gridcolor": "white",
             "linecolor": "white",
             "minorgridcolor": "white",
             "startlinecolor": "#2a3f5f"
            },
            "type": "carpet"
           }
          ],
          "choropleth": [
           {
            "colorbar": {
             "outlinewidth": 0,
             "ticks": ""
            },
            "type": "choropleth"
           }
          ],
          "contour": [
           {
            "colorbar": {
             "outlinewidth": 0,
             "ticks": ""
            },
            "colorscale": [
             [
              0,
              "#0d0887"
             ],
             [
              0.1111111111111111,
              "#46039f"
             ],
             [
              0.2222222222222222,
              "#7201a8"
             ],
             [
              0.3333333333333333,
              "#9c179e"
             ],
             [
              0.4444444444444444,
              "#bd3786"
             ],
             [
              0.5555555555555556,
              "#d8576b"
             ],
             [
              0.6666666666666666,
              "#ed7953"
             ],
             [
              0.7777777777777778,
              "#fb9f3a"
             ],
             [
              0.8888888888888888,
              "#fdca26"
             ],
             [
              1,
              "#f0f921"
             ]
            ],
            "type": "contour"
           }
          ],
          "contourcarpet": [
           {
            "colorbar": {
             "outlinewidth": 0,
             "ticks": ""
            },
            "type": "contourcarpet"
           }
          ],
          "heatmap": [
           {
            "colorbar": {
             "outlinewidth": 0,
             "ticks": ""
            },
            "colorscale": [
             [
              0,
              "#0d0887"
             ],
             [
              0.1111111111111111,
              "#46039f"
             ],
             [
              0.2222222222222222,
              "#7201a8"
             ],
             [
              0.3333333333333333,
              "#9c179e"
             ],
             [
              0.4444444444444444,
              "#bd3786"
             ],
             [
              0.5555555555555556,
              "#d8576b"
             ],
             [
              0.6666666666666666,
              "#ed7953"
             ],
             [
              0.7777777777777778,
              "#fb9f3a"
             ],
             [
              0.8888888888888888,
              "#fdca26"
             ],
             [
              1,
              "#f0f921"
             ]
            ],
            "type": "heatmap"
           }
          ],
          "heatmapgl": [
           {
            "colorbar": {
             "outlinewidth": 0,
             "ticks": ""
            },
            "colorscale": [
             [
              0,
              "#0d0887"
             ],
             [
              0.1111111111111111,
              "#46039f"
             ],
             [
              0.2222222222222222,
              "#7201a8"
             ],
             [
              0.3333333333333333,
              "#9c179e"
             ],
             [
              0.4444444444444444,
              "#bd3786"
             ],
             [
              0.5555555555555556,
              "#d8576b"
             ],
             [
              0.6666666666666666,
              "#ed7953"
             ],
             [
              0.7777777777777778,
              "#fb9f3a"
             ],
             [
              0.8888888888888888,
              "#fdca26"
             ],
             [
              1,
              "#f0f921"
             ]
            ],
            "type": "heatmapgl"
           }
          ],
          "histogram": [
           {
            "marker": {
             "pattern": {
              "fillmode": "overlay",
              "size": 10,
              "solidity": 0.2
             }
            },
            "type": "histogram"
           }
          ],
          "histogram2d": [
           {
            "colorbar": {
             "outlinewidth": 0,
             "ticks": ""
            },
            "colorscale": [
             [
              0,
              "#0d0887"
             ],
             [
              0.1111111111111111,
              "#46039f"
             ],
             [
              0.2222222222222222,
              "#7201a8"
             ],
             [
              0.3333333333333333,
              "#9c179e"
             ],
             [
              0.4444444444444444,
              "#bd3786"
             ],
             [
              0.5555555555555556,
              "#d8576b"
             ],
             [
              0.6666666666666666,
              "#ed7953"
             ],
             [
              0.7777777777777778,
              "#fb9f3a"
             ],
             [
              0.8888888888888888,
              "#fdca26"
             ],
             [
              1,
              "#f0f921"
             ]
            ],
            "type": "histogram2d"
           }
          ],
          "histogram2dcontour": [
           {
            "colorbar": {
             "outlinewidth": 0,
             "ticks": ""
            },
            "colorscale": [
             [
              0,
              "#0d0887"
             ],
             [
              0.1111111111111111,
              "#46039f"
             ],
             [
              0.2222222222222222,
              "#7201a8"
             ],
             [
              0.3333333333333333,
              "#9c179e"
             ],
             [
              0.4444444444444444,
              "#bd3786"
             ],
             [
              0.5555555555555556,
              "#d8576b"
             ],
             [
              0.6666666666666666,
              "#ed7953"
             ],
             [
              0.7777777777777778,
              "#fb9f3a"
             ],
             [
              0.8888888888888888,
              "#fdca26"
             ],
             [
              1,
              "#f0f921"
             ]
            ],
            "type": "histogram2dcontour"
           }
          ],
          "mesh3d": [
           {
            "colorbar": {
             "outlinewidth": 0,
             "ticks": ""
            },
            "type": "mesh3d"
           }
          ],
          "parcoords": [
           {
            "line": {
             "colorbar": {
              "outlinewidth": 0,
              "ticks": ""
             }
            },
            "type": "parcoords"
           }
          ],
          "pie": [
           {
            "automargin": true,
            "type": "pie"
           }
          ],
          "scatter": [
           {
            "fillpattern": {
             "fillmode": "overlay",
             "size": 10,
             "solidity": 0.2
            },
            "type": "scatter"
           }
          ],
          "scatter3d": [
           {
            "line": {
             "colorbar": {
              "outlinewidth": 0,
              "ticks": ""
             }
            },
            "marker": {
             "colorbar": {
              "outlinewidth": 0,
              "ticks": ""
             }
            },
            "type": "scatter3d"
           }
          ],
          "scattercarpet": [
           {
            "marker": {
             "colorbar": {
              "outlinewidth": 0,
              "ticks": ""
             }
            },
            "type": "scattercarpet"
           }
          ],
          "scattergeo": [
           {
            "marker": {
             "colorbar": {
              "outlinewidth": 0,
              "ticks": ""
             }
            },
            "type": "scattergeo"
           }
          ],
          "scattergl": [
           {
            "marker": {
             "colorbar": {
              "outlinewidth": 0,
              "ticks": ""
             }
            },
            "type": "scattergl"
           }
          ],
          "scattermapbox": [
           {
            "marker": {
             "colorbar": {
              "outlinewidth": 0,
              "ticks": ""
             }
            },
            "type": "scattermapbox"
           }
          ],
          "scatterpolar": [
           {
            "marker": {
             "colorbar": {
              "outlinewidth": 0,
              "ticks": ""
             }
            },
            "type": "scatterpolar"
           }
          ],
          "scatterpolargl": [
           {
            "marker": {
             "colorbar": {
              "outlinewidth": 0,
              "ticks": ""
             }
            },
            "type": "scatterpolargl"
           }
          ],
          "scatterternary": [
           {
            "marker": {
             "colorbar": {
              "outlinewidth": 0,
              "ticks": ""
             }
            },
            "type": "scatterternary"
           }
          ],
          "surface": [
           {
            "colorbar": {
             "outlinewidth": 0,
             "ticks": ""
            },
            "colorscale": [
             [
              0,
              "#0d0887"
             ],
             [
              0.1111111111111111,
              "#46039f"
             ],
             [
              0.2222222222222222,
              "#7201a8"
             ],
             [
              0.3333333333333333,
              "#9c179e"
             ],
             [
              0.4444444444444444,
              "#bd3786"
             ],
             [
              0.5555555555555556,
              "#d8576b"
             ],
             [
              0.6666666666666666,
              "#ed7953"
             ],
             [
              0.7777777777777778,
              "#fb9f3a"
             ],
             [
              0.8888888888888888,
              "#fdca26"
             ],
             [
              1,
              "#f0f921"
             ]
            ],
            "type": "surface"
           }
          ],
          "table": [
           {
            "cells": {
             "fill": {
              "color": "#EBF0F8"
             },
             "line": {
              "color": "white"
             }
            },
            "header": {
             "fill": {
              "color": "#C8D4E3"
             },
             "line": {
              "color": "white"
             }
            },
            "type": "table"
           }
          ]
         },
         "layout": {
          "annotationdefaults": {
           "arrowcolor": "#2a3f5f",
           "arrowhead": 0,
           "arrowwidth": 1
          },
          "autotypenumbers": "strict",
          "coloraxis": {
           "colorbar": {
            "outlinewidth": 0,
            "ticks": ""
           }
          },
          "colorscale": {
           "diverging": [
            [
             0,
             "#8e0152"
            ],
            [
             0.1,
             "#c51b7d"
            ],
            [
             0.2,
             "#de77ae"
            ],
            [
             0.3,
             "#f1b6da"
            ],
            [
             0.4,
             "#fde0ef"
            ],
            [
             0.5,
             "#f7f7f7"
            ],
            [
             0.6,
             "#e6f5d0"
            ],
            [
             0.7,
             "#b8e186"
            ],
            [
             0.8,
             "#7fbc41"
            ],
            [
             0.9,
             "#4d9221"
            ],
            [
             1,
             "#276419"
            ]
           ],
           "sequential": [
            [
             0,
             "#0d0887"
            ],
            [
             0.1111111111111111,
             "#46039f"
            ],
            [
             0.2222222222222222,
             "#7201a8"
            ],
            [
             0.3333333333333333,
             "#9c179e"
            ],
            [
             0.4444444444444444,
             "#bd3786"
            ],
            [
             0.5555555555555556,
             "#d8576b"
            ],
            [
             0.6666666666666666,
             "#ed7953"
            ],
            [
             0.7777777777777778,
             "#fb9f3a"
            ],
            [
             0.8888888888888888,
             "#fdca26"
            ],
            [
             1,
             "#f0f921"
            ]
           ],
           "sequentialminus": [
            [
             0,
             "#0d0887"
            ],
            [
             0.1111111111111111,
             "#46039f"
            ],
            [
             0.2222222222222222,
             "#7201a8"
            ],
            [
             0.3333333333333333,
             "#9c179e"
            ],
            [
             0.4444444444444444,
             "#bd3786"
            ],
            [
             0.5555555555555556,
             "#d8576b"
            ],
            [
             0.6666666666666666,
             "#ed7953"
            ],
            [
             0.7777777777777778,
             "#fb9f3a"
            ],
            [
             0.8888888888888888,
             "#fdca26"
            ],
            [
             1,
             "#f0f921"
            ]
           ]
          },
          "colorway": [
           "#636efa",
           "#EF553B",
           "#00cc96",
           "#ab63fa",
           "#FFA15A",
           "#19d3f3",
           "#FF6692",
           "#B6E880",
           "#FF97FF",
           "#FECB52"
          ],
          "font": {
           "color": "#2a3f5f"
          },
          "geo": {
           "bgcolor": "white",
           "lakecolor": "white",
           "landcolor": "#E5ECF6",
           "showlakes": true,
           "showland": true,
           "subunitcolor": "white"
          },
          "hoverlabel": {
           "align": "left"
          },
          "hovermode": "closest",
          "mapbox": {
           "style": "light"
          },
          "paper_bgcolor": "white",
          "plot_bgcolor": "#E5ECF6",
          "polar": {
           "angularaxis": {
            "gridcolor": "white",
            "linecolor": "white",
            "ticks": ""
           },
           "bgcolor": "#E5ECF6",
           "radialaxis": {
            "gridcolor": "white",
            "linecolor": "white",
            "ticks": ""
           }
          },
          "scene": {
           "xaxis": {
            "backgroundcolor": "#E5ECF6",
            "gridcolor": "white",
            "gridwidth": 2,
            "linecolor": "white",
            "showbackground": true,
            "ticks": "",
            "zerolinecolor": "white"
           },
           "yaxis": {
            "backgroundcolor": "#E5ECF6",
            "gridcolor": "white",
            "gridwidth": 2,
            "linecolor": "white",
            "showbackground": true,
            "ticks": "",
            "zerolinecolor": "white"
           },
           "zaxis": {
            "backgroundcolor": "#E5ECF6",
            "gridcolor": "white",
            "gridwidth": 2,
            "linecolor": "white",
            "showbackground": true,
            "ticks": "",
            "zerolinecolor": "white"
           }
          },
          "shapedefaults": {
           "line": {
            "color": "#2a3f5f"
           }
          },
          "ternary": {
           "aaxis": {
            "gridcolor": "white",
            "linecolor": "white",
            "ticks": ""
           },
           "baxis": {
            "gridcolor": "white",
            "linecolor": "white",
            "ticks": ""
           },
           "bgcolor": "#E5ECF6",
           "caxis": {
            "gridcolor": "white",
            "linecolor": "white",
            "ticks": ""
           }
          },
          "title": {
           "x": 0.05
          },
          "xaxis": {
           "automargin": true,
           "gridcolor": "white",
           "linecolor": "white",
           "ticks": "",
           "title": {
            "standoff": 15
           },
           "zerolinecolor": "white",
           "zerolinewidth": 2
          },
          "yaxis": {
           "automargin": true,
           "gridcolor": "white",
           "linecolor": "white",
           "ticks": "",
           "title": {
            "standoff": 15
           },
           "zerolinecolor": "white",
           "zerolinewidth": 2
          }
         }
        },
        "title": {
         "text": "This figure has been made with plotly graph objects",
         "x": 0.5
        }
       }
      }
     },
     "metadata": {},
     "output_type": "display_data"
    }
   ],
   "source": [
    "fig = go.Figure(\n",
    "  data = go.Scatter(\n",
    "    x = df['sepal_width'],\n",
    "    y = df['sepal_length'],\n",
    "    mode = 'markers' # ou lines\n",
    "  ),            \n",
    "  \n",
    "  layout = go.Layout(\n",
    "    title = go.layout.Title(text = \"This figure has been made with plotly graph objects\", x = 0.5),\n",
    "  )\n",
    ")\n",
    "\n",
    "fig.show()"
   ]
  },
  {
   "cell_type": "code",
   "execution_count": 83,
   "metadata": {},
   "outputs": [
    {
     "data": {
      "application/vnd.plotly.v1+json": {
       "config": {
        "plotlyServerURL": "https://plot.ly"
       },
       "data": [
        {
         "mode": "markers",
         "type": "scatter",
         "x": [
          3.5,
          3,
          3.2,
          3.1,
          3.6,
          3.9,
          3.4,
          3.4,
          2.9,
          3.1,
          3.7,
          3.4,
          3,
          3,
          4,
          4.4,
          3.9,
          3.5,
          3.8,
          3.8,
          3.4,
          3.7,
          3.6,
          3.3,
          3.4,
          3,
          3.4,
          3.5,
          3.4,
          3.2,
          3.1,
          3.4,
          4.1,
          4.2,
          3.1,
          3.2,
          3.5,
          3.1,
          3,
          3.4,
          3.5,
          2.3,
          3.2,
          3.5,
          3.8,
          3,
          3.8,
          3.2,
          3.7,
          3.3,
          3.2,
          3.2,
          3.1,
          2.3,
          2.8,
          2.8,
          3.3,
          2.4,
          2.9,
          2.7,
          2,
          3,
          2.2,
          2.9,
          2.9,
          3.1,
          3,
          2.7,
          2.2,
          2.5,
          3.2,
          2.8,
          2.5,
          2.8,
          2.9,
          3,
          2.8,
          3,
          2.9,
          2.6,
          2.4,
          2.4,
          2.7,
          2.7,
          3,
          3.4,
          3.1,
          2.3,
          3,
          2.5,
          2.6,
          3,
          2.6,
          2.3,
          2.7,
          3,
          2.9,
          2.9,
          2.5,
          2.8,
          3.3,
          2.7,
          3,
          2.9,
          3,
          3,
          2.5,
          2.9,
          2.5,
          3.6,
          3.2,
          2.7,
          3,
          2.5,
          2.8,
          3.2,
          3,
          3.8,
          2.6,
          2.2,
          3.2,
          2.8,
          2.8,
          2.7,
          3.3,
          3.2,
          2.8,
          3,
          2.8,
          3,
          2.8,
          3.8,
          2.8,
          2.8,
          2.6,
          3,
          3.4,
          3.1,
          3,
          3.1,
          3.1,
          3.1,
          2.7,
          3.2,
          3.3,
          3,
          2.5,
          3,
          3.4,
          3
         ],
         "y": [
          5.1,
          4.9,
          4.7,
          4.6,
          5,
          5.4,
          4.6,
          5,
          4.4,
          4.9,
          5.4,
          4.8,
          4.8,
          4.3,
          5.8,
          5.7,
          5.4,
          5.1,
          5.7,
          5.1,
          5.4,
          5.1,
          4.6,
          5.1,
          4.8,
          5,
          5,
          5.2,
          5.2,
          4.7,
          4.8,
          5.4,
          5.2,
          5.5,
          4.9,
          5,
          5.5,
          4.9,
          4.4,
          5.1,
          5,
          4.5,
          4.4,
          5,
          5.1,
          4.8,
          5.1,
          4.6,
          5.3,
          5,
          7,
          6.4,
          6.9,
          5.5,
          6.5,
          5.7,
          6.3,
          4.9,
          6.6,
          5.2,
          5,
          5.9,
          6,
          6.1,
          5.6,
          6.7,
          5.6,
          5.8,
          6.2,
          5.6,
          5.9,
          6.1,
          6.3,
          6.1,
          6.4,
          6.6,
          6.8,
          6.7,
          6,
          5.7,
          5.5,
          5.5,
          5.8,
          6,
          5.4,
          6,
          6.7,
          6.3,
          5.6,
          5.5,
          5.5,
          6.1,
          5.8,
          5,
          5.6,
          5.7,
          5.7,
          6.2,
          5.1,
          5.7,
          6.3,
          5.8,
          7.1,
          6.3,
          6.5,
          7.6,
          4.9,
          7.3,
          6.7,
          7.2,
          6.5,
          6.4,
          6.8,
          5.7,
          5.8,
          6.4,
          6.5,
          7.7,
          7.7,
          6,
          6.9,
          5.6,
          7.7,
          6.3,
          6.7,
          7.2,
          6.2,
          6.1,
          6.4,
          7.2,
          7.4,
          7.9,
          6.4,
          6.3,
          6.1,
          7.7,
          6.3,
          6.4,
          6,
          6.9,
          6.7,
          6.9,
          5.8,
          6.8,
          6.7,
          6.7,
          6.3,
          6.5,
          6.2,
          5.9
         ]
        }
       ],
       "layout": {
        "template": {
         "data": {
          "bar": [
           {
            "error_x": {
             "color": "#2a3f5f"
            },
            "error_y": {
             "color": "#2a3f5f"
            },
            "marker": {
             "line": {
              "color": "#E5ECF6",
              "width": 0.5
             },
             "pattern": {
              "fillmode": "overlay",
              "size": 10,
              "solidity": 0.2
             }
            },
            "type": "bar"
           }
          ],
          "barpolar": [
           {
            "marker": {
             "line": {
              "color": "#E5ECF6",
              "width": 0.5
             },
             "pattern": {
              "fillmode": "overlay",
              "size": 10,
              "solidity": 0.2
             }
            },
            "type": "barpolar"
           }
          ],
          "carpet": [
           {
            "aaxis": {
             "endlinecolor": "#2a3f5f",
             "gridcolor": "white",
             "linecolor": "white",
             "minorgridcolor": "white",
             "startlinecolor": "#2a3f5f"
            },
            "baxis": {
             "endlinecolor": "#2a3f5f",
             "gridcolor": "white",
             "linecolor": "white",
             "minorgridcolor": "white",
             "startlinecolor": "#2a3f5f"
            },
            "type": "carpet"
           }
          ],
          "choropleth": [
           {
            "colorbar": {
             "outlinewidth": 0,
             "ticks": ""
            },
            "type": "choropleth"
           }
          ],
          "contour": [
           {
            "colorbar": {
             "outlinewidth": 0,
             "ticks": ""
            },
            "colorscale": [
             [
              0,
              "#0d0887"
             ],
             [
              0.1111111111111111,
              "#46039f"
             ],
             [
              0.2222222222222222,
              "#7201a8"
             ],
             [
              0.3333333333333333,
              "#9c179e"
             ],
             [
              0.4444444444444444,
              "#bd3786"
             ],
             [
              0.5555555555555556,
              "#d8576b"
             ],
             [
              0.6666666666666666,
              "#ed7953"
             ],
             [
              0.7777777777777778,
              "#fb9f3a"
             ],
             [
              0.8888888888888888,
              "#fdca26"
             ],
             [
              1,
              "#f0f921"
             ]
            ],
            "type": "contour"
           }
          ],
          "contourcarpet": [
           {
            "colorbar": {
             "outlinewidth": 0,
             "ticks": ""
            },
            "type": "contourcarpet"
           }
          ],
          "heatmap": [
           {
            "colorbar": {
             "outlinewidth": 0,
             "ticks": ""
            },
            "colorscale": [
             [
              0,
              "#0d0887"
             ],
             [
              0.1111111111111111,
              "#46039f"
             ],
             [
              0.2222222222222222,
              "#7201a8"
             ],
             [
              0.3333333333333333,
              "#9c179e"
             ],
             [
              0.4444444444444444,
              "#bd3786"
             ],
             [
              0.5555555555555556,
              "#d8576b"
             ],
             [
              0.6666666666666666,
              "#ed7953"
             ],
             [
              0.7777777777777778,
              "#fb9f3a"
             ],
             [
              0.8888888888888888,
              "#fdca26"
             ],
             [
              1,
              "#f0f921"
             ]
            ],
            "type": "heatmap"
           }
          ],
          "heatmapgl": [
           {
            "colorbar": {
             "outlinewidth": 0,
             "ticks": ""
            },
            "colorscale": [
             [
              0,
              "#0d0887"
             ],
             [
              0.1111111111111111,
              "#46039f"
             ],
             [
              0.2222222222222222,
              "#7201a8"
             ],
             [
              0.3333333333333333,
              "#9c179e"
             ],
             [
              0.4444444444444444,
              "#bd3786"
             ],
             [
              0.5555555555555556,
              "#d8576b"
             ],
             [
              0.6666666666666666,
              "#ed7953"
             ],
             [
              0.7777777777777778,
              "#fb9f3a"
             ],
             [
              0.8888888888888888,
              "#fdca26"
             ],
             [
              1,
              "#f0f921"
             ]
            ],
            "type": "heatmapgl"
           }
          ],
          "histogram": [
           {
            "marker": {
             "pattern": {
              "fillmode": "overlay",
              "size": 10,
              "solidity": 0.2
             }
            },
            "type": "histogram"
           }
          ],
          "histogram2d": [
           {
            "colorbar": {
             "outlinewidth": 0,
             "ticks": ""
            },
            "colorscale": [
             [
              0,
              "#0d0887"
             ],
             [
              0.1111111111111111,
              "#46039f"
             ],
             [
              0.2222222222222222,
              "#7201a8"
             ],
             [
              0.3333333333333333,
              "#9c179e"
             ],
             [
              0.4444444444444444,
              "#bd3786"
             ],
             [
              0.5555555555555556,
              "#d8576b"
             ],
             [
              0.6666666666666666,
              "#ed7953"
             ],
             [
              0.7777777777777778,
              "#fb9f3a"
             ],
             [
              0.8888888888888888,
              "#fdca26"
             ],
             [
              1,
              "#f0f921"
             ]
            ],
            "type": "histogram2d"
           }
          ],
          "histogram2dcontour": [
           {
            "colorbar": {
             "outlinewidth": 0,
             "ticks": ""
            },
            "colorscale": [
             [
              0,
              "#0d0887"
             ],
             [
              0.1111111111111111,
              "#46039f"
             ],
             [
              0.2222222222222222,
              "#7201a8"
             ],
             [
              0.3333333333333333,
              "#9c179e"
             ],
             [
              0.4444444444444444,
              "#bd3786"
             ],
             [
              0.5555555555555556,
              "#d8576b"
             ],
             [
              0.6666666666666666,
              "#ed7953"
             ],
             [
              0.7777777777777778,
              "#fb9f3a"
             ],
             [
              0.8888888888888888,
              "#fdca26"
             ],
             [
              1,
              "#f0f921"
             ]
            ],
            "type": "histogram2dcontour"
           }
          ],
          "mesh3d": [
           {
            "colorbar": {
             "outlinewidth": 0,
             "ticks": ""
            },
            "type": "mesh3d"
           }
          ],
          "parcoords": [
           {
            "line": {
             "colorbar": {
              "outlinewidth": 0,
              "ticks": ""
             }
            },
            "type": "parcoords"
           }
          ],
          "pie": [
           {
            "automargin": true,
            "type": "pie"
           }
          ],
          "scatter": [
           {
            "fillpattern": {
             "fillmode": "overlay",
             "size": 10,
             "solidity": 0.2
            },
            "type": "scatter"
           }
          ],
          "scatter3d": [
           {
            "line": {
             "colorbar": {
              "outlinewidth": 0,
              "ticks": ""
             }
            },
            "marker": {
             "colorbar": {
              "outlinewidth": 0,
              "ticks": ""
             }
            },
            "type": "scatter3d"
           }
          ],
          "scattercarpet": [
           {
            "marker": {
             "colorbar": {
              "outlinewidth": 0,
              "ticks": ""
             }
            },
            "type": "scattercarpet"
           }
          ],
          "scattergeo": [
           {
            "marker": {
             "colorbar": {
              "outlinewidth": 0,
              "ticks": ""
             }
            },
            "type": "scattergeo"
           }
          ],
          "scattergl": [
           {
            "marker": {
             "colorbar": {
              "outlinewidth": 0,
              "ticks": ""
             }
            },
            "type": "scattergl"
           }
          ],
          "scattermapbox": [
           {
            "marker": {
             "colorbar": {
              "outlinewidth": 0,
              "ticks": ""
             }
            },
            "type": "scattermapbox"
           }
          ],
          "scatterpolar": [
           {
            "marker": {
             "colorbar": {
              "outlinewidth": 0,
              "ticks": ""
             }
            },
            "type": "scatterpolar"
           }
          ],
          "scatterpolargl": [
           {
            "marker": {
             "colorbar": {
              "outlinewidth": 0,
              "ticks": ""
             }
            },
            "type": "scatterpolargl"
           }
          ],
          "scatterternary": [
           {
            "marker": {
             "colorbar": {
              "outlinewidth": 0,
              "ticks": ""
             }
            },
            "type": "scatterternary"
           }
          ],
          "surface": [
           {
            "colorbar": {
             "outlinewidth": 0,
             "ticks": ""
            },
            "colorscale": [
             [
              0,
              "#0d0887"
             ],
             [
              0.1111111111111111,
              "#46039f"
             ],
             [
              0.2222222222222222,
              "#7201a8"
             ],
             [
              0.3333333333333333,
              "#9c179e"
             ],
             [
              0.4444444444444444,
              "#bd3786"
             ],
             [
              0.5555555555555556,
              "#d8576b"
             ],
             [
              0.6666666666666666,
              "#ed7953"
             ],
             [
              0.7777777777777778,
              "#fb9f3a"
             ],
             [
              0.8888888888888888,
              "#fdca26"
             ],
             [
              1,
              "#f0f921"
             ]
            ],
            "type": "surface"
           }
          ],
          "table": [
           {
            "cells": {
             "fill": {
              "color": "#EBF0F8"
             },
             "line": {
              "color": "white"
             }
            },
            "header": {
             "fill": {
              "color": "#C8D4E3"
             },
             "line": {
              "color": "white"
             }
            },
            "type": "table"
           }
          ]
         },
         "layout": {
          "annotationdefaults": {
           "arrowcolor": "#2a3f5f",
           "arrowhead": 0,
           "arrowwidth": 1
          },
          "autotypenumbers": "strict",
          "coloraxis": {
           "colorbar": {
            "outlinewidth": 0,
            "ticks": ""
           }
          },
          "colorscale": {
           "diverging": [
            [
             0,
             "#8e0152"
            ],
            [
             0.1,
             "#c51b7d"
            ],
            [
             0.2,
             "#de77ae"
            ],
            [
             0.3,
             "#f1b6da"
            ],
            [
             0.4,
             "#fde0ef"
            ],
            [
             0.5,
             "#f7f7f7"
            ],
            [
             0.6,
             "#e6f5d0"
            ],
            [
             0.7,
             "#b8e186"
            ],
            [
             0.8,
             "#7fbc41"
            ],
            [
             0.9,
             "#4d9221"
            ],
            [
             1,
             "#276419"
            ]
           ],
           "sequential": [
            [
             0,
             "#0d0887"
            ],
            [
             0.1111111111111111,
             "#46039f"
            ],
            [
             0.2222222222222222,
             "#7201a8"
            ],
            [
             0.3333333333333333,
             "#9c179e"
            ],
            [
             0.4444444444444444,
             "#bd3786"
            ],
            [
             0.5555555555555556,
             "#d8576b"
            ],
            [
             0.6666666666666666,
             "#ed7953"
            ],
            [
             0.7777777777777778,
             "#fb9f3a"
            ],
            [
             0.8888888888888888,
             "#fdca26"
            ],
            [
             1,
             "#f0f921"
            ]
           ],
           "sequentialminus": [
            [
             0,
             "#0d0887"
            ],
            [
             0.1111111111111111,
             "#46039f"
            ],
            [
             0.2222222222222222,
             "#7201a8"
            ],
            [
             0.3333333333333333,
             "#9c179e"
            ],
            [
             0.4444444444444444,
             "#bd3786"
            ],
            [
             0.5555555555555556,
             "#d8576b"
            ],
            [
             0.6666666666666666,
             "#ed7953"
            ],
            [
             0.7777777777777778,
             "#fb9f3a"
            ],
            [
             0.8888888888888888,
             "#fdca26"
            ],
            [
             1,
             "#f0f921"
            ]
           ]
          },
          "colorway": [
           "#636efa",
           "#EF553B",
           "#00cc96",
           "#ab63fa",
           "#FFA15A",
           "#19d3f3",
           "#FF6692",
           "#B6E880",
           "#FF97FF",
           "#FECB52"
          ],
          "font": {
           "color": "#2a3f5f"
          },
          "geo": {
           "bgcolor": "white",
           "lakecolor": "white",
           "landcolor": "#E5ECF6",
           "showlakes": true,
           "showland": true,
           "subunitcolor": "white"
          },
          "hoverlabel": {
           "align": "left"
          },
          "hovermode": "closest",
          "mapbox": {
           "style": "light"
          },
          "paper_bgcolor": "white",
          "plot_bgcolor": "#E5ECF6",
          "polar": {
           "angularaxis": {
            "gridcolor": "white",
            "linecolor": "white",
            "ticks": ""
           },
           "bgcolor": "#E5ECF6",
           "radialaxis": {
            "gridcolor": "white",
            "linecolor": "white",
            "ticks": ""
           }
          },
          "scene": {
           "xaxis": {
            "backgroundcolor": "#E5ECF6",
            "gridcolor": "white",
            "gridwidth": 2,
            "linecolor": "white",
            "showbackground": true,
            "ticks": "",
            "zerolinecolor": "white"
           },
           "yaxis": {
            "backgroundcolor": "#E5ECF6",
            "gridcolor": "white",
            "gridwidth": 2,
            "linecolor": "white",
            "showbackground": true,
            "ticks": "",
            "zerolinecolor": "white"
           },
           "zaxis": {
            "backgroundcolor": "#E5ECF6",
            "gridcolor": "white",
            "gridwidth": 2,
            "linecolor": "white",
            "showbackground": true,
            "ticks": "",
            "zerolinecolor": "white"
           }
          },
          "shapedefaults": {
           "line": {
            "color": "#2a3f5f"
           }
          },
          "ternary": {
           "aaxis": {
            "gridcolor": "white",
            "linecolor": "white",
            "ticks": ""
           },
           "baxis": {
            "gridcolor": "white",
            "linecolor": "white",
            "ticks": ""
           },
           "bgcolor": "#E5ECF6",
           "caxis": {
            "gridcolor": "white",
            "linecolor": "white",
            "ticks": ""
           }
          },
          "title": {
           "x": 0.05
          },
          "xaxis": {
           "automargin": true,
           "gridcolor": "white",
           "linecolor": "white",
           "ticks": "",
           "title": {
            "standoff": 15
           },
           "zerolinecolor": "white",
           "zerolinewidth": 2
          },
          "yaxis": {
           "automargin": true,
           "gridcolor": "white",
           "linecolor": "white",
           "ticks": "",
           "title": {
            "standoff": 15
           },
           "zerolinecolor": "white",
           "zerolinewidth": 2
          }
         }
        },
        "title": {
         "text": "This figure has been made with plotly graph objects",
         "x": 0.5
        }
       }
      }
     },
     "metadata": {},
     "output_type": "display_data"
    }
   ],
   "source": [
    "fig = go.Figure()\n",
    "\n",
    "fig.add_trace(\n",
    "  go.Scatter(\n",
    "    x = df['sepal_width'],\n",
    "    y = df['sepal_length'],\n",
    "    mode = 'markers'          # ou lines\n",
    "  )            \n",
    ")\n",
    "    \n",
    "fig.update_layout(\n",
    "  title = go.layout.Title(text = \"This figure has been made with plotly graph objects\", x = 0.5),\n",
    ")\n",
    "\n",
    "fig.show()"
   ]
  },
  {
   "cell_type": "code",
   "execution_count": 84,
   "metadata": {},
   "outputs": [
    {
     "name": "stdout",
     "output_type": "stream",
     "text": [
      "Help on class Scatter in module plotly.graph_objs._scatter:\n",
      "\n",
      "class Scatter(plotly.basedatatypes.BaseTraceType)\n",
      " |  Scatter(arg=None, alignmentgroup=None, cliponaxis=None, connectgaps=None, customdata=None, customdatasrc=None, dx=None, dy=None, error_x=None, error_y=None, fill=None, fillcolor=None, fillpattern=None, groupnorm=None, hoverinfo=None, hoverinfosrc=None, hoverlabel=None, hoveron=None, hovertemplate=None, hovertemplatesrc=None, hovertext=None, hovertextsrc=None, ids=None, idssrc=None, legend=None, legendgroup=None, legendgrouptitle=None, legendrank=None, legendwidth=None, line=None, marker=None, meta=None, metasrc=None, mode=None, name=None, offsetgroup=None, opacity=None, orientation=None, selected=None, selectedpoints=None, showlegend=None, stackgaps=None, stackgroup=None, stream=None, text=None, textfont=None, textposition=None, textpositionsrc=None, textsrc=None, texttemplate=None, texttemplatesrc=None, uid=None, uirevision=None, unselected=None, visible=None, x=None, x0=None, xaxis=None, xcalendar=None, xhoverformat=None, xperiod=None, xperiod0=None, xperiodalignment=None, xsrc=None, y=None, y0=None, yaxis=None, ycalendar=None, yhoverformat=None, yperiod=None, yperiod0=None, yperiodalignment=None, ysrc=None, **kwargs)\n",
      " |  \n",
      " |  Method resolution order:\n",
      " |      Scatter\n",
      " |      plotly.basedatatypes.BaseTraceType\n",
      " |      plotly.basedatatypes.BaseTraceHierarchyType\n",
      " |      plotly.basedatatypes.BasePlotlyType\n",
      " |      builtins.object\n",
      " |  \n",
      " |  Methods defined here:\n",
      " |  \n",
      " |  __init__(self, arg=None, alignmentgroup=None, cliponaxis=None, connectgaps=None, customdata=None, customdatasrc=None, dx=None, dy=None, error_x=None, error_y=None, fill=None, fillcolor=None, fillpattern=None, groupnorm=None, hoverinfo=None, hoverinfosrc=None, hoverlabel=None, hoveron=None, hovertemplate=None, hovertemplatesrc=None, hovertext=None, hovertextsrc=None, ids=None, idssrc=None, legend=None, legendgroup=None, legendgrouptitle=None, legendrank=None, legendwidth=None, line=None, marker=None, meta=None, metasrc=None, mode=None, name=None, offsetgroup=None, opacity=None, orientation=None, selected=None, selectedpoints=None, showlegend=None, stackgaps=None, stackgroup=None, stream=None, text=None, textfont=None, textposition=None, textpositionsrc=None, textsrc=None, texttemplate=None, texttemplatesrc=None, uid=None, uirevision=None, unselected=None, visible=None, x=None, x0=None, xaxis=None, xcalendar=None, xhoverformat=None, xperiod=None, xperiod0=None, xperiodalignment=None, xsrc=None, y=None, y0=None, yaxis=None, ycalendar=None, yhoverformat=None, yperiod=None, yperiod0=None, yperiodalignment=None, ysrc=None, **kwargs)\n",
      " |      Construct a new Scatter object\n",
      " |      \n",
      " |      The scatter trace type encompasses line charts, scatter charts,\n",
      " |      text charts, and bubble charts. The data visualized as scatter\n",
      " |      point or lines is set in `x` and `y`. Text (appearing either on\n",
      " |      the chart or on hover only) is via `text`. Bubble charts are\n",
      " |      achieved by setting `marker.size` and/or `marker.color` to\n",
      " |      numerical arrays.\n",
      " |      \n",
      " |      Parameters\n",
      " |      ----------\n",
      " |      arg\n",
      " |          dict of properties compatible with this constructor or\n",
      " |          an instance of :class:`plotly.graph_objs.Scatter`\n",
      " |      alignmentgroup\n",
      " |          Set several traces linked to the same position axis or\n",
      " |          matching axes to the same alignmentgroup. This controls\n",
      " |          whether bars compute their positional range dependently\n",
      " |          or independently.\n",
      " |      cliponaxis\n",
      " |          Determines whether or not markers and text nodes are\n",
      " |          clipped about the subplot axes. To show markers and\n",
      " |          text nodes above axis lines and tick labels, make sure\n",
      " |          to set `xaxis.layer` and `yaxis.layer` to *below\n",
      " |          traces*.\n",
      " |      connectgaps\n",
      " |          Determines whether or not gaps (i.e. {nan} or missing\n",
      " |          values) in the provided data arrays are connected.\n",
      " |      customdata\n",
      " |          Assigns extra data each datum. This may be useful when\n",
      " |          listening to hover, click and selection events. Note\n",
      " |          that, \"scatter\" traces also appends customdata items in\n",
      " |          the markers DOM elements\n",
      " |      customdatasrc\n",
      " |          Sets the source reference on Chart Studio Cloud for\n",
      " |          `customdata`.\n",
      " |      dx\n",
      " |          Sets the x coordinate step. See `x0` for more info.\n",
      " |      dy\n",
      " |          Sets the y coordinate step. See `y0` for more info.\n",
      " |      error_x\n",
      " |          :class:`plotly.graph_objects.scatter.ErrorX` instance\n",
      " |          or dict with compatible properties\n",
      " |      error_y\n",
      " |          :class:`plotly.graph_objects.scatter.ErrorY` instance\n",
      " |          or dict with compatible properties\n",
      " |      fill\n",
      " |          Sets the area to fill with a solid color. Defaults to\n",
      " |          \"none\" unless this trace is stacked, then it gets\n",
      " |          \"tonexty\" (\"tonextx\") if `orientation` is \"v\" (\"h\") Use\n",
      " |          with `fillcolor` if not \"none\". \"tozerox\" and \"tozeroy\"\n",
      " |          fill to x=0 and y=0 respectively. \"tonextx\" and\n",
      " |          \"tonexty\" fill between the endpoints of this trace and\n",
      " |          the endpoints of the trace before it, connecting those\n",
      " |          endpoints with straight lines (to make a stacked area\n",
      " |          graph); if there is no trace before it, they behave\n",
      " |          like \"tozerox\" and \"tozeroy\". \"toself\" connects the\n",
      " |          endpoints of the trace (or each segment of the trace if\n",
      " |          it has gaps) into a closed shape. \"tonext\" fills the\n",
      " |          space between two traces if one completely encloses the\n",
      " |          other (eg consecutive contour lines), and behaves like\n",
      " |          \"toself\" if there is no trace before it. \"tonext\"\n",
      " |          should not be used if one trace does not enclose the\n",
      " |          other. Traces in a `stackgroup` will only fill to (or\n",
      " |          be filled to) other traces in the same group. With\n",
      " |          multiple `stackgroup`s or some traces stacked and some\n",
      " |          not, if fill-linked traces are not already consecutive,\n",
      " |          the later ones will be pushed down in the drawing\n",
      " |          order.\n",
      " |      fillcolor\n",
      " |          Sets the fill color. Defaults to a half-transparent\n",
      " |          variant of the line color, marker color, or marker line\n",
      " |          color, whichever is available.\n",
      " |      fillpattern\n",
      " |          Sets the pattern within the marker.\n",
      " |      groupnorm\n",
      " |          Only relevant when `stackgroup` is used, and only the\n",
      " |          first `groupnorm` found in the `stackgroup` will be\n",
      " |          used - including if `visible` is \"legendonly\" but not\n",
      " |          if it is `false`. Sets the normalization for the sum of\n",
      " |          this `stackgroup`. With \"fraction\", the value of each\n",
      " |          trace at each location is divided by the sum of all\n",
      " |          trace values at that location. \"percent\" is the same\n",
      " |          but multiplied by 100 to show percentages. If there are\n",
      " |          multiple subplots, or multiple `stackgroup`s on one\n",
      " |          subplot, each will be normalized within its own set.\n",
      " |      hoverinfo\n",
      " |          Determines which trace information appear on hover. If\n",
      " |          `none` or `skip` are set, no information is displayed\n",
      " |          upon hovering. But, if `none` is set, click and hover\n",
      " |          events are still fired.\n",
      " |      hoverinfosrc\n",
      " |          Sets the source reference on Chart Studio Cloud for\n",
      " |          `hoverinfo`.\n",
      " |      hoverlabel\n",
      " |          :class:`plotly.graph_objects.scatter.Hoverlabel`\n",
      " |          instance or dict with compatible properties\n",
      " |      hoveron\n",
      " |          Do the hover effects highlight individual points\n",
      " |          (markers or line points) or do they highlight filled\n",
      " |          regions? If the fill is \"toself\" or \"tonext\" and there\n",
      " |          are no markers or text, then the default is \"fills\",\n",
      " |          otherwise it is \"points\".\n",
      " |      hovertemplate\n",
      " |          Template string used for rendering the information that\n",
      " |          appear on hover box. Note that this will override\n",
      " |          `hoverinfo`. Variables are inserted using %{variable},\n",
      " |          for example \"y: %{y}\" as well as %{xother}, {%_xother},\n",
      " |          {%_xother_}, {%xother_}. When showing info for several\n",
      " |          points, \"xother\" will be added to those with different\n",
      " |          x positions from the first point. An underscore before\n",
      " |          or after \"(x|y)other\" will add a space on that side,\n",
      " |          only when this field is shown. Numbers are formatted\n",
      " |          using d3-format's syntax %{variable:d3-format}, for\n",
      " |          example \"Price: %{y:$.2f}\".\n",
      " |          https://github.com/d3/d3-format/tree/v1.4.5#d3-format\n",
      " |          for details on the formatting syntax. Dates are\n",
      " |          formatted using d3-time-format's syntax\n",
      " |          %{variable|d3-time-format}, for example \"Day:\n",
      " |          %{2019-01-01|%A}\". https://github.com/d3/d3-time-\n",
      " |          format/tree/v2.2.3#locale_format for details on the\n",
      " |          date formatting syntax. The variables available in\n",
      " |          `hovertemplate` are the ones emitted as event data\n",
      " |          described at this link\n",
      " |          https://plotly.com/javascript/plotlyjs-events/#event-\n",
      " |          data. Additionally, every attributes that can be\n",
      " |          specified per-point (the ones that are `arrayOk: true`)\n",
      " |          are available.  Anything contained in tag `<extra>` is\n",
      " |          displayed in the secondary box, for example\n",
      " |          \"<extra>{fullData.name}</extra>\". To hide the secondary\n",
      " |          box completely, use an empty tag `<extra></extra>`.\n",
      " |      hovertemplatesrc\n",
      " |          Sets the source reference on Chart Studio Cloud for\n",
      " |          `hovertemplate`.\n",
      " |      hovertext\n",
      " |          Sets hover text elements associated with each (x,y)\n",
      " |          pair. If a single string, the same string appears over\n",
      " |          all the data points. If an array of string, the items\n",
      " |          are mapped in order to the this trace's (x,y)\n",
      " |          coordinates. To be seen, trace `hoverinfo` must contain\n",
      " |          a \"text\" flag.\n",
      " |      hovertextsrc\n",
      " |          Sets the source reference on Chart Studio Cloud for\n",
      " |          `hovertext`.\n",
      " |      ids\n",
      " |          Assigns id labels to each datum. These ids for object\n",
      " |          constancy of data points during animation. Should be an\n",
      " |          array of strings, not numbers or any other type.\n",
      " |      idssrc\n",
      " |          Sets the source reference on Chart Studio Cloud for\n",
      " |          `ids`.\n",
      " |      legend\n",
      " |          Sets the reference to a legend to show this trace in.\n",
      " |          References to these legends are \"legend\", \"legend2\",\n",
      " |          \"legend3\", etc. Settings for these legends are set in\n",
      " |          the layout, under `layout.legend`, `layout.legend2`,\n",
      " |          etc.\n",
      " |      legendgroup\n",
      " |          Sets the legend group for this trace. Traces and shapes\n",
      " |          part of the same legend group hide/show at the same\n",
      " |          time when toggling legend items.\n",
      " |      legendgrouptitle\n",
      " |          :class:`plotly.graph_objects.scatter.Legendgrouptitle`\n",
      " |          instance or dict with compatible properties\n",
      " |      legendrank\n",
      " |          Sets the legend rank for this trace. Items and groups\n",
      " |          with smaller ranks are presented on top/left side while\n",
      " |          with \"reversed\" `legend.traceorder` they are on\n",
      " |          bottom/right side. The default legendrank is 1000, so\n",
      " |          that you can use ranks less than 1000 to place certain\n",
      " |          items before all unranked items, and ranks greater than\n",
      " |          1000 to go after all unranked items. When having\n",
      " |          unranked or equal rank items shapes would be displayed\n",
      " |          after traces i.e. according to their order in data and\n",
      " |          layout.\n",
      " |      legendwidth\n",
      " |          Sets the width (in px or fraction) of the legend for\n",
      " |          this trace.\n",
      " |      line\n",
      " |          :class:`plotly.graph_objects.scatter.Line` instance or\n",
      " |          dict with compatible properties\n",
      " |      marker\n",
      " |          :class:`plotly.graph_objects.scatter.Marker` instance\n",
      " |          or dict with compatible properties\n",
      " |      meta\n",
      " |          Assigns extra meta information associated with this\n",
      " |          trace that can be used in various text attributes.\n",
      " |          Attributes such as trace `name`, graph, axis and\n",
      " |          colorbar `title.text`, annotation `text`\n",
      " |          `rangeselector`, `updatemenues` and `sliders` `label`\n",
      " |          text all support `meta`. To access the trace `meta`\n",
      " |          values in an attribute in the same trace, simply use\n",
      " |          `%{meta[i]}` where `i` is the index or key of the\n",
      " |          `meta` item in question. To access trace `meta` in\n",
      " |          layout attributes, use `%{data[n[.meta[i]}` where `i`\n",
      " |          is the index or key of the `meta` and `n` is the trace\n",
      " |          index.\n",
      " |      metasrc\n",
      " |          Sets the source reference on Chart Studio Cloud for\n",
      " |          `meta`.\n",
      " |      mode\n",
      " |          Determines the drawing mode for this scatter trace. If\n",
      " |          the provided `mode` includes \"text\" then the `text`\n",
      " |          elements appear at the coordinates. Otherwise, the\n",
      " |          `text` elements appear on hover. If there are less than\n",
      " |          20 points and the trace is not stacked then the default\n",
      " |          is \"lines+markers\". Otherwise, \"lines\".\n",
      " |      name\n",
      " |          Sets the trace name. The trace name appears as the\n",
      " |          legend item and on hover.\n",
      " |      offsetgroup\n",
      " |          Set several traces linked to the same position axis or\n",
      " |          matching axes to the same offsetgroup where bars of the\n",
      " |          same position coordinate will line up.\n",
      " |      opacity\n",
      " |          Sets the opacity of the trace.\n",
      " |      orientation\n",
      " |          Only relevant in the following cases: 1. when\n",
      " |          `scattermode` is set to \"group\". 2. when `stackgroup`\n",
      " |          is used, and only the first `orientation` found in the\n",
      " |          `stackgroup` will be used - including if `visible` is\n",
      " |          \"legendonly\" but not if it is `false`. Sets the\n",
      " |          stacking direction. With \"v\" (\"h\"), the y (x) values of\n",
      " |          subsequent traces are added. Also affects the default\n",
      " |          value of `fill`.\n",
      " |      selected\n",
      " |          :class:`plotly.graph_objects.scatter.Selected` instance\n",
      " |          or dict with compatible properties\n",
      " |      selectedpoints\n",
      " |          Array containing integer indices of selected points.\n",
      " |          Has an effect only for traces that support selections.\n",
      " |          Note that an empty array means an empty selection where\n",
      " |          the `unselected` are turned on for all points, whereas,\n",
      " |          any other non-array values means no selection all where\n",
      " |          the `selected` and `unselected` styles have no effect.\n",
      " |      showlegend\n",
      " |          Determines whether or not an item corresponding to this\n",
      " |          trace is shown in the legend.\n",
      " |      stackgaps\n",
      " |          Only relevant when `stackgroup` is used, and only the\n",
      " |          first `stackgaps` found in the `stackgroup` will be\n",
      " |          used - including if `visible` is \"legendonly\" but not\n",
      " |          if it is `false`. Determines how we handle locations at\n",
      " |          which other traces in this group have data but this one\n",
      " |          does not. With *infer zero* we insert a zero at these\n",
      " |          locations. With \"interpolate\" we linearly interpolate\n",
      " |          between existing values, and extrapolate a constant\n",
      " |          beyond the existing values.\n",
      " |      stackgroup\n",
      " |          Set several scatter traces (on the same subplot) to the\n",
      " |          same stackgroup in order to add their y values (or\n",
      " |          their x values if `orientation` is \"h\"). If blank or\n",
      " |          omitted this trace will not be stacked. Stacking also\n",
      " |          turns `fill` on by default, using \"tonexty\" (\"tonextx\")\n",
      " |          if `orientation` is \"h\" (\"v\") and sets the default\n",
      " |          `mode` to \"lines\" irrespective of point count. You can\n",
      " |          only stack on a numeric (linear or log) axis. Traces in\n",
      " |          a `stackgroup` will only fill to (or be filled to)\n",
      " |          other traces in the same group. With multiple\n",
      " |          `stackgroup`s or some traces stacked and some not, if\n",
      " |          fill-linked traces are not already consecutive, the\n",
      " |          later ones will be pushed down in the drawing order.\n",
      " |      stream\n",
      " |          :class:`plotly.graph_objects.scatter.Stream` instance\n",
      " |          or dict with compatible properties\n",
      " |      text\n",
      " |          Sets text elements associated with each (x,y) pair. If\n",
      " |          a single string, the same string appears over all the\n",
      " |          data points. If an array of string, the items are\n",
      " |          mapped in order to the this trace's (x,y) coordinates.\n",
      " |          If trace `hoverinfo` contains a \"text\" flag and\n",
      " |          \"hovertext\" is not set, these elements will be seen in\n",
      " |          the hover labels.\n",
      " |      textfont\n",
      " |          Sets the text font.\n",
      " |      textposition\n",
      " |          Sets the positions of the `text` elements with respects\n",
      " |          to the (x,y) coordinates.\n",
      " |      textpositionsrc\n",
      " |          Sets the source reference on Chart Studio Cloud for\n",
      " |          `textposition`.\n",
      " |      textsrc\n",
      " |          Sets the source reference on Chart Studio Cloud for\n",
      " |          `text`.\n",
      " |      texttemplate\n",
      " |          Template string used for rendering the information text\n",
      " |          that appear on points. Note that this will override\n",
      " |          `textinfo`. Variables are inserted using %{variable},\n",
      " |          for example \"y: %{y}\". Numbers are formatted using\n",
      " |          d3-format's syntax %{variable:d3-format}, for example\n",
      " |          \"Price: %{y:$.2f}\".\n",
      " |          https://github.com/d3/d3-format/tree/v1.4.5#d3-format\n",
      " |          for details on the formatting syntax. Dates are\n",
      " |          formatted using d3-time-format's syntax\n",
      " |          %{variable|d3-time-format}, for example \"Day:\n",
      " |          %{2019-01-01|%A}\". https://github.com/d3/d3-time-\n",
      " |          format/tree/v2.2.3#locale_format for details on the\n",
      " |          date formatting syntax. Every attributes that can be\n",
      " |          specified per-point (the ones that are `arrayOk: true`)\n",
      " |          are available.\n",
      " |      texttemplatesrc\n",
      " |          Sets the source reference on Chart Studio Cloud for\n",
      " |          `texttemplate`.\n",
      " |      uid\n",
      " |          Assign an id to this trace, Use this to provide object\n",
      " |          constancy between traces during animations and\n",
      " |          transitions.\n",
      " |      uirevision\n",
      " |          Controls persistence of some user-driven changes to the\n",
      " |          trace: `constraintrange` in `parcoords` traces, as well\n",
      " |          as some `editable: true` modifications such as `name`\n",
      " |          and `colorbar.title`. Defaults to `layout.uirevision`.\n",
      " |          Note that other user-driven trace attribute changes are\n",
      " |          controlled by `layout` attributes: `trace.visible` is\n",
      " |          controlled by `layout.legend.uirevision`,\n",
      " |          `selectedpoints` is controlled by\n",
      " |          `layout.selectionrevision`, and `colorbar.(x|y)`\n",
      " |          (accessible with `config: {editable: true}`) is\n",
      " |          controlled by `layout.editrevision`. Trace changes are\n",
      " |          tracked by `uid`, which only falls back on trace index\n",
      " |          if no `uid` is provided. So if your app can add/remove\n",
      " |          traces before the end of the `data` array, such that\n",
      " |          the same trace has a different index, you can still\n",
      " |          preserve user-driven changes if you give each trace a\n",
      " |          `uid` that stays with it as it moves.\n",
      " |      unselected\n",
      " |          :class:`plotly.graph_objects.scatter.Unselected`\n",
      " |          instance or dict with compatible properties\n",
      " |      visible\n",
      " |          Determines whether or not this trace is visible. If\n",
      " |          \"legendonly\", the trace is not drawn, but can appear as\n",
      " |          a legend item (provided that the legend itself is\n",
      " |          visible).\n",
      " |      x\n",
      " |          Sets the x coordinates.\n",
      " |      x0\n",
      " |          Alternate to `x`. Builds a linear space of x\n",
      " |          coordinates. Use with `dx` where `x0` is the starting\n",
      " |          coordinate and `dx` the step.\n",
      " |      xaxis\n",
      " |          Sets a reference between this trace's x coordinates and\n",
      " |          a 2D cartesian x axis. If \"x\" (the default value), the\n",
      " |          x coordinates refer to `layout.xaxis`. If \"x2\", the x\n",
      " |          coordinates refer to `layout.xaxis2`, and so on.\n",
      " |      xcalendar\n",
      " |          Sets the calendar system to use with `x` date data.\n",
      " |      xhoverformat\n",
      " |          Sets the hover text formatting rulefor `x`  using d3\n",
      " |          formatting mini-languages which are very similar to\n",
      " |          those in Python. For numbers, see:\n",
      " |          https://github.com/d3/d3-format/tree/v1.4.5#d3-format.\n",
      " |          And for dates see: https://github.com/d3/d3-time-\n",
      " |          format/tree/v2.2.3#locale_format. We add two items to\n",
      " |          d3's date formatter: \"%h\" for half of the year as a\n",
      " |          decimal number as well as \"%{n}f\" for fractional\n",
      " |          seconds with n digits. For example, *2016-10-13\n",
      " |          09:15:23.456* with tickformat \"%H~%M~%S.%2f\" would\n",
      " |          display *09~15~23.46*By default the values are\n",
      " |          formatted using `xaxis.hoverformat`.\n",
      " |      xperiod\n",
      " |          Only relevant when the axis `type` is \"date\". Sets the\n",
      " |          period positioning in milliseconds or \"M<n>\" on the x\n",
      " |          axis. Special values in the form of \"M<n>\" could be\n",
      " |          used to declare the number of months. In this case `n`\n",
      " |          must be a positive integer.\n",
      " |      xperiod0\n",
      " |          Only relevant when the axis `type` is \"date\". Sets the\n",
      " |          base for period positioning in milliseconds or date\n",
      " |          string on the x0 axis. When `x0period` is round number\n",
      " |          of weeks, the `x0period0` by default would be on a\n",
      " |          Sunday i.e. 2000-01-02, otherwise it would be at\n",
      " |          2000-01-01.\n",
      " |      xperiodalignment\n",
      " |          Only relevant when the axis `type` is \"date\". Sets the\n",
      " |          alignment of data points on the x axis.\n",
      " |      xsrc\n",
      " |          Sets the source reference on Chart Studio Cloud for\n",
      " |          `x`.\n",
      " |      y\n",
      " |          Sets the y coordinates.\n",
      " |      y0\n",
      " |          Alternate to `y`. Builds a linear space of y\n",
      " |          coordinates. Use with `dy` where `y0` is the starting\n",
      " |          coordinate and `dy` the step.\n",
      " |      yaxis\n",
      " |          Sets a reference between this trace's y coordinates and\n",
      " |          a 2D cartesian y axis. If \"y\" (the default value), the\n",
      " |          y coordinates refer to `layout.yaxis`. If \"y2\", the y\n",
      " |          coordinates refer to `layout.yaxis2`, and so on.\n",
      " |      ycalendar\n",
      " |          Sets the calendar system to use with `y` date data.\n",
      " |      yhoverformat\n",
      " |          Sets the hover text formatting rulefor `y`  using d3\n",
      " |          formatting mini-languages which are very similar to\n",
      " |          those in Python. For numbers, see:\n",
      " |          https://github.com/d3/d3-format/tree/v1.4.5#d3-format.\n",
      " |          And for dates see: https://github.com/d3/d3-time-\n",
      " |          format/tree/v2.2.3#locale_format. We add two items to\n",
      " |          d3's date formatter: \"%h\" for half of the year as a\n",
      " |          decimal number as well as \"%{n}f\" for fractional\n",
      " |          seconds with n digits. For example, *2016-10-13\n",
      " |          09:15:23.456* with tickformat \"%H~%M~%S.%2f\" would\n",
      " |          display *09~15~23.46*By default the values are\n",
      " |          formatted using `yaxis.hoverformat`.\n",
      " |      yperiod\n",
      " |          Only relevant when the axis `type` is \"date\". Sets the\n",
      " |          period positioning in milliseconds or \"M<n>\" on the y\n",
      " |          axis. Special values in the form of \"M<n>\" could be\n",
      " |          used to declare the number of months. In this case `n`\n",
      " |          must be a positive integer.\n",
      " |      yperiod0\n",
      " |          Only relevant when the axis `type` is \"date\". Sets the\n",
      " |          base for period positioning in milliseconds or date\n",
      " |          string on the y0 axis. When `y0period` is round number\n",
      " |          of weeks, the `y0period0` by default would be on a\n",
      " |          Sunday i.e. 2000-01-02, otherwise it would be at\n",
      " |          2000-01-01.\n",
      " |      yperiodalignment\n",
      " |          Only relevant when the axis `type` is \"date\". Sets the\n",
      " |          alignment of data points on the y axis.\n",
      " |      ysrc\n",
      " |          Sets the source reference on Chart Studio Cloud for\n",
      " |          `y`.\n",
      " |      \n",
      " |      Returns\n",
      " |      -------\n",
      " |      Scatter\n",
      " |  \n",
      " |  ----------------------------------------------------------------------\n",
      " |  Readonly properties defined here:\n",
      " |  \n",
      " |  type\n",
      " |  \n",
      " |  ----------------------------------------------------------------------\n",
      " |  Data descriptors defined here:\n",
      " |  \n",
      " |  alignmentgroup\n",
      " |      Set several traces linked to the same position axis or matching\n",
      " |      axes to the same alignmentgroup. This controls whether bars\n",
      " |      compute their positional range dependently or independently.\n",
      " |      \n",
      " |      The 'alignmentgroup' property is a string and must be specified as:\n",
      " |        - A string\n",
      " |        - A number that will be converted to a string\n",
      " |      \n",
      " |      Returns\n",
      " |      -------\n",
      " |      str\n",
      " |  \n",
      " |  cliponaxis\n",
      " |      Determines whether or not markers and text nodes are clipped\n",
      " |      about the subplot axes. To show markers and text nodes above\n",
      " |      axis lines and tick labels, make sure to set `xaxis.layer` and\n",
      " |      `yaxis.layer` to *below traces*.\n",
      " |      \n",
      " |      The 'cliponaxis' property must be specified as a bool\n",
      " |      (either True, or False)\n",
      " |      \n",
      " |      Returns\n",
      " |      -------\n",
      " |      bool\n",
      " |  \n",
      " |  connectgaps\n",
      " |      Determines whether or not gaps (i.e. {nan} or missing values)\n",
      " |      in the provided data arrays are connected.\n",
      " |      \n",
      " |      The 'connectgaps' property must be specified as a bool\n",
      " |      (either True, or False)\n",
      " |      \n",
      " |      Returns\n",
      " |      -------\n",
      " |      bool\n",
      " |  \n",
      " |  customdata\n",
      " |      Assigns extra data each datum. This may be useful when\n",
      " |      listening to hover, click and selection events. Note that,\n",
      " |      \"scatter\" traces also appends customdata items in the markers\n",
      " |      DOM elements\n",
      " |      \n",
      " |      The 'customdata' property is an array that may be specified as a tuple,\n",
      " |      list, numpy array, or pandas Series\n",
      " |      \n",
      " |      Returns\n",
      " |      -------\n",
      " |      numpy.ndarray\n",
      " |  \n",
      " |  customdatasrc\n",
      " |      Sets the source reference on Chart Studio Cloud for\n",
      " |      `customdata`.\n",
      " |      \n",
      " |      The 'customdatasrc' property must be specified as a string or\n",
      " |      as a plotly.grid_objs.Column object\n",
      " |      \n",
      " |      Returns\n",
      " |      -------\n",
      " |      str\n",
      " |  \n",
      " |  dx\n",
      " |      Sets the x coordinate step. See `x0` for more info.\n",
      " |      \n",
      " |      The 'dx' property is a number and may be specified as:\n",
      " |        - An int or float\n",
      " |      \n",
      " |      Returns\n",
      " |      -------\n",
      " |      int|float\n",
      " |  \n",
      " |  dy\n",
      " |      Sets the y coordinate step. See `y0` for more info.\n",
      " |      \n",
      " |      The 'dy' property is a number and may be specified as:\n",
      " |        - An int or float\n",
      " |      \n",
      " |      Returns\n",
      " |      -------\n",
      " |      int|float\n",
      " |  \n",
      " |  error_x\n",
      " |      The 'error_x' property is an instance of ErrorX\n",
      " |      that may be specified as:\n",
      " |        - An instance of :class:`plotly.graph_objs.scatter.ErrorX`\n",
      " |        - A dict of string/value properties that will be passed\n",
      " |          to the ErrorX constructor\n",
      " |      \n",
      " |          Supported dict properties:\n",
      " |      \n",
      " |              array\n",
      " |                  Sets the data corresponding the length of each\n",
      " |                  error bar. Values are plotted relative to the\n",
      " |                  underlying data.\n",
      " |              arrayminus\n",
      " |                  Sets the data corresponding the length of each\n",
      " |                  error bar in the bottom (left) direction for\n",
      " |                  vertical (horizontal) bars Values are plotted\n",
      " |                  relative to the underlying data.\n",
      " |              arrayminussrc\n",
      " |                  Sets the source reference on Chart Studio Cloud\n",
      " |                  for `arrayminus`.\n",
      " |              arraysrc\n",
      " |                  Sets the source reference on Chart Studio Cloud\n",
      " |                  for `array`.\n",
      " |              color\n",
      " |                  Sets the stoke color of the error bars.\n",
      " |              copy_ystyle\n",
      " |      \n",
      " |              symmetric\n",
      " |                  Determines whether or not the error bars have\n",
      " |                  the same length in both direction (top/bottom\n",
      " |                  for vertical bars, left/right for horizontal\n",
      " |                  bars.\n",
      " |              thickness\n",
      " |                  Sets the thickness (in px) of the error bars.\n",
      " |              traceref\n",
      " |      \n",
      " |              tracerefminus\n",
      " |      \n",
      " |              type\n",
      " |                  Determines the rule used to generate the error\n",
      " |                  bars. If *constant`, the bar lengths are of a\n",
      " |                  constant value. Set this constant in `value`.\n",
      " |                  If \"percent\", the bar lengths correspond to a\n",
      " |                  percentage of underlying data. Set this\n",
      " |                  percentage in `value`. If \"sqrt\", the bar\n",
      " |                  lengths correspond to the square of the\n",
      " |                  underlying data. If \"data\", the bar lengths are\n",
      " |                  set with data set `array`.\n",
      " |              value\n",
      " |                  Sets the value of either the percentage (if\n",
      " |                  `type` is set to \"percent\") or the constant (if\n",
      " |                  `type` is set to \"constant\") corresponding to\n",
      " |                  the lengths of the error bars.\n",
      " |              valueminus\n",
      " |                  Sets the value of either the percentage (if\n",
      " |                  `type` is set to \"percent\") or the constant (if\n",
      " |                  `type` is set to \"constant\") corresponding to\n",
      " |                  the lengths of the error bars in the bottom\n",
      " |                  (left) direction for vertical (horizontal) bars\n",
      " |              visible\n",
      " |                  Determines whether or not this set of error\n",
      " |                  bars is visible.\n",
      " |              width\n",
      " |                  Sets the width (in px) of the cross-bar at both\n",
      " |                  ends of the error bars.\n",
      " |      \n",
      " |      Returns\n",
      " |      -------\n",
      " |      plotly.graph_objs.scatter.ErrorX\n",
      " |  \n",
      " |  error_y\n",
      " |      The 'error_y' property is an instance of ErrorY\n",
      " |      that may be specified as:\n",
      " |        - An instance of :class:`plotly.graph_objs.scatter.ErrorY`\n",
      " |        - A dict of string/value properties that will be passed\n",
      " |          to the ErrorY constructor\n",
      " |      \n",
      " |          Supported dict properties:\n",
      " |      \n",
      " |              array\n",
      " |                  Sets the data corresponding the length of each\n",
      " |                  error bar. Values are plotted relative to the\n",
      " |                  underlying data.\n",
      " |              arrayminus\n",
      " |                  Sets the data corresponding the length of each\n",
      " |                  error bar in the bottom (left) direction for\n",
      " |                  vertical (horizontal) bars Values are plotted\n",
      " |                  relative to the underlying data.\n",
      " |              arrayminussrc\n",
      " |                  Sets the source reference on Chart Studio Cloud\n",
      " |                  for `arrayminus`.\n",
      " |              arraysrc\n",
      " |                  Sets the source reference on Chart Studio Cloud\n",
      " |                  for `array`.\n",
      " |              color\n",
      " |                  Sets the stoke color of the error bars.\n",
      " |              symmetric\n",
      " |                  Determines whether or not the error bars have\n",
      " |                  the same length in both direction (top/bottom\n",
      " |                  for vertical bars, left/right for horizontal\n",
      " |                  bars.\n",
      " |              thickness\n",
      " |                  Sets the thickness (in px) of the error bars.\n",
      " |              traceref\n",
      " |      \n",
      " |              tracerefminus\n",
      " |      \n",
      " |              type\n",
      " |                  Determines the rule used to generate the error\n",
      " |                  bars. If *constant`, the bar lengths are of a\n",
      " |                  constant value. Set this constant in `value`.\n",
      " |                  If \"percent\", the bar lengths correspond to a\n",
      " |                  percentage of underlying data. Set this\n",
      " |                  percentage in `value`. If \"sqrt\", the bar\n",
      " |                  lengths correspond to the square of the\n",
      " |                  underlying data. If \"data\", the bar lengths are\n",
      " |                  set with data set `array`.\n",
      " |              value\n",
      " |                  Sets the value of either the percentage (if\n",
      " |                  `type` is set to \"percent\") or the constant (if\n",
      " |                  `type` is set to \"constant\") corresponding to\n",
      " |                  the lengths of the error bars.\n",
      " |              valueminus\n",
      " |                  Sets the value of either the percentage (if\n",
      " |                  `type` is set to \"percent\") or the constant (if\n",
      " |                  `type` is set to \"constant\") corresponding to\n",
      " |                  the lengths of the error bars in the bottom\n",
      " |                  (left) direction for vertical (horizontal) bars\n",
      " |              visible\n",
      " |                  Determines whether or not this set of error\n",
      " |                  bars is visible.\n",
      " |              width\n",
      " |                  Sets the width (in px) of the cross-bar at both\n",
      " |                  ends of the error bars.\n",
      " |      \n",
      " |      Returns\n",
      " |      -------\n",
      " |      plotly.graph_objs.scatter.ErrorY\n",
      " |  \n",
      " |  fill\n",
      " |      Sets the area to fill with a solid color. Defaults to \"none\"\n",
      " |      unless this trace is stacked, then it gets \"tonexty\"\n",
      " |      (\"tonextx\") if `orientation` is \"v\" (\"h\") Use with `fillcolor`\n",
      " |      if not \"none\". \"tozerox\" and \"tozeroy\" fill to x=0 and y=0\n",
      " |      respectively. \"tonextx\" and \"tonexty\" fill between the\n",
      " |      endpoints of this trace and the endpoints of the trace before\n",
      " |      it, connecting those endpoints with straight lines (to make a\n",
      " |      stacked area graph); if there is no trace before it, they\n",
      " |      behave like \"tozerox\" and \"tozeroy\". \"toself\" connects the\n",
      " |      endpoints of the trace (or each segment of the trace if it has\n",
      " |      gaps) into a closed shape. \"tonext\" fills the space between two\n",
      " |      traces if one completely encloses the other (eg consecutive\n",
      " |      contour lines), and behaves like \"toself\" if there is no trace\n",
      " |      before it. \"tonext\" should not be used if one trace does not\n",
      " |      enclose the other. Traces in a `stackgroup` will only fill to\n",
      " |      (or be filled to) other traces in the same group. With multiple\n",
      " |      `stackgroup`s or some traces stacked and some not, if fill-\n",
      " |      linked traces are not already consecutive, the later ones will\n",
      " |      be pushed down in the drawing order.\n",
      " |      \n",
      " |      The 'fill' property is an enumeration that may be specified as:\n",
      " |        - One of the following enumeration values:\n",
      " |              ['none', 'tozeroy', 'tozerox', 'tonexty', 'tonextx',\n",
      " |              'toself', 'tonext']\n",
      " |      \n",
      " |      Returns\n",
      " |      -------\n",
      " |      Any\n",
      " |  \n",
      " |  fillcolor\n",
      " |      Sets the fill color. Defaults to a half-transparent variant of\n",
      " |      the line color, marker color, or marker line color, whichever\n",
      " |      is available.\n",
      " |      \n",
      " |      The 'fillcolor' property is a color and may be specified as:\n",
      " |        - A hex string (e.g. '#ff0000')\n",
      " |        - An rgb/rgba string (e.g. 'rgb(255,0,0)')\n",
      " |        - An hsl/hsla string (e.g. 'hsl(0,100%,50%)')\n",
      " |        - An hsv/hsva string (e.g. 'hsv(0,100%,100%)')\n",
      " |        - A named CSS color:\n",
      " |              aliceblue, antiquewhite, aqua, aquamarine, azure,\n",
      " |              beige, bisque, black, blanchedalmond, blue,\n",
      " |              blueviolet, brown, burlywood, cadetblue,\n",
      " |              chartreuse, chocolate, coral, cornflowerblue,\n",
      " |              cornsilk, crimson, cyan, darkblue, darkcyan,\n",
      " |              darkgoldenrod, darkgray, darkgrey, darkgreen,\n",
      " |              darkkhaki, darkmagenta, darkolivegreen, darkorange,\n",
      " |              darkorchid, darkred, darksalmon, darkseagreen,\n",
      " |              darkslateblue, darkslategray, darkslategrey,\n",
      " |              darkturquoise, darkviolet, deeppink, deepskyblue,\n",
      " |              dimgray, dimgrey, dodgerblue, firebrick,\n",
      " |              floralwhite, forestgreen, fuchsia, gainsboro,\n",
      " |              ghostwhite, gold, goldenrod, gray, grey, green,\n",
      " |              greenyellow, honeydew, hotpink, indianred, indigo,\n",
      " |              ivory, khaki, lavender, lavenderblush, lawngreen,\n",
      " |              lemonchiffon, lightblue, lightcoral, lightcyan,\n",
      " |              lightgoldenrodyellow, lightgray, lightgrey,\n",
      " |              lightgreen, lightpink, lightsalmon, lightseagreen,\n",
      " |              lightskyblue, lightslategray, lightslategrey,\n",
      " |              lightsteelblue, lightyellow, lime, limegreen,\n",
      " |              linen, magenta, maroon, mediumaquamarine,\n",
      " |              mediumblue, mediumorchid, mediumpurple,\n",
      " |              mediumseagreen, mediumslateblue, mediumspringgreen,\n",
      " |              mediumturquoise, mediumvioletred, midnightblue,\n",
      " |              mintcream, mistyrose, moccasin, navajowhite, navy,\n",
      " |              oldlace, olive, olivedrab, orange, orangered,\n",
      " |              orchid, palegoldenrod, palegreen, paleturquoise,\n",
      " |              palevioletred, papayawhip, peachpuff, peru, pink,\n",
      " |              plum, powderblue, purple, red, rosybrown,\n",
      " |              royalblue, rebeccapurple, saddlebrown, salmon,\n",
      " |              sandybrown, seagreen, seashell, sienna, silver,\n",
      " |              skyblue, slateblue, slategray, slategrey, snow,\n",
      " |              springgreen, steelblue, tan, teal, thistle, tomato,\n",
      " |              turquoise, violet, wheat, white, whitesmoke,\n",
      " |              yellow, yellowgreen\n",
      " |      \n",
      " |      Returns\n",
      " |      -------\n",
      " |      str\n",
      " |  \n",
      " |  fillpattern\n",
      " |      Sets the pattern within the marker.\n",
      " |      \n",
      " |      The 'fillpattern' property is an instance of Fillpattern\n",
      " |      that may be specified as:\n",
      " |        - An instance of :class:`plotly.graph_objs.scatter.Fillpattern`\n",
      " |        - A dict of string/value properties that will be passed\n",
      " |          to the Fillpattern constructor\n",
      " |      \n",
      " |          Supported dict properties:\n",
      " |      \n",
      " |              bgcolor\n",
      " |                  When there is no colorscale sets the color of\n",
      " |                  background pattern fill. Defaults to a\n",
      " |                  `marker.color` background when `fillmode` is\n",
      " |                  \"overlay\". Otherwise, defaults to a transparent\n",
      " |                  background.\n",
      " |              bgcolorsrc\n",
      " |                  Sets the source reference on Chart Studio Cloud\n",
      " |                  for `bgcolor`.\n",
      " |              fgcolor\n",
      " |                  When there is no colorscale sets the color of\n",
      " |                  foreground pattern fill. Defaults to a\n",
      " |                  `marker.color` background when `fillmode` is\n",
      " |                  \"replace\". Otherwise, defaults to dark grey or\n",
      " |                  white to increase contrast with the `bgcolor`.\n",
      " |              fgcolorsrc\n",
      " |                  Sets the source reference on Chart Studio Cloud\n",
      " |                  for `fgcolor`.\n",
      " |              fgopacity\n",
      " |                  Sets the opacity of the foreground pattern\n",
      " |                  fill. Defaults to a 0.5 when `fillmode` is\n",
      " |                  \"overlay\". Otherwise, defaults to 1.\n",
      " |              fillmode\n",
      " |                  Determines whether `marker.color` should be\n",
      " |                  used as a default to `bgcolor` or a `fgcolor`.\n",
      " |              shape\n",
      " |                  Sets the shape of the pattern fill. By default,\n",
      " |                  no pattern is used for filling the area.\n",
      " |              shapesrc\n",
      " |                  Sets the source reference on Chart Studio Cloud\n",
      " |                  for `shape`.\n",
      " |              size\n",
      " |                  Sets the size of unit squares of the pattern\n",
      " |                  fill in pixels, which corresponds to the\n",
      " |                  interval of repetition of the pattern.\n",
      " |              sizesrc\n",
      " |                  Sets the source reference on Chart Studio Cloud\n",
      " |                  for `size`.\n",
      " |              solidity\n",
      " |                  Sets the solidity of the pattern fill. Solidity\n",
      " |                  is roughly the fraction of the area filled by\n",
      " |                  the pattern. Solidity of 0 shows only the\n",
      " |                  background color without pattern and solidty of\n",
      " |                  1 shows only the foreground color without\n",
      " |                  pattern.\n",
      " |              soliditysrc\n",
      " |                  Sets the source reference on Chart Studio Cloud\n",
      " |                  for `solidity`.\n",
      " |      \n",
      " |      Returns\n",
      " |      -------\n",
      " |      plotly.graph_objs.scatter.Fillpattern\n",
      " |  \n",
      " |  groupnorm\n",
      " |      Only relevant when `stackgroup` is used, and only the first\n",
      " |      `groupnorm` found in the `stackgroup` will be used - including\n",
      " |      if `visible` is \"legendonly\" but not if it is `false`. Sets the\n",
      " |      normalization for the sum of this `stackgroup`. With\n",
      " |      \"fraction\", the value of each trace at each location is divided\n",
      " |      by the sum of all trace values at that location. \"percent\" is\n",
      " |      the same but multiplied by 100 to show percentages. If there\n",
      " |      are multiple subplots, or multiple `stackgroup`s on one\n",
      " |      subplot, each will be normalized within its own set.\n",
      " |      \n",
      " |      The 'groupnorm' property is an enumeration that may be specified as:\n",
      " |        - One of the following enumeration values:\n",
      " |              ['', 'fraction', 'percent']\n",
      " |      \n",
      " |      Returns\n",
      " |      -------\n",
      " |      Any\n",
      " |  \n",
      " |  hoverinfo\n",
      " |      Determines which trace information appear on hover. If `none`\n",
      " |      or `skip` are set, no information is displayed upon hovering.\n",
      " |      But, if `none` is set, click and hover events are still fired.\n",
      " |      \n",
      " |      The 'hoverinfo' property is a flaglist and may be specified\n",
      " |      as a string containing:\n",
      " |        - Any combination of ['x', 'y', 'z', 'text', 'name'] joined with '+' characters\n",
      " |          (e.g. 'x+y')\n",
      " |          OR exactly one of ['all', 'none', 'skip'] (e.g. 'skip')\n",
      " |        - A list or array of the above\n",
      " |      \n",
      " |      Returns\n",
      " |      -------\n",
      " |      Any|numpy.ndarray\n",
      " |  \n",
      " |  hoverinfosrc\n",
      " |      Sets the source reference on Chart Studio Cloud for\n",
      " |      `hoverinfo`.\n",
      " |      \n",
      " |      The 'hoverinfosrc' property must be specified as a string or\n",
      " |      as a plotly.grid_objs.Column object\n",
      " |      \n",
      " |      Returns\n",
      " |      -------\n",
      " |      str\n",
      " |  \n",
      " |  hoverlabel\n",
      " |      The 'hoverlabel' property is an instance of Hoverlabel\n",
      " |      that may be specified as:\n",
      " |        - An instance of :class:`plotly.graph_objs.scatter.Hoverlabel`\n",
      " |        - A dict of string/value properties that will be passed\n",
      " |          to the Hoverlabel constructor\n",
      " |      \n",
      " |          Supported dict properties:\n",
      " |      \n",
      " |              align\n",
      " |                  Sets the horizontal alignment of the text\n",
      " |                  content within hover label box. Has an effect\n",
      " |                  only if the hover label text spans more two or\n",
      " |                  more lines\n",
      " |              alignsrc\n",
      " |                  Sets the source reference on Chart Studio Cloud\n",
      " |                  for `align`.\n",
      " |              bgcolor\n",
      " |                  Sets the background color of the hover labels\n",
      " |                  for this trace\n",
      " |              bgcolorsrc\n",
      " |                  Sets the source reference on Chart Studio Cloud\n",
      " |                  for `bgcolor`.\n",
      " |              bordercolor\n",
      " |                  Sets the border color of the hover labels for\n",
      " |                  this trace.\n",
      " |              bordercolorsrc\n",
      " |                  Sets the source reference on Chart Studio Cloud\n",
      " |                  for `bordercolor`.\n",
      " |              font\n",
      " |                  Sets the font used in hover labels.\n",
      " |              namelength\n",
      " |                  Sets the default length (in number of\n",
      " |                  characters) of the trace name in the hover\n",
      " |                  labels for all traces. -1 shows the whole name\n",
      " |                  regardless of length. 0-3 shows the first 0-3\n",
      " |                  characters, and an integer >3 will show the\n",
      " |                  whole name if it is less than that many\n",
      " |                  characters, but if it is longer, will truncate\n",
      " |                  to `namelength - 3` characters and add an\n",
      " |                  ellipsis.\n",
      " |              namelengthsrc\n",
      " |                  Sets the source reference on Chart Studio Cloud\n",
      " |                  for `namelength`.\n",
      " |      \n",
      " |      Returns\n",
      " |      -------\n",
      " |      plotly.graph_objs.scatter.Hoverlabel\n",
      " |  \n",
      " |  hoveron\n",
      " |      Do the hover effects highlight individual points (markers or\n",
      " |      line points) or do they highlight filled regions? If the fill\n",
      " |      is \"toself\" or \"tonext\" and there are no markers or text, then\n",
      " |      the default is \"fills\", otherwise it is \"points\".\n",
      " |      \n",
      " |      The 'hoveron' property is a flaglist and may be specified\n",
      " |      as a string containing:\n",
      " |        - Any combination of ['points', 'fills'] joined with '+' characters\n",
      " |          (e.g. 'points+fills')\n",
      " |      \n",
      " |      Returns\n",
      " |      -------\n",
      " |      Any\n",
      " |  \n",
      " |  hovertemplate\n",
      " |      Template string used for rendering the information that appear\n",
      " |      on hover box. Note that this will override `hoverinfo`.\n",
      " |      Variables are inserted using %{variable}, for example \"y: %{y}\"\n",
      " |      as well as %{xother}, {%_xother}, {%_xother_}, {%xother_}. When\n",
      " |      showing info for several points, \"xother\" will be added to\n",
      " |      those with different x positions from the first point. An\n",
      " |      underscore before or after \"(x|y)other\" will add a space on\n",
      " |      that side, only when this field is shown. Numbers are formatted\n",
      " |      using d3-format's syntax %{variable:d3-format}, for example\n",
      " |      \"Price: %{y:$.2f}\".\n",
      " |      https://github.com/d3/d3-format/tree/v1.4.5#d3-format for\n",
      " |      details on the formatting syntax. Dates are formatted using\n",
      " |      d3-time-format's syntax %{variable|d3-time-format}, for example\n",
      " |      \"Day: %{2019-01-01|%A}\". https://github.com/d3/d3-time-\n",
      " |      format/tree/v2.2.3#locale_format for details on the date\n",
      " |      formatting syntax. The variables available in `hovertemplate`\n",
      " |      are the ones emitted as event data described at this link\n",
      " |      https://plotly.com/javascript/plotlyjs-events/#event-data.\n",
      " |      Additionally, every attributes that can be specified per-point\n",
      " |      (the ones that are `arrayOk: true`) are available.  Anything\n",
      " |      contained in tag `<extra>` is displayed in the secondary box,\n",
      " |      for example \"<extra>{fullData.name}</extra>\". To hide the\n",
      " |      secondary box completely, use an empty tag `<extra></extra>`.\n",
      " |      \n",
      " |      The 'hovertemplate' property is a string and must be specified as:\n",
      " |        - A string\n",
      " |        - A number that will be converted to a string\n",
      " |        - A tuple, list, or one-dimensional numpy array of the above\n",
      " |      \n",
      " |      Returns\n",
      " |      -------\n",
      " |      str|numpy.ndarray\n",
      " |  \n",
      " |  hovertemplatesrc\n",
      " |      Sets the source reference on Chart Studio Cloud for\n",
      " |      `hovertemplate`.\n",
      " |      \n",
      " |      The 'hovertemplatesrc' property must be specified as a string or\n",
      " |      as a plotly.grid_objs.Column object\n",
      " |      \n",
      " |      Returns\n",
      " |      -------\n",
      " |      str\n",
      " |  \n",
      " |  hovertext\n",
      " |      Sets hover text elements associated with each (x,y) pair. If a\n",
      " |      single string, the same string appears over all the data\n",
      " |      points. If an array of string, the items are mapped in order to\n",
      " |      the this trace's (x,y) coordinates. To be seen, trace\n",
      " |      `hoverinfo` must contain a \"text\" flag.\n",
      " |      \n",
      " |      The 'hovertext' property is a string and must be specified as:\n",
      " |        - A string\n",
      " |        - A number that will be converted to a string\n",
      " |        - A tuple, list, or one-dimensional numpy array of the above\n",
      " |      \n",
      " |      Returns\n",
      " |      -------\n",
      " |      str|numpy.ndarray\n",
      " |  \n",
      " |  hovertextsrc\n",
      " |      Sets the source reference on Chart Studio Cloud for\n",
      " |      `hovertext`.\n",
      " |      \n",
      " |      The 'hovertextsrc' property must be specified as a string or\n",
      " |      as a plotly.grid_objs.Column object\n",
      " |      \n",
      " |      Returns\n",
      " |      -------\n",
      " |      str\n",
      " |  \n",
      " |  ids\n",
      " |      Assigns id labels to each datum. These ids for object constancy\n",
      " |      of data points during animation. Should be an array of strings,\n",
      " |      not numbers or any other type.\n",
      " |      \n",
      " |      The 'ids' property is an array that may be specified as a tuple,\n",
      " |      list, numpy array, or pandas Series\n",
      " |      \n",
      " |      Returns\n",
      " |      -------\n",
      " |      numpy.ndarray\n",
      " |  \n",
      " |  idssrc\n",
      " |      Sets the source reference on Chart Studio Cloud for `ids`.\n",
      " |      \n",
      " |      The 'idssrc' property must be specified as a string or\n",
      " |      as a plotly.grid_objs.Column object\n",
      " |      \n",
      " |      Returns\n",
      " |      -------\n",
      " |      str\n",
      " |  \n",
      " |  legend\n",
      " |      Sets the reference to a legend to show this trace in.\n",
      " |      References to these legends are \"legend\", \"legend2\", \"legend3\",\n",
      " |      etc. Settings for these legends are set in the layout, under\n",
      " |      `layout.legend`, `layout.legend2`, etc.\n",
      " |      \n",
      " |      The 'legend' property is an identifier of a particular\n",
      " |      subplot, of type 'legend', that may be specified as the string 'legend'\n",
      " |      optionally followed by an integer >= 1\n",
      " |      (e.g. 'legend', 'legend1', 'legend2', 'legend3', etc.)\n",
      " |      \n",
      " |      Returns\n",
      " |      -------\n",
      " |      str\n",
      " |  \n",
      " |  legendgroup\n",
      " |      Sets the legend group for this trace. Traces and shapes part of\n",
      " |      the same legend group hide/show at the same time when toggling\n",
      " |      legend items.\n",
      " |      \n",
      " |      The 'legendgroup' property is a string and must be specified as:\n",
      " |        - A string\n",
      " |        - A number that will be converted to a string\n",
      " |      \n",
      " |      Returns\n",
      " |      -------\n",
      " |      str\n",
      " |  \n",
      " |  legendgrouptitle\n",
      " |      The 'legendgrouptitle' property is an instance of Legendgrouptitle\n",
      " |      that may be specified as:\n",
      " |        - An instance of :class:`plotly.graph_objs.scatter.Legendgrouptitle`\n",
      " |        - A dict of string/value properties that will be passed\n",
      " |          to the Legendgrouptitle constructor\n",
      " |      \n",
      " |          Supported dict properties:\n",
      " |      \n",
      " |              font\n",
      " |                  Sets this legend group's title font.\n",
      " |              text\n",
      " |                  Sets the title of the legend group.\n",
      " |      \n",
      " |      Returns\n",
      " |      -------\n",
      " |      plotly.graph_objs.scatter.Legendgrouptitle\n",
      " |  \n",
      " |  legendrank\n",
      " |      Sets the legend rank for this trace. Items and groups with\n",
      " |      smaller ranks are presented on top/left side while with\n",
      " |      \"reversed\" `legend.traceorder` they are on bottom/right side.\n",
      " |      The default legendrank is 1000, so that you can use ranks less\n",
      " |      than 1000 to place certain items before all unranked items, and\n",
      " |      ranks greater than 1000 to go after all unranked items. When\n",
      " |      having unranked or equal rank items shapes would be displayed\n",
      " |      after traces i.e. according to their order in data and layout.\n",
      " |      \n",
      " |      The 'legendrank' property is a number and may be specified as:\n",
      " |        - An int or float\n",
      " |      \n",
      " |      Returns\n",
      " |      -------\n",
      " |      int|float\n",
      " |  \n",
      " |  legendwidth\n",
      " |      Sets the width (in px or fraction) of the legend for this\n",
      " |      trace.\n",
      " |      \n",
      " |      The 'legendwidth' property is a number and may be specified as:\n",
      " |        - An int or float in the interval [0, inf]\n",
      " |      \n",
      " |      Returns\n",
      " |      -------\n",
      " |      int|float\n",
      " |  \n",
      " |  line\n",
      " |      The 'line' property is an instance of Line\n",
      " |      that may be specified as:\n",
      " |        - An instance of :class:`plotly.graph_objs.scatter.Line`\n",
      " |        - A dict of string/value properties that will be passed\n",
      " |          to the Line constructor\n",
      " |      \n",
      " |          Supported dict properties:\n",
      " |      \n",
      " |              backoff\n",
      " |                  Sets the line back off from the end point of\n",
      " |                  the nth line segment (in px). This option is\n",
      " |                  useful e.g. to avoid overlap with arrowhead\n",
      " |                  markers. With \"auto\" the lines would trim\n",
      " |                  before markers if `marker.angleref` is set to\n",
      " |                  \"previous\".\n",
      " |              backoffsrc\n",
      " |                  Sets the source reference on Chart Studio Cloud\n",
      " |                  for `backoff`.\n",
      " |              color\n",
      " |                  Sets the line color.\n",
      " |              dash\n",
      " |                  Sets the dash style of lines. Set to a dash\n",
      " |                  type string (\"solid\", \"dot\", \"dash\",\n",
      " |                  \"longdash\", \"dashdot\", or \"longdashdot\") or a\n",
      " |                  dash length list in px (eg \"5px,10px,2px,2px\").\n",
      " |              shape\n",
      " |                  Determines the line shape. With \"spline\" the\n",
      " |                  lines are drawn using spline interpolation. The\n",
      " |                  other available values correspond to step-wise\n",
      " |                  line shapes.\n",
      " |              simplify\n",
      " |                  Simplifies lines by removing nearly-collinear\n",
      " |                  points. When transitioning lines, it may be\n",
      " |                  desirable to disable this so that the number of\n",
      " |                  points along the resulting SVG path is\n",
      " |                  unaffected.\n",
      " |              smoothing\n",
      " |                  Has an effect only if `shape` is set to\n",
      " |                  \"spline\" Sets the amount of smoothing. 0\n",
      " |                  corresponds to no smoothing (equivalent to a\n",
      " |                  \"linear\" shape).\n",
      " |              width\n",
      " |                  Sets the line width (in px).\n",
      " |      \n",
      " |      Returns\n",
      " |      -------\n",
      " |      plotly.graph_objs.scatter.Line\n",
      " |  \n",
      " |  marker\n",
      " |      The 'marker' property is an instance of Marker\n",
      " |      that may be specified as:\n",
      " |        - An instance of :class:`plotly.graph_objs.scatter.Marker`\n",
      " |        - A dict of string/value properties that will be passed\n",
      " |          to the Marker constructor\n",
      " |      \n",
      " |          Supported dict properties:\n",
      " |      \n",
      " |              angle\n",
      " |                  Sets the marker angle in respect to `angleref`.\n",
      " |              angleref\n",
      " |                  Sets the reference for marker angle. With\n",
      " |                  \"previous\", angle 0 points along the line from\n",
      " |                  the previous point to this one. With \"up\",\n",
      " |                  angle 0 points toward the top of the screen.\n",
      " |              anglesrc\n",
      " |                  Sets the source reference on Chart Studio Cloud\n",
      " |                  for `angle`.\n",
      " |              autocolorscale\n",
      " |                  Determines whether the colorscale is a default\n",
      " |                  palette (`autocolorscale: true`) or the palette\n",
      " |                  determined by `marker.colorscale`. Has an\n",
      " |                  effect only if in `marker.color` is set to a\n",
      " |                  numerical array. In case `colorscale` is\n",
      " |                  unspecified or `autocolorscale` is true, the\n",
      " |                  default palette will be chosen according to\n",
      " |                  whether numbers in the `color` array are all\n",
      " |                  positive, all negative or mixed.\n",
      " |              cauto\n",
      " |                  Determines whether or not the color domain is\n",
      " |                  computed with respect to the input data (here\n",
      " |                  in `marker.color`) or the bounds set in\n",
      " |                  `marker.cmin` and `marker.cmax` Has an effect\n",
      " |                  only if in `marker.color` is set to a numerical\n",
      " |                  array. Defaults to `false` when `marker.cmin`\n",
      " |                  and `marker.cmax` are set by the user.\n",
      " |              cmax\n",
      " |                  Sets the upper bound of the color domain. Has\n",
      " |                  an effect only if in `marker.color` is set to a\n",
      " |                  numerical array. Value should have the same\n",
      " |                  units as in `marker.color` and if set,\n",
      " |                  `marker.cmin` must be set as well.\n",
      " |              cmid\n",
      " |                  Sets the mid-point of the color domain by\n",
      " |                  scaling `marker.cmin` and/or `marker.cmax` to\n",
      " |                  be equidistant to this point. Has an effect\n",
      " |                  only if in `marker.color` is set to a numerical\n",
      " |                  array. Value should have the same units as in\n",
      " |                  `marker.color`. Has no effect when\n",
      " |                  `marker.cauto` is `false`.\n",
      " |              cmin\n",
      " |                  Sets the lower bound of the color domain. Has\n",
      " |                  an effect only if in `marker.color` is set to a\n",
      " |                  numerical array. Value should have the same\n",
      " |                  units as in `marker.color` and if set,\n",
      " |                  `marker.cmax` must be set as well.\n",
      " |              color\n",
      " |                  Sets the marker color. It accepts either a\n",
      " |                  specific color or an array of numbers that are\n",
      " |                  mapped to the colorscale relative to the max\n",
      " |                  and min values of the array or relative to\n",
      " |                  `marker.cmin` and `marker.cmax` if set.\n",
      " |              coloraxis\n",
      " |                  Sets a reference to a shared color axis.\n",
      " |                  References to these shared color axes are\n",
      " |                  \"coloraxis\", \"coloraxis2\", \"coloraxis3\", etc.\n",
      " |                  Settings for these shared color axes are set in\n",
      " |                  the layout, under `layout.coloraxis`,\n",
      " |                  `layout.coloraxis2`, etc. Note that multiple\n",
      " |                  color scales can be linked to the same color\n",
      " |                  axis.\n",
      " |              colorbar\n",
      " |                  :class:`plotly.graph_objects.scatter.marker.Col\n",
      " |                  orBar` instance or dict with compatible\n",
      " |                  properties\n",
      " |              colorscale\n",
      " |                  Sets the colorscale. Has an effect only if in\n",
      " |                  `marker.color` is set to a numerical array. The\n",
      " |                  colorscale must be an array containing arrays\n",
      " |                  mapping a normalized value to an rgb, rgba,\n",
      " |                  hex, hsl, hsv, or named color string. At\n",
      " |                  minimum, a mapping for the lowest (0) and\n",
      " |                  highest (1) values are required. For example,\n",
      " |                  `[[0, 'rgb(0,0,255)'], [1, 'rgb(255,0,0)']]`.\n",
      " |                  To control the bounds of the colorscale in\n",
      " |                  color space, use `marker.cmin` and\n",
      " |                  `marker.cmax`. Alternatively, `colorscale` may\n",
      " |                  be a palette name string of the following list:\n",
      " |                  Blackbody,Bluered,Blues,Cividis,Earth,Electric,\n",
      " |                  Greens,Greys,Hot,Jet,Picnic,Portland,Rainbow,Rd\n",
      " |                  Bu,Reds,Viridis,YlGnBu,YlOrRd.\n",
      " |              colorsrc\n",
      " |                  Sets the source reference on Chart Studio Cloud\n",
      " |                  for `color`.\n",
      " |              gradient\n",
      " |                  :class:`plotly.graph_objects.scatter.marker.Gra\n",
      " |                  dient` instance or dict with compatible\n",
      " |                  properties\n",
      " |              line\n",
      " |                  :class:`plotly.graph_objects.scatter.marker.Lin\n",
      " |                  e` instance or dict with compatible properties\n",
      " |              maxdisplayed\n",
      " |                  Sets a maximum number of points to be drawn on\n",
      " |                  the graph. 0 corresponds to no limit.\n",
      " |              opacity\n",
      " |                  Sets the marker opacity.\n",
      " |              opacitysrc\n",
      " |                  Sets the source reference on Chart Studio Cloud\n",
      " |                  for `opacity`.\n",
      " |              reversescale\n",
      " |                  Reverses the color mapping if true. Has an\n",
      " |                  effect only if in `marker.color` is set to a\n",
      " |                  numerical array. If true, `marker.cmin` will\n",
      " |                  correspond to the last color in the array and\n",
      " |                  `marker.cmax` will correspond to the first\n",
      " |                  color.\n",
      " |              showscale\n",
      " |                  Determines whether or not a colorbar is\n",
      " |                  displayed for this trace. Has an effect only if\n",
      " |                  in `marker.color` is set to a numerical array.\n",
      " |              size\n",
      " |                  Sets the marker size (in px).\n",
      " |              sizemin\n",
      " |                  Has an effect only if `marker.size` is set to a\n",
      " |                  numerical array. Sets the minimum size (in px)\n",
      " |                  of the rendered marker points.\n",
      " |              sizemode\n",
      " |                  Has an effect only if `marker.size` is set to a\n",
      " |                  numerical array. Sets the rule for which the\n",
      " |                  data in `size` is converted to pixels.\n",
      " |              sizeref\n",
      " |                  Has an effect only if `marker.size` is set to a\n",
      " |                  numerical array. Sets the scale factor used to\n",
      " |                  determine the rendered size of marker points.\n",
      " |                  Use with `sizemin` and `sizemode`.\n",
      " |              sizesrc\n",
      " |                  Sets the source reference on Chart Studio Cloud\n",
      " |                  for `size`.\n",
      " |              standoff\n",
      " |                  Moves the marker away from the data point in\n",
      " |                  the direction of `angle` (in px). This can be\n",
      " |                  useful for example if you have another marker\n",
      " |                  at this location and you want to point an\n",
      " |                  arrowhead marker at it.\n",
      " |              standoffsrc\n",
      " |                  Sets the source reference on Chart Studio Cloud\n",
      " |                  for `standoff`.\n",
      " |              symbol\n",
      " |                  Sets the marker symbol type. Adding 100 is\n",
      " |                  equivalent to appending \"-open\" to a symbol\n",
      " |                  name. Adding 200 is equivalent to appending\n",
      " |                  \"-dot\" to a symbol name. Adding 300 is\n",
      " |                  equivalent to appending \"-open-dot\" or \"dot-\n",
      " |                  open\" to a symbol name.\n",
      " |              symbolsrc\n",
      " |                  Sets the source reference on Chart Studio Cloud\n",
      " |                  for `symbol`.\n",
      " |      \n",
      " |      Returns\n",
      " |      -------\n",
      " |      plotly.graph_objs.scatter.Marker\n",
      " |  \n",
      " |  meta\n",
      " |      Assigns extra meta information associated with this trace that\n",
      " |      can be used in various text attributes. Attributes such as\n",
      " |      trace `name`, graph, axis and colorbar `title.text`, annotation\n",
      " |      `text` `rangeselector`, `updatemenues` and `sliders` `label`\n",
      " |      text all support `meta`. To access the trace `meta` values in\n",
      " |      an attribute in the same trace, simply use `%{meta[i]}` where\n",
      " |      `i` is the index or key of the `meta` item in question. To\n",
      " |      access trace `meta` in layout attributes, use\n",
      " |      `%{data[n[.meta[i]}` where `i` is the index or key of the\n",
      " |      `meta` and `n` is the trace index.\n",
      " |      \n",
      " |      The 'meta' property accepts values of any type\n",
      " |      \n",
      " |      Returns\n",
      " |      -------\n",
      " |      Any|numpy.ndarray\n",
      " |  \n",
      " |  metasrc\n",
      " |      Sets the source reference on Chart Studio Cloud for `meta`.\n",
      " |      \n",
      " |      The 'metasrc' property must be specified as a string or\n",
      " |      as a plotly.grid_objs.Column object\n",
      " |      \n",
      " |      Returns\n",
      " |      -------\n",
      " |      str\n",
      " |  \n",
      " |  mode\n",
      " |      Determines the drawing mode for this scatter trace. If the\n",
      " |      provided `mode` includes \"text\" then the `text` elements appear\n",
      " |      at the coordinates. Otherwise, the `text` elements appear on\n",
      " |      hover. If there are less than 20 points and the trace is not\n",
      " |      stacked then the default is \"lines+markers\". Otherwise,\n",
      " |      \"lines\".\n",
      " |      \n",
      " |      The 'mode' property is a flaglist and may be specified\n",
      " |      as a string containing:\n",
      " |        - Any combination of ['lines', 'markers', 'text'] joined with '+' characters\n",
      " |          (e.g. 'lines+markers')\n",
      " |          OR exactly one of ['none'] (e.g. 'none')\n",
      " |      \n",
      " |      Returns\n",
      " |      -------\n",
      " |      Any\n",
      " |  \n",
      " |  name\n",
      " |      Sets the trace name. The trace name appears as the legend item\n",
      " |      and on hover.\n",
      " |      \n",
      " |      The 'name' property is a string and must be specified as:\n",
      " |        - A string\n",
      " |        - A number that will be converted to a string\n",
      " |      \n",
      " |      Returns\n",
      " |      -------\n",
      " |      str\n",
      " |  \n",
      " |  offsetgroup\n",
      " |      Set several traces linked to the same position axis or matching\n",
      " |      axes to the same offsetgroup where bars of the same position\n",
      " |      coordinate will line up.\n",
      " |      \n",
      " |      The 'offsetgroup' property is a string and must be specified as:\n",
      " |        - A string\n",
      " |        - A number that will be converted to a string\n",
      " |      \n",
      " |      Returns\n",
      " |      -------\n",
      " |      str\n",
      " |  \n",
      " |  opacity\n",
      " |      Sets the opacity of the trace.\n",
      " |      \n",
      " |      The 'opacity' property is a number and may be specified as:\n",
      " |        - An int or float in the interval [0, 1]\n",
      " |      \n",
      " |      Returns\n",
      " |      -------\n",
      " |      int|float\n",
      " |  \n",
      " |  orientation\n",
      " |      Only relevant in the following cases: 1. when `scattermode` is\n",
      " |      set to \"group\". 2. when `stackgroup` is used, and only the\n",
      " |      first `orientation` found in the `stackgroup` will be used -\n",
      " |      including if `visible` is \"legendonly\" but not if it is\n",
      " |      `false`. Sets the stacking direction. With \"v\" (\"h\"), the y (x)\n",
      " |      values of subsequent traces are added. Also affects the default\n",
      " |      value of `fill`.\n",
      " |      \n",
      " |      The 'orientation' property is an enumeration that may be specified as:\n",
      " |        - One of the following enumeration values:\n",
      " |              ['v', 'h']\n",
      " |      \n",
      " |      Returns\n",
      " |      -------\n",
      " |      Any\n",
      " |  \n",
      " |  selected\n",
      " |      The 'selected' property is an instance of Selected\n",
      " |      that may be specified as:\n",
      " |        - An instance of :class:`plotly.graph_objs.scatter.Selected`\n",
      " |        - A dict of string/value properties that will be passed\n",
      " |          to the Selected constructor\n",
      " |      \n",
      " |          Supported dict properties:\n",
      " |      \n",
      " |              marker\n",
      " |                  :class:`plotly.graph_objects.scatter.selected.M\n",
      " |                  arker` instance or dict with compatible\n",
      " |                  properties\n",
      " |              textfont\n",
      " |                  :class:`plotly.graph_objects.scatter.selected.T\n",
      " |                  extfont` instance or dict with compatible\n",
      " |                  properties\n",
      " |      \n",
      " |      Returns\n",
      " |      -------\n",
      " |      plotly.graph_objs.scatter.Selected\n",
      " |  \n",
      " |  selectedpoints\n",
      " |      Array containing integer indices of selected points. Has an\n",
      " |      effect only for traces that support selections. Note that an\n",
      " |      empty array means an empty selection where the `unselected` are\n",
      " |      turned on for all points, whereas, any other non-array values\n",
      " |      means no selection all where the `selected` and `unselected`\n",
      " |      styles have no effect.\n",
      " |      \n",
      " |      The 'selectedpoints' property accepts values of any type\n",
      " |      \n",
      " |      Returns\n",
      " |      -------\n",
      " |      Any\n",
      " |  \n",
      " |  showlegend\n",
      " |      Determines whether or not an item corresponding to this trace\n",
      " |      is shown in the legend.\n",
      " |      \n",
      " |      The 'showlegend' property must be specified as a bool\n",
      " |      (either True, or False)\n",
      " |      \n",
      " |      Returns\n",
      " |      -------\n",
      " |      bool\n",
      " |  \n",
      " |  stackgaps\n",
      " |      Only relevant when `stackgroup` is used, and only the first\n",
      " |      `stackgaps` found in the `stackgroup` will be used - including\n",
      " |      if `visible` is \"legendonly\" but not if it is `false`.\n",
      " |      Determines how we handle locations at which other traces in\n",
      " |      this group have data but this one does not. With *infer zero*\n",
      " |      we insert a zero at these locations. With \"interpolate\" we\n",
      " |      linearly interpolate between existing values, and extrapolate a\n",
      " |      constant beyond the existing values.\n",
      " |      \n",
      " |      The 'stackgaps' property is an enumeration that may be specified as:\n",
      " |        - One of the following enumeration values:\n",
      " |              ['infer zero', 'interpolate']\n",
      " |      \n",
      " |      Returns\n",
      " |      -------\n",
      " |      Any\n",
      " |  \n",
      " |  stackgroup\n",
      " |      Set several scatter traces (on the same subplot) to the same\n",
      " |      stackgroup in order to add their y values (or their x values if\n",
      " |      `orientation` is \"h\"). If blank or omitted this trace will not\n",
      " |      be stacked. Stacking also turns `fill` on by default, using\n",
      " |      \"tonexty\" (\"tonextx\") if `orientation` is \"h\" (\"v\") and sets\n",
      " |      the default `mode` to \"lines\" irrespective of point count. You\n",
      " |      can only stack on a numeric (linear or log) axis. Traces in a\n",
      " |      `stackgroup` will only fill to (or be filled to) other traces\n",
      " |      in the same group. With multiple `stackgroup`s or some traces\n",
      " |      stacked and some not, if fill-linked traces are not already\n",
      " |      consecutive, the later ones will be pushed down in the drawing\n",
      " |      order.\n",
      " |      \n",
      " |      The 'stackgroup' property is a string and must be specified as:\n",
      " |        - A string\n",
      " |        - A number that will be converted to a string\n",
      " |      \n",
      " |      Returns\n",
      " |      -------\n",
      " |      str\n",
      " |  \n",
      " |  stream\n",
      " |      The 'stream' property is an instance of Stream\n",
      " |      that may be specified as:\n",
      " |        - An instance of :class:`plotly.graph_objs.scatter.Stream`\n",
      " |        - A dict of string/value properties that will be passed\n",
      " |          to the Stream constructor\n",
      " |      \n",
      " |          Supported dict properties:\n",
      " |      \n",
      " |              maxpoints\n",
      " |                  Sets the maximum number of points to keep on\n",
      " |                  the plots from an incoming stream. If\n",
      " |                  `maxpoints` is set to 50, only the newest 50\n",
      " |                  points will be displayed on the plot.\n",
      " |              token\n",
      " |                  The stream id number links a data trace on a\n",
      " |                  plot with a stream. See https://chart-\n",
      " |                  studio.plotly.com/settings for more details.\n",
      " |      \n",
      " |      Returns\n",
      " |      -------\n",
      " |      plotly.graph_objs.scatter.Stream\n",
      " |  \n",
      " |  text\n",
      " |      Sets text elements associated with each (x,y) pair. If a single\n",
      " |      string, the same string appears over all the data points. If an\n",
      " |      array of string, the items are mapped in order to the this\n",
      " |      trace's (x,y) coordinates. If trace `hoverinfo` contains a\n",
      " |      \"text\" flag and \"hovertext\" is not set, these elements will be\n",
      " |      seen in the hover labels.\n",
      " |      \n",
      " |      The 'text' property is a string and must be specified as:\n",
      " |        - A string\n",
      " |        - A number that will be converted to a string\n",
      " |        - A tuple, list, or one-dimensional numpy array of the above\n",
      " |      \n",
      " |      Returns\n",
      " |      -------\n",
      " |      str|numpy.ndarray\n",
      " |  \n",
      " |  textfont\n",
      " |      Sets the text font.\n",
      " |      \n",
      " |      The 'textfont' property is an instance of Textfont\n",
      " |      that may be specified as:\n",
      " |        - An instance of :class:`plotly.graph_objs.scatter.Textfont`\n",
      " |        - A dict of string/value properties that will be passed\n",
      " |          to the Textfont constructor\n",
      " |      \n",
      " |          Supported dict properties:\n",
      " |      \n",
      " |              color\n",
      " |      \n",
      " |              colorsrc\n",
      " |                  Sets the source reference on Chart Studio Cloud\n",
      " |                  for `color`.\n",
      " |              family\n",
      " |                  HTML font family - the typeface that will be\n",
      " |                  applied by the web browser. The web browser\n",
      " |                  will only be able to apply a font if it is\n",
      " |                  available on the system which it operates.\n",
      " |                  Provide multiple font families, separated by\n",
      " |                  commas, to indicate the preference in which to\n",
      " |                  apply fonts if they aren't available on the\n",
      " |                  system. The Chart Studio Cloud (at\n",
      " |                  https://chart-studio.plotly.com or on-premise)\n",
      " |                  generates images on a server, where only a\n",
      " |                  select number of fonts are installed and\n",
      " |                  supported. These include \"Arial\", \"Balto\",\n",
      " |                  \"Courier New\", \"Droid Sans\",, \"Droid Serif\",\n",
      " |                  \"Droid Sans Mono\", \"Gravitas One\", \"Old\n",
      " |                  Standard TT\", \"Open Sans\", \"Overpass\", \"PT Sans\n",
      " |                  Narrow\", \"Raleway\", \"Times New Roman\".\n",
      " |              familysrc\n",
      " |                  Sets the source reference on Chart Studio Cloud\n",
      " |                  for `family`.\n",
      " |              size\n",
      " |      \n",
      " |              sizesrc\n",
      " |                  Sets the source reference on Chart Studio Cloud\n",
      " |                  for `size`.\n",
      " |      \n",
      " |      Returns\n",
      " |      -------\n",
      " |      plotly.graph_objs.scatter.Textfont\n",
      " |  \n",
      " |  textposition\n",
      " |      Sets the positions of the `text` elements with respects to the\n",
      " |      (x,y) coordinates.\n",
      " |      \n",
      " |      The 'textposition' property is an enumeration that may be specified as:\n",
      " |        - One of the following enumeration values:\n",
      " |              ['top left', 'top center', 'top right', 'middle left',\n",
      " |              'middle center', 'middle right', 'bottom left', 'bottom\n",
      " |              center', 'bottom right']\n",
      " |        - A tuple, list, or one-dimensional numpy array of the above\n",
      " |      \n",
      " |      Returns\n",
      " |      -------\n",
      " |      Any|numpy.ndarray\n",
      " |  \n",
      " |  textpositionsrc\n",
      " |      Sets the source reference on Chart Studio Cloud for\n",
      " |      `textposition`.\n",
      " |      \n",
      " |      The 'textpositionsrc' property must be specified as a string or\n",
      " |      as a plotly.grid_objs.Column object\n",
      " |      \n",
      " |      Returns\n",
      " |      -------\n",
      " |      str\n",
      " |  \n",
      " |  textsrc\n",
      " |      Sets the source reference on Chart Studio Cloud for `text`.\n",
      " |      \n",
      " |      The 'textsrc' property must be specified as a string or\n",
      " |      as a plotly.grid_objs.Column object\n",
      " |      \n",
      " |      Returns\n",
      " |      -------\n",
      " |      str\n",
      " |  \n",
      " |  texttemplate\n",
      " |      Template string used for rendering the information text that\n",
      " |      appear on points. Note that this will override `textinfo`.\n",
      " |      Variables are inserted using %{variable}, for example \"y:\n",
      " |      %{y}\". Numbers are formatted using d3-format's syntax\n",
      " |      %{variable:d3-format}, for example \"Price: %{y:$.2f}\".\n",
      " |      https://github.com/d3/d3-format/tree/v1.4.5#d3-format for\n",
      " |      details on the formatting syntax. Dates are formatted using\n",
      " |      d3-time-format's syntax %{variable|d3-time-format}, for example\n",
      " |      \"Day: %{2019-01-01|%A}\". https://github.com/d3/d3-time-\n",
      " |      format/tree/v2.2.3#locale_format for details on the date\n",
      " |      formatting syntax. Every attributes that can be specified per-\n",
      " |      point (the ones that are `arrayOk: true`) are available.\n",
      " |      \n",
      " |      The 'texttemplate' property is a string and must be specified as:\n",
      " |        - A string\n",
      " |        - A number that will be converted to a string\n",
      " |        - A tuple, list, or one-dimensional numpy array of the above\n",
      " |      \n",
      " |      Returns\n",
      " |      -------\n",
      " |      str|numpy.ndarray\n",
      " |  \n",
      " |  texttemplatesrc\n",
      " |      Sets the source reference on Chart Studio Cloud for\n",
      " |      `texttemplate`.\n",
      " |      \n",
      " |      The 'texttemplatesrc' property must be specified as a string or\n",
      " |      as a plotly.grid_objs.Column object\n",
      " |      \n",
      " |      Returns\n",
      " |      -------\n",
      " |      str\n",
      " |  \n",
      " |  uid\n",
      " |      Assign an id to this trace, Use this to provide object\n",
      " |      constancy between traces during animations and transitions.\n",
      " |      \n",
      " |      The 'uid' property is a string and must be specified as:\n",
      " |        - A string\n",
      " |        - A number that will be converted to a string\n",
      " |      \n",
      " |      Returns\n",
      " |      -------\n",
      " |      str\n",
      " |  \n",
      " |  uirevision\n",
      " |      Controls persistence of some user-driven changes to the trace:\n",
      " |      `constraintrange` in `parcoords` traces, as well as some\n",
      " |      `editable: true` modifications such as `name` and\n",
      " |      `colorbar.title`. Defaults to `layout.uirevision`. Note that\n",
      " |      other user-driven trace attribute changes are controlled by\n",
      " |      `layout` attributes: `trace.visible` is controlled by\n",
      " |      `layout.legend.uirevision`, `selectedpoints` is controlled by\n",
      " |      `layout.selectionrevision`, and `colorbar.(x|y)` (accessible\n",
      " |      with `config: {editable: true}`) is controlled by\n",
      " |      `layout.editrevision`. Trace changes are tracked by `uid`,\n",
      " |      which only falls back on trace index if no `uid` is provided.\n",
      " |      So if your app can add/remove traces before the end of the\n",
      " |      `data` array, such that the same trace has a different index,\n",
      " |      you can still preserve user-driven changes if you give each\n",
      " |      trace a `uid` that stays with it as it moves.\n",
      " |      \n",
      " |      The 'uirevision' property accepts values of any type\n",
      " |      \n",
      " |      Returns\n",
      " |      -------\n",
      " |      Any\n",
      " |  \n",
      " |  unselected\n",
      " |      The 'unselected' property is an instance of Unselected\n",
      " |      that may be specified as:\n",
      " |        - An instance of :class:`plotly.graph_objs.scatter.Unselected`\n",
      " |        - A dict of string/value properties that will be passed\n",
      " |          to the Unselected constructor\n",
      " |      \n",
      " |          Supported dict properties:\n",
      " |      \n",
      " |              marker\n",
      " |                  :class:`plotly.graph_objects.scatter.unselected\n",
      " |                  .Marker` instance or dict with compatible\n",
      " |                  properties\n",
      " |              textfont\n",
      " |                  :class:`plotly.graph_objects.scatter.unselected\n",
      " |                  .Textfont` instance or dict with compatible\n",
      " |                  properties\n",
      " |      \n",
      " |      Returns\n",
      " |      -------\n",
      " |      plotly.graph_objs.scatter.Unselected\n",
      " |  \n",
      " |  visible\n",
      " |      Determines whether or not this trace is visible. If\n",
      " |      \"legendonly\", the trace is not drawn, but can appear as a\n",
      " |      legend item (provided that the legend itself is visible).\n",
      " |      \n",
      " |      The 'visible' property is an enumeration that may be specified as:\n",
      " |        - One of the following enumeration values:\n",
      " |              [True, False, 'legendonly']\n",
      " |      \n",
      " |      Returns\n",
      " |      -------\n",
      " |      Any\n",
      " |  \n",
      " |  x\n",
      " |      Sets the x coordinates.\n",
      " |      \n",
      " |      The 'x' property is an array that may be specified as a tuple,\n",
      " |      list, numpy array, or pandas Series\n",
      " |      \n",
      " |      Returns\n",
      " |      -------\n",
      " |      numpy.ndarray\n",
      " |  \n",
      " |  x0\n",
      " |      Alternate to `x`. Builds a linear space of x coordinates. Use\n",
      " |      with `dx` where `x0` is the starting coordinate and `dx` the\n",
      " |      step.\n",
      " |      \n",
      " |      The 'x0' property accepts values of any type\n",
      " |      \n",
      " |      Returns\n",
      " |      -------\n",
      " |      Any\n",
      " |  \n",
      " |  xaxis\n",
      " |      Sets a reference between this trace's x coordinates and a 2D\n",
      " |      cartesian x axis. If \"x\" (the default value), the x coordinates\n",
      " |      refer to `layout.xaxis`. If \"x2\", the x coordinates refer to\n",
      " |      `layout.xaxis2`, and so on.\n",
      " |      \n",
      " |      The 'xaxis' property is an identifier of a particular\n",
      " |      subplot, of type 'x', that may be specified as the string 'x'\n",
      " |      optionally followed by an integer >= 1\n",
      " |      (e.g. 'x', 'x1', 'x2', 'x3', etc.)\n",
      " |      \n",
      " |      Returns\n",
      " |      -------\n",
      " |      str\n",
      " |  \n",
      " |  xcalendar\n",
      " |      Sets the calendar system to use with `x` date data.\n",
      " |      \n",
      " |      The 'xcalendar' property is an enumeration that may be specified as:\n",
      " |        - One of the following enumeration values:\n",
      " |              ['chinese', 'coptic', 'discworld', 'ethiopian',\n",
      " |              'gregorian', 'hebrew', 'islamic', 'jalali', 'julian',\n",
      " |              'mayan', 'nanakshahi', 'nepali', 'persian', 'taiwan',\n",
      " |              'thai', 'ummalqura']\n",
      " |      \n",
      " |      Returns\n",
      " |      -------\n",
      " |      Any\n",
      " |  \n",
      " |  xhoverformat\n",
      " |      Sets the hover text formatting rulefor `x`  using d3 formatting\n",
      " |      mini-languages which are very similar to those in Python. For\n",
      " |      numbers, see:\n",
      " |      https://github.com/d3/d3-format/tree/v1.4.5#d3-format. And for\n",
      " |      dates see: https://github.com/d3/d3-time-\n",
      " |      format/tree/v2.2.3#locale_format. We add two items to d3's date\n",
      " |      formatter: \"%h\" for half of the year as a decimal number as\n",
      " |      well as \"%{n}f\" for fractional seconds with n digits. For\n",
      " |      example, *2016-10-13 09:15:23.456* with tickformat\n",
      " |      \"%H~%M~%S.%2f\" would display *09~15~23.46*By default the values\n",
      " |      are formatted using `xaxis.hoverformat`.\n",
      " |      \n",
      " |      The 'xhoverformat' property is a string and must be specified as:\n",
      " |        - A string\n",
      " |        - A number that will be converted to a string\n",
      " |      \n",
      " |      Returns\n",
      " |      -------\n",
      " |      str\n",
      " |  \n",
      " |  xperiod\n",
      " |      Only relevant when the axis `type` is \"date\". Sets the period\n",
      " |      positioning in milliseconds or \"M<n>\" on the x axis. Special\n",
      " |      values in the form of \"M<n>\" could be used to declare the\n",
      " |      number of months. In this case `n` must be a positive integer.\n",
      " |      \n",
      " |      The 'xperiod' property accepts values of any type\n",
      " |      \n",
      " |      Returns\n",
      " |      -------\n",
      " |      Any\n",
      " |  \n",
      " |  xperiod0\n",
      " |      Only relevant when the axis `type` is \"date\". Sets the base for\n",
      " |      period positioning in milliseconds or date string on the x0\n",
      " |      axis. When `x0period` is round number of weeks, the `x0period0`\n",
      " |      by default would be on a Sunday i.e. 2000-01-02, otherwise it\n",
      " |      would be at 2000-01-01.\n",
      " |      \n",
      " |      The 'xperiod0' property accepts values of any type\n",
      " |      \n",
      " |      Returns\n",
      " |      -------\n",
      " |      Any\n",
      " |  \n",
      " |  xperiodalignment\n",
      " |      Only relevant when the axis `type` is \"date\". Sets the\n",
      " |      alignment of data points on the x axis.\n",
      " |      \n",
      " |      The 'xperiodalignment' property is an enumeration that may be specified as:\n",
      " |        - One of the following enumeration values:\n",
      " |              ['start', 'middle', 'end']\n",
      " |      \n",
      " |      Returns\n",
      " |      -------\n",
      " |      Any\n",
      " |  \n",
      " |  xsrc\n",
      " |      Sets the source reference on Chart Studio Cloud for `x`.\n",
      " |      \n",
      " |      The 'xsrc' property must be specified as a string or\n",
      " |      as a plotly.grid_objs.Column object\n",
      " |      \n",
      " |      Returns\n",
      " |      -------\n",
      " |      str\n",
      " |  \n",
      " |  y\n",
      " |      Sets the y coordinates.\n",
      " |      \n",
      " |      The 'y' property is an array that may be specified as a tuple,\n",
      " |      list, numpy array, or pandas Series\n",
      " |      \n",
      " |      Returns\n",
      " |      -------\n",
      " |      numpy.ndarray\n",
      " |  \n",
      " |  y0\n",
      " |      Alternate to `y`. Builds a linear space of y coordinates. Use\n",
      " |      with `dy` where `y0` is the starting coordinate and `dy` the\n",
      " |      step.\n",
      " |      \n",
      " |      The 'y0' property accepts values of any type\n",
      " |      \n",
      " |      Returns\n",
      " |      -------\n",
      " |      Any\n",
      " |  \n",
      " |  yaxis\n",
      " |      Sets a reference between this trace's y coordinates and a 2D\n",
      " |      cartesian y axis. If \"y\" (the default value), the y coordinates\n",
      " |      refer to `layout.yaxis`. If \"y2\", the y coordinates refer to\n",
      " |      `layout.yaxis2`, and so on.\n",
      " |      \n",
      " |      The 'yaxis' property is an identifier of a particular\n",
      " |      subplot, of type 'y', that may be specified as the string 'y'\n",
      " |      optionally followed by an integer >= 1\n",
      " |      (e.g. 'y', 'y1', 'y2', 'y3', etc.)\n",
      " |      \n",
      " |      Returns\n",
      " |      -------\n",
      " |      str\n",
      " |  \n",
      " |  ycalendar\n",
      " |      Sets the calendar system to use with `y` date data.\n",
      " |      \n",
      " |      The 'ycalendar' property is an enumeration that may be specified as:\n",
      " |        - One of the following enumeration values:\n",
      " |              ['chinese', 'coptic', 'discworld', 'ethiopian',\n",
      " |              'gregorian', 'hebrew', 'islamic', 'jalali', 'julian',\n",
      " |              'mayan', 'nanakshahi', 'nepali', 'persian', 'taiwan',\n",
      " |              'thai', 'ummalqura']\n",
      " |      \n",
      " |      Returns\n",
      " |      -------\n",
      " |      Any\n",
      " |  \n",
      " |  yhoverformat\n",
      " |      Sets the hover text formatting rulefor `y`  using d3 formatting\n",
      " |      mini-languages which are very similar to those in Python. For\n",
      " |      numbers, see:\n",
      " |      https://github.com/d3/d3-format/tree/v1.4.5#d3-format. And for\n",
      " |      dates see: https://github.com/d3/d3-time-\n",
      " |      format/tree/v2.2.3#locale_format. We add two items to d3's date\n",
      " |      formatter: \"%h\" for half of the year as a decimal number as\n",
      " |      well as \"%{n}f\" for fractional seconds with n digits. For\n",
      " |      example, *2016-10-13 09:15:23.456* with tickformat\n",
      " |      \"%H~%M~%S.%2f\" would display *09~15~23.46*By default the values\n",
      " |      are formatted using `yaxis.hoverformat`.\n",
      " |      \n",
      " |      The 'yhoverformat' property is a string and must be specified as:\n",
      " |        - A string\n",
      " |        - A number that will be converted to a string\n",
      " |      \n",
      " |      Returns\n",
      " |      -------\n",
      " |      str\n",
      " |  \n",
      " |  yperiod\n",
      " |      Only relevant when the axis `type` is \"date\". Sets the period\n",
      " |      positioning in milliseconds or \"M<n>\" on the y axis. Special\n",
      " |      values in the form of \"M<n>\" could be used to declare the\n",
      " |      number of months. In this case `n` must be a positive integer.\n",
      " |      \n",
      " |      The 'yperiod' property accepts values of any type\n",
      " |      \n",
      " |      Returns\n",
      " |      -------\n",
      " |      Any\n",
      " |  \n",
      " |  yperiod0\n",
      " |      Only relevant when the axis `type` is \"date\". Sets the base for\n",
      " |      period positioning in milliseconds or date string on the y0\n",
      " |      axis. When `y0period` is round number of weeks, the `y0period0`\n",
      " |      by default would be on a Sunday i.e. 2000-01-02, otherwise it\n",
      " |      would be at 2000-01-01.\n",
      " |      \n",
      " |      The 'yperiod0' property accepts values of any type\n",
      " |      \n",
      " |      Returns\n",
      " |      -------\n",
      " |      Any\n",
      " |  \n",
      " |  yperiodalignment\n",
      " |      Only relevant when the axis `type` is \"date\". Sets the\n",
      " |      alignment of data points on the y axis.\n",
      " |      \n",
      " |      The 'yperiodalignment' property is an enumeration that may be specified as:\n",
      " |        - One of the following enumeration values:\n",
      " |              ['start', 'middle', 'end']\n",
      " |      \n",
      " |      Returns\n",
      " |      -------\n",
      " |      Any\n",
      " |  \n",
      " |  ysrc\n",
      " |      Sets the source reference on Chart Studio Cloud for `y`.\n",
      " |      \n",
      " |      The 'ysrc' property must be specified as a string or\n",
      " |      as a plotly.grid_objs.Column object\n",
      " |      \n",
      " |      Returns\n",
      " |      -------\n",
      " |      str\n",
      " |  \n",
      " |  ----------------------------------------------------------------------\n",
      " |  Methods inherited from plotly.basedatatypes.BaseTraceType:\n",
      " |  \n",
      " |  on_click(self, callback, append=False)\n",
      " |      Register function to be called when the user clicks on one or more\n",
      " |      points in this trace.\n",
      " |      \n",
      " |      Note: Callbacks will only be triggered when the trace belongs to a\n",
      " |      instance of plotly.graph_objs.FigureWidget and it is displayed in an\n",
      " |      ipywidget context. Callbacks will not be triggered on figures\n",
      " |      that are displayed using plot/iplot.\n",
      " |      \n",
      " |      Parameters\n",
      " |      ----------\n",
      " |      callback\n",
      " |          Callable function that accepts 3 arguments\n",
      " |      \n",
      " |          - this trace\n",
      " |          - plotly.callbacks.Points object\n",
      " |          - plotly.callbacks.InputDeviceState object\n",
      " |      \n",
      " |      append : bool\n",
      " |          If False (the default), this callback replaces any previously\n",
      " |          defined on_click callbacks for this trace. If True,\n",
      " |          this callback is appended to the list of any previously defined\n",
      " |          callbacks.\n",
      " |      \n",
      " |      Returns\n",
      " |      -------\n",
      " |      None\n",
      " |      \n",
      " |      Examples\n",
      " |      --------\n",
      " |      \n",
      " |      >>> import plotly.graph_objects as go\n",
      " |      >>> from plotly.callbacks import Points, InputDeviceState\n",
      " |      >>> points, state = Points(), InputDeviceState()\n",
      " |      \n",
      " |      >>> def click_fn(trace, points, state):\n",
      " |      ...     inds = points.point_inds\n",
      " |      ...     # Do something\n",
      " |      \n",
      " |      >>> trace = go.Scatter(x=[1, 2], y=[3, 0])\n",
      " |      >>> trace.on_click(click_fn)\n",
      " |      \n",
      " |      Note: The creation of the `points` and `state` objects is optional,\n",
      " |      it's simply a convenience to help the text editor perform completion\n",
      " |      on the arguments inside `click_fn`\n",
      " |  \n",
      " |  on_deselect(self, callback, append=False)\n",
      " |      Register function to be called when the user deselects points\n",
      " |      in this trace using doubleclick.\n",
      " |      \n",
      " |      Note: Callbacks will only be triggered when the trace belongs to a\n",
      " |      instance of plotly.graph_objs.FigureWidget and it is displayed in an\n",
      " |      ipywidget context. Callbacks will not be triggered on figures\n",
      " |      that are displayed using plot/iplot.\n",
      " |      \n",
      " |      Parameters\n",
      " |      ----------\n",
      " |      callback\n",
      " |          Callable function that accepts 3 arguments\n",
      " |      \n",
      " |          - this trace\n",
      " |          - plotly.callbacks.Points object\n",
      " |      \n",
      " |      append : bool\n",
      " |          If False (the default), this callback replaces any previously\n",
      " |          defined on_deselect callbacks for this trace. If True,\n",
      " |          this callback is appended to the list of any previously defined\n",
      " |          callbacks.\n",
      " |      \n",
      " |      Returns\n",
      " |      -------\n",
      " |      None\n",
      " |      \n",
      " |      Examples\n",
      " |      --------\n",
      " |      \n",
      " |      >>> import plotly.graph_objects as go\n",
      " |      >>> from plotly.callbacks import Points\n",
      " |      >>> points = Points()\n",
      " |      \n",
      " |      >>> def deselect_fn(trace, points):\n",
      " |      ...     inds = points.point_inds\n",
      " |      ...     # Do something\n",
      " |      \n",
      " |      >>> trace = go.Scatter(x=[1, 2], y=[3, 0])\n",
      " |      >>> trace.on_deselect(deselect_fn)\n",
      " |      \n",
      " |      Note: The creation of the `points` object is optional,\n",
      " |      it's simply a convenience to help the text editor perform completion\n",
      " |      on the `points` arguments inside `selection_fn`\n",
      " |  \n",
      " |  on_hover(self, callback, append=False)\n",
      " |      Register function to be called when the user hovers over one or more\n",
      " |      points in this trace\n",
      " |      \n",
      " |      Note: Callbacks will only be triggered when the trace belongs to a\n",
      " |      instance of plotly.graph_objs.FigureWidget and it is displayed in an\n",
      " |      ipywidget context. Callbacks will not be triggered on figures\n",
      " |      that are displayed using plot/iplot.\n",
      " |      \n",
      " |      Parameters\n",
      " |      ----------\n",
      " |      callback\n",
      " |          Callable function that accepts 3 arguments\n",
      " |      \n",
      " |          - this trace\n",
      " |          - plotly.callbacks.Points object\n",
      " |          - plotly.callbacks.InputDeviceState object\n",
      " |      \n",
      " |      append : bool\n",
      " |          If False (the default), this callback replaces any previously\n",
      " |          defined on_hover callbacks for this trace. If True,\n",
      " |          this callback is appended to the list of any previously defined\n",
      " |          callbacks.\n",
      " |      \n",
      " |      Returns\n",
      " |      -------\n",
      " |      None\n",
      " |      \n",
      " |      Examples\n",
      " |      --------\n",
      " |      \n",
      " |      >>> import plotly.graph_objects as go\n",
      " |      >>> from plotly.callbacks import Points, InputDeviceState\n",
      " |      >>> points, state = Points(), InputDeviceState()\n",
      " |      \n",
      " |      >>> def hover_fn(trace, points, state):\n",
      " |      ...     inds = points.point_inds\n",
      " |      ...     # Do something\n",
      " |      \n",
      " |      >>> trace = go.Scatter(x=[1, 2], y=[3, 0])\n",
      " |      >>> trace.on_hover(hover_fn)\n",
      " |      \n",
      " |      Note: The creation of the `points` and `state` objects is optional,\n",
      " |      it's simply a convenience to help the text editor perform completion\n",
      " |      on the arguments inside `hover_fn`\n",
      " |  \n",
      " |  on_selection(self, callback, append=False)\n",
      " |      Register function to be called when the user selects one or more\n",
      " |      points in this trace.\n",
      " |      \n",
      " |      Note: Callbacks will only be triggered when the trace belongs to a\n",
      " |      instance of plotly.graph_objs.FigureWidget and it is displayed in an\n",
      " |      ipywidget context. Callbacks will not be triggered on figures\n",
      " |      that are displayed using plot/iplot.\n",
      " |      \n",
      " |      Parameters\n",
      " |      ----------\n",
      " |      callback\n",
      " |          Callable function that accepts 4 arguments\n",
      " |      \n",
      " |          - this trace\n",
      " |          - plotly.callbacks.Points object\n",
      " |          - plotly.callbacks.BoxSelector or plotly.callbacks.LassoSelector\n",
      " |      \n",
      " |      append : bool\n",
      " |          If False (the default), this callback replaces any previously\n",
      " |          defined on_selection callbacks for this trace. If True,\n",
      " |          this callback is appended to the list of any previously defined\n",
      " |          callbacks.\n",
      " |      \n",
      " |      Returns\n",
      " |      -------\n",
      " |      None\n",
      " |      \n",
      " |      Examples\n",
      " |      --------\n",
      " |      \n",
      " |      >>> import plotly.graph_objects as go\n",
      " |      >>> from plotly.callbacks import Points\n",
      " |      >>> points = Points()\n",
      " |      \n",
      " |      >>> def selection_fn(trace, points, selector):\n",
      " |      ...     inds = points.point_inds\n",
      " |      ...     # Do something\n",
      " |      \n",
      " |      >>> trace = go.Scatter(x=[1, 2], y=[3, 0])\n",
      " |      >>> trace.on_selection(selection_fn)\n",
      " |      \n",
      " |      Note: The creation of the `points` object is optional,\n",
      " |      it's simply a convenience to help the text editor perform completion\n",
      " |      on the `points` arguments inside `selection_fn`\n",
      " |  \n",
      " |  on_unhover(self, callback, append=False)\n",
      " |      Register function to be called when the user unhovers away from one\n",
      " |      or more points in this trace.\n",
      " |      \n",
      " |      Note: Callbacks will only be triggered when the trace belongs to a\n",
      " |      instance of plotly.graph_objs.FigureWidget and it is displayed in an\n",
      " |      ipywidget context. Callbacks will not be triggered on figures\n",
      " |      that are displayed using plot/iplot.\n",
      " |      \n",
      " |      Parameters\n",
      " |      ----------\n",
      " |      callback\n",
      " |          Callable function that accepts 3 arguments\n",
      " |      \n",
      " |          - this trace\n",
      " |          - plotly.callbacks.Points object\n",
      " |          - plotly.callbacks.InputDeviceState object\n",
      " |      \n",
      " |      append : bool\n",
      " |          If False (the default), this callback replaces any previously\n",
      " |          defined on_unhover callbacks for this trace. If True,\n",
      " |          this callback is appended to the list of any previously defined\n",
      " |          callbacks.\n",
      " |      \n",
      " |      Returns\n",
      " |      -------\n",
      " |      None\n",
      " |      \n",
      " |      Examples\n",
      " |      --------\n",
      " |      \n",
      " |      >>> import plotly.graph_objects as go\n",
      " |      >>> from plotly.callbacks import Points, InputDeviceState\n",
      " |      >>> points, state = Points(), InputDeviceState()\n",
      " |      \n",
      " |      >>> def unhover_fn(trace, points, state):\n",
      " |      ...     inds = points.point_inds\n",
      " |      ...     # Do something\n",
      " |      \n",
      " |      >>> trace = go.Scatter(x=[1, 2], y=[3, 0])\n",
      " |      >>> trace.on_unhover(unhover_fn)\n",
      " |      \n",
      " |      Note: The creation of the `points` and `state` objects is optional,\n",
      " |      it's simply a convenience to help the text editor perform completion\n",
      " |      on the arguments inside `unhover_fn`\n",
      " |  \n",
      " |  ----------------------------------------------------------------------\n",
      " |  Methods inherited from plotly.basedatatypes.BasePlotlyType:\n",
      " |  \n",
      " |  __contains__(self, prop)\n",
      " |      Determine whether object contains a property or nested property\n",
      " |      \n",
      " |      Parameters\n",
      " |      ----------\n",
      " |      prop : str|tuple\n",
      " |          If prop is a simple string (e.g. 'foo'), then return true of the\n",
      " |          object contains an element named 'foo'\n",
      " |      \n",
      " |          If prop is a property path string (e.g. 'foo[0].bar'),\n",
      " |          then return true if the obejct contains the nested elements for\n",
      " |          each entry in the path string (e.g. 'bar' in obj['foo'][0])\n",
      " |      \n",
      " |          If prop is a property path tuple (e.g. ('foo', 0, 'bar')),\n",
      " |          then return true if the object contains the nested elements for\n",
      " |          each entry in the path string (e.g. 'bar' in obj['foo'][0])\n",
      " |      \n",
      " |      Returns\n",
      " |      -------\n",
      " |      bool\n",
      " |  \n",
      " |  __eq__(self, other)\n",
      " |      Test for equality\n",
      " |      \n",
      " |      To be considered equal, `other` must have the same type as this object\n",
      " |      and their `to_plotly_json` representaitons must be identical.\n",
      " |      \n",
      " |      Parameters\n",
      " |      ----------\n",
      " |      other\n",
      " |          The object to compare against\n",
      " |      \n",
      " |      Returns\n",
      " |      -------\n",
      " |      bool\n",
      " |  \n",
      " |  __getitem__(self, prop)\n",
      " |      Get item or nested item from object\n",
      " |      \n",
      " |      Parameters\n",
      " |      ----------\n",
      " |      prop : str|tuple\n",
      " |      \n",
      " |          If prop is the name of a property of this object, then the\n",
      " |          property is returned.\n",
      " |      \n",
      " |          If prop is a nested property path string (e.g. 'foo[1].bar'),\n",
      " |          then a nested property is returned (e.g. obj['foo'][1]['bar'])\n",
      " |      \n",
      " |          If prop is a path tuple (e.g. ('foo', 1, 'bar')), then a nested\n",
      " |          property is returned (e.g. obj['foo'][1]['bar']).\n",
      " |      \n",
      " |      Returns\n",
      " |      -------\n",
      " |      Any\n",
      " |  \n",
      " |  __iter__(self)\n",
      " |      Return an iterator over the object's properties\n",
      " |  \n",
      " |  __reduce__(self)\n",
      " |      Custom implementation of reduce is used to support deep copying\n",
      " |      and pickling\n",
      " |  \n",
      " |  __repr__(self)\n",
      " |      Customize object representation when displayed in the\n",
      " |      terminal/notebook\n",
      " |  \n",
      " |  __setattr__(self, prop, value)\n",
      " |      Parameters\n",
      " |      ----------\n",
      " |      prop : str\n",
      " |          The name of a direct child of this object\n",
      " |      value\n",
      " |          New property value\n",
      " |      Returns\n",
      " |      -------\n",
      " |      None\n",
      " |  \n",
      " |  __setitem__(self, prop, value)\n",
      " |      Parameters\n",
      " |      ----------\n",
      " |      prop : str\n",
      " |          The name of a direct child of this object\n",
      " |      \n",
      " |          Note: Setting nested properties using property path string or\n",
      " |          property path tuples is not supported.\n",
      " |      value\n",
      " |          New property value\n",
      " |      \n",
      " |      Returns\n",
      " |      -------\n",
      " |      None\n",
      " |  \n",
      " |  on_change(self, callback, *args, **kwargs)\n",
      " |      Register callback function to be called when certain properties or\n",
      " |      subproperties of this object are modified.\n",
      " |      \n",
      " |      Callback will be invoked whenever ANY of these properties is\n",
      " |      modified. Furthermore, the callback will only be invoked once even\n",
      " |      if multiple properties are modified during the same restyle /\n",
      " |      relayout / update operation.\n",
      " |      \n",
      " |      Parameters\n",
      " |      ----------\n",
      " |      callback : function\n",
      " |          Function that accepts 1 + len(`args`) parameters. First parameter\n",
      " |          is this object. Second through last parameters are the\n",
      " |          property / subpropery values referenced by args.\n",
      " |      args : list[str|tuple[int|str]]\n",
      " |          List of property references where each reference may be one of:\n",
      " |      \n",
      " |            1) A property name string (e.g. 'foo') for direct properties\n",
      " |            2) A property path string (e.g. 'foo[0].bar') for\n",
      " |               subproperties\n",
      " |            3) A property path tuple (e.g. ('foo', 0, 'bar')) for\n",
      " |               subproperties\n",
      " |      \n",
      " |      append : bool\n",
      " |          True if callback should be appended to previously registered\n",
      " |          callback on the same properties, False if callback should replace\n",
      " |          previously registered callbacks on the same properties. Defaults\n",
      " |          to False.\n",
      " |      \n",
      " |      Examples\n",
      " |      --------\n",
      " |      \n",
      " |      Register callback that prints out the range extents of the xaxis and\n",
      " |      yaxis whenever either either of them changes.\n",
      " |      \n",
      " |      >>> import plotly.graph_objects as go\n",
      " |      >>> fig = go.Figure(go.Scatter(x=[1, 2], y=[1, 0]))\n",
      " |      >>> fig.layout.on_change(\n",
      " |      ...   lambda obj, xrange, yrange: print(\"%s-%s\" % (xrange, yrange)),\n",
      " |      ...   ('xaxis', 'range'), ('yaxis', 'range'))\n",
      " |      \n",
      " |      \n",
      " |      Returns\n",
      " |      -------\n",
      " |      None\n",
      " |  \n",
      " |  pop(self, key, *args)\n",
      " |      Remove the value associated with the specified key and return it\n",
      " |      \n",
      " |      Parameters\n",
      " |      ----------\n",
      " |      key: str\n",
      " |          Property name\n",
      " |      dflt\n",
      " |          The default value to return if key was not found in object\n",
      " |      \n",
      " |      Returns\n",
      " |      -------\n",
      " |      value\n",
      " |          The removed value that was previously associated with key\n",
      " |      \n",
      " |      Raises\n",
      " |      ------\n",
      " |      KeyError\n",
      " |          If key is not in object and no dflt argument specified\n",
      " |  \n",
      " |  to_json(self, *args, **kwargs)\n",
      " |      Convert object to a JSON string representation\n",
      " |      \n",
      " |      Parameters\n",
      " |      ----------\n",
      " |      validate: bool (default True)\n",
      " |          True if the object should be validated before being converted to\n",
      " |          JSON, False otherwise.\n",
      " |      \n",
      " |      pretty: bool (default False)\n",
      " |          True if JSON representation should be pretty-printed, False if\n",
      " |          representation should be as compact as possible.\n",
      " |      \n",
      " |      remove_uids: bool (default True)\n",
      " |          True if trace UIDs should be omitted from the JSON representation\n",
      " |      \n",
      " |      engine: str (default None)\n",
      " |          The JSON encoding engine to use. One of:\n",
      " |            - \"json\" for an encoder based on the built-in Python json module\n",
      " |            - \"orjson\" for a fast encoder the requires the orjson package\n",
      " |          If not specified, the default encoder is set to the current value of\n",
      " |          plotly.io.json.config.default_encoder.\n",
      " |      \n",
      " |      Returns\n",
      " |      -------\n",
      " |      str\n",
      " |          Representation of object as a JSON string\n",
      " |  \n",
      " |  to_plotly_json(self)\n",
      " |      Return plotly JSON representation of object as a Python dict\n",
      " |      \n",
      " |      Note: May include some JSON-invalid data types, use the `PlotlyJSONEncoder` util\n",
      " |      or the `to_json` method to encode to a string.\n",
      " |      \n",
      " |      Returns\n",
      " |      -------\n",
      " |      dict\n",
      " |  \n",
      " |  update(self, dict1=None, overwrite=False, **kwargs)\n",
      " |      Update the properties of an object with a dict and/or with\n",
      " |      keyword arguments.\n",
      " |      \n",
      " |      This recursively updates the structure of the original\n",
      " |      object with the values in the input dict / keyword arguments.\n",
      " |      \n",
      " |      Parameters\n",
      " |      ----------\n",
      " |      dict1 : dict\n",
      " |          Dictionary of properties to be updated\n",
      " |      overwrite: bool\n",
      " |          If True, overwrite existing properties. If False, apply updates\n",
      " |          to existing properties recursively, preserving existing\n",
      " |          properties that are not specified in the update operation.\n",
      " |      kwargs :\n",
      " |          Keyword/value pair of properties to be updated\n",
      " |      \n",
      " |      Returns\n",
      " |      -------\n",
      " |      BasePlotlyType\n",
      " |          Updated plotly object\n",
      " |  \n",
      " |  ----------------------------------------------------------------------\n",
      " |  Readonly properties inherited from plotly.basedatatypes.BasePlotlyType:\n",
      " |  \n",
      " |  figure\n",
      " |      Reference to the top-level Figure or FigureWidget that this object\n",
      " |      belongs to. None if the object does not belong to a Figure\n",
      " |      \n",
      " |      Returns\n",
      " |      -------\n",
      " |      Union[BaseFigure, None]\n",
      " |  \n",
      " |  parent\n",
      " |      Return the object's parent, or None if the object has no parent\n",
      " |      Returns\n",
      " |      -------\n",
      " |      BasePlotlyType|BaseFigure\n",
      " |  \n",
      " |  plotly_name\n",
      " |      The plotly name of the object\n",
      " |      \n",
      " |      Returns\n",
      " |      -------\n",
      " |      str\n",
      " |  \n",
      " |  ----------------------------------------------------------------------\n",
      " |  Data descriptors inherited from plotly.basedatatypes.BasePlotlyType:\n",
      " |  \n",
      " |  __dict__\n",
      " |      dictionary for instance variables\n",
      " |  \n",
      " |  __weakref__\n",
      " |      list of weak references to the object\n",
      " |  \n",
      " |  ----------------------------------------------------------------------\n",
      " |  Data and other attributes inherited from plotly.basedatatypes.BasePlotlyType:\n",
      " |  \n",
      " |  __hash__ = None\n",
      "\n"
     ]
    }
   ],
   "source": [
    "help(go.Scatter)"
   ]
  },
  {
   "cell_type": "code",
   "execution_count": 85,
   "metadata": {},
   "outputs": [
    {
     "name": "stdout",
     "output_type": "stream",
     "text": [
      "Help on class Layout in module plotly.graph_objs._layout:\n",
      "\n",
      "class Layout(plotly.basedatatypes.BaseLayoutType)\n",
      " |  Layout(arg=None, activeselection=None, activeshape=None, annotations=None, annotationdefaults=None, autosize=None, autotypenumbers=None, barcornerradius=None, bargap=None, bargroupgap=None, barmode=None, barnorm=None, boxgap=None, boxgroupgap=None, boxmode=None, calendar=None, clickmode=None, coloraxis=None, colorscale=None, colorway=None, computed=None, datarevision=None, dragmode=None, editrevision=None, extendfunnelareacolors=None, extendiciclecolors=None, extendpiecolors=None, extendsunburstcolors=None, extendtreemapcolors=None, font=None, funnelareacolorway=None, funnelgap=None, funnelgroupgap=None, funnelmode=None, geo=None, grid=None, height=None, hiddenlabels=None, hiddenlabelssrc=None, hidesources=None, hoverdistance=None, hoverlabel=None, hovermode=None, iciclecolorway=None, images=None, imagedefaults=None, legend=None, mapbox=None, margin=None, meta=None, metasrc=None, minreducedheight=None, minreducedwidth=None, modebar=None, newselection=None, newshape=None, paper_bgcolor=None, piecolorway=None, plot_bgcolor=None, polar=None, scattergap=None, scattermode=None, scene=None, selectdirection=None, selectionrevision=None, selections=None, selectiondefaults=None, separators=None, shapes=None, shapedefaults=None, showlegend=None, sliders=None, sliderdefaults=None, smith=None, spikedistance=None, sunburstcolorway=None, template=None, ternary=None, title=None, titlefont=None, transition=None, treemapcolorway=None, uirevision=None, uniformtext=None, updatemenus=None, updatemenudefaults=None, violingap=None, violingroupgap=None, violinmode=None, waterfallgap=None, waterfallgroupgap=None, waterfallmode=None, width=None, xaxis=None, yaxis=None, **kwargs)\n",
      " |  \n",
      " |  Method resolution order:\n",
      " |      Layout\n",
      " |      plotly.basedatatypes.BaseLayoutType\n",
      " |      plotly.basedatatypes.BaseLayoutHierarchyType\n",
      " |      plotly.basedatatypes.BasePlotlyType\n",
      " |      builtins.object\n",
      " |  \n",
      " |  Methods defined here:\n",
      " |  \n",
      " |  __init__(self, arg=None, activeselection=None, activeshape=None, annotations=None, annotationdefaults=None, autosize=None, autotypenumbers=None, barcornerradius=None, bargap=None, bargroupgap=None, barmode=None, barnorm=None, boxgap=None, boxgroupgap=None, boxmode=None, calendar=None, clickmode=None, coloraxis=None, colorscale=None, colorway=None, computed=None, datarevision=None, dragmode=None, editrevision=None, extendfunnelareacolors=None, extendiciclecolors=None, extendpiecolors=None, extendsunburstcolors=None, extendtreemapcolors=None, font=None, funnelareacolorway=None, funnelgap=None, funnelgroupgap=None, funnelmode=None, geo=None, grid=None, height=None, hiddenlabels=None, hiddenlabelssrc=None, hidesources=None, hoverdistance=None, hoverlabel=None, hovermode=None, iciclecolorway=None, images=None, imagedefaults=None, legend=None, mapbox=None, margin=None, meta=None, metasrc=None, minreducedheight=None, minreducedwidth=None, modebar=None, newselection=None, newshape=None, paper_bgcolor=None, piecolorway=None, plot_bgcolor=None, polar=None, scattergap=None, scattermode=None, scene=None, selectdirection=None, selectionrevision=None, selections=None, selectiondefaults=None, separators=None, shapes=None, shapedefaults=None, showlegend=None, sliders=None, sliderdefaults=None, smith=None, spikedistance=None, sunburstcolorway=None, template=None, ternary=None, title=None, titlefont=None, transition=None, treemapcolorway=None, uirevision=None, uniformtext=None, updatemenus=None, updatemenudefaults=None, violingap=None, violingroupgap=None, violinmode=None, waterfallgap=None, waterfallgroupgap=None, waterfallmode=None, width=None, xaxis=None, yaxis=None, **kwargs)\n",
      " |      Construct a new Layout object\n",
      " |      \n",
      " |      Parameters\n",
      " |      ----------\n",
      " |      arg\n",
      " |          dict of properties compatible with this constructor or\n",
      " |          an instance of :class:`plotly.graph_objs.Layout`\n",
      " |      activeselection\n",
      " |          :class:`plotly.graph_objects.layout.Activeselection`\n",
      " |          instance or dict with compatible properties\n",
      " |      activeshape\n",
      " |          :class:`plotly.graph_objects.layout.Activeshape`\n",
      " |          instance or dict with compatible properties\n",
      " |      annotations\n",
      " |          A tuple of\n",
      " |          :class:`plotly.graph_objects.layout.Annotation`\n",
      " |          instances or dicts with compatible properties\n",
      " |      annotationdefaults\n",
      " |          When used in a template (as\n",
      " |          layout.template.layout.annotationdefaults), sets the\n",
      " |          default property values to use for elements of\n",
      " |          layout.annotations\n",
      " |      autosize\n",
      " |          Determines whether or not a layout width or height that\n",
      " |          has been left undefined by the user is initialized on\n",
      " |          each relayout. Note that, regardless of this attribute,\n",
      " |          an undefined layout width or height is always\n",
      " |          initialized on the first call to plot.\n",
      " |      autotypenumbers\n",
      " |          Using \"strict\" a numeric string in trace data is not\n",
      " |          converted to a number. Using *convert types* a numeric\n",
      " |          string in trace data may be treated as a number during\n",
      " |          automatic axis `type` detection. This is the default\n",
      " |          value; however it could be overridden for individual\n",
      " |          axes.\n",
      " |      barcornerradius\n",
      " |          Sets the rounding of bar corners. May be an integer\n",
      " |          number of pixels, or a percentage of bar width (as a\n",
      " |          string ending in %).\n",
      " |      bargap\n",
      " |          Sets the gap (in plot fraction) between bars of\n",
      " |          adjacent location coordinates.\n",
      " |      bargroupgap\n",
      " |          Sets the gap (in plot fraction) between bars of the\n",
      " |          same location coordinate.\n",
      " |      barmode\n",
      " |          Determines how bars at the same location coordinate are\n",
      " |          displayed on the graph. With \"stack\", the bars are\n",
      " |          stacked on top of one another With \"relative\", the bars\n",
      " |          are stacked on top of one another, with negative values\n",
      " |          below the axis, positive values above With \"group\", the\n",
      " |          bars are plotted next to one another centered around\n",
      " |          the shared location. With \"overlay\", the bars are\n",
      " |          plotted over one another, you might need to reduce\n",
      " |          \"opacity\" to see multiple bars.\n",
      " |      barnorm\n",
      " |          Sets the normalization for bar traces on the graph.\n",
      " |          With \"fraction\", the value of each bar is divided by\n",
      " |          the sum of all values at that location coordinate.\n",
      " |          \"percent\" is the same but multiplied by 100 to show\n",
      " |          percentages.\n",
      " |      boxgap\n",
      " |          Sets the gap (in plot fraction) between boxes of\n",
      " |          adjacent location coordinates. Has no effect on traces\n",
      " |          that have \"width\" set.\n",
      " |      boxgroupgap\n",
      " |          Sets the gap (in plot fraction) between boxes of the\n",
      " |          same location coordinate. Has no effect on traces that\n",
      " |          have \"width\" set.\n",
      " |      boxmode\n",
      " |          Determines how boxes at the same location coordinate\n",
      " |          are displayed on the graph. If \"group\", the boxes are\n",
      " |          plotted next to one another centered around the shared\n",
      " |          location. If \"overlay\", the boxes are plotted over one\n",
      " |          another, you might need to set \"opacity\" to see them\n",
      " |          multiple boxes. Has no effect on traces that have\n",
      " |          \"width\" set.\n",
      " |      calendar\n",
      " |          Sets the default calendar system to use for\n",
      " |          interpreting and displaying dates throughout the plot.\n",
      " |      clickmode\n",
      " |          Determines the mode of single click interactions.\n",
      " |          \"event\" is the default value and emits the\n",
      " |          `plotly_click` event. In addition this mode emits the\n",
      " |          `plotly_selected` event in drag modes \"lasso\" and\n",
      " |          \"select\", but with no event data attached (kept for\n",
      " |          compatibility reasons). The \"select\" flag enables\n",
      " |          selecting single data points via click. This mode also\n",
      " |          supports persistent selections, meaning that pressing\n",
      " |          Shift while clicking, adds to / subtracts from an\n",
      " |          existing selection. \"select\" with `hovermode`: \"x\" can\n",
      " |          be confusing, consider explicitly setting `hovermode`:\n",
      " |          \"closest\" when using this feature. Selection events are\n",
      " |          sent accordingly as long as \"event\" flag is set as\n",
      " |          well. When the \"event\" flag is missing, `plotly_click`\n",
      " |          and `plotly_selected` events are not fired.\n",
      " |      coloraxis\n",
      " |          :class:`plotly.graph_objects.layout.Coloraxis` instance\n",
      " |          or dict with compatible properties\n",
      " |      colorscale\n",
      " |          :class:`plotly.graph_objects.layout.Colorscale`\n",
      " |          instance or dict with compatible properties\n",
      " |      colorway\n",
      " |          Sets the default trace colors.\n",
      " |      computed\n",
      " |          Placeholder for exporting automargin-impacting values\n",
      " |          namely `margin.t`, `margin.b`, `margin.l` and\n",
      " |          `margin.r` in \"full-json\" mode.\n",
      " |      datarevision\n",
      " |          If provided, a changed value tells `Plotly.react` that\n",
      " |          one or more data arrays has changed. This way you can\n",
      " |          modify arrays in-place rather than making a complete\n",
      " |          new copy for an incremental change. If NOT provided,\n",
      " |          `Plotly.react` assumes that data arrays are being\n",
      " |          treated as immutable, thus any data array with a\n",
      " |          different identity from its predecessor contains new\n",
      " |          data.\n",
      " |      dragmode\n",
      " |          Determines the mode of drag interactions. \"select\" and\n",
      " |          \"lasso\" apply only to scatter traces with markers or\n",
      " |          text. \"orbit\" and \"turntable\" apply only to 3D scenes.\n",
      " |      editrevision\n",
      " |          Controls persistence of user-driven changes in\n",
      " |          `editable: true` configuration, other than trace names\n",
      " |          and axis titles. Defaults to `layout.uirevision`.\n",
      " |      extendfunnelareacolors\n",
      " |          If `true`, the funnelarea slice colors (whether given\n",
      " |          by `funnelareacolorway` or inherited from `colorway`)\n",
      " |          will be extended to three times its original length by\n",
      " |          first repeating every color 20% lighter then each color\n",
      " |          20% darker. This is intended to reduce the likelihood\n",
      " |          of reusing the same color when you have many slices,\n",
      " |          but you can set `false` to disable. Colors provided in\n",
      " |          the trace, using `marker.colors`, are never extended.\n",
      " |      extendiciclecolors\n",
      " |          If `true`, the icicle slice colors (whether given by\n",
      " |          `iciclecolorway` or inherited from `colorway`) will be\n",
      " |          extended to three times its original length by first\n",
      " |          repeating every color 20% lighter then each color 20%\n",
      " |          darker. This is intended to reduce the likelihood of\n",
      " |          reusing the same color when you have many slices, but\n",
      " |          you can set `false` to disable. Colors provided in the\n",
      " |          trace, using `marker.colors`, are never extended.\n",
      " |      extendpiecolors\n",
      " |          If `true`, the pie slice colors (whether given by\n",
      " |          `piecolorway` or inherited from `colorway`) will be\n",
      " |          extended to three times its original length by first\n",
      " |          repeating every color 20% lighter then each color 20%\n",
      " |          darker. This is intended to reduce the likelihood of\n",
      " |          reusing the same color when you have many slices, but\n",
      " |          you can set `false` to disable. Colors provided in the\n",
      " |          trace, using `marker.colors`, are never extended.\n",
      " |      extendsunburstcolors\n",
      " |          If `true`, the sunburst slice colors (whether given by\n",
      " |          `sunburstcolorway` or inherited from `colorway`) will\n",
      " |          be extended to three times its original length by first\n",
      " |          repeating every color 20% lighter then each color 20%\n",
      " |          darker. This is intended to reduce the likelihood of\n",
      " |          reusing the same color when you have many slices, but\n",
      " |          you can set `false` to disable. Colors provided in the\n",
      " |          trace, using `marker.colors`, are never extended.\n",
      " |      extendtreemapcolors\n",
      " |          If `true`, the treemap slice colors (whether given by\n",
      " |          `treemapcolorway` or inherited from `colorway`) will be\n",
      " |          extended to three times its original length by first\n",
      " |          repeating every color 20% lighter then each color 20%\n",
      " |          darker. This is intended to reduce the likelihood of\n",
      " |          reusing the same color when you have many slices, but\n",
      " |          you can set `false` to disable. Colors provided in the\n",
      " |          trace, using `marker.colors`, are never extended.\n",
      " |      font\n",
      " |          Sets the global font. Note that fonts used in traces\n",
      " |          and other layout components inherit from the global\n",
      " |          font.\n",
      " |      funnelareacolorway\n",
      " |          Sets the default funnelarea slice colors. Defaults to\n",
      " |          the main `colorway` used for trace colors. If you\n",
      " |          specify a new list here it can still be extended with\n",
      " |          lighter and darker colors, see\n",
      " |          `extendfunnelareacolors`.\n",
      " |      funnelgap\n",
      " |          Sets the gap (in plot fraction) between bars of\n",
      " |          adjacent location coordinates.\n",
      " |      funnelgroupgap\n",
      " |          Sets the gap (in plot fraction) between bars of the\n",
      " |          same location coordinate.\n",
      " |      funnelmode\n",
      " |          Determines how bars at the same location coordinate are\n",
      " |          displayed on the graph. With \"stack\", the bars are\n",
      " |          stacked on top of one another With \"group\", the bars\n",
      " |          are plotted next to one another centered around the\n",
      " |          shared location. With \"overlay\", the bars are plotted\n",
      " |          over one another, you might need to reduce \"opacity\" to\n",
      " |          see multiple bars.\n",
      " |      geo\n",
      " |          :class:`plotly.graph_objects.layout.Geo` instance or\n",
      " |          dict with compatible properties\n",
      " |      grid\n",
      " |          :class:`plotly.graph_objects.layout.Grid` instance or\n",
      " |          dict with compatible properties\n",
      " |      height\n",
      " |          Sets the plot's height (in px).\n",
      " |      hiddenlabels\n",
      " |          hiddenlabels is the funnelarea & pie chart analog of\n",
      " |          visible:'legendonly' but it can contain many labels,\n",
      " |          and can simultaneously hide slices from several\n",
      " |          pies/funnelarea charts\n",
      " |      hiddenlabelssrc\n",
      " |          Sets the source reference on Chart Studio Cloud for\n",
      " |          `hiddenlabels`.\n",
      " |      hidesources\n",
      " |          Determines whether or not a text link citing the data\n",
      " |          source is placed at the bottom-right cored of the\n",
      " |          figure. Has only an effect only on graphs that have\n",
      " |          been generated via forked graphs from the Chart Studio\n",
      " |          Cloud (at https://chart-studio.plotly.com or on-\n",
      " |          premise).\n",
      " |      hoverdistance\n",
      " |          Sets the default distance (in pixels) to look for data\n",
      " |          to add hover labels (-1 means no cutoff, 0 means no\n",
      " |          looking for data). This is only a real distance for\n",
      " |          hovering on point-like objects, like scatter points.\n",
      " |          For area-like objects (bars, scatter fills, etc)\n",
      " |          hovering is on inside the area and off outside, but\n",
      " |          these objects will not supersede hover on point-like\n",
      " |          objects in case of conflict.\n",
      " |      hoverlabel\n",
      " |          :class:`plotly.graph_objects.layout.Hoverlabel`\n",
      " |          instance or dict with compatible properties\n",
      " |      hovermode\n",
      " |          Determines the mode of hover interactions. If\n",
      " |          \"closest\", a single hoverlabel will appear for the\n",
      " |          \"closest\" point within the `hoverdistance`. If \"x\" (or\n",
      " |          \"y\"), multiple hoverlabels will appear for multiple\n",
      " |          points at the \"closest\" x- (or y-) coordinate within\n",
      " |          the `hoverdistance`, with the caveat that no more than\n",
      " |          one hoverlabel will appear per trace. If *x unified*\n",
      " |          (or *y unified*), a single hoverlabel will appear\n",
      " |          multiple points at the closest x- (or y-) coordinate\n",
      " |          within the `hoverdistance` with the caveat that no more\n",
      " |          than one hoverlabel will appear per trace. In this\n",
      " |          mode, spikelines are enabled by default perpendicular\n",
      " |          to the specified axis. If false, hover interactions are\n",
      " |          disabled.\n",
      " |      iciclecolorway\n",
      " |          Sets the default icicle slice colors. Defaults to the\n",
      " |          main `colorway` used for trace colors. If you specify a\n",
      " |          new list here it can still be extended with lighter and\n",
      " |          darker colors, see `extendiciclecolors`.\n",
      " |      images\n",
      " |          A tuple of :class:`plotly.graph_objects.layout.Image`\n",
      " |          instances or dicts with compatible properties\n",
      " |      imagedefaults\n",
      " |          When used in a template (as\n",
      " |          layout.template.layout.imagedefaults), sets the default\n",
      " |          property values to use for elements of layout.images\n",
      " |      legend\n",
      " |          :class:`plotly.graph_objects.layout.Legend` instance or\n",
      " |          dict with compatible properties\n",
      " |      mapbox\n",
      " |          :class:`plotly.graph_objects.layout.Mapbox` instance or\n",
      " |          dict with compatible properties\n",
      " |      margin\n",
      " |          :class:`plotly.graph_objects.layout.Margin` instance or\n",
      " |          dict with compatible properties\n",
      " |      meta\n",
      " |          Assigns extra meta information that can be used in\n",
      " |          various `text` attributes. Attributes such as the\n",
      " |          graph, axis and colorbar `title.text`, annotation\n",
      " |          `text` `trace.name` in legend items, `rangeselector`,\n",
      " |          `updatemenus` and `sliders` `label` text all support\n",
      " |          `meta`. One can access `meta` fields using template\n",
      " |          strings: `%{meta[i]}` where `i` is the index of the\n",
      " |          `meta` item in question. `meta` can also be an object\n",
      " |          for example `{key: value}` which can be accessed\n",
      " |          %{meta[key]}.\n",
      " |      metasrc\n",
      " |          Sets the source reference on Chart Studio Cloud for\n",
      " |          `meta`.\n",
      " |      minreducedheight\n",
      " |          Minimum height of the plot with margin.automargin\n",
      " |          applied (in px)\n",
      " |      minreducedwidth\n",
      " |          Minimum width of the plot with margin.automargin\n",
      " |          applied (in px)\n",
      " |      modebar\n",
      " |          :class:`plotly.graph_objects.layout.Modebar` instance\n",
      " |          or dict with compatible properties\n",
      " |      newselection\n",
      " |          :class:`plotly.graph_objects.layout.Newselection`\n",
      " |          instance or dict with compatible properties\n",
      " |      newshape\n",
      " |          :class:`plotly.graph_objects.layout.Newshape` instance\n",
      " |          or dict with compatible properties\n",
      " |      paper_bgcolor\n",
      " |          Sets the background color of the paper where the graph\n",
      " |          is drawn.\n",
      " |      piecolorway\n",
      " |          Sets the default pie slice colors. Defaults to the main\n",
      " |          `colorway` used for trace colors. If you specify a new\n",
      " |          list here it can still be extended with lighter and\n",
      " |          darker colors, see `extendpiecolors`.\n",
      " |      plot_bgcolor\n",
      " |          Sets the background color of the plotting area in-\n",
      " |          between x and y axes.\n",
      " |      polar\n",
      " |          :class:`plotly.graph_objects.layout.Polar` instance or\n",
      " |          dict with compatible properties\n",
      " |      scattergap\n",
      " |          Sets the gap (in plot fraction) between scatter points\n",
      " |          of adjacent location coordinates. Defaults to `bargap`.\n",
      " |      scattermode\n",
      " |          Determines how scatter points at the same location\n",
      " |          coordinate are displayed on the graph. With \"group\",\n",
      " |          the scatter points are plotted next to one another\n",
      " |          centered around the shared location. With \"overlay\",\n",
      " |          the scatter points are plotted over one another, you\n",
      " |          might need to reduce \"opacity\" to see multiple scatter\n",
      " |          points.\n",
      " |      scene\n",
      " |          :class:`plotly.graph_objects.layout.Scene` instance or\n",
      " |          dict with compatible properties\n",
      " |      selectdirection\n",
      " |          When `dragmode` is set to \"select\", this limits the\n",
      " |          selection of the drag to horizontal, vertical or\n",
      " |          diagonal. \"h\" only allows horizontal selection, \"v\"\n",
      " |          only vertical, \"d\" only diagonal and \"any\" sets no\n",
      " |          limit.\n",
      " |      selectionrevision\n",
      " |          Controls persistence of user-driven changes in selected\n",
      " |          points from all traces.\n",
      " |      selections\n",
      " |          A tuple of\n",
      " |          :class:`plotly.graph_objects.layout.Selection`\n",
      " |          instances or dicts with compatible properties\n",
      " |      selectiondefaults\n",
      " |          When used in a template (as\n",
      " |          layout.template.layout.selectiondefaults), sets the\n",
      " |          default property values to use for elements of\n",
      " |          layout.selections\n",
      " |      separators\n",
      " |          Sets the decimal and thousand separators. For example,\n",
      " |          *. * puts a '.' before decimals and a space between\n",
      " |          thousands. In English locales, dflt is \".,\" but other\n",
      " |          locales may alter this default.\n",
      " |      shapes\n",
      " |          A tuple of :class:`plotly.graph_objects.layout.Shape`\n",
      " |          instances or dicts with compatible properties\n",
      " |      shapedefaults\n",
      " |          When used in a template (as\n",
      " |          layout.template.layout.shapedefaults), sets the default\n",
      " |          property values to use for elements of layout.shapes\n",
      " |      showlegend\n",
      " |          Determines whether or not a legend is drawn. Default is\n",
      " |          `true` if there is a trace to show and any of these: a)\n",
      " |          Two or more traces would by default be shown in the\n",
      " |          legend. b) One pie trace is shown in the legend. c) One\n",
      " |          trace is explicitly given with `showlegend: true`.\n",
      " |      sliders\n",
      " |          A tuple of :class:`plotly.graph_objects.layout.Slider`\n",
      " |          instances or dicts with compatible properties\n",
      " |      sliderdefaults\n",
      " |          When used in a template (as\n",
      " |          layout.template.layout.sliderdefaults), sets the\n",
      " |          default property values to use for elements of\n",
      " |          layout.sliders\n",
      " |      smith\n",
      " |          :class:`plotly.graph_objects.layout.Smith` instance or\n",
      " |          dict with compatible properties\n",
      " |      spikedistance\n",
      " |          Sets the default distance (in pixels) to look for data\n",
      " |          to draw spikelines to (-1 means no cutoff, 0 means no\n",
      " |          looking for data). As with hoverdistance, distance does\n",
      " |          not apply to area-like objects. In addition, some\n",
      " |          objects can be hovered on but will not generate\n",
      " |          spikelines, such as scatter fills.\n",
      " |      sunburstcolorway\n",
      " |          Sets the default sunburst slice colors. Defaults to the\n",
      " |          main `colorway` used for trace colors. If you specify a\n",
      " |          new list here it can still be extended with lighter and\n",
      " |          darker colors, see `extendsunburstcolors`.\n",
      " |      template\n",
      " |          Default attributes to be applied to the plot. This\n",
      " |          should be a dict with format: `{'layout':\n",
      " |          layoutTemplate, 'data': {trace_type: [traceTemplate,\n",
      " |          ...], ...}}` where `layoutTemplate` is a dict matching\n",
      " |          the structure of `figure.layout` and `traceTemplate` is\n",
      " |          a dict matching the structure of the trace with type\n",
      " |          `trace_type` (e.g. 'scatter'). Alternatively, this may\n",
      " |          be specified as an instance of\n",
      " |          plotly.graph_objs.layout.Template.  Trace templates are\n",
      " |          applied cyclically to traces of each type. Container\n",
      " |          arrays (eg `annotations`) have special handling: An\n",
      " |          object ending in `defaults` (eg `annotationdefaults`)\n",
      " |          is applied to each array item. But if an item has a\n",
      " |          `templateitemname` key we look in the template array\n",
      " |          for an item with matching `name` and apply that\n",
      " |          instead. If no matching `name` is found we mark the\n",
      " |          item invisible. Any named template item not referenced\n",
      " |          is appended to the end of the array, so this can be\n",
      " |          used to add a watermark annotation or a logo image, for\n",
      " |          example. To omit one of these items on the plot, make\n",
      " |          an item with matching `templateitemname` and `visible:\n",
      " |          false`.\n",
      " |      ternary\n",
      " |          :class:`plotly.graph_objects.layout.Ternary` instance\n",
      " |          or dict with compatible properties\n",
      " |      title\n",
      " |          :class:`plotly.graph_objects.layout.Title` instance or\n",
      " |          dict with compatible properties\n",
      " |      titlefont\n",
      " |          Deprecated: Please use layout.title.font instead. Sets\n",
      " |          the title font. Note that the title's font used to be\n",
      " |          customized by the now deprecated `titlefont` attribute.\n",
      " |      transition\n",
      " |          Sets transition options used during Plotly.react\n",
      " |          updates.\n",
      " |      treemapcolorway\n",
      " |          Sets the default treemap slice colors. Defaults to the\n",
      " |          main `colorway` used for trace colors. If you specify a\n",
      " |          new list here it can still be extended with lighter and\n",
      " |          darker colors, see `extendtreemapcolors`.\n",
      " |      uirevision\n",
      " |          Used to allow user interactions with the plot to\n",
      " |          persist after `Plotly.react` calls that are unaware of\n",
      " |          these interactions. If `uirevision` is omitted, or if\n",
      " |          it is given and it changed from the previous\n",
      " |          `Plotly.react` call, the exact new figure is used. If\n",
      " |          `uirevision` is truthy and did NOT change, any\n",
      " |          attribute that has been affected by user interactions\n",
      " |          and did not receive a different value in the new figure\n",
      " |          will keep the interaction value. `layout.uirevision`\n",
      " |          attribute serves as the default for `uirevision`\n",
      " |          attributes in various sub-containers. For finer control\n",
      " |          you can set these sub-attributes directly. For example,\n",
      " |          if your app separately controls the data on the x and y\n",
      " |          axes you might set `xaxis.uirevision=*time*` and\n",
      " |          `yaxis.uirevision=*cost*`. Then if only the y data is\n",
      " |          changed, you can update `yaxis.uirevision=*quantity*`\n",
      " |          and the y axis range will reset but the x axis range\n",
      " |          will retain any user-driven zoom.\n",
      " |      uniformtext\n",
      " |          :class:`plotly.graph_objects.layout.Uniformtext`\n",
      " |          instance or dict with compatible properties\n",
      " |      updatemenus\n",
      " |          A tuple of\n",
      " |          :class:`plotly.graph_objects.layout.Updatemenu`\n",
      " |          instances or dicts with compatible properties\n",
      " |      updatemenudefaults\n",
      " |          When used in a template (as\n",
      " |          layout.template.layout.updatemenudefaults), sets the\n",
      " |          default property values to use for elements of\n",
      " |          layout.updatemenus\n",
      " |      violingap\n",
      " |          Sets the gap (in plot fraction) between violins of\n",
      " |          adjacent location coordinates. Has no effect on traces\n",
      " |          that have \"width\" set.\n",
      " |      violingroupgap\n",
      " |          Sets the gap (in plot fraction) between violins of the\n",
      " |          same location coordinate. Has no effect on traces that\n",
      " |          have \"width\" set.\n",
      " |      violinmode\n",
      " |          Determines how violins at the same location coordinate\n",
      " |          are displayed on the graph. If \"group\", the violins are\n",
      " |          plotted next to one another centered around the shared\n",
      " |          location. If \"overlay\", the violins are plotted over\n",
      " |          one another, you might need to set \"opacity\" to see\n",
      " |          them multiple violins. Has no effect on traces that\n",
      " |          have \"width\" set.\n",
      " |      waterfallgap\n",
      " |          Sets the gap (in plot fraction) between bars of\n",
      " |          adjacent location coordinates.\n",
      " |      waterfallgroupgap\n",
      " |          Sets the gap (in plot fraction) between bars of the\n",
      " |          same location coordinate.\n",
      " |      waterfallmode\n",
      " |          Determines how bars at the same location coordinate are\n",
      " |          displayed on the graph. With \"group\", the bars are\n",
      " |          plotted next to one another centered around the shared\n",
      " |          location. With \"overlay\", the bars are plotted over one\n",
      " |          another, you might need to reduce \"opacity\" to see\n",
      " |          multiple bars.\n",
      " |      width\n",
      " |          Sets the plot's width (in px).\n",
      " |      xaxis\n",
      " |          :class:`plotly.graph_objects.layout.XAxis` instance or\n",
      " |          dict with compatible properties\n",
      " |      yaxis\n",
      " |          :class:`plotly.graph_objects.layout.YAxis` instance or\n",
      " |          dict with compatible properties\n",
      " |      \n",
      " |      Returns\n",
      " |      -------\n",
      " |      Layout\n",
      " |  \n",
      " |  ----------------------------------------------------------------------\n",
      " |  Data descriptors defined here:\n",
      " |  \n",
      " |  activeselection\n",
      " |      The 'activeselection' property is an instance of Activeselection\n",
      " |      that may be specified as:\n",
      " |        - An instance of :class:`plotly.graph_objs.layout.Activeselection`\n",
      " |        - A dict of string/value properties that will be passed\n",
      " |          to the Activeselection constructor\n",
      " |      \n",
      " |          Supported dict properties:\n",
      " |      \n",
      " |              fillcolor\n",
      " |                  Sets the color filling the active selection'\n",
      " |                  interior.\n",
      " |              opacity\n",
      " |                  Sets the opacity of the active selection.\n",
      " |      \n",
      " |      Returns\n",
      " |      -------\n",
      " |      plotly.graph_objs.layout.Activeselection\n",
      " |  \n",
      " |  activeshape\n",
      " |      The 'activeshape' property is an instance of Activeshape\n",
      " |      that may be specified as:\n",
      " |        - An instance of :class:`plotly.graph_objs.layout.Activeshape`\n",
      " |        - A dict of string/value properties that will be passed\n",
      " |          to the Activeshape constructor\n",
      " |      \n",
      " |          Supported dict properties:\n",
      " |      \n",
      " |              fillcolor\n",
      " |                  Sets the color filling the active shape'\n",
      " |                  interior.\n",
      " |              opacity\n",
      " |                  Sets the opacity of the active shape.\n",
      " |      \n",
      " |      Returns\n",
      " |      -------\n",
      " |      plotly.graph_objs.layout.Activeshape\n",
      " |  \n",
      " |  annotationdefaults\n",
      " |      When used in a template (as\n",
      " |      layout.template.layout.annotationdefaults), sets the default\n",
      " |      property values to use for elements of layout.annotations\n",
      " |      \n",
      " |      The 'annotationdefaults' property is an instance of Annotation\n",
      " |      that may be specified as:\n",
      " |        - An instance of :class:`plotly.graph_objs.layout.Annotation`\n",
      " |        - A dict of string/value properties that will be passed\n",
      " |          to the Annotation constructor\n",
      " |      \n",
      " |          Supported dict properties:\n",
      " |      \n",
      " |      Returns\n",
      " |      -------\n",
      " |      plotly.graph_objs.layout.Annotation\n",
      " |  \n",
      " |  annotations\n",
      " |      The 'annotations' property is a tuple of instances of\n",
      " |      Annotation that may be specified as:\n",
      " |        - A list or tuple of instances of plotly.graph_objs.layout.Annotation\n",
      " |        - A list or tuple of dicts of string/value properties that\n",
      " |          will be passed to the Annotation constructor\n",
      " |      \n",
      " |          Supported dict properties:\n",
      " |      \n",
      " |              align\n",
      " |                  Sets the horizontal alignment of the `text`\n",
      " |                  within the box. Has an effect only if `text`\n",
      " |                  spans two or more lines (i.e. `text` contains\n",
      " |                  one or more <br> HTML tags) or if an explicit\n",
      " |                  width is set to override the text width.\n",
      " |              arrowcolor\n",
      " |                  Sets the color of the annotation arrow.\n",
      " |              arrowhead\n",
      " |                  Sets the end annotation arrow head style.\n",
      " |              arrowside\n",
      " |                  Sets the annotation arrow head position.\n",
      " |              arrowsize\n",
      " |                  Sets the size of the end annotation arrow head,\n",
      " |                  relative to `arrowwidth`. A value of 1\n",
      " |                  (default) gives a head about 3x as wide as the\n",
      " |                  line.\n",
      " |              arrowwidth\n",
      " |                  Sets the width (in px) of annotation arrow\n",
      " |                  line.\n",
      " |              ax\n",
      " |                  Sets the x component of the arrow tail about\n",
      " |                  the arrow head. If `axref` is `pixel`, a\n",
      " |                  positive (negative) component corresponds to an\n",
      " |                  arrow pointing from right to left (left to\n",
      " |                  right). If `axref` is not `pixel` and is\n",
      " |                  exactly the same as `xref`, this is an absolute\n",
      " |                  value on that axis, like `x`, specified in the\n",
      " |                  same coordinates as `xref`.\n",
      " |              axref\n",
      " |                  Indicates in what coordinates the tail of the\n",
      " |                  annotation (ax,ay) is specified. If set to a x\n",
      " |                  axis id (e.g. \"x\" or \"x2\"), the `x` position\n",
      " |                  refers to a x coordinate. If set to \"paper\",\n",
      " |                  the `x` position refers to the distance from\n",
      " |                  the left of the plotting area in normalized\n",
      " |                  coordinates where 0 (1) corresponds to the left\n",
      " |                  (right). If set to a x axis ID followed by\n",
      " |                  \"domain\" (separated by a space), the position\n",
      " |                  behaves like for \"paper\", but refers to the\n",
      " |                  distance in fractions of the domain length from\n",
      " |                  the left of the domain of that axis: e.g., *x2\n",
      " |                  domain* refers to the domain of the second x\n",
      " |                  axis and a x position of 0.5 refers to the\n",
      " |                  point between the left and the right of the\n",
      " |                  domain of the second x axis. In order for\n",
      " |                  absolute positioning of the arrow to work,\n",
      " |                  \"axref\" must be exactly the same as \"xref\",\n",
      " |                  otherwise \"axref\" will revert to \"pixel\"\n",
      " |                  (explained next). For relative positioning,\n",
      " |                  \"axref\" can be set to \"pixel\", in which case\n",
      " |                  the \"ax\" value is specified in pixels relative\n",
      " |                  to \"x\". Absolute positioning is useful for\n",
      " |                  trendline annotations which should continue to\n",
      " |                  indicate the correct trend when zoomed.\n",
      " |                  Relative positioning is useful for specifying\n",
      " |                  the text offset for an annotated point.\n",
      " |              ay\n",
      " |                  Sets the y component of the arrow tail about\n",
      " |                  the arrow head. If `ayref` is `pixel`, a\n",
      " |                  positive (negative) component corresponds to an\n",
      " |                  arrow pointing from bottom to top (top to\n",
      " |                  bottom). If `ayref` is not `pixel` and is\n",
      " |                  exactly the same as `yref`, this is an absolute\n",
      " |                  value on that axis, like `y`, specified in the\n",
      " |                  same coordinates as `yref`.\n",
      " |              ayref\n",
      " |                  Indicates in what coordinates the tail of the\n",
      " |                  annotation (ax,ay) is specified. If set to a y\n",
      " |                  axis id (e.g. \"y\" or \"y2\"), the `y` position\n",
      " |                  refers to a y coordinate. If set to \"paper\",\n",
      " |                  the `y` position refers to the distance from\n",
      " |                  the bottom of the plotting area in normalized\n",
      " |                  coordinates where 0 (1) corresponds to the\n",
      " |                  bottom (top). If set to a y axis ID followed by\n",
      " |                  \"domain\" (separated by a space), the position\n",
      " |                  behaves like for \"paper\", but refers to the\n",
      " |                  distance in fractions of the domain length from\n",
      " |                  the bottom of the domain of that axis: e.g.,\n",
      " |                  *y2 domain* refers to the domain of the second\n",
      " |                  y  axis and a y position of 0.5 refers to the\n",
      " |                  point between the bottom and the top of the\n",
      " |                  domain of the second y axis. In order for\n",
      " |                  absolute positioning of the arrow to work,\n",
      " |                  \"ayref\" must be exactly the same as \"yref\",\n",
      " |                  otherwise \"ayref\" will revert to \"pixel\"\n",
      " |                  (explained next). For relative positioning,\n",
      " |                  \"ayref\" can be set to \"pixel\", in which case\n",
      " |                  the \"ay\" value is specified in pixels relative\n",
      " |                  to \"y\". Absolute positioning is useful for\n",
      " |                  trendline annotations which should continue to\n",
      " |                  indicate the correct trend when zoomed.\n",
      " |                  Relative positioning is useful for specifying\n",
      " |                  the text offset for an annotated point.\n",
      " |              bgcolor\n",
      " |                  Sets the background color of the annotation.\n",
      " |              bordercolor\n",
      " |                  Sets the color of the border enclosing the\n",
      " |                  annotation `text`.\n",
      " |              borderpad\n",
      " |                  Sets the padding (in px) between the `text` and\n",
      " |                  the enclosing border.\n",
      " |              borderwidth\n",
      " |                  Sets the width (in px) of the border enclosing\n",
      " |                  the annotation `text`.\n",
      " |              captureevents\n",
      " |                  Determines whether the annotation text box\n",
      " |                  captures mouse move and click events, or allows\n",
      " |                  those events to pass through to data points in\n",
      " |                  the plot that may be behind the annotation. By\n",
      " |                  default `captureevents` is False unless\n",
      " |                  `hovertext` is provided. If you use the event\n",
      " |                  `plotly_clickannotation` without `hovertext`\n",
      " |                  you must explicitly enable `captureevents`.\n",
      " |              clicktoshow\n",
      " |                  Makes this annotation respond to clicks on the\n",
      " |                  plot. If you click a data point that exactly\n",
      " |                  matches the `x` and `y` values of this\n",
      " |                  annotation, and it is hidden (visible: false),\n",
      " |                  it will appear. In \"onoff\" mode, you must click\n",
      " |                  the same point again to make it disappear, so\n",
      " |                  if you click multiple points, you can show\n",
      " |                  multiple annotations. In \"onout\" mode, a click\n",
      " |                  anywhere else in the plot (on another data\n",
      " |                  point or not) will hide this annotation. If you\n",
      " |                  need to show/hide this annotation in response\n",
      " |                  to different `x` or `y` values, you can set\n",
      " |                  `xclick` and/or `yclick`. This is useful for\n",
      " |                  example to label the side of a bar. To label\n",
      " |                  markers though, `standoff` is preferred over\n",
      " |                  `xclick` and `yclick`.\n",
      " |              font\n",
      " |                  Sets the annotation text font.\n",
      " |              height\n",
      " |                  Sets an explicit height for the text box. null\n",
      " |                  (default) lets the text set the box height.\n",
      " |                  Taller text will be clipped.\n",
      " |              hoverlabel\n",
      " |                  :class:`plotly.graph_objects.layout.annotation.\n",
      " |                  Hoverlabel` instance or dict with compatible\n",
      " |                  properties\n",
      " |              hovertext\n",
      " |                  Sets text to appear when hovering over this\n",
      " |                  annotation. If omitted or blank, no hover label\n",
      " |                  will appear.\n",
      " |              name\n",
      " |                  When used in a template, named items are\n",
      " |                  created in the output figure in addition to any\n",
      " |                  items the figure already has in this array. You\n",
      " |                  can modify these items in the output figure by\n",
      " |                  making your own item with `templateitemname`\n",
      " |                  matching this `name` alongside your\n",
      " |                  modifications (including `visible: false` or\n",
      " |                  `enabled: false` to hide it). Has no effect\n",
      " |                  outside of a template.\n",
      " |              opacity\n",
      " |                  Sets the opacity of the annotation (text +\n",
      " |                  arrow).\n",
      " |              showarrow\n",
      " |                  Determines whether or not the annotation is\n",
      " |                  drawn with an arrow. If True, `text` is placed\n",
      " |                  near the arrow's tail. If False, `text` lines\n",
      " |                  up with the `x` and `y` provided.\n",
      " |              standoff\n",
      " |                  Sets a distance, in pixels, to move the end\n",
      " |                  arrowhead away from the position it is pointing\n",
      " |                  at, for example to point at the edge of a\n",
      " |                  marker independent of zoom. Note that this\n",
      " |                  shortens the arrow from the `ax` / `ay` vector,\n",
      " |                  in contrast to `xshift` / `yshift` which moves\n",
      " |                  everything by this amount.\n",
      " |              startarrowhead\n",
      " |                  Sets the start annotation arrow head style.\n",
      " |              startarrowsize\n",
      " |                  Sets the size of the start annotation arrow\n",
      " |                  head, relative to `arrowwidth`. A value of 1\n",
      " |                  (default) gives a head about 3x as wide as the\n",
      " |                  line.\n",
      " |              startstandoff\n",
      " |                  Sets a distance, in pixels, to move the start\n",
      " |                  arrowhead away from the position it is pointing\n",
      " |                  at, for example to point at the edge of a\n",
      " |                  marker independent of zoom. Note that this\n",
      " |                  shortens the arrow from the `ax` / `ay` vector,\n",
      " |                  in contrast to `xshift` / `yshift` which moves\n",
      " |                  everything by this amount.\n",
      " |              templateitemname\n",
      " |                  Used to refer to a named item in this array in\n",
      " |                  the template. Named items from the template\n",
      " |                  will be created even without a matching item in\n",
      " |                  the input figure, but you can modify one by\n",
      " |                  making an item with `templateitemname` matching\n",
      " |                  its `name`, alongside your modifications\n",
      " |                  (including `visible: false` or `enabled: false`\n",
      " |                  to hide it). If there is no template or no\n",
      " |                  matching item, this item will be hidden unless\n",
      " |                  you explicitly show it with `visible: true`.\n",
      " |              text\n",
      " |                  Sets the text associated with this annotation.\n",
      " |                  Plotly uses a subset of HTML tags to do things\n",
      " |                  like newline (<br>), bold (<b></b>), italics\n",
      " |                  (<i></i>), hyperlinks (<a href='...'></a>).\n",
      " |                  Tags <em>, <sup>, <sub> <span> are also\n",
      " |                  supported.\n",
      " |              textangle\n",
      " |                  Sets the angle at which the `text` is drawn\n",
      " |                  with respect to the horizontal.\n",
      " |              valign\n",
      " |                  Sets the vertical alignment of the `text`\n",
      " |                  within the box. Has an effect only if an\n",
      " |                  explicit height is set to override the text\n",
      " |                  height.\n",
      " |              visible\n",
      " |                  Determines whether or not this annotation is\n",
      " |                  visible.\n",
      " |              width\n",
      " |                  Sets an explicit width for the text box. null\n",
      " |                  (default) lets the text set the box width.\n",
      " |                  Wider text will be clipped. There is no\n",
      " |                  automatic wrapping; use <br> to start a new\n",
      " |                  line.\n",
      " |              x\n",
      " |                  Sets the annotation's x position. If the axis\n",
      " |                  `type` is \"log\", then you must take the log of\n",
      " |                  your desired range. If the axis `type` is\n",
      " |                  \"date\", it should be date strings, like date\n",
      " |                  data, though Date objects and unix milliseconds\n",
      " |                  will be accepted and converted to strings. If\n",
      " |                  the axis `type` is \"category\", it should be\n",
      " |                  numbers, using the scale where each category is\n",
      " |                  assigned a serial number from zero in the order\n",
      " |                  it appears.\n",
      " |              xanchor\n",
      " |                  Sets the text box's horizontal position anchor\n",
      " |                  This anchor binds the `x` position to the\n",
      " |                  \"left\", \"center\" or \"right\" of the annotation.\n",
      " |                  For example, if `x` is set to 1, `xref` to\n",
      " |                  \"paper\" and `xanchor` to \"right\" then the\n",
      " |                  right-most portion of the annotation lines up\n",
      " |                  with the right-most edge of the plotting area.\n",
      " |                  If \"auto\", the anchor is equivalent to \"center\"\n",
      " |                  for data-referenced annotations or if there is\n",
      " |                  an arrow, whereas for paper-referenced with no\n",
      " |                  arrow, the anchor picked corresponds to the\n",
      " |                  closest side.\n",
      " |              xclick\n",
      " |                  Toggle this annotation when clicking a data\n",
      " |                  point whose `x` value is `xclick` rather than\n",
      " |                  the annotation's `x` value.\n",
      " |              xref\n",
      " |                  Sets the annotation's x coordinate axis. If set\n",
      " |                  to a x axis id (e.g. \"x\" or \"x2\"), the `x`\n",
      " |                  position refers to a x coordinate. If set to\n",
      " |                  \"paper\", the `x` position refers to the\n",
      " |                  distance from the left of the plotting area in\n",
      " |                  normalized coordinates where 0 (1) corresponds\n",
      " |                  to the left (right). If set to a x axis ID\n",
      " |                  followed by \"domain\" (separated by a space),\n",
      " |                  the position behaves like for \"paper\", but\n",
      " |                  refers to the distance in fractions of the\n",
      " |                  domain length from the left of the domain of\n",
      " |                  that axis: e.g., *x2 domain* refers to the\n",
      " |                  domain of the second x  axis and a x position\n",
      " |                  of 0.5 refers to the point between the left and\n",
      " |                  the right of the domain of the second x axis.\n",
      " |              xshift\n",
      " |                  Shifts the position of the whole annotation and\n",
      " |                  arrow to the right (positive) or left\n",
      " |                  (negative) by this many pixels.\n",
      " |              y\n",
      " |                  Sets the annotation's y position. If the axis\n",
      " |                  `type` is \"log\", then you must take the log of\n",
      " |                  your desired range. If the axis `type` is\n",
      " |                  \"date\", it should be date strings, like date\n",
      " |                  data, though Date objects and unix milliseconds\n",
      " |                  will be accepted and converted to strings. If\n",
      " |                  the axis `type` is \"category\", it should be\n",
      " |                  numbers, using the scale where each category is\n",
      " |                  assigned a serial number from zero in the order\n",
      " |                  it appears.\n",
      " |              yanchor\n",
      " |                  Sets the text box's vertical position anchor\n",
      " |                  This anchor binds the `y` position to the\n",
      " |                  \"top\", \"middle\" or \"bottom\" of the annotation.\n",
      " |                  For example, if `y` is set to 1, `yref` to\n",
      " |                  \"paper\" and `yanchor` to \"top\" then the top-\n",
      " |                  most portion of the annotation lines up with\n",
      " |                  the top-most edge of the plotting area. If\n",
      " |                  \"auto\", the anchor is equivalent to \"middle\"\n",
      " |                  for data-referenced annotations or if there is\n",
      " |                  an arrow, whereas for paper-referenced with no\n",
      " |                  arrow, the anchor picked corresponds to the\n",
      " |                  closest side.\n",
      " |              yclick\n",
      " |                  Toggle this annotation when clicking a data\n",
      " |                  point whose `y` value is `yclick` rather than\n",
      " |                  the annotation's `y` value.\n",
      " |              yref\n",
      " |                  Sets the annotation's y coordinate axis. If set\n",
      " |                  to a y axis id (e.g. \"y\" or \"y2\"), the `y`\n",
      " |                  position refers to a y coordinate. If set to\n",
      " |                  \"paper\", the `y` position refers to the\n",
      " |                  distance from the bottom of the plotting area\n",
      " |                  in normalized coordinates where 0 (1)\n",
      " |                  corresponds to the bottom (top). If set to a y\n",
      " |                  axis ID followed by \"domain\" (separated by a\n",
      " |                  space), the position behaves like for \"paper\",\n",
      " |                  but refers to the distance in fractions of the\n",
      " |                  domain length from the bottom of the domain of\n",
      " |                  that axis: e.g., *y2 domain* refers to the\n",
      " |                  domain of the second y  axis and a y position\n",
      " |                  of 0.5 refers to the point between the bottom\n",
      " |                  and the top of the domain of the second y axis.\n",
      " |              yshift\n",
      " |                  Shifts the position of the whole annotation and\n",
      " |                  arrow up (positive) or down (negative) by this\n",
      " |                  many pixels.\n",
      " |      \n",
      " |      Returns\n",
      " |      -------\n",
      " |      tuple[plotly.graph_objs.layout.Annotation]\n",
      " |  \n",
      " |  autosize\n",
      " |      Determines whether or not a layout width or height that has\n",
      " |      been left undefined by the user is initialized on each\n",
      " |      relayout. Note that, regardless of this attribute, an undefined\n",
      " |      layout width or height is always initialized on the first call\n",
      " |      to plot.\n",
      " |      \n",
      " |      The 'autosize' property must be specified as a bool\n",
      " |      (either True, or False)\n",
      " |      \n",
      " |      Returns\n",
      " |      -------\n",
      " |      bool\n",
      " |  \n",
      " |  autotypenumbers\n",
      " |      Using \"strict\" a numeric string in trace data is not converted\n",
      " |      to a number. Using *convert types* a numeric string in trace\n",
      " |      data may be treated as a number during automatic axis `type`\n",
      " |      detection. This is the default value; however it could be\n",
      " |      overridden for individual axes.\n",
      " |      \n",
      " |      The 'autotypenumbers' property is an enumeration that may be specified as:\n",
      " |        - One of the following enumeration values:\n",
      " |              ['convert types', 'strict']\n",
      " |      \n",
      " |      Returns\n",
      " |      -------\n",
      " |      Any\n",
      " |  \n",
      " |  barcornerradius\n",
      " |      Sets the rounding of bar corners. May be an integer number of\n",
      " |      pixels, or a percentage of bar width (as a string ending in %).\n",
      " |      \n",
      " |      The 'barcornerradius' property accepts values of any type\n",
      " |      \n",
      " |      Returns\n",
      " |      -------\n",
      " |      Any\n",
      " |  \n",
      " |  bargap\n",
      " |      Sets the gap (in plot fraction) between bars of adjacent\n",
      " |      location coordinates.\n",
      " |      \n",
      " |      The 'bargap' property is a number and may be specified as:\n",
      " |        - An int or float in the interval [0, 1]\n",
      " |      \n",
      " |      Returns\n",
      " |      -------\n",
      " |      int|float\n",
      " |  \n",
      " |  bargroupgap\n",
      " |      Sets the gap (in plot fraction) between bars of the same\n",
      " |      location coordinate.\n",
      " |      \n",
      " |      The 'bargroupgap' property is a number and may be specified as:\n",
      " |        - An int or float in the interval [0, 1]\n",
      " |      \n",
      " |      Returns\n",
      " |      -------\n",
      " |      int|float\n",
      " |  \n",
      " |  barmode\n",
      " |      Determines how bars at the same location coordinate are\n",
      " |      displayed on the graph. With \"stack\", the bars are stacked on\n",
      " |      top of one another With \"relative\", the bars are stacked on top\n",
      " |      of one another, with negative values below the axis, positive\n",
      " |      values above With \"group\", the bars are plotted next to one\n",
      " |      another centered around the shared location. With \"overlay\",\n",
      " |      the bars are plotted over one another, you might need to reduce\n",
      " |      \"opacity\" to see multiple bars.\n",
      " |      \n",
      " |      The 'barmode' property is an enumeration that may be specified as:\n",
      " |        - One of the following enumeration values:\n",
      " |              ['stack', 'group', 'overlay', 'relative']\n",
      " |      \n",
      " |      Returns\n",
      " |      -------\n",
      " |      Any\n",
      " |  \n",
      " |  barnorm\n",
      " |      Sets the normalization for bar traces on the graph. With\n",
      " |      \"fraction\", the value of each bar is divided by the sum of all\n",
      " |      values at that location coordinate. \"percent\" is the same but\n",
      " |      multiplied by 100 to show percentages.\n",
      " |      \n",
      " |      The 'barnorm' property is an enumeration that may be specified as:\n",
      " |        - One of the following enumeration values:\n",
      " |              ['', 'fraction', 'percent']\n",
      " |      \n",
      " |      Returns\n",
      " |      -------\n",
      " |      Any\n",
      " |  \n",
      " |  boxgap\n",
      " |      Sets the gap (in plot fraction) between boxes of adjacent\n",
      " |      location coordinates. Has no effect on traces that have \"width\"\n",
      " |      set.\n",
      " |      \n",
      " |      The 'boxgap' property is a number and may be specified as:\n",
      " |        - An int or float in the interval [0, 1]\n",
      " |      \n",
      " |      Returns\n",
      " |      -------\n",
      " |      int|float\n",
      " |  \n",
      " |  boxgroupgap\n",
      " |      Sets the gap (in plot fraction) between boxes of the same\n",
      " |      location coordinate. Has no effect on traces that have \"width\"\n",
      " |      set.\n",
      " |      \n",
      " |      The 'boxgroupgap' property is a number and may be specified as:\n",
      " |        - An int or float in the interval [0, 1]\n",
      " |      \n",
      " |      Returns\n",
      " |      -------\n",
      " |      int|float\n",
      " |  \n",
      " |  boxmode\n",
      " |      Determines how boxes at the same location coordinate are\n",
      " |      displayed on the graph. If \"group\", the boxes are plotted next\n",
      " |      to one another centered around the shared location. If\n",
      " |      \"overlay\", the boxes are plotted over one another, you might\n",
      " |      need to set \"opacity\" to see them multiple boxes. Has no effect\n",
      " |      on traces that have \"width\" set.\n",
      " |      \n",
      " |      The 'boxmode' property is an enumeration that may be specified as:\n",
      " |        - One of the following enumeration values:\n",
      " |              ['group', 'overlay']\n",
      " |      \n",
      " |      Returns\n",
      " |      -------\n",
      " |      Any\n",
      " |  \n",
      " |  calendar\n",
      " |      Sets the default calendar system to use for interpreting and\n",
      " |      displaying dates throughout the plot.\n",
      " |      \n",
      " |      The 'calendar' property is an enumeration that may be specified as:\n",
      " |        - One of the following enumeration values:\n",
      " |              ['chinese', 'coptic', 'discworld', 'ethiopian',\n",
      " |              'gregorian', 'hebrew', 'islamic', 'jalali', 'julian',\n",
      " |              'mayan', 'nanakshahi', 'nepali', 'persian', 'taiwan',\n",
      " |              'thai', 'ummalqura']\n",
      " |      \n",
      " |      Returns\n",
      " |      -------\n",
      " |      Any\n",
      " |  \n",
      " |  clickmode\n",
      " |      Determines the mode of single click interactions. \"event\" is\n",
      " |      the default value and emits the `plotly_click` event. In\n",
      " |      addition this mode emits the `plotly_selected` event in drag\n",
      " |      modes \"lasso\" and \"select\", but with no event data attached\n",
      " |      (kept for compatibility reasons). The \"select\" flag enables\n",
      " |      selecting single data points via click. This mode also supports\n",
      " |      persistent selections, meaning that pressing Shift while\n",
      " |      clicking, adds to / subtracts from an existing selection.\n",
      " |      \"select\" with `hovermode`: \"x\" can be confusing, consider\n",
      " |      explicitly setting `hovermode`: \"closest\" when using this\n",
      " |      feature. Selection events are sent accordingly as long as\n",
      " |      \"event\" flag is set as well. When the \"event\" flag is missing,\n",
      " |      `plotly_click` and `plotly_selected` events are not fired.\n",
      " |      \n",
      " |      The 'clickmode' property is a flaglist and may be specified\n",
      " |      as a string containing:\n",
      " |        - Any combination of ['event', 'select'] joined with '+' characters\n",
      " |          (e.g. 'event+select')\n",
      " |          OR exactly one of ['none'] (e.g. 'none')\n",
      " |      \n",
      " |      Returns\n",
      " |      -------\n",
      " |      Any\n",
      " |  \n",
      " |  coloraxis\n",
      " |      The 'coloraxis' property is an instance of Coloraxis\n",
      " |      that may be specified as:\n",
      " |        - An instance of :class:`plotly.graph_objs.layout.Coloraxis`\n",
      " |        - A dict of string/value properties that will be passed\n",
      " |          to the Coloraxis constructor\n",
      " |      \n",
      " |          Supported dict properties:\n",
      " |      \n",
      " |              autocolorscale\n",
      " |                  Determines whether the colorscale is a default\n",
      " |                  palette (`autocolorscale: true`) or the palette\n",
      " |                  determined by `colorscale`. In case\n",
      " |                  `colorscale` is unspecified or `autocolorscale`\n",
      " |                  is true, the default palette will be chosen\n",
      " |                  according to whether numbers in the `color`\n",
      " |                  array are all positive, all negative or mixed.\n",
      " |              cauto\n",
      " |                  Determines whether or not the color domain is\n",
      " |                  computed with respect to the input data (here\n",
      " |                  corresponding trace color array(s)) or the\n",
      " |                  bounds set in `cmin` and `cmax` Defaults to\n",
      " |                  `false` when `cmin` and `cmax` are set by the\n",
      " |                  user.\n",
      " |              cmax\n",
      " |                  Sets the upper bound of the color domain. Value\n",
      " |                  should have the same units as corresponding\n",
      " |                  trace color array(s) and if set, `cmin` must be\n",
      " |                  set as well.\n",
      " |              cmid\n",
      " |                  Sets the mid-point of the color domain by\n",
      " |                  scaling `cmin` and/or `cmax` to be equidistant\n",
      " |                  to this point. Value should have the same units\n",
      " |                  as corresponding trace color array(s). Has no\n",
      " |                  effect when `cauto` is `false`.\n",
      " |              cmin\n",
      " |                  Sets the lower bound of the color domain. Value\n",
      " |                  should have the same units as corresponding\n",
      " |                  trace color array(s) and if set, `cmax` must be\n",
      " |                  set as well.\n",
      " |              colorbar\n",
      " |                  :class:`plotly.graph_objects.layout.coloraxis.C\n",
      " |                  olorBar` instance or dict with compatible\n",
      " |                  properties\n",
      " |              colorscale\n",
      " |                  Sets the colorscale. The colorscale must be an\n",
      " |                  array containing arrays mapping a normalized\n",
      " |                  value to an rgb, rgba, hex, hsl, hsv, or named\n",
      " |                  color string. At minimum, a mapping for the\n",
      " |                  lowest (0) and highest (1) values are required.\n",
      " |                  For example, `[[0, 'rgb(0,0,255)'], [1,\n",
      " |                  'rgb(255,0,0)']]`. To control the bounds of the\n",
      " |                  colorscale in color space, use `cmin` and\n",
      " |                  `cmax`. Alternatively, `colorscale` may be a\n",
      " |                  palette name string of the following list: Blac\n",
      " |                  kbody,Bluered,Blues,Cividis,Earth,Electric,Gree\n",
      " |                  ns,Greys,Hot,Jet,Picnic,Portland,Rainbow,RdBu,R\n",
      " |                  eds,Viridis,YlGnBu,YlOrRd.\n",
      " |              reversescale\n",
      " |                  Reverses the color mapping if true. If true,\n",
      " |                  `cmin` will correspond to the last color in the\n",
      " |                  array and `cmax` will correspond to the first\n",
      " |                  color.\n",
      " |              showscale\n",
      " |                  Determines whether or not a colorbar is\n",
      " |                  displayed for this trace.\n",
      " |      \n",
      " |      Returns\n",
      " |      -------\n",
      " |      plotly.graph_objs.layout.Coloraxis\n",
      " |  \n",
      " |  colorscale\n",
      " |      The 'colorscale' property is an instance of Colorscale\n",
      " |      that may be specified as:\n",
      " |        - An instance of :class:`plotly.graph_objs.layout.Colorscale`\n",
      " |        - A dict of string/value properties that will be passed\n",
      " |          to the Colorscale constructor\n",
      " |      \n",
      " |          Supported dict properties:\n",
      " |      \n",
      " |              diverging\n",
      " |                  Sets the default diverging colorscale. Note\n",
      " |                  that `autocolorscale` must be true for this\n",
      " |                  attribute to work.\n",
      " |              sequential\n",
      " |                  Sets the default sequential colorscale for\n",
      " |                  positive values. Note that `autocolorscale`\n",
      " |                  must be true for this attribute to work.\n",
      " |              sequentialminus\n",
      " |                  Sets the default sequential colorscale for\n",
      " |                  negative values. Note that `autocolorscale`\n",
      " |                  must be true for this attribute to work.\n",
      " |      \n",
      " |      Returns\n",
      " |      -------\n",
      " |      plotly.graph_objs.layout.Colorscale\n",
      " |  \n",
      " |  colorway\n",
      " |      Sets the default trace colors.\n",
      " |      \n",
      " |      The 'colorway' property is a colorlist that may be specified\n",
      " |      as a tuple, list, one-dimensional numpy array, or pandas Series of valid\n",
      " |      color strings\n",
      " |      \n",
      " |      Returns\n",
      " |      -------\n",
      " |      list\n",
      " |  \n",
      " |  computed\n",
      " |      Placeholder for exporting automargin-impacting values namely\n",
      " |      `margin.t`, `margin.b`, `margin.l` and `margin.r` in \"full-\n",
      " |      json\" mode.\n",
      " |      \n",
      " |      The 'computed' property accepts values of any type\n",
      " |      \n",
      " |      Returns\n",
      " |      -------\n",
      " |      Any\n",
      " |  \n",
      " |  datarevision\n",
      " |      If provided, a changed value tells `Plotly.react` that one or\n",
      " |      more data arrays has changed. This way you can modify arrays\n",
      " |      in-place rather than making a complete new copy for an\n",
      " |      incremental change. If NOT provided, `Plotly.react` assumes\n",
      " |      that data arrays are being treated as immutable, thus any data\n",
      " |      array with a different identity from its predecessor contains\n",
      " |      new data.\n",
      " |      \n",
      " |      The 'datarevision' property accepts values of any type\n",
      " |      \n",
      " |      Returns\n",
      " |      -------\n",
      " |      Any\n",
      " |  \n",
      " |  dragmode\n",
      " |      Determines the mode of drag interactions. \"select\" and \"lasso\"\n",
      " |      apply only to scatter traces with markers or text. \"orbit\" and\n",
      " |      \"turntable\" apply only to 3D scenes.\n",
      " |      \n",
      " |      The 'dragmode' property is an enumeration that may be specified as:\n",
      " |        - One of the following enumeration values:\n",
      " |              ['zoom', 'pan', 'select', 'lasso', 'drawclosedpath',\n",
      " |              'drawopenpath', 'drawline', 'drawrect', 'drawcircle',\n",
      " |              'orbit', 'turntable', False]\n",
      " |      \n",
      " |      Returns\n",
      " |      -------\n",
      " |      Any\n",
      " |  \n",
      " |  editrevision\n",
      " |      Controls persistence of user-driven changes in `editable: true`\n",
      " |      configuration, other than trace names and axis titles. Defaults\n",
      " |      to `layout.uirevision`.\n",
      " |      \n",
      " |      The 'editrevision' property accepts values of any type\n",
      " |      \n",
      " |      Returns\n",
      " |      -------\n",
      " |      Any\n",
      " |  \n",
      " |  extendfunnelareacolors\n",
      " |      If `true`, the funnelarea slice colors (whether given by\n",
      " |      `funnelareacolorway` or inherited from `colorway`) will be\n",
      " |      extended to three times its original length by first repeating\n",
      " |      every color 20% lighter then each color 20% darker. This is\n",
      " |      intended to reduce the likelihood of reusing the same color\n",
      " |      when you have many slices, but you can set `false` to disable.\n",
      " |      Colors provided in the trace, using `marker.colors`, are never\n",
      " |      extended.\n",
      " |      \n",
      " |      The 'extendfunnelareacolors' property must be specified as a bool\n",
      " |      (either True, or False)\n",
      " |      \n",
      " |      Returns\n",
      " |      -------\n",
      " |      bool\n",
      " |  \n",
      " |  extendiciclecolors\n",
      " |      If `true`, the icicle slice colors (whether given by\n",
      " |      `iciclecolorway` or inherited from `colorway`) will be extended\n",
      " |      to three times its original length by first repeating every\n",
      " |      color 20% lighter then each color 20% darker. This is intended\n",
      " |      to reduce the likelihood of reusing the same color when you\n",
      " |      have many slices, but you can set `false` to disable. Colors\n",
      " |      provided in the trace, using `marker.colors`, are never\n",
      " |      extended.\n",
      " |      \n",
      " |      The 'extendiciclecolors' property must be specified as a bool\n",
      " |      (either True, or False)\n",
      " |      \n",
      " |      Returns\n",
      " |      -------\n",
      " |      bool\n",
      " |  \n",
      " |  extendpiecolors\n",
      " |      If `true`, the pie slice colors (whether given by `piecolorway`\n",
      " |      or inherited from `colorway`) will be extended to three times\n",
      " |      its original length by first repeating every color 20% lighter\n",
      " |      then each color 20% darker. This is intended to reduce the\n",
      " |      likelihood of reusing the same color when you have many slices,\n",
      " |      but you can set `false` to disable. Colors provided in the\n",
      " |      trace, using `marker.colors`, are never extended.\n",
      " |      \n",
      " |      The 'extendpiecolors' property must be specified as a bool\n",
      " |      (either True, or False)\n",
      " |      \n",
      " |      Returns\n",
      " |      -------\n",
      " |      bool\n",
      " |  \n",
      " |  extendsunburstcolors\n",
      " |      If `true`, the sunburst slice colors (whether given by\n",
      " |      `sunburstcolorway` or inherited from `colorway`) will be\n",
      " |      extended to three times its original length by first repeating\n",
      " |      every color 20% lighter then each color 20% darker. This is\n",
      " |      intended to reduce the likelihood of reusing the same color\n",
      " |      when you have many slices, but you can set `false` to disable.\n",
      " |      Colors provided in the trace, using `marker.colors`, are never\n",
      " |      extended.\n",
      " |      \n",
      " |      The 'extendsunburstcolors' property must be specified as a bool\n",
      " |      (either True, or False)\n",
      " |      \n",
      " |      Returns\n",
      " |      -------\n",
      " |      bool\n",
      " |  \n",
      " |  extendtreemapcolors\n",
      " |      If `true`, the treemap slice colors (whether given by\n",
      " |      `treemapcolorway` or inherited from `colorway`) will be\n",
      " |      extended to three times its original length by first repeating\n",
      " |      every color 20% lighter then each color 20% darker. This is\n",
      " |      intended to reduce the likelihood of reusing the same color\n",
      " |      when you have many slices, but you can set `false` to disable.\n",
      " |      Colors provided in the trace, using `marker.colors`, are never\n",
      " |      extended.\n",
      " |      \n",
      " |      The 'extendtreemapcolors' property must be specified as a bool\n",
      " |      (either True, or False)\n",
      " |      \n",
      " |      Returns\n",
      " |      -------\n",
      " |      bool\n",
      " |  \n",
      " |  font\n",
      " |      Sets the global font. Note that fonts used in traces and other\n",
      " |      layout components inherit from the global font.\n",
      " |      \n",
      " |      The 'font' property is an instance of Font\n",
      " |      that may be specified as:\n",
      " |        - An instance of :class:`plotly.graph_objs.layout.Font`\n",
      " |        - A dict of string/value properties that will be passed\n",
      " |          to the Font constructor\n",
      " |      \n",
      " |          Supported dict properties:\n",
      " |      \n",
      " |              color\n",
      " |      \n",
      " |              family\n",
      " |                  HTML font family - the typeface that will be\n",
      " |                  applied by the web browser. The web browser\n",
      " |                  will only be able to apply a font if it is\n",
      " |                  available on the system which it operates.\n",
      " |                  Provide multiple font families, separated by\n",
      " |                  commas, to indicate the preference in which to\n",
      " |                  apply fonts if they aren't available on the\n",
      " |                  system. The Chart Studio Cloud (at\n",
      " |                  https://chart-studio.plotly.com or on-premise)\n",
      " |                  generates images on a server, where only a\n",
      " |                  select number of fonts are installed and\n",
      " |                  supported. These include \"Arial\", \"Balto\",\n",
      " |                  \"Courier New\", \"Droid Sans\",, \"Droid Serif\",\n",
      " |                  \"Droid Sans Mono\", \"Gravitas One\", \"Old\n",
      " |                  Standard TT\", \"Open Sans\", \"Overpass\", \"PT Sans\n",
      " |                  Narrow\", \"Raleway\", \"Times New Roman\".\n",
      " |              size\n",
      " |      \n",
      " |      Returns\n",
      " |      -------\n",
      " |      plotly.graph_objs.layout.Font\n",
      " |  \n",
      " |  funnelareacolorway\n",
      " |      Sets the default funnelarea slice colors. Defaults to the main\n",
      " |      `colorway` used for trace colors. If you specify a new list\n",
      " |      here it can still be extended with lighter and darker colors,\n",
      " |      see `extendfunnelareacolors`.\n",
      " |      \n",
      " |      The 'funnelareacolorway' property is a colorlist that may be specified\n",
      " |      as a tuple, list, one-dimensional numpy array, or pandas Series of valid\n",
      " |      color strings\n",
      " |      \n",
      " |      Returns\n",
      " |      -------\n",
      " |      list\n",
      " |  \n",
      " |  funnelgap\n",
      " |      Sets the gap (in plot fraction) between bars of adjacent\n",
      " |      location coordinates.\n",
      " |      \n",
      " |      The 'funnelgap' property is a number and may be specified as:\n",
      " |        - An int or float in the interval [0, 1]\n",
      " |      \n",
      " |      Returns\n",
      " |      -------\n",
      " |      int|float\n",
      " |  \n",
      " |  funnelgroupgap\n",
      " |      Sets the gap (in plot fraction) between bars of the same\n",
      " |      location coordinate.\n",
      " |      \n",
      " |      The 'funnelgroupgap' property is a number and may be specified as:\n",
      " |        - An int or float in the interval [0, 1]\n",
      " |      \n",
      " |      Returns\n",
      " |      -------\n",
      " |      int|float\n",
      " |  \n",
      " |  funnelmode\n",
      " |      Determines how bars at the same location coordinate are\n",
      " |      displayed on the graph. With \"stack\", the bars are stacked on\n",
      " |      top of one another With \"group\", the bars are plotted next to\n",
      " |      one another centered around the shared location. With\n",
      " |      \"overlay\", the bars are plotted over one another, you might\n",
      " |      need to reduce \"opacity\" to see multiple bars.\n",
      " |      \n",
      " |      The 'funnelmode' property is an enumeration that may be specified as:\n",
      " |        - One of the following enumeration values:\n",
      " |              ['stack', 'group', 'overlay']\n",
      " |      \n",
      " |      Returns\n",
      " |      -------\n",
      " |      Any\n",
      " |  \n",
      " |  geo\n",
      " |      The 'geo' property is an instance of Geo\n",
      " |      that may be specified as:\n",
      " |        - An instance of :class:`plotly.graph_objs.layout.Geo`\n",
      " |        - A dict of string/value properties that will be passed\n",
      " |          to the Geo constructor\n",
      " |      \n",
      " |          Supported dict properties:\n",
      " |      \n",
      " |              bgcolor\n",
      " |                  Set the background color of the map\n",
      " |              center\n",
      " |                  :class:`plotly.graph_objects.layout.geo.Center`\n",
      " |                  instance or dict with compatible properties\n",
      " |              coastlinecolor\n",
      " |                  Sets the coastline color.\n",
      " |              coastlinewidth\n",
      " |                  Sets the coastline stroke width (in px).\n",
      " |              countrycolor\n",
      " |                  Sets line color of the country boundaries.\n",
      " |              countrywidth\n",
      " |                  Sets line width (in px) of the country\n",
      " |                  boundaries.\n",
      " |              domain\n",
      " |                  :class:`plotly.graph_objects.layout.geo.Domain`\n",
      " |                  instance or dict with compatible properties\n",
      " |              fitbounds\n",
      " |                  Determines if this subplot's view settings are\n",
      " |                  auto-computed to fit trace data. On scoped\n",
      " |                  maps, setting `fitbounds` leads to `center.lon`\n",
      " |                  and `center.lat` getting auto-filled. On maps\n",
      " |                  with a non-clipped projection, setting\n",
      " |                  `fitbounds` leads to `center.lon`,\n",
      " |                  `center.lat`, and `projection.rotation.lon`\n",
      " |                  getting auto-filled. On maps with a clipped\n",
      " |                  projection, setting `fitbounds` leads to\n",
      " |                  `center.lon`, `center.lat`,\n",
      " |                  `projection.rotation.lon`,\n",
      " |                  `projection.rotation.lat`, `lonaxis.range` and\n",
      " |                  `lonaxis.range` getting auto-filled. If\n",
      " |                  \"locations\", only the trace's visible locations\n",
      " |                  are considered in the `fitbounds` computations.\n",
      " |                  If \"geojson\", the entire trace input `geojson`\n",
      " |                  (if provided) is considered in the `fitbounds`\n",
      " |                  computations, Defaults to False.\n",
      " |              framecolor\n",
      " |                  Sets the color the frame.\n",
      " |              framewidth\n",
      " |                  Sets the stroke width (in px) of the frame.\n",
      " |              lakecolor\n",
      " |                  Sets the color of the lakes.\n",
      " |              landcolor\n",
      " |                  Sets the land mass color.\n",
      " |              lataxis\n",
      " |                  :class:`plotly.graph_objects.layout.geo.Lataxis\n",
      " |                  ` instance or dict with compatible properties\n",
      " |              lonaxis\n",
      " |                  :class:`plotly.graph_objects.layout.geo.Lonaxis\n",
      " |                  ` instance or dict with compatible properties\n",
      " |              oceancolor\n",
      " |                  Sets the ocean color\n",
      " |              projection\n",
      " |                  :class:`plotly.graph_objects.layout.geo.Project\n",
      " |                  ion` instance or dict with compatible\n",
      " |                  properties\n",
      " |              resolution\n",
      " |                  Sets the resolution of the base layers. The\n",
      " |                  values have units of km/mm e.g. 110 corresponds\n",
      " |                  to a scale ratio of 1:110,000,000.\n",
      " |              rivercolor\n",
      " |                  Sets color of the rivers.\n",
      " |              riverwidth\n",
      " |                  Sets the stroke width (in px) of the rivers.\n",
      " |              scope\n",
      " |                  Set the scope of the map.\n",
      " |              showcoastlines\n",
      " |                  Sets whether or not the coastlines are drawn.\n",
      " |              showcountries\n",
      " |                  Sets whether or not country boundaries are\n",
      " |                  drawn.\n",
      " |              showframe\n",
      " |                  Sets whether or not a frame is drawn around the\n",
      " |                  map.\n",
      " |              showlakes\n",
      " |                  Sets whether or not lakes are drawn.\n",
      " |              showland\n",
      " |                  Sets whether or not land masses are filled in\n",
      " |                  color.\n",
      " |              showocean\n",
      " |                  Sets whether or not oceans are filled in color.\n",
      " |              showrivers\n",
      " |                  Sets whether or not rivers are drawn.\n",
      " |              showsubunits\n",
      " |                  Sets whether or not boundaries of subunits\n",
      " |                  within countries (e.g. states, provinces) are\n",
      " |                  drawn.\n",
      " |              subunitcolor\n",
      " |                  Sets the color of the subunits boundaries.\n",
      " |              subunitwidth\n",
      " |                  Sets the stroke width (in px) of the subunits\n",
      " |                  boundaries.\n",
      " |              uirevision\n",
      " |                  Controls persistence of user-driven changes in\n",
      " |                  the view (projection and center). Defaults to\n",
      " |                  `layout.uirevision`.\n",
      " |              visible\n",
      " |                  Sets the default visibility of the base layers.\n",
      " |      \n",
      " |      Returns\n",
      " |      -------\n",
      " |      plotly.graph_objs.layout.Geo\n",
      " |  \n",
      " |  grid\n",
      " |      The 'grid' property is an instance of Grid\n",
      " |      that may be specified as:\n",
      " |        - An instance of :class:`plotly.graph_objs.layout.Grid`\n",
      " |        - A dict of string/value properties that will be passed\n",
      " |          to the Grid constructor\n",
      " |      \n",
      " |          Supported dict properties:\n",
      " |      \n",
      " |              columns\n",
      " |                  The number of columns in the grid. If you\n",
      " |                  provide a 2D `subplots` array, the length of\n",
      " |                  its longest row is used as the default. If you\n",
      " |                  give an `xaxes` array, its length is used as\n",
      " |                  the default. But it's also possible to have a\n",
      " |                  different length, if you want to leave a row at\n",
      " |                  the end for non-cartesian subplots.\n",
      " |              domain\n",
      " |                  :class:`plotly.graph_objects.layout.grid.Domain\n",
      " |                  ` instance or dict with compatible properties\n",
      " |              pattern\n",
      " |                  If no `subplots`, `xaxes`, or `yaxes` are given\n",
      " |                  but we do have `rows` and `columns`, we can\n",
      " |                  generate defaults using consecutive axis IDs,\n",
      " |                  in two ways: \"coupled\" gives one x axis per\n",
      " |                  column and one y axis per row. \"independent\"\n",
      " |                  uses a new xy pair for each cell, left-to-right\n",
      " |                  across each row then iterating rows according\n",
      " |                  to `roworder`.\n",
      " |              roworder\n",
      " |                  Is the first row the top or the bottom? Note\n",
      " |                  that columns are always enumerated from left to\n",
      " |                  right.\n",
      " |              rows\n",
      " |                  The number of rows in the grid. If you provide\n",
      " |                  a 2D `subplots` array or a `yaxes` array, its\n",
      " |                  length is used as the default. But it's also\n",
      " |                  possible to have a different length, if you\n",
      " |                  want to leave a row at the end for non-\n",
      " |                  cartesian subplots.\n",
      " |              subplots\n",
      " |                  Used for freeform grids, where some axes may be\n",
      " |                  shared across subplots but others are not. Each\n",
      " |                  entry should be a cartesian subplot id, like\n",
      " |                  \"xy\" or \"x3y2\", or \"\" to leave that cell empty.\n",
      " |                  You may reuse x axes within the same column,\n",
      " |                  and y axes within the same row. Non-cartesian\n",
      " |                  subplots and traces that support `domain` can\n",
      " |                  place themselves in this grid separately using\n",
      " |                  the `gridcell` attribute.\n",
      " |              xaxes\n",
      " |                  Used with `yaxes` when the x and y axes are\n",
      " |                  shared across columns and rows. Each entry\n",
      " |                  should be an x axis id like \"x\", \"x2\", etc., or\n",
      " |                  \"\" to not put an x axis in that column. Entries\n",
      " |                  other than \"\" must be unique. Ignored if\n",
      " |                  `subplots` is present. If missing but `yaxes`\n",
      " |                  is present, will generate consecutive IDs.\n",
      " |              xgap\n",
      " |                  Horizontal space between grid cells, expressed\n",
      " |                  as a fraction of the total width available to\n",
      " |                  one cell. Defaults to 0.1 for coupled-axes\n",
      " |                  grids and 0.2 for independent grids.\n",
      " |              xside\n",
      " |                  Sets where the x axis labels and titles go.\n",
      " |                  \"bottom\" means the very bottom of the grid.\n",
      " |                  \"bottom plot\" is the lowest plot that each x\n",
      " |                  axis is used in. \"top\" and \"top plot\" are\n",
      " |                  similar.\n",
      " |              yaxes\n",
      " |                  Used with `yaxes` when the x and y axes are\n",
      " |                  shared across columns and rows. Each entry\n",
      " |                  should be an y axis id like \"y\", \"y2\", etc., or\n",
      " |                  \"\" to not put a y axis in that row. Entries\n",
      " |                  other than \"\" must be unique. Ignored if\n",
      " |                  `subplots` is present. If missing but `xaxes`\n",
      " |                  is present, will generate consecutive IDs.\n",
      " |              ygap\n",
      " |                  Vertical space between grid cells, expressed as\n",
      " |                  a fraction of the total height available to one\n",
      " |                  cell. Defaults to 0.1 for coupled-axes grids\n",
      " |                  and 0.3 for independent grids.\n",
      " |              yside\n",
      " |                  Sets where the y axis labels and titles go.\n",
      " |                  \"left\" means the very left edge of the grid.\n",
      " |                  *left plot* is the leftmost plot that each y\n",
      " |                  axis is used in. \"right\" and *right plot* are\n",
      " |                  similar.\n",
      " |      \n",
      " |      Returns\n",
      " |      -------\n",
      " |      plotly.graph_objs.layout.Grid\n",
      " |  \n",
      " |  height\n",
      " |      Sets the plot's height (in px).\n",
      " |      \n",
      " |      The 'height' property is a number and may be specified as:\n",
      " |        - An int or float in the interval [10, inf]\n",
      " |      \n",
      " |      Returns\n",
      " |      -------\n",
      " |      int|float\n",
      " |  \n",
      " |  hiddenlabels\n",
      " |      hiddenlabels is the funnelarea & pie chart analog of\n",
      " |      visible:'legendonly' but it can contain many labels, and can\n",
      " |      simultaneously hide slices from several pies/funnelarea charts\n",
      " |      \n",
      " |      The 'hiddenlabels' property is an array that may be specified as a tuple,\n",
      " |      list, numpy array, or pandas Series\n",
      " |      \n",
      " |      Returns\n",
      " |      -------\n",
      " |      numpy.ndarray\n",
      " |  \n",
      " |  hiddenlabelssrc\n",
      " |      Sets the source reference on Chart Studio Cloud for\n",
      " |      `hiddenlabels`.\n",
      " |      \n",
      " |      The 'hiddenlabelssrc' property must be specified as a string or\n",
      " |      as a plotly.grid_objs.Column object\n",
      " |      \n",
      " |      Returns\n",
      " |      -------\n",
      " |      str\n",
      " |  \n",
      " |  hidesources\n",
      " |      Determines whether or not a text link citing the data source is\n",
      " |      placed at the bottom-right cored of the figure. Has only an\n",
      " |      effect only on graphs that have been generated via forked\n",
      " |      graphs from the Chart Studio Cloud (at https://chart-\n",
      " |      studio.plotly.com or on-premise).\n",
      " |      \n",
      " |      The 'hidesources' property must be specified as a bool\n",
      " |      (either True, or False)\n",
      " |      \n",
      " |      Returns\n",
      " |      -------\n",
      " |      bool\n",
      " |  \n",
      " |  hoverdistance\n",
      " |      Sets the default distance (in pixels) to look for data to add\n",
      " |      hover labels (-1 means no cutoff, 0 means no looking for data).\n",
      " |      This is only a real distance for hovering on point-like\n",
      " |      objects, like scatter points. For area-like objects (bars,\n",
      " |      scatter fills, etc) hovering is on inside the area and off\n",
      " |      outside, but these objects will not supersede hover on point-\n",
      " |      like objects in case of conflict.\n",
      " |      \n",
      " |      The 'hoverdistance' property is a integer and may be specified as:\n",
      " |        - An int (or float that will be cast to an int)\n",
      " |          in the interval [-1, 9223372036854775807]\n",
      " |      \n",
      " |      Returns\n",
      " |      -------\n",
      " |      int\n",
      " |  \n",
      " |  hoverlabel\n",
      " |      The 'hoverlabel' property is an instance of Hoverlabel\n",
      " |      that may be specified as:\n",
      " |        - An instance of :class:`plotly.graph_objs.layout.Hoverlabel`\n",
      " |        - A dict of string/value properties that will be passed\n",
      " |          to the Hoverlabel constructor\n",
      " |      \n",
      " |          Supported dict properties:\n",
      " |      \n",
      " |              align\n",
      " |                  Sets the horizontal alignment of the text\n",
      " |                  content within hover label box. Has an effect\n",
      " |                  only if the hover label text spans more two or\n",
      " |                  more lines\n",
      " |              bgcolor\n",
      " |                  Sets the background color of all hover labels\n",
      " |                  on graph\n",
      " |              bordercolor\n",
      " |                  Sets the border color of all hover labels on\n",
      " |                  graph.\n",
      " |              font\n",
      " |                  Sets the default hover label font used by all\n",
      " |                  traces on the graph.\n",
      " |              grouptitlefont\n",
      " |                  Sets the font for group titles in hover\n",
      " |                  (unified modes). Defaults to `hoverlabel.font`.\n",
      " |              namelength\n",
      " |                  Sets the default length (in number of\n",
      " |                  characters) of the trace name in the hover\n",
      " |                  labels for all traces. -1 shows the whole name\n",
      " |                  regardless of length. 0-3 shows the first 0-3\n",
      " |                  characters, and an integer >3 will show the\n",
      " |                  whole name if it is less than that many\n",
      " |                  characters, but if it is longer, will truncate\n",
      " |                  to `namelength - 3` characters and add an\n",
      " |                  ellipsis.\n",
      " |      \n",
      " |      Returns\n",
      " |      -------\n",
      " |      plotly.graph_objs.layout.Hoverlabel\n",
      " |  \n",
      " |  hovermode\n",
      " |      Determines the mode of hover interactions. If \"closest\", a\n",
      " |      single hoverlabel will appear for the \"closest\" point within\n",
      " |      the `hoverdistance`. If \"x\" (or \"y\"), multiple hoverlabels will\n",
      " |      appear for multiple points at the \"closest\" x- (or y-)\n",
      " |      coordinate within the `hoverdistance`, with the caveat that no\n",
      " |      more than one hoverlabel will appear per trace. If *x unified*\n",
      " |      (or *y unified*), a single hoverlabel will appear multiple\n",
      " |      points at the closest x- (or y-) coordinate within the\n",
      " |      `hoverdistance` with the caveat that no more than one\n",
      " |      hoverlabel will appear per trace. In this mode, spikelines are\n",
      " |      enabled by default perpendicular to the specified axis. If\n",
      " |      false, hover interactions are disabled.\n",
      " |      \n",
      " |      The 'hovermode' property is an enumeration that may be specified as:\n",
      " |        - One of the following enumeration values:\n",
      " |              ['x', 'y', 'closest', False, 'x unified', 'y unified']\n",
      " |      \n",
      " |      Returns\n",
      " |      -------\n",
      " |      Any\n",
      " |  \n",
      " |  iciclecolorway\n",
      " |      Sets the default icicle slice colors. Defaults to the main\n",
      " |      `colorway` used for trace colors. If you specify a new list\n",
      " |      here it can still be extended with lighter and darker colors,\n",
      " |      see `extendiciclecolors`.\n",
      " |      \n",
      " |      The 'iciclecolorway' property is a colorlist that may be specified\n",
      " |      as a tuple, list, one-dimensional numpy array, or pandas Series of valid\n",
      " |      color strings\n",
      " |      \n",
      " |      Returns\n",
      " |      -------\n",
      " |      list\n",
      " |  \n",
      " |  imagedefaults\n",
      " |      When used in a template (as\n",
      " |      layout.template.layout.imagedefaults), sets the default\n",
      " |      property values to use for elements of layout.images\n",
      " |      \n",
      " |      The 'imagedefaults' property is an instance of Image\n",
      " |      that may be specified as:\n",
      " |        - An instance of :class:`plotly.graph_objs.layout.Image`\n",
      " |        - A dict of string/value properties that will be passed\n",
      " |          to the Image constructor\n",
      " |      \n",
      " |          Supported dict properties:\n",
      " |      \n",
      " |      Returns\n",
      " |      -------\n",
      " |      plotly.graph_objs.layout.Image\n",
      " |  \n",
      " |  images\n",
      " |      The 'images' property is a tuple of instances of\n",
      " |      Image that may be specified as:\n",
      " |        - A list or tuple of instances of plotly.graph_objs.layout.Image\n",
      " |        - A list or tuple of dicts of string/value properties that\n",
      " |          will be passed to the Image constructor\n",
      " |      \n",
      " |          Supported dict properties:\n",
      " |      \n",
      " |              layer\n",
      " |                  Specifies whether images are drawn below or\n",
      " |                  above traces. When `xref` and `yref` are both\n",
      " |                  set to `paper`, image is drawn below the entire\n",
      " |                  plot area.\n",
      " |              name\n",
      " |                  When used in a template, named items are\n",
      " |                  created in the output figure in addition to any\n",
      " |                  items the figure already has in this array. You\n",
      " |                  can modify these items in the output figure by\n",
      " |                  making your own item with `templateitemname`\n",
      " |                  matching this `name` alongside your\n",
      " |                  modifications (including `visible: false` or\n",
      " |                  `enabled: false` to hide it). Has no effect\n",
      " |                  outside of a template.\n",
      " |              opacity\n",
      " |                  Sets the opacity of the image.\n",
      " |              sizex\n",
      " |                  Sets the image container size horizontally. The\n",
      " |                  image will be sized based on the `position`\n",
      " |                  value. When `xref` is set to `paper`, units are\n",
      " |                  sized relative to the plot width. When `xref`\n",
      " |                  ends with ` domain`, units are sized relative\n",
      " |                  to the axis width.\n",
      " |              sizey\n",
      " |                  Sets the image container size vertically. The\n",
      " |                  image will be sized based on the `position`\n",
      " |                  value. When `yref` is set to `paper`, units are\n",
      " |                  sized relative to the plot height. When `yref`\n",
      " |                  ends with ` domain`, units are sized relative\n",
      " |                  to the axis height.\n",
      " |              sizing\n",
      " |                  Specifies which dimension of the image to\n",
      " |                  constrain.\n",
      " |              source\n",
      " |                  Specifies the URL of the image to be used. The\n",
      " |                  URL must be accessible from the domain where\n",
      " |                  the plot code is run, and can be either\n",
      " |                  relative or absolute.\n",
      " |              templateitemname\n",
      " |                  Used to refer to a named item in this array in\n",
      " |                  the template. Named items from the template\n",
      " |                  will be created even without a matching item in\n",
      " |                  the input figure, but you can modify one by\n",
      " |                  making an item with `templateitemname` matching\n",
      " |                  its `name`, alongside your modifications\n",
      " |                  (including `visible: false` or `enabled: false`\n",
      " |                  to hide it). If there is no template or no\n",
      " |                  matching item, this item will be hidden unless\n",
      " |                  you explicitly show it with `visible: true`.\n",
      " |              visible\n",
      " |                  Determines whether or not this image is\n",
      " |                  visible.\n",
      " |              x\n",
      " |                  Sets the image's x position. When `xref` is set\n",
      " |                  to `paper`, units are sized relative to the\n",
      " |                  plot height. See `xref` for more info\n",
      " |              xanchor\n",
      " |                  Sets the anchor for the x position\n",
      " |              xref\n",
      " |                  Sets the images's x coordinate axis. If set to\n",
      " |                  a x axis id (e.g. \"x\" or \"x2\"), the `x`\n",
      " |                  position refers to a x coordinate. If set to\n",
      " |                  \"paper\", the `x` position refers to the\n",
      " |                  distance from the left of the plotting area in\n",
      " |                  normalized coordinates where 0 (1) corresponds\n",
      " |                  to the left (right). If set to a x axis ID\n",
      " |                  followed by \"domain\" (separated by a space),\n",
      " |                  the position behaves like for \"paper\", but\n",
      " |                  refers to the distance in fractions of the\n",
      " |                  domain length from the left of the domain of\n",
      " |                  that axis: e.g., *x2 domain* refers to the\n",
      " |                  domain of the second x  axis and a x position\n",
      " |                  of 0.5 refers to the point between the left and\n",
      " |                  the right of the domain of the second x axis.\n",
      " |              y\n",
      " |                  Sets the image's y position. When `yref` is set\n",
      " |                  to `paper`, units are sized relative to the\n",
      " |                  plot height. See `yref` for more info\n",
      " |              yanchor\n",
      " |                  Sets the anchor for the y position.\n",
      " |              yref\n",
      " |                  Sets the images's y coordinate axis. If set to\n",
      " |                  a y axis id (e.g. \"y\" or \"y2\"), the `y`\n",
      " |                  position refers to a y coordinate. If set to\n",
      " |                  \"paper\", the `y` position refers to the\n",
      " |                  distance from the bottom of the plotting area\n",
      " |                  in normalized coordinates where 0 (1)\n",
      " |                  corresponds to the bottom (top). If set to a y\n",
      " |                  axis ID followed by \"domain\" (separated by a\n",
      " |                  space), the position behaves like for \"paper\",\n",
      " |                  but refers to the distance in fractions of the\n",
      " |                  domain length from the bottom of the domain of\n",
      " |                  that axis: e.g., *y2 domain* refers to the\n",
      " |                  domain of the second y  axis and a y position\n",
      " |                  of 0.5 refers to the point between the bottom\n",
      " |                  and the top of the domain of the second y axis.\n",
      " |      \n",
      " |      Returns\n",
      " |      -------\n",
      " |      tuple[plotly.graph_objs.layout.Image]\n",
      " |  \n",
      " |  legend\n",
      " |      The 'legend' property is an instance of Legend\n",
      " |      that may be specified as:\n",
      " |        - An instance of :class:`plotly.graph_objs.layout.Legend`\n",
      " |        - A dict of string/value properties that will be passed\n",
      " |          to the Legend constructor\n",
      " |      \n",
      " |          Supported dict properties:\n",
      " |      \n",
      " |              bgcolor\n",
      " |                  Sets the legend background color. Defaults to\n",
      " |                  `layout.paper_bgcolor`.\n",
      " |              bordercolor\n",
      " |                  Sets the color of the border enclosing the\n",
      " |                  legend.\n",
      " |              borderwidth\n",
      " |                  Sets the width (in px) of the border enclosing\n",
      " |                  the legend.\n",
      " |              entrywidth\n",
      " |                  Sets the width (in px or fraction) of the\n",
      " |                  legend. Use 0 to size the entry based on the\n",
      " |                  text width, when `entrywidthmode` is set to\n",
      " |                  \"pixels\".\n",
      " |              entrywidthmode\n",
      " |                  Determines what entrywidth means.\n",
      " |              font\n",
      " |                  Sets the font used to text the legend items.\n",
      " |              groupclick\n",
      " |                  Determines the behavior on legend group item\n",
      " |                  click. \"toggleitem\" toggles the visibility of\n",
      " |                  the individual item clicked on the graph.\n",
      " |                  \"togglegroup\" toggles the visibility of all\n",
      " |                  items in the same legendgroup as the item\n",
      " |                  clicked on the graph.\n",
      " |              grouptitlefont\n",
      " |                  Sets the font for group titles in legend.\n",
      " |                  Defaults to `legend.font` with its size\n",
      " |                  increased about 10%.\n",
      " |              itemclick\n",
      " |                  Determines the behavior on legend item click.\n",
      " |                  \"toggle\" toggles the visibility of the item\n",
      " |                  clicked on the graph. \"toggleothers\" makes the\n",
      " |                  clicked item the sole visible item on the\n",
      " |                  graph. False disables legend item click\n",
      " |                  interactions.\n",
      " |              itemdoubleclick\n",
      " |                  Determines the behavior on legend item double-\n",
      " |                  click. \"toggle\" toggles the visibility of the\n",
      " |                  item clicked on the graph. \"toggleothers\" makes\n",
      " |                  the clicked item the sole visible item on the\n",
      " |                  graph. False disables legend item double-click\n",
      " |                  interactions.\n",
      " |              itemsizing\n",
      " |                  Determines if the legend items symbols scale\n",
      " |                  with their corresponding \"trace\" attributes or\n",
      " |                  remain \"constant\" independent of the symbol\n",
      " |                  size on the graph.\n",
      " |              itemwidth\n",
      " |                  Sets the width (in px) of the legend item\n",
      " |                  symbols (the part other than the title.text).\n",
      " |              orientation\n",
      " |                  Sets the orientation of the legend.\n",
      " |              title\n",
      " |                  :class:`plotly.graph_objects.layout.legend.Titl\n",
      " |                  e` instance or dict with compatible properties\n",
      " |              tracegroupgap\n",
      " |                  Sets the amount of vertical space (in px)\n",
      " |                  between legend groups.\n",
      " |              traceorder\n",
      " |                  Determines the order at which the legend items\n",
      " |                  are displayed. If \"normal\", the items are\n",
      " |                  displayed top-to-bottom in the same order as\n",
      " |                  the input data. If \"reversed\", the items are\n",
      " |                  displayed in the opposite order as \"normal\". If\n",
      " |                  \"grouped\", the items are displayed in groups\n",
      " |                  (when a trace `legendgroup` is provided). if\n",
      " |                  \"grouped+reversed\", the items are displayed in\n",
      " |                  the opposite order as \"grouped\".\n",
      " |              uirevision\n",
      " |                  Controls persistence of legend-driven changes\n",
      " |                  in trace and pie label visibility. Defaults to\n",
      " |                  `layout.uirevision`.\n",
      " |              valign\n",
      " |                  Sets the vertical alignment of the symbols with\n",
      " |                  respect to their associated text.\n",
      " |              visible\n",
      " |                  Determines whether or not this legend is\n",
      " |                  visible.\n",
      " |              x\n",
      " |                  Sets the x position with respect to `xref` (in\n",
      " |                  normalized coordinates) of the legend. When\n",
      " |                  `xref` is \"paper\", defaults to 1.02 for\n",
      " |                  vertical legends and defaults to 0 for\n",
      " |                  horizontal legends. When `xref` is \"container\",\n",
      " |                  defaults to 1 for vertical legends and defaults\n",
      " |                  to 0 for horizontal legends. Must be between 0\n",
      " |                  and 1 if `xref` is \"container\". and between\n",
      " |                  \"-2\" and 3 if `xref` is \"paper\".\n",
      " |              xanchor\n",
      " |                  Sets the legend's horizontal position anchor.\n",
      " |                  This anchor binds the `x` position to the\n",
      " |                  \"left\", \"center\" or \"right\" of the legend.\n",
      " |                  Value \"auto\" anchors legends to the right for\n",
      " |                  `x` values greater than or equal to 2/3,\n",
      " |                  anchors legends to the left for `x` values less\n",
      " |                  than or equal to 1/3 and anchors legends with\n",
      " |                  respect to their center otherwise.\n",
      " |              xref\n",
      " |                  Sets the container `x` refers to. \"container\"\n",
      " |                  spans the entire `width` of the plot. \"paper\"\n",
      " |                  refers to the width of the plotting area only.\n",
      " |              y\n",
      " |                  Sets the y position with respect to `yref` (in\n",
      " |                  normalized coordinates) of the legend. When\n",
      " |                  `yref` is \"paper\", defaults to 1 for vertical\n",
      " |                  legends, defaults to \"-0.1\" for horizontal\n",
      " |                  legends on graphs w/o range sliders and\n",
      " |                  defaults to 1.1 for horizontal legends on graph\n",
      " |                  with one or multiple range sliders. When `yref`\n",
      " |                  is \"container\", defaults to 1. Must be between\n",
      " |                  0 and 1 if `yref` is \"container\" and between\n",
      " |                  \"-2\" and 3 if `yref` is \"paper\".\n",
      " |              yanchor\n",
      " |                  Sets the legend's vertical position anchor This\n",
      " |                  anchor binds the `y` position to the \"top\",\n",
      " |                  \"middle\" or \"bottom\" of the legend. Value\n",
      " |                  \"auto\" anchors legends at their bottom for `y`\n",
      " |                  values less than or equal to 1/3, anchors\n",
      " |                  legends to at their top for `y` values greater\n",
      " |                  than or equal to 2/3 and anchors legends with\n",
      " |                  respect to their middle otherwise.\n",
      " |              yref\n",
      " |                  Sets the container `y` refers to. \"container\"\n",
      " |                  spans the entire `height` of the plot. \"paper\"\n",
      " |                  refers to the height of the plotting area only.\n",
      " |      \n",
      " |      Returns\n",
      " |      -------\n",
      " |      plotly.graph_objs.layout.Legend\n",
      " |  \n",
      " |  mapbox\n",
      " |      The 'mapbox' property is an instance of Mapbox\n",
      " |      that may be specified as:\n",
      " |        - An instance of :class:`plotly.graph_objs.layout.Mapbox`\n",
      " |        - A dict of string/value properties that will be passed\n",
      " |          to the Mapbox constructor\n",
      " |      \n",
      " |          Supported dict properties:\n",
      " |      \n",
      " |              accesstoken\n",
      " |                  Sets the mapbox access token to be used for\n",
      " |                  this mapbox map. Alternatively, the mapbox\n",
      " |                  access token can be set in the configuration\n",
      " |                  options under `mapboxAccessToken`. Note that\n",
      " |                  accessToken are only required when `style` (e.g\n",
      " |                  with values : basic, streets, outdoors, light,\n",
      " |                  dark, satellite, satellite-streets ) and/or a\n",
      " |                  layout layer references the Mapbox server.\n",
      " |              bearing\n",
      " |                  Sets the bearing angle of the map in degrees\n",
      " |                  counter-clockwise from North (mapbox.bearing).\n",
      " |              bounds\n",
      " |                  :class:`plotly.graph_objects.layout.mapbox.Boun\n",
      " |                  ds` instance or dict with compatible properties\n",
      " |              center\n",
      " |                  :class:`plotly.graph_objects.layout.mapbox.Cent\n",
      " |                  er` instance or dict with compatible properties\n",
      " |              domain\n",
      " |                  :class:`plotly.graph_objects.layout.mapbox.Doma\n",
      " |                  in` instance or dict with compatible properties\n",
      " |              layers\n",
      " |                  A tuple of :class:`plotly.graph_objects.layout.\n",
      " |                  mapbox.Layer` instances or dicts with\n",
      " |                  compatible properties\n",
      " |              layerdefaults\n",
      " |                  When used in a template (as\n",
      " |                  layout.template.layout.mapbox.layerdefaults),\n",
      " |                  sets the default property values to use for\n",
      " |                  elements of layout.mapbox.layers\n",
      " |              pitch\n",
      " |                  Sets the pitch angle of the map (in degrees,\n",
      " |                  where 0 means perpendicular to the surface of\n",
      " |                  the map) (mapbox.pitch).\n",
      " |              style\n",
      " |                  Defines the map layers that are rendered by\n",
      " |                  default below the trace layers defined in\n",
      " |                  `data`, which are themselves by default\n",
      " |                  rendered below the layers defined in\n",
      " |                  `layout.mapbox.layers`.  These layers can be\n",
      " |                  defined either explicitly as a Mapbox Style\n",
      " |                  object which can contain multiple layer\n",
      " |                  definitions that load data from any public or\n",
      " |                  private Tile Map Service (TMS or XYZ) or Web\n",
      " |                  Map Service (WMS) or implicitly by using one of\n",
      " |                  the built-in style objects which use WMSes\n",
      " |                  which do not require any access tokens, or by\n",
      " |                  using a default Mapbox style or custom Mapbox\n",
      " |                  style URL, both of which require a Mapbox\n",
      " |                  access token  Note that Mapbox access token can\n",
      " |                  be set in the `accesstoken` attribute or in the\n",
      " |                  `mapboxAccessToken` config option.  Mapbox\n",
      " |                  Style objects are of the form described in the\n",
      " |                  Mapbox GL JS documentation available at\n",
      " |                  https://docs.mapbox.com/mapbox-gl-js/style-spec\n",
      " |                  The built-in plotly.js styles objects are:\n",
      " |                  carto-darkmatter, carto-positron, open-street-\n",
      " |                  map, stamen-terrain, stamen-toner, stamen-\n",
      " |                  watercolor, white-bg  The built-in Mapbox\n",
      " |                  styles are: basic, streets, outdoors, light,\n",
      " |                  dark, satellite, satellite-streets  Mapbox\n",
      " |                  style URLs are of the form:\n",
      " |                  mapbox://mapbox.mapbox-<name>-<version>\n",
      " |              uirevision\n",
      " |                  Controls persistence of user-driven changes in\n",
      " |                  the view: `center`, `zoom`, `bearing`, `pitch`.\n",
      " |                  Defaults to `layout.uirevision`.\n",
      " |              zoom\n",
      " |                  Sets the zoom level of the map (mapbox.zoom).\n",
      " |      \n",
      " |      Returns\n",
      " |      -------\n",
      " |      plotly.graph_objs.layout.Mapbox\n",
      " |  \n",
      " |  margin\n",
      " |      The 'margin' property is an instance of Margin\n",
      " |      that may be specified as:\n",
      " |        - An instance of :class:`plotly.graph_objs.layout.Margin`\n",
      " |        - A dict of string/value properties that will be passed\n",
      " |          to the Margin constructor\n",
      " |      \n",
      " |          Supported dict properties:\n",
      " |      \n",
      " |              autoexpand\n",
      " |                  Turns on/off margin expansion computations.\n",
      " |                  Legends, colorbars, updatemenus, sliders, axis\n",
      " |                  rangeselector and rangeslider are allowed to\n",
      " |                  push the margins by defaults.\n",
      " |              b\n",
      " |                  Sets the bottom margin (in px).\n",
      " |              l\n",
      " |                  Sets the left margin (in px).\n",
      " |              pad\n",
      " |                  Sets the amount of padding (in px) between the\n",
      " |                  plotting area and the axis lines\n",
      " |              r\n",
      " |                  Sets the right margin (in px).\n",
      " |              t\n",
      " |                  Sets the top margin (in px).\n",
      " |      \n",
      " |      Returns\n",
      " |      -------\n",
      " |      plotly.graph_objs.layout.Margin\n",
      " |  \n",
      " |  meta\n",
      " |      Assigns extra meta information that can be used in various\n",
      " |      `text` attributes. Attributes such as the graph, axis and\n",
      " |      colorbar `title.text`, annotation `text` `trace.name` in legend\n",
      " |      items, `rangeselector`, `updatemenus` and `sliders` `label`\n",
      " |      text all support `meta`. One can access `meta` fields using\n",
      " |      template strings: `%{meta[i]}` where `i` is the index of the\n",
      " |      `meta` item in question. `meta` can also be an object for\n",
      " |      example `{key: value}` which can be accessed %{meta[key]}.\n",
      " |      \n",
      " |      The 'meta' property accepts values of any type\n",
      " |      \n",
      " |      Returns\n",
      " |      -------\n",
      " |      Any|numpy.ndarray\n",
      " |  \n",
      " |  metasrc\n",
      " |      Sets the source reference on Chart Studio Cloud for `meta`.\n",
      " |      \n",
      " |      The 'metasrc' property must be specified as a string or\n",
      " |      as a plotly.grid_objs.Column object\n",
      " |      \n",
      " |      Returns\n",
      " |      -------\n",
      " |      str\n",
      " |  \n",
      " |  minreducedheight\n",
      " |      Minimum height of the plot with margin.automargin applied (in\n",
      " |      px)\n",
      " |      \n",
      " |      The 'minreducedheight' property is a number and may be specified as:\n",
      " |        - An int or float in the interval [2, inf]\n",
      " |      \n",
      " |      Returns\n",
      " |      -------\n",
      " |      int|float\n",
      " |  \n",
      " |  minreducedwidth\n",
      " |      Minimum width of the plot with margin.automargin applied (in\n",
      " |      px)\n",
      " |      \n",
      " |      The 'minreducedwidth' property is a number and may be specified as:\n",
      " |        - An int or float in the interval [2, inf]\n",
      " |      \n",
      " |      Returns\n",
      " |      -------\n",
      " |      int|float\n",
      " |  \n",
      " |  modebar\n",
      " |      The 'modebar' property is an instance of Modebar\n",
      " |      that may be specified as:\n",
      " |        - An instance of :class:`plotly.graph_objs.layout.Modebar`\n",
      " |        - A dict of string/value properties that will be passed\n",
      " |          to the Modebar constructor\n",
      " |      \n",
      " |          Supported dict properties:\n",
      " |      \n",
      " |              activecolor\n",
      " |                  Sets the color of the active or hovered on\n",
      " |                  icons in the modebar.\n",
      " |              add\n",
      " |                  Determines which predefined modebar buttons to\n",
      " |                  add. Please note that these buttons will only\n",
      " |                  be shown if they are compatible with all trace\n",
      " |                  types used in a graph. Similar to\n",
      " |                  `config.modeBarButtonsToAdd` option. This may\n",
      " |                  include \"v1hovermode\", \"hoverclosest\",\n",
      " |                  \"hovercompare\", \"togglehover\",\n",
      " |                  \"togglespikelines\", \"drawline\", \"drawopenpath\",\n",
      " |                  \"drawclosedpath\", \"drawcircle\", \"drawrect\",\n",
      " |                  \"eraseshape\".\n",
      " |              addsrc\n",
      " |                  Sets the source reference on Chart Studio Cloud\n",
      " |                  for `add`.\n",
      " |              bgcolor\n",
      " |                  Sets the background color of the modebar.\n",
      " |              color\n",
      " |                  Sets the color of the icons in the modebar.\n",
      " |              orientation\n",
      " |                  Sets the orientation of the modebar.\n",
      " |              remove\n",
      " |                  Determines which predefined modebar buttons to\n",
      " |                  remove. Similar to\n",
      " |                  `config.modeBarButtonsToRemove` option. This\n",
      " |                  may include \"autoScale2d\", \"autoscale\",\n",
      " |                  \"editInChartStudio\", \"editinchartstudio\",\n",
      " |                  \"hoverCompareCartesian\", \"hovercompare\",\n",
      " |                  \"lasso\", \"lasso2d\", \"orbitRotation\",\n",
      " |                  \"orbitrotation\", \"pan\", \"pan2d\", \"pan3d\",\n",
      " |                  \"reset\", \"resetCameraDefault3d\",\n",
      " |                  \"resetCameraLastSave3d\", \"resetGeo\",\n",
      " |                  \"resetSankeyGroup\", \"resetScale2d\",\n",
      " |                  \"resetViewMapbox\", \"resetViews\",\n",
      " |                  \"resetcameradefault\", \"resetcameralastsave\",\n",
      " |                  \"resetsankeygroup\", \"resetscale\", \"resetview\",\n",
      " |                  \"resetviews\", \"select\", \"select2d\",\n",
      " |                  \"sendDataToCloud\", \"senddatatocloud\",\n",
      " |                  \"tableRotation\", \"tablerotation\", \"toImage\",\n",
      " |                  \"toggleHover\", \"toggleSpikelines\",\n",
      " |                  \"togglehover\", \"togglespikelines\", \"toimage\",\n",
      " |                  \"zoom\", \"zoom2d\", \"zoom3d\", \"zoomIn2d\",\n",
      " |                  \"zoomInGeo\", \"zoomInMapbox\", \"zoomOut2d\",\n",
      " |                  \"zoomOutGeo\", \"zoomOutMapbox\", \"zoomin\",\n",
      " |                  \"zoomout\".\n",
      " |              removesrc\n",
      " |                  Sets the source reference on Chart Studio Cloud\n",
      " |                  for `remove`.\n",
      " |              uirevision\n",
      " |                  Controls persistence of user-driven changes\n",
      " |                  related to the modebar, including `hovermode`,\n",
      " |                  `dragmode`, and `showspikes` at both the root\n",
      " |                  level and inside subplots. Defaults to\n",
      " |                  `layout.uirevision`.\n",
      " |      \n",
      " |      Returns\n",
      " |      -------\n",
      " |      plotly.graph_objs.layout.Modebar\n",
      " |  \n",
      " |  newselection\n",
      " |      The 'newselection' property is an instance of Newselection\n",
      " |      that may be specified as:\n",
      " |        - An instance of :class:`plotly.graph_objs.layout.Newselection`\n",
      " |        - A dict of string/value properties that will be passed\n",
      " |          to the Newselection constructor\n",
      " |      \n",
      " |          Supported dict properties:\n",
      " |      \n",
      " |              line\n",
      " |                  :class:`plotly.graph_objects.layout.newselectio\n",
      " |                  n.Line` instance or dict with compatible\n",
      " |                  properties\n",
      " |              mode\n",
      " |                  Describes how a new selection is created. If\n",
      " |                  `immediate`, a new selection is created after\n",
      " |                  first mouse up. If `gradual`, a new selection\n",
      " |                  is not created after first mouse. By adding to\n",
      " |                  and subtracting from the initial selection,\n",
      " |                  this option allows declaring extra outlines of\n",
      " |                  the selection.\n",
      " |      \n",
      " |      Returns\n",
      " |      -------\n",
      " |      plotly.graph_objs.layout.Newselection\n",
      " |  \n",
      " |  newshape\n",
      " |      The 'newshape' property is an instance of Newshape\n",
      " |      that may be specified as:\n",
      " |        - An instance of :class:`plotly.graph_objs.layout.Newshape`\n",
      " |        - A dict of string/value properties that will be passed\n",
      " |          to the Newshape constructor\n",
      " |      \n",
      " |          Supported dict properties:\n",
      " |      \n",
      " |              drawdirection\n",
      " |                  When `dragmode` is set to \"drawrect\",\n",
      " |                  \"drawline\" or \"drawcircle\" this limits the drag\n",
      " |                  to be horizontal, vertical or diagonal. Using\n",
      " |                  \"diagonal\" there is no limit e.g. in drawing\n",
      " |                  lines in any direction. \"ortho\" limits the draw\n",
      " |                  to be either horizontal or vertical.\n",
      " |                  \"horizontal\" allows horizontal extend.\n",
      " |                  \"vertical\" allows vertical extend.\n",
      " |              fillcolor\n",
      " |                  Sets the color filling new shapes' interior.\n",
      " |                  Please note that if using a fillcolor with\n",
      " |                  alpha greater than half, drag inside the active\n",
      " |                  shape starts moving the shape underneath,\n",
      " |                  otherwise a new shape could be started over.\n",
      " |              fillrule\n",
      " |                  Determines the path's interior. For more info\n",
      " |                  please visit https://developer.mozilla.org/en-\n",
      " |                  US/docs/Web/SVG/Attribute/fill-rule\n",
      " |              label\n",
      " |                  :class:`plotly.graph_objects.layout.newshape.La\n",
      " |                  bel` instance or dict with compatible\n",
      " |                  properties\n",
      " |              layer\n",
      " |                  Specifies whether new shapes are drawn below or\n",
      " |                  above traces.\n",
      " |              legend\n",
      " |                  Sets the reference to a legend to show new\n",
      " |                  shape in. References to these legends are\n",
      " |                  \"legend\", \"legend2\", \"legend3\", etc. Settings\n",
      " |                  for these legends are set in the layout, under\n",
      " |                  `layout.legend`, `layout.legend2`, etc.\n",
      " |              legendgroup\n",
      " |                  Sets the legend group for new shape. Traces and\n",
      " |                  shapes part of the same legend group hide/show\n",
      " |                  at the same time when toggling legend items.\n",
      " |              legendgrouptitle\n",
      " |                  :class:`plotly.graph_objects.layout.newshape.Le\n",
      " |                  gendgrouptitle` instance or dict with\n",
      " |                  compatible properties\n",
      " |              legendrank\n",
      " |                  Sets the legend rank for new shape. Items and\n",
      " |                  groups with smaller ranks are presented on\n",
      " |                  top/left side while with \"reversed\"\n",
      " |                  `legend.traceorder` they are on bottom/right\n",
      " |                  side. The default legendrank is 1000, so that\n",
      " |                  you can use ranks less than 1000 to place\n",
      " |                  certain items before all unranked items, and\n",
      " |                  ranks greater than 1000 to go after all\n",
      " |                  unranked items.\n",
      " |              legendwidth\n",
      " |                  Sets the width (in px or fraction) of the\n",
      " |                  legend for new shape.\n",
      " |              line\n",
      " |                  :class:`plotly.graph_objects.layout.newshape.Li\n",
      " |                  ne` instance or dict with compatible properties\n",
      " |              name\n",
      " |                  Sets new shape name. The name appears as the\n",
      " |                  legend item.\n",
      " |              opacity\n",
      " |                  Sets the opacity of new shapes.\n",
      " |              showlegend\n",
      " |                  Determines whether or not new shape is shown in\n",
      " |                  the legend.\n",
      " |              visible\n",
      " |                  Determines whether or not new shape is visible.\n",
      " |                  If \"legendonly\", the shape is not drawn, but\n",
      " |                  can appear as a legend item (provided that the\n",
      " |                  legend itself is visible).\n",
      " |      \n",
      " |      Returns\n",
      " |      -------\n",
      " |      plotly.graph_objs.layout.Newshape\n",
      " |  \n",
      " |  paper_bgcolor\n",
      " |      Sets the background color of the paper where the graph is\n",
      " |      drawn.\n",
      " |      \n",
      " |      The 'paper_bgcolor' property is a color and may be specified as:\n",
      " |        - A hex string (e.g. '#ff0000')\n",
      " |        - An rgb/rgba string (e.g. 'rgb(255,0,0)')\n",
      " |        - An hsl/hsla string (e.g. 'hsl(0,100%,50%)')\n",
      " |        - An hsv/hsva string (e.g. 'hsv(0,100%,100%)')\n",
      " |        - A named CSS color:\n",
      " |              aliceblue, antiquewhite, aqua, aquamarine, azure,\n",
      " |              beige, bisque, black, blanchedalmond, blue,\n",
      " |              blueviolet, brown, burlywood, cadetblue,\n",
      " |              chartreuse, chocolate, coral, cornflowerblue,\n",
      " |              cornsilk, crimson, cyan, darkblue, darkcyan,\n",
      " |              darkgoldenrod, darkgray, darkgrey, darkgreen,\n",
      " |              darkkhaki, darkmagenta, darkolivegreen, darkorange,\n",
      " |              darkorchid, darkred, darksalmon, darkseagreen,\n",
      " |              darkslateblue, darkslategray, darkslategrey,\n",
      " |              darkturquoise, darkviolet, deeppink, deepskyblue,\n",
      " |              dimgray, dimgrey, dodgerblue, firebrick,\n",
      " |              floralwhite, forestgreen, fuchsia, gainsboro,\n",
      " |              ghostwhite, gold, goldenrod, gray, grey, green,\n",
      " |              greenyellow, honeydew, hotpink, indianred, indigo,\n",
      " |              ivory, khaki, lavender, lavenderblush, lawngreen,\n",
      " |              lemonchiffon, lightblue, lightcoral, lightcyan,\n",
      " |              lightgoldenrodyellow, lightgray, lightgrey,\n",
      " |              lightgreen, lightpink, lightsalmon, lightseagreen,\n",
      " |              lightskyblue, lightslategray, lightslategrey,\n",
      " |              lightsteelblue, lightyellow, lime, limegreen,\n",
      " |              linen, magenta, maroon, mediumaquamarine,\n",
      " |              mediumblue, mediumorchid, mediumpurple,\n",
      " |              mediumseagreen, mediumslateblue, mediumspringgreen,\n",
      " |              mediumturquoise, mediumvioletred, midnightblue,\n",
      " |              mintcream, mistyrose, moccasin, navajowhite, navy,\n",
      " |              oldlace, olive, olivedrab, orange, orangered,\n",
      " |              orchid, palegoldenrod, palegreen, paleturquoise,\n",
      " |              palevioletred, papayawhip, peachpuff, peru, pink,\n",
      " |              plum, powderblue, purple, red, rosybrown,\n",
      " |              royalblue, rebeccapurple, saddlebrown, salmon,\n",
      " |              sandybrown, seagreen, seashell, sienna, silver,\n",
      " |              skyblue, slateblue, slategray, slategrey, snow,\n",
      " |              springgreen, steelblue, tan, teal, thistle, tomato,\n",
      " |              turquoise, violet, wheat, white, whitesmoke,\n",
      " |              yellow, yellowgreen\n",
      " |      \n",
      " |      Returns\n",
      " |      -------\n",
      " |      str\n",
      " |  \n",
      " |  piecolorway\n",
      " |      Sets the default pie slice colors. Defaults to the main\n",
      " |      `colorway` used for trace colors. If you specify a new list\n",
      " |      here it can still be extended with lighter and darker colors,\n",
      " |      see `extendpiecolors`.\n",
      " |      \n",
      " |      The 'piecolorway' property is a colorlist that may be specified\n",
      " |      as a tuple, list, one-dimensional numpy array, or pandas Series of valid\n",
      " |      color strings\n",
      " |      \n",
      " |      Returns\n",
      " |      -------\n",
      " |      list\n",
      " |  \n",
      " |  plot_bgcolor\n",
      " |      Sets the background color of the plotting area in-between x and\n",
      " |      y axes.\n",
      " |      \n",
      " |      The 'plot_bgcolor' property is a color and may be specified as:\n",
      " |        - A hex string (e.g. '#ff0000')\n",
      " |        - An rgb/rgba string (e.g. 'rgb(255,0,0)')\n",
      " |        - An hsl/hsla string (e.g. 'hsl(0,100%,50%)')\n",
      " |        - An hsv/hsva string (e.g. 'hsv(0,100%,100%)')\n",
      " |        - A named CSS color:\n",
      " |              aliceblue, antiquewhite, aqua, aquamarine, azure,\n",
      " |              beige, bisque, black, blanchedalmond, blue,\n",
      " |              blueviolet, brown, burlywood, cadetblue,\n",
      " |              chartreuse, chocolate, coral, cornflowerblue,\n",
      " |              cornsilk, crimson, cyan, darkblue, darkcyan,\n",
      " |              darkgoldenrod, darkgray, darkgrey, darkgreen,\n",
      " |              darkkhaki, darkmagenta, darkolivegreen, darkorange,\n",
      " |              darkorchid, darkred, darksalmon, darkseagreen,\n",
      " |              darkslateblue, darkslategray, darkslategrey,\n",
      " |              darkturquoise, darkviolet, deeppink, deepskyblue,\n",
      " |              dimgray, dimgrey, dodgerblue, firebrick,\n",
      " |              floralwhite, forestgreen, fuchsia, gainsboro,\n",
      " |              ghostwhite, gold, goldenrod, gray, grey, green,\n",
      " |              greenyellow, honeydew, hotpink, indianred, indigo,\n",
      " |              ivory, khaki, lavender, lavenderblush, lawngreen,\n",
      " |              lemonchiffon, lightblue, lightcoral, lightcyan,\n",
      " |              lightgoldenrodyellow, lightgray, lightgrey,\n",
      " |              lightgreen, lightpink, lightsalmon, lightseagreen,\n",
      " |              lightskyblue, lightslategray, lightslategrey,\n",
      " |              lightsteelblue, lightyellow, lime, limegreen,\n",
      " |              linen, magenta, maroon, mediumaquamarine,\n",
      " |              mediumblue, mediumorchid, mediumpurple,\n",
      " |              mediumseagreen, mediumslateblue, mediumspringgreen,\n",
      " |              mediumturquoise, mediumvioletred, midnightblue,\n",
      " |              mintcream, mistyrose, moccasin, navajowhite, navy,\n",
      " |              oldlace, olive, olivedrab, orange, orangered,\n",
      " |              orchid, palegoldenrod, palegreen, paleturquoise,\n",
      " |              palevioletred, papayawhip, peachpuff, peru, pink,\n",
      " |              plum, powderblue, purple, red, rosybrown,\n",
      " |              royalblue, rebeccapurple, saddlebrown, salmon,\n",
      " |              sandybrown, seagreen, seashell, sienna, silver,\n",
      " |              skyblue, slateblue, slategray, slategrey, snow,\n",
      " |              springgreen, steelblue, tan, teal, thistle, tomato,\n",
      " |              turquoise, violet, wheat, white, whitesmoke,\n",
      " |              yellow, yellowgreen\n",
      " |      \n",
      " |      Returns\n",
      " |      -------\n",
      " |      str\n",
      " |  \n",
      " |  polar\n",
      " |      The 'polar' property is an instance of Polar\n",
      " |      that may be specified as:\n",
      " |        - An instance of :class:`plotly.graph_objs.layout.Polar`\n",
      " |        - A dict of string/value properties that will be passed\n",
      " |          to the Polar constructor\n",
      " |      \n",
      " |          Supported dict properties:\n",
      " |      \n",
      " |              angularaxis\n",
      " |                  :class:`plotly.graph_objects.layout.polar.Angul\n",
      " |                  arAxis` instance or dict with compatible\n",
      " |                  properties\n",
      " |              bargap\n",
      " |                  Sets the gap between bars of adjacent location\n",
      " |                  coordinates. Values are unitless, they\n",
      " |                  represent fractions of the minimum difference\n",
      " |                  in bar positions in the data.\n",
      " |              barmode\n",
      " |                  Determines how bars at the same location\n",
      " |                  coordinate are displayed on the graph. With\n",
      " |                  \"stack\", the bars are stacked on top of one\n",
      " |                  another With \"overlay\", the bars are plotted\n",
      " |                  over one another, you might need to reduce\n",
      " |                  \"opacity\" to see multiple bars.\n",
      " |              bgcolor\n",
      " |                  Set the background color of the subplot\n",
      " |              domain\n",
      " |                  :class:`plotly.graph_objects.layout.polar.Domai\n",
      " |                  n` instance or dict with compatible properties\n",
      " |              gridshape\n",
      " |                  Determines if the radial axis grid lines and\n",
      " |                  angular axis line are drawn as \"circular\"\n",
      " |                  sectors or as \"linear\" (polygon) sectors. Has\n",
      " |                  an effect only when the angular axis has `type`\n",
      " |                  \"category\". Note that `radialaxis.angle` is\n",
      " |                  snapped to the angle of the closest vertex when\n",
      " |                  `gridshape` is \"circular\" (so that radial axis\n",
      " |                  scale is the same as the data scale).\n",
      " |              hole\n",
      " |                  Sets the fraction of the radius to cut out of\n",
      " |                  the polar subplot.\n",
      " |              radialaxis\n",
      " |                  :class:`plotly.graph_objects.layout.polar.Radia\n",
      " |                  lAxis` instance or dict with compatible\n",
      " |                  properties\n",
      " |              sector\n",
      " |                  Sets angular span of this polar subplot with\n",
      " |                  two angles (in degrees). Sector are assumed to\n",
      " |                  be spanned in the counterclockwise direction\n",
      " |                  with 0 corresponding to rightmost limit of the\n",
      " |                  polar subplot.\n",
      " |              uirevision\n",
      " |                  Controls persistence of user-driven changes in\n",
      " |                  axis attributes, if not overridden in the\n",
      " |                  individual axes. Defaults to\n",
      " |                  `layout.uirevision`.\n",
      " |      \n",
      " |      Returns\n",
      " |      -------\n",
      " |      plotly.graph_objs.layout.Polar\n",
      " |  \n",
      " |  scattergap\n",
      " |      Sets the gap (in plot fraction) between scatter points of\n",
      " |      adjacent location coordinates. Defaults to `bargap`.\n",
      " |      \n",
      " |      The 'scattergap' property is a number and may be specified as:\n",
      " |        - An int or float in the interval [0, 1]\n",
      " |      \n",
      " |      Returns\n",
      " |      -------\n",
      " |      int|float\n",
      " |  \n",
      " |  scattermode\n",
      " |      Determines how scatter points at the same location coordinate\n",
      " |      are displayed on the graph. With \"group\", the scatter points\n",
      " |      are plotted next to one another centered around the shared\n",
      " |      location. With \"overlay\", the scatter points are plotted over\n",
      " |      one another, you might need to reduce \"opacity\" to see multiple\n",
      " |      scatter points.\n",
      " |      \n",
      " |      The 'scattermode' property is an enumeration that may be specified as:\n",
      " |        - One of the following enumeration values:\n",
      " |              ['group', 'overlay']\n",
      " |      \n",
      " |      Returns\n",
      " |      -------\n",
      " |      Any\n",
      " |  \n",
      " |  scene\n",
      " |      The 'scene' property is an instance of Scene\n",
      " |      that may be specified as:\n",
      " |        - An instance of :class:`plotly.graph_objs.layout.Scene`\n",
      " |        - A dict of string/value properties that will be passed\n",
      " |          to the Scene constructor\n",
      " |      \n",
      " |          Supported dict properties:\n",
      " |      \n",
      " |              annotations\n",
      " |                  A tuple of :class:`plotly.graph_objects.layout.\n",
      " |                  scene.Annotation` instances or dicts with\n",
      " |                  compatible properties\n",
      " |              annotationdefaults\n",
      " |                  When used in a template (as layout.template.lay\n",
      " |                  out.scene.annotationdefaults), sets the default\n",
      " |                  property values to use for elements of\n",
      " |                  layout.scene.annotations\n",
      " |              aspectmode\n",
      " |                  If \"cube\", this scene's axes are drawn as a\n",
      " |                  cube, regardless of the axes' ranges. If\n",
      " |                  \"data\", this scene's axes are drawn in\n",
      " |                  proportion with the axes' ranges. If \"manual\",\n",
      " |                  this scene's axes are drawn in proportion with\n",
      " |                  the input of \"aspectratio\" (the default\n",
      " |                  behavior if \"aspectratio\" is provided). If\n",
      " |                  \"auto\", this scene's axes are drawn using the\n",
      " |                  results of \"data\" except when one axis is more\n",
      " |                  than four times the size of the two others,\n",
      " |                  where in that case the results of \"cube\" are\n",
      " |                  used.\n",
      " |              aspectratio\n",
      " |                  Sets this scene's axis aspectratio.\n",
      " |              bgcolor\n",
      " |      \n",
      " |              camera\n",
      " |                  :class:`plotly.graph_objects.layout.scene.Camer\n",
      " |                  a` instance or dict with compatible properties\n",
      " |              domain\n",
      " |                  :class:`plotly.graph_objects.layout.scene.Domai\n",
      " |                  n` instance or dict with compatible properties\n",
      " |              dragmode\n",
      " |                  Determines the mode of drag interactions for\n",
      " |                  this scene.\n",
      " |              hovermode\n",
      " |                  Determines the mode of hover interactions for\n",
      " |                  this scene.\n",
      " |              uirevision\n",
      " |                  Controls persistence of user-driven changes in\n",
      " |                  camera attributes. Defaults to\n",
      " |                  `layout.uirevision`.\n",
      " |              xaxis\n",
      " |                  :class:`plotly.graph_objects.layout.scene.XAxis\n",
      " |                  ` instance or dict with compatible properties\n",
      " |              yaxis\n",
      " |                  :class:`plotly.graph_objects.layout.scene.YAxis\n",
      " |                  ` instance or dict with compatible properties\n",
      " |              zaxis\n",
      " |                  :class:`plotly.graph_objects.layout.scene.ZAxis\n",
      " |                  ` instance or dict with compatible properties\n",
      " |      \n",
      " |      Returns\n",
      " |      -------\n",
      " |      plotly.graph_objs.layout.Scene\n",
      " |  \n",
      " |  selectdirection\n",
      " |      When `dragmode` is set to \"select\", this limits the selection\n",
      " |      of the drag to horizontal, vertical or diagonal. \"h\" only\n",
      " |      allows horizontal selection, \"v\" only vertical, \"d\" only\n",
      " |      diagonal and \"any\" sets no limit.\n",
      " |      \n",
      " |      The 'selectdirection' property is an enumeration that may be specified as:\n",
      " |        - One of the following enumeration values:\n",
      " |              ['h', 'v', 'd', 'any']\n",
      " |      \n",
      " |      Returns\n",
      " |      -------\n",
      " |      Any\n",
      " |  \n",
      " |  selectiondefaults\n",
      " |      When used in a template (as\n",
      " |      layout.template.layout.selectiondefaults), sets the default\n",
      " |      property values to use for elements of layout.selections\n",
      " |      \n",
      " |      The 'selectiondefaults' property is an instance of Selection\n",
      " |      that may be specified as:\n",
      " |        - An instance of :class:`plotly.graph_objs.layout.Selection`\n",
      " |        - A dict of string/value properties that will be passed\n",
      " |          to the Selection constructor\n",
      " |      \n",
      " |          Supported dict properties:\n",
      " |      \n",
      " |      Returns\n",
      " |      -------\n",
      " |      plotly.graph_objs.layout.Selection\n",
      " |  \n",
      " |  selectionrevision\n",
      " |      Controls persistence of user-driven changes in selected points\n",
      " |      from all traces.\n",
      " |      \n",
      " |      The 'selectionrevision' property accepts values of any type\n",
      " |      \n",
      " |      Returns\n",
      " |      -------\n",
      " |      Any\n",
      " |  \n",
      " |  selections\n",
      " |      The 'selections' property is a tuple of instances of\n",
      " |      Selection that may be specified as:\n",
      " |        - A list or tuple of instances of plotly.graph_objs.layout.Selection\n",
      " |        - A list or tuple of dicts of string/value properties that\n",
      " |          will be passed to the Selection constructor\n",
      " |      \n",
      " |          Supported dict properties:\n",
      " |      \n",
      " |              line\n",
      " |                  :class:`plotly.graph_objects.layout.selection.L\n",
      " |                  ine` instance or dict with compatible\n",
      " |                  properties\n",
      " |              name\n",
      " |                  When used in a template, named items are\n",
      " |                  created in the output figure in addition to any\n",
      " |                  items the figure already has in this array. You\n",
      " |                  can modify these items in the output figure by\n",
      " |                  making your own item with `templateitemname`\n",
      " |                  matching this `name` alongside your\n",
      " |                  modifications (including `visible: false` or\n",
      " |                  `enabled: false` to hide it). Has no effect\n",
      " |                  outside of a template.\n",
      " |              opacity\n",
      " |                  Sets the opacity of the selection.\n",
      " |              path\n",
      " |                  For `type` \"path\" - a valid SVG path similar to\n",
      " |                  `shapes.path` in data coordinates. Allowed\n",
      " |                  segments are: M, L and Z.\n",
      " |              templateitemname\n",
      " |                  Used to refer to a named item in this array in\n",
      " |                  the template. Named items from the template\n",
      " |                  will be created even without a matching item in\n",
      " |                  the input figure, but you can modify one by\n",
      " |                  making an item with `templateitemname` matching\n",
      " |                  its `name`, alongside your modifications\n",
      " |                  (including `visible: false` or `enabled: false`\n",
      " |                  to hide it). If there is no template or no\n",
      " |                  matching item, this item will be hidden unless\n",
      " |                  you explicitly show it with `visible: true`.\n",
      " |              type\n",
      " |                  Specifies the selection type to be drawn. If\n",
      " |                  \"rect\", a rectangle is drawn linking\n",
      " |                  (`x0`,`y0`), (`x1`,`y0`), (`x1`,`y1`) and\n",
      " |                  (`x0`,`y1`). If \"path\", draw a custom SVG path\n",
      " |                  using `path`.\n",
      " |              x0\n",
      " |                  Sets the selection's starting x position.\n",
      " |              x1\n",
      " |                  Sets the selection's end x position.\n",
      " |              xref\n",
      " |                  Sets the selection's x coordinate axis. If set\n",
      " |                  to a x axis id (e.g. \"x\" or \"x2\"), the `x`\n",
      " |                  position refers to a x coordinate. If set to\n",
      " |                  \"paper\", the `x` position refers to the\n",
      " |                  distance from the left of the plotting area in\n",
      " |                  normalized coordinates where 0 (1) corresponds\n",
      " |                  to the left (right). If set to a x axis ID\n",
      " |                  followed by \"domain\" (separated by a space),\n",
      " |                  the position behaves like for \"paper\", but\n",
      " |                  refers to the distance in fractions of the\n",
      " |                  domain length from the left of the domain of\n",
      " |                  that axis: e.g., *x2 domain* refers to the\n",
      " |                  domain of the second x  axis and a x position\n",
      " |                  of 0.5 refers to the point between the left and\n",
      " |                  the right of the domain of the second x axis.\n",
      " |              y0\n",
      " |                  Sets the selection's starting y position.\n",
      " |              y1\n",
      " |                  Sets the selection's end y position.\n",
      " |              yref\n",
      " |                  Sets the selection's x coordinate axis. If set\n",
      " |                  to a y axis id (e.g. \"y\" or \"y2\"), the `y`\n",
      " |                  position refers to a y coordinate. If set to\n",
      " |                  \"paper\", the `y` position refers to the\n",
      " |                  distance from the bottom of the plotting area\n",
      " |                  in normalized coordinates where 0 (1)\n",
      " |                  corresponds to the bottom (top). If set to a y\n",
      " |                  axis ID followed by \"domain\" (separated by a\n",
      " |                  space), the position behaves like for \"paper\",\n",
      " |                  but refers to the distance in fractions of the\n",
      " |                  domain length from the bottom of the domain of\n",
      " |                  that axis: e.g., *y2 domain* refers to the\n",
      " |                  domain of the second y  axis and a y position\n",
      " |                  of 0.5 refers to the point between the bottom\n",
      " |                  and the top of the domain of the second y axis.\n",
      " |      \n",
      " |      Returns\n",
      " |      -------\n",
      " |      tuple[plotly.graph_objs.layout.Selection]\n",
      " |  \n",
      " |  separators\n",
      " |      Sets the decimal and thousand separators. For example, *. *\n",
      " |      puts a '.' before decimals and a space between thousands. In\n",
      " |      English locales, dflt is \".,\" but other locales may alter this\n",
      " |      default.\n",
      " |      \n",
      " |      The 'separators' property is a string and must be specified as:\n",
      " |        - A string\n",
      " |        - A number that will be converted to a string\n",
      " |      \n",
      " |      Returns\n",
      " |      -------\n",
      " |      str\n",
      " |  \n",
      " |  shapedefaults\n",
      " |      When used in a template (as\n",
      " |      layout.template.layout.shapedefaults), sets the default\n",
      " |      property values to use for elements of layout.shapes\n",
      " |      \n",
      " |      The 'shapedefaults' property is an instance of Shape\n",
      " |      that may be specified as:\n",
      " |        - An instance of :class:`plotly.graph_objs.layout.Shape`\n",
      " |        - A dict of string/value properties that will be passed\n",
      " |          to the Shape constructor\n",
      " |      \n",
      " |          Supported dict properties:\n",
      " |      \n",
      " |      Returns\n",
      " |      -------\n",
      " |      plotly.graph_objs.layout.Shape\n",
      " |  \n",
      " |  shapes\n",
      " |      The 'shapes' property is a tuple of instances of\n",
      " |      Shape that may be specified as:\n",
      " |        - A list or tuple of instances of plotly.graph_objs.layout.Shape\n",
      " |        - A list or tuple of dicts of string/value properties that\n",
      " |          will be passed to the Shape constructor\n",
      " |      \n",
      " |          Supported dict properties:\n",
      " |      \n",
      " |              editable\n",
      " |                  Determines whether the shape could be activated\n",
      " |                  for edit or not. Has no effect when the older\n",
      " |                  editable shapes mode is enabled via\n",
      " |                  `config.editable` or\n",
      " |                  `config.edits.shapePosition`.\n",
      " |              fillcolor\n",
      " |                  Sets the color filling the shape's interior.\n",
      " |                  Only applies to closed shapes.\n",
      " |              fillrule\n",
      " |                  Determines which regions of complex paths\n",
      " |                  constitute the interior. For more info please\n",
      " |                  visit https://developer.mozilla.org/en-\n",
      " |                  US/docs/Web/SVG/Attribute/fill-rule\n",
      " |              label\n",
      " |                  :class:`plotly.graph_objects.layout.shape.Label\n",
      " |                  ` instance or dict with compatible properties\n",
      " |              layer\n",
      " |                  Specifies whether shapes are drawn below or\n",
      " |                  above traces.\n",
      " |              legend\n",
      " |                  Sets the reference to a legend to show this\n",
      " |                  shape in. References to these legends are\n",
      " |                  \"legend\", \"legend2\", \"legend3\", etc. Settings\n",
      " |                  for these legends are set in the layout, under\n",
      " |                  `layout.legend`, `layout.legend2`, etc.\n",
      " |              legendgroup\n",
      " |                  Sets the legend group for this shape. Traces\n",
      " |                  and shapes part of the same legend group\n",
      " |                  hide/show at the same time when toggling legend\n",
      " |                  items.\n",
      " |              legendgrouptitle\n",
      " |                  :class:`plotly.graph_objects.layout.shape.Legen\n",
      " |                  dgrouptitle` instance or dict with compatible\n",
      " |                  properties\n",
      " |              legendrank\n",
      " |                  Sets the legend rank for this shape. Items and\n",
      " |                  groups with smaller ranks are presented on\n",
      " |                  top/left side while with \"reversed\"\n",
      " |                  `legend.traceorder` they are on bottom/right\n",
      " |                  side. The default legendrank is 1000, so that\n",
      " |                  you can use ranks less than 1000 to place\n",
      " |                  certain items before all unranked items, and\n",
      " |                  ranks greater than 1000 to go after all\n",
      " |                  unranked items. When having unranked or equal\n",
      " |                  rank items shapes would be displayed after\n",
      " |                  traces i.e. according to their order in data\n",
      " |                  and layout.\n",
      " |              legendwidth\n",
      " |                  Sets the width (in px or fraction) of the\n",
      " |                  legend for this shape.\n",
      " |              line\n",
      " |                  :class:`plotly.graph_objects.layout.shape.Line`\n",
      " |                  instance or dict with compatible properties\n",
      " |              name\n",
      " |                  When used in a template, named items are\n",
      " |                  created in the output figure in addition to any\n",
      " |                  items the figure already has in this array. You\n",
      " |                  can modify these items in the output figure by\n",
      " |                  making your own item with `templateitemname`\n",
      " |                  matching this `name` alongside your\n",
      " |                  modifications (including `visible: false` or\n",
      " |                  `enabled: false` to hide it). Has no effect\n",
      " |                  outside of a template.\n",
      " |              opacity\n",
      " |                  Sets the opacity of the shape.\n",
      " |              path\n",
      " |                  For `type` \"path\" - a valid SVG path with the\n",
      " |                  pixel values replaced by data values in\n",
      " |                  `xsizemode`/`ysizemode` being \"scaled\" and\n",
      " |                  taken unmodified as pixels relative to\n",
      " |                  `xanchor` and `yanchor` in case of \"pixel\" size\n",
      " |                  mode. There are a few restrictions / quirks\n",
      " |                  only absolute instructions, not relative. So\n",
      " |                  the allowed segments are: M, L, H, V, Q, C, T,\n",
      " |                  S, and Z arcs (A) are not allowed because\n",
      " |                  radius rx and ry are relative. In the future we\n",
      " |                  could consider supporting relative commands,\n",
      " |                  but we would have to decide on how to handle\n",
      " |                  date and log axes. Note that even as is, Q and\n",
      " |                  C Bezier paths that are smooth on linear axes\n",
      " |                  may not be smooth on log, and vice versa. no\n",
      " |                  chained \"polybezier\" commands - specify the\n",
      " |                  segment type for each one. On category axes,\n",
      " |                  values are numbers scaled to the serial numbers\n",
      " |                  of categories because using the categories\n",
      " |                  themselves there would be no way to describe\n",
      " |                  fractional positions On data axes: because\n",
      " |                  space and T are both normal components of path\n",
      " |                  strings, we can't use either to separate date\n",
      " |                  from time parts. Therefore we'll use underscore\n",
      " |                  for this purpose: 2015-02-21_13:45:56.789\n",
      " |              showlegend\n",
      " |                  Determines whether or not this shape is shown\n",
      " |                  in the legend.\n",
      " |              templateitemname\n",
      " |                  Used to refer to a named item in this array in\n",
      " |                  the template. Named items from the template\n",
      " |                  will be created even without a matching item in\n",
      " |                  the input figure, but you can modify one by\n",
      " |                  making an item with `templateitemname` matching\n",
      " |                  its `name`, alongside your modifications\n",
      " |                  (including `visible: false` or `enabled: false`\n",
      " |                  to hide it). If there is no template or no\n",
      " |                  matching item, this item will be hidden unless\n",
      " |                  you explicitly show it with `visible: true`.\n",
      " |              type\n",
      " |                  Specifies the shape type to be drawn. If\n",
      " |                  \"line\", a line is drawn from (`x0`,`y0`) to\n",
      " |                  (`x1`,`y1`) with respect to the axes' sizing\n",
      " |                  mode. If \"circle\", a circle is drawn from\n",
      " |                  ((`x0`+`x1`)/2, (`y0`+`y1`)/2)) with radius\n",
      " |                  (|(`x0`+`x1`)/2 - `x0`|, |(`y0`+`y1`)/2\n",
      " |                  -`y0`)|) with respect to the axes' sizing mode.\n",
      " |                  If \"rect\", a rectangle is drawn linking\n",
      " |                  (`x0`,`y0`), (`x1`,`y0`), (`x1`,`y1`),\n",
      " |                  (`x0`,`y1`), (`x0`,`y0`) with respect to the\n",
      " |                  axes' sizing mode. If \"path\", draw a custom SVG\n",
      " |                  path using `path`. with respect to the axes'\n",
      " |                  sizing mode.\n",
      " |              visible\n",
      " |                  Determines whether or not this shape is\n",
      " |                  visible. If \"legendonly\", the shape is not\n",
      " |                  drawn, but can appear as a legend item\n",
      " |                  (provided that the legend itself is visible).\n",
      " |              x0\n",
      " |                  Sets the shape's starting x position. See\n",
      " |                  `type` and `xsizemode` for more info.\n",
      " |              x1\n",
      " |                  Sets the shape's end x position. See `type` and\n",
      " |                  `xsizemode` for more info.\n",
      " |              xanchor\n",
      " |                  Only relevant in conjunction with `xsizemode`\n",
      " |                  set to \"pixel\". Specifies the anchor point on\n",
      " |                  the x axis to which `x0`, `x1` and x\n",
      " |                  coordinates within `path` are relative to. E.g.\n",
      " |                  useful to attach a pixel sized shape to a\n",
      " |                  certain data value. No effect when `xsizemode`\n",
      " |                  not set to \"pixel\".\n",
      " |              xref\n",
      " |                  Sets the shape's x coordinate axis. If set to a\n",
      " |                  x axis id (e.g. \"x\" or \"x2\"), the `x` position\n",
      " |                  refers to a x coordinate. If set to \"paper\",\n",
      " |                  the `x` position refers to the distance from\n",
      " |                  the left of the plotting area in normalized\n",
      " |                  coordinates where 0 (1) corresponds to the left\n",
      " |                  (right). If set to a x axis ID followed by\n",
      " |                  \"domain\" (separated by a space), the position\n",
      " |                  behaves like for \"paper\", but refers to the\n",
      " |                  distance in fractions of the domain length from\n",
      " |                  the left of the domain of that axis: e.g., *x2\n",
      " |                  domain* refers to the domain of the second x\n",
      " |                  axis and a x position of 0.5 refers to the\n",
      " |                  point between the left and the right of the\n",
      " |                  domain of the second x axis.\n",
      " |              xsizemode\n",
      " |                  Sets the shapes's sizing mode along the x axis.\n",
      " |                  If set to \"scaled\", `x0`, `x1` and x\n",
      " |                  coordinates within `path` refer to data values\n",
      " |                  on the x axis or a fraction of the plot area's\n",
      " |                  width (`xref` set to \"paper\"). If set to\n",
      " |                  \"pixel\", `xanchor` specifies the x position in\n",
      " |                  terms of data or plot fraction but `x0`, `x1`\n",
      " |                  and x coordinates within `path` are pixels\n",
      " |                  relative to `xanchor`. This way, the shape can\n",
      " |                  have a fixed width while maintaining a position\n",
      " |                  relative to data or plot fraction.\n",
      " |              y0\n",
      " |                  Sets the shape's starting y position. See\n",
      " |                  `type` and `ysizemode` for more info.\n",
      " |              y1\n",
      " |                  Sets the shape's end y position. See `type` and\n",
      " |                  `ysizemode` for more info.\n",
      " |              yanchor\n",
      " |                  Only relevant in conjunction with `ysizemode`\n",
      " |                  set to \"pixel\". Specifies the anchor point on\n",
      " |                  the y axis to which `y0`, `y1` and y\n",
      " |                  coordinates within `path` are relative to. E.g.\n",
      " |                  useful to attach a pixel sized shape to a\n",
      " |                  certain data value. No effect when `ysizemode`\n",
      " |                  not set to \"pixel\".\n",
      " |              yref\n",
      " |                  Sets the shape's y coordinate axis. If set to a\n",
      " |                  y axis id (e.g. \"y\" or \"y2\"), the `y` position\n",
      " |                  refers to a y coordinate. If set to \"paper\",\n",
      " |                  the `y` position refers to the distance from\n",
      " |                  the bottom of the plotting area in normalized\n",
      " |                  coordinates where 0 (1) corresponds to the\n",
      " |                  bottom (top). If set to a y axis ID followed by\n",
      " |                  \"domain\" (separated by a space), the position\n",
      " |                  behaves like for \"paper\", but refers to the\n",
      " |                  distance in fractions of the domain length from\n",
      " |                  the bottom of the domain of that axis: e.g.,\n",
      " |                  *y2 domain* refers to the domain of the second\n",
      " |                  y  axis and a y position of 0.5 refers to the\n",
      " |                  point between the bottom and the top of the\n",
      " |                  domain of the second y axis.\n",
      " |              ysizemode\n",
      " |                  Sets the shapes's sizing mode along the y axis.\n",
      " |                  If set to \"scaled\", `y0`, `y1` and y\n",
      " |                  coordinates within `path` refer to data values\n",
      " |                  on the y axis or a fraction of the plot area's\n",
      " |                  height (`yref` set to \"paper\"). If set to\n",
      " |                  \"pixel\", `yanchor` specifies the y position in\n",
      " |                  terms of data or plot fraction but `y0`, `y1`\n",
      " |                  and y coordinates within `path` are pixels\n",
      " |                  relative to `yanchor`. This way, the shape can\n",
      " |                  have a fixed height while maintaining a\n",
      " |                  position relative to data or plot fraction.\n",
      " |      \n",
      " |      Returns\n",
      " |      -------\n",
      " |      tuple[plotly.graph_objs.layout.Shape]\n",
      " |  \n",
      " |  showlegend\n",
      " |      Determines whether or not a legend is drawn. Default is `true`\n",
      " |      if there is a trace to show and any of these: a) Two or more\n",
      " |      traces would by default be shown in the legend. b) One pie\n",
      " |      trace is shown in the legend. c) One trace is explicitly given\n",
      " |      with `showlegend: true`.\n",
      " |      \n",
      " |      The 'showlegend' property must be specified as a bool\n",
      " |      (either True, or False)\n",
      " |      \n",
      " |      Returns\n",
      " |      -------\n",
      " |      bool\n",
      " |  \n",
      " |  sliderdefaults\n",
      " |      When used in a template (as\n",
      " |      layout.template.layout.sliderdefaults), sets the default\n",
      " |      property values to use for elements of layout.sliders\n",
      " |      \n",
      " |      The 'sliderdefaults' property is an instance of Slider\n",
      " |      that may be specified as:\n",
      " |        - An instance of :class:`plotly.graph_objs.layout.Slider`\n",
      " |        - A dict of string/value properties that will be passed\n",
      " |          to the Slider constructor\n",
      " |      \n",
      " |          Supported dict properties:\n",
      " |      \n",
      " |      Returns\n",
      " |      -------\n",
      " |      plotly.graph_objs.layout.Slider\n",
      " |  \n",
      " |  sliders\n",
      " |      The 'sliders' property is a tuple of instances of\n",
      " |      Slider that may be specified as:\n",
      " |        - A list or tuple of instances of plotly.graph_objs.layout.Slider\n",
      " |        - A list or tuple of dicts of string/value properties that\n",
      " |          will be passed to the Slider constructor\n",
      " |      \n",
      " |          Supported dict properties:\n",
      " |      \n",
      " |              active\n",
      " |                  Determines which button (by index starting from\n",
      " |                  0) is considered active.\n",
      " |              activebgcolor\n",
      " |                  Sets the background color of the slider grip\n",
      " |                  while dragging.\n",
      " |              bgcolor\n",
      " |                  Sets the background color of the slider.\n",
      " |              bordercolor\n",
      " |                  Sets the color of the border enclosing the\n",
      " |                  slider.\n",
      " |              borderwidth\n",
      " |                  Sets the width (in px) of the border enclosing\n",
      " |                  the slider.\n",
      " |              currentvalue\n",
      " |                  :class:`plotly.graph_objects.layout.slider.Curr\n",
      " |                  entvalue` instance or dict with compatible\n",
      " |                  properties\n",
      " |              font\n",
      " |                  Sets the font of the slider step labels.\n",
      " |              len\n",
      " |                  Sets the length of the slider This measure\n",
      " |                  excludes the padding of both ends. That is, the\n",
      " |                  slider's length is this length minus the\n",
      " |                  padding on both ends.\n",
      " |              lenmode\n",
      " |                  Determines whether this slider length is set in\n",
      " |                  units of plot \"fraction\" or in *pixels. Use\n",
      " |                  `len` to set the value.\n",
      " |              minorticklen\n",
      " |                  Sets the length in pixels of minor step tick\n",
      " |                  marks\n",
      " |              name\n",
      " |                  When used in a template, named items are\n",
      " |                  created in the output figure in addition to any\n",
      " |                  items the figure already has in this array. You\n",
      " |                  can modify these items in the output figure by\n",
      " |                  making your own item with `templateitemname`\n",
      " |                  matching this `name` alongside your\n",
      " |                  modifications (including `visible: false` or\n",
      " |                  `enabled: false` to hide it). Has no effect\n",
      " |                  outside of a template.\n",
      " |              pad\n",
      " |                  Set the padding of the slider component along\n",
      " |                  each side.\n",
      " |              steps\n",
      " |                  A tuple of :class:`plotly.graph_objects.layout.\n",
      " |                  slider.Step` instances or dicts with compatible\n",
      " |                  properties\n",
      " |              stepdefaults\n",
      " |                  When used in a template (as\n",
      " |                  layout.template.layout.slider.stepdefaults),\n",
      " |                  sets the default property values to use for\n",
      " |                  elements of layout.slider.steps\n",
      " |              templateitemname\n",
      " |                  Used to refer to a named item in this array in\n",
      " |                  the template. Named items from the template\n",
      " |                  will be created even without a matching item in\n",
      " |                  the input figure, but you can modify one by\n",
      " |                  making an item with `templateitemname` matching\n",
      " |                  its `name`, alongside your modifications\n",
      " |                  (including `visible: false` or `enabled: false`\n",
      " |                  to hide it). If there is no template or no\n",
      " |                  matching item, this item will be hidden unless\n",
      " |                  you explicitly show it with `visible: true`.\n",
      " |              tickcolor\n",
      " |                  Sets the color of the border enclosing the\n",
      " |                  slider.\n",
      " |              ticklen\n",
      " |                  Sets the length in pixels of step tick marks\n",
      " |              tickwidth\n",
      " |                  Sets the tick width (in px).\n",
      " |              transition\n",
      " |                  :class:`plotly.graph_objects.layout.slider.Tran\n",
      " |                  sition` instance or dict with compatible\n",
      " |                  properties\n",
      " |              visible\n",
      " |                  Determines whether or not the slider is\n",
      " |                  visible.\n",
      " |              x\n",
      " |                  Sets the x position (in normalized coordinates)\n",
      " |                  of the slider.\n",
      " |              xanchor\n",
      " |                  Sets the slider's horizontal position anchor.\n",
      " |                  This anchor binds the `x` position to the\n",
      " |                  \"left\", \"center\" or \"right\" of the range\n",
      " |                  selector.\n",
      " |              y\n",
      " |                  Sets the y position (in normalized coordinates)\n",
      " |                  of the slider.\n",
      " |              yanchor\n",
      " |                  Sets the slider's vertical position anchor This\n",
      " |                  anchor binds the `y` position to the \"top\",\n",
      " |                  \"middle\" or \"bottom\" of the range selector.\n",
      " |      \n",
      " |      Returns\n",
      " |      -------\n",
      " |      tuple[plotly.graph_objs.layout.Slider]\n",
      " |  \n",
      " |  smith\n",
      " |      The 'smith' property is an instance of Smith\n",
      " |      that may be specified as:\n",
      " |        - An instance of :class:`plotly.graph_objs.layout.Smith`\n",
      " |        - A dict of string/value properties that will be passed\n",
      " |          to the Smith constructor\n",
      " |      \n",
      " |          Supported dict properties:\n",
      " |      \n",
      " |              bgcolor\n",
      " |                  Set the background color of the subplot\n",
      " |              domain\n",
      " |                  :class:`plotly.graph_objects.layout.smith.Domai\n",
      " |                  n` instance or dict with compatible properties\n",
      " |              imaginaryaxis\n",
      " |                  :class:`plotly.graph_objects.layout.smith.Imagi\n",
      " |                  naryaxis` instance or dict with compatible\n",
      " |                  properties\n",
      " |              realaxis\n",
      " |                  :class:`plotly.graph_objects.layout.smith.Reala\n",
      " |                  xis` instance or dict with compatible\n",
      " |                  properties\n",
      " |      \n",
      " |      Returns\n",
      " |      -------\n",
      " |      plotly.graph_objs.layout.Smith\n",
      " |  \n",
      " |  spikedistance\n",
      " |      Sets the default distance (in pixels) to look for data to draw\n",
      " |      spikelines to (-1 means no cutoff, 0 means no looking for\n",
      " |      data). As with hoverdistance, distance does not apply to area-\n",
      " |      like objects. In addition, some objects can be hovered on but\n",
      " |      will not generate spikelines, such as scatter fills.\n",
      " |      \n",
      " |      The 'spikedistance' property is a integer and may be specified as:\n",
      " |        - An int (or float that will be cast to an int)\n",
      " |          in the interval [-1, 9223372036854775807]\n",
      " |      \n",
      " |      Returns\n",
      " |      -------\n",
      " |      int\n",
      " |  \n",
      " |  sunburstcolorway\n",
      " |      Sets the default sunburst slice colors. Defaults to the main\n",
      " |      `colorway` used for trace colors. If you specify a new list\n",
      " |      here it can still be extended with lighter and darker colors,\n",
      " |      see `extendsunburstcolors`.\n",
      " |      \n",
      " |      The 'sunburstcolorway' property is a colorlist that may be specified\n",
      " |      as a tuple, list, one-dimensional numpy array, or pandas Series of valid\n",
      " |      color strings\n",
      " |      \n",
      " |      Returns\n",
      " |      -------\n",
      " |      list\n",
      " |  \n",
      " |  template\n",
      " |      Default attributes to be applied to the plot. This should be a\n",
      " |      dict with format: `{'layout': layoutTemplate, 'data':\n",
      " |      {trace_type: [traceTemplate, ...], ...}}` where\n",
      " |      `layoutTemplate` is a dict matching the structure of\n",
      " |      `figure.layout` and `traceTemplate` is a dict matching the\n",
      " |      structure of the trace with type `trace_type` (e.g. 'scatter').\n",
      " |      Alternatively, this may be specified as an instance of\n",
      " |      plotly.graph_objs.layout.Template.  Trace templates are applied\n",
      " |      cyclically to traces of each type. Container arrays (eg\n",
      " |      `annotations`) have special handling: An object ending in\n",
      " |      `defaults` (eg `annotationdefaults`) is applied to each array\n",
      " |      item. But if an item has a `templateitemname` key we look in\n",
      " |      the template array for an item with matching `name` and apply\n",
      " |      that instead. If no matching `name` is found we mark the item\n",
      " |      invisible. Any named template item not referenced is appended\n",
      " |      to the end of the array, so this can be used to add a watermark\n",
      " |      annotation or a logo image, for example. To omit one of these\n",
      " |      items on the plot, make an item with matching\n",
      " |      `templateitemname` and `visible: false`.\n",
      " |      \n",
      " |      The 'template' property is an instance of Template\n",
      " |      that may be specified as:\n",
      " |        - An instance of :class:`plotly.graph_objs.layout.Template`\n",
      " |        - A dict of string/value properties that will be passed\n",
      " |          to the Template constructor\n",
      " |      \n",
      " |          Supported dict properties:\n",
      " |      \n",
      " |              data\n",
      " |                  :class:`plotly.graph_objects.layout.template.Da\n",
      " |                  ta` instance or dict with compatible properties\n",
      " |              layout\n",
      " |                  :class:`plotly.graph_objects.Layout` instance\n",
      " |                  or dict with compatible properties\n",
      " |      \n",
      " |        - The name of a registered template where current registered templates\n",
      " |          are stored in the plotly.io.templates configuration object. The names\n",
      " |          of all registered templates can be retrieved with:\n",
      " |              >>> import plotly.io as pio\n",
      " |              >>> list(pio.templates)  # doctest: +ELLIPSIS\n",
      " |              ['ggplot2', 'seaborn', 'simple_white', 'plotly', 'plotly_white', ...]\n",
      " |      \n",
      " |        - A string containing multiple registered template names, joined on '+'\n",
      " |          characters (e.g. 'template1+template2'). In this case the resulting\n",
      " |          template is computed by merging together the collection of registered\n",
      " |          templates\n",
      " |      \n",
      " |      Returns\n",
      " |      -------\n",
      " |      plotly.graph_objs.layout.Template\n",
      " |  \n",
      " |  ternary\n",
      " |      The 'ternary' property is an instance of Ternary\n",
      " |      that may be specified as:\n",
      " |        - An instance of :class:`plotly.graph_objs.layout.Ternary`\n",
      " |        - A dict of string/value properties that will be passed\n",
      " |          to the Ternary constructor\n",
      " |      \n",
      " |          Supported dict properties:\n",
      " |      \n",
      " |              aaxis\n",
      " |                  :class:`plotly.graph_objects.layout.ternary.Aax\n",
      " |                  is` instance or dict with compatible properties\n",
      " |              baxis\n",
      " |                  :class:`plotly.graph_objects.layout.ternary.Bax\n",
      " |                  is` instance or dict with compatible properties\n",
      " |              bgcolor\n",
      " |                  Set the background color of the subplot\n",
      " |              caxis\n",
      " |                  :class:`plotly.graph_objects.layout.ternary.Cax\n",
      " |                  is` instance or dict with compatible properties\n",
      " |              domain\n",
      " |                  :class:`plotly.graph_objects.layout.ternary.Dom\n",
      " |                  ain` instance or dict with compatible\n",
      " |                  properties\n",
      " |              sum\n",
      " |                  The number each triplet should sum to, and the\n",
      " |                  maximum range of each axis\n",
      " |              uirevision\n",
      " |                  Controls persistence of user-driven changes in\n",
      " |                  axis `min` and `title`, if not overridden in\n",
      " |                  the individual axes. Defaults to\n",
      " |                  `layout.uirevision`.\n",
      " |      \n",
      " |      Returns\n",
      " |      -------\n",
      " |      plotly.graph_objs.layout.Ternary\n",
      " |  \n",
      " |  title\n",
      " |      The 'title' property is an instance of Title\n",
      " |      that may be specified as:\n",
      " |        - An instance of :class:`plotly.graph_objs.layout.Title`\n",
      " |        - A dict of string/value properties that will be passed\n",
      " |          to the Title constructor\n",
      " |      \n",
      " |          Supported dict properties:\n",
      " |      \n",
      " |              automargin\n",
      " |                  Determines whether the title can automatically\n",
      " |                  push the figure margins. If `yref='paper'` then\n",
      " |                  the margin will expand to ensure that the title\n",
      " |                  doesn’t overlap with the edges of the\n",
      " |                  container. If `yref='container'` then the\n",
      " |                  margins will ensure that the title doesn’t\n",
      " |                  overlap with the plot area, tick labels, and\n",
      " |                  axis titles. If `automargin=true` and the\n",
      " |                  margins need to be expanded, then y will be set\n",
      " |                  to a default 1 and yanchor will be set to an\n",
      " |                  appropriate default to ensure that minimal\n",
      " |                  margin space is needed. Note that when\n",
      " |                  `yref='paper'`, only 1 or 0 are allowed y\n",
      " |                  values. Invalid values will be reset to the\n",
      " |                  default 1.\n",
      " |              font\n",
      " |                  Sets the title font. Note that the title's font\n",
      " |                  used to be customized by the now deprecated\n",
      " |                  `titlefont` attribute.\n",
      " |              pad\n",
      " |                  Sets the padding of the title. Each padding\n",
      " |                  value only applies when the corresponding\n",
      " |                  `xanchor`/`yanchor` value is set accordingly.\n",
      " |                  E.g. for left padding to take effect, `xanchor`\n",
      " |                  must be set to \"left\". The same rule applies if\n",
      " |                  `xanchor`/`yanchor` is determined\n",
      " |                  automatically. Padding is muted if the\n",
      " |                  respective anchor value is \"middle*/*center\".\n",
      " |              text\n",
      " |                  Sets the plot's title. Note that before the\n",
      " |                  existence of `title.text`, the title's contents\n",
      " |                  used to be defined as the `title` attribute\n",
      " |                  itself. This behavior has been deprecated.\n",
      " |              x\n",
      " |                  Sets the x position with respect to `xref` in\n",
      " |                  normalized coordinates from 0 (left) to 1\n",
      " |                  (right).\n",
      " |              xanchor\n",
      " |                  Sets the title's horizontal alignment with\n",
      " |                  respect to its x position. \"left\" means that\n",
      " |                  the title starts at x, \"right\" means that the\n",
      " |                  title ends at x and \"center\" means that the\n",
      " |                  title's center is at x. \"auto\" divides `xref`\n",
      " |                  by three and calculates the `xanchor` value\n",
      " |                  automatically based on the value of `x`.\n",
      " |              xref\n",
      " |                  Sets the container `x` refers to. \"container\"\n",
      " |                  spans the entire `width` of the plot. \"paper\"\n",
      " |                  refers to the width of the plotting area only.\n",
      " |              y\n",
      " |                  Sets the y position with respect to `yref` in\n",
      " |                  normalized coordinates from 0 (bottom) to 1\n",
      " |                  (top). \"auto\" places the baseline of the title\n",
      " |                  onto the vertical center of the top margin.\n",
      " |              yanchor\n",
      " |                  Sets the title's vertical alignment with\n",
      " |                  respect to its y position. \"top\" means that the\n",
      " |                  title's cap line is at y, \"bottom\" means that\n",
      " |                  the title's baseline is at y and \"middle\" means\n",
      " |                  that the title's midline is at y. \"auto\"\n",
      " |                  divides `yref` by three and calculates the\n",
      " |                  `yanchor` value automatically based on the\n",
      " |                  value of `y`.\n",
      " |              yref\n",
      " |                  Sets the container `y` refers to. \"container\"\n",
      " |                  spans the entire `height` of the plot. \"paper\"\n",
      " |                  refers to the height of the plotting area only.\n",
      " |      \n",
      " |      Returns\n",
      " |      -------\n",
      " |      plotly.graph_objs.layout.Title\n",
      " |  \n",
      " |  titlefont\n",
      " |      Deprecated: Please use layout.title.font instead. Sets the\n",
      " |      title font. Note that the title's font used to be customized by\n",
      " |      the now deprecated `titlefont` attribute.\n",
      " |      \n",
      " |      The 'font' property is an instance of Font\n",
      " |      that may be specified as:\n",
      " |        - An instance of :class:`plotly.graph_objs.layout.title.Font`\n",
      " |        - A dict of string/value properties that will be passed\n",
      " |          to the Font constructor\n",
      " |      \n",
      " |          Supported dict properties:\n",
      " |      \n",
      " |              color\n",
      " |      \n",
      " |              family\n",
      " |                  HTML font family - the typeface that will be\n",
      " |                  applied by the web browser. The web browser\n",
      " |                  will only be able to apply a font if it is\n",
      " |                  available on the system which it operates.\n",
      " |                  Provide multiple font families, separated by\n",
      " |                  commas, to indicate the preference in which to\n",
      " |                  apply fonts if they aren't available on the\n",
      " |                  system. The Chart Studio Cloud (at\n",
      " |                  https://chart-studio.plotly.com or on-premise)\n",
      " |                  generates images on a server, where only a\n",
      " |                  select number of fonts are installed and\n",
      " |                  supported. These include \"Arial\", \"Balto\",\n",
      " |                  \"Courier New\", \"Droid Sans\",, \"Droid Serif\",\n",
      " |                  \"Droid Sans Mono\", \"Gravitas One\", \"Old\n",
      " |                  Standard TT\", \"Open Sans\", \"Overpass\", \"PT Sans\n",
      " |                  Narrow\", \"Raleway\", \"Times New Roman\".\n",
      " |              size\n",
      " |      \n",
      " |      Returns\n",
      " |      -------\n",
      " |  \n",
      " |  transition\n",
      " |      Sets transition options used during Plotly.react updates.\n",
      " |      \n",
      " |      The 'transition' property is an instance of Transition\n",
      " |      that may be specified as:\n",
      " |        - An instance of :class:`plotly.graph_objs.layout.Transition`\n",
      " |        - A dict of string/value properties that will be passed\n",
      " |          to the Transition constructor\n",
      " |      \n",
      " |          Supported dict properties:\n",
      " |      \n",
      " |              duration\n",
      " |                  The duration of the transition, in\n",
      " |                  milliseconds. If equal to zero, updates are\n",
      " |                  synchronous.\n",
      " |              easing\n",
      " |                  The easing function used for the transition\n",
      " |              ordering\n",
      " |                  Determines whether the figure's layout or\n",
      " |                  traces smoothly transitions during updates that\n",
      " |                  make both traces and layout change.\n",
      " |      \n",
      " |      Returns\n",
      " |      -------\n",
      " |      plotly.graph_objs.layout.Transition\n",
      " |  \n",
      " |  treemapcolorway\n",
      " |      Sets the default treemap slice colors. Defaults to the main\n",
      " |      `colorway` used for trace colors. If you specify a new list\n",
      " |      here it can still be extended with lighter and darker colors,\n",
      " |      see `extendtreemapcolors`.\n",
      " |      \n",
      " |      The 'treemapcolorway' property is a colorlist that may be specified\n",
      " |      as a tuple, list, one-dimensional numpy array, or pandas Series of valid\n",
      " |      color strings\n",
      " |      \n",
      " |      Returns\n",
      " |      -------\n",
      " |      list\n",
      " |  \n",
      " |  uirevision\n",
      " |      Used to allow user interactions with the plot to persist after\n",
      " |      `Plotly.react` calls that are unaware of these interactions. If\n",
      " |      `uirevision` is omitted, or if it is given and it changed from\n",
      " |      the previous `Plotly.react` call, the exact new figure is used.\n",
      " |      If `uirevision` is truthy and did NOT change, any attribute\n",
      " |      that has been affected by user interactions and did not receive\n",
      " |      a different value in the new figure will keep the interaction\n",
      " |      value. `layout.uirevision` attribute serves as the default for\n",
      " |      `uirevision` attributes in various sub-containers. For finer\n",
      " |      control you can set these sub-attributes directly. For example,\n",
      " |      if your app separately controls the data on the x and y axes\n",
      " |      you might set `xaxis.uirevision=*time*` and\n",
      " |      `yaxis.uirevision=*cost*`. Then if only the y data is changed,\n",
      " |      you can update `yaxis.uirevision=*quantity*` and the y axis\n",
      " |      range will reset but the x axis range will retain any user-\n",
      " |      driven zoom.\n",
      " |      \n",
      " |      The 'uirevision' property accepts values of any type\n",
      " |      \n",
      " |      Returns\n",
      " |      -------\n",
      " |      Any\n",
      " |  \n",
      " |  uniformtext\n",
      " |      The 'uniformtext' property is an instance of Uniformtext\n",
      " |      that may be specified as:\n",
      " |        - An instance of :class:`plotly.graph_objs.layout.Uniformtext`\n",
      " |        - A dict of string/value properties that will be passed\n",
      " |          to the Uniformtext constructor\n",
      " |      \n",
      " |          Supported dict properties:\n",
      " |      \n",
      " |              minsize\n",
      " |                  Sets the minimum text size between traces of\n",
      " |                  the same type.\n",
      " |              mode\n",
      " |                  Determines how the font size for various text\n",
      " |                  elements are uniformed between each trace type.\n",
      " |                  If the computed text sizes were smaller than\n",
      " |                  the minimum size defined by\n",
      " |                  `uniformtext.minsize` using \"hide\" option hides\n",
      " |                  the text; and using \"show\" option shows the\n",
      " |                  text without further downscaling. Please note\n",
      " |                  that if the size defined by `minsize` is\n",
      " |                  greater than the font size defined by trace,\n",
      " |                  then the `minsize` is used.\n",
      " |      \n",
      " |      Returns\n",
      " |      -------\n",
      " |      plotly.graph_objs.layout.Uniformtext\n",
      " |  \n",
      " |  updatemenudefaults\n",
      " |      When used in a template (as\n",
      " |      layout.template.layout.updatemenudefaults), sets the default\n",
      " |      property values to use for elements of layout.updatemenus\n",
      " |      \n",
      " |      The 'updatemenudefaults' property is an instance of Updatemenu\n",
      " |      that may be specified as:\n",
      " |        - An instance of :class:`plotly.graph_objs.layout.Updatemenu`\n",
      " |        - A dict of string/value properties that will be passed\n",
      " |          to the Updatemenu constructor\n",
      " |      \n",
      " |          Supported dict properties:\n",
      " |      \n",
      " |      Returns\n",
      " |      -------\n",
      " |      plotly.graph_objs.layout.Updatemenu\n",
      " |  \n",
      " |  updatemenus\n",
      " |      The 'updatemenus' property is a tuple of instances of\n",
      " |      Updatemenu that may be specified as:\n",
      " |        - A list or tuple of instances of plotly.graph_objs.layout.Updatemenu\n",
      " |        - A list or tuple of dicts of string/value properties that\n",
      " |          will be passed to the Updatemenu constructor\n",
      " |      \n",
      " |          Supported dict properties:\n",
      " |      \n",
      " |              active\n",
      " |                  Determines which button (by index starting from\n",
      " |                  0) is considered active.\n",
      " |              bgcolor\n",
      " |                  Sets the background color of the update menu\n",
      " |                  buttons.\n",
      " |              bordercolor\n",
      " |                  Sets the color of the border enclosing the\n",
      " |                  update menu.\n",
      " |              borderwidth\n",
      " |                  Sets the width (in px) of the border enclosing\n",
      " |                  the update menu.\n",
      " |              buttons\n",
      " |                  A tuple of :class:`plotly.graph_objects.layout.\n",
      " |                  updatemenu.Button` instances or dicts with\n",
      " |                  compatible properties\n",
      " |              buttondefaults\n",
      " |                  When used in a template (as layout.template.lay\n",
      " |                  out.updatemenu.buttondefaults), sets the\n",
      " |                  default property values to use for elements of\n",
      " |                  layout.updatemenu.buttons\n",
      " |              direction\n",
      " |                  Determines the direction in which the buttons\n",
      " |                  are laid out, whether in a dropdown menu or a\n",
      " |                  row/column of buttons. For `left` and `up`, the\n",
      " |                  buttons will still appear in left-to-right or\n",
      " |                  top-to-bottom order respectively.\n",
      " |              font\n",
      " |                  Sets the font of the update menu button text.\n",
      " |              name\n",
      " |                  When used in a template, named items are\n",
      " |                  created in the output figure in addition to any\n",
      " |                  items the figure already has in this array. You\n",
      " |                  can modify these items in the output figure by\n",
      " |                  making your own item with `templateitemname`\n",
      " |                  matching this `name` alongside your\n",
      " |                  modifications (including `visible: false` or\n",
      " |                  `enabled: false` to hide it). Has no effect\n",
      " |                  outside of a template.\n",
      " |              pad\n",
      " |                  Sets the padding around the buttons or dropdown\n",
      " |                  menu.\n",
      " |              showactive\n",
      " |                  Highlights active dropdown item or active\n",
      " |                  button if true.\n",
      " |              templateitemname\n",
      " |                  Used to refer to a named item in this array in\n",
      " |                  the template. Named items from the template\n",
      " |                  will be created even without a matching item in\n",
      " |                  the input figure, but you can modify one by\n",
      " |                  making an item with `templateitemname` matching\n",
      " |                  its `name`, alongside your modifications\n",
      " |                  (including `visible: false` or `enabled: false`\n",
      " |                  to hide it). If there is no template or no\n",
      " |                  matching item, this item will be hidden unless\n",
      " |                  you explicitly show it with `visible: true`.\n",
      " |              type\n",
      " |                  Determines whether the buttons are accessible\n",
      " |                  via a dropdown menu or whether the buttons are\n",
      " |                  stacked horizontally or vertically\n",
      " |              visible\n",
      " |                  Determines whether or not the update menu is\n",
      " |                  visible.\n",
      " |              x\n",
      " |                  Sets the x position (in normalized coordinates)\n",
      " |                  of the update menu.\n",
      " |              xanchor\n",
      " |                  Sets the update menu's horizontal position\n",
      " |                  anchor. This anchor binds the `x` position to\n",
      " |                  the \"left\", \"center\" or \"right\" of the range\n",
      " |                  selector.\n",
      " |              y\n",
      " |                  Sets the y position (in normalized coordinates)\n",
      " |                  of the update menu.\n",
      " |              yanchor\n",
      " |                  Sets the update menu's vertical position anchor\n",
      " |                  This anchor binds the `y` position to the\n",
      " |                  \"top\", \"middle\" or \"bottom\" of the range\n",
      " |                  selector.\n",
      " |      \n",
      " |      Returns\n",
      " |      -------\n",
      " |      tuple[plotly.graph_objs.layout.Updatemenu]\n",
      " |  \n",
      " |  violingap\n",
      " |      Sets the gap (in plot fraction) between violins of adjacent\n",
      " |      location coordinates. Has no effect on traces that have \"width\"\n",
      " |      set.\n",
      " |      \n",
      " |      The 'violingap' property is a number and may be specified as:\n",
      " |        - An int or float in the interval [0, 1]\n",
      " |      \n",
      " |      Returns\n",
      " |      -------\n",
      " |      int|float\n",
      " |  \n",
      " |  violingroupgap\n",
      " |      Sets the gap (in plot fraction) between violins of the same\n",
      " |      location coordinate. Has no effect on traces that have \"width\"\n",
      " |      set.\n",
      " |      \n",
      " |      The 'violingroupgap' property is a number and may be specified as:\n",
      " |        - An int or float in the interval [0, 1]\n",
      " |      \n",
      " |      Returns\n",
      " |      -------\n",
      " |      int|float\n",
      " |  \n",
      " |  violinmode\n",
      " |      Determines how violins at the same location coordinate are\n",
      " |      displayed on the graph. If \"group\", the violins are plotted\n",
      " |      next to one another centered around the shared location. If\n",
      " |      \"overlay\", the violins are plotted over one another, you might\n",
      " |      need to set \"opacity\" to see them multiple violins. Has no\n",
      " |      effect on traces that have \"width\" set.\n",
      " |      \n",
      " |      The 'violinmode' property is an enumeration that may be specified as:\n",
      " |        - One of the following enumeration values:\n",
      " |              ['group', 'overlay']\n",
      " |      \n",
      " |      Returns\n",
      " |      -------\n",
      " |      Any\n",
      " |  \n",
      " |  waterfallgap\n",
      " |      Sets the gap (in plot fraction) between bars of adjacent\n",
      " |      location coordinates.\n",
      " |      \n",
      " |      The 'waterfallgap' property is a number and may be specified as:\n",
      " |        - An int or float in the interval [0, 1]\n",
      " |      \n",
      " |      Returns\n",
      " |      -------\n",
      " |      int|float\n",
      " |  \n",
      " |  waterfallgroupgap\n",
      " |      Sets the gap (in plot fraction) between bars of the same\n",
      " |      location coordinate.\n",
      " |      \n",
      " |      The 'waterfallgroupgap' property is a number and may be specified as:\n",
      " |        - An int or float in the interval [0, 1]\n",
      " |      \n",
      " |      Returns\n",
      " |      -------\n",
      " |      int|float\n",
      " |  \n",
      " |  waterfallmode\n",
      " |      Determines how bars at the same location coordinate are\n",
      " |      displayed on the graph. With \"group\", the bars are plotted next\n",
      " |      to one another centered around the shared location. With\n",
      " |      \"overlay\", the bars are plotted over one another, you might\n",
      " |      need to reduce \"opacity\" to see multiple bars.\n",
      " |      \n",
      " |      The 'waterfallmode' property is an enumeration that may be specified as:\n",
      " |        - One of the following enumeration values:\n",
      " |              ['group', 'overlay']\n",
      " |      \n",
      " |      Returns\n",
      " |      -------\n",
      " |      Any\n",
      " |  \n",
      " |  width\n",
      " |      Sets the plot's width (in px).\n",
      " |      \n",
      " |      The 'width' property is a number and may be specified as:\n",
      " |        - An int or float in the interval [10, inf]\n",
      " |      \n",
      " |      Returns\n",
      " |      -------\n",
      " |      int|float\n",
      " |  \n",
      " |  xaxis\n",
      " |      The 'xaxis' property is an instance of XAxis\n",
      " |      that may be specified as:\n",
      " |        - An instance of :class:`plotly.graph_objs.layout.XAxis`\n",
      " |        - A dict of string/value properties that will be passed\n",
      " |          to the XAxis constructor\n",
      " |      \n",
      " |          Supported dict properties:\n",
      " |      \n",
      " |              anchor\n",
      " |                  If set to an opposite-letter axis id (e.g.\n",
      " |                  `x2`, `y`), this axis is bound to the\n",
      " |                  corresponding opposite-letter axis. If set to\n",
      " |                  \"free\", this axis' position is determined by\n",
      " |                  `position`.\n",
      " |              automargin\n",
      " |                  Determines whether long tick labels\n",
      " |                  automatically grow the figure margins.\n",
      " |              autorange\n",
      " |                  Determines whether or not the range of this\n",
      " |                  axis is computed in relation to the input data.\n",
      " |                  See `rangemode` for more info. If `range` is\n",
      " |                  provided and it has a value for both the lower\n",
      " |                  and upper bound, `autorange` is set to False.\n",
      " |                  Using \"min\" applies autorange only to set the\n",
      " |                  minimum. Using \"max\" applies autorange only to\n",
      " |                  set the maximum. Using *min reversed* applies\n",
      " |                  autorange only to set the minimum on a reversed\n",
      " |                  axis. Using *max reversed* applies autorange\n",
      " |                  only to set the maximum on a reversed axis.\n",
      " |                  Using \"reversed\" applies autorange on both ends\n",
      " |                  and reverses the axis direction.\n",
      " |              autorangeoptions\n",
      " |                  :class:`plotly.graph_objects.layout.xaxis.Autor\n",
      " |                  angeoptions` instance or dict with compatible\n",
      " |                  properties\n",
      " |              autotickangles\n",
      " |                  When `tickangle` is set to \"auto\", it will be\n",
      " |                  set to the first angle in this array that is\n",
      " |                  large enough to prevent label overlap.\n",
      " |              autotypenumbers\n",
      " |                  Using \"strict\" a numeric string in trace data\n",
      " |                  is not converted to a number. Using *convert\n",
      " |                  types* a numeric string in trace data may be\n",
      " |                  treated as a number during automatic axis\n",
      " |                  `type` detection. Defaults to\n",
      " |                  layout.autotypenumbers.\n",
      " |              calendar\n",
      " |                  Sets the calendar system to use for `range` and\n",
      " |                  `tick0` if this is a date axis. This does not\n",
      " |                  set the calendar for interpreting data on this\n",
      " |                  axis, that's specified in the trace or via the\n",
      " |                  global `layout.calendar`\n",
      " |              categoryarray\n",
      " |                  Sets the order in which categories on this axis\n",
      " |                  appear. Only has an effect if `categoryorder`\n",
      " |                  is set to \"array\". Used with `categoryorder`.\n",
      " |              categoryarraysrc\n",
      " |                  Sets the source reference on Chart Studio Cloud\n",
      " |                  for `categoryarray`.\n",
      " |              categoryorder\n",
      " |                  Specifies the ordering logic for the case of\n",
      " |                  categorical variables. By default, plotly uses\n",
      " |                  \"trace\", which specifies the order that is\n",
      " |                  present in the data supplied. Set\n",
      " |                  `categoryorder` to *category ascending* or\n",
      " |                  *category descending* if order should be\n",
      " |                  determined by the alphanumerical order of the\n",
      " |                  category names. Set `categoryorder` to \"array\"\n",
      " |                  to derive the ordering from the attribute\n",
      " |                  `categoryarray`. If a category is not found in\n",
      " |                  the `categoryarray` array, the sorting behavior\n",
      " |                  for that attribute will be identical to the\n",
      " |                  \"trace\" mode. The unspecified categories will\n",
      " |                  follow the categories in `categoryarray`. Set\n",
      " |                  `categoryorder` to *total ascending* or *total\n",
      " |                  descending* if order should be determined by\n",
      " |                  the numerical order of the values. Similarly,\n",
      " |                  the order can be determined by the min, max,\n",
      " |                  sum, mean or median of all the values.\n",
      " |              color\n",
      " |                  Sets default for all colors associated with\n",
      " |                  this axis all at once: line, font, tick, and\n",
      " |                  grid colors. Grid color is lightened by\n",
      " |                  blending this with the plot background\n",
      " |                  Individual pieces can override this.\n",
      " |              constrain\n",
      " |                  If this axis needs to be compressed (either due\n",
      " |                  to its own `scaleanchor` and `scaleratio` or\n",
      " |                  those of the other axis), determines how that\n",
      " |                  happens: by increasing the \"range\", or by\n",
      " |                  decreasing the \"domain\". Default is \"domain\"\n",
      " |                  for axes containing image traces, \"range\"\n",
      " |                  otherwise.\n",
      " |              constraintoward\n",
      " |                  If this axis needs to be compressed (either due\n",
      " |                  to its own `scaleanchor` and `scaleratio` or\n",
      " |                  those of the other axis), determines which\n",
      " |                  direction we push the originally specified plot\n",
      " |                  area. Options are \"left\", \"center\" (default),\n",
      " |                  and \"right\" for x axes, and \"top\", \"middle\"\n",
      " |                  (default), and \"bottom\" for y axes.\n",
      " |              dividercolor\n",
      " |                  Sets the color of the dividers Only has an\n",
      " |                  effect on \"multicategory\" axes.\n",
      " |              dividerwidth\n",
      " |                  Sets the width (in px) of the dividers Only has\n",
      " |                  an effect on \"multicategory\" axes.\n",
      " |              domain\n",
      " |                  Sets the domain of this axis (in plot\n",
      " |                  fraction).\n",
      " |              dtick\n",
      " |                  Sets the step in-between ticks on this axis.\n",
      " |                  Use with `tick0`. Must be a positive number, or\n",
      " |                  special strings available to \"log\" and \"date\"\n",
      " |                  axes. If the axis `type` is \"log\", then ticks\n",
      " |                  are set every 10^(n*dtick) where n is the tick\n",
      " |                  number. For example, to set a tick mark at 1,\n",
      " |                  10, 100, 1000, ... set dtick to 1. To set tick\n",
      " |                  marks at 1, 100, 10000, ... set dtick to 2. To\n",
      " |                  set tick marks at 1, 5, 25, 125, 625, 3125, ...\n",
      " |                  set dtick to log_10(5), or 0.69897000433. \"log\"\n",
      " |                  has several special values; \"L<f>\", where `f`\n",
      " |                  is a positive number, gives ticks linearly\n",
      " |                  spaced in value (but not position). For example\n",
      " |                  `tick0` = 0.1, `dtick` = \"L0.5\" will put ticks\n",
      " |                  at 0.1, 0.6, 1.1, 1.6 etc. To show powers of 10\n",
      " |                  plus small digits between, use \"D1\" (all\n",
      " |                  digits) or \"D2\" (only 2 and 5). `tick0` is\n",
      " |                  ignored for \"D1\" and \"D2\". If the axis `type`\n",
      " |                  is \"date\", then you must convert the time to\n",
      " |                  milliseconds. For example, to set the interval\n",
      " |                  between ticks to one day, set `dtick` to\n",
      " |                  86400000.0. \"date\" also has special values\n",
      " |                  \"M<n>\" gives ticks spaced by a number of\n",
      " |                  months. `n` must be a positive integer. To set\n",
      " |                  ticks on the 15th of every third month, set\n",
      " |                  `tick0` to \"2000-01-15\" and `dtick` to \"M3\". To\n",
      " |                  set ticks every 4 years, set `dtick` to \"M48\"\n",
      " |              exponentformat\n",
      " |                  Determines a formatting rule for the tick\n",
      " |                  exponents. For example, consider the number\n",
      " |                  1,000,000,000. If \"none\", it appears as\n",
      " |                  1,000,000,000. If \"e\", 1e+9. If \"E\", 1E+9. If\n",
      " |                  \"power\", 1x10^9 (with 9 in a super script). If\n",
      " |                  \"SI\", 1G. If \"B\", 1B.\n",
      " |              fixedrange\n",
      " |                  Determines whether or not this axis is zoom-\n",
      " |                  able. If true, then zoom is disabled.\n",
      " |              gridcolor\n",
      " |                  Sets the color of the grid lines.\n",
      " |              griddash\n",
      " |                  Sets the dash style of lines. Set to a dash\n",
      " |                  type string (\"solid\", \"dot\", \"dash\",\n",
      " |                  \"longdash\", \"dashdot\", or \"longdashdot\") or a\n",
      " |                  dash length list in px (eg \"5px,10px,2px,2px\").\n",
      " |              gridwidth\n",
      " |                  Sets the width (in px) of the grid lines.\n",
      " |              hoverformat\n",
      " |                  Sets the hover text formatting rule using d3\n",
      " |                  formatting mini-languages which are very\n",
      " |                  similar to those in Python. For numbers, see: h\n",
      " |                  ttps://github.com/d3/d3-format/tree/v1.4.5#d3-\n",
      " |                  format. And for dates see:\n",
      " |                  https://github.com/d3/d3-time-\n",
      " |                  format/tree/v2.2.3#locale_format. We add two\n",
      " |                  items to d3's date formatter: \"%h\" for half of\n",
      " |                  the year as a decimal number as well as \"%{n}f\"\n",
      " |                  for fractional seconds with n digits. For\n",
      " |                  example, *2016-10-13 09:15:23.456* with\n",
      " |                  tickformat \"%H~%M~%S.%2f\" would display\n",
      " |                  \"09~15~23.46\"\n",
      " |              insiderange\n",
      " |                  Could be used to set the desired inside range\n",
      " |                  of this axis (excluding the labels) when\n",
      " |                  `ticklabelposition` of the anchored axis has\n",
      " |                  \"inside\". Not implemented for axes with `type`\n",
      " |                  \"log\". This would be ignored when `range` is\n",
      " |                  provided.\n",
      " |              labelalias\n",
      " |                  Replacement text for specific tick or hover\n",
      " |                  labels. For example using {US: 'USA', CA:\n",
      " |                  'Canada'} changes US to USA and CA to Canada.\n",
      " |                  The labels we would have shown must match the\n",
      " |                  keys exactly, after adding any tickprefix or\n",
      " |                  ticksuffix. For negative numbers the minus sign\n",
      " |                  symbol used (U+2212) is wider than the regular\n",
      " |                  ascii dash. That means you need to use −1\n",
      " |                  instead of -1. labelalias can be used with any\n",
      " |                  axis type, and both keys (if needed) and values\n",
      " |                  (if desired) can include html-like tags or\n",
      " |                  MathJax.\n",
      " |              layer\n",
      " |                  Sets the layer on which this axis is displayed.\n",
      " |                  If *above traces*, this axis is displayed above\n",
      " |                  all the subplot's traces If *below traces*,\n",
      " |                  this axis is displayed below all the subplot's\n",
      " |                  traces, but above the grid lines. Useful when\n",
      " |                  used together with scatter-like traces with\n",
      " |                  `cliponaxis` set to False to show markers\n",
      " |                  and/or text nodes above this axis.\n",
      " |              linecolor\n",
      " |                  Sets the axis line color.\n",
      " |              linewidth\n",
      " |                  Sets the width (in px) of the axis line.\n",
      " |              matches\n",
      " |                  If set to another axis id (e.g. `x2`, `y`), the\n",
      " |                  range of this axis will match the range of the\n",
      " |                  corresponding axis in data-coordinates space.\n",
      " |                  Moreover, matching axes share auto-range\n",
      " |                  values, category lists and histogram auto-bins.\n",
      " |                  Note that setting axes simultaneously in both a\n",
      " |                  `scaleanchor` and a `matches` constraint is\n",
      " |                  currently forbidden. Moreover, note that\n",
      " |                  matching axes must have the same `type`.\n",
      " |              maxallowed\n",
      " |                  Determines the maximum range of this axis.\n",
      " |              minallowed\n",
      " |                  Determines the minimum range of this axis.\n",
      " |              minexponent\n",
      " |                  Hide SI prefix for 10^n if |n| is below this\n",
      " |                  number. This only has an effect when\n",
      " |                  `tickformat` is \"SI\" or \"B\".\n",
      " |              minor\n",
      " |                  :class:`plotly.graph_objects.layout.xaxis.Minor\n",
      " |                  ` instance or dict with compatible properties\n",
      " |              mirror\n",
      " |                  Determines if the axis lines or/and ticks are\n",
      " |                  mirrored to the opposite side of the plotting\n",
      " |                  area. If True, the axis lines are mirrored. If\n",
      " |                  \"ticks\", the axis lines and ticks are mirrored.\n",
      " |                  If False, mirroring is disable. If \"all\", axis\n",
      " |                  lines are mirrored on all shared-axes subplots.\n",
      " |                  If \"allticks\", axis lines and ticks are\n",
      " |                  mirrored on all shared-axes subplots.\n",
      " |              nticks\n",
      " |                  Specifies the maximum number of ticks for the\n",
      " |                  particular axis. The actual number of ticks\n",
      " |                  will be chosen automatically to be less than or\n",
      " |                  equal to `nticks`. Has an effect only if\n",
      " |                  `tickmode` is set to \"auto\".\n",
      " |              overlaying\n",
      " |                  If set a same-letter axis id, this axis is\n",
      " |                  overlaid on top of the corresponding same-\n",
      " |                  letter axis, with traces and axes visible for\n",
      " |                  both axes. If False, this axis does not overlay\n",
      " |                  any same-letter axes. In this case, for axes\n",
      " |                  with overlapping domains only the highest-\n",
      " |                  numbered axis will be visible.\n",
      " |              position\n",
      " |                  Sets the position of this axis in the plotting\n",
      " |                  space (in normalized coordinates). Only has an\n",
      " |                  effect if `anchor` is set to \"free\".\n",
      " |              range\n",
      " |                  Sets the range of this axis. If the axis `type`\n",
      " |                  is \"log\", then you must take the log of your\n",
      " |                  desired range (e.g. to set the range from 1 to\n",
      " |                  100, set the range from 0 to 2). If the axis\n",
      " |                  `type` is \"date\", it should be date strings,\n",
      " |                  like date data, though Date objects and unix\n",
      " |                  milliseconds will be accepted and converted to\n",
      " |                  strings. If the axis `type` is \"category\", it\n",
      " |                  should be numbers, using the scale where each\n",
      " |                  category is assigned a serial number from zero\n",
      " |                  in the order it appears. Leaving either or both\n",
      " |                  elements `null` impacts the default\n",
      " |                  `autorange`.\n",
      " |              rangebreaks\n",
      " |                  A tuple of :class:`plotly.graph_objects.layout.\n",
      " |                  xaxis.Rangebreak` instances or dicts with\n",
      " |                  compatible properties\n",
      " |              rangebreakdefaults\n",
      " |                  When used in a template (as layout.template.lay\n",
      " |                  out.xaxis.rangebreakdefaults), sets the default\n",
      " |                  property values to use for elements of\n",
      " |                  layout.xaxis.rangebreaks\n",
      " |              rangemode\n",
      " |                  If \"normal\", the range is computed in relation\n",
      " |                  to the extrema of the input data. If *tozero*`,\n",
      " |                  the range extends to 0, regardless of the input\n",
      " |                  data If \"nonnegative\", the range is non-\n",
      " |                  negative, regardless of the input data. Applies\n",
      " |                  only to linear axes.\n",
      " |              rangeselector\n",
      " |                  :class:`plotly.graph_objects.layout.xaxis.Range\n",
      " |                  selector` instance or dict with compatible\n",
      " |                  properties\n",
      " |              rangeslider\n",
      " |                  :class:`plotly.graph_objects.layout.xaxis.Range\n",
      " |                  slider` instance or dict with compatible\n",
      " |                  properties\n",
      " |              scaleanchor\n",
      " |                  If set to another axis id (e.g. `x2`, `y`), the\n",
      " |                  range of this axis changes together with the\n",
      " |                  range of the corresponding axis such that the\n",
      " |                  scale of pixels per unit is in a constant\n",
      " |                  ratio. Both axes are still zoomable, but when\n",
      " |                  you zoom one, the other will zoom the same\n",
      " |                  amount, keeping a fixed midpoint. `constrain`\n",
      " |                  and `constraintoward` determine how we enforce\n",
      " |                  the constraint. You can chain these, ie `yaxis:\n",
      " |                  {scaleanchor: *x*}, xaxis2: {scaleanchor: *y*}`\n",
      " |                  but you can only link axes of the same `type`.\n",
      " |                  The linked axis can have the opposite letter\n",
      " |                  (to constrain the aspect ratio) or the same\n",
      " |                  letter (to match scales across subplots). Loops\n",
      " |                  (`yaxis: {scaleanchor: *x*}, xaxis:\n",
      " |                  {scaleanchor: *y*}` or longer) are redundant\n",
      " |                  and the last constraint encountered will be\n",
      " |                  ignored to avoid possible inconsistent\n",
      " |                  constraints via `scaleratio`. Note that setting\n",
      " |                  axes simultaneously in both a `scaleanchor` and\n",
      " |                  a `matches` constraint is currently forbidden.\n",
      " |                  Setting `false` allows to remove a default\n",
      " |                  constraint (occasionally, you may need to\n",
      " |                  prevent a default `scaleanchor` constraint from\n",
      " |                  being applied, eg. when having an image trace\n",
      " |                  `yaxis: {scaleanchor: \"x\"}` is set\n",
      " |                  automatically in order for pixels to be\n",
      " |                  rendered as squares, setting `yaxis:\n",
      " |                  {scaleanchor: false}` allows to remove the\n",
      " |                  constraint).\n",
      " |              scaleratio\n",
      " |                  If this axis is linked to another by\n",
      " |                  `scaleanchor`, this determines the pixel to\n",
      " |                  unit scale ratio. For example, if this value is\n",
      " |                  10, then every unit on this axis spans 10 times\n",
      " |                  the number of pixels as a unit on the linked\n",
      " |                  axis. Use this for example to create an\n",
      " |                  elevation profile where the vertical scale is\n",
      " |                  exaggerated a fixed amount with respect to the\n",
      " |                  horizontal.\n",
      " |              separatethousands\n",
      " |                  If \"true\", even 4-digit integers are separated\n",
      " |              showdividers\n",
      " |                  Determines whether or not a dividers are drawn\n",
      " |                  between the category levels of this axis. Only\n",
      " |                  has an effect on \"multicategory\" axes.\n",
      " |              showexponent\n",
      " |                  If \"all\", all exponents are shown besides their\n",
      " |                  significands. If \"first\", only the exponent of\n",
      " |                  the first tick is shown. If \"last\", only the\n",
      " |                  exponent of the last tick is shown. If \"none\",\n",
      " |                  no exponents appear.\n",
      " |              showgrid\n",
      " |                  Determines whether or not grid lines are drawn.\n",
      " |                  If True, the grid lines are drawn at every tick\n",
      " |                  mark.\n",
      " |              showline\n",
      " |                  Determines whether or not a line bounding this\n",
      " |                  axis is drawn.\n",
      " |              showspikes\n",
      " |                  Determines whether or not spikes (aka\n",
      " |                  droplines) are drawn for this axis. Note: This\n",
      " |                  only takes affect when hovermode = closest\n",
      " |              showticklabels\n",
      " |                  Determines whether or not the tick labels are\n",
      " |                  drawn.\n",
      " |              showtickprefix\n",
      " |                  If \"all\", all tick labels are displayed with a\n",
      " |                  prefix. If \"first\", only the first tick is\n",
      " |                  displayed with a prefix. If \"last\", only the\n",
      " |                  last tick is displayed with a suffix. If\n",
      " |                  \"none\", tick prefixes are hidden.\n",
      " |              showticksuffix\n",
      " |                  Same as `showtickprefix` but for tick suffixes.\n",
      " |              side\n",
      " |                  Determines whether a x (y) axis is positioned\n",
      " |                  at the \"bottom\" (\"left\") or \"top\" (\"right\") of\n",
      " |                  the plotting area.\n",
      " |              spikecolor\n",
      " |                  Sets the spike color. If undefined, will use\n",
      " |                  the series color\n",
      " |              spikedash\n",
      " |                  Sets the dash style of lines. Set to a dash\n",
      " |                  type string (\"solid\", \"dot\", \"dash\",\n",
      " |                  \"longdash\", \"dashdot\", or \"longdashdot\") or a\n",
      " |                  dash length list in px (eg \"5px,10px,2px,2px\").\n",
      " |              spikemode\n",
      " |                  Determines the drawing mode for the spike line\n",
      " |                  If \"toaxis\", the line is drawn from the data\n",
      " |                  point to the axis the  series is plotted on. If\n",
      " |                  \"across\", the line is drawn across the entire\n",
      " |                  plot area, and supercedes \"toaxis\". If\n",
      " |                  \"marker\", then a marker dot is drawn on the\n",
      " |                  axis the series is plotted on\n",
      " |              spikesnap\n",
      " |                  Determines whether spikelines are stuck to the\n",
      " |                  cursor or to the closest datapoints.\n",
      " |              spikethickness\n",
      " |                  Sets the width (in px) of the zero line.\n",
      " |              tick0\n",
      " |                  Sets the placement of the first tick on this\n",
      " |                  axis. Use with `dtick`. If the axis `type` is\n",
      " |                  \"log\", then you must take the log of your\n",
      " |                  starting tick (e.g. to set the starting tick to\n",
      " |                  100, set the `tick0` to 2) except when\n",
      " |                  `dtick`=*L<f>* (see `dtick` for more info). If\n",
      " |                  the axis `type` is \"date\", it should be a date\n",
      " |                  string, like date data. If the axis `type` is\n",
      " |                  \"category\", it should be a number, using the\n",
      " |                  scale where each category is assigned a serial\n",
      " |                  number from zero in the order it appears.\n",
      " |              tickangle\n",
      " |                  Sets the angle of the tick labels with respect\n",
      " |                  to the horizontal. For example, a `tickangle`\n",
      " |                  of -90 draws the tick labels vertically.\n",
      " |              tickcolor\n",
      " |                  Sets the tick color.\n",
      " |              tickfont\n",
      " |                  Sets the tick font.\n",
      " |              tickformat\n",
      " |                  Sets the tick label formatting rule using d3\n",
      " |                  formatting mini-languages which are very\n",
      " |                  similar to those in Python. For numbers, see: h\n",
      " |                  ttps://github.com/d3/d3-format/tree/v1.4.5#d3-\n",
      " |                  format. And for dates see:\n",
      " |                  https://github.com/d3/d3-time-\n",
      " |                  format/tree/v2.2.3#locale_format. We add two\n",
      " |                  items to d3's date formatter: \"%h\" for half of\n",
      " |                  the year as a decimal number as well as \"%{n}f\"\n",
      " |                  for fractional seconds with n digits. For\n",
      " |                  example, *2016-10-13 09:15:23.456* with\n",
      " |                  tickformat \"%H~%M~%S.%2f\" would display\n",
      " |                  \"09~15~23.46\"\n",
      " |              tickformatstops\n",
      " |                  A tuple of :class:`plotly.graph_objects.layout.\n",
      " |                  xaxis.Tickformatstop` instances or dicts with\n",
      " |                  compatible properties\n",
      " |              tickformatstopdefaults\n",
      " |                  When used in a template (as layout.template.lay\n",
      " |                  out.xaxis.tickformatstopdefaults), sets the\n",
      " |                  default property values to use for elements of\n",
      " |                  layout.xaxis.tickformatstops\n",
      " |              ticklabelmode\n",
      " |                  Determines where tick labels are drawn with\n",
      " |                  respect to their corresponding ticks and grid\n",
      " |                  lines. Only has an effect for axes of `type`\n",
      " |                  \"date\" When set to \"period\", tick labels are\n",
      " |                  drawn in the middle of the period between\n",
      " |                  ticks.\n",
      " |              ticklabeloverflow\n",
      " |                  Determines how we handle tick labels that would\n",
      " |                  overflow either the graph div or the domain of\n",
      " |                  the axis. The default value for inside tick\n",
      " |                  labels is *hide past domain*. Otherwise on\n",
      " |                  \"category\" and \"multicategory\" axes the default\n",
      " |                  is \"allow\". In other cases the default is *hide\n",
      " |                  past div*.\n",
      " |              ticklabelposition\n",
      " |                  Determines where tick labels are drawn with\n",
      " |                  respect to the axis Please note that top or\n",
      " |                  bottom has no effect on x axes or when\n",
      " |                  `ticklabelmode` is set to \"period\". Similarly\n",
      " |                  left or right has no effect on y axes or when\n",
      " |                  `ticklabelmode` is set to \"period\". Has no\n",
      " |                  effect on \"multicategory\" axes or when\n",
      " |                  `tickson` is set to \"boundaries\". When used on\n",
      " |                  axes linked by `matches` or `scaleanchor`, no\n",
      " |                  extra padding for inside labels would be added\n",
      " |                  by autorange, so that the scales could match.\n",
      " |              ticklabelstep\n",
      " |                  Sets the spacing between tick labels as\n",
      " |                  compared to the spacing between ticks. A value\n",
      " |                  of 1 (default) means each tick gets a label. A\n",
      " |                  value of 2 means shows every 2nd label. A\n",
      " |                  larger value n means only every nth tick is\n",
      " |                  labeled. `tick0` determines which labels are\n",
      " |                  shown. Not implemented for axes with `type`\n",
      " |                  \"log\" or \"multicategory\", or when `tickmode` is\n",
      " |                  \"array\".\n",
      " |              ticklen\n",
      " |                  Sets the tick length (in px).\n",
      " |              tickmode\n",
      " |                  Sets the tick mode for this axis. If \"auto\",\n",
      " |                  the number of ticks is set via `nticks`. If\n",
      " |                  \"linear\", the placement of the ticks is\n",
      " |                  determined by a starting position `tick0` and a\n",
      " |                  tick step `dtick` (\"linear\" is the default\n",
      " |                  value if `tick0` and `dtick` are provided). If\n",
      " |                  \"array\", the placement of the ticks is set via\n",
      " |                  `tickvals` and the tick text is `ticktext`.\n",
      " |                  (\"array\" is the default value if `tickvals` is\n",
      " |                  provided). If \"sync\", the number of ticks will\n",
      " |                  sync with the overlayed axis set by\n",
      " |                  `overlaying` property.\n",
      " |              tickprefix\n",
      " |                  Sets a tick label prefix.\n",
      " |              ticks\n",
      " |                  Determines whether ticks are drawn or not. If\n",
      " |                  \"\", this axis' ticks are not drawn. If\n",
      " |                  \"outside\" (\"inside\"), this axis' are drawn\n",
      " |                  outside (inside) the axis lines.\n",
      " |              tickson\n",
      " |                  Determines where ticks and grid lines are drawn\n",
      " |                  with respect to their corresponding tick\n",
      " |                  labels. Only has an effect for axes of `type`\n",
      " |                  \"category\" or \"multicategory\". When set to\n",
      " |                  \"boundaries\", ticks and grid lines are drawn\n",
      " |                  half a category to the left/bottom of labels.\n",
      " |              ticksuffix\n",
      " |                  Sets a tick label suffix.\n",
      " |              ticktext\n",
      " |                  Sets the text displayed at the ticks position\n",
      " |                  via `tickvals`. Only has an effect if\n",
      " |                  `tickmode` is set to \"array\". Used with\n",
      " |                  `tickvals`.\n",
      " |              ticktextsrc\n",
      " |                  Sets the source reference on Chart Studio Cloud\n",
      " |                  for `ticktext`.\n",
      " |              tickvals\n",
      " |                  Sets the values at which ticks on this axis\n",
      " |                  appear. Only has an effect if `tickmode` is set\n",
      " |                  to \"array\". Used with `ticktext`.\n",
      " |              tickvalssrc\n",
      " |                  Sets the source reference on Chart Studio Cloud\n",
      " |                  for `tickvals`.\n",
      " |              tickwidth\n",
      " |                  Sets the tick width (in px).\n",
      " |              title\n",
      " |                  :class:`plotly.graph_objects.layout.xaxis.Title\n",
      " |                  ` instance or dict with compatible properties\n",
      " |              titlefont\n",
      " |                  Deprecated: Please use layout.xaxis.title.font\n",
      " |                  instead. Sets this axis' title font. Note that\n",
      " |                  the title's font used to be customized by the\n",
      " |                  now deprecated `titlefont` attribute.\n",
      " |              type\n",
      " |                  Sets the axis type. By default, plotly attempts\n",
      " |                  to determined the axis type by looking into the\n",
      " |                  data of the traces that referenced the axis in\n",
      " |                  question.\n",
      " |              uirevision\n",
      " |                  Controls persistence of user-driven changes in\n",
      " |                  axis `range`, `autorange`, and `title` if in\n",
      " |                  `editable: true` configuration. Defaults to\n",
      " |                  `layout.uirevision`.\n",
      " |              visible\n",
      " |                  A single toggle to hide the axis while\n",
      " |                  preserving interaction like dragging. Default\n",
      " |                  is true when a cheater plot is present on the\n",
      " |                  axis, otherwise false\n",
      " |              zeroline\n",
      " |                  Determines whether or not a line is drawn at\n",
      " |                  along the 0 value of this axis. If True, the\n",
      " |                  zero line is drawn on top of the grid lines.\n",
      " |              zerolinecolor\n",
      " |                  Sets the line color of the zero line.\n",
      " |              zerolinewidth\n",
      " |                  Sets the width (in px) of the zero line.\n",
      " |      \n",
      " |      Returns\n",
      " |      -------\n",
      " |      plotly.graph_objs.layout.XAxis\n",
      " |  \n",
      " |  yaxis\n",
      " |      The 'yaxis' property is an instance of YAxis\n",
      " |      that may be specified as:\n",
      " |        - An instance of :class:`plotly.graph_objs.layout.YAxis`\n",
      " |        - A dict of string/value properties that will be passed\n",
      " |          to the YAxis constructor\n",
      " |      \n",
      " |          Supported dict properties:\n",
      " |      \n",
      " |              anchor\n",
      " |                  If set to an opposite-letter axis id (e.g.\n",
      " |                  `x2`, `y`), this axis is bound to the\n",
      " |                  corresponding opposite-letter axis. If set to\n",
      " |                  \"free\", this axis' position is determined by\n",
      " |                  `position`.\n",
      " |              automargin\n",
      " |                  Determines whether long tick labels\n",
      " |                  automatically grow the figure margins.\n",
      " |              autorange\n",
      " |                  Determines whether or not the range of this\n",
      " |                  axis is computed in relation to the input data.\n",
      " |                  See `rangemode` for more info. If `range` is\n",
      " |                  provided and it has a value for both the lower\n",
      " |                  and upper bound, `autorange` is set to False.\n",
      " |                  Using \"min\" applies autorange only to set the\n",
      " |                  minimum. Using \"max\" applies autorange only to\n",
      " |                  set the maximum. Using *min reversed* applies\n",
      " |                  autorange only to set the minimum on a reversed\n",
      " |                  axis. Using *max reversed* applies autorange\n",
      " |                  only to set the maximum on a reversed axis.\n",
      " |                  Using \"reversed\" applies autorange on both ends\n",
      " |                  and reverses the axis direction.\n",
      " |              autorangeoptions\n",
      " |                  :class:`plotly.graph_objects.layout.yaxis.Autor\n",
      " |                  angeoptions` instance or dict with compatible\n",
      " |                  properties\n",
      " |              autoshift\n",
      " |                  Automatically reposition the axis to avoid\n",
      " |                  overlap with other axes with the same\n",
      " |                  `overlaying` value. This repositioning will\n",
      " |                  account for any `shift` amount applied to other\n",
      " |                  axes on the same side with `autoshift` is set\n",
      " |                  to true. Only has an effect if `anchor` is set\n",
      " |                  to \"free\".\n",
      " |              autotickangles\n",
      " |                  When `tickangle` is set to \"auto\", it will be\n",
      " |                  set to the first angle in this array that is\n",
      " |                  large enough to prevent label overlap.\n",
      " |              autotypenumbers\n",
      " |                  Using \"strict\" a numeric string in trace data\n",
      " |                  is not converted to a number. Using *convert\n",
      " |                  types* a numeric string in trace data may be\n",
      " |                  treated as a number during automatic axis\n",
      " |                  `type` detection. Defaults to\n",
      " |                  layout.autotypenumbers.\n",
      " |              calendar\n",
      " |                  Sets the calendar system to use for `range` and\n",
      " |                  `tick0` if this is a date axis. This does not\n",
      " |                  set the calendar for interpreting data on this\n",
      " |                  axis, that's specified in the trace or via the\n",
      " |                  global `layout.calendar`\n",
      " |              categoryarray\n",
      " |                  Sets the order in which categories on this axis\n",
      " |                  appear. Only has an effect if `categoryorder`\n",
      " |                  is set to \"array\". Used with `categoryorder`.\n",
      " |              categoryarraysrc\n",
      " |                  Sets the source reference on Chart Studio Cloud\n",
      " |                  for `categoryarray`.\n",
      " |              categoryorder\n",
      " |                  Specifies the ordering logic for the case of\n",
      " |                  categorical variables. By default, plotly uses\n",
      " |                  \"trace\", which specifies the order that is\n",
      " |                  present in the data supplied. Set\n",
      " |                  `categoryorder` to *category ascending* or\n",
      " |                  *category descending* if order should be\n",
      " |                  determined by the alphanumerical order of the\n",
      " |                  category names. Set `categoryorder` to \"array\"\n",
      " |                  to derive the ordering from the attribute\n",
      " |                  `categoryarray`. If a category is not found in\n",
      " |                  the `categoryarray` array, the sorting behavior\n",
      " |                  for that attribute will be identical to the\n",
      " |                  \"trace\" mode. The unspecified categories will\n",
      " |                  follow the categories in `categoryarray`. Set\n",
      " |                  `categoryorder` to *total ascending* or *total\n",
      " |                  descending* if order should be determined by\n",
      " |                  the numerical order of the values. Similarly,\n",
      " |                  the order can be determined by the min, max,\n",
      " |                  sum, mean or median of all the values.\n",
      " |              color\n",
      " |                  Sets default for all colors associated with\n",
      " |                  this axis all at once: line, font, tick, and\n",
      " |                  grid colors. Grid color is lightened by\n",
      " |                  blending this with the plot background\n",
      " |                  Individual pieces can override this.\n",
      " |              constrain\n",
      " |                  If this axis needs to be compressed (either due\n",
      " |                  to its own `scaleanchor` and `scaleratio` or\n",
      " |                  those of the other axis), determines how that\n",
      " |                  happens: by increasing the \"range\", or by\n",
      " |                  decreasing the \"domain\". Default is \"domain\"\n",
      " |                  for axes containing image traces, \"range\"\n",
      " |                  otherwise.\n",
      " |              constraintoward\n",
      " |                  If this axis needs to be compressed (either due\n",
      " |                  to its own `scaleanchor` and `scaleratio` or\n",
      " |                  those of the other axis), determines which\n",
      " |                  direction we push the originally specified plot\n",
      " |                  area. Options are \"left\", \"center\" (default),\n",
      " |                  and \"right\" for x axes, and \"top\", \"middle\"\n",
      " |                  (default), and \"bottom\" for y axes.\n",
      " |              dividercolor\n",
      " |                  Sets the color of the dividers Only has an\n",
      " |                  effect on \"multicategory\" axes.\n",
      " |              dividerwidth\n",
      " |                  Sets the width (in px) of the dividers Only has\n",
      " |                  an effect on \"multicategory\" axes.\n",
      " |              domain\n",
      " |                  Sets the domain of this axis (in plot\n",
      " |                  fraction).\n",
      " |              dtick\n",
      " |                  Sets the step in-between ticks on this axis.\n",
      " |                  Use with `tick0`. Must be a positive number, or\n",
      " |                  special strings available to \"log\" and \"date\"\n",
      " |                  axes. If the axis `type` is \"log\", then ticks\n",
      " |                  are set every 10^(n*dtick) where n is the tick\n",
      " |                  number. For example, to set a tick mark at 1,\n",
      " |                  10, 100, 1000, ... set dtick to 1. To set tick\n",
      " |                  marks at 1, 100, 10000, ... set dtick to 2. To\n",
      " |                  set tick marks at 1, 5, 25, 125, 625, 3125, ...\n",
      " |                  set dtick to log_10(5), or 0.69897000433. \"log\"\n",
      " |                  has several special values; \"L<f>\", where `f`\n",
      " |                  is a positive number, gives ticks linearly\n",
      " |                  spaced in value (but not position). For example\n",
      " |                  `tick0` = 0.1, `dtick` = \"L0.5\" will put ticks\n",
      " |                  at 0.1, 0.6, 1.1, 1.6 etc. To show powers of 10\n",
      " |                  plus small digits between, use \"D1\" (all\n",
      " |                  digits) or \"D2\" (only 2 and 5). `tick0` is\n",
      " |                  ignored for \"D1\" and \"D2\". If the axis `type`\n",
      " |                  is \"date\", then you must convert the time to\n",
      " |                  milliseconds. For example, to set the interval\n",
      " |                  between ticks to one day, set `dtick` to\n",
      " |                  86400000.0. \"date\" also has special values\n",
      " |                  \"M<n>\" gives ticks spaced by a number of\n",
      " |                  months. `n` must be a positive integer. To set\n",
      " |                  ticks on the 15th of every third month, set\n",
      " |                  `tick0` to \"2000-01-15\" and `dtick` to \"M3\". To\n",
      " |                  set ticks every 4 years, set `dtick` to \"M48\"\n",
      " |              exponentformat\n",
      " |                  Determines a formatting rule for the tick\n",
      " |                  exponents. For example, consider the number\n",
      " |                  1,000,000,000. If \"none\", it appears as\n",
      " |                  1,000,000,000. If \"e\", 1e+9. If \"E\", 1E+9. If\n",
      " |                  \"power\", 1x10^9 (with 9 in a super script). If\n",
      " |                  \"SI\", 1G. If \"B\", 1B.\n",
      " |              fixedrange\n",
      " |                  Determines whether or not this axis is zoom-\n",
      " |                  able. If true, then zoom is disabled.\n",
      " |              gridcolor\n",
      " |                  Sets the color of the grid lines.\n",
      " |              griddash\n",
      " |                  Sets the dash style of lines. Set to a dash\n",
      " |                  type string (\"solid\", \"dot\", \"dash\",\n",
      " |                  \"longdash\", \"dashdot\", or \"longdashdot\") or a\n",
      " |                  dash length list in px (eg \"5px,10px,2px,2px\").\n",
      " |              gridwidth\n",
      " |                  Sets the width (in px) of the grid lines.\n",
      " |              hoverformat\n",
      " |                  Sets the hover text formatting rule using d3\n",
      " |                  formatting mini-languages which are very\n",
      " |                  similar to those in Python. For numbers, see: h\n",
      " |                  ttps://github.com/d3/d3-format/tree/v1.4.5#d3-\n",
      " |                  format. And for dates see:\n",
      " |                  https://github.com/d3/d3-time-\n",
      " |                  format/tree/v2.2.3#locale_format. We add two\n",
      " |                  items to d3's date formatter: \"%h\" for half of\n",
      " |                  the year as a decimal number as well as \"%{n}f\"\n",
      " |                  for fractional seconds with n digits. For\n",
      " |                  example, *2016-10-13 09:15:23.456* with\n",
      " |                  tickformat \"%H~%M~%S.%2f\" would display\n",
      " |                  \"09~15~23.46\"\n",
      " |              insiderange\n",
      " |                  Could be used to set the desired inside range\n",
      " |                  of this axis (excluding the labels) when\n",
      " |                  `ticklabelposition` of the anchored axis has\n",
      " |                  \"inside\". Not implemented for axes with `type`\n",
      " |                  \"log\". This would be ignored when `range` is\n",
      " |                  provided.\n",
      " |              labelalias\n",
      " |                  Replacement text for specific tick or hover\n",
      " |                  labels. For example using {US: 'USA', CA:\n",
      " |                  'Canada'} changes US to USA and CA to Canada.\n",
      " |                  The labels we would have shown must match the\n",
      " |                  keys exactly, after adding any tickprefix or\n",
      " |                  ticksuffix. For negative numbers the minus sign\n",
      " |                  symbol used (U+2212) is wider than the regular\n",
      " |                  ascii dash. That means you need to use −1\n",
      " |                  instead of -1. labelalias can be used with any\n",
      " |                  axis type, and both keys (if needed) and values\n",
      " |                  (if desired) can include html-like tags or\n",
      " |                  MathJax.\n",
      " |              layer\n",
      " |                  Sets the layer on which this axis is displayed.\n",
      " |                  If *above traces*, this axis is displayed above\n",
      " |                  all the subplot's traces If *below traces*,\n",
      " |                  this axis is displayed below all the subplot's\n",
      " |                  traces, but above the grid lines. Useful when\n",
      " |                  used together with scatter-like traces with\n",
      " |                  `cliponaxis` set to False to show markers\n",
      " |                  and/or text nodes above this axis.\n",
      " |              linecolor\n",
      " |                  Sets the axis line color.\n",
      " |              linewidth\n",
      " |                  Sets the width (in px) of the axis line.\n",
      " |              matches\n",
      " |                  If set to another axis id (e.g. `x2`, `y`), the\n",
      " |                  range of this axis will match the range of the\n",
      " |                  corresponding axis in data-coordinates space.\n",
      " |                  Moreover, matching axes share auto-range\n",
      " |                  values, category lists and histogram auto-bins.\n",
      " |                  Note that setting axes simultaneously in both a\n",
      " |                  `scaleanchor` and a `matches` constraint is\n",
      " |                  currently forbidden. Moreover, note that\n",
      " |                  matching axes must have the same `type`.\n",
      " |              maxallowed\n",
      " |                  Determines the maximum range of this axis.\n",
      " |              minallowed\n",
      " |                  Determines the minimum range of this axis.\n",
      " |              minexponent\n",
      " |                  Hide SI prefix for 10^n if |n| is below this\n",
      " |                  number. This only has an effect when\n",
      " |                  `tickformat` is \"SI\" or \"B\".\n",
      " |              minor\n",
      " |                  :class:`plotly.graph_objects.layout.yaxis.Minor\n",
      " |                  ` instance or dict with compatible properties\n",
      " |              mirror\n",
      " |                  Determines if the axis lines or/and ticks are\n",
      " |                  mirrored to the opposite side of the plotting\n",
      " |                  area. If True, the axis lines are mirrored. If\n",
      " |                  \"ticks\", the axis lines and ticks are mirrored.\n",
      " |                  If False, mirroring is disable. If \"all\", axis\n",
      " |                  lines are mirrored on all shared-axes subplots.\n",
      " |                  If \"allticks\", axis lines and ticks are\n",
      " |                  mirrored on all shared-axes subplots.\n",
      " |              nticks\n",
      " |                  Specifies the maximum number of ticks for the\n",
      " |                  particular axis. The actual number of ticks\n",
      " |                  will be chosen automatically to be less than or\n",
      " |                  equal to `nticks`. Has an effect only if\n",
      " |                  `tickmode` is set to \"auto\".\n",
      " |              overlaying\n",
      " |                  If set a same-letter axis id, this axis is\n",
      " |                  overlaid on top of the corresponding same-\n",
      " |                  letter axis, with traces and axes visible for\n",
      " |                  both axes. If False, this axis does not overlay\n",
      " |                  any same-letter axes. In this case, for axes\n",
      " |                  with overlapping domains only the highest-\n",
      " |                  numbered axis will be visible.\n",
      " |              position\n",
      " |                  Sets the position of this axis in the plotting\n",
      " |                  space (in normalized coordinates). Only has an\n",
      " |                  effect if `anchor` is set to \"free\".\n",
      " |              range\n",
      " |                  Sets the range of this axis. If the axis `type`\n",
      " |                  is \"log\", then you must take the log of your\n",
      " |                  desired range (e.g. to set the range from 1 to\n",
      " |                  100, set the range from 0 to 2). If the axis\n",
      " |                  `type` is \"date\", it should be date strings,\n",
      " |                  like date data, though Date objects and unix\n",
      " |                  milliseconds will be accepted and converted to\n",
      " |                  strings. If the axis `type` is \"category\", it\n",
      " |                  should be numbers, using the scale where each\n",
      " |                  category is assigned a serial number from zero\n",
      " |                  in the order it appears. Leaving either or both\n",
      " |                  elements `null` impacts the default\n",
      " |                  `autorange`.\n",
      " |              rangebreaks\n",
      " |                  A tuple of :class:`plotly.graph_objects.layout.\n",
      " |                  yaxis.Rangebreak` instances or dicts with\n",
      " |                  compatible properties\n",
      " |              rangebreakdefaults\n",
      " |                  When used in a template (as layout.template.lay\n",
      " |                  out.yaxis.rangebreakdefaults), sets the default\n",
      " |                  property values to use for elements of\n",
      " |                  layout.yaxis.rangebreaks\n",
      " |              rangemode\n",
      " |                  If \"normal\", the range is computed in relation\n",
      " |                  to the extrema of the input data. If *tozero*`,\n",
      " |                  the range extends to 0, regardless of the input\n",
      " |                  data If \"nonnegative\", the range is non-\n",
      " |                  negative, regardless of the input data. Applies\n",
      " |                  only to linear axes.\n",
      " |              scaleanchor\n",
      " |                  If set to another axis id (e.g. `x2`, `y`), the\n",
      " |                  range of this axis changes together with the\n",
      " |                  range of the corresponding axis such that the\n",
      " |                  scale of pixels per unit is in a constant\n",
      " |                  ratio. Both axes are still zoomable, but when\n",
      " |                  you zoom one, the other will zoom the same\n",
      " |                  amount, keeping a fixed midpoint. `constrain`\n",
      " |                  and `constraintoward` determine how we enforce\n",
      " |                  the constraint. You can chain these, ie `yaxis:\n",
      " |                  {scaleanchor: *x*}, xaxis2: {scaleanchor: *y*}`\n",
      " |                  but you can only link axes of the same `type`.\n",
      " |                  The linked axis can have the opposite letter\n",
      " |                  (to constrain the aspect ratio) or the same\n",
      " |                  letter (to match scales across subplots). Loops\n",
      " |                  (`yaxis: {scaleanchor: *x*}, xaxis:\n",
      " |                  {scaleanchor: *y*}` or longer) are redundant\n",
      " |                  and the last constraint encountered will be\n",
      " |                  ignored to avoid possible inconsistent\n",
      " |                  constraints via `scaleratio`. Note that setting\n",
      " |                  axes simultaneously in both a `scaleanchor` and\n",
      " |                  a `matches` constraint is currently forbidden.\n",
      " |                  Setting `false` allows to remove a default\n",
      " |                  constraint (occasionally, you may need to\n",
      " |                  prevent a default `scaleanchor` constraint from\n",
      " |                  being applied, eg. when having an image trace\n",
      " |                  `yaxis: {scaleanchor: \"x\"}` is set\n",
      " |                  automatically in order for pixels to be\n",
      " |                  rendered as squares, setting `yaxis:\n",
      " |                  {scaleanchor: false}` allows to remove the\n",
      " |                  constraint).\n",
      " |              scaleratio\n",
      " |                  If this axis is linked to another by\n",
      " |                  `scaleanchor`, this determines the pixel to\n",
      " |                  unit scale ratio. For example, if this value is\n",
      " |                  10, then every unit on this axis spans 10 times\n",
      " |                  the number of pixels as a unit on the linked\n",
      " |                  axis. Use this for example to create an\n",
      " |                  elevation profile where the vertical scale is\n",
      " |                  exaggerated a fixed amount with respect to the\n",
      " |                  horizontal.\n",
      " |              separatethousands\n",
      " |                  If \"true\", even 4-digit integers are separated\n",
      " |              shift\n",
      " |                  Moves the axis a given number of pixels from\n",
      " |                  where it would have been otherwise. Accepts\n",
      " |                  both positive and negative values, which will\n",
      " |                  shift the axis either right or left,\n",
      " |                  respectively. If `autoshift` is set to true,\n",
      " |                  then this defaults to a padding of -3 if `side`\n",
      " |                  is set to \"left\". and defaults to +3 if `side`\n",
      " |                  is set to \"right\". Defaults to 0 if `autoshift`\n",
      " |                  is set to false. Only has an effect if `anchor`\n",
      " |                  is set to \"free\".\n",
      " |              showdividers\n",
      " |                  Determines whether or not a dividers are drawn\n",
      " |                  between the category levels of this axis. Only\n",
      " |                  has an effect on \"multicategory\" axes.\n",
      " |              showexponent\n",
      " |                  If \"all\", all exponents are shown besides their\n",
      " |                  significands. If \"first\", only the exponent of\n",
      " |                  the first tick is shown. If \"last\", only the\n",
      " |                  exponent of the last tick is shown. If \"none\",\n",
      " |                  no exponents appear.\n",
      " |              showgrid\n",
      " |                  Determines whether or not grid lines are drawn.\n",
      " |                  If True, the grid lines are drawn at every tick\n",
      " |                  mark.\n",
      " |              showline\n",
      " |                  Determines whether or not a line bounding this\n",
      " |                  axis is drawn.\n",
      " |              showspikes\n",
      " |                  Determines whether or not spikes (aka\n",
      " |                  droplines) are drawn for this axis. Note: This\n",
      " |                  only takes affect when hovermode = closest\n",
      " |              showticklabels\n",
      " |                  Determines whether or not the tick labels are\n",
      " |                  drawn.\n",
      " |              showtickprefix\n",
      " |                  If \"all\", all tick labels are displayed with a\n",
      " |                  prefix. If \"first\", only the first tick is\n",
      " |                  displayed with a prefix. If \"last\", only the\n",
      " |                  last tick is displayed with a suffix. If\n",
      " |                  \"none\", tick prefixes are hidden.\n",
      " |              showticksuffix\n",
      " |                  Same as `showtickprefix` but for tick suffixes.\n",
      " |              side\n",
      " |                  Determines whether a x (y) axis is positioned\n",
      " |                  at the \"bottom\" (\"left\") or \"top\" (\"right\") of\n",
      " |                  the plotting area.\n",
      " |              spikecolor\n",
      " |                  Sets the spike color. If undefined, will use\n",
      " |                  the series color\n",
      " |              spikedash\n",
      " |                  Sets the dash style of lines. Set to a dash\n",
      " |                  type string (\"solid\", \"dot\", \"dash\",\n",
      " |                  \"longdash\", \"dashdot\", or \"longdashdot\") or a\n",
      " |                  dash length list in px (eg \"5px,10px,2px,2px\").\n",
      " |              spikemode\n",
      " |                  Determines the drawing mode for the spike line\n",
      " |                  If \"toaxis\", the line is drawn from the data\n",
      " |                  point to the axis the  series is plotted on. If\n",
      " |                  \"across\", the line is drawn across the entire\n",
      " |                  plot area, and supercedes \"toaxis\". If\n",
      " |                  \"marker\", then a marker dot is drawn on the\n",
      " |                  axis the series is plotted on\n",
      " |              spikesnap\n",
      " |                  Determines whether spikelines are stuck to the\n",
      " |                  cursor or to the closest datapoints.\n",
      " |              spikethickness\n",
      " |                  Sets the width (in px) of the zero line.\n",
      " |              tick0\n",
      " |                  Sets the placement of the first tick on this\n",
      " |                  axis. Use with `dtick`. If the axis `type` is\n",
      " |                  \"log\", then you must take the log of your\n",
      " |                  starting tick (e.g. to set the starting tick to\n",
      " |                  100, set the `tick0` to 2) except when\n",
      " |                  `dtick`=*L<f>* (see `dtick` for more info). If\n",
      " |                  the axis `type` is \"date\", it should be a date\n",
      " |                  string, like date data. If the axis `type` is\n",
      " |                  \"category\", it should be a number, using the\n",
      " |                  scale where each category is assigned a serial\n",
      " |                  number from zero in the order it appears.\n",
      " |              tickangle\n",
      " |                  Sets the angle of the tick labels with respect\n",
      " |                  to the horizontal. For example, a `tickangle`\n",
      " |                  of -90 draws the tick labels vertically.\n",
      " |              tickcolor\n",
      " |                  Sets the tick color.\n",
      " |              tickfont\n",
      " |                  Sets the tick font.\n",
      " |              tickformat\n",
      " |                  Sets the tick label formatting rule using d3\n",
      " |                  formatting mini-languages which are very\n",
      " |                  similar to those in Python. For numbers, see: h\n",
      " |                  ttps://github.com/d3/d3-format/tree/v1.4.5#d3-\n",
      " |                  format. And for dates see:\n",
      " |                  https://github.com/d3/d3-time-\n",
      " |                  format/tree/v2.2.3#locale_format. We add two\n",
      " |                  items to d3's date formatter: \"%h\" for half of\n",
      " |                  the year as a decimal number as well as \"%{n}f\"\n",
      " |                  for fractional seconds with n digits. For\n",
      " |                  example, *2016-10-13 09:15:23.456* with\n",
      " |                  tickformat \"%H~%M~%S.%2f\" would display\n",
      " |                  \"09~15~23.46\"\n",
      " |              tickformatstops\n",
      " |                  A tuple of :class:`plotly.graph_objects.layout.\n",
      " |                  yaxis.Tickformatstop` instances or dicts with\n",
      " |                  compatible properties\n",
      " |              tickformatstopdefaults\n",
      " |                  When used in a template (as layout.template.lay\n",
      " |                  out.yaxis.tickformatstopdefaults), sets the\n",
      " |                  default property values to use for elements of\n",
      " |                  layout.yaxis.tickformatstops\n",
      " |              ticklabelmode\n",
      " |                  Determines where tick labels are drawn with\n",
      " |                  respect to their corresponding ticks and grid\n",
      " |                  lines. Only has an effect for axes of `type`\n",
      " |                  \"date\" When set to \"period\", tick labels are\n",
      " |                  drawn in the middle of the period between\n",
      " |                  ticks.\n",
      " |              ticklabeloverflow\n",
      " |                  Determines how we handle tick labels that would\n",
      " |                  overflow either the graph div or the domain of\n",
      " |                  the axis. The default value for inside tick\n",
      " |                  labels is *hide past domain*. Otherwise on\n",
      " |                  \"category\" and \"multicategory\" axes the default\n",
      " |                  is \"allow\". In other cases the default is *hide\n",
      " |                  past div*.\n",
      " |              ticklabelposition\n",
      " |                  Determines where tick labels are drawn with\n",
      " |                  respect to the axis Please note that top or\n",
      " |                  bottom has no effect on x axes or when\n",
      " |                  `ticklabelmode` is set to \"period\". Similarly\n",
      " |                  left or right has no effect on y axes or when\n",
      " |                  `ticklabelmode` is set to \"period\". Has no\n",
      " |                  effect on \"multicategory\" axes or when\n",
      " |                  `tickson` is set to \"boundaries\". When used on\n",
      " |                  axes linked by `matches` or `scaleanchor`, no\n",
      " |                  extra padding for inside labels would be added\n",
      " |                  by autorange, so that the scales could match.\n",
      " |              ticklabelstep\n",
      " |                  Sets the spacing between tick labels as\n",
      " |                  compared to the spacing between ticks. A value\n",
      " |                  of 1 (default) means each tick gets a label. A\n",
      " |                  value of 2 means shows every 2nd label. A\n",
      " |                  larger value n means only every nth tick is\n",
      " |                  labeled. `tick0` determines which labels are\n",
      " |                  shown. Not implemented for axes with `type`\n",
      " |                  \"log\" or \"multicategory\", or when `tickmode` is\n",
      " |                  \"array\".\n",
      " |              ticklen\n",
      " |                  Sets the tick length (in px).\n",
      " |              tickmode\n",
      " |                  Sets the tick mode for this axis. If \"auto\",\n",
      " |                  the number of ticks is set via `nticks`. If\n",
      " |                  \"linear\", the placement of the ticks is\n",
      " |                  determined by a starting position `tick0` and a\n",
      " |                  tick step `dtick` (\"linear\" is the default\n",
      " |                  value if `tick0` and `dtick` are provided). If\n",
      " |                  \"array\", the placement of the ticks is set via\n",
      " |                  `tickvals` and the tick text is `ticktext`.\n",
      " |                  (\"array\" is the default value if `tickvals` is\n",
      " |                  provided). If \"sync\", the number of ticks will\n",
      " |                  sync with the overlayed axis set by\n",
      " |                  `overlaying` property.\n",
      " |              tickprefix\n",
      " |                  Sets a tick label prefix.\n",
      " |              ticks\n",
      " |                  Determines whether ticks are drawn or not. If\n",
      " |                  \"\", this axis' ticks are not drawn. If\n",
      " |                  \"outside\" (\"inside\"), this axis' are drawn\n",
      " |                  outside (inside) the axis lines.\n",
      " |              tickson\n",
      " |                  Determines where ticks and grid lines are drawn\n",
      " |                  with respect to their corresponding tick\n",
      " |                  labels. Only has an effect for axes of `type`\n",
      " |                  \"category\" or \"multicategory\". When set to\n",
      " |                  \"boundaries\", ticks and grid lines are drawn\n",
      " |                  half a category to the left/bottom of labels.\n",
      " |              ticksuffix\n",
      " |                  Sets a tick label suffix.\n",
      " |              ticktext\n",
      " |                  Sets the text displayed at the ticks position\n",
      " |                  via `tickvals`. Only has an effect if\n",
      " |                  `tickmode` is set to \"array\". Used with\n",
      " |                  `tickvals`.\n",
      " |              ticktextsrc\n",
      " |                  Sets the source reference on Chart Studio Cloud\n",
      " |                  for `ticktext`.\n",
      " |              tickvals\n",
      " |                  Sets the values at which ticks on this axis\n",
      " |                  appear. Only has an effect if `tickmode` is set\n",
      " |                  to \"array\". Used with `ticktext`.\n",
      " |              tickvalssrc\n",
      " |                  Sets the source reference on Chart Studio Cloud\n",
      " |                  for `tickvals`.\n",
      " |              tickwidth\n",
      " |                  Sets the tick width (in px).\n",
      " |              title\n",
      " |                  :class:`plotly.graph_objects.layout.yaxis.Title\n",
      " |                  ` instance or dict with compatible properties\n",
      " |              titlefont\n",
      " |                  Deprecated: Please use layout.yaxis.title.font\n",
      " |                  instead. Sets this axis' title font. Note that\n",
      " |                  the title's font used to be customized by the\n",
      " |                  now deprecated `titlefont` attribute.\n",
      " |              type\n",
      " |                  Sets the axis type. By default, plotly attempts\n",
      " |                  to determined the axis type by looking into the\n",
      " |                  data of the traces that referenced the axis in\n",
      " |                  question.\n",
      " |              uirevision\n",
      " |                  Controls persistence of user-driven changes in\n",
      " |                  axis `range`, `autorange`, and `title` if in\n",
      " |                  `editable: true` configuration. Defaults to\n",
      " |                  `layout.uirevision`.\n",
      " |              visible\n",
      " |                  A single toggle to hide the axis while\n",
      " |                  preserving interaction like dragging. Default\n",
      " |                  is true when a cheater plot is present on the\n",
      " |                  axis, otherwise false\n",
      " |              zeroline\n",
      " |                  Determines whether or not a line is drawn at\n",
      " |                  along the 0 value of this axis. If True, the\n",
      " |                  zero line is drawn on top of the grid lines.\n",
      " |              zerolinecolor\n",
      " |                  Sets the line color of the zero line.\n",
      " |              zerolinewidth\n",
      " |                  Sets the width (in px) of the zero line.\n",
      " |      \n",
      " |      Returns\n",
      " |      -------\n",
      " |      plotly.graph_objs.layout.YAxis\n",
      " |  \n",
      " |  ----------------------------------------------------------------------\n",
      " |  Data and other attributes defined here:\n",
      " |  \n",
      " |  re = <module 're' from 'c:\\\\Users\\\\phili\\\\anaconda3\\\\envs\\\\jedha\\\\Lib\\...\n",
      " |      Support for regular expressions (RE).\n",
      " |      \n",
      " |      This module provides regular expression matching operations similar to\n",
      " |      those found in Perl.  It supports both 8-bit and Unicode strings; both\n",
      " |      the pattern and the strings being processed can contain null bytes and\n",
      " |      characters outside the US ASCII range.\n",
      " |      \n",
      " |      Regular expressions can contain both special and ordinary characters.\n",
      " |      Most ordinary characters, like \"A\", \"a\", or \"0\", are the simplest\n",
      " |      regular expressions; they simply match themselves.  You can\n",
      " |      concatenate ordinary characters, so last matches the string 'last'.\n",
      " |      \n",
      " |      The special characters are:\n",
      " |          \".\"      Matches any character except a newline.\n",
      " |          \"^\"      Matches the start of the string.\n",
      " |          \"$\"      Matches the end of the string or just before the newline at\n",
      " |                   the end of the string.\n",
      " |          \"*\"      Matches 0 or more (greedy) repetitions of the preceding RE.\n",
      " |                   Greedy means that it will match as many repetitions as possible.\n",
      " |          \"+\"      Matches 1 or more (greedy) repetitions of the preceding RE.\n",
      " |          \"?\"      Matches 0 or 1 (greedy) of the preceding RE.\n",
      " |          *?,+?,?? Non-greedy versions of the previous three special characters.\n",
      " |          {m,n}    Matches from m to n repetitions of the preceding RE.\n",
      " |          {m,n}?   Non-greedy version of the above.\n",
      " |          \"\\\\\"     Either escapes special characters or signals a special sequence.\n",
      " |          []       Indicates a set of characters.\n",
      " |                   A \"^\" as the first character indicates a complementing set.\n",
      " |          \"|\"      A|B, creates an RE that will match either A or B.\n",
      " |          (...)    Matches the RE inside the parentheses.\n",
      " |                   The contents can be retrieved or matched later in the string.\n",
      " |          (?aiLmsux) The letters set the corresponding flags defined below.\n",
      " |          (?:...)  Non-grouping version of regular parentheses.\n",
      " |          (?P<name>...) The substring matched by the group is accessible by name.\n",
      " |          (?P=name)     Matches the text matched earlier by the group named name.\n",
      " |          (?#...)  A comment; ignored.\n",
      " |          (?=...)  Matches if ... matches next, but doesn't consume the string.\n",
      " |          (?!...)  Matches if ... doesn't match next.\n",
      " |          (?<=...) Matches if preceded by ... (must be fixed length).\n",
      " |          (?<!...) Matches if not preceded by ... (must be fixed length).\n",
      " |          (?(id/name)yes|no) Matches yes pattern if the group with id/name matched,\n",
      " |                             the (optional) no pattern otherwise.\n",
      " |      \n",
      " |      The special sequences consist of \"\\\\\" and a character from the list\n",
      " |      below.  If the ordinary character is not on the list, then the\n",
      " |      resulting RE will match the second character.\n",
      " |          \\number  Matches the contents of the group of the same number.\n",
      " |          \\A       Matches only at the start of the string.\n",
      " |          \\Z       Matches only at the end of the string.\n",
      " |          \\b       Matches the empty string, but only at the start or end of a word.\n",
      " |          \\B       Matches the empty string, but not at the start or end of a word.\n",
      " |          \\d       Matches any decimal digit; equivalent to the set [0-9] in\n",
      " |                   bytes patterns or string patterns with the ASCII flag.\n",
      " |                   In string patterns without the ASCII flag, it will match the whole\n",
      " |                   range of Unicode digits.\n",
      " |          \\D       Matches any non-digit character; equivalent to [^\\d].\n",
      " |          \\s       Matches any whitespace character; equivalent to [ \\t\\n\\r\\f\\v] in\n",
      " |                   bytes patterns or string patterns with the ASCII flag.\n",
      " |                   In string patterns without the ASCII flag, it will match the whole\n",
      " |                   range of Unicode whitespace characters.\n",
      " |          \\S       Matches any non-whitespace character; equivalent to [^\\s].\n",
      " |          \\w       Matches any alphanumeric character; equivalent to [a-zA-Z0-9_]\n",
      " |                   in bytes patterns or string patterns with the ASCII flag.\n",
      " |                   In string patterns without the ASCII flag, it will match the\n",
      " |                   range of Unicode alphanumeric characters (letters plus digits\n",
      " |                   plus underscore).\n",
      " |                   With LOCALE, it will match the set [0-9_] plus characters defined\n",
      " |                   as letters for the current locale.\n",
      " |          \\W       Matches the complement of \\w.\n",
      " |          \\\\       Matches a literal backslash.\n",
      " |      \n",
      " |      This module exports the following functions:\n",
      " |          match     Match a regular expression pattern to the beginning of a string.\n",
      " |          fullmatch Match a regular expression pattern to all of a string.\n",
      " |          search    Search a string for the presence of a pattern.\n",
      " |          sub       Substitute occurrences of a pattern found in a string.\n",
      " |          subn      Same as sub, but also return the number of substitutions made.\n",
      " |          split     Split a string by the occurrences of a pattern.\n",
      " |          findall   Find all occurrences of a pattern in a string.\n",
      " |          finditer  Return an iterator yielding a Match object for each match.\n",
      " |          compile   Compile a pattern into a Pattern object.\n",
      " |          purge     Clear the regular expression cache.\n",
      " |          escape    Backslash all non-alphanumerics in a string.\n",
      " |      \n",
      " |      Each function other than purge and escape can take an optional 'flags' argument\n",
      " |      consisting of one or more of the following module constants, joined by \"|\".\n",
      " |      A, L, and U are mutually exclusive.\n",
      " |          A  ASCII       For string patterns, make \\w, \\W, \\b, \\B, \\d, \\D\n",
      " |                         match the corresponding ASCII character categories\n",
      " |                         (rather than the whole Unicode categories, which is the\n",
      " |                         default).\n",
      " |                         For bytes patterns, this flag is the only available\n",
      " |                         behaviour and needn't be specified.\n",
      " |          I  IGNORECASE  Perform case-insensitive matching.\n",
      " |          L  LOCALE      Make \\w, \\W, \\b, \\B, dependent on the current locale.\n",
      " |          M  MULTILINE   \"^\" matches the beginning of lines (after a newline)\n",
      " |                         as well as the string.\n",
      " |                         \"$\" matches the end of lines (before a newline) as well\n",
      " |                         as the end of the string.\n",
      " |          S  DOTALL      \".\" matches any character at all, including the newline.\n",
      " |          X  VERBOSE     Ignore whitespace and comments for nicer looking RE's.\n",
      " |          U  UNICODE     For compatibility only. Ignored for string patterns (it\n",
      " |                         is the default), and forbidden for bytes patterns.\n",
      " |      \n",
      " |      This module also defines an exception 'error'.\n",
      " |  \n",
      " |  \n",
      " |  ----------------------------------------------------------------------\n",
      " |  Methods inherited from plotly.basedatatypes.BaseLayoutType:\n",
      " |  \n",
      " |  __contains__(self, prop)\n",
      " |      Custom __contains__ that handles dynamic subplot properties\n",
      " |  \n",
      " |  __dir__(self)\n",
      " |      Custom __dir__ that handles dynamic subplot properties\n",
      " |  \n",
      " |  __getattr__(self, prop)\n",
      " |      Custom __getattr__ that handles dynamic subplot properties\n",
      " |  \n",
      " |  __getitem__(self, prop)\n",
      " |      Custom __getitem__ that handles dynamic subplot properties\n",
      " |  \n",
      " |  __setattr__(self, prop, value)\n",
      " |      Custom __setattr__ that handles dynamic subplot properties\n",
      " |  \n",
      " |  __setitem__(self, prop, value)\n",
      " |      Custom __setitem__ that handles dynamic subplot properties\n",
      " |  \n",
      " |  ----------------------------------------------------------------------\n",
      " |  Methods inherited from plotly.basedatatypes.BasePlotlyType:\n",
      " |  \n",
      " |  __eq__(self, other)\n",
      " |      Test for equality\n",
      " |      \n",
      " |      To be considered equal, `other` must have the same type as this object\n",
      " |      and their `to_plotly_json` representaitons must be identical.\n",
      " |      \n",
      " |      Parameters\n",
      " |      ----------\n",
      " |      other\n",
      " |          The object to compare against\n",
      " |      \n",
      " |      Returns\n",
      " |      -------\n",
      " |      bool\n",
      " |  \n",
      " |  __iter__(self)\n",
      " |      Return an iterator over the object's properties\n",
      " |  \n",
      " |  __reduce__(self)\n",
      " |      Custom implementation of reduce is used to support deep copying\n",
      " |      and pickling\n",
      " |  \n",
      " |  __repr__(self)\n",
      " |      Customize object representation when displayed in the\n",
      " |      terminal/notebook\n",
      " |  \n",
      " |  on_change(self, callback, *args, **kwargs)\n",
      " |      Register callback function to be called when certain properties or\n",
      " |      subproperties of this object are modified.\n",
      " |      \n",
      " |      Callback will be invoked whenever ANY of these properties is\n",
      " |      modified. Furthermore, the callback will only be invoked once even\n",
      " |      if multiple properties are modified during the same restyle /\n",
      " |      relayout / update operation.\n",
      " |      \n",
      " |      Parameters\n",
      " |      ----------\n",
      " |      callback : function\n",
      " |          Function that accepts 1 + len(`args`) parameters. First parameter\n",
      " |          is this object. Second through last parameters are the\n",
      " |          property / subpropery values referenced by args.\n",
      " |      args : list[str|tuple[int|str]]\n",
      " |          List of property references where each reference may be one of:\n",
      " |      \n",
      " |            1) A property name string (e.g. 'foo') for direct properties\n",
      " |            2) A property path string (e.g. 'foo[0].bar') for\n",
      " |               subproperties\n",
      " |            3) A property path tuple (e.g. ('foo', 0, 'bar')) for\n",
      " |               subproperties\n",
      " |      \n",
      " |      append : bool\n",
      " |          True if callback should be appended to previously registered\n",
      " |          callback on the same properties, False if callback should replace\n",
      " |          previously registered callbacks on the same properties. Defaults\n",
      " |          to False.\n",
      " |      \n",
      " |      Examples\n",
      " |      --------\n",
      " |      \n",
      " |      Register callback that prints out the range extents of the xaxis and\n",
      " |      yaxis whenever either either of them changes.\n",
      " |      \n",
      " |      >>> import plotly.graph_objects as go\n",
      " |      >>> fig = go.Figure(go.Scatter(x=[1, 2], y=[1, 0]))\n",
      " |      >>> fig.layout.on_change(\n",
      " |      ...   lambda obj, xrange, yrange: print(\"%s-%s\" % (xrange, yrange)),\n",
      " |      ...   ('xaxis', 'range'), ('yaxis', 'range'))\n",
      " |      \n",
      " |      \n",
      " |      Returns\n",
      " |      -------\n",
      " |      None\n",
      " |  \n",
      " |  pop(self, key, *args)\n",
      " |      Remove the value associated with the specified key and return it\n",
      " |      \n",
      " |      Parameters\n",
      " |      ----------\n",
      " |      key: str\n",
      " |          Property name\n",
      " |      dflt\n",
      " |          The default value to return if key was not found in object\n",
      " |      \n",
      " |      Returns\n",
      " |      -------\n",
      " |      value\n",
      " |          The removed value that was previously associated with key\n",
      " |      \n",
      " |      Raises\n",
      " |      ------\n",
      " |      KeyError\n",
      " |          If key is not in object and no dflt argument specified\n",
      " |  \n",
      " |  to_json(self, *args, **kwargs)\n",
      " |      Convert object to a JSON string representation\n",
      " |      \n",
      " |      Parameters\n",
      " |      ----------\n",
      " |      validate: bool (default True)\n",
      " |          True if the object should be validated before being converted to\n",
      " |          JSON, False otherwise.\n",
      " |      \n",
      " |      pretty: bool (default False)\n",
      " |          True if JSON representation should be pretty-printed, False if\n",
      " |          representation should be as compact as possible.\n",
      " |      \n",
      " |      remove_uids: bool (default True)\n",
      " |          True if trace UIDs should be omitted from the JSON representation\n",
      " |      \n",
      " |      engine: str (default None)\n",
      " |          The JSON encoding engine to use. One of:\n",
      " |            - \"json\" for an encoder based on the built-in Python json module\n",
      " |            - \"orjson\" for a fast encoder the requires the orjson package\n",
      " |          If not specified, the default encoder is set to the current value of\n",
      " |          plotly.io.json.config.default_encoder.\n",
      " |      \n",
      " |      Returns\n",
      " |      -------\n",
      " |      str\n",
      " |          Representation of object as a JSON string\n",
      " |  \n",
      " |  to_plotly_json(self)\n",
      " |      Return plotly JSON representation of object as a Python dict\n",
      " |      \n",
      " |      Note: May include some JSON-invalid data types, use the `PlotlyJSONEncoder` util\n",
      " |      or the `to_json` method to encode to a string.\n",
      " |      \n",
      " |      Returns\n",
      " |      -------\n",
      " |      dict\n",
      " |  \n",
      " |  update(self, dict1=None, overwrite=False, **kwargs)\n",
      " |      Update the properties of an object with a dict and/or with\n",
      " |      keyword arguments.\n",
      " |      \n",
      " |      This recursively updates the structure of the original\n",
      " |      object with the values in the input dict / keyword arguments.\n",
      " |      \n",
      " |      Parameters\n",
      " |      ----------\n",
      " |      dict1 : dict\n",
      " |          Dictionary of properties to be updated\n",
      " |      overwrite: bool\n",
      " |          If True, overwrite existing properties. If False, apply updates\n",
      " |          to existing properties recursively, preserving existing\n",
      " |          properties that are not specified in the update operation.\n",
      " |      kwargs :\n",
      " |          Keyword/value pair of properties to be updated\n",
      " |      \n",
      " |      Returns\n",
      " |      -------\n",
      " |      BasePlotlyType\n",
      " |          Updated plotly object\n",
      " |  \n",
      " |  ----------------------------------------------------------------------\n",
      " |  Readonly properties inherited from plotly.basedatatypes.BasePlotlyType:\n",
      " |  \n",
      " |  figure\n",
      " |      Reference to the top-level Figure or FigureWidget that this object\n",
      " |      belongs to. None if the object does not belong to a Figure\n",
      " |      \n",
      " |      Returns\n",
      " |      -------\n",
      " |      Union[BaseFigure, None]\n",
      " |  \n",
      " |  parent\n",
      " |      Return the object's parent, or None if the object has no parent\n",
      " |      Returns\n",
      " |      -------\n",
      " |      BasePlotlyType|BaseFigure\n",
      " |  \n",
      " |  plotly_name\n",
      " |      The plotly name of the object\n",
      " |      \n",
      " |      Returns\n",
      " |      -------\n",
      " |      str\n",
      " |  \n",
      " |  ----------------------------------------------------------------------\n",
      " |  Data descriptors inherited from plotly.basedatatypes.BasePlotlyType:\n",
      " |  \n",
      " |  __dict__\n",
      " |      dictionary for instance variables\n",
      " |  \n",
      " |  __weakref__\n",
      " |      list of weak references to the object\n",
      " |  \n",
      " |  ----------------------------------------------------------------------\n",
      " |  Data and other attributes inherited from plotly.basedatatypes.BasePlotlyType:\n",
      " |  \n",
      " |  __hash__ = None\n",
      "\n"
     ]
    }
   ],
   "source": [
    "help(go.Layout)"
   ]
  },
  {
   "cell_type": "code",
   "execution_count": 86,
   "metadata": {},
   "outputs": [
    {
     "name": "stdout",
     "output_type": "stream",
     "text": [
      "Help on class Title in module plotly.graph_objs.layout._title:\n",
      "\n",
      "class Title(plotly.basedatatypes.BaseLayoutHierarchyType)\n",
      " |  Title(arg=None, automargin=None, font=None, pad=None, text=None, x=None, xanchor=None, xref=None, y=None, yanchor=None, yref=None, **kwargs)\n",
      " |  \n",
      " |  Method resolution order:\n",
      " |      Title\n",
      " |      plotly.basedatatypes.BaseLayoutHierarchyType\n",
      " |      plotly.basedatatypes.BasePlotlyType\n",
      " |      builtins.object\n",
      " |  \n",
      " |  Methods defined here:\n",
      " |  \n",
      " |  __init__(self, arg=None, automargin=None, font=None, pad=None, text=None, x=None, xanchor=None, xref=None, y=None, yanchor=None, yref=None, **kwargs)\n",
      " |      Construct a new Title object\n",
      " |      \n",
      " |      Parameters\n",
      " |      ----------\n",
      " |      arg\n",
      " |          dict of properties compatible with this constructor or\n",
      " |          an instance of :class:`plotly.graph_objs.layout.Title`\n",
      " |      automargin\n",
      " |          Determines whether the title can automatically push the\n",
      " |          figure margins. If `yref='paper'` then the margin will\n",
      " |          expand to ensure that the title doesn’t overlap with\n",
      " |          the edges of the container. If `yref='container'` then\n",
      " |          the margins will ensure that the title doesn’t overlap\n",
      " |          with the plot area, tick labels, and axis titles. If\n",
      " |          `automargin=true` and the margins need to be expanded,\n",
      " |          then y will be set to a default 1 and yanchor will be\n",
      " |          set to an appropriate default to ensure that minimal\n",
      " |          margin space is needed. Note that when `yref='paper'`,\n",
      " |          only 1 or 0 are allowed y values. Invalid values will\n",
      " |          be reset to the default 1.\n",
      " |      font\n",
      " |          Sets the title font. Note that the title's font used to\n",
      " |          be customized by the now deprecated `titlefont`\n",
      " |          attribute.\n",
      " |      pad\n",
      " |          Sets the padding of the title. Each padding value only\n",
      " |          applies when the corresponding `xanchor`/`yanchor`\n",
      " |          value is set accordingly. E.g. for left padding to take\n",
      " |          effect, `xanchor` must be set to \"left\". The same rule\n",
      " |          applies if `xanchor`/`yanchor` is determined\n",
      " |          automatically. Padding is muted if the respective\n",
      " |          anchor value is \"middle*/*center\".\n",
      " |      text\n",
      " |          Sets the plot's title. Note that before the existence\n",
      " |          of `title.text`, the title's contents used to be\n",
      " |          defined as the `title` attribute itself. This behavior\n",
      " |          has been deprecated.\n",
      " |      x\n",
      " |          Sets the x position with respect to `xref` in\n",
      " |          normalized coordinates from 0 (left) to 1 (right).\n",
      " |      xanchor\n",
      " |          Sets the title's horizontal alignment with respect to\n",
      " |          its x position. \"left\" means that the title starts at\n",
      " |          x, \"right\" means that the title ends at x and \"center\"\n",
      " |          means that the title's center is at x. \"auto\" divides\n",
      " |          `xref` by three and calculates the `xanchor` value\n",
      " |          automatically based on the value of `x`.\n",
      " |      xref\n",
      " |          Sets the container `x` refers to. \"container\" spans the\n",
      " |          entire `width` of the plot. \"paper\" refers to the width\n",
      " |          of the plotting area only.\n",
      " |      y\n",
      " |          Sets the y position with respect to `yref` in\n",
      " |          normalized coordinates from 0 (bottom) to 1 (top).\n",
      " |          \"auto\" places the baseline of the title onto the\n",
      " |          vertical center of the top margin.\n",
      " |      yanchor\n",
      " |          Sets the title's vertical alignment with respect to its\n",
      " |          y position. \"top\" means that the title's cap line is at\n",
      " |          y, \"bottom\" means that the title's baseline is at y and\n",
      " |          \"middle\" means that the title's midline is at y. \"auto\"\n",
      " |          divides `yref` by three and calculates the `yanchor`\n",
      " |          value automatically based on the value of `y`.\n",
      " |      yref\n",
      " |          Sets the container `y` refers to. \"container\" spans the\n",
      " |          entire `height` of the plot. \"paper\" refers to the\n",
      " |          height of the plotting area only.\n",
      " |      \n",
      " |      Returns\n",
      " |      -------\n",
      " |      Title\n",
      " |  \n",
      " |  ----------------------------------------------------------------------\n",
      " |  Data descriptors defined here:\n",
      " |  \n",
      " |  automargin\n",
      " |      Determines whether the title can automatically push the figure\n",
      " |      margins. If `yref='paper'` then the margin will expand to\n",
      " |      ensure that the title doesn’t overlap with the edges of the\n",
      " |      container. If `yref='container'` then the margins will ensure\n",
      " |      that the title doesn’t overlap with the plot area, tick labels,\n",
      " |      and axis titles. If `automargin=true` and the margins need to\n",
      " |      be expanded, then y will be set to a default 1 and yanchor will\n",
      " |      be set to an appropriate default to ensure that minimal margin\n",
      " |      space is needed. Note that when `yref='paper'`, only 1 or 0 are\n",
      " |      allowed y values. Invalid values will be reset to the default\n",
      " |      1.\n",
      " |      \n",
      " |      The 'automargin' property must be specified as a bool\n",
      " |      (either True, or False)\n",
      " |      \n",
      " |      Returns\n",
      " |      -------\n",
      " |      bool\n",
      " |  \n",
      " |  font\n",
      " |      Sets the title font. Note that the title's font used to be\n",
      " |      customized by the now deprecated `titlefont` attribute.\n",
      " |      \n",
      " |      The 'font' property is an instance of Font\n",
      " |      that may be specified as:\n",
      " |        - An instance of :class:`plotly.graph_objs.layout.title.Font`\n",
      " |        - A dict of string/value properties that will be passed\n",
      " |          to the Font constructor\n",
      " |      \n",
      " |          Supported dict properties:\n",
      " |      \n",
      " |              color\n",
      " |      \n",
      " |              family\n",
      " |                  HTML font family - the typeface that will be\n",
      " |                  applied by the web browser. The web browser\n",
      " |                  will only be able to apply a font if it is\n",
      " |                  available on the system which it operates.\n",
      " |                  Provide multiple font families, separated by\n",
      " |                  commas, to indicate the preference in which to\n",
      " |                  apply fonts if they aren't available on the\n",
      " |                  system. The Chart Studio Cloud (at\n",
      " |                  https://chart-studio.plotly.com or on-premise)\n",
      " |                  generates images on a server, where only a\n",
      " |                  select number of fonts are installed and\n",
      " |                  supported. These include \"Arial\", \"Balto\",\n",
      " |                  \"Courier New\", \"Droid Sans\",, \"Droid Serif\",\n",
      " |                  \"Droid Sans Mono\", \"Gravitas One\", \"Old\n",
      " |                  Standard TT\", \"Open Sans\", \"Overpass\", \"PT Sans\n",
      " |                  Narrow\", \"Raleway\", \"Times New Roman\".\n",
      " |              size\n",
      " |      \n",
      " |      Returns\n",
      " |      -------\n",
      " |      plotly.graph_objs.layout.title.Font\n",
      " |  \n",
      " |  pad\n",
      " |      Sets the padding of the title. Each padding value only applies\n",
      " |      when the corresponding `xanchor`/`yanchor` value is set\n",
      " |      accordingly. E.g. for left padding to take effect, `xanchor`\n",
      " |      must be set to \"left\". The same rule applies if\n",
      " |      `xanchor`/`yanchor` is determined automatically. Padding is\n",
      " |      muted if the respective anchor value is \"middle*/*center\".\n",
      " |      \n",
      " |      The 'pad' property is an instance of Pad\n",
      " |      that may be specified as:\n",
      " |        - An instance of :class:`plotly.graph_objs.layout.title.Pad`\n",
      " |        - A dict of string/value properties that will be passed\n",
      " |          to the Pad constructor\n",
      " |      \n",
      " |          Supported dict properties:\n",
      " |      \n",
      " |              b\n",
      " |                  The amount of padding (in px) along the bottom\n",
      " |                  of the component.\n",
      " |              l\n",
      " |                  The amount of padding (in px) on the left side\n",
      " |                  of the component.\n",
      " |              r\n",
      " |                  The amount of padding (in px) on the right side\n",
      " |                  of the component.\n",
      " |              t\n",
      " |                  The amount of padding (in px) along the top of\n",
      " |                  the component.\n",
      " |      \n",
      " |      Returns\n",
      " |      -------\n",
      " |      plotly.graph_objs.layout.title.Pad\n",
      " |  \n",
      " |  text\n",
      " |      Sets the plot's title. Note that before the existence of\n",
      " |      `title.text`, the title's contents used to be defined as the\n",
      " |      `title` attribute itself. This behavior has been deprecated.\n",
      " |      \n",
      " |      The 'text' property is a string and must be specified as:\n",
      " |        - A string\n",
      " |        - A number that will be converted to a string\n",
      " |      \n",
      " |      Returns\n",
      " |      -------\n",
      " |      str\n",
      " |  \n",
      " |  x\n",
      " |      Sets the x position with respect to `xref` in normalized\n",
      " |      coordinates from 0 (left) to 1 (right).\n",
      " |      \n",
      " |      The 'x' property is a number and may be specified as:\n",
      " |        - An int or float in the interval [0, 1]\n",
      " |      \n",
      " |      Returns\n",
      " |      -------\n",
      " |      int|float\n",
      " |  \n",
      " |  xanchor\n",
      " |      Sets the title's horizontal alignment with respect to its x\n",
      " |      position. \"left\" means that the title starts at x, \"right\"\n",
      " |      means that the title ends at x and \"center\" means that the\n",
      " |      title's center is at x. \"auto\" divides `xref` by three and\n",
      " |      calculates the `xanchor` value automatically based on the value\n",
      " |      of `x`.\n",
      " |      \n",
      " |      The 'xanchor' property is an enumeration that may be specified as:\n",
      " |        - One of the following enumeration values:\n",
      " |              ['auto', 'left', 'center', 'right']\n",
      " |      \n",
      " |      Returns\n",
      " |      -------\n",
      " |      Any\n",
      " |  \n",
      " |  xref\n",
      " |      Sets the container `x` refers to. \"container\" spans the entire\n",
      " |      `width` of the plot. \"paper\" refers to the width of the\n",
      " |      plotting area only.\n",
      " |      \n",
      " |      The 'xref' property is an enumeration that may be specified as:\n",
      " |        - One of the following enumeration values:\n",
      " |              ['container', 'paper']\n",
      " |      \n",
      " |      Returns\n",
      " |      -------\n",
      " |      Any\n",
      " |  \n",
      " |  y\n",
      " |      Sets the y position with respect to `yref` in normalized\n",
      " |      coordinates from 0 (bottom) to 1 (top). \"auto\" places the\n",
      " |      baseline of the title onto the vertical center of the top\n",
      " |      margin.\n",
      " |      \n",
      " |      The 'y' property is a number and may be specified as:\n",
      " |        - An int or float in the interval [0, 1]\n",
      " |      \n",
      " |      Returns\n",
      " |      -------\n",
      " |      int|float\n",
      " |  \n",
      " |  yanchor\n",
      " |      Sets the title's vertical alignment with respect to its y\n",
      " |      position. \"top\" means that the title's cap line is at y,\n",
      " |      \"bottom\" means that the title's baseline is at y and \"middle\"\n",
      " |      means that the title's midline is at y. \"auto\" divides `yref`\n",
      " |      by three and calculates the `yanchor` value automatically based\n",
      " |      on the value of `y`.\n",
      " |      \n",
      " |      The 'yanchor' property is an enumeration that may be specified as:\n",
      " |        - One of the following enumeration values:\n",
      " |              ['auto', 'top', 'middle', 'bottom']\n",
      " |      \n",
      " |      Returns\n",
      " |      -------\n",
      " |      Any\n",
      " |  \n",
      " |  yref\n",
      " |      Sets the container `y` refers to. \"container\" spans the entire\n",
      " |      `height` of the plot. \"paper\" refers to the height of the\n",
      " |      plotting area only.\n",
      " |      \n",
      " |      The 'yref' property is an enumeration that may be specified as:\n",
      " |        - One of the following enumeration values:\n",
      " |              ['container', 'paper']\n",
      " |      \n",
      " |      Returns\n",
      " |      -------\n",
      " |      Any\n",
      " |  \n",
      " |  ----------------------------------------------------------------------\n",
      " |  Methods inherited from plotly.basedatatypes.BasePlotlyType:\n",
      " |  \n",
      " |  __contains__(self, prop)\n",
      " |      Determine whether object contains a property or nested property\n",
      " |      \n",
      " |      Parameters\n",
      " |      ----------\n",
      " |      prop : str|tuple\n",
      " |          If prop is a simple string (e.g. 'foo'), then return true of the\n",
      " |          object contains an element named 'foo'\n",
      " |      \n",
      " |          If prop is a property path string (e.g. 'foo[0].bar'),\n",
      " |          then return true if the obejct contains the nested elements for\n",
      " |          each entry in the path string (e.g. 'bar' in obj['foo'][0])\n",
      " |      \n",
      " |          If prop is a property path tuple (e.g. ('foo', 0, 'bar')),\n",
      " |          then return true if the object contains the nested elements for\n",
      " |          each entry in the path string (e.g. 'bar' in obj['foo'][0])\n",
      " |      \n",
      " |      Returns\n",
      " |      -------\n",
      " |      bool\n",
      " |  \n",
      " |  __eq__(self, other)\n",
      " |      Test for equality\n",
      " |      \n",
      " |      To be considered equal, `other` must have the same type as this object\n",
      " |      and their `to_plotly_json` representaitons must be identical.\n",
      " |      \n",
      " |      Parameters\n",
      " |      ----------\n",
      " |      other\n",
      " |          The object to compare against\n",
      " |      \n",
      " |      Returns\n",
      " |      -------\n",
      " |      bool\n",
      " |  \n",
      " |  __getitem__(self, prop)\n",
      " |      Get item or nested item from object\n",
      " |      \n",
      " |      Parameters\n",
      " |      ----------\n",
      " |      prop : str|tuple\n",
      " |      \n",
      " |          If prop is the name of a property of this object, then the\n",
      " |          property is returned.\n",
      " |      \n",
      " |          If prop is a nested property path string (e.g. 'foo[1].bar'),\n",
      " |          then a nested property is returned (e.g. obj['foo'][1]['bar'])\n",
      " |      \n",
      " |          If prop is a path tuple (e.g. ('foo', 1, 'bar')), then a nested\n",
      " |          property is returned (e.g. obj['foo'][1]['bar']).\n",
      " |      \n",
      " |      Returns\n",
      " |      -------\n",
      " |      Any\n",
      " |  \n",
      " |  __iter__(self)\n",
      " |      Return an iterator over the object's properties\n",
      " |  \n",
      " |  __reduce__(self)\n",
      " |      Custom implementation of reduce is used to support deep copying\n",
      " |      and pickling\n",
      " |  \n",
      " |  __repr__(self)\n",
      " |      Customize object representation when displayed in the\n",
      " |      terminal/notebook\n",
      " |  \n",
      " |  __setattr__(self, prop, value)\n",
      " |      Parameters\n",
      " |      ----------\n",
      " |      prop : str\n",
      " |          The name of a direct child of this object\n",
      " |      value\n",
      " |          New property value\n",
      " |      Returns\n",
      " |      -------\n",
      " |      None\n",
      " |  \n",
      " |  __setitem__(self, prop, value)\n",
      " |      Parameters\n",
      " |      ----------\n",
      " |      prop : str\n",
      " |          The name of a direct child of this object\n",
      " |      \n",
      " |          Note: Setting nested properties using property path string or\n",
      " |          property path tuples is not supported.\n",
      " |      value\n",
      " |          New property value\n",
      " |      \n",
      " |      Returns\n",
      " |      -------\n",
      " |      None\n",
      " |  \n",
      " |  on_change(self, callback, *args, **kwargs)\n",
      " |      Register callback function to be called when certain properties or\n",
      " |      subproperties of this object are modified.\n",
      " |      \n",
      " |      Callback will be invoked whenever ANY of these properties is\n",
      " |      modified. Furthermore, the callback will only be invoked once even\n",
      " |      if multiple properties are modified during the same restyle /\n",
      " |      relayout / update operation.\n",
      " |      \n",
      " |      Parameters\n",
      " |      ----------\n",
      " |      callback : function\n",
      " |          Function that accepts 1 + len(`args`) parameters. First parameter\n",
      " |          is this object. Second through last parameters are the\n",
      " |          property / subpropery values referenced by args.\n",
      " |      args : list[str|tuple[int|str]]\n",
      " |          List of property references where each reference may be one of:\n",
      " |      \n",
      " |            1) A property name string (e.g. 'foo') for direct properties\n",
      " |            2) A property path string (e.g. 'foo[0].bar') for\n",
      " |               subproperties\n",
      " |            3) A property path tuple (e.g. ('foo', 0, 'bar')) for\n",
      " |               subproperties\n",
      " |      \n",
      " |      append : bool\n",
      " |          True if callback should be appended to previously registered\n",
      " |          callback on the same properties, False if callback should replace\n",
      " |          previously registered callbacks on the same properties. Defaults\n",
      " |          to False.\n",
      " |      \n",
      " |      Examples\n",
      " |      --------\n",
      " |      \n",
      " |      Register callback that prints out the range extents of the xaxis and\n",
      " |      yaxis whenever either either of them changes.\n",
      " |      \n",
      " |      >>> import plotly.graph_objects as go\n",
      " |      >>> fig = go.Figure(go.Scatter(x=[1, 2], y=[1, 0]))\n",
      " |      >>> fig.layout.on_change(\n",
      " |      ...   lambda obj, xrange, yrange: print(\"%s-%s\" % (xrange, yrange)),\n",
      " |      ...   ('xaxis', 'range'), ('yaxis', 'range'))\n",
      " |      \n",
      " |      \n",
      " |      Returns\n",
      " |      -------\n",
      " |      None\n",
      " |  \n",
      " |  pop(self, key, *args)\n",
      " |      Remove the value associated with the specified key and return it\n",
      " |      \n",
      " |      Parameters\n",
      " |      ----------\n",
      " |      key: str\n",
      " |          Property name\n",
      " |      dflt\n",
      " |          The default value to return if key was not found in object\n",
      " |      \n",
      " |      Returns\n",
      " |      -------\n",
      " |      value\n",
      " |          The removed value that was previously associated with key\n",
      " |      \n",
      " |      Raises\n",
      " |      ------\n",
      " |      KeyError\n",
      " |          If key is not in object and no dflt argument specified\n",
      " |  \n",
      " |  to_json(self, *args, **kwargs)\n",
      " |      Convert object to a JSON string representation\n",
      " |      \n",
      " |      Parameters\n",
      " |      ----------\n",
      " |      validate: bool (default True)\n",
      " |          True if the object should be validated before being converted to\n",
      " |          JSON, False otherwise.\n",
      " |      \n",
      " |      pretty: bool (default False)\n",
      " |          True if JSON representation should be pretty-printed, False if\n",
      " |          representation should be as compact as possible.\n",
      " |      \n",
      " |      remove_uids: bool (default True)\n",
      " |          True if trace UIDs should be omitted from the JSON representation\n",
      " |      \n",
      " |      engine: str (default None)\n",
      " |          The JSON encoding engine to use. One of:\n",
      " |            - \"json\" for an encoder based on the built-in Python json module\n",
      " |            - \"orjson\" for a fast encoder the requires the orjson package\n",
      " |          If not specified, the default encoder is set to the current value of\n",
      " |          plotly.io.json.config.default_encoder.\n",
      " |      \n",
      " |      Returns\n",
      " |      -------\n",
      " |      str\n",
      " |          Representation of object as a JSON string\n",
      " |  \n",
      " |  to_plotly_json(self)\n",
      " |      Return plotly JSON representation of object as a Python dict\n",
      " |      \n",
      " |      Note: May include some JSON-invalid data types, use the `PlotlyJSONEncoder` util\n",
      " |      or the `to_json` method to encode to a string.\n",
      " |      \n",
      " |      Returns\n",
      " |      -------\n",
      " |      dict\n",
      " |  \n",
      " |  update(self, dict1=None, overwrite=False, **kwargs)\n",
      " |      Update the properties of an object with a dict and/or with\n",
      " |      keyword arguments.\n",
      " |      \n",
      " |      This recursively updates the structure of the original\n",
      " |      object with the values in the input dict / keyword arguments.\n",
      " |      \n",
      " |      Parameters\n",
      " |      ----------\n",
      " |      dict1 : dict\n",
      " |          Dictionary of properties to be updated\n",
      " |      overwrite: bool\n",
      " |          If True, overwrite existing properties. If False, apply updates\n",
      " |          to existing properties recursively, preserving existing\n",
      " |          properties that are not specified in the update operation.\n",
      " |      kwargs :\n",
      " |          Keyword/value pair of properties to be updated\n",
      " |      \n",
      " |      Returns\n",
      " |      -------\n",
      " |      BasePlotlyType\n",
      " |          Updated plotly object\n",
      " |  \n",
      " |  ----------------------------------------------------------------------\n",
      " |  Readonly properties inherited from plotly.basedatatypes.BasePlotlyType:\n",
      " |  \n",
      " |  figure\n",
      " |      Reference to the top-level Figure or FigureWidget that this object\n",
      " |      belongs to. None if the object does not belong to a Figure\n",
      " |      \n",
      " |      Returns\n",
      " |      -------\n",
      " |      Union[BaseFigure, None]\n",
      " |  \n",
      " |  parent\n",
      " |      Return the object's parent, or None if the object has no parent\n",
      " |      Returns\n",
      " |      -------\n",
      " |      BasePlotlyType|BaseFigure\n",
      " |  \n",
      " |  plotly_name\n",
      " |      The plotly name of the object\n",
      " |      \n",
      " |      Returns\n",
      " |      -------\n",
      " |      str\n",
      " |  \n",
      " |  ----------------------------------------------------------------------\n",
      " |  Data descriptors inherited from plotly.basedatatypes.BasePlotlyType:\n",
      " |  \n",
      " |  __dict__\n",
      " |      dictionary for instance variables\n",
      " |  \n",
      " |  __weakref__\n",
      " |      list of weak references to the object\n",
      " |  \n",
      " |  ----------------------------------------------------------------------\n",
      " |  Data and other attributes inherited from plotly.basedatatypes.BasePlotlyType:\n",
      " |  \n",
      " |  __hash__ = None\n",
      "\n"
     ]
    }
   ],
   "source": [
    "help(go.layout.Title)"
   ]
  },
  {
   "cell_type": "code",
   "execution_count": 87,
   "metadata": {},
   "outputs": [
    {
     "data": {
      "application/vnd.plotly.v1+json": {
       "config": {
        "plotlyServerURL": "https://plot.ly"
       },
       "data": [
        {
         "marker": {
          "color": [
           1,
           1,
           1,
           1,
           1,
           1,
           1,
           1,
           1,
           1,
           1,
           1,
           1,
           1,
           1,
           1,
           1,
           1,
           1,
           1,
           1,
           1,
           1,
           1,
           1,
           1,
           1,
           1,
           1,
           1,
           1,
           1,
           1,
           1,
           1,
           1,
           1,
           1,
           1,
           1,
           1,
           1,
           1,
           1,
           1,
           1,
           1,
           1,
           1,
           1,
           2,
           2,
           2,
           2,
           2,
           2,
           2,
           2,
           2,
           2,
           2,
           2,
           2,
           2,
           2,
           2,
           2,
           2,
           2,
           2,
           2,
           2,
           2,
           2,
           2,
           2,
           2,
           2,
           2,
           2,
           2,
           2,
           2,
           2,
           2,
           2,
           2,
           2,
           2,
           2,
           2,
           2,
           2,
           2,
           2,
           2,
           2,
           2,
           2,
           2,
           3,
           3,
           3,
           3,
           3,
           3,
           3,
           3,
           3,
           3,
           3,
           3,
           3,
           3,
           3,
           3,
           3,
           3,
           3,
           3,
           3,
           3,
           3,
           3,
           3,
           3,
           3,
           3,
           3,
           3,
           3,
           3,
           3,
           3,
           3,
           3,
           3,
           3,
           3,
           3,
           3,
           3,
           3,
           3,
           3,
           3,
           3,
           3,
           3,
           3
          ]
         },
         "mode": "markers",
         "type": "scatter",
         "x": [
          3.5,
          3,
          3.2,
          3.1,
          3.6,
          3.9,
          3.4,
          3.4,
          2.9,
          3.1,
          3.7,
          3.4,
          3,
          3,
          4,
          4.4,
          3.9,
          3.5,
          3.8,
          3.8,
          3.4,
          3.7,
          3.6,
          3.3,
          3.4,
          3,
          3.4,
          3.5,
          3.4,
          3.2,
          3.1,
          3.4,
          4.1,
          4.2,
          3.1,
          3.2,
          3.5,
          3.1,
          3,
          3.4,
          3.5,
          2.3,
          3.2,
          3.5,
          3.8,
          3,
          3.8,
          3.2,
          3.7,
          3.3,
          3.2,
          3.2,
          3.1,
          2.3,
          2.8,
          2.8,
          3.3,
          2.4,
          2.9,
          2.7,
          2,
          3,
          2.2,
          2.9,
          2.9,
          3.1,
          3,
          2.7,
          2.2,
          2.5,
          3.2,
          2.8,
          2.5,
          2.8,
          2.9,
          3,
          2.8,
          3,
          2.9,
          2.6,
          2.4,
          2.4,
          2.7,
          2.7,
          3,
          3.4,
          3.1,
          2.3,
          3,
          2.5,
          2.6,
          3,
          2.6,
          2.3,
          2.7,
          3,
          2.9,
          2.9,
          2.5,
          2.8,
          3.3,
          2.7,
          3,
          2.9,
          3,
          3,
          2.5,
          2.9,
          2.5,
          3.6,
          3.2,
          2.7,
          3,
          2.5,
          2.8,
          3.2,
          3,
          3.8,
          2.6,
          2.2,
          3.2,
          2.8,
          2.8,
          2.7,
          3.3,
          3.2,
          2.8,
          3,
          2.8,
          3,
          2.8,
          3.8,
          2.8,
          2.8,
          2.6,
          3,
          3.4,
          3.1,
          3,
          3.1,
          3.1,
          3.1,
          2.7,
          3.2,
          3.3,
          3,
          2.5,
          3,
          3.4,
          3
         ],
         "y": [
          5.1,
          4.9,
          4.7,
          4.6,
          5,
          5.4,
          4.6,
          5,
          4.4,
          4.9,
          5.4,
          4.8,
          4.8,
          4.3,
          5.8,
          5.7,
          5.4,
          5.1,
          5.7,
          5.1,
          5.4,
          5.1,
          4.6,
          5.1,
          4.8,
          5,
          5,
          5.2,
          5.2,
          4.7,
          4.8,
          5.4,
          5.2,
          5.5,
          4.9,
          5,
          5.5,
          4.9,
          4.4,
          5.1,
          5,
          4.5,
          4.4,
          5,
          5.1,
          4.8,
          5.1,
          4.6,
          5.3,
          5,
          7,
          6.4,
          6.9,
          5.5,
          6.5,
          5.7,
          6.3,
          4.9,
          6.6,
          5.2,
          5,
          5.9,
          6,
          6.1,
          5.6,
          6.7,
          5.6,
          5.8,
          6.2,
          5.6,
          5.9,
          6.1,
          6.3,
          6.1,
          6.4,
          6.6,
          6.8,
          6.7,
          6,
          5.7,
          5.5,
          5.5,
          5.8,
          6,
          5.4,
          6,
          6.7,
          6.3,
          5.6,
          5.5,
          5.5,
          6.1,
          5.8,
          5,
          5.6,
          5.7,
          5.7,
          6.2,
          5.1,
          5.7,
          6.3,
          5.8,
          7.1,
          6.3,
          6.5,
          7.6,
          4.9,
          7.3,
          6.7,
          7.2,
          6.5,
          6.4,
          6.8,
          5.7,
          5.8,
          6.4,
          6.5,
          7.7,
          7.7,
          6,
          6.9,
          5.6,
          7.7,
          6.3,
          6.7,
          7.2,
          6.2,
          6.1,
          6.4,
          7.2,
          7.4,
          7.9,
          6.4,
          6.3,
          6.1,
          7.7,
          6.3,
          6.4,
          6,
          6.9,
          6.7,
          6.9,
          5.8,
          6.8,
          6.7,
          6.7,
          6.3,
          6.5,
          6.2,
          5.9
         ]
        }
       ],
       "layout": {
        "template": {
         "data": {
          "bar": [
           {
            "error_x": {
             "color": "#2a3f5f"
            },
            "error_y": {
             "color": "#2a3f5f"
            },
            "marker": {
             "line": {
              "color": "#E5ECF6",
              "width": 0.5
             },
             "pattern": {
              "fillmode": "overlay",
              "size": 10,
              "solidity": 0.2
             }
            },
            "type": "bar"
           }
          ],
          "barpolar": [
           {
            "marker": {
             "line": {
              "color": "#E5ECF6",
              "width": 0.5
             },
             "pattern": {
              "fillmode": "overlay",
              "size": 10,
              "solidity": 0.2
             }
            },
            "type": "barpolar"
           }
          ],
          "carpet": [
           {
            "aaxis": {
             "endlinecolor": "#2a3f5f",
             "gridcolor": "white",
             "linecolor": "white",
             "minorgridcolor": "white",
             "startlinecolor": "#2a3f5f"
            },
            "baxis": {
             "endlinecolor": "#2a3f5f",
             "gridcolor": "white",
             "linecolor": "white",
             "minorgridcolor": "white",
             "startlinecolor": "#2a3f5f"
            },
            "type": "carpet"
           }
          ],
          "choropleth": [
           {
            "colorbar": {
             "outlinewidth": 0,
             "ticks": ""
            },
            "type": "choropleth"
           }
          ],
          "contour": [
           {
            "colorbar": {
             "outlinewidth": 0,
             "ticks": ""
            },
            "colorscale": [
             [
              0,
              "#0d0887"
             ],
             [
              0.1111111111111111,
              "#46039f"
             ],
             [
              0.2222222222222222,
              "#7201a8"
             ],
             [
              0.3333333333333333,
              "#9c179e"
             ],
             [
              0.4444444444444444,
              "#bd3786"
             ],
             [
              0.5555555555555556,
              "#d8576b"
             ],
             [
              0.6666666666666666,
              "#ed7953"
             ],
             [
              0.7777777777777778,
              "#fb9f3a"
             ],
             [
              0.8888888888888888,
              "#fdca26"
             ],
             [
              1,
              "#f0f921"
             ]
            ],
            "type": "contour"
           }
          ],
          "contourcarpet": [
           {
            "colorbar": {
             "outlinewidth": 0,
             "ticks": ""
            },
            "type": "contourcarpet"
           }
          ],
          "heatmap": [
           {
            "colorbar": {
             "outlinewidth": 0,
             "ticks": ""
            },
            "colorscale": [
             [
              0,
              "#0d0887"
             ],
             [
              0.1111111111111111,
              "#46039f"
             ],
             [
              0.2222222222222222,
              "#7201a8"
             ],
             [
              0.3333333333333333,
              "#9c179e"
             ],
             [
              0.4444444444444444,
              "#bd3786"
             ],
             [
              0.5555555555555556,
              "#d8576b"
             ],
             [
              0.6666666666666666,
              "#ed7953"
             ],
             [
              0.7777777777777778,
              "#fb9f3a"
             ],
             [
              0.8888888888888888,
              "#fdca26"
             ],
             [
              1,
              "#f0f921"
             ]
            ],
            "type": "heatmap"
           }
          ],
          "heatmapgl": [
           {
            "colorbar": {
             "outlinewidth": 0,
             "ticks": ""
            },
            "colorscale": [
             [
              0,
              "#0d0887"
             ],
             [
              0.1111111111111111,
              "#46039f"
             ],
             [
              0.2222222222222222,
              "#7201a8"
             ],
             [
              0.3333333333333333,
              "#9c179e"
             ],
             [
              0.4444444444444444,
              "#bd3786"
             ],
             [
              0.5555555555555556,
              "#d8576b"
             ],
             [
              0.6666666666666666,
              "#ed7953"
             ],
             [
              0.7777777777777778,
              "#fb9f3a"
             ],
             [
              0.8888888888888888,
              "#fdca26"
             ],
             [
              1,
              "#f0f921"
             ]
            ],
            "type": "heatmapgl"
           }
          ],
          "histogram": [
           {
            "marker": {
             "pattern": {
              "fillmode": "overlay",
              "size": 10,
              "solidity": 0.2
             }
            },
            "type": "histogram"
           }
          ],
          "histogram2d": [
           {
            "colorbar": {
             "outlinewidth": 0,
             "ticks": ""
            },
            "colorscale": [
             [
              0,
              "#0d0887"
             ],
             [
              0.1111111111111111,
              "#46039f"
             ],
             [
              0.2222222222222222,
              "#7201a8"
             ],
             [
              0.3333333333333333,
              "#9c179e"
             ],
             [
              0.4444444444444444,
              "#bd3786"
             ],
             [
              0.5555555555555556,
              "#d8576b"
             ],
             [
              0.6666666666666666,
              "#ed7953"
             ],
             [
              0.7777777777777778,
              "#fb9f3a"
             ],
             [
              0.8888888888888888,
              "#fdca26"
             ],
             [
              1,
              "#f0f921"
             ]
            ],
            "type": "histogram2d"
           }
          ],
          "histogram2dcontour": [
           {
            "colorbar": {
             "outlinewidth": 0,
             "ticks": ""
            },
            "colorscale": [
             [
              0,
              "#0d0887"
             ],
             [
              0.1111111111111111,
              "#46039f"
             ],
             [
              0.2222222222222222,
              "#7201a8"
             ],
             [
              0.3333333333333333,
              "#9c179e"
             ],
             [
              0.4444444444444444,
              "#bd3786"
             ],
             [
              0.5555555555555556,
              "#d8576b"
             ],
             [
              0.6666666666666666,
              "#ed7953"
             ],
             [
              0.7777777777777778,
              "#fb9f3a"
             ],
             [
              0.8888888888888888,
              "#fdca26"
             ],
             [
              1,
              "#f0f921"
             ]
            ],
            "type": "histogram2dcontour"
           }
          ],
          "mesh3d": [
           {
            "colorbar": {
             "outlinewidth": 0,
             "ticks": ""
            },
            "type": "mesh3d"
           }
          ],
          "parcoords": [
           {
            "line": {
             "colorbar": {
              "outlinewidth": 0,
              "ticks": ""
             }
            },
            "type": "parcoords"
           }
          ],
          "pie": [
           {
            "automargin": true,
            "type": "pie"
           }
          ],
          "scatter": [
           {
            "fillpattern": {
             "fillmode": "overlay",
             "size": 10,
             "solidity": 0.2
            },
            "type": "scatter"
           }
          ],
          "scatter3d": [
           {
            "line": {
             "colorbar": {
              "outlinewidth": 0,
              "ticks": ""
             }
            },
            "marker": {
             "colorbar": {
              "outlinewidth": 0,
              "ticks": ""
             }
            },
            "type": "scatter3d"
           }
          ],
          "scattercarpet": [
           {
            "marker": {
             "colorbar": {
              "outlinewidth": 0,
              "ticks": ""
             }
            },
            "type": "scattercarpet"
           }
          ],
          "scattergeo": [
           {
            "marker": {
             "colorbar": {
              "outlinewidth": 0,
              "ticks": ""
             }
            },
            "type": "scattergeo"
           }
          ],
          "scattergl": [
           {
            "marker": {
             "colorbar": {
              "outlinewidth": 0,
              "ticks": ""
             }
            },
            "type": "scattergl"
           }
          ],
          "scattermapbox": [
           {
            "marker": {
             "colorbar": {
              "outlinewidth": 0,
              "ticks": ""
             }
            },
            "type": "scattermapbox"
           }
          ],
          "scatterpolar": [
           {
            "marker": {
             "colorbar": {
              "outlinewidth": 0,
              "ticks": ""
             }
            },
            "type": "scatterpolar"
           }
          ],
          "scatterpolargl": [
           {
            "marker": {
             "colorbar": {
              "outlinewidth": 0,
              "ticks": ""
             }
            },
            "type": "scatterpolargl"
           }
          ],
          "scatterternary": [
           {
            "marker": {
             "colorbar": {
              "outlinewidth": 0,
              "ticks": ""
             }
            },
            "type": "scatterternary"
           }
          ],
          "surface": [
           {
            "colorbar": {
             "outlinewidth": 0,
             "ticks": ""
            },
            "colorscale": [
             [
              0,
              "#0d0887"
             ],
             [
              0.1111111111111111,
              "#46039f"
             ],
             [
              0.2222222222222222,
              "#7201a8"
             ],
             [
              0.3333333333333333,
              "#9c179e"
             ],
             [
              0.4444444444444444,
              "#bd3786"
             ],
             [
              0.5555555555555556,
              "#d8576b"
             ],
             [
              0.6666666666666666,
              "#ed7953"
             ],
             [
              0.7777777777777778,
              "#fb9f3a"
             ],
             [
              0.8888888888888888,
              "#fdca26"
             ],
             [
              1,
              "#f0f921"
             ]
            ],
            "type": "surface"
           }
          ],
          "table": [
           {
            "cells": {
             "fill": {
              "color": "#EBF0F8"
             },
             "line": {
              "color": "white"
             }
            },
            "header": {
             "fill": {
              "color": "#C8D4E3"
             },
             "line": {
              "color": "white"
             }
            },
            "type": "table"
           }
          ]
         },
         "layout": {
          "annotationdefaults": {
           "arrowcolor": "#2a3f5f",
           "arrowhead": 0,
           "arrowwidth": 1
          },
          "autotypenumbers": "strict",
          "coloraxis": {
           "colorbar": {
            "outlinewidth": 0,
            "ticks": ""
           }
          },
          "colorscale": {
           "diverging": [
            [
             0,
             "#8e0152"
            ],
            [
             0.1,
             "#c51b7d"
            ],
            [
             0.2,
             "#de77ae"
            ],
            [
             0.3,
             "#f1b6da"
            ],
            [
             0.4,
             "#fde0ef"
            ],
            [
             0.5,
             "#f7f7f7"
            ],
            [
             0.6,
             "#e6f5d0"
            ],
            [
             0.7,
             "#b8e186"
            ],
            [
             0.8,
             "#7fbc41"
            ],
            [
             0.9,
             "#4d9221"
            ],
            [
             1,
             "#276419"
            ]
           ],
           "sequential": [
            [
             0,
             "#0d0887"
            ],
            [
             0.1111111111111111,
             "#46039f"
            ],
            [
             0.2222222222222222,
             "#7201a8"
            ],
            [
             0.3333333333333333,
             "#9c179e"
            ],
            [
             0.4444444444444444,
             "#bd3786"
            ],
            [
             0.5555555555555556,
             "#d8576b"
            ],
            [
             0.6666666666666666,
             "#ed7953"
            ],
            [
             0.7777777777777778,
             "#fb9f3a"
            ],
            [
             0.8888888888888888,
             "#fdca26"
            ],
            [
             1,
             "#f0f921"
            ]
           ],
           "sequentialminus": [
            [
             0,
             "#0d0887"
            ],
            [
             0.1111111111111111,
             "#46039f"
            ],
            [
             0.2222222222222222,
             "#7201a8"
            ],
            [
             0.3333333333333333,
             "#9c179e"
            ],
            [
             0.4444444444444444,
             "#bd3786"
            ],
            [
             0.5555555555555556,
             "#d8576b"
            ],
            [
             0.6666666666666666,
             "#ed7953"
            ],
            [
             0.7777777777777778,
             "#fb9f3a"
            ],
            [
             0.8888888888888888,
             "#fdca26"
            ],
            [
             1,
             "#f0f921"
            ]
           ]
          },
          "colorway": [
           "#636efa",
           "#EF553B",
           "#00cc96",
           "#ab63fa",
           "#FFA15A",
           "#19d3f3",
           "#FF6692",
           "#B6E880",
           "#FF97FF",
           "#FECB52"
          ],
          "font": {
           "color": "#2a3f5f"
          },
          "geo": {
           "bgcolor": "white",
           "lakecolor": "white",
           "landcolor": "#E5ECF6",
           "showlakes": true,
           "showland": true,
           "subunitcolor": "white"
          },
          "hoverlabel": {
           "align": "left"
          },
          "hovermode": "closest",
          "mapbox": {
           "style": "light"
          },
          "paper_bgcolor": "white",
          "plot_bgcolor": "#E5ECF6",
          "polar": {
           "angularaxis": {
            "gridcolor": "white",
            "linecolor": "white",
            "ticks": ""
           },
           "bgcolor": "#E5ECF6",
           "radialaxis": {
            "gridcolor": "white",
            "linecolor": "white",
            "ticks": ""
           }
          },
          "scene": {
           "xaxis": {
            "backgroundcolor": "#E5ECF6",
            "gridcolor": "white",
            "gridwidth": 2,
            "linecolor": "white",
            "showbackground": true,
            "ticks": "",
            "zerolinecolor": "white"
           },
           "yaxis": {
            "backgroundcolor": "#E5ECF6",
            "gridcolor": "white",
            "gridwidth": 2,
            "linecolor": "white",
            "showbackground": true,
            "ticks": "",
            "zerolinecolor": "white"
           },
           "zaxis": {
            "backgroundcolor": "#E5ECF6",
            "gridcolor": "white",
            "gridwidth": 2,
            "linecolor": "white",
            "showbackground": true,
            "ticks": "",
            "zerolinecolor": "white"
           }
          },
          "shapedefaults": {
           "line": {
            "color": "#2a3f5f"
           }
          },
          "ternary": {
           "aaxis": {
            "gridcolor": "white",
            "linecolor": "white",
            "ticks": ""
           },
           "baxis": {
            "gridcolor": "white",
            "linecolor": "white",
            "ticks": ""
           },
           "bgcolor": "#E5ECF6",
           "caxis": {
            "gridcolor": "white",
            "linecolor": "white",
            "ticks": ""
           }
          },
          "title": {
           "x": 0.05
          },
          "xaxis": {
           "automargin": true,
           "gridcolor": "white",
           "linecolor": "white",
           "ticks": "",
           "title": {
            "standoff": 15
           },
           "zerolinecolor": "white",
           "zerolinewidth": 2
          },
          "yaxis": {
           "automargin": true,
           "gridcolor": "white",
           "linecolor": "white",
           "ticks": "",
           "title": {
            "standoff": 15
           },
           "zerolinecolor": "white",
           "zerolinewidth": 2
          }
         }
        },
        "title": {
         "text": "This figure has been made with plotly graph objects",
         "x": 0.5
        },
        "xaxis": {
         "range": [
          0,
          5
         ],
         "title": {
          "text": "Sepal width"
         }
        },
        "yaxis": {
         "range": [
          0,
          10
         ],
         "title": {
          "text": "Sepal length"
         }
        }
       }
      }
     },
     "metadata": {},
     "output_type": "display_data"
    }
   ],
   "source": [
    "fig = go.Figure()\n",
    "\n",
    "fig.add_trace(\n",
    "  go.Scatter(\n",
    "    x = df['sepal_width'],\n",
    "    y = df['sepal_length'],\n",
    "    mode = 'markers',\n",
    "    marker = go.scatter.Marker(color = df['species_id'])\n",
    "  ),\n",
    ")\n",
    "\n",
    "fig.update_layout(\n",
    "  title = go.layout.Title(text = \"This figure has been made with plotly graph objects\", x = 0.5),\n",
    "  xaxis = go.layout.XAxis(title = 'Sepal width', range = [0, 5]),\n",
    "  yaxis = go.layout.YAxis(title = 'Sepal length', range = [0, 10])\n",
    ")\n",
    "\n",
    "fig.show()"
   ]
  },
  {
   "cell_type": "code",
   "execution_count": 88,
   "metadata": {},
   "outputs": [
    {
     "name": "stdout",
     "output_type": "stream",
     "text": [
      "Help on class Marker in module plotly.graph_objs.scatter._marker:\n",
      "\n",
      "class Marker(plotly.basedatatypes.BaseTraceHierarchyType)\n",
      " |  Marker(arg=None, angle=None, angleref=None, anglesrc=None, autocolorscale=None, cauto=None, cmax=None, cmid=None, cmin=None, color=None, coloraxis=None, colorbar=None, colorscale=None, colorsrc=None, gradient=None, line=None, maxdisplayed=None, opacity=None, opacitysrc=None, reversescale=None, showscale=None, size=None, sizemin=None, sizemode=None, sizeref=None, sizesrc=None, standoff=None, standoffsrc=None, symbol=None, symbolsrc=None, **kwargs)\n",
      " |  \n",
      " |  Method resolution order:\n",
      " |      Marker\n",
      " |      plotly.basedatatypes.BaseTraceHierarchyType\n",
      " |      plotly.basedatatypes.BasePlotlyType\n",
      " |      builtins.object\n",
      " |  \n",
      " |  Methods defined here:\n",
      " |  \n",
      " |  __init__(self, arg=None, angle=None, angleref=None, anglesrc=None, autocolorscale=None, cauto=None, cmax=None, cmid=None, cmin=None, color=None, coloraxis=None, colorbar=None, colorscale=None, colorsrc=None, gradient=None, line=None, maxdisplayed=None, opacity=None, opacitysrc=None, reversescale=None, showscale=None, size=None, sizemin=None, sizemode=None, sizeref=None, sizesrc=None, standoff=None, standoffsrc=None, symbol=None, symbolsrc=None, **kwargs)\n",
      " |      Construct a new Marker object\n",
      " |      \n",
      " |      Parameters\n",
      " |      ----------\n",
      " |      arg\n",
      " |          dict of properties compatible with this constructor or\n",
      " |          an instance of\n",
      " |          :class:`plotly.graph_objs.scatter.Marker`\n",
      " |      angle\n",
      " |          Sets the marker angle in respect to `angleref`.\n",
      " |      angleref\n",
      " |          Sets the reference for marker angle. With \"previous\",\n",
      " |          angle 0 points along the line from the previous point\n",
      " |          to this one. With \"up\", angle 0 points toward the top\n",
      " |          of the screen.\n",
      " |      anglesrc\n",
      " |          Sets the source reference on Chart Studio Cloud for\n",
      " |          `angle`.\n",
      " |      autocolorscale\n",
      " |          Determines whether the colorscale is a default palette\n",
      " |          (`autocolorscale: true`) or the palette determined by\n",
      " |          `marker.colorscale`. Has an effect only if in\n",
      " |          `marker.color` is set to a numerical array. In case\n",
      " |          `colorscale` is unspecified or `autocolorscale` is\n",
      " |          true, the default palette will be chosen according to\n",
      " |          whether numbers in the `color` array are all positive,\n",
      " |          all negative or mixed.\n",
      " |      cauto\n",
      " |          Determines whether or not the color domain is computed\n",
      " |          with respect to the input data (here in `marker.color`)\n",
      " |          or the bounds set in `marker.cmin` and `marker.cmax`\n",
      " |          Has an effect only if in `marker.color` is set to a\n",
      " |          numerical array. Defaults to `false` when `marker.cmin`\n",
      " |          and `marker.cmax` are set by the user.\n",
      " |      cmax\n",
      " |          Sets the upper bound of the color domain. Has an effect\n",
      " |          only if in `marker.color` is set to a numerical array.\n",
      " |          Value should have the same units as in `marker.color`\n",
      " |          and if set, `marker.cmin` must be set as well.\n",
      " |      cmid\n",
      " |          Sets the mid-point of the color domain by scaling\n",
      " |          `marker.cmin` and/or `marker.cmax` to be equidistant to\n",
      " |          this point. Has an effect only if in `marker.color` is\n",
      " |          set to a numerical array. Value should have the same\n",
      " |          units as in `marker.color`. Has no effect when\n",
      " |          `marker.cauto` is `false`.\n",
      " |      cmin\n",
      " |          Sets the lower bound of the color domain. Has an effect\n",
      " |          only if in `marker.color` is set to a numerical array.\n",
      " |          Value should have the same units as in `marker.color`\n",
      " |          and if set, `marker.cmax` must be set as well.\n",
      " |      color\n",
      " |          Sets the marker color. It accepts either a specific\n",
      " |          color or an array of numbers that are mapped to the\n",
      " |          colorscale relative to the max and min values of the\n",
      " |          array or relative to `marker.cmin` and `marker.cmax` if\n",
      " |          set.\n",
      " |      coloraxis\n",
      " |          Sets a reference to a shared color axis. References to\n",
      " |          these shared color axes are \"coloraxis\", \"coloraxis2\",\n",
      " |          \"coloraxis3\", etc. Settings for these shared color axes\n",
      " |          are set in the layout, under `layout.coloraxis`,\n",
      " |          `layout.coloraxis2`, etc. Note that multiple color\n",
      " |          scales can be linked to the same color axis.\n",
      " |      colorbar\n",
      " |          :class:`plotly.graph_objects.scatter.marker.ColorBar`\n",
      " |          instance or dict with compatible properties\n",
      " |      colorscale\n",
      " |          Sets the colorscale. Has an effect only if in\n",
      " |          `marker.color` is set to a numerical array. The\n",
      " |          colorscale must be an array containing arrays mapping a\n",
      " |          normalized value to an rgb, rgba, hex, hsl, hsv, or\n",
      " |          named color string. At minimum, a mapping for the\n",
      " |          lowest (0) and highest (1) values are required. For\n",
      " |          example, `[[0, 'rgb(0,0,255)'], [1, 'rgb(255,0,0)']]`.\n",
      " |          To control the bounds of the colorscale in color space,\n",
      " |          use `marker.cmin` and `marker.cmax`. Alternatively,\n",
      " |          `colorscale` may be a palette name string of the\n",
      " |          following list: Blackbody,Bluered,Blues,Cividis,Earth,E\n",
      " |          lectric,Greens,Greys,Hot,Jet,Picnic,Portland,Rainbow,Rd\n",
      " |          Bu,Reds,Viridis,YlGnBu,YlOrRd.\n",
      " |      colorsrc\n",
      " |          Sets the source reference on Chart Studio Cloud for\n",
      " |          `color`.\n",
      " |      gradient\n",
      " |          :class:`plotly.graph_objects.scatter.marker.Gradient`\n",
      " |          instance or dict with compatible properties\n",
      " |      line\n",
      " |          :class:`plotly.graph_objects.scatter.marker.Line`\n",
      " |          instance or dict with compatible properties\n",
      " |      maxdisplayed\n",
      " |          Sets a maximum number of points to be drawn on the\n",
      " |          graph. 0 corresponds to no limit.\n",
      " |      opacity\n",
      " |          Sets the marker opacity.\n",
      " |      opacitysrc\n",
      " |          Sets the source reference on Chart Studio Cloud for\n",
      " |          `opacity`.\n",
      " |      reversescale\n",
      " |          Reverses the color mapping if true. Has an effect only\n",
      " |          if in `marker.color` is set to a numerical array. If\n",
      " |          true, `marker.cmin` will correspond to the last color\n",
      " |          in the array and `marker.cmax` will correspond to the\n",
      " |          first color.\n",
      " |      showscale\n",
      " |          Determines whether or not a colorbar is displayed for\n",
      " |          this trace. Has an effect only if in `marker.color` is\n",
      " |          set to a numerical array.\n",
      " |      size\n",
      " |          Sets the marker size (in px).\n",
      " |      sizemin\n",
      " |          Has an effect only if `marker.size` is set to a\n",
      " |          numerical array. Sets the minimum size (in px) of the\n",
      " |          rendered marker points.\n",
      " |      sizemode\n",
      " |          Has an effect only if `marker.size` is set to a\n",
      " |          numerical array. Sets the rule for which the data in\n",
      " |          `size` is converted to pixels.\n",
      " |      sizeref\n",
      " |          Has an effect only if `marker.size` is set to a\n",
      " |          numerical array. Sets the scale factor used to\n",
      " |          determine the rendered size of marker points. Use with\n",
      " |          `sizemin` and `sizemode`.\n",
      " |      sizesrc\n",
      " |          Sets the source reference on Chart Studio Cloud for\n",
      " |          `size`.\n",
      " |      standoff\n",
      " |          Moves the marker away from the data point in the\n",
      " |          direction of `angle` (in px). This can be useful for\n",
      " |          example if you have another marker at this location and\n",
      " |          you want to point an arrowhead marker at it.\n",
      " |      standoffsrc\n",
      " |          Sets the source reference on Chart Studio Cloud for\n",
      " |          `standoff`.\n",
      " |      symbol\n",
      " |          Sets the marker symbol type. Adding 100 is equivalent\n",
      " |          to appending \"-open\" to a symbol name. Adding 200 is\n",
      " |          equivalent to appending \"-dot\" to a symbol name. Adding\n",
      " |          300 is equivalent to appending \"-open-dot\" or \"dot-\n",
      " |          open\" to a symbol name.\n",
      " |      symbolsrc\n",
      " |          Sets the source reference on Chart Studio Cloud for\n",
      " |          `symbol`.\n",
      " |      \n",
      " |      Returns\n",
      " |      -------\n",
      " |      Marker\n",
      " |  \n",
      " |  ----------------------------------------------------------------------\n",
      " |  Data descriptors defined here:\n",
      " |  \n",
      " |  angle\n",
      " |      Sets the marker angle in respect to `angleref`.\n",
      " |      \n",
      " |      The 'angle' property is a angle (in degrees) that may be\n",
      " |      specified as a number between -180 and 180, or a list, numpy array or other iterable thereof.\n",
      " |      Numeric values outside this range are converted to the equivalent value\n",
      " |      (e.g. 270 is converted to -90).\n",
      " |      \n",
      " |      Returns\n",
      " |      -------\n",
      " |      int|float|numpy.ndarray\n",
      " |  \n",
      " |  angleref\n",
      " |      Sets the reference for marker angle. With \"previous\", angle 0\n",
      " |      points along the line from the previous point to this one. With\n",
      " |      \"up\", angle 0 points toward the top of the screen.\n",
      " |      \n",
      " |      The 'angleref' property is an enumeration that may be specified as:\n",
      " |        - One of the following enumeration values:\n",
      " |              ['previous', 'up']\n",
      " |      \n",
      " |      Returns\n",
      " |      -------\n",
      " |      Any\n",
      " |  \n",
      " |  anglesrc\n",
      " |      Sets the source reference on Chart Studio Cloud for `angle`.\n",
      " |      \n",
      " |      The 'anglesrc' property must be specified as a string or\n",
      " |      as a plotly.grid_objs.Column object\n",
      " |      \n",
      " |      Returns\n",
      " |      -------\n",
      " |      str\n",
      " |  \n",
      " |  autocolorscale\n",
      " |      Determines whether the colorscale is a default palette\n",
      " |      (`autocolorscale: true`) or the palette determined by\n",
      " |      `marker.colorscale`. Has an effect only if in `marker.color` is\n",
      " |      set to a numerical array. In case `colorscale` is unspecified\n",
      " |      or `autocolorscale` is true, the default palette will be chosen\n",
      " |      according to whether numbers in the `color` array are all\n",
      " |      positive, all negative or mixed.\n",
      " |      \n",
      " |      The 'autocolorscale' property must be specified as a bool\n",
      " |      (either True, or False)\n",
      " |      \n",
      " |      Returns\n",
      " |      -------\n",
      " |      bool\n",
      " |  \n",
      " |  cauto\n",
      " |      Determines whether or not the color domain is computed with\n",
      " |      respect to the input data (here in `marker.color`) or the\n",
      " |      bounds set in `marker.cmin` and `marker.cmax` Has an effect\n",
      " |      only if in `marker.color` is set to a numerical array. Defaults\n",
      " |      to `false` when `marker.cmin` and `marker.cmax` are set by the\n",
      " |      user.\n",
      " |      \n",
      " |      The 'cauto' property must be specified as a bool\n",
      " |      (either True, or False)\n",
      " |      \n",
      " |      Returns\n",
      " |      -------\n",
      " |      bool\n",
      " |  \n",
      " |  cmax\n",
      " |      Sets the upper bound of the color domain. Has an effect only if\n",
      " |      in `marker.color` is set to a numerical array. Value should\n",
      " |      have the same units as in `marker.color` and if set,\n",
      " |      `marker.cmin` must be set as well.\n",
      " |      \n",
      " |      The 'cmax' property is a number and may be specified as:\n",
      " |        - An int or float\n",
      " |      \n",
      " |      Returns\n",
      " |      -------\n",
      " |      int|float\n",
      " |  \n",
      " |  cmid\n",
      " |      Sets the mid-point of the color domain by scaling `marker.cmin`\n",
      " |      and/or `marker.cmax` to be equidistant to this point. Has an\n",
      " |      effect only if in `marker.color` is set to a numerical array.\n",
      " |      Value should have the same units as in `marker.color`. Has no\n",
      " |      effect when `marker.cauto` is `false`.\n",
      " |      \n",
      " |      The 'cmid' property is a number and may be specified as:\n",
      " |        - An int or float\n",
      " |      \n",
      " |      Returns\n",
      " |      -------\n",
      " |      int|float\n",
      " |  \n",
      " |  cmin\n",
      " |      Sets the lower bound of the color domain. Has an effect only if\n",
      " |      in `marker.color` is set to a numerical array. Value should\n",
      " |      have the same units as in `marker.color` and if set,\n",
      " |      `marker.cmax` must be set as well.\n",
      " |      \n",
      " |      The 'cmin' property is a number and may be specified as:\n",
      " |        - An int or float\n",
      " |      \n",
      " |      Returns\n",
      " |      -------\n",
      " |      int|float\n",
      " |  \n",
      " |  color\n",
      " |      Sets the marker color. It accepts either a specific color or an\n",
      " |      array of numbers that are mapped to the colorscale relative to\n",
      " |      the max and min values of the array or relative to\n",
      " |      `marker.cmin` and `marker.cmax` if set.\n",
      " |      \n",
      " |      The 'color' property is a color and may be specified as:\n",
      " |        - A hex string (e.g. '#ff0000')\n",
      " |        - An rgb/rgba string (e.g. 'rgb(255,0,0)')\n",
      " |        - An hsl/hsla string (e.g. 'hsl(0,100%,50%)')\n",
      " |        - An hsv/hsva string (e.g. 'hsv(0,100%,100%)')\n",
      " |        - A named CSS color:\n",
      " |              aliceblue, antiquewhite, aqua, aquamarine, azure,\n",
      " |              beige, bisque, black, blanchedalmond, blue,\n",
      " |              blueviolet, brown, burlywood, cadetblue,\n",
      " |              chartreuse, chocolate, coral, cornflowerblue,\n",
      " |              cornsilk, crimson, cyan, darkblue, darkcyan,\n",
      " |              darkgoldenrod, darkgray, darkgrey, darkgreen,\n",
      " |              darkkhaki, darkmagenta, darkolivegreen, darkorange,\n",
      " |              darkorchid, darkred, darksalmon, darkseagreen,\n",
      " |              darkslateblue, darkslategray, darkslategrey,\n",
      " |              darkturquoise, darkviolet, deeppink, deepskyblue,\n",
      " |              dimgray, dimgrey, dodgerblue, firebrick,\n",
      " |              floralwhite, forestgreen, fuchsia, gainsboro,\n",
      " |              ghostwhite, gold, goldenrod, gray, grey, green,\n",
      " |              greenyellow, honeydew, hotpink, indianred, indigo,\n",
      " |              ivory, khaki, lavender, lavenderblush, lawngreen,\n",
      " |              lemonchiffon, lightblue, lightcoral, lightcyan,\n",
      " |              lightgoldenrodyellow, lightgray, lightgrey,\n",
      " |              lightgreen, lightpink, lightsalmon, lightseagreen,\n",
      " |              lightskyblue, lightslategray, lightslategrey,\n",
      " |              lightsteelblue, lightyellow, lime, limegreen,\n",
      " |              linen, magenta, maroon, mediumaquamarine,\n",
      " |              mediumblue, mediumorchid, mediumpurple,\n",
      " |              mediumseagreen, mediumslateblue, mediumspringgreen,\n",
      " |              mediumturquoise, mediumvioletred, midnightblue,\n",
      " |              mintcream, mistyrose, moccasin, navajowhite, navy,\n",
      " |              oldlace, olive, olivedrab, orange, orangered,\n",
      " |              orchid, palegoldenrod, palegreen, paleturquoise,\n",
      " |              palevioletred, papayawhip, peachpuff, peru, pink,\n",
      " |              plum, powderblue, purple, red, rosybrown,\n",
      " |              royalblue, rebeccapurple, saddlebrown, salmon,\n",
      " |              sandybrown, seagreen, seashell, sienna, silver,\n",
      " |              skyblue, slateblue, slategray, slategrey, snow,\n",
      " |              springgreen, steelblue, tan, teal, thistle, tomato,\n",
      " |              turquoise, violet, wheat, white, whitesmoke,\n",
      " |              yellow, yellowgreen\n",
      " |        - A number that will be interpreted as a color\n",
      " |          according to scatter.marker.colorscale\n",
      " |        - A list or array of any of the above\n",
      " |      \n",
      " |      Returns\n",
      " |      -------\n",
      " |      str|numpy.ndarray\n",
      " |  \n",
      " |  coloraxis\n",
      " |      Sets a reference to a shared color axis. References to these\n",
      " |      shared color axes are \"coloraxis\", \"coloraxis2\", \"coloraxis3\",\n",
      " |      etc. Settings for these shared color axes are set in the\n",
      " |      layout, under `layout.coloraxis`, `layout.coloraxis2`, etc.\n",
      " |      Note that multiple color scales can be linked to the same color\n",
      " |      axis.\n",
      " |      \n",
      " |      The 'coloraxis' property is an identifier of a particular\n",
      " |      subplot, of type 'coloraxis', that may be specified as the string 'coloraxis'\n",
      " |      optionally followed by an integer >= 1\n",
      " |      (e.g. 'coloraxis', 'coloraxis1', 'coloraxis2', 'coloraxis3', etc.)\n",
      " |      \n",
      " |      Returns\n",
      " |      -------\n",
      " |      str\n",
      " |  \n",
      " |  colorbar\n",
      " |      The 'colorbar' property is an instance of ColorBar\n",
      " |      that may be specified as:\n",
      " |        - An instance of :class:`plotly.graph_objs.scatter.marker.ColorBar`\n",
      " |        - A dict of string/value properties that will be passed\n",
      " |          to the ColorBar constructor\n",
      " |      \n",
      " |          Supported dict properties:\n",
      " |      \n",
      " |              bgcolor\n",
      " |                  Sets the color of padded area.\n",
      " |              bordercolor\n",
      " |                  Sets the axis line color.\n",
      " |              borderwidth\n",
      " |                  Sets the width (in px) or the border enclosing\n",
      " |                  this color bar.\n",
      " |              dtick\n",
      " |                  Sets the step in-between ticks on this axis.\n",
      " |                  Use with `tick0`. Must be a positive number, or\n",
      " |                  special strings available to \"log\" and \"date\"\n",
      " |                  axes. If the axis `type` is \"log\", then ticks\n",
      " |                  are set every 10^(n*dtick) where n is the tick\n",
      " |                  number. For example, to set a tick mark at 1,\n",
      " |                  10, 100, 1000, ... set dtick to 1. To set tick\n",
      " |                  marks at 1, 100, 10000, ... set dtick to 2. To\n",
      " |                  set tick marks at 1, 5, 25, 125, 625, 3125, ...\n",
      " |                  set dtick to log_10(5), or 0.69897000433. \"log\"\n",
      " |                  has several special values; \"L<f>\", where `f`\n",
      " |                  is a positive number, gives ticks linearly\n",
      " |                  spaced in value (but not position). For example\n",
      " |                  `tick0` = 0.1, `dtick` = \"L0.5\" will put ticks\n",
      " |                  at 0.1, 0.6, 1.1, 1.6 etc. To show powers of 10\n",
      " |                  plus small digits between, use \"D1\" (all\n",
      " |                  digits) or \"D2\" (only 2 and 5). `tick0` is\n",
      " |                  ignored for \"D1\" and \"D2\". If the axis `type`\n",
      " |                  is \"date\", then you must convert the time to\n",
      " |                  milliseconds. For example, to set the interval\n",
      " |                  between ticks to one day, set `dtick` to\n",
      " |                  86400000.0. \"date\" also has special values\n",
      " |                  \"M<n>\" gives ticks spaced by a number of\n",
      " |                  months. `n` must be a positive integer. To set\n",
      " |                  ticks on the 15th of every third month, set\n",
      " |                  `tick0` to \"2000-01-15\" and `dtick` to \"M3\". To\n",
      " |                  set ticks every 4 years, set `dtick` to \"M48\"\n",
      " |              exponentformat\n",
      " |                  Determines a formatting rule for the tick\n",
      " |                  exponents. For example, consider the number\n",
      " |                  1,000,000,000. If \"none\", it appears as\n",
      " |                  1,000,000,000. If \"e\", 1e+9. If \"E\", 1E+9. If\n",
      " |                  \"power\", 1x10^9 (with 9 in a super script). If\n",
      " |                  \"SI\", 1G. If \"B\", 1B.\n",
      " |              labelalias\n",
      " |                  Replacement text for specific tick or hover\n",
      " |                  labels. For example using {US: 'USA', CA:\n",
      " |                  'Canada'} changes US to USA and CA to Canada.\n",
      " |                  The labels we would have shown must match the\n",
      " |                  keys exactly, after adding any tickprefix or\n",
      " |                  ticksuffix. For negative numbers the minus sign\n",
      " |                  symbol used (U+2212) is wider than the regular\n",
      " |                  ascii dash. That means you need to use −1\n",
      " |                  instead of -1. labelalias can be used with any\n",
      " |                  axis type, and both keys (if needed) and values\n",
      " |                  (if desired) can include html-like tags or\n",
      " |                  MathJax.\n",
      " |              len\n",
      " |                  Sets the length of the color bar This measure\n",
      " |                  excludes the padding of both ends. That is, the\n",
      " |                  color bar length is this length minus the\n",
      " |                  padding on both ends.\n",
      " |              lenmode\n",
      " |                  Determines whether this color bar's length\n",
      " |                  (i.e. the measure in the color variation\n",
      " |                  direction) is set in units of plot \"fraction\"\n",
      " |                  or in *pixels. Use `len` to set the value.\n",
      " |              minexponent\n",
      " |                  Hide SI prefix for 10^n if |n| is below this\n",
      " |                  number. This only has an effect when\n",
      " |                  `tickformat` is \"SI\" or \"B\".\n",
      " |              nticks\n",
      " |                  Specifies the maximum number of ticks for the\n",
      " |                  particular axis. The actual number of ticks\n",
      " |                  will be chosen automatically to be less than or\n",
      " |                  equal to `nticks`. Has an effect only if\n",
      " |                  `tickmode` is set to \"auto\".\n",
      " |              orientation\n",
      " |                  Sets the orientation of the colorbar.\n",
      " |              outlinecolor\n",
      " |                  Sets the axis line color.\n",
      " |              outlinewidth\n",
      " |                  Sets the width (in px) of the axis line.\n",
      " |              separatethousands\n",
      " |                  If \"true\", even 4-digit integers are separated\n",
      " |              showexponent\n",
      " |                  If \"all\", all exponents are shown besides their\n",
      " |                  significands. If \"first\", only the exponent of\n",
      " |                  the first tick is shown. If \"last\", only the\n",
      " |                  exponent of the last tick is shown. If \"none\",\n",
      " |                  no exponents appear.\n",
      " |              showticklabels\n",
      " |                  Determines whether or not the tick labels are\n",
      " |                  drawn.\n",
      " |              showtickprefix\n",
      " |                  If \"all\", all tick labels are displayed with a\n",
      " |                  prefix. If \"first\", only the first tick is\n",
      " |                  displayed with a prefix. If \"last\", only the\n",
      " |                  last tick is displayed with a suffix. If\n",
      " |                  \"none\", tick prefixes are hidden.\n",
      " |              showticksuffix\n",
      " |                  Same as `showtickprefix` but for tick suffixes.\n",
      " |              thickness\n",
      " |                  Sets the thickness of the color bar This\n",
      " |                  measure excludes the size of the padding, ticks\n",
      " |                  and labels.\n",
      " |              thicknessmode\n",
      " |                  Determines whether this color bar's thickness\n",
      " |                  (i.e. the measure in the constant color\n",
      " |                  direction) is set in units of plot \"fraction\"\n",
      " |                  or in \"pixels\". Use `thickness` to set the\n",
      " |                  value.\n",
      " |              tick0\n",
      " |                  Sets the placement of the first tick on this\n",
      " |                  axis. Use with `dtick`. If the axis `type` is\n",
      " |                  \"log\", then you must take the log of your\n",
      " |                  starting tick (e.g. to set the starting tick to\n",
      " |                  100, set the `tick0` to 2) except when\n",
      " |                  `dtick`=*L<f>* (see `dtick` for more info). If\n",
      " |                  the axis `type` is \"date\", it should be a date\n",
      " |                  string, like date data. If the axis `type` is\n",
      " |                  \"category\", it should be a number, using the\n",
      " |                  scale where each category is assigned a serial\n",
      " |                  number from zero in the order it appears.\n",
      " |              tickangle\n",
      " |                  Sets the angle of the tick labels with respect\n",
      " |                  to the horizontal. For example, a `tickangle`\n",
      " |                  of -90 draws the tick labels vertically.\n",
      " |              tickcolor\n",
      " |                  Sets the tick color.\n",
      " |              tickfont\n",
      " |                  Sets the color bar's tick label font\n",
      " |              tickformat\n",
      " |                  Sets the tick label formatting rule using d3\n",
      " |                  formatting mini-languages which are very\n",
      " |                  similar to those in Python. For numbers, see: h\n",
      " |                  ttps://github.com/d3/d3-format/tree/v1.4.5#d3-\n",
      " |                  format. And for dates see:\n",
      " |                  https://github.com/d3/d3-time-\n",
      " |                  format/tree/v2.2.3#locale_format. We add two\n",
      " |                  items to d3's date formatter: \"%h\" for half of\n",
      " |                  the year as a decimal number as well as \"%{n}f\"\n",
      " |                  for fractional seconds with n digits. For\n",
      " |                  example, *2016-10-13 09:15:23.456* with\n",
      " |                  tickformat \"%H~%M~%S.%2f\" would display\n",
      " |                  \"09~15~23.46\"\n",
      " |              tickformatstops\n",
      " |                  A tuple of :class:`plotly.graph_objects.scatter\n",
      " |                  .marker.colorbar.Tickformatstop` instances or\n",
      " |                  dicts with compatible properties\n",
      " |              tickformatstopdefaults\n",
      " |                  When used in a template (as layout.template.dat\n",
      " |                  a.scatter.marker.colorbar.tickformatstopdefault\n",
      " |                  s), sets the default property values to use for\n",
      " |                  elements of\n",
      " |                  scatter.marker.colorbar.tickformatstops\n",
      " |              ticklabeloverflow\n",
      " |                  Determines how we handle tick labels that would\n",
      " |                  overflow either the graph div or the domain of\n",
      " |                  the axis. The default value for inside tick\n",
      " |                  labels is *hide past domain*. In other cases\n",
      " |                  the default is *hide past div*.\n",
      " |              ticklabelposition\n",
      " |                  Determines where tick labels are drawn relative\n",
      " |                  to the ticks. Left and right options are used\n",
      " |                  when `orientation` is \"h\", top and bottom when\n",
      " |                  `orientation` is \"v\".\n",
      " |              ticklabelstep\n",
      " |                  Sets the spacing between tick labels as\n",
      " |                  compared to the spacing between ticks. A value\n",
      " |                  of 1 (default) means each tick gets a label. A\n",
      " |                  value of 2 means shows every 2nd label. A\n",
      " |                  larger value n means only every nth tick is\n",
      " |                  labeled. `tick0` determines which labels are\n",
      " |                  shown. Not implemented for axes with `type`\n",
      " |                  \"log\" or \"multicategory\", or when `tickmode` is\n",
      " |                  \"array\".\n",
      " |              ticklen\n",
      " |                  Sets the tick length (in px).\n",
      " |              tickmode\n",
      " |                  Sets the tick mode for this axis. If \"auto\",\n",
      " |                  the number of ticks is set via `nticks`. If\n",
      " |                  \"linear\", the placement of the ticks is\n",
      " |                  determined by a starting position `tick0` and a\n",
      " |                  tick step `dtick` (\"linear\" is the default\n",
      " |                  value if `tick0` and `dtick` are provided). If\n",
      " |                  \"array\", the placement of the ticks is set via\n",
      " |                  `tickvals` and the tick text is `ticktext`.\n",
      " |                  (\"array\" is the default value if `tickvals` is\n",
      " |                  provided).\n",
      " |              tickprefix\n",
      " |                  Sets a tick label prefix.\n",
      " |              ticks\n",
      " |                  Determines whether ticks are drawn or not. If\n",
      " |                  \"\", this axis' ticks are not drawn. If\n",
      " |                  \"outside\" (\"inside\"), this axis' are drawn\n",
      " |                  outside (inside) the axis lines.\n",
      " |              ticksuffix\n",
      " |                  Sets a tick label suffix.\n",
      " |              ticktext\n",
      " |                  Sets the text displayed at the ticks position\n",
      " |                  via `tickvals`. Only has an effect if\n",
      " |                  `tickmode` is set to \"array\". Used with\n",
      " |                  `tickvals`.\n",
      " |              ticktextsrc\n",
      " |                  Sets the source reference on Chart Studio Cloud\n",
      " |                  for `ticktext`.\n",
      " |              tickvals\n",
      " |                  Sets the values at which ticks on this axis\n",
      " |                  appear. Only has an effect if `tickmode` is set\n",
      " |                  to \"array\". Used with `ticktext`.\n",
      " |              tickvalssrc\n",
      " |                  Sets the source reference on Chart Studio Cloud\n",
      " |                  for `tickvals`.\n",
      " |              tickwidth\n",
      " |                  Sets the tick width (in px).\n",
      " |              title\n",
      " |                  :class:`plotly.graph_objects.scatter.marker.col\n",
      " |                  orbar.Title` instance or dict with compatible\n",
      " |                  properties\n",
      " |              titlefont\n",
      " |                  Deprecated: Please use\n",
      " |                  scatter.marker.colorbar.title.font instead.\n",
      " |                  Sets this color bar's title font. Note that the\n",
      " |                  title's font used to be set by the now\n",
      " |                  deprecated `titlefont` attribute.\n",
      " |              titleside\n",
      " |                  Deprecated: Please use\n",
      " |                  scatter.marker.colorbar.title.side instead.\n",
      " |                  Determines the location of color bar's title\n",
      " |                  with respect to the color bar. Defaults to\n",
      " |                  \"top\" when `orientation` if \"v\" and  defaults\n",
      " |                  to \"right\" when `orientation` if \"h\". Note that\n",
      " |                  the title's location used to be set by the now\n",
      " |                  deprecated `titleside` attribute.\n",
      " |              x\n",
      " |                  Sets the x position with respect to `xref` of\n",
      " |                  the color bar (in plot fraction). When `xref`\n",
      " |                  is \"paper\", defaults to 1.02 when `orientation`\n",
      " |                  is \"v\" and 0.5 when `orientation` is \"h\". When\n",
      " |                  `xref` is \"container\", defaults to 1 when\n",
      " |                  `orientation` is \"v\" and 0.5 when `orientation`\n",
      " |                  is \"h\". Must be between 0 and 1 if `xref` is\n",
      " |                  \"container\" and between \"-2\" and 3 if `xref` is\n",
      " |                  \"paper\".\n",
      " |              xanchor\n",
      " |                  Sets this color bar's horizontal position\n",
      " |                  anchor. This anchor binds the `x` position to\n",
      " |                  the \"left\", \"center\" or \"right\" of the color\n",
      " |                  bar. Defaults to \"left\" when `orientation` is\n",
      " |                  \"v\" and \"center\" when `orientation` is \"h\".\n",
      " |              xpad\n",
      " |                  Sets the amount of padding (in px) along the x\n",
      " |                  direction.\n",
      " |              xref\n",
      " |                  Sets the container `x` refers to. \"container\"\n",
      " |                  spans the entire `width` of the plot. \"paper\"\n",
      " |                  refers to the width of the plotting area only.\n",
      " |              y\n",
      " |                  Sets the y position with respect to `yref` of\n",
      " |                  the color bar (in plot fraction). When `yref`\n",
      " |                  is \"paper\", defaults to 0.5 when `orientation`\n",
      " |                  is \"v\" and 1.02 when `orientation` is \"h\". When\n",
      " |                  `yref` is \"container\", defaults to 0.5 when\n",
      " |                  `orientation` is \"v\" and 1 when `orientation`\n",
      " |                  is \"h\". Must be between 0 and 1 if `yref` is\n",
      " |                  \"container\" and between \"-2\" and 3 if `yref` is\n",
      " |                  \"paper\".\n",
      " |              yanchor\n",
      " |                  Sets this color bar's vertical position anchor\n",
      " |                  This anchor binds the `y` position to the\n",
      " |                  \"top\", \"middle\" or \"bottom\" of the color bar.\n",
      " |                  Defaults to \"middle\" when `orientation` is \"v\"\n",
      " |                  and \"bottom\" when `orientation` is \"h\".\n",
      " |              ypad\n",
      " |                  Sets the amount of padding (in px) along the y\n",
      " |                  direction.\n",
      " |              yref\n",
      " |                  Sets the container `y` refers to. \"container\"\n",
      " |                  spans the entire `height` of the plot. \"paper\"\n",
      " |                  refers to the height of the plotting area only.\n",
      " |      \n",
      " |      Returns\n",
      " |      -------\n",
      " |      plotly.graph_objs.scatter.marker.ColorBar\n",
      " |  \n",
      " |  colorscale\n",
      " |      Sets the colorscale. Has an effect only if in `marker.color` is\n",
      " |      set to a numerical array. The colorscale must be an array\n",
      " |      containing arrays mapping a normalized value to an rgb, rgba,\n",
      " |      hex, hsl, hsv, or named color string. At minimum, a mapping for\n",
      " |      the lowest (0) and highest (1) values are required. For\n",
      " |      example, `[[0, 'rgb(0,0,255)'], [1, 'rgb(255,0,0)']]`. To\n",
      " |      control the bounds of the colorscale in color space, use\n",
      " |      `marker.cmin` and `marker.cmax`. Alternatively, `colorscale`\n",
      " |      may be a palette name string of the following list: Blackbody,B\n",
      " |      luered,Blues,Cividis,Earth,Electric,Greens,Greys,Hot,Jet,Picnic\n",
      " |      ,Portland,Rainbow,RdBu,Reds,Viridis,YlGnBu,YlOrRd.\n",
      " |      \n",
      " |      The 'colorscale' property is a colorscale and may be\n",
      " |      specified as:\n",
      " |        - A list of colors that will be spaced evenly to create the colorscale.\n",
      " |          Many predefined colorscale lists are included in the sequential, diverging,\n",
      " |          and cyclical modules in the plotly.colors package.\n",
      " |        - A list of 2-element lists where the first element is the\n",
      " |          normalized color level value (starting at 0 and ending at 1),\n",
      " |          and the second item is a valid color string.\n",
      " |          (e.g. [[0, 'green'], [0.5, 'red'], [1.0, 'rgb(0, 0, 255)']])\n",
      " |        - One of the following named colorscales:\n",
      " |              ['aggrnyl', 'agsunset', 'algae', 'amp', 'armyrose', 'balance',\n",
      " |               'blackbody', 'bluered', 'blues', 'blugrn', 'bluyl', 'brbg',\n",
      " |               'brwnyl', 'bugn', 'bupu', 'burg', 'burgyl', 'cividis', 'curl',\n",
      " |               'darkmint', 'deep', 'delta', 'dense', 'earth', 'edge', 'electric',\n",
      " |               'emrld', 'fall', 'geyser', 'gnbu', 'gray', 'greens', 'greys',\n",
      " |               'haline', 'hot', 'hsv', 'ice', 'icefire', 'inferno', 'jet',\n",
      " |               'magenta', 'magma', 'matter', 'mint', 'mrybm', 'mygbm', 'oranges',\n",
      " |               'orrd', 'oryel', 'oxy', 'peach', 'phase', 'picnic', 'pinkyl',\n",
      " |               'piyg', 'plasma', 'plotly3', 'portland', 'prgn', 'pubu', 'pubugn',\n",
      " |               'puor', 'purd', 'purp', 'purples', 'purpor', 'rainbow', 'rdbu',\n",
      " |               'rdgy', 'rdpu', 'rdylbu', 'rdylgn', 'redor', 'reds', 'solar',\n",
      " |               'spectral', 'speed', 'sunset', 'sunsetdark', 'teal', 'tealgrn',\n",
      " |               'tealrose', 'tempo', 'temps', 'thermal', 'tropic', 'turbid',\n",
      " |               'turbo', 'twilight', 'viridis', 'ylgn', 'ylgnbu', 'ylorbr',\n",
      " |               'ylorrd'].\n",
      " |          Appending '_r' to a named colorscale reverses it.\n",
      " |      \n",
      " |      Returns\n",
      " |      -------\n",
      " |      str\n",
      " |  \n",
      " |  colorsrc\n",
      " |      Sets the source reference on Chart Studio Cloud for `color`.\n",
      " |      \n",
      " |      The 'colorsrc' property must be specified as a string or\n",
      " |      as a plotly.grid_objs.Column object\n",
      " |      \n",
      " |      Returns\n",
      " |      -------\n",
      " |      str\n",
      " |  \n",
      " |  gradient\n",
      " |      The 'gradient' property is an instance of Gradient\n",
      " |      that may be specified as:\n",
      " |        - An instance of :class:`plotly.graph_objs.scatter.marker.Gradient`\n",
      " |        - A dict of string/value properties that will be passed\n",
      " |          to the Gradient constructor\n",
      " |      \n",
      " |          Supported dict properties:\n",
      " |      \n",
      " |              color\n",
      " |                  Sets the final color of the gradient fill: the\n",
      " |                  center color for radial, the right for\n",
      " |                  horizontal, or the bottom for vertical.\n",
      " |              colorsrc\n",
      " |                  Sets the source reference on Chart Studio Cloud\n",
      " |                  for `color`.\n",
      " |              type\n",
      " |                  Sets the type of gradient used to fill the\n",
      " |                  markers\n",
      " |              typesrc\n",
      " |                  Sets the source reference on Chart Studio Cloud\n",
      " |                  for `type`.\n",
      " |      \n",
      " |      Returns\n",
      " |      -------\n",
      " |      plotly.graph_objs.scatter.marker.Gradient\n",
      " |  \n",
      " |  line\n",
      " |      The 'line' property is an instance of Line\n",
      " |      that may be specified as:\n",
      " |        - An instance of :class:`plotly.graph_objs.scatter.marker.Line`\n",
      " |        - A dict of string/value properties that will be passed\n",
      " |          to the Line constructor\n",
      " |      \n",
      " |          Supported dict properties:\n",
      " |      \n",
      " |              autocolorscale\n",
      " |                  Determines whether the colorscale is a default\n",
      " |                  palette (`autocolorscale: true`) or the palette\n",
      " |                  determined by `marker.line.colorscale`. Has an\n",
      " |                  effect only if in `marker.line.color` is set to\n",
      " |                  a numerical array. In case `colorscale` is\n",
      " |                  unspecified or `autocolorscale` is true, the\n",
      " |                  default palette will be chosen according to\n",
      " |                  whether numbers in the `color` array are all\n",
      " |                  positive, all negative or mixed.\n",
      " |              cauto\n",
      " |                  Determines whether or not the color domain is\n",
      " |                  computed with respect to the input data (here\n",
      " |                  in `marker.line.color`) or the bounds set in\n",
      " |                  `marker.line.cmin` and `marker.line.cmax` Has\n",
      " |                  an effect only if in `marker.line.color` is set\n",
      " |                  to a numerical array. Defaults to `false` when\n",
      " |                  `marker.line.cmin` and `marker.line.cmax` are\n",
      " |                  set by the user.\n",
      " |              cmax\n",
      " |                  Sets the upper bound of the color domain. Has\n",
      " |                  an effect only if in `marker.line.color` is set\n",
      " |                  to a numerical array. Value should have the\n",
      " |                  same units as in `marker.line.color` and if\n",
      " |                  set, `marker.line.cmin` must be set as well.\n",
      " |              cmid\n",
      " |                  Sets the mid-point of the color domain by\n",
      " |                  scaling `marker.line.cmin` and/or\n",
      " |                  `marker.line.cmax` to be equidistant to this\n",
      " |                  point. Has an effect only if in\n",
      " |                  `marker.line.color` is set to a numerical\n",
      " |                  array. Value should have the same units as in\n",
      " |                  `marker.line.color`. Has no effect when\n",
      " |                  `marker.line.cauto` is `false`.\n",
      " |              cmin\n",
      " |                  Sets the lower bound of the color domain. Has\n",
      " |                  an effect only if in `marker.line.color` is set\n",
      " |                  to a numerical array. Value should have the\n",
      " |                  same units as in `marker.line.color` and if\n",
      " |                  set, `marker.line.cmax` must be set as well.\n",
      " |              color\n",
      " |                  Sets the marker.line color. It accepts either a\n",
      " |                  specific color or an array of numbers that are\n",
      " |                  mapped to the colorscale relative to the max\n",
      " |                  and min values of the array or relative to\n",
      " |                  `marker.line.cmin` and `marker.line.cmax` if\n",
      " |                  set.\n",
      " |              coloraxis\n",
      " |                  Sets a reference to a shared color axis.\n",
      " |                  References to these shared color axes are\n",
      " |                  \"coloraxis\", \"coloraxis2\", \"coloraxis3\", etc.\n",
      " |                  Settings for these shared color axes are set in\n",
      " |                  the layout, under `layout.coloraxis`,\n",
      " |                  `layout.coloraxis2`, etc. Note that multiple\n",
      " |                  color scales can be linked to the same color\n",
      " |                  axis.\n",
      " |              colorscale\n",
      " |                  Sets the colorscale. Has an effect only if in\n",
      " |                  `marker.line.color` is set to a numerical\n",
      " |                  array. The colorscale must be an array\n",
      " |                  containing arrays mapping a normalized value to\n",
      " |                  an rgb, rgba, hex, hsl, hsv, or named color\n",
      " |                  string. At minimum, a mapping for the lowest\n",
      " |                  (0) and highest (1) values are required. For\n",
      " |                  example, `[[0, 'rgb(0,0,255)'], [1,\n",
      " |                  'rgb(255,0,0)']]`. To control the bounds of the\n",
      " |                  colorscale in color space, use\n",
      " |                  `marker.line.cmin` and `marker.line.cmax`.\n",
      " |                  Alternatively, `colorscale` may be a palette\n",
      " |                  name string of the following list: Blackbody,Bl\n",
      " |                  uered,Blues,Cividis,Earth,Electric,Greens,Greys\n",
      " |                  ,Hot,Jet,Picnic,Portland,Rainbow,RdBu,Reds,Viri\n",
      " |                  dis,YlGnBu,YlOrRd.\n",
      " |              colorsrc\n",
      " |                  Sets the source reference on Chart Studio Cloud\n",
      " |                  for `color`.\n",
      " |              reversescale\n",
      " |                  Reverses the color mapping if true. Has an\n",
      " |                  effect only if in `marker.line.color` is set to\n",
      " |                  a numerical array. If true, `marker.line.cmin`\n",
      " |                  will correspond to the last color in the array\n",
      " |                  and `marker.line.cmax` will correspond to the\n",
      " |                  first color.\n",
      " |              width\n",
      " |                  Sets the width (in px) of the lines bounding\n",
      " |                  the marker points.\n",
      " |              widthsrc\n",
      " |                  Sets the source reference on Chart Studio Cloud\n",
      " |                  for `width`.\n",
      " |      \n",
      " |      Returns\n",
      " |      -------\n",
      " |      plotly.graph_objs.scatter.marker.Line\n",
      " |  \n",
      " |  maxdisplayed\n",
      " |      Sets a maximum number of points to be drawn on the graph. 0\n",
      " |      corresponds to no limit.\n",
      " |      \n",
      " |      The 'maxdisplayed' property is a number and may be specified as:\n",
      " |        - An int or float in the interval [0, inf]\n",
      " |      \n",
      " |      Returns\n",
      " |      -------\n",
      " |      int|float\n",
      " |  \n",
      " |  opacity\n",
      " |      Sets the marker opacity.\n",
      " |      \n",
      " |      The 'opacity' property is a number and may be specified as:\n",
      " |        - An int or float in the interval [0, 1]\n",
      " |        - A tuple, list, or one-dimensional numpy array of the above\n",
      " |      \n",
      " |      Returns\n",
      " |      -------\n",
      " |      int|float|numpy.ndarray\n",
      " |  \n",
      " |  opacitysrc\n",
      " |      Sets the source reference on Chart Studio Cloud for `opacity`.\n",
      " |      \n",
      " |      The 'opacitysrc' property must be specified as a string or\n",
      " |      as a plotly.grid_objs.Column object\n",
      " |      \n",
      " |      Returns\n",
      " |      -------\n",
      " |      str\n",
      " |  \n",
      " |  reversescale\n",
      " |      Reverses the color mapping if true. Has an effect only if in\n",
      " |      `marker.color` is set to a numerical array. If true,\n",
      " |      `marker.cmin` will correspond to the last color in the array\n",
      " |      and `marker.cmax` will correspond to the first color.\n",
      " |      \n",
      " |      The 'reversescale' property must be specified as a bool\n",
      " |      (either True, or False)\n",
      " |      \n",
      " |      Returns\n",
      " |      -------\n",
      " |      bool\n",
      " |  \n",
      " |  showscale\n",
      " |      Determines whether or not a colorbar is displayed for this\n",
      " |      trace. Has an effect only if in `marker.color` is set to a\n",
      " |      numerical array.\n",
      " |      \n",
      " |      The 'showscale' property must be specified as a bool\n",
      " |      (either True, or False)\n",
      " |      \n",
      " |      Returns\n",
      " |      -------\n",
      " |      bool\n",
      " |  \n",
      " |  size\n",
      " |      Sets the marker size (in px).\n",
      " |      \n",
      " |      The 'size' property is a number and may be specified as:\n",
      " |        - An int or float in the interval [0, inf]\n",
      " |        - A tuple, list, or one-dimensional numpy array of the above\n",
      " |      \n",
      " |      Returns\n",
      " |      -------\n",
      " |      int|float|numpy.ndarray\n",
      " |  \n",
      " |  sizemin\n",
      " |      Has an effect only if `marker.size` is set to a numerical\n",
      " |      array. Sets the minimum size (in px) of the rendered marker\n",
      " |      points.\n",
      " |      \n",
      " |      The 'sizemin' property is a number and may be specified as:\n",
      " |        - An int or float in the interval [0, inf]\n",
      " |      \n",
      " |      Returns\n",
      " |      -------\n",
      " |      int|float\n",
      " |  \n",
      " |  sizemode\n",
      " |      Has an effect only if `marker.size` is set to a numerical\n",
      " |      array. Sets the rule for which the data in `size` is converted\n",
      " |      to pixels.\n",
      " |      \n",
      " |      The 'sizemode' property is an enumeration that may be specified as:\n",
      " |        - One of the following enumeration values:\n",
      " |              ['diameter', 'area']\n",
      " |      \n",
      " |      Returns\n",
      " |      -------\n",
      " |      Any\n",
      " |  \n",
      " |  sizeref\n",
      " |      Has an effect only if `marker.size` is set to a numerical\n",
      " |      array. Sets the scale factor used to determine the rendered\n",
      " |      size of marker points. Use with `sizemin` and `sizemode`.\n",
      " |      \n",
      " |      The 'sizeref' property is a number and may be specified as:\n",
      " |        - An int or float\n",
      " |      \n",
      " |      Returns\n",
      " |      -------\n",
      " |      int|float\n",
      " |  \n",
      " |  sizesrc\n",
      " |      Sets the source reference on Chart Studio Cloud for `size`.\n",
      " |      \n",
      " |      The 'sizesrc' property must be specified as a string or\n",
      " |      as a plotly.grid_objs.Column object\n",
      " |      \n",
      " |      Returns\n",
      " |      -------\n",
      " |      str\n",
      " |  \n",
      " |  standoff\n",
      " |      Moves the marker away from the data point in the direction of\n",
      " |      `angle` (in px). This can be useful for example if you have\n",
      " |      another marker at this location and you want to point an\n",
      " |      arrowhead marker at it.\n",
      " |      \n",
      " |      The 'standoff' property is a number and may be specified as:\n",
      " |        - An int or float in the interval [0, inf]\n",
      " |        - A tuple, list, or one-dimensional numpy array of the above\n",
      " |      \n",
      " |      Returns\n",
      " |      -------\n",
      " |      int|float|numpy.ndarray\n",
      " |  \n",
      " |  standoffsrc\n",
      " |      Sets the source reference on Chart Studio Cloud for `standoff`.\n",
      " |      \n",
      " |      The 'standoffsrc' property must be specified as a string or\n",
      " |      as a plotly.grid_objs.Column object\n",
      " |      \n",
      " |      Returns\n",
      " |      -------\n",
      " |      str\n",
      " |  \n",
      " |  symbol\n",
      " |      Sets the marker symbol type. Adding 100 is equivalent to\n",
      " |      appending \"-open\" to a symbol name. Adding 200 is equivalent to\n",
      " |      appending \"-dot\" to a symbol name. Adding 300 is equivalent to\n",
      " |      appending \"-open-dot\" or \"dot-open\" to a symbol name.\n",
      " |      \n",
      " |      The 'symbol' property is an enumeration that may be specified as:\n",
      " |        - One of the following enumeration values:\n",
      " |              [0, '0', 'circle', 100, '100', 'circle-open', 200, '200',\n",
      " |              'circle-dot', 300, '300', 'circle-open-dot', 1, '1',\n",
      " |              'square', 101, '101', 'square-open', 201, '201',\n",
      " |              'square-dot', 301, '301', 'square-open-dot', 2, '2',\n",
      " |              'diamond', 102, '102', 'diamond-open', 202, '202',\n",
      " |              'diamond-dot', 302, '302', 'diamond-open-dot', 3, '3',\n",
      " |              'cross', 103, '103', 'cross-open', 203, '203',\n",
      " |              'cross-dot', 303, '303', 'cross-open-dot', 4, '4', 'x',\n",
      " |              104, '104', 'x-open', 204, '204', 'x-dot', 304, '304',\n",
      " |              'x-open-dot', 5, '5', 'triangle-up', 105, '105',\n",
      " |              'triangle-up-open', 205, '205', 'triangle-up-dot', 305,\n",
      " |              '305', 'triangle-up-open-dot', 6, '6', 'triangle-down',\n",
      " |              106, '106', 'triangle-down-open', 206, '206',\n",
      " |              'triangle-down-dot', 306, '306', 'triangle-down-open-dot',\n",
      " |              7, '7', 'triangle-left', 107, '107', 'triangle-left-open',\n",
      " |              207, '207', 'triangle-left-dot', 307, '307',\n",
      " |              'triangle-left-open-dot', 8, '8', 'triangle-right', 108,\n",
      " |              '108', 'triangle-right-open', 208, '208',\n",
      " |              'triangle-right-dot', 308, '308',\n",
      " |              'triangle-right-open-dot', 9, '9', 'triangle-ne', 109,\n",
      " |              '109', 'triangle-ne-open', 209, '209', 'triangle-ne-dot',\n",
      " |              309, '309', 'triangle-ne-open-dot', 10, '10',\n",
      " |              'triangle-se', 110, '110', 'triangle-se-open', 210, '210',\n",
      " |              'triangle-se-dot', 310, '310', 'triangle-se-open-dot', 11,\n",
      " |              '11', 'triangle-sw', 111, '111', 'triangle-sw-open', 211,\n",
      " |              '211', 'triangle-sw-dot', 311, '311',\n",
      " |              'triangle-sw-open-dot', 12, '12', 'triangle-nw', 112,\n",
      " |              '112', 'triangle-nw-open', 212, '212', 'triangle-nw-dot',\n",
      " |              312, '312', 'triangle-nw-open-dot', 13, '13', 'pentagon',\n",
      " |              113, '113', 'pentagon-open', 213, '213', 'pentagon-dot',\n",
      " |              313, '313', 'pentagon-open-dot', 14, '14', 'hexagon', 114,\n",
      " |              '114', 'hexagon-open', 214, '214', 'hexagon-dot', 314,\n",
      " |              '314', 'hexagon-open-dot', 15, '15', 'hexagon2', 115,\n",
      " |              '115', 'hexagon2-open', 215, '215', 'hexagon2-dot', 315,\n",
      " |              '315', 'hexagon2-open-dot', 16, '16', 'octagon', 116,\n",
      " |              '116', 'octagon-open', 216, '216', 'octagon-dot', 316,\n",
      " |              '316', 'octagon-open-dot', 17, '17', 'star', 117, '117',\n",
      " |              'star-open', 217, '217', 'star-dot', 317, '317',\n",
      " |              'star-open-dot', 18, '18', 'hexagram', 118, '118',\n",
      " |              'hexagram-open', 218, '218', 'hexagram-dot', 318, '318',\n",
      " |              'hexagram-open-dot', 19, '19', 'star-triangle-up', 119,\n",
      " |              '119', 'star-triangle-up-open', 219, '219',\n",
      " |              'star-triangle-up-dot', 319, '319',\n",
      " |              'star-triangle-up-open-dot', 20, '20',\n",
      " |              'star-triangle-down', 120, '120',\n",
      " |              'star-triangle-down-open', 220, '220',\n",
      " |              'star-triangle-down-dot', 320, '320',\n",
      " |              'star-triangle-down-open-dot', 21, '21', 'star-square',\n",
      " |              121, '121', 'star-square-open', 221, '221',\n",
      " |              'star-square-dot', 321, '321', 'star-square-open-dot', 22,\n",
      " |              '22', 'star-diamond', 122, '122', 'star-diamond-open',\n",
      " |              222, '222', 'star-diamond-dot', 322, '322',\n",
      " |              'star-diamond-open-dot', 23, '23', 'diamond-tall', 123,\n",
      " |              '123', 'diamond-tall-open', 223, '223',\n",
      " |              'diamond-tall-dot', 323, '323', 'diamond-tall-open-dot',\n",
      " |              24, '24', 'diamond-wide', 124, '124', 'diamond-wide-open',\n",
      " |              224, '224', 'diamond-wide-dot', 324, '324',\n",
      " |              'diamond-wide-open-dot', 25, '25', 'hourglass', 125,\n",
      " |              '125', 'hourglass-open', 26, '26', 'bowtie', 126, '126',\n",
      " |              'bowtie-open', 27, '27', 'circle-cross', 127, '127',\n",
      " |              'circle-cross-open', 28, '28', 'circle-x', 128, '128',\n",
      " |              'circle-x-open', 29, '29', 'square-cross', 129, '129',\n",
      " |              'square-cross-open', 30, '30', 'square-x', 130, '130',\n",
      " |              'square-x-open', 31, '31', 'diamond-cross', 131, '131',\n",
      " |              'diamond-cross-open', 32, '32', 'diamond-x', 132, '132',\n",
      " |              'diamond-x-open', 33, '33', 'cross-thin', 133, '133',\n",
      " |              'cross-thin-open', 34, '34', 'x-thin', 134, '134',\n",
      " |              'x-thin-open', 35, '35', 'asterisk', 135, '135',\n",
      " |              'asterisk-open', 36, '36', 'hash', 136, '136',\n",
      " |              'hash-open', 236, '236', 'hash-dot', 336, '336',\n",
      " |              'hash-open-dot', 37, '37', 'y-up', 137, '137',\n",
      " |              'y-up-open', 38, '38', 'y-down', 138, '138',\n",
      " |              'y-down-open', 39, '39', 'y-left', 139, '139',\n",
      " |              'y-left-open', 40, '40', 'y-right', 140, '140',\n",
      " |              'y-right-open', 41, '41', 'line-ew', 141, '141',\n",
      " |              'line-ew-open', 42, '42', 'line-ns', 142, '142',\n",
      " |              'line-ns-open', 43, '43', 'line-ne', 143, '143',\n",
      " |              'line-ne-open', 44, '44', 'line-nw', 144, '144',\n",
      " |              'line-nw-open', 45, '45', 'arrow-up', 145, '145',\n",
      " |              'arrow-up-open', 46, '46', 'arrow-down', 146, '146',\n",
      " |              'arrow-down-open', 47, '47', 'arrow-left', 147, '147',\n",
      " |              'arrow-left-open', 48, '48', 'arrow-right', 148, '148',\n",
      " |              'arrow-right-open', 49, '49', 'arrow-bar-up', 149, '149',\n",
      " |              'arrow-bar-up-open', 50, '50', 'arrow-bar-down', 150,\n",
      " |              '150', 'arrow-bar-down-open', 51, '51', 'arrow-bar-left',\n",
      " |              151, '151', 'arrow-bar-left-open', 52, '52',\n",
      " |              'arrow-bar-right', 152, '152', 'arrow-bar-right-open', 53,\n",
      " |              '53', 'arrow', 153, '153', 'arrow-open', 54, '54',\n",
      " |              'arrow-wide', 154, '154', 'arrow-wide-open']\n",
      " |        - A tuple, list, or one-dimensional numpy array of the above\n",
      " |      \n",
      " |      Returns\n",
      " |      -------\n",
      " |      Any|numpy.ndarray\n",
      " |  \n",
      " |  symbolsrc\n",
      " |      Sets the source reference on Chart Studio Cloud for `symbol`.\n",
      " |      \n",
      " |      The 'symbolsrc' property must be specified as a string or\n",
      " |      as a plotly.grid_objs.Column object\n",
      " |      \n",
      " |      Returns\n",
      " |      -------\n",
      " |      str\n",
      " |  \n",
      " |  ----------------------------------------------------------------------\n",
      " |  Methods inherited from plotly.basedatatypes.BasePlotlyType:\n",
      " |  \n",
      " |  __contains__(self, prop)\n",
      " |      Determine whether object contains a property or nested property\n",
      " |      \n",
      " |      Parameters\n",
      " |      ----------\n",
      " |      prop : str|tuple\n",
      " |          If prop is a simple string (e.g. 'foo'), then return true of the\n",
      " |          object contains an element named 'foo'\n",
      " |      \n",
      " |          If prop is a property path string (e.g. 'foo[0].bar'),\n",
      " |          then return true if the obejct contains the nested elements for\n",
      " |          each entry in the path string (e.g. 'bar' in obj['foo'][0])\n",
      " |      \n",
      " |          If prop is a property path tuple (e.g. ('foo', 0, 'bar')),\n",
      " |          then return true if the object contains the nested elements for\n",
      " |          each entry in the path string (e.g. 'bar' in obj['foo'][0])\n",
      " |      \n",
      " |      Returns\n",
      " |      -------\n",
      " |      bool\n",
      " |  \n",
      " |  __eq__(self, other)\n",
      " |      Test for equality\n",
      " |      \n",
      " |      To be considered equal, `other` must have the same type as this object\n",
      " |      and their `to_plotly_json` representaitons must be identical.\n",
      " |      \n",
      " |      Parameters\n",
      " |      ----------\n",
      " |      other\n",
      " |          The object to compare against\n",
      " |      \n",
      " |      Returns\n",
      " |      -------\n",
      " |      bool\n",
      " |  \n",
      " |  __getitem__(self, prop)\n",
      " |      Get item or nested item from object\n",
      " |      \n",
      " |      Parameters\n",
      " |      ----------\n",
      " |      prop : str|tuple\n",
      " |      \n",
      " |          If prop is the name of a property of this object, then the\n",
      " |          property is returned.\n",
      " |      \n",
      " |          If prop is a nested property path string (e.g. 'foo[1].bar'),\n",
      " |          then a nested property is returned (e.g. obj['foo'][1]['bar'])\n",
      " |      \n",
      " |          If prop is a path tuple (e.g. ('foo', 1, 'bar')), then a nested\n",
      " |          property is returned (e.g. obj['foo'][1]['bar']).\n",
      " |      \n",
      " |      Returns\n",
      " |      -------\n",
      " |      Any\n",
      " |  \n",
      " |  __iter__(self)\n",
      " |      Return an iterator over the object's properties\n",
      " |  \n",
      " |  __reduce__(self)\n",
      " |      Custom implementation of reduce is used to support deep copying\n",
      " |      and pickling\n",
      " |  \n",
      " |  __repr__(self)\n",
      " |      Customize object representation when displayed in the\n",
      " |      terminal/notebook\n",
      " |  \n",
      " |  __setattr__(self, prop, value)\n",
      " |      Parameters\n",
      " |      ----------\n",
      " |      prop : str\n",
      " |          The name of a direct child of this object\n",
      " |      value\n",
      " |          New property value\n",
      " |      Returns\n",
      " |      -------\n",
      " |      None\n",
      " |  \n",
      " |  __setitem__(self, prop, value)\n",
      " |      Parameters\n",
      " |      ----------\n",
      " |      prop : str\n",
      " |          The name of a direct child of this object\n",
      " |      \n",
      " |          Note: Setting nested properties using property path string or\n",
      " |          property path tuples is not supported.\n",
      " |      value\n",
      " |          New property value\n",
      " |      \n",
      " |      Returns\n",
      " |      -------\n",
      " |      None\n",
      " |  \n",
      " |  on_change(self, callback, *args, **kwargs)\n",
      " |      Register callback function to be called when certain properties or\n",
      " |      subproperties of this object are modified.\n",
      " |      \n",
      " |      Callback will be invoked whenever ANY of these properties is\n",
      " |      modified. Furthermore, the callback will only be invoked once even\n",
      " |      if multiple properties are modified during the same restyle /\n",
      " |      relayout / update operation.\n",
      " |      \n",
      " |      Parameters\n",
      " |      ----------\n",
      " |      callback : function\n",
      " |          Function that accepts 1 + len(`args`) parameters. First parameter\n",
      " |          is this object. Second through last parameters are the\n",
      " |          property / subpropery values referenced by args.\n",
      " |      args : list[str|tuple[int|str]]\n",
      " |          List of property references where each reference may be one of:\n",
      " |      \n",
      " |            1) A property name string (e.g. 'foo') for direct properties\n",
      " |            2) A property path string (e.g. 'foo[0].bar') for\n",
      " |               subproperties\n",
      " |            3) A property path tuple (e.g. ('foo', 0, 'bar')) for\n",
      " |               subproperties\n",
      " |      \n",
      " |      append : bool\n",
      " |          True if callback should be appended to previously registered\n",
      " |          callback on the same properties, False if callback should replace\n",
      " |          previously registered callbacks on the same properties. Defaults\n",
      " |          to False.\n",
      " |      \n",
      " |      Examples\n",
      " |      --------\n",
      " |      \n",
      " |      Register callback that prints out the range extents of the xaxis and\n",
      " |      yaxis whenever either either of them changes.\n",
      " |      \n",
      " |      >>> import plotly.graph_objects as go\n",
      " |      >>> fig = go.Figure(go.Scatter(x=[1, 2], y=[1, 0]))\n",
      " |      >>> fig.layout.on_change(\n",
      " |      ...   lambda obj, xrange, yrange: print(\"%s-%s\" % (xrange, yrange)),\n",
      " |      ...   ('xaxis', 'range'), ('yaxis', 'range'))\n",
      " |      \n",
      " |      \n",
      " |      Returns\n",
      " |      -------\n",
      " |      None\n",
      " |  \n",
      " |  pop(self, key, *args)\n",
      " |      Remove the value associated with the specified key and return it\n",
      " |      \n",
      " |      Parameters\n",
      " |      ----------\n",
      " |      key: str\n",
      " |          Property name\n",
      " |      dflt\n",
      " |          The default value to return if key was not found in object\n",
      " |      \n",
      " |      Returns\n",
      " |      -------\n",
      " |      value\n",
      " |          The removed value that was previously associated with key\n",
      " |      \n",
      " |      Raises\n",
      " |      ------\n",
      " |      KeyError\n",
      " |          If key is not in object and no dflt argument specified\n",
      " |  \n",
      " |  to_json(self, *args, **kwargs)\n",
      " |      Convert object to a JSON string representation\n",
      " |      \n",
      " |      Parameters\n",
      " |      ----------\n",
      " |      validate: bool (default True)\n",
      " |          True if the object should be validated before being converted to\n",
      " |          JSON, False otherwise.\n",
      " |      \n",
      " |      pretty: bool (default False)\n",
      " |          True if JSON representation should be pretty-printed, False if\n",
      " |          representation should be as compact as possible.\n",
      " |      \n",
      " |      remove_uids: bool (default True)\n",
      " |          True if trace UIDs should be omitted from the JSON representation\n",
      " |      \n",
      " |      engine: str (default None)\n",
      " |          The JSON encoding engine to use. One of:\n",
      " |            - \"json\" for an encoder based on the built-in Python json module\n",
      " |            - \"orjson\" for a fast encoder the requires the orjson package\n",
      " |          If not specified, the default encoder is set to the current value of\n",
      " |          plotly.io.json.config.default_encoder.\n",
      " |      \n",
      " |      Returns\n",
      " |      -------\n",
      " |      str\n",
      " |          Representation of object as a JSON string\n",
      " |  \n",
      " |  to_plotly_json(self)\n",
      " |      Return plotly JSON representation of object as a Python dict\n",
      " |      \n",
      " |      Note: May include some JSON-invalid data types, use the `PlotlyJSONEncoder` util\n",
      " |      or the `to_json` method to encode to a string.\n",
      " |      \n",
      " |      Returns\n",
      " |      -------\n",
      " |      dict\n",
      " |  \n",
      " |  update(self, dict1=None, overwrite=False, **kwargs)\n",
      " |      Update the properties of an object with a dict and/or with\n",
      " |      keyword arguments.\n",
      " |      \n",
      " |      This recursively updates the structure of the original\n",
      " |      object with the values in the input dict / keyword arguments.\n",
      " |      \n",
      " |      Parameters\n",
      " |      ----------\n",
      " |      dict1 : dict\n",
      " |          Dictionary of properties to be updated\n",
      " |      overwrite: bool\n",
      " |          If True, overwrite existing properties. If False, apply updates\n",
      " |          to existing properties recursively, preserving existing\n",
      " |          properties that are not specified in the update operation.\n",
      " |      kwargs :\n",
      " |          Keyword/value pair of properties to be updated\n",
      " |      \n",
      " |      Returns\n",
      " |      -------\n",
      " |      BasePlotlyType\n",
      " |          Updated plotly object\n",
      " |  \n",
      " |  ----------------------------------------------------------------------\n",
      " |  Readonly properties inherited from plotly.basedatatypes.BasePlotlyType:\n",
      " |  \n",
      " |  figure\n",
      " |      Reference to the top-level Figure or FigureWidget that this object\n",
      " |      belongs to. None if the object does not belong to a Figure\n",
      " |      \n",
      " |      Returns\n",
      " |      -------\n",
      " |      Union[BaseFigure, None]\n",
      " |  \n",
      " |  parent\n",
      " |      Return the object's parent, or None if the object has no parent\n",
      " |      Returns\n",
      " |      -------\n",
      " |      BasePlotlyType|BaseFigure\n",
      " |  \n",
      " |  plotly_name\n",
      " |      The plotly name of the object\n",
      " |      \n",
      " |      Returns\n",
      " |      -------\n",
      " |      str\n",
      " |  \n",
      " |  ----------------------------------------------------------------------\n",
      " |  Data descriptors inherited from plotly.basedatatypes.BasePlotlyType:\n",
      " |  \n",
      " |  __dict__\n",
      " |      dictionary for instance variables\n",
      " |  \n",
      " |  __weakref__\n",
      " |      list of weak references to the object\n",
      " |  \n",
      " |  ----------------------------------------------------------------------\n",
      " |  Data and other attributes inherited from plotly.basedatatypes.BasePlotlyType:\n",
      " |  \n",
      " |  __hash__ = None\n",
      "\n"
     ]
    }
   ],
   "source": [
    "help(go.scatter.Marker)"
   ]
  },
  {
   "cell_type": "code",
   "execution_count": 89,
   "metadata": {},
   "outputs": [
    {
     "name": "stdout",
     "output_type": "stream",
     "text": [
      "Help on class XAxis in module plotly.graph_objs.layout._xaxis:\n",
      "\n",
      "class XAxis(plotly.basedatatypes.BaseLayoutHierarchyType)\n",
      " |  XAxis(arg=None, anchor=None, automargin=None, autorange=None, autorangeoptions=None, autotickangles=None, autotypenumbers=None, calendar=None, categoryarray=None, categoryarraysrc=None, categoryorder=None, color=None, constrain=None, constraintoward=None, dividercolor=None, dividerwidth=None, domain=None, dtick=None, exponentformat=None, fixedrange=None, gridcolor=None, griddash=None, gridwidth=None, hoverformat=None, insiderange=None, labelalias=None, layer=None, linecolor=None, linewidth=None, matches=None, maxallowed=None, minallowed=None, minexponent=None, minor=None, mirror=None, nticks=None, overlaying=None, position=None, range=None, rangebreaks=None, rangebreakdefaults=None, rangemode=None, rangeselector=None, rangeslider=None, scaleanchor=None, scaleratio=None, separatethousands=None, showdividers=None, showexponent=None, showgrid=None, showline=None, showspikes=None, showticklabels=None, showtickprefix=None, showticksuffix=None, side=None, spikecolor=None, spikedash=None, spikemode=None, spikesnap=None, spikethickness=None, tick0=None, tickangle=None, tickcolor=None, tickfont=None, tickformat=None, tickformatstops=None, tickformatstopdefaults=None, ticklabelmode=None, ticklabeloverflow=None, ticklabelposition=None, ticklabelstep=None, ticklen=None, tickmode=None, tickprefix=None, ticks=None, tickson=None, ticksuffix=None, ticktext=None, ticktextsrc=None, tickvals=None, tickvalssrc=None, tickwidth=None, title=None, titlefont=None, type=None, uirevision=None, visible=None, zeroline=None, zerolinecolor=None, zerolinewidth=None, **kwargs)\n",
      " |  \n",
      " |  Method resolution order:\n",
      " |      XAxis\n",
      " |      plotly.basedatatypes.BaseLayoutHierarchyType\n",
      " |      plotly.basedatatypes.BasePlotlyType\n",
      " |      builtins.object\n",
      " |  \n",
      " |  Methods defined here:\n",
      " |  \n",
      " |  __init__(self, arg=None, anchor=None, automargin=None, autorange=None, autorangeoptions=None, autotickangles=None, autotypenumbers=None, calendar=None, categoryarray=None, categoryarraysrc=None, categoryorder=None, color=None, constrain=None, constraintoward=None, dividercolor=None, dividerwidth=None, domain=None, dtick=None, exponentformat=None, fixedrange=None, gridcolor=None, griddash=None, gridwidth=None, hoverformat=None, insiderange=None, labelalias=None, layer=None, linecolor=None, linewidth=None, matches=None, maxallowed=None, minallowed=None, minexponent=None, minor=None, mirror=None, nticks=None, overlaying=None, position=None, range=None, rangebreaks=None, rangebreakdefaults=None, rangemode=None, rangeselector=None, rangeslider=None, scaleanchor=None, scaleratio=None, separatethousands=None, showdividers=None, showexponent=None, showgrid=None, showline=None, showspikes=None, showticklabels=None, showtickprefix=None, showticksuffix=None, side=None, spikecolor=None, spikedash=None, spikemode=None, spikesnap=None, spikethickness=None, tick0=None, tickangle=None, tickcolor=None, tickfont=None, tickformat=None, tickformatstops=None, tickformatstopdefaults=None, ticklabelmode=None, ticklabeloverflow=None, ticklabelposition=None, ticklabelstep=None, ticklen=None, tickmode=None, tickprefix=None, ticks=None, tickson=None, ticksuffix=None, ticktext=None, ticktextsrc=None, tickvals=None, tickvalssrc=None, tickwidth=None, title=None, titlefont=None, type=None, uirevision=None, visible=None, zeroline=None, zerolinecolor=None, zerolinewidth=None, **kwargs)\n",
      " |      Construct a new XAxis object\n",
      " |      \n",
      " |      Parameters\n",
      " |      ----------\n",
      " |      arg\n",
      " |          dict of properties compatible with this constructor or\n",
      " |          an instance of :class:`plotly.graph_objs.layout.XAxis`\n",
      " |      anchor\n",
      " |          If set to an opposite-letter axis id (e.g. `x2`, `y`),\n",
      " |          this axis is bound to the corresponding opposite-letter\n",
      " |          axis. If set to \"free\", this axis' position is\n",
      " |          determined by `position`.\n",
      " |      automargin\n",
      " |          Determines whether long tick labels automatically grow\n",
      " |          the figure margins.\n",
      " |      autorange\n",
      " |          Determines whether or not the range of this axis is\n",
      " |          computed in relation to the input data. See `rangemode`\n",
      " |          for more info. If `range` is provided and it has a\n",
      " |          value for both the lower and upper bound, `autorange`\n",
      " |          is set to False. Using \"min\" applies autorange only to\n",
      " |          set the minimum. Using \"max\" applies autorange only to\n",
      " |          set the maximum. Using *min reversed* applies autorange\n",
      " |          only to set the minimum on a reversed axis. Using *max\n",
      " |          reversed* applies autorange only to set the maximum on\n",
      " |          a reversed axis. Using \"reversed\" applies autorange on\n",
      " |          both ends and reverses the axis direction.\n",
      " |      autorangeoptions\n",
      " |          :class:`plotly.graph_objects.layout.xaxis.Autorangeopti\n",
      " |          ons` instance or dict with compatible properties\n",
      " |      autotickangles\n",
      " |          When `tickangle` is set to \"auto\", it will be set to\n",
      " |          the first angle in this array that is large enough to\n",
      " |          prevent label overlap.\n",
      " |      autotypenumbers\n",
      " |          Using \"strict\" a numeric string in trace data is not\n",
      " |          converted to a number. Using *convert types* a numeric\n",
      " |          string in trace data may be treated as a number during\n",
      " |          automatic axis `type` detection. Defaults to\n",
      " |          layout.autotypenumbers.\n",
      " |      calendar\n",
      " |          Sets the calendar system to use for `range` and `tick0`\n",
      " |          if this is a date axis. This does not set the calendar\n",
      " |          for interpreting data on this axis, that's specified in\n",
      " |          the trace or via the global `layout.calendar`\n",
      " |      categoryarray\n",
      " |          Sets the order in which categories on this axis appear.\n",
      " |          Only has an effect if `categoryorder` is set to\n",
      " |          \"array\". Used with `categoryorder`.\n",
      " |      categoryarraysrc\n",
      " |          Sets the source reference on Chart Studio Cloud for\n",
      " |          `categoryarray`.\n",
      " |      categoryorder\n",
      " |          Specifies the ordering logic for the case of\n",
      " |          categorical variables. By default, plotly uses \"trace\",\n",
      " |          which specifies the order that is present in the data\n",
      " |          supplied. Set `categoryorder` to *category ascending*\n",
      " |          or *category descending* if order should be determined\n",
      " |          by the alphanumerical order of the category names. Set\n",
      " |          `categoryorder` to \"array\" to derive the ordering from\n",
      " |          the attribute `categoryarray`. If a category is not\n",
      " |          found in the `categoryarray` array, the sorting\n",
      " |          behavior for that attribute will be identical to the\n",
      " |          \"trace\" mode. The unspecified categories will follow\n",
      " |          the categories in `categoryarray`. Set `categoryorder`\n",
      " |          to *total ascending* or *total descending* if order\n",
      " |          should be determined by the numerical order of the\n",
      " |          values. Similarly, the order can be determined by the\n",
      " |          min, max, sum, mean or median of all the values.\n",
      " |      color\n",
      " |          Sets default for all colors associated with this axis\n",
      " |          all at once: line, font, tick, and grid colors. Grid\n",
      " |          color is lightened by blending this with the plot\n",
      " |          background Individual pieces can override this.\n",
      " |      constrain\n",
      " |          If this axis needs to be compressed (either due to its\n",
      " |          own `scaleanchor` and `scaleratio` or those of the\n",
      " |          other axis), determines how that happens: by increasing\n",
      " |          the \"range\", or by decreasing the \"domain\". Default is\n",
      " |          \"domain\" for axes containing image traces, \"range\"\n",
      " |          otherwise.\n",
      " |      constraintoward\n",
      " |          If this axis needs to be compressed (either due to its\n",
      " |          own `scaleanchor` and `scaleratio` or those of the\n",
      " |          other axis), determines which direction we push the\n",
      " |          originally specified plot area. Options are \"left\",\n",
      " |          \"center\" (default), and \"right\" for x axes, and \"top\",\n",
      " |          \"middle\" (default), and \"bottom\" for y axes.\n",
      " |      dividercolor\n",
      " |          Sets the color of the dividers Only has an effect on\n",
      " |          \"multicategory\" axes.\n",
      " |      dividerwidth\n",
      " |          Sets the width (in px) of the dividers Only has an\n",
      " |          effect on \"multicategory\" axes.\n",
      " |      domain\n",
      " |          Sets the domain of this axis (in plot fraction).\n",
      " |      dtick\n",
      " |          Sets the step in-between ticks on this axis. Use with\n",
      " |          `tick0`. Must be a positive number, or special strings\n",
      " |          available to \"log\" and \"date\" axes. If the axis `type`\n",
      " |          is \"log\", then ticks are set every 10^(n*dtick) where n\n",
      " |          is the tick number. For example, to set a tick mark at\n",
      " |          1, 10, 100, 1000, ... set dtick to 1. To set tick marks\n",
      " |          at 1, 100, 10000, ... set dtick to 2. To set tick marks\n",
      " |          at 1, 5, 25, 125, 625, 3125, ... set dtick to\n",
      " |          log_10(5), or 0.69897000433. \"log\" has several special\n",
      " |          values; \"L<f>\", where `f` is a positive number, gives\n",
      " |          ticks linearly spaced in value (but not position). For\n",
      " |          example `tick0` = 0.1, `dtick` = \"L0.5\" will put ticks\n",
      " |          at 0.1, 0.6, 1.1, 1.6 etc. To show powers of 10 plus\n",
      " |          small digits between, use \"D1\" (all digits) or \"D2\"\n",
      " |          (only 2 and 5). `tick0` is ignored for \"D1\" and \"D2\".\n",
      " |          If the axis `type` is \"date\", then you must convert the\n",
      " |          time to milliseconds. For example, to set the interval\n",
      " |          between ticks to one day, set `dtick` to 86400000.0.\n",
      " |          \"date\" also has special values \"M<n>\" gives ticks\n",
      " |          spaced by a number of months. `n` must be a positive\n",
      " |          integer. To set ticks on the 15th of every third month,\n",
      " |          set `tick0` to \"2000-01-15\" and `dtick` to \"M3\". To set\n",
      " |          ticks every 4 years, set `dtick` to \"M48\"\n",
      " |      exponentformat\n",
      " |          Determines a formatting rule for the tick exponents.\n",
      " |          For example, consider the number 1,000,000,000. If\n",
      " |          \"none\", it appears as 1,000,000,000. If \"e\", 1e+9. If\n",
      " |          \"E\", 1E+9. If \"power\", 1x10^9 (with 9 in a super\n",
      " |          script). If \"SI\", 1G. If \"B\", 1B.\n",
      " |      fixedrange\n",
      " |          Determines whether or not this axis is zoom-able. If\n",
      " |          true, then zoom is disabled.\n",
      " |      gridcolor\n",
      " |          Sets the color of the grid lines.\n",
      " |      griddash\n",
      " |          Sets the dash style of lines. Set to a dash type string\n",
      " |          (\"solid\", \"dot\", \"dash\", \"longdash\", \"dashdot\", or\n",
      " |          \"longdashdot\") or a dash length list in px (eg\n",
      " |          \"5px,10px,2px,2px\").\n",
      " |      gridwidth\n",
      " |          Sets the width (in px) of the grid lines.\n",
      " |      hoverformat\n",
      " |          Sets the hover text formatting rule using d3 formatting\n",
      " |          mini-languages which are very similar to those in\n",
      " |          Python. For numbers, see:\n",
      " |          https://github.com/d3/d3-format/tree/v1.4.5#d3-format.\n",
      " |          And for dates see: https://github.com/d3/d3-time-\n",
      " |          format/tree/v2.2.3#locale_format. We add two items to\n",
      " |          d3's date formatter: \"%h\" for half of the year as a\n",
      " |          decimal number as well as \"%{n}f\" for fractional\n",
      " |          seconds with n digits. For example, *2016-10-13\n",
      " |          09:15:23.456* with tickformat \"%H~%M~%S.%2f\" would\n",
      " |          display \"09~15~23.46\"\n",
      " |      insiderange\n",
      " |          Could be used to set the desired inside range of this\n",
      " |          axis (excluding the labels) when `ticklabelposition` of\n",
      " |          the anchored axis has \"inside\". Not implemented for\n",
      " |          axes with `type` \"log\". This would be ignored when\n",
      " |          `range` is provided.\n",
      " |      labelalias\n",
      " |          Replacement text for specific tick or hover labels. For\n",
      " |          example using {US: 'USA', CA: 'Canada'} changes US to\n",
      " |          USA and CA to Canada. The labels we would have shown\n",
      " |          must match the keys exactly, after adding any\n",
      " |          tickprefix or ticksuffix. For negative numbers the\n",
      " |          minus sign symbol used (U+2212) is wider than the\n",
      " |          regular ascii dash. That means you need to use −1\n",
      " |          instead of -1. labelalias can be used with any axis\n",
      " |          type, and both keys (if needed) and values (if desired)\n",
      " |          can include html-like tags or MathJax.\n",
      " |      layer\n",
      " |          Sets the layer on which this axis is displayed. If\n",
      " |          *above traces*, this axis is displayed above all the\n",
      " |          subplot's traces If *below traces*, this axis is\n",
      " |          displayed below all the subplot's traces, but above the\n",
      " |          grid lines. Useful when used together with scatter-like\n",
      " |          traces with `cliponaxis` set to False to show markers\n",
      " |          and/or text nodes above this axis.\n",
      " |      linecolor\n",
      " |          Sets the axis line color.\n",
      " |      linewidth\n",
      " |          Sets the width (in px) of the axis line.\n",
      " |      matches\n",
      " |          If set to another axis id (e.g. `x2`, `y`), the range\n",
      " |          of this axis will match the range of the corresponding\n",
      " |          axis in data-coordinates space. Moreover, matching axes\n",
      " |          share auto-range values, category lists and histogram\n",
      " |          auto-bins. Note that setting axes simultaneously in\n",
      " |          both a `scaleanchor` and a `matches` constraint is\n",
      " |          currently forbidden. Moreover, note that matching axes\n",
      " |          must have the same `type`.\n",
      " |      maxallowed\n",
      " |          Determines the maximum range of this axis.\n",
      " |      minallowed\n",
      " |          Determines the minimum range of this axis.\n",
      " |      minexponent\n",
      " |          Hide SI prefix for 10^n if |n| is below this number.\n",
      " |          This only has an effect when `tickformat` is \"SI\" or\n",
      " |          \"B\".\n",
      " |      minor\n",
      " |          :class:`plotly.graph_objects.layout.xaxis.Minor`\n",
      " |          instance or dict with compatible properties\n",
      " |      mirror\n",
      " |          Determines if the axis lines or/and ticks are mirrored\n",
      " |          to the opposite side of the plotting area. If True, the\n",
      " |          axis lines are mirrored. If \"ticks\", the axis lines and\n",
      " |          ticks are mirrored. If False, mirroring is disable. If\n",
      " |          \"all\", axis lines are mirrored on all shared-axes\n",
      " |          subplots. If \"allticks\", axis lines and ticks are\n",
      " |          mirrored on all shared-axes subplots.\n",
      " |      nticks\n",
      " |          Specifies the maximum number of ticks for the\n",
      " |          particular axis. The actual number of ticks will be\n",
      " |          chosen automatically to be less than or equal to\n",
      " |          `nticks`. Has an effect only if `tickmode` is set to\n",
      " |          \"auto\".\n",
      " |      overlaying\n",
      " |          If set a same-letter axis id, this axis is overlaid on\n",
      " |          top of the corresponding same-letter axis, with traces\n",
      " |          and axes visible for both axes. If False, this axis\n",
      " |          does not overlay any same-letter axes. In this case,\n",
      " |          for axes with overlapping domains only the highest-\n",
      " |          numbered axis will be visible.\n",
      " |      position\n",
      " |          Sets the position of this axis in the plotting space\n",
      " |          (in normalized coordinates). Only has an effect if\n",
      " |          `anchor` is set to \"free\".\n",
      " |      range\n",
      " |          Sets the range of this axis. If the axis `type` is\n",
      " |          \"log\", then you must take the log of your desired range\n",
      " |          (e.g. to set the range from 1 to 100, set the range\n",
      " |          from 0 to 2). If the axis `type` is \"date\", it should\n",
      " |          be date strings, like date data, though Date objects\n",
      " |          and unix milliseconds will be accepted and converted to\n",
      " |          strings. If the axis `type` is \"category\", it should be\n",
      " |          numbers, using the scale where each category is\n",
      " |          assigned a serial number from zero in the order it\n",
      " |          appears. Leaving either or both elements `null` impacts\n",
      " |          the default `autorange`.\n",
      " |      rangebreaks\n",
      " |          A tuple of\n",
      " |          :class:`plotly.graph_objects.layout.xaxis.Rangebreak`\n",
      " |          instances or dicts with compatible properties\n",
      " |      rangebreakdefaults\n",
      " |          When used in a template (as\n",
      " |          layout.template.layout.xaxis.rangebreakdefaults), sets\n",
      " |          the default property values to use for elements of\n",
      " |          layout.xaxis.rangebreaks\n",
      " |      rangemode\n",
      " |          If \"normal\", the range is computed in relation to the\n",
      " |          extrema of the input data. If *tozero*`, the range\n",
      " |          extends to 0, regardless of the input data If\n",
      " |          \"nonnegative\", the range is non-negative, regardless of\n",
      " |          the input data. Applies only to linear axes.\n",
      " |      rangeselector\n",
      " |          :class:`plotly.graph_objects.layout.xaxis.Rangeselector\n",
      " |          ` instance or dict with compatible properties\n",
      " |      rangeslider\n",
      " |          :class:`plotly.graph_objects.layout.xaxis.Rangeslider`\n",
      " |          instance or dict with compatible properties\n",
      " |      scaleanchor\n",
      " |          If set to another axis id (e.g. `x2`, `y`), the range\n",
      " |          of this axis changes together with the range of the\n",
      " |          corresponding axis such that the scale of pixels per\n",
      " |          unit is in a constant ratio. Both axes are still\n",
      " |          zoomable, but when you zoom one, the other will zoom\n",
      " |          the same amount, keeping a fixed midpoint. `constrain`\n",
      " |          and `constraintoward` determine how we enforce the\n",
      " |          constraint. You can chain these, ie `yaxis:\n",
      " |          {scaleanchor: *x*}, xaxis2: {scaleanchor: *y*}` but you\n",
      " |          can only link axes of the same `type`. The linked axis\n",
      " |          can have the opposite letter (to constrain the aspect\n",
      " |          ratio) or the same letter (to match scales across\n",
      " |          subplots). Loops (`yaxis: {scaleanchor: *x*}, xaxis:\n",
      " |          {scaleanchor: *y*}` or longer) are redundant and the\n",
      " |          last constraint encountered will be ignored to avoid\n",
      " |          possible inconsistent constraints via `scaleratio`.\n",
      " |          Note that setting axes simultaneously in both a\n",
      " |          `scaleanchor` and a `matches` constraint is currently\n",
      " |          forbidden. Setting `false` allows to remove a default\n",
      " |          constraint (occasionally, you may need to prevent a\n",
      " |          default `scaleanchor` constraint from being applied,\n",
      " |          eg. when having an image trace `yaxis: {scaleanchor:\n",
      " |          \"x\"}` is set automatically in order for pixels to be\n",
      " |          rendered as squares, setting `yaxis: {scaleanchor:\n",
      " |          false}` allows to remove the constraint).\n",
      " |      scaleratio\n",
      " |          If this axis is linked to another by `scaleanchor`,\n",
      " |          this determines the pixel to unit scale ratio. For\n",
      " |          example, if this value is 10, then every unit on this\n",
      " |          axis spans 10 times the number of pixels as a unit on\n",
      " |          the linked axis. Use this for example to create an\n",
      " |          elevation profile where the vertical scale is\n",
      " |          exaggerated a fixed amount with respect to the\n",
      " |          horizontal.\n",
      " |      separatethousands\n",
      " |          If \"true\", even 4-digit integers are separated\n",
      " |      showdividers\n",
      " |          Determines whether or not a dividers are drawn between\n",
      " |          the category levels of this axis. Only has an effect on\n",
      " |          \"multicategory\" axes.\n",
      " |      showexponent\n",
      " |          If \"all\", all exponents are shown besides their\n",
      " |          significands. If \"first\", only the exponent of the\n",
      " |          first tick is shown. If \"last\", only the exponent of\n",
      " |          the last tick is shown. If \"none\", no exponents appear.\n",
      " |      showgrid\n",
      " |          Determines whether or not grid lines are drawn. If\n",
      " |          True, the grid lines are drawn at every tick mark.\n",
      " |      showline\n",
      " |          Determines whether or not a line bounding this axis is\n",
      " |          drawn.\n",
      " |      showspikes\n",
      " |          Determines whether or not spikes (aka droplines) are\n",
      " |          drawn for this axis. Note: This only takes affect when\n",
      " |          hovermode = closest\n",
      " |      showticklabels\n",
      " |          Determines whether or not the tick labels are drawn.\n",
      " |      showtickprefix\n",
      " |          If \"all\", all tick labels are displayed with a prefix.\n",
      " |          If \"first\", only the first tick is displayed with a\n",
      " |          prefix. If \"last\", only the last tick is displayed with\n",
      " |          a suffix. If \"none\", tick prefixes are hidden.\n",
      " |      showticksuffix\n",
      " |          Same as `showtickprefix` but for tick suffixes.\n",
      " |      side\n",
      " |          Determines whether a x (y) axis is positioned at the\n",
      " |          \"bottom\" (\"left\") or \"top\" (\"right\") of the plotting\n",
      " |          area.\n",
      " |      spikecolor\n",
      " |          Sets the spike color. If undefined, will use the series\n",
      " |          color\n",
      " |      spikedash\n",
      " |          Sets the dash style of lines. Set to a dash type string\n",
      " |          (\"solid\", \"dot\", \"dash\", \"longdash\", \"dashdot\", or\n",
      " |          \"longdashdot\") or a dash length list in px (eg\n",
      " |          \"5px,10px,2px,2px\").\n",
      " |      spikemode\n",
      " |          Determines the drawing mode for the spike line If\n",
      " |          \"toaxis\", the line is drawn from the data point to the\n",
      " |          axis the  series is plotted on. If \"across\", the line\n",
      " |          is drawn across the entire plot area, and supercedes\n",
      " |          \"toaxis\". If \"marker\", then a marker dot is drawn on\n",
      " |          the axis the series is plotted on\n",
      " |      spikesnap\n",
      " |          Determines whether spikelines are stuck to the cursor\n",
      " |          or to the closest datapoints.\n",
      " |      spikethickness\n",
      " |          Sets the width (in px) of the zero line.\n",
      " |      tick0\n",
      " |          Sets the placement of the first tick on this axis. Use\n",
      " |          with `dtick`. If the axis `type` is \"log\", then you\n",
      " |          must take the log of your starting tick (e.g. to set\n",
      " |          the starting tick to 100, set the `tick0` to 2) except\n",
      " |          when `dtick`=*L<f>* (see `dtick` for more info). If the\n",
      " |          axis `type` is \"date\", it should be a date string, like\n",
      " |          date data. If the axis `type` is \"category\", it should\n",
      " |          be a number, using the scale where each category is\n",
      " |          assigned a serial number from zero in the order it\n",
      " |          appears.\n",
      " |      tickangle\n",
      " |          Sets the angle of the tick labels with respect to the\n",
      " |          horizontal. For example, a `tickangle` of -90 draws the\n",
      " |          tick labels vertically.\n",
      " |      tickcolor\n",
      " |          Sets the tick color.\n",
      " |      tickfont\n",
      " |          Sets the tick font.\n",
      " |      tickformat\n",
      " |          Sets the tick label formatting rule using d3 formatting\n",
      " |          mini-languages which are very similar to those in\n",
      " |          Python. For numbers, see:\n",
      " |          https://github.com/d3/d3-format/tree/v1.4.5#d3-format.\n",
      " |          And for dates see: https://github.com/d3/d3-time-\n",
      " |          format/tree/v2.2.3#locale_format. We add two items to\n",
      " |          d3's date formatter: \"%h\" for half of the year as a\n",
      " |          decimal number as well as \"%{n}f\" for fractional\n",
      " |          seconds with n digits. For example, *2016-10-13\n",
      " |          09:15:23.456* with tickformat \"%H~%M~%S.%2f\" would\n",
      " |          display \"09~15~23.46\"\n",
      " |      tickformatstops\n",
      " |          A tuple of :class:`plotly.graph_objects.layout.xaxis.Ti\n",
      " |          ckformatstop` instances or dicts with compatible\n",
      " |          properties\n",
      " |      tickformatstopdefaults\n",
      " |          When used in a template (as\n",
      " |          layout.template.layout.xaxis.tickformatstopdefaults),\n",
      " |          sets the default property values to use for elements of\n",
      " |          layout.xaxis.tickformatstops\n",
      " |      ticklabelmode\n",
      " |          Determines where tick labels are drawn with respect to\n",
      " |          their corresponding ticks and grid lines. Only has an\n",
      " |          effect for axes of `type` \"date\" When set to \"period\",\n",
      " |          tick labels are drawn in the middle of the period\n",
      " |          between ticks.\n",
      " |      ticklabeloverflow\n",
      " |          Determines how we handle tick labels that would\n",
      " |          overflow either the graph div or the domain of the\n",
      " |          axis. The default value for inside tick labels is *hide\n",
      " |          past domain*. Otherwise on \"category\" and\n",
      " |          \"multicategory\" axes the default is \"allow\". In other\n",
      " |          cases the default is *hide past div*.\n",
      " |      ticklabelposition\n",
      " |          Determines where tick labels are drawn with respect to\n",
      " |          the axis Please note that top or bottom has no effect\n",
      " |          on x axes or when `ticklabelmode` is set to \"period\".\n",
      " |          Similarly left or right has no effect on y axes or when\n",
      " |          `ticklabelmode` is set to \"period\". Has no effect on\n",
      " |          \"multicategory\" axes or when `tickson` is set to\n",
      " |          \"boundaries\". When used on axes linked by `matches` or\n",
      " |          `scaleanchor`, no extra padding for inside labels would\n",
      " |          be added by autorange, so that the scales could match.\n",
      " |      ticklabelstep\n",
      " |          Sets the spacing between tick labels as compared to the\n",
      " |          spacing between ticks. A value of 1 (default) means\n",
      " |          each tick gets a label. A value of 2 means shows every\n",
      " |          2nd label. A larger value n means only every nth tick\n",
      " |          is labeled. `tick0` determines which labels are shown.\n",
      " |          Not implemented for axes with `type` \"log\" or\n",
      " |          \"multicategory\", or when `tickmode` is \"array\".\n",
      " |      ticklen\n",
      " |          Sets the tick length (in px).\n",
      " |      tickmode\n",
      " |          Sets the tick mode for this axis. If \"auto\", the number\n",
      " |          of ticks is set via `nticks`. If \"linear\", the\n",
      " |          placement of the ticks is determined by a starting\n",
      " |          position `tick0` and a tick step `dtick` (\"linear\" is\n",
      " |          the default value if `tick0` and `dtick` are provided).\n",
      " |          If \"array\", the placement of the ticks is set via\n",
      " |          `tickvals` and the tick text is `ticktext`. (\"array\" is\n",
      " |          the default value if `tickvals` is provided). If\n",
      " |          \"sync\", the number of ticks will sync with the\n",
      " |          overlayed axis set by `overlaying` property.\n",
      " |      tickprefix\n",
      " |          Sets a tick label prefix.\n",
      " |      ticks\n",
      " |          Determines whether ticks are drawn or not. If \"\", this\n",
      " |          axis' ticks are not drawn. If \"outside\" (\"inside\"),\n",
      " |          this axis' are drawn outside (inside) the axis lines.\n",
      " |      tickson\n",
      " |          Determines where ticks and grid lines are drawn with\n",
      " |          respect to their corresponding tick labels. Only has an\n",
      " |          effect for axes of `type` \"category\" or\n",
      " |          \"multicategory\". When set to \"boundaries\", ticks and\n",
      " |          grid lines are drawn half a category to the left/bottom\n",
      " |          of labels.\n",
      " |      ticksuffix\n",
      " |          Sets a tick label suffix.\n",
      " |      ticktext\n",
      " |          Sets the text displayed at the ticks position via\n",
      " |          `tickvals`. Only has an effect if `tickmode` is set to\n",
      " |          \"array\". Used with `tickvals`.\n",
      " |      ticktextsrc\n",
      " |          Sets the source reference on Chart Studio Cloud for\n",
      " |          `ticktext`.\n",
      " |      tickvals\n",
      " |          Sets the values at which ticks on this axis appear.\n",
      " |          Only has an effect if `tickmode` is set to \"array\".\n",
      " |          Used with `ticktext`.\n",
      " |      tickvalssrc\n",
      " |          Sets the source reference on Chart Studio Cloud for\n",
      " |          `tickvals`.\n",
      " |      tickwidth\n",
      " |          Sets the tick width (in px).\n",
      " |      title\n",
      " |          :class:`plotly.graph_objects.layout.xaxis.Title`\n",
      " |          instance or dict with compatible properties\n",
      " |      titlefont\n",
      " |          Deprecated: Please use layout.xaxis.title.font instead.\n",
      " |          Sets this axis' title font. Note that the title's font\n",
      " |          used to be customized by the now deprecated `titlefont`\n",
      " |          attribute.\n",
      " |      type\n",
      " |          Sets the axis type. By default, plotly attempts to\n",
      " |          determined the axis type by looking into the data of\n",
      " |          the traces that referenced the axis in question.\n",
      " |      uirevision\n",
      " |          Controls persistence of user-driven changes in axis\n",
      " |          `range`, `autorange`, and `title` if in `editable:\n",
      " |          true` configuration. Defaults to `layout.uirevision`.\n",
      " |      visible\n",
      " |          A single toggle to hide the axis while preserving\n",
      " |          interaction like dragging. Default is true when a\n",
      " |          cheater plot is present on the axis, otherwise false\n",
      " |      zeroline\n",
      " |          Determines whether or not a line is drawn at along the\n",
      " |          0 value of this axis. If True, the zero line is drawn\n",
      " |          on top of the grid lines.\n",
      " |      zerolinecolor\n",
      " |          Sets the line color of the zero line.\n",
      " |      zerolinewidth\n",
      " |          Sets the width (in px) of the zero line.\n",
      " |      \n",
      " |      Returns\n",
      " |      -------\n",
      " |      XAxis\n",
      " |  \n",
      " |  ----------------------------------------------------------------------\n",
      " |  Data descriptors defined here:\n",
      " |  \n",
      " |  anchor\n",
      " |      If set to an opposite-letter axis id (e.g. `x2`, `y`), this\n",
      " |      axis is bound to the corresponding opposite-letter axis. If set\n",
      " |      to \"free\", this axis' position is determined by `position`.\n",
      " |      \n",
      " |      The 'anchor' property is an enumeration that may be specified as:\n",
      " |        - One of the following enumeration values:\n",
      " |              ['free']\n",
      " |        - A string that matches one of the following regular expressions:\n",
      " |              ['^x([2-9]|[1-9][0-9]+)?( domain)?$',\n",
      " |              '^y([2-9]|[1-9][0-9]+)?( domain)?$']\n",
      " |      \n",
      " |      Returns\n",
      " |      -------\n",
      " |      Any\n",
      " |  \n",
      " |  automargin\n",
      " |      Determines whether long tick labels automatically grow the\n",
      " |      figure margins.\n",
      " |      \n",
      " |      The 'automargin' property is a flaglist and may be specified\n",
      " |      as a string containing:\n",
      " |        - Any combination of ['height', 'width', 'left', 'right', 'top', 'bottom'] joined with '+' characters\n",
      " |          (e.g. 'height+width')\n",
      " |          OR exactly one of [True, False] (e.g. 'False')\n",
      " |      \n",
      " |      Returns\n",
      " |      -------\n",
      " |      Any\n",
      " |  \n",
      " |  autorange\n",
      " |      Determines whether or not the range of this axis is computed in\n",
      " |      relation to the input data. See `rangemode` for more info. If\n",
      " |      `range` is provided and it has a value for both the lower and\n",
      " |      upper bound, `autorange` is set to False. Using \"min\" applies\n",
      " |      autorange only to set the minimum. Using \"max\" applies\n",
      " |      autorange only to set the maximum. Using *min reversed* applies\n",
      " |      autorange only to set the minimum on a reversed axis. Using\n",
      " |      *max reversed* applies autorange only to set the maximum on a\n",
      " |      reversed axis. Using \"reversed\" applies autorange on both ends\n",
      " |      and reverses the axis direction.\n",
      " |      \n",
      " |      The 'autorange' property is an enumeration that may be specified as:\n",
      " |        - One of the following enumeration values:\n",
      " |              [True, False, 'reversed', 'min reversed', 'max reversed',\n",
      " |              'min', 'max']\n",
      " |      \n",
      " |      Returns\n",
      " |      -------\n",
      " |      Any\n",
      " |  \n",
      " |  autorangeoptions\n",
      " |      The 'autorangeoptions' property is an instance of Autorangeoptions\n",
      " |      that may be specified as:\n",
      " |        - An instance of :class:`plotly.graph_objs.layout.xaxis.Autorangeoptions`\n",
      " |        - A dict of string/value properties that will be passed\n",
      " |          to the Autorangeoptions constructor\n",
      " |      \n",
      " |          Supported dict properties:\n",
      " |      \n",
      " |              clipmax\n",
      " |                  Clip autorange maximum if it goes beyond this\n",
      " |                  value. Has no effect when\n",
      " |                  `autorangeoptions.maxallowed` is provided.\n",
      " |              clipmin\n",
      " |                  Clip autorange minimum if it goes beyond this\n",
      " |                  value. Has no effect when\n",
      " |                  `autorangeoptions.minallowed` is provided.\n",
      " |              include\n",
      " |                  Ensure this value is included in autorange.\n",
      " |              includesrc\n",
      " |                  Sets the source reference on Chart Studio Cloud\n",
      " |                  for `include`.\n",
      " |              maxallowed\n",
      " |                  Use this value exactly as autorange maximum.\n",
      " |              minallowed\n",
      " |                  Use this value exactly as autorange minimum.\n",
      " |      \n",
      " |      Returns\n",
      " |      -------\n",
      " |      plotly.graph_objs.layout.xaxis.Autorangeoptions\n",
      " |  \n",
      " |  autotickangles\n",
      " |      When `tickangle` is set to \"auto\", it will be set to the first\n",
      " |      angle in this array that is large enough to prevent label\n",
      " |      overlap.\n",
      " |      \n",
      " |      The 'autotickangles' property is an info array that may be specified as:\n",
      " |      * a list of elements where:\n",
      " |        The 'autotickangles[i]' property is a angle (in degrees) that may be\n",
      " |      specified as a number between -180 and 180.\n",
      " |      Numeric values outside this range are converted to the equivalent value\n",
      " |      (e.g. 270 is converted to -90).\n",
      " |      \n",
      " |      Returns\n",
      " |      -------\n",
      " |      list\n",
      " |  \n",
      " |  autotypenumbers\n",
      " |      Using \"strict\" a numeric string in trace data is not converted\n",
      " |      to a number. Using *convert types* a numeric string in trace\n",
      " |      data may be treated as a number during automatic axis `type`\n",
      " |      detection. Defaults to layout.autotypenumbers.\n",
      " |      \n",
      " |      The 'autotypenumbers' property is an enumeration that may be specified as:\n",
      " |        - One of the following enumeration values:\n",
      " |              ['convert types', 'strict']\n",
      " |      \n",
      " |      Returns\n",
      " |      -------\n",
      " |      Any\n",
      " |  \n",
      " |  calendar\n",
      " |      Sets the calendar system to use for `range` and `tick0` if this\n",
      " |      is a date axis. This does not set the calendar for interpreting\n",
      " |      data on this axis, that's specified in the trace or via the\n",
      " |      global `layout.calendar`\n",
      " |      \n",
      " |      The 'calendar' property is an enumeration that may be specified as:\n",
      " |        - One of the following enumeration values:\n",
      " |              ['chinese', 'coptic', 'discworld', 'ethiopian',\n",
      " |              'gregorian', 'hebrew', 'islamic', 'jalali', 'julian',\n",
      " |              'mayan', 'nanakshahi', 'nepali', 'persian', 'taiwan',\n",
      " |              'thai', 'ummalqura']\n",
      " |      \n",
      " |      Returns\n",
      " |      -------\n",
      " |      Any\n",
      " |  \n",
      " |  categoryarray\n",
      " |      Sets the order in which categories on this axis appear. Only\n",
      " |      has an effect if `categoryorder` is set to \"array\". Used with\n",
      " |      `categoryorder`.\n",
      " |      \n",
      " |      The 'categoryarray' property is an array that may be specified as a tuple,\n",
      " |      list, numpy array, or pandas Series\n",
      " |      \n",
      " |      Returns\n",
      " |      -------\n",
      " |      numpy.ndarray\n",
      " |  \n",
      " |  categoryarraysrc\n",
      " |      Sets the source reference on Chart Studio Cloud for\n",
      " |      `categoryarray`.\n",
      " |      \n",
      " |      The 'categoryarraysrc' property must be specified as a string or\n",
      " |      as a plotly.grid_objs.Column object\n",
      " |      \n",
      " |      Returns\n",
      " |      -------\n",
      " |      str\n",
      " |  \n",
      " |  categoryorder\n",
      " |      Specifies the ordering logic for the case of categorical\n",
      " |      variables. By default, plotly uses \"trace\", which specifies the\n",
      " |      order that is present in the data supplied. Set `categoryorder`\n",
      " |      to *category ascending* or *category descending* if order\n",
      " |      should be determined by the alphanumerical order of the\n",
      " |      category names. Set `categoryorder` to \"array\" to derive the\n",
      " |      ordering from the attribute `categoryarray`. If a category is\n",
      " |      not found in the `categoryarray` array, the sorting behavior\n",
      " |      for that attribute will be identical to the \"trace\" mode. The\n",
      " |      unspecified categories will follow the categories in\n",
      " |      `categoryarray`. Set `categoryorder` to *total ascending* or\n",
      " |      *total descending* if order should be determined by the\n",
      " |      numerical order of the values. Similarly, the order can be\n",
      " |      determined by the min, max, sum, mean or median of all the\n",
      " |      values.\n",
      " |      \n",
      " |      The 'categoryorder' property is an enumeration that may be specified as:\n",
      " |        - One of the following enumeration values:\n",
      " |              ['trace', 'category ascending', 'category descending',\n",
      " |              'array', 'total ascending', 'total descending', 'min\n",
      " |              ascending', 'min descending', 'max ascending', 'max\n",
      " |              descending', 'sum ascending', 'sum descending', 'mean\n",
      " |              ascending', 'mean descending', 'median ascending', 'median\n",
      " |              descending']\n",
      " |      \n",
      " |      Returns\n",
      " |      -------\n",
      " |      Any\n",
      " |  \n",
      " |  color\n",
      " |      Sets default for all colors associated with this axis all at\n",
      " |      once: line, font, tick, and grid colors. Grid color is\n",
      " |      lightened by blending this with the plot background Individual\n",
      " |      pieces can override this.\n",
      " |      \n",
      " |      The 'color' property is a color and may be specified as:\n",
      " |        - A hex string (e.g. '#ff0000')\n",
      " |        - An rgb/rgba string (e.g. 'rgb(255,0,0)')\n",
      " |        - An hsl/hsla string (e.g. 'hsl(0,100%,50%)')\n",
      " |        - An hsv/hsva string (e.g. 'hsv(0,100%,100%)')\n",
      " |        - A named CSS color:\n",
      " |              aliceblue, antiquewhite, aqua, aquamarine, azure,\n",
      " |              beige, bisque, black, blanchedalmond, blue,\n",
      " |              blueviolet, brown, burlywood, cadetblue,\n",
      " |              chartreuse, chocolate, coral, cornflowerblue,\n",
      " |              cornsilk, crimson, cyan, darkblue, darkcyan,\n",
      " |              darkgoldenrod, darkgray, darkgrey, darkgreen,\n",
      " |              darkkhaki, darkmagenta, darkolivegreen, darkorange,\n",
      " |              darkorchid, darkred, darksalmon, darkseagreen,\n",
      " |              darkslateblue, darkslategray, darkslategrey,\n",
      " |              darkturquoise, darkviolet, deeppink, deepskyblue,\n",
      " |              dimgray, dimgrey, dodgerblue, firebrick,\n",
      " |              floralwhite, forestgreen, fuchsia, gainsboro,\n",
      " |              ghostwhite, gold, goldenrod, gray, grey, green,\n",
      " |              greenyellow, honeydew, hotpink, indianred, indigo,\n",
      " |              ivory, khaki, lavender, lavenderblush, lawngreen,\n",
      " |              lemonchiffon, lightblue, lightcoral, lightcyan,\n",
      " |              lightgoldenrodyellow, lightgray, lightgrey,\n",
      " |              lightgreen, lightpink, lightsalmon, lightseagreen,\n",
      " |              lightskyblue, lightslategray, lightslategrey,\n",
      " |              lightsteelblue, lightyellow, lime, limegreen,\n",
      " |              linen, magenta, maroon, mediumaquamarine,\n",
      " |              mediumblue, mediumorchid, mediumpurple,\n",
      " |              mediumseagreen, mediumslateblue, mediumspringgreen,\n",
      " |              mediumturquoise, mediumvioletred, midnightblue,\n",
      " |              mintcream, mistyrose, moccasin, navajowhite, navy,\n",
      " |              oldlace, olive, olivedrab, orange, orangered,\n",
      " |              orchid, palegoldenrod, palegreen, paleturquoise,\n",
      " |              palevioletred, papayawhip, peachpuff, peru, pink,\n",
      " |              plum, powderblue, purple, red, rosybrown,\n",
      " |              royalblue, rebeccapurple, saddlebrown, salmon,\n",
      " |              sandybrown, seagreen, seashell, sienna, silver,\n",
      " |              skyblue, slateblue, slategray, slategrey, snow,\n",
      " |              springgreen, steelblue, tan, teal, thistle, tomato,\n",
      " |              turquoise, violet, wheat, white, whitesmoke,\n",
      " |              yellow, yellowgreen\n",
      " |      \n",
      " |      Returns\n",
      " |      -------\n",
      " |      str\n",
      " |  \n",
      " |  constrain\n",
      " |      If this axis needs to be compressed (either due to its own\n",
      " |      `scaleanchor` and `scaleratio` or those of the other axis),\n",
      " |      determines how that happens: by increasing the \"range\", or by\n",
      " |      decreasing the \"domain\". Default is \"domain\" for axes\n",
      " |      containing image traces, \"range\" otherwise.\n",
      " |      \n",
      " |      The 'constrain' property is an enumeration that may be specified as:\n",
      " |        - One of the following enumeration values:\n",
      " |              ['range', 'domain']\n",
      " |      \n",
      " |      Returns\n",
      " |      -------\n",
      " |      Any\n",
      " |  \n",
      " |  constraintoward\n",
      " |      If this axis needs to be compressed (either due to its own\n",
      " |      `scaleanchor` and `scaleratio` or those of the other axis),\n",
      " |      determines which direction we push the originally specified\n",
      " |      plot area. Options are \"left\", \"center\" (default), and \"right\"\n",
      " |      for x axes, and \"top\", \"middle\" (default), and \"bottom\" for y\n",
      " |      axes.\n",
      " |      \n",
      " |      The 'constraintoward' property is an enumeration that may be specified as:\n",
      " |        - One of the following enumeration values:\n",
      " |              ['left', 'center', 'right', 'top', 'middle', 'bottom']\n",
      " |      \n",
      " |      Returns\n",
      " |      -------\n",
      " |      Any\n",
      " |  \n",
      " |  dividercolor\n",
      " |      Sets the color of the dividers Only has an effect on\n",
      " |      \"multicategory\" axes.\n",
      " |      \n",
      " |      The 'dividercolor' property is a color and may be specified as:\n",
      " |        - A hex string (e.g. '#ff0000')\n",
      " |        - An rgb/rgba string (e.g. 'rgb(255,0,0)')\n",
      " |        - An hsl/hsla string (e.g. 'hsl(0,100%,50%)')\n",
      " |        - An hsv/hsva string (e.g. 'hsv(0,100%,100%)')\n",
      " |        - A named CSS color:\n",
      " |              aliceblue, antiquewhite, aqua, aquamarine, azure,\n",
      " |              beige, bisque, black, blanchedalmond, blue,\n",
      " |              blueviolet, brown, burlywood, cadetblue,\n",
      " |              chartreuse, chocolate, coral, cornflowerblue,\n",
      " |              cornsilk, crimson, cyan, darkblue, darkcyan,\n",
      " |              darkgoldenrod, darkgray, darkgrey, darkgreen,\n",
      " |              darkkhaki, darkmagenta, darkolivegreen, darkorange,\n",
      " |              darkorchid, darkred, darksalmon, darkseagreen,\n",
      " |              darkslateblue, darkslategray, darkslategrey,\n",
      " |              darkturquoise, darkviolet, deeppink, deepskyblue,\n",
      " |              dimgray, dimgrey, dodgerblue, firebrick,\n",
      " |              floralwhite, forestgreen, fuchsia, gainsboro,\n",
      " |              ghostwhite, gold, goldenrod, gray, grey, green,\n",
      " |              greenyellow, honeydew, hotpink, indianred, indigo,\n",
      " |              ivory, khaki, lavender, lavenderblush, lawngreen,\n",
      " |              lemonchiffon, lightblue, lightcoral, lightcyan,\n",
      " |              lightgoldenrodyellow, lightgray, lightgrey,\n",
      " |              lightgreen, lightpink, lightsalmon, lightseagreen,\n",
      " |              lightskyblue, lightslategray, lightslategrey,\n",
      " |              lightsteelblue, lightyellow, lime, limegreen,\n",
      " |              linen, magenta, maroon, mediumaquamarine,\n",
      " |              mediumblue, mediumorchid, mediumpurple,\n",
      " |              mediumseagreen, mediumslateblue, mediumspringgreen,\n",
      " |              mediumturquoise, mediumvioletred, midnightblue,\n",
      " |              mintcream, mistyrose, moccasin, navajowhite, navy,\n",
      " |              oldlace, olive, olivedrab, orange, orangered,\n",
      " |              orchid, palegoldenrod, palegreen, paleturquoise,\n",
      " |              palevioletred, papayawhip, peachpuff, peru, pink,\n",
      " |              plum, powderblue, purple, red, rosybrown,\n",
      " |              royalblue, rebeccapurple, saddlebrown, salmon,\n",
      " |              sandybrown, seagreen, seashell, sienna, silver,\n",
      " |              skyblue, slateblue, slategray, slategrey, snow,\n",
      " |              springgreen, steelblue, tan, teal, thistle, tomato,\n",
      " |              turquoise, violet, wheat, white, whitesmoke,\n",
      " |              yellow, yellowgreen\n",
      " |      \n",
      " |      Returns\n",
      " |      -------\n",
      " |      str\n",
      " |  \n",
      " |  dividerwidth\n",
      " |      Sets the width (in px) of the dividers Only has an effect on\n",
      " |      \"multicategory\" axes.\n",
      " |      \n",
      " |      The 'dividerwidth' property is a number and may be specified as:\n",
      " |        - An int or float\n",
      " |      \n",
      " |      Returns\n",
      " |      -------\n",
      " |      int|float\n",
      " |  \n",
      " |  domain\n",
      " |          Sets the domain of this axis (in plot fraction).\n",
      " |      \n",
      " |          The 'domain' property is an info array that may be specified as:\n",
      " |      \n",
      " |          * a list or tuple of 2 elements where:\n",
      " |      (0) The 'domain[0]' property is a number and may be specified as:\n",
      " |            - An int or float in the interval [0, 1]\n",
      " |      (1) The 'domain[1]' property is a number and may be specified as:\n",
      " |            - An int or float in the interval [0, 1]\n",
      " |      \n",
      " |          Returns\n",
      " |          -------\n",
      " |          list\n",
      " |  \n",
      " |  dtick\n",
      " |      Sets the step in-between ticks on this axis. Use with `tick0`.\n",
      " |      Must be a positive number, or special strings available to\n",
      " |      \"log\" and \"date\" axes. If the axis `type` is \"log\", then ticks\n",
      " |      are set every 10^(n*dtick) where n is the tick number. For\n",
      " |      example, to set a tick mark at 1, 10, 100, 1000, ... set dtick\n",
      " |      to 1. To set tick marks at 1, 100, 10000, ... set dtick to 2.\n",
      " |      To set tick marks at 1, 5, 25, 125, 625, 3125, ... set dtick to\n",
      " |      log_10(5), or 0.69897000433. \"log\" has several special values;\n",
      " |      \"L<f>\", where `f` is a positive number, gives ticks linearly\n",
      " |      spaced in value (but not position). For example `tick0` = 0.1,\n",
      " |      `dtick` = \"L0.5\" will put ticks at 0.1, 0.6, 1.1, 1.6 etc. To\n",
      " |      show powers of 10 plus small digits between, use \"D1\" (all\n",
      " |      digits) or \"D2\" (only 2 and 5). `tick0` is ignored for \"D1\" and\n",
      " |      \"D2\". If the axis `type` is \"date\", then you must convert the\n",
      " |      time to milliseconds. For example, to set the interval between\n",
      " |      ticks to one day, set `dtick` to 86400000.0. \"date\" also has\n",
      " |      special values \"M<n>\" gives ticks spaced by a number of months.\n",
      " |      `n` must be a positive integer. To set ticks on the 15th of\n",
      " |      every third month, set `tick0` to \"2000-01-15\" and `dtick` to\n",
      " |      \"M3\". To set ticks every 4 years, set `dtick` to \"M48\"\n",
      " |      \n",
      " |      The 'dtick' property accepts values of any type\n",
      " |      \n",
      " |      Returns\n",
      " |      -------\n",
      " |      Any\n",
      " |  \n",
      " |  exponentformat\n",
      " |      Determines a formatting rule for the tick exponents. For\n",
      " |      example, consider the number 1,000,000,000. If \"none\", it\n",
      " |      appears as 1,000,000,000. If \"e\", 1e+9. If \"E\", 1E+9. If\n",
      " |      \"power\", 1x10^9 (with 9 in a super script). If \"SI\", 1G. If\n",
      " |      \"B\", 1B.\n",
      " |      \n",
      " |      The 'exponentformat' property is an enumeration that may be specified as:\n",
      " |        - One of the following enumeration values:\n",
      " |              ['none', 'e', 'E', 'power', 'SI', 'B']\n",
      " |      \n",
      " |      Returns\n",
      " |      -------\n",
      " |      Any\n",
      " |  \n",
      " |  fixedrange\n",
      " |      Determines whether or not this axis is zoom-able. If true, then\n",
      " |      zoom is disabled.\n",
      " |      \n",
      " |      The 'fixedrange' property must be specified as a bool\n",
      " |      (either True, or False)\n",
      " |      \n",
      " |      Returns\n",
      " |      -------\n",
      " |      bool\n",
      " |  \n",
      " |  gridcolor\n",
      " |      Sets the color of the grid lines.\n",
      " |      \n",
      " |      The 'gridcolor' property is a color and may be specified as:\n",
      " |        - A hex string (e.g. '#ff0000')\n",
      " |        - An rgb/rgba string (e.g. 'rgb(255,0,0)')\n",
      " |        - An hsl/hsla string (e.g. 'hsl(0,100%,50%)')\n",
      " |        - An hsv/hsva string (e.g. 'hsv(0,100%,100%)')\n",
      " |        - A named CSS color:\n",
      " |              aliceblue, antiquewhite, aqua, aquamarine, azure,\n",
      " |              beige, bisque, black, blanchedalmond, blue,\n",
      " |              blueviolet, brown, burlywood, cadetblue,\n",
      " |              chartreuse, chocolate, coral, cornflowerblue,\n",
      " |              cornsilk, crimson, cyan, darkblue, darkcyan,\n",
      " |              darkgoldenrod, darkgray, darkgrey, darkgreen,\n",
      " |              darkkhaki, darkmagenta, darkolivegreen, darkorange,\n",
      " |              darkorchid, darkred, darksalmon, darkseagreen,\n",
      " |              darkslateblue, darkslategray, darkslategrey,\n",
      " |              darkturquoise, darkviolet, deeppink, deepskyblue,\n",
      " |              dimgray, dimgrey, dodgerblue, firebrick,\n",
      " |              floralwhite, forestgreen, fuchsia, gainsboro,\n",
      " |              ghostwhite, gold, goldenrod, gray, grey, green,\n",
      " |              greenyellow, honeydew, hotpink, indianred, indigo,\n",
      " |              ivory, khaki, lavender, lavenderblush, lawngreen,\n",
      " |              lemonchiffon, lightblue, lightcoral, lightcyan,\n",
      " |              lightgoldenrodyellow, lightgray, lightgrey,\n",
      " |              lightgreen, lightpink, lightsalmon, lightseagreen,\n",
      " |              lightskyblue, lightslategray, lightslategrey,\n",
      " |              lightsteelblue, lightyellow, lime, limegreen,\n",
      " |              linen, magenta, maroon, mediumaquamarine,\n",
      " |              mediumblue, mediumorchid, mediumpurple,\n",
      " |              mediumseagreen, mediumslateblue, mediumspringgreen,\n",
      " |              mediumturquoise, mediumvioletred, midnightblue,\n",
      " |              mintcream, mistyrose, moccasin, navajowhite, navy,\n",
      " |              oldlace, olive, olivedrab, orange, orangered,\n",
      " |              orchid, palegoldenrod, palegreen, paleturquoise,\n",
      " |              palevioletred, papayawhip, peachpuff, peru, pink,\n",
      " |              plum, powderblue, purple, red, rosybrown,\n",
      " |              royalblue, rebeccapurple, saddlebrown, salmon,\n",
      " |              sandybrown, seagreen, seashell, sienna, silver,\n",
      " |              skyblue, slateblue, slategray, slategrey, snow,\n",
      " |              springgreen, steelblue, tan, teal, thistle, tomato,\n",
      " |              turquoise, violet, wheat, white, whitesmoke,\n",
      " |              yellow, yellowgreen\n",
      " |      \n",
      " |      Returns\n",
      " |      -------\n",
      " |      str\n",
      " |  \n",
      " |  griddash\n",
      " |      Sets the dash style of lines. Set to a dash type string\n",
      " |      (\"solid\", \"dot\", \"dash\", \"longdash\", \"dashdot\", or\n",
      " |      \"longdashdot\") or a dash length list in px (eg\n",
      " |      \"5px,10px,2px,2px\").\n",
      " |      \n",
      " |      The 'griddash' property is an enumeration that may be specified as:\n",
      " |        - One of the following dash styles:\n",
      " |              ['solid', 'dot', 'dash', 'longdash', 'dashdot', 'longdashdot']\n",
      " |        - A string containing a dash length list in pixels or percentages\n",
      " |              (e.g. '5px 10px 2px 2px', '5, 10, 2, 2', '10% 20% 40%', etc.)\n",
      " |      \n",
      " |      Returns\n",
      " |      -------\n",
      " |      str\n",
      " |  \n",
      " |  gridwidth\n",
      " |      Sets the width (in px) of the grid lines.\n",
      " |      \n",
      " |      The 'gridwidth' property is a number and may be specified as:\n",
      " |        - An int or float in the interval [0, inf]\n",
      " |      \n",
      " |      Returns\n",
      " |      -------\n",
      " |      int|float\n",
      " |  \n",
      " |  hoverformat\n",
      " |      Sets the hover text formatting rule using d3 formatting mini-\n",
      " |      languages which are very similar to those in Python. For\n",
      " |      numbers, see:\n",
      " |      https://github.com/d3/d3-format/tree/v1.4.5#d3-format. And for\n",
      " |      dates see: https://github.com/d3/d3-time-\n",
      " |      format/tree/v2.2.3#locale_format. We add two items to d3's date\n",
      " |      formatter: \"%h\" for half of the year as a decimal number as\n",
      " |      well as \"%{n}f\" for fractional seconds with n digits. For\n",
      " |      example, *2016-10-13 09:15:23.456* with tickformat\n",
      " |      \"%H~%M~%S.%2f\" would display \"09~15~23.46\"\n",
      " |      \n",
      " |      The 'hoverformat' property is a string and must be specified as:\n",
      " |        - A string\n",
      " |        - A number that will be converted to a string\n",
      " |      \n",
      " |      Returns\n",
      " |      -------\n",
      " |      str\n",
      " |  \n",
      " |  insiderange\n",
      " |          Could be used to set the desired inside range of this axis\n",
      " |          (excluding the labels) when `ticklabelposition` of the anchored\n",
      " |          axis has \"inside\". Not implemented for axes with `type` \"log\".\n",
      " |          This would be ignored when `range` is provided.\n",
      " |      \n",
      " |          The 'insiderange' property is an info array that may be specified as:\n",
      " |      \n",
      " |          * a list or tuple of 2 elements where:\n",
      " |      (0) The 'insiderange[0]' property accepts values of any type\n",
      " |      (1) The 'insiderange[1]' property accepts values of any type\n",
      " |      \n",
      " |          Returns\n",
      " |          -------\n",
      " |          list\n",
      " |  \n",
      " |  labelalias\n",
      " |      Replacement text for specific tick or hover labels. For example\n",
      " |      using {US: 'USA', CA: 'Canada'} changes US to USA and CA to\n",
      " |      Canada. The labels we would have shown must match the keys\n",
      " |      exactly, after adding any tickprefix or ticksuffix. For\n",
      " |      negative numbers the minus sign symbol used (U+2212) is wider\n",
      " |      than the regular ascii dash. That means you need to use −1\n",
      " |      instead of -1. labelalias can be used with any axis type, and\n",
      " |      both keys (if needed) and values (if desired) can include html-\n",
      " |      like tags or MathJax.\n",
      " |      \n",
      " |      The 'labelalias' property accepts values of any type\n",
      " |      \n",
      " |      Returns\n",
      " |      -------\n",
      " |      Any\n",
      " |  \n",
      " |  layer\n",
      " |      Sets the layer on which this axis is displayed. If *above\n",
      " |      traces*, this axis is displayed above all the subplot's traces\n",
      " |      If *below traces*, this axis is displayed below all the\n",
      " |      subplot's traces, but above the grid lines. Useful when used\n",
      " |      together with scatter-like traces with `cliponaxis` set to\n",
      " |      False to show markers and/or text nodes above this axis.\n",
      " |      \n",
      " |      The 'layer' property is an enumeration that may be specified as:\n",
      " |        - One of the following enumeration values:\n",
      " |              ['above traces', 'below traces']\n",
      " |      \n",
      " |      Returns\n",
      " |      -------\n",
      " |      Any\n",
      " |  \n",
      " |  linecolor\n",
      " |      Sets the axis line color.\n",
      " |      \n",
      " |      The 'linecolor' property is a color and may be specified as:\n",
      " |        - A hex string (e.g. '#ff0000')\n",
      " |        - An rgb/rgba string (e.g. 'rgb(255,0,0)')\n",
      " |        - An hsl/hsla string (e.g. 'hsl(0,100%,50%)')\n",
      " |        - An hsv/hsva string (e.g. 'hsv(0,100%,100%)')\n",
      " |        - A named CSS color:\n",
      " |              aliceblue, antiquewhite, aqua, aquamarine, azure,\n",
      " |              beige, bisque, black, blanchedalmond, blue,\n",
      " |              blueviolet, brown, burlywood, cadetblue,\n",
      " |              chartreuse, chocolate, coral, cornflowerblue,\n",
      " |              cornsilk, crimson, cyan, darkblue, darkcyan,\n",
      " |              darkgoldenrod, darkgray, darkgrey, darkgreen,\n",
      " |              darkkhaki, darkmagenta, darkolivegreen, darkorange,\n",
      " |              darkorchid, darkred, darksalmon, darkseagreen,\n",
      " |              darkslateblue, darkslategray, darkslategrey,\n",
      " |              darkturquoise, darkviolet, deeppink, deepskyblue,\n",
      " |              dimgray, dimgrey, dodgerblue, firebrick,\n",
      " |              floralwhite, forestgreen, fuchsia, gainsboro,\n",
      " |              ghostwhite, gold, goldenrod, gray, grey, green,\n",
      " |              greenyellow, honeydew, hotpink, indianred, indigo,\n",
      " |              ivory, khaki, lavender, lavenderblush, lawngreen,\n",
      " |              lemonchiffon, lightblue, lightcoral, lightcyan,\n",
      " |              lightgoldenrodyellow, lightgray, lightgrey,\n",
      " |              lightgreen, lightpink, lightsalmon, lightseagreen,\n",
      " |              lightskyblue, lightslategray, lightslategrey,\n",
      " |              lightsteelblue, lightyellow, lime, limegreen,\n",
      " |              linen, magenta, maroon, mediumaquamarine,\n",
      " |              mediumblue, mediumorchid, mediumpurple,\n",
      " |              mediumseagreen, mediumslateblue, mediumspringgreen,\n",
      " |              mediumturquoise, mediumvioletred, midnightblue,\n",
      " |              mintcream, mistyrose, moccasin, navajowhite, navy,\n",
      " |              oldlace, olive, olivedrab, orange, orangered,\n",
      " |              orchid, palegoldenrod, palegreen, paleturquoise,\n",
      " |              palevioletred, papayawhip, peachpuff, peru, pink,\n",
      " |              plum, powderblue, purple, red, rosybrown,\n",
      " |              royalblue, rebeccapurple, saddlebrown, salmon,\n",
      " |              sandybrown, seagreen, seashell, sienna, silver,\n",
      " |              skyblue, slateblue, slategray, slategrey, snow,\n",
      " |              springgreen, steelblue, tan, teal, thistle, tomato,\n",
      " |              turquoise, violet, wheat, white, whitesmoke,\n",
      " |              yellow, yellowgreen\n",
      " |      \n",
      " |      Returns\n",
      " |      -------\n",
      " |      str\n",
      " |  \n",
      " |  linewidth\n",
      " |      Sets the width (in px) of the axis line.\n",
      " |      \n",
      " |      The 'linewidth' property is a number and may be specified as:\n",
      " |        - An int or float in the interval [0, inf]\n",
      " |      \n",
      " |      Returns\n",
      " |      -------\n",
      " |      int|float\n",
      " |  \n",
      " |  matches\n",
      " |      If set to another axis id (e.g. `x2`, `y`), the range of this\n",
      " |      axis will match the range of the corresponding axis in data-\n",
      " |      coordinates space. Moreover, matching axes share auto-range\n",
      " |      values, category lists and histogram auto-bins. Note that\n",
      " |      setting axes simultaneously in both a `scaleanchor` and a\n",
      " |      `matches` constraint is currently forbidden. Moreover, note\n",
      " |      that matching axes must have the same `type`.\n",
      " |      \n",
      " |      The 'matches' property is an enumeration that may be specified as:\n",
      " |        - A string that matches one of the following regular expressions:\n",
      " |              ['^x([2-9]|[1-9][0-9]+)?( domain)?$',\n",
      " |              '^y([2-9]|[1-9][0-9]+)?( domain)?$']\n",
      " |      \n",
      " |      Returns\n",
      " |      -------\n",
      " |      Any\n",
      " |  \n",
      " |  maxallowed\n",
      " |      Determines the maximum range of this axis.\n",
      " |      \n",
      " |      The 'maxallowed' property accepts values of any type\n",
      " |      \n",
      " |      Returns\n",
      " |      -------\n",
      " |      Any\n",
      " |  \n",
      " |  minallowed\n",
      " |      Determines the minimum range of this axis.\n",
      " |      \n",
      " |      The 'minallowed' property accepts values of any type\n",
      " |      \n",
      " |      Returns\n",
      " |      -------\n",
      " |      Any\n",
      " |  \n",
      " |  minexponent\n",
      " |      Hide SI prefix for 10^n if |n| is below this number. This only\n",
      " |      has an effect when `tickformat` is \"SI\" or \"B\".\n",
      " |      \n",
      " |      The 'minexponent' property is a number and may be specified as:\n",
      " |        - An int or float in the interval [0, inf]\n",
      " |      \n",
      " |      Returns\n",
      " |      -------\n",
      " |      int|float\n",
      " |  \n",
      " |  minor\n",
      " |      The 'minor' property is an instance of Minor\n",
      " |      that may be specified as:\n",
      " |        - An instance of :class:`plotly.graph_objs.layout.xaxis.Minor`\n",
      " |        - A dict of string/value properties that will be passed\n",
      " |          to the Minor constructor\n",
      " |      \n",
      " |          Supported dict properties:\n",
      " |      \n",
      " |              dtick\n",
      " |                  Sets the step in-between ticks on this axis.\n",
      " |                  Use with `tick0`. Must be a positive number, or\n",
      " |                  special strings available to \"log\" and \"date\"\n",
      " |                  axes. If the axis `type` is \"log\", then ticks\n",
      " |                  are set every 10^(n*dtick) where n is the tick\n",
      " |                  number. For example, to set a tick mark at 1,\n",
      " |                  10, 100, 1000, ... set dtick to 1. To set tick\n",
      " |                  marks at 1, 100, 10000, ... set dtick to 2. To\n",
      " |                  set tick marks at 1, 5, 25, 125, 625, 3125, ...\n",
      " |                  set dtick to log_10(5), or 0.69897000433. \"log\"\n",
      " |                  has several special values; \"L<f>\", where `f`\n",
      " |                  is a positive number, gives ticks linearly\n",
      " |                  spaced in value (but not position). For example\n",
      " |                  `tick0` = 0.1, `dtick` = \"L0.5\" will put ticks\n",
      " |                  at 0.1, 0.6, 1.1, 1.6 etc. To show powers of 10\n",
      " |                  plus small digits between, use \"D1\" (all\n",
      " |                  digits) or \"D2\" (only 2 and 5). `tick0` is\n",
      " |                  ignored for \"D1\" and \"D2\". If the axis `type`\n",
      " |                  is \"date\", then you must convert the time to\n",
      " |                  milliseconds. For example, to set the interval\n",
      " |                  between ticks to one day, set `dtick` to\n",
      " |                  86400000.0. \"date\" also has special values\n",
      " |                  \"M<n>\" gives ticks spaced by a number of\n",
      " |                  months. `n` must be a positive integer. To set\n",
      " |                  ticks on the 15th of every third month, set\n",
      " |                  `tick0` to \"2000-01-15\" and `dtick` to \"M3\". To\n",
      " |                  set ticks every 4 years, set `dtick` to \"M48\"\n",
      " |              gridcolor\n",
      " |                  Sets the color of the grid lines.\n",
      " |              griddash\n",
      " |                  Sets the dash style of lines. Set to a dash\n",
      " |                  type string (\"solid\", \"dot\", \"dash\",\n",
      " |                  \"longdash\", \"dashdot\", or \"longdashdot\") or a\n",
      " |                  dash length list in px (eg \"5px,10px,2px,2px\").\n",
      " |              gridwidth\n",
      " |                  Sets the width (in px) of the grid lines.\n",
      " |              nticks\n",
      " |                  Specifies the maximum number of ticks for the\n",
      " |                  particular axis. The actual number of ticks\n",
      " |                  will be chosen automatically to be less than or\n",
      " |                  equal to `nticks`. Has an effect only if\n",
      " |                  `tickmode` is set to \"auto\".\n",
      " |              showgrid\n",
      " |                  Determines whether or not grid lines are drawn.\n",
      " |                  If True, the grid lines are drawn at every tick\n",
      " |                  mark.\n",
      " |              tick0\n",
      " |                  Sets the placement of the first tick on this\n",
      " |                  axis. Use with `dtick`. If the axis `type` is\n",
      " |                  \"log\", then you must take the log of your\n",
      " |                  starting tick (e.g. to set the starting tick to\n",
      " |                  100, set the `tick0` to 2) except when\n",
      " |                  `dtick`=*L<f>* (see `dtick` for more info). If\n",
      " |                  the axis `type` is \"date\", it should be a date\n",
      " |                  string, like date data. If the axis `type` is\n",
      " |                  \"category\", it should be a number, using the\n",
      " |                  scale where each category is assigned a serial\n",
      " |                  number from zero in the order it appears.\n",
      " |              tickcolor\n",
      " |                  Sets the tick color.\n",
      " |              ticklen\n",
      " |                  Sets the tick length (in px).\n",
      " |              tickmode\n",
      " |                  Sets the tick mode for this axis. If \"auto\",\n",
      " |                  the number of ticks is set via `nticks`. If\n",
      " |                  \"linear\", the placement of the ticks is\n",
      " |                  determined by a starting position `tick0` and a\n",
      " |                  tick step `dtick` (\"linear\" is the default\n",
      " |                  value if `tick0` and `dtick` are provided). If\n",
      " |                  \"array\", the placement of the ticks is set via\n",
      " |                  `tickvals` and the tick text is `ticktext`.\n",
      " |                  (\"array\" is the default value if `tickvals` is\n",
      " |                  provided).\n",
      " |              ticks\n",
      " |                  Determines whether ticks are drawn or not. If\n",
      " |                  \"\", this axis' ticks are not drawn. If\n",
      " |                  \"outside\" (\"inside\"), this axis' are drawn\n",
      " |                  outside (inside) the axis lines.\n",
      " |              tickvals\n",
      " |                  Sets the values at which ticks on this axis\n",
      " |                  appear. Only has an effect if `tickmode` is set\n",
      " |                  to \"array\". Used with `ticktext`.\n",
      " |              tickvalssrc\n",
      " |                  Sets the source reference on Chart Studio Cloud\n",
      " |                  for `tickvals`.\n",
      " |              tickwidth\n",
      " |                  Sets the tick width (in px).\n",
      " |      \n",
      " |      Returns\n",
      " |      -------\n",
      " |      plotly.graph_objs.layout.xaxis.Minor\n",
      " |  \n",
      " |  mirror\n",
      " |      Determines if the axis lines or/and ticks are mirrored to the\n",
      " |      opposite side of the plotting area. If True, the axis lines are\n",
      " |      mirrored. If \"ticks\", the axis lines and ticks are mirrored. If\n",
      " |      False, mirroring is disable. If \"all\", axis lines are mirrored\n",
      " |      on all shared-axes subplots. If \"allticks\", axis lines and\n",
      " |      ticks are mirrored on all shared-axes subplots.\n",
      " |      \n",
      " |      The 'mirror' property is an enumeration that may be specified as:\n",
      " |        - One of the following enumeration values:\n",
      " |              [True, 'ticks', False, 'all', 'allticks']\n",
      " |      \n",
      " |      Returns\n",
      " |      -------\n",
      " |      Any\n",
      " |  \n",
      " |  nticks\n",
      " |      Specifies the maximum number of ticks for the particular axis.\n",
      " |      The actual number of ticks will be chosen automatically to be\n",
      " |      less than or equal to `nticks`. Has an effect only if\n",
      " |      `tickmode` is set to \"auto\".\n",
      " |      \n",
      " |      The 'nticks' property is a integer and may be specified as:\n",
      " |        - An int (or float that will be cast to an int)\n",
      " |          in the interval [0, 9223372036854775807]\n",
      " |      \n",
      " |      Returns\n",
      " |      -------\n",
      " |      int\n",
      " |  \n",
      " |  overlaying\n",
      " |      If set a same-letter axis id, this axis is overlaid on top of\n",
      " |      the corresponding same-letter axis, with traces and axes\n",
      " |      visible for both axes. If False, this axis does not overlay any\n",
      " |      same-letter axes. In this case, for axes with overlapping\n",
      " |      domains only the highest-numbered axis will be visible.\n",
      " |      \n",
      " |      The 'overlaying' property is an enumeration that may be specified as:\n",
      " |        - One of the following enumeration values:\n",
      " |              ['free']\n",
      " |        - A string that matches one of the following regular expressions:\n",
      " |              ['^x([2-9]|[1-9][0-9]+)?( domain)?$',\n",
      " |              '^y([2-9]|[1-9][0-9]+)?( domain)?$']\n",
      " |      \n",
      " |      Returns\n",
      " |      -------\n",
      " |      Any\n",
      " |  \n",
      " |  position\n",
      " |      Sets the position of this axis in the plotting space (in\n",
      " |      normalized coordinates). Only has an effect if `anchor` is set\n",
      " |      to \"free\".\n",
      " |      \n",
      " |      The 'position' property is a number and may be specified as:\n",
      " |        - An int or float in the interval [0, 1]\n",
      " |      \n",
      " |      Returns\n",
      " |      -------\n",
      " |      int|float\n",
      " |  \n",
      " |  range\n",
      " |          Sets the range of this axis. If the axis `type` is \"log\", then\n",
      " |          you must take the log of your desired range (e.g. to set the\n",
      " |          range from 1 to 100, set the range from 0 to 2). If the axis\n",
      " |          `type` is \"date\", it should be date strings, like date data,\n",
      " |          though Date objects and unix milliseconds will be accepted and\n",
      " |          converted to strings. If the axis `type` is \"category\", it\n",
      " |          should be numbers, using the scale where each category is\n",
      " |          assigned a serial number from zero in the order it appears.\n",
      " |          Leaving either or both elements `null` impacts the default\n",
      " |          `autorange`.\n",
      " |      \n",
      " |          The 'range' property is an info array that may be specified as:\n",
      " |      \n",
      " |          * a list or tuple of 2 elements where:\n",
      " |      (0) The 'range[0]' property accepts values of any type\n",
      " |      (1) The 'range[1]' property accepts values of any type\n",
      " |      \n",
      " |          Returns\n",
      " |          -------\n",
      " |          list\n",
      " |  \n",
      " |  rangebreakdefaults\n",
      " |      When used in a template (as\n",
      " |      layout.template.layout.xaxis.rangebreakdefaults), sets the\n",
      " |      default property values to use for elements of\n",
      " |      layout.xaxis.rangebreaks\n",
      " |      \n",
      " |      The 'rangebreakdefaults' property is an instance of Rangebreak\n",
      " |      that may be specified as:\n",
      " |        - An instance of :class:`plotly.graph_objs.layout.xaxis.Rangebreak`\n",
      " |        - A dict of string/value properties that will be passed\n",
      " |          to the Rangebreak constructor\n",
      " |      \n",
      " |          Supported dict properties:\n",
      " |      \n",
      " |      Returns\n",
      " |      -------\n",
      " |      plotly.graph_objs.layout.xaxis.Rangebreak\n",
      " |  \n",
      " |  rangebreaks\n",
      " |      The 'rangebreaks' property is a tuple of instances of\n",
      " |      Rangebreak that may be specified as:\n",
      " |        - A list or tuple of instances of plotly.graph_objs.layout.xaxis.Rangebreak\n",
      " |        - A list or tuple of dicts of string/value properties that\n",
      " |          will be passed to the Rangebreak constructor\n",
      " |      \n",
      " |          Supported dict properties:\n",
      " |      \n",
      " |              bounds\n",
      " |                  Sets the lower and upper bounds of this axis\n",
      " |                  rangebreak. Can be used with `pattern`.\n",
      " |              dvalue\n",
      " |                  Sets the size of each `values` item. The\n",
      " |                  default is one day in milliseconds.\n",
      " |              enabled\n",
      " |                  Determines whether this axis rangebreak is\n",
      " |                  enabled or disabled. Please note that\n",
      " |                  `rangebreaks` only work for \"date\" axis type.\n",
      " |              name\n",
      " |                  When used in a template, named items are\n",
      " |                  created in the output figure in addition to any\n",
      " |                  items the figure already has in this array. You\n",
      " |                  can modify these items in the output figure by\n",
      " |                  making your own item with `templateitemname`\n",
      " |                  matching this `name` alongside your\n",
      " |                  modifications (including `visible: false` or\n",
      " |                  `enabled: false` to hide it). Has no effect\n",
      " |                  outside of a template.\n",
      " |              pattern\n",
      " |                  Determines a pattern on the time line that\n",
      " |                  generates breaks. If *day of week* - days of\n",
      " |                  the week in English e.g. 'Sunday' or `sun`\n",
      " |                  (matching is case-insensitive and considers\n",
      " |                  only the first three characters), as well as\n",
      " |                  Sunday-based integers between 0 and 6. If\n",
      " |                  \"hour\" - hour (24-hour clock) as decimal\n",
      " |                  numbers between 0 and 24. for more info.\n",
      " |                  Examples: - { pattern: 'day of week', bounds:\n",
      " |                  [6, 1] }  or simply { bounds: ['sat', 'mon'] }\n",
      " |                  breaks from Saturday to Monday (i.e. skips the\n",
      " |                  weekends). - { pattern: 'hour', bounds: [17, 8]\n",
      " |                  }   breaks from 5pm to 8am (i.e. skips non-work\n",
      " |                  hours).\n",
      " |              templateitemname\n",
      " |                  Used to refer to a named item in this array in\n",
      " |                  the template. Named items from the template\n",
      " |                  will be created even without a matching item in\n",
      " |                  the input figure, but you can modify one by\n",
      " |                  making an item with `templateitemname` matching\n",
      " |                  its `name`, alongside your modifications\n",
      " |                  (including `visible: false` or `enabled: false`\n",
      " |                  to hide it). If there is no template or no\n",
      " |                  matching item, this item will be hidden unless\n",
      " |                  you explicitly show it with `visible: true`.\n",
      " |              values\n",
      " |                  Sets the coordinate values corresponding to the\n",
      " |                  rangebreaks. An alternative to `bounds`. Use\n",
      " |                  `dvalue` to set the size of the values along\n",
      " |                  the axis.\n",
      " |      \n",
      " |      Returns\n",
      " |      -------\n",
      " |      tuple[plotly.graph_objs.layout.xaxis.Rangebreak]\n",
      " |  \n",
      " |  rangemode\n",
      " |      If \"normal\", the range is computed in relation to the extrema\n",
      " |      of the input data. If *tozero*`, the range extends to 0,\n",
      " |      regardless of the input data If \"nonnegative\", the range is\n",
      " |      non-negative, regardless of the input data. Applies only to\n",
      " |      linear axes.\n",
      " |      \n",
      " |      The 'rangemode' property is an enumeration that may be specified as:\n",
      " |        - One of the following enumeration values:\n",
      " |              ['normal', 'tozero', 'nonnegative']\n",
      " |      \n",
      " |      Returns\n",
      " |      -------\n",
      " |      Any\n",
      " |  \n",
      " |  rangeselector\n",
      " |      The 'rangeselector' property is an instance of Rangeselector\n",
      " |      that may be specified as:\n",
      " |        - An instance of :class:`plotly.graph_objs.layout.xaxis.Rangeselector`\n",
      " |        - A dict of string/value properties that will be passed\n",
      " |          to the Rangeselector constructor\n",
      " |      \n",
      " |          Supported dict properties:\n",
      " |      \n",
      " |              activecolor\n",
      " |                  Sets the background color of the active range\n",
      " |                  selector button.\n",
      " |              bgcolor\n",
      " |                  Sets the background color of the range selector\n",
      " |                  buttons.\n",
      " |              bordercolor\n",
      " |                  Sets the color of the border enclosing the\n",
      " |                  range selector.\n",
      " |              borderwidth\n",
      " |                  Sets the width (in px) of the border enclosing\n",
      " |                  the range selector.\n",
      " |              buttons\n",
      " |                  Sets the specifications for each buttons. By\n",
      " |                  default, a range selector comes with no\n",
      " |                  buttons.\n",
      " |              buttondefaults\n",
      " |                  When used in a template (as layout.template.lay\n",
      " |                  out.xaxis.rangeselector.buttondefaults), sets\n",
      " |                  the default property values to use for elements\n",
      " |                  of layout.xaxis.rangeselector.buttons\n",
      " |              font\n",
      " |                  Sets the font of the range selector button\n",
      " |                  text.\n",
      " |              visible\n",
      " |                  Determines whether or not this range selector\n",
      " |                  is visible. Note that range selectors are only\n",
      " |                  available for x axes of `type` set to or auto-\n",
      " |                  typed to \"date\".\n",
      " |              x\n",
      " |                  Sets the x position (in normalized coordinates)\n",
      " |                  of the range selector.\n",
      " |              xanchor\n",
      " |                  Sets the range selector's horizontal position\n",
      " |                  anchor. This anchor binds the `x` position to\n",
      " |                  the \"left\", \"center\" or \"right\" of the range\n",
      " |                  selector.\n",
      " |              y\n",
      " |                  Sets the y position (in normalized coordinates)\n",
      " |                  of the range selector.\n",
      " |              yanchor\n",
      " |                  Sets the range selector's vertical position\n",
      " |                  anchor This anchor binds the `y` position to\n",
      " |                  the \"top\", \"middle\" or \"bottom\" of the range\n",
      " |                  selector.\n",
      " |      \n",
      " |      Returns\n",
      " |      -------\n",
      " |      plotly.graph_objs.layout.xaxis.Rangeselector\n",
      " |  \n",
      " |  rangeslider\n",
      " |      The 'rangeslider' property is an instance of Rangeslider\n",
      " |      that may be specified as:\n",
      " |        - An instance of :class:`plotly.graph_objs.layout.xaxis.Rangeslider`\n",
      " |        - A dict of string/value properties that will be passed\n",
      " |          to the Rangeslider constructor\n",
      " |      \n",
      " |          Supported dict properties:\n",
      " |      \n",
      " |              autorange\n",
      " |                  Determines whether or not the range slider\n",
      " |                  range is computed in relation to the input\n",
      " |                  data. If `range` is provided, then `autorange`\n",
      " |                  is set to False.\n",
      " |              bgcolor\n",
      " |                  Sets the background color of the range slider.\n",
      " |              bordercolor\n",
      " |                  Sets the border color of the range slider.\n",
      " |              borderwidth\n",
      " |                  Sets the border width of the range slider.\n",
      " |              range\n",
      " |                  Sets the range of the range slider. If not set,\n",
      " |                  defaults to the full xaxis range. If the axis\n",
      " |                  `type` is \"log\", then you must take the log of\n",
      " |                  your desired range. If the axis `type` is\n",
      " |                  \"date\", it should be date strings, like date\n",
      " |                  data, though Date objects and unix milliseconds\n",
      " |                  will be accepted and converted to strings. If\n",
      " |                  the axis `type` is \"category\", it should be\n",
      " |                  numbers, using the scale where each category is\n",
      " |                  assigned a serial number from zero in the order\n",
      " |                  it appears.\n",
      " |              thickness\n",
      " |                  The height of the range slider as a fraction of\n",
      " |                  the total plot area height.\n",
      " |              visible\n",
      " |                  Determines whether or not the range slider will\n",
      " |                  be visible. If visible, perpendicular axes will\n",
      " |                  be set to `fixedrange`\n",
      " |              yaxis\n",
      " |                  :class:`plotly.graph_objects.layout.xaxis.range\n",
      " |                  slider.YAxis` instance or dict with compatible\n",
      " |                  properties\n",
      " |      \n",
      " |      Returns\n",
      " |      -------\n",
      " |      plotly.graph_objs.layout.xaxis.Rangeslider\n",
      " |  \n",
      " |  scaleanchor\n",
      " |      If set to another axis id (e.g. `x2`, `y`), the range of this\n",
      " |      axis changes together with the range of the corresponding axis\n",
      " |      such that the scale of pixels per unit is in a constant ratio.\n",
      " |      Both axes are still zoomable, but when you zoom one, the other\n",
      " |      will zoom the same amount, keeping a fixed midpoint.\n",
      " |      `constrain` and `constraintoward` determine how we enforce the\n",
      " |      constraint. You can chain these, ie `yaxis: {scaleanchor: *x*},\n",
      " |      xaxis2: {scaleanchor: *y*}` but you can only link axes of the\n",
      " |      same `type`. The linked axis can have the opposite letter (to\n",
      " |      constrain the aspect ratio) or the same letter (to match scales\n",
      " |      across subplots). Loops (`yaxis: {scaleanchor: *x*}, xaxis:\n",
      " |      {scaleanchor: *y*}` or longer) are redundant and the last\n",
      " |      constraint encountered will be ignored to avoid possible\n",
      " |      inconsistent constraints via `scaleratio`. Note that setting\n",
      " |      axes simultaneously in both a `scaleanchor` and a `matches`\n",
      " |      constraint is currently forbidden. Setting `false` allows to\n",
      " |      remove a default constraint (occasionally, you may need to\n",
      " |      prevent a default `scaleanchor` constraint from being applied,\n",
      " |      eg. when having an image trace `yaxis: {scaleanchor: \"x\"}` is\n",
      " |      set automatically in order for pixels to be rendered as\n",
      " |      squares, setting `yaxis: {scaleanchor: false}` allows to remove\n",
      " |      the constraint).\n",
      " |      \n",
      " |      The 'scaleanchor' property is an enumeration that may be specified as:\n",
      " |        - One of the following enumeration values:\n",
      " |              [False]\n",
      " |        - A string that matches one of the following regular expressions:\n",
      " |              ['^x([2-9]|[1-9][0-9]+)?( domain)?$',\n",
      " |              '^y([2-9]|[1-9][0-9]+)?( domain)?$']\n",
      " |      \n",
      " |      Returns\n",
      " |      -------\n",
      " |      Any\n",
      " |  \n",
      " |  scaleratio\n",
      " |      If this axis is linked to another by `scaleanchor`, this\n",
      " |      determines the pixel to unit scale ratio. For example, if this\n",
      " |      value is 10, then every unit on this axis spans 10 times the\n",
      " |      number of pixels as a unit on the linked axis. Use this for\n",
      " |      example to create an elevation profile where the vertical scale\n",
      " |      is exaggerated a fixed amount with respect to the horizontal.\n",
      " |      \n",
      " |      The 'scaleratio' property is a number and may be specified as:\n",
      " |        - An int or float in the interval [0, inf]\n",
      " |      \n",
      " |      Returns\n",
      " |      -------\n",
      " |      int|float\n",
      " |  \n",
      " |  separatethousands\n",
      " |      If \"true\", even 4-digit integers are separated\n",
      " |      \n",
      " |      The 'separatethousands' property must be specified as a bool\n",
      " |      (either True, or False)\n",
      " |      \n",
      " |      Returns\n",
      " |      -------\n",
      " |      bool\n",
      " |  \n",
      " |  showdividers\n",
      " |      Determines whether or not a dividers are drawn between the\n",
      " |      category levels of this axis. Only has an effect on\n",
      " |      \"multicategory\" axes.\n",
      " |      \n",
      " |      The 'showdividers' property must be specified as a bool\n",
      " |      (either True, or False)\n",
      " |      \n",
      " |      Returns\n",
      " |      -------\n",
      " |      bool\n",
      " |  \n",
      " |  showexponent\n",
      " |      If \"all\", all exponents are shown besides their significands.\n",
      " |      If \"first\", only the exponent of the first tick is shown. If\n",
      " |      \"last\", only the exponent of the last tick is shown. If \"none\",\n",
      " |      no exponents appear.\n",
      " |      \n",
      " |      The 'showexponent' property is an enumeration that may be specified as:\n",
      " |        - One of the following enumeration values:\n",
      " |              ['all', 'first', 'last', 'none']\n",
      " |      \n",
      " |      Returns\n",
      " |      -------\n",
      " |      Any\n",
      " |  \n",
      " |  showgrid\n",
      " |      Determines whether or not grid lines are drawn. If True, the\n",
      " |      grid lines are drawn at every tick mark.\n",
      " |      \n",
      " |      The 'showgrid' property must be specified as a bool\n",
      " |      (either True, or False)\n",
      " |      \n",
      " |      Returns\n",
      " |      -------\n",
      " |      bool\n",
      " |  \n",
      " |  showline\n",
      " |      Determines whether or not a line bounding this axis is drawn.\n",
      " |      \n",
      " |      The 'showline' property must be specified as a bool\n",
      " |      (either True, or False)\n",
      " |      \n",
      " |      Returns\n",
      " |      -------\n",
      " |      bool\n",
      " |  \n",
      " |  showspikes\n",
      " |      Determines whether or not spikes (aka droplines) are drawn for\n",
      " |      this axis. Note: This only takes affect when hovermode =\n",
      " |      closest\n",
      " |      \n",
      " |      The 'showspikes' property must be specified as a bool\n",
      " |      (either True, or False)\n",
      " |      \n",
      " |      Returns\n",
      " |      -------\n",
      " |      bool\n",
      " |  \n",
      " |  showticklabels\n",
      " |      Determines whether or not the tick labels are drawn.\n",
      " |      \n",
      " |      The 'showticklabels' property must be specified as a bool\n",
      " |      (either True, or False)\n",
      " |      \n",
      " |      Returns\n",
      " |      -------\n",
      " |      bool\n",
      " |  \n",
      " |  showtickprefix\n",
      " |      If \"all\", all tick labels are displayed with a prefix. If\n",
      " |      \"first\", only the first tick is displayed with a prefix. If\n",
      " |      \"last\", only the last tick is displayed with a suffix. If\n",
      " |      \"none\", tick prefixes are hidden.\n",
      " |      \n",
      " |      The 'showtickprefix' property is an enumeration that may be specified as:\n",
      " |        - One of the following enumeration values:\n",
      " |              ['all', 'first', 'last', 'none']\n",
      " |      \n",
      " |      Returns\n",
      " |      -------\n",
      " |      Any\n",
      " |  \n",
      " |  showticksuffix\n",
      " |      Same as `showtickprefix` but for tick suffixes.\n",
      " |      \n",
      " |      The 'showticksuffix' property is an enumeration that may be specified as:\n",
      " |        - One of the following enumeration values:\n",
      " |              ['all', 'first', 'last', 'none']\n",
      " |      \n",
      " |      Returns\n",
      " |      -------\n",
      " |      Any\n",
      " |  \n",
      " |  side\n",
      " |      Determines whether a x (y) axis is positioned at the \"bottom\"\n",
      " |      (\"left\") or \"top\" (\"right\") of the plotting area.\n",
      " |      \n",
      " |      The 'side' property is an enumeration that may be specified as:\n",
      " |        - One of the following enumeration values:\n",
      " |              ['top', 'bottom', 'left', 'right']\n",
      " |      \n",
      " |      Returns\n",
      " |      -------\n",
      " |      Any\n",
      " |  \n",
      " |  spikecolor\n",
      " |      Sets the spike color. If undefined, will use the series color\n",
      " |      \n",
      " |      The 'spikecolor' property is a color and may be specified as:\n",
      " |        - A hex string (e.g. '#ff0000')\n",
      " |        - An rgb/rgba string (e.g. 'rgb(255,0,0)')\n",
      " |        - An hsl/hsla string (e.g. 'hsl(0,100%,50%)')\n",
      " |        - An hsv/hsva string (e.g. 'hsv(0,100%,100%)')\n",
      " |        - A named CSS color:\n",
      " |              aliceblue, antiquewhite, aqua, aquamarine, azure,\n",
      " |              beige, bisque, black, blanchedalmond, blue,\n",
      " |              blueviolet, brown, burlywood, cadetblue,\n",
      " |              chartreuse, chocolate, coral, cornflowerblue,\n",
      " |              cornsilk, crimson, cyan, darkblue, darkcyan,\n",
      " |              darkgoldenrod, darkgray, darkgrey, darkgreen,\n",
      " |              darkkhaki, darkmagenta, darkolivegreen, darkorange,\n",
      " |              darkorchid, darkred, darksalmon, darkseagreen,\n",
      " |              darkslateblue, darkslategray, darkslategrey,\n",
      " |              darkturquoise, darkviolet, deeppink, deepskyblue,\n",
      " |              dimgray, dimgrey, dodgerblue, firebrick,\n",
      " |              floralwhite, forestgreen, fuchsia, gainsboro,\n",
      " |              ghostwhite, gold, goldenrod, gray, grey, green,\n",
      " |              greenyellow, honeydew, hotpink, indianred, indigo,\n",
      " |              ivory, khaki, lavender, lavenderblush, lawngreen,\n",
      " |              lemonchiffon, lightblue, lightcoral, lightcyan,\n",
      " |              lightgoldenrodyellow, lightgray, lightgrey,\n",
      " |              lightgreen, lightpink, lightsalmon, lightseagreen,\n",
      " |              lightskyblue, lightslategray, lightslategrey,\n",
      " |              lightsteelblue, lightyellow, lime, limegreen,\n",
      " |              linen, magenta, maroon, mediumaquamarine,\n",
      " |              mediumblue, mediumorchid, mediumpurple,\n",
      " |              mediumseagreen, mediumslateblue, mediumspringgreen,\n",
      " |              mediumturquoise, mediumvioletred, midnightblue,\n",
      " |              mintcream, mistyrose, moccasin, navajowhite, navy,\n",
      " |              oldlace, olive, olivedrab, orange, orangered,\n",
      " |              orchid, palegoldenrod, palegreen, paleturquoise,\n",
      " |              palevioletred, papayawhip, peachpuff, peru, pink,\n",
      " |              plum, powderblue, purple, red, rosybrown,\n",
      " |              royalblue, rebeccapurple, saddlebrown, salmon,\n",
      " |              sandybrown, seagreen, seashell, sienna, silver,\n",
      " |              skyblue, slateblue, slategray, slategrey, snow,\n",
      " |              springgreen, steelblue, tan, teal, thistle, tomato,\n",
      " |              turquoise, violet, wheat, white, whitesmoke,\n",
      " |              yellow, yellowgreen\n",
      " |      \n",
      " |      Returns\n",
      " |      -------\n",
      " |      str\n",
      " |  \n",
      " |  spikedash\n",
      " |      Sets the dash style of lines. Set to a dash type string\n",
      " |      (\"solid\", \"dot\", \"dash\", \"longdash\", \"dashdot\", or\n",
      " |      \"longdashdot\") or a dash length list in px (eg\n",
      " |      \"5px,10px,2px,2px\").\n",
      " |      \n",
      " |      The 'spikedash' property is an enumeration that may be specified as:\n",
      " |        - One of the following dash styles:\n",
      " |              ['solid', 'dot', 'dash', 'longdash', 'dashdot', 'longdashdot']\n",
      " |        - A string containing a dash length list in pixels or percentages\n",
      " |              (e.g. '5px 10px 2px 2px', '5, 10, 2, 2', '10% 20% 40%', etc.)\n",
      " |      \n",
      " |      Returns\n",
      " |      -------\n",
      " |      str\n",
      " |  \n",
      " |  spikemode\n",
      " |      Determines the drawing mode for the spike line If \"toaxis\", the\n",
      " |      line is drawn from the data point to the axis the  series is\n",
      " |      plotted on. If \"across\", the line is drawn across the entire\n",
      " |      plot area, and supercedes \"toaxis\". If \"marker\", then a marker\n",
      " |      dot is drawn on the axis the series is plotted on\n",
      " |      \n",
      " |      The 'spikemode' property is a flaglist and may be specified\n",
      " |      as a string containing:\n",
      " |        - Any combination of ['toaxis', 'across', 'marker'] joined with '+' characters\n",
      " |          (e.g. 'toaxis+across')\n",
      " |      \n",
      " |      Returns\n",
      " |      -------\n",
      " |      Any\n",
      " |  \n",
      " |  spikesnap\n",
      " |      Determines whether spikelines are stuck to the cursor or to the\n",
      " |      closest datapoints.\n",
      " |      \n",
      " |      The 'spikesnap' property is an enumeration that may be specified as:\n",
      " |        - One of the following enumeration values:\n",
      " |              ['data', 'cursor', 'hovered data']\n",
      " |      \n",
      " |      Returns\n",
      " |      -------\n",
      " |      Any\n",
      " |  \n",
      " |  spikethickness\n",
      " |      Sets the width (in px) of the zero line.\n",
      " |      \n",
      " |      The 'spikethickness' property is a number and may be specified as:\n",
      " |        - An int or float\n",
      " |      \n",
      " |      Returns\n",
      " |      -------\n",
      " |      int|float\n",
      " |  \n",
      " |  tick0\n",
      " |      Sets the placement of the first tick on this axis. Use with\n",
      " |      `dtick`. If the axis `type` is \"log\", then you must take the\n",
      " |      log of your starting tick (e.g. to set the starting tick to\n",
      " |      100, set the `tick0` to 2) except when `dtick`=*L<f>* (see\n",
      " |      `dtick` for more info). If the axis `type` is \"date\", it should\n",
      " |      be a date string, like date data. If the axis `type` is\n",
      " |      \"category\", it should be a number, using the scale where each\n",
      " |      category is assigned a serial number from zero in the order it\n",
      " |      appears.\n",
      " |      \n",
      " |      The 'tick0' property accepts values of any type\n",
      " |      \n",
      " |      Returns\n",
      " |      -------\n",
      " |      Any\n",
      " |  \n",
      " |  tickangle\n",
      " |      Sets the angle of the tick labels with respect to the\n",
      " |      horizontal. For example, a `tickangle` of -90 draws the tick\n",
      " |      labels vertically.\n",
      " |      \n",
      " |      The 'tickangle' property is a angle (in degrees) that may be\n",
      " |      specified as a number between -180 and 180.\n",
      " |      Numeric values outside this range are converted to the equivalent value\n",
      " |      (e.g. 270 is converted to -90).\n",
      " |      \n",
      " |      Returns\n",
      " |      -------\n",
      " |      int|float\n",
      " |  \n",
      " |  tickcolor\n",
      " |      Sets the tick color.\n",
      " |      \n",
      " |      The 'tickcolor' property is a color and may be specified as:\n",
      " |        - A hex string (e.g. '#ff0000')\n",
      " |        - An rgb/rgba string (e.g. 'rgb(255,0,0)')\n",
      " |        - An hsl/hsla string (e.g. 'hsl(0,100%,50%)')\n",
      " |        - An hsv/hsva string (e.g. 'hsv(0,100%,100%)')\n",
      " |        - A named CSS color:\n",
      " |              aliceblue, antiquewhite, aqua, aquamarine, azure,\n",
      " |              beige, bisque, black, blanchedalmond, blue,\n",
      " |              blueviolet, brown, burlywood, cadetblue,\n",
      " |              chartreuse, chocolate, coral, cornflowerblue,\n",
      " |              cornsilk, crimson, cyan, darkblue, darkcyan,\n",
      " |              darkgoldenrod, darkgray, darkgrey, darkgreen,\n",
      " |              darkkhaki, darkmagenta, darkolivegreen, darkorange,\n",
      " |              darkorchid, darkred, darksalmon, darkseagreen,\n",
      " |              darkslateblue, darkslategray, darkslategrey,\n",
      " |              darkturquoise, darkviolet, deeppink, deepskyblue,\n",
      " |              dimgray, dimgrey, dodgerblue, firebrick,\n",
      " |              floralwhite, forestgreen, fuchsia, gainsboro,\n",
      " |              ghostwhite, gold, goldenrod, gray, grey, green,\n",
      " |              greenyellow, honeydew, hotpink, indianred, indigo,\n",
      " |              ivory, khaki, lavender, lavenderblush, lawngreen,\n",
      " |              lemonchiffon, lightblue, lightcoral, lightcyan,\n",
      " |              lightgoldenrodyellow, lightgray, lightgrey,\n",
      " |              lightgreen, lightpink, lightsalmon, lightseagreen,\n",
      " |              lightskyblue, lightslategray, lightslategrey,\n",
      " |              lightsteelblue, lightyellow, lime, limegreen,\n",
      " |              linen, magenta, maroon, mediumaquamarine,\n",
      " |              mediumblue, mediumorchid, mediumpurple,\n",
      " |              mediumseagreen, mediumslateblue, mediumspringgreen,\n",
      " |              mediumturquoise, mediumvioletred, midnightblue,\n",
      " |              mintcream, mistyrose, moccasin, navajowhite, navy,\n",
      " |              oldlace, olive, olivedrab, orange, orangered,\n",
      " |              orchid, palegoldenrod, palegreen, paleturquoise,\n",
      " |              palevioletred, papayawhip, peachpuff, peru, pink,\n",
      " |              plum, powderblue, purple, red, rosybrown,\n",
      " |              royalblue, rebeccapurple, saddlebrown, salmon,\n",
      " |              sandybrown, seagreen, seashell, sienna, silver,\n",
      " |              skyblue, slateblue, slategray, slategrey, snow,\n",
      " |              springgreen, steelblue, tan, teal, thistle, tomato,\n",
      " |              turquoise, violet, wheat, white, whitesmoke,\n",
      " |              yellow, yellowgreen\n",
      " |      \n",
      " |      Returns\n",
      " |      -------\n",
      " |      str\n",
      " |  \n",
      " |  tickfont\n",
      " |      Sets the tick font.\n",
      " |      \n",
      " |      The 'tickfont' property is an instance of Tickfont\n",
      " |      that may be specified as:\n",
      " |        - An instance of :class:`plotly.graph_objs.layout.xaxis.Tickfont`\n",
      " |        - A dict of string/value properties that will be passed\n",
      " |          to the Tickfont constructor\n",
      " |      \n",
      " |          Supported dict properties:\n",
      " |      \n",
      " |              color\n",
      " |      \n",
      " |              family\n",
      " |                  HTML font family - the typeface that will be\n",
      " |                  applied by the web browser. The web browser\n",
      " |                  will only be able to apply a font if it is\n",
      " |                  available on the system which it operates.\n",
      " |                  Provide multiple font families, separated by\n",
      " |                  commas, to indicate the preference in which to\n",
      " |                  apply fonts if they aren't available on the\n",
      " |                  system. The Chart Studio Cloud (at\n",
      " |                  https://chart-studio.plotly.com or on-premise)\n",
      " |                  generates images on a server, where only a\n",
      " |                  select number of fonts are installed and\n",
      " |                  supported. These include \"Arial\", \"Balto\",\n",
      " |                  \"Courier New\", \"Droid Sans\",, \"Droid Serif\",\n",
      " |                  \"Droid Sans Mono\", \"Gravitas One\", \"Old\n",
      " |                  Standard TT\", \"Open Sans\", \"Overpass\", \"PT Sans\n",
      " |                  Narrow\", \"Raleway\", \"Times New Roman\".\n",
      " |              size\n",
      " |      \n",
      " |      Returns\n",
      " |      -------\n",
      " |      plotly.graph_objs.layout.xaxis.Tickfont\n",
      " |  \n",
      " |  tickformat\n",
      " |      Sets the tick label formatting rule using d3 formatting mini-\n",
      " |      languages which are very similar to those in Python. For\n",
      " |      numbers, see:\n",
      " |      https://github.com/d3/d3-format/tree/v1.4.5#d3-format. And for\n",
      " |      dates see: https://github.com/d3/d3-time-\n",
      " |      format/tree/v2.2.3#locale_format. We add two items to d3's date\n",
      " |      formatter: \"%h\" for half of the year as a decimal number as\n",
      " |      well as \"%{n}f\" for fractional seconds with n digits. For\n",
      " |      example, *2016-10-13 09:15:23.456* with tickformat\n",
      " |      \"%H~%M~%S.%2f\" would display \"09~15~23.46\"\n",
      " |      \n",
      " |      The 'tickformat' property is a string and must be specified as:\n",
      " |        - A string\n",
      " |        - A number that will be converted to a string\n",
      " |      \n",
      " |      Returns\n",
      " |      -------\n",
      " |      str\n",
      " |  \n",
      " |  tickformatstopdefaults\n",
      " |      When used in a template (as\n",
      " |      layout.template.layout.xaxis.tickformatstopdefaults), sets the\n",
      " |      default property values to use for elements of\n",
      " |      layout.xaxis.tickformatstops\n",
      " |      \n",
      " |      The 'tickformatstopdefaults' property is an instance of Tickformatstop\n",
      " |      that may be specified as:\n",
      " |        - An instance of :class:`plotly.graph_objs.layout.xaxis.Tickformatstop`\n",
      " |        - A dict of string/value properties that will be passed\n",
      " |          to the Tickformatstop constructor\n",
      " |      \n",
      " |          Supported dict properties:\n",
      " |      \n",
      " |      Returns\n",
      " |      -------\n",
      " |      plotly.graph_objs.layout.xaxis.Tickformatstop\n",
      " |  \n",
      " |  tickformatstops\n",
      " |      The 'tickformatstops' property is a tuple of instances of\n",
      " |      Tickformatstop that may be specified as:\n",
      " |        - A list or tuple of instances of plotly.graph_objs.layout.xaxis.Tickformatstop\n",
      " |        - A list or tuple of dicts of string/value properties that\n",
      " |          will be passed to the Tickformatstop constructor\n",
      " |      \n",
      " |          Supported dict properties:\n",
      " |      \n",
      " |              dtickrange\n",
      " |                  range [*min*, *max*], where \"min\", \"max\" -\n",
      " |                  dtick values which describe some zoom level, it\n",
      " |                  is possible to omit \"min\" or \"max\" value by\n",
      " |                  passing \"null\"\n",
      " |              enabled\n",
      " |                  Determines whether or not this stop is used. If\n",
      " |                  `false`, this stop is ignored even within its\n",
      " |                  `dtickrange`.\n",
      " |              name\n",
      " |                  When used in a template, named items are\n",
      " |                  created in the output figure in addition to any\n",
      " |                  items the figure already has in this array. You\n",
      " |                  can modify these items in the output figure by\n",
      " |                  making your own item with `templateitemname`\n",
      " |                  matching this `name` alongside your\n",
      " |                  modifications (including `visible: false` or\n",
      " |                  `enabled: false` to hide it). Has no effect\n",
      " |                  outside of a template.\n",
      " |              templateitemname\n",
      " |                  Used to refer to a named item in this array in\n",
      " |                  the template. Named items from the template\n",
      " |                  will be created even without a matching item in\n",
      " |                  the input figure, but you can modify one by\n",
      " |                  making an item with `templateitemname` matching\n",
      " |                  its `name`, alongside your modifications\n",
      " |                  (including `visible: false` or `enabled: false`\n",
      " |                  to hide it). If there is no template or no\n",
      " |                  matching item, this item will be hidden unless\n",
      " |                  you explicitly show it with `visible: true`.\n",
      " |              value\n",
      " |                  string - dtickformat for described zoom level,\n",
      " |                  the same as \"tickformat\"\n",
      " |      \n",
      " |      Returns\n",
      " |      -------\n",
      " |      tuple[plotly.graph_objs.layout.xaxis.Tickformatstop]\n",
      " |  \n",
      " |  ticklabelmode\n",
      " |      Determines where tick labels are drawn with respect to their\n",
      " |      corresponding ticks and grid lines. Only has an effect for axes\n",
      " |      of `type` \"date\" When set to \"period\", tick labels are drawn in\n",
      " |      the middle of the period between ticks.\n",
      " |      \n",
      " |      The 'ticklabelmode' property is an enumeration that may be specified as:\n",
      " |        - One of the following enumeration values:\n",
      " |              ['instant', 'period']\n",
      " |      \n",
      " |      Returns\n",
      " |      -------\n",
      " |      Any\n",
      " |  \n",
      " |  ticklabeloverflow\n",
      " |      Determines how we handle tick labels that would overflow either\n",
      " |      the graph div or the domain of the axis. The default value for\n",
      " |      inside tick labels is *hide past domain*. Otherwise on\n",
      " |      \"category\" and \"multicategory\" axes the default is \"allow\". In\n",
      " |      other cases the default is *hide past div*.\n",
      " |      \n",
      " |      The 'ticklabeloverflow' property is an enumeration that may be specified as:\n",
      " |        - One of the following enumeration values:\n",
      " |              ['allow', 'hide past div', 'hide past domain']\n",
      " |      \n",
      " |      Returns\n",
      " |      -------\n",
      " |      Any\n",
      " |  \n",
      " |  ticklabelposition\n",
      " |      Determines where tick labels are drawn with respect to the axis\n",
      " |      Please note that top or bottom has no effect on x axes or when\n",
      " |      `ticklabelmode` is set to \"period\". Similarly left or right has\n",
      " |      no effect on y axes or when `ticklabelmode` is set to \"period\".\n",
      " |      Has no effect on \"multicategory\" axes or when `tickson` is set\n",
      " |      to \"boundaries\". When used on axes linked by `matches` or\n",
      " |      `scaleanchor`, no extra padding for inside labels would be\n",
      " |      added by autorange, so that the scales could match.\n",
      " |      \n",
      " |      The 'ticklabelposition' property is an enumeration that may be specified as:\n",
      " |        - One of the following enumeration values:\n",
      " |              ['outside', 'inside', 'outside top', 'inside top',\n",
      " |              'outside left', 'inside left', 'outside right', 'inside\n",
      " |              right', 'outside bottom', 'inside bottom']\n",
      " |      \n",
      " |      Returns\n",
      " |      -------\n",
      " |      Any\n",
      " |  \n",
      " |  ticklabelstep\n",
      " |      Sets the spacing between tick labels as compared to the spacing\n",
      " |      between ticks. A value of 1 (default) means each tick gets a\n",
      " |      label. A value of 2 means shows every 2nd label. A larger value\n",
      " |      n means only every nth tick is labeled. `tick0` determines\n",
      " |      which labels are shown. Not implemented for axes with `type`\n",
      " |      \"log\" or \"multicategory\", or when `tickmode` is \"array\".\n",
      " |      \n",
      " |      The 'ticklabelstep' property is a integer and may be specified as:\n",
      " |        - An int (or float that will be cast to an int)\n",
      " |          in the interval [1, 9223372036854775807]\n",
      " |      \n",
      " |      Returns\n",
      " |      -------\n",
      " |      int\n",
      " |  \n",
      " |  ticklen\n",
      " |      Sets the tick length (in px).\n",
      " |      \n",
      " |      The 'ticklen' property is a number and may be specified as:\n",
      " |        - An int or float in the interval [0, inf]\n",
      " |      \n",
      " |      Returns\n",
      " |      -------\n",
      " |      int|float\n",
      " |  \n",
      " |  tickmode\n",
      " |      Sets the tick mode for this axis. If \"auto\", the number of\n",
      " |      ticks is set via `nticks`. If \"linear\", the placement of the\n",
      " |      ticks is determined by a starting position `tick0` and a tick\n",
      " |      step `dtick` (\"linear\" is the default value if `tick0` and\n",
      " |      `dtick` are provided). If \"array\", the placement of the ticks\n",
      " |      is set via `tickvals` and the tick text is `ticktext`. (\"array\"\n",
      " |      is the default value if `tickvals` is provided). If \"sync\", the\n",
      " |      number of ticks will sync with the overlayed axis set by\n",
      " |      `overlaying` property.\n",
      " |      \n",
      " |      The 'tickmode' property is an enumeration that may be specified as:\n",
      " |        - One of the following enumeration values:\n",
      " |              ['auto', 'linear', 'array', 'sync']\n",
      " |      \n",
      " |      Returns\n",
      " |      -------\n",
      " |      Any\n",
      " |  \n",
      " |  tickprefix\n",
      " |      Sets a tick label prefix.\n",
      " |      \n",
      " |      The 'tickprefix' property is a string and must be specified as:\n",
      " |        - A string\n",
      " |        - A number that will be converted to a string\n",
      " |      \n",
      " |      Returns\n",
      " |      -------\n",
      " |      str\n",
      " |  \n",
      " |  ticks\n",
      " |      Determines whether ticks are drawn or not. If \"\", this axis'\n",
      " |      ticks are not drawn. If \"outside\" (\"inside\"), this axis' are\n",
      " |      drawn outside (inside) the axis lines.\n",
      " |      \n",
      " |      The 'ticks' property is an enumeration that may be specified as:\n",
      " |        - One of the following enumeration values:\n",
      " |              ['outside', 'inside', '']\n",
      " |      \n",
      " |      Returns\n",
      " |      -------\n",
      " |      Any\n",
      " |  \n",
      " |  tickson\n",
      " |      Determines where ticks and grid lines are drawn with respect to\n",
      " |      their corresponding tick labels. Only has an effect for axes of\n",
      " |      `type` \"category\" or \"multicategory\". When set to \"boundaries\",\n",
      " |      ticks and grid lines are drawn half a category to the\n",
      " |      left/bottom of labels.\n",
      " |      \n",
      " |      The 'tickson' property is an enumeration that may be specified as:\n",
      " |        - One of the following enumeration values:\n",
      " |              ['labels', 'boundaries']\n",
      " |      \n",
      " |      Returns\n",
      " |      -------\n",
      " |      Any\n",
      " |  \n",
      " |  ticksuffix\n",
      " |      Sets a tick label suffix.\n",
      " |      \n",
      " |      The 'ticksuffix' property is a string and must be specified as:\n",
      " |        - A string\n",
      " |        - A number that will be converted to a string\n",
      " |      \n",
      " |      Returns\n",
      " |      -------\n",
      " |      str\n",
      " |  \n",
      " |  ticktext\n",
      " |      Sets the text displayed at the ticks position via `tickvals`.\n",
      " |      Only has an effect if `tickmode` is set to \"array\". Used with\n",
      " |      `tickvals`.\n",
      " |      \n",
      " |      The 'ticktext' property is an array that may be specified as a tuple,\n",
      " |      list, numpy array, or pandas Series\n",
      " |      \n",
      " |      Returns\n",
      " |      -------\n",
      " |      numpy.ndarray\n",
      " |  \n",
      " |  ticktextsrc\n",
      " |      Sets the source reference on Chart Studio Cloud for `ticktext`.\n",
      " |      \n",
      " |      The 'ticktextsrc' property must be specified as a string or\n",
      " |      as a plotly.grid_objs.Column object\n",
      " |      \n",
      " |      Returns\n",
      " |      -------\n",
      " |      str\n",
      " |  \n",
      " |  tickvals\n",
      " |      Sets the values at which ticks on this axis appear. Only has an\n",
      " |      effect if `tickmode` is set to \"array\". Used with `ticktext`.\n",
      " |      \n",
      " |      The 'tickvals' property is an array that may be specified as a tuple,\n",
      " |      list, numpy array, or pandas Series\n",
      " |      \n",
      " |      Returns\n",
      " |      -------\n",
      " |      numpy.ndarray\n",
      " |  \n",
      " |  tickvalssrc\n",
      " |      Sets the source reference on Chart Studio Cloud for `tickvals`.\n",
      " |      \n",
      " |      The 'tickvalssrc' property must be specified as a string or\n",
      " |      as a plotly.grid_objs.Column object\n",
      " |      \n",
      " |      Returns\n",
      " |      -------\n",
      " |      str\n",
      " |  \n",
      " |  tickwidth\n",
      " |      Sets the tick width (in px).\n",
      " |      \n",
      " |      The 'tickwidth' property is a number and may be specified as:\n",
      " |        - An int or float in the interval [0, inf]\n",
      " |      \n",
      " |      Returns\n",
      " |      -------\n",
      " |      int|float\n",
      " |  \n",
      " |  title\n",
      " |      The 'title' property is an instance of Title\n",
      " |      that may be specified as:\n",
      " |        - An instance of :class:`plotly.graph_objs.layout.xaxis.Title`\n",
      " |        - A dict of string/value properties that will be passed\n",
      " |          to the Title constructor\n",
      " |      \n",
      " |          Supported dict properties:\n",
      " |      \n",
      " |              font\n",
      " |                  Sets this axis' title font. Note that the\n",
      " |                  title's font used to be customized by the now\n",
      " |                  deprecated `titlefont` attribute.\n",
      " |              standoff\n",
      " |                  Sets the standoff distance (in px) between the\n",
      " |                  axis labels and the title text The default\n",
      " |                  value is a function of the axis tick labels,\n",
      " |                  the title `font.size` and the axis `linewidth`.\n",
      " |                  Note that the axis title position is always\n",
      " |                  constrained within the margins, so the actual\n",
      " |                  standoff distance is always less than the set\n",
      " |                  or default value. By setting `standoff` and\n",
      " |                  turning on `automargin`, plotly.js will push\n",
      " |                  the margins to fit the axis title at given\n",
      " |                  standoff distance.\n",
      " |              text\n",
      " |                  Sets the title of this axis. Note that before\n",
      " |                  the existence of `title.text`, the title's\n",
      " |                  contents used to be defined as the `title`\n",
      " |                  attribute itself. This behavior has been\n",
      " |                  deprecated.\n",
      " |      \n",
      " |      Returns\n",
      " |      -------\n",
      " |      plotly.graph_objs.layout.xaxis.Title\n",
      " |  \n",
      " |  titlefont\n",
      " |      Deprecated: Please use layout.xaxis.title.font instead. Sets\n",
      " |      this axis' title font. Note that the title's font used to be\n",
      " |      customized by the now deprecated `titlefont` attribute.\n",
      " |      \n",
      " |      The 'font' property is an instance of Font\n",
      " |      that may be specified as:\n",
      " |        - An instance of :class:`plotly.graph_objs.layout.xaxis.title.Font`\n",
      " |        - A dict of string/value properties that will be passed\n",
      " |          to the Font constructor\n",
      " |      \n",
      " |          Supported dict properties:\n",
      " |      \n",
      " |              color\n",
      " |      \n",
      " |              family\n",
      " |                  HTML font family - the typeface that will be\n",
      " |                  applied by the web browser. The web browser\n",
      " |                  will only be able to apply a font if it is\n",
      " |                  available on the system which it operates.\n",
      " |                  Provide multiple font families, separated by\n",
      " |                  commas, to indicate the preference in which to\n",
      " |                  apply fonts if they aren't available on the\n",
      " |                  system. The Chart Studio Cloud (at\n",
      " |                  https://chart-studio.plotly.com or on-premise)\n",
      " |                  generates images on a server, where only a\n",
      " |                  select number of fonts are installed and\n",
      " |                  supported. These include \"Arial\", \"Balto\",\n",
      " |                  \"Courier New\", \"Droid Sans\",, \"Droid Serif\",\n",
      " |                  \"Droid Sans Mono\", \"Gravitas One\", \"Old\n",
      " |                  Standard TT\", \"Open Sans\", \"Overpass\", \"PT Sans\n",
      " |                  Narrow\", \"Raleway\", \"Times New Roman\".\n",
      " |              size\n",
      " |      \n",
      " |      Returns\n",
      " |      -------\n",
      " |  \n",
      " |  type\n",
      " |      Sets the axis type. By default, plotly attempts to determined\n",
      " |      the axis type by looking into the data of the traces that\n",
      " |      referenced the axis in question.\n",
      " |      \n",
      " |      The 'type' property is an enumeration that may be specified as:\n",
      " |        - One of the following enumeration values:\n",
      " |              ['-', 'linear', 'log', 'date', 'category',\n",
      " |              'multicategory']\n",
      " |      \n",
      " |      Returns\n",
      " |      -------\n",
      " |      Any\n",
      " |  \n",
      " |  uirevision\n",
      " |      Controls persistence of user-driven changes in axis `range`,\n",
      " |      `autorange`, and `title` if in `editable: true` configuration.\n",
      " |      Defaults to `layout.uirevision`.\n",
      " |      \n",
      " |      The 'uirevision' property accepts values of any type\n",
      " |      \n",
      " |      Returns\n",
      " |      -------\n",
      " |      Any\n",
      " |  \n",
      " |  visible\n",
      " |      A single toggle to hide the axis while preserving interaction\n",
      " |      like dragging. Default is true when a cheater plot is present\n",
      " |      on the axis, otherwise false\n",
      " |      \n",
      " |      The 'visible' property must be specified as a bool\n",
      " |      (either True, or False)\n",
      " |      \n",
      " |      Returns\n",
      " |      -------\n",
      " |      bool\n",
      " |  \n",
      " |  zeroline\n",
      " |      Determines whether or not a line is drawn at along the 0 value\n",
      " |      of this axis. If True, the zero line is drawn on top of the\n",
      " |      grid lines.\n",
      " |      \n",
      " |      The 'zeroline' property must be specified as a bool\n",
      " |      (either True, or False)\n",
      " |      \n",
      " |      Returns\n",
      " |      -------\n",
      " |      bool\n",
      " |  \n",
      " |  zerolinecolor\n",
      " |      Sets the line color of the zero line.\n",
      " |      \n",
      " |      The 'zerolinecolor' property is a color and may be specified as:\n",
      " |        - A hex string (e.g. '#ff0000')\n",
      " |        - An rgb/rgba string (e.g. 'rgb(255,0,0)')\n",
      " |        - An hsl/hsla string (e.g. 'hsl(0,100%,50%)')\n",
      " |        - An hsv/hsva string (e.g. 'hsv(0,100%,100%)')\n",
      " |        - A named CSS color:\n",
      " |              aliceblue, antiquewhite, aqua, aquamarine, azure,\n",
      " |              beige, bisque, black, blanchedalmond, blue,\n",
      " |              blueviolet, brown, burlywood, cadetblue,\n",
      " |              chartreuse, chocolate, coral, cornflowerblue,\n",
      " |              cornsilk, crimson, cyan, darkblue, darkcyan,\n",
      " |              darkgoldenrod, darkgray, darkgrey, darkgreen,\n",
      " |              darkkhaki, darkmagenta, darkolivegreen, darkorange,\n",
      " |              darkorchid, darkred, darksalmon, darkseagreen,\n",
      " |              darkslateblue, darkslategray, darkslategrey,\n",
      " |              darkturquoise, darkviolet, deeppink, deepskyblue,\n",
      " |              dimgray, dimgrey, dodgerblue, firebrick,\n",
      " |              floralwhite, forestgreen, fuchsia, gainsboro,\n",
      " |              ghostwhite, gold, goldenrod, gray, grey, green,\n",
      " |              greenyellow, honeydew, hotpink, indianred, indigo,\n",
      " |              ivory, khaki, lavender, lavenderblush, lawngreen,\n",
      " |              lemonchiffon, lightblue, lightcoral, lightcyan,\n",
      " |              lightgoldenrodyellow, lightgray, lightgrey,\n",
      " |              lightgreen, lightpink, lightsalmon, lightseagreen,\n",
      " |              lightskyblue, lightslategray, lightslategrey,\n",
      " |              lightsteelblue, lightyellow, lime, limegreen,\n",
      " |              linen, magenta, maroon, mediumaquamarine,\n",
      " |              mediumblue, mediumorchid, mediumpurple,\n",
      " |              mediumseagreen, mediumslateblue, mediumspringgreen,\n",
      " |              mediumturquoise, mediumvioletred, midnightblue,\n",
      " |              mintcream, mistyrose, moccasin, navajowhite, navy,\n",
      " |              oldlace, olive, olivedrab, orange, orangered,\n",
      " |              orchid, palegoldenrod, palegreen, paleturquoise,\n",
      " |              palevioletred, papayawhip, peachpuff, peru, pink,\n",
      " |              plum, powderblue, purple, red, rosybrown,\n",
      " |              royalblue, rebeccapurple, saddlebrown, salmon,\n",
      " |              sandybrown, seagreen, seashell, sienna, silver,\n",
      " |              skyblue, slateblue, slategray, slategrey, snow,\n",
      " |              springgreen, steelblue, tan, teal, thistle, tomato,\n",
      " |              turquoise, violet, wheat, white, whitesmoke,\n",
      " |              yellow, yellowgreen\n",
      " |      \n",
      " |      Returns\n",
      " |      -------\n",
      " |      str\n",
      " |  \n",
      " |  zerolinewidth\n",
      " |      Sets the width (in px) of the zero line.\n",
      " |      \n",
      " |      The 'zerolinewidth' property is a number and may be specified as:\n",
      " |        - An int or float\n",
      " |      \n",
      " |      Returns\n",
      " |      -------\n",
      " |      int|float\n",
      " |  \n",
      " |  ----------------------------------------------------------------------\n",
      " |  Methods inherited from plotly.basedatatypes.BasePlotlyType:\n",
      " |  \n",
      " |  __contains__(self, prop)\n",
      " |      Determine whether object contains a property or nested property\n",
      " |      \n",
      " |      Parameters\n",
      " |      ----------\n",
      " |      prop : str|tuple\n",
      " |          If prop is a simple string (e.g. 'foo'), then return true of the\n",
      " |          object contains an element named 'foo'\n",
      " |      \n",
      " |          If prop is a property path string (e.g. 'foo[0].bar'),\n",
      " |          then return true if the obejct contains the nested elements for\n",
      " |          each entry in the path string (e.g. 'bar' in obj['foo'][0])\n",
      " |      \n",
      " |          If prop is a property path tuple (e.g. ('foo', 0, 'bar')),\n",
      " |          then return true if the object contains the nested elements for\n",
      " |          each entry in the path string (e.g. 'bar' in obj['foo'][0])\n",
      " |      \n",
      " |      Returns\n",
      " |      -------\n",
      " |      bool\n",
      " |  \n",
      " |  __eq__(self, other)\n",
      " |      Test for equality\n",
      " |      \n",
      " |      To be considered equal, `other` must have the same type as this object\n",
      " |      and their `to_plotly_json` representaitons must be identical.\n",
      " |      \n",
      " |      Parameters\n",
      " |      ----------\n",
      " |      other\n",
      " |          The object to compare against\n",
      " |      \n",
      " |      Returns\n",
      " |      -------\n",
      " |      bool\n",
      " |  \n",
      " |  __getitem__(self, prop)\n",
      " |      Get item or nested item from object\n",
      " |      \n",
      " |      Parameters\n",
      " |      ----------\n",
      " |      prop : str|tuple\n",
      " |      \n",
      " |          If prop is the name of a property of this object, then the\n",
      " |          property is returned.\n",
      " |      \n",
      " |          If prop is a nested property path string (e.g. 'foo[1].bar'),\n",
      " |          then a nested property is returned (e.g. obj['foo'][1]['bar'])\n",
      " |      \n",
      " |          If prop is a path tuple (e.g. ('foo', 1, 'bar')), then a nested\n",
      " |          property is returned (e.g. obj['foo'][1]['bar']).\n",
      " |      \n",
      " |      Returns\n",
      " |      -------\n",
      " |      Any\n",
      " |  \n",
      " |  __iter__(self)\n",
      " |      Return an iterator over the object's properties\n",
      " |  \n",
      " |  __reduce__(self)\n",
      " |      Custom implementation of reduce is used to support deep copying\n",
      " |      and pickling\n",
      " |  \n",
      " |  __repr__(self)\n",
      " |      Customize object representation when displayed in the\n",
      " |      terminal/notebook\n",
      " |  \n",
      " |  __setattr__(self, prop, value)\n",
      " |      Parameters\n",
      " |      ----------\n",
      " |      prop : str\n",
      " |          The name of a direct child of this object\n",
      " |      value\n",
      " |          New property value\n",
      " |      Returns\n",
      " |      -------\n",
      " |      None\n",
      " |  \n",
      " |  __setitem__(self, prop, value)\n",
      " |      Parameters\n",
      " |      ----------\n",
      " |      prop : str\n",
      " |          The name of a direct child of this object\n",
      " |      \n",
      " |          Note: Setting nested properties using property path string or\n",
      " |          property path tuples is not supported.\n",
      " |      value\n",
      " |          New property value\n",
      " |      \n",
      " |      Returns\n",
      " |      -------\n",
      " |      None\n",
      " |  \n",
      " |  on_change(self, callback, *args, **kwargs)\n",
      " |      Register callback function to be called when certain properties or\n",
      " |      subproperties of this object are modified.\n",
      " |      \n",
      " |      Callback will be invoked whenever ANY of these properties is\n",
      " |      modified. Furthermore, the callback will only be invoked once even\n",
      " |      if multiple properties are modified during the same restyle /\n",
      " |      relayout / update operation.\n",
      " |      \n",
      " |      Parameters\n",
      " |      ----------\n",
      " |      callback : function\n",
      " |          Function that accepts 1 + len(`args`) parameters. First parameter\n",
      " |          is this object. Second through last parameters are the\n",
      " |          property / subpropery values referenced by args.\n",
      " |      args : list[str|tuple[int|str]]\n",
      " |          List of property references where each reference may be one of:\n",
      " |      \n",
      " |            1) A property name string (e.g. 'foo') for direct properties\n",
      " |            2) A property path string (e.g. 'foo[0].bar') for\n",
      " |               subproperties\n",
      " |            3) A property path tuple (e.g. ('foo', 0, 'bar')) for\n",
      " |               subproperties\n",
      " |      \n",
      " |      append : bool\n",
      " |          True if callback should be appended to previously registered\n",
      " |          callback on the same properties, False if callback should replace\n",
      " |          previously registered callbacks on the same properties. Defaults\n",
      " |          to False.\n",
      " |      \n",
      " |      Examples\n",
      " |      --------\n",
      " |      \n",
      " |      Register callback that prints out the range extents of the xaxis and\n",
      " |      yaxis whenever either either of them changes.\n",
      " |      \n",
      " |      >>> import plotly.graph_objects as go\n",
      " |      >>> fig = go.Figure(go.Scatter(x=[1, 2], y=[1, 0]))\n",
      " |      >>> fig.layout.on_change(\n",
      " |      ...   lambda obj, xrange, yrange: print(\"%s-%s\" % (xrange, yrange)),\n",
      " |      ...   ('xaxis', 'range'), ('yaxis', 'range'))\n",
      " |      \n",
      " |      \n",
      " |      Returns\n",
      " |      -------\n",
      " |      None\n",
      " |  \n",
      " |  pop(self, key, *args)\n",
      " |      Remove the value associated with the specified key and return it\n",
      " |      \n",
      " |      Parameters\n",
      " |      ----------\n",
      " |      key: str\n",
      " |          Property name\n",
      " |      dflt\n",
      " |          The default value to return if key was not found in object\n",
      " |      \n",
      " |      Returns\n",
      " |      -------\n",
      " |      value\n",
      " |          The removed value that was previously associated with key\n",
      " |      \n",
      " |      Raises\n",
      " |      ------\n",
      " |      KeyError\n",
      " |          If key is not in object and no dflt argument specified\n",
      " |  \n",
      " |  to_json(self, *args, **kwargs)\n",
      " |      Convert object to a JSON string representation\n",
      " |      \n",
      " |      Parameters\n",
      " |      ----------\n",
      " |      validate: bool (default True)\n",
      " |          True if the object should be validated before being converted to\n",
      " |          JSON, False otherwise.\n",
      " |      \n",
      " |      pretty: bool (default False)\n",
      " |          True if JSON representation should be pretty-printed, False if\n",
      " |          representation should be as compact as possible.\n",
      " |      \n",
      " |      remove_uids: bool (default True)\n",
      " |          True if trace UIDs should be omitted from the JSON representation\n",
      " |      \n",
      " |      engine: str (default None)\n",
      " |          The JSON encoding engine to use. One of:\n",
      " |            - \"json\" for an encoder based on the built-in Python json module\n",
      " |            - \"orjson\" for a fast encoder the requires the orjson package\n",
      " |          If not specified, the default encoder is set to the current value of\n",
      " |          plotly.io.json.config.default_encoder.\n",
      " |      \n",
      " |      Returns\n",
      " |      -------\n",
      " |      str\n",
      " |          Representation of object as a JSON string\n",
      " |  \n",
      " |  to_plotly_json(self)\n",
      " |      Return plotly JSON representation of object as a Python dict\n",
      " |      \n",
      " |      Note: May include some JSON-invalid data types, use the `PlotlyJSONEncoder` util\n",
      " |      or the `to_json` method to encode to a string.\n",
      " |      \n",
      " |      Returns\n",
      " |      -------\n",
      " |      dict\n",
      " |  \n",
      " |  update(self, dict1=None, overwrite=False, **kwargs)\n",
      " |      Update the properties of an object with a dict and/or with\n",
      " |      keyword arguments.\n",
      " |      \n",
      " |      This recursively updates the structure of the original\n",
      " |      object with the values in the input dict / keyword arguments.\n",
      " |      \n",
      " |      Parameters\n",
      " |      ----------\n",
      " |      dict1 : dict\n",
      " |          Dictionary of properties to be updated\n",
      " |      overwrite: bool\n",
      " |          If True, overwrite existing properties. If False, apply updates\n",
      " |          to existing properties recursively, preserving existing\n",
      " |          properties that are not specified in the update operation.\n",
      " |      kwargs :\n",
      " |          Keyword/value pair of properties to be updated\n",
      " |      \n",
      " |      Returns\n",
      " |      -------\n",
      " |      BasePlotlyType\n",
      " |          Updated plotly object\n",
      " |  \n",
      " |  ----------------------------------------------------------------------\n",
      " |  Readonly properties inherited from plotly.basedatatypes.BasePlotlyType:\n",
      " |  \n",
      " |  figure\n",
      " |      Reference to the top-level Figure or FigureWidget that this object\n",
      " |      belongs to. None if the object does not belong to a Figure\n",
      " |      \n",
      " |      Returns\n",
      " |      -------\n",
      " |      Union[BaseFigure, None]\n",
      " |  \n",
      " |  parent\n",
      " |      Return the object's parent, or None if the object has no parent\n",
      " |      Returns\n",
      " |      -------\n",
      " |      BasePlotlyType|BaseFigure\n",
      " |  \n",
      " |  plotly_name\n",
      " |      The plotly name of the object\n",
      " |      \n",
      " |      Returns\n",
      " |      -------\n",
      " |      str\n",
      " |  \n",
      " |  ----------------------------------------------------------------------\n",
      " |  Data descriptors inherited from plotly.basedatatypes.BasePlotlyType:\n",
      " |  \n",
      " |  __dict__\n",
      " |      dictionary for instance variables\n",
      " |  \n",
      " |  __weakref__\n",
      " |      list of weak references to the object\n",
      " |  \n",
      " |  ----------------------------------------------------------------------\n",
      " |  Data and other attributes inherited from plotly.basedatatypes.BasePlotlyType:\n",
      " |  \n",
      " |  __hash__ = None\n",
      "\n"
     ]
    }
   ],
   "source": [
    "help(go.layout.XAxis)\n"
   ]
  },
  {
   "cell_type": "markdown",
   "metadata": {},
   "source": [
    "# Update figure"
   ]
  },
  {
   "cell_type": "code",
   "execution_count": 90,
   "metadata": {},
   "outputs": [
    {
     "data": {
      "application/vnd.plotly.v1+json": {
       "config": {
        "plotlyServerURL": "https://plot.ly"
       },
       "data": [
        {
         "marker": {
          "color": [
           1,
           1,
           1,
           1,
           1,
           1,
           1,
           1,
           1,
           1,
           1,
           1,
           1,
           1,
           1,
           1,
           1,
           1,
           1,
           1,
           1,
           1,
           1,
           1,
           1,
           1,
           1,
           1,
           1,
           1,
           1,
           1,
           1,
           1,
           1,
           1,
           1,
           1,
           1,
           1,
           1,
           1,
           1,
           1,
           1,
           1,
           1,
           1,
           1,
           1,
           2,
           2,
           2,
           2,
           2,
           2,
           2,
           2,
           2,
           2,
           2,
           2,
           2,
           2,
           2,
           2,
           2,
           2,
           2,
           2,
           2,
           2,
           2,
           2,
           2,
           2,
           2,
           2,
           2,
           2,
           2,
           2,
           2,
           2,
           2,
           2,
           2,
           2,
           2,
           2,
           2,
           2,
           2,
           2,
           2,
           2,
           2,
           2,
           2,
           2,
           3,
           3,
           3,
           3,
           3,
           3,
           3,
           3,
           3,
           3,
           3,
           3,
           3,
           3,
           3,
           3,
           3,
           3,
           3,
           3,
           3,
           3,
           3,
           3,
           3,
           3,
           3,
           3,
           3,
           3,
           3,
           3,
           3,
           3,
           3,
           3,
           3,
           3,
           3,
           3,
           3,
           3,
           3,
           3,
           3,
           3,
           3,
           3,
           3,
           3
          ]
         },
         "mode": "markers",
         "type": "scatter",
         "x": [
          3.5,
          3,
          3.2,
          3.1,
          3.6,
          3.9,
          3.4,
          3.4,
          2.9,
          3.1,
          3.7,
          3.4,
          3,
          3,
          4,
          4.4,
          3.9,
          3.5,
          3.8,
          3.8,
          3.4,
          3.7,
          3.6,
          3.3,
          3.4,
          3,
          3.4,
          3.5,
          3.4,
          3.2,
          3.1,
          3.4,
          4.1,
          4.2,
          3.1,
          3.2,
          3.5,
          3.1,
          3,
          3.4,
          3.5,
          2.3,
          3.2,
          3.5,
          3.8,
          3,
          3.8,
          3.2,
          3.7,
          3.3,
          3.2,
          3.2,
          3.1,
          2.3,
          2.8,
          2.8,
          3.3,
          2.4,
          2.9,
          2.7,
          2,
          3,
          2.2,
          2.9,
          2.9,
          3.1,
          3,
          2.7,
          2.2,
          2.5,
          3.2,
          2.8,
          2.5,
          2.8,
          2.9,
          3,
          2.8,
          3,
          2.9,
          2.6,
          2.4,
          2.4,
          2.7,
          2.7,
          3,
          3.4,
          3.1,
          2.3,
          3,
          2.5,
          2.6,
          3,
          2.6,
          2.3,
          2.7,
          3,
          2.9,
          2.9,
          2.5,
          2.8,
          3.3,
          2.7,
          3,
          2.9,
          3,
          3,
          2.5,
          2.9,
          2.5,
          3.6,
          3.2,
          2.7,
          3,
          2.5,
          2.8,
          3.2,
          3,
          3.8,
          2.6,
          2.2,
          3.2,
          2.8,
          2.8,
          2.7,
          3.3,
          3.2,
          2.8,
          3,
          2.8,
          3,
          2.8,
          3.8,
          2.8,
          2.8,
          2.6,
          3,
          3.4,
          3.1,
          3,
          3.1,
          3.1,
          3.1,
          2.7,
          3.2,
          3.3,
          3,
          2.5,
          3,
          3.4,
          3
         ],
         "y": [
          5.1,
          4.9,
          4.7,
          4.6,
          5,
          5.4,
          4.6,
          5,
          4.4,
          4.9,
          5.4,
          4.8,
          4.8,
          4.3,
          5.8,
          5.7,
          5.4,
          5.1,
          5.7,
          5.1,
          5.4,
          5.1,
          4.6,
          5.1,
          4.8,
          5,
          5,
          5.2,
          5.2,
          4.7,
          4.8,
          5.4,
          5.2,
          5.5,
          4.9,
          5,
          5.5,
          4.9,
          4.4,
          5.1,
          5,
          4.5,
          4.4,
          5,
          5.1,
          4.8,
          5.1,
          4.6,
          5.3,
          5,
          7,
          6.4,
          6.9,
          5.5,
          6.5,
          5.7,
          6.3,
          4.9,
          6.6,
          5.2,
          5,
          5.9,
          6,
          6.1,
          5.6,
          6.7,
          5.6,
          5.8,
          6.2,
          5.6,
          5.9,
          6.1,
          6.3,
          6.1,
          6.4,
          6.6,
          6.8,
          6.7,
          6,
          5.7,
          5.5,
          5.5,
          5.8,
          6,
          5.4,
          6,
          6.7,
          6.3,
          5.6,
          5.5,
          5.5,
          6.1,
          5.8,
          5,
          5.6,
          5.7,
          5.7,
          6.2,
          5.1,
          5.7,
          6.3,
          5.8,
          7.1,
          6.3,
          6.5,
          7.6,
          4.9,
          7.3,
          6.7,
          7.2,
          6.5,
          6.4,
          6.8,
          5.7,
          5.8,
          6.4,
          6.5,
          7.7,
          7.7,
          6,
          6.9,
          5.6,
          7.7,
          6.3,
          6.7,
          7.2,
          6.2,
          6.1,
          6.4,
          7.2,
          7.4,
          7.9,
          6.4,
          6.3,
          6.1,
          7.7,
          6.3,
          6.4,
          6,
          6.9,
          6.7,
          6.9,
          5.8,
          6.8,
          6.7,
          6.7,
          6.3,
          6.5,
          6.2,
          5.9
         ]
        }
       ],
       "layout": {
        "template": {
         "data": {
          "bar": [
           {
            "error_x": {
             "color": "#2a3f5f"
            },
            "error_y": {
             "color": "#2a3f5f"
            },
            "marker": {
             "line": {
              "color": "#E5ECF6",
              "width": 0.5
             },
             "pattern": {
              "fillmode": "overlay",
              "size": 10,
              "solidity": 0.2
             }
            },
            "type": "bar"
           }
          ],
          "barpolar": [
           {
            "marker": {
             "line": {
              "color": "#E5ECF6",
              "width": 0.5
             },
             "pattern": {
              "fillmode": "overlay",
              "size": 10,
              "solidity": 0.2
             }
            },
            "type": "barpolar"
           }
          ],
          "carpet": [
           {
            "aaxis": {
             "endlinecolor": "#2a3f5f",
             "gridcolor": "white",
             "linecolor": "white",
             "minorgridcolor": "white",
             "startlinecolor": "#2a3f5f"
            },
            "baxis": {
             "endlinecolor": "#2a3f5f",
             "gridcolor": "white",
             "linecolor": "white",
             "minorgridcolor": "white",
             "startlinecolor": "#2a3f5f"
            },
            "type": "carpet"
           }
          ],
          "choropleth": [
           {
            "colorbar": {
             "outlinewidth": 0,
             "ticks": ""
            },
            "type": "choropleth"
           }
          ],
          "contour": [
           {
            "colorbar": {
             "outlinewidth": 0,
             "ticks": ""
            },
            "colorscale": [
             [
              0,
              "#0d0887"
             ],
             [
              0.1111111111111111,
              "#46039f"
             ],
             [
              0.2222222222222222,
              "#7201a8"
             ],
             [
              0.3333333333333333,
              "#9c179e"
             ],
             [
              0.4444444444444444,
              "#bd3786"
             ],
             [
              0.5555555555555556,
              "#d8576b"
             ],
             [
              0.6666666666666666,
              "#ed7953"
             ],
             [
              0.7777777777777778,
              "#fb9f3a"
             ],
             [
              0.8888888888888888,
              "#fdca26"
             ],
             [
              1,
              "#f0f921"
             ]
            ],
            "type": "contour"
           }
          ],
          "contourcarpet": [
           {
            "colorbar": {
             "outlinewidth": 0,
             "ticks": ""
            },
            "type": "contourcarpet"
           }
          ],
          "heatmap": [
           {
            "colorbar": {
             "outlinewidth": 0,
             "ticks": ""
            },
            "colorscale": [
             [
              0,
              "#0d0887"
             ],
             [
              0.1111111111111111,
              "#46039f"
             ],
             [
              0.2222222222222222,
              "#7201a8"
             ],
             [
              0.3333333333333333,
              "#9c179e"
             ],
             [
              0.4444444444444444,
              "#bd3786"
             ],
             [
              0.5555555555555556,
              "#d8576b"
             ],
             [
              0.6666666666666666,
              "#ed7953"
             ],
             [
              0.7777777777777778,
              "#fb9f3a"
             ],
             [
              0.8888888888888888,
              "#fdca26"
             ],
             [
              1,
              "#f0f921"
             ]
            ],
            "type": "heatmap"
           }
          ],
          "heatmapgl": [
           {
            "colorbar": {
             "outlinewidth": 0,
             "ticks": ""
            },
            "colorscale": [
             [
              0,
              "#0d0887"
             ],
             [
              0.1111111111111111,
              "#46039f"
             ],
             [
              0.2222222222222222,
              "#7201a8"
             ],
             [
              0.3333333333333333,
              "#9c179e"
             ],
             [
              0.4444444444444444,
              "#bd3786"
             ],
             [
              0.5555555555555556,
              "#d8576b"
             ],
             [
              0.6666666666666666,
              "#ed7953"
             ],
             [
              0.7777777777777778,
              "#fb9f3a"
             ],
             [
              0.8888888888888888,
              "#fdca26"
             ],
             [
              1,
              "#f0f921"
             ]
            ],
            "type": "heatmapgl"
           }
          ],
          "histogram": [
           {
            "marker": {
             "pattern": {
              "fillmode": "overlay",
              "size": 10,
              "solidity": 0.2
             }
            },
            "type": "histogram"
           }
          ],
          "histogram2d": [
           {
            "colorbar": {
             "outlinewidth": 0,
             "ticks": ""
            },
            "colorscale": [
             [
              0,
              "#0d0887"
             ],
             [
              0.1111111111111111,
              "#46039f"
             ],
             [
              0.2222222222222222,
              "#7201a8"
             ],
             [
              0.3333333333333333,
              "#9c179e"
             ],
             [
              0.4444444444444444,
              "#bd3786"
             ],
             [
              0.5555555555555556,
              "#d8576b"
             ],
             [
              0.6666666666666666,
              "#ed7953"
             ],
             [
              0.7777777777777778,
              "#fb9f3a"
             ],
             [
              0.8888888888888888,
              "#fdca26"
             ],
             [
              1,
              "#f0f921"
             ]
            ],
            "type": "histogram2d"
           }
          ],
          "histogram2dcontour": [
           {
            "colorbar": {
             "outlinewidth": 0,
             "ticks": ""
            },
            "colorscale": [
             [
              0,
              "#0d0887"
             ],
             [
              0.1111111111111111,
              "#46039f"
             ],
             [
              0.2222222222222222,
              "#7201a8"
             ],
             [
              0.3333333333333333,
              "#9c179e"
             ],
             [
              0.4444444444444444,
              "#bd3786"
             ],
             [
              0.5555555555555556,
              "#d8576b"
             ],
             [
              0.6666666666666666,
              "#ed7953"
             ],
             [
              0.7777777777777778,
              "#fb9f3a"
             ],
             [
              0.8888888888888888,
              "#fdca26"
             ],
             [
              1,
              "#f0f921"
             ]
            ],
            "type": "histogram2dcontour"
           }
          ],
          "mesh3d": [
           {
            "colorbar": {
             "outlinewidth": 0,
             "ticks": ""
            },
            "type": "mesh3d"
           }
          ],
          "parcoords": [
           {
            "line": {
             "colorbar": {
              "outlinewidth": 0,
              "ticks": ""
             }
            },
            "type": "parcoords"
           }
          ],
          "pie": [
           {
            "automargin": true,
            "type": "pie"
           }
          ],
          "scatter": [
           {
            "fillpattern": {
             "fillmode": "overlay",
             "size": 10,
             "solidity": 0.2
            },
            "type": "scatter"
           }
          ],
          "scatter3d": [
           {
            "line": {
             "colorbar": {
              "outlinewidth": 0,
              "ticks": ""
             }
            },
            "marker": {
             "colorbar": {
              "outlinewidth": 0,
              "ticks": ""
             }
            },
            "type": "scatter3d"
           }
          ],
          "scattercarpet": [
           {
            "marker": {
             "colorbar": {
              "outlinewidth": 0,
              "ticks": ""
             }
            },
            "type": "scattercarpet"
           }
          ],
          "scattergeo": [
           {
            "marker": {
             "colorbar": {
              "outlinewidth": 0,
              "ticks": ""
             }
            },
            "type": "scattergeo"
           }
          ],
          "scattergl": [
           {
            "marker": {
             "colorbar": {
              "outlinewidth": 0,
              "ticks": ""
             }
            },
            "type": "scattergl"
           }
          ],
          "scattermapbox": [
           {
            "marker": {
             "colorbar": {
              "outlinewidth": 0,
              "ticks": ""
             }
            },
            "type": "scattermapbox"
           }
          ],
          "scatterpolar": [
           {
            "marker": {
             "colorbar": {
              "outlinewidth": 0,
              "ticks": ""
             }
            },
            "type": "scatterpolar"
           }
          ],
          "scatterpolargl": [
           {
            "marker": {
             "colorbar": {
              "outlinewidth": 0,
              "ticks": ""
             }
            },
            "type": "scatterpolargl"
           }
          ],
          "scatterternary": [
           {
            "marker": {
             "colorbar": {
              "outlinewidth": 0,
              "ticks": ""
             }
            },
            "type": "scatterternary"
           }
          ],
          "surface": [
           {
            "colorbar": {
             "outlinewidth": 0,
             "ticks": ""
            },
            "colorscale": [
             [
              0,
              "#0d0887"
             ],
             [
              0.1111111111111111,
              "#46039f"
             ],
             [
              0.2222222222222222,
              "#7201a8"
             ],
             [
              0.3333333333333333,
              "#9c179e"
             ],
             [
              0.4444444444444444,
              "#bd3786"
             ],
             [
              0.5555555555555556,
              "#d8576b"
             ],
             [
              0.6666666666666666,
              "#ed7953"
             ],
             [
              0.7777777777777778,
              "#fb9f3a"
             ],
             [
              0.8888888888888888,
              "#fdca26"
             ],
             [
              1,
              "#f0f921"
             ]
            ],
            "type": "surface"
           }
          ],
          "table": [
           {
            "cells": {
             "fill": {
              "color": "#EBF0F8"
             },
             "line": {
              "color": "white"
             }
            },
            "header": {
             "fill": {
              "color": "#C8D4E3"
             },
             "line": {
              "color": "white"
             }
            },
            "type": "table"
           }
          ]
         },
         "layout": {
          "annotationdefaults": {
           "arrowcolor": "#2a3f5f",
           "arrowhead": 0,
           "arrowwidth": 1
          },
          "autotypenumbers": "strict",
          "coloraxis": {
           "colorbar": {
            "outlinewidth": 0,
            "ticks": ""
           }
          },
          "colorscale": {
           "diverging": [
            [
             0,
             "#8e0152"
            ],
            [
             0.1,
             "#c51b7d"
            ],
            [
             0.2,
             "#de77ae"
            ],
            [
             0.3,
             "#f1b6da"
            ],
            [
             0.4,
             "#fde0ef"
            ],
            [
             0.5,
             "#f7f7f7"
            ],
            [
             0.6,
             "#e6f5d0"
            ],
            [
             0.7,
             "#b8e186"
            ],
            [
             0.8,
             "#7fbc41"
            ],
            [
             0.9,
             "#4d9221"
            ],
            [
             1,
             "#276419"
            ]
           ],
           "sequential": [
            [
             0,
             "#0d0887"
            ],
            [
             0.1111111111111111,
             "#46039f"
            ],
            [
             0.2222222222222222,
             "#7201a8"
            ],
            [
             0.3333333333333333,
             "#9c179e"
            ],
            [
             0.4444444444444444,
             "#bd3786"
            ],
            [
             0.5555555555555556,
             "#d8576b"
            ],
            [
             0.6666666666666666,
             "#ed7953"
            ],
            [
             0.7777777777777778,
             "#fb9f3a"
            ],
            [
             0.8888888888888888,
             "#fdca26"
            ],
            [
             1,
             "#f0f921"
            ]
           ],
           "sequentialminus": [
            [
             0,
             "#0d0887"
            ],
            [
             0.1111111111111111,
             "#46039f"
            ],
            [
             0.2222222222222222,
             "#7201a8"
            ],
            [
             0.3333333333333333,
             "#9c179e"
            ],
            [
             0.4444444444444444,
             "#bd3786"
            ],
            [
             0.5555555555555556,
             "#d8576b"
            ],
            [
             0.6666666666666666,
             "#ed7953"
            ],
            [
             0.7777777777777778,
             "#fb9f3a"
            ],
            [
             0.8888888888888888,
             "#fdca26"
            ],
            [
             1,
             "#f0f921"
            ]
           ]
          },
          "colorway": [
           "#636efa",
           "#EF553B",
           "#00cc96",
           "#ab63fa",
           "#FFA15A",
           "#19d3f3",
           "#FF6692",
           "#B6E880",
           "#FF97FF",
           "#FECB52"
          ],
          "font": {
           "color": "#2a3f5f"
          },
          "geo": {
           "bgcolor": "white",
           "lakecolor": "white",
           "landcolor": "#E5ECF6",
           "showlakes": true,
           "showland": true,
           "subunitcolor": "white"
          },
          "hoverlabel": {
           "align": "left"
          },
          "hovermode": "closest",
          "mapbox": {
           "style": "light"
          },
          "paper_bgcolor": "white",
          "plot_bgcolor": "#E5ECF6",
          "polar": {
           "angularaxis": {
            "gridcolor": "white",
            "linecolor": "white",
            "ticks": ""
           },
           "bgcolor": "#E5ECF6",
           "radialaxis": {
            "gridcolor": "white",
            "linecolor": "white",
            "ticks": ""
           }
          },
          "scene": {
           "xaxis": {
            "backgroundcolor": "#E5ECF6",
            "gridcolor": "white",
            "gridwidth": 2,
            "linecolor": "white",
            "showbackground": true,
            "ticks": "",
            "zerolinecolor": "white"
           },
           "yaxis": {
            "backgroundcolor": "#E5ECF6",
            "gridcolor": "white",
            "gridwidth": 2,
            "linecolor": "white",
            "showbackground": true,
            "ticks": "",
            "zerolinecolor": "white"
           },
           "zaxis": {
            "backgroundcolor": "#E5ECF6",
            "gridcolor": "white",
            "gridwidth": 2,
            "linecolor": "white",
            "showbackground": true,
            "ticks": "",
            "zerolinecolor": "white"
           }
          },
          "shapedefaults": {
           "line": {
            "color": "#2a3f5f"
           }
          },
          "ternary": {
           "aaxis": {
            "gridcolor": "white",
            "linecolor": "white",
            "ticks": ""
           },
           "baxis": {
            "gridcolor": "white",
            "linecolor": "white",
            "ticks": ""
           },
           "bgcolor": "#E5ECF6",
           "caxis": {
            "gridcolor": "white",
            "linecolor": "white",
            "ticks": ""
           }
          },
          "title": {
           "x": 0.05
          },
          "xaxis": {
           "automargin": true,
           "gridcolor": "white",
           "linecolor": "white",
           "ticks": "",
           "title": {
            "standoff": 15
           },
           "zerolinecolor": "white",
           "zerolinewidth": 2
          },
          "yaxis": {
           "automargin": true,
           "gridcolor": "white",
           "linecolor": "white",
           "ticks": "",
           "title": {
            "standoff": 15
           },
           "zerolinecolor": "white",
           "zerolinewidth": 2
          }
         }
        },
        "title": {
         "text": "This figure has been made with plotly graph objects",
         "x": 0.5
        },
        "xaxis": {
         "range": [
          0,
          5
         ],
         "title": {
          "text": "Sepal width"
         }
        },
        "yaxis": {
         "range": [
          0,
          10
         ],
         "title": {
          "text": "Sepal length"
         }
        }
       }
      }
     },
     "metadata": {},
     "output_type": "display_data"
    }
   ],
   "source": [
    "fig = go.Figure()\n",
    "\n",
    "fig.add_trace(\n",
    "  go.Scatter(\n",
    "    x = df['sepal_width'],\n",
    "    y = df['sepal_length'],\n",
    "    mode = 'markers',\n",
    "    marker = go.scatter.Marker(color = df['species_id'])\n",
    "  ),\n",
    ")\n",
    "    \n",
    "fig.update_layout(\n",
    "  title = go.layout.Title(text = \"This figure has been made with plotly graph objects\", x = 0.5),\n",
    "  xaxis = go.layout.XAxis(title = 'Sepal width', range = [0, 5]),\n",
    "  yaxis = go.layout.YAxis(title = 'Sepal length', range = [0, 10])\n",
    ")\n",
    "\n",
    "fig.show()"
   ]
  },
  {
   "cell_type": "code",
   "execution_count": 91,
   "metadata": {},
   "outputs": [
    {
     "data": {
      "application/vnd.plotly.v1+json": {
       "config": {
        "plotlyServerURL": "https://plot.ly"
       },
       "data": [
        {
         "marker": {
          "color": [
           1,
           1,
           1,
           1,
           1,
           1,
           1,
           1,
           1,
           1,
           1,
           1,
           1,
           1,
           1,
           1,
           1,
           1,
           1,
           1,
           1,
           1,
           1,
           1,
           1,
           1,
           1,
           1,
           1,
           1,
           1,
           1,
           1,
           1,
           1,
           1,
           1,
           1,
           1,
           1,
           1,
           1,
           1,
           1,
           1,
           1,
           1,
           1,
           1,
           1,
           2,
           2,
           2,
           2,
           2,
           2,
           2,
           2,
           2,
           2,
           2,
           2,
           2,
           2,
           2,
           2,
           2,
           2,
           2,
           2,
           2,
           2,
           2,
           2,
           2,
           2,
           2,
           2,
           2,
           2,
           2,
           2,
           2,
           2,
           2,
           2,
           2,
           2,
           2,
           2,
           2,
           2,
           2,
           2,
           2,
           2,
           2,
           2,
           2,
           2,
           3,
           3,
           3,
           3,
           3,
           3,
           3,
           3,
           3,
           3,
           3,
           3,
           3,
           3,
           3,
           3,
           3,
           3,
           3,
           3,
           3,
           3,
           3,
           3,
           3,
           3,
           3,
           3,
           3,
           3,
           3,
           3,
           3,
           3,
           3,
           3,
           3,
           3,
           3,
           3,
           3,
           3,
           3,
           3,
           3,
           3,
           3,
           3,
           3,
           3
          ]
         },
         "mode": "markers",
         "type": "scatter",
         "x": [
          3.5,
          3,
          3.2,
          3.1,
          3.6,
          3.9,
          3.4,
          3.4,
          2.9,
          3.1,
          3.7,
          3.4,
          3,
          3,
          4,
          4.4,
          3.9,
          3.5,
          3.8,
          3.8,
          3.4,
          3.7,
          3.6,
          3.3,
          3.4,
          3,
          3.4,
          3.5,
          3.4,
          3.2,
          3.1,
          3.4,
          4.1,
          4.2,
          3.1,
          3.2,
          3.5,
          3.1,
          3,
          3.4,
          3.5,
          2.3,
          3.2,
          3.5,
          3.8,
          3,
          3.8,
          3.2,
          3.7,
          3.3,
          3.2,
          3.2,
          3.1,
          2.3,
          2.8,
          2.8,
          3.3,
          2.4,
          2.9,
          2.7,
          2,
          3,
          2.2,
          2.9,
          2.9,
          3.1,
          3,
          2.7,
          2.2,
          2.5,
          3.2,
          2.8,
          2.5,
          2.8,
          2.9,
          3,
          2.8,
          3,
          2.9,
          2.6,
          2.4,
          2.4,
          2.7,
          2.7,
          3,
          3.4,
          3.1,
          2.3,
          3,
          2.5,
          2.6,
          3,
          2.6,
          2.3,
          2.7,
          3,
          2.9,
          2.9,
          2.5,
          2.8,
          3.3,
          2.7,
          3,
          2.9,
          3,
          3,
          2.5,
          2.9,
          2.5,
          3.6,
          3.2,
          2.7,
          3,
          2.5,
          2.8,
          3.2,
          3,
          3.8,
          2.6,
          2.2,
          3.2,
          2.8,
          2.8,
          2.7,
          3.3,
          3.2,
          2.8,
          3,
          2.8,
          3,
          2.8,
          3.8,
          2.8,
          2.8,
          2.6,
          3,
          3.4,
          3.1,
          3,
          3.1,
          3.1,
          3.1,
          2.7,
          3.2,
          3.3,
          3,
          2.5,
          3,
          3.4,
          3
         ],
         "y": [
          5.1,
          4.9,
          4.7,
          4.6,
          5,
          5.4,
          4.6,
          5,
          4.4,
          4.9,
          5.4,
          4.8,
          4.8,
          4.3,
          5.8,
          5.7,
          5.4,
          5.1,
          5.7,
          5.1,
          5.4,
          5.1,
          4.6,
          5.1,
          4.8,
          5,
          5,
          5.2,
          5.2,
          4.7,
          4.8,
          5.4,
          5.2,
          5.5,
          4.9,
          5,
          5.5,
          4.9,
          4.4,
          5.1,
          5,
          4.5,
          4.4,
          5,
          5.1,
          4.8,
          5.1,
          4.6,
          5.3,
          5,
          7,
          6.4,
          6.9,
          5.5,
          6.5,
          5.7,
          6.3,
          4.9,
          6.6,
          5.2,
          5,
          5.9,
          6,
          6.1,
          5.6,
          6.7,
          5.6,
          5.8,
          6.2,
          5.6,
          5.9,
          6.1,
          6.3,
          6.1,
          6.4,
          6.6,
          6.8,
          6.7,
          6,
          5.7,
          5.5,
          5.5,
          5.8,
          6,
          5.4,
          6,
          6.7,
          6.3,
          5.6,
          5.5,
          5.5,
          6.1,
          5.8,
          5,
          5.6,
          5.7,
          5.7,
          6.2,
          5.1,
          5.7,
          6.3,
          5.8,
          7.1,
          6.3,
          6.5,
          7.6,
          4.9,
          7.3,
          6.7,
          7.2,
          6.5,
          6.4,
          6.8,
          5.7,
          5.8,
          6.4,
          6.5,
          7.7,
          7.7,
          6,
          6.9,
          5.6,
          7.7,
          6.3,
          6.7,
          7.2,
          6.2,
          6.1,
          6.4,
          7.2,
          7.4,
          7.9,
          6.4,
          6.3,
          6.1,
          7.7,
          6.3,
          6.4,
          6,
          6.9,
          6.7,
          6.9,
          5.8,
          6.8,
          6.7,
          6.7,
          6.3,
          6.5,
          6.2,
          5.9
         ]
        },
        {
         "type": "histogram",
         "x": [
          3.5,
          3,
          3.2,
          3.1,
          3.6,
          3.9,
          3.4,
          3.4,
          2.9,
          3.1,
          3.7,
          3.4,
          3,
          3,
          4,
          4.4,
          3.9,
          3.5,
          3.8,
          3.8,
          3.4,
          3.7,
          3.6,
          3.3,
          3.4,
          3,
          3.4,
          3.5,
          3.4,
          3.2,
          3.1,
          3.4,
          4.1,
          4.2,
          3.1,
          3.2,
          3.5,
          3.1,
          3,
          3.4,
          3.5,
          2.3,
          3.2,
          3.5,
          3.8,
          3,
          3.8,
          3.2,
          3.7,
          3.3,
          3.2,
          3.2,
          3.1,
          2.3,
          2.8,
          2.8,
          3.3,
          2.4,
          2.9,
          2.7,
          2,
          3,
          2.2,
          2.9,
          2.9,
          3.1,
          3,
          2.7,
          2.2,
          2.5,
          3.2,
          2.8,
          2.5,
          2.8,
          2.9,
          3,
          2.8,
          3,
          2.9,
          2.6,
          2.4,
          2.4,
          2.7,
          2.7,
          3,
          3.4,
          3.1,
          2.3,
          3,
          2.5,
          2.6,
          3,
          2.6,
          2.3,
          2.7,
          3,
          2.9,
          2.9,
          2.5,
          2.8,
          3.3,
          2.7,
          3,
          2.9,
          3,
          3,
          2.5,
          2.9,
          2.5,
          3.6,
          3.2,
          2.7,
          3,
          2.5,
          2.8,
          3.2,
          3,
          3.8,
          2.6,
          2.2,
          3.2,
          2.8,
          2.8,
          2.7,
          3.3,
          3.2,
          2.8,
          3,
          2.8,
          3,
          2.8,
          3.8,
          2.8,
          2.8,
          2.6,
          3,
          3.4,
          3.1,
          3,
          3.1,
          3.1,
          3.1,
          2.7,
          3.2,
          3.3,
          3,
          2.5,
          3,
          3.4,
          3
         ]
        }
       ],
       "layout": {
        "template": {
         "data": {
          "bar": [
           {
            "error_x": {
             "color": "#2a3f5f"
            },
            "error_y": {
             "color": "#2a3f5f"
            },
            "marker": {
             "line": {
              "color": "#E5ECF6",
              "width": 0.5
             },
             "pattern": {
              "fillmode": "overlay",
              "size": 10,
              "solidity": 0.2
             }
            },
            "type": "bar"
           }
          ],
          "barpolar": [
           {
            "marker": {
             "line": {
              "color": "#E5ECF6",
              "width": 0.5
             },
             "pattern": {
              "fillmode": "overlay",
              "size": 10,
              "solidity": 0.2
             }
            },
            "type": "barpolar"
           }
          ],
          "carpet": [
           {
            "aaxis": {
             "endlinecolor": "#2a3f5f",
             "gridcolor": "white",
             "linecolor": "white",
             "minorgridcolor": "white",
             "startlinecolor": "#2a3f5f"
            },
            "baxis": {
             "endlinecolor": "#2a3f5f",
             "gridcolor": "white",
             "linecolor": "white",
             "minorgridcolor": "white",
             "startlinecolor": "#2a3f5f"
            },
            "type": "carpet"
           }
          ],
          "choropleth": [
           {
            "colorbar": {
             "outlinewidth": 0,
             "ticks": ""
            },
            "type": "choropleth"
           }
          ],
          "contour": [
           {
            "colorbar": {
             "outlinewidth": 0,
             "ticks": ""
            },
            "colorscale": [
             [
              0,
              "#0d0887"
             ],
             [
              0.1111111111111111,
              "#46039f"
             ],
             [
              0.2222222222222222,
              "#7201a8"
             ],
             [
              0.3333333333333333,
              "#9c179e"
             ],
             [
              0.4444444444444444,
              "#bd3786"
             ],
             [
              0.5555555555555556,
              "#d8576b"
             ],
             [
              0.6666666666666666,
              "#ed7953"
             ],
             [
              0.7777777777777778,
              "#fb9f3a"
             ],
             [
              0.8888888888888888,
              "#fdca26"
             ],
             [
              1,
              "#f0f921"
             ]
            ],
            "type": "contour"
           }
          ],
          "contourcarpet": [
           {
            "colorbar": {
             "outlinewidth": 0,
             "ticks": ""
            },
            "type": "contourcarpet"
           }
          ],
          "heatmap": [
           {
            "colorbar": {
             "outlinewidth": 0,
             "ticks": ""
            },
            "colorscale": [
             [
              0,
              "#0d0887"
             ],
             [
              0.1111111111111111,
              "#46039f"
             ],
             [
              0.2222222222222222,
              "#7201a8"
             ],
             [
              0.3333333333333333,
              "#9c179e"
             ],
             [
              0.4444444444444444,
              "#bd3786"
             ],
             [
              0.5555555555555556,
              "#d8576b"
             ],
             [
              0.6666666666666666,
              "#ed7953"
             ],
             [
              0.7777777777777778,
              "#fb9f3a"
             ],
             [
              0.8888888888888888,
              "#fdca26"
             ],
             [
              1,
              "#f0f921"
             ]
            ],
            "type": "heatmap"
           }
          ],
          "heatmapgl": [
           {
            "colorbar": {
             "outlinewidth": 0,
             "ticks": ""
            },
            "colorscale": [
             [
              0,
              "#0d0887"
             ],
             [
              0.1111111111111111,
              "#46039f"
             ],
             [
              0.2222222222222222,
              "#7201a8"
             ],
             [
              0.3333333333333333,
              "#9c179e"
             ],
             [
              0.4444444444444444,
              "#bd3786"
             ],
             [
              0.5555555555555556,
              "#d8576b"
             ],
             [
              0.6666666666666666,
              "#ed7953"
             ],
             [
              0.7777777777777778,
              "#fb9f3a"
             ],
             [
              0.8888888888888888,
              "#fdca26"
             ],
             [
              1,
              "#f0f921"
             ]
            ],
            "type": "heatmapgl"
           }
          ],
          "histogram": [
           {
            "marker": {
             "pattern": {
              "fillmode": "overlay",
              "size": 10,
              "solidity": 0.2
             }
            },
            "type": "histogram"
           }
          ],
          "histogram2d": [
           {
            "colorbar": {
             "outlinewidth": 0,
             "ticks": ""
            },
            "colorscale": [
             [
              0,
              "#0d0887"
             ],
             [
              0.1111111111111111,
              "#46039f"
             ],
             [
              0.2222222222222222,
              "#7201a8"
             ],
             [
              0.3333333333333333,
              "#9c179e"
             ],
             [
              0.4444444444444444,
              "#bd3786"
             ],
             [
              0.5555555555555556,
              "#d8576b"
             ],
             [
              0.6666666666666666,
              "#ed7953"
             ],
             [
              0.7777777777777778,
              "#fb9f3a"
             ],
             [
              0.8888888888888888,
              "#fdca26"
             ],
             [
              1,
              "#f0f921"
             ]
            ],
            "type": "histogram2d"
           }
          ],
          "histogram2dcontour": [
           {
            "colorbar": {
             "outlinewidth": 0,
             "ticks": ""
            },
            "colorscale": [
             [
              0,
              "#0d0887"
             ],
             [
              0.1111111111111111,
              "#46039f"
             ],
             [
              0.2222222222222222,
              "#7201a8"
             ],
             [
              0.3333333333333333,
              "#9c179e"
             ],
             [
              0.4444444444444444,
              "#bd3786"
             ],
             [
              0.5555555555555556,
              "#d8576b"
             ],
             [
              0.6666666666666666,
              "#ed7953"
             ],
             [
              0.7777777777777778,
              "#fb9f3a"
             ],
             [
              0.8888888888888888,
              "#fdca26"
             ],
             [
              1,
              "#f0f921"
             ]
            ],
            "type": "histogram2dcontour"
           }
          ],
          "mesh3d": [
           {
            "colorbar": {
             "outlinewidth": 0,
             "ticks": ""
            },
            "type": "mesh3d"
           }
          ],
          "parcoords": [
           {
            "line": {
             "colorbar": {
              "outlinewidth": 0,
              "ticks": ""
             }
            },
            "type": "parcoords"
           }
          ],
          "pie": [
           {
            "automargin": true,
            "type": "pie"
           }
          ],
          "scatter": [
           {
            "fillpattern": {
             "fillmode": "overlay",
             "size": 10,
             "solidity": 0.2
            },
            "type": "scatter"
           }
          ],
          "scatter3d": [
           {
            "line": {
             "colorbar": {
              "outlinewidth": 0,
              "ticks": ""
             }
            },
            "marker": {
             "colorbar": {
              "outlinewidth": 0,
              "ticks": ""
             }
            },
            "type": "scatter3d"
           }
          ],
          "scattercarpet": [
           {
            "marker": {
             "colorbar": {
              "outlinewidth": 0,
              "ticks": ""
             }
            },
            "type": "scattercarpet"
           }
          ],
          "scattergeo": [
           {
            "marker": {
             "colorbar": {
              "outlinewidth": 0,
              "ticks": ""
             }
            },
            "type": "scattergeo"
           }
          ],
          "scattergl": [
           {
            "marker": {
             "colorbar": {
              "outlinewidth": 0,
              "ticks": ""
             }
            },
            "type": "scattergl"
           }
          ],
          "scattermapbox": [
           {
            "marker": {
             "colorbar": {
              "outlinewidth": 0,
              "ticks": ""
             }
            },
            "type": "scattermapbox"
           }
          ],
          "scatterpolar": [
           {
            "marker": {
             "colorbar": {
              "outlinewidth": 0,
              "ticks": ""
             }
            },
            "type": "scatterpolar"
           }
          ],
          "scatterpolargl": [
           {
            "marker": {
             "colorbar": {
              "outlinewidth": 0,
              "ticks": ""
             }
            },
            "type": "scatterpolargl"
           }
          ],
          "scatterternary": [
           {
            "marker": {
             "colorbar": {
              "outlinewidth": 0,
              "ticks": ""
             }
            },
            "type": "scatterternary"
           }
          ],
          "surface": [
           {
            "colorbar": {
             "outlinewidth": 0,
             "ticks": ""
            },
            "colorscale": [
             [
              0,
              "#0d0887"
             ],
             [
              0.1111111111111111,
              "#46039f"
             ],
             [
              0.2222222222222222,
              "#7201a8"
             ],
             [
              0.3333333333333333,
              "#9c179e"
             ],
             [
              0.4444444444444444,
              "#bd3786"
             ],
             [
              0.5555555555555556,
              "#d8576b"
             ],
             [
              0.6666666666666666,
              "#ed7953"
             ],
             [
              0.7777777777777778,
              "#fb9f3a"
             ],
             [
              0.8888888888888888,
              "#fdca26"
             ],
             [
              1,
              "#f0f921"
             ]
            ],
            "type": "surface"
           }
          ],
          "table": [
           {
            "cells": {
             "fill": {
              "color": "#EBF0F8"
             },
             "line": {
              "color": "white"
             }
            },
            "header": {
             "fill": {
              "color": "#C8D4E3"
             },
             "line": {
              "color": "white"
             }
            },
            "type": "table"
           }
          ]
         },
         "layout": {
          "annotationdefaults": {
           "arrowcolor": "#2a3f5f",
           "arrowhead": 0,
           "arrowwidth": 1
          },
          "autotypenumbers": "strict",
          "coloraxis": {
           "colorbar": {
            "outlinewidth": 0,
            "ticks": ""
           }
          },
          "colorscale": {
           "diverging": [
            [
             0,
             "#8e0152"
            ],
            [
             0.1,
             "#c51b7d"
            ],
            [
             0.2,
             "#de77ae"
            ],
            [
             0.3,
             "#f1b6da"
            ],
            [
             0.4,
             "#fde0ef"
            ],
            [
             0.5,
             "#f7f7f7"
            ],
            [
             0.6,
             "#e6f5d0"
            ],
            [
             0.7,
             "#b8e186"
            ],
            [
             0.8,
             "#7fbc41"
            ],
            [
             0.9,
             "#4d9221"
            ],
            [
             1,
             "#276419"
            ]
           ],
           "sequential": [
            [
             0,
             "#0d0887"
            ],
            [
             0.1111111111111111,
             "#46039f"
            ],
            [
             0.2222222222222222,
             "#7201a8"
            ],
            [
             0.3333333333333333,
             "#9c179e"
            ],
            [
             0.4444444444444444,
             "#bd3786"
            ],
            [
             0.5555555555555556,
             "#d8576b"
            ],
            [
             0.6666666666666666,
             "#ed7953"
            ],
            [
             0.7777777777777778,
             "#fb9f3a"
            ],
            [
             0.8888888888888888,
             "#fdca26"
            ],
            [
             1,
             "#f0f921"
            ]
           ],
           "sequentialminus": [
            [
             0,
             "#0d0887"
            ],
            [
             0.1111111111111111,
             "#46039f"
            ],
            [
             0.2222222222222222,
             "#7201a8"
            ],
            [
             0.3333333333333333,
             "#9c179e"
            ],
            [
             0.4444444444444444,
             "#bd3786"
            ],
            [
             0.5555555555555556,
             "#d8576b"
            ],
            [
             0.6666666666666666,
             "#ed7953"
            ],
            [
             0.7777777777777778,
             "#fb9f3a"
            ],
            [
             0.8888888888888888,
             "#fdca26"
            ],
            [
             1,
             "#f0f921"
            ]
           ]
          },
          "colorway": [
           "#636efa",
           "#EF553B",
           "#00cc96",
           "#ab63fa",
           "#FFA15A",
           "#19d3f3",
           "#FF6692",
           "#B6E880",
           "#FF97FF",
           "#FECB52"
          ],
          "font": {
           "color": "#2a3f5f"
          },
          "geo": {
           "bgcolor": "white",
           "lakecolor": "white",
           "landcolor": "#E5ECF6",
           "showlakes": true,
           "showland": true,
           "subunitcolor": "white"
          },
          "hoverlabel": {
           "align": "left"
          },
          "hovermode": "closest",
          "mapbox": {
           "style": "light"
          },
          "paper_bgcolor": "white",
          "plot_bgcolor": "#E5ECF6",
          "polar": {
           "angularaxis": {
            "gridcolor": "white",
            "linecolor": "white",
            "ticks": ""
           },
           "bgcolor": "#E5ECF6",
           "radialaxis": {
            "gridcolor": "white",
            "linecolor": "white",
            "ticks": ""
           }
          },
          "scene": {
           "xaxis": {
            "backgroundcolor": "#E5ECF6",
            "gridcolor": "white",
            "gridwidth": 2,
            "linecolor": "white",
            "showbackground": true,
            "ticks": "",
            "zerolinecolor": "white"
           },
           "yaxis": {
            "backgroundcolor": "#E5ECF6",
            "gridcolor": "white",
            "gridwidth": 2,
            "linecolor": "white",
            "showbackground": true,
            "ticks": "",
            "zerolinecolor": "white"
           },
           "zaxis": {
            "backgroundcolor": "#E5ECF6",
            "gridcolor": "white",
            "gridwidth": 2,
            "linecolor": "white",
            "showbackground": true,
            "ticks": "",
            "zerolinecolor": "white"
           }
          },
          "shapedefaults": {
           "line": {
            "color": "#2a3f5f"
           }
          },
          "ternary": {
           "aaxis": {
            "gridcolor": "white",
            "linecolor": "white",
            "ticks": ""
           },
           "baxis": {
            "gridcolor": "white",
            "linecolor": "white",
            "ticks": ""
           },
           "bgcolor": "#E5ECF6",
           "caxis": {
            "gridcolor": "white",
            "linecolor": "white",
            "ticks": ""
           }
          },
          "title": {
           "x": 0.05
          },
          "xaxis": {
           "automargin": true,
           "gridcolor": "white",
           "linecolor": "white",
           "ticks": "",
           "title": {
            "standoff": 15
           },
           "zerolinecolor": "white",
           "zerolinewidth": 2
          },
          "yaxis": {
           "automargin": true,
           "gridcolor": "white",
           "linecolor": "white",
           "ticks": "",
           "title": {
            "standoff": 15
           },
           "zerolinecolor": "white",
           "zerolinewidth": 2
          }
         }
        },
        "title": {
         "text": "This figure has been made with plotly graph objects",
         "x": 0.5
        },
        "xaxis": {
         "range": [
          0,
          5
         ],
         "title": {
          "text": "Sepal width"
         }
        },
        "yaxis": {
         "range": [
          0,
          10
         ],
         "title": {
          "text": "Sepal length"
         }
        }
       }
      }
     },
     "metadata": {},
     "output_type": "display_data"
    }
   ],
   "source": [
    "# Add the distribution of sepal_width on the same graph\n",
    "fig.add_trace(\n",
    "  go.Histogram(\n",
    "    x = df['sepal_width']))"
   ]
  },
  {
   "cell_type": "code",
   "execution_count": 92,
   "metadata": {},
   "outputs": [
    {
     "data": {
      "application/vnd.plotly.v1+json": {
       "config": {
        "plotlyServerURL": "https://plot.ly"
       },
       "data": [
        {
         "marker": {
          "color": [
           1,
           1,
           1,
           1,
           1,
           1,
           1,
           1,
           1,
           1,
           1,
           1,
           1,
           1,
           1,
           1,
           1,
           1,
           1,
           1,
           1,
           1,
           1,
           1,
           1,
           1,
           1,
           1,
           1,
           1,
           1,
           1,
           1,
           1,
           1,
           1,
           1,
           1,
           1,
           1,
           1,
           1,
           1,
           1,
           1,
           1,
           1,
           1,
           1,
           1,
           2,
           2,
           2,
           2,
           2,
           2,
           2,
           2,
           2,
           2,
           2,
           2,
           2,
           2,
           2,
           2,
           2,
           2,
           2,
           2,
           2,
           2,
           2,
           2,
           2,
           2,
           2,
           2,
           2,
           2,
           2,
           2,
           2,
           2,
           2,
           2,
           2,
           2,
           2,
           2,
           2,
           2,
           2,
           2,
           2,
           2,
           2,
           2,
           2,
           2,
           3,
           3,
           3,
           3,
           3,
           3,
           3,
           3,
           3,
           3,
           3,
           3,
           3,
           3,
           3,
           3,
           3,
           3,
           3,
           3,
           3,
           3,
           3,
           3,
           3,
           3,
           3,
           3,
           3,
           3,
           3,
           3,
           3,
           3,
           3,
           3,
           3,
           3,
           3,
           3,
           3,
           3,
           3,
           3,
           3,
           3,
           3,
           3,
           3,
           3
          ]
         },
         "mode": "markers",
         "type": "scatter",
         "x": [
          3.5,
          3,
          3.2,
          3.1,
          3.6,
          3.9,
          3.4,
          3.4,
          2.9,
          3.1,
          3.7,
          3.4,
          3,
          3,
          4,
          4.4,
          3.9,
          3.5,
          3.8,
          3.8,
          3.4,
          3.7,
          3.6,
          3.3,
          3.4,
          3,
          3.4,
          3.5,
          3.4,
          3.2,
          3.1,
          3.4,
          4.1,
          4.2,
          3.1,
          3.2,
          3.5,
          3.1,
          3,
          3.4,
          3.5,
          2.3,
          3.2,
          3.5,
          3.8,
          3,
          3.8,
          3.2,
          3.7,
          3.3,
          3.2,
          3.2,
          3.1,
          2.3,
          2.8,
          2.8,
          3.3,
          2.4,
          2.9,
          2.7,
          2,
          3,
          2.2,
          2.9,
          2.9,
          3.1,
          3,
          2.7,
          2.2,
          2.5,
          3.2,
          2.8,
          2.5,
          2.8,
          2.9,
          3,
          2.8,
          3,
          2.9,
          2.6,
          2.4,
          2.4,
          2.7,
          2.7,
          3,
          3.4,
          3.1,
          2.3,
          3,
          2.5,
          2.6,
          3,
          2.6,
          2.3,
          2.7,
          3,
          2.9,
          2.9,
          2.5,
          2.8,
          3.3,
          2.7,
          3,
          2.9,
          3,
          3,
          2.5,
          2.9,
          2.5,
          3.6,
          3.2,
          2.7,
          3,
          2.5,
          2.8,
          3.2,
          3,
          3.8,
          2.6,
          2.2,
          3.2,
          2.8,
          2.8,
          2.7,
          3.3,
          3.2,
          2.8,
          3,
          2.8,
          3,
          2.8,
          3.8,
          2.8,
          2.8,
          2.6,
          3,
          3.4,
          3.1,
          3,
          3.1,
          3.1,
          3.1,
          2.7,
          3.2,
          3.3,
          3,
          2.5,
          3,
          3.4,
          3
         ],
         "y": [
          5.1,
          4.9,
          4.7,
          4.6,
          5,
          5.4,
          4.6,
          5,
          4.4,
          4.9,
          5.4,
          4.8,
          4.8,
          4.3,
          5.8,
          5.7,
          5.4,
          5.1,
          5.7,
          5.1,
          5.4,
          5.1,
          4.6,
          5.1,
          4.8,
          5,
          5,
          5.2,
          5.2,
          4.7,
          4.8,
          5.4,
          5.2,
          5.5,
          4.9,
          5,
          5.5,
          4.9,
          4.4,
          5.1,
          5,
          4.5,
          4.4,
          5,
          5.1,
          4.8,
          5.1,
          4.6,
          5.3,
          5,
          7,
          6.4,
          6.9,
          5.5,
          6.5,
          5.7,
          6.3,
          4.9,
          6.6,
          5.2,
          5,
          5.9,
          6,
          6.1,
          5.6,
          6.7,
          5.6,
          5.8,
          6.2,
          5.6,
          5.9,
          6.1,
          6.3,
          6.1,
          6.4,
          6.6,
          6.8,
          6.7,
          6,
          5.7,
          5.5,
          5.5,
          5.8,
          6,
          5.4,
          6,
          6.7,
          6.3,
          5.6,
          5.5,
          5.5,
          6.1,
          5.8,
          5,
          5.6,
          5.7,
          5.7,
          6.2,
          5.1,
          5.7,
          6.3,
          5.8,
          7.1,
          6.3,
          6.5,
          7.6,
          4.9,
          7.3,
          6.7,
          7.2,
          6.5,
          6.4,
          6.8,
          5.7,
          5.8,
          6.4,
          6.5,
          7.7,
          7.7,
          6,
          6.9,
          5.6,
          7.7,
          6.3,
          6.7,
          7.2,
          6.2,
          6.1,
          6.4,
          7.2,
          7.4,
          7.9,
          6.4,
          6.3,
          6.1,
          7.7,
          6.3,
          6.4,
          6,
          6.9,
          6.7,
          6.9,
          5.8,
          6.8,
          6.7,
          6.7,
          6.3,
          6.5,
          6.2,
          5.9
         ]
        },
        {
         "type": "histogram",
         "x": [
          3.5,
          3,
          3.2,
          3.1,
          3.6,
          3.9,
          3.4,
          3.4,
          2.9,
          3.1,
          3.7,
          3.4,
          3,
          3,
          4,
          4.4,
          3.9,
          3.5,
          3.8,
          3.8,
          3.4,
          3.7,
          3.6,
          3.3,
          3.4,
          3,
          3.4,
          3.5,
          3.4,
          3.2,
          3.1,
          3.4,
          4.1,
          4.2,
          3.1,
          3.2,
          3.5,
          3.1,
          3,
          3.4,
          3.5,
          2.3,
          3.2,
          3.5,
          3.8,
          3,
          3.8,
          3.2,
          3.7,
          3.3,
          3.2,
          3.2,
          3.1,
          2.3,
          2.8,
          2.8,
          3.3,
          2.4,
          2.9,
          2.7,
          2,
          3,
          2.2,
          2.9,
          2.9,
          3.1,
          3,
          2.7,
          2.2,
          2.5,
          3.2,
          2.8,
          2.5,
          2.8,
          2.9,
          3,
          2.8,
          3,
          2.9,
          2.6,
          2.4,
          2.4,
          2.7,
          2.7,
          3,
          3.4,
          3.1,
          2.3,
          3,
          2.5,
          2.6,
          3,
          2.6,
          2.3,
          2.7,
          3,
          2.9,
          2.9,
          2.5,
          2.8,
          3.3,
          2.7,
          3,
          2.9,
          3,
          3,
          2.5,
          2.9,
          2.5,
          3.6,
          3.2,
          2.7,
          3,
          2.5,
          2.8,
          3.2,
          3,
          3.8,
          2.6,
          2.2,
          3.2,
          2.8,
          2.8,
          2.7,
          3.3,
          3.2,
          2.8,
          3,
          2.8,
          3,
          2.8,
          3.8,
          2.8,
          2.8,
          2.6,
          3,
          3.4,
          3.1,
          3,
          3.1,
          3.1,
          3.1,
          2.7,
          3.2,
          3.3,
          3,
          2.5,
          3,
          3.4,
          3
         ]
        }
       ],
       "layout": {
        "showlegend": false,
        "template": {
         "data": {
          "bar": [
           {
            "error_x": {
             "color": "#2a3f5f"
            },
            "error_y": {
             "color": "#2a3f5f"
            },
            "marker": {
             "line": {
              "color": "#E5ECF6",
              "width": 0.5
             },
             "pattern": {
              "fillmode": "overlay",
              "size": 10,
              "solidity": 0.2
             }
            },
            "type": "bar"
           }
          ],
          "barpolar": [
           {
            "marker": {
             "line": {
              "color": "#E5ECF6",
              "width": 0.5
             },
             "pattern": {
              "fillmode": "overlay",
              "size": 10,
              "solidity": 0.2
             }
            },
            "type": "barpolar"
           }
          ],
          "carpet": [
           {
            "aaxis": {
             "endlinecolor": "#2a3f5f",
             "gridcolor": "white",
             "linecolor": "white",
             "minorgridcolor": "white",
             "startlinecolor": "#2a3f5f"
            },
            "baxis": {
             "endlinecolor": "#2a3f5f",
             "gridcolor": "white",
             "linecolor": "white",
             "minorgridcolor": "white",
             "startlinecolor": "#2a3f5f"
            },
            "type": "carpet"
           }
          ],
          "choropleth": [
           {
            "colorbar": {
             "outlinewidth": 0,
             "ticks": ""
            },
            "type": "choropleth"
           }
          ],
          "contour": [
           {
            "colorbar": {
             "outlinewidth": 0,
             "ticks": ""
            },
            "colorscale": [
             [
              0,
              "#0d0887"
             ],
             [
              0.1111111111111111,
              "#46039f"
             ],
             [
              0.2222222222222222,
              "#7201a8"
             ],
             [
              0.3333333333333333,
              "#9c179e"
             ],
             [
              0.4444444444444444,
              "#bd3786"
             ],
             [
              0.5555555555555556,
              "#d8576b"
             ],
             [
              0.6666666666666666,
              "#ed7953"
             ],
             [
              0.7777777777777778,
              "#fb9f3a"
             ],
             [
              0.8888888888888888,
              "#fdca26"
             ],
             [
              1,
              "#f0f921"
             ]
            ],
            "type": "contour"
           }
          ],
          "contourcarpet": [
           {
            "colorbar": {
             "outlinewidth": 0,
             "ticks": ""
            },
            "type": "contourcarpet"
           }
          ],
          "heatmap": [
           {
            "colorbar": {
             "outlinewidth": 0,
             "ticks": ""
            },
            "colorscale": [
             [
              0,
              "#0d0887"
             ],
             [
              0.1111111111111111,
              "#46039f"
             ],
             [
              0.2222222222222222,
              "#7201a8"
             ],
             [
              0.3333333333333333,
              "#9c179e"
             ],
             [
              0.4444444444444444,
              "#bd3786"
             ],
             [
              0.5555555555555556,
              "#d8576b"
             ],
             [
              0.6666666666666666,
              "#ed7953"
             ],
             [
              0.7777777777777778,
              "#fb9f3a"
             ],
             [
              0.8888888888888888,
              "#fdca26"
             ],
             [
              1,
              "#f0f921"
             ]
            ],
            "type": "heatmap"
           }
          ],
          "heatmapgl": [
           {
            "colorbar": {
             "outlinewidth": 0,
             "ticks": ""
            },
            "colorscale": [
             [
              0,
              "#0d0887"
             ],
             [
              0.1111111111111111,
              "#46039f"
             ],
             [
              0.2222222222222222,
              "#7201a8"
             ],
             [
              0.3333333333333333,
              "#9c179e"
             ],
             [
              0.4444444444444444,
              "#bd3786"
             ],
             [
              0.5555555555555556,
              "#d8576b"
             ],
             [
              0.6666666666666666,
              "#ed7953"
             ],
             [
              0.7777777777777778,
              "#fb9f3a"
             ],
             [
              0.8888888888888888,
              "#fdca26"
             ],
             [
              1,
              "#f0f921"
             ]
            ],
            "type": "heatmapgl"
           }
          ],
          "histogram": [
           {
            "marker": {
             "pattern": {
              "fillmode": "overlay",
              "size": 10,
              "solidity": 0.2
             }
            },
            "type": "histogram"
           }
          ],
          "histogram2d": [
           {
            "colorbar": {
             "outlinewidth": 0,
             "ticks": ""
            },
            "colorscale": [
             [
              0,
              "#0d0887"
             ],
             [
              0.1111111111111111,
              "#46039f"
             ],
             [
              0.2222222222222222,
              "#7201a8"
             ],
             [
              0.3333333333333333,
              "#9c179e"
             ],
             [
              0.4444444444444444,
              "#bd3786"
             ],
             [
              0.5555555555555556,
              "#d8576b"
             ],
             [
              0.6666666666666666,
              "#ed7953"
             ],
             [
              0.7777777777777778,
              "#fb9f3a"
             ],
             [
              0.8888888888888888,
              "#fdca26"
             ],
             [
              1,
              "#f0f921"
             ]
            ],
            "type": "histogram2d"
           }
          ],
          "histogram2dcontour": [
           {
            "colorbar": {
             "outlinewidth": 0,
             "ticks": ""
            },
            "colorscale": [
             [
              0,
              "#0d0887"
             ],
             [
              0.1111111111111111,
              "#46039f"
             ],
             [
              0.2222222222222222,
              "#7201a8"
             ],
             [
              0.3333333333333333,
              "#9c179e"
             ],
             [
              0.4444444444444444,
              "#bd3786"
             ],
             [
              0.5555555555555556,
              "#d8576b"
             ],
             [
              0.6666666666666666,
              "#ed7953"
             ],
             [
              0.7777777777777778,
              "#fb9f3a"
             ],
             [
              0.8888888888888888,
              "#fdca26"
             ],
             [
              1,
              "#f0f921"
             ]
            ],
            "type": "histogram2dcontour"
           }
          ],
          "mesh3d": [
           {
            "colorbar": {
             "outlinewidth": 0,
             "ticks": ""
            },
            "type": "mesh3d"
           }
          ],
          "parcoords": [
           {
            "line": {
             "colorbar": {
              "outlinewidth": 0,
              "ticks": ""
             }
            },
            "type": "parcoords"
           }
          ],
          "pie": [
           {
            "automargin": true,
            "type": "pie"
           }
          ],
          "scatter": [
           {
            "fillpattern": {
             "fillmode": "overlay",
             "size": 10,
             "solidity": 0.2
            },
            "type": "scatter"
           }
          ],
          "scatter3d": [
           {
            "line": {
             "colorbar": {
              "outlinewidth": 0,
              "ticks": ""
             }
            },
            "marker": {
             "colorbar": {
              "outlinewidth": 0,
              "ticks": ""
             }
            },
            "type": "scatter3d"
           }
          ],
          "scattercarpet": [
           {
            "marker": {
             "colorbar": {
              "outlinewidth": 0,
              "ticks": ""
             }
            },
            "type": "scattercarpet"
           }
          ],
          "scattergeo": [
           {
            "marker": {
             "colorbar": {
              "outlinewidth": 0,
              "ticks": ""
             }
            },
            "type": "scattergeo"
           }
          ],
          "scattergl": [
           {
            "marker": {
             "colorbar": {
              "outlinewidth": 0,
              "ticks": ""
             }
            },
            "type": "scattergl"
           }
          ],
          "scattermapbox": [
           {
            "marker": {
             "colorbar": {
              "outlinewidth": 0,
              "ticks": ""
             }
            },
            "type": "scattermapbox"
           }
          ],
          "scatterpolar": [
           {
            "marker": {
             "colorbar": {
              "outlinewidth": 0,
              "ticks": ""
             }
            },
            "type": "scatterpolar"
           }
          ],
          "scatterpolargl": [
           {
            "marker": {
             "colorbar": {
              "outlinewidth": 0,
              "ticks": ""
             }
            },
            "type": "scatterpolargl"
           }
          ],
          "scatterternary": [
           {
            "marker": {
             "colorbar": {
              "outlinewidth": 0,
              "ticks": ""
             }
            },
            "type": "scatterternary"
           }
          ],
          "surface": [
           {
            "colorbar": {
             "outlinewidth": 0,
             "ticks": ""
            },
            "colorscale": [
             [
              0,
              "#0d0887"
             ],
             [
              0.1111111111111111,
              "#46039f"
             ],
             [
              0.2222222222222222,
              "#7201a8"
             ],
             [
              0.3333333333333333,
              "#9c179e"
             ],
             [
              0.4444444444444444,
              "#bd3786"
             ],
             [
              0.5555555555555556,
              "#d8576b"
             ],
             [
              0.6666666666666666,
              "#ed7953"
             ],
             [
              0.7777777777777778,
              "#fb9f3a"
             ],
             [
              0.8888888888888888,
              "#fdca26"
             ],
             [
              1,
              "#f0f921"
             ]
            ],
            "type": "surface"
           }
          ],
          "table": [
           {
            "cells": {
             "fill": {
              "color": "#EBF0F8"
             },
             "line": {
              "color": "white"
             }
            },
            "header": {
             "fill": {
              "color": "#C8D4E3"
             },
             "line": {
              "color": "white"
             }
            },
            "type": "table"
           }
          ]
         },
         "layout": {
          "annotationdefaults": {
           "arrowcolor": "#2a3f5f",
           "arrowhead": 0,
           "arrowwidth": 1
          },
          "autotypenumbers": "strict",
          "coloraxis": {
           "colorbar": {
            "outlinewidth": 0,
            "ticks": ""
           }
          },
          "colorscale": {
           "diverging": [
            [
             0,
             "#8e0152"
            ],
            [
             0.1,
             "#c51b7d"
            ],
            [
             0.2,
             "#de77ae"
            ],
            [
             0.3,
             "#f1b6da"
            ],
            [
             0.4,
             "#fde0ef"
            ],
            [
             0.5,
             "#f7f7f7"
            ],
            [
             0.6,
             "#e6f5d0"
            ],
            [
             0.7,
             "#b8e186"
            ],
            [
             0.8,
             "#7fbc41"
            ],
            [
             0.9,
             "#4d9221"
            ],
            [
             1,
             "#276419"
            ]
           ],
           "sequential": [
            [
             0,
             "#0d0887"
            ],
            [
             0.1111111111111111,
             "#46039f"
            ],
            [
             0.2222222222222222,
             "#7201a8"
            ],
            [
             0.3333333333333333,
             "#9c179e"
            ],
            [
             0.4444444444444444,
             "#bd3786"
            ],
            [
             0.5555555555555556,
             "#d8576b"
            ],
            [
             0.6666666666666666,
             "#ed7953"
            ],
            [
             0.7777777777777778,
             "#fb9f3a"
            ],
            [
             0.8888888888888888,
             "#fdca26"
            ],
            [
             1,
             "#f0f921"
            ]
           ],
           "sequentialminus": [
            [
             0,
             "#0d0887"
            ],
            [
             0.1111111111111111,
             "#46039f"
            ],
            [
             0.2222222222222222,
             "#7201a8"
            ],
            [
             0.3333333333333333,
             "#9c179e"
            ],
            [
             0.4444444444444444,
             "#bd3786"
            ],
            [
             0.5555555555555556,
             "#d8576b"
            ],
            [
             0.6666666666666666,
             "#ed7953"
            ],
            [
             0.7777777777777778,
             "#fb9f3a"
            ],
            [
             0.8888888888888888,
             "#fdca26"
            ],
            [
             1,
             "#f0f921"
            ]
           ]
          },
          "colorway": [
           "#636efa",
           "#EF553B",
           "#00cc96",
           "#ab63fa",
           "#FFA15A",
           "#19d3f3",
           "#FF6692",
           "#B6E880",
           "#FF97FF",
           "#FECB52"
          ],
          "font": {
           "color": "#2a3f5f"
          },
          "geo": {
           "bgcolor": "white",
           "lakecolor": "white",
           "landcolor": "#E5ECF6",
           "showlakes": true,
           "showland": true,
           "subunitcolor": "white"
          },
          "hoverlabel": {
           "align": "left"
          },
          "hovermode": "closest",
          "mapbox": {
           "style": "light"
          },
          "paper_bgcolor": "white",
          "plot_bgcolor": "#E5ECF6",
          "polar": {
           "angularaxis": {
            "gridcolor": "white",
            "linecolor": "white",
            "ticks": ""
           },
           "bgcolor": "#E5ECF6",
           "radialaxis": {
            "gridcolor": "white",
            "linecolor": "white",
            "ticks": ""
           }
          },
          "scene": {
           "xaxis": {
            "backgroundcolor": "#E5ECF6",
            "gridcolor": "white",
            "gridwidth": 2,
            "linecolor": "white",
            "showbackground": true,
            "ticks": "",
            "zerolinecolor": "white"
           },
           "yaxis": {
            "backgroundcolor": "#E5ECF6",
            "gridcolor": "white",
            "gridwidth": 2,
            "linecolor": "white",
            "showbackground": true,
            "ticks": "",
            "zerolinecolor": "white"
           },
           "zaxis": {
            "backgroundcolor": "#E5ECF6",
            "gridcolor": "white",
            "gridwidth": 2,
            "linecolor": "white",
            "showbackground": true,
            "ticks": "",
            "zerolinecolor": "white"
           }
          },
          "shapedefaults": {
           "line": {
            "color": "#2a3f5f"
           }
          },
          "ternary": {
           "aaxis": {
            "gridcolor": "white",
            "linecolor": "white",
            "ticks": ""
           },
           "baxis": {
            "gridcolor": "white",
            "linecolor": "white",
            "ticks": ""
           },
           "bgcolor": "#E5ECF6",
           "caxis": {
            "gridcolor": "white",
            "linecolor": "white",
            "ticks": ""
           }
          },
          "title": {
           "x": 0.05
          },
          "xaxis": {
           "automargin": true,
           "gridcolor": "white",
           "linecolor": "white",
           "ticks": "",
           "title": {
            "standoff": 15
           },
           "zerolinecolor": "white",
           "zerolinewidth": 2
          },
          "yaxis": {
           "automargin": true,
           "gridcolor": "white",
           "linecolor": "white",
           "ticks": "",
           "title": {
            "standoff": 15
           },
           "zerolinecolor": "white",
           "zerolinewidth": 2
          }
         }
        },
        "title": {
         "text": "This figure has been made with plotly graph objects",
         "x": 0.5
        },
        "xaxis": {
         "range": [
          0,
          5
         ],
         "title": {
          "text": "Sepal width"
         }
        },
        "yaxis": {
         "range": [
          0,
          10
         ],
         "title": {
          "text": "Sepal length"
         }
        }
       }
      }
     },
     "metadata": {},
     "output_type": "display_data"
    }
   ],
   "source": [
    "# Hide the legend\n",
    "fig.update_layout(\n",
    "  showlegend=False\n",
    ")"
   ]
  },
  {
   "cell_type": "markdown",
   "metadata": {},
   "source": [
    "# Creating subplots"
   ]
  },
  {
   "cell_type": "code",
   "execution_count": 93,
   "metadata": {},
   "outputs": [
    {
     "data": {
      "application/vnd.plotly.v1+json": {
       "config": {
        "plotlyServerURL": "https://plot.ly"
       },
       "data": [
        {
         "marker": {
          "color": [
           1,
           1,
           1,
           1,
           1,
           1,
           1,
           1,
           1,
           1,
           1,
           1,
           1,
           1,
           1,
           1,
           1,
           1,
           1,
           1,
           1,
           1,
           1,
           1,
           1,
           1,
           1,
           1,
           1,
           1,
           1,
           1,
           1,
           1,
           1,
           1,
           1,
           1,
           1,
           1,
           1,
           1,
           1,
           1,
           1,
           1,
           1,
           1,
           1,
           1,
           2,
           2,
           2,
           2,
           2,
           2,
           2,
           2,
           2,
           2,
           2,
           2,
           2,
           2,
           2,
           2,
           2,
           2,
           2,
           2,
           2,
           2,
           2,
           2,
           2,
           2,
           2,
           2,
           2,
           2,
           2,
           2,
           2,
           2,
           2,
           2,
           2,
           2,
           2,
           2,
           2,
           2,
           2,
           2,
           2,
           2,
           2,
           2,
           2,
           2,
           3,
           3,
           3,
           3,
           3,
           3,
           3,
           3,
           3,
           3,
           3,
           3,
           3,
           3,
           3,
           3,
           3,
           3,
           3,
           3,
           3,
           3,
           3,
           3,
           3,
           3,
           3,
           3,
           3,
           3,
           3,
           3,
           3,
           3,
           3,
           3,
           3,
           3,
           3,
           3,
           3,
           3,
           3,
           3,
           3,
           3,
           3,
           3,
           3,
           3
          ]
         },
         "mode": "markers",
         "type": "scatter",
         "x": [
          3.5,
          3,
          3.2,
          3.1,
          3.6,
          3.9,
          3.4,
          3.4,
          2.9,
          3.1,
          3.7,
          3.4,
          3,
          3,
          4,
          4.4,
          3.9,
          3.5,
          3.8,
          3.8,
          3.4,
          3.7,
          3.6,
          3.3,
          3.4,
          3,
          3.4,
          3.5,
          3.4,
          3.2,
          3.1,
          3.4,
          4.1,
          4.2,
          3.1,
          3.2,
          3.5,
          3.1,
          3,
          3.4,
          3.5,
          2.3,
          3.2,
          3.5,
          3.8,
          3,
          3.8,
          3.2,
          3.7,
          3.3,
          3.2,
          3.2,
          3.1,
          2.3,
          2.8,
          2.8,
          3.3,
          2.4,
          2.9,
          2.7,
          2,
          3,
          2.2,
          2.9,
          2.9,
          3.1,
          3,
          2.7,
          2.2,
          2.5,
          3.2,
          2.8,
          2.5,
          2.8,
          2.9,
          3,
          2.8,
          3,
          2.9,
          2.6,
          2.4,
          2.4,
          2.7,
          2.7,
          3,
          3.4,
          3.1,
          2.3,
          3,
          2.5,
          2.6,
          3,
          2.6,
          2.3,
          2.7,
          3,
          2.9,
          2.9,
          2.5,
          2.8,
          3.3,
          2.7,
          3,
          2.9,
          3,
          3,
          2.5,
          2.9,
          2.5,
          3.6,
          3.2,
          2.7,
          3,
          2.5,
          2.8,
          3.2,
          3,
          3.8,
          2.6,
          2.2,
          3.2,
          2.8,
          2.8,
          2.7,
          3.3,
          3.2,
          2.8,
          3,
          2.8,
          3,
          2.8,
          3.8,
          2.8,
          2.8,
          2.6,
          3,
          3.4,
          3.1,
          3,
          3.1,
          3.1,
          3.1,
          2.7,
          3.2,
          3.3,
          3,
          2.5,
          3,
          3.4,
          3
         ],
         "xaxis": "x",
         "y": [
          5.1,
          4.9,
          4.7,
          4.6,
          5,
          5.4,
          4.6,
          5,
          4.4,
          4.9,
          5.4,
          4.8,
          4.8,
          4.3,
          5.8,
          5.7,
          5.4,
          5.1,
          5.7,
          5.1,
          5.4,
          5.1,
          4.6,
          5.1,
          4.8,
          5,
          5,
          5.2,
          5.2,
          4.7,
          4.8,
          5.4,
          5.2,
          5.5,
          4.9,
          5,
          5.5,
          4.9,
          4.4,
          5.1,
          5,
          4.5,
          4.4,
          5,
          5.1,
          4.8,
          5.1,
          4.6,
          5.3,
          5,
          7,
          6.4,
          6.9,
          5.5,
          6.5,
          5.7,
          6.3,
          4.9,
          6.6,
          5.2,
          5,
          5.9,
          6,
          6.1,
          5.6,
          6.7,
          5.6,
          5.8,
          6.2,
          5.6,
          5.9,
          6.1,
          6.3,
          6.1,
          6.4,
          6.6,
          6.8,
          6.7,
          6,
          5.7,
          5.5,
          5.5,
          5.8,
          6,
          5.4,
          6,
          6.7,
          6.3,
          5.6,
          5.5,
          5.5,
          6.1,
          5.8,
          5,
          5.6,
          5.7,
          5.7,
          6.2,
          5.1,
          5.7,
          6.3,
          5.8,
          7.1,
          6.3,
          6.5,
          7.6,
          4.9,
          7.3,
          6.7,
          7.2,
          6.5,
          6.4,
          6.8,
          5.7,
          5.8,
          6.4,
          6.5,
          7.7,
          7.7,
          6,
          6.9,
          5.6,
          7.7,
          6.3,
          6.7,
          7.2,
          6.2,
          6.1,
          6.4,
          7.2,
          7.4,
          7.9,
          6.4,
          6.3,
          6.1,
          7.7,
          6.3,
          6.4,
          6,
          6.9,
          6.7,
          6.9,
          5.8,
          6.8,
          6.7,
          6.7,
          6.3,
          6.5,
          6.2,
          5.9
         ],
         "yaxis": "y"
        },
        {
         "type": "histogram",
         "x": [
          3.5,
          3,
          3.2,
          3.1,
          3.6,
          3.9,
          3.4,
          3.4,
          2.9,
          3.1,
          3.7,
          3.4,
          3,
          3,
          4,
          4.4,
          3.9,
          3.5,
          3.8,
          3.8,
          3.4,
          3.7,
          3.6,
          3.3,
          3.4,
          3,
          3.4,
          3.5,
          3.4,
          3.2,
          3.1,
          3.4,
          4.1,
          4.2,
          3.1,
          3.2,
          3.5,
          3.1,
          3,
          3.4,
          3.5,
          2.3,
          3.2,
          3.5,
          3.8,
          3,
          3.8,
          3.2,
          3.7,
          3.3,
          3.2,
          3.2,
          3.1,
          2.3,
          2.8,
          2.8,
          3.3,
          2.4,
          2.9,
          2.7,
          2,
          3,
          2.2,
          2.9,
          2.9,
          3.1,
          3,
          2.7,
          2.2,
          2.5,
          3.2,
          2.8,
          2.5,
          2.8,
          2.9,
          3,
          2.8,
          3,
          2.9,
          2.6,
          2.4,
          2.4,
          2.7,
          2.7,
          3,
          3.4,
          3.1,
          2.3,
          3,
          2.5,
          2.6,
          3,
          2.6,
          2.3,
          2.7,
          3,
          2.9,
          2.9,
          2.5,
          2.8,
          3.3,
          2.7,
          3,
          2.9,
          3,
          3,
          2.5,
          2.9,
          2.5,
          3.6,
          3.2,
          2.7,
          3,
          2.5,
          2.8,
          3.2,
          3,
          3.8,
          2.6,
          2.2,
          3.2,
          2.8,
          2.8,
          2.7,
          3.3,
          3.2,
          2.8,
          3,
          2.8,
          3,
          2.8,
          3.8,
          2.8,
          2.8,
          2.6,
          3,
          3.4,
          3.1,
          3,
          3.1,
          3.1,
          3.1,
          2.7,
          3.2,
          3.3,
          3,
          2.5,
          3,
          3.4,
          3
         ],
         "xaxis": "x2",
         "yaxis": "y2"
        }
       ],
       "layout": {
        "annotations": [
         {
          "font": {
           "size": 16
          },
          "showarrow": false,
          "text": "sepal_length vs. sepal_width",
          "x": 0.225,
          "xanchor": "center",
          "xref": "paper",
          "y": 1,
          "yanchor": "bottom",
          "yref": "paper"
         },
         {
          "font": {
           "size": 16
          },
          "showarrow": false,
          "text": "distribution of sepal_width",
          "x": 0.775,
          "xanchor": "center",
          "xref": "paper",
          "y": 1,
          "yanchor": "bottom",
          "yref": "paper"
         }
        ],
        "showlegend": false,
        "template": {
         "data": {
          "bar": [
           {
            "error_x": {
             "color": "#2a3f5f"
            },
            "error_y": {
             "color": "#2a3f5f"
            },
            "marker": {
             "line": {
              "color": "#E5ECF6",
              "width": 0.5
             },
             "pattern": {
              "fillmode": "overlay",
              "size": 10,
              "solidity": 0.2
             }
            },
            "type": "bar"
           }
          ],
          "barpolar": [
           {
            "marker": {
             "line": {
              "color": "#E5ECF6",
              "width": 0.5
             },
             "pattern": {
              "fillmode": "overlay",
              "size": 10,
              "solidity": 0.2
             }
            },
            "type": "barpolar"
           }
          ],
          "carpet": [
           {
            "aaxis": {
             "endlinecolor": "#2a3f5f",
             "gridcolor": "white",
             "linecolor": "white",
             "minorgridcolor": "white",
             "startlinecolor": "#2a3f5f"
            },
            "baxis": {
             "endlinecolor": "#2a3f5f",
             "gridcolor": "white",
             "linecolor": "white",
             "minorgridcolor": "white",
             "startlinecolor": "#2a3f5f"
            },
            "type": "carpet"
           }
          ],
          "choropleth": [
           {
            "colorbar": {
             "outlinewidth": 0,
             "ticks": ""
            },
            "type": "choropleth"
           }
          ],
          "contour": [
           {
            "colorbar": {
             "outlinewidth": 0,
             "ticks": ""
            },
            "colorscale": [
             [
              0,
              "#0d0887"
             ],
             [
              0.1111111111111111,
              "#46039f"
             ],
             [
              0.2222222222222222,
              "#7201a8"
             ],
             [
              0.3333333333333333,
              "#9c179e"
             ],
             [
              0.4444444444444444,
              "#bd3786"
             ],
             [
              0.5555555555555556,
              "#d8576b"
             ],
             [
              0.6666666666666666,
              "#ed7953"
             ],
             [
              0.7777777777777778,
              "#fb9f3a"
             ],
             [
              0.8888888888888888,
              "#fdca26"
             ],
             [
              1,
              "#f0f921"
             ]
            ],
            "type": "contour"
           }
          ],
          "contourcarpet": [
           {
            "colorbar": {
             "outlinewidth": 0,
             "ticks": ""
            },
            "type": "contourcarpet"
           }
          ],
          "heatmap": [
           {
            "colorbar": {
             "outlinewidth": 0,
             "ticks": ""
            },
            "colorscale": [
             [
              0,
              "#0d0887"
             ],
             [
              0.1111111111111111,
              "#46039f"
             ],
             [
              0.2222222222222222,
              "#7201a8"
             ],
             [
              0.3333333333333333,
              "#9c179e"
             ],
             [
              0.4444444444444444,
              "#bd3786"
             ],
             [
              0.5555555555555556,
              "#d8576b"
             ],
             [
              0.6666666666666666,
              "#ed7953"
             ],
             [
              0.7777777777777778,
              "#fb9f3a"
             ],
             [
              0.8888888888888888,
              "#fdca26"
             ],
             [
              1,
              "#f0f921"
             ]
            ],
            "type": "heatmap"
           }
          ],
          "heatmapgl": [
           {
            "colorbar": {
             "outlinewidth": 0,
             "ticks": ""
            },
            "colorscale": [
             [
              0,
              "#0d0887"
             ],
             [
              0.1111111111111111,
              "#46039f"
             ],
             [
              0.2222222222222222,
              "#7201a8"
             ],
             [
              0.3333333333333333,
              "#9c179e"
             ],
             [
              0.4444444444444444,
              "#bd3786"
             ],
             [
              0.5555555555555556,
              "#d8576b"
             ],
             [
              0.6666666666666666,
              "#ed7953"
             ],
             [
              0.7777777777777778,
              "#fb9f3a"
             ],
             [
              0.8888888888888888,
              "#fdca26"
             ],
             [
              1,
              "#f0f921"
             ]
            ],
            "type": "heatmapgl"
           }
          ],
          "histogram": [
           {
            "marker": {
             "pattern": {
              "fillmode": "overlay",
              "size": 10,
              "solidity": 0.2
             }
            },
            "type": "histogram"
           }
          ],
          "histogram2d": [
           {
            "colorbar": {
             "outlinewidth": 0,
             "ticks": ""
            },
            "colorscale": [
             [
              0,
              "#0d0887"
             ],
             [
              0.1111111111111111,
              "#46039f"
             ],
             [
              0.2222222222222222,
              "#7201a8"
             ],
             [
              0.3333333333333333,
              "#9c179e"
             ],
             [
              0.4444444444444444,
              "#bd3786"
             ],
             [
              0.5555555555555556,
              "#d8576b"
             ],
             [
              0.6666666666666666,
              "#ed7953"
             ],
             [
              0.7777777777777778,
              "#fb9f3a"
             ],
             [
              0.8888888888888888,
              "#fdca26"
             ],
             [
              1,
              "#f0f921"
             ]
            ],
            "type": "histogram2d"
           }
          ],
          "histogram2dcontour": [
           {
            "colorbar": {
             "outlinewidth": 0,
             "ticks": ""
            },
            "colorscale": [
             [
              0,
              "#0d0887"
             ],
             [
              0.1111111111111111,
              "#46039f"
             ],
             [
              0.2222222222222222,
              "#7201a8"
             ],
             [
              0.3333333333333333,
              "#9c179e"
             ],
             [
              0.4444444444444444,
              "#bd3786"
             ],
             [
              0.5555555555555556,
              "#d8576b"
             ],
             [
              0.6666666666666666,
              "#ed7953"
             ],
             [
              0.7777777777777778,
              "#fb9f3a"
             ],
             [
              0.8888888888888888,
              "#fdca26"
             ],
             [
              1,
              "#f0f921"
             ]
            ],
            "type": "histogram2dcontour"
           }
          ],
          "mesh3d": [
           {
            "colorbar": {
             "outlinewidth": 0,
             "ticks": ""
            },
            "type": "mesh3d"
           }
          ],
          "parcoords": [
           {
            "line": {
             "colorbar": {
              "outlinewidth": 0,
              "ticks": ""
             }
            },
            "type": "parcoords"
           }
          ],
          "pie": [
           {
            "automargin": true,
            "type": "pie"
           }
          ],
          "scatter": [
           {
            "fillpattern": {
             "fillmode": "overlay",
             "size": 10,
             "solidity": 0.2
            },
            "type": "scatter"
           }
          ],
          "scatter3d": [
           {
            "line": {
             "colorbar": {
              "outlinewidth": 0,
              "ticks": ""
             }
            },
            "marker": {
             "colorbar": {
              "outlinewidth": 0,
              "ticks": ""
             }
            },
            "type": "scatter3d"
           }
          ],
          "scattercarpet": [
           {
            "marker": {
             "colorbar": {
              "outlinewidth": 0,
              "ticks": ""
             }
            },
            "type": "scattercarpet"
           }
          ],
          "scattergeo": [
           {
            "marker": {
             "colorbar": {
              "outlinewidth": 0,
              "ticks": ""
             }
            },
            "type": "scattergeo"
           }
          ],
          "scattergl": [
           {
            "marker": {
             "colorbar": {
              "outlinewidth": 0,
              "ticks": ""
             }
            },
            "type": "scattergl"
           }
          ],
          "scattermapbox": [
           {
            "marker": {
             "colorbar": {
              "outlinewidth": 0,
              "ticks": ""
             }
            },
            "type": "scattermapbox"
           }
          ],
          "scatterpolar": [
           {
            "marker": {
             "colorbar": {
              "outlinewidth": 0,
              "ticks": ""
             }
            },
            "type": "scatterpolar"
           }
          ],
          "scatterpolargl": [
           {
            "marker": {
             "colorbar": {
              "outlinewidth": 0,
              "ticks": ""
             }
            },
            "type": "scatterpolargl"
           }
          ],
          "scatterternary": [
           {
            "marker": {
             "colorbar": {
              "outlinewidth": 0,
              "ticks": ""
             }
            },
            "type": "scatterternary"
           }
          ],
          "surface": [
           {
            "colorbar": {
             "outlinewidth": 0,
             "ticks": ""
            },
            "colorscale": [
             [
              0,
              "#0d0887"
             ],
             [
              0.1111111111111111,
              "#46039f"
             ],
             [
              0.2222222222222222,
              "#7201a8"
             ],
             [
              0.3333333333333333,
              "#9c179e"
             ],
             [
              0.4444444444444444,
              "#bd3786"
             ],
             [
              0.5555555555555556,
              "#d8576b"
             ],
             [
              0.6666666666666666,
              "#ed7953"
             ],
             [
              0.7777777777777778,
              "#fb9f3a"
             ],
             [
              0.8888888888888888,
              "#fdca26"
             ],
             [
              1,
              "#f0f921"
             ]
            ],
            "type": "surface"
           }
          ],
          "table": [
           {
            "cells": {
             "fill": {
              "color": "#EBF0F8"
             },
             "line": {
              "color": "white"
             }
            },
            "header": {
             "fill": {
              "color": "#C8D4E3"
             },
             "line": {
              "color": "white"
             }
            },
            "type": "table"
           }
          ]
         },
         "layout": {
          "annotationdefaults": {
           "arrowcolor": "#2a3f5f",
           "arrowhead": 0,
           "arrowwidth": 1
          },
          "autotypenumbers": "strict",
          "coloraxis": {
           "colorbar": {
            "outlinewidth": 0,
            "ticks": ""
           }
          },
          "colorscale": {
           "diverging": [
            [
             0,
             "#8e0152"
            ],
            [
             0.1,
             "#c51b7d"
            ],
            [
             0.2,
             "#de77ae"
            ],
            [
             0.3,
             "#f1b6da"
            ],
            [
             0.4,
             "#fde0ef"
            ],
            [
             0.5,
             "#f7f7f7"
            ],
            [
             0.6,
             "#e6f5d0"
            ],
            [
             0.7,
             "#b8e186"
            ],
            [
             0.8,
             "#7fbc41"
            ],
            [
             0.9,
             "#4d9221"
            ],
            [
             1,
             "#276419"
            ]
           ],
           "sequential": [
            [
             0,
             "#0d0887"
            ],
            [
             0.1111111111111111,
             "#46039f"
            ],
            [
             0.2222222222222222,
             "#7201a8"
            ],
            [
             0.3333333333333333,
             "#9c179e"
            ],
            [
             0.4444444444444444,
             "#bd3786"
            ],
            [
             0.5555555555555556,
             "#d8576b"
            ],
            [
             0.6666666666666666,
             "#ed7953"
            ],
            [
             0.7777777777777778,
             "#fb9f3a"
            ],
            [
             0.8888888888888888,
             "#fdca26"
            ],
            [
             1,
             "#f0f921"
            ]
           ],
           "sequentialminus": [
            [
             0,
             "#0d0887"
            ],
            [
             0.1111111111111111,
             "#46039f"
            ],
            [
             0.2222222222222222,
             "#7201a8"
            ],
            [
             0.3333333333333333,
             "#9c179e"
            ],
            [
             0.4444444444444444,
             "#bd3786"
            ],
            [
             0.5555555555555556,
             "#d8576b"
            ],
            [
             0.6666666666666666,
             "#ed7953"
            ],
            [
             0.7777777777777778,
             "#fb9f3a"
            ],
            [
             0.8888888888888888,
             "#fdca26"
            ],
            [
             1,
             "#f0f921"
            ]
           ]
          },
          "colorway": [
           "#636efa",
           "#EF553B",
           "#00cc96",
           "#ab63fa",
           "#FFA15A",
           "#19d3f3",
           "#FF6692",
           "#B6E880",
           "#FF97FF",
           "#FECB52"
          ],
          "font": {
           "color": "#2a3f5f"
          },
          "geo": {
           "bgcolor": "white",
           "lakecolor": "white",
           "landcolor": "#E5ECF6",
           "showlakes": true,
           "showland": true,
           "subunitcolor": "white"
          },
          "hoverlabel": {
           "align": "left"
          },
          "hovermode": "closest",
          "mapbox": {
           "style": "light"
          },
          "paper_bgcolor": "white",
          "plot_bgcolor": "#E5ECF6",
          "polar": {
           "angularaxis": {
            "gridcolor": "white",
            "linecolor": "white",
            "ticks": ""
           },
           "bgcolor": "#E5ECF6",
           "radialaxis": {
            "gridcolor": "white",
            "linecolor": "white",
            "ticks": ""
           }
          },
          "scene": {
           "xaxis": {
            "backgroundcolor": "#E5ECF6",
            "gridcolor": "white",
            "gridwidth": 2,
            "linecolor": "white",
            "showbackground": true,
            "ticks": "",
            "zerolinecolor": "white"
           },
           "yaxis": {
            "backgroundcolor": "#E5ECF6",
            "gridcolor": "white",
            "gridwidth": 2,
            "linecolor": "white",
            "showbackground": true,
            "ticks": "",
            "zerolinecolor": "white"
           },
           "zaxis": {
            "backgroundcolor": "#E5ECF6",
            "gridcolor": "white",
            "gridwidth": 2,
            "linecolor": "white",
            "showbackground": true,
            "ticks": "",
            "zerolinecolor": "white"
           }
          },
          "shapedefaults": {
           "line": {
            "color": "#2a3f5f"
           }
          },
          "ternary": {
           "aaxis": {
            "gridcolor": "white",
            "linecolor": "white",
            "ticks": ""
           },
           "baxis": {
            "gridcolor": "white",
            "linecolor": "white",
            "ticks": ""
           },
           "bgcolor": "#E5ECF6",
           "caxis": {
            "gridcolor": "white",
            "linecolor": "white",
            "ticks": ""
           }
          },
          "title": {
           "x": 0.05
          },
          "xaxis": {
           "automargin": true,
           "gridcolor": "white",
           "linecolor": "white",
           "ticks": "",
           "title": {
            "standoff": 15
           },
           "zerolinecolor": "white",
           "zerolinewidth": 2
          },
          "yaxis": {
           "automargin": true,
           "gridcolor": "white",
           "linecolor": "white",
           "ticks": "",
           "title": {
            "standoff": 15
           },
           "zerolinecolor": "white",
           "zerolinewidth": 2
          }
         }
        },
        "title": {
         "text": "This figure has been made with plotly graph objects",
         "x": 0.5
        },
        "xaxis": {
         "anchor": "y",
         "domain": [
          0,
          0.45
         ]
        },
        "xaxis2": {
         "anchor": "y2",
         "domain": [
          0.55,
          1
         ]
        },
        "yaxis": {
         "anchor": "x",
         "domain": [
          0,
          1
         ]
        },
        "yaxis2": {
         "anchor": "x2",
         "domain": [
          0,
          1
         ]
        }
       }
      }
     },
     "metadata": {},
     "output_type": "display_data"
    }
   ],
   "source": [
    "from plotly.subplots import make_subplots\n",
    "\n",
    "fig = make_subplots(\n",
    "  rows = 1, \n",
    "  cols = 2, \n",
    "  subplot_titles = (\"sepal_length vs. sepal_width\", \"distribution of sepal_width\")\n",
    ")\n",
    "\n",
    "fig.add_trace(\n",
    "  go.Scatter(\n",
    "    x = df['sepal_width'],\n",
    "    y = df['sepal_length'],\n",
    "    mode = 'markers',\n",
    "    marker = go.scatter.Marker(color = df['species_id'])\n",
    "  ),\n",
    "  row = 1,\n",
    "  col = 1,\n",
    ")\n",
    "\n",
    "fig.add_trace(\n",
    "  go.Histogram(\n",
    "    x = df['sepal_width']\n",
    "  ),\n",
    "  row = 1,\n",
    "  col = 2,\n",
    ")\n",
    "\n",
    "fig.update_layout(\n",
    "  title = go.layout.Title(text = \"This figure has been made with plotly graph objects\", x = 0.5),\n",
    "  showlegend = False\n",
    ")\n",
    "\n",
    "fig.show()"
   ]
  },
  {
   "cell_type": "markdown",
   "metadata": {},
   "source": [
    "# Adding some interactivity"
   ]
  },
  {
   "cell_type": "markdown",
   "metadata": {},
   "source": [
    "## Range sliders"
   ]
  },
  {
   "cell_type": "code",
   "execution_count": 94,
   "metadata": {},
   "outputs": [
    {
     "data": {
      "application/vnd.plotly.v1+json": {
       "config": {
        "plotlyServerURL": "https://plot.ly"
       },
       "data": [
        {
         "nbinsx": 40,
         "type": "histogram",
         "x": [
          3.5,
          3,
          3.2,
          3.1,
          3.6,
          3.9,
          3.4,
          3.4,
          2.9,
          3.1,
          3.7,
          3.4,
          3,
          3,
          4,
          4.4,
          3.9,
          3.5,
          3.8,
          3.8,
          3.4,
          3.7,
          3.6,
          3.3,
          3.4,
          3,
          3.4,
          3.5,
          3.4,
          3.2,
          3.1,
          3.4,
          4.1,
          4.2,
          3.1,
          3.2,
          3.5,
          3.1,
          3,
          3.4,
          3.5,
          2.3,
          3.2,
          3.5,
          3.8,
          3,
          3.8,
          3.2,
          3.7,
          3.3,
          3.2,
          3.2,
          3.1,
          2.3,
          2.8,
          2.8,
          3.3,
          2.4,
          2.9,
          2.7,
          2,
          3,
          2.2,
          2.9,
          2.9,
          3.1,
          3,
          2.7,
          2.2,
          2.5,
          3.2,
          2.8,
          2.5,
          2.8,
          2.9,
          3,
          2.8,
          3,
          2.9,
          2.6,
          2.4,
          2.4,
          2.7,
          2.7,
          3,
          3.4,
          3.1,
          2.3,
          3,
          2.5,
          2.6,
          3,
          2.6,
          2.3,
          2.7,
          3,
          2.9,
          2.9,
          2.5,
          2.8,
          3.3,
          2.7,
          3,
          2.9,
          3,
          3,
          2.5,
          2.9,
          2.5,
          3.6,
          3.2,
          2.7,
          3,
          2.5,
          2.8,
          3.2,
          3,
          3.8,
          2.6,
          2.2,
          3.2,
          2.8,
          2.8,
          2.7,
          3.3,
          3.2,
          2.8,
          3,
          2.8,
          3,
          2.8,
          3.8,
          2.8,
          2.8,
          2.6,
          3,
          3.4,
          3.1,
          3,
          3.1,
          3.1,
          3.1,
          2.7,
          3.2,
          3.3,
          3,
          2.5,
          3,
          3.4,
          3
         ]
        }
       ],
       "layout": {
        "template": {
         "data": {
          "bar": [
           {
            "error_x": {
             "color": "#2a3f5f"
            },
            "error_y": {
             "color": "#2a3f5f"
            },
            "marker": {
             "line": {
              "color": "#E5ECF6",
              "width": 0.5
             },
             "pattern": {
              "fillmode": "overlay",
              "size": 10,
              "solidity": 0.2
             }
            },
            "type": "bar"
           }
          ],
          "barpolar": [
           {
            "marker": {
             "line": {
              "color": "#E5ECF6",
              "width": 0.5
             },
             "pattern": {
              "fillmode": "overlay",
              "size": 10,
              "solidity": 0.2
             }
            },
            "type": "barpolar"
           }
          ],
          "carpet": [
           {
            "aaxis": {
             "endlinecolor": "#2a3f5f",
             "gridcolor": "white",
             "linecolor": "white",
             "minorgridcolor": "white",
             "startlinecolor": "#2a3f5f"
            },
            "baxis": {
             "endlinecolor": "#2a3f5f",
             "gridcolor": "white",
             "linecolor": "white",
             "minorgridcolor": "white",
             "startlinecolor": "#2a3f5f"
            },
            "type": "carpet"
           }
          ],
          "choropleth": [
           {
            "colorbar": {
             "outlinewidth": 0,
             "ticks": ""
            },
            "type": "choropleth"
           }
          ],
          "contour": [
           {
            "colorbar": {
             "outlinewidth": 0,
             "ticks": ""
            },
            "colorscale": [
             [
              0,
              "#0d0887"
             ],
             [
              0.1111111111111111,
              "#46039f"
             ],
             [
              0.2222222222222222,
              "#7201a8"
             ],
             [
              0.3333333333333333,
              "#9c179e"
             ],
             [
              0.4444444444444444,
              "#bd3786"
             ],
             [
              0.5555555555555556,
              "#d8576b"
             ],
             [
              0.6666666666666666,
              "#ed7953"
             ],
             [
              0.7777777777777778,
              "#fb9f3a"
             ],
             [
              0.8888888888888888,
              "#fdca26"
             ],
             [
              1,
              "#f0f921"
             ]
            ],
            "type": "contour"
           }
          ],
          "contourcarpet": [
           {
            "colorbar": {
             "outlinewidth": 0,
             "ticks": ""
            },
            "type": "contourcarpet"
           }
          ],
          "heatmap": [
           {
            "colorbar": {
             "outlinewidth": 0,
             "ticks": ""
            },
            "colorscale": [
             [
              0,
              "#0d0887"
             ],
             [
              0.1111111111111111,
              "#46039f"
             ],
             [
              0.2222222222222222,
              "#7201a8"
             ],
             [
              0.3333333333333333,
              "#9c179e"
             ],
             [
              0.4444444444444444,
              "#bd3786"
             ],
             [
              0.5555555555555556,
              "#d8576b"
             ],
             [
              0.6666666666666666,
              "#ed7953"
             ],
             [
              0.7777777777777778,
              "#fb9f3a"
             ],
             [
              0.8888888888888888,
              "#fdca26"
             ],
             [
              1,
              "#f0f921"
             ]
            ],
            "type": "heatmap"
           }
          ],
          "heatmapgl": [
           {
            "colorbar": {
             "outlinewidth": 0,
             "ticks": ""
            },
            "colorscale": [
             [
              0,
              "#0d0887"
             ],
             [
              0.1111111111111111,
              "#46039f"
             ],
             [
              0.2222222222222222,
              "#7201a8"
             ],
             [
              0.3333333333333333,
              "#9c179e"
             ],
             [
              0.4444444444444444,
              "#bd3786"
             ],
             [
              0.5555555555555556,
              "#d8576b"
             ],
             [
              0.6666666666666666,
              "#ed7953"
             ],
             [
              0.7777777777777778,
              "#fb9f3a"
             ],
             [
              0.8888888888888888,
              "#fdca26"
             ],
             [
              1,
              "#f0f921"
             ]
            ],
            "type": "heatmapgl"
           }
          ],
          "histogram": [
           {
            "marker": {
             "pattern": {
              "fillmode": "overlay",
              "size": 10,
              "solidity": 0.2
             }
            },
            "type": "histogram"
           }
          ],
          "histogram2d": [
           {
            "colorbar": {
             "outlinewidth": 0,
             "ticks": ""
            },
            "colorscale": [
             [
              0,
              "#0d0887"
             ],
             [
              0.1111111111111111,
              "#46039f"
             ],
             [
              0.2222222222222222,
              "#7201a8"
             ],
             [
              0.3333333333333333,
              "#9c179e"
             ],
             [
              0.4444444444444444,
              "#bd3786"
             ],
             [
              0.5555555555555556,
              "#d8576b"
             ],
             [
              0.6666666666666666,
              "#ed7953"
             ],
             [
              0.7777777777777778,
              "#fb9f3a"
             ],
             [
              0.8888888888888888,
              "#fdca26"
             ],
             [
              1,
              "#f0f921"
             ]
            ],
            "type": "histogram2d"
           }
          ],
          "histogram2dcontour": [
           {
            "colorbar": {
             "outlinewidth": 0,
             "ticks": ""
            },
            "colorscale": [
             [
              0,
              "#0d0887"
             ],
             [
              0.1111111111111111,
              "#46039f"
             ],
             [
              0.2222222222222222,
              "#7201a8"
             ],
             [
              0.3333333333333333,
              "#9c179e"
             ],
             [
              0.4444444444444444,
              "#bd3786"
             ],
             [
              0.5555555555555556,
              "#d8576b"
             ],
             [
              0.6666666666666666,
              "#ed7953"
             ],
             [
              0.7777777777777778,
              "#fb9f3a"
             ],
             [
              0.8888888888888888,
              "#fdca26"
             ],
             [
              1,
              "#f0f921"
             ]
            ],
            "type": "histogram2dcontour"
           }
          ],
          "mesh3d": [
           {
            "colorbar": {
             "outlinewidth": 0,
             "ticks": ""
            },
            "type": "mesh3d"
           }
          ],
          "parcoords": [
           {
            "line": {
             "colorbar": {
              "outlinewidth": 0,
              "ticks": ""
             }
            },
            "type": "parcoords"
           }
          ],
          "pie": [
           {
            "automargin": true,
            "type": "pie"
           }
          ],
          "scatter": [
           {
            "fillpattern": {
             "fillmode": "overlay",
             "size": 10,
             "solidity": 0.2
            },
            "type": "scatter"
           }
          ],
          "scatter3d": [
           {
            "line": {
             "colorbar": {
              "outlinewidth": 0,
              "ticks": ""
             }
            },
            "marker": {
             "colorbar": {
              "outlinewidth": 0,
              "ticks": ""
             }
            },
            "type": "scatter3d"
           }
          ],
          "scattercarpet": [
           {
            "marker": {
             "colorbar": {
              "outlinewidth": 0,
              "ticks": ""
             }
            },
            "type": "scattercarpet"
           }
          ],
          "scattergeo": [
           {
            "marker": {
             "colorbar": {
              "outlinewidth": 0,
              "ticks": ""
             }
            },
            "type": "scattergeo"
           }
          ],
          "scattergl": [
           {
            "marker": {
             "colorbar": {
              "outlinewidth": 0,
              "ticks": ""
             }
            },
            "type": "scattergl"
           }
          ],
          "scattermapbox": [
           {
            "marker": {
             "colorbar": {
              "outlinewidth": 0,
              "ticks": ""
             }
            },
            "type": "scattermapbox"
           }
          ],
          "scatterpolar": [
           {
            "marker": {
             "colorbar": {
              "outlinewidth": 0,
              "ticks": ""
             }
            },
            "type": "scatterpolar"
           }
          ],
          "scatterpolargl": [
           {
            "marker": {
             "colorbar": {
              "outlinewidth": 0,
              "ticks": ""
             }
            },
            "type": "scatterpolargl"
           }
          ],
          "scatterternary": [
           {
            "marker": {
             "colorbar": {
              "outlinewidth": 0,
              "ticks": ""
             }
            },
            "type": "scatterternary"
           }
          ],
          "surface": [
           {
            "colorbar": {
             "outlinewidth": 0,
             "ticks": ""
            },
            "colorscale": [
             [
              0,
              "#0d0887"
             ],
             [
              0.1111111111111111,
              "#46039f"
             ],
             [
              0.2222222222222222,
              "#7201a8"
             ],
             [
              0.3333333333333333,
              "#9c179e"
             ],
             [
              0.4444444444444444,
              "#bd3786"
             ],
             [
              0.5555555555555556,
              "#d8576b"
             ],
             [
              0.6666666666666666,
              "#ed7953"
             ],
             [
              0.7777777777777778,
              "#fb9f3a"
             ],
             [
              0.8888888888888888,
              "#fdca26"
             ],
             [
              1,
              "#f0f921"
             ]
            ],
            "type": "surface"
           }
          ],
          "table": [
           {
            "cells": {
             "fill": {
              "color": "#EBF0F8"
             },
             "line": {
              "color": "white"
             }
            },
            "header": {
             "fill": {
              "color": "#C8D4E3"
             },
             "line": {
              "color": "white"
             }
            },
            "type": "table"
           }
          ]
         },
         "layout": {
          "annotationdefaults": {
           "arrowcolor": "#2a3f5f",
           "arrowhead": 0,
           "arrowwidth": 1
          },
          "autotypenumbers": "strict",
          "coloraxis": {
           "colorbar": {
            "outlinewidth": 0,
            "ticks": ""
           }
          },
          "colorscale": {
           "diverging": [
            [
             0,
             "#8e0152"
            ],
            [
             0.1,
             "#c51b7d"
            ],
            [
             0.2,
             "#de77ae"
            ],
            [
             0.3,
             "#f1b6da"
            ],
            [
             0.4,
             "#fde0ef"
            ],
            [
             0.5,
             "#f7f7f7"
            ],
            [
             0.6,
             "#e6f5d0"
            ],
            [
             0.7,
             "#b8e186"
            ],
            [
             0.8,
             "#7fbc41"
            ],
            [
             0.9,
             "#4d9221"
            ],
            [
             1,
             "#276419"
            ]
           ],
           "sequential": [
            [
             0,
             "#0d0887"
            ],
            [
             0.1111111111111111,
             "#46039f"
            ],
            [
             0.2222222222222222,
             "#7201a8"
            ],
            [
             0.3333333333333333,
             "#9c179e"
            ],
            [
             0.4444444444444444,
             "#bd3786"
            ],
            [
             0.5555555555555556,
             "#d8576b"
            ],
            [
             0.6666666666666666,
             "#ed7953"
            ],
            [
             0.7777777777777778,
             "#fb9f3a"
            ],
            [
             0.8888888888888888,
             "#fdca26"
            ],
            [
             1,
             "#f0f921"
            ]
           ],
           "sequentialminus": [
            [
             0,
             "#0d0887"
            ],
            [
             0.1111111111111111,
             "#46039f"
            ],
            [
             0.2222222222222222,
             "#7201a8"
            ],
            [
             0.3333333333333333,
             "#9c179e"
            ],
            [
             0.4444444444444444,
             "#bd3786"
            ],
            [
             0.5555555555555556,
             "#d8576b"
            ],
            [
             0.6666666666666666,
             "#ed7953"
            ],
            [
             0.7777777777777778,
             "#fb9f3a"
            ],
            [
             0.8888888888888888,
             "#fdca26"
            ],
            [
             1,
             "#f0f921"
            ]
           ]
          },
          "colorway": [
           "#636efa",
           "#EF553B",
           "#00cc96",
           "#ab63fa",
           "#FFA15A",
           "#19d3f3",
           "#FF6692",
           "#B6E880",
           "#FF97FF",
           "#FECB52"
          ],
          "font": {
           "color": "#2a3f5f"
          },
          "geo": {
           "bgcolor": "white",
           "lakecolor": "white",
           "landcolor": "#E5ECF6",
           "showlakes": true,
           "showland": true,
           "subunitcolor": "white"
          },
          "hoverlabel": {
           "align": "left"
          },
          "hovermode": "closest",
          "mapbox": {
           "style": "light"
          },
          "paper_bgcolor": "white",
          "plot_bgcolor": "#E5ECF6",
          "polar": {
           "angularaxis": {
            "gridcolor": "white",
            "linecolor": "white",
            "ticks": ""
           },
           "bgcolor": "#E5ECF6",
           "radialaxis": {
            "gridcolor": "white",
            "linecolor": "white",
            "ticks": ""
           }
          },
          "scene": {
           "xaxis": {
            "backgroundcolor": "#E5ECF6",
            "gridcolor": "white",
            "gridwidth": 2,
            "linecolor": "white",
            "showbackground": true,
            "ticks": "",
            "zerolinecolor": "white"
           },
           "yaxis": {
            "backgroundcolor": "#E5ECF6",
            "gridcolor": "white",
            "gridwidth": 2,
            "linecolor": "white",
            "showbackground": true,
            "ticks": "",
            "zerolinecolor": "white"
           },
           "zaxis": {
            "backgroundcolor": "#E5ECF6",
            "gridcolor": "white",
            "gridwidth": 2,
            "linecolor": "white",
            "showbackground": true,
            "ticks": "",
            "zerolinecolor": "white"
           }
          },
          "shapedefaults": {
           "line": {
            "color": "#2a3f5f"
           }
          },
          "ternary": {
           "aaxis": {
            "gridcolor": "white",
            "linecolor": "white",
            "ticks": ""
           },
           "baxis": {
            "gridcolor": "white",
            "linecolor": "white",
            "ticks": ""
           },
           "bgcolor": "#E5ECF6",
           "caxis": {
            "gridcolor": "white",
            "linecolor": "white",
            "ticks": ""
           }
          },
          "title": {
           "x": 0.05
          },
          "xaxis": {
           "automargin": true,
           "gridcolor": "white",
           "linecolor": "white",
           "ticks": "",
           "title": {
            "standoff": 15
           },
           "zerolinecolor": "white",
           "zerolinewidth": 2
          },
          "yaxis": {
           "automargin": true,
           "gridcolor": "white",
           "linecolor": "white",
           "ticks": "",
           "title": {
            "standoff": 15
           },
           "zerolinecolor": "white",
           "zerolinewidth": 2
          }
         }
        },
        "title": {
         "text": "This figure has been made with plotly graph objects",
         "x": 0.5
        },
        "xaxis": {
         "rangeslider": {
          "visible": true
         },
         "title": {
          "text": "Sepal width"
         }
        }
       }
      }
     },
     "metadata": {},
     "output_type": "display_data"
    }
   ],
   "source": [
    "fig = go.Figure(\n",
    "    data = go.Histogram(\n",
    "        x = df['sepal_width'],\n",
    "        nbinsx = 40),\n",
    "    layout = go.Layout(\n",
    "        title = go.layout.Title(text = \"This figure has been made with plotly graph objects\", x = 0.5),\n",
    "        xaxis = go.layout.XAxis(title = 'Sepal width', rangeslider = go.layout.xaxis.Rangeslider(visible = True))\n",
    "    )\n",
    ")\n",
    "\n",
    "fig.show()"
   ]
  },
  {
   "cell_type": "code",
   "execution_count": 95,
   "metadata": {},
   "outputs": [
    {
     "data": {
      "application/vnd.plotly.v1+json": {
       "config": {
        "plotlyServerURL": "https://plot.ly"
       },
       "data": [
        {
         "nbinsx": 40,
         "type": "histogram",
         "x": [
          3.5,
          3,
          3.2,
          3.1,
          3.6,
          3.9,
          3.4,
          3.4,
          2.9,
          3.1,
          3.7,
          3.4,
          3,
          3,
          4,
          4.4,
          3.9,
          3.5,
          3.8,
          3.8,
          3.4,
          3.7,
          3.6,
          3.3,
          3.4,
          3,
          3.4,
          3.5,
          3.4,
          3.2,
          3.1,
          3.4,
          4.1,
          4.2,
          3.1,
          3.2,
          3.5,
          3.1,
          3,
          3.4,
          3.5,
          2.3,
          3.2,
          3.5,
          3.8,
          3,
          3.8,
          3.2,
          3.7,
          3.3,
          3.2,
          3.2,
          3.1,
          2.3,
          2.8,
          2.8,
          3.3,
          2.4,
          2.9,
          2.7,
          2,
          3,
          2.2,
          2.9,
          2.9,
          3.1,
          3,
          2.7,
          2.2,
          2.5,
          3.2,
          2.8,
          2.5,
          2.8,
          2.9,
          3,
          2.8,
          3,
          2.9,
          2.6,
          2.4,
          2.4,
          2.7,
          2.7,
          3,
          3.4,
          3.1,
          2.3,
          3,
          2.5,
          2.6,
          3,
          2.6,
          2.3,
          2.7,
          3,
          2.9,
          2.9,
          2.5,
          2.8,
          3.3,
          2.7,
          3,
          2.9,
          3,
          3,
          2.5,
          2.9,
          2.5,
          3.6,
          3.2,
          2.7,
          3,
          2.5,
          2.8,
          3.2,
          3,
          3.8,
          2.6,
          2.2,
          3.2,
          2.8,
          2.8,
          2.7,
          3.3,
          3.2,
          2.8,
          3,
          2.8,
          3,
          2.8,
          3.8,
          2.8,
          2.8,
          2.6,
          3,
          3.4,
          3.1,
          3,
          3.1,
          3.1,
          3.1,
          2.7,
          3.2,
          3.3,
          3,
          2.5,
          3,
          3.4,
          3
         ]
        }
       ],
       "layout": {
        "template": {
         "data": {
          "bar": [
           {
            "error_x": {
             "color": "#2a3f5f"
            },
            "error_y": {
             "color": "#2a3f5f"
            },
            "marker": {
             "line": {
              "color": "#E5ECF6",
              "width": 0.5
             },
             "pattern": {
              "fillmode": "overlay",
              "size": 10,
              "solidity": 0.2
             }
            },
            "type": "bar"
           }
          ],
          "barpolar": [
           {
            "marker": {
             "line": {
              "color": "#E5ECF6",
              "width": 0.5
             },
             "pattern": {
              "fillmode": "overlay",
              "size": 10,
              "solidity": 0.2
             }
            },
            "type": "barpolar"
           }
          ],
          "carpet": [
           {
            "aaxis": {
             "endlinecolor": "#2a3f5f",
             "gridcolor": "white",
             "linecolor": "white",
             "minorgridcolor": "white",
             "startlinecolor": "#2a3f5f"
            },
            "baxis": {
             "endlinecolor": "#2a3f5f",
             "gridcolor": "white",
             "linecolor": "white",
             "minorgridcolor": "white",
             "startlinecolor": "#2a3f5f"
            },
            "type": "carpet"
           }
          ],
          "choropleth": [
           {
            "colorbar": {
             "outlinewidth": 0,
             "ticks": ""
            },
            "type": "choropleth"
           }
          ],
          "contour": [
           {
            "colorbar": {
             "outlinewidth": 0,
             "ticks": ""
            },
            "colorscale": [
             [
              0,
              "#0d0887"
             ],
             [
              0.1111111111111111,
              "#46039f"
             ],
             [
              0.2222222222222222,
              "#7201a8"
             ],
             [
              0.3333333333333333,
              "#9c179e"
             ],
             [
              0.4444444444444444,
              "#bd3786"
             ],
             [
              0.5555555555555556,
              "#d8576b"
             ],
             [
              0.6666666666666666,
              "#ed7953"
             ],
             [
              0.7777777777777778,
              "#fb9f3a"
             ],
             [
              0.8888888888888888,
              "#fdca26"
             ],
             [
              1,
              "#f0f921"
             ]
            ],
            "type": "contour"
           }
          ],
          "contourcarpet": [
           {
            "colorbar": {
             "outlinewidth": 0,
             "ticks": ""
            },
            "type": "contourcarpet"
           }
          ],
          "heatmap": [
           {
            "colorbar": {
             "outlinewidth": 0,
             "ticks": ""
            },
            "colorscale": [
             [
              0,
              "#0d0887"
             ],
             [
              0.1111111111111111,
              "#46039f"
             ],
             [
              0.2222222222222222,
              "#7201a8"
             ],
             [
              0.3333333333333333,
              "#9c179e"
             ],
             [
              0.4444444444444444,
              "#bd3786"
             ],
             [
              0.5555555555555556,
              "#d8576b"
             ],
             [
              0.6666666666666666,
              "#ed7953"
             ],
             [
              0.7777777777777778,
              "#fb9f3a"
             ],
             [
              0.8888888888888888,
              "#fdca26"
             ],
             [
              1,
              "#f0f921"
             ]
            ],
            "type": "heatmap"
           }
          ],
          "heatmapgl": [
           {
            "colorbar": {
             "outlinewidth": 0,
             "ticks": ""
            },
            "colorscale": [
             [
              0,
              "#0d0887"
             ],
             [
              0.1111111111111111,
              "#46039f"
             ],
             [
              0.2222222222222222,
              "#7201a8"
             ],
             [
              0.3333333333333333,
              "#9c179e"
             ],
             [
              0.4444444444444444,
              "#bd3786"
             ],
             [
              0.5555555555555556,
              "#d8576b"
             ],
             [
              0.6666666666666666,
              "#ed7953"
             ],
             [
              0.7777777777777778,
              "#fb9f3a"
             ],
             [
              0.8888888888888888,
              "#fdca26"
             ],
             [
              1,
              "#f0f921"
             ]
            ],
            "type": "heatmapgl"
           }
          ],
          "histogram": [
           {
            "marker": {
             "pattern": {
              "fillmode": "overlay",
              "size": 10,
              "solidity": 0.2
             }
            },
            "type": "histogram"
           }
          ],
          "histogram2d": [
           {
            "colorbar": {
             "outlinewidth": 0,
             "ticks": ""
            },
            "colorscale": [
             [
              0,
              "#0d0887"
             ],
             [
              0.1111111111111111,
              "#46039f"
             ],
             [
              0.2222222222222222,
              "#7201a8"
             ],
             [
              0.3333333333333333,
              "#9c179e"
             ],
             [
              0.4444444444444444,
              "#bd3786"
             ],
             [
              0.5555555555555556,
              "#d8576b"
             ],
             [
              0.6666666666666666,
              "#ed7953"
             ],
             [
              0.7777777777777778,
              "#fb9f3a"
             ],
             [
              0.8888888888888888,
              "#fdca26"
             ],
             [
              1,
              "#f0f921"
             ]
            ],
            "type": "histogram2d"
           }
          ],
          "histogram2dcontour": [
           {
            "colorbar": {
             "outlinewidth": 0,
             "ticks": ""
            },
            "colorscale": [
             [
              0,
              "#0d0887"
             ],
             [
              0.1111111111111111,
              "#46039f"
             ],
             [
              0.2222222222222222,
              "#7201a8"
             ],
             [
              0.3333333333333333,
              "#9c179e"
             ],
             [
              0.4444444444444444,
              "#bd3786"
             ],
             [
              0.5555555555555556,
              "#d8576b"
             ],
             [
              0.6666666666666666,
              "#ed7953"
             ],
             [
              0.7777777777777778,
              "#fb9f3a"
             ],
             [
              0.8888888888888888,
              "#fdca26"
             ],
             [
              1,
              "#f0f921"
             ]
            ],
            "type": "histogram2dcontour"
           }
          ],
          "mesh3d": [
           {
            "colorbar": {
             "outlinewidth": 0,
             "ticks": ""
            },
            "type": "mesh3d"
           }
          ],
          "parcoords": [
           {
            "line": {
             "colorbar": {
              "outlinewidth": 0,
              "ticks": ""
             }
            },
            "type": "parcoords"
           }
          ],
          "pie": [
           {
            "automargin": true,
            "type": "pie"
           }
          ],
          "scatter": [
           {
            "fillpattern": {
             "fillmode": "overlay",
             "size": 10,
             "solidity": 0.2
            },
            "type": "scatter"
           }
          ],
          "scatter3d": [
           {
            "line": {
             "colorbar": {
              "outlinewidth": 0,
              "ticks": ""
             }
            },
            "marker": {
             "colorbar": {
              "outlinewidth": 0,
              "ticks": ""
             }
            },
            "type": "scatter3d"
           }
          ],
          "scattercarpet": [
           {
            "marker": {
             "colorbar": {
              "outlinewidth": 0,
              "ticks": ""
             }
            },
            "type": "scattercarpet"
           }
          ],
          "scattergeo": [
           {
            "marker": {
             "colorbar": {
              "outlinewidth": 0,
              "ticks": ""
             }
            },
            "type": "scattergeo"
           }
          ],
          "scattergl": [
           {
            "marker": {
             "colorbar": {
              "outlinewidth": 0,
              "ticks": ""
             }
            },
            "type": "scattergl"
           }
          ],
          "scattermapbox": [
           {
            "marker": {
             "colorbar": {
              "outlinewidth": 0,
              "ticks": ""
             }
            },
            "type": "scattermapbox"
           }
          ],
          "scatterpolar": [
           {
            "marker": {
             "colorbar": {
              "outlinewidth": 0,
              "ticks": ""
             }
            },
            "type": "scatterpolar"
           }
          ],
          "scatterpolargl": [
           {
            "marker": {
             "colorbar": {
              "outlinewidth": 0,
              "ticks": ""
             }
            },
            "type": "scatterpolargl"
           }
          ],
          "scatterternary": [
           {
            "marker": {
             "colorbar": {
              "outlinewidth": 0,
              "ticks": ""
             }
            },
            "type": "scatterternary"
           }
          ],
          "surface": [
           {
            "colorbar": {
             "outlinewidth": 0,
             "ticks": ""
            },
            "colorscale": [
             [
              0,
              "#0d0887"
             ],
             [
              0.1111111111111111,
              "#46039f"
             ],
             [
              0.2222222222222222,
              "#7201a8"
             ],
             [
              0.3333333333333333,
              "#9c179e"
             ],
             [
              0.4444444444444444,
              "#bd3786"
             ],
             [
              0.5555555555555556,
              "#d8576b"
             ],
             [
              0.6666666666666666,
              "#ed7953"
             ],
             [
              0.7777777777777778,
              "#fb9f3a"
             ],
             [
              0.8888888888888888,
              "#fdca26"
             ],
             [
              1,
              "#f0f921"
             ]
            ],
            "type": "surface"
           }
          ],
          "table": [
           {
            "cells": {
             "fill": {
              "color": "#EBF0F8"
             },
             "line": {
              "color": "white"
             }
            },
            "header": {
             "fill": {
              "color": "#C8D4E3"
             },
             "line": {
              "color": "white"
             }
            },
            "type": "table"
           }
          ]
         },
         "layout": {
          "annotationdefaults": {
           "arrowcolor": "#2a3f5f",
           "arrowhead": 0,
           "arrowwidth": 1
          },
          "autotypenumbers": "strict",
          "coloraxis": {
           "colorbar": {
            "outlinewidth": 0,
            "ticks": ""
           }
          },
          "colorscale": {
           "diverging": [
            [
             0,
             "#8e0152"
            ],
            [
             0.1,
             "#c51b7d"
            ],
            [
             0.2,
             "#de77ae"
            ],
            [
             0.3,
             "#f1b6da"
            ],
            [
             0.4,
             "#fde0ef"
            ],
            [
             0.5,
             "#f7f7f7"
            ],
            [
             0.6,
             "#e6f5d0"
            ],
            [
             0.7,
             "#b8e186"
            ],
            [
             0.8,
             "#7fbc41"
            ],
            [
             0.9,
             "#4d9221"
            ],
            [
             1,
             "#276419"
            ]
           ],
           "sequential": [
            [
             0,
             "#0d0887"
            ],
            [
             0.1111111111111111,
             "#46039f"
            ],
            [
             0.2222222222222222,
             "#7201a8"
            ],
            [
             0.3333333333333333,
             "#9c179e"
            ],
            [
             0.4444444444444444,
             "#bd3786"
            ],
            [
             0.5555555555555556,
             "#d8576b"
            ],
            [
             0.6666666666666666,
             "#ed7953"
            ],
            [
             0.7777777777777778,
             "#fb9f3a"
            ],
            [
             0.8888888888888888,
             "#fdca26"
            ],
            [
             1,
             "#f0f921"
            ]
           ],
           "sequentialminus": [
            [
             0,
             "#0d0887"
            ],
            [
             0.1111111111111111,
             "#46039f"
            ],
            [
             0.2222222222222222,
             "#7201a8"
            ],
            [
             0.3333333333333333,
             "#9c179e"
            ],
            [
             0.4444444444444444,
             "#bd3786"
            ],
            [
             0.5555555555555556,
             "#d8576b"
            ],
            [
             0.6666666666666666,
             "#ed7953"
            ],
            [
             0.7777777777777778,
             "#fb9f3a"
            ],
            [
             0.8888888888888888,
             "#fdca26"
            ],
            [
             1,
             "#f0f921"
            ]
           ]
          },
          "colorway": [
           "#636efa",
           "#EF553B",
           "#00cc96",
           "#ab63fa",
           "#FFA15A",
           "#19d3f3",
           "#FF6692",
           "#B6E880",
           "#FF97FF",
           "#FECB52"
          ],
          "font": {
           "color": "#2a3f5f"
          },
          "geo": {
           "bgcolor": "white",
           "lakecolor": "white",
           "landcolor": "#E5ECF6",
           "showlakes": true,
           "showland": true,
           "subunitcolor": "white"
          },
          "hoverlabel": {
           "align": "left"
          },
          "hovermode": "closest",
          "mapbox": {
           "style": "light"
          },
          "paper_bgcolor": "white",
          "plot_bgcolor": "#E5ECF6",
          "polar": {
           "angularaxis": {
            "gridcolor": "white",
            "linecolor": "white",
            "ticks": ""
           },
           "bgcolor": "#E5ECF6",
           "radialaxis": {
            "gridcolor": "white",
            "linecolor": "white",
            "ticks": ""
           }
          },
          "scene": {
           "xaxis": {
            "backgroundcolor": "#E5ECF6",
            "gridcolor": "white",
            "gridwidth": 2,
            "linecolor": "white",
            "showbackground": true,
            "ticks": "",
            "zerolinecolor": "white"
           },
           "yaxis": {
            "backgroundcolor": "#E5ECF6",
            "gridcolor": "white",
            "gridwidth": 2,
            "linecolor": "white",
            "showbackground": true,
            "ticks": "",
            "zerolinecolor": "white"
           },
           "zaxis": {
            "backgroundcolor": "#E5ECF6",
            "gridcolor": "white",
            "gridwidth": 2,
            "linecolor": "white",
            "showbackground": true,
            "ticks": "",
            "zerolinecolor": "white"
           }
          },
          "shapedefaults": {
           "line": {
            "color": "#2a3f5f"
           }
          },
          "ternary": {
           "aaxis": {
            "gridcolor": "white",
            "linecolor": "white",
            "ticks": ""
           },
           "baxis": {
            "gridcolor": "white",
            "linecolor": "white",
            "ticks": ""
           },
           "bgcolor": "#E5ECF6",
           "caxis": {
            "gridcolor": "white",
            "linecolor": "white",
            "ticks": ""
           }
          },
          "title": {
           "x": 0.05
          },
          "xaxis": {
           "automargin": true,
           "gridcolor": "white",
           "linecolor": "white",
           "ticks": "",
           "title": {
            "standoff": 15
           },
           "zerolinecolor": "white",
           "zerolinewidth": 2
          },
          "yaxis": {
           "automargin": true,
           "gridcolor": "white",
           "linecolor": "white",
           "ticks": "",
           "title": {
            "standoff": 15
           },
           "zerolinecolor": "white",
           "zerolinewidth": 2
          }
         }
        },
        "title": {
         "text": "This figure has been made with plotly graph objects",
         "x": 0.5
        },
        "xaxis": {
         "rangeslider": {
          "visible": true
         },
         "title": {
          "text": "Sepal width"
         }
        }
       }
      }
     },
     "metadata": {},
     "output_type": "display_data"
    }
   ],
   "source": [
    "fig = go.Figure()\n",
    "\n",
    "fig.add_trace(\n",
    "  go.Histogram(\n",
    "    x = df['sepal_width'],\n",
    "    nbinsx = 40\n",
    "  ),    \n",
    ")\n",
    "    \n",
    "fig.update_layout(\n",
    "  title = go.layout.Title(text = \"This figure has been made with plotly graph objects\", x = 0.5),\n",
    "  xaxis = go.layout.XAxis(title = 'Sepal width', rangeslider = go.layout.xaxis.Rangeslider(visible = True))\n",
    ")\n",
    "\n",
    "fig.show()"
   ]
  },
  {
   "cell_type": "markdown",
   "metadata": {},
   "source": [
    "## Dropdown menus"
   ]
  },
  {
   "cell_type": "code",
   "execution_count": 96,
   "metadata": {},
   "outputs": [
    {
     "data": {
      "application/vnd.plotly.v1+json": {
       "config": {
        "plotlyServerURL": "https://plot.ly"
       },
       "data": [
        {
         "type": "histogram",
         "x": [
          3.5,
          3,
          3.2,
          3.1,
          3.6,
          3.9,
          3.4,
          3.4,
          2.9,
          3.1,
          3.7,
          3.4,
          3,
          3,
          4,
          4.4,
          3.9,
          3.5,
          3.8,
          3.8,
          3.4,
          3.7,
          3.6,
          3.3,
          3.4,
          3,
          3.4,
          3.5,
          3.4,
          3.2,
          3.1,
          3.4,
          4.1,
          4.2,
          3.1,
          3.2,
          3.5,
          3.1,
          3,
          3.4,
          3.5,
          2.3,
          3.2,
          3.5,
          3.8,
          3,
          3.8,
          3.2,
          3.7,
          3.3,
          3.2,
          3.2,
          3.1,
          2.3,
          2.8,
          2.8,
          3.3,
          2.4,
          2.9,
          2.7,
          2,
          3,
          2.2,
          2.9,
          2.9,
          3.1,
          3,
          2.7,
          2.2,
          2.5,
          3.2,
          2.8,
          2.5,
          2.8,
          2.9,
          3,
          2.8,
          3,
          2.9,
          2.6,
          2.4,
          2.4,
          2.7,
          2.7,
          3,
          3.4,
          3.1,
          2.3,
          3,
          2.5,
          2.6,
          3,
          2.6,
          2.3,
          2.7,
          3,
          2.9,
          2.9,
          2.5,
          2.8,
          3.3,
          2.7,
          3,
          2.9,
          3,
          3,
          2.5,
          2.9,
          2.5,
          3.6,
          3.2,
          2.7,
          3,
          2.5,
          2.8,
          3.2,
          3,
          3.8,
          2.6,
          2.2,
          3.2,
          2.8,
          2.8,
          2.7,
          3.3,
          3.2,
          2.8,
          3,
          2.8,
          3,
          2.8,
          3.8,
          2.8,
          2.8,
          2.6,
          3,
          3.4,
          3.1,
          3,
          3.1,
          3.1,
          3.1,
          2.7,
          3.2,
          3.3,
          3,
          2.5,
          3,
          3.4,
          3
         ]
        },
        {
         "type": "histogram",
         "visible": false,
         "x": [
          5.1,
          4.9,
          4.7,
          4.6,
          5,
          5.4,
          4.6,
          5,
          4.4,
          4.9,
          5.4,
          4.8,
          4.8,
          4.3,
          5.8,
          5.7,
          5.4,
          5.1,
          5.7,
          5.1,
          5.4,
          5.1,
          4.6,
          5.1,
          4.8,
          5,
          5,
          5.2,
          5.2,
          4.7,
          4.8,
          5.4,
          5.2,
          5.5,
          4.9,
          5,
          5.5,
          4.9,
          4.4,
          5.1,
          5,
          4.5,
          4.4,
          5,
          5.1,
          4.8,
          5.1,
          4.6,
          5.3,
          5,
          7,
          6.4,
          6.9,
          5.5,
          6.5,
          5.7,
          6.3,
          4.9,
          6.6,
          5.2,
          5,
          5.9,
          6,
          6.1,
          5.6,
          6.7,
          5.6,
          5.8,
          6.2,
          5.6,
          5.9,
          6.1,
          6.3,
          6.1,
          6.4,
          6.6,
          6.8,
          6.7,
          6,
          5.7,
          5.5,
          5.5,
          5.8,
          6,
          5.4,
          6,
          6.7,
          6.3,
          5.6,
          5.5,
          5.5,
          6.1,
          5.8,
          5,
          5.6,
          5.7,
          5.7,
          6.2,
          5.1,
          5.7,
          6.3,
          5.8,
          7.1,
          6.3,
          6.5,
          7.6,
          4.9,
          7.3,
          6.7,
          7.2,
          6.5,
          6.4,
          6.8,
          5.7,
          5.8,
          6.4,
          6.5,
          7.7,
          7.7,
          6,
          6.9,
          5.6,
          7.7,
          6.3,
          6.7,
          7.2,
          6.2,
          6.1,
          6.4,
          7.2,
          7.4,
          7.9,
          6.4,
          6.3,
          6.1,
          7.7,
          6.3,
          6.4,
          6,
          6.9,
          6.7,
          6.9,
          5.8,
          6.8,
          6.7,
          6.7,
          6.3,
          6.5,
          6.2,
          5.9
         ]
        },
        {
         "type": "histogram",
         "visible": false,
         "x": [
          0.2,
          0.2,
          0.2,
          0.2,
          0.2,
          0.4,
          0.3,
          0.2,
          0.2,
          0.1,
          0.2,
          0.2,
          0.1,
          0.1,
          0.2,
          0.4,
          0.4,
          0.3,
          0.3,
          0.3,
          0.2,
          0.4,
          0.2,
          0.5,
          0.2,
          0.2,
          0.4,
          0.2,
          0.2,
          0.2,
          0.2,
          0.4,
          0.1,
          0.2,
          0.1,
          0.2,
          0.2,
          0.1,
          0.2,
          0.2,
          0.3,
          0.3,
          0.2,
          0.6,
          0.4,
          0.3,
          0.2,
          0.2,
          0.2,
          0.2,
          1.4,
          1.5,
          1.5,
          1.3,
          1.5,
          1.3,
          1.6,
          1,
          1.3,
          1.4,
          1,
          1.5,
          1,
          1.4,
          1.3,
          1.4,
          1.5,
          1,
          1.5,
          1.1,
          1.8,
          1.3,
          1.5,
          1.2,
          1.3,
          1.4,
          1.4,
          1.7,
          1.5,
          1,
          1.1,
          1,
          1.2,
          1.6,
          1.5,
          1.6,
          1.5,
          1.3,
          1.3,
          1.3,
          1.2,
          1.4,
          1.2,
          1,
          1.3,
          1.2,
          1.3,
          1.3,
          1.1,
          1.3,
          2.5,
          1.9,
          2.1,
          1.8,
          2.2,
          2.1,
          1.7,
          1.8,
          1.8,
          2.5,
          2,
          1.9,
          2.1,
          2,
          2.4,
          2.3,
          1.8,
          2.2,
          2.3,
          1.5,
          2.3,
          2,
          2,
          1.8,
          2.1,
          1.8,
          1.8,
          1.8,
          2.1,
          1.6,
          1.9,
          2,
          2.2,
          1.5,
          1.4,
          2.3,
          2.4,
          1.8,
          1.8,
          2.1,
          2.4,
          2.3,
          1.9,
          2.3,
          2.5,
          2.3,
          1.9,
          2,
          2.3,
          1.8
         ]
        },
        {
         "type": "histogram",
         "visible": false,
         "x": [
          1.4,
          1.4,
          1.3,
          1.5,
          1.4,
          1.7,
          1.4,
          1.5,
          1.4,
          1.5,
          1.5,
          1.6,
          1.4,
          1.1,
          1.2,
          1.5,
          1.3,
          1.4,
          1.7,
          1.5,
          1.7,
          1.5,
          1,
          1.7,
          1.9,
          1.6,
          1.6,
          1.5,
          1.4,
          1.6,
          1.6,
          1.5,
          1.5,
          1.4,
          1.5,
          1.2,
          1.3,
          1.5,
          1.3,
          1.5,
          1.3,
          1.3,
          1.3,
          1.6,
          1.9,
          1.4,
          1.6,
          1.4,
          1.5,
          1.4,
          4.7,
          4.5,
          4.9,
          4,
          4.6,
          4.5,
          4.7,
          3.3,
          4.6,
          3.9,
          3.5,
          4.2,
          4,
          4.7,
          3.6,
          4.4,
          4.5,
          4.1,
          4.5,
          3.9,
          4.8,
          4,
          4.9,
          4.7,
          4.3,
          4.4,
          4.8,
          5,
          4.5,
          3.5,
          3.8,
          3.7,
          3.9,
          5.1,
          4.5,
          4.5,
          4.7,
          4.4,
          4.1,
          4,
          4.4,
          4.6,
          4,
          3.3,
          4.2,
          4.2,
          4.2,
          4.3,
          3,
          4.1,
          6,
          5.1,
          5.9,
          5.6,
          5.8,
          6.6,
          4.5,
          6.3,
          5.8,
          6.1,
          5.1,
          5.3,
          5.5,
          5,
          5.1,
          5.3,
          5.5,
          6.7,
          6.9,
          5,
          5.7,
          4.9,
          6.7,
          4.9,
          5.7,
          6,
          4.8,
          4.9,
          5.6,
          5.8,
          6.1,
          6.4,
          5.6,
          5.1,
          5.6,
          6.1,
          5.6,
          5.5,
          4.8,
          5.4,
          5.6,
          5.1,
          5.1,
          5.9,
          5.7,
          5.2,
          5,
          5.2,
          5.4,
          5.1
         ]
        }
       ],
       "layout": {
        "showlegend": false,
        "template": {
         "data": {
          "bar": [
           {
            "error_x": {
             "color": "#2a3f5f"
            },
            "error_y": {
             "color": "#2a3f5f"
            },
            "marker": {
             "line": {
              "color": "#E5ECF6",
              "width": 0.5
             },
             "pattern": {
              "fillmode": "overlay",
              "size": 10,
              "solidity": 0.2
             }
            },
            "type": "bar"
           }
          ],
          "barpolar": [
           {
            "marker": {
             "line": {
              "color": "#E5ECF6",
              "width": 0.5
             },
             "pattern": {
              "fillmode": "overlay",
              "size": 10,
              "solidity": 0.2
             }
            },
            "type": "barpolar"
           }
          ],
          "carpet": [
           {
            "aaxis": {
             "endlinecolor": "#2a3f5f",
             "gridcolor": "white",
             "linecolor": "white",
             "minorgridcolor": "white",
             "startlinecolor": "#2a3f5f"
            },
            "baxis": {
             "endlinecolor": "#2a3f5f",
             "gridcolor": "white",
             "linecolor": "white",
             "minorgridcolor": "white",
             "startlinecolor": "#2a3f5f"
            },
            "type": "carpet"
           }
          ],
          "choropleth": [
           {
            "colorbar": {
             "outlinewidth": 0,
             "ticks": ""
            },
            "type": "choropleth"
           }
          ],
          "contour": [
           {
            "colorbar": {
             "outlinewidth": 0,
             "ticks": ""
            },
            "colorscale": [
             [
              0,
              "#0d0887"
             ],
             [
              0.1111111111111111,
              "#46039f"
             ],
             [
              0.2222222222222222,
              "#7201a8"
             ],
             [
              0.3333333333333333,
              "#9c179e"
             ],
             [
              0.4444444444444444,
              "#bd3786"
             ],
             [
              0.5555555555555556,
              "#d8576b"
             ],
             [
              0.6666666666666666,
              "#ed7953"
             ],
             [
              0.7777777777777778,
              "#fb9f3a"
             ],
             [
              0.8888888888888888,
              "#fdca26"
             ],
             [
              1,
              "#f0f921"
             ]
            ],
            "type": "contour"
           }
          ],
          "contourcarpet": [
           {
            "colorbar": {
             "outlinewidth": 0,
             "ticks": ""
            },
            "type": "contourcarpet"
           }
          ],
          "heatmap": [
           {
            "colorbar": {
             "outlinewidth": 0,
             "ticks": ""
            },
            "colorscale": [
             [
              0,
              "#0d0887"
             ],
             [
              0.1111111111111111,
              "#46039f"
             ],
             [
              0.2222222222222222,
              "#7201a8"
             ],
             [
              0.3333333333333333,
              "#9c179e"
             ],
             [
              0.4444444444444444,
              "#bd3786"
             ],
             [
              0.5555555555555556,
              "#d8576b"
             ],
             [
              0.6666666666666666,
              "#ed7953"
             ],
             [
              0.7777777777777778,
              "#fb9f3a"
             ],
             [
              0.8888888888888888,
              "#fdca26"
             ],
             [
              1,
              "#f0f921"
             ]
            ],
            "type": "heatmap"
           }
          ],
          "heatmapgl": [
           {
            "colorbar": {
             "outlinewidth": 0,
             "ticks": ""
            },
            "colorscale": [
             [
              0,
              "#0d0887"
             ],
             [
              0.1111111111111111,
              "#46039f"
             ],
             [
              0.2222222222222222,
              "#7201a8"
             ],
             [
              0.3333333333333333,
              "#9c179e"
             ],
             [
              0.4444444444444444,
              "#bd3786"
             ],
             [
              0.5555555555555556,
              "#d8576b"
             ],
             [
              0.6666666666666666,
              "#ed7953"
             ],
             [
              0.7777777777777778,
              "#fb9f3a"
             ],
             [
              0.8888888888888888,
              "#fdca26"
             ],
             [
              1,
              "#f0f921"
             ]
            ],
            "type": "heatmapgl"
           }
          ],
          "histogram": [
           {
            "marker": {
             "pattern": {
              "fillmode": "overlay",
              "size": 10,
              "solidity": 0.2
             }
            },
            "type": "histogram"
           }
          ],
          "histogram2d": [
           {
            "colorbar": {
             "outlinewidth": 0,
             "ticks": ""
            },
            "colorscale": [
             [
              0,
              "#0d0887"
             ],
             [
              0.1111111111111111,
              "#46039f"
             ],
             [
              0.2222222222222222,
              "#7201a8"
             ],
             [
              0.3333333333333333,
              "#9c179e"
             ],
             [
              0.4444444444444444,
              "#bd3786"
             ],
             [
              0.5555555555555556,
              "#d8576b"
             ],
             [
              0.6666666666666666,
              "#ed7953"
             ],
             [
              0.7777777777777778,
              "#fb9f3a"
             ],
             [
              0.8888888888888888,
              "#fdca26"
             ],
             [
              1,
              "#f0f921"
             ]
            ],
            "type": "histogram2d"
           }
          ],
          "histogram2dcontour": [
           {
            "colorbar": {
             "outlinewidth": 0,
             "ticks": ""
            },
            "colorscale": [
             [
              0,
              "#0d0887"
             ],
             [
              0.1111111111111111,
              "#46039f"
             ],
             [
              0.2222222222222222,
              "#7201a8"
             ],
             [
              0.3333333333333333,
              "#9c179e"
             ],
             [
              0.4444444444444444,
              "#bd3786"
             ],
             [
              0.5555555555555556,
              "#d8576b"
             ],
             [
              0.6666666666666666,
              "#ed7953"
             ],
             [
              0.7777777777777778,
              "#fb9f3a"
             ],
             [
              0.8888888888888888,
              "#fdca26"
             ],
             [
              1,
              "#f0f921"
             ]
            ],
            "type": "histogram2dcontour"
           }
          ],
          "mesh3d": [
           {
            "colorbar": {
             "outlinewidth": 0,
             "ticks": ""
            },
            "type": "mesh3d"
           }
          ],
          "parcoords": [
           {
            "line": {
             "colorbar": {
              "outlinewidth": 0,
              "ticks": ""
             }
            },
            "type": "parcoords"
           }
          ],
          "pie": [
           {
            "automargin": true,
            "type": "pie"
           }
          ],
          "scatter": [
           {
            "fillpattern": {
             "fillmode": "overlay",
             "size": 10,
             "solidity": 0.2
            },
            "type": "scatter"
           }
          ],
          "scatter3d": [
           {
            "line": {
             "colorbar": {
              "outlinewidth": 0,
              "ticks": ""
             }
            },
            "marker": {
             "colorbar": {
              "outlinewidth": 0,
              "ticks": ""
             }
            },
            "type": "scatter3d"
           }
          ],
          "scattercarpet": [
           {
            "marker": {
             "colorbar": {
              "outlinewidth": 0,
              "ticks": ""
             }
            },
            "type": "scattercarpet"
           }
          ],
          "scattergeo": [
           {
            "marker": {
             "colorbar": {
              "outlinewidth": 0,
              "ticks": ""
             }
            },
            "type": "scattergeo"
           }
          ],
          "scattergl": [
           {
            "marker": {
             "colorbar": {
              "outlinewidth": 0,
              "ticks": ""
             }
            },
            "type": "scattergl"
           }
          ],
          "scattermapbox": [
           {
            "marker": {
             "colorbar": {
              "outlinewidth": 0,
              "ticks": ""
             }
            },
            "type": "scattermapbox"
           }
          ],
          "scatterpolar": [
           {
            "marker": {
             "colorbar": {
              "outlinewidth": 0,
              "ticks": ""
             }
            },
            "type": "scatterpolar"
           }
          ],
          "scatterpolargl": [
           {
            "marker": {
             "colorbar": {
              "outlinewidth": 0,
              "ticks": ""
             }
            },
            "type": "scatterpolargl"
           }
          ],
          "scatterternary": [
           {
            "marker": {
             "colorbar": {
              "outlinewidth": 0,
              "ticks": ""
             }
            },
            "type": "scatterternary"
           }
          ],
          "surface": [
           {
            "colorbar": {
             "outlinewidth": 0,
             "ticks": ""
            },
            "colorscale": [
             [
              0,
              "#0d0887"
             ],
             [
              0.1111111111111111,
              "#46039f"
             ],
             [
              0.2222222222222222,
              "#7201a8"
             ],
             [
              0.3333333333333333,
              "#9c179e"
             ],
             [
              0.4444444444444444,
              "#bd3786"
             ],
             [
              0.5555555555555556,
              "#d8576b"
             ],
             [
              0.6666666666666666,
              "#ed7953"
             ],
             [
              0.7777777777777778,
              "#fb9f3a"
             ],
             [
              0.8888888888888888,
              "#fdca26"
             ],
             [
              1,
              "#f0f921"
             ]
            ],
            "type": "surface"
           }
          ],
          "table": [
           {
            "cells": {
             "fill": {
              "color": "#EBF0F8"
             },
             "line": {
              "color": "white"
             }
            },
            "header": {
             "fill": {
              "color": "#C8D4E3"
             },
             "line": {
              "color": "white"
             }
            },
            "type": "table"
           }
          ]
         },
         "layout": {
          "annotationdefaults": {
           "arrowcolor": "#2a3f5f",
           "arrowhead": 0,
           "arrowwidth": 1
          },
          "autotypenumbers": "strict",
          "coloraxis": {
           "colorbar": {
            "outlinewidth": 0,
            "ticks": ""
           }
          },
          "colorscale": {
           "diverging": [
            [
             0,
             "#8e0152"
            ],
            [
             0.1,
             "#c51b7d"
            ],
            [
             0.2,
             "#de77ae"
            ],
            [
             0.3,
             "#f1b6da"
            ],
            [
             0.4,
             "#fde0ef"
            ],
            [
             0.5,
             "#f7f7f7"
            ],
            [
             0.6,
             "#e6f5d0"
            ],
            [
             0.7,
             "#b8e186"
            ],
            [
             0.8,
             "#7fbc41"
            ],
            [
             0.9,
             "#4d9221"
            ],
            [
             1,
             "#276419"
            ]
           ],
           "sequential": [
            [
             0,
             "#0d0887"
            ],
            [
             0.1111111111111111,
             "#46039f"
            ],
            [
             0.2222222222222222,
             "#7201a8"
            ],
            [
             0.3333333333333333,
             "#9c179e"
            ],
            [
             0.4444444444444444,
             "#bd3786"
            ],
            [
             0.5555555555555556,
             "#d8576b"
            ],
            [
             0.6666666666666666,
             "#ed7953"
            ],
            [
             0.7777777777777778,
             "#fb9f3a"
            ],
            [
             0.8888888888888888,
             "#fdca26"
            ],
            [
             1,
             "#f0f921"
            ]
           ],
           "sequentialminus": [
            [
             0,
             "#0d0887"
            ],
            [
             0.1111111111111111,
             "#46039f"
            ],
            [
             0.2222222222222222,
             "#7201a8"
            ],
            [
             0.3333333333333333,
             "#9c179e"
            ],
            [
             0.4444444444444444,
             "#bd3786"
            ],
            [
             0.5555555555555556,
             "#d8576b"
            ],
            [
             0.6666666666666666,
             "#ed7953"
            ],
            [
             0.7777777777777778,
             "#fb9f3a"
            ],
            [
             0.8888888888888888,
             "#fdca26"
            ],
            [
             1,
             "#f0f921"
            ]
           ]
          },
          "colorway": [
           "#636efa",
           "#EF553B",
           "#00cc96",
           "#ab63fa",
           "#FFA15A",
           "#19d3f3",
           "#FF6692",
           "#B6E880",
           "#FF97FF",
           "#FECB52"
          ],
          "font": {
           "color": "#2a3f5f"
          },
          "geo": {
           "bgcolor": "white",
           "lakecolor": "white",
           "landcolor": "#E5ECF6",
           "showlakes": true,
           "showland": true,
           "subunitcolor": "white"
          },
          "hoverlabel": {
           "align": "left"
          },
          "hovermode": "closest",
          "mapbox": {
           "style": "light"
          },
          "paper_bgcolor": "white",
          "plot_bgcolor": "#E5ECF6",
          "polar": {
           "angularaxis": {
            "gridcolor": "white",
            "linecolor": "white",
            "ticks": ""
           },
           "bgcolor": "#E5ECF6",
           "radialaxis": {
            "gridcolor": "white",
            "linecolor": "white",
            "ticks": ""
           }
          },
          "scene": {
           "xaxis": {
            "backgroundcolor": "#E5ECF6",
            "gridcolor": "white",
            "gridwidth": 2,
            "linecolor": "white",
            "showbackground": true,
            "ticks": "",
            "zerolinecolor": "white"
           },
           "yaxis": {
            "backgroundcolor": "#E5ECF6",
            "gridcolor": "white",
            "gridwidth": 2,
            "linecolor": "white",
            "showbackground": true,
            "ticks": "",
            "zerolinecolor": "white"
           },
           "zaxis": {
            "backgroundcolor": "#E5ECF6",
            "gridcolor": "white",
            "gridwidth": 2,
            "linecolor": "white",
            "showbackground": true,
            "ticks": "",
            "zerolinecolor": "white"
           }
          },
          "shapedefaults": {
           "line": {
            "color": "#2a3f5f"
           }
          },
          "ternary": {
           "aaxis": {
            "gridcolor": "white",
            "linecolor": "white",
            "ticks": ""
           },
           "baxis": {
            "gridcolor": "white",
            "linecolor": "white",
            "ticks": ""
           },
           "bgcolor": "#E5ECF6",
           "caxis": {
            "gridcolor": "white",
            "linecolor": "white",
            "ticks": ""
           }
          },
          "title": {
           "x": 0.05
          },
          "xaxis": {
           "automargin": true,
           "gridcolor": "white",
           "linecolor": "white",
           "ticks": "",
           "title": {
            "standoff": 15
           },
           "zerolinecolor": "white",
           "zerolinewidth": 2
          },
          "yaxis": {
           "automargin": true,
           "gridcolor": "white",
           "linecolor": "white",
           "ticks": "",
           "title": {
            "standoff": 15
           },
           "zerolinecolor": "white",
           "zerolinewidth": 2
          }
         }
        },
        "title": {
         "text": "Exploring different variables",
         "x": 0.5
        },
        "updatemenus": [
         {
          "active": 0,
          "buttons": [
           {
            "args": [
             {
              "visible": [
               true,
               false,
               false,
               false
              ]
             }
            ],
            "label": "Sepal width",
            "method": "update"
           },
           {
            "args": [
             {
              "visible": [
               false,
               true,
               false,
               false
              ]
             }
            ],
            "label": "Sepal length",
            "method": "update"
           },
           {
            "args": [
             {
              "visible": [
               false,
               false,
               true,
               false
              ]
             }
            ],
            "label": "Petal width",
            "method": "update"
           },
           {
            "args": [
             {
              "visible": [
               false,
               false,
               false,
               true
              ]
             }
            ],
            "label": "Petal length",
            "method": "update"
           }
          ]
         }
        ]
       }
      }
     },
     "metadata": {},
     "output_type": "display_data"
    }
   ],
   "source": [
    "# Example of how to allow the selection of a type of a variable\n",
    "fig = go.Figure()\n",
    "\n",
    "fig.add_trace(go.Histogram(x=df[\"sepal_width\"]))\n",
    "\n",
    "fig.add_trace(go.Histogram(x=df[\"sepal_length\"], visible=False))\n",
    "\n",
    "fig.add_trace(go.Histogram(x=df[\"petal_width\"], visible=False))\n",
    "\n",
    "fig.add_trace(go.Histogram(x=df[\"petal_length\"], visible=False))\n",
    "\n",
    "\n",
    "fig.update_layout(\n",
    "    title=go.layout.Title(text=\"Exploring different variables\", x=0.5), showlegend=False\n",
    ")\n",
    "\n",
    "fig.update_layout(\n",
    "    updatemenus=[\n",
    "        go.layout.Updatemenu(\n",
    "            active=0,\n",
    "            buttons=[\n",
    "                go.layout.updatemenu.Button(\n",
    "                    label=\"Sepal width\",\n",
    "                    method=\"update\",\n",
    "                    args=[{\"visible\": [True, False, False, False]}],\n",
    "                ),\n",
    "                go.layout.updatemenu.Button(\n",
    "                    label=\"Sepal length\",\n",
    "                    method=\"update\",\n",
    "                    args=[{\"visible\": [False, True, False, False]}],\n",
    "                ),\n",
    "                go.layout.updatemenu.Button(\n",
    "                    label=\"Petal width\",\n",
    "                    method=\"update\",\n",
    "                    args=[{\"visible\": [False, False, True, False]}],\n",
    "                ),\n",
    "                go.layout.updatemenu.Button(\n",
    "                    label=\"Petal length\",\n",
    "                    method=\"update\",\n",
    "                    args=[{\"visible\": [False, False, False, True]}],\n",
    "                ),\n",
    "            ],\n",
    "        )\n",
    "    ]\n",
    ")"
   ]
  },
  {
   "cell_type": "code",
   "execution_count": 97,
   "metadata": {},
   "outputs": [
    {
     "data": {
      "application/vnd.plotly.v1+json": {
       "config": {
        "plotlyServerURL": "https://plot.ly"
       },
       "data": [
        {
         "type": "histogram",
         "x": [
          3.5,
          3,
          3.2,
          3.1,
          3.6,
          3.9,
          3.4,
          3.4,
          2.9,
          3.1,
          3.7,
          3.4,
          3,
          3,
          4,
          4.4,
          3.9,
          3.5,
          3.8,
          3.8,
          3.4,
          3.7,
          3.6,
          3.3,
          3.4,
          3,
          3.4,
          3.5,
          3.4,
          3.2,
          3.1,
          3.4,
          4.1,
          4.2,
          3.1,
          3.2,
          3.5,
          3.1,
          3,
          3.4,
          3.5,
          2.3,
          3.2,
          3.5,
          3.8,
          3,
          3.8,
          3.2,
          3.7,
          3.3,
          3.2,
          3.2,
          3.1,
          2.3,
          2.8,
          2.8,
          3.3,
          2.4,
          2.9,
          2.7,
          2,
          3,
          2.2,
          2.9,
          2.9,
          3.1,
          3,
          2.7,
          2.2,
          2.5,
          3.2,
          2.8,
          2.5,
          2.8,
          2.9,
          3,
          2.8,
          3,
          2.9,
          2.6,
          2.4,
          2.4,
          2.7,
          2.7,
          3,
          3.4,
          3.1,
          2.3,
          3,
          2.5,
          2.6,
          3,
          2.6,
          2.3,
          2.7,
          3,
          2.9,
          2.9,
          2.5,
          2.8,
          3.3,
          2.7,
          3,
          2.9,
          3,
          3,
          2.5,
          2.9,
          2.5,
          3.6,
          3.2,
          2.7,
          3,
          2.5,
          2.8,
          3.2,
          3,
          3.8,
          2.6,
          2.2,
          3.2,
          2.8,
          2.8,
          2.7,
          3.3,
          3.2,
          2.8,
          3,
          2.8,
          3,
          2.8,
          3.8,
          2.8,
          2.8,
          2.6,
          3,
          3.4,
          3.1,
          3,
          3.1,
          3.1,
          3.1,
          2.7,
          3.2,
          3.3,
          3,
          2.5,
          3,
          3.4,
          3
         ]
        },
        {
         "type": "box",
         "visible": false,
         "x": [
          3.5,
          3,
          3.2,
          3.1,
          3.6,
          3.9,
          3.4,
          3.4,
          2.9,
          3.1,
          3.7,
          3.4,
          3,
          3,
          4,
          4.4,
          3.9,
          3.5,
          3.8,
          3.8,
          3.4,
          3.7,
          3.6,
          3.3,
          3.4,
          3,
          3.4,
          3.5,
          3.4,
          3.2,
          3.1,
          3.4,
          4.1,
          4.2,
          3.1,
          3.2,
          3.5,
          3.1,
          3,
          3.4,
          3.5,
          2.3,
          3.2,
          3.5,
          3.8,
          3,
          3.8,
          3.2,
          3.7,
          3.3,
          3.2,
          3.2,
          3.1,
          2.3,
          2.8,
          2.8,
          3.3,
          2.4,
          2.9,
          2.7,
          2,
          3,
          2.2,
          2.9,
          2.9,
          3.1,
          3,
          2.7,
          2.2,
          2.5,
          3.2,
          2.8,
          2.5,
          2.8,
          2.9,
          3,
          2.8,
          3,
          2.9,
          2.6,
          2.4,
          2.4,
          2.7,
          2.7,
          3,
          3.4,
          3.1,
          2.3,
          3,
          2.5,
          2.6,
          3,
          2.6,
          2.3,
          2.7,
          3,
          2.9,
          2.9,
          2.5,
          2.8,
          3.3,
          2.7,
          3,
          2.9,
          3,
          3,
          2.5,
          2.9,
          2.5,
          3.6,
          3.2,
          2.7,
          3,
          2.5,
          2.8,
          3.2,
          3,
          3.8,
          2.6,
          2.2,
          3.2,
          2.8,
          2.8,
          2.7,
          3.3,
          3.2,
          2.8,
          3,
          2.8,
          3,
          2.8,
          3.8,
          2.8,
          2.8,
          2.6,
          3,
          3.4,
          3.1,
          3,
          3.1,
          3.1,
          3.1,
          2.7,
          3.2,
          3.3,
          3,
          2.5,
          3,
          3.4,
          3
         ]
        },
        {
         "type": "violin",
         "visible": false,
         "x": [
          3.5,
          3,
          3.2,
          3.1,
          3.6,
          3.9,
          3.4,
          3.4,
          2.9,
          3.1,
          3.7,
          3.4,
          3,
          3,
          4,
          4.4,
          3.9,
          3.5,
          3.8,
          3.8,
          3.4,
          3.7,
          3.6,
          3.3,
          3.4,
          3,
          3.4,
          3.5,
          3.4,
          3.2,
          3.1,
          3.4,
          4.1,
          4.2,
          3.1,
          3.2,
          3.5,
          3.1,
          3,
          3.4,
          3.5,
          2.3,
          3.2,
          3.5,
          3.8,
          3,
          3.8,
          3.2,
          3.7,
          3.3,
          3.2,
          3.2,
          3.1,
          2.3,
          2.8,
          2.8,
          3.3,
          2.4,
          2.9,
          2.7,
          2,
          3,
          2.2,
          2.9,
          2.9,
          3.1,
          3,
          2.7,
          2.2,
          2.5,
          3.2,
          2.8,
          2.5,
          2.8,
          2.9,
          3,
          2.8,
          3,
          2.9,
          2.6,
          2.4,
          2.4,
          2.7,
          2.7,
          3,
          3.4,
          3.1,
          2.3,
          3,
          2.5,
          2.6,
          3,
          2.6,
          2.3,
          2.7,
          3,
          2.9,
          2.9,
          2.5,
          2.8,
          3.3,
          2.7,
          3,
          2.9,
          3,
          3,
          2.5,
          2.9,
          2.5,
          3.6,
          3.2,
          2.7,
          3,
          2.5,
          2.8,
          3.2,
          3,
          3.8,
          2.6,
          2.2,
          3.2,
          2.8,
          2.8,
          2.7,
          3.3,
          3.2,
          2.8,
          3,
          2.8,
          3,
          2.8,
          3.8,
          2.8,
          2.8,
          2.6,
          3,
          3.4,
          3.1,
          3,
          3.1,
          3.1,
          3.1,
          2.7,
          3.2,
          3.3,
          3,
          2.5,
          3,
          3.4,
          3
         ]
        }
       ],
       "layout": {
        "showlegend": false,
        "template": {
         "data": {
          "bar": [
           {
            "error_x": {
             "color": "#2a3f5f"
            },
            "error_y": {
             "color": "#2a3f5f"
            },
            "marker": {
             "line": {
              "color": "#E5ECF6",
              "width": 0.5
             },
             "pattern": {
              "fillmode": "overlay",
              "size": 10,
              "solidity": 0.2
             }
            },
            "type": "bar"
           }
          ],
          "barpolar": [
           {
            "marker": {
             "line": {
              "color": "#E5ECF6",
              "width": 0.5
             },
             "pattern": {
              "fillmode": "overlay",
              "size": 10,
              "solidity": 0.2
             }
            },
            "type": "barpolar"
           }
          ],
          "carpet": [
           {
            "aaxis": {
             "endlinecolor": "#2a3f5f",
             "gridcolor": "white",
             "linecolor": "white",
             "minorgridcolor": "white",
             "startlinecolor": "#2a3f5f"
            },
            "baxis": {
             "endlinecolor": "#2a3f5f",
             "gridcolor": "white",
             "linecolor": "white",
             "minorgridcolor": "white",
             "startlinecolor": "#2a3f5f"
            },
            "type": "carpet"
           }
          ],
          "choropleth": [
           {
            "colorbar": {
             "outlinewidth": 0,
             "ticks": ""
            },
            "type": "choropleth"
           }
          ],
          "contour": [
           {
            "colorbar": {
             "outlinewidth": 0,
             "ticks": ""
            },
            "colorscale": [
             [
              0,
              "#0d0887"
             ],
             [
              0.1111111111111111,
              "#46039f"
             ],
             [
              0.2222222222222222,
              "#7201a8"
             ],
             [
              0.3333333333333333,
              "#9c179e"
             ],
             [
              0.4444444444444444,
              "#bd3786"
             ],
             [
              0.5555555555555556,
              "#d8576b"
             ],
             [
              0.6666666666666666,
              "#ed7953"
             ],
             [
              0.7777777777777778,
              "#fb9f3a"
             ],
             [
              0.8888888888888888,
              "#fdca26"
             ],
             [
              1,
              "#f0f921"
             ]
            ],
            "type": "contour"
           }
          ],
          "contourcarpet": [
           {
            "colorbar": {
             "outlinewidth": 0,
             "ticks": ""
            },
            "type": "contourcarpet"
           }
          ],
          "heatmap": [
           {
            "colorbar": {
             "outlinewidth": 0,
             "ticks": ""
            },
            "colorscale": [
             [
              0,
              "#0d0887"
             ],
             [
              0.1111111111111111,
              "#46039f"
             ],
             [
              0.2222222222222222,
              "#7201a8"
             ],
             [
              0.3333333333333333,
              "#9c179e"
             ],
             [
              0.4444444444444444,
              "#bd3786"
             ],
             [
              0.5555555555555556,
              "#d8576b"
             ],
             [
              0.6666666666666666,
              "#ed7953"
             ],
             [
              0.7777777777777778,
              "#fb9f3a"
             ],
             [
              0.8888888888888888,
              "#fdca26"
             ],
             [
              1,
              "#f0f921"
             ]
            ],
            "type": "heatmap"
           }
          ],
          "heatmapgl": [
           {
            "colorbar": {
             "outlinewidth": 0,
             "ticks": ""
            },
            "colorscale": [
             [
              0,
              "#0d0887"
             ],
             [
              0.1111111111111111,
              "#46039f"
             ],
             [
              0.2222222222222222,
              "#7201a8"
             ],
             [
              0.3333333333333333,
              "#9c179e"
             ],
             [
              0.4444444444444444,
              "#bd3786"
             ],
             [
              0.5555555555555556,
              "#d8576b"
             ],
             [
              0.6666666666666666,
              "#ed7953"
             ],
             [
              0.7777777777777778,
              "#fb9f3a"
             ],
             [
              0.8888888888888888,
              "#fdca26"
             ],
             [
              1,
              "#f0f921"
             ]
            ],
            "type": "heatmapgl"
           }
          ],
          "histogram": [
           {
            "marker": {
             "pattern": {
              "fillmode": "overlay",
              "size": 10,
              "solidity": 0.2
             }
            },
            "type": "histogram"
           }
          ],
          "histogram2d": [
           {
            "colorbar": {
             "outlinewidth": 0,
             "ticks": ""
            },
            "colorscale": [
             [
              0,
              "#0d0887"
             ],
             [
              0.1111111111111111,
              "#46039f"
             ],
             [
              0.2222222222222222,
              "#7201a8"
             ],
             [
              0.3333333333333333,
              "#9c179e"
             ],
             [
              0.4444444444444444,
              "#bd3786"
             ],
             [
              0.5555555555555556,
              "#d8576b"
             ],
             [
              0.6666666666666666,
              "#ed7953"
             ],
             [
              0.7777777777777778,
              "#fb9f3a"
             ],
             [
              0.8888888888888888,
              "#fdca26"
             ],
             [
              1,
              "#f0f921"
             ]
            ],
            "type": "histogram2d"
           }
          ],
          "histogram2dcontour": [
           {
            "colorbar": {
             "outlinewidth": 0,
             "ticks": ""
            },
            "colorscale": [
             [
              0,
              "#0d0887"
             ],
             [
              0.1111111111111111,
              "#46039f"
             ],
             [
              0.2222222222222222,
              "#7201a8"
             ],
             [
              0.3333333333333333,
              "#9c179e"
             ],
             [
              0.4444444444444444,
              "#bd3786"
             ],
             [
              0.5555555555555556,
              "#d8576b"
             ],
             [
              0.6666666666666666,
              "#ed7953"
             ],
             [
              0.7777777777777778,
              "#fb9f3a"
             ],
             [
              0.8888888888888888,
              "#fdca26"
             ],
             [
              1,
              "#f0f921"
             ]
            ],
            "type": "histogram2dcontour"
           }
          ],
          "mesh3d": [
           {
            "colorbar": {
             "outlinewidth": 0,
             "ticks": ""
            },
            "type": "mesh3d"
           }
          ],
          "parcoords": [
           {
            "line": {
             "colorbar": {
              "outlinewidth": 0,
              "ticks": ""
             }
            },
            "type": "parcoords"
           }
          ],
          "pie": [
           {
            "automargin": true,
            "type": "pie"
           }
          ],
          "scatter": [
           {
            "fillpattern": {
             "fillmode": "overlay",
             "size": 10,
             "solidity": 0.2
            },
            "type": "scatter"
           }
          ],
          "scatter3d": [
           {
            "line": {
             "colorbar": {
              "outlinewidth": 0,
              "ticks": ""
             }
            },
            "marker": {
             "colorbar": {
              "outlinewidth": 0,
              "ticks": ""
             }
            },
            "type": "scatter3d"
           }
          ],
          "scattercarpet": [
           {
            "marker": {
             "colorbar": {
              "outlinewidth": 0,
              "ticks": ""
             }
            },
            "type": "scattercarpet"
           }
          ],
          "scattergeo": [
           {
            "marker": {
             "colorbar": {
              "outlinewidth": 0,
              "ticks": ""
             }
            },
            "type": "scattergeo"
           }
          ],
          "scattergl": [
           {
            "marker": {
             "colorbar": {
              "outlinewidth": 0,
              "ticks": ""
             }
            },
            "type": "scattergl"
           }
          ],
          "scattermapbox": [
           {
            "marker": {
             "colorbar": {
              "outlinewidth": 0,
              "ticks": ""
             }
            },
            "type": "scattermapbox"
           }
          ],
          "scatterpolar": [
           {
            "marker": {
             "colorbar": {
              "outlinewidth": 0,
              "ticks": ""
             }
            },
            "type": "scatterpolar"
           }
          ],
          "scatterpolargl": [
           {
            "marker": {
             "colorbar": {
              "outlinewidth": 0,
              "ticks": ""
             }
            },
            "type": "scatterpolargl"
           }
          ],
          "scatterternary": [
           {
            "marker": {
             "colorbar": {
              "outlinewidth": 0,
              "ticks": ""
             }
            },
            "type": "scatterternary"
           }
          ],
          "surface": [
           {
            "colorbar": {
             "outlinewidth": 0,
             "ticks": ""
            },
            "colorscale": [
             [
              0,
              "#0d0887"
             ],
             [
              0.1111111111111111,
              "#46039f"
             ],
             [
              0.2222222222222222,
              "#7201a8"
             ],
             [
              0.3333333333333333,
              "#9c179e"
             ],
             [
              0.4444444444444444,
              "#bd3786"
             ],
             [
              0.5555555555555556,
              "#d8576b"
             ],
             [
              0.6666666666666666,
              "#ed7953"
             ],
             [
              0.7777777777777778,
              "#fb9f3a"
             ],
             [
              0.8888888888888888,
              "#fdca26"
             ],
             [
              1,
              "#f0f921"
             ]
            ],
            "type": "surface"
           }
          ],
          "table": [
           {
            "cells": {
             "fill": {
              "color": "#EBF0F8"
             },
             "line": {
              "color": "white"
             }
            },
            "header": {
             "fill": {
              "color": "#C8D4E3"
             },
             "line": {
              "color": "white"
             }
            },
            "type": "table"
           }
          ]
         },
         "layout": {
          "annotationdefaults": {
           "arrowcolor": "#2a3f5f",
           "arrowhead": 0,
           "arrowwidth": 1
          },
          "autotypenumbers": "strict",
          "coloraxis": {
           "colorbar": {
            "outlinewidth": 0,
            "ticks": ""
           }
          },
          "colorscale": {
           "diverging": [
            [
             0,
             "#8e0152"
            ],
            [
             0.1,
             "#c51b7d"
            ],
            [
             0.2,
             "#de77ae"
            ],
            [
             0.3,
             "#f1b6da"
            ],
            [
             0.4,
             "#fde0ef"
            ],
            [
             0.5,
             "#f7f7f7"
            ],
            [
             0.6,
             "#e6f5d0"
            ],
            [
             0.7,
             "#b8e186"
            ],
            [
             0.8,
             "#7fbc41"
            ],
            [
             0.9,
             "#4d9221"
            ],
            [
             1,
             "#276419"
            ]
           ],
           "sequential": [
            [
             0,
             "#0d0887"
            ],
            [
             0.1111111111111111,
             "#46039f"
            ],
            [
             0.2222222222222222,
             "#7201a8"
            ],
            [
             0.3333333333333333,
             "#9c179e"
            ],
            [
             0.4444444444444444,
             "#bd3786"
            ],
            [
             0.5555555555555556,
             "#d8576b"
            ],
            [
             0.6666666666666666,
             "#ed7953"
            ],
            [
             0.7777777777777778,
             "#fb9f3a"
            ],
            [
             0.8888888888888888,
             "#fdca26"
            ],
            [
             1,
             "#f0f921"
            ]
           ],
           "sequentialminus": [
            [
             0,
             "#0d0887"
            ],
            [
             0.1111111111111111,
             "#46039f"
            ],
            [
             0.2222222222222222,
             "#7201a8"
            ],
            [
             0.3333333333333333,
             "#9c179e"
            ],
            [
             0.4444444444444444,
             "#bd3786"
            ],
            [
             0.5555555555555556,
             "#d8576b"
            ],
            [
             0.6666666666666666,
             "#ed7953"
            ],
            [
             0.7777777777777778,
             "#fb9f3a"
            ],
            [
             0.8888888888888888,
             "#fdca26"
            ],
            [
             1,
             "#f0f921"
            ]
           ]
          },
          "colorway": [
           "#636efa",
           "#EF553B",
           "#00cc96",
           "#ab63fa",
           "#FFA15A",
           "#19d3f3",
           "#FF6692",
           "#B6E880",
           "#FF97FF",
           "#FECB52"
          ],
          "font": {
           "color": "#2a3f5f"
          },
          "geo": {
           "bgcolor": "white",
           "lakecolor": "white",
           "landcolor": "#E5ECF6",
           "showlakes": true,
           "showland": true,
           "subunitcolor": "white"
          },
          "hoverlabel": {
           "align": "left"
          },
          "hovermode": "closest",
          "mapbox": {
           "style": "light"
          },
          "paper_bgcolor": "white",
          "plot_bgcolor": "#E5ECF6",
          "polar": {
           "angularaxis": {
            "gridcolor": "white",
            "linecolor": "white",
            "ticks": ""
           },
           "bgcolor": "#E5ECF6",
           "radialaxis": {
            "gridcolor": "white",
            "linecolor": "white",
            "ticks": ""
           }
          },
          "scene": {
           "xaxis": {
            "backgroundcolor": "#E5ECF6",
            "gridcolor": "white",
            "gridwidth": 2,
            "linecolor": "white",
            "showbackground": true,
            "ticks": "",
            "zerolinecolor": "white"
           },
           "yaxis": {
            "backgroundcolor": "#E5ECF6",
            "gridcolor": "white",
            "gridwidth": 2,
            "linecolor": "white",
            "showbackground": true,
            "ticks": "",
            "zerolinecolor": "white"
           },
           "zaxis": {
            "backgroundcolor": "#E5ECF6",
            "gridcolor": "white",
            "gridwidth": 2,
            "linecolor": "white",
            "showbackground": true,
            "ticks": "",
            "zerolinecolor": "white"
           }
          },
          "shapedefaults": {
           "line": {
            "color": "#2a3f5f"
           }
          },
          "ternary": {
           "aaxis": {
            "gridcolor": "white",
            "linecolor": "white",
            "ticks": ""
           },
           "baxis": {
            "gridcolor": "white",
            "linecolor": "white",
            "ticks": ""
           },
           "bgcolor": "#E5ECF6",
           "caxis": {
            "gridcolor": "white",
            "linecolor": "white",
            "ticks": ""
           }
          },
          "title": {
           "x": 0.05
          },
          "xaxis": {
           "automargin": true,
           "gridcolor": "white",
           "linecolor": "white",
           "ticks": "",
           "title": {
            "standoff": 15
           },
           "zerolinecolor": "white",
           "zerolinewidth": 2
          },
          "yaxis": {
           "automargin": true,
           "gridcolor": "white",
           "linecolor": "white",
           "ticks": "",
           "title": {
            "standoff": 15
           },
           "zerolinecolor": "white",
           "zerolinewidth": 2
          }
         }
        },
        "title": {
         "text": "Exploring sepal_width",
         "x": 0.5
        },
        "updatemenus": [
         {
          "active": 0,
          "buttons": [
           {
            "args": [
             {
              "visible": [
               true,
               false,
               false
              ]
             }
            ],
            "label": "Histogram",
            "method": "update"
           },
           {
            "args": [
             {
              "visible": [
               false,
               true,
               false
              ]
             }
            ],
            "label": "Box plot",
            "method": "update"
           },
           {
            "args": [
             {
              "visible": [
               false,
               false,
               true
              ]
             }
            ],
            "label": "Violin plot",
            "method": "update"
           }
          ]
         }
        ]
       }
      }
     },
     "metadata": {},
     "output_type": "display_data"
    }
   ],
   "source": [
    "# Example of how to allow the selection of a type of visualisation\n",
    "fig = go.Figure()\n",
    "\n",
    "fig.add_trace(go.Histogram(x=df[\"sepal_width\"]))\n",
    "\n",
    "fig.add_trace(go.Box(x=df[\"sepal_width\"], visible=False))\n",
    "\n",
    "fig.add_trace(go.Violin(x=df[\"sepal_width\"], visible=False))\n",
    "\n",
    "fig.update_layout(\n",
    "    title=go.layout.Title(text=\"Exploring sepal_width\", x=0.5), showlegend=False\n",
    ")\n",
    "\n",
    "fig.update_layout(\n",
    "    updatemenus=[\n",
    "        go.layout.Updatemenu(\n",
    "            active=0,\n",
    "            buttons=[\n",
    "                go.layout.updatemenu.Button(\n",
    "                    label=\"Histogram\",\n",
    "                    method=\"update\",\n",
    "                    args=[{\"visible\": [True, False, False]}],\n",
    "                ),\n",
    "                go.layout.updatemenu.Button(\n",
    "                    label=\"Box plot\",\n",
    "                    method=\"update\",\n",
    "                    args=[{\"visible\": [False, True, False]}],\n",
    "                ),\n",
    "                go.layout.updatemenu.Button(\n",
    "                    label=\"Violin plot\",\n",
    "                    method=\"update\",\n",
    "                    args=[{\"visible\": [False, False, True]}],\n",
    "                ),\n",
    "            ],\n",
    "        )\n",
    "    ]\n",
    ")"
   ]
  }
 ],
 "metadata": {
  "kernelspec": {
   "display_name": "jedha",
   "language": "python",
   "name": "python3"
  },
  "language_info": {
   "codemirror_mode": {
    "name": "ipython",
    "version": 3
   },
   "file_extension": ".py",
   "mimetype": "text/x-python",
   "name": "python",
   "nbconvert_exporter": "python",
   "pygments_lexer": "ipython3",
   "version": "3.11.7"
  }
 },
 "nbformat": 4,
 "nbformat_minor": 2
}
