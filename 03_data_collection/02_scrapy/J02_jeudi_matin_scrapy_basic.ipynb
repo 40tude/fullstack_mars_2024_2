{
 "cells": [
  {
   "cell_type": "markdown",
   "metadata": {},
   "source": [
    "# Scrapy basics\n",
    "\n",
    "## What you will learn in this course 🧐🧐\n",
    "\n",
    "As you learned how to parse HTML pages, it is now time to go to the next level and scrape websites automatically. The best way to do so is by using spiders from Scrapy. In this course, we'll learn:\n",
    "\n",
    "* How to create basic crawlers \n",
    "* Target specific tags and attributes in a webpage \n",
    "* Follow links to scrap multiple pages\n",
    "* Simulate user log-in\n",
    "* Run multiple crawlers at the same time\n",
    "* Avoid being banned from websites\n",
    "\n",
    "If Scrapy isn't installed yet in your environment, just execute the cell below:"
   ]
  },
  {
   "cell_type": "code",
   "execution_count": null,
   "metadata": {
    "tags": []
   },
   "outputs": [],
   "source": [
    "# Add '!' only if you are running this command on a notebook \n",
    "## It tells Jupyter that the command should be interpreted as bash command\n",
    "\n",
    "\n",
    "# !pip install Scrapy"
   ]
  },
  {
   "cell_type": "markdown",
   "metadata": {},
   "source": [
    "## Create your first spider 🕷️🕷️\n",
    "\n",
    "Basically, Scrapy works with *Spiders* that describe the successive steps necessary to get the data you're interested in at a given url. To make a scraping engine, you will need to:\n",
    "\n",
    "- declare your own class that inherits from `Scrapy.Spider`,\n",
    "- declare two attributes: the `name` of your crawler and the `url` at which you will start crawling,\n",
    "- declare a `parse` method with an argument called `response` (which represents the variable containing the HTML response at the `url` you just defined).\n",
    "- The `response` object has ONE method that you ABSOLUTELY need to know and will help you get what you are looking for 95% of the time, it's called `.xpath()` and you will just have to copy an xpath from the webpage's source code to scrape the element, easy right ?!\n",
    "\n",
    "A Spider always looks somewhat like this:\n",
    "\n",
    "```python\n",
    "class RandomQuoteSpider(scrapy.Spider):\n",
    "    # Name of your spider\n",
    "    name = \"mySpider\"\n",
    "\n",
    "    # Url to start your spider from \n",
    "    start_urls = [\n",
    "        'http://my.url.to.scrape',\n",
    "    ]\n",
    "\n",
    "    # Callback function that will be called when starting your spider\n",
    "    def parse(self, response):\n",
    "        return {\n",
    "            'result1': response.xpath(\"/some/xpath/\").get(),\n",
    "            'result2': response.xpath('/some/xpath/').get(),\n",
    "        }\n",
    "```\n",
    "\n",
    "Let's begin with a [simple example](src/scrapy1.py)\n"
   ]
  },
  {
   "cell_type": "markdown",
   "metadata": {},
   "source": [
    "## The Crawler Process\n",
    "\n",
    "Once your spider has been set up, you have to declare a `CrawlerProcess` that will run the spider and save the results in a `json` file (called a \"FEED\").\n",
    "\n",
    "All you have to do is run the python script using `!python src/scrapy1.py` here in the notebook. Typically we do not write scraping code in the notebook but rather in scripts because it is then easier to use repeatedly (like everyday for example) or in an asynchronous manner (see optional lecture from module 4 day 1)\n",
    "\n",
    "The crawler process will always look like this:\n",
    "\n",
    "```python\n",
    "process = CrawlerProcess(settings = {\n",
    "    'USER_AGENT': 'Chrome/97.0',\n",
    "    'LOG_LEVEL': logging.INFO,\n",
    "    \"FEEDS\": {\n",
    "        'src/' + filename : {\"format\": \"json\"},\n",
    "    }\n",
    "})\n",
    "```\n",
    "\n",
    "Let's study this in detail."
   ]
  },
  {
   "cell_type": "markdown",
   "metadata": {},
   "source": [
    "### User agent\n",
    "\n",
    "Scrapy is able to scrape the web by simulating a web browser (the client) that will send HTTP requests to a web server. The question is, what browser are you simulating? Ideally the browser you are simulating should be the same one that you are using to inspect the websites and get the XPath.\n",
    "\n",
    "The reason for this is that sometimes the webserver may give you different responses depending on the web browser you are using. For example old web browsers are not necessarily supporting javascript, which may cause the webpage to look a lot simpler and therefore change all the XPaths in the source code.\n",
    "\n",
    "In most cases, the user agent can be set like this:\n",
    "\n",
    "`'USER_AGENT' : 'Name_of_the_browser/version_number'`\n",
    "\n",
    "for example:\n",
    "\n",
    "`'USER_AGENT': 'Chrome/97.0'`\n",
    "\n",
    "If you are using chrome you should be able to find your browser version at [chrome://settings/help](chrome://settings/help)"
   ]
  },
  {
   "cell_type": "markdown",
   "metadata": {},
   "source": [
    "### LOG LEVEL and FEED\n",
    "\n",
    "The other two settings we are giving the `CrawlerProcess` are the following:\n",
    "\n",
    "* `LOG_LEVEL`: which indicates what messages will be displayed in the logs, typically messages in the logs are classified in several levels such as CRITICAL, ERROR, WARNING, INFO, DEBUG... Choosing `logging.INFO` will display all the logs with importance INFO and higher.\n",
    "* `FEED`: indicates the destination and file format for the results to be saved.\n",
    "\n",
    "It is now time to run our first scraping code, let's go!"
   ]
  },
  {
   "cell_type": "code",
   "execution_count": 2,
   "metadata": {},
   "outputs": [
    {
     "name": "stderr",
     "output_type": "stream",
     "text": [
      "2022-06-15 19:24:05 [scrapy.utils.log] INFO: Scrapy 2.6.1 started (bot: scrapybot)\n",
      "2022-06-15 19:24:05 [scrapy.utils.log] INFO: Versions: lxml 4.8.0.0, libxml2 2.9.12, cssselect 1.1.0, parsel 1.6.0, w3lib 1.21.0, Twisted 22.2.0, Python 3.9.12 (main, Apr  4 2022, 05:22:27) [MSC v.1916 64 bit (AMD64)], pyOpenSSL 21.0.0 (OpenSSL 1.1.1n  15 Mar 2022), cryptography 3.4.8, Platform Windows-10-10.0.22000-SP0\n",
      "2022-06-15 19:24:05 [scrapy.crawler] INFO: Overridden settings:\n",
      "{'LOG_LEVEL': 20, 'USER_AGENT': 'Chrome/97.0'}\n",
      "2022-06-15 19:24:05 [scrapy.extensions.telnet] INFO: Telnet Password: efcded54877601a9\n",
      "2022-06-15 19:24:05 [scrapy.middleware] INFO: Enabled extensions:\n",
      "['scrapy.extensions.corestats.CoreStats',\n",
      " 'scrapy.extensions.telnet.TelnetConsole',\n",
      " 'scrapy.extensions.feedexport.FeedExporter',\n",
      " 'scrapy.extensions.logstats.LogStats']\n",
      "2022-06-15 19:24:05 [scrapy.middleware] INFO: Enabled downloader middlewares:\n",
      "['scrapy.downloadermiddlewares.httpauth.HttpAuthMiddleware',\n",
      " 'scrapy.downloadermiddlewares.downloadtimeout.DownloadTimeoutMiddleware',\n",
      " 'scrapy.downloadermiddlewares.defaultheaders.DefaultHeadersMiddleware',\n",
      " 'scrapy.downloadermiddlewares.useragent.UserAgentMiddleware',\n",
      " 'scrapy.downloadermiddlewares.retry.RetryMiddleware',\n",
      " 'scrapy.downloadermiddlewares.redirect.MetaRefreshMiddleware',\n",
      " 'scrapy.downloadermiddlewares.httpcompression.HttpCompressionMiddleware',\n",
      " 'scrapy.downloadermiddlewares.redirect.RedirectMiddleware',\n",
      " 'scrapy.downloadermiddlewares.cookies.CookiesMiddleware',\n",
      " 'scrapy.downloadermiddlewares.httpproxy.HttpProxyMiddleware',\n",
      " 'scrapy.downloadermiddlewares.stats.DownloaderStats']\n",
      "2022-06-15 19:24:05 [scrapy.middleware] INFO: Enabled spider middlewares:\n",
      "['scrapy.spidermiddlewares.httperror.HttpErrorMiddleware',\n",
      " 'scrapy.spidermiddlewares.offsite.OffsiteMiddleware',\n",
      " 'scrapy.spidermiddlewares.referer.RefererMiddleware',\n",
      " 'scrapy.spidermiddlewares.urllength.UrlLengthMiddleware',\n",
      " 'scrapy.spidermiddlewares.depth.DepthMiddleware']\n",
      "2022-06-15 19:24:05 [scrapy.middleware] INFO: Enabled item pipelines:\n",
      "[]\n",
      "2022-06-15 19:24:05 [scrapy.core.engine] INFO: Spider opened\n",
      "2022-06-15 19:24:05 [scrapy.extensions.logstats] INFO: Crawled 0 pages (at 0 pages/min), scraped 0 items (at 0 items/min)\n",
      "2022-06-15 19:24:05 [scrapy.extensions.telnet] INFO: Telnet console listening on 127.0.0.1:6023\n",
      "2022-06-15 19:24:06 [scrapy.core.engine] INFO: Closing spider (finished)\n",
      "2022-06-15 19:24:06 [scrapy.extensions.feedexport] INFO: Stored json feed (1 items) in: src/1_randomquote.json\n",
      "2022-06-15 19:24:06 [scrapy.statscollectors] INFO: Dumping Scrapy stats:\n",
      "{'downloader/request_bytes': 206,\n",
      " 'downloader/request_count': 1,\n",
      " 'downloader/request_method_count/GET': 1,\n",
      " 'downloader/response_bytes': 835,\n",
      " 'downloader/response_count': 1,\n",
      " 'downloader/response_status_count/200': 1,\n",
      " 'elapsed_time_seconds': 0.43999,\n",
      " 'feedexport/success_count/FileFeedStorage': 1,\n",
      " 'finish_reason': 'finished',\n",
      " 'finish_time': datetime.datetime(2022, 6, 15, 17, 24, 6, 251086),\n",
      " 'httpcompression/response_bytes': 2170,\n",
      " 'httpcompression/response_count': 1,\n",
      " 'item_scraped_count': 1,\n",
      " 'log_count/INFO': 11,\n",
      " 'response_received_count': 1,\n",
      " 'scheduler/dequeued': 1,\n",
      " 'scheduler/dequeued/memory': 1,\n",
      " 'scheduler/enqueued': 1,\n",
      " 'scheduler/enqueued/memory': 1,\n",
      " 'start_time': datetime.datetime(2022, 6, 15, 17, 24, 5, 811096)}\n",
      "2022-06-15 19:24:06 [scrapy.core.engine] INFO: Spider closed (finished)\n"
     ]
    }
   ],
   "source": [
    "!python src/scrapy1.py"
   ]
  },
  {
   "cell_type": "markdown",
   "metadata": {},
   "source": [
    "You may take a look at the result in [this file](src/1_randomquote.json)."
   ]
  },
  {
   "cell_type": "markdown",
   "metadata": {},
   "source": [
    "**WARNING**: Scrapy is not made to run multiple independant crawlers in one script. Therefore each script will contain a single Crawler. This also why we do not use scrapy within the notebook, this is not the usage it was designed for. Plus it will make you practice writing scripts instead of notebooks!\n"
   ]
  },
  {
   "cell_type": "markdown",
   "metadata": {},
   "source": [
    "## Scraping multiple items per page 🛍️🛍️\n",
    "\n",
    "Let's see an example where we parse multiple elements with a `for` loop and python's `yield` instruction (see appendix 1 of this lecture for details):\n",
    "\n",
    "If you take a look at the following [webpage](http://quotes.toscrape.com/page/1/), you may see that lots of quoes are available. Let's take a look at the XPath for the first quote:\n",
    "\n",
    "`/html/body/div/div[2]/div[1]/div[1]/span[1]/text()`\n",
    "\n",
    "Now let's take a look at the XPath for the second quote:\n",
    "\n",
    "`/html/body/div/div[2]/div[1]/div[2]/span[1]/text()` \n",
    "\n",
    "We can see that only the index of the 4th `div` tag is changing, therefore the general XPath for the quotes is:\n",
    "\n",
    "`/html/body/div/div[2]/div[1]/div/span[1]/text()`\n",
    "\n",
    "We could take advantage of this or we could loop until the last element which XPath is:\n",
    "\n",
    "`/html/body/div/div[2]/div[1]/div[10]/span[1]/text()`\n"
   ]
  },
  {
   "cell_type": "markdown",
   "metadata": {},
   "source": [
    "### Solution 1"
   ]
  },
  {
   "cell_type": "code",
   "execution_count": 3,
   "metadata": {},
   "outputs": [
    {
     "name": "stderr",
     "output_type": "stream",
     "text": [
      "2022-06-15 19:24:06 [scrapy.utils.log] INFO: Scrapy 2.6.1 started (bot: scrapybot)\n",
      "2022-06-15 19:24:07 [scrapy.utils.log] INFO: Versions: lxml 4.8.0.0, libxml2 2.9.12, cssselect 1.1.0, parsel 1.6.0, w3lib 1.21.0, Twisted 22.2.0, Python 3.9.12 (main, Apr  4 2022, 05:22:27) [MSC v.1916 64 bit (AMD64)], pyOpenSSL 21.0.0 (OpenSSL 1.1.1n  15 Mar 2022), cryptography 3.4.8, Platform Windows-10-10.0.22000-SP0\n",
      "2022-06-15 19:24:07 [scrapy.crawler] INFO: Overridden settings:\n",
      "{'LOG_LEVEL': 20, 'USER_AGENT': 'Chrome/97.0'}\n",
      "2022-06-15 19:24:07 [scrapy.extensions.telnet] INFO: Telnet Password: 270f70707f21c012\n",
      "2022-06-15 19:24:07 [scrapy.middleware] INFO: Enabled extensions:\n",
      "['scrapy.extensions.corestats.CoreStats',\n",
      " 'scrapy.extensions.telnet.TelnetConsole',\n",
      " 'scrapy.extensions.feedexport.FeedExporter',\n",
      " 'scrapy.extensions.logstats.LogStats']\n",
      "2022-06-15 19:24:07 [scrapy.middleware] INFO: Enabled downloader middlewares:\n",
      "['scrapy.downloadermiddlewares.httpauth.HttpAuthMiddleware',\n",
      " 'scrapy.downloadermiddlewares.downloadtimeout.DownloadTimeoutMiddleware',\n",
      " 'scrapy.downloadermiddlewares.defaultheaders.DefaultHeadersMiddleware',\n",
      " 'scrapy.downloadermiddlewares.useragent.UserAgentMiddleware',\n",
      " 'scrapy.downloadermiddlewares.retry.RetryMiddleware',\n",
      " 'scrapy.downloadermiddlewares.redirect.MetaRefreshMiddleware',\n",
      " 'scrapy.downloadermiddlewares.httpcompression.HttpCompressionMiddleware',\n",
      " 'scrapy.downloadermiddlewares.redirect.RedirectMiddleware',\n",
      " 'scrapy.downloadermiddlewares.cookies.CookiesMiddleware',\n",
      " 'scrapy.downloadermiddlewares.httpproxy.HttpProxyMiddleware',\n",
      " 'scrapy.downloadermiddlewares.stats.DownloaderStats']\n",
      "2022-06-15 19:24:07 [scrapy.middleware] INFO: Enabled spider middlewares:\n",
      "['scrapy.spidermiddlewares.httperror.HttpErrorMiddleware',\n",
      " 'scrapy.spidermiddlewares.offsite.OffsiteMiddleware',\n",
      " 'scrapy.spidermiddlewares.referer.RefererMiddleware',\n",
      " 'scrapy.spidermiddlewares.urllength.UrlLengthMiddleware',\n",
      " 'scrapy.spidermiddlewares.depth.DepthMiddleware']\n",
      "2022-06-15 19:24:07 [scrapy.middleware] INFO: Enabled item pipelines:\n",
      "[]\n",
      "2022-06-15 19:24:07 [scrapy.core.engine] INFO: Spider opened\n",
      "2022-06-15 19:24:07 [scrapy.extensions.logstats] INFO: Crawled 0 pages (at 0 pages/min), scraped 0 items (at 0 items/min)\n",
      "2022-06-15 19:24:07 [scrapy.extensions.telnet] INFO: Telnet console listening on 127.0.0.1:6023\n",
      "2022-06-15 19:24:07 [scrapy.core.engine] INFO: Closing spider (finished)\n",
      "2022-06-15 19:24:07 [scrapy.extensions.feedexport] INFO: Stored json feed (10 items) in: src/2_quotes.json\n",
      "2022-06-15 19:24:07 [scrapy.statscollectors] INFO: Dumping Scrapy stats:\n",
      "{'downloader/request_bytes': 207,\n",
      " 'downloader/request_count': 1,\n",
      " 'downloader/request_method_count/GET': 1,\n",
      " 'downloader/response_bytes': 2086,\n",
      " 'downloader/response_count': 1,\n",
      " 'downloader/response_status_count/200': 1,\n",
      " 'elapsed_time_seconds': 0.55903,\n",
      " 'feedexport/success_count/FileFeedStorage': 1,\n",
      " 'finish_reason': 'finished',\n",
      " 'finish_time': datetime.datetime(2022, 6, 15, 17, 24, 7, 877119),\n",
      " 'httpcompression/response_bytes': 11053,\n",
      " 'httpcompression/response_count': 1,\n",
      " 'item_scraped_count': 10,\n",
      " 'log_count/INFO': 11,\n",
      " 'response_received_count': 1,\n",
      " 'scheduler/dequeued': 1,\n",
      " 'scheduler/dequeued/memory': 1,\n",
      " 'scheduler/enqueued': 1,\n",
      " 'scheduler/enqueued/memory': 1,\n",
      " 'start_time': datetime.datetime(2022, 6, 15, 17, 24, 7, 318089)}\n",
      "2022-06-15 19:24:07 [scrapy.core.engine] INFO: Spider closed (finished)\n"
     ]
    }
   ],
   "source": [
    "!python src/scrapy2.py"
   ]
  },
  {
   "cell_type": "markdown",
   "metadata": {},
   "source": [
    "### Solution 2"
   ]
  },
  {
   "cell_type": "code",
   "execution_count": 4,
   "metadata": {},
   "outputs": [
    {
     "name": "stderr",
     "output_type": "stream",
     "text": [
      "2022-06-15 19:24:09 [scrapy.utils.log] INFO: Scrapy 2.6.1 started (bot: scrapybot)\n",
      "2022-06-15 19:24:09 [scrapy.utils.log] INFO: Versions: lxml 4.8.0.0, libxml2 2.9.12, cssselect 1.1.0, parsel 1.6.0, w3lib 1.21.0, Twisted 22.2.0, Python 3.9.12 (main, Apr  4 2022, 05:22:27) [MSC v.1916 64 bit (AMD64)], pyOpenSSL 21.0.0 (OpenSSL 1.1.1n  15 Mar 2022), cryptography 3.4.8, Platform Windows-10-10.0.22000-SP0\n",
      "2022-06-15 19:24:09 [scrapy.crawler] INFO: Overridden settings:\n",
      "{'LOG_LEVEL': 20, 'USER_AGENT': 'Chrome/97.0'}\n",
      "2022-06-15 19:24:09 [scrapy.extensions.telnet] INFO: Telnet Password: f8c011e1676a05ba\n",
      "2022-06-15 19:24:09 [scrapy.middleware] INFO: Enabled extensions:\n",
      "['scrapy.extensions.corestats.CoreStats',\n",
      " 'scrapy.extensions.telnet.TelnetConsole',\n",
      " 'scrapy.extensions.feedexport.FeedExporter',\n",
      " 'scrapy.extensions.logstats.LogStats']\n",
      "2022-06-15 19:24:09 [scrapy.middleware] INFO: Enabled downloader middlewares:\n",
      "['scrapy.downloadermiddlewares.httpauth.HttpAuthMiddleware',\n",
      " 'scrapy.downloadermiddlewares.downloadtimeout.DownloadTimeoutMiddleware',\n",
      " 'scrapy.downloadermiddlewares.defaultheaders.DefaultHeadersMiddleware',\n",
      " 'scrapy.downloadermiddlewares.useragent.UserAgentMiddleware',\n",
      " 'scrapy.downloadermiddlewares.retry.RetryMiddleware',\n",
      " 'scrapy.downloadermiddlewares.redirect.MetaRefreshMiddleware',\n",
      " 'scrapy.downloadermiddlewares.httpcompression.HttpCompressionMiddleware',\n",
      " 'scrapy.downloadermiddlewares.redirect.RedirectMiddleware',\n",
      " 'scrapy.downloadermiddlewares.cookies.CookiesMiddleware',\n",
      " 'scrapy.downloadermiddlewares.httpproxy.HttpProxyMiddleware',\n",
      " 'scrapy.downloadermiddlewares.stats.DownloaderStats']\n",
      "2022-06-15 19:24:09 [scrapy.middleware] INFO: Enabled spider middlewares:\n",
      "['scrapy.spidermiddlewares.httperror.HttpErrorMiddleware',\n",
      " 'scrapy.spidermiddlewares.offsite.OffsiteMiddleware',\n",
      " 'scrapy.spidermiddlewares.referer.RefererMiddleware',\n",
      " 'scrapy.spidermiddlewares.urllength.UrlLengthMiddleware',\n",
      " 'scrapy.spidermiddlewares.depth.DepthMiddleware']\n",
      "2022-06-15 19:24:09 [scrapy.middleware] INFO: Enabled item pipelines:\n",
      "[]\n",
      "2022-06-15 19:24:09 [scrapy.core.engine] INFO: Spider opened\n",
      "2022-06-15 19:24:09 [scrapy.extensions.logstats] INFO: Crawled 0 pages (at 0 pages/min), scraped 0 items (at 0 items/min)\n",
      "2022-06-15 19:24:09 [scrapy.extensions.telnet] INFO: Telnet console listening on 127.0.0.1:6023\n",
      "2022-06-15 19:24:10 [scrapy.core.engine] INFO: Closing spider (finished)\n",
      "2022-06-15 19:24:10 [scrapy.extensions.feedexport] INFO: Stored json feed (10 items) in: src/2_quotes_alt.json\n",
      "2022-06-15 19:24:10 [scrapy.statscollectors] INFO: Dumping Scrapy stats:\n",
      "{'downloader/request_bytes': 207,\n",
      " 'downloader/request_count': 1,\n",
      " 'downloader/request_method_count/GET': 1,\n",
      " 'downloader/response_bytes': 2087,\n",
      " 'downloader/response_count': 1,\n",
      " 'downloader/response_status_count/200': 1,\n",
      " 'elapsed_time_seconds': 0.699869,\n",
      " 'feedexport/success_count/FileFeedStorage': 1,\n",
      " 'finish_reason': 'finished',\n",
      " 'finish_time': datetime.datetime(2022, 6, 15, 17, 24, 10, 160429),\n",
      " 'httpcompression/response_bytes': 11053,\n",
      " 'httpcompression/response_count': 1,\n",
      " 'item_scraped_count': 10,\n",
      " 'log_count/INFO': 11,\n",
      " 'response_received_count': 1,\n",
      " 'scheduler/dequeued': 1,\n",
      " 'scheduler/dequeued/memory': 1,\n",
      " 'scheduler/enqueued': 1,\n",
      " 'scheduler/enqueued/memory': 1,\n",
      " 'start_time': datetime.datetime(2022, 6, 15, 17, 24, 9, 460560)}\n",
      "2022-06-15 19:24:10 [scrapy.core.engine] INFO: Spider closed (finished)\n"
     ]
    }
   ],
   "source": [
    "!python src/scrapy2-alt.py"
   ]
  },
  {
   "cell_type": "markdown",
   "metadata": {},
   "source": [
    "## Appendix 1 - What is Yield keyword for? 💐\n",
    "\n",
    "You might have noticed that we used the `yield` keyword in Scrapy which could be quite new and confusing. Technically speaking it is called a *generator*.\n",
    "\n",
    "In a nutshell, `yield` is a very useful keyword to return a data collection without taking up too much machine's memory. \n",
    "\n",
    "Let's check out with an example. Let's take two functions: "
   ]
  },
  {
   "cell_type": "code",
   "execution_count": 5,
   "metadata": {},
   "outputs": [],
   "source": [
    "# Simple function with return keyword\n",
    "def return_list(a_list):\n",
    "    for i in range(len(a_list)):\n",
    "        a_list[i] *= 2\n",
    "    return a_list\n",
    "\n",
    "# Function with yield keyword\n",
    "def return_with_yield(a_list):\n",
    "    for i in range(len(a_list)):\n",
    "        yield a_list[i] * 2"
   ]
  },
  {
   "cell_type": "markdown",
   "metadata": {},
   "source": [
    "Now let's apply these two functions to our `random_list`"
   ]
  },
  {
   "cell_type": "code",
   "execution_count": 6,
   "metadata": {},
   "outputs": [
    {
     "data": {
      "text/plain": [
       "[0, 2, 4, 6, 8, 10, 12, 14, 16, 18]"
      ]
     },
     "execution_count": 6,
     "metadata": {},
     "output_type": "execute_result"
    }
   ],
   "source": [
    "# Create a list of numbers from 0 to 9\n",
    "random_list = [x for x in range(10)]\n",
    "# Returns a list\n",
    "return_list(random_list)"
   ]
  },
  {
   "cell_type": "code",
   "execution_count": 7,
   "metadata": {},
   "outputs": [
    {
     "data": {
      "text/plain": [
       "<generator object return_with_yield at 0x0000022E0DABCAC0>"
      ]
     },
     "execution_count": 7,
     "metadata": {},
     "output_type": "execute_result"
    }
   ],
   "source": [
    "# Create a list of numbers from 0 to 9\n",
    "random_list = [x for x in range(10)]\n",
    "# Function with yield\n",
    "return_with_yield(random_list)"
   ]
  },
  {
   "cell_type": "markdown",
   "metadata": {},
   "source": [
    "In the first example, `return_list` returned directly the full list. Whereas, in the second example, `return_with_yield` returned a `generator`. Generators are very cool because we haven't actually executed the loop. Therefore, we haven't spend too much computer memory. \n",
    "\n",
    "So let's say instead of a list of 10 items, you'd have one of 1000000 items, it would make a huge difference in terms of computing time. \n",
    "\n",
    "Now if you need to get the actual values of your generator, you can simply create a for loop or a comprehension list like:"
   ]
  },
  {
   "cell_type": "code",
   "execution_count": 8,
   "metadata": {},
   "outputs": [
    {
     "name": "stdout",
     "output_type": "stream",
     "text": [
      "output 0\n",
      "output 2\n",
      "output 4\n",
      "output 6\n",
      "output 8\n",
      "output 10\n",
      "output 12\n",
      "output 14\n",
      "output 16\n",
      "output 18\n"
     ]
    },
    {
     "data": {
      "text/plain": [
       "[0, 2, 4, 6, 8, 10, 12, 14, 16, 18]"
      ]
     },
     "execution_count": 8,
     "metadata": {},
     "output_type": "execute_result"
    }
   ],
   "source": [
    "# Using a for loop will just print the output:\n",
    "for number in return_with_yield(random_list):\n",
    "    print(\"output\", number)\n",
    "\n",
    "# Using a comprehension list will create a list:\n",
    "[i for i in return_with_yield(random_list)]"
   ]
  },
  {
   "cell_type": "markdown",
   "metadata": {},
   "source": [
    "If you simply need to yield from a list without doing any manipulation, you can use `yield from` instead of creating a loop. "
   ]
  },
  {
   "cell_type": "markdown",
   "metadata": {},
   "source": [
    "## Appendix 2 - Crash course on XPath ⚔️\n",
    "\n",
    "The best way to learn XPath is to follow this great tutorial from <a href=\"http://zvon.org/comp/r/tut-XPath_1.html#Pages~List_of_XPaths\" target=\"_blank\">http://Zvon.org</a>."
   ]
  },
  {
   "cell_type": "markdown",
   "metadata": {},
   "source": [
    "## Resources 📚📚\n",
    "\n",
    "* <a href=\"https://docs.scrapy.org/en/latest/index.html\" target=\"_blank\"> Scrapy Documentation </a>\n",
    "* <a href=\"https://docs.python.org/3/library/logging.html\" target=\"_blank\"> Logging</a>\n",
    "* <a href=\"https://docs.scrapy.org/en/latest/topics/logging.html#topics-logging\" target=\"_blank\">Logging in a scrapy</a>\n"
   ]
  }
 ],
 "metadata": {
  "interpreter": {
   "hash": "16196ea7eff63910081d4e10ae1bdb1eb18fd83cb470bb8efbb9fa6b0c724af5"
  },
  "kernelspec": {
   "display_name": "Python 3.9.12 ('base': conda)",
   "language": "python",
   "name": "python3"
  },
  "language_info": {
   "codemirror_mode": {
    "name": "ipython",
    "version": 3
   },
   "file_extension": ".py",
   "mimetype": "text/x-python",
   "name": "python",
   "nbconvert_exporter": "python",
   "pygments_lexer": "ipython3",
   "version": "3.9.12"
  }
 },
 "nbformat": 4,
 "nbformat_minor": 4
}
