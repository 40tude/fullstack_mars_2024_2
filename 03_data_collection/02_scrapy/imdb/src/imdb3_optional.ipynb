{
 "cells": [
  {
   "cell_type": "markdown",
   "metadata": {},
   "source": [
    "Voir : https://app.jedha.co/course/web-scraping-ft/become-a-movie-director-ft\n"
   ]
  },
  {
   "cell_type": "markdown",
   "metadata": {},
   "source": [
    "## 6 - Based on the results obtained, create a list called url_list containing all the urls for the movies in the charts."
   ]
  },
  {
   "cell_type": "code",
   "execution_count": 2,
   "metadata": {},
   "outputs": [],
   "source": [
    "# prelude\n",
    "\n",
    "import json\n",
    "import pandas as pd"
   ]
  },
  {
   "cell_type": "code",
   "execution_count": 13,
   "metadata": {},
   "outputs": [
    {
     "data": {
      "text/plain": [
       "0    https://www.imdb.com/title/tt21235248/?ref_=ch...\n",
       "1    https://www.imdb.com/title/tt15239678/?ref_=ch...\n",
       "2    https://www.imdb.com/title/tt21692408/?ref_=ch...\n",
       "3    https://www.imdb.com/title/tt23137390/?ref_=ch...\n",
       "4    https://www.imdb.com/title/tt10720352/?ref_=ch...\n",
       "5    https://www.imdb.com/title/tt14966898/?ref_=ch...\n",
       "6    https://www.imdb.com/title/tt26658104/?ref_=ch...\n",
       "7    https://www.imdb.com/title/tt19637052/?ref_=ch...\n",
       "8    https://www.imdb.com/title/tt14351082/?ref_=ch...\n",
       "9    https://www.imdb.com/title/tt8521778/?ref_=cht...\n",
       "Name: url, dtype: object"
      ]
     },
     "execution_count": 13,
     "metadata": {},
     "output_type": "execute_result"
    }
   ],
   "source": [
    "# En allant sur imdb et en cliquant sur les films on a des url du type\n",
    "# https://www.imdb.com/title/tt21235248/?ref_=chtbo_t_1\n",
    "\n",
    "# Dans imdb2.json on des url du type : \"url\": \"/title/tt21235248/?ref_=chtbo_t_1\"\n",
    "\n",
    "# Faut lire, extraire, concatener\n",
    "\n",
    "\n",
    "# with open(\"imdb2.json\") as my_file:\n",
    "#   data = json.load(my_file)\n",
    "\n",
    "# data\n",
    "\n",
    "df = pd.read_json(\"imdb2.json\")\n",
    "\n",
    "df[\"url\"]= \"https://www.imdb.com\" + df[\"url\"] \n",
    "df[\"url\"]\n"
   ]
  },
  {
   "cell_type": "markdown",
   "metadata": {},
   "source": [
    "## 7 - Store the list of urls to a file called url_list.txt"
   ]
  },
  {
   "cell_type": "code",
   "execution_count": 14,
   "metadata": {},
   "outputs": [],
   "source": [
    "df[\"url\"].to_csv(\"url_list.txt\")"
   ]
  },
  {
   "cell_type": "code",
   "execution_count": 1,
   "metadata": {},
   "outputs": [
    {
     "name": "stdout",
     "output_type": "stream",
     "text": [
      "Hello Pr FALKEN...\n"
     ]
    }
   ],
   "source": [
    "# Testing\n",
    "!python \"hello.py\""
   ]
  },
  {
   "cell_type": "markdown",
   "metadata": {},
   "source": [
    "## 8 - Scrape all the pages from the movies in the charts \n",
    "\n",
    "Extract \n",
    "1. The complete cast\n",
    "1. The Storyline\n",
    "1. The genres\n",
    "1. Save the title \n",
    "1. Save the url for future joins purposes\n",
    "\n",
    "### Pay attention to inconsistencies between pages\n"
   ]
  },
  {
   "cell_type": "code",
   "execution_count": 3,
   "metadata": {},
   "outputs": [
    {
     "data": {
      "text/html": [
       "<div>\n",
       "<style scoped>\n",
       "    .dataframe tbody tr th:only-of-type {\n",
       "        vertical-align: middle;\n",
       "    }\n",
       "\n",
       "    .dataframe tbody tr th {\n",
       "        vertical-align: top;\n",
       "    }\n",
       "\n",
       "    .dataframe thead th {\n",
       "        text-align: right;\n",
       "    }\n",
       "</style>\n",
       "<table border=\"1\" class=\"dataframe\">\n",
       "  <thead>\n",
       "    <tr style=\"text-align: right;\">\n",
       "      <th></th>\n",
       "      <th>Unnamed: 0</th>\n",
       "      <th>url</th>\n",
       "    </tr>\n",
       "  </thead>\n",
       "  <tbody>\n",
       "    <tr>\n",
       "      <th>0</th>\n",
       "      <td>0</td>\n",
       "      <td>https://www.imdb.com/title/tt21235248/?ref_=ch...</td>\n",
       "    </tr>\n",
       "    <tr>\n",
       "      <th>1</th>\n",
       "      <td>1</td>\n",
       "      <td>https://www.imdb.com/title/tt15239678/?ref_=ch...</td>\n",
       "    </tr>\n",
       "    <tr>\n",
       "      <th>2</th>\n",
       "      <td>2</td>\n",
       "      <td>https://www.imdb.com/title/tt21692408/?ref_=ch...</td>\n",
       "    </tr>\n",
       "    <tr>\n",
       "      <th>3</th>\n",
       "      <td>3</td>\n",
       "      <td>https://www.imdb.com/title/tt23137390/?ref_=ch...</td>\n",
       "    </tr>\n",
       "    <tr>\n",
       "      <th>4</th>\n",
       "      <td>4</td>\n",
       "      <td>https://www.imdb.com/title/tt10720352/?ref_=ch...</td>\n",
       "    </tr>\n",
       "    <tr>\n",
       "      <th>5</th>\n",
       "      <td>5</td>\n",
       "      <td>https://www.imdb.com/title/tt14966898/?ref_=ch...</td>\n",
       "    </tr>\n",
       "    <tr>\n",
       "      <th>6</th>\n",
       "      <td>6</td>\n",
       "      <td>https://www.imdb.com/title/tt26658104/?ref_=ch...</td>\n",
       "    </tr>\n",
       "    <tr>\n",
       "      <th>7</th>\n",
       "      <td>7</td>\n",
       "      <td>https://www.imdb.com/title/tt19637052/?ref_=ch...</td>\n",
       "    </tr>\n",
       "    <tr>\n",
       "      <th>8</th>\n",
       "      <td>8</td>\n",
       "      <td>https://www.imdb.com/title/tt14351082/?ref_=ch...</td>\n",
       "    </tr>\n",
       "    <tr>\n",
       "      <th>9</th>\n",
       "      <td>9</td>\n",
       "      <td>https://www.imdb.com/title/tt8521778/?ref_=cht...</td>\n",
       "    </tr>\n",
       "  </tbody>\n",
       "</table>\n",
       "</div>"
      ],
      "text/plain": [
       "   Unnamed: 0                                                url\n",
       "0           0  https://www.imdb.com/title/tt21235248/?ref_=ch...\n",
       "1           1  https://www.imdb.com/title/tt15239678/?ref_=ch...\n",
       "2           2  https://www.imdb.com/title/tt21692408/?ref_=ch...\n",
       "3           3  https://www.imdb.com/title/tt23137390/?ref_=ch...\n",
       "4           4  https://www.imdb.com/title/tt10720352/?ref_=ch...\n",
       "5           5  https://www.imdb.com/title/tt14966898/?ref_=ch...\n",
       "6           6  https://www.imdb.com/title/tt26658104/?ref_=ch...\n",
       "7           7  https://www.imdb.com/title/tt19637052/?ref_=ch...\n",
       "8           8  https://www.imdb.com/title/tt14351082/?ref_=ch...\n",
       "9           9  https://www.imdb.com/title/tt8521778/?ref_=cht..."
      ]
     },
     "execution_count": 3,
     "metadata": {},
     "output_type": "execute_result"
    }
   ],
   "source": []
  },
  {
   "cell_type": "code",
   "execution_count": 4,
   "metadata": {},
   "outputs": [
    {
     "name": "stdout",
     "output_type": "stream",
     "text": [
      "https://www.imdb.com/title/tt21235248/?ref_=chtbo_t_1\n",
      "https://www.imdb.com/title/tt15239678/?ref_=chtbo_t_2\n",
      "https://www.imdb.com/title/tt21692408/?ref_=chtbo_t_3\n",
      "https://www.imdb.com/title/tt23137390/?ref_=chtbo_t_4\n",
      "https://www.imdb.com/title/tt10720352/?ref_=chtbo_t_5\n",
      "https://www.imdb.com/title/tt14966898/?ref_=chtbo_t_6\n",
      "https://www.imdb.com/title/tt26658104/?ref_=chtbo_t_7\n",
      "https://www.imdb.com/title/tt19637052/?ref_=chtbo_t_8\n",
      "https://www.imdb.com/title/tt14351082/?ref_=chtbo_t_9\n",
      "https://www.imdb.com/title/tt8521778/?ref_=chtbo_t_10\n"
     ]
    }
   ],
   "source": [
    "  "
   ]
  }
 ],
 "metadata": {
  "kernelspec": {
   "display_name": "jedha",
   "language": "python",
   "name": "python3"
  },
  "language_info": {
   "codemirror_mode": {
    "name": "ipython",
    "version": 3
   },
   "file_extension": ".py",
   "mimetype": "text/x-python",
   "name": "python",
   "nbconvert_exporter": "python",
   "pygments_lexer": "ipython3",
   "version": "3.11.7"
  }
 },
 "nbformat": 4,
 "nbformat_minor": 2
}
