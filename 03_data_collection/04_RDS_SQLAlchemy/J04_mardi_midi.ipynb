{
 "cells": [
  {
   "cell_type": "markdown",
   "metadata": {},
   "source": [
    "# Exercise: practice SQLAlchemy\n",
    "\n",
    "Let's configure our first RDS instance on AWS and then use SQLAlchemy to write into our remote database and make some SQL queries!\n",
    "\n",
    "1. Follow the instructions/videos from yesterday (M03-D03/04-Amazon-RDS.ipynb) to create your own RDS instance on AWS \n",
    "2. Download <a href=\"https://www.pgadmin.org/download/\" target=\"_blank\">PGAdmin</a> and configure it to access your remote database\n",
    "\n",
    "If you get stuck at some step, don't hesitate to ask for help to your classmates, your teacher or your TA 🤗."
   ]
  },
  {
   "cell_type": "markdown",
   "metadata": {},
   "source": [
    "**Before continuing, please execute the cell below, this will install a package that is required to access your remote database from this notebook:**"
   ]
  },
  {
   "cell_type": "code",
   "execution_count": null,
   "metadata": {
    "tags": []
   },
   "outputs": [],
   "source": [
    "# !pip install psycopg2-binary"
   ]
  },
  {
   "cell_type": "markdown",
   "metadata": {},
   "source": [
    "3. Create an sqlalchemy engine that is connected to your AWS RDS instance"
   ]
  },
  {
   "cell_type": "code",
   "execution_count": 28,
   "metadata": {},
   "outputs": [],
   "source": [
    "import my_api_id as key\n",
    "from sqlalchemy import create_engine, text\n",
    "\n",
    "engine = create_engine(f\"postgresql+psycopg2://{key.USERNAME}:{key.PASSWORD}@{key.HOSTNAME}/{key.DBNAME}\", echo=True)"
   ]
  },
  {
   "cell_type": "code",
   "execution_count": 4,
   "metadata": {},
   "outputs": [],
   "source": [
    "from sqlalchemy import Table, Column, Integer, String, MetaData, ForeignKey\n",
    "\n",
    "meta = MetaData()\n",
    "\n",
    "# Define table \"customers\"\n",
    "customers = Table(\n",
    "    'customers', \n",
    "    meta,\n",
    "    Column('id', Integer, primary_key = True),\n",
    "    Column('name', String),\n",
    "    Column('country', String),\n",
    "    Column('job', String),\n",
    "    Column('age', Integer),\n",
    ")"
   ]
  },
  {
   "cell_type": "code",
   "execution_count": 29,
   "metadata": {},
   "outputs": [
    {
     "name": "stdout",
     "output_type": "stream",
     "text": [
      "2024-04-02 14:50:34,330 INFO sqlalchemy.engine.Engine select pg_catalog.version()\n",
      "2024-04-02 14:50:34,335 INFO sqlalchemy.engine.Engine [raw sql] {}\n",
      "2024-04-02 14:50:34,345 INFO sqlalchemy.engine.Engine select current_schema()\n",
      "2024-04-02 14:50:34,346 INFO sqlalchemy.engine.Engine [raw sql] {}\n",
      "2024-04-02 14:50:34,354 INFO sqlalchemy.engine.Engine show standard_conforming_strings\n",
      "2024-04-02 14:50:34,356 INFO sqlalchemy.engine.Engine [raw sql] {}\n",
      "2024-04-02 14:50:34,364 INFO sqlalchemy.engine.Engine BEGIN (implicit)\n",
      "2024-04-02 14:50:34,368 INFO sqlalchemy.engine.Engine SELECT pg_catalog.pg_class.relname \n",
      "FROM pg_catalog.pg_class JOIN pg_catalog.pg_namespace ON pg_catalog.pg_namespace.oid = pg_catalog.pg_class.relnamespace \n",
      "WHERE pg_catalog.pg_class.relname = %(table_name)s AND pg_catalog.pg_class.relkind = ANY (ARRAY[%(param_1)s, %(param_2)s, %(param_3)s, %(param_4)s, %(param_5)s]) AND pg_catalog.pg_table_is_visible(pg_catalog.pg_class.oid) AND pg_catalog.pg_namespace.nspname != %(nspname_1)s\n",
      "2024-04-02 14:50:34,370 INFO sqlalchemy.engine.Engine [generated in 0.00160s] {'table_name': 'customers', 'param_1': 'r', 'param_2': 'p', 'param_3': 'f', 'param_4': 'v', 'param_5': 'm', 'nspname_1': 'pg_catalog'}\n",
      "2024-04-02 14:50:34,386 INFO sqlalchemy.engine.Engine COMMIT\n"
     ]
    }
   ],
   "source": [
    "meta.create_all(engine)"
   ]
  },
  {
   "cell_type": "code",
   "execution_count": 6,
   "metadata": {},
   "outputs": [
    {
     "name": "stdout",
     "output_type": "stream",
     "text": [
      "2024-04-02 14:19:36,387 INFO sqlalchemy.engine.Engine BEGIN (implicit)\n",
      "2024-04-02 14:19:36,389 INFO sqlalchemy.engine.Engine INSERT INTO customers (name, country, job, age) VALUES (%(name__0)s, %(country__0)s, %(job__0)s, %(age__0)s), (%(name__1)s, %(country__1)s, %(job__1)s, %(age__1)s), (%(name__2)s, %(country__2)s, %(job__2)s, %(age__2)s)\n",
      "2024-04-02 14:19:36,390 INFO sqlalchemy.engine.Engine [generated in 0.00135s (insertmanyvalues)] {'name__0': 'Sauerkraut', 'job__0': 'engineer', 'age__0': '37', 'country__0': 'Germany', 'name__1': 'Jones', 'job__1': 'journalist', 'age__1': '52', 'country__1': 'United Kingdom', 'name__2': 'Dupont', 'job__2': 'dancer', 'age__2': '25', 'country__2': 'France'}\n",
      "2024-04-02 14:19:36,403 INFO sqlalchemy.engine.Engine COMMIT\n"
     ]
    }
   ],
   "source": [
    "conn = engine.connect()\n",
    "\n",
    "values = [\n",
    "    {\"name\" : \"Sauerkraut\", \"country\" : \"Germany\", \"job\" : \"engineer\", \"age\" : \"37\"},\n",
    "    {\"name\" : \"Jones\", \"country\" : \"United Kingdom\", \"job\" : \"journalist\", \"age\" : \"52\"},\n",
    "    {\"name\" : \"Dupont\", \"country\" : \"France\", \"job\" : \"dancer\", \"age\" : \"25\"},\n",
    "]\n",
    "\n",
    "conn.execute(customers.insert(), values)\n",
    "conn.commit()"
   ]
  },
  {
   "cell_type": "markdown",
   "metadata": {},
   "source": [
    "4. Create a new table named `customers` in your remote database and insert the following data :\n",
    "\n",
    "| id | name       | country        | job        | age |\n",
    "|----|------------|----------------|------------|-----|\n",
    "| 1  | Sauerkraut | Germany        | engineer   | 37  |\n",
    "| 2  | Jones      | United Kingdom | journalist | 52  |\n",
    "| 3  | Dupont     | France         | dancer     | 25  |\n",
    "\n",
    "Optionnal: Use PGAdmin to check that the table has been created without any mistake"
   ]
  },
  {
   "cell_type": "code",
   "execution_count": 7,
   "metadata": {},
   "outputs": [
    {
     "name": "stdout",
     "output_type": "stream",
     "text": [
      "2024-04-02 14:23:59,309 INFO sqlalchemy.engine.Engine BEGIN (implicit)\n",
      "2024-04-02 14:23:59,309 INFO sqlalchemy.engine.Engine SELECT * FROM customers \n",
      "2024-04-02 14:23:59,311 INFO sqlalchemy.engine.Engine [generated in 0.00229s] {}\n"
     ]
    }
   ],
   "source": [
    "from sqlalchemy.sql import text\n",
    "\n",
    "# Create a statement\n",
    "stmt = text(\n",
    "  \"SELECT * FROM customers \"\n",
    ")\n",
    "\n",
    "result = conn.execute(stmt)"
   ]
  },
  {
   "cell_type": "code",
   "execution_count": 8,
   "metadata": {},
   "outputs": [
    {
     "data": {
      "text/plain": [
       "[(1, 'Sauerkraut', 'Germany', 'engineer', 37),\n",
       " (2, 'Jones', 'United Kingdom', 'journalist', 52),\n",
       " (3, 'Dupont', 'France', 'dancer', 25)]"
      ]
     },
     "execution_count": 8,
     "metadata": {},
     "output_type": "execute_result"
    }
   ],
   "source": [
    "result.fetchall()"
   ]
  },
  {
   "cell_type": "code",
   "execution_count": 7,
   "metadata": {},
   "outputs": [
    {
     "name": "stdout",
     "output_type": "stream",
     "text": [
      "2020-09-04 15:23:20,919 INFO sqlalchemy.engine.base.Engine select version()\n",
      "2020-09-04 15:23:20,920 INFO sqlalchemy.engine.base.Engine {}\n",
      "2020-09-04 15:23:21,087 INFO sqlalchemy.engine.base.Engine select current_schema()\n",
      "2020-09-04 15:23:21,088 INFO sqlalchemy.engine.base.Engine {}\n",
      "2020-09-04 15:23:21,257 INFO sqlalchemy.engine.base.Engine SELECT CAST('test plain returns' AS VARCHAR(60)) AS anon_1\n",
      "2020-09-04 15:23:21,258 INFO sqlalchemy.engine.base.Engine {}\n",
      "2020-09-04 15:23:21,346 INFO sqlalchemy.engine.base.Engine SELECT CAST('test unicode returns' AS VARCHAR(60)) AS anon_1\n",
      "2020-09-04 15:23:21,347 INFO sqlalchemy.engine.base.Engine {}\n",
      "2020-09-04 15:23:21,430 INFO sqlalchemy.engine.base.Engine show standard_conforming_strings\n",
      "2020-09-04 15:23:21,431 INFO sqlalchemy.engine.base.Engine {}\n",
      "2020-09-04 15:23:21,598 INFO sqlalchemy.engine.base.Engine select relname from pg_class c join pg_namespace n on n.oid=c.relnamespace where pg_catalog.pg_table_is_visible(c.oid) and relname=%(name)s\n",
      "2020-09-04 15:23:21,599 INFO sqlalchemy.engine.base.Engine {'name': 'customers'}\n",
      "2020-09-04 15:23:21,768 INFO sqlalchemy.engine.base.Engine \n",
      "CREATE TABLE customers (\n",
      "\tid SERIAL NOT NULL, \n",
      "\tname VARCHAR, \n",
      "\tcountry VARCHAR, \n",
      "\tjob VARCHAR, \n",
      "\tage INTEGER, \n",
      "\tPRIMARY KEY (id)\n",
      ")\n",
      "\n",
      "\n",
      "2020-09-04 15:23:21,769 INFO sqlalchemy.engine.base.Engine {}\n",
      "2020-09-04 15:23:21,916 INFO sqlalchemy.engine.base.Engine COMMIT\n"
     ]
    }
   ],
   "source": [
    "# Create table here"
   ]
  },
  {
   "cell_type": "code",
   "execution_count": 52,
   "metadata": {},
   "outputs": [],
   "source": [
    "# Create instances of User\n",
    "\n",
    "# Initialize a sessionmaker \n",
    "\n",
    "# Instanciate Session \n",
    "\n",
    "# Add values to db \n",
    "\n",
    "# Commit the results "
   ]
  },
  {
   "cell_type": "markdown",
   "metadata": {},
   "source": [
    "5. Execute the cell below to download the famous iris dataset:"
   ]
  },
  {
   "cell_type": "code",
   "execution_count": 30,
   "metadata": {},
   "outputs": [
    {
     "data": {
      "text/html": [
       "<div>\n",
       "<style scoped>\n",
       "    .dataframe tbody tr th:only-of-type {\n",
       "        vertical-align: middle;\n",
       "    }\n",
       "\n",
       "    .dataframe tbody tr th {\n",
       "        vertical-align: top;\n",
       "    }\n",
       "\n",
       "    .dataframe thead th {\n",
       "        text-align: right;\n",
       "    }\n",
       "</style>\n",
       "<table border=\"1\" class=\"dataframe\">\n",
       "  <thead>\n",
       "    <tr style=\"text-align: right;\">\n",
       "      <th></th>\n",
       "      <th>sepal_length</th>\n",
       "      <th>sepal_width</th>\n",
       "      <th>petal_length</th>\n",
       "      <th>petal_width</th>\n",
       "      <th>species</th>\n",
       "    </tr>\n",
       "  </thead>\n",
       "  <tbody>\n",
       "    <tr>\n",
       "      <th>89</th>\n",
       "      <td>5.5</td>\n",
       "      <td>2.5</td>\n",
       "      <td>4.0</td>\n",
       "      <td>1.3</td>\n",
       "      <td>versicolor</td>\n",
       "    </tr>\n",
       "    <tr>\n",
       "      <th>43</th>\n",
       "      <td>5.0</td>\n",
       "      <td>3.5</td>\n",
       "      <td>1.6</td>\n",
       "      <td>0.6</td>\n",
       "      <td>setosa</td>\n",
       "    </tr>\n",
       "    <tr>\n",
       "      <th>47</th>\n",
       "      <td>4.6</td>\n",
       "      <td>3.2</td>\n",
       "      <td>1.4</td>\n",
       "      <td>0.2</td>\n",
       "      <td>setosa</td>\n",
       "    </tr>\n",
       "    <tr>\n",
       "      <th>44</th>\n",
       "      <td>5.1</td>\n",
       "      <td>3.8</td>\n",
       "      <td>1.9</td>\n",
       "      <td>0.4</td>\n",
       "      <td>setosa</td>\n",
       "    </tr>\n",
       "    <tr>\n",
       "      <th>45</th>\n",
       "      <td>4.8</td>\n",
       "      <td>3.0</td>\n",
       "      <td>1.4</td>\n",
       "      <td>0.3</td>\n",
       "      <td>setosa</td>\n",
       "    </tr>\n",
       "  </tbody>\n",
       "</table>\n",
       "</div>"
      ],
      "text/plain": [
       "    sepal_length  sepal_width  petal_length  petal_width     species\n",
       "89           5.5          2.5           4.0          1.3  versicolor\n",
       "43           5.0          3.5           1.6          0.6      setosa\n",
       "47           4.6          3.2           1.4          0.2      setosa\n",
       "44           5.1          3.8           1.9          0.4      setosa\n",
       "45           4.8          3.0           1.4          0.3      setosa"
      ]
     },
     "execution_count": 30,
     "metadata": {},
     "output_type": "execute_result"
    }
   ],
   "source": [
    "import seaborn as sns\n",
    "df_iris = sns.load_dataset(\"iris\")\n",
    "df_iris.sample(5)\n"
   ]
  },
  {
   "cell_type": "markdown",
   "metadata": {},
   "source": [
    "6. Create a table in your remote database containing the information of the dataset:"
   ]
  },
  {
   "cell_type": "code",
   "execution_count": 31,
   "metadata": {},
   "outputs": [
    {
     "name": "stdout",
     "output_type": "stream",
     "text": [
      "2024-04-02 14:50:49,174 INFO sqlalchemy.engine.Engine BEGIN (implicit)\n",
      "2024-04-02 14:50:49,174 INFO sqlalchemy.engine.Engine SELECT pg_catalog.pg_class.relname \n",
      "FROM pg_catalog.pg_class JOIN pg_catalog.pg_namespace ON pg_catalog.pg_namespace.oid = pg_catalog.pg_class.relnamespace \n",
      "WHERE pg_catalog.pg_class.relname = %(table_name)s AND pg_catalog.pg_class.relkind = ANY (ARRAY[%(param_1)s, %(param_2)s, %(param_3)s, %(param_4)s, %(param_5)s]) AND pg_catalog.pg_table_is_visible(pg_catalog.pg_class.oid) AND pg_catalog.pg_namespace.nspname != %(nspname_1)s\n",
      "2024-04-02 14:50:49,177 INFO sqlalchemy.engine.Engine [cached since 14.81s ago] {'table_name': 'iris', 'param_1': 'r', 'param_2': 'p', 'param_3': 'f', 'param_4': 'v', 'param_5': 'm', 'nspname_1': 'pg_catalog'}\n",
      "2024-04-02 14:50:49,188 INFO sqlalchemy.engine.Engine \n",
      "CREATE TABLE iris (\n",
      "\tindex BIGINT, \n",
      "\tsepal_length FLOAT(53), \n",
      "\tsepal_width FLOAT(53), \n",
      "\tpetal_length FLOAT(53), \n",
      "\tpetal_width FLOAT(53), \n",
      "\tspecies TEXT\n",
      ")\n",
      "\n",
      "\n",
      "2024-04-02 14:50:49,189 INFO sqlalchemy.engine.Engine [no key 0.00087s] {}\n",
      "2024-04-02 14:50:49,200 INFO sqlalchemy.engine.Engine CREATE INDEX ix_iris_index ON iris (index)\n",
      "2024-04-02 14:50:49,201 INFO sqlalchemy.engine.Engine [no key 0.00091s] {}\n",
      "2024-04-02 14:50:49,212 INFO sqlalchemy.engine.Engine INSERT INTO iris (index, sepal_length, sepal_width, petal_length, petal_width, species) VALUES (%(index__0)s, %(sepal_length__0)s, %(sepal_width__0)s, %(petal_length__0)s, %(petal_width__0)s, %(species__0)s), (%(index__1)s, %(sepal_length__1)s, %(sep ... 17983 characters truncated ... _length__149)s, %(sepal_width__149)s, %(petal_length__149)s, %(petal_width__149)s, %(species__149)s)\n",
      "2024-04-02 14:50:49,212 INFO sqlalchemy.engine.Engine [generated in 0.00038s (insertmanyvalues)] {'sepal_width__0': 3.5, 'petal_width__0': 0.2, 'petal_length__0': 1.4, 'sepal_length__0': 5.1, 'species__0': 'setosa', 'index__0': 0, 'sepal_width__1': 3.0, 'petal_width__1': 0.2, 'petal_length__1': 1.4, 'sepal_length__1': 4.9, 'species__1': 'setosa', 'index__1': 1, 'sepal_width__2': 3.2, 'petal_width__2': 0.2, 'petal_length__2': 1.3, 'sepal_length__2': 4.7, 'species__2': 'setosa', 'index__2': 2, 'sepal_width__3': 3.1, 'petal_width__3': 0.2, 'petal_length__3': 1.5, 'sepal_length__3': 4.6, 'species__3': 'setosa', 'index__3': 3, 'sepal_width__4': 3.6, 'petal_width__4': 0.2, 'petal_length__4': 1.4, 'sepal_length__4': 5.0, 'species__4': 'setosa', 'index__4': 4, 'sepal_width__5': 3.9, 'petal_width__5': 0.4, 'petal_length__5': 1.7, 'sepal_length__5': 5.4, 'species__5': 'setosa', 'index__5': 5, 'sepal_width__6': 3.4, 'petal_width__6': 0.3, 'petal_length__6': 1.4, 'sepal_length__6': 4.6, 'species__6': 'setosa', 'index__6': 6, 'sepal_width__7': 3.4, 'petal_width__7': 0.2, 'petal_length__7': 1.5, 'sepal_length__7': 5.0, 'species__7': 'setosa', 'index__7': 7, 'sepal_width__8': 2.9, 'petal_width__8': 0.2 ... 800 parameters truncated ... 'species__141': 'virginica', 'index__141': 141, 'sepal_width__142': 2.7, 'petal_width__142': 1.9, 'petal_length__142': 5.1, 'sepal_length__142': 5.8, 'species__142': 'virginica', 'index__142': 142, 'sepal_width__143': 3.2, 'petal_width__143': 2.3, 'petal_length__143': 5.9, 'sepal_length__143': 6.8, 'species__143': 'virginica', 'index__143': 143, 'sepal_width__144': 3.3, 'petal_width__144': 2.5, 'petal_length__144': 5.7, 'sepal_length__144': 6.7, 'species__144': 'virginica', 'index__144': 144, 'sepal_width__145': 3.0, 'petal_width__145': 2.3, 'petal_length__145': 5.2, 'sepal_length__145': 6.7, 'species__145': 'virginica', 'index__145': 145, 'sepal_width__146': 2.5, 'petal_width__146': 1.9, 'petal_length__146': 5.0, 'sepal_length__146': 6.3, 'species__146': 'virginica', 'index__146': 146, 'sepal_width__147': 3.0, 'petal_width__147': 2.0, 'petal_length__147': 5.2, 'sepal_length__147': 6.5, 'species__147': 'virginica', 'index__147': 147, 'sepal_width__148': 3.4, 'petal_width__148': 2.3, 'petal_length__148': 5.4, 'sepal_length__148': 6.2, 'species__148': 'virginica', 'index__148': 148, 'sepal_width__149': 3.0, 'petal_width__149': 1.8, 'petal_length__149': 5.1, 'sepal_length__149': 5.9, 'species__149': 'virginica', 'index__149': 149}\n",
      "2024-04-02 14:50:49,221 INFO sqlalchemy.engine.Engine COMMIT\n"
     ]
    },
    {
     "data": {
      "text/plain": [
       "150"
      ]
     },
     "execution_count": 31,
     "metadata": {},
     "output_type": "execute_result"
    }
   ],
   "source": [
    "df_iris.to_sql(\n",
    "    \"iris\",\n",
    "    engine\n",
    ")"
   ]
  },
  {
   "cell_type": "markdown",
   "metadata": {},
   "source": [
    "### Now let's make some SQL requests !\n",
    "\n",
    "To answer the following questions, don't hesitate to refer to <a href=\"https://www.sqltutorial.org/sql-cheat-sheet/\" target=\"_blank\">this cheatsheet</a>. 😉\n",
    "\n",
    "7. What are the different species present in this dataset?"
   ]
  },
  {
   "cell_type": "code",
   "execution_count": 45,
   "metadata": {},
   "outputs": [
    {
     "name": "stdout",
     "output_type": "stream",
     "text": [
      "2024-04-02 15:02:25,114 INFO sqlalchemy.engine.Engine BEGIN (implicit)\n",
      "2024-04-02 15:02:25,115 INFO sqlalchemy.engine.Engine SELECT * FROM iris\n",
      "2024-04-02 15:02:25,115 INFO sqlalchemy.engine.Engine [cached since 279s ago] {}\n"
     ]
    }
   ],
   "source": [
    "conn = engine.connect()\n",
    "stmt = text(\n",
    "  \"SELECT * FROM iris\"\n",
    ")\n",
    "result = conn.execute(stmt)\n"
   ]
  },
  {
   "cell_type": "code",
   "execution_count": 46,
   "metadata": {},
   "outputs": [
    {
     "data": {
      "text/plain": [
       "[(0, 5.1, 3.5, 1.4, 0.2, 'setosa'),\n",
       " (1, 4.9, 3.0, 1.4, 0.2, 'setosa'),\n",
       " (2, 4.7, 3.2, 1.3, 0.2, 'setosa'),\n",
       " (3, 4.6, 3.1, 1.5, 0.2, 'setosa'),\n",
       " (4, 5.0, 3.6, 1.4, 0.2, 'setosa'),\n",
       " (5, 5.4, 3.9, 1.7, 0.4, 'setosa'),\n",
       " (6, 4.6, 3.4, 1.4, 0.3, 'setosa'),\n",
       " (7, 5.0, 3.4, 1.5, 0.2, 'setosa'),\n",
       " (8, 4.4, 2.9, 1.4, 0.2, 'setosa'),\n",
       " (9, 4.9, 3.1, 1.5, 0.1, 'setosa'),\n",
       " (10, 5.4, 3.7, 1.5, 0.2, 'setosa'),\n",
       " (11, 4.8, 3.4, 1.6, 0.2, 'setosa'),\n",
       " (12, 4.8, 3.0, 1.4, 0.1, 'setosa'),\n",
       " (13, 4.3, 3.0, 1.1, 0.1, 'setosa'),\n",
       " (14, 5.8, 4.0, 1.2, 0.2, 'setosa'),\n",
       " (15, 5.7, 4.4, 1.5, 0.4, 'setosa'),\n",
       " (16, 5.4, 3.9, 1.3, 0.4, 'setosa'),\n",
       " (17, 5.1, 3.5, 1.4, 0.3, 'setosa'),\n",
       " (18, 5.7, 3.8, 1.7, 0.3, 'setosa'),\n",
       " (19, 5.1, 3.8, 1.5, 0.3, 'setosa'),\n",
       " (20, 5.4, 3.4, 1.7, 0.2, 'setosa'),\n",
       " (21, 5.1, 3.7, 1.5, 0.4, 'setosa'),\n",
       " (22, 4.6, 3.6, 1.0, 0.2, 'setosa'),\n",
       " (23, 5.1, 3.3, 1.7, 0.5, 'setosa'),\n",
       " (24, 4.8, 3.4, 1.9, 0.2, 'setosa'),\n",
       " (25, 5.0, 3.0, 1.6, 0.2, 'setosa'),\n",
       " (26, 5.0, 3.4, 1.6, 0.4, 'setosa'),\n",
       " (27, 5.2, 3.5, 1.5, 0.2, 'setosa'),\n",
       " (28, 5.2, 3.4, 1.4, 0.2, 'setosa'),\n",
       " (29, 4.7, 3.2, 1.6, 0.2, 'setosa'),\n",
       " (30, 4.8, 3.1, 1.6, 0.2, 'setosa'),\n",
       " (31, 5.4, 3.4, 1.5, 0.4, 'setosa'),\n",
       " (32, 5.2, 4.1, 1.5, 0.1, 'setosa'),\n",
       " (33, 5.5, 4.2, 1.4, 0.2, 'setosa'),\n",
       " (34, 4.9, 3.1, 1.5, 0.2, 'setosa'),\n",
       " (35, 5.0, 3.2, 1.2, 0.2, 'setosa'),\n",
       " (36, 5.5, 3.5, 1.3, 0.2, 'setosa'),\n",
       " (37, 4.9, 3.6, 1.4, 0.1, 'setosa'),\n",
       " (38, 4.4, 3.0, 1.3, 0.2, 'setosa'),\n",
       " (39, 5.1, 3.4, 1.5, 0.2, 'setosa'),\n",
       " (40, 5.0, 3.5, 1.3, 0.3, 'setosa'),\n",
       " (41, 4.5, 2.3, 1.3, 0.3, 'setosa'),\n",
       " (42, 4.4, 3.2, 1.3, 0.2, 'setosa'),\n",
       " (43, 5.0, 3.5, 1.6, 0.6, 'setosa'),\n",
       " (44, 5.1, 3.8, 1.9, 0.4, 'setosa'),\n",
       " (45, 4.8, 3.0, 1.4, 0.3, 'setosa'),\n",
       " (46, 5.1, 3.8, 1.6, 0.2, 'setosa'),\n",
       " (47, 4.6, 3.2, 1.4, 0.2, 'setosa'),\n",
       " (48, 5.3, 3.7, 1.5, 0.2, 'setosa'),\n",
       " (49, 5.0, 3.3, 1.4, 0.2, 'setosa'),\n",
       " (50, 7.0, 3.2, 4.7, 1.4, 'versicolor'),\n",
       " (51, 6.4, 3.2, 4.5, 1.5, 'versicolor'),\n",
       " (52, 6.9, 3.1, 4.9, 1.5, 'versicolor'),\n",
       " (53, 5.5, 2.3, 4.0, 1.3, 'versicolor'),\n",
       " (54, 6.5, 2.8, 4.6, 1.5, 'versicolor'),\n",
       " (55, 5.7, 2.8, 4.5, 1.3, 'versicolor'),\n",
       " (56, 6.3, 3.3, 4.7, 1.6, 'versicolor'),\n",
       " (57, 4.9, 2.4, 3.3, 1.0, 'versicolor'),\n",
       " (58, 6.6, 2.9, 4.6, 1.3, 'versicolor'),\n",
       " (59, 5.2, 2.7, 3.9, 1.4, 'versicolor'),\n",
       " (60, 5.0, 2.0, 3.5, 1.0, 'versicolor'),\n",
       " (61, 5.9, 3.0, 4.2, 1.5, 'versicolor'),\n",
       " (62, 6.0, 2.2, 4.0, 1.0, 'versicolor'),\n",
       " (63, 6.1, 2.9, 4.7, 1.4, 'versicolor'),\n",
       " (64, 5.6, 2.9, 3.6, 1.3, 'versicolor'),\n",
       " (65, 6.7, 3.1, 4.4, 1.4, 'versicolor'),\n",
       " (66, 5.6, 3.0, 4.5, 1.5, 'versicolor'),\n",
       " (67, 5.8, 2.7, 4.1, 1.0, 'versicolor'),\n",
       " (68, 6.2, 2.2, 4.5, 1.5, 'versicolor'),\n",
       " (69, 5.6, 2.5, 3.9, 1.1, 'versicolor'),\n",
       " (70, 5.9, 3.2, 4.8, 1.8, 'versicolor'),\n",
       " (71, 6.1, 2.8, 4.0, 1.3, 'versicolor'),\n",
       " (72, 6.3, 2.5, 4.9, 1.5, 'versicolor'),\n",
       " (73, 6.1, 2.8, 4.7, 1.2, 'versicolor'),\n",
       " (74, 6.4, 2.9, 4.3, 1.3, 'versicolor'),\n",
       " (75, 6.6, 3.0, 4.4, 1.4, 'versicolor'),\n",
       " (76, 6.8, 2.8, 4.8, 1.4, 'versicolor'),\n",
       " (77, 6.7, 3.0, 5.0, 1.7, 'versicolor'),\n",
       " (78, 6.0, 2.9, 4.5, 1.5, 'versicolor'),\n",
       " (79, 5.7, 2.6, 3.5, 1.0, 'versicolor'),\n",
       " (80, 5.5, 2.4, 3.8, 1.1, 'versicolor'),\n",
       " (81, 5.5, 2.4, 3.7, 1.0, 'versicolor'),\n",
       " (82, 5.8, 2.7, 3.9, 1.2, 'versicolor'),\n",
       " (83, 6.0, 2.7, 5.1, 1.6, 'versicolor'),\n",
       " (84, 5.4, 3.0, 4.5, 1.5, 'versicolor'),\n",
       " (85, 6.0, 3.4, 4.5, 1.6, 'versicolor'),\n",
       " (86, 6.7, 3.1, 4.7, 1.5, 'versicolor'),\n",
       " (87, 6.3, 2.3, 4.4, 1.3, 'versicolor'),\n",
       " (88, 5.6, 3.0, 4.1, 1.3, 'versicolor'),\n",
       " (89, 5.5, 2.5, 4.0, 1.3, 'versicolor'),\n",
       " (90, 5.5, 2.6, 4.4, 1.2, 'versicolor'),\n",
       " (91, 6.1, 3.0, 4.6, 1.4, 'versicolor'),\n",
       " (92, 5.8, 2.6, 4.0, 1.2, 'versicolor'),\n",
       " (93, 5.0, 2.3, 3.3, 1.0, 'versicolor'),\n",
       " (94, 5.6, 2.7, 4.2, 1.3, 'versicolor'),\n",
       " (95, 5.7, 3.0, 4.2, 1.2, 'versicolor'),\n",
       " (96, 5.7, 2.9, 4.2, 1.3, 'versicolor'),\n",
       " (97, 6.2, 2.9, 4.3, 1.3, 'versicolor'),\n",
       " (98, 5.1, 2.5, 3.0, 1.1, 'versicolor'),\n",
       " (99, 5.7, 2.8, 4.1, 1.3, 'versicolor'),\n",
       " (100, 6.3, 3.3, 6.0, 2.5, 'virginica'),\n",
       " (101, 5.8, 2.7, 5.1, 1.9, 'virginica'),\n",
       " (102, 7.1, 3.0, 5.9, 2.1, 'virginica'),\n",
       " (103, 6.3, 2.9, 5.6, 1.8, 'virginica'),\n",
       " (104, 6.5, 3.0, 5.8, 2.2, 'virginica'),\n",
       " (105, 7.6, 3.0, 6.6, 2.1, 'virginica'),\n",
       " (106, 4.9, 2.5, 4.5, 1.7, 'virginica'),\n",
       " (107, 7.3, 2.9, 6.3, 1.8, 'virginica'),\n",
       " (108, 6.7, 2.5, 5.8, 1.8, 'virginica'),\n",
       " (109, 7.2, 3.6, 6.1, 2.5, 'virginica'),\n",
       " (110, 6.5, 3.2, 5.1, 2.0, 'virginica'),\n",
       " (111, 6.4, 2.7, 5.3, 1.9, 'virginica'),\n",
       " (112, 6.8, 3.0, 5.5, 2.1, 'virginica'),\n",
       " (113, 5.7, 2.5, 5.0, 2.0, 'virginica'),\n",
       " (114, 5.8, 2.8, 5.1, 2.4, 'virginica'),\n",
       " (115, 6.4, 3.2, 5.3, 2.3, 'virginica'),\n",
       " (116, 6.5, 3.0, 5.5, 1.8, 'virginica'),\n",
       " (117, 7.7, 3.8, 6.7, 2.2, 'virginica'),\n",
       " (118, 7.7, 2.6, 6.9, 2.3, 'virginica'),\n",
       " (119, 6.0, 2.2, 5.0, 1.5, 'virginica'),\n",
       " (120, 6.9, 3.2, 5.7, 2.3, 'virginica'),\n",
       " (121, 5.6, 2.8, 4.9, 2.0, 'virginica'),\n",
       " (122, 7.7, 2.8, 6.7, 2.0, 'virginica'),\n",
       " (123, 6.3, 2.7, 4.9, 1.8, 'virginica'),\n",
       " (124, 6.7, 3.3, 5.7, 2.1, 'virginica'),\n",
       " (125, 7.2, 3.2, 6.0, 1.8, 'virginica'),\n",
       " (126, 6.2, 2.8, 4.8, 1.8, 'virginica'),\n",
       " (127, 6.1, 3.0, 4.9, 1.8, 'virginica'),\n",
       " (128, 6.4, 2.8, 5.6, 2.1, 'virginica'),\n",
       " (129, 7.2, 3.0, 5.8, 1.6, 'virginica'),\n",
       " (130, 7.4, 2.8, 6.1, 1.9, 'virginica'),\n",
       " (131, 7.9, 3.8, 6.4, 2.0, 'virginica'),\n",
       " (132, 6.4, 2.8, 5.6, 2.2, 'virginica'),\n",
       " (133, 6.3, 2.8, 5.1, 1.5, 'virginica'),\n",
       " (134, 6.1, 2.6, 5.6, 1.4, 'virginica'),\n",
       " (135, 7.7, 3.0, 6.1, 2.3, 'virginica'),\n",
       " (136, 6.3, 3.4, 5.6, 2.4, 'virginica'),\n",
       " (137, 6.4, 3.1, 5.5, 1.8, 'virginica'),\n",
       " (138, 6.0, 3.0, 4.8, 1.8, 'virginica'),\n",
       " (139, 6.9, 3.1, 5.4, 2.1, 'virginica'),\n",
       " (140, 6.7, 3.1, 5.6, 2.4, 'virginica'),\n",
       " (141, 6.9, 3.1, 5.1, 2.3, 'virginica'),\n",
       " (142, 5.8, 2.7, 5.1, 1.9, 'virginica'),\n",
       " (143, 6.8, 3.2, 5.9, 2.3, 'virginica'),\n",
       " (144, 6.7, 3.3, 5.7, 2.5, 'virginica'),\n",
       " (145, 6.7, 3.0, 5.2, 2.3, 'virginica'),\n",
       " (146, 6.3, 2.5, 5.0, 1.9, 'virginica'),\n",
       " (147, 6.5, 3.0, 5.2, 2.0, 'virginica'),\n",
       " (148, 6.2, 3.4, 5.4, 2.3, 'virginica'),\n",
       " (149, 5.9, 3.0, 5.1, 1.8, 'virginica')]"
      ]
     },
     "execution_count": 46,
     "metadata": {},
     "output_type": "execute_result"
    }
   ],
   "source": [
    "result.fetchall()"
   ]
  },
  {
   "cell_type": "code",
   "execution_count": 47,
   "metadata": {},
   "outputs": [
    {
     "name": "stdout",
     "output_type": "stream",
     "text": [
      "2024-04-02 15:02:31,485 INFO sqlalchemy.engine.Engine SELECT DISTINCT species FROM iris \n",
      "2024-04-02 15:02:31,485 INFO sqlalchemy.engine.Engine [cached since 275.1s ago] {}\n"
     ]
    },
    {
     "data": {
      "text/plain": [
       "[('setosa',), ('virginica',), ('versicolor',)]"
      ]
     },
     "execution_count": 47,
     "metadata": {},
     "output_type": "execute_result"
    }
   ],
   "source": [
    "stmt = text(\n",
    "  \"SELECT DISTINCT species FROM iris \"\n",
    ")\n",
    "result = conn.execute(stmt)\n",
    "result.fetchall()"
   ]
  },
  {
   "cell_type": "markdown",
   "metadata": {},
   "source": [
    "8. What is the average sepal length among all species?"
   ]
  },
  {
   "cell_type": "code",
   "execution_count": 48,
   "metadata": {},
   "outputs": [
    {
     "name": "stdout",
     "output_type": "stream",
     "text": [
      "2024-04-02 15:02:37,752 INFO sqlalchemy.engine.Engine SELECT AVG(sepal_length) FROM iris\n",
      "2024-04-02 15:02:37,752 INFO sqlalchemy.engine.Engine [cached since 272.9s ago] {}\n"
     ]
    },
    {
     "data": {
      "text/plain": [
       "[(5.843333333333335,)]"
      ]
     },
     "execution_count": 48,
     "metadata": {},
     "output_type": "execute_result"
    }
   ],
   "source": [
    "stmt = text(\n",
    "  \"SELECT AVG(sepal_length) FROM iris\"\n",
    ")\n",
    "result = conn.execute(stmt)\n",
    "result.fetchall()"
   ]
  },
  {
   "cell_type": "markdown",
   "metadata": {},
   "source": [
    "9. What is the average sepal length for each species?"
   ]
  },
  {
   "cell_type": "code",
   "execution_count": 49,
   "metadata": {},
   "outputs": [
    {
     "name": "stdout",
     "output_type": "stream",
     "text": [
      "2024-04-02 15:02:42,161 INFO sqlalchemy.engine.Engine SELECT AVG(sepal_length) FROM iris GROUP BY species\n",
      "2024-04-02 15:02:42,162 INFO sqlalchemy.engine.Engine [cached since 33.89s ago] {}\n"
     ]
    },
    {
     "data": {
      "text/plain": [
       "[(5.005999999999999,), (6.587999999999998,), (5.936,)]"
      ]
     },
     "execution_count": 49,
     "metadata": {},
     "output_type": "execute_result"
    }
   ],
   "source": [
    "stmt = text(\n",
    "  \"SELECT AVG(sepal_length) FROM iris GROUP BY species\"\n",
    ")\n",
    "result = conn.execute(stmt)\n",
    "result.fetchall()"
   ]
  },
  {
   "cell_type": "markdown",
   "metadata": {},
   "source": [
    "10. How many samples of 'virginica' have sepal length < 6?"
   ]
  },
  {
   "cell_type": "code",
   "execution_count": 50,
   "metadata": {},
   "outputs": [
    {
     "name": "stdout",
     "output_type": "stream",
     "text": [
      "2024-04-02 15:07:09,705 INFO sqlalchemy.engine.Engine SELECT COUNT(*) FROM iris WHERE species = 'virginica' AND sepal_length < 6\n",
      "2024-04-02 15:07:09,705 INFO sqlalchemy.engine.Engine [generated in 0.00087s] {}\n"
     ]
    },
    {
     "data": {
      "text/plain": [
       "[(7,)]"
      ]
     },
     "execution_count": 50,
     "metadata": {},
     "output_type": "execute_result"
    }
   ],
   "source": [
    "stmt = text(\n",
    "  \"SELECT COUNT(*) FROM iris WHERE species = 'virginica' AND sepal_length < 6\"\n",
    ")\n",
    "result = conn.execute(stmt)\n",
    "result.fetchall()"
   ]
  },
  {
   "cell_type": "markdown",
   "metadata": {},
   "source": [
    "11. For each species, count the number of samples having sepal length < 6:"
   ]
  },
  {
   "cell_type": "code",
   "execution_count": 51,
   "metadata": {},
   "outputs": [
    {
     "name": "stdout",
     "output_type": "stream",
     "text": [
      "2024-04-02 15:09:05,471 INFO sqlalchemy.engine.Engine SELECT species, COUNT(*) FROM iris WHERE sepal_length < 6 GROUP BY species\n",
      "2024-04-02 15:09:05,472 INFO sqlalchemy.engine.Engine [generated in 0.00088s] {}\n"
     ]
    },
    {
     "data": {
      "text/plain": [
       "[('setosa', 50), ('virginica', 7), ('versicolor', 26)]"
      ]
     },
     "execution_count": 51,
     "metadata": {},
     "output_type": "execute_result"
    }
   ],
   "source": [
    "\n",
    "\n",
    "stmt = text(\n",
    "  \"SELECT species, COUNT(*) FROM iris WHERE sepal_length < 6 GROUP BY species\"\n",
    ")\n",
    "result = conn.execute(stmt)\n",
    "result.fetchall()"
   ]
  },
  {
   "cell_type": "code",
   "execution_count": null,
   "metadata": {},
   "outputs": [],
   "source": []
  }
 ],
 "metadata": {
  "kernelspec": {
   "display_name": "Python 3",
   "language": "python",
   "name": "python3"
  },
  "language_info": {
   "codemirror_mode": {
    "name": "ipython",
    "version": 3
   },
   "file_extension": ".py",
   "mimetype": "text/x-python",
   "name": "python",
   "nbconvert_exporter": "python",
   "pygments_lexer": "ipython3",
   "version": "3.11.7"
  }
 },
 "nbformat": 4,
 "nbformat_minor": 4
}
