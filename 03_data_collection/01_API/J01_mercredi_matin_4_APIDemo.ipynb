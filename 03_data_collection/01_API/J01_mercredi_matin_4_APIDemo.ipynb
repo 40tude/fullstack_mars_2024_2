{
  "cells": [
    {
      "cell_type": "markdown",
      "metadata": {
        "id": "ZAgek1U583Yp"
      },
      "source": [
        "# API DEMO\n",
        "\n",
        "Now that you have some general knowledge of APIs and how to call them with the `requests` library, let's walk you through a concrete example of how to navigate an API's documentation in order to start querying it and get the information that you are looking for!"
      ]
    },
    {
      "cell_type": "markdown",
      "metadata": {
        "id": "Kez2VMa3qShU"
      },
      "source": [
        "## What you are going to learn in this course 🧐🧐\n",
        "\n",
        "This course will give you a step by step demo of how you should generally approach the discovery and usage of a new API. Here's the outline:\n",
        "\n",
        "* Explore an API's documentation\n",
        "* Start querying the RATP API"
      ]
    },
    {
      "cell_type": "code",
      "execution_count": 1,
      "metadata": {
        "id": "EtTVaF-1qShV"
      },
      "outputs": [
        {
          "ename": "ModuleNotFoundError",
          "evalue": "No module named 'notebook'",
          "output_type": "error",
          "traceback": [
            "\u001b[1;31m---------------------------------------------------------------------------\u001b[0m",
            "\u001b[1;31mModuleNotFoundError\u001b[0m                       Traceback (most recent call last)",
            "Cell \u001b[1;32mIn[1], line 1\u001b[0m\n\u001b[1;32m----> 1\u001b[0m \u001b[38;5;28;01mfrom\u001b[39;00m \u001b[38;5;21;01mnotebook\u001b[39;00m\u001b[38;5;21;01m.\u001b[39;00m\u001b[38;5;21;01mservices\u001b[39;00m\u001b[38;5;21;01m.\u001b[39;00m\u001b[38;5;21;01mconfig\u001b[39;00m \u001b[38;5;28;01mimport\u001b[39;00m ConfigManager\n\u001b[0;32m      2\u001b[0m cm \u001b[38;5;241m=\u001b[39m ConfigManager()\u001b[38;5;241m.\u001b[39mupdate(\u001b[38;5;124m'\u001b[39m\u001b[38;5;124mnotebook\u001b[39m\u001b[38;5;124m'\u001b[39m, {\u001b[38;5;124m'\u001b[39m\u001b[38;5;124mlimit_output\u001b[39m\u001b[38;5;124m'\u001b[39m: \u001b[38;5;241m10000\u001b[39m})\n",
            "\u001b[1;31mModuleNotFoundError\u001b[0m: No module named 'notebook'"
          ]
        }
      ],
      "source": [
        "# from notebook.services.config import ConfigManager\n",
        "# cm = ConfigManager().update('notebook', {'limit_output': 10000})"
      ]
    },
    {
      "cell_type": "markdown",
      "metadata": {
        "id": "-oW1iUVSqShW"
      },
      "source": [
        "<Note type=\"note\" title=\"Note\">\n",
        "\n",
        "Please disregard the code written above, as it was only included to prevent the subsequent outputs from being excessively lengthy.\n",
        "\n",
        "</Note>"
      ]
    },
    {
      "cell_type": "markdown",
      "metadata": {
        "id": "CUsTh6sgqShW"
      },
      "source": [
        "## Explore an API's documentation\n",
        "\n",
        "Creating an API is one thing, you are making an interface available to your users so they can get information through programs. However, apart from those who created the API, no one would know how to use it. This is why every API comes with a documentation to help users find what they are looking for!\n",
        "\n",
        "Let's take a look at the documentation for RATP's API (the unofficial french public transport network's API) available at the following [link](https://api-ratp.pierre-grimaud.fr/v4/).\n",
        "\n",
        "The homepage looks like this:\n",
        "\n",
        "![ratp_api_homepage](https://full-stack-assets.s3.eu-west-3.amazonaws.com/images/0-M04-data-collection/ratp_api_homepage.PNG)\n",
        "\n",
        "The homepage actually contains the api's documentation! In this case, and it's actually pretty common, all the url we will request for this api will start by `https://api-ratp.pierre-grimaud.fr/v4/` which is the homepage url, then we can add suffixes to this url to get various information.\n",
        "\n",
        "The various urls you can access to get data from an API are called **endpoints**! This a word that will appear in almost all the API documentations you will run into, so remember it means that it is the url you may request to get a response from the API."
      ]
    },
    {
      "cell_type": "markdown",
      "metadata": {
        "id": "-GEYtLCXqShW"
      },
      "source": [
        "### API call with generic url/endpoint\n",
        "\n",
        "As you can see in the documentation, some of the urls you can request are generic, and others must include specific information like `type` or `code`.\n",
        "\n",
        "Let's focus first on the this url `https://api-ratp.pierre-grimaud.fr/v4/traffic`, click this section of the documentation to get additional information about this endpoint!\n",
        "\n",
        "![ratp_lines](https://full-stack-assets.s3.eu-west-3.amazonaws.com/images/0-M04-data-collection/ratp_traffic.PNG)\n",
        "\n",
        "There are several we learn from reading this documentation:\n",
        "\n",
        "* **Purpose**: we now know that this endpoint should give us informations about all the lines from the ratp network\n",
        "* **Parameters**: there are none\n",
        "* **Responses**: the only response type documented is 200 and the response data type is json!\n",
        "\n",
        "With this in mind let's try it!"
      ]
    },
    {
      "cell_type": "code",
      "execution_count": 1,
      "metadata": {
        "colab": {
          "base_uri": "https://localhost:8080/"
        },
        "id": "-BOn0Mg0qShX",
        "outputId": "373ac87f-1cda-477a-9fb6-9086183da85b"
      },
      "outputs": [
        {
          "name": "stdout",
          "output_type": "stream",
          "text": [
            "Response code: <Response [200]> \n",
            " \n",
            "\n",
            "Response data:\n",
            "\n"
          ]
        },
        {
          "data": {
            "text/plain": [
              "{'result': {'metros': [{'line': '1',\n",
              "    'slug': 'normal',\n",
              "    'title': 'Trafic normal',\n",
              "    'message': \"Trafic normal sur l'ensemble de la ligne.\"},\n",
              "   {'line': '2',\n",
              "    'slug': 'normal',\n",
              "    'title': 'Trafic normal',\n",
              "    'message': \"Trafic normal sur l'ensemble de la ligne.\"},\n",
              "   {'line': '3',\n",
              "    'slug': 'normal',\n",
              "    'title': 'Trafic normal',\n",
              "    'message': \"Trafic normal sur l'ensemble de la ligne.\"},\n",
              "   {'line': '3B',\n",
              "    'slug': 'normal',\n",
              "    'title': 'Trafic normal',\n",
              "    'message': \"Trafic normal sur l'ensemble de la ligne.\"},\n",
              "   {'line': '4',\n",
              "    'slug': 'normal',\n",
              "    'title': 'Trafic normal',\n",
              "    'message': \"Trafic normal sur l'ensemble de la ligne.\"},\n",
              "   {'line': '5',\n",
              "    'slug': 'normal',\n",
              "    'title': 'Trafic normal',\n",
              "    'message': \"Trafic normal sur l'ensemble de la ligne.\"},\n",
              "   {'line': '6',\n",
              "    'slug': 'normal',\n",
              "    'title': 'Trafic normal',\n",
              "    'message': \"Trafic normal sur l'ensemble de la ligne.\"},\n",
              "   {'line': '7',\n",
              "    'slug': 'normal',\n",
              "    'title': 'Trafic normal',\n",
              "    'message': \"Trafic normal sur l'ensemble de la ligne.\"},\n",
              "   {'line': '7B',\n",
              "    'slug': 'normal',\n",
              "    'title': 'Trafic normal',\n",
              "    'message': \"Trafic normal sur l'ensemble de la ligne.\"},\n",
              "   {'line': '8',\n",
              "    'slug': 'normal',\n",
              "    'title': 'Trafic normal',\n",
              "    'message': \"Trafic normal sur l'ensemble de la ligne.\"},\n",
              "   {'line': '9',\n",
              "    'slug': 'normal',\n",
              "    'title': 'Trafic normal',\n",
              "    'message': \"Trafic normal sur l'ensemble de la ligne.\"},\n",
              "   {'line': '10',\n",
              "    'slug': 'normal',\n",
              "    'title': 'Trafic normal',\n",
              "    'message': \"Trafic normal sur l'ensemble de la ligne.\"},\n",
              "   {'line': '11',\n",
              "    'slug': 'normal',\n",
              "    'title': 'Trafic normal',\n",
              "    'message': \"Trafic normal sur l'ensemble de la ligne.\"},\n",
              "   {'line': '12',\n",
              "    'slug': 'normal',\n",
              "    'title': 'Trafic normal',\n",
              "    'message': \"Trafic normal sur l'ensemble de la ligne.\"},\n",
              "   {'line': '13',\n",
              "    'slug': 'normal',\n",
              "    'title': 'Trafic normal',\n",
              "    'message': \"Trafic normal sur l'ensemble de la ligne.\"},\n",
              "   {'line': '14',\n",
              "    'slug': 'normal',\n",
              "    'title': 'Trafic normal',\n",
              "    'message': \"Trafic normal sur l'ensemble de la ligne.\"}],\n",
              "  'rers': [{'line': 'A',\n",
              "    'slug': 'normal',\n",
              "    'title': 'Trafic normal',\n",
              "    'message': \"Trafic normal sur l'ensemble de la ligne.\"},\n",
              "   {'line': 'B',\n",
              "    'slug': 'normal',\n",
              "    'title': 'Trafic normal',\n",
              "    'message': \"Trafic normal sur l'ensemble de la ligne.\"},\n",
              "   {'line': 'C',\n",
              "    'slug': 'normal',\n",
              "    'title': 'Trafic normal',\n",
              "    'message': \"Trafic normal sur l'ensemble de la ligne.\"},\n",
              "   {'line': 'D',\n",
              "    'slug': 'normal',\n",
              "    'title': 'Trafic normal',\n",
              "    'message': \"Trafic normal sur l'ensemble de la ligne.\"},\n",
              "   {'line': 'E',\n",
              "    'slug': 'normal',\n",
              "    'title': 'Trafic normal',\n",
              "    'message': \"Trafic normal sur l'ensemble de la ligne.\"}],\n",
              "  'tramways': [{'line': '1',\n",
              "    'slug': 'normal',\n",
              "    'title': 'Trafic normal',\n",
              "    'message': \"Trafic normal sur l'ensemble de la ligne.\"},\n",
              "   {'line': '2',\n",
              "    'slug': 'normal',\n",
              "    'title': 'Trafic normal',\n",
              "    'message': \"Trafic normal sur l'ensemble de la ligne.\"},\n",
              "   {'line': '3A',\n",
              "    'slug': 'normal',\n",
              "    'title': 'Trafic normal',\n",
              "    'message': \"Trafic normal sur l'ensemble de la ligne.\"},\n",
              "   {'line': '3B',\n",
              "    'slug': 'normal',\n",
              "    'title': 'Trafic normal',\n",
              "    'message': \"Trafic normal sur l'ensemble de la ligne.\"},\n",
              "   {'line': '4',\n",
              "    'slug': 'normal',\n",
              "    'title': 'Trafic normal',\n",
              "    'message': \"Trafic normal sur l'ensemble de la ligne.\"},\n",
              "   {'line': '5',\n",
              "    'slug': 'normal',\n",
              "    'title': 'Trafic normal',\n",
              "    'message': \"Trafic normal sur l'ensemble de la ligne.\"},\n",
              "   {'line': '6',\n",
              "    'slug': 'normal',\n",
              "    'title': 'Trafic normal',\n",
              "    'message': \"Trafic normal sur l'ensemble de la ligne.\"},\n",
              "   {'line': '7',\n",
              "    'slug': 'normal',\n",
              "    'title': 'Trafic normal',\n",
              "    'message': \"Trafic normal sur l'ensemble de la ligne.\"},\n",
              "   {'line': '8',\n",
              "    'slug': 'normal',\n",
              "    'title': 'Trafic normal',\n",
              "    'message': \"Trafic normal sur l'ensemble de la ligne.\"}]},\n",
              " '_metadata': {'call': 'GET /traffic',\n",
              "  'date': '2024-05-21T16:31:50+02:00',\n",
              "  'version': 4}}"
            ]
          },
          "execution_count": 1,
          "metadata": {},
          "output_type": "execute_result"
        }
      ],
      "source": [
        "import requests\n",
        "\n",
        "r =  requests.get(\"https://api-ratp.pierre-grimaud.fr/v4/traffic\")\n",
        "print(\"Response code:\",r,\"\\n \\n\")\n",
        "print(\"Response data:\\n\")\n",
        "r.json()"
      ]
    },
    {
      "cell_type": "markdown",
      "metadata": {},
      "source": [
        "# Accèder à une val dans le dico"
      ]
    },
    {
      "cell_type": "code",
      "execution_count": 2,
      "metadata": {},
      "outputs": [
        {
          "data": {
            "text/plain": [
              "'3'"
            ]
          },
          "execution_count": 2,
          "metadata": {},
          "output_type": "execute_result"
        }
      ],
      "source": [
        "# retrouver ligne 3 dans result\n",
        "test = r.json()\n",
        "bob = test[\"result\"][\"metros\"][2][\"line\"]\n",
        "bob"
      ]
    },
    {
      "cell_type": "markdown",
      "metadata": {
        "id": "MpEoTDQCqShY"
      },
      "source": [
        "The request was successful!\n",
        "\n",
        "The data lists all the different transport lines managed by ratp. It lists various pieces of information about the line:\n",
        "\n",
        "* **line**: the number associated with the line\n",
        "* **slug**: the category of the traffic state\n",
        "* **title**: the traffic state of the line\n",
        "* **message**: the detailed message of the traffic state associated with the line"
      ]
    },
    {
      "cell_type": "markdown",
      "metadata": {
        "id": "0UFhJLJ3qShY"
      },
      "source": [
        "### API call with specific endpoint/url\n",
        "\n",
        "Now that we have covered the easy topic of calling generic API endpoints let's explore endpoints that contain options.\n",
        "\n",
        "For example, the `https://api-ratp.pierre-grimaud.fr/v4/traffic/{type}/{code}` accepts two options, `type`, and `code`. Let's take a look at what the documentation says:\n",
        "\n",
        "![ratp_lines_option](https://full-stack-assets.s3.eu-west-3.amazonaws.com/images/0-M04-data-collection/ratp_traffic_options.PNG)\n",
        "\n",
        "The documentation tells you this endpoint will give you information about a specific ratp line. It also decribes what is expected for the two options:\n",
        "\n",
        "* `type`: is one of the following options `metros`, `rers`, `tramways`, and determines the subsection of lines you are trying to get information on\n",
        "* `code`: indicates the code of the line, it is the data associated with `line` key in the previous json file obtained from the API\n",
        "\n",
        "Two response codes may be received from this endpoint, either 200 for success or 400 in case the `type` or `code` option you asked for does not exist.\n",
        "\n",
        "Let's give it a try!"
      ]
    },
    {
      "cell_type": "code",
      "execution_count": 4,
      "metadata": {
        "colab": {
          "base_uri": "https://localhost:8080/"
        },
        "id": "c32ykjWFqShY",
        "outputId": "abd2936f-c6ab-4192-bafa-556e460e4304"
      },
      "outputs": [
        {
          "name": "stdout",
          "output_type": "stream",
          "text": [
            "Response code: <Response [200]> \n",
            " \n",
            "\n",
            "Response data:\n",
            "\n"
          ]
        },
        {
          "data": {
            "text/plain": [
              "{'result': {'line': '9',\n",
              "  'slug': 'normal',\n",
              "  'title': 'Trafic normal',\n",
              "  'message': \"Trafic normal sur l'ensemble de la ligne.\"},\n",
              " '_metadata': {'call': 'GET /traffic/metros/9',\n",
              "  'date': '2024-03-27T12:17:23+01:00',\n",
              "  'version': 4}}"
            ]
          },
          "execution_count": 4,
          "metadata": {},
          "output_type": "execute_result"
        }
      ],
      "source": [
        "r = requests.get(\"https://api-ratp.pierre-grimaud.fr/v4/traffic/metros/9\")\n",
        "\n",
        "print(\"Response code:\", r, \"\\n \\n\")\n",
        "print(\"Response data:\\n\")\n",
        "r.json()"
      ]
    },
    {
      "cell_type": "markdown",
      "metadata": {
        "id": "MTrHn6NIqShZ"
      },
      "source": [
        "We were able to get information about the traffic of line 1 of the Parisian metro!"
      ]
    },
    {
      "cell_type": "markdown",
      "metadata": {
        "id": "eL2vDKmVqShZ"
      },
      "source": [
        "### API call with payload\n",
        "\n",
        "The ratp API we just gave you a tour of is rather simple, either you know exactly which endpoint to call and you'd get the information, or you don't. Now there are some API that let you run `GET` queries in a way that is a little more flexible.\n",
        "\n",
        "Lets take the example of the [Google translate API](https://rapidapi.com/googlecloud/api/google-translate1/), which contains several endpoints, including `/languages` that allows to retrieve the list of all the languages supported by Google Translate.\n",
        "\n",
        "Let's try to make a request to this endpoint:"
      ]
    },
    {
      "cell_type": "markdown",
      "metadata": {},
      "source": [
        "### Faut penser à s'inscrire ET souscrire au service\n"
      ]
    },
    {
      "cell_type": "code",
      "execution_count": 20,
      "metadata": {},
      "outputs": [
        {
          "name": "stdout",
          "output_type": "stream",
          "text": [
            "{'data': {'languages': [{'language': 'af'}, {'language': 'ak'}, {'language': 'am'}, {'language': 'ar'}, {'language': 'as'}, {'language': 'ay'}, {'language': 'az'}, {'language': 'be'}, {'language': 'bg'}, {'language': 'bho'}, {'language': 'bm'}, {'language': 'bn'}, {'language': 'bs'}, {'language': 'ca'}, {'language': 'ceb'}, {'language': 'ckb'}, {'language': 'co'}, {'language': 'cs'}, {'language': 'cy'}, {'language': 'da'}, {'language': 'de'}, {'language': 'doi'}, {'language': 'dv'}, {'language': 'ee'}, {'language': 'el'}, {'language': 'en'}, {'language': 'eo'}, {'language': 'es'}, {'language': 'et'}, {'language': 'eu'}, {'language': 'fa'}, {'language': 'fi'}, {'language': 'fr'}, {'language': 'fy'}, {'language': 'ga'}, {'language': 'gd'}, {'language': 'gl'}, {'language': 'gn'}, {'language': 'gom'}, {'language': 'gu'}, {'language': 'ha'}, {'language': 'haw'}, {'language': 'he'}, {'language': 'hi'}, {'language': 'hmn'}, {'language': 'hr'}, {'language': 'ht'}, {'language': 'hu'}, {'language': 'hy'}, {'language': 'id'}, {'language': 'ig'}, {'language': 'ilo'}, {'language': 'is'}, {'language': 'it'}, {'language': 'iw'}, {'language': 'ja'}, {'language': 'jv'}, {'language': 'jw'}, {'language': 'ka'}, {'language': 'kk'}, {'language': 'km'}, {'language': 'kn'}, {'language': 'ko'}, {'language': 'kri'}, {'language': 'ku'}, {'language': 'ky'}, {'language': 'la'}, {'language': 'lb'}, {'language': 'lg'}, {'language': 'ln'}, {'language': 'lo'}, {'language': 'lt'}, {'language': 'lus'}, {'language': 'lv'}, {'language': 'mai'}, {'language': 'mg'}, {'language': 'mi'}, {'language': 'mk'}, {'language': 'ml'}, {'language': 'mn'}, {'language': 'mni-Mtei'}, {'language': 'mr'}, {'language': 'ms'}, {'language': 'mt'}, {'language': 'my'}, {'language': 'ne'}, {'language': 'nl'}, {'language': 'no'}, {'language': 'nso'}, {'language': 'ny'}, {'language': 'om'}, {'language': 'or'}, {'language': 'pa'}, {'language': 'pl'}, {'language': 'ps'}, {'language': 'pt'}, {'language': 'qu'}, {'language': 'ro'}, {'language': 'ru'}, {'language': 'rw'}, {'language': 'sa'}, {'language': 'sd'}, {'language': 'si'}, {'language': 'sk'}, {'language': 'sl'}, {'language': 'sm'}, {'language': 'sn'}, {'language': 'so'}, {'language': 'sq'}, {'language': 'sr'}, {'language': 'st'}, {'language': 'su'}, {'language': 'sv'}, {'language': 'sw'}, {'language': 'ta'}, {'language': 'te'}, {'language': 'tg'}, {'language': 'th'}, {'language': 'ti'}, {'language': 'tk'}, {'language': 'tl'}, {'language': 'tr'}, {'language': 'ts'}, {'language': 'tt'}, {'language': 'ug'}, {'language': 'uk'}, {'language': 'ur'}, {'language': 'uz'}, {'language': 'vi'}, {'language': 'xh'}, {'language': 'yi'}, {'language': 'yo'}, {'language': 'zh'}, {'language': 'zh-CN'}, {'language': 'zh-TW'}, {'language': 'zu'}]}}\n"
          ]
        }
      ],
      "source": [
        "import requests\n",
        "\n",
        "url = \"https://google-translate1.p.rapidapi.com/language/translate/v2/languages\"\n",
        "\n",
        "headers = {\n",
        "\t\"Accept-Encoding\": \"application/gzip\",\n",
        "\t\"X-RapidAPI-Key\": \"833f108e6cmshad9aeba05bf0c45p1b5f40jsnbad6255a1649\",\n",
        "\t\"X-RapidAPI-Host\": \"google-translate1.p.rapidapi.com\"\n",
        "}\n",
        "\n",
        "response = requests.get(url, headers=headers)\n",
        "\n",
        "print(response.json())"
      ]
    },
    {
      "cell_type": "code",
      "execution_count": 18,
      "metadata": {},
      "outputs": [
        {
          "name": "stdout",
          "output_type": "stream",
          "text": [
            "{'message': 'You are not subscribed to this API.'}\n"
          ]
        }
      ],
      "source": [
        "import requests\n",
        "\n",
        "url = \"https://google-translate1.p.rapidapi.com/language/translate/v2/languages\"\n",
        "\n",
        "headers = {\n",
        "\t\"Accept-Encoding\": \"application/gzip\",\n",
        "\t\"X-RapidAPI-Key\": \"833f108e6cmshad9aeba05bf0c45p1b5f40jsnbad6255a1649\",\n",
        "\t\"X-RapidAPI-Host\": \"google-translate1.p.rapidapi.com\"\n",
        "}\n",
        "\n",
        "response = requests.get(url, headers=headers)\n",
        "\n",
        "print(response.json())"
      ]
    },
    {
      "cell_type": "code",
      "execution_count": 14,
      "metadata": {
        "colab": {
          "base_uri": "https://localhost:8080/"
        },
        "id": "YZUbCwGFswMd",
        "outputId": "5720eb58-ecf3-4206-d53d-4d871d5f0006"
      },
      "outputs": [
        {
          "data": {
            "text/plain": [
              "{'data': {'languages': [{'language': 'af'},\n",
              "   {'language': 'ak'},\n",
              "   {'language': 'am'},\n",
              "   {'language': 'ar'},\n",
              "   {'language': 'as'},\n",
              "   {'language': 'ay'},\n",
              "   {'language': 'az'},\n",
              "   {'language': 'be'},\n",
              "   {'language': 'bg'},\n",
              "   {'language': 'bho'},\n",
              "   {'language': 'bm'},\n",
              "   {'language': 'bn'},\n",
              "   {'language': 'bs'},\n",
              "   {'language': 'ca'},\n",
              "   {'language': 'ceb'},\n",
              "   {'language': 'ckb'},\n",
              "   {'language': 'co'},\n",
              "   {'language': 'cs'},\n",
              "   {'language': 'cy'},\n",
              "   {'language': 'da'},\n",
              "   {'language': 'de'},\n",
              "   {'language': 'doi'},\n",
              "   {'language': 'dv'},\n",
              "   {'language': 'ee'},\n",
              "   {'language': 'el'},\n",
              "   {'language': 'en'},\n",
              "   {'language': 'eo'},\n",
              "   {'language': 'es'},\n",
              "   {'language': 'et'},\n",
              "   {'language': 'eu'},\n",
              "   {'language': 'fa'},\n",
              "   {'language': 'fi'},\n",
              "   {'language': 'fr'},\n",
              "   {'language': 'fy'},\n",
              "   {'language': 'ga'},\n",
              "   {'language': 'gd'},\n",
              "   {'language': 'gl'},\n",
              "   {'language': 'gn'},\n",
              "   {'language': 'gom'},\n",
              "   {'language': 'gu'},\n",
              "   {'language': 'ha'},\n",
              "   {'language': 'haw'},\n",
              "   {'language': 'he'},\n",
              "   {'language': 'hi'},\n",
              "   {'language': 'hmn'},\n",
              "   {'language': 'hr'},\n",
              "   {'language': 'ht'},\n",
              "   {'language': 'hu'},\n",
              "   {'language': 'hy'},\n",
              "   {'language': 'id'},\n",
              "   {'language': 'ig'},\n",
              "   {'language': 'ilo'},\n",
              "   {'language': 'is'},\n",
              "   {'language': 'it'},\n",
              "   {'language': 'iw'},\n",
              "   {'language': 'ja'},\n",
              "   {'language': 'jv'},\n",
              "   {'language': 'jw'},\n",
              "   {'language': 'ka'},\n",
              "   {'language': 'kk'},\n",
              "   {'language': 'km'},\n",
              "   {'language': 'kn'},\n",
              "   {'language': 'ko'},\n",
              "   {'language': 'kri'},\n",
              "   {'language': 'ku'},\n",
              "   {'language': 'ky'},\n",
              "   {'language': 'la'},\n",
              "   {'language': 'lb'},\n",
              "   {'language': 'lg'},\n",
              "   {'language': 'ln'},\n",
              "   {'language': 'lo'},\n",
              "   {'language': 'lt'},\n",
              "   {'language': 'lus'},\n",
              "   {'language': 'lv'},\n",
              "   {'language': 'mai'},\n",
              "   {'language': 'mg'},\n",
              "   {'language': 'mi'},\n",
              "   {'language': 'mk'},\n",
              "   {'language': 'ml'},\n",
              "   {'language': 'mn'},\n",
              "   {'language': 'mni-Mtei'},\n",
              "   {'language': 'mr'},\n",
              "   {'language': 'ms'},\n",
              "   {'language': 'mt'},\n",
              "   {'language': 'my'},\n",
              "   {'language': 'ne'},\n",
              "   {'language': 'nl'},\n",
              "   {'language': 'no'},\n",
              "   {'language': 'nso'},\n",
              "   {'language': 'ny'},\n",
              "   {'language': 'om'},\n",
              "   {'language': 'or'},\n",
              "   {'language': 'pa'},\n",
              "   {'language': 'pl'},\n",
              "   {'language': 'ps'},\n",
              "   {'language': 'pt'},\n",
              "   {'language': 'qu'},\n",
              "   {'language': 'ro'},\n",
              "   {'language': 'ru'},\n",
              "   {'language': 'rw'},\n",
              "   {'language': 'sa'},\n",
              "   {'language': 'sd'},\n",
              "   {'language': 'si'},\n",
              "   {'language': 'sk'},\n",
              "   {'language': 'sl'},\n",
              "   {'language': 'sm'},\n",
              "   {'language': 'sn'},\n",
              "   {'language': 'so'},\n",
              "   {'language': 'sq'},\n",
              "   {'language': 'sr'},\n",
              "   {'language': 'st'},\n",
              "   {'language': 'su'},\n",
              "   {'language': 'sv'},\n",
              "   {'language': 'sw'},\n",
              "   {'language': 'ta'},\n",
              "   {'language': 'te'},\n",
              "   {'language': 'tg'},\n",
              "   {'language': 'th'},\n",
              "   {'language': 'ti'},\n",
              "   {'language': 'tk'},\n",
              "   {'language': 'tl'},\n",
              "   {'language': 'tr'},\n",
              "   {'language': 'ts'},\n",
              "   {'language': 'tt'},\n",
              "   {'language': 'ug'},\n",
              "   {'language': 'uk'},\n",
              "   {'language': 'ur'},\n",
              "   {'language': 'uz'},\n",
              "   {'language': 'vi'},\n",
              "   {'language': 'xh'},\n",
              "   {'language': 'yi'},\n",
              "   {'language': 'yo'},\n",
              "   {'language': 'zh'},\n",
              "   {'language': 'zh-CN'},\n",
              "   {'language': 'zh-TW'},\n",
              "   {'language': 'zu'}]}}"
            ]
          },
          "execution_count": 14,
          "metadata": {},
          "output_type": "execute_result"
        }
      ],
      "source": [
        "url = \"https://google-translate1.p.rapidapi.com/language/translate/v2/languages\"\n",
        "\n",
        "headers = {\n",
        "\t\"Accept-Encoding\": \"application/gzip\",\n",
        "\t\"X-RapidAPI-Key\": \"d448db74f1msh71600bf0b7eb394p1467b7jsn2923992aa0d0\",\n",
        "\t\"X-RapidAPI-Host\": \"google-translate1.p.rapidapi.com\"\n",
        "}\n",
        "\n",
        "response = requests.get(url, headers=headers)\n",
        "\n",
        "response.json()"
      ]
    },
    {
      "cell_type": "markdown",
      "metadata": {
        "id": "s6G2IGhYv_S-"
      },
      "source": [
        "If we look at the API documentation, we notice that there exists an optional parameter `target` that can be sent together with the request.\n",
        "\n",
        "There are two ways of specifying this parameter, one uses an url and the other leverages the ability of the `requests` library to handle payload.\n",
        "\n",
        " Here is the url that includes the `target` parameter: `https://google-translate1.p.rapidapi.com/language/translate/v2/languages?target=fr`. However this is not necessarily the best way to proceed for a number of reasons:\n",
        "\n",
        "* If the number of options becomes higher then the url will get more complicated with very little legibility\n",
        "* Typing a url directly is not really intuitive and is prone to error\n",
        "* Special characters aren't allowed in urls, which makes some queries espacially difficult to write\n",
        "\n",
        "Which is why it is often useful to use the `params` argument of the `requests.get` method. Let's give a shot demonstration."
      ]
    },
    {
      "cell_type": "code",
      "execution_count": 16,
      "metadata": {
        "colab": {
          "base_uri": "https://localhost:8080/"
        },
        "id": "7x8xfsnTxKhq",
        "outputId": "46e4b7e2-5958-4496-f5dd-b588e30a0f14"
      },
      "outputs": [
        {
          "data": {
            "text/plain": [
              "{'data': {'languages': [{'language': 'af', 'name': 'Afrikaans'},\n",
              "   {'language': 'sq', 'name': 'Albanais'},\n",
              "   {'language': 'de', 'name': 'Allemand'},\n",
              "   {'language': 'am', 'name': 'Amharique'},\n",
              "   {'language': 'en', 'name': 'Anglais'},\n",
              "   {'language': 'ar', 'name': 'Arabe'},\n",
              "   {'language': 'hy', 'name': 'Arménien'},\n",
              "   {'language': 'as', 'name': 'Assamais'},\n",
              "   {'language': 'ay', 'name': 'Aymara'},\n",
              "   {'language': 'az', 'name': 'Azéri'},\n",
              "   {'language': 'bm', 'name': 'Bambara'},\n",
              "   {'language': 'eu', 'name': 'Basque'},\n",
              "   {'language': 'bn', 'name': 'Bengali'},\n",
              "   {'language': 'bho', 'name': 'Bhodjpouri'},\n",
              "   {'language': 'be', 'name': 'Biélorusse'},\n",
              "   {'language': 'my', 'name': 'Birman'},\n",
              "   {'language': 'bs', 'name': 'Bosniaque'},\n",
              "   {'language': 'bg', 'name': 'Bulgare'},\n",
              "   {'language': 'ca', 'name': 'Catalan'},\n",
              "   {'language': 'ceb', 'name': 'Cebuano'},\n",
              "   {'language': 'ny', 'name': 'Chichewa'},\n",
              "   {'language': 'zh', 'name': 'Chinois (simplifié)'},\n",
              "   {'language': 'zh-TW', 'name': 'Chinois (traditionnel)'},\n",
              "   {'language': 'si', 'name': 'Cingalais'},\n",
              "   {'language': 'ko', 'name': 'Coréen'},\n",
              "   {'language': 'co', 'name': 'Corse'},\n",
              "   {'language': 'ht', 'name': 'Créole haïtien'},\n",
              "   {'language': 'hr', 'name': 'Croate'},\n",
              "   {'language': 'da', 'name': 'Danois'},\n",
              "   {'language': 'dv', 'name': 'Divehi'},\n",
              "   {'language': 'doi', 'name': 'Dogri'},\n",
              "   {'language': 'es', 'name': 'Espagnol'},\n",
              "   {'language': 'eo', 'name': 'Espéranto'},\n",
              "   {'language': 'et', 'name': 'Estonien'},\n",
              "   {'language': 'ee', 'name': 'Ewe'},\n",
              "   {'language': 'fi', 'name': 'Finnois'},\n",
              "   {'language': 'fr', 'name': 'Français'},\n",
              "   {'language': 'fy', 'name': 'Frison'},\n",
              "   {'language': 'gd', 'name': 'Gaélique (Écosse)'},\n",
              "   {'language': 'gl', 'name': 'Galicien'},\n",
              "   {'language': 'cy', 'name': 'Gallois'},\n",
              "   {'language': 'lg', 'name': 'Ganda'},\n",
              "   {'language': 'ka', 'name': 'Géorgien'},\n",
              "   {'language': 'el', 'name': 'Grec'},\n",
              "   {'language': 'gn', 'name': 'Guarani'},\n",
              "   {'language': 'gu', 'name': 'Gujarati'},\n",
              "   {'language': 'ha', 'name': 'Haoussa'},\n",
              "   {'language': 'haw', 'name': 'Hawaïen'},\n",
              "   {'language': 'iw', 'name': 'Hébreu'},\n",
              "   {'language': 'hi', 'name': 'Hindi'},\n",
              "   {'language': 'hmn', 'name': 'Hmong'},\n",
              "   {'language': 'hu', 'name': 'Hongrois'},\n",
              "   {'language': 'ig', 'name': 'Igbo'},\n",
              "   {'language': 'ilo', 'name': 'Ilocano'},\n",
              "   {'language': 'id', 'name': 'Indonésien'},\n",
              "   {'language': 'ga', 'name': 'Irlandais'},\n",
              "   {'language': 'is', 'name': 'Islandais'},\n",
              "   {'language': 'it', 'name': 'Italien'},\n",
              "   {'language': 'ja', 'name': 'Japonais'},\n",
              "   {'language': 'jw', 'name': 'Javanais'},\n",
              "   {'language': 'kn', 'name': 'Kannada'},\n",
              "   {'language': 'kk', 'name': 'Kazakh'},\n",
              "   {'language': 'km', 'name': 'Khmer'},\n",
              "   {'language': 'rw', 'name': 'Kinyarwanda'},\n",
              "   {'language': 'ky', 'name': 'Kirghiz'},\n",
              "   {'language': 'gom', 'name': 'Konkani'},\n",
              "   {'language': 'kri', 'name': 'Krio'},\n",
              "   {'language': 'ku', 'name': 'Kurde (Kurmandji)'},\n",
              "   {'language': 'ckb', 'name': 'Kurde (Sorani)'},\n",
              "   {'language': 'lo', 'name': 'Laotien'},\n",
              "   {'language': 'la', 'name': 'Latin'},\n",
              "   {'language': 'lv', 'name': 'Letton'},\n",
              "   {'language': 'ln', 'name': 'Lingala'},\n",
              "   {'language': 'lt', 'name': 'Lituanien'},\n",
              "   {'language': 'lb', 'name': 'Luxembourgeois'},\n",
              "   {'language': 'mk', 'name': 'Macédonien'},\n",
              "   {'language': 'mai', 'name': 'Maïthili'},\n",
              "   {'language': 'ms', 'name': 'Malaisien'},\n",
              "   {'language': 'ml', 'name': 'Malayalam'},\n",
              "   {'language': 'mg', 'name': 'Malgache'},\n",
              "   {'language': 'mt', 'name': 'Maltais'},\n",
              "   {'language': 'mi', 'name': 'Maori'},\n",
              "   {'language': 'mr', 'name': 'Marathi'},\n",
              "   {'language': 'mni-Mtei', 'name': 'Meitei (Manipuri)'},\n",
              "   {'language': 'lus', 'name': 'Mizo'},\n",
              "   {'language': 'mn', 'name': 'Mongol'},\n",
              "   {'language': 'nl', 'name': 'Néerlandais'},\n",
              "   {'language': 'ne', 'name': 'Népalais'},\n",
              "   {'language': 'no', 'name': 'Norvégien'},\n",
              "   {'language': 'or', 'name': 'Odia (Oriya)'},\n",
              "   {'language': 'om', 'name': 'Oromo'},\n",
              "   {'language': 'ug', 'name': 'Ouïgour'},\n",
              "   {'language': 'uz', 'name': 'Ouzbek'},\n",
              "   {'language': 'ps', 'name': 'Pachtô'},\n",
              "   {'language': 'pa', 'name': 'Panjabi'},\n",
              "   {'language': 'fa', 'name': 'Persan'},\n",
              "   {'language': 'tl', 'name': 'Philippin'},\n",
              "   {'language': 'pl', 'name': 'Polonais'},\n",
              "   {'language': 'pt', 'name': 'Portugais'},\n",
              "   {'language': 'qu', 'name': 'Quechua'},\n",
              "   {'language': 'ro', 'name': 'Roumain'},\n",
              "   {'language': 'ru', 'name': 'Russe'},\n",
              "   {'language': 'sm', 'name': 'Samoan'},\n",
              "   {'language': 'sa', 'name': 'Sanscrit'},\n",
              "   {'language': 'sr', 'name': 'Serbe'},\n",
              "   {'language': 'st', 'name': 'Sesotho'},\n",
              "   {'language': 'sn', 'name': 'Shona'},\n",
              "   {'language': 'sd', 'name': 'Sindhî'},\n",
              "   {'language': 'sk', 'name': 'Slovaque'},\n",
              "   {'language': 'sl', 'name': 'Slovène'},\n",
              "   {'language': 'so', 'name': 'Somali'},\n",
              "   {'language': 'nso', 'name': 'Sotho du Nord'},\n",
              "   {'language': 'su', 'name': 'Soundanais'},\n",
              "   {'language': 'sv', 'name': 'Suédois'},\n",
              "   {'language': 'sw', 'name': 'Swahili'},\n",
              "   {'language': 'tg', 'name': 'Tadjik'},\n",
              "   {'language': 'ta', 'name': 'Tamoul'},\n",
              "   {'language': 'tt', 'name': 'Tatar'},\n",
              "   {'language': 'cs', 'name': 'Tchèque'},\n",
              "   {'language': 'te', 'name': 'Telugu'},\n",
              "   {'language': 'th', 'name': 'Thaï'},\n",
              "   {'language': 'ti', 'name': 'Tigrigna'},\n",
              "   {'language': 'ts', 'name': 'Tsonga'},\n",
              "   {'language': 'tr', 'name': 'Turc'},\n",
              "   {'language': 'tk', 'name': 'Turkmène'},\n",
              "   {'language': 'ak', 'name': 'Twi'},\n",
              "   {'language': 'uk', 'name': 'Ukrainien'},\n",
              "   {'language': 'ur', 'name': 'Urdu'},\n",
              "   {'language': 'vi', 'name': 'Vietnamien'},\n",
              "   {'language': 'xh', 'name': 'Xhosa'},\n",
              "   {'language': 'yi', 'name': 'Yiddish'},\n",
              "   {'language': 'yo', 'name': 'Yorouba'},\n",
              "   {'language': 'zu', 'name': 'Zoulou'},\n",
              "   {'language': 'he', 'name': 'Hébreu'},\n",
              "   {'language': 'jv', 'name': 'Javanais'},\n",
              "   {'language': 'zh-CN', 'name': 'Chinois (simplifié)'}]}}"
            ]
          },
          "execution_count": 16,
          "metadata": {},
          "output_type": "execute_result"
        }
      ],
      "source": [
        "# Adding the optional parameter directly into the url\n",
        "url = \"https://google-translate1.p.rapidapi.com/language/translate/v2/languages?target=fr\"\n",
        "\n",
        "headers = {\n",
        "\t\"Accept-Encoding\": \"application/gzip\",\n",
        "\t\"X-RapidAPI-Key\": \"d448db74f1msh71600bf0b7eb394p1467b7jsn2923992aa0d0\",\n",
        "\t\"X-RapidAPI-Host\": \"google-translate1.p.rapidapi.com\"\n",
        "}\n",
        "\n",
        "response1 = requests.get(url, headers=headers)\n",
        "\n",
        "response1.json()"
      ]
    },
    {
      "cell_type": "code",
      "execution_count": 17,
      "metadata": {
        "colab": {
          "base_uri": "https://localhost:8080/"
        },
        "id": "RGiZ0CuHtYZ6",
        "outputId": "aa43fda4-8ede-440f-d3b7-7ee5c6d55c5b"
      },
      "outputs": [
        {
          "data": {
            "text/plain": [
              "True"
            ]
          },
          "execution_count": 17,
          "metadata": {},
          "output_type": "execute_result"
        }
      ],
      "source": [
        "# Adding a payload that specifies the language in which each code must be translated\n",
        "url = \"https://google-translate1.p.rapidapi.com/language/translate/v2/languages\"\n",
        "\n",
        "headers = {\n",
        "\t\"Accept-Encoding\": \"application/gzip\",\n",
        "\t\"X-RapidAPI-Key\": \"d448db74f1msh71600bf0b7eb394p1467b7jsn2923992aa0d0\",\n",
        "\t\"X-RapidAPI-Host\": \"google-translate1.p.rapidapi.com\"\n",
        "}\n",
        "\n",
        "payload = {\n",
        "    \"target\": \"fr\"\n",
        "}\n",
        "\n",
        "response2 = requests.get(url, headers=headers, params = payload)\n",
        "\n",
        "# Testing if the API sends the same response in both cases\n",
        "response2.json() == response1.json()"
      ]
    },
    {
      "cell_type": "markdown",
      "metadata": {
        "id": "yWICPPOGqSha"
      },
      "source": [
        "Responses for both queries are identical! So remember to use payloads every time you need to add extra parameters to your API call, it is very useful and helps prevent errors!"
      ]
    },
    {
      "cell_type": "markdown",
      "metadata": {
        "id": "_ai2wzBoqSha"
      },
      "source": [
        "### API call with POST method\n",
        "\n",
        "In the case of search, or anything else using payloads to add parameters to your query, you are only trying to access data which is already here, it all pre-exists your request. In other cases, for example if you are trying to get a predictive model's prediction, then the response you will get will be built on the spot depending on the data you sent.\n",
        "\n",
        "This is actually where the post method comes in handy, because it lets you send data to the API that will be transformed in some way to create the response.\n",
        "\n",
        "A really good example of such a usecase is a machine translation API, like [Google Translate](https://rapidapi.com/googlecloud/api/google-translate1/). APIs registered on **rapideapi** are really easy to use because the platform registers API and gives standardised documentation, which means you won't have to re-learn how to use the API every single time. It even lets you indicate with what language and what library you're using to access the API. So if we choose `pyhthon` `requests` we see this:\n",
        "\n",
        "```python\n",
        "import requests\n",
        "\n",
        "url = \"https://google-translate1.p.rapidapi.com/language/translate/v2\"\n",
        "\n",
        "payload = \"q=Hello%2C%20world!&target=es&source=en\"\n",
        "headers = {\n",
        "    'content-type': \"application/x-www-form-urlencoded\",\n",
        "    'accept-encoding': \"application/gzip\",\n",
        "    'x-rapidapi-host': \"google-translate1.p.rapidapi.com\",\n",
        "    'x-rapidapi-key': \"d448db74f1msh71600bf0b7eb394p1467b7jsn2923992aa0d0\"\n",
        "    }\n",
        "\n",
        "response = requests.request(\"POST\", url, data=payload, headers=headers)\n",
        "\n",
        "print(response.text)\n",
        "```\n",
        "\n",
        "Let's try and use it in an even simpler way"
      ]
    },
    {
      "cell_type": "code",
      "execution_count": 7,
      "metadata": {
        "colab": {
          "base_uri": "https://localhost:8080/"
        },
        "id": "NLzzSJZTqShb",
        "outputId": "add0589f-a09c-4412-a2dc-9941d857aacf"
      },
      "outputs": [
        {
          "data": {
            "text/plain": [
              "{'data': {'translations': [{'translatedText': '¡Hola Mundo!'}]}}"
            ]
          },
          "execution_count": 7,
          "metadata": {},
          "output_type": "execute_result"
        }
      ],
      "source": [
        "url = \"https://google-translate1.p.rapidapi.com/language/translate/v2\"\n",
        "data = {\"q\":\"Hello, World!\", \"target\":\"es\", \"source\":\"en\"}\n",
        "headers = {\n",
        "    'x-rapidapi-key': \"d448db74f1msh71600bf0b7eb394p1467b7jsn2923992aa0d0\"\n",
        "    }\n",
        "\n",
        "translation = requests.post(url, data=data, headers=headers)\n",
        "translation.json()"
      ]
    },
    {
      "cell_type": "markdown",
      "metadata": {
        "id": "Rxvl93JSqShb"
      },
      "source": [
        "The first element of the query had to be the endpoint we are trying to access. Then we had to include the data with the sentence we wish to translate, the target language and source language. Then the `headers` is used to feed our authentication key to the API so it knows we are authorized and have'nt exceeded our query quota."
      ]
    },
    {
      "cell_type": "markdown",
      "metadata": {
        "id": "P_SOPTweqShb"
      },
      "source": [
        "## API limitations and quotas\n",
        "\n",
        "Most APIs put in place protections such as authentication procedures, limits and quotas. There are several reasons for this:\n",
        "\n",
        "* If too many queries hit your API at the same time, the machine on which the API is running might not be able to handle them all and crash, meaning the API will be down until it gets rebooted.\n",
        "* Having your API running on a machine or a group of machines to match incoming demand is costly, therefore you want to prevent people from over using your API to prevent costs blowing through the roof.\n",
        "* Let's take the example of Twitter, a huge part of its data is actually public, since it's comprised of what public  profiles post, therefore if there were no limitations on Twitter's API, people could get all of twitter's publicly available data and use it for commercial purposes. However this is already what twitter is trying to do to sell advertising for example, to leverage there data to do ad targeting, if everyone could do the same twitter would lose a huge competitive advantage.\n",
        "* Some APIs are not meant to be public, companies and institutions use APIs to make specific data available to their teams but do not whish the general public to have access.\n",
        "\n",
        "It is not generally dangerous to exceed quotas or to try and call an API with the wrong access key because most of the time you will simply get an error stating the reason for your query not succeeding. Just read carefully trough the API's documentation to understand its security standards and limitations in order to avoid unpleasant surprises such as having to wait 24 hours for your quota to be filled up again!"
      ]
    },
    {
      "cell_type": "markdown",
      "metadata": {
        "id": "dwzoO9BwqShb"
      },
      "source": [
        "## Concluding remarks\n",
        "By now you should have a much better understanding of how API work and how to get started with brand new APIs. Let's sum up what we have learned and list some best practices:\n",
        "\n",
        "* ALWAYS read the documentation carefully before writing API calls\n",
        "* Start with test queries that resolve quickly before attempting to get massive amounts of data\n",
        "* Pay attention to athentication instructions and quotas in order to gauge the amount of calls you'd be able to make to avoid getting stuck\n",
        "* Try and use the full potential of the methods `.get()`, and `.post()` from the `requests` library instead of trying to write the full query using the url."
      ]
    }
  ],
  "metadata": {
    "colab": {
      "provenance": []
    },
    "kernelspec": {
      "display_name": "Python 3",
      "language": "python",
      "name": "python3"
    },
    "language_info": {
      "codemirror_mode": {
        "name": "ipython",
        "version": 3
      },
      "file_extension": ".py",
      "mimetype": "text/x-python",
      "name": "python",
      "nbconvert_exporter": "python",
      "pygments_lexer": "ipython3",
      "version": "3.11.7"
    },
    "vscode": {
      "interpreter": {
        "hash": "fbc4d3870518eee81184ced0d2279c769a0eca59aab465c4e7ec13e5e6c47a3e"
      }
    }
  },
  "nbformat": 4,
  "nbformat_minor": 0
}
