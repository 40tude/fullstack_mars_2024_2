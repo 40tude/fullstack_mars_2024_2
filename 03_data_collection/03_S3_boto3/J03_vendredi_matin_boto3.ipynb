{
 "cells": [
  {
   "cell_type": "markdown",
   "metadata": {},
   "source": [
    "#  Vendredi 29 Mars"
   ]
  },
  {
   "cell_type": "markdown",
   "metadata": {},
   "source": [
    "## NE PAS LAISSER LES CLES PUBLIC ET PRIVEE DANS LE CODE"
   ]
  },
  {
   "cell_type": "code",
   "execution_count": null,
   "metadata": {},
   "outputs": [],
   "source": [
    "import boto3\n",
    "import my_api_id as key\n",
    "\n",
    "\n",
    "aws_id = key.aws_access_id\n",
    "aws_secret_access = key.aws_secret_access\n",
    "\n",
    "# print(aws_id)\n",
    "# print(aws_secret_access)\n",
    "\n"
   ]
  },
  {
   "cell_type": "code",
   "execution_count": 2,
   "metadata": {},
   "outputs": [],
   "source": [
    "session = boto3.Session(\n",
    "  aws_access_key_id = aws_id,\n",
    "  aws_secret_access_key = aws_secret_access\n",
    ")\n"
   ]
  },
  {
   "cell_type": "code",
   "execution_count": 3,
   "metadata": {},
   "outputs": [
    {
     "data": {
      "text/plain": [
       "Session(region_name=None)"
      ]
     },
     "execution_count": 3,
     "metadata": {},
     "output_type": "execute_result"
    }
   ],
   "source": [
    "session"
   ]
  },
  {
   "cell_type": "code",
   "execution_count": 4,
   "metadata": {},
   "outputs": [],
   "source": [
    "# creer un bucket\n",
    "s3 = session.resource(\"s3\") "
   ]
  },
  {
   "cell_type": "code",
   "execution_count": 5,
   "metadata": {},
   "outputs": [],
   "source": [
    "# par defaut il est en région : US East (N. Virginia) us-east-1\n",
    "bucket = s3.create_bucket(Bucket=\"9204d1c6-01c3-44af-a256-4cbfa3af2c64\")\n",
    "\n",
    "\n"
   ]
  },
  {
   "cell_type": "code",
   "execution_count": 6,
   "metadata": {},
   "outputs": [],
   "source": [
    "# eu-west-3 = PARIS\n",
    "bucket2 = s3.create_bucket(\n",
    "  Bucket=\"e54add42-33ce-456a-9815-932246885d78\",\n",
    "  CreateBucketConfiguration = {\n",
    "    'LocationConstraint': 'eu-west-3'\n",
    "  }\n",
    ")\n"
   ]
  },
  {
   "cell_type": "code",
   "execution_count": 7,
   "metadata": {},
   "outputs": [
    {
     "data": {
      "text/html": [
       "<div>\n",
       "<style scoped>\n",
       "    .dataframe tbody tr th:only-of-type {\n",
       "        vertical-align: middle;\n",
       "    }\n",
       "\n",
       "    .dataframe tbody tr th {\n",
       "        vertical-align: top;\n",
       "    }\n",
       "\n",
       "    .dataframe thead th {\n",
       "        text-align: right;\n",
       "    }\n",
       "</style>\n",
       "<table border=\"1\" class=\"dataframe\">\n",
       "  <thead>\n",
       "    <tr style=\"text-align: right;\">\n",
       "      <th></th>\n",
       "      <th>col1</th>\n",
       "      <th>col2</th>\n",
       "    </tr>\n",
       "  </thead>\n",
       "  <tbody>\n",
       "    <tr>\n",
       "      <th>0</th>\n",
       "      <td>1</td>\n",
       "      <td>a1</td>\n",
       "    </tr>\n",
       "    <tr>\n",
       "      <th>1</th>\n",
       "      <td>2</td>\n",
       "      <td>a2</td>\n",
       "    </tr>\n",
       "    <tr>\n",
       "      <th>2</th>\n",
       "      <td>3</td>\n",
       "      <td>a3</td>\n",
       "    </tr>\n",
       "    <tr>\n",
       "      <th>3</th>\n",
       "      <td>4</td>\n",
       "      <td>a4</td>\n",
       "    </tr>\n",
       "  </tbody>\n",
       "</table>\n",
       "</div>"
      ],
      "text/plain": [
       "   col1 col2\n",
       "0     1   a1\n",
       "1     2   a2\n",
       "2     3   a3\n",
       "3     4   a4"
      ]
     },
     "execution_count": 7,
     "metadata": {},
     "output_type": "execute_result"
    }
   ],
   "source": [
    "import pandas as pd\n",
    "data = pd.DataFrame({'col1': [1,2,3,4], 'col2': ['a1','a2','a3','a4']})\n",
    "data.head()"
   ]
  },
  {
   "cell_type": "code",
   "execution_count": 8,
   "metadata": {},
   "outputs": [
    {
     "data": {
      "text/plain": [
       "s3.Object(bucket_name='e54add42-33ce-456a-9815-932246885d78', key='test.csv')"
      ]
     },
     "execution_count": 8,
     "metadata": {},
     "output_type": "execute_result"
    }
   ],
   "source": [
    "csv = data.to_csv()\n",
    "# put_object = bucket2.put_object(Key=\"test.csv\", Body=csv)\n",
    "bucket2.put_object(Key=\"test.csv\", Body=csv)\n",
    "\n",
    "\n",
    "# Aller voir la console AWS\n",
    "# Le fichier est là et pas public"
   ]
  },
  {
   "cell_type": "code",
   "execution_count": 9,
   "metadata": {},
   "outputs": [
    {
     "data": {
      "text/plain": [
       "[{'ResponseMetadata': {'RequestId': '9WQJ37ARSYFWDSAT',\n",
       "   'HostId': 'meVt4qM+bJ+nTJQJcpAOIp14McNNFCrkvbFes9Rn1q/nd5TvQhXMkRug3909zqSHvpN25jVYTic=',\n",
       "   'HTTPStatusCode': 200,\n",
       "   'HTTPHeaders': {'x-amz-id-2': 'meVt4qM+bJ+nTJQJcpAOIp14McNNFCrkvbFes9Rn1q/nd5TvQhXMkRug3909zqSHvpN25jVYTic=',\n",
       "    'x-amz-request-id': '9WQJ37ARSYFWDSAT',\n",
       "    'date': 'Fri, 29 Mar 2024 12:41:24 GMT',\n",
       "    'content-type': 'application/xml',\n",
       "    'transfer-encoding': 'chunked',\n",
       "    'server': 'AmazonS3',\n",
       "    'connection': 'close'},\n",
       "   'RetryAttempts': 0},\n",
       "  'Deleted': [{'Key': 'test.csv'}]}]"
      ]
     },
     "execution_count": 9,
     "metadata": {},
     "output_type": "execute_result"
    }
   ],
   "source": [
    "# supprimer les buckets\n",
    "# supprimer les users\n",
    "\n",
    "\n",
    "bucket2.objects.all().delete()"
   ]
  },
  {
   "cell_type": "code",
   "execution_count": 10,
   "metadata": {},
   "outputs": [
    {
     "data": {
      "text/plain": [
       "{'ResponseMetadata': {'RequestId': 'BB3CQ614D4E09ETD',\n",
       "  'HostId': 'ptQF74aSBroDAz/jsv89A9cuvfFWu6zexF6D/U4wRhyqZjShPCW6cDOoISZgw563uP87td16qbg=',\n",
       "  'HTTPStatusCode': 204,\n",
       "  'HTTPHeaders': {'x-amz-id-2': 'ptQF74aSBroDAz/jsv89A9cuvfFWu6zexF6D/U4wRhyqZjShPCW6cDOoISZgw563uP87td16qbg=',\n",
       "   'x-amz-request-id': 'BB3CQ614D4E09ETD',\n",
       "   'date': 'Fri, 29 Mar 2024 12:41:41 GMT',\n",
       "   'server': 'AmazonS3'},\n",
       "  'RetryAttempts': 0}}"
      ]
     },
     "execution_count": 10,
     "metadata": {},
     "output_type": "execute_result"
    }
   ],
   "source": [
    "bucket2.delete()"
   ]
  },
  {
   "cell_type": "code",
   "execution_count": 11,
   "metadata": {},
   "outputs": [
    {
     "data": {
      "text/plain": [
       "{'ResponseMetadata': {'RequestId': 'BWF58EF497J069BB',\n",
       "  'HostId': 'yosv23gt03z/RjCfEd1u9TCFPMJmpXp7AEqSgMuxLsRwGc8XgidU+/YZdW+neJuS457c+xcRB5k=',\n",
       "  'HTTPStatusCode': 204,\n",
       "  'HTTPHeaders': {'x-amz-id-2': 'yosv23gt03z/RjCfEd1u9TCFPMJmpXp7AEqSgMuxLsRwGc8XgidU+/YZdW+neJuS457c+xcRB5k=',\n",
       "   'x-amz-request-id': 'BWF58EF497J069BB',\n",
       "   'date': 'Fri, 29 Mar 2024 12:41:45 GMT',\n",
       "   'server': 'AmazonS3'},\n",
       "  'RetryAttempts': 0}}"
      ]
     },
     "execution_count": 11,
     "metadata": {},
     "output_type": "execute_result"
    }
   ],
   "source": [
    "bucket.delete()"
   ]
  },
  {
   "cell_type": "markdown",
   "metadata": {},
   "source": [
    "Voir : https://blog.knoldus.com/how-to-delete-users-from-aws-using-boto3/"
   ]
  }
 ],
 "metadata": {
  "kernelspec": {
   "display_name": "jedha",
   "language": "python",
   "name": "python3"
  },
  "language_info": {
   "codemirror_mode": {
    "name": "ipython",
    "version": 3
   },
   "file_extension": ".py",
   "mimetype": "text/x-python",
   "name": "python",
   "nbconvert_exporter": "python",
   "pygments_lexer": "ipython3",
   "version": "3.11.7"
  }
 },
 "nbformat": 4,
 "nbformat_minor": 2
}
