{
 "cells": [
  {
   "cell_type": "markdown",
   "metadata": {},
   "source": [
    "![snap](https://media.giphy.com/media/HjeIqm3MxURFK/giphy.gif)\n",
    "\n",
    "# FastAPI to Production \n",
    "\n",
    "## What you'll learn in this course 🧐🧐\n",
    "\n",
    "The final step of learning FastAPI is to be able to stage it to production! Let's see how we can do it using Heroku and Docker. In this course, you will learn: \n",
    "\n",
    "* How to setup your `Dockerfile` to make it *production-ready*\n",
    "* Stage your docker image to Heroku container "
   ]
  },
  {
   "cell_type": "markdown",
   "metadata": {},
   "source": [
    "## Setup your production `Dockerfile` \n",
    "\n",
    "To make your FastAPI app *production-ready*, you need to do two things: \n",
    "\n",
    "1. Set a `PORT` environment variable \n",
    "2. Make `uvicorn` compatible to Heroku container \n",
    "\n",
    "\n",
    "Let's go 💪\n",
    "\n",
    "\n",
    "This is what your `Dockerfile` should look like:\n",
    "\n",
    "\n",
    "```Dockerfile\n",
    "FROM continuumio/miniconda3\n",
    "\n",
    "WORKDIR /home/app\n",
    "\n",
    "RUN apt-get update -y \n",
    "RUN apt-get install nano unzip\n",
    "RUN apt-get install -y python3.10\n",
    "RUN apt install curl -y\n",
    "\n",
    "RUN curl -fsSL https://get.deta.dev/cli.sh | sh\n",
    "\n",
    "COPY requirements.txt /dependencies/requirements.txt\n",
    "RUN pip install -r /dependencies/requirements.txt\n",
    "\n",
    "COPY . /home/app\n",
    "\n",
    "CMD gunicorn app:app  --bind 0.0.0.0:$PORT --worker-class uvicorn.workers.UvicornWorker # 👈 This is the most important line\n",
    "```\n",
    "\n",
    "As you can see your `Dockerfile` looks a lot like a normal one **except for the last command.**: \n",
    "\n",
    "* First we use `gunicorn` which is the normal web server Heroku is using for deploying web applications. \n",
    "\n",
    "* Then we are mapping the `app.py` to the `app` variable within this file that contains the `FastAPI` instance. The way we do it is simply by writting `app:app`. \n",
    "\n",
    "* Then we specified that we are binding our host URL `0.0.0.0` to a `PORT` environment variable. This will let Heroku link your Host URL to HTTP and HTTPS access (which are respectively at port `40` and port `443`).\n",
    "\n",
    "* Then we specified `--worker-class uvicorn.workers.UvicornWorker` flag. This means that normally FastAPI is `uvicorn` based, which is an asynchronous server whereas Heroku uses a synchronous server (`gunicorn`) which raises compatibility issues. This flag alleviates this. \n",
    "\n",
    "> 👋 More info here in the Resources section of this course"
   ]
  },
  {
   "cell_type": "markdown",
   "metadata": {},
   "source": [
    "## Push to Heroku \n",
    "\n",
    "Now the final part is to simply push to Heroku the same way as you would do for a normal container: \n",
    "\n",
    "\n",
    "1. Create a Heroku app:\n",
    "\n",
    "`heroku create YOUR_APP_NAME`\n",
    "\n",
    "2. Push your container to heroku: \n",
    "\n",
    "`heroku container:push web -a YOUR_APP_NAME`\n",
    "\n",
    "> 👋 Make sure that you specify `web` when your app is a web app. \n",
    "\n",
    "3. Release your container:\n",
    "\n",
    "`heroku container:release web -a YOUR_APP_NAME`\n",
    "\n",
    "4. Open your app: \n",
    "\n",
    "`heroku open -a YOUR_APP_NAME`\n",
    "\n",
    "> 👋 If everything worked correctly, you should see your app running on your browser!"
   ]
  },
  {
   "cell_type": "markdown",
   "metadata": {},
   "source": [
    "## Resources 📚📚\n",
    "\n",
    "* [__call__() missing 1 required positional argument: 'send' FastAPI on App Engine](https://stackoverflow.com/questions/63424042/call-missing-1-required-positional-argument-send-fastapi-on-app-engine/70404102#70404102)"
   ]
  }
 ],
 "metadata": {
  "language_info": {
   "name": "python"
  },
  "orig_nbformat": 4
 },
 "nbformat": 4,
 "nbformat_minor": 2
}
