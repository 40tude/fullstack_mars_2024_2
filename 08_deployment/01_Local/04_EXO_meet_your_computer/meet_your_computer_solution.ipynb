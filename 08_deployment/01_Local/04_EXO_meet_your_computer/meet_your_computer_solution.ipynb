{
 "cells": [
  {
   "cell_type": "markdown",
   "metadata": {},
   "source": [
    "# Meet your computer 👼\n",
    "\n",
    "Now that you are getting more experience as a Data Scientist, it becomes important that you get familiar with how computer works. To do so, we've built a very funny exercise for you. \n",
    "\n",
    "It is inspired from cybersecurity techies and it is called *capture the flag* or CTF. Your goal will be to find flags with a computer that you will be *downloading* using something called [Docker](https://www.docker.com/) \n",
    "\n",
    "👋 FYI, flags won't look like this: 🇺🇸 but rather something like this: \n",
    "\n",
    "* *903cd50f66383c8cb5f8d5c5c2fa28fa*\n",
    "\n",
    "Alright ready? Let's start:\n",
    "\n",
    "1. First you will need to make sur that you have Docker installed on your machine. If you haven't check out this link: [Get Docker](https://docs.docker.com/get-docker/)\n",
    "\n",
    "2. Then run the following command on your terminal \n",
    "    * `docker run -it jedha/data-fullstack-simple-image -q`\n",
    "\n",
    "    > You will be prompted to what is called a *container*. As for now, simply think of a container as a mini computer within your own computer. I know, it sounds weird but it is actually extremely handy when you start working on infrastructures. But we'll get to it later 😉\n",
    "\n",
    "4. Now, you can follow the instructions and try to finds flags. There are 4 total flags in total so good luck\n",
    "\n",
    "5. Once you are done, you can simply get out of this container by executing the following command:\n",
    "    * `exit`\n",
    "    * Finally run:\n",
    "        * `docker rm $(docker ps -aq); docker rmi $(docker image ls -q)`\n",
    "\n",
    "\n",
    "👋 If you really enjoyed this exercise, you might have a career in [cybersecurity](https://www.jedha.co/formations/cybersecurity-essentials)!"
   ]
  }
 ],
 "metadata": {
  "kernelspec": {
   "display_name": "base",
   "language": "python",
   "name": "python3"
  },
  "language_info": {
   "name": "python",
   "version": "3.9.12 (main, Apr  4 2022, 05:22:27) [MSC v.1916 64 bit (AMD64)]"
  },
  "orig_nbformat": 4,
  "vscode": {
   "interpreter": {
    "hash": "16196ea7eff63910081d4e10ae1bdb1eb18fd83cb470bb8efbb9fa6b0c724af5"
   }
  }
 },
 "nbformat": 4,
 "nbformat_minor": 2
}
