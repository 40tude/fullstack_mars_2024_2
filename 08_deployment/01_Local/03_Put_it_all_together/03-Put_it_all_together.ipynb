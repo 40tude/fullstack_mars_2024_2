{
 "cells": [
  {
   "cell_type": "markdown",
   "metadata": {},
   "source": [
    "![crack](https://www.codemotion.com/magazine/wp-content/uploads/2020/10/developer-community-manager-3-scaled-896x504.jpg)\n",
    "\n",
    "# Put it all together "
   ]
  },
  {
   "cell_type": "markdown",
   "metadata": {},
   "source": [
    "## What you will learn in this course 🧐🧐\n",
    "\n",
    "It is time to build a great coding environment for you to be able to work countless hours 🤪 Just kidding! However, it's important for you to feel comfortable when you are writing. Let us show you how you do that. In this class we will see: \n",
    "\n",
    "* How to set up VSCode \n",
    "* Organize your work in directories \n",
    "* Personalize your VSCode Editor"
   ]
  },
  {
   "cell_type": "markdown",
   "metadata": {},
   "source": [
    "## Organize your work 🗂️\n",
    "\n",
    "Before diving into ANY code, you need to understand one thing: **computers are organized in folders**. We often call these folders: *directories*. \n",
    "\n",
    "When you are writing a program, you need to make sure that each file related to this program is living within the same directory. (This means that any app is just a folder with different files and sub folders in it meant to work together!)\n",
    "\n",
    ">For example, let's say I am building an API, all my files will live in a directory that I call *fast_api_intro*,  just like this:\n",
    "\n",
    "> ```\n",
    "> (base) ➜  fast_api_intro tree\n",
    ">   .\n",
    ">   ├── main.py\n",
    ">   └── setup.py\n",
    ">\n",
    ">  0 directories, 2 files\n",
    ">    ```\n",
    "\n",
    "> As you can see, I wrote two files `main.py` and `setup.py` that are the two files related to my new API. \n",
    "\n",
    "Now, as a best practice, you always need to make sure you know where you directories are within your computers. Usually each OS (Windows, Mac, Linux) have predefined folders like *Documents* where you can host your directories. However, that's completely up to you where you put your code.  "
   ]
  },
  {
   "cell_type": "markdown",
   "metadata": {},
   "source": [
    "## Set up VScode \n",
    "\n",
    "Alright, let's start coding in a great IDE. Here we chose Microsoft Visual Studio Code (VSCode). If you haven't already, simply download VSCode here: \n",
    "\n",
    "* [Download VSCode](https://code.visualstudio.com/download) \n",
    "\n",
    "Before diving into the code:\n",
    "\n",
    "1. Go to your terminal \n",
    "2. Choose a folder (create one) where your code will live (remember `cd` command)\n",
    "3. run the command `code .` this should open VSCode right away \n",
    "> 👋 If that's not the case check out this [documentation](https://code.visualstudio.com/docs/setup/setup-overview) \n",
    "\n",
    "Once you are done, watch this great videos on how to use the tool. "
   ]
  },
  {
   "cell_type": "markdown",
   "metadata": {},
   "source": [
    "### Get started with VSCode"
   ]
  },
  {
   "attachments": {},
   "cell_type": "markdown",
   "metadata": {},
   "source": [
    "<div className=\"aspect-w-16 aspect-h-9\"><iframe src=\"https://www.youtube.com/embed/S320N3sxinE\" allow=\"autoplay; fullscreen; picture-in-picture\" allowFullScreen=\"\" width=\"100%\" title=\"Test\" frameBorder=\"0\"></iframe></div>"
   ]
  },
  {
   "cell_type": "markdown",
   "metadata": {},
   "source": [
    "### Code with VSCode\n",
    "\n",
    "Let's open a terminal within VSCode to have everything all in one place"
   ]
  },
  {
   "attachments": {},
   "cell_type": "markdown",
   "metadata": {},
   "source": [
    "<div className=\"aspect-w-16 aspect-h-9\"><iframe src=\"https://www.youtube.com/embed/MNBwGGwvvKE\" allow=\"autoplay; fullscreen; picture-in-picture\" allowFullScreen=\"\" width=\"100%\" title=\"Test\" frameBorder=\"0\"></iframe></div>"
   ]
  },
  {
   "cell_type": "markdown",
   "metadata": {},
   "source": [
    "👋👋 **IMPORTANT** \n",
    "\n",
    "> Remember that we wanted to standardize our environment accross any kind of Machine? To do so, we've been using Docker. Here is no exception! Therefore when you will be opening your Terminal in VSCode, you will need to run the following command:\n",
    ">\n",
    "> `docker run -it -v \"$(pwd):/home/app\" jedha/data-fullstack-demo-image`\n",
    ">\n",
    "> `docker run -it -v \"%cd%:/home/app\" jedha/data-fullstack-demo-image` (for the command prompt)\n",
    ">\n",
    "> if you're running on Windows, replace `pwd` by `%cd%`\n",
    ">\n",
    "> Then run \n",
    ">\n",
    "> `cd home/app` \n",
    ">\n",
    "> Now everything you create in your current directory in VSCode will appear here 😉"
   ]
  },
  {
   "cell_type": "markdown",
   "metadata": {},
   "source": [
    "## Resources 📚📚\n",
    "\n",
    "* [Directory](https://www.computerhope.com/jargon/d/director.htm)\n",
    "* [Getting Started with VSCode](https://code.visualstudio.com/docs/introvideos/basics)\n",
    "* [VSCode introductory videos](https://code.visualstudio.com/docs/getstarted/introvideos)\n",
    "* [Code editing with VSCode](https://code.visualstudio.com/docs/introvideos/codeediting)\n",
    "* [Setting up Visual Studio Code](https://code.visualstudio.com/docs/setup/setup-overview)"
   ]
  }
 ],
 "metadata": {
  "interpreter": {
   "hash": "b7290ba8f7596ebcbc9ade6aa98da6747d4b22cd58646d8552c4d7a0486c0fef"
  },
  "kernelspec": {
   "display_name": "Python 3.8.3 64-bit ('base': conda)",
   "language": "python",
   "name": "python3"
  },
  "language_info": {
   "codemirror_mode": {
    "name": "ipython",
    "version": 3
   },
   "file_extension": ".py",
   "mimetype": "text/x-python",
   "name": "python",
   "nbconvert_exporter": "python",
   "pygments_lexer": "ipython3",
   "version": "3.7.4"
  },
  "orig_nbformat": 4
 },
 "nbformat": 4,
 "nbformat_minor": 2
}
