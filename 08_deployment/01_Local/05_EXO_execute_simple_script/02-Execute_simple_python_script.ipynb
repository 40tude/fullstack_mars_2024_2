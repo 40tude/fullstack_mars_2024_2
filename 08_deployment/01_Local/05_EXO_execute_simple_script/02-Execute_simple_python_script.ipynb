{
 "cells": [
  {
   "cell_type": "markdown",
   "metadata": {},
   "source": [
    "# Execute a simple python script 🍼\n",
    "\n",
    "Are you getting along with your computer? If yes, let's dive a little further and start writing code using a real code editor. As of today, one that we really like at Jedha is [Microsoft Visual Studio Code](https://code.visualstudio.com/). It is a really great & reliable code editor that a lot of developers love! 💖\n",
    "\n",
    "If you haven't already, feel free to download it here: [Download VSCode](https://code.visualstudio.com/download)\n",
    "\n",
    "Once you are done with the installation, you can open VSCode and start coding! If you don't feel super comfortable right now with it, follow this very simple tutorial: "
   ]
  },
  {
   "cell_type": "markdown",
   "metadata": {},
   "source": [
    "<div className='aspect-w-16 aspect-h-9'><iframe src='https://www.youtube.com/embed/S320N3sxinE' allow='autoplay; fullscreen; picture-in-picture' allowFullScreen='' width='100%' title='Test' frameBorder='0'></iframe></div>"
   ]
  },
  {
   "cell_type": "markdown",
   "metadata": {},
   "source": [
    "It comes from the official Microsoft Visual Studio website. If you want to learn more, feel free to [check it out](https://code.visualstudio.com/docs/introvideos/basics) 🎁."
   ]
  },
  {
   "cell_type": "markdown",
   "metadata": {},
   "source": [
    "Now your goal is to build a simple python application that ***creates groups of random people based on a list of names***. It's nothing that you won't be able to solve by yourself. Here are the steps that you will need to follow: \n",
    "\n",
    "\n",
    "0. Create a folder within your computer where you code will live\n",
    " * This is also what we call a *Working Directory* \n",
    " * This folder can be wherever you want within your computer. However make sure you can find it back when you will restart your computer! 😉\n",
    "\n",
    "1. You first need to create a standardized environment using Docker. Again, we won't be talking much about Docker as of now. Simply think of it as tool to create a standard environment accross any machine. For now run: \n",
    " * `docker run -it -v \"$(pwd):/home/app\" jedha/simple-python-image -q`\n",
    " * > 👋 if you're running on Windows `docker run -it -v \"%cd%:/home/app\" jedha/simple-python-image -q`\n",
    " * > 👋 On windows powershell `docker run -it -v \"$(pwd):/home/app\" jedha/simple-python-image -q` \n",
    "\n",
    "\n",
    "2. You should be prompted to a screen with a welcome message that looks like this:\n",
    "```\n",
    "######################################################\n",
    "#                                                    #\n",
    "#                        Jedha                       #\n",
    "#                          -                         #\n",
    "#                Data Fullstack program              #\n",
    "#                 Execute Python files               #\n",
    "#                                                    #\n",
    "######################################################\n",
    "```\n",
    "\n",
    "3. Now you can start to open VSCode, create a file and start coding your python script! \n",
    "\n",
    "4. The input should be a list of names (elements of type `str`) and return n lists of p names (n being the number of groups to form and p being the amount of people in each group)\n",
    "\n",
    "Good luck 🍀\n",
    "\n",
    "---\n",
    "👋 Once you are done, you can simply get out of this container by executing the following command:\n",
    "* `exit`\n",
    "* Finally run:\n",
    "    * `docker rm $(docker ps -aq); docker rmi $(docker image ls -q)`"
   ]
  }
 ],
 "metadata": {
  "interpreter": {
   "hash": "20bf69066c0dd38d51965b69d5e1b6e387082e3198ba56e97997ac55f4e50ad0"
  },
  "kernelspec": {
   "display_name": "Python 3.8.9 64-bit",
   "language": "python",
   "name": "python3"
  },
  "language_info": {
   "codemirror_mode": {
    "name": "ipython",
    "version": 3
   },
   "file_extension": ".py",
   "mimetype": "text/x-python",
   "name": "python",
   "nbconvert_exporter": "python",
   "pygments_lexer": "ipython3",
   "version": "3.8.3"
  },
  "orig_nbformat": 4
 },
 "nbformat": 4,
 "nbformat_minor": 2
}
