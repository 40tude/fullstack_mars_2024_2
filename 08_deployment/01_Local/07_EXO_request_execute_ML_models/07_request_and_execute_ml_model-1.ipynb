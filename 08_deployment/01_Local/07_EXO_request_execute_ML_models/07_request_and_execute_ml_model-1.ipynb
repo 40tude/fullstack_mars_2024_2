{
 "cells": [
  {
   "cell_type": "markdown",
   "metadata": {},
   "source": [
    "# Request and execute an ML model 🚀\n",
    "---\n",
    "\n",
    "We want know to use our new scripting skills to be able to use Machine Learning models in production. For this exercise, let's assume that a Data Science team has built a Machine Learning algorithm that is able to  **predict californian housing prices** 😉.\n",
    "\n",
    "**Now our objective will be to use this model to predict real data** 🎯\n",
    "\n",
    "Now the Data Science teams has stored the model into a joblib file. Here is the url:\n",
    "\n",
    "* `OBJECT_URL=\"https://full-stack-assets.s3.eu-west-3.amazonaws.com/Deployment/house_prices_model.joblib\"`\n",
    "\n",
    "You will need this information later. \n",
    "\n",
    "Also, another development team built an [API](https://www.jedha.co/blog/api-definition-utilite) that is able to fetch new data from *californian housing*. This API has been hosted here:\n",
    "\n",
    "* https://house-prices-simple-api.herokuapp.com/\n",
    "\n",
    "Check out the url and read documentation 📰 to understand it. \n",
    "\n",
    "Now our goal will be to:\n",
    "\n",
    "* Query data from the API \n",
    "* Import and use the Machine Learning model to make predictions\n",
    "\n",
    "Your script should output something like this:\n",
    "\n",
    "```\n",
    "Loading model...\n",
    "model loaded!\n",
    "\n",
    "Using model to make prediction...\n",
    "According to our model, this house should cost: 4.911525723809524\n",
    "\n",
    "Checking accuracy...\n",
    "House actual price is: 4.908\n",
    "Our model is 0.003525723809523207 away from the truth!\n",
    "```\n",
    "\n",
    "🏁 To start off, go into your terminal and run: \n",
    "\n",
    "`docker run -it -v \"$(pwd):/home/app\" jedha/house-prices-image -q`\n",
    "> 👋 if you're running on Windows, replace `pwd` by `%cd%`\n",
    "\n",
    "This will run a *\"mini computer\"* within your machine with all the required installations. \n",
    "\n",
    "\n",
    "Now here are some hints 🧩 that you can use to succeed: \n",
    "\n",
    "1. Create a python file, like `app.py`. \n",
    "2. Run your script using `python app.py` whenever you want to test your code.\n",
    "3. You might need to use `requests`, `io` and `joblib` as libraries. Check out their respective documentation to see what they do and how you can leverage them. \n",
    "4. To load the model, you will need to read a binary file from an external url. To do so, you can use the `BytesIO()` function. Check out [this link](https://stackoverflow.com/questions/61786481/why-cant-i-read-a-joblib-file-from-my-github-repo) that will give you more info.\n",
    "\n",
    "---\n",
    "👋 Once you are done, you can simply get out of this container by executing the following command:\n",
    "* `exit`\n",
    "* Finally run:\n",
    "    * `docker rm $(docker ps -aq); docker rmi $(docker image ls -q)`"
   ]
  }
 ],
 "metadata": {
  "kernelspec": {
   "display_name": "Python 3.9.13 64-bit",
   "language": "python",
   "name": "python3"
  },
  "language_info": {
   "name": "python",
   "version": "3.9.13"
  },
  "orig_nbformat": 4,
  "vscode": {
   "interpreter": {
    "hash": "aee8b7b246df8f9039afb4144a1f6fd8d2ca17a180786b69acc140d282b71a49"
   }
  }
 },
 "nbformat": 4,
 "nbformat_minor": 2
}
