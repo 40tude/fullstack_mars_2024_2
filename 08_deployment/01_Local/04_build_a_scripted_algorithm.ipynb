{
 "cells": [
  {
   "cell_type": "markdown",
   "metadata": {},
   "source": [
    "\n",
    "\n",
    "# Build a scripted algorithm 🚗💨\n",
    "\n",
    "Let's move up the ladder a little and get closer to what Data is about: *Building Machine Learning Algorithms*. Now that you are more familiar with your local environment, let's try to actually train and build a simple Machine Learning algorithm. \n",
    "\n",
    "We would like to build a model that **predict californian house prices** 🏘️.\n",
    "\n",
    "Data can be found here: \n",
    "* [Californian housing market](https://julie-2-next-resources.s3.eu-west-3.amazonaws.com/full-stack-full-time/linear-regression-ft/californian-housing-market-ft/california_housing_market.csv)\n",
    "\n",
    "What we need you to is: \n",
    "\n",
    "* Use all the Machine Learning technics that you already know to train the best model you could find on this data. \n",
    "* You should be able to do it using `pandas`, `numpy` and `sklearn`\n",
    "\n",
    "\n",
    "🏁 To start off, go into your terminal and run: \n",
    "\n",
    "`docker run -it -v \"$(pwd):/home/app\" jedha/slim-machine-learning-image`\n",
    "\n",
    "This will run a *\"mini computer\"* within your machine with all the required installations. \n",
    "\n",
    "\n",
    "Now here are some hints 🧩 that you can use to succeed: \n",
    "\n",
    "1. Create a python file, like `app.py`. \n",
    "2. Write your python script.\n",
    "3. Run your script using `python app.py` whenever you want to test your code.\n",
    "4. You won't need much more than usual libraries like `pandas` / `numpy` / `sklearn` to complete the challenge.\n",
    "5. To download the data, you can:\n",
    "    * Use `curl` to download the dataset\n",
    "    * Simply use pandas with the above URL using `pd.read_csv()`\n",
    "\n",
    "---\n",
    "\n",
    "### Optional section\n",
    "\n",
    "👋 If you feel super comfortable with all this and you made your script crazy fast, you can try to find a way to persist your model. \n",
    "\n",
    "Feel free to check out this documentation: \n",
    "\n",
    "* [Model Persistence](https://scikit-learn.org/stable/modules/model_persistence.html)\n",
    "\n",
    "However, this is completely **OPTIONAL** as it is a bit harder 🤏. "
   ]
  },
  {
   "cell_type": "markdown",
   "metadata": {},
   "source": [
    "docker run -it -v \"$(pwd):/home/app\" jedha/slim-machine-learning-image\n"
   ]
  }
 ],
 "metadata": {
  "language_info": {
   "name": "python"
  },
  "orig_nbformat": 4
 },
 "nbformat": 4,
 "nbformat_minor": 2
}
