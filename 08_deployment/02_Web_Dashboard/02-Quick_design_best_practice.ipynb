{
 "cells": [
  {
   "cell_type": "markdown",
   "metadata": {},
   "source": [
    "![](https://i.imgur.com/xgm3IwP.jpg)\n",
    "\n",
    "# Quick Design Best Practice \n",
    "\n",
    "\n",
    "## What you will learn in this course 🧐🧐\n",
    "\n",
    "If you enrolled in a Data Science bootcamp, it most likely not to become a Designer. So why would we talk about Design? Well this is to save you some times! Indeed, when you start building web application, one thing that is extremely time consuming is to design your application. Therefore, we wanted to do a quick course on how to wireframe your web app. In this course, you will learn:\n",
    "\n",
    "* The importance of a design in web application \n",
    "* How to wireframe your web application using Figma "
   ]
  },
  {
   "cell_type": "markdown",
   "metadata": {},
   "source": [
    "## Design? 🧑‍🎨\n",
    "\n",
    "Without going into too much details about what Design is, simply consider this field as a science of knowing your users in order to build a product or service that really fits their needs. \n",
    "\n",
    "Within Design, there is something called UX meaning *User eXperience* and UI for *User Interface*. In the developer world, we usually call that *Front-End*. This is basically what the end user will see on his/her screen. \n",
    "\n",
    "Taking time to build a functional UX/UI will definitely help your user navigate through your applications. Eventhough, you don't really have any knowledge in the field, you can start by using great tools that will help you sketch applications. This is called *Wireframing*. "
   ]
  },
  {
   "cell_type": "markdown",
   "metadata": {},
   "source": [
    "## Wireframing 🖌️\n",
    "\n",
    "We don't mean to make you a great designer in a 10-min course. However, one thing that will really help you sketching application is [Figma](https://figma.com).\n",
    "\n",
    "If you are interested, simply follow this 20 min course that is part of our [HTML & CSS online course](https://app.jedha.co/track/introduction-to-html-and-css-track)\n",
    "\n",
    "* [Wireframing](https://app.jedha.co/course/html-sketch-your-first-website)"
   ]
  },
  {
   "cell_type": "markdown",
   "metadata": {},
   "source": [
    "## Resources 📚📚\n",
    "\n",
    "* [Wireframing](https://app.jedha.co/track/introduction-to-html-and-css-track)\n",
    "* [Design & Data](https://www.youtube.com/watch?v=VTteWrmHRmk&t=3299s)"
   ]
  }
 ],
 "metadata": {
  "language_info": {
   "name": "python"
  },
  "orig_nbformat": 4
 },
 "nbformat": 4,
 "nbformat_minor": 2
}
