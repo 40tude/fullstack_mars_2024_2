{
 "cells": [
  {
   "cell_type": "markdown",
   "metadata": {},
   "source": [
    "![crack](https://media.giphy.com/media/3o85xo8f9wVYcwzZcY/giphy.gif)\n",
    "\n",
    "# Package your algorithm training \n",
    "\n",
    "Let's learn how to package our algorithm training so that anybody can use it! Here, you will take the code that you worked on in the *Build a cancellation detector algorithm* exercise.\n",
    "\n",
    "## Project \n",
    "\n",
    "* Take back the code you made in the *Cancellation detector algorithm*\n",
    "* If you prefer a fresh start, simply `git clone` this repository: https://github.com/JedhaBootcamp/appointment_cancellation_detector\n",
    "\n",
    "## Goal 🎯\n",
    "\n",
    "1. Package your code within an `MLProject` \n",
    "2. Push your project onto Github once its done\n",
    "3. Test whether your packaged training works on remote machine\n",
    "    * You can do so by simply giving your repo URL to a teammate and see if it works on his/her machine. \n",
    "    * Fix bugs if there are some \n",
    "    * You can also try to run it on a remote EC2 machine (Caution though, there are going to be costs if you take a very powerful machine. Expects from $1 to $10. And **make sure to delete your instance after you're done with it**)"
   ]
  }
 ],
 "metadata": {
  "language_info": {
   "name": "python"
  },
  "orig_nbformat": 4
 },
 "nbformat": 4,
 "nbformat_minor": 2
}
