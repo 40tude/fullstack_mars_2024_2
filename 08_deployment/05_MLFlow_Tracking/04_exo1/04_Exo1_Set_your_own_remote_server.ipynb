{
 "cells": [
  {
   "cell_type": "markdown",
   "metadata": {},
   "source": [
    "![crack](https://media.giphy.com/media/E1Kd3pQwrsMtQbNkt0/giphy.gif)\n",
    "\n",
    "# Set your own MLFlow remote server \n",
    "---\n",
    "\n",
    "Let's take some time to build your MLFlow remote server. You will use this server for your next experiments. \n",
    "\n",
    "1. As the goal of MLFlow is to work in teams, let's first **build teams**\n",
    "    * **Min group size** - 2 persons\n",
    "    * **Max group size** - 4 persons\n",
    "    * > 👋 If you want, you can use the script your wrote in the exercise *Execute simple python script* in course *Local Development* of your program. \n",
    "\n",
    "2. Following the tutorial *Set MLFlow tracking*, set one server for your whole team"
   ]
  }
 ],
 "metadata": {
  "language_info": {
   "name": "python"
  },
  "orig_nbformat": 4
 },
 "nbformat": 4,
 "nbformat_minor": 2
}
