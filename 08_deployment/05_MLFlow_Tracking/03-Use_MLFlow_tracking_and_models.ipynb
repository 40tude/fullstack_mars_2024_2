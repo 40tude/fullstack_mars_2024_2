{
 "cells": [
  {
   "cell_type": "markdown",
   "metadata": {},
   "source": [
    "# MLFlow Tracking \n",
    "\n",
    "<img src=\"https://full-stack-assets.s3.eu-west-3.amazonaws.com/images/mlflow-tracking.png\" width=\"600\" />\n",
    "\n",
    "## What you will learn in this course 🧐🧐\n",
    "\n",
    "Now that we have a remote server up and running, it's time to have some fun! In this course we will learn how to:\n",
    "\n",
    "* Monitor your ML workflow \n",
    "* Collaborate on ML projects\n",
    "* What is MLFlow models\n",
    "* Log a model to MLFlow tracking"
   ]
  },
  {
   "cell_type": "markdown",
   "metadata": {},
   "source": [
    "## Use MLFlow Tracking \n",
    "\n",
    "### Reminder 💡\n",
    "\n",
    "Before you dive deeper into this course, remember that we set up a remote tracking server on Heroku. Go back to this course if you haven't set it up yet. Each time you will be running your code, you will simply need to refresh the page our remote tracking server to see changes.\n",
    "\n",
    "**Optional (but definitely advised)**: Although you don't have to run mlflow on a Docker environment, we definitely advise you to do so! It will help you standardize your workflow and ease your work later on in the course. If you haven't built an image yet, use `jedha/sample-mlflow-server`. Most likely, your running container command will look like this: \n",
    "\n",
    "```bash\n",
    "docker run -it\\\n",
    " -p 4000:4000\\\n",
    " -v \"$(pwd):/home/app\"\\\n",
    " -e APP_URI=\"APP_URI\"\\\n",
    " -e AWS_ACCESS_KEY_ID=\"AWS_ACCESS_KEY_ID\"\\\n",
    " -e AWS_SECRET_ACCESS_KEY=\"AWS_SECRET_ACCESS_KEY\"\\\n",
    " sample-mlflow-server python train.py\n",
    "```\n",
    "\n",
    "### Our project\n",
    "\n",
    "Let's start by simply loading <a href=\"https://scikit-learn.org/stable/modules/generated/sklearn.datasets.load_iris.html#sklearn.datasets.load_iris\" target=\"_blank\">some data</a> from `sklearn`:"
   ]
  },
  {
   "cell_type": "code",
   "execution_count": 5,
   "metadata": {},
   "outputs": [
    {
     "data": {
      "text/html": [
       "<div>\n",
       "<style scoped>\n",
       "    .dataframe tbody tr th:only-of-type {\n",
       "        vertical-align: middle;\n",
       "    }\n",
       "\n",
       "    .dataframe tbody tr th {\n",
       "        vertical-align: top;\n",
       "    }\n",
       "\n",
       "    .dataframe thead th {\n",
       "        text-align: right;\n",
       "    }\n",
       "</style>\n",
       "<table border=\"1\" class=\"dataframe\">\n",
       "  <thead>\n",
       "    <tr style=\"text-align: right;\">\n",
       "      <th></th>\n",
       "      <th>sepal length (cm)</th>\n",
       "      <th>sepal width (cm)</th>\n",
       "      <th>petal length (cm)</th>\n",
       "      <th>petal width (cm)</th>\n",
       "    </tr>\n",
       "  </thead>\n",
       "  <tbody>\n",
       "    <tr>\n",
       "      <th>84</th>\n",
       "      <td>5.4</td>\n",
       "      <td>3.0</td>\n",
       "      <td>4.5</td>\n",
       "      <td>1.5</td>\n",
       "    </tr>\n",
       "    <tr>\n",
       "      <th>3</th>\n",
       "      <td>4.6</td>\n",
       "      <td>3.1</td>\n",
       "      <td>1.5</td>\n",
       "      <td>0.2</td>\n",
       "    </tr>\n",
       "    <tr>\n",
       "      <th>66</th>\n",
       "      <td>5.6</td>\n",
       "      <td>3.0</td>\n",
       "      <td>4.5</td>\n",
       "      <td>1.5</td>\n",
       "    </tr>\n",
       "    <tr>\n",
       "      <th>135</th>\n",
       "      <td>7.7</td>\n",
       "      <td>3.0</td>\n",
       "      <td>6.1</td>\n",
       "      <td>2.3</td>\n",
       "    </tr>\n",
       "    <tr>\n",
       "      <th>95</th>\n",
       "      <td>5.7</td>\n",
       "      <td>3.0</td>\n",
       "      <td>4.2</td>\n",
       "      <td>1.2</td>\n",
       "    </tr>\n",
       "  </tbody>\n",
       "</table>\n",
       "</div>"
      ],
      "text/plain": [
       "     sepal length (cm)  sepal width (cm)  petal length (cm)  petal width (cm)\n",
       "84                 5.4               3.0                4.5               1.5\n",
       "3                  4.6               3.1                1.5               0.2\n",
       "66                 5.6               3.0                4.5               1.5\n",
       "135                7.7               3.0                6.1               2.3\n",
       "95                 5.7               3.0                4.2               1.2"
      ]
     },
     "execution_count": 5,
     "metadata": {},
     "output_type": "execute_result"
    }
   ],
   "source": [
    "import mlflow\n",
    "import pandas as pd\n",
    "from sklearn.datasets import load_iris\n",
    "from sklearn.linear_model import LogisticRegression\n",
    "from sklearn.model_selection import train_test_split\n",
    "\n",
    "# Load Iris dataset\n",
    "iris = load_iris()\n",
    "\n",
    "# Split dataset into X features and Target variable\n",
    "X = pd.DataFrame(data = iris[\"data\"], columns= iris[\"feature_names\"])\n",
    "y = pd.Series(data = iris[\"target\"], name=\"target\")\n",
    "\n",
    "# Split our training set and our test set \n",
    "X_train, X_test, y_train, y_test = train_test_split(X, y)\n",
    "\n",
    "# Visualize dataset \n",
    "X_train.head()"
   ]
  },
  {
   "cell_type": "markdown",
   "metadata": {},
   "source": [
    "Now to track your training, what you can do is simply to add:"
   ]
  },
  {
   "cell_type": "code",
   "execution_count": 6,
   "metadata": {},
   "outputs": [],
   "source": [
    "os.environ[\"APP_URI\"] = \"https://testmlflowserverrailway-production.up.railway.app\""
   ]
  },
  {
   "cell_type": "code",
   "execution_count": null,
   "metadata": {},
   "outputs": [],
   "source": [
    "# Set your variables for your environment\n",
    "EXPERIMENT_NAME=\"my-first-mlflow-experiment\"\n",
    "\n",
    "# Set tracking URI to your Heroku application\n",
    "mlflow.set_tracking_uri(os.environ[\"APP_URI\"])\n",
    "\n",
    "# Set experiment's info \n",
    "mlflow.set_experiment(EXPERIMENT_NAME)\n",
    "\n",
    "# Get our experiment info\n",
    "experiment = mlflow.get_experiment_by_name(EXPERIMENT_NAME)\n",
    "\n",
    "# Call mlflow autolog\n",
    "mlflow.sklearn.autolog()\n",
    "\n",
    "with mlflow.start_run(experiment_id = experiment.experiment_id):\n",
    "\n",
    "    # Instanciate and fit the model \n",
    "    lr = LogisticRegression()\n",
    "    lr.fit(X_train.values, y_train.values)\n",
    "\n",
    "    # Store metrics \n",
    "    predicted_qualities = lr.predict(X_test.values)\n",
    "    accuracy = lr.score(X_test.values, y_test.values)\n",
    "\n",
    "    # Print results \n",
    "    print(\"LogisticRegression model\")\n",
    "    print(\"Accuracy: {}\".format(accuracy))"
   ]
  },
  {
   "cell_type": "markdown",
   "metadata": {},
   "source": [
    "## Log Metrics \n",
    "\n",
    "As of now, we don't have much in our MLFLow UI as well as in our project directory. This is because we haven't logged anything yet. We are going to show you how to log a metric first. \n",
    "\n",
    "Do you remember? A metric is something you use to assess the performance of your model. In our case, we use the `accuracy`.\n",
    "\n",
    "To log a metric, we call:\n",
    "\n",
    "```python\n",
    "mlflow.log_metric(\"METRIC_NAME\", metric)\n",
    "```\n",
    "\n",
    "That's all. Here is how it looks in the code above:"
   ]
  },
  {
   "cell_type": "code",
   "execution_count": null,
   "metadata": {},
   "outputs": [],
   "source": [
    "# Set your variables for your environment\n",
    "EXPERIMENT_NAME=\"my-first-mlflow-experiment\"\n",
    "\n",
    "# Set tracking URI to your Heroku application\n",
    "mlflow.set_tracking_uri(os.environ[\"APP_URI\"])\n",
    "\n",
    "# Set experiment's info \n",
    "mlflow.set_experiment(EXPERIMENT_NAME)\n",
    "\n",
    "# Get our experiment info\n",
    "experiment = mlflow.get_experiment_by_name(EXPERIMENT_NAME)\n",
    "\n",
    "# Call mlflow autolog\n",
    "mlflow.sklearn.autolog()\n",
    "\n",
    "with mlflow.start_run(experiment_id = experiment.experiment_id):\n",
    "    # Instanciate and fit the model \n",
    "    lr = LogisticRegression()\n",
    "    lr.fit(X_train.values, y_train.values)\n",
    "\n",
    "    # Store metrics \n",
    "    predicted_qualities = lr.predict(X_test.values)\n",
    "    accuracy = lr.score(X_test.values, y_test.values)\n",
    "\n",
    "    # Print results \n",
    "    print(\"LogisticRegression model\")\n",
    "    print(\"Accuracy: {}\".format(accuracy))\n",
    "\n",
    "    # Log Metric \n",
    "    mlflow.log_metric(\"Accuracy\", accuracy)"
   ]
  },
  {
   "cell_type": "markdown",
   "metadata": {},
   "source": [
    "## Log Parameters \n",
    "\n",
    "You can also log parameters of your model to see which one where useful to improve your model's performance. The same way you would do it with metrics, you can log parameters by using: \n",
    "\n",
    "```python\n",
    "mlflow.log_param(\"PARAM_NAME\", param)\n",
    "```"
   ]
  },
  {
   "cell_type": "code",
   "execution_count": null,
   "metadata": {},
   "outputs": [
    {
     "name": "stdout",
     "output_type": "stream",
     "text": [
      "LogisticRegression model\n",
      "Accuracy: 1.0\n"
     ]
    }
   ],
   "source": [
    "# Set your variables for your environment\n",
    "EXPERIMENT_NAME=\"my-first-mlflow-experiment\"\n",
    "\n",
    "# Set tracking URI to your Heroku application\n",
    "mlflow.set_tracking_uri(os.environ[\"APP_URI\"])\n",
    "\n",
    "# Set experiment's info \n",
    "mlflow.set_experiment(EXPERIMENT_NAME)\n",
    "\n",
    "# Get our experiment info\n",
    "experiment = mlflow.get_experiment_by_name(EXPERIMENT_NAME)\n",
    "\n",
    "# Call mlflow autolog\n",
    "mlflow.sklearn.autolog()\n",
    "\n",
    "with mlflow.start_run(experiment_id = experiment.experiment_id):\n",
    "    # Specified Parameters \n",
    "    c = 0.5\n",
    "\n",
    "    # Instanciate and fit the model \n",
    "    lr = LogisticRegression(C=c)\n",
    "    lr.fit(X_train.values, y_train.values)\n",
    "\n",
    "    # Store metrics \n",
    "    predicted_qualities = lr.predict(X_test.values)\n",
    "    accuracy = lr.score(X_test.values, y_test.values)\n",
    "\n",
    "    # Print results \n",
    "    print(\"LogisticRegression model\")\n",
    "    print(\"Accuracy: {}\".format(accuracy))\n",
    "\n",
    "    # Log Metric \n",
    "    mlflow.log_metric(\"Accuracy\", accuracy)\n",
    "\n",
    "    # Log Param\n",
    "    mlflow.log_param(\"C\", c)"
   ]
  },
  {
   "cell_type": "markdown",
   "metadata": {},
   "source": [
    "If you go to your MLFlow UI again, you should see the following screen: \n",
    "\n",
    "![](https://full-stack-assets.s3.eu-west-3.amazonaws.com/images/mlflow-ui-log-params.png)"
   ]
  },
  {
   "cell_type": "markdown",
   "metadata": {},
   "source": [
    "Congratulations! You know how to track your models. This could be useful for your future projects 😉."
   ]
  },
  {
   "cell_type": "markdown",
   "metadata": {},
   "source": [
    "## MLFlow Models\n",
    "\n",
    "Let's talk about MlFlow models. The goal of this component is to provide a standard format for your Machine Learning models. This is especially useful when you want to deploy them later on any platform your company uses.\n",
    "\n",
    "<img src=\"https://full-stack-assets.s3.eu-west-3.amazonaws.com/images/mlflow-models.png\" width=\"600\" />"
   ]
  },
  {
   "cell_type": "markdown",
   "metadata": {},
   "source": [
    "### MLFlow flavors \n",
    "\n",
    "Before going into more details on MLFlow, let's talk about ***flavors***. These are basically mlflow tuned to the most widely know Machine Learning libraries. Here are all the flavors:\n",
    "\n",
    "<ul class=\"simple\">\n",
    "<li><a href=\"https://mlflow.org/docs/latest/models.html#python-function-python-function\">Python Function (<code>python_function</code>)</a></li>\n",
    "<li><a href=\"https://mlflow.org/docs/latest/models.html#r-function-crate\">R Function (<code>crate</code>)</a></li>\n",
    "<li><a href=\"https://mlflow.org/docs/latest/models.html#h2o-h2o\">H<sub>2</sub>O (<code>h2o</code>)</a></li>\n",
    "<li><a href=\"https://mlflow.org/docs/latest/models.html#keras-keras\">Keras (<code>keras</code>)</a></li>\n",
    "<li><a href=\"https://mlflow.org/docs/latest/models.html#mleap-mleap\">MLeap (<code>mleap</code>)</a></li>\n",
    "<li><a href=\"https://mlflow.org/docs/latest/models.html#pytorch-pytorch\">PyTorch (<code>pytorch</code>)</a></li>\n",
    "<li><a href=\"https://mlflow.org/docs/latest/models.html#scikit-learn-sklearn\">Scikit-learn (<code>sklearn</code>)</a></li>\n",
    "<li><a href=\"https://mlflow.org/docs/latest/models.html#spark-mllib-spark\">Spark MLlib (<code>spark</code>)</a></li>\n",
    "<li><a href=\"https://mlflow.org/docs/latest/models.html#tensorflow-tensorflow\">TensorFlow (<code>tensorflow</code>)</a></li>\n",
    "<li><a href=\"https://mlflow.org/docs/latest/models.html#onnx-onnx\">ONNX (<code>onnx</code>)</a></li>\n",
    "<li><a href=\"https://mlflow.org/docs/latest/models.html#mxnet-gluon-gluon\">MXNet Gluon (<code>gluon</code>)</a></li>\n",
    "<li><a href=\"https://mlflow.org/docs/latest/models.html#xgboost-xgboost\">XGBoost (<code>xgboost</code>)</a></li>\n",
    "<li><a href=\"https://mlflow.org/docs/latest/models.html#lightgbm-lightgbm\">LightGBM (<code>lightgbm</code>)</a></li>\n",
    "<li><a href=\"https://mlflow.org/docs/latest/models.html#catboost-catboost\">CatBoost (<code>catboost</code>)</a></li>\n",
    "<li><a href=\"https://mlflow.org/docs/latest/models.html#spacy-spacy\">Spacy(<code>spaCy</code>)</a></li>\n",
    "<li><a href=\"https://mlflow.org/docs/latest/models.html#fastai-fastai\">Fastai(<code>fastai</code>)</a></li>\n",
    "<li><a href=\"https://mlflow.org/docs/latest/models.html#statsmodels-statsmodels\">Statsmodels (<code>statsmodels</code>)</a></li>\n",
    "<li><a href=\"https://mlflow.org/docs/latest/models.html#prophet-prophet\">Prophet (<code>prophet</code>)</a></li>\n",
    "</ul>\n",
    "\n",
    "These classes are extremely useful as they come with built-in methods that you can use. We will show two of them in the next section 👇"
   ]
  },
  {
   "cell_type": "markdown",
   "metadata": {},
   "source": [
    "### Log your MLFlow model ⏲️\n",
    "\n",
    "If you want to be able to format your model, you will need to log it into MLFlow Tracking. This is actually very easy to do. You will simply call: `mlflow.flavors.log()` method:"
   ]
  },
  {
   "cell_type": "code",
   "execution_count": null,
   "metadata": {},
   "outputs": [],
   "source": [
    "# Set your variables for your environment\n",
    "EXPERIMENT_NAME=\"my-first-mlflow-experiment\"\n",
    "\n",
    "# Set tracking URI to your Heroku application\n",
    "mlflow.set_tracking_uri(os.environ[\"APP_URI\"])\n",
    "\n",
    "# Set experiment's info \n",
    "mlflow.set_experiment(EXPERIMENT_NAME)\n",
    "\n",
    "# Get our experiment info\n",
    "experiment = mlflow.get_experiment_by_name(EXPERIMENT_NAME)\n",
    "\n",
    "# Call mlflow autolog\n",
    "mlflow.sklearn.autolog()\n",
    "\n",
    "with mlflow.start_run(experiment_id = experiment.experiment_id):\n",
    "    # Specified Parameters \n",
    "    c = 0.5\n",
    "\n",
    "    # Instanciate and fit the model \n",
    "    lr = LogisticRegression(C=c)\n",
    "    lr.fit(X_train.values, y_train.values)\n",
    "\n",
    "    # Store metrics \n",
    "    predicted_qualities = lr.predict(X_test.values)\n",
    "    accuracy = lr.score(X_test.values, y_test.values)\n",
    "\n",
    "    # Print results \n",
    "    print(\"LogisticRegression model\")\n",
    "    print(\"Accuracy: {}\".format(accuracy))\n",
    "\n",
    "    # Log Metric \n",
    "    mlflow.log_metric(\"Accuracy\", accuracy)\n",
    "\n",
    "    # Log Param\n",
    "    mlflow.log_param(\"C\", c)\n",
    "\n",
    "    # Log model \n",
    "    mlflow.sklearn.log_model(lr, \"model\")"
   ]
  },
  {
   "cell_type": "markdown",
   "metadata": {},
   "source": [
    "## Autologs\n",
    "\n",
    "As you are running experiments, logging manually lots of parameters, metrics and models can be cumbersome. Fortunately, there is a solution to this problem. With each MLFlow flavor comes a great method `autolog()`. Therefore, you can simply do `mlflow.flavor_name.autolog()`. In the above example:"
   ]
  },
  {
   "cell_type": "code",
   "execution_count": null,
   "metadata": {},
   "outputs": [],
   "source": [
    "# Set your variables for your environment\n",
    "EXPERIMENT_NAME=\"my-first-mlflow-experiment\"\n",
    "\n",
    "# Set tracking URI to your Heroku application\n",
    "mlflow.set_tracking_uri(os.environ[\"APP_URI\"])\n",
    "\n",
    "# Set experiment's info \n",
    "mlflow.set_experiment(EXPERIMENT_NAME)\n",
    "\n",
    "# Get our experiment info\n",
    "experiment = mlflow.get_experiment_by_name(EXPERIMENT_NAME)\n",
    "\n",
    "# Call mlflow autolog\n",
    "mlflow.sklearn.autolog()\n",
    "\n",
    "with mlflow.start_run(experiment_id = experiment.experiment_id):\n",
    "    # Specified Parameters \n",
    "    c = 0.5\n",
    "\n",
    "    # Instanciate and fit the model \n",
    "    lr = LogisticRegression(C=c)\n",
    "    lr.fit(X_train.values, y_train.values)\n",
    "\n",
    "    # Store metrics \n",
    "    predicted_qualities = lr.predict(X_test.values)\n",
    "    accuracy = lr.score(X_test.values, y_test.values)\n",
    "\n",
    "    # Print results \n",
    "    print(\"LogisticRegression model\")\n",
    "    print(\"Accuracy: {}\".format(accuracy))"
   ]
  },
  {
   "cell_type": "markdown",
   "metadata": {},
   "source": [
    "You should see many more information on this last run 😉"
   ]
  },
  {
   "cell_type": "markdown",
   "metadata": {},
   "source": [
    "## Resources 📚📚\n",
    "\n",
    "* <a href=\"https://mlflow.org/docs/latest/tutorials-and-examples/tutorial.html\" target=\"_blank\">Mlflow Tutorial</a>\n",
    "* <a href=\"https://scikit-learn.org/stable/modules/generated/sklearn.linear_model.LogisticRegression.html\" target=\"_blank\">Logistic Regression</a>\n",
    "* <a href=\"https://www.youtube.com/watch?v=859OxXrt_TI\" target=\"_blank\">MLflow: An Open Platform to Simplify the Machine Learning Lifecycle</a>\n",
    "* <a href=\"https://mlflow.org/docs/latest/tutorials-and-examples/index.html\" target=\"_blank\">Tutorials & Example</a>"
   ]
  }
 ],
 "metadata": {
  "kernelspec": {
   "display_name": "Python 3.9.13 64-bit",
   "language": "python",
   "name": "python3"
  },
  "language_info": {
   "codemirror_mode": {
    "name": "ipython",
    "version": 3
   },
   "file_extension": ".py",
   "mimetype": "text/x-python",
   "name": "python",
   "nbconvert_exporter": "python",
   "pygments_lexer": "ipython3",
   "version": "3.9.12"
  },
  "vscode": {
   "interpreter": {
    "hash": "aee8b7b246df8f9039afb4144a1f6fd8d2ca17a180786b69acc140d282b71a49"
   }
  }
 },
 "nbformat": 4,
 "nbformat_minor": 4
}
