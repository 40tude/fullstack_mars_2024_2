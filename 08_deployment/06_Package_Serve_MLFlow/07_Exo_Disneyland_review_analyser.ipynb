{
 "cells": [
  {
   "cell_type": "markdown",
   "metadata": {},
   "source": [
    "![snap](https://media.giphy.com/media/7oh6S5qWAgBgc/giphy.gif)\n",
    "\n",
    "# Disneyland Review Analyser \n",
    "\n",
    "Let's practice MLFlow with **Deep Learning** this time. In this exercise, you will need to complete some Deep Learning code that classifies reviews from disneyland. \n",
    "\n",
    "## Your task\n",
    "\n",
    "To complete this exercise, you will need to:\n",
    "\n",
    "* Build a docker image that will standardize your working environment. \n",
    "    * If you are stuck, you can use: `jedha/tensorflow-simple-image`\n",
    "* Complete the code within `train.py` file to make it work\n",
    "* Create an `MLproject` file \n",
    "* Run the code locally or remotely (however you prefer)\n",
    "    `mlflow run GITHUB_URL -P YOUR_PARAMETER=YOUR_VALUE`\n",
    "\n",
    "---\n",
    "\n",
    "## Optional task\n",
    "\n",
    "If you want to practice remote training, you can try to run this code on EC2 instances with GPUs. The cheapest one with GPU installed is:\n",
    "\n",
    "* `g4dn.xlarge` - $0.615/h \n",
    "\n",
    "> 👋 You need to choose a specific AMI: *Deep Learning AMI (Amazon Linux 2) Version 56.0 - ami-0afac37ebdacee753*"
   ]
  }
 ],
 "metadata": {
  "kernelspec": {
   "display_name": "Python 3",
   "language": "python",
   "name": "python3"
  },
  "language_info": {
   "codemirror_mode": {
    "name": "ipython",
    "version": 3
   },
   "file_extension": ".py",
   "mimetype": "text/x-python",
   "name": "python",
   "nbconvert_exporter": "python",
   "pygments_lexer": "ipython3",
   "version": "3.7.6"
  }
 },
 "nbformat": 4,
 "nbformat_minor": 4
}
