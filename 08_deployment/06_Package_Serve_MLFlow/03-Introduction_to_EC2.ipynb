{
  "cells": [
    {
      "cell_type": "markdown",
      "metadata": {
        "colab_type": "text",
        "id": "hXsakFqpx-pr"
      },
      "source": [
        "# Introduction to Elastic Computing Cloud - EC2\n",
        "\n",
        "## What you will learn in this course 🧐🧐\n",
        "\n",
        "As you are becoming a better ML Engineer, you should know how Virtual Machines work. The most famous one are Amazon EC2 (*Elastic Compute Cloud*). In this course, you will learn:\n",
        "\n",
        "* How to set up an EC2 instance \n",
        "* What is SSH \n",
        "* How to SSH into an EC2 instance "
      ]
    },
    {
      "cell_type": "markdown",
      "metadata": {
        "colab_type": "text",
        "id": "Dbhukun4yU_t"
      },
      "source": [
        "### Definition \n",
        "\n",
        "EC2 stands for Elastic Computing Cloud and is simply a server or virtual machine that you can setup for your own business cases. You can use EC2 to create any kind of application, and make them accessible through the internet. \n",
        "\n",
        "In just a few minutes, you can have a server up and running and starting building on it. Which is one of the very cool advantages of the cloud. The other thing is that you scale capactity up and down according to demand in order to optimize your cost without degrading user experience. "
      ]
    },
    {
      "cell_type": "markdown",
      "metadata": {
        "colab_type": "text",
        "id": "gPIzg4__zQL7"
      },
      "source": [
        "### How to choose your instance 👌\n",
        "\n",
        "As you'll be building EC2 instances, you will be asked what kind of instances you need. This comes down to two questions : \n",
        "\n",
        "* What kind of computing power do you need?\n",
        "* What kind of storage capacity do you need?\n",
        "\n",
        "\n",
        "Depending on these two questions, you will need to choose different kinds of instances. To help you choose, here is a table of the different types of instances and their purpose : \n",
        "\n",
        "|Instance Type|Purpose|\n",
        "|-------------|-------|\n",
        "|F1|Useful for financial analytics, real time video processing or big data|\n",
        "|I3|This is used for storage. Good for databases|\n",
        "|G3|These are graphic intensive machines. Perfect for video encoding|\n",
        "|H1|Useful for Big Data|\n",
        "|T3|Used to create web servers and is relatively low cost|\n",
        "|D2|Stands for Dense Storage. Useful for Data Warehousing|\n",
        "|R5|Memory Optimized. Perfect for apps that requires a lot of memory usage|\n",
        "|M5|General Purpose|\n",
        "|C5|Compute Optimized. Useful for apps that requires a lot of CPU|\n",
        "|P3|General Purpose GPU. Perfect for Deep Learning|\n",
        "|X1|Memory Optimized as well. Used to run apps on SPARK for example|\n",
        "|Z1D|High compute capacity & high memory usage|\n",
        "\n",
        "You definitely don't need to remember all of these different instance types, just keep in mind that you can find an instance that will fit your needs. \n",
        "\n",
        "**NB**: If you need to check the exact instance type and pricing, you can go on your EC2 Dashboard and click on *Instance Types* "
      ]
    },
    {
      "cell_type": "markdown",
      "metadata": {
        "colab_type": "text",
        "id": "4wvMDqj1yXM3"
      },
      "source": [
        "### Pricing 🤑\n",
        "\n",
        "Just a quick overview of how you are going to be charged for EC2 usage. You have several ways you can be charged. The most common one is called *on demand* which allows you to pay a fixed price by the hour. \n",
        "\n",
        "There are several ways that we summarized in this table : \n",
        "\n",
        "|Pricing Type| Definition|\n",
        "|-----------|-----------|\n",
        "|On Demand| You pay by the hour|\n",
        "|Reserved| You pay up front for your usage. You most likely will have a 1 year contract. It will give you a significant discount compared to on demand|\n",
        "|Spot| You will bid for availability. It's the least costly way to use EC2 but you might not win the bid, therefore your instance might not be available at all time|\n",
        "|Dedicated Host| Sometimes, you might want to have a dedicated space for your company. It will provide more security but comes at a higher price|\n",
        "\n"
      ]
    },
    {
      "cell_type": "markdown",
      "metadata": {
        "colab_type": "text",
        "id": "CX0T7ijWztsN"
      },
      "source": [
        "## Setup an EC2 Instance \n",
        "\n",
        "Here is how the EC2 landing page looks like:\n",
        "\n",
        "![ec2_landing](https://full-stack-assets.s3.eu-west-3.amazonaws.com/images/0-M09-deployment/ec2_landing.png)\n",
        "\n",
        "Click on the instances button and you should see something like this:\n",
        "\n",
        "![ec2_dashboard](https://full-stack-assets.s3.eu-west-3.amazonaws.com/images/0-M09-deployment/ec2_instance_dashboard.png)\n",
        "\n",
        "Let's see how we can setup an EC2 instance via AWS GUI (Graphic User Interface) : \n",
        "\n",
    "<Video video='https://vimeo.com/727086159' />\n"
      ]
    },
    {
      "cell_type": "markdown",
      "metadata": {},
      "source": [
        "## Create a role on IAM\n",
        "\n",
        "In order for your ec2 to be able to start a docker container in which you'll setup mlflow, EC2 needs to access other services from AWS. To grant it access, you'll need to set up a role you'll assign to your instance.\n",
        "\n",
        "Here is how you will create your role\n",
        "\n",
    "<Video video='https://vimeo.com/727086215' />\n",
        "\n",
        "Now all we have to do is assign the role to our instance\n",
        "\n",
    "<Video video='https://vimeo.com/727086257' />\n"
      ]
    },
    {
      "cell_type": "markdown",
      "metadata": {
        "colab_type": "text",
        "id": "X6F0g7jOXz7u"
      },
      "source": [
        "**NB** : A good practice is to always try to prevent EC2 from failure. One good way to do so is to setup an EC2 instance into each availability zones !"
      ]
    },
    {
      "cell_type": "markdown",
      "metadata": {
        "colab_type": "text",
        "id": "dTu-7GrFQmef"
      },
      "source": [
        "## Connect to your EC2 instance - SSH 🌐"
      ]
    },
    {
      "cell_type": "markdown",
      "metadata": {
        "colab_type": "text",
        "id": "TK58jpYvSGB_"
      },
      "source": [
        "Now that we build our own EC2 instance, you will most likely need to access it and install some packages to configure it. This can be done thanks to SSH. \n",
        "\n",
        "SSH stands for **S**ecure **SH**ell. This is a protocol that lets you connect to a remote machine. For example, you can connect to your EC2 instance. Let's see how it works : \n",
        "\n",
    "<Video video='https://vimeo.com/727086116' />\n"
      ]
    },
    {
      "cell_type": "markdown",
      "metadata": {
        "colab_type": "text",
        "id": "-Ss_YC8Tkkqv"
      },
      "source": [
        "## Resources 📚📚\n",
        "\n",
        "* [Get started with EC2](https://aws.amazon.com/ec2/getting-started/)\n",
        "* [Install Python 3 on EC2](https://aws.amazon.com/premiumsupport/knowledge-center/ec2-linux-python3-boto3/)\n",
        "* [What is SSH](https://www.techtarget.com/searchsecurity/definition/Secure-Shell)"
      ]
    }
  ],
  "metadata": {
    "colab": {
      "collapsed_sections": [],
      "name": "3. Introduction to EC2.ipynb",
      "provenance": []
    },
    "kernelspec": {
      "display_name": "Python 3",
      "name": "python3"
    }
  },
  "nbformat": 4,
  "nbformat_minor": 0
}
