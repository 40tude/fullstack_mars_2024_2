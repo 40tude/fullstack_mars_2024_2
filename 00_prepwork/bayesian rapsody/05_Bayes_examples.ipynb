{
 "cells": [
  {
   "cell_type": "markdown",
   "metadata": {},
   "source": [
    "# Lire \n",
    "\n",
    "Pour les questions 01 et suivantes\n",
    "\n",
    "* https://towardsdatascience.com/on-the-importance-of-bayesian-thinking-in-everyday-life-a74475fcceeb"
   ]
  },
  {
   "cell_type": "markdown",
   "metadata": {},
   "source": [
    "# Problème 00 - Proba de sortir un 6 sachant que le dé n'est pas pipé\n",
    "\n",
    "* Quelle est la probabilité de sortir un 6 sachant que le dé n'est pas truqué ?\n",
    "* $ P(H | D) = \\frac{P(D|H) * P(H)}{P(D)} $\n",
    "\n",
    "* P(D | H) : likelihood\n",
    "  * vraissemblance. \n",
    "  * Si on suppose que la théorie est vraie, quelle serait la proba d'obtenir les données en question ?\n",
    "  * La probabilité que le dé ne soit pas truqué sachant qu’on a sorti un 6\n",
    "  * = 1\n",
    "\n",
    "* P(H) : proba de la théorie en l'état de nos connaissances. \n",
    "  * Avant qu'on ait connaissance des données de l'expérience. \n",
    "  * Le préjugé. \n",
    "  * Le jugement avant observation.\n",
    "  * la probabilité de sortir un 6 avec un dé à 6 faces\n",
    "  * = 1/6\n",
    "\n",
    "* P(D) : Terme de normalisation. \n",
    "  * La probabilité d'obtenir ces données que ce soit avec cette théorie ou une théorie alternative quelconque. \n",
    "  * $P(D) = \\sum P(D|H)*P(H) $ \n",
    "  * Le plus dur à déterminer. \n",
    "  * On peut s'en sortir si on veut juste comparer une théorie à une autre en faisant le rapport des deux\n",
    "  * La probabilité que le dé ne soit pas truqué (c’est une hypothèse)\n",
    "  * = 1\n",
    "\n",
    "* P(H | D) : posterior probability. \n",
    "  * Proba à posteriori\n",
    "  * Après avoir eu accès aux données. \n",
    "  * Quelle est la pobabilité que la théorie (l'hypothèse) explique les données ?\n",
    "  * Quelle est la probabilité de sortir un 6 sachant que le dé n'est pas truqué ?\n",
    "  * $ P(H | D) = P(\\text{Sort un 6}|\\text{Pas truqué}) = \\frac{P(\\text{Pas truqué} | \\text{Sort un 6}) * P(\\text{Sort un 6})}{P(\\text{Pas truqué})} = \\frac{1*\\frac{1}{6}}{1} = \\frac{1}{6} $\n"
   ]
  },
  {
   "cell_type": "markdown",
   "metadata": {},
   "source": [
    "# Problème 0 - Proba que le dé ne soit pas pipé sachant qu'on vient de sortir un 6\n",
    "\n",
    "* Quelle est la probabilité que le dé ne soit pas pipé sachant que je viens de sortir un 6\n",
    "* $ P(H | D) = \\frac{P(D|H) * P(H)}{P(D)} $\n",
    "\n",
    "* P(D | H) : likelihood\n",
    "  * vraissemblance. \n",
    "  * Si on suppose que la théorie est vraie, quelle serait la proba d'obtenir les données en question ?\n",
    "  * La probabilité de sortir un 6 avec un dé non pipé\n",
    "  * = 1/6\n",
    "\n",
    "* P(H) : proba de la théorie en l'état de nos connaissances. \n",
    "  * Avant qu'on ait connaissance des données de l'expérience. \n",
    "  * Le préjugé. \n",
    "  * Le jugement avant observation.\n",
    "  * la probabilité que le dé ne soit pas pipé. \n",
    "  * Cette dernière dépend du degré de trucage du dé\n",
    "  * On peut supposer qu’elle est faible. \n",
    "  * Si on considère qu’il y a 5% de chance que le dé soit pipé, alors P(H)=0.95.\n",
    "\n",
    "* P(D) : Terme de normalisation. \n",
    "  * La probabilité d'obtenir ces données que ce soit avec cette théorie ou une théorie alternative quelconque. \n",
    "  * $P(D) = \\sum P(D|H)*P(H) $ \n",
    "  * Le plus dur à déterminer. \n",
    "  * On peut s'en sortir si on veut juste comparer une théorie à une autre en faisant le rapport des deux\n",
    "  * la probabilité de sortir un 6, en utilisant la formule des probabilités totales\n",
    "  * $ P(D) = P(D|H)P(H) + P(D|Hbar)P(Hbar) = 1/6 * 0.95 + 2/6 * 0.05 = $\n",
    "\n",
    "\n",
    "* P(H | D) : posterior probability. \n",
    "  * Proba à posteriori\n",
    "  * Après avoir eu accès aux données. \n",
    "  * Quelle est la pobabilité que la théorie (l'hypothèse) explique les données ?\n",
    "  * Quelle est la probabilité que le dé ne soit pas truqué sachant qu'on vient de sortir un 6 ?\n",
    "  * $ P(H | D) = P(\\text{Pas pipé}|\\text{Sort un 6}) = \\frac{P(\\text{Sort un 6} | \\text{Pas pipé}) * P(\\text{Pas pipé})}{P(\\text{Sort un 6})} = \\frac{1/6*0.95}{1/6 * 0.95 + 2/6 * 0.05} = 0.86 $\n"
   ]
  },
  {
   "cell_type": "markdown",
   "metadata": {},
   "source": [
    "# Problème 1 - Fake coin ?\n",
    "* I have two coins: one is a regular, fair coin and the other is a fake coin with heads of both sides. \n",
    "* I pick one of them at random, toss it, and get heads. \n",
    "* What is the probability that I tossed the fake coin?"
   ]
  },
  {
   "cell_type": "markdown",
   "metadata": {},
   "source": [
    "$ P(H | D) = \\frac{P(D|H) * P(H)}{P(D)} $\n",
    "\n",
    "* P(H | D) : posterior probability. Proba à posteriori, après avoir eu accès aux données. Quelle est la pobabilité que la théorie (l'hypothèse) explique les données ?\n",
    "* P(H) : proba de la théorie en l'état de nos connaissances. Avant qu'on ait connaissance des données de l'expérience. Le préjugé. Le jugement avant observation.\n",
    "* P(D | H) : likelihood, vraissemblance. Si on suppose que la théorie est vraie, quelle serait la proba d'obtenir ces données ?\n",
    "* P(D) : Terme de normalisation. La probabilité d'obtenir ces données que ce soit avec cette théorie ou une théorie alternative quelconque. \n",
    "  * $P(D) = \\sum P(D|H)*P(H) $ \n",
    "  * Le plus dur à déterminer. \n",
    "  * On peut s'en sortir si on veut juste comparer une théorie à une autre en faisant le rapport des deux"
   ]
  },
  {
   "cell_type": "markdown",
   "metadata": {},
   "source": [
    "Dans cet exemple\n",
    "\n",
    "P(H)\n",
    "* P(H) = 1/2 car on a pris une des 2 pieces au hasard\n",
    "\n",
    "P(D|H)\n",
    "* P(D|H) = 1 car si on a pris la pice truquée, à tous les coups on obtient Face\n",
    "\n",
    "P(D)\n",
    "* P(D) = On obtient une Face par la piece truquée OU on obtient une Face avec une piece normale\n",
    "  * on a une chance sur 2 de choisir la piece truque => 1/2\n",
    "  * on a alors 100% de chance de sortire F\n",
    "  * on a une chance sur 2 de choisir la piece non truque => 1/2\n",
    "  * on a alors 50% de chance de sortire F\n",
    "  * P(D) = 1/2 * 100% + 1/2 * 50%\n",
    "\n",
    "P(H|D) = 2/3"
   ]
  },
  {
   "cell_type": "code",
   "execution_count": 1,
   "metadata": {},
   "outputs": [],
   "source": [
    "# prelude\n",
    "import pandas as pd"
   ]
  },
  {
   "cell_type": "code",
   "execution_count": 2,
   "metadata": {},
   "outputs": [],
   "source": [
    "def do_bayes_theorem(hypotheses, priors, likelihoods):\n",
    "  df = pd.DataFrame({\n",
    "      \"hypothesis\": hypotheses,\n",
    "      \"prior\": priors,\n",
    "      \"likelihood\": likelihoods,\n",
    "  })\n",
    "  df[\"posterior\"] = df[\"prior\"] * df[\"likelihood\"]\n",
    "  df[\"posterior\"] /= df[\"posterior\"].sum()\n",
    "  return df"
   ]
  },
  {
   "cell_type": "code",
   "execution_count": 3,
   "metadata": {},
   "outputs": [
    {
     "data": {
      "text/html": [
       "<div>\n",
       "<style scoped>\n",
       "    .dataframe tbody tr th:only-of-type {\n",
       "        vertical-align: middle;\n",
       "    }\n",
       "\n",
       "    .dataframe tbody tr th {\n",
       "        vertical-align: top;\n",
       "    }\n",
       "\n",
       "    .dataframe thead th {\n",
       "        text-align: right;\n",
       "    }\n",
       "</style>\n",
       "<table border=\"1\" class=\"dataframe\">\n",
       "  <thead>\n",
       "    <tr style=\"text-align: right;\">\n",
       "      <th></th>\n",
       "      <th>hypothesis</th>\n",
       "      <th>prior</th>\n",
       "      <th>likelihood</th>\n",
       "      <th>posterior</th>\n",
       "    </tr>\n",
       "  </thead>\n",
       "  <tbody>\n",
       "    <tr>\n",
       "      <th>0</th>\n",
       "      <td>fake_coin</td>\n",
       "      <td>0.5</td>\n",
       "      <td>1.0</td>\n",
       "      <td>0.666667</td>\n",
       "    </tr>\n",
       "    <tr>\n",
       "      <th>1</th>\n",
       "      <td>fair_coin</td>\n",
       "      <td>0.5</td>\n",
       "      <td>0.5</td>\n",
       "      <td>0.333333</td>\n",
       "    </tr>\n",
       "  </tbody>\n",
       "</table>\n",
       "</div>"
      ],
      "text/plain": [
       "  hypothesis  prior  likelihood  posterior\n",
       "0  fake_coin    0.5         1.0   0.666667\n",
       "1  fair_coin    0.5         0.5   0.333333"
      ]
     },
     "execution_count": 3,
     "metadata": {},
     "output_type": "execute_result"
    }
   ],
   "source": [
    "do_bayes_theorem([\"fake_coin\", \"fair_coin\"], [0.5, 0.5], [1, 0.5])"
   ]
  },
  {
   "cell_type": "markdown",
   "metadata": {},
   "source": [
    "# Problème 2 : les 2 enfants\n",
    "\n",
    "* Mr. Smith has two children. \n",
    "* At least one of them is a boy. \n",
    "* What is the probability that both children are boys?"
   ]
  },
  {
   "cell_type": "code",
   "execution_count": 4,
   "metadata": {},
   "outputs": [
    {
     "data": {
      "text/html": [
       "<div>\n",
       "<style scoped>\n",
       "    .dataframe tbody tr th:only-of-type {\n",
       "        vertical-align: middle;\n",
       "    }\n",
       "\n",
       "    .dataframe tbody tr th {\n",
       "        vertical-align: top;\n",
       "    }\n",
       "\n",
       "    .dataframe thead th {\n",
       "        text-align: right;\n",
       "    }\n",
       "</style>\n",
       "<table border=\"1\" class=\"dataframe\">\n",
       "  <thead>\n",
       "    <tr style=\"text-align: right;\">\n",
       "      <th></th>\n",
       "      <th>hypothesis</th>\n",
       "      <th>prior</th>\n",
       "      <th>likelihood</th>\n",
       "      <th>posterior</th>\n",
       "    </tr>\n",
       "  </thead>\n",
       "  <tbody>\n",
       "    <tr>\n",
       "      <th>0</th>\n",
       "      <td>GG</td>\n",
       "      <td>0.25</td>\n",
       "      <td>0.000000</td>\n",
       "      <td>0.000000</td>\n",
       "    </tr>\n",
       "    <tr>\n",
       "      <th>1</th>\n",
       "      <td>BB</td>\n",
       "      <td>0.25</td>\n",
       "      <td>0.333333</td>\n",
       "      <td>0.333333</td>\n",
       "    </tr>\n",
       "    <tr>\n",
       "      <th>2</th>\n",
       "      <td>GB</td>\n",
       "      <td>0.25</td>\n",
       "      <td>0.333333</td>\n",
       "      <td>0.333333</td>\n",
       "    </tr>\n",
       "    <tr>\n",
       "      <th>3</th>\n",
       "      <td>BG</td>\n",
       "      <td>0.25</td>\n",
       "      <td>0.333333</td>\n",
       "      <td>0.333333</td>\n",
       "    </tr>\n",
       "  </tbody>\n",
       "</table>\n",
       "</div>"
      ],
      "text/plain": [
       "  hypothesis  prior  likelihood  posterior\n",
       "0         GG   0.25    0.000000   0.000000\n",
       "1         BB   0.25    0.333333   0.333333\n",
       "2         GB   0.25    0.333333   0.333333\n",
       "3         BG   0.25    0.333333   0.333333"
      ]
     },
     "execution_count": 4,
     "metadata": {},
     "output_type": "execute_result"
    }
   ],
   "source": [
    "# Faire la liste de toutes les hypotheses\n",
    "hypotheses = [\"GG\", \"BB\", \"GB\", \"BG\"]\n",
    "\n",
    "# Faire la liste des a priori\n",
    "# Les préjugés. Les jugements avant observation.\n",
    "priors = [1/4, 1/4, 1/4, 1/4]\n",
    "\n",
    "# Faire la liste des vraissemblances\n",
    "# Faut supposer que l'hypothèse est vraie\n",
    "# Quelle chance alors d'obtenir les données\n",
    "likelihoods = [0, 1/3, 1/3, 1/3]\n",
    "do_bayes_theorem(hypotheses, priors, likelihoods)"
   ]
  },
  {
   "cell_type": "markdown",
   "metadata": {},
   "source": [
    "La proba d'avoir BB est 1/3"
   ]
  },
  {
   "cell_type": "markdown",
   "metadata": {},
   "source": [
    "# Problème 3 : COVID\n",
    "* Je fais un test\n",
    "* Il est négatif (selon le test je n'ai pas le COVID)\n",
    "* proba to be infected :  0.0168 \n",
    "* sensitivity is 97%. \n",
    "  * sensitivity = detection du virus chez les malades\n",
    "  * Taux de Vrai Positif (TP)\n",
    "  * => 3% de Faux Positifs (FP)\n",
    "* specificity is 99.1%\n",
    "  * specificity = detection de non virus ches les gens sains\n",
    "  * Taux de Vrai Negatif (TN)\n",
    "  * 0.9% de FN\n",
    "\n",
    "\n",
    "|   TN  |  FP |  \n",
    "|:-:    |:-:  |\n",
    "|   FN  | TP  |\n",
    "\n",
    "Precision :\n",
    "* colonne de dtorite\n",
    "* $ \\text{Precision}  = \\frac{TP}{TP+FP}$\n",
    "\n",
    "Recall : \n",
    "* ligne du bas\n",
    "* $ \\text{Recall} = \\frac{TP}{TP+FN}$\n",
    "\n",
    "Sensitivity :\n",
    "* ligne du bas\n",
    "* $ \\text{Sensitivity} = \\frac{TP}{TP+FN}$\n",
    "\n",
    "Specificity :\n",
    "* ligne du haut\n",
    "* $ \\text{Specificity} = \\frac{TN}{TN+FP}$\n",
    "\n",
    "\n"
   ]
  },
  {
   "cell_type": "code",
   "execution_count": 5,
   "metadata": {},
   "outputs": [
    {
     "data": {
      "text/html": [
       "<div>\n",
       "<style scoped>\n",
       "    .dataframe tbody tr th:only-of-type {\n",
       "        vertical-align: middle;\n",
       "    }\n",
       "\n",
       "    .dataframe tbody tr th {\n",
       "        vertical-align: top;\n",
       "    }\n",
       "\n",
       "    .dataframe thead th {\n",
       "        text-align: right;\n",
       "    }\n",
       "</style>\n",
       "<table border=\"1\" class=\"dataframe\">\n",
       "  <thead>\n",
       "    <tr style=\"text-align: right;\">\n",
       "      <th></th>\n",
       "      <th>hypothesis</th>\n",
       "      <th>prior</th>\n",
       "      <th>likelihood</th>\n",
       "      <th>posterior</th>\n",
       "    </tr>\n",
       "  </thead>\n",
       "  <tbody>\n",
       "    <tr>\n",
       "      <th>0</th>\n",
       "      <td>Santé</td>\n",
       "      <td>0.9832</td>\n",
       "      <td>0.991</td>\n",
       "      <td>0.999483</td>\n",
       "    </tr>\n",
       "    <tr>\n",
       "      <th>1</th>\n",
       "      <td>Malade</td>\n",
       "      <td>0.0168</td>\n",
       "      <td>0.030</td>\n",
       "      <td>0.000517</td>\n",
       "    </tr>\n",
       "  </tbody>\n",
       "</table>\n",
       "</div>"
      ],
      "text/plain": [
       "  hypothesis   prior  likelihood  posterior\n",
       "0      Santé  0.9832       0.991   0.999483\n",
       "1     Malade  0.0168       0.030   0.000517"
      ]
     },
     "execution_count": 5,
     "metadata": {},
     "output_type": "execute_result"
    }
   ],
   "source": [
    "# Faire la liste de toutes les hypotheses\n",
    "hypotheses = [\"Santé\", \"Malade\"]\n",
    "\n",
    "# Faire la liste des a priori\n",
    "# Les préjugés. Les jugements avant observation.\n",
    "priors = [1-0.0168, 0.0168]\n",
    "\n",
    "# Faire la liste des vraissemblances\n",
    "# Faut supposer que l'hypothèse est vraie\n",
    "# Quelle chance alors d'obtenir les données\n",
    "likelihoods = [99.1/100, 3/100]\n",
    "do_bayes_theorem(hypotheses, priors, likelihoods)"
   ]
  },
  {
   "cell_type": "markdown",
   "metadata": {},
   "source": [
    "* 99,94% de chance d'être effectivement pas malade\n",
    "\n",
    "Nouveaux à priori car je suis jeune et beau \n",
    "* on divise le prior par 2\n",
    "* passe de 0.0168 à 0.0084"
   ]
  },
  {
   "cell_type": "code",
   "execution_count": 6,
   "metadata": {},
   "outputs": [
    {
     "data": {
      "text/html": [
       "<div>\n",
       "<style scoped>\n",
       "    .dataframe tbody tr th:only-of-type {\n",
       "        vertical-align: middle;\n",
       "    }\n",
       "\n",
       "    .dataframe tbody tr th {\n",
       "        vertical-align: top;\n",
       "    }\n",
       "\n",
       "    .dataframe thead th {\n",
       "        text-align: right;\n",
       "    }\n",
       "</style>\n",
       "<table border=\"1\" class=\"dataframe\">\n",
       "  <thead>\n",
       "    <tr style=\"text-align: right;\">\n",
       "      <th></th>\n",
       "      <th>hypothesis</th>\n",
       "      <th>prior</th>\n",
       "      <th>likelihood</th>\n",
       "      <th>posterior</th>\n",
       "    </tr>\n",
       "  </thead>\n",
       "  <tbody>\n",
       "    <tr>\n",
       "      <th>0</th>\n",
       "      <td>Santé</td>\n",
       "      <td>0.9916</td>\n",
       "      <td>0.991</td>\n",
       "      <td>0.999744</td>\n",
       "    </tr>\n",
       "    <tr>\n",
       "      <th>1</th>\n",
       "      <td>Malade</td>\n",
       "      <td>0.0084</td>\n",
       "      <td>0.030</td>\n",
       "      <td>0.000256</td>\n",
       "    </tr>\n",
       "  </tbody>\n",
       "</table>\n",
       "</div>"
      ],
      "text/plain": [
       "  hypothesis   prior  likelihood  posterior\n",
       "0      Santé  0.9916       0.991   0.999744\n",
       "1     Malade  0.0084       0.030   0.000256"
      ]
     },
     "execution_count": 6,
     "metadata": {},
     "output_type": "execute_result"
    }
   ],
   "source": [
    "# Faire la liste de toutes les hypotheses\n",
    "hypotheses = [\"Santé\", \"Malade\"]\n",
    "\n",
    "# Faire la liste des a priori\n",
    "# Les préjugés. Les jugements avant observation.\n",
    "priors = [1-0.0084, 0.0084]\n",
    "\n",
    "# Faire la liste des vraissemblances\n",
    "# Faut supposer que l'hypothèse est vraie\n",
    "# Quelle chance alors d'obtenir les données\n",
    "likelihoods = [99.1/100, 3/100]\n",
    "do_bayes_theorem(hypotheses, priors, likelihoods)"
   ]
  },
  {
   "cell_type": "markdown",
   "metadata": {},
   "source": [
    "* On passe que à 99.97% (vs 99.94% avant)\n",
    "* Le a posteriori est peu sensible au posteriori mais plus au likelihood"
   ]
  },
  {
   "cell_type": "markdown",
   "metadata": {},
   "source": [
    "Qu'est qui se passe si je suis détecté positif ?"
   ]
  },
  {
   "cell_type": "code",
   "execution_count": 7,
   "metadata": {},
   "outputs": [
    {
     "data": {
      "text/html": [
       "<div>\n",
       "<style scoped>\n",
       "    .dataframe tbody tr th:only-of-type {\n",
       "        vertical-align: middle;\n",
       "    }\n",
       "\n",
       "    .dataframe tbody tr th {\n",
       "        vertical-align: top;\n",
       "    }\n",
       "\n",
       "    .dataframe thead th {\n",
       "        text-align: right;\n",
       "    }\n",
       "</style>\n",
       "<table border=\"1\" class=\"dataframe\">\n",
       "  <thead>\n",
       "    <tr style=\"text-align: right;\">\n",
       "      <th></th>\n",
       "      <th>hypothesis</th>\n",
       "      <th>prior</th>\n",
       "      <th>likelihood</th>\n",
       "      <th>posterior</th>\n",
       "    </tr>\n",
       "  </thead>\n",
       "  <tbody>\n",
       "    <tr>\n",
       "      <th>0</th>\n",
       "      <td>Santé</td>\n",
       "      <td>0.9832</td>\n",
       "      <td>0.009</td>\n",
       "      <td>0.351914</td>\n",
       "    </tr>\n",
       "    <tr>\n",
       "      <th>1</th>\n",
       "      <td>Malade</td>\n",
       "      <td>0.0168</td>\n",
       "      <td>0.970</td>\n",
       "      <td>0.648086</td>\n",
       "    </tr>\n",
       "  </tbody>\n",
       "</table>\n",
       "</div>"
      ],
      "text/plain": [
       "  hypothesis   prior  likelihood  posterior\n",
       "0      Santé  0.9832       0.009   0.351914\n",
       "1     Malade  0.0168       0.970   0.648086"
      ]
     },
     "execution_count": 7,
     "metadata": {},
     "output_type": "execute_result"
    }
   ],
   "source": [
    "# Faire la liste de toutes les hypotheses\n",
    "hypotheses = [\"Santé\", \"Malade\"]\n",
    "\n",
    "# Faire la liste des a priori\n",
    "# Les préjugés. Les jugements avant observation.\n",
    "priors = [1-0.0168, 0.0168]\n",
    "\n",
    "# Faire la liste des vraissemblances\n",
    "# Faut supposer que l'hypothèse est vraie\n",
    "# Quelle chance alors d'obtenir les données\n",
    "likelihoods = [0.9/100, 97/100]\n",
    "do_bayes_theorem(hypotheses, priors, likelihoods)"
   ]
  },
  {
   "cell_type": "code",
   "execution_count": 8,
   "metadata": {},
   "outputs": [
    {
     "data": {
      "text/html": [
       "<div>\n",
       "<style scoped>\n",
       "    .dataframe tbody tr th:only-of-type {\n",
       "        vertical-align: middle;\n",
       "    }\n",
       "\n",
       "    .dataframe tbody tr th {\n",
       "        vertical-align: top;\n",
       "    }\n",
       "\n",
       "    .dataframe thead th {\n",
       "        text-align: right;\n",
       "    }\n",
       "</style>\n",
       "<table border=\"1\" class=\"dataframe\">\n",
       "  <thead>\n",
       "    <tr style=\"text-align: right;\">\n",
       "      <th></th>\n",
       "      <th>hypothesis</th>\n",
       "      <th>prior</th>\n",
       "      <th>likelihood</th>\n",
       "      <th>posterior</th>\n",
       "    </tr>\n",
       "  </thead>\n",
       "  <tbody>\n",
       "    <tr>\n",
       "      <th>0</th>\n",
       "      <td>Santé</td>\n",
       "      <td>0.9916</td>\n",
       "      <td>0.009</td>\n",
       "      <td>0.522738</td>\n",
       "    </tr>\n",
       "    <tr>\n",
       "      <th>1</th>\n",
       "      <td>Malade</td>\n",
       "      <td>0.0084</td>\n",
       "      <td>0.970</td>\n",
       "      <td>0.477262</td>\n",
       "    </tr>\n",
       "  </tbody>\n",
       "</table>\n",
       "</div>"
      ],
      "text/plain": [
       "  hypothesis   prior  likelihood  posterior\n",
       "0      Santé  0.9916       0.009   0.522738\n",
       "1     Malade  0.0084       0.970   0.477262"
      ]
     },
     "execution_count": 8,
     "metadata": {},
     "output_type": "execute_result"
    }
   ],
   "source": [
    "# Faire la liste de toutes les hypotheses\n",
    "hypotheses = [\"Santé\", \"Malade\"]\n",
    "\n",
    "# Faire la liste des a priori\n",
    "# Les préjugés. Les jugements avant observation.\n",
    "priors = [1-0.0084, 0.0084]\n",
    "\n",
    "# Faire la liste des vraissemblances\n",
    "# Faut supposer que l'hypothèse est vraie\n",
    "# Quelle chance alors d'obtenir les données\n",
    "likelihoods = [0.9/100, 97/100]\n",
    "do_bayes_theorem(hypotheses, priors, likelihoods)"
   ]
  },
  {
   "cell_type": "markdown",
   "metadata": {},
   "source": [
    "* Je suis détecté malade MAIS en fait j'ai plus de chance d'être en bonne santé\n",
    "* Et ce malgré une sensitivité de 97%"
   ]
  },
  {
   "cell_type": "markdown",
   "metadata": {},
   "source": [
    "# Problème 4 : La scène de crime\n",
    "\n",
    "* A murder has been commited. \n",
    "* On the crime scene, two samples of blood were found: one of type “0” and one of type “AB”. \n",
    "* Type “0” is popular, 60% of the local population have it\n",
    "* while type “AB” is rare, only 1% of people have it. \n",
    "* A suspect has been found whose blood type is “0”. \n",
    "* Does this evidence alone make them more or less likely to be the murderer?"
   ]
  },
  {
   "cell_type": "code",
   "execution_count": 9,
   "metadata": {},
   "outputs": [
    {
     "data": {
      "text/html": [
       "<div>\n",
       "<style scoped>\n",
       "    .dataframe tbody tr th:only-of-type {\n",
       "        vertical-align: middle;\n",
       "    }\n",
       "\n",
       "    .dataframe tbody tr th {\n",
       "        vertical-align: top;\n",
       "    }\n",
       "\n",
       "    .dataframe thead th {\n",
       "        text-align: right;\n",
       "    }\n",
       "</style>\n",
       "<table border=\"1\" class=\"dataframe\">\n",
       "  <thead>\n",
       "    <tr style=\"text-align: right;\">\n",
       "      <th></th>\n",
       "      <th>hypothesis</th>\n",
       "      <th>prior</th>\n",
       "      <th>likelihood</th>\n",
       "      <th>posterior</th>\n",
       "    </tr>\n",
       "  </thead>\n",
       "  <tbody>\n",
       "    <tr>\n",
       "      <th>0</th>\n",
       "      <td>Coupable</td>\n",
       "      <td>0.5</td>\n",
       "      <td>0.010</td>\n",
       "      <td>0.454545</td>\n",
       "    </tr>\n",
       "    <tr>\n",
       "      <th>1</th>\n",
       "      <td>Innocent</td>\n",
       "      <td>0.5</td>\n",
       "      <td>0.012</td>\n",
       "      <td>0.545455</td>\n",
       "    </tr>\n",
       "  </tbody>\n",
       "</table>\n",
       "</div>"
      ],
      "text/plain": [
       "  hypothesis  prior  likelihood  posterior\n",
       "0   Coupable    0.5       0.010   0.454545\n",
       "1   Innocent    0.5       0.012   0.545455"
      ]
     },
     "execution_count": 9,
     "metadata": {},
     "output_type": "execute_result"
    }
   ],
   "source": [
    "# Faire la liste de toutes les hypotheses\n",
    "hypotheses = [\"Coupable\", \"Innocent\"]\n",
    "\n",
    "# Faire la liste des a priori\n",
    "# Les préjugés. Les jugements avant observation.\n",
    "priors = [1/2, 1/2]\n",
    "\n",
    "# Faire la liste des vraissemblances\n",
    "# Faut supposer que l'hypothèse est vraie\n",
    "# Quelle chance d'obtenir alors les données\n",
    "# Il est coupable. C'est lui qui amène le 0. La proba de trouver du AB c'est 1%\n",
    "# Il est pas coupable. Faut trouver du AB et du O => 60%*1% ou du O et du AB (=>2)\n",
    "# Je suis pas sûr de bien comprendre d'où vient le 2 dans l'article (question posée)\n",
    "# Pour moi c'est juste : 60/100 * 1/100\n",
    "likelihoods = [1/100, 60/100 * 1/100 + 1/100 * 60/100]\n",
    "do_bayes_theorem(hypotheses, priors, likelihoods)"
   ]
  }
 ],
 "metadata": {
  "kernelspec": {
   "display_name": "jedha",
   "language": "python",
   "name": "python3"
  },
  "language_info": {
   "codemirror_mode": {
    "name": "ipython",
    "version": 3
   },
   "file_extension": ".py",
   "mimetype": "text/x-python",
   "name": "python",
   "nbconvert_exporter": "python",
   "pygments_lexer": "ipython3",
   "version": "3.11.7"
  }
 },
 "nbformat": 4,
 "nbformat_minor": 2
}
