{
 "cells": [
  {
   "cell_type": "markdown",
   "metadata": {},
   "source": [
    "# Bayes pas à pas"
   ]
  },
  {
   "cell_type": "markdown",
   "metadata": {},
   "source": [
    "On veut comparer $P(\\text{Gagne} | \\text{NoSwitch})$ avec $P(\\text{Gagne} | \\text{Switch})$ pour déterminer la stratégie la plus efficace.\n",
    "\n",
    "Dans la suite on va supposer que :\n",
    "* On choisit P1\n",
    "* Monty ouvre P2\n",
    "\n",
    "On doit donc comparer \n",
    "1. $P(\\text{voiture derrière P1} | \\text{découvre P2})$ \n",
    "    * Cas où je choisi la porte 1. Il ouvre la 2. Je change pas d'avis. Je gagne\n",
    "1. $P(\\text{voiture derrière P3} | \\text{découvre P2})$\n",
    "    * Cas où je choisi la porte 1. Il ouvre la 2. Je change d'avis, je prends la 3. Je gagne\n",
    "\n",
    "Cela revient à comparer : \n",
    "\n",
    "* $ P(\\text{Gagne} | \\text{NoSwitch}) = P(\\text{voiture derrière P1} | \\text{découvre P2}) = \\frac{P(\\text{découvre P2} | \\text{voiture derrière P1}) * P(\\text{voiture derrière P1})}{P(\\text{découvre P2})} $\n",
    "\n",
    "* $ P(\\text{Gagne} | \\text{Switch}) = P(\\text{voiture derrière P3} | \\text{découvre P2}) = \\frac{P(\\text{découvre P2} | \\text{voiture derrière P3}) * P(\\text{voiture derrière P3})}{P(\\text{découvre P2})} $\n",
    "\n",
    "\n"
   ]
  },
  {
   "cell_type": "markdown",
   "metadata": {},
   "source": [
    "## Quand on ne change pas d'avis\n",
    "\n",
    "### Calcul de la vraissemblance $P(\\text{découvre P2} | \\text{voiture derrière P1})$ :\n",
    "  * La voiture est derrière P1\n",
    "  * Il peut ouvrir P2 ou P3\n",
    "  * Donc $P(\\text{découvre P2} | \\text{voiture derrière P1}) = 1/2$\n",
    "\n",
    "### Calcul de l'a priori $P(\\text{voiture derrière P1})$ :\n",
    "  * L'a priori c'est la proba sans avoir accès aux données, en l'état des connaissances...\n",
    "  * La voiture peut être derrière une des 3 portes\n",
    "  * Donc l'a priori $P(\\text{voiture derrière P1}) = 1/3$\n",
    "\n",
    "### Calcul du dénominateur $P(\\text{découvre P2})$ :\n",
    "On utilise la loi des probabilités totales\n",
    "* $P(D) = \\sum_{i \\in I} P(D \\cap A_i) = \\sum_{i \\in I} P(D | A_i) P(A_i) $ où Ai est une théorie/hypothèse alternative\n",
    "* $P(\\text{découvre P2}) =  P(\\text{découvre P2} | \\text{voiture derrière P1}) *   P(\\text{voiture derrière P1}) + P(\\text{découvre P2} | \\text{voiture derrière P3}) *   P(\\text{voiture derrière P3})  $\n",
    "* $P(\\text{découvre P2}) =  1/2 * 1/3 + 1* 1/3$\n",
    "* $P(\\text{découvre P2}) =  1/6 + 1/3$\n",
    "* $P(\\text{découvre P2}) =  1/2$\n",
    "\n",
    "### Conclusion\n",
    "* $ P(\\text{voiture derrière P1} | \\text{découvre P2}) = \\frac{P(\\text{découvre P2} | \\text{voiture derrière P1}) * P(\\text{voiture derrière P1})}{P(\\text{découvre P2})} $\n",
    "* $ P(\\text{voiture derrière P1} | \\text{découvre P2}) = \\frac{1/2 * 1/3}{1/2} = \\frac{1/6}{1/2} = \\frac{2}{6} = \\frac{1}{3}$\n",
    "* $ P(\\text{Gagne} | \\text{NoSwitch}) = \\frac{1}{3}$\n"
   ]
  },
  {
   "cell_type": "markdown",
   "metadata": {},
   "source": [
    "## Quand on change d'avis\n",
    "\n",
    "### Calcul de la vraissemblance $P(\\text{découvre P2} | \\text{voiture derrière P3})$ :\n",
    "  * La voiture est derrière P3\n",
    "  * Il ne peut ouvrir que P2  \n",
    "  * Donc $P(\\text{découvre P2} | \\text{voiture derrière P3}) = 1$\n",
    "\n",
    "### Calcul de l'a priori $P(\\text{voiture derrière P3})$\n",
    "  * L'a priori c'est la proba sans avoir accès aux données, en l'état des connaissances...\n",
    "  * La voiture peut être derrière une des 3 portes\n",
    "  * Donc l'a priori $P(\\text{voiture derrière P3}) = 1/3$\n",
    "\n",
    "### Calcul du dénominateur $P(\\text{découvre P2})$\n",
    "* $P(\\text{découvre P2}) =  1/2$\n",
    "\n",
    "### Conclusion\n",
    "* $ P(\\text{voiture derrière P3} | \\text{découvre P2}) = \\frac{P(\\text{découvre P2} | \\text{voiture derrière P3}) * P(\\text{voiture derrière P3})}{P(\\text{découvre P2})} $\n",
    "* $ P(\\text{voiture derrière P3} | \\text{découvre P2}) = \\frac{1 * 1/3}{1/2} = \\frac{1/3}{1/2} = \\frac{2}{3}$\n",
    "* $ P(\\text{Gagne} | \\text{Switch}) = \\frac{2}{3}$\n"
   ]
  },
  {
   "cell_type": "markdown",
   "metadata": {},
   "source": [
    "On a donc tout intérêt à changer d'avis car : \n",
    "\n",
    "$P(\\text{Gagne} | \\text{NoSwitch}) = 1/3$ \n",
    "\n",
    "$P(\\text{Gagne} | \\text{Switch}) = 2/3 $"
   ]
  },
  {
   "cell_type": "markdown",
   "metadata": {},
   "source": [
    "## Simulation Python associée"
   ]
  },
  {
   "cell_type": "code",
   "execution_count": 28,
   "metadata": {},
   "outputs": [
    {
     "data": {
      "text/html": [
       "<div>\n",
       "<style scoped>\n",
       "    .dataframe tbody tr th:only-of-type {\n",
       "        vertical-align: middle;\n",
       "    }\n",
       "\n",
       "    .dataframe tbody tr th {\n",
       "        vertical-align: top;\n",
       "    }\n",
       "\n",
       "    .dataframe thead th {\n",
       "        text-align: right;\n",
       "    }\n",
       "</style>\n",
       "<table border=\"1\" class=\"dataframe\">\n",
       "  <thead>\n",
       "    <tr style=\"text-align: right;\">\n",
       "      <th></th>\n",
       "      <th>hypothesis</th>\n",
       "      <th>prior</th>\n",
       "      <th>likelihood</th>\n",
       "      <th>posterior</th>\n",
       "    </tr>\n",
       "  </thead>\n",
       "  <tbody>\n",
       "    <tr>\n",
       "      <th>0</th>\n",
       "      <td>No switch</td>\n",
       "      <td>0.333333</td>\n",
       "      <td>0.5</td>\n",
       "      <td>0.333333</td>\n",
       "    </tr>\n",
       "    <tr>\n",
       "      <th>1</th>\n",
       "      <td>Switch</td>\n",
       "      <td>0.333333</td>\n",
       "      <td>1.0</td>\n",
       "      <td>0.666667</td>\n",
       "    </tr>\n",
       "  </tbody>\n",
       "</table>\n",
       "</div>"
      ],
      "text/plain": [
       "  hypothesis     prior  likelihood  posterior\n",
       "0  No switch  0.333333         0.5   0.333333\n",
       "1     Switch  0.333333         1.0   0.666667"
      ]
     },
     "execution_count": 28,
     "metadata": {},
     "output_type": "execute_result"
    }
   ],
   "source": [
    "# prelude\n",
    "import pandas as pd\n",
    "\n",
    "def do_bayes_theorem(hypotheses, priors, likelihoods):\n",
    "  df = pd.DataFrame({\n",
    "      \"hypothesis\": hypotheses,\n",
    "      \"prior\": priors,\n",
    "      \"likelihood\": likelihoods,\n",
    "  })\n",
    "  df[\"posterior\"] = df[\"prior\"] * df[\"likelihood\"]\n",
    "  df[\"posterior\"] = df[\"posterior\"] / df[\"posterior\"].sum()\n",
    "  return df\n",
    "\n",
    "# Faire la liste de toutes les hypotheses\n",
    "hypotheses = [\"No switch\", \"Switch\"]\n",
    "\n",
    "# Faire la liste des a priori\n",
    "priors = [1/3, 1/3]\n",
    "\n",
    "# Faire la liste des vraissemblances\n",
    "# Faut supposer que l'hypothèse est vraie\n",
    "likelihoods = [1/2, 1]\n",
    "do_bayes_theorem(hypotheses, priors, likelihoods)"
   ]
  },
  {
   "cell_type": "markdown",
   "metadata": {},
   "source": [
    "# Monty Hall - Théorie\n",
    "\n",
    "\n",
    "* Au départ la proba de gagner est de 1/3\n",
    "* Je choisis P1\n",
    "* L'animateur\n",
    "  * Si la voiture est en 1. Ouvre la 2 ou la 3. Proba = 1/2\n",
    "  * Si la voiture est en 2. Ouvre la 3. Proba = 1\n",
    "  * Si la voiture est en 3. Ouvre la 2. Proba = 1\n",
    "* Je ne switche pas\n",
    "  * Proba de gagner = 1/3\n",
    "* Je switche\n",
    "  * Si la voiture est en 1. Je vais en 2 ou en 3. Je perds\n",
    "  * Si la voiture est en 2. P3 est ouverte. Je vais en 2. Je gagne\n",
    "  * Si la voiture est en 3. P2 est ouverte. Je vais en 3. Je gagne\n",
    "  * Proba de gagner = 2/3\n",
    "  \n",
    "### Conclusion\n",
    "* Je ne switche pas. Proba de gagner = 1/3\n",
    "* Je switche. Proba de gagner = 2/3\n",
    "\n",
    "\n",
    "### On peut aller plus vite\n",
    "* Au départ la proba de gagner est de 1/3\n",
    "* Je choisis P1\n",
    "* L'animateur ouvre un rideau\n",
    "* Si je perd cela veut dire que la proba de gagner était 2/3"
   ]
  },
  {
   "cell_type": "markdown",
   "metadata": {},
   "source": [
    "# Simulation Python associée\n",
    "Le code ci-dessous montre qu'on retrouve bien les chiffres théoriques si on fait l'expérience 1000 fois de suite."
   ]
  },
  {
   "cell_type": "code",
   "execution_count": 22,
   "metadata": {},
   "outputs": [],
   "source": [
    "# prelude\n",
    "import numpy as np  "
   ]
  },
  {
   "cell_type": "code",
   "execution_count": 23,
   "metadata": {},
   "outputs": [],
   "source": [
    "def monty_hall(switch, reps=1_000):\n",
    "  wins = 0\n",
    "  doors = [1, 2, 3]\n",
    "  for _ in range(reps):\n",
    "    car_door = np.random.choice(doors)\n",
    "    chosen_door = np.random.choice(doors)\n",
    "    opened_door = np.random.choice([d for d in doors if d not in [chosen_door, car_door]])\n",
    "    if not switch:\n",
    "      wins += car_door == chosen_door\n",
    "    else:\n",
    "      new_chosen_door = [d for d in doors if d not in [chosen_door, opened_door]].pop()\n",
    "      wins += car_door == new_chosen_door\n",
    "  print(f\"Percentage of wins: {wins.sum() / reps * 100} %\")"
   ]
  },
  {
   "cell_type": "code",
   "execution_count": 24,
   "metadata": {},
   "outputs": [
    {
     "name": "stdout",
     "output_type": "stream",
     "text": [
      "Percentage of wins: 67.9 %\n",
      "Percentage of wins: 32.5 %\n"
     ]
    }
   ],
   "source": [
    "monty_hall(True)\n",
    "monty_hall(False)"
   ]
  }
 ],
 "metadata": {
  "kernelspec": {
   "display_name": "jedha",
   "language": "python",
   "name": "python3"
  },
  "language_info": {
   "codemirror_mode": {
    "name": "ipython",
    "version": 3
   },
   "file_extension": ".py",
   "mimetype": "text/x-python",
   "name": "python",
   "nbconvert_exporter": "python",
   "pygments_lexer": "ipython3",
   "version": "3.11.7"
  }
 },
 "nbformat": 4,
 "nbformat_minor": 2
}
