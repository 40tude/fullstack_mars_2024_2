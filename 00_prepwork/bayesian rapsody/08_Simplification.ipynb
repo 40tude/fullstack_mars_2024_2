{
 "cells": [
  {
   "cell_type": "markdown",
   "metadata": {},
   "source": [
    "# Simplification\n",
    "\n",
    "$ \\text{P(H | D)} = \\frac{\\text{P(D | H)} * \\text{P(H)} } {\\text{P(D)}}$\n",
    "\n",
    "Si $ \\text{P(H)}$ est beaucoup plus faible que $ \\text{P(D} | \\bar{H}) $\n",
    "\n",
    "  * $ \\text{P(D} | \\bar{H}) $ c'est la probabilité de faux positifs\n",
    "\n",
    "Alors $ \\text{P(H | D)} \\approx \\frac{\\text{P(H)} } {\\text{P(D} | \\bar{H})}$ \n",
    "  * Au dénominateur c'est bien H barre\n"
   ]
  },
  {
   "cell_type": "markdown",
   "metadata": {},
   "source": [
    "## Application numérique\n",
    "\n",
    "### Exemple 1\n",
    "Si $ \\text{P(H)} \\ll$ que le taux de faux positifs\n",
    "\n",
    "Alors, pour 1% de faux positifs\n",
    "\n",
    "$ \\text{P(H | D)} \\approx \\frac{\\text{P(H)} } {1\\%} = \\text{P(H)} * 100$\n",
    "\n",
    "\n",
    "### Exemple 2\n",
    "Si $ \\text{P(H)} \\ll$ que le taux de faux positifs\n",
    "\n",
    "Alors, pour 5% de faux positif\n",
    "\n",
    "$ \\text{P(H | D)} \\approx \\frac{\\text{P(H)} } {5\\%} = \\text{P(H)} * 20$\n",
    "\n",
    "\n",
    "### Exemple 3\n",
    "* Proba d'attraper le XYZ = 0.1 %\n",
    "* Test fiable à 99% => 1% de faux positifs\n",
    "* P(H|D) = $\\frac{0.1\\%}{1\\%}$ = 0.1% * 100 = 0.1 = 10%"
   ]
  },
  {
   "cell_type": "markdown",
   "metadata": {},
   "source": [
    "# A savoir refaire\n",
    "* On apporte une info D supposée prouver H\n",
    "* Question 1 : quelle était à priori la probabilité de H\n",
    "* Question 2 : quelle est la probabilité de faux positifs \n",
    "* $ \\text{P(H | D)} \\approx \\frac{\\text{P(H)} } {\\text{P(D} | \\bar{H})}$"
   ]
  },
  {
   "cell_type": "markdown",
   "metadata": {},
   "source": [
    "# Demo\n",
    "\n",
    "$ \\text{P(H | D)} = \\frac{\\text{P(D | H)} * \\text{P(H)} } {\\text{P(D)}}$\n",
    "\n",
    "On peut dire que $\\text{P(D | H)} \\approx 1 $ car D est normalement une preuve de H\n",
    "\n",
    "Si $\\text{P(D | H)} \\approx 1 $ alors $ \\text{P(H | D)} = \\frac{\\text{P(H)}}{\\text{P(D)}}$\n",
    "\n",
    "Pour le dénominateur on utilise la loi des probabilités totales :\n",
    "\n",
    "$P(D) = \\sum_{i \\in I} P(D \\cap A_i) = \\sum_{i \\in I} P(D | A_i) P(A_i) $ où Ai est une théorie/hypothèse alternative\n",
    "\n",
    "$P(D) = P(D|H)*P(H) + P(D|\\bar{H})*P(\\bar{H}) $\n",
    "\n",
    "Si $\\text{P(D | H)} \\approx 1 $ alors $P(D) = P(H) + P(D|\\bar{H})*P(\\bar{H}) $\n",
    "\n",
    "$P(D) = P(H) + P(D|\\bar{H})*(1-P(H)) $ car $P(\\bar{H}) = (1-P(H) $\n",
    "\n",
    "$P(D) = P(H) + P(D|\\bar{H}) - P(D|\\bar{H}) * P(H) $\n",
    "\n",
    "$P(D) = P(D|\\bar{H}) + P(H) - P(D|\\bar{H}) * P(H) $\n",
    "\n",
    "$P(D) = P(D|\\bar{H}) + P(H) * (1 - P(D|\\bar{H})) $\n",
    "\n",
    "$P(D) = P(D|\\bar{H}) + \\frac{P(H)}{P(D|\\bar{H}} * (P(D|\\bar{H} - P(D|\\bar{H}))^2) $\n",
    "\n",
    "Si $P(H) \\ll P(D|\\bar{H})$ alors le second terme est négligeable\n",
    "\n",
    "$P(D) \\approx P(D|\\bar{H})$\n",
    "\n",
    "Pour finir\n",
    "\n",
    "$ \\text{P(H | D)} = \\frac{\\text{P(H)}}{   P(D|\\bar{H})}$ (avec un H barre au dénominateur)\n"
   ]
  }
 ],
 "metadata": {
  "language_info": {
   "name": "python"
  }
 },
 "nbformat": 4,
 "nbformat_minor": 2
}
