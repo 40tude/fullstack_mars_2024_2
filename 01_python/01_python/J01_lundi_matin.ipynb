{
 "cells": [
  {
   "cell_type": "markdown",
   "metadata": {},
   "source": [
    "# Lundi 18 Mars\n"
   ]
  },
  {
   "cell_type": "markdown",
   "metadata": {},
   "source": [
    "* Catching up on Python\n",
    "* Voir https://app.jedha.co/course/catching-up-on-python-ft/catching-up-on-python-replay-fr-ft\n"
   ]
  }
 ],
 "metadata": {
  "language_info": {
   "name": "python"
  }
 },
 "nbformat": 4,
 "nbformat_minor": 2
}
