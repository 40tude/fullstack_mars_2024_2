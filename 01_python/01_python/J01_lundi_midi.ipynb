{
 "cells": [
  {
   "cell_type": "markdown",
   "metadata": {},
   "source": [
    "# Create a password\n",
    "\n",
    "* https://app.jedha.co/course/catching-up-on-python-ft/create-a-password-ft\n",
    "* À mon avis y a un problème d'affichache de la solution. \n",
    "  * Trop d'espaces entre les lettres. \n",
    "  * Je me conforme à la soution pour l'instant."
   ]
  },
  {
   "cell_type": "code",
   "execution_count": 1,
   "metadata": {},
   "outputs": [
    {
     "name": "stdout",
     "output_type": "stream",
     "text": [
      "Y    o    u         h    a    v    e         t    h    e         r    i    g    h    t         p    a    s    s    w    o    r    d    ! \n"
     ]
    }
   ],
   "source": [
    "pwd = \"Zoubida\"\n",
    "mdp = \"\"\n",
    "while (mdp!=pwd):\n",
    "  mdp = input(\"Entrez le mot de passe : \")\n",
    "# Y a un problème sur la page web de l'ennoncé : https://app.jedha.co/course/catching-up-on-python-ft/create-a-password-ft\n",
    "# Voir ci-dessous les espaces entre les lettres\n",
    "print(\"Y    o    u         h    a    v    e         t    h    e         r    i    g    h    t         p    a    s    s    w    o    r    d    ! \")"
   ]
  },
  {
   "cell_type": "markdown",
   "metadata": {},
   "source": [
    "# Manipulate data types\n",
    "\n",
    "https://app.jedha.co/course/catching-up-on-python-ft/manipulate-data-types-ft\n"
   ]
  },
  {
   "cell_type": "code",
   "execution_count": 2,
   "metadata": {},
   "outputs": [
    {
     "name": "stdout",
     "output_type": "stream",
     "text": [
      "Hello\n",
      "I\n",
      "Michel\n",
      "am\n"
     ]
    }
   ],
   "source": [
    "bob = [\"Hello\", \"I\", \"Michel\", \"am\"]\n",
    "for word in bob:\n",
    "  print(word)"
   ]
  },
  {
   "cell_type": "markdown",
   "metadata": {},
   "source": [
    "### Solution 1"
   ]
  },
  {
   "cell_type": "code",
   "execution_count": 3,
   "metadata": {},
   "outputs": [
    {
     "name": "stdout",
     "output_type": "stream",
     "text": [
      "Hello\n",
      "I\n",
      "am\n",
      "Michel\n"
     ]
    }
   ],
   "source": [
    "\n",
    "# We have a problem with this sentence, two words are reversed. Find a way to invert the last item with the next-to-last item...\n",
    "\n",
    "bob = [\"Hello\", \"I\", \"Michel\", \"am\"]\n",
    "\n",
    "before_last = bob[-2]\n",
    "bob[-2] = bob[-1]\n",
    "bob[-1] = before_last\n",
    "\n",
    "for word in bob:\n",
    "  print(word)"
   ]
  },
  {
   "cell_type": "markdown",
   "metadata": {},
   "source": [
    "### Solution 2"
   ]
  },
  {
   "cell_type": "code",
   "execution_count": 4,
   "metadata": {},
   "outputs": [
    {
     "name": "stdout",
     "output_type": "stream",
     "text": [
      "Hello\n",
      "I\n",
      "am\n",
      "Michel\n"
     ]
    }
   ],
   "source": [
    "\n",
    "# We have a problem with this sentence, two words are reversed. Find a way to invert the last item with the next-to-last item...\n",
    "\n",
    "bob = [\"Hello\", \"I\", \"Michel\", \"am\"]\n",
    "\n",
    "bob[-2] , bob[-1] = bob[-1], bob[-2]\n",
    "\n",
    "for word in bob:\n",
    "  print(word)"
   ]
  },
  {
   "cell_type": "markdown",
   "metadata": {},
   "source": [
    "### print avec list comprehension"
   ]
  },
  {
   "cell_type": "code",
   "execution_count": 5,
   "metadata": {},
   "outputs": [
    {
     "data": {
      "text/plain": [
       "['Hello', 'I', 'am', 'Michel']"
      ]
     },
     "execution_count": 5,
     "metadata": {},
     "output_type": "execute_result"
    }
   ],
   "source": [
    "bob = [\"Hello\", \"I\", \"Michel\", \"am\"]\n",
    "\n",
    "bob[-2] , bob[-1] = bob[-1], bob[-2]\n",
    "\n",
    "[word for word in bob]"
   ]
  },
  {
   "cell_type": "code",
   "execution_count": 6,
   "metadata": {},
   "outputs": [
    {
     "name": "stdout",
     "output_type": "stream",
     "text": [
      "9\n",
      "12\n",
      "16\n",
      "34\n",
      "58\n"
     ]
    }
   ],
   "source": [
    "bob = [12, 16, 34, 58, 9]\n",
    "bob.sort()\n",
    "for i in bob:\n",
    "  print(i)\n"
   ]
  },
  {
   "cell_type": "markdown",
   "metadata": {},
   "source": [
    "# Dictionaries"
   ]
  },
  {
   "cell_type": "code",
   "execution_count": 7,
   "metadata": {},
   "outputs": [],
   "source": [
    "import requests\n",
    "request = requests.get(\"https://swapi.dev/api/people/1/\")\n",
    "dic = request.json()"
   ]
  },
  {
   "cell_type": "code",
   "execution_count": 8,
   "metadata": {},
   "outputs": [
    {
     "name": "stdout",
     "output_type": "stream",
     "text": [
      "name\n",
      "height\n",
      "mass\n",
      "hair_color\n",
      "skin_color\n",
      "eye_color\n",
      "birth_year\n",
      "gender\n",
      "homeworld\n",
      "films\n",
      "species\n",
      "vehicles\n",
      "starships\n",
      "created\n",
      "edited\n",
      "url\n"
     ]
    }
   ],
   "source": [
    "for i in dic.keys():\n",
    "  print(i)"
   ]
  },
  {
   "cell_type": "code",
   "execution_count": 9,
   "metadata": {},
   "outputs": [
    {
     "name": "stdout",
     "output_type": "stream",
     "text": [
      "{'name': 'Luke Skywalker', 'height': '172', 'mass': '77', 'hair_color': 'blond', 'skin_color': 'fair', 'eye_color': 'blue', 'birth_year': '19BBY', 'gender': 'male', 'homeworld': 'https://swapi.dev/api/planets/1/', 'films': ['https://swapi.dev/api/films/1/', 'https://swapi.dev/api/films/2/', 'https://swapi.dev/api/films/3/', 'https://swapi.dev/api/films/6/'], 'species': [], 'vehicles': ['https://swapi.dev/api/vehicles/14/', 'https://swapi.dev/api/vehicles/30/'], 'starships': ['https://swapi.dev/api/starships/12/', 'https://swapi.dev/api/starships/22/'], 'created': '2014-12-09T13:50:51.644000Z', 'edited': '2014-12-20T21:17:56.891000Z', 'url': 'https://swapi.dev/api/people/1/'}\n"
     ]
    }
   ],
   "source": [
    "print (dic)\n",
    "pass"
   ]
  },
  {
   "cell_type": "code",
   "execution_count": 10,
   "metadata": {},
   "outputs": [
    {
     "name": "stdout",
     "output_type": "stream",
     "text": [
      "Luke Skywalker is 172 cm tall and weighs 77 kg. He was born in 19BBY\n"
     ]
    }
   ],
   "source": [
    "print(f\"{dic['name']} is {dic['height']} cm tall and weighs {dic['mass']} kg. He was born in {dic['birth_year']}\")"
   ]
  },
  {
   "cell_type": "code",
   "execution_count": 11,
   "metadata": {},
   "outputs": [],
   "source": [
    "import requests\n",
    "request = requests.get(\"https://swapi.dev/api/people/\")\n",
    "dic = request.json()"
   ]
  },
  {
   "cell_type": "code",
   "execution_count": 12,
   "metadata": {},
   "outputs": [
    {
     "name": "stdout",
     "output_type": "stream",
     "text": [
      "{'count': 82, 'next': 'https://swapi.dev/api/people/?page=2', 'previous': None, 'results': [{'name': 'Luke Skywalker', 'height': '172', 'mass': '77', 'hair_color': 'blond', 'skin_color': 'fair', 'eye_color': 'blue', 'birth_year': '19BBY', 'gender': 'male', 'homeworld': 'https://swapi.dev/api/planets/1/', 'films': ['https://swapi.dev/api/films/1/', 'https://swapi.dev/api/films/2/', 'https://swapi.dev/api/films/3/', 'https://swapi.dev/api/films/6/'], 'species': [], 'vehicles': ['https://swapi.dev/api/vehicles/14/', 'https://swapi.dev/api/vehicles/30/'], 'starships': ['https://swapi.dev/api/starships/12/', 'https://swapi.dev/api/starships/22/'], 'created': '2014-12-09T13:50:51.644000Z', 'edited': '2014-12-20T21:17:56.891000Z', 'url': 'https://swapi.dev/api/people/1/'}, {'name': 'C-3PO', 'height': '167', 'mass': '75', 'hair_color': 'n/a', 'skin_color': 'gold', 'eye_color': 'yellow', 'birth_year': '112BBY', 'gender': 'n/a', 'homeworld': 'https://swapi.dev/api/planets/1/', 'films': ['https://swapi.dev/api/films/1/', 'https://swapi.dev/api/films/2/', 'https://swapi.dev/api/films/3/', 'https://swapi.dev/api/films/4/', 'https://swapi.dev/api/films/5/', 'https://swapi.dev/api/films/6/'], 'species': ['https://swapi.dev/api/species/2/'], 'vehicles': [], 'starships': [], 'created': '2014-12-10T15:10:51.357000Z', 'edited': '2014-12-20T21:17:50.309000Z', 'url': 'https://swapi.dev/api/people/2/'}, {'name': 'R2-D2', 'height': '96', 'mass': '32', 'hair_color': 'n/a', 'skin_color': 'white, blue', 'eye_color': 'red', 'birth_year': '33BBY', 'gender': 'n/a', 'homeworld': 'https://swapi.dev/api/planets/8/', 'films': ['https://swapi.dev/api/films/1/', 'https://swapi.dev/api/films/2/', 'https://swapi.dev/api/films/3/', 'https://swapi.dev/api/films/4/', 'https://swapi.dev/api/films/5/', 'https://swapi.dev/api/films/6/'], 'species': ['https://swapi.dev/api/species/2/'], 'vehicles': [], 'starships': [], 'created': '2014-12-10T15:11:50.376000Z', 'edited': '2014-12-20T21:17:50.311000Z', 'url': 'https://swapi.dev/api/people/3/'}, {'name': 'Darth Vader', 'height': '202', 'mass': '136', 'hair_color': 'none', 'skin_color': 'white', 'eye_color': 'yellow', 'birth_year': '41.9BBY', 'gender': 'male', 'homeworld': 'https://swapi.dev/api/planets/1/', 'films': ['https://swapi.dev/api/films/1/', 'https://swapi.dev/api/films/2/', 'https://swapi.dev/api/films/3/', 'https://swapi.dev/api/films/6/'], 'species': [], 'vehicles': [], 'starships': ['https://swapi.dev/api/starships/13/'], 'created': '2014-12-10T15:18:20.704000Z', 'edited': '2014-12-20T21:17:50.313000Z', 'url': 'https://swapi.dev/api/people/4/'}, {'name': 'Leia Organa', 'height': '150', 'mass': '49', 'hair_color': 'brown', 'skin_color': 'light', 'eye_color': 'brown', 'birth_year': '19BBY', 'gender': 'female', 'homeworld': 'https://swapi.dev/api/planets/2/', 'films': ['https://swapi.dev/api/films/1/', 'https://swapi.dev/api/films/2/', 'https://swapi.dev/api/films/3/', 'https://swapi.dev/api/films/6/'], 'species': [], 'vehicles': ['https://swapi.dev/api/vehicles/30/'], 'starships': [], 'created': '2014-12-10T15:20:09.791000Z', 'edited': '2014-12-20T21:17:50.315000Z', 'url': 'https://swapi.dev/api/people/5/'}, {'name': 'Owen Lars', 'height': '178', 'mass': '120', 'hair_color': 'brown, grey', 'skin_color': 'light', 'eye_color': 'blue', 'birth_year': '52BBY', 'gender': 'male', 'homeworld': 'https://swapi.dev/api/planets/1/', 'films': ['https://swapi.dev/api/films/1/', 'https://swapi.dev/api/films/5/', 'https://swapi.dev/api/films/6/'], 'species': [], 'vehicles': [], 'starships': [], 'created': '2014-12-10T15:52:14.024000Z', 'edited': '2014-12-20T21:17:50.317000Z', 'url': 'https://swapi.dev/api/people/6/'}, {'name': 'Beru Whitesun lars', 'height': '165', 'mass': '75', 'hair_color': 'brown', 'skin_color': 'light', 'eye_color': 'blue', 'birth_year': '47BBY', 'gender': 'female', 'homeworld': 'https://swapi.dev/api/planets/1/', 'films': ['https://swapi.dev/api/films/1/', 'https://swapi.dev/api/films/5/', 'https://swapi.dev/api/films/6/'], 'species': [], 'vehicles': [], 'starships': [], 'created': '2014-12-10T15:53:41.121000Z', 'edited': '2014-12-20T21:17:50.319000Z', 'url': 'https://swapi.dev/api/people/7/'}, {'name': 'R5-D4', 'height': '97', 'mass': '32', 'hair_color': 'n/a', 'skin_color': 'white, red', 'eye_color': 'red', 'birth_year': 'unknown', 'gender': 'n/a', 'homeworld': 'https://swapi.dev/api/planets/1/', 'films': ['https://swapi.dev/api/films/1/'], 'species': ['https://swapi.dev/api/species/2/'], 'vehicles': [], 'starships': [], 'created': '2014-12-10T15:57:50.959000Z', 'edited': '2014-12-20T21:17:50.321000Z', 'url': 'https://swapi.dev/api/people/8/'}, {'name': 'Biggs Darklighter', 'height': '183', 'mass': '84', 'hair_color': 'black', 'skin_color': 'light', 'eye_color': 'brown', 'birth_year': '24BBY', 'gender': 'male', 'homeworld': 'https://swapi.dev/api/planets/1/', 'films': ['https://swapi.dev/api/films/1/'], 'species': [], 'vehicles': [], 'starships': ['https://swapi.dev/api/starships/12/'], 'created': '2014-12-10T15:59:50.509000Z', 'edited': '2014-12-20T21:17:50.323000Z', 'url': 'https://swapi.dev/api/people/9/'}, {'name': 'Obi-Wan Kenobi', 'height': '182', 'mass': '77', 'hair_color': 'auburn, white', 'skin_color': 'fair', 'eye_color': 'blue-gray', 'birth_year': '57BBY', 'gender': 'male', 'homeworld': 'https://swapi.dev/api/planets/20/', 'films': ['https://swapi.dev/api/films/1/', 'https://swapi.dev/api/films/2/', 'https://swapi.dev/api/films/3/', 'https://swapi.dev/api/films/4/', 'https://swapi.dev/api/films/5/', 'https://swapi.dev/api/films/6/'], 'species': [], 'vehicles': ['https://swapi.dev/api/vehicles/38/'], 'starships': ['https://swapi.dev/api/starships/48/', 'https://swapi.dev/api/starships/59/', 'https://swapi.dev/api/starships/64/', 'https://swapi.dev/api/starships/65/', 'https://swapi.dev/api/starships/74/'], 'created': '2014-12-10T16:16:29.192000Z', 'edited': '2014-12-20T21:17:50.325000Z', 'url': 'https://swapi.dev/api/people/10/'}]}\n"
     ]
    }
   ],
   "source": [
    "print (dic)\n"
   ]
  },
  {
   "cell_type": "code",
   "execution_count": 13,
   "metadata": {},
   "outputs": [
    {
     "name": "stdout",
     "output_type": "stream",
     "text": [
      "[{'name': 'Luke Skywalker', 'height': '172', 'mass': '77', 'hair_color': 'blond', 'skin_color': 'fair', 'eye_color': 'blue', 'birth_year': '19BBY', 'gender': 'male', 'homeworld': 'https://swapi.dev/api/planets/1/', 'films': ['https://swapi.dev/api/films/1/', 'https://swapi.dev/api/films/2/', 'https://swapi.dev/api/films/3/', 'https://swapi.dev/api/films/6/'], 'species': [], 'vehicles': ['https://swapi.dev/api/vehicles/14/', 'https://swapi.dev/api/vehicles/30/'], 'starships': ['https://swapi.dev/api/starships/12/', 'https://swapi.dev/api/starships/22/'], 'created': '2014-12-09T13:50:51.644000Z', 'edited': '2014-12-20T21:17:56.891000Z', 'url': 'https://swapi.dev/api/people/1/'}, {'name': 'C-3PO', 'height': '167', 'mass': '75', 'hair_color': 'n/a', 'skin_color': 'gold', 'eye_color': 'yellow', 'birth_year': '112BBY', 'gender': 'n/a', 'homeworld': 'https://swapi.dev/api/planets/1/', 'films': ['https://swapi.dev/api/films/1/', 'https://swapi.dev/api/films/2/', 'https://swapi.dev/api/films/3/', 'https://swapi.dev/api/films/4/', 'https://swapi.dev/api/films/5/', 'https://swapi.dev/api/films/6/'], 'species': ['https://swapi.dev/api/species/2/'], 'vehicles': [], 'starships': [], 'created': '2014-12-10T15:10:51.357000Z', 'edited': '2014-12-20T21:17:50.309000Z', 'url': 'https://swapi.dev/api/people/2/'}, {'name': 'R2-D2', 'height': '96', 'mass': '32', 'hair_color': 'n/a', 'skin_color': 'white, blue', 'eye_color': 'red', 'birth_year': '33BBY', 'gender': 'n/a', 'homeworld': 'https://swapi.dev/api/planets/8/', 'films': ['https://swapi.dev/api/films/1/', 'https://swapi.dev/api/films/2/', 'https://swapi.dev/api/films/3/', 'https://swapi.dev/api/films/4/', 'https://swapi.dev/api/films/5/', 'https://swapi.dev/api/films/6/'], 'species': ['https://swapi.dev/api/species/2/'], 'vehicles': [], 'starships': [], 'created': '2014-12-10T15:11:50.376000Z', 'edited': '2014-12-20T21:17:50.311000Z', 'url': 'https://swapi.dev/api/people/3/'}, {'name': 'Darth Vader', 'height': '202', 'mass': '136', 'hair_color': 'none', 'skin_color': 'white', 'eye_color': 'yellow', 'birth_year': '41.9BBY', 'gender': 'male', 'homeworld': 'https://swapi.dev/api/planets/1/', 'films': ['https://swapi.dev/api/films/1/', 'https://swapi.dev/api/films/2/', 'https://swapi.dev/api/films/3/', 'https://swapi.dev/api/films/6/'], 'species': [], 'vehicles': [], 'starships': ['https://swapi.dev/api/starships/13/'], 'created': '2014-12-10T15:18:20.704000Z', 'edited': '2014-12-20T21:17:50.313000Z', 'url': 'https://swapi.dev/api/people/4/'}, {'name': 'Leia Organa', 'height': '150', 'mass': '49', 'hair_color': 'brown', 'skin_color': 'light', 'eye_color': 'brown', 'birth_year': '19BBY', 'gender': 'female', 'homeworld': 'https://swapi.dev/api/planets/2/', 'films': ['https://swapi.dev/api/films/1/', 'https://swapi.dev/api/films/2/', 'https://swapi.dev/api/films/3/', 'https://swapi.dev/api/films/6/'], 'species': [], 'vehicles': ['https://swapi.dev/api/vehicles/30/'], 'starships': [], 'created': '2014-12-10T15:20:09.791000Z', 'edited': '2014-12-20T21:17:50.315000Z', 'url': 'https://swapi.dev/api/people/5/'}, {'name': 'Owen Lars', 'height': '178', 'mass': '120', 'hair_color': 'brown, grey', 'skin_color': 'light', 'eye_color': 'blue', 'birth_year': '52BBY', 'gender': 'male', 'homeworld': 'https://swapi.dev/api/planets/1/', 'films': ['https://swapi.dev/api/films/1/', 'https://swapi.dev/api/films/5/', 'https://swapi.dev/api/films/6/'], 'species': [], 'vehicles': [], 'starships': [], 'created': '2014-12-10T15:52:14.024000Z', 'edited': '2014-12-20T21:17:50.317000Z', 'url': 'https://swapi.dev/api/people/6/'}, {'name': 'Beru Whitesun lars', 'height': '165', 'mass': '75', 'hair_color': 'brown', 'skin_color': 'light', 'eye_color': 'blue', 'birth_year': '47BBY', 'gender': 'female', 'homeworld': 'https://swapi.dev/api/planets/1/', 'films': ['https://swapi.dev/api/films/1/', 'https://swapi.dev/api/films/5/', 'https://swapi.dev/api/films/6/'], 'species': [], 'vehicles': [], 'starships': [], 'created': '2014-12-10T15:53:41.121000Z', 'edited': '2014-12-20T21:17:50.319000Z', 'url': 'https://swapi.dev/api/people/7/'}, {'name': 'R5-D4', 'height': '97', 'mass': '32', 'hair_color': 'n/a', 'skin_color': 'white, red', 'eye_color': 'red', 'birth_year': 'unknown', 'gender': 'n/a', 'homeworld': 'https://swapi.dev/api/planets/1/', 'films': ['https://swapi.dev/api/films/1/'], 'species': ['https://swapi.dev/api/species/2/'], 'vehicles': [], 'starships': [], 'created': '2014-12-10T15:57:50.959000Z', 'edited': '2014-12-20T21:17:50.321000Z', 'url': 'https://swapi.dev/api/people/8/'}, {'name': 'Biggs Darklighter', 'height': '183', 'mass': '84', 'hair_color': 'black', 'skin_color': 'light', 'eye_color': 'brown', 'birth_year': '24BBY', 'gender': 'male', 'homeworld': 'https://swapi.dev/api/planets/1/', 'films': ['https://swapi.dev/api/films/1/'], 'species': [], 'vehicles': [], 'starships': ['https://swapi.dev/api/starships/12/'], 'created': '2014-12-10T15:59:50.509000Z', 'edited': '2014-12-20T21:17:50.323000Z', 'url': 'https://swapi.dev/api/people/9/'}, {'name': 'Obi-Wan Kenobi', 'height': '182', 'mass': '77', 'hair_color': 'auburn, white', 'skin_color': 'fair', 'eye_color': 'blue-gray', 'birth_year': '57BBY', 'gender': 'male', 'homeworld': 'https://swapi.dev/api/planets/20/', 'films': ['https://swapi.dev/api/films/1/', 'https://swapi.dev/api/films/2/', 'https://swapi.dev/api/films/3/', 'https://swapi.dev/api/films/4/', 'https://swapi.dev/api/films/5/', 'https://swapi.dev/api/films/6/'], 'species': [], 'vehicles': ['https://swapi.dev/api/vehicles/38/'], 'starships': ['https://swapi.dev/api/starships/48/', 'https://swapi.dev/api/starships/59/', 'https://swapi.dev/api/starships/64/', 'https://swapi.dev/api/starships/65/', 'https://swapi.dev/api/starships/74/'], 'created': '2014-12-10T16:16:29.192000Z', 'edited': '2014-12-20T21:17:50.325000Z', 'url': 'https://swapi.dev/api/people/10/'}]\n"
     ]
    }
   ],
   "source": [
    "my_list = dic[\"results\"]\n",
    "print(my_list)"
   ]
  },
  {
   "cell_type": "code",
   "execution_count": 14,
   "metadata": {},
   "outputs": [
    {
     "name": "stdout",
     "output_type": "stream",
     "text": [
      "Luke Skywalker is 172 cm tall and weighs 77 kg. He was born in 19BBY\n",
      "C-3PO is 167 cm tall and weighs 75 kg. It was born in 112BBY\n",
      "R2-D2 is 96 cm tall and weighs 32 kg. It was born in 33BBY\n",
      "Darth Vader is 202 cm tall and weighs 136 kg. He was born in 41.9BBY\n",
      "Leia Organa is 150 cm tall and weighs 49 kg. She was born in 19BBY\n",
      "Owen Lars is 178 cm tall and weighs 120 kg. He was born in 52BBY\n",
      "Beru Whitesun lars is 165 cm tall and weighs 75 kg. She was born in 47BBY\n",
      "R5-D4 is 97 cm tall and weighs 32 kg. It was born in unknown\n",
      "Biggs Darklighter is 183 cm tall and weighs 84 kg. He was born in 24BBY\n",
      "Obi-Wan Kenobi is 182 cm tall and weighs 77 kg. He was born in 57BBY\n"
     ]
    }
   ],
   "source": [
    "for i in range (len(my_list)):\n",
    "  bob = my_list[i]\n",
    "  if bob['gender']==\"female\":\n",
    "    my_gender = \"She\"\n",
    "  elif bob['gender']==\"n/a\":\n",
    "    my_gender = \"It\"\n",
    "  else :  \n",
    "    my_gender = \"He\"\n",
    "\n",
    "  print(f\"{bob['name']} is {bob['height']} cm tall and weighs {bob['mass']} kg. {my_gender} was born in {bob['birth_year']}\")"
   ]
  },
  {
   "cell_type": "markdown",
   "metadata": {},
   "source": [
    "### La solution ci-dessous utilise un `switch` statement"
   ]
  },
  {
   "cell_type": "code",
   "execution_count": 15,
   "metadata": {},
   "outputs": [
    {
     "name": "stdout",
     "output_type": "stream",
     "text": [
      "Luke Skywalker is 172 cm tall and weighs 77 kg. He was born in 19BBY\n",
      "C-3PO is 167 cm tall and weighs 75 kg. It was born in 112BBY\n",
      "R2-D2 is 96 cm tall and weighs 32 kg. It was born in 33BBY\n",
      "Darth Vader is 202 cm tall and weighs 136 kg. He was born in 41.9BBY\n",
      "Leia Organa is 150 cm tall and weighs 49 kg. She was born in 19BBY\n",
      "Owen Lars is 178 cm tall and weighs 120 kg. He was born in 52BBY\n",
      "Beru Whitesun lars is 165 cm tall and weighs 75 kg. She was born in 47BBY\n",
      "R5-D4 is 97 cm tall and weighs 32 kg. It was born in unknown\n",
      "Biggs Darklighter is 183 cm tall and weighs 84 kg. He was born in 24BBY\n",
      "Obi-Wan Kenobi is 182 cm tall and weighs 77 kg. He was born in 57BBY\n"
     ]
    }
   ],
   "source": [
    "for i in range (len(my_list)):\n",
    "  bob = my_list[i]\n",
    "  match bob[\"gender\"]:  \n",
    "    case \"female\":\n",
    "      my_gender = \"She\"\n",
    "    case \"n/a\":\n",
    "      my_gender = \"It\"\n",
    "    case _ :  \n",
    "      my_gender = \"He\"\n",
    "  \n",
    "  print(f\"{bob['name']} is {bob['height']} cm tall and weighs {bob['mass']} kg. {my_gender} was born in {bob['birth_year']}\")"
   ]
  },
  {
   "cell_type": "markdown",
   "metadata": {},
   "source": [
    "### Ma solution complète"
   ]
  },
  {
   "cell_type": "code",
   "execution_count": 16,
   "metadata": {},
   "outputs": [
    {
     "name": "stdout",
     "output_type": "stream",
     "text": [
      "Luke Skywalker is 172 cm tall and weighs 77 kg. He was born in 19BBY\n",
      "C-3PO is 167 cm tall and weighs 75 kg. It was born in 112BBY\n",
      "R2-D2 is 96 cm tall and weighs 32 kg. It was born in 33BBY\n",
      "Darth Vader is 202 cm tall and weighs 136 kg. He was born in 41.9BBY\n",
      "Leia Organa is 150 cm tall and weighs 49 kg. She was born in 19BBY\n",
      "Owen Lars is 178 cm tall and weighs 120 kg. He was born in 52BBY\n",
      "Beru Whitesun lars is 165 cm tall and weighs 75 kg. She was born in 47BBY\n",
      "R5-D4 is 97 cm tall and weighs 32 kg. It was born in unknown\n",
      "Biggs Darklighter is 183 cm tall and weighs 84 kg. He was born in 24BBY\n",
      "Obi-Wan Kenobi is 182 cm tall and weighs 77 kg. He was born in 57BBY\n"
     ]
    }
   ],
   "source": [
    "import requests\n",
    "request = requests.get(\"https://swapi.dev/api/people\") # ! c'est pas people/1 mais /people\n",
    "dic = request.json()\n",
    "\n",
    "my_list = dic[\"results\"]\n",
    "for i in range (len(my_list)):\n",
    "  actor = my_list[i]\n",
    "  match actor[\"gender\"]:  \n",
    "    case \"female\":\n",
    "      my_gender = \"She\"\n",
    "    case \"n/a\":\n",
    "      my_gender = \"It\"\n",
    "    case _ :  \n",
    "      my_gender = \"He\"\n",
    "  \n",
    "  print(f\"{actor['name']} is {actor['height']} cm tall and weighs {actor['mass']} kg. {my_gender} was born in {actor['birth_year']}\")"
   ]
  },
  {
   "cell_type": "markdown",
   "metadata": {},
   "source": [
    "# Slices\n"
   ]
  },
  {
   "cell_type": "code",
   "execution_count": 17,
   "metadata": {},
   "outputs": [
    {
     "name": "stdout",
     "output_type": "stream",
     "text": [
      "Moyenne = 156.0\n"
     ]
    }
   ],
   "source": [
    "kilometres_travelled = [50, 10, 100, 25, 1000, 21, 12,30]\n",
    "\n",
    "# Using a loop, calculate the total average of all the users' trips\n",
    "sum=0\n",
    "for i in kilometres_travelled:\n",
    "  sum +=i\n",
    "print(f\"Moyenne = {sum/len(kilometres_travelled)}\")  "
   ]
  },
  {
   "cell_type": "code",
   "execution_count": 18,
   "metadata": {},
   "outputs": [
    {
     "name": "stdout",
     "output_type": "stream",
     "text": [
      "Moyenne = 35.43\n"
     ]
    }
   ],
   "source": [
    "# Change the variable kilometers_travelled to have a more representative average\n",
    "\n",
    "my_max = max(kilometres_travelled)\n",
    "kilometres_travelled.remove(my_max)\n",
    "sum=0\n",
    "for i in kilometres_travelled:\n",
    "  sum +=i\n",
    "print(f\"Moyenne = {sum/len(kilometres_travelled):0.2f}\")  "
   ]
  },
  {
   "cell_type": "markdown",
   "metadata": {},
   "source": [
    "# Create functions\n",
    "\n",
    "https://app.jedha.co/course/catching-up-on-python-ft/create-functions-ft"
   ]
  },
  {
   "cell_type": "code",
   "execution_count": 19,
   "metadata": {},
   "outputs": [],
   "source": [
    "# Declare a function that returns the square root of a number. We'll call it sqrt()\n",
    "import math\n",
    "def my_sqrt(bob):\n",
    "  # ! no assert, no except-try\n",
    "  # ! no type hint, no docstring\n",
    "  return math.sqrt(bob)\n"
   ]
  },
  {
   "cell_type": "code",
   "execution_count": 20,
   "metadata": {},
   "outputs": [
    {
     "name": "stdout",
     "output_type": "stream",
     "text": [
      "The result is : 5.0\n"
     ]
    }
   ],
   "source": [
    "print(f\"The result is : {my_sqrt(25.0)}\")"
   ]
  },
  {
   "cell_type": "markdown",
   "metadata": {},
   "source": [
    "# OPTIONAL Calculate interests\n",
    "\n",
    "https://app.jedha.co/course/catching-up-on-python-ft/optional-calculate-interests-ft"
   ]
  },
  {
   "cell_type": "code",
   "execution_count": 21,
   "metadata": {},
   "outputs": [],
   "source": [
    "# The user should be able to call the function which will then ask for :\n",
    "# The total amount he wishes to place\n",
    "# The number of years he wants to invest his money for\n",
    "# The rate of interest to which he is entitled\n",
    "\n",
    "\n",
    "# Pay attention to the errors that the user may enter.\n",
    "#   If he enters a string of characters rather than a number, an error should be displayed.\n",
    "#   If the user enters negative numbers, an error should also be output.\n",
    "#   Finally, it is very likely that the user will write the interest rate as a percentage (e.g. 10%). Raise an error if this is the case, to prevent him from inputting a percentage.\n",
    "#   Finally, the program should only show one number with a maximum of two digits after the decimal point.\n",
    "\n",
    "def interrest(amount:float=0.0, nb_years:float=0.0, rate:float=0.0)-> float:\n",
    "  \"\"\"Retourne le montant des inerrêts composés.\"\"\"\n",
    "  return amount*(1+rate)**nb_years\n",
    "\n",
    "# Testing\n",
    "# deposit = 1000.0\n",
    "# years   = 10.0\n",
    "# rate    = 10.0            # 10%\n",
    "# print(f\"The total amount of money you will have after you deposit {deposit:.2f} € at {rate:.2f}% for {years:.2f} years will be {interrest(deposit, years, rate/100):.2f} €\")\n"
   ]
  },
  {
   "cell_type": "code",
   "execution_count": 22,
   "metadata": {},
   "outputs": [
    {
     "name": "stdout",
     "output_type": "stream",
     "text": [
      "The total amount of money you will have after you deposit 100.00 € at 10.00% for 10.00 years will be 259.37 €\n"
     ]
    }
   ],
   "source": [
    "try:\n",
    "  deposit = float(input(\"Montant initial : \"))\n",
    "  if (deposit < 0) :\n",
    "    raise ValueError\n",
    "except ValueError:\n",
    "  print(\"Le montant devrait être un nombre positif.\")\n",
    "  deposit = 0\n",
    "\n",
    "try:\n",
    "  years = float(input(\"Nombre d'années : \"))\n",
    "  if (years < 0) :\n",
    "    raise ValueError\n",
    "except ValueError:\n",
    "  print(\"Le nb d'années devrait être un nombre positif.\")\n",
    "  years = 0.0\n",
    "\n",
    "try:\n",
    "  rate = float(input(\"Taux d'interrêt : \"))\n",
    "  if (rate < 0) :\n",
    "    raise ValueError\n",
    "except ValueError:\n",
    "  print(\"Le taux d'interrêt devrait être un nombre positif.\")\n",
    "  rate = 0\n",
    "\n",
    "print(f\"The total amount of money you will have after you deposit {deposit:.2f} € at {rate:.2f}% for {years:.2f} years will be {interrest(deposit, years, rate/100):.2f} €\")"
   ]
  },
  {
   "cell_type": "markdown",
   "metadata": {},
   "source": [
    "### Une classe pour valider les entrées"
   ]
  },
  {
   "cell_type": "code",
   "execution_count": 23,
   "metadata": {},
   "outputs": [],
   "source": [
    "class UserInput:\n",
    "  \"\"\" A simple class to validate user input  \"\"\"\n",
    "  def __init__(self, datatype, prompt=\"\"):\n",
    "    while True:\n",
    "      try:\n",
    "        if(prompt!=\"\"):\n",
    "          self.value = datatype(input(prompt + \" :\"))\n",
    "        else:\n",
    "          self.value = datatype(input())\n",
    "        break\n",
    "      except ValueError:\n",
    "        print(\"Le montant devrait être un nombre\")\n",
    "        # self.value = 0\n"
   ]
  },
  {
   "cell_type": "code",
   "execution_count": 24,
   "metadata": {},
   "outputs": [
    {
     "name": "stdout",
     "output_type": "stream",
     "text": [
      "100.0\n",
      "Le montant devrait être un nombre\n",
      "232.0\n",
      "5\n"
     ]
    }
   ],
   "source": [
    "# Testing\n",
    "deposit = UserInput(float, \"Montant initial\").value\n",
    "print (deposit)\n",
    "\n",
    "deposit = UserInput(float).value\n",
    "print (deposit)\n",
    "\n",
    "deposit = UserInput(int, \"Saisir un entier\").value\n",
    "print (deposit)\n",
    "\n"
   ]
  },
  {
   "cell_type": "markdown",
   "metadata": {},
   "source": [
    "### Solution avec la classe `UserInput`"
   ]
  },
  {
   "cell_type": "code",
   "execution_count": 25,
   "metadata": {},
   "outputs": [
    {
     "name": "stdout",
     "output_type": "stream",
     "text": [
      "The total amount of money you will have after you deposit 11.00 € at 2.00% for 10.00 years will be 13.41 €\n"
     ]
    }
   ],
   "source": [
    "deposit = UserInput(float, \"Montant initial\").value\n",
    "years   = UserInput(float, \"Nombre d'années\").value\n",
    "rate    = UserInput(float, \"Taux d'interrêt\").value\n",
    "\n",
    "print(f\"The total amount of money you will have after you deposit {deposit:.2f} € at {rate:.2f}% for {years:.2f} years will be {interrest(deposit, years, rate/100):.2f} €\")"
   ]
  },
  {
   "cell_type": "markdown",
   "metadata": {},
   "source": [
    "# Build a quizz\n",
    "\n",
    "https://app.jedha.co/course/catching-up-on-python-ft/build-a-quiz-ft"
   ]
  },
  {
   "cell_type": "code",
   "execution_count": 26,
   "metadata": {},
   "outputs": [
    {
     "name": "stdout",
     "output_type": "stream",
     "text": [
      "Too bad! that is not the correct answer\n",
      "Too bad! that is not the correct answer\n",
      "Too bad! that is not the correct answer\n"
     ]
    }
   ],
   "source": [
    "# Ask a question to a user via the console\n",
    "# Verify whether the answer is correct or not\n",
    "# If the answer is correct, you should print out  : Good job! This is the right answer\n",
    "# Else, it should print out                       : Too bad! that is not the correct answer\n",
    "# Ask three questions following this model.\n",
    "\n",
    "questions = [\"Name of the computer in War Games\", \"Name of the robot in Interstellar\", \"Name of the robot in Forbidden Planet\"]\n",
    "answers   = [\"WOPR\", \"TARS\", \"Robby\"]\n",
    "\n",
    "for i in range(3):\n",
    "  ans = input(questions[i])\n",
    "  if (ans!=answers[i]):\n",
    "    print(\"Too bad! that is not the correct answer\")\n",
    "  else:\n",
    "    print(\"Good job! This is the right answer\")"
   ]
  },
  {
   "cell_type": "code",
   "execution_count": 27,
   "metadata": {},
   "outputs": [
    {
     "name": "stdout",
     "output_type": "stream",
     "text": [
      "Too bad! that is not the correct answer\n",
      "Too bad! that is not the correct answer\n",
      "Good job! This is the right answer\n",
      "Good job! This is the right answer\n",
      "Good job! This is the right answer\n"
     ]
    }
   ],
   "source": [
    "# There's a problem with our quizz \n",
    "# if the user has not given the right answer, the program goes to next question. \n",
    "# We would rather like to ask again the same question if the answer was wrong.\n",
    "\n",
    "# Bref, on pose 3 questions, on passe à la suivante que lorsqu'on a la bonne réponse\n",
    "\n",
    "questions = [\"Name of the computer in War Games\", \"Name of the robot in Interstellar\", \"Name of the robot in Forbidden Planet\"]\n",
    "answers = [\"WOPR\", \"TARS\", \"Robby\"]\n",
    "\n",
    "for i in range(3):\n",
    "  ans=\"\"\n",
    "  while (ans != answers[i]):\n",
    "    ans = input(questions[i])\n",
    "    if (ans!=answers[i]):\n",
    "      print(\"Too bad! that is not the correct answer\")\n",
    "    else:\n",
    "      print(\"Good job! This is the right answer\")\n",
    "      break\n"
   ]
  },
  {
   "cell_type": "code",
   "execution_count": 28,
   "metadata": {},
   "outputs": [],
   "source": [
    "# Now, we would like to tackle a last problem : we want to allow only 3 wrong answers (among all questions).\n",
    "# Improve your code : if the user makes 3 wrong answers, the program should stop and print (\"Too bad, you lost the game !\")\n",
    "\n",
    "questions = [\"Name of the computer in War Games\", \"Name of the robot in Interstellar\", \"Name of the robot in Forbidden Planet\"]\n",
    "answers = [\"WOPR\", \"TARS\", \"Robby\"]\n",
    "\n",
    "i = 0\n",
    "chance_left = 3\n",
    "ans = \"\"\n",
    "while (ans != answers[i]) and (chance_left > 0):\n",
    "  ans = input(questions[i])\n",
    "  if (ans!=answers[i]):\n",
    "    chance_left -= 1\n",
    "    print(f\"Sorry, you have {chance_left} chances left\")\n",
    "  else:\n",
    "    print(\"Good job! This is the right answer\")\n",
    "    i = (i+1) % len(questions)\n",
    "\n",
    "if(chance_left==0):\n",
    "  print(\"Too bad, you lost the game !\")"
   ]
  }
 ],
 "metadata": {
  "kernelspec": {
   "display_name": "jedha",
   "language": "python",
   "name": "python3"
  },
  "language_info": {
   "codemirror_mode": {
    "name": "ipython",
    "version": 3
   },
   "file_extension": ".py",
   "mimetype": "text/x-python",
   "name": "python",
   "nbconvert_exporter": "python",
   "pygments_lexer": "ipython3",
   "version": "3.11.7"
  }
 },
 "nbformat": 4,
 "nbformat_minor": 2
}
