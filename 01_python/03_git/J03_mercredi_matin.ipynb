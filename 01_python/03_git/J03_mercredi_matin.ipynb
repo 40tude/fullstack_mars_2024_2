{
 "cells": [
  {
   "cell_type": "markdown",
   "metadata": {},
   "source": [
    "# Mercredi 20 Mars"
   ]
  },
  {
   "cell_type": "markdown",
   "metadata": {},
   "source": [
    "* Git and Github\n",
    "* Voir https://app.jedha.co/course/git-and-github-ft/git-and-github-basics-ft"
   ]
  },
  {
   "cell_type": "markdown",
   "metadata": {},
   "source": [
    "# Exo 1"
   ]
  },
  {
   "cell_type": "code",
   "execution_count": 19,
   "metadata": {},
   "outputs": [],
   "source": [
    "# Exo 1\n",
    "class Voiture():\n",
    "  def __init__(self, n = 5):\n",
    "    self.nb_sieges = n\n",
    "\n",
    "  def trouve_siege(self):\n",
    "    if (self.nb_sieges>0):\n",
    "      self.nb_sieges -= 1\n",
    "  \n",
    "  # gerer les cas où n est une chaine ou négatif\n",
    "  def trouve_sieges(self, n):\n",
    "    # ! A GARDER EN TETE\n",
    "    if (not isinstance(n, int) or n < 0):\n",
    "      raise Exception(\"n should be a positive integer\")\n",
    "    \n",
    "    self.nb_sieges -= n\n",
    "\n",
    "    if(self.nb_sieges < 0):\n",
    "      self.nb_sieges = 0\n",
    "  \n",
    "  def get_siege(self):\n",
    "    return self.nb_sieges\n",
    "     \n",
    "    \n",
    "  "
   ]
  },
  {
   "cell_type": "code",
   "execution_count": 23,
   "metadata": {},
   "outputs": [
    {
     "data": {
      "text/plain": [
       "0"
      ]
     },
     "execution_count": 23,
     "metadata": {},
     "output_type": "execute_result"
    }
   ],
   "source": [
    "ma_voiture = Voiture(18)\n",
    "\n",
    "ma_voiture.trouve_siege()\n",
    "ma_voiture.trouve_sieges(19)\n",
    "ma_voiture.get_siege()"
   ]
  },
  {
   "cell_type": "markdown",
   "metadata": {},
   "source": [
    "# Exo 2"
   ]
  },
  {
   "cell_type": "code",
   "execution_count": 26,
   "metadata": {},
   "outputs": [],
   "source": [
    "class Voiture():\n",
    "  def __init__(self,siege=5):\n",
    "    self.siege = siege\n",
    "\n",
    "  def trouer_siege(self,nb_siege_trouer):\n",
    "    self.siege -= nb_siege_trouer\n",
    "    # return self.siege\n",
    "\n",
    "  def display_siege(self):\n",
    "    return self.siege"
   ]
  },
  {
   "cell_type": "markdown",
   "metadata": {},
   "source": [
    "## S1"
   ]
  },
  {
   "cell_type": "code",
   "execution_count": 27,
   "metadata": {},
   "outputs": [
    {
     "data": {
      "text/plain": [
       "30"
      ]
     },
     "execution_count": 27,
     "metadata": {},
     "output_type": "execute_result"
    }
   ],
   "source": [
    "# Créer 2 instances de Voiture : audi avec 50 sièges et bmw avec 50 sièges\n",
    "# Trouer 20 sièges de bmw\n",
    "# Créer une boucle while qui permet de trouer autant de sièges chez audi qu'il y en a de trouer chez bmw\n",
    "# Afficher les sièges chez audi et bmw\n",
    "\n",
    "nb_sieges = 50\n",
    "audi = Voiture(nb_sieges)\n",
    "bmw = Voiture(nb_sieges)\n",
    "\n",
    "bmw.trouer_siege(20)\n",
    "\n",
    "n_troue = 50 - bmw.siege  \n",
    "i=0\n",
    "while i<n_troue:\n",
    "  audi.trouer_siege(1)\n",
    "  i+=1\n",
    "\n",
    "audi.display_siege()  "
   ]
  },
  {
   "cell_type": "markdown",
   "metadata": {},
   "source": [
    "## S2"
   ]
  },
  {
   "cell_type": "code",
   "execution_count": 28,
   "metadata": {},
   "outputs": [
    {
     "data": {
      "text/plain": [
       "30"
      ]
     },
     "execution_count": 28,
     "metadata": {},
     "output_type": "execute_result"
    }
   ],
   "source": [
    "nb_sieges = 50\n",
    "audi = Voiture(nb_sieges)\n",
    "bmw = Voiture(nb_sieges)\n",
    "\n",
    "bmw.trouer_siege(20)\n",
    "\n",
    "while audi.siege> bmw.siege:\n",
    "  audi.trouer_siege(1)\n",
    "\n",
    "audi.display_siege()  "
   ]
  }
 ],
 "metadata": {
  "kernelspec": {
   "display_name": "jedha",
   "language": "python",
   "name": "python3"
  },
  "language_info": {
   "codemirror_mode": {
    "name": "ipython",
    "version": 3
   },
   "file_extension": ".py",
   "mimetype": "text/x-python",
   "name": "python",
   "nbconvert_exporter": "python",
   "pygments_lexer": "ipython3",
   "version": "3.11.7"
  }
 },
 "nbformat": 4,
 "nbformat_minor": 2
}
