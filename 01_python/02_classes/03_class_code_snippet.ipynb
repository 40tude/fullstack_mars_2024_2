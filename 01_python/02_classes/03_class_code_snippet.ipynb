{
 "cells": [
  {
   "cell_type": "markdown",
   "metadata": {},
   "source": [
    "# Object programming in Python"
   ]
  },
  {
   "cell_type": "markdown",
   "metadata": {},
   "source": [
    "## Webliography\n",
    "* https://www.pythontutorial.net/python-oop/python-interface-segregation-principle/\n",
    "* https://medium.com/python-in-plain-english/oops-i-did-it-again-object-oriented-programming-in-python-in-one-blog-09c2e72507af\n",
    "* Before naming the classes (nouns) and methods (verbs) read this :\n",
    "    * https://learn.microsoft.com/fr-fr/powershell/scripting/developer/cmdlet/approved-verbs-for-windows-powershell-commands?view=powershell-7.4\n",
    "        \n"
   ]
  },
  {
   "cell_type": "markdown",
   "metadata": {},
   "source": [
    "## Fundamentals of Object-Oriented Programming"
   ]
  },
  {
   "cell_type": "code",
   "execution_count": 6,
   "metadata": {},
   "outputs": [
    {
     "name": "stdout",
     "output_type": "stream",
     "text": [
      "Buddy says: Woof!\n"
     ]
    }
   ],
   "source": [
    "class Dog:\n",
    "    def __init__(self, name, breed):\n",
    "        self.name = name\n",
    "        self.breed = breed\n",
    "    \n",
    "    def bark(self):\n",
    "        print(f\"{self.name} says: Woof!\")\n",
    "\n",
    "my_dog = Dog(\"Buddy\", \"Labrador\")\n",
    "my_dog.bark()  # Output: Buddy says: Woof!"
   ]
  },
  {
   "cell_type": "code",
   "execution_count": 7,
   "metadata": {},
   "outputs": [
    {
     "name": "stdout",
     "output_type": "stream",
     "text": [
      "5\n",
      "78.5\n"
     ]
    }
   ],
   "source": [
    "class Circle:\n",
    "    def __init__(self, radius):\n",
    "        self.radius = radius\n",
    "    \n",
    "    def area(self):\n",
    "        return 3.14 * self.radius ** 2\n",
    "\n",
    "my_circle = Circle(5)\n",
    "print(my_circle.radius)  # Output: 5\n",
    "print(my_circle.area())  # Output: 78.5"
   ]
  },
  {
   "cell_type": "markdown",
   "metadata": {},
   "source": [
    "### Self"
   ]
  },
  {
   "cell_type": "code",
   "execution_count": 8,
   "metadata": {},
   "outputs": [
    {
     "name": "stdout",
     "output_type": "stream",
     "text": [
      "Hi, my name is Alice and I'm 25 years old.\n",
      "Hi, my name is Bob and I'm 30 years old.\n"
     ]
    }
   ],
   "source": [
    "class Person:\n",
    "    def __init__(self, name, age):\n",
    "        self.name = name\n",
    "        self.age = age\n",
    "    \n",
    "    def introduce(self):\n",
    "        # shows how to use self\n",
    "        print(f\"Hi, my name is {self.name} and I'm {self.age} years old.\")\n",
    "\n",
    "person1 = Person(\"Alice\", 25)\n",
    "person2 = Person(\"Bob\", 30)\n",
    "\n",
    "person1.introduce()  # Output: Hi, my name is Alice and I'm 25 years old.\n",
    "person2.introduce()  # Output: Hi, my name is Bob and I'm 30 years old."
   ]
  },
  {
   "cell_type": "markdown",
   "metadata": {},
   "source": [
    "## Constructor Destructor"
   ]
  },
  {
   "cell_type": "markdown",
   "metadata": {},
   "source": [
    "### Constructors (``__init__`` method)"
   ]
  },
  {
   "cell_type": "code",
   "execution_count": 9,
   "metadata": {},
   "outputs": [
    {
     "name": "stdout",
     "output_type": "stream",
     "text": [
      "15\n"
     ]
    }
   ],
   "source": [
    "class Rectangle:\n",
    "    def __init__(self, width, height):\n",
    "        self.width = width\n",
    "        self.height = height\n",
    "    \n",
    "    def area(self):\n",
    "        return self.width * self.height\n",
    "\n",
    "my_rectangle = Rectangle(5, 3)\n",
    "print(my_rectangle.area())  # Output: 15"
   ]
  },
  {
   "cell_type": "markdown",
   "metadata": {},
   "source": [
    "### Default constructor\n",
    "\n",
    "A default constructor is a constructor that doesn't take any parameters and initializes the object with default values."
   ]
  },
  {
   "cell_type": "code",
   "execution_count": 10,
   "metadata": {},
   "outputs": [
    {
     "name": "stdout",
     "output_type": "stream",
     "text": [
      "1\n",
      "3.14\n"
     ]
    }
   ],
   "source": [
    "class Circle:\n",
    "    def __init__(self, radius=1):\n",
    "        self.radius = radius\n",
    "    \n",
    "    def area(self):\n",
    "        return 3.14 * self.radius ** 2\n",
    "\n",
    "my_circle = Circle()\n",
    "print(my_circle.radius)  # Output: 1\n",
    "print(my_circle.area())  # Output: 3.14"
   ]
  },
  {
   "cell_type": "markdown",
   "metadata": {},
   "source": [
    "### Destructors (``__del__`` method)\n",
    "it's generally recommended to explicitly close resources like files or database connections in a finally block or using a with statement."
   ]
  },
  {
   "cell_type": "code",
   "execution_count": 11,
   "metadata": {},
   "outputs": [
    {
     "name": "stdout",
     "output_type": "stream",
     "text": [
      "File closed.\n"
     ]
    }
   ],
   "source": [
    "class FileHandler:\n",
    "    def __init__(self, filename):\n",
    "        self.file = open(filename, 'w')\n",
    "    \n",
    "    def write_data(self, data):\n",
    "        self.file.write(data)\n",
    "    \n",
    "    def __del__(self):\n",
    "        self.file.close()\n",
    "        print(\"File closed.\")\n",
    "\n",
    "handler = FileHandler(\"example.txt\")\n",
    "handler.write_data(\"Hello, World!\")\n",
    "del handler  # Output: File closed."
   ]
  },
  {
   "cell_type": "markdown",
   "metadata": {},
   "source": [
    "## Encapsulation - Data Hidding"
   ]
  },
  {
   "cell_type": "markdown",
   "metadata": {},
   "source": [
    "### Encapsulation"
   ]
  },
  {
   "cell_type": "code",
   "execution_count": 12,
   "metadata": {},
   "outputs": [
    {
     "name": "stdout",
     "output_type": "stream",
     "text": [
      "1300\n"
     ]
    }
   ],
   "source": [
    "class BankAccount:\n",
    "    def __init__(self, account_number, balance):\n",
    "        self.account_number = account_number\n",
    "        self.balance = balance\n",
    "    \n",
    "    def deposit(self, amount):\n",
    "        self.balance += amount\n",
    "    \n",
    "    def withdraw(self, amount):\n",
    "        if amount <= self.balance:\n",
    "            self.balance -= amount\n",
    "        else:\n",
    "            print(\"Insufficient funds.\")\n",
    "\n",
    "my_account = BankAccount(\"123456789\", 1000)\n",
    "my_account.deposit(500)\n",
    "my_account.withdraw(200)\n",
    "print(my_account.balance)  # Output: 1300"
   ]
  },
  {
   "cell_type": "markdown",
   "metadata": {},
   "source": [
    "### Access Modifiers\n",
    "\n",
    "* Public members : defined without any leading underscores.\n",
    "* Private members : prefixed with two leading underscores (__). \n",
    "* Protected members : prefixed with a single leading underscore (_). "
   ]
  },
  {
   "cell_type": "code",
   "execution_count": 13,
   "metadata": {},
   "outputs": [
    {
     "name": "stdout",
     "output_type": "stream",
     "text": [
      "Toyota\n",
      "Camry\n",
      "2022\n"
     ]
    }
   ],
   "source": [
    "class Car:\n",
    "    def __init__(self, brand, model, year):\n",
    "        self.brand = brand   # Public attribute\n",
    "        self._model = model  # Protected attribute\n",
    "        self.__year = year   # Private attribute\n",
    "    \n",
    "    def get_year(self):\n",
    "        return self.__year\n",
    "\n",
    "my_car = Car(\"Toyota\", \"Camry\", 2022)\n",
    "print(my_car.brand)  # Output: Toyota\n",
    "print(my_car._model)\n",
    "# print(my_car.__year) # Error\n",
    "print(my_car.get_year())"
   ]
  },
  {
   "cell_type": "markdown",
   "metadata": {},
   "source": [
    "### Getters and Setters\n",
    "\n",
    "* A property is a special attribute that allows you to define a method to get or set the value of a class attribute. \n",
    "* It provides a way to access or modify the value of an attribute in a controlled manner while hiding the implementation details.\n",
    "* Use the ``@property`` decorator to define a getter method for the attribute \n",
    "* Use the ``@<attribute>.setter`` decorator to define a setter method."
   ]
  },
  {
   "cell_type": "code",
   "execution_count": 55,
   "metadata": {},
   "outputs": [],
   "source": [
    "class Person:\n",
    "    def __init__(self, name, age):\n",
    "        self._name = name\n",
    "        self._age = age\n",
    "    @property\n",
    "    def name(self):\n",
    "        return self._name\n",
    "    @name.setter\n",
    "    def name(self, value):\n",
    "        if not isinstance(value, str) or not value.isalpha():\n",
    "            raise ValueError(f\"{value} is not a valid input for name\")\n",
    "        name_capital = value.capitalize()\n",
    "        self._name = name_capital\n",
    "    @property\n",
    "    def age(self):\n",
    "        return self._age\n",
    "    @age.setter\n",
    "    def age(self, value):\n",
    "        if not isinstance(value, int) or value < 0:\n",
    "            raise ValueError(f\"{value} is not a valid input for age\")\n",
    "        self._age = value"
   ]
  },
  {
   "cell_type": "code",
   "execution_count": 56,
   "metadata": {},
   "outputs": [
    {
     "name": "stdout",
     "output_type": "stream",
     "text": [
      "john\n",
      "john\n",
      "30\n",
      "35\n",
      "Bob\n"
     ]
    }
   ],
   "source": [
    "p = Person(\"john\", 30)\n",
    "print(p.name)  # John\n",
    "print(p._name)  # John\n",
    "print(p.age)   # 30\n",
    "\n",
    "p.age = 35\n",
    "print(p.age)   # 35\n",
    "\n",
    "p.name = \"bob\"\n",
    "print (p.name) # Bob"
   ]
  },
  {
   "cell_type": "code",
   "execution_count": 16,
   "metadata": {},
   "outputs": [],
   "source": [
    "class BankAccount:\n",
    "    def __init__(self, balance):\n",
    "        self._balance = balance\n",
    "    @property\n",
    "    def balance(self):\n",
    "        return self._balance\n",
    "    @balance.setter\n",
    "    def balance(self, value):\n",
    "        if not isinstance(value, int) or value < 0:\n",
    "            raise ValueError(f\"{value} is not a valid input for balance\")\n",
    "        self._balance = value\n",
    "    def deposit(self, amount):\n",
    "        if not isinstance(amount, int) or amount < 0:\n",
    "            raise ValueError(f\"{amount} is not a valid input for amount\")\n",
    "        self.balance += amount\n",
    "    def withdraw(self, amount):\n",
    "        if not isinstance(amount, int) or amount < 0:\n",
    "            raise ValueError(\"Withdrawal amount must be a positive number\")\n",
    "        if amount > self.balance:\n",
    "            raise ValueError(\"Insufficient balance\")\n",
    "        self.balance -= amount"
   ]
  },
  {
   "cell_type": "code",
   "execution_count": 17,
   "metadata": {},
   "outputs": [
    {
     "name": "stdout",
     "output_type": "stream",
     "text": [
      "30\n",
      "62\n"
     ]
    },
    {
     "ename": "ValueError",
     "evalue": "Insufficient balance",
     "output_type": "error",
     "traceback": [
      "\u001b[1;31m---------------------------------------------------------------------------\u001b[0m",
      "\u001b[1;31mValueError\u001b[0m                                Traceback (most recent call last)",
      "Cell \u001b[1;32mIn[17], line 5\u001b[0m\n\u001b[0;32m      3\u001b[0m p\u001b[38;5;241m.\u001b[39mdeposit(\u001b[38;5;241m32\u001b[39m)\n\u001b[0;32m      4\u001b[0m \u001b[38;5;28mprint\u001b[39m(p\u001b[38;5;241m.\u001b[39mbalance)  \u001b[38;5;66;03m# 62 \u001b[39;00m\n\u001b[1;32m----> 5\u001b[0m \u001b[43mp\u001b[49m\u001b[38;5;241;43m.\u001b[39;49m\u001b[43mwithdraw\u001b[49m\u001b[43m(\u001b[49m\u001b[38;5;241;43m72\u001b[39;49m\u001b[43m)\u001b[49m    \u001b[38;5;66;03m# ValueError: Insufficient balance\u001b[39;00m\n\u001b[0;32m      6\u001b[0m p\u001b[38;5;241m.\u001b[39mdeposit(\u001b[38;5;241m-\u001b[39m\u001b[38;5;241m32\u001b[39m)    \u001b[38;5;66;03m# ValueError: -32 is not a valid input for amount\u001b[39;00m\n\u001b[0;32m      7\u001b[0m p\u001b[38;5;241m.\u001b[39mdeposit(\u001b[38;5;124m\"\u001b[39m\u001b[38;5;124m32\u001b[39m\u001b[38;5;124m\"\u001b[39m)   \u001b[38;5;66;03m# ValueError: 32 is not a valid input for amount\u001b[39;00m\n",
      "Cell \u001b[1;32mIn[16], line 20\u001b[0m, in \u001b[0;36mBankAccount.withdraw\u001b[1;34m(self, amount)\u001b[0m\n\u001b[0;32m     18\u001b[0m     \u001b[38;5;28;01mraise\u001b[39;00m \u001b[38;5;167;01mValueError\u001b[39;00m(\u001b[38;5;124m\"\u001b[39m\u001b[38;5;124mWithdrawal amount must be a positive number\u001b[39m\u001b[38;5;124m\"\u001b[39m)\n\u001b[0;32m     19\u001b[0m \u001b[38;5;28;01mif\u001b[39;00m amount \u001b[38;5;241m>\u001b[39m \u001b[38;5;28mself\u001b[39m\u001b[38;5;241m.\u001b[39mbalance:\n\u001b[1;32m---> 20\u001b[0m     \u001b[38;5;28;01mraise\u001b[39;00m \u001b[38;5;167;01mValueError\u001b[39;00m(\u001b[38;5;124m\"\u001b[39m\u001b[38;5;124mInsufficient balance\u001b[39m\u001b[38;5;124m\"\u001b[39m)\n\u001b[0;32m     21\u001b[0m \u001b[38;5;28mself\u001b[39m\u001b[38;5;241m.\u001b[39mbalance \u001b[38;5;241m-\u001b[39m\u001b[38;5;241m=\u001b[39m amount\n",
      "\u001b[1;31mValueError\u001b[0m: Insufficient balance"
     ]
    }
   ],
   "source": [
    "p = BankAccount(30)\n",
    "print(p.balance)  # 30\n",
    "p.deposit(32)\n",
    "print(p.balance)  # 62 \n",
    "p.withdraw(72)    # ValueError: Insufficient balance\n",
    "p.deposit(-32)    # ValueError: -32 is not a valid input for amount\n",
    "p.deposit(\"32\")   # ValueError: 32 is not a valid input for amount"
   ]
  },
  {
   "cell_type": "markdown",
   "metadata": {},
   "source": [
    "## Polymorphism\n",
    "\n",
    "### Polymorphism \n",
    "1. Method **overloading** refers to the ability to define multiple methods with the **same name but different parameters**\n",
    "1. Method **overriding** involves **redefining a method in a subclass** that is already defined in the superclass"
   ]
  },
  {
   "cell_type": "markdown",
   "metadata": {},
   "source": [
    "### Method Overloading\n",
    "\n",
    "Python does not support true method overloading. Instead, Python uses a single method and allows you to pass different arguments to it."
   ]
  },
  {
   "cell_type": "code",
   "execution_count": 18,
   "metadata": {},
   "outputs": [
    {
     "name": "stdout",
     "output_type": "stream",
     "text": [
      "5\n",
      "9\n"
     ]
    }
   ],
   "source": [
    "class Calculator:\n",
    "    def add(self, a, b, c=0):\n",
    "        return a + b + c\n",
    "\n",
    "calc = Calculator()\n",
    "print(calc.add(2, 3))       # Output: 5\n",
    "print(calc.add(2, 3, 4))    # Output: 9"
   ]
  },
  {
   "cell_type": "markdown",
   "metadata": {},
   "source": [
    "### Operator Overloading"
   ]
  },
  {
   "cell_type": "code",
   "execution_count": 19,
   "metadata": {},
   "outputs": [
    {
     "name": "stdout",
     "output_type": "stream",
     "text": [
      "4 6\n"
     ]
    }
   ],
   "source": [
    "class Point:\n",
    "    def __init__(self, x, y):\n",
    "        self.x = x\n",
    "        self.y = y\n",
    "    \n",
    "    def __add__(self, other):\n",
    "        return Point(self.x + other.x, self.y + other.y)\n",
    "\n",
    "p1 = Point(1, 2)\n",
    "p2 = Point(3, 4)\n",
    "p3 = p1 + p2\n",
    "print(p3.x, p3.y)   # Output: 4 6"
   ]
  },
  {
   "cell_type": "markdown",
   "metadata": {},
   "source": [
    "### Duck Typing\n",
    "\n",
    "A programming style where the suitability of an object is determined by the presence of certain methods and properties, rather than the type of the object itself."
   ]
  },
  {
   "cell_type": "code",
   "execution_count": 20,
   "metadata": {},
   "outputs": [
    {
     "name": "stdout",
     "output_type": "stream",
     "text": [
      "Quack!\n",
      "I'm quacking like a duck!\n"
     ]
    }
   ],
   "source": [
    "class Duck:\n",
    "    def quack(self):\n",
    "        print(\"Quack!\")\n",
    "\n",
    "class Person:\n",
    "    def quack(self):\n",
    "        print(\"I'm quacking like a duck!\")\n",
    "\n",
    "def make_it_quack(obj):\n",
    "    obj.quack()\n",
    "\n",
    "duck = Duck()\n",
    "person = Person()\n",
    "\n",
    "make_it_quack(duck)     # Output: Quack!\n",
    "make_it_quack(person)   # Output: I'm quacking like a duck!"
   ]
  },
  {
   "cell_type": "markdown",
   "metadata": {},
   "source": [
    "## Abstract Classes and Interfaces"
   ]
  },
  {
   "cell_type": "markdown",
   "metadata": {},
   "source": [
    "### Abstract Classes\n",
    "\n",
    "In Python, we can define abstract classes using the abc module.\n"
   ]
  },
  {
   "cell_type": "code",
   "execution_count": 21,
   "metadata": {},
   "outputs": [
    {
     "name": "stdout",
     "output_type": "stream",
     "text": [
      "Woof!\n",
      "Meow!\n"
     ]
    }
   ],
   "source": [
    "from abc import ABC, abstractmethod\n",
    "\n",
    "class Animal(ABC):\n",
    "    @abstractmethod\n",
    "    def make_sound(self):\n",
    "        pass\n",
    "\n",
    "class Dog(Animal):\n",
    "    def make_sound(self):\n",
    "        print(\"Woof!\")\n",
    "\n",
    "class Cat(Animal):\n",
    "    def make_sound(self):\n",
    "        print(\"Meow!\")\n",
    "\n",
    "# animal = Animal()  # Raises TypeError: Can't instantiate abstract class Animal with abstract methods make_sound\n",
    "dog = Dog()\n",
    "cat = Cat()\n",
    "\n",
    "dog.make_sound()  # Output: Woof!\n",
    "cat.make_sound()  # Output: Meow!"
   ]
  },
  {
   "cell_type": "markdown",
   "metadata": {},
   "source": [
    "### Interfaces\n",
    "\n",
    "An interface is a collection of abstract methods that define a contract for classes to follow. \n",
    "\n",
    "In Python, there is no explicit interface keyword, but we can achieve the same functionality using abstract base classes."
   ]
  },
  {
   "cell_type": "code",
   "execution_count": 22,
   "metadata": {},
   "outputs": [
    {
     "name": "stdout",
     "output_type": "stream",
     "text": [
      "Duck is flying.\n",
      "Duck is swimming.\n",
      "Airplane is flying.\n"
     ]
    }
   ],
   "source": [
    "#Code by github.com/tushar2704\n",
    "from abc import ABC, abstractmethod\n",
    "\n",
    "class Flyable(ABC):\n",
    "    @abstractmethod\n",
    "    def fly(self):\n",
    "        pass\n",
    "\n",
    "class Swimmable(ABC):\n",
    "    @abstractmethod\n",
    "    def swim(self):\n",
    "        pass\n",
    "\n",
    "class Duck(Flyable, Swimmable):\n",
    "    def fly(self):\n",
    "        print(\"Duck is flying.\")\n",
    "    \n",
    "    def swim(self):\n",
    "        print(\"Duck is swimming.\")\n",
    "\n",
    "class Airplane(Flyable):\n",
    "    def fly(self):\n",
    "        print(\"Airplane is flying.\")\n",
    "\n",
    "duck = Duck()\n",
    "airplane = Airplane()\n",
    "\n",
    "duck.fly()      # Output: Duck is flying.\n",
    "duck.swim()     # Output: Duck is swimming.\n",
    "airplane.fly()  # Output: Airplane is flying.\n",
    "# airplane.swim()  # Raises AttributeError: 'Airplane' object has no attribute 'swim'"
   ]
  },
  {
   "cell_type": "markdown",
   "metadata": {},
   "source": [
    "## Class Methods and Static Methods"
   ]
  },
  {
   "cell_type": "markdown",
   "metadata": {},
   "source": [
    "### Instance Methods"
   ]
  },
  {
   "cell_type": "code",
   "execution_count": 23,
   "metadata": {},
   "outputs": [
    {
     "name": "stdout",
     "output_type": "stream",
     "text": [
      "78.5\n"
     ]
    }
   ],
   "source": [
    "class Circle:\n",
    "    def __init__(self, radius):\n",
    "        self.radius = radius\n",
    "    \n",
    "    def area(self):\n",
    "        return 3.14 * self.radius ** 2\n",
    "\n",
    "circle = Circle(5)\n",
    "print(circle.area())  # Output: 78.5"
   ]
  },
  {
   "cell_type": "markdown",
   "metadata": {},
   "source": [
    "### Class Methods"
   ]
  },
  {
   "cell_type": "code",
   "execution_count": 24,
   "metadata": {},
   "outputs": [
    {
     "name": "stdout",
     "output_type": "stream",
     "text": [
      "3\n"
     ]
    }
   ],
   "source": [
    "class Rectangle:\n",
    "    __count = 0\n",
    "    \n",
    "    def __init__(self, width, height):\n",
    "        self.width = width\n",
    "        self.height = height\n",
    "        Rectangle.__count += 1\n",
    "    \n",
    "    @classmethod\n",
    "    def total_instances(cls):\n",
    "        return cls.__count\n",
    "\n",
    "r1 = Rectangle(3, 4)\n",
    "r2 = Rectangle(5, 6)\n",
    "r3 = Rectangle(7, 8)\n",
    "\n",
    "print(Rectangle.total_instances())  # Output: 3"
   ]
  },
  {
   "cell_type": "markdown",
   "metadata": {},
   "source": [
    "### Static Methods\n",
    "\n",
    "* Methods that belong to a class but do not have access to the instance (self) or the class (cls). \n",
    "* They are defined using the @staticmethod decorator \n",
    "* They do not take any special parameters.\n",
    "\n",
    "\n",
    "The MathUtils class contains two static methods, add and multiply, which perform basic mathematical operations. \n",
    "These methods do not rely on any instance or class attributes and can be called directly using the class name.\n",
    "Static methods are useful when you have utility functions that are related to a class but do not require access to instance or class attributes."
   ]
  },
  {
   "cell_type": "code",
   "execution_count": 25,
   "metadata": {},
   "outputs": [
    {
     "name": "stdout",
     "output_type": "stream",
     "text": [
      "7\n",
      "12\n"
     ]
    }
   ],
   "source": [
    "class MathUtils:\n",
    "    @staticmethod\n",
    "    def add(x, y):\n",
    "        return x + y\n",
    "    \n",
    "    @staticmethod\n",
    "    def multiply(x, y):\n",
    "        return x * y\n",
    "\n",
    "print(MathUtils.add(3, 4))        # Output: 7\n",
    "print(MathUtils.multiply(3, 4))   # Output: 12"
   ]
  },
  {
   "cell_type": "markdown",
   "metadata": {},
   "source": [
    "## Object Composition and Aggregation"
   ]
  },
  {
   "cell_type": "markdown",
   "metadata": {},
   "source": [
    "### Object Composition"
   ]
  },
  {
   "cell_type": "code",
   "execution_count": 26,
   "metadata": {},
   "outputs": [
    {
     "name": "stdout",
     "output_type": "stream",
     "text": [
      "Engine started.\n",
      "Engine stopped.\n"
     ]
    }
   ],
   "source": [
    "class Engine:\n",
    "    def __init__(self, capacity):\n",
    "        self.capacity = capacity\n",
    "    \n",
    "    def start(self):\n",
    "        print(\"Engine started.\")\n",
    "    \n",
    "    def stop(self):\n",
    "        print(\"Engine stopped.\")\n",
    "\n",
    "class Car:\n",
    "    def __init__(self, engine):\n",
    "        self.engine = engine\n",
    "    \n",
    "    def start(self):\n",
    "        self.engine.start()\n",
    "    \n",
    "    def stop(self):\n",
    "        self.engine.stop()\n",
    "\n",
    "engine = Engine(1600)\n",
    "car = Car(engine)\n",
    "\n",
    "car.start()  # Output: Engine started.\n",
    "car.stop()   # Output: Engine stopped."
   ]
  },
  {
   "cell_type": "markdown",
   "metadata": {},
   "source": [
    "### Aggregation"
   ]
  },
  {
   "cell_type": "markdown",
   "metadata": {},
   "source": [
    "* It represents a “has-a” relationship, similar to composition, but with a weaker coupling between the objects.\n",
    "* The containing object holds a reference to the aggregated objects\n",
    "* But the aggregated objects can exist independently of the containing object. \n",
    "* The lifetime of the aggregated objects is not tied to the lifetime of the containing object."
   ]
  },
  {
   "cell_type": "code",
   "execution_count": 27,
   "metadata": {},
   "outputs": [
    {
     "name": "stdout",
     "output_type": "stream",
     "text": [
      "Hi, I'm Alice.\n",
      "Hi, I'm Bob.\n"
     ]
    }
   ],
   "source": [
    "class Student:\n",
    "    def __init__(self, name):\n",
    "        self.name = name\n",
    "    \n",
    "    def introduce(self):\n",
    "        print(f\"Hi, I'm {self.name}.\")\n",
    "\n",
    "class Course:\n",
    "    def __init__(self, name, students):\n",
    "        self.name = name\n",
    "        self.students = students\n",
    "    \n",
    "    def enroll(self, student):\n",
    "        self.students.append(student)\n",
    "    \n",
    "    def print_students(self):\n",
    "        for student in self.students:\n",
    "            student.introduce()\n",
    "\n",
    "student1 = Student(\"Alice\")\n",
    "student2 = Student(\"Bob\")\n",
    "\n",
    "course = Course(\"Python Programming\", [])\n",
    "course.enroll(student1)\n",
    "course.enroll(student2)\n",
    "\n",
    "course.print_students()\n",
    "# Output:\n",
    "# Hi, I'm Alice.\n",
    "# Hi, I'm Bob."
   ]
  },
  {
   "cell_type": "markdown",
   "metadata": {},
   "source": [
    "## Design Patterns \n",
    "\n",
    "1. **Creational** patterns : deal with object creation mechanisms, trying to create objects in a manner suitable to the situation.\n",
    "1. **Structural** patterns : focus on object composition, creating relationships between objects to form larger structures.\n",
    "1. **Behavioral** patterns : are concerned with communication between objects, defining how objects interact and distribute responsibility."
   ]
  },
  {
   "cell_type": "markdown",
   "metadata": {},
   "source": [
    "### Creational Patterns"
   ]
  },
  {
   "cell_type": "markdown",
   "metadata": {},
   "source": [
    "#### Creational Patterns - Singleton Pattern\n",
    "* Ensures that a class has only one instance and provides a global point of access to it. \n",
    "* Can be useful when you need to maintain a single shared state across your application."
   ]
  },
  {
   "cell_type": "code",
   "execution_count": 28,
   "metadata": {},
   "outputs": [
    {
     "name": "stdout",
     "output_type": "stream",
     "text": [
      "True\n"
     ]
    }
   ],
   "source": [
    "class Singleton:\n",
    "    _instance = None\n",
    "    \n",
    "    def __new__(cls):\n",
    "        if cls._instance is None:\n",
    "            cls._instance = super().__new__(cls)\n",
    "        return cls._instance\n",
    "\n",
    "# Creating instances of the Singleton class\n",
    "s1 = Singleton()\n",
    "s2 = Singleton()\n",
    "\n",
    "print(s1 is s2)  # Output: True"
   ]
  },
  {
   "cell_type": "markdown",
   "metadata": {},
   "source": [
    "#### Creational Patterns - Factory Pattern\n",
    "\n",
    "* Provides an interface for creating objects in a superclass but allows subclasses to alter the type of objects that will be created. \n",
    "* It encapsulates object creation logic, making the code more flexible and maintainable."
   ]
  },
  {
   "cell_type": "code",
   "execution_count": 29,
   "metadata": {},
   "outputs": [
    {
     "name": "stdout",
     "output_type": "stream",
     "text": [
      "Woof!\n",
      "Meow!\n"
     ]
    }
   ],
   "source": [
    "class Animal:\n",
    "    def speak(self):\n",
    "        pass\n",
    "\n",
    "class Dog(Animal):\n",
    "    def speak(self):\n",
    "        return \"Woof!\"\n",
    "\n",
    "class Cat(Animal):\n",
    "    def speak(self):\n",
    "        return \"Meow!\"\n",
    "\n",
    "class AnimalFactory:\n",
    "    def create_animal(self, animal_type):\n",
    "        if animal_type == \"dog\":\n",
    "            return Dog()\n",
    "        elif animal_type == \"cat\":\n",
    "            return Cat()\n",
    "        else:\n",
    "            raise ValueError(f\"Unknown animal type: {animal_type}\")\n",
    "\n",
    "factory = AnimalFactory()\n",
    "\n",
    "dog = factory.create_animal(\"dog\")\n",
    "print(dog.speak())  # Output: Woof!\n",
    "\n",
    "cat = factory.create_animal(\"cat\")\n",
    "print(cat.speak())  # Output: Meow!"
   ]
  },
  {
   "cell_type": "markdown",
   "metadata": {},
   "source": [
    "### Structural Patterns"
   ]
  },
  {
   "cell_type": "markdown",
   "metadata": {},
   "source": [
    "#### Structural Patterns - Adapter Pattern\n",
    "\n",
    "* Allows objects with incompatible interfaces to collaborate. \n",
    "* It acts as a bridge between two incompatible interfaces, converting the interface of one class into another interface that clients expect."
   ]
  },
  {
   "cell_type": "code",
   "execution_count": 30,
   "metadata": {},
   "outputs": [
    {
     "name": "stdout",
     "output_type": "stream",
     "text": [
      "Target: The default target's behavior.\n",
      ".eetpadA eht fo roivaheb laicepS\n",
      "Adapter: (TRANSLATED) Special behavior of the Adaptee.\n"
     ]
    }
   ],
   "source": [
    "class Target:\n",
    "    def request(self):\n",
    "        return \"Target: The default target's behavior.\"\n",
    "\n",
    "class Adaptee:\n",
    "    def specific_request(self):\n",
    "        return \".eetpadA eht fo roivaheb laicepS\"\n",
    "\n",
    "class Adapter(Target):\n",
    "    def __init__(self, adaptee):\n",
    "        self.adaptee = adaptee\n",
    "    \n",
    "    def request(self):\n",
    "        return f\"Adapter: (TRANSLATED) {self.adaptee.specific_request()[::-1]}\"\n",
    "\n",
    "target = Target()\n",
    "print(target.request())  # Output: Target: The default target's behavior.\n",
    "\n",
    "adaptee = Adaptee()\n",
    "print(adaptee.specific_request())  # Output: .eetpadA eht fo roivaheb laicepS\n",
    "\n",
    "adapter = Adapter(adaptee)\n",
    "print(adapter.request())  # Output: Adapter: (TRANSLATED) Special behavior of the Adaptee."
   ]
  },
  {
   "cell_type": "markdown",
   "metadata": {},
   "source": [
    "#### Structural Patterns - Decorator Pattern\n",
    "\n",
    "* Allows behavior to be added to an individual object, either statically or dynamically, without affecting the behavior of other objects from the same class. \n",
    "* provides an alternative to subclassing for extending functionality"
   ]
  },
  {
   "cell_type": "code",
   "execution_count": 31,
   "metadata": {},
   "outputs": [
    {
     "name": "stdout",
     "output_type": "stream",
     "text": [
      "ConcreteComponent\n",
      "ConcreteDecoratorA(ConcreteComponent)\n",
      "ConcreteDecoratorB(ConcreteDecoratorA(ConcreteComponent))\n"
     ]
    }
   ],
   "source": [
    "class Component:\n",
    "    def operation(self):\n",
    "        pass\n",
    "\n",
    "class ConcreteComponent(Component):\n",
    "    def operation(self):\n",
    "        return \"ConcreteComponent\"\n",
    "\n",
    "class Decorator(Component):\n",
    "    def __init__(self, component):\n",
    "        self._component = component\n",
    "    \n",
    "    @property\n",
    "    def component(self):\n",
    "        return self._component\n",
    "    \n",
    "    def operation(self):\n",
    "        return self._component.operation()\n",
    "\n",
    "class ConcreteDecoratorA(Decorator):\n",
    "    def operation(self):\n",
    "        return f\"ConcreteDecoratorA({self.component.operation()})\"\n",
    "\n",
    "class ConcreteDecoratorB(Decorator):\n",
    "    def operation(self):\n",
    "        return f\"ConcreteDecoratorB({self.component.operation()})\"\n",
    "\n",
    "simple = ConcreteComponent()\n",
    "print(simple.operation())  # Output: ConcreteComponent\n",
    "\n",
    "decorator1 = ConcreteDecoratorA(simple)\n",
    "print(decorator1.operation())  # Output: ConcreteDecoratorA(ConcreteComponent)\n",
    "\n",
    "decorator2 = ConcreteDecoratorB(decorator1)\n",
    "print(decorator2.operation())  # Output: ConcreteDecoratorB(ConcreteDecoratorA(ConcreteComponent))"
   ]
  },
  {
   "cell_type": "markdown",
   "metadata": {},
   "source": [
    "* In this example, we have a Component abstract base class with an operation method. \n",
    "* The ConcreteComponent class provides a concrete implementation of the operation method.\n",
    "\n",
    "\n",
    "* The Decorator class also inherits from the Component class and takes an instance of Component in its constructor. \n",
    "* It defines a component property to access the wrapped component and delegates the operation method to the wrapped component.\n",
    "\n",
    "\n",
    "* The ConcreteDecoratorA and ConcreteDecoratorB classes inherit from the Decorator class \n",
    "* They override the operation method to add their own behavior before or after delegating to the wrapped component.\n",
    "\n",
    "\n",
    "* With the decorator classes, we can dynamically add behavior to the ConcreteComponent object without modifying its code. \n",
    "* We can wrap the component with multiple decorators to add multiple behaviors."
   ]
  },
  {
   "cell_type": "markdown",
   "metadata": {},
   "source": [
    "### Behavioral Patterns"
   ]
  },
  {
   "cell_type": "markdown",
   "metadata": {},
   "source": [
    "#### Behavioral Patterns - Observer Pattern\n",
    "\n",
    "* The Observer pattern defines a one-to-many dependency between objects so that when one object changes state, all its dependents are notified and updated automatically. \n",
    "* It allows loose coupling between the subject and its observers."
   ]
  },
  {
   "cell_type": "code",
   "execution_count": 32,
   "metadata": {},
   "outputs": [
    {
     "name": "stdout",
     "output_type": "stream",
     "text": [
      "ConcreteObserverA: Reacted to the event\n",
      "ConcreteObserverA: Reacted to the event\n",
      "ConcreteObserverB: Reacted to the event\n",
      "ConcreteObserverB: Reacted to the event\n"
     ]
    }
   ],
   "source": [
    "class Subject:\n",
    "    def __init__(self):\n",
    "        self._observers = []\n",
    "    \n",
    "    def attach(self, observer):\n",
    "        self._observers.append(observer)\n",
    "    \n",
    "    def detach(self, observer):\n",
    "        self._observers.remove(observer)\n",
    "    \n",
    "    def notify(self):\n",
    "        for observer in self._observers:\n",
    "            observer.update(self)\n",
    "\n",
    "class ConcreteSubject(Subject):\n",
    "    def __init__(self, state):\n",
    "        super().__init__()\n",
    "        self._state = state\n",
    "    \n",
    "    @property\n",
    "    def state(self):\n",
    "        return self._state\n",
    "    \n",
    "    @state.setter\n",
    "    def state(self, state):\n",
    "        self._state = state\n",
    "        self.notify()\n",
    "\n",
    "class Observer:\n",
    "    def update(self, subject):\n",
    "        pass\n",
    "\n",
    "class ConcreteObserverA(Observer):\n",
    "    def update(self, subject):\n",
    "        if subject.state < 3:\n",
    "            print(\"ConcreteObserverA: Reacted to the event\")\n",
    "\n",
    "class ConcreteObserverB(Observer):\n",
    "    def update(self, subject):\n",
    "        if subject.state == 0 or subject.state >= 2:\n",
    "            print(\"ConcreteObserverB: Reacted to the event\")\n",
    "\n",
    "subject = ConcreteSubject(0)\n",
    "\n",
    "observer_a = ConcreteObserverA()\n",
    "subject.attach(observer_a)\n",
    "\n",
    "observer_b = ConcreteObserverB()\n",
    "subject.attach(observer_b)\n",
    "\n",
    "subject.state = 1\n",
    "# Output:\n",
    "# ConcreteObserverA: Reacted to the event\n",
    "# ConcreteObserverB: Reacted to the event\n",
    "\n",
    "subject.state = 2\n",
    "# Output:\n",
    "# ConcreteObserverB: Reacted to the event\n",
    "\n",
    "subject.detach(observer_a)\n",
    "\n",
    "subject.state = 3\n",
    "# Output:\n",
    "# ConcreteObserverB: Reacted to the event"
   ]
  },
  {
   "cell_type": "markdown",
   "metadata": {},
   "source": [
    "* In this example, we have a Subject class that maintains a list of observers and provides methods to attach, detach, and notify observers. \n",
    "* The ConcreteSubject class inherits from Subject and adds a state property\n",
    "    * When the state is modified, it notifies all the attached observers.\n",
    "\n",
    "* The Observer abstract base class defines an update method that receives the subject as a parameter. \n",
    "* The ConcreteObserverA and ConcreteObserverB classes inherit from Observer and provide their own implementation of the update method based on the state of the subject\n",
    "\n",
    "* By attaching observers to the subject, we can react to changes in the subject's state and perform specific actions based on those changes. \n",
    "* Observers can be dynamically attached and detached from the subject."
   ]
  },
  {
   "cell_type": "markdown",
   "metadata": {},
   "source": [
    "#### Behavioral Patterns - Strategy Pattern\n",
    "\n",
    "* The Strategy pattern defines a family of algorithms, encapsulates each one, and makes them interchangeable. \n",
    "* It lets the algorithm vary independently from clients that use it. \n",
    "* It allows the behavior of an object to be changed at runtime by composing it with different strategies.\n"
   ]
  },
  {
   "cell_type": "code",
   "execution_count": 33,
   "metadata": {},
   "outputs": [
    {
     "name": "stdout",
     "output_type": "stream",
     "text": [
      "7\n",
      "-1\n",
      "12\n"
     ]
    }
   ],
   "source": [
    "class Strategy:\n",
    "    def execute(self, a, b):\n",
    "        pass\n",
    "\n",
    "class ConcreteStrategyAdd(Strategy):\n",
    "    def execute(self, a, b):\n",
    "        return a + b\n",
    "\n",
    "class ConcreteStrategySubtract(Strategy):\n",
    "    def execute(self, a, b):\n",
    "        return a - b\n",
    "\n",
    "class ConcreteStrategyMultiply(Strategy):\n",
    "    def execute(self, a, b):\n",
    "        return a * b\n",
    "\n",
    "class Context:\n",
    "    def __init__(self, strategy):\n",
    "        self._strategy = strategy\n",
    "    \n",
    "    @property\n",
    "    def strategy(self):\n",
    "        return self._strategy\n",
    "    \n",
    "    @strategy.setter\n",
    "    def strategy(self, strategy):\n",
    "        self._strategy = strategy\n",
    "    \n",
    "    def execute_strategy(self, a, b):\n",
    "        return self._strategy.execute(a, b)\n",
    "\n",
    "context = Context(ConcreteStrategyAdd())\n",
    "result = context.execute_strategy(3, 4)\n",
    "print(result)  # Output: 7\n",
    "\n",
    "context.strategy = ConcreteStrategySubtract()\n",
    "result = context.execute_strategy(3, 4)\n",
    "print(result)  # Output: -1\n",
    "\n",
    "context.strategy = ConcreteStrategyMultiply()\n",
    "result = context.execute_strategy(3, 4)\n",
    "print(result)  # Output: 12"
   ]
  },
  {
   "cell_type": "markdown",
   "metadata": {},
   "source": [
    "* In this example, we have a Strategy abstract base class that defines an execute method taking two parameters. \n",
    "* The ConcreteStrategyAdd, ConcreteStrategySubtract, and ConcreteStrategyMultiply classes inherit from Strategy and provide their own implementation of the execute method.\n",
    "\n",
    "* The Context class takes a Strategy object in its constructor and provides a strategy property to access and modify the strategy at runtime. \n",
    "* It also has an execute_strategy method that delegates the execution to the current strategy.\n",
    "\n",
    "* By creating instances of the Context class with different strategies, we can dynamically change the behavior of the context object at runtime. \n",
    "* The context object doesn't need to know the specific implementation of the strategy\n",
    "    * it only needs to know the interface defined by the Strategy abstract base class."
   ]
  },
  {
   "cell_type": "markdown",
   "metadata": {},
   "source": [
    "## SOLID Principles\n",
    "* S - Single Responsibility Principle (SRP)\n",
    "* O - Open-Closed Principle (OCP)\n",
    "* L - Liskov substitution principle - _Functions that use pointers or references to base classes must be able to use objects of derived classes without knowing it_\n",
    "* I - Interface segregation principle - _Clients should not be forced to depend upon interfaces that they do not use_\n",
    "* D - Dependency inversion principle - _Depend upon abstractions, [not] concretes_\n"
   ]
  },
  {
   "cell_type": "markdown",
   "metadata": {},
   "source": [
    "### SOLID - Single Responsibility Principle (SRP)\n",
    "\n",
    "The Single Responsibility Principle states that a class should have only one reason to change. In other words, a class should have a single responsibility and focus on doing one thing well."
   ]
  },
  {
   "cell_type": "code",
   "execution_count": 34,
   "metadata": {},
   "outputs": [],
   "source": [
    "class Employee:\n",
    "    def __init__(self, name, email):\n",
    "        self.name = name\n",
    "        self.email = email\n",
    "    \n",
    "    def save_to_database(self):\n",
    "        # Code to save employee to database\n",
    "        pass\n",
    "    \n",
    "    def send_email(self, message):\n",
    "        # Code to send email to employee\n",
    "        pass"
   ]
  },
  {
   "cell_type": "markdown",
   "metadata": {},
   "source": [
    "In this example, the Employee class has multiple responsibilities: managing employee data and sending emails. To adhere to the SRP, we should separate these responsibilities into different classes:"
   ]
  },
  {
   "cell_type": "code",
   "execution_count": 35,
   "metadata": {},
   "outputs": [],
   "source": [
    "# Now, the Employee class is responsible for managing employee data, and the EmailSender class is responsible for sending emails.\n",
    "\n",
    "class Employee:\n",
    "    def __init__(self, name, email):\n",
    "        self.name = name\n",
    "        self.email = email\n",
    "    \n",
    "    def save_to_database(self):\n",
    "        # Code to save employee to database\n",
    "        pass\n",
    "\n",
    "class EmailSender:\n",
    "    def send_email(self, email, message):\n",
    "        # Code to send email\n",
    "        pass"
   ]
  },
  {
   "cell_type": "markdown",
   "metadata": {},
   "source": [
    "### SOLID - Open-Closed Principle (OCP)\n",
    "\n",
    "* The Open-Closed Principle states that software entities (classes, modules, functions, etc.) should be open for extension but closed for modification. \n",
    "* In other words, we should be able to extend the behavior of a class without modifying its existing code."
   ]
  },
  {
   "cell_type": "code",
   "execution_count": 36,
   "metadata": {},
   "outputs": [],
   "source": [
    "# The provided code defines two classes\n",
    "# Rectangle and Circle\n",
    "# each representing a geometric shape, along with a function total_area that calculates the combined area of a list of shapes.\n",
    "class Rectangle:\n",
    "    def __init__(self, width, height):\n",
    "        self.width = width\n",
    "        self.height = height\n",
    "    \n",
    "    def calculate_area(self):\n",
    "        return self.width * self.height\n",
    "\n",
    "class Circle:\n",
    "    def __init__(self, radius):\n",
    "        self.radius = radius\n",
    "    \n",
    "    def calculate_area(self):\n",
    "        return 3.14 * self.radius ** 2\n",
    "\n",
    "def total_area(shapes):\n",
    "    total = 0\n",
    "    for shape in shapes:\n",
    "        if isinstance(shape, Rectangle):\n",
    "            total += shape.width * shape.height\n",
    "        elif isinstance(shape, Circle):\n",
    "            total += 3.14 * shape.radius ** 2\n",
    "    return total"
   ]
  },
  {
   "cell_type": "markdown",
   "metadata": {},
   "source": [
    "### SOLID - Liskov Substitution Principle\n",
    "\n",
    "* States that a child class must be substitutable for its parent class. \n",
    "* Liskov substitution principle aims to ensure that the child class can assume the place of its parent class without causing any errors.\n"
   ]
  },
  {
   "cell_type": "code",
   "execution_count": 37,
   "metadata": {},
   "outputs": [
    {
     "name": "stdout",
     "output_type": "stream",
     "text": [
      "Send Hello to john@test.com\n"
     ]
    }
   ],
   "source": [
    "from abc import ABC, abstractmethod\n",
    "\n",
    "\n",
    "class Notification(ABC):\n",
    "    @abstractmethod\n",
    "    def notify(self, message, email):\n",
    "        pass\n",
    "\n",
    "\n",
    "class Email(Notification):\n",
    "    def notify(self, message, email):\n",
    "        print(f'Send {message} to {email}')\n",
    "\n",
    "\n",
    "class SMS(Notification):\n",
    "    def notify(self, message, phone):\n",
    "        print(f'Send {message} to {phone}')\n",
    "\n",
    "\n",
    "# if __name__ == '__main__':\n",
    "notification = SMS()\n",
    "notification.notify('Hello', 'john@test.com')"
   ]
  },
  {
   "cell_type": "markdown",
   "metadata": {},
   "source": [
    "### SOLID - Interface segregation principle"
   ]
  },
  {
   "cell_type": "code",
   "execution_count": 38,
   "metadata": {},
   "outputs": [],
   "source": [
    "from abc import ABC, abstractmethod\n",
    "\n",
    "class Vehicle(ABC):\n",
    "    @abstractmethod\n",
    "    def go(self):\n",
    "        pass\n",
    "\n",
    "    @abstractmethod\n",
    "    def fly(self):\n",
    "        pass\n",
    "    \n",
    "class Aircraft(Vehicle):\n",
    "    def go(self):\n",
    "        print(\"Taxiing\")\n",
    "\n",
    "    def fly(self):\n",
    "        print(\"Flying\")\n",
    "\n",
    "class Car(Vehicle):\n",
    "    def go(self):\n",
    "        print(\"Going\")\n",
    "\n",
    "    def fly(self):\n",
    "        raise Exception('The car cannot fly')"
   ]
  },
  {
   "cell_type": "markdown",
   "metadata": {},
   "source": [
    "* In this design the Car class **must** implement the ``fly()`` method from the Vehicle class that the Car class doesn’t use. \n",
    "* Therefore, this design violates the interface segregation principle.\n",
    "* To fix this, you need to split the Vehicle class into small ones and inherits from these classes from the Aircraft and Car classes:"
   ]
  },
  {
   "cell_type": "code",
   "execution_count": 39,
   "metadata": {},
   "outputs": [],
   "source": [
    "# First, split the Vehicle interface into two smaller interfaces: Movable and Flyable, and inherits the Movable class from the Flyable class:\n",
    "\n",
    "class Movable(ABC):\n",
    "    @abstractmethod\n",
    "    def go(self):\n",
    "        pass\n",
    "\n",
    "class Flyable(Movable):\n",
    "    @abstractmethod\n",
    "    def fly(self):\n",
    "        pass"
   ]
  },
  {
   "cell_type": "code",
   "execution_count": 40,
   "metadata": {},
   "outputs": [],
   "source": [
    "# Second, inherits from the Flyable class from the Aircraft class:\n",
    "\n",
    "class Aircraft(Flyable):\n",
    "    def go(self):\n",
    "        print(\"Taxiing\")\n",
    "\n",
    "    def fly(self):\n",
    "        print(\"Flying\")"
   ]
  },
  {
   "cell_type": "code",
   "execution_count": 41,
   "metadata": {},
   "outputs": [],
   "source": [
    "# Third, inherit the Movable class from the Car class:\n",
    "class Car(Movable):\n",
    "    def go(self):\n",
    "        print(\"Going\")"
   ]
  },
  {
   "cell_type": "markdown",
   "metadata": {},
   "source": [
    "### SOLID - Dependency inversion principle\n",
    "\n",
    "* High-level modules should not depend on low-level modules\n",
    "* Both should depend on abstractions.\n",
    "* Abstractions should not depend on details\n",
    "    * Details should depend on abstractions.\n",
    "* Aims to reduce the **coupling** between classes by creating an abstraction layer between them."
   ]
  },
  {
   "cell_type": "code",
   "execution_count": 42,
   "metadata": {},
   "outputs": [
    {
     "name": "stdout",
     "output_type": "stream",
     "text": [
      "100 EUR = 120.0 USD\n"
     ]
    }
   ],
   "source": [
    "class FXConverter:\n",
    "    def convert(self, from_currency, to_currency, amount):\n",
    "        print(f'{amount} {from_currency} = {amount * 1.2} {to_currency}')\n",
    "        return amount * 1.2\n",
    "\n",
    "class App:\n",
    "    def start(self):\n",
    "        converter = FXConverter()\n",
    "        converter.convert('EUR', 'USD', 100)\n",
    "\n",
    "\n",
    "app = App()\n",
    "app.start()"
   ]
  },
  {
   "cell_type": "markdown",
   "metadata": {},
   "source": [
    "* We have two classes FXConverter and App.\n",
    "* The FXConverter class uses an API from an imaginary FX third-party to convert an amount from one currency to another. \n",
    "    * the exchange rate is 1.2 (in practice it would be an API call to get the exchange rate)\n",
    "\n",
    "The App class :\n",
    "* Has a start() method that uses an instance of the FXconverter class to convert 100 EUR to USD.\n",
    "* The App is a high-level module. \n",
    "* However, it depends heavily on the FXConverter class that is dependent on the FX’s API.\n",
    "\n",
    "In the future :\n",
    "* If the FX’s API changes, it’ll break the code. \n",
    "* Also, if you want to use a different API, you’ll need to change the App class.\n",
    "* To prevent this, you need to invert the dependency so that the FXConverter class **needs to adapt to the App class**.\n",
    "* To do that\n",
    "    * you define an interface \n",
    "    * make the App dependent on it instead of FXConverter class. \n",
    "    * You change the FXConverter to comply with the interface."
   ]
  },
  {
   "cell_type": "code",
   "execution_count": 43,
   "metadata": {},
   "outputs": [],
   "source": [
    "# First, define an abstract class CurrencyConverter that acts as an interface. \n",
    "# The CurrencyConverter class has the convert() method that all of its subclasses must implement:\n",
    "\n",
    "from abc import ABC\n",
    "\n",
    "class CurrencyConverter(ABC):\n",
    "    def convert(self, from_currency, to_currency, amount) -> float:\n",
    "        pass"
   ]
  },
  {
   "cell_type": "code",
   "execution_count": 44,
   "metadata": {},
   "outputs": [],
   "source": [
    "# Second, redefine the FXConverter class so that it inherits from the CurrencyConverter class and implement the convert() method\n",
    "\n",
    "class FXConverter(CurrencyConverter):\n",
    "    def convert(self, from_currency, to_currency, amount) -> float:\n",
    "        print('Converting currency using FX API')\n",
    "        print(f'{amount} {from_currency} = {amount * 1.2} {to_currency}')\n",
    "        return amount * 2"
   ]
  },
  {
   "cell_type": "code",
   "execution_count": 45,
   "metadata": {},
   "outputs": [],
   "source": [
    "# Third, add the __init__ method to the App class and initialize the CurrencyConverter‘s object:\n",
    "class App:\n",
    "    def __init__(self, converter: CurrencyConverter):\n",
    "        self.converter = converter\n",
    "\n",
    "    def start(self):\n",
    "        self.converter.convert('EUR', 'USD', 100)"
   ]
  },
  {
   "cell_type": "code",
   "execution_count": 46,
   "metadata": {},
   "outputs": [
    {
     "name": "stdout",
     "output_type": "stream",
     "text": [
      "Converting currency using FX API\n",
      "100 EUR = 120.0 USD\n"
     ]
    }
   ],
   "source": [
    "# Now, the App class depends on the CurrencyConverter interface, not the FXConverter class.\n",
    "# The following creates an instance of the FXConverter and pass it to the App:\n",
    "\n",
    "converter = FXConverter()\n",
    "app = App(converter)\n",
    "app.start()"
   ]
  },
  {
   "cell_type": "code",
   "execution_count": 47,
   "metadata": {},
   "outputs": [],
   "source": [
    "# In the future, you can support another currency converter API by subclassing the CurrencyConverter class. \n",
    "# For example, the following defines the AlphaConverter class that inherits from the CurrencyConverter.\n",
    "\n",
    "class AlphaConverter(CurrencyConverter):\n",
    "    def convert(self, from_currency, to_currency, amount) -> float:\n",
    "        print('Converting currency using Alpha API')\n",
    "        print(f'{amount} {from_currency} = {amount * 1.2} {to_currency}')\n",
    "        return amount * 1.15"
   ]
  },
  {
   "cell_type": "code",
   "execution_count": 48,
   "metadata": {},
   "outputs": [
    {
     "name": "stdout",
     "output_type": "stream",
     "text": [
      "Converting currency using Alpha API\n",
      "100 EUR = 120.0 USD\n"
     ]
    }
   ],
   "source": [
    "converter = AlphaConverter()\n",
    "app = App(converter)\n",
    "app.start()"
   ]
  },
  {
   "cell_type": "code",
   "execution_count": 49,
   "metadata": {},
   "outputs": [
    {
     "name": "stdout",
     "output_type": "stream",
     "text": [
      "Converting currency using Alpha API\n",
      "100 EUR = 120.0 USD\n"
     ]
    }
   ],
   "source": [
    "# All in one\n",
    "from abc import ABC\n",
    "\n",
    "\n",
    "class CurrencyConverter(ABC):\n",
    "    def convert(self, from_currency, to_currency, amount) -> float:\n",
    "        pass\n",
    "\n",
    "\n",
    "class FXConverter(CurrencyConverter):\n",
    "    def convert(self, from_currency, to_currency, amount) -> float:\n",
    "        print('Converting currency using FX API')\n",
    "        print(f'{amount} {from_currency} = {amount * 1.2} {to_currency}')\n",
    "        return amount * 1.15\n",
    "\n",
    "\n",
    "class AlphaConverter(CurrencyConverter):\n",
    "    def convert(self, from_currency, to_currency, amount) -> float:\n",
    "        print('Converting currency using Alpha API')\n",
    "        print(f'{amount} {from_currency} = {amount * 1.2} {to_currency}')\n",
    "        return amount * 1.2\n",
    "\n",
    "\n",
    "class App:\n",
    "    def __init__(self, converter: CurrencyConverter):\n",
    "        self.converter = converter\n",
    "\n",
    "    def start(self):\n",
    "        self.converter.convert('EUR', 'USD', 100)\n",
    "\n",
    "\n",
    "converter = AlphaConverter()\n",
    "app = App(converter)\n",
    "app.start()"
   ]
  },
  {
   "cell_type": "markdown",
   "metadata": {},
   "source": [
    "## Advanced Topics "
   ]
  },
  {
   "cell_type": "markdown",
   "metadata": {},
   "source": [
    "### Exception Handling in OOP"
   ]
  },
  {
   "cell_type": "code",
   "execution_count": 50,
   "metadata": {},
   "outputs": [
    {
     "name": "stdout",
     "output_type": "stream",
     "text": [
      "Error: Insufficient funds\n"
     ]
    }
   ],
   "source": [
    "class BankAccount:\n",
    "    def __init__(self, balance):\n",
    "        self.balance = balance\n",
    "    \n",
    "    def withdraw(self, amount):\n",
    "        if amount > self.balance:\n",
    "            raise ValueError(\"Insufficient funds\")\n",
    "        self.balance -= amount\n",
    "    \n",
    "    def deposit(self, amount):\n",
    "        self.balance += amount\n",
    "\n",
    "try:\n",
    "    account = BankAccount(1000)\n",
    "    account.withdraw(1500)\n",
    "except ValueError as e:\n",
    "    print(f\"Error: {str(e)}\")"
   ]
  },
  {
   "cell_type": "markdown",
   "metadata": {},
   "source": [
    "### Iterators and Generators"
   ]
  },
  {
   "cell_type": "code",
   "execution_count": 51,
   "metadata": {},
   "outputs": [
    {
     "name": "stdout",
     "output_type": "stream",
     "text": [
      "0\n",
      "1\n",
      "1\n",
      "2\n",
      "3\n",
      "5\n",
      "8\n",
      "13\n",
      "21\n",
      "34\n",
      "55\n",
      "89\n"
     ]
    }
   ],
   "source": [
    "class Fibonacci:\n",
    "    def __init__(self, limit):\n",
    "        self.limit = limit\n",
    "        self.a, self.b = 0, 1\n",
    "    \n",
    "    def __iter__(self):\n",
    "        return self\n",
    "    \n",
    "    def __next__(self):\n",
    "        if self.a > self.limit:\n",
    "            raise StopIteration\n",
    "        result = self.a\n",
    "        self.a, self.b = self.b, self.a + self.b\n",
    "        return result\n",
    "\n",
    "fib = Fibonacci(100)\n",
    "for num in fib:\n",
    "    print(num)"
   ]
  },
  {
   "cell_type": "markdown",
   "metadata": {},
   "source": [
    "### Metaclasses\n",
    "\n",
    "* Allow you to customize the behavior of classes themselves. \n",
    "* They are classes that define the behavior of other classes.\n",
    "\n"
   ]
  },
  {
   "cell_type": "code",
   "execution_count": 52,
   "metadata": {},
   "outputs": [
    {
     "name": "stdout",
     "output_type": "stream",
     "text": [
      "1\n",
      "1\n"
     ]
    }
   ],
   "source": [
    "# In this example, the Singleton metaclass ensures that only one instance of the MyClass is created, regardless of how many times the class is instantiated. \n",
    "# The __call__ method of the metaclass is invoked whenever the class is called\n",
    "# it checks if an instance of the class already exists. \n",
    "# If it does, it returns the existing instance; otherwise, it creates a new instance.\n",
    "\n",
    "# Metaclasses provide a way to modify the behavior of classes at a higher level and can be used for various purposes, such as implementing design patterns, adding class-level validation, or modifying class creation.\n",
    "\n",
    "class Singleton(type):\n",
    "    _instances = {}\n",
    "    \n",
    "    def __call__(cls, *args, **kwargs):\n",
    "        if cls not in cls._instances:\n",
    "            cls._instances[cls] = super().__call__(*args, **kwargs)\n",
    "        return cls._instances[cls]\n",
    "\n",
    "class MyClass(metaclass=Singleton):\n",
    "    def __init__(self, value):\n",
    "        self.value = value\n",
    "\n",
    "obj1 = MyClass(1)\n",
    "obj2 = MyClass(2)\n",
    "\n",
    "print(obj1.value)  # Output: 1\n",
    "print(obj2.value)  # Output: 1"
   ]
  },
  {
   "cell_type": "markdown",
   "metadata": {},
   "source": [
    "## Best Practices and Coding Conventions\n",
    "\n",
    "1. Meaningful and descriptive names \n",
    "1. code formatting : Follow the PEP 8 style guide\n",
    "1. Documentation\n",
    "1. modules and packages\n",
    "1. Git to track changes and collaborate with others\n",
    "1. unit testing \n",
    "1. Continuously refactor for design, readability, and performance"
   ]
  }
 ],
 "metadata": {
  "kernelspec": {
   "display_name": "jedha",
   "language": "python",
   "name": "python3"
  },
  "language_info": {
   "codemirror_mode": {
    "name": "ipython",
    "version": 3
   },
   "file_extension": ".py",
   "mimetype": "text/x-python",
   "name": "python",
   "nbconvert_exporter": "python",
   "pygments_lexer": "ipython3",
   "version": "3.11.7"
  }
 },
 "nbformat": 4,
 "nbformat_minor": 2
}
