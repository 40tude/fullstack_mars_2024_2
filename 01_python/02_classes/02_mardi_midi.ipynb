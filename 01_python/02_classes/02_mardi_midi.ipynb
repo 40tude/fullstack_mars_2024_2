{
 "cells": [
  {
   "cell_type": "markdown",
   "metadata": {},
   "source": [
    "# Math oriented programming\n",
    "\n",
    "* https://app.jedha.co/course/python-best-practices-ft/math-oriented-programming-ft\n",
    "\n",
    "Mathematics, in general, we don't like to do it. Especially when it involves repeating operations, over and over again. Let's be real lazy and create a class that will do the operations we want for us.\n",
    "\n",
    "* Create a class to be called \"math.\"\n",
    "* _This class will have no internal attributes, so you don't need to define an init() _\n",
    "* Create a method that will compute the square root of any number.\n",
    "* Create a method that will calculate the average of any list of numbers.\n",
    "* Create a method to find out if a number is even or odd.\n",
    "* Finally, create a method that will give the total sum of a list of numbers."
   ]
  },
  {
   "cell_type": "code",
   "execution_count": 189,
   "metadata": {},
   "outputs": [],
   "source": [
    "class MyMath():\n",
    "  \"\"\"Simple Math class\"\"\"\n",
    "\n",
    "  def __init__(self):\n",
    "    # print(\"Init\")\n",
    "    pass\n",
    "\n",
    "  def square(self, val:float)->float:\n",
    "    \"\"\"Retourne la racine carré de l'argument\"\"\"\n",
    "    return val**.5\n",
    "\n",
    "  def total(self, mylist:list[int])->float:\n",
    "    \"\"\"Retourne la somme de la liste passée\"\"\"\n",
    "    return  sum(mylist)\n",
    "  \n",
    "  def average(self, mylist:list[int])->float:\n",
    "    \"\"\"Retourne la moyenne de la liste passée\"\"\"\n",
    "    return  self.total(mylist)/len(mylist)\n",
    "  \n",
    "  def is_odd(self, val:int)->bool:\n",
    "    \"\"\"Indique si la valeur est impaire ou pas\"\"\"\n",
    "    return val%2\n"
   ]
  },
  {
   "cell_type": "code",
   "execution_count": 190,
   "metadata": {},
   "outputs": [
    {
     "name": "stdout",
     "output_type": "stream",
     "text": [
      "La racine de 25 est 5.0\n",
      "Le total de [2, 2, 5] est 9\n",
      "La moyenne de [2, 2, 5] est 3.0\n",
      "3 est impair\n",
      "2 est pair\n"
     ]
    }
   ],
   "source": [
    "bob = MyMath()\n",
    "\n",
    "ma_valeur = 25\n",
    "print(f\"La racine de {ma_valeur} est {bob.square(ma_valeur)}\")\n",
    "\n",
    "ma_valeur = [2, 2, 5] \n",
    "print(f\"Le total de {ma_valeur} est {bob.total(ma_valeur)}\")\n",
    "print(f\"La moyenne de {ma_valeur} est {bob.average(ma_valeur)}\")\n",
    "\n",
    "for ma_valeur in [3, 2]:\n",
    "  if bob.is_odd(ma_valeur):\n",
    "    print(f\"{ma_valeur} est impair\")\n",
    "  else:\n",
    "    print(f\"{ma_valeur} est pair\")\n"
   ]
  },
  {
   "cell_type": "markdown",
   "metadata": {},
   "source": [
    "# Imputer\n",
    "\n",
    "* https://app.jedha.co/course/python-best-practices-ft/imputer-ft\n",
    "\n",
    "In data science, it's common for there to be missing values in a dataset. Let's see how we can create a class that will allow us to replace this missing value by the average of the values in the list\n",
    "\n",
    "* Create a class that we will call Imputer.\n",
    "* To simplify the exercise, we will only deal with lists for the moment.\n",
    "* Our class will take an attribute that we will call list.\n",
    "* Create an avg() function that will first remove the missing value and then replace it with the average of the list."
   ]
  },
  {
   "cell_type": "code",
   "execution_count": 197,
   "metadata": {},
   "outputs": [],
   "source": [
    "class MyImputer():\n",
    "  \n",
    "  def __init__(self, mylist:list[int]):\n",
    "    tmp_list = []\n",
    "    for i in range(len(mylist)):\n",
    "      if (mylist[i] != \"None\"):\n",
    "        tmp_list.append(mylist[i])\n",
    "    \n",
    "    avg = sum(tmp_list)/len(tmp_list)\n",
    "    \n",
    "    self.list = mylist.copy()\n",
    "    for i in range(len(self.list)):\n",
    "      if (self.list[i] == \"None\"):\n",
    "        self.list[i] = avg\n",
    "\n",
    "  def display(self):\n",
    "    print(self.list)  "
   ]
  },
  {
   "cell_type": "code",
   "execution_count": 196,
   "metadata": {},
   "outputs": [
    {
     "name": "stdout",
     "output_type": "stream",
     "text": [
      "[2, 2, 3.0, 5]\n"
     ]
    }
   ],
   "source": [
    "bob = MyImputer([2, 2, \"None\" ,5] )\n",
    "bob.display()"
   ]
  },
  {
   "cell_type": "markdown",
   "metadata": {},
   "source": [
    "* We have created our Imputer class which works very well for replacing missing values with averages. \n",
    "* But, couldn't we also use this class to replace with a median? \n",
    "* Try to add a method in Imputer that will allow us to replace the list with either the average or the median."
   ]
  },
  {
   "cell_type": "code",
   "execution_count": 213,
   "metadata": {},
   "outputs": [],
   "source": [
    "class MyImputer3():\n",
    "  \n",
    "  def __init__(self, mylist:list[int]):\n",
    "    self.initial_list = mylist.copy()\n",
    "    self.imputed_list = self.initial_list.copy()           # ! C'est bien une deep copy qu'on fait. \n",
    "\n",
    "  def impute_avg(self):\n",
    "    tmp_list = []\n",
    "    for i in range(len(self.initial_list)):\n",
    "      if (self.initial_list[i] != \"None\"):\n",
    "        tmp_list.append(self.initial_list[i])\n",
    "    \n",
    "    avg = sum(tmp_list)/len(tmp_list)\n",
    "\n",
    "    for i in range(len(self.initial_list)):\n",
    "      if (self.initial_list[i] == \"None\"):\n",
    "        self.imputed_list[i] = avg\n",
    "  \n",
    "\n",
    "  def impute_med(self):\n",
    "    tmp_list = []\n",
    "    for i in range(len(self.initial_list)):\n",
    "      if (self.initial_list[i] != \"None\"):\n",
    "        tmp_list.append(self.initial_list[i])\n",
    "    tmp_list.sort()\n",
    "\n",
    "    # find the median\n",
    "    # n = len(tmp_list)\n",
    "    # if n % 2 == 0:\n",
    "    #   median = (tmp_list[n//2 - 1] + tmp_list[n//2]) / 2\n",
    "    # else:\n",
    "    #   median = tmp_list[n//2]\n",
    "\n",
    "    # division entière\n",
    "    half = len(tmp_list) // 2\n",
    "    \n",
    "    # ! RUSE DE COYOTTE !!!!\n",
    "    # ~ = inversion bit à bit \n",
    "    # si half vaut 0 alors ~half vaut -1,  \n",
    "    # si half vaut 1 alors ~half vaut -2,  \n",
    "    # si half vaut 2 alors ~half vaut -3,  \n",
    "    # 😁\n",
    "    med = (tmp_list[half] + tmp_list[~half]) / 2\n",
    "\n",
    "    for i in range(len(self.initial_list)):\n",
    "      if (self.initial_list[i] == \"None\"):\n",
    "        self.imputed_list[i] = med\n",
    "\n",
    "  def display(self):\n",
    "    print(self.imputed_list)  "
   ]
  },
  {
   "cell_type": "markdown",
   "metadata": {},
   "source": [
    "### Je peux changer d'avis en cours de route\n",
    "* Sans recréer un objet je peux imputer soit la moyenne soit la mediane à la volée"
   ]
  },
  {
   "cell_type": "code",
   "execution_count": 214,
   "metadata": {},
   "outputs": [
    {
     "name": "stdout",
     "output_type": "stream",
     "text": [
      "[4.0, 2, 4, 6, 4.0]\n",
      "\n",
      "[5.6, 2, 3, 12, 5, 6, 5.6]\n",
      "[5.0, 2, 3, 12, 5, 6, 5.0]\n"
     ]
    }
   ],
   "source": [
    "bob = MyImputer3([\"None\", 2, 4, 6, \"None\"] )\n",
    "bob.impute_avg()\n",
    "bob.display()\n",
    "print()\n",
    "\n",
    "bob = MyImputer3([\"None\", 2, 3, 12, 5, 6, \"None\"] )\n",
    "bob.impute_avg()\n",
    "bob.display()\n",
    "\n",
    "bob.impute_med()\n",
    "bob.display()"
   ]
  },
  {
   "cell_type": "markdown",
   "metadata": {},
   "source": [
    "# Rebuild your Quiz\n",
    "\n",
    "* https://app.jedha.co/course/python-best-practices-ft/rebuild-a-quiz-ft\n",
    "* La version précedente n'est pas si longue\n"
   ]
  },
  {
   "cell_type": "code",
   "execution_count": null,
   "metadata": {},
   "outputs": [],
   "source": [
    "# La version d'hier du Quiz\n",
    "\n",
    "questions = [\"Name of the computer in War Games\", \"Name of the robot in Interstellar\", \"Name of the robot in Forbidden Planet\"]\n",
    "answers   = [\"WOPR\", \"TARS\", \"Robby\"]\n",
    "\n",
    "i = 0\n",
    "chance_left = 3\n",
    "ans = \"\"\n",
    "while (ans != answers[i]) and (chance_left > 0):\n",
    "  ans = input(questions[i])\n",
    "  if (ans!=answers[i]):\n",
    "    chance_left -= 1\n",
    "    print(f\"Sorry, you have {chance_left} chances left\")\n",
    "  else:\n",
    "    print(\"Good job! This is the right answer\")\n",
    "    i = (i+1) % len(questions)\n",
    "\n",
    "if(chance_left==0):\n",
    "  print(\"Too bad, you lost the game !\")"
   ]
  },
  {
   "cell_type": "markdown",
   "metadata": {},
   "source": [
    "### CdC :\n",
    "* Faire une version 3 sur forme de classes du Quiz où on passe au constructeur\n",
    "  * le nb de réponses (bonnes ou mauvaises) à obtenir\n",
    "  * un deck de n cartes  \n",
    "    * pour pouvoir proposer beaucoup de questions\n",
    "* le joueur peut \"passer\" à la question suivante si il est sec\n",
    "  * Taper `>` pour passer à la carte suivante\n",
    "* à la fin on veut sortir un score sous forme de % de bonnes réponses\n",
    "  "
   ]
  },
  {
   "cell_type": "code",
   "execution_count": 303,
   "metadata": {},
   "outputs": [],
   "source": [
    "class Quiz3():\n",
    "  def __init__(self, nbQuestions, deck):\n",
    "    self.nbQuestions2Answer   = nbQuestions\n",
    "    self.count_answers        = 0\n",
    "    self.count_good_answers   = 0\n",
    "    self.current_Q_id         = 0\n",
    "    self.questionsList        = []\n",
    "    self.answersList          = []\n",
    "\n",
    "    for i in range(len(deck)):\n",
    "      self.questionsList.append(deck[i][\"Q\"])\n",
    "      self.answersList.append(deck[i][\"A\"])\n",
    "\n",
    "  def ask_questions(self):  \n",
    "    while (self.count_answers < self.nbQuestions2Answer) :  \n",
    "      ans = \"\"\n",
    "      # while (ans != self.answersList[self.current_Q_id]) and (self.count_answers < self.nbQuestions2Answer):\n",
    "      ans = input(self.questionsList[self.current_Q_id])\n",
    "      if (ans==\">\"):\n",
    "        # print(\"Jump to the next question.\")\n",
    "        \n",
    "        # passe à la question suivante\n",
    "        # on traite la liste comme une liste circulaire\n",
    "        self.current_Q_id = (self.current_Q_id + 1) % len(self.questionsList)\n",
    "        # break\n",
    "      else :\n",
    "        # the player provided an answer\n",
    "        self.count_answers +=1\n",
    "\n",
    "        if (ans != self.answersList[self.current_Q_id]):\n",
    "          # print(\"Too bad! that is not the correct answer\")\n",
    "          pass\n",
    "        else:\n",
    "          self.count_good_answers +=1\n",
    "          # print(\"Good job! This is the right answer\")\n",
    "          # remove the question from the list to make sure we don't ask it again\n",
    "          self.questionsList.pop(self.current_Q_id)\n",
    "        \n",
    "      "
   ]
  },
  {
   "cell_type": "code",
   "execution_count": 294,
   "metadata": {},
   "outputs": [],
   "source": [
    "deck = [\n",
    "  {\n",
    "    \"Q\" : \"Name of the computer in War Games\",\n",
    "    \"A\" : \"WOPR\"\n",
    "  },\n",
    "  {\n",
    "    \"Q\" : \"Name of the robot in Interstellar\",\n",
    "    \"A\" : \"TARS\"\n",
    "  },\n",
    "  {\n",
    "    \"Q\" : \"Name of the robot in forbidden planet\",\n",
    "    \"A\" : \"Robby\"\n",
    "  },\n",
    "  {\n",
    "    \"Q\" : \"Name of the humanoid robot in Star Wars\", \n",
    "    \"A\" : \"C-3PO\"\n",
    "  },\n",
    "  {\n",
    "    \"Q\" : \"Name of the robot that helps Luke pilot the X-wing\",\n",
    "    \"A\" : \"R2-D2\"\n",
    "  },\n",
    "\n",
    "  # Use the template below to add more questions/answers\n",
    "  # {\n",
    "  #   \"Q\" : \"xxx\",\n",
    "  #   \"A\" : \"yyy\"\n",
    "  # },\n",
    "]"
   ]
  },
  {
   "cell_type": "code",
   "execution_count": 306,
   "metadata": {},
   "outputs": [
    {
     "name": "stdout",
     "output_type": "stream",
     "text": [
      "You will answer 2 questions\n",
      "The answers are case sensitive\n",
      "In case of doubt, press '>' to try another question\n",
      "May the Force be with you...\n",
      "\n",
      "You answered       : 2 questions\n",
      "You had a total of : 1 good answers\n",
      "Your score is      : 50.00 % \n"
     ]
    }
   ],
   "source": [
    "# le Quiz va poser 2 questions et utiliser le deck\n",
    "nb_Q = 2\n",
    "\n",
    "print(f\"You will answer {nb_Q} questions\")\n",
    "print(f\"The answers are case sensitive\")\n",
    "print(f\"In case of doubt, press '>' to try another question\")\n",
    "print(f\"May the Force be with you...\")\n",
    "print()\n",
    "\n",
    "my_quiz = Quiz3(nb_Q, deck)\n",
    "my_quiz.ask_questions()\n",
    "\n",
    "print(f\"You answered       : {my_quiz.nbQuestions2Answer} questions\")\n",
    "print(f\"You had a total of : {my_quiz.count_good_answers} good answers\")\n",
    "print(f\"Your score is      : {100*my_quiz.count_good_answers/my_quiz.nbQuestions2Answer:.2f} % \")"
   ]
  }
 ],
 "metadata": {
  "kernelspec": {
   "display_name": "jedha",
   "language": "python",
   "name": "python3"
  },
  "language_info": {
   "codemirror_mode": {
    "name": "ipython",
    "version": 3
   },
   "file_extension": ".py",
   "mimetype": "text/x-python",
   "name": "python",
   "nbconvert_exporter": "python",
   "pygments_lexer": "ipython3",
   "version": "3.11.7"
  }
 },
 "nbformat": 4,
 "nbformat_minor": 2
}
