{
 "cells": [
  {
   "cell_type": "code",
   "execution_count": null,
   "metadata": {},
   "outputs": [],
   "source": []
  },
  {
   "cell_type": "code",
   "execution_count": 10,
   "metadata": {},
   "outputs": [
    {
     "name": "stdout",
     "output_type": "stream",
     "text": [
      "51\n"
     ]
    }
   ],
   "source": [
    "import numpy as np\n",
    "\n",
    "liste = [200, 100, 101, 99, 150, 148]\n",
    "\n",
    "def get_max_profit(i, lst):\n",
    "    v1 = lst[i]\n",
    "    v2 = np.max(lst[i:])\n",
    "    return v2-v1\n",
    "\n",
    "\n",
    "# Delta_Max = -1\n",
    "# pour toutes les valeurs de liste\n",
    "#   pour toutes les valeurs d'indice supérieur \n",
    "#       trouver la valeur max\n",
    "#       calculer Delta = max-val_départ\n",
    "#       Si delta >Delta_max alors Dalta_max = Delta\n",
    "\n",
    "delta_max=-1\n",
    "for i in range (len(liste)):\n",
    "    delta = get_max_profit(i, liste)\n",
    "    if delta>delta_max :\n",
    "        delta_max = delta        \n",
    "\n",
    "print(delta_max)\n"
   ]
  }
 ],
 "metadata": {
  "kernelspec": {
   "display_name": "jedha",
   "language": "python",
   "name": "python3"
  },
  "language_info": {
   "codemirror_mode": {
    "name": "ipython",
    "version": 3
   },
   "file_extension": ".py",
   "mimetype": "text/x-python",
   "name": "python",
   "nbconvert_exporter": "python",
   "pygments_lexer": "ipython3",
   "version": "3.11.7"
  }
 },
 "nbformat": 4,
 "nbformat_minor": 2
}
