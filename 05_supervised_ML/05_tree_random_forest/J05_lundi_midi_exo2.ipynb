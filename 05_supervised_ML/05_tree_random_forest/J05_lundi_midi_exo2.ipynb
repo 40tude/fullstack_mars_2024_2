{
 "cells": [
  {
   "cell_type": "markdown",
   "id": "6eb92346-c6cf-47e0-a7d9-5bc509e5c93a",
   "metadata": {},
   "source": [
    "# Uber Fares 🚙🚙\n",
    "In this exercise, we'll use Random Forests in order to estimate the price of a Uber ride.\n",
    "\n",
    "## Importing libraries and dataset\n",
    "0. Import the usual libraries and read the dataset from this url:\n",
    "\"https://full-stack-bigdata-datasets.s3.eu-west-3.amazonaws.com/Machine+Learning+Supervis%C3%A9/Decision+trees/uber.csv\""
   ]
  },
  {
   "cell_type": "code",
   "execution_count": 173,
   "id": "5c474b9b-2cb3-4b74-a905-479eacf0e22d",
   "metadata": {},
   "outputs": [],
   "source": [
    "import pandas as pd\n",
    "import datetime as dt\n",
    "import numpy as np\n",
    "from sklearn.model_selection import train_test_split\n",
    "from sklearn.pipeline import Pipeline\n",
    "from sklearn.impute import SimpleImputer\n",
    "from sklearn.preprocessing import OneHotEncoder, StandardScaler, LabelEncoder\n",
    "from sklearn.compose import ColumnTransformer\n",
    "from sklearn.tree import DecisionTreeClassifier\n",
    "from sklearn.ensemble import RandomForestClassifier\n",
    "from sklearn.model_selection import GridSearchCV\n",
    "from sklearn.metrics import (\n",
    "    accuracy_score,\n",
    "    f1_score,\n",
    "    ConfusionMatrixDisplay,\n",
    "    RocCurveDisplay,\n",
    ")\n",
    "import matplotlib.pyplot as plt\n",
    "import warnings\n",
    "\n",
    "import plotly.express as px\n",
    "import plotly.graph_objects as go\n",
    "import plotly.io as pio\n",
    "\n",
    "\n",
    "from sklearn.feature_selection import  SequentialFeatureSelector\n",
    "from sklearn.metrics import classification_report\n",
    "from sklearn.linear_model import LinearRegression\n",
    "from sklearn.ensemble import RandomForestRegressor\n",
    "from sklearn.metrics import mean_absolute_error\n"
   ]
  },
  {
   "cell_type": "code",
   "execution_count": 146,
   "id": "ba06a183-f0f8-4056-bea5-dbe4fb8170f3",
   "metadata": {},
   "outputs": [
    {
     "data": {
      "text/html": [
       "<div>\n",
       "<style scoped>\n",
       "    .dataframe tbody tr th:only-of-type {\n",
       "        vertical-align: middle;\n",
       "    }\n",
       "\n",
       "    .dataframe tbody tr th {\n",
       "        vertical-align: top;\n",
       "    }\n",
       "\n",
       "    .dataframe thead th {\n",
       "        text-align: right;\n",
       "    }\n",
       "</style>\n",
       "<table border=\"1\" class=\"dataframe\">\n",
       "  <thead>\n",
       "    <tr style=\"text-align: right;\">\n",
       "      <th></th>\n",
       "      <th>Unnamed: 0</th>\n",
       "      <th>key</th>\n",
       "      <th>fare_amount</th>\n",
       "      <th>pickup_datetime</th>\n",
       "      <th>pickup_longitude</th>\n",
       "      <th>pickup_latitude</th>\n",
       "      <th>dropoff_longitude</th>\n",
       "      <th>dropoff_latitude</th>\n",
       "      <th>passenger_count</th>\n",
       "    </tr>\n",
       "  </thead>\n",
       "  <tbody>\n",
       "    <tr>\n",
       "      <th>0</th>\n",
       "      <td>48462598</td>\n",
       "      <td>2015-05-07 10:24:44.0000004</td>\n",
       "      <td>13.0</td>\n",
       "      <td>2015-05-07 10:24:44 UTC</td>\n",
       "      <td>-73.971664</td>\n",
       "      <td>40.797035</td>\n",
       "      <td>-73.958939</td>\n",
       "      <td>40.777649</td>\n",
       "      <td>1</td>\n",
       "    </tr>\n",
       "    <tr>\n",
       "      <th>1</th>\n",
       "      <td>6637611</td>\n",
       "      <td>2014-07-09 09:14:04.0000002</td>\n",
       "      <td>5.5</td>\n",
       "      <td>2014-07-09 09:14:04 UTC</td>\n",
       "      <td>-73.991635</td>\n",
       "      <td>40.749855</td>\n",
       "      <td>-73.988250</td>\n",
       "      <td>40.741341</td>\n",
       "      <td>2</td>\n",
       "    </tr>\n",
       "    <tr>\n",
       "      <th>2</th>\n",
       "      <td>8357193</td>\n",
       "      <td>2013-11-11 18:51:00.000000240</td>\n",
       "      <td>8.5</td>\n",
       "      <td>2013-11-11 18:51:00 UTC</td>\n",
       "      <td>-73.982352</td>\n",
       "      <td>40.777042</td>\n",
       "      <td>-73.995912</td>\n",
       "      <td>40.759757</td>\n",
       "      <td>1</td>\n",
       "    </tr>\n",
       "    <tr>\n",
       "      <th>3</th>\n",
       "      <td>40466112</td>\n",
       "      <td>2014-05-22 01:54:00.00000069</td>\n",
       "      <td>19.0</td>\n",
       "      <td>2014-05-22 01:54:00 UTC</td>\n",
       "      <td>-73.991455</td>\n",
       "      <td>40.751700</td>\n",
       "      <td>-73.936357</td>\n",
       "      <td>40.812327</td>\n",
       "      <td>1</td>\n",
       "    </tr>\n",
       "    <tr>\n",
       "      <th>4</th>\n",
       "      <td>35405035</td>\n",
       "      <td>2011-06-21 23:37:33.0000002</td>\n",
       "      <td>7.7</td>\n",
       "      <td>2011-06-21 23:37:33 UTC</td>\n",
       "      <td>-73.974749</td>\n",
       "      <td>40.756255</td>\n",
       "      <td>-73.952276</td>\n",
       "      <td>40.778332</td>\n",
       "      <td>1</td>\n",
       "    </tr>\n",
       "  </tbody>\n",
       "</table>\n",
       "</div>"
      ],
      "text/plain": [
       "   Unnamed: 0                            key  fare_amount  \\\n",
       "0    48462598    2015-05-07 10:24:44.0000004         13.0   \n",
       "1     6637611    2014-07-09 09:14:04.0000002          5.5   \n",
       "2     8357193  2013-11-11 18:51:00.000000240          8.5   \n",
       "3    40466112   2014-05-22 01:54:00.00000069         19.0   \n",
       "4    35405035    2011-06-21 23:37:33.0000002          7.7   \n",
       "\n",
       "           pickup_datetime  pickup_longitude  pickup_latitude  \\\n",
       "0  2015-05-07 10:24:44 UTC        -73.971664        40.797035   \n",
       "1  2014-07-09 09:14:04 UTC        -73.991635        40.749855   \n",
       "2  2013-11-11 18:51:00 UTC        -73.982352        40.777042   \n",
       "3  2014-05-22 01:54:00 UTC        -73.991455        40.751700   \n",
       "4  2011-06-21 23:37:33 UTC        -73.974749        40.756255   \n",
       "\n",
       "   dropoff_longitude  dropoff_latitude  passenger_count  \n",
       "0         -73.958939         40.777649                1  \n",
       "1         -73.988250         40.741341                2  \n",
       "2         -73.995912         40.759757                1  \n",
       "3         -73.936357         40.812327                1  \n",
       "4         -73.952276         40.778332                1  "
      ]
     },
     "execution_count": 146,
     "metadata": {},
     "output_type": "execute_result"
    }
   ],
   "source": [
    "dataset = pd.read_csv(\"https://full-stack-bigdata-datasets.s3.eu-west-3.amazonaws.com/Machine+Learning+Supervis%C3%A9/Decision+trees/uber.csv\")\n",
    "dataset.head()"
   ]
  },
  {
   "cell_type": "markdown",
   "id": "16f66efd-b8e1-4fcb-9d4b-de46057fd269",
   "metadata": {},
   "source": [
    "## Basic exploring and cleaning\n",
    "1. Display basic statistics about the dataset. Do you notice some inconsistent values?"
   ]
  },
  {
   "cell_type": "code",
   "execution_count": 147,
   "id": "0a052614-58b2-4689-99ca-429450d0a64b",
   "metadata": {},
   "outputs": [
    {
     "data": {
      "text/plain": [
       "(20000, 9)"
      ]
     },
     "execution_count": 147,
     "metadata": {},
     "output_type": "execute_result"
    }
   ],
   "source": [
    "dataset.shape"
   ]
  },
  {
   "cell_type": "code",
   "execution_count": 148,
   "id": "a7c82f8f",
   "metadata": {},
   "outputs": [
    {
     "name": "stdout",
     "output_type": "stream",
     "text": [
      "                     count unique                          top freq  \\\n",
      "Unnamed: 0         20000.0    NaN                          NaN  NaN   \n",
      "key                  20000  20000  2015-05-07 10:24:44.0000004    1   \n",
      "fare_amount        20000.0    NaN                          NaN  NaN   \n",
      "pickup_datetime      20000  19967      2012-08-28 14:03:00 UTC    2   \n",
      "pickup_longitude   20000.0    NaN                          NaN  NaN   \n",
      "pickup_latitude    20000.0    NaN                          NaN  NaN   \n",
      "dropoff_longitude  20000.0    NaN                          NaN  NaN   \n",
      "dropoff_latitude   20000.0    NaN                          NaN  NaN   \n",
      "passenger_count    20000.0    NaN                          NaN  NaN   \n",
      "\n",
      "                             mean              std        min          25%  \\\n",
      "Unnamed: 0         27679493.67825  16011228.617798     3949.0  13834759.75   \n",
      "key                           NaN              NaN        NaN          NaN   \n",
      "fare_amount             11.358151          9.89199      -23.7          6.0   \n",
      "pickup_datetime               NaN              NaN        NaN          NaN   \n",
      "pickup_longitude       -72.490431        10.461597 -75.419276   -73.992075   \n",
      "pickup_latitude         39.918498         6.051561  -74.00619    40.734733   \n",
      "dropoff_longitude      -72.459891        10.564266 -75.423067   -73.991423   \n",
      "dropoff_latitude        39.923345          6.90152 -73.991765    40.734105   \n",
      "passenger_count           1.69015         1.311384        0.0          1.0   \n",
      "\n",
      "                          50%          75%         max  \n",
      "Unnamed: 0         27697243.0  41480821.25  55418939.0  \n",
      "key                       NaN          NaN         NaN  \n",
      "fare_amount               8.5         12.5       220.0  \n",
      "pickup_datetime           NaN          NaN         NaN  \n",
      "pickup_longitude   -73.981904   -73.967229   40.803672  \n",
      "pickup_latitude     40.752554    40.767075   41.366138  \n",
      "dropoff_longitude  -73.980305   -73.963509   40.831932  \n",
      "dropoff_latitude    40.752997    40.768348  493.533332  \n",
      "passenger_count           1.0          2.0         6.0  \n"
     ]
    }
   ],
   "source": [
    "print(dataset.describe(include=\"all\").T) # transpose\n"
   ]
  },
  {
   "cell_type": "code",
   "execution_count": 149,
   "id": "cc827cc9",
   "metadata": {},
   "outputs": [
    {
     "name": "stdout",
     "output_type": "stream",
     "text": [
      "0\n"
     ]
    }
   ],
   "source": [
    "print(dataset.duplicated().sum())\n"
   ]
  },
  {
   "cell_type": "code",
   "execution_count": 150,
   "id": "b506dda3",
   "metadata": {},
   "outputs": [
    {
     "name": "stdout",
     "output_type": "stream",
     "text": [
      "<class 'pandas.core.frame.DataFrame'>\n",
      "RangeIndex: 20000 entries, 0 to 19999\n",
      "Data columns (total 9 columns):\n",
      " #   Column             Non-Null Count  Dtype  \n",
      "---  ------             --------------  -----  \n",
      " 0   Unnamed: 0         20000 non-null  int64  \n",
      " 1   key                20000 non-null  object \n",
      " 2   fare_amount        20000 non-null  float64\n",
      " 3   pickup_datetime    20000 non-null  object \n",
      " 4   pickup_longitude   20000 non-null  float64\n",
      " 5   pickup_latitude    20000 non-null  float64\n",
      " 6   dropoff_longitude  20000 non-null  float64\n",
      " 7   dropoff_latitude   20000 non-null  float64\n",
      " 8   passenger_count    20000 non-null  int64  \n",
      "dtypes: float64(5), int64(2), object(2)\n",
      "memory usage: 1.4+ MB\n",
      "None\n"
     ]
    }
   ],
   "source": [
    "print(dataset.info())\n"
   ]
  },
  {
   "cell_type": "markdown",
   "id": "d72b00f1-2df3-494c-91fe-b44f44618ef3",
   "metadata": {},
   "source": [
    "2. Drop the useless columns and the rows containing outliers."
   ]
  },
  {
   "cell_type": "code",
   "execution_count": 151,
   "id": "e430eaac-6661-486c-bc33-15b959ac1def",
   "metadata": {},
   "outputs": [],
   "source": [
    "dataset = dataset.iloc[:,2:]"
   ]
  },
  {
   "cell_type": "code",
   "execution_count": 152,
   "id": "2563d5d2",
   "metadata": {},
   "outputs": [
    {
     "data": {
      "text/plain": [
       "(19998, 7)"
      ]
     },
     "execution_count": 152,
     "metadata": {},
     "output_type": "execute_result"
    }
   ],
   "source": [
    "# virer les lignes où y a des valeurs aberrantes\n",
    "to_keep = (dataset[\"fare_amount\"] > 0)\n",
    "dataset = dataset.loc[to_keep, :]\n",
    "dataset.shape\n"
   ]
  },
  {
   "cell_type": "markdown",
   "id": "8195e822-88aa-4c2e-a19b-ba1ac474200a",
   "metadata": {},
   "source": [
    "## Feature engineering\n",
    "### Dealing with datetime objects\n",
    "3. Convert the `pickup_datetime` column into datetime format. Use panda's [dt module](https://pandas.pydata.org/docs/reference/api/pandas.Series.dt.html) to create the following columns:\n",
    "* Year\n",
    "* Month\n",
    "* Day\n",
    "* Weekday: contains the **name** of the day of week\n",
    "\n",
    "Then, you can drop the column `pickup_datetime`."
   ]
  },
  {
   "cell_type": "code",
   "execution_count": 153,
   "id": "20d13024",
   "metadata": {},
   "outputs": [
    {
     "data": {
      "text/html": [
       "<div>\n",
       "<style scoped>\n",
       "    .dataframe tbody tr th:only-of-type {\n",
       "        vertical-align: middle;\n",
       "    }\n",
       "\n",
       "    .dataframe tbody tr th {\n",
       "        vertical-align: top;\n",
       "    }\n",
       "\n",
       "    .dataframe thead th {\n",
       "        text-align: right;\n",
       "    }\n",
       "</style>\n",
       "<table border=\"1\" class=\"dataframe\">\n",
       "  <thead>\n",
       "    <tr style=\"text-align: right;\">\n",
       "      <th></th>\n",
       "      <th>fare_amount</th>\n",
       "      <th>pickup_datetime</th>\n",
       "      <th>pickup_longitude</th>\n",
       "      <th>pickup_latitude</th>\n",
       "      <th>dropoff_longitude</th>\n",
       "      <th>dropoff_latitude</th>\n",
       "      <th>passenger_count</th>\n",
       "    </tr>\n",
       "  </thead>\n",
       "  <tbody>\n",
       "    <tr>\n",
       "      <th>0</th>\n",
       "      <td>13.0</td>\n",
       "      <td>2015-05-07 10:24:44+00:00</td>\n",
       "      <td>-73.971664</td>\n",
       "      <td>40.797035</td>\n",
       "      <td>-73.958939</td>\n",
       "      <td>40.777649</td>\n",
       "      <td>1</td>\n",
       "    </tr>\n",
       "    <tr>\n",
       "      <th>1</th>\n",
       "      <td>5.5</td>\n",
       "      <td>2014-07-09 09:14:04+00:00</td>\n",
       "      <td>-73.991635</td>\n",
       "      <td>40.749855</td>\n",
       "      <td>-73.988250</td>\n",
       "      <td>40.741341</td>\n",
       "      <td>2</td>\n",
       "    </tr>\n",
       "    <tr>\n",
       "      <th>2</th>\n",
       "      <td>8.5</td>\n",
       "      <td>2013-11-11 18:51:00+00:00</td>\n",
       "      <td>-73.982352</td>\n",
       "      <td>40.777042</td>\n",
       "      <td>-73.995912</td>\n",
       "      <td>40.759757</td>\n",
       "      <td>1</td>\n",
       "    </tr>\n",
       "    <tr>\n",
       "      <th>3</th>\n",
       "      <td>19.0</td>\n",
       "      <td>2014-05-22 01:54:00+00:00</td>\n",
       "      <td>-73.991455</td>\n",
       "      <td>40.751700</td>\n",
       "      <td>-73.936357</td>\n",
       "      <td>40.812327</td>\n",
       "      <td>1</td>\n",
       "    </tr>\n",
       "    <tr>\n",
       "      <th>4</th>\n",
       "      <td>7.7</td>\n",
       "      <td>2011-06-21 23:37:33+00:00</td>\n",
       "      <td>-73.974749</td>\n",
       "      <td>40.756255</td>\n",
       "      <td>-73.952276</td>\n",
       "      <td>40.778332</td>\n",
       "      <td>1</td>\n",
       "    </tr>\n",
       "  </tbody>\n",
       "</table>\n",
       "</div>"
      ],
      "text/plain": [
       "   fare_amount           pickup_datetime  pickup_longitude  pickup_latitude  \\\n",
       "0         13.0 2015-05-07 10:24:44+00:00        -73.971664        40.797035   \n",
       "1          5.5 2014-07-09 09:14:04+00:00        -73.991635        40.749855   \n",
       "2          8.5 2013-11-11 18:51:00+00:00        -73.982352        40.777042   \n",
       "3         19.0 2014-05-22 01:54:00+00:00        -73.991455        40.751700   \n",
       "4          7.7 2011-06-21 23:37:33+00:00        -73.974749        40.756255   \n",
       "\n",
       "   dropoff_longitude  dropoff_latitude  passenger_count  \n",
       "0         -73.958939         40.777649                1  \n",
       "1         -73.988250         40.741341                2  \n",
       "2         -73.995912         40.759757                1  \n",
       "3         -73.936357         40.812327                1  \n",
       "4         -73.952276         40.778332                1  "
      ]
     },
     "execution_count": 153,
     "metadata": {},
     "output_type": "execute_result"
    }
   ],
   "source": [
    "dataset[\"pickup_datetime\"] = pd.to_datetime(dataset[\"pickup_datetime\"])\n",
    "dataset.head() "
   ]
  },
  {
   "cell_type": "code",
   "execution_count": 154,
   "id": "3d990d19-46d8-4ad1-b237-ac57dccce839",
   "metadata": {},
   "outputs": [
    {
     "data": {
      "text/html": [
       "<div>\n",
       "<style scoped>\n",
       "    .dataframe tbody tr th:only-of-type {\n",
       "        vertical-align: middle;\n",
       "    }\n",
       "\n",
       "    .dataframe tbody tr th {\n",
       "        vertical-align: top;\n",
       "    }\n",
       "\n",
       "    .dataframe thead th {\n",
       "        text-align: right;\n",
       "    }\n",
       "</style>\n",
       "<table border=\"1\" class=\"dataframe\">\n",
       "  <thead>\n",
       "    <tr style=\"text-align: right;\">\n",
       "      <th></th>\n",
       "      <th>fare_amount</th>\n",
       "      <th>pickup_longitude</th>\n",
       "      <th>pickup_latitude</th>\n",
       "      <th>dropoff_longitude</th>\n",
       "      <th>dropoff_latitude</th>\n",
       "      <th>passenger_count</th>\n",
       "      <th>year</th>\n",
       "      <th>month</th>\n",
       "      <th>day</th>\n",
       "      <th>weekday</th>\n",
       "    </tr>\n",
       "  </thead>\n",
       "  <tbody>\n",
       "    <tr>\n",
       "      <th>0</th>\n",
       "      <td>13.0</td>\n",
       "      <td>-73.971664</td>\n",
       "      <td>40.797035</td>\n",
       "      <td>-73.958939</td>\n",
       "      <td>40.777649</td>\n",
       "      <td>1</td>\n",
       "      <td>2015</td>\n",
       "      <td>5</td>\n",
       "      <td>7</td>\n",
       "      <td>Thursday</td>\n",
       "    </tr>\n",
       "    <tr>\n",
       "      <th>1</th>\n",
       "      <td>5.5</td>\n",
       "      <td>-73.991635</td>\n",
       "      <td>40.749855</td>\n",
       "      <td>-73.988250</td>\n",
       "      <td>40.741341</td>\n",
       "      <td>2</td>\n",
       "      <td>2014</td>\n",
       "      <td>7</td>\n",
       "      <td>9</td>\n",
       "      <td>Wednesday</td>\n",
       "    </tr>\n",
       "    <tr>\n",
       "      <th>2</th>\n",
       "      <td>8.5</td>\n",
       "      <td>-73.982352</td>\n",
       "      <td>40.777042</td>\n",
       "      <td>-73.995912</td>\n",
       "      <td>40.759757</td>\n",
       "      <td>1</td>\n",
       "      <td>2013</td>\n",
       "      <td>11</td>\n",
       "      <td>11</td>\n",
       "      <td>Monday</td>\n",
       "    </tr>\n",
       "    <tr>\n",
       "      <th>3</th>\n",
       "      <td>19.0</td>\n",
       "      <td>-73.991455</td>\n",
       "      <td>40.751700</td>\n",
       "      <td>-73.936357</td>\n",
       "      <td>40.812327</td>\n",
       "      <td>1</td>\n",
       "      <td>2014</td>\n",
       "      <td>5</td>\n",
       "      <td>22</td>\n",
       "      <td>Thursday</td>\n",
       "    </tr>\n",
       "    <tr>\n",
       "      <th>4</th>\n",
       "      <td>7.7</td>\n",
       "      <td>-73.974749</td>\n",
       "      <td>40.756255</td>\n",
       "      <td>-73.952276</td>\n",
       "      <td>40.778332</td>\n",
       "      <td>1</td>\n",
       "      <td>2011</td>\n",
       "      <td>6</td>\n",
       "      <td>21</td>\n",
       "      <td>Tuesday</td>\n",
       "    </tr>\n",
       "  </tbody>\n",
       "</table>\n",
       "</div>"
      ],
      "text/plain": [
       "   fare_amount  pickup_longitude  pickup_latitude  dropoff_longitude  \\\n",
       "0         13.0        -73.971664        40.797035         -73.958939   \n",
       "1          5.5        -73.991635        40.749855         -73.988250   \n",
       "2          8.5        -73.982352        40.777042         -73.995912   \n",
       "3         19.0        -73.991455        40.751700         -73.936357   \n",
       "4          7.7        -73.974749        40.756255         -73.952276   \n",
       "\n",
       "   dropoff_latitude  passenger_count  year  month  day    weekday  \n",
       "0         40.777649                1  2015      5    7   Thursday  \n",
       "1         40.741341                2  2014      7    9  Wednesday  \n",
       "2         40.759757                1  2013     11   11     Monday  \n",
       "3         40.812327                1  2014      5   22   Thursday  \n",
       "4         40.778332                1  2011      6   21    Tuesday  "
      ]
     },
     "execution_count": 154,
     "metadata": {},
     "output_type": "execute_result"
    }
   ],
   "source": [
    "dataset[\"year\"] = dataset[\"pickup_datetime\"].dt.year\n",
    "dataset[\"month\"] = dataset[\"pickup_datetime\"].dt.month\n",
    "dataset[\"day\"] = dataset[\"pickup_datetime\"].dt.day\n",
    "dataset[\"weekday\"] = dataset[\"pickup_datetime\"].dt.day_name()\n",
    "dataset.drop(\"pickup_datetime\", axis=1, inplace=True)\n",
    "dataset.head()"
   ]
  },
  {
   "cell_type": "code",
   "execution_count": null,
   "id": "46ddd2bb-6872-46aa-87ab-3d4acabb0122",
   "metadata": {},
   "outputs": [],
   "source": []
  },
  {
   "cell_type": "markdown",
   "id": "5e76119d-5ad5-4675-8436-347a913044ba",
   "metadata": {},
   "source": [
    "### Haversine formula\n",
    "\n",
    "It would be very interesting to compute the ride distance from the GPS coordinates. [Haversine formula](https://en.wikipedia.org/wiki/Haversine_formula) allows to do this 🤓:\n",
    "\n",
    "$$\n",
    "d = 2r \\arcsin \\big(\\sqrt{\\sin^2(\\frac{\\phi_2 - \\phi_1}{2}) + \\cos \\phi_1 \\cos \\phi_2 \\sin^2(\\frac{\\lambda_2 - \\lambda_1}{2})} \\big)\n",
    "$$\n",
    "\n",
    "where:\n",
    "* $d$ is the ride distance in kilometers\n",
    "* $r$ is the Earth's radius in kilometers\n",
    "* $\\phi_1$ is the pickup latitude in radians\n",
    "* $\\phi_2$ is the dropoff latitude in radians\n",
    "* $\\lambda_1$ is the pickup longitude in radians\n",
    "* $\\lambda_2$ is the dropoff longitude in radians\n",
    "\n",
    "We've implemented for you a function that computes this formula for one ride with coordinates `lon_1`, `lon_2`, `lat_1` and `lat_2`:"
   ]
  },
  {
   "cell_type": "code",
   "execution_count": 155,
   "id": "6d1b5f8d-298c-43f1-a43a-11806ae4b1bf",
   "metadata": {},
   "outputs": [],
   "source": [
    "def haversine(lon_1, lon_2, lat_1, lat_2):\n",
    "    \n",
    "    lon_1, lon_2, lat_1, lat_2 = map(np.radians, [lon_1, lon_2, lat_1, lat_2])  # Convert degrees to Radians\n",
    "    \n",
    "    \n",
    "    diff_lon = lon_2 - lon_1\n",
    "    diff_lat = lat_2 - lat_1\n",
    "    \n",
    "\n",
    "    distance_km = 2*6371*np.arcsin(np.sqrt(np.sin(diff_lat/2.0)**2 + np.cos(lat_1) * np.cos(lat_2) * np.sin(diff_lon/2.0)**2)) # earth radius: 6371km\n",
    "    \n",
    "    return distance_km"
   ]
  },
  {
   "cell_type": "markdown",
   "id": "14cce317-9bbd-4e4f-af00-df34cb0dd90b",
   "metadata": {},
   "source": [
    "4. Apply the `haversine` function to he whole dataset to create a new column `ride_distance`. [This stackoverflow post](https://stackoverflow.com/questions/13331698/how-to-apply-a-function-to-two-columns-of-pandas-dataframe?answertab=trending#tab-top) might help you!"
   ]
  },
  {
   "cell_type": "code",
   "execution_count": 156,
   "id": "502e844b",
   "metadata": {},
   "outputs": [
    {
     "data": {
      "text/html": [
       "<div>\n",
       "<style scoped>\n",
       "    .dataframe tbody tr th:only-of-type {\n",
       "        vertical-align: middle;\n",
       "    }\n",
       "\n",
       "    .dataframe tbody tr th {\n",
       "        vertical-align: top;\n",
       "    }\n",
       "\n",
       "    .dataframe thead th {\n",
       "        text-align: right;\n",
       "    }\n",
       "</style>\n",
       "<table border=\"1\" class=\"dataframe\">\n",
       "  <thead>\n",
       "    <tr style=\"text-align: right;\">\n",
       "      <th></th>\n",
       "      <th>fare_amount</th>\n",
       "      <th>pickup_longitude</th>\n",
       "      <th>pickup_latitude</th>\n",
       "      <th>dropoff_longitude</th>\n",
       "      <th>dropoff_latitude</th>\n",
       "      <th>passenger_count</th>\n",
       "      <th>year</th>\n",
       "      <th>month</th>\n",
       "      <th>day</th>\n",
       "      <th>weekday</th>\n",
       "      <th>ride_distance</th>\n",
       "    </tr>\n",
       "  </thead>\n",
       "  <tbody>\n",
       "    <tr>\n",
       "      <th>0</th>\n",
       "      <td>13.0</td>\n",
       "      <td>-73.971664</td>\n",
       "      <td>40.797035</td>\n",
       "      <td>-73.958939</td>\n",
       "      <td>40.777649</td>\n",
       "      <td>1</td>\n",
       "      <td>2015</td>\n",
       "      <td>5</td>\n",
       "      <td>7</td>\n",
       "      <td>Thursday</td>\n",
       "      <td>2.407225</td>\n",
       "    </tr>\n",
       "    <tr>\n",
       "      <th>1</th>\n",
       "      <td>5.5</td>\n",
       "      <td>-73.991635</td>\n",
       "      <td>40.749855</td>\n",
       "      <td>-73.988250</td>\n",
       "      <td>40.741341</td>\n",
       "      <td>2</td>\n",
       "      <td>2014</td>\n",
       "      <td>7</td>\n",
       "      <td>9</td>\n",
       "      <td>Wednesday</td>\n",
       "      <td>0.988729</td>\n",
       "    </tr>\n",
       "    <tr>\n",
       "      <th>2</th>\n",
       "      <td>8.5</td>\n",
       "      <td>-73.982352</td>\n",
       "      <td>40.777042</td>\n",
       "      <td>-73.995912</td>\n",
       "      <td>40.759757</td>\n",
       "      <td>1</td>\n",
       "      <td>2013</td>\n",
       "      <td>11</td>\n",
       "      <td>11</td>\n",
       "      <td>Monday</td>\n",
       "      <td>2.235651</td>\n",
       "    </tr>\n",
       "    <tr>\n",
       "      <th>3</th>\n",
       "      <td>19.0</td>\n",
       "      <td>-73.991455</td>\n",
       "      <td>40.751700</td>\n",
       "      <td>-73.936357</td>\n",
       "      <td>40.812327</td>\n",
       "      <td>1</td>\n",
       "      <td>2014</td>\n",
       "      <td>5</td>\n",
       "      <td>22</td>\n",
       "      <td>Thursday</td>\n",
       "      <td>8.183379</td>\n",
       "    </tr>\n",
       "    <tr>\n",
       "      <th>4</th>\n",
       "      <td>7.7</td>\n",
       "      <td>-73.974749</td>\n",
       "      <td>40.756255</td>\n",
       "      <td>-73.952276</td>\n",
       "      <td>40.778332</td>\n",
       "      <td>1</td>\n",
       "      <td>2011</td>\n",
       "      <td>6</td>\n",
       "      <td>21</td>\n",
       "      <td>Tuesday</td>\n",
       "      <td>3.099698</td>\n",
       "    </tr>\n",
       "  </tbody>\n",
       "</table>\n",
       "</div>"
      ],
      "text/plain": [
       "   fare_amount  pickup_longitude  pickup_latitude  dropoff_longitude  \\\n",
       "0         13.0        -73.971664        40.797035         -73.958939   \n",
       "1          5.5        -73.991635        40.749855         -73.988250   \n",
       "2          8.5        -73.982352        40.777042         -73.995912   \n",
       "3         19.0        -73.991455        40.751700         -73.936357   \n",
       "4          7.7        -73.974749        40.756255         -73.952276   \n",
       "\n",
       "   dropoff_latitude  passenger_count  year  month  day    weekday  \\\n",
       "0         40.777649                1  2015      5    7   Thursday   \n",
       "1         40.741341                2  2014      7    9  Wednesday   \n",
       "2         40.759757                1  2013     11   11     Monday   \n",
       "3         40.812327                1  2014      5   22   Thursday   \n",
       "4         40.778332                1  2011      6   21    Tuesday   \n",
       "\n",
       "   ride_distance  \n",
       "0       2.407225  \n",
       "1       0.988729  \n",
       "2       2.235651  \n",
       "3       8.183379  \n",
       "4       3.099698  "
      ]
     },
     "execution_count": 156,
     "metadata": {},
     "output_type": "execute_result"
    }
   ],
   "source": [
    "dataset[\"ride_distance\"] = dataset.apply(lambda row: haversine(row[\"pickup_longitude\"], row[\"dropoff_longitude\"], row[\"pickup_latitude\"], row[\"dropoff_latitude\"]),axis=1) \n",
    "dataset.head()"
   ]
  },
  {
   "cell_type": "code",
   "execution_count": null,
   "id": "8c92e273-5807-433a-bec1-126ad38d5d80",
   "metadata": {},
   "outputs": [],
   "source": []
  },
  {
   "cell_type": "markdown",
   "id": "0fd11461-0af3-4edd-9ee6-0f39d29913da",
   "metadata": {},
   "source": [
    "## Preprocessing\n",
    "5. Separate the target from the features"
   ]
  },
  {
   "cell_type": "code",
   "execution_count": 157,
   "id": "a0e57748-e049-4d72-b5e2-2ec4dbfbec20",
   "metadata": {
    "colab": {
     "base_uri": "https://localhost:8080/",
     "height": 319
    },
    "colab_type": "code",
    "id": "Zn2MYjTjrfBJ",
    "outputId": "720c974a-fdfd-4544-c188-229008b33351"
   },
   "outputs": [
    {
     "data": {
      "text/plain": [
       "0    13.0\n",
       "1     5.5\n",
       "2     8.5\n",
       "3    19.0\n",
       "4     7.7\n",
       "Name: fare_amount, dtype: float64"
      ]
     },
     "execution_count": 157,
     "metadata": {},
     "output_type": "execute_result"
    }
   ],
   "source": [
    "target_name = \"fare_amount\"\n",
    "\n",
    "X = dataset.drop(target_name, axis = 1)\n",
    "Y = dataset.loc[:,target_name]\n",
    "\n",
    "Y.head()\n",
    "\n"
   ]
  },
  {
   "cell_type": "code",
   "execution_count": 158,
   "id": "ffdfbbc1",
   "metadata": {},
   "outputs": [
    {
     "data": {
      "text/html": [
       "<div>\n",
       "<style scoped>\n",
       "    .dataframe tbody tr th:only-of-type {\n",
       "        vertical-align: middle;\n",
       "    }\n",
       "\n",
       "    .dataframe tbody tr th {\n",
       "        vertical-align: top;\n",
       "    }\n",
       "\n",
       "    .dataframe thead th {\n",
       "        text-align: right;\n",
       "    }\n",
       "</style>\n",
       "<table border=\"1\" class=\"dataframe\">\n",
       "  <thead>\n",
       "    <tr style=\"text-align: right;\">\n",
       "      <th></th>\n",
       "      <th>pickup_longitude</th>\n",
       "      <th>pickup_latitude</th>\n",
       "      <th>dropoff_longitude</th>\n",
       "      <th>dropoff_latitude</th>\n",
       "      <th>passenger_count</th>\n",
       "      <th>year</th>\n",
       "      <th>month</th>\n",
       "      <th>day</th>\n",
       "      <th>weekday</th>\n",
       "      <th>ride_distance</th>\n",
       "    </tr>\n",
       "  </thead>\n",
       "  <tbody>\n",
       "    <tr>\n",
       "      <th>0</th>\n",
       "      <td>-73.971664</td>\n",
       "      <td>40.797035</td>\n",
       "      <td>-73.958939</td>\n",
       "      <td>40.777649</td>\n",
       "      <td>1</td>\n",
       "      <td>2015</td>\n",
       "      <td>5</td>\n",
       "      <td>7</td>\n",
       "      <td>Thursday</td>\n",
       "      <td>2.407225</td>\n",
       "    </tr>\n",
       "    <tr>\n",
       "      <th>1</th>\n",
       "      <td>-73.991635</td>\n",
       "      <td>40.749855</td>\n",
       "      <td>-73.988250</td>\n",
       "      <td>40.741341</td>\n",
       "      <td>2</td>\n",
       "      <td>2014</td>\n",
       "      <td>7</td>\n",
       "      <td>9</td>\n",
       "      <td>Wednesday</td>\n",
       "      <td>0.988729</td>\n",
       "    </tr>\n",
       "    <tr>\n",
       "      <th>2</th>\n",
       "      <td>-73.982352</td>\n",
       "      <td>40.777042</td>\n",
       "      <td>-73.995912</td>\n",
       "      <td>40.759757</td>\n",
       "      <td>1</td>\n",
       "      <td>2013</td>\n",
       "      <td>11</td>\n",
       "      <td>11</td>\n",
       "      <td>Monday</td>\n",
       "      <td>2.235651</td>\n",
       "    </tr>\n",
       "    <tr>\n",
       "      <th>3</th>\n",
       "      <td>-73.991455</td>\n",
       "      <td>40.751700</td>\n",
       "      <td>-73.936357</td>\n",
       "      <td>40.812327</td>\n",
       "      <td>1</td>\n",
       "      <td>2014</td>\n",
       "      <td>5</td>\n",
       "      <td>22</td>\n",
       "      <td>Thursday</td>\n",
       "      <td>8.183379</td>\n",
       "    </tr>\n",
       "    <tr>\n",
       "      <th>4</th>\n",
       "      <td>-73.974749</td>\n",
       "      <td>40.756255</td>\n",
       "      <td>-73.952276</td>\n",
       "      <td>40.778332</td>\n",
       "      <td>1</td>\n",
       "      <td>2011</td>\n",
       "      <td>6</td>\n",
       "      <td>21</td>\n",
       "      <td>Tuesday</td>\n",
       "      <td>3.099698</td>\n",
       "    </tr>\n",
       "  </tbody>\n",
       "</table>\n",
       "</div>"
      ],
      "text/plain": [
       "   pickup_longitude  pickup_latitude  dropoff_longitude  dropoff_latitude  \\\n",
       "0        -73.971664        40.797035         -73.958939         40.777649   \n",
       "1        -73.991635        40.749855         -73.988250         40.741341   \n",
       "2        -73.982352        40.777042         -73.995912         40.759757   \n",
       "3        -73.991455        40.751700         -73.936357         40.812327   \n",
       "4        -73.974749        40.756255         -73.952276         40.778332   \n",
       "\n",
       "   passenger_count  year  month  day    weekday  ride_distance  \n",
       "0                1  2015      5    7   Thursday       2.407225  \n",
       "1                2  2014      7    9  Wednesday       0.988729  \n",
       "2                1  2013     11   11     Monday       2.235651  \n",
       "3                1  2014      5   22   Thursday       8.183379  \n",
       "4                1  2011      6   21    Tuesday       3.099698  "
      ]
     },
     "execution_count": 158,
     "metadata": {},
     "output_type": "execute_result"
    }
   ],
   "source": [
    "X.head()"
   ]
  },
  {
   "cell_type": "markdown",
   "id": "485279af-30bc-4564-bb9a-96ac745f04cb",
   "metadata": {},
   "source": [
    "6. Detect names of numeric/categorical features"
   ]
  },
  {
   "cell_type": "code",
   "execution_count": 159,
   "id": "94f8f895",
   "metadata": {},
   "outputs": [
    {
     "data": {
      "text/plain": [
       "Index(['pickup_longitude', 'pickup_latitude', 'dropoff_longitude',\n",
       "       'dropoff_latitude', 'passenger_count', 'year', 'month', 'day',\n",
       "       'ride_distance'],\n",
       "      dtype='object')"
      ]
     },
     "execution_count": 159,
     "metadata": {},
     "output_type": "execute_result"
    }
   ],
   "source": [
    "numeric_features = X.select_dtypes(include=\"number\").columns\n",
    "numeric_features"
   ]
  },
  {
   "cell_type": "code",
   "execution_count": 160,
   "id": "fe5e9829",
   "metadata": {},
   "outputs": [
    {
     "data": {
      "text/plain": [
       "Index(['weekday'], dtype='object')"
      ]
     },
     "execution_count": 160,
     "metadata": {},
     "output_type": "execute_result"
    }
   ],
   "source": [
    "categorical_features = X.select_dtypes(exclude=\"number\").columns\n",
    "categorical_features"
   ]
  },
  {
   "cell_type": "code",
   "execution_count": null,
   "id": "9e988338-9510-41d4-ba25-f9f5892b3ccc",
   "metadata": {},
   "outputs": [],
   "source": []
  },
  {
   "cell_type": "markdown",
   "id": "bcbf0cc3-198b-4700-b306-5dc8da5fa444",
   "metadata": {},
   "source": [
    "7. Make a train/test splitting with test_size = 0.2"
   ]
  },
  {
   "cell_type": "code",
   "execution_count": 161,
   "id": "c2423c92-0e22-4c6e-bda9-82da2a34eb59",
   "metadata": {
    "colab": {
     "base_uri": "https://localhost:8080/",
     "height": 67
    },
    "colab_type": "code",
    "id": "Ra8LgBS5s83i",
    "outputId": "6dd938b3-ca4b-4ddb-c55e-f020aed4eca3"
   },
   "outputs": [],
   "source": [
    "X_train, X_test, Y_train, Y_test = train_test_split(X, Y, test_size=0.2, random_state=0)"
   ]
  },
  {
   "cell_type": "markdown",
   "id": "e1f6af84-3cf7-479b-a1a3-aa13399f37dd",
   "metadata": {},
   "source": [
    "8. Make all the necessary preprocessings.\n",
    "\n",
    "Hint: in this exercise, we'll first create a baseline model with a multivariate **linear regression**. So don't forget to make all the transformations that are required for this kind of model 😉"
   ]
  },
  {
   "cell_type": "code",
   "execution_count": 162,
   "id": "a49eab4f-37d4-41ca-a057-2c0ce3292cb6",
   "metadata": {},
   "outputs": [],
   "source": [
    "numeric_transformer = Pipeline(\n",
    "  steps=[\n",
    "    # (\"imputer_num\", SimpleImputer(strategy=\"median\")),  \n",
    "    (\"scaler_num\" , StandardScaler()),\n",
    "  ]\n",
    ")\n"
   ]
  },
  {
   "cell_type": "code",
   "execution_count": 163,
   "id": "069d40b6-5c1c-4041-82b3-e3f9ccd03ac0",
   "metadata": {},
   "outputs": [],
   "source": [
    "categorical_transformer = Pipeline(\n",
    "  steps=[\n",
    "    # (\"imputer_cat\", SimpleImputer(strategy=\"most_frequent\")),  \n",
    "     (\"encoder_cat\", OneHotEncoder()), # ! pas de drop first                 \n",
    "  ]\n",
    ")"
   ]
  },
  {
   "cell_type": "code",
   "execution_count": 164,
   "id": "21c8b7c0-ba07-4b2d-bbb1-870d7e2391e4",
   "metadata": {},
   "outputs": [],
   "source": [
    "preprocessor = ColumnTransformer(\n",
    "  transformers=[\n",
    "      (\"num\", numeric_transformer,     numeric_features),\n",
    "      (\"cat\", categorical_transformer, categorical_features),\n",
    "  ]\n",
    ")\n",
    "\n"
   ]
  },
  {
   "cell_type": "code",
   "execution_count": 165,
   "id": "2014ad7b",
   "metadata": {},
   "outputs": [
    {
     "data": {
      "text/plain": [
       "array([[-0.14344502,  0.14080045, -0.14430518,  0.12085588, -0.52674365,\n",
       "         0.14178757, -1.22949054,  0.03136581, -0.04966598,  0.        ,\n",
       "         0.        ,  0.        ,  0.        ,  1.        ,  0.        ,\n",
       "         0.        ],\n",
       "       [-0.14549195,  0.14195277, -0.14828083,  0.11791826, -0.52674365,\n",
       "         0.68019666,  1.08407898,  0.84070488, -0.0471955 ,  0.        ,\n",
       "         0.        ,  0.        ,  0.        ,  0.        ,  0.        ,\n",
       "         1.        ],\n",
       "       [-0.14693462,  0.13853306, -0.1486907 ,  0.11680219, -0.52674365,\n",
       "        -1.47343971, -0.36190197,  0.72508501, -0.05173695,  1.        ,\n",
       "         0.        ,  0.        ,  0.        ,  0.        ,  0.        ,\n",
       "         0.        ],\n",
       "       [-0.14296573,  0.14131223, -0.1442259 ,  0.11449285, -0.52674365,\n",
       "         0.68019666,  1.37327517, -0.66235339, -0.04180048,  0.        ,\n",
       "         0.        ,  0.        ,  1.        ,  0.        ,  0.        ,\n",
       "         0.        ],\n",
       "       [-0.14341738,  0.14246957, -0.14398668,  0.12294908, -0.52674365,\n",
       "         1.21860575, -0.65109816, -1.58731233, -0.04810195,  0.        ,\n",
       "         0.        ,  0.        ,  0.        ,  0.        ,  0.        ,\n",
       "         1.        ]])"
      ]
     },
     "execution_count": 165,
     "metadata": {},
     "output_type": "execute_result"
    }
   ],
   "source": [
    "X_train = preprocessor.fit_transform(X_train)\n",
    "X_test = preprocessor.transform(X_test)\n",
    "X_train[0:5]\n"
   ]
  },
  {
   "cell_type": "markdown",
   "id": "a26015c0",
   "metadata": {},
   "source": [
    "# Pas de LabelEncoder sur y"
   ]
  },
  {
   "cell_type": "code",
   "execution_count": null,
   "id": "bb3bfe24-cd39-4e6f-880c-9d58656f5bd3",
   "metadata": {},
   "outputs": [],
   "source": []
  },
  {
   "cell_type": "markdown",
   "id": "5b1abce6-584e-4d4d-ae24-f7fac8dc9813",
   "metadata": {},
   "source": [
    "## Baseline: Linear Regression\n",
    "9. Train a linear regression model and evaluate its performances. Is it satisfying?"
   ]
  },
  {
   "cell_type": "code",
   "execution_count": 166,
   "id": "4f0dc9b3-f587-4a14-ac4c-bd534db31418",
   "metadata": {},
   "outputs": [
    {
     "data": {
      "text/plain": [
       "0.02419859579741468"
      ]
     },
     "execution_count": 166,
     "metadata": {},
     "output_type": "execute_result"
    }
   ],
   "source": [
    "lin_reg_model = LinearRegression()\n",
    "lin_reg_model.fit(X_train, Y_train)\n",
    "\n",
    "Y_train_pred = lin_reg_model.predict(X_train)\n",
    "Y_test_pred = lin_reg_model.predict(X_test)\n",
    "\n",
    "\n",
    "lin_reg_model.score(X_train, Y_train)\n",
    "\n"
   ]
  },
  {
   "cell_type": "code",
   "execution_count": 167,
   "id": "dc75323f",
   "metadata": {},
   "outputs": [
    {
     "data": {
      "text/plain": [
       "0.017058651115981593"
      ]
     },
     "execution_count": 167,
     "metadata": {},
     "output_type": "execute_result"
    }
   ],
   "source": [
    "lin_reg_model.score(X_test, Y_test)\n"
   ]
  },
  {
   "cell_type": "code",
   "execution_count": null,
   "id": "cb4cf4bf-8484-4ca5-8fa1-641fd31668d0",
   "metadata": {},
   "outputs": [],
   "source": []
  },
  {
   "cell_type": "markdown",
   "id": "ab759237-02ef-4b63-885d-65d991621343",
   "metadata": {},
   "source": [
    "## Random Forest\n",
    "10. Train a Random Forest model with default hyperparameters. Are the performances better?"
   ]
  },
  {
   "cell_type": "code",
   "execution_count": 168,
   "id": "64a20536-3b60-48ad-8bbe-7814efa8663b",
   "metadata": {},
   "outputs": [
    {
     "data": {
      "text/html": [
       "<style>#sk-container-id-3 {color: black;}#sk-container-id-3 pre{padding: 0;}#sk-container-id-3 div.sk-toggleable {background-color: white;}#sk-container-id-3 label.sk-toggleable__label {cursor: pointer;display: block;width: 100%;margin-bottom: 0;padding: 0.3em;box-sizing: border-box;text-align: center;}#sk-container-id-3 label.sk-toggleable__label-arrow:before {content: \"▸\";float: left;margin-right: 0.25em;color: #696969;}#sk-container-id-3 label.sk-toggleable__label-arrow:hover:before {color: black;}#sk-container-id-3 div.sk-estimator:hover label.sk-toggleable__label-arrow:before {color: black;}#sk-container-id-3 div.sk-toggleable__content {max-height: 0;max-width: 0;overflow: hidden;text-align: left;background-color: #f0f8ff;}#sk-container-id-3 div.sk-toggleable__content pre {margin: 0.2em;color: black;border-radius: 0.25em;background-color: #f0f8ff;}#sk-container-id-3 input.sk-toggleable__control:checked~div.sk-toggleable__content {max-height: 200px;max-width: 100%;overflow: auto;}#sk-container-id-3 input.sk-toggleable__control:checked~label.sk-toggleable__label-arrow:before {content: \"▾\";}#sk-container-id-3 div.sk-estimator input.sk-toggleable__control:checked~label.sk-toggleable__label {background-color: #d4ebff;}#sk-container-id-3 div.sk-label input.sk-toggleable__control:checked~label.sk-toggleable__label {background-color: #d4ebff;}#sk-container-id-3 input.sk-hidden--visually {border: 0;clip: rect(1px 1px 1px 1px);clip: rect(1px, 1px, 1px, 1px);height: 1px;margin: -1px;overflow: hidden;padding: 0;position: absolute;width: 1px;}#sk-container-id-3 div.sk-estimator {font-family: monospace;background-color: #f0f8ff;border: 1px dotted black;border-radius: 0.25em;box-sizing: border-box;margin-bottom: 0.5em;}#sk-container-id-3 div.sk-estimator:hover {background-color: #d4ebff;}#sk-container-id-3 div.sk-parallel-item::after {content: \"\";width: 100%;border-bottom: 1px solid gray;flex-grow: 1;}#sk-container-id-3 div.sk-label:hover label.sk-toggleable__label {background-color: #d4ebff;}#sk-container-id-3 div.sk-serial::before {content: \"\";position: absolute;border-left: 1px solid gray;box-sizing: border-box;top: 0;bottom: 0;left: 50%;z-index: 0;}#sk-container-id-3 div.sk-serial {display: flex;flex-direction: column;align-items: center;background-color: white;padding-right: 0.2em;padding-left: 0.2em;position: relative;}#sk-container-id-3 div.sk-item {position: relative;z-index: 1;}#sk-container-id-3 div.sk-parallel {display: flex;align-items: stretch;justify-content: center;background-color: white;position: relative;}#sk-container-id-3 div.sk-item::before, #sk-container-id-3 div.sk-parallel-item::before {content: \"\";position: absolute;border-left: 1px solid gray;box-sizing: border-box;top: 0;bottom: 0;left: 50%;z-index: -1;}#sk-container-id-3 div.sk-parallel-item {display: flex;flex-direction: column;z-index: 1;position: relative;background-color: white;}#sk-container-id-3 div.sk-parallel-item:first-child::after {align-self: flex-end;width: 50%;}#sk-container-id-3 div.sk-parallel-item:last-child::after {align-self: flex-start;width: 50%;}#sk-container-id-3 div.sk-parallel-item:only-child::after {width: 0;}#sk-container-id-3 div.sk-dashed-wrapped {border: 1px dashed gray;margin: 0 0.4em 0.5em 0.4em;box-sizing: border-box;padding-bottom: 0.4em;background-color: white;}#sk-container-id-3 div.sk-label label {font-family: monospace;font-weight: bold;display: inline-block;line-height: 1.2em;}#sk-container-id-3 div.sk-label-container {text-align: center;}#sk-container-id-3 div.sk-container {/* jupyter's `normalize.less` sets `[hidden] { display: none; }` but bootstrap.min.css set `[hidden] { display: none !important; }` so we also need the `!important` here to be able to override the default hidden behavior on the sphinx rendered scikit-learn.org. See: https://github.com/scikit-learn/scikit-learn/issues/21755 */display: inline-block !important;position: relative;}#sk-container-id-3 div.sk-text-repr-fallback {display: none;}</style><div id=\"sk-container-id-3\" class=\"sk-top-container\"><div class=\"sk-text-repr-fallback\"><pre>RandomForestRegressor()</pre><b>In a Jupyter environment, please rerun this cell to show the HTML representation or trust the notebook. <br />On GitHub, the HTML representation is unable to render, please try loading this page with nbviewer.org.</b></div><div class=\"sk-container\" hidden><div class=\"sk-item\"><div class=\"sk-estimator sk-toggleable\"><input class=\"sk-toggleable__control sk-hidden--visually\" id=\"sk-estimator-id-3\" type=\"checkbox\" checked><label for=\"sk-estimator-id-3\" class=\"sk-toggleable__label sk-toggleable__label-arrow\">RandomForestRegressor</label><div class=\"sk-toggleable__content\"><pre>RandomForestRegressor()</pre></div></div></div></div></div>"
      ],
      "text/plain": [
       "RandomForestRegressor()"
      ]
     },
     "execution_count": 168,
     "metadata": {},
     "output_type": "execute_result"
    }
   ],
   "source": [
    "rf_regressor = RandomForestRegressor()\n",
    "rf_regressor.fit(X_train, Y_train)\n"
   ]
  },
  {
   "cell_type": "code",
   "execution_count": 169,
   "id": "ef06b612",
   "metadata": {},
   "outputs": [],
   "source": [
    "Y_train_pred = rf_regressor.predict(X_train)\n",
    "Y_test_pred = rf_regressor.predict(X_test)"
   ]
  },
  {
   "cell_type": "code",
   "execution_count": 170,
   "id": "1e0a23ee",
   "metadata": {},
   "outputs": [
    {
     "name": "stdout",
     "output_type": "stream",
     "text": [
      "score training set :  0.9687913290366996\n",
      "score test set     :  0.765760487189884\n"
     ]
    }
   ],
   "source": [
    "print(\"score training set : \", rf_regressor.score(X_train, Y_train))\n",
    "print(\"score test set     : \", rf_regressor.score(X_test, Y_test))\n"
   ]
  },
  {
   "cell_type": "markdown",
   "id": "c2a732fb-e272-46a5-a63a-678f41c05807",
   "metadata": {},
   "source": [
    "### Grid search\n",
    "11. Use grid search to tune the model's hyperparameters. You can try the following values:\n",
    "\n",
    "```\n",
    "params = {\n",
    "    'max_depth': [10, 12, 14],\n",
    "    'min_samples_split': [4, 8],\n",
    "    'n_estimators': [60, 80, 100]\n",
    "}\n",
    "```\n",
    "\n"
   ]
  },
  {
   "cell_type": "code",
   "execution_count": 171,
   "id": "e0ba61c8",
   "metadata": {},
   "outputs": [
    {
     "data": {
      "text/html": [
       "<style>#sk-container-id-4 {color: black;}#sk-container-id-4 pre{padding: 0;}#sk-container-id-4 div.sk-toggleable {background-color: white;}#sk-container-id-4 label.sk-toggleable__label {cursor: pointer;display: block;width: 100%;margin-bottom: 0;padding: 0.3em;box-sizing: border-box;text-align: center;}#sk-container-id-4 label.sk-toggleable__label-arrow:before {content: \"▸\";float: left;margin-right: 0.25em;color: #696969;}#sk-container-id-4 label.sk-toggleable__label-arrow:hover:before {color: black;}#sk-container-id-4 div.sk-estimator:hover label.sk-toggleable__label-arrow:before {color: black;}#sk-container-id-4 div.sk-toggleable__content {max-height: 0;max-width: 0;overflow: hidden;text-align: left;background-color: #f0f8ff;}#sk-container-id-4 div.sk-toggleable__content pre {margin: 0.2em;color: black;border-radius: 0.25em;background-color: #f0f8ff;}#sk-container-id-4 input.sk-toggleable__control:checked~div.sk-toggleable__content {max-height: 200px;max-width: 100%;overflow: auto;}#sk-container-id-4 input.sk-toggleable__control:checked~label.sk-toggleable__label-arrow:before {content: \"▾\";}#sk-container-id-4 div.sk-estimator input.sk-toggleable__control:checked~label.sk-toggleable__label {background-color: #d4ebff;}#sk-container-id-4 div.sk-label input.sk-toggleable__control:checked~label.sk-toggleable__label {background-color: #d4ebff;}#sk-container-id-4 input.sk-hidden--visually {border: 0;clip: rect(1px 1px 1px 1px);clip: rect(1px, 1px, 1px, 1px);height: 1px;margin: -1px;overflow: hidden;padding: 0;position: absolute;width: 1px;}#sk-container-id-4 div.sk-estimator {font-family: monospace;background-color: #f0f8ff;border: 1px dotted black;border-radius: 0.25em;box-sizing: border-box;margin-bottom: 0.5em;}#sk-container-id-4 div.sk-estimator:hover {background-color: #d4ebff;}#sk-container-id-4 div.sk-parallel-item::after {content: \"\";width: 100%;border-bottom: 1px solid gray;flex-grow: 1;}#sk-container-id-4 div.sk-label:hover label.sk-toggleable__label {background-color: #d4ebff;}#sk-container-id-4 div.sk-serial::before {content: \"\";position: absolute;border-left: 1px solid gray;box-sizing: border-box;top: 0;bottom: 0;left: 50%;z-index: 0;}#sk-container-id-4 div.sk-serial {display: flex;flex-direction: column;align-items: center;background-color: white;padding-right: 0.2em;padding-left: 0.2em;position: relative;}#sk-container-id-4 div.sk-item {position: relative;z-index: 1;}#sk-container-id-4 div.sk-parallel {display: flex;align-items: stretch;justify-content: center;background-color: white;position: relative;}#sk-container-id-4 div.sk-item::before, #sk-container-id-4 div.sk-parallel-item::before {content: \"\";position: absolute;border-left: 1px solid gray;box-sizing: border-box;top: 0;bottom: 0;left: 50%;z-index: -1;}#sk-container-id-4 div.sk-parallel-item {display: flex;flex-direction: column;z-index: 1;position: relative;background-color: white;}#sk-container-id-4 div.sk-parallel-item:first-child::after {align-self: flex-end;width: 50%;}#sk-container-id-4 div.sk-parallel-item:last-child::after {align-self: flex-start;width: 50%;}#sk-container-id-4 div.sk-parallel-item:only-child::after {width: 0;}#sk-container-id-4 div.sk-dashed-wrapped {border: 1px dashed gray;margin: 0 0.4em 0.5em 0.4em;box-sizing: border-box;padding-bottom: 0.4em;background-color: white;}#sk-container-id-4 div.sk-label label {font-family: monospace;font-weight: bold;display: inline-block;line-height: 1.2em;}#sk-container-id-4 div.sk-label-container {text-align: center;}#sk-container-id-4 div.sk-container {/* jupyter's `normalize.less` sets `[hidden] { display: none; }` but bootstrap.min.css set `[hidden] { display: none !important; }` so we also need the `!important` here to be able to override the default hidden behavior on the sphinx rendered scikit-learn.org. See: https://github.com/scikit-learn/scikit-learn/issues/21755 */display: inline-block !important;position: relative;}#sk-container-id-4 div.sk-text-repr-fallback {display: none;}</style><div id=\"sk-container-id-4\" class=\"sk-top-container\"><div class=\"sk-text-repr-fallback\"><pre>GridSearchCV(cv=3, estimator=RandomForestRegressor(),\n",
       "             param_grid={&#x27;max_depth&#x27;: [10, 12, 14], &#x27;min_samples_split&#x27;: [4, 8],\n",
       "                         &#x27;n_estimators&#x27;: [60, 80, 100]})</pre><b>In a Jupyter environment, please rerun this cell to show the HTML representation or trust the notebook. <br />On GitHub, the HTML representation is unable to render, please try loading this page with nbviewer.org.</b></div><div class=\"sk-container\" hidden><div class=\"sk-item sk-dashed-wrapped\"><div class=\"sk-label-container\"><div class=\"sk-label sk-toggleable\"><input class=\"sk-toggleable__control sk-hidden--visually\" id=\"sk-estimator-id-4\" type=\"checkbox\" ><label for=\"sk-estimator-id-4\" class=\"sk-toggleable__label sk-toggleable__label-arrow\">GridSearchCV</label><div class=\"sk-toggleable__content\"><pre>GridSearchCV(cv=3, estimator=RandomForestRegressor(),\n",
       "             param_grid={&#x27;max_depth&#x27;: [10, 12, 14], &#x27;min_samples_split&#x27;: [4, 8],\n",
       "                         &#x27;n_estimators&#x27;: [60, 80, 100]})</pre></div></div></div><div class=\"sk-parallel\"><div class=\"sk-parallel-item\"><div class=\"sk-item\"><div class=\"sk-label-container\"><div class=\"sk-label sk-toggleable\"><input class=\"sk-toggleable__control sk-hidden--visually\" id=\"sk-estimator-id-5\" type=\"checkbox\" ><label for=\"sk-estimator-id-5\" class=\"sk-toggleable__label sk-toggleable__label-arrow\">estimator: RandomForestRegressor</label><div class=\"sk-toggleable__content\"><pre>RandomForestRegressor()</pre></div></div></div><div class=\"sk-serial\"><div class=\"sk-item\"><div class=\"sk-estimator sk-toggleable\"><input class=\"sk-toggleable__control sk-hidden--visually\" id=\"sk-estimator-id-6\" type=\"checkbox\" ><label for=\"sk-estimator-id-6\" class=\"sk-toggleable__label sk-toggleable__label-arrow\">RandomForestRegressor</label><div class=\"sk-toggleable__content\"><pre>RandomForestRegressor()</pre></div></div></div></div></div></div></div></div></div></div>"
      ],
      "text/plain": [
       "GridSearchCV(cv=3, estimator=RandomForestRegressor(),\n",
       "             param_grid={'max_depth': [10, 12, 14], 'min_samples_split': [4, 8],\n",
       "                         'n_estimators': [60, 80, 100]})"
      ]
     },
     "execution_count": 171,
     "metadata": {},
     "output_type": "execute_result"
    }
   ],
   "source": [
    "params = {\n",
    "  'max_depth'         : [10, 12, 14],\n",
    "  'min_samples_split' : [4, 8],\n",
    "  'n_estimators'      : [60, 80, 100]\n",
    "}\n",
    "\n",
    "gridsearch = GridSearchCV(rf_regressor, param_grid=params, cv=3)  \n",
    "# gridsearch = GridSearchCV(rf_regressor, param_grid=params, cv=3, verbose=2)  \n",
    "gridsearch.fit(X_train, Y_train)\n"
   ]
  },
  {
   "cell_type": "code",
   "execution_count": 172,
   "id": "d506e0a8",
   "metadata": {},
   "outputs": [
    {
     "name": "stdout",
     "output_type": "stream",
     "text": [
      "Best hyperparameters     :  {'max_depth': 12, 'min_samples_split': 8, 'n_estimators': 80}\n",
      "Best validation accuracy :  0.7666427220949809\n"
     ]
    }
   ],
   "source": [
    "print(\"Best hyperparameters     : \", gridsearch.best_params_)\n",
    "print(\"Best validation accuracy : \", gridsearch.best_score_)"
   ]
  },
  {
   "cell_type": "markdown",
   "id": "ce953508-2bd9-4aee-bfb8-834bd239cb8a",
   "metadata": {},
   "source": [
    "### Performances\n",
    "12. Display the R2-score and the [mean absolute error](https://scikit-learn.org/stable/modules/generated/sklearn.metrics.mean_absolute_error.html?highlight=mean%20absolute%20error#sklearn.metrics.mean_absolute_error) on train set and test set. What do you think of this model? Would it be interesting to use it to estimate the fares on new data?"
   ]
  },
  {
   "cell_type": "code",
   "execution_count": 175,
   "id": "d9540143",
   "metadata": {},
   "outputs": [
    {
     "name": "stdout",
     "output_type": "stream",
     "text": [
      "R2 score on training set            :  0.8943738472056981\n",
      "R2 score on test set                :  0.7759783206969804\n",
      "Mean Absolute Error on training set :  1.6856426840790661\n",
      "Mean Fare on training set           :  11.330150643830478\n",
      "Mean Absolute Error on test set     :  2.16849539022123\n",
      "Mean Fare on test set               :  11.481740000000002\n",
      "Standard-deviation on test set      :  9.631479542206511\n"
     ]
    }
   ],
   "source": [
    "print(\"R2 score on training set            : \", gridsearch.score(X_train, Y_train))\n",
    "print(\"R2 score on test set                : \", gridsearch.score(X_test, Y_test))\n",
    "\n",
    "Y_train_pred = gridsearch.predict(X_train)\n",
    "Y_test_pred = gridsearch.predict(X_test)\n",
    "\n",
    "print(\"Mean Absolute Error on training set : \", mean_absolute_error(Y_train, Y_train_pred))\n",
    "print(\"Mean Fare on training set           : \", Y_train.mean())\n",
    "\n",
    "print(\"Mean Absolute Error on test set     : \", mean_absolute_error(Y_test, Y_test_pred))\n",
    "print(\"Mean Fare on test set               : \", Y_test.mean())\n",
    "print(\"Standard-deviation on test set      : \", Y_test.std())"
   ]
  },
  {
   "cell_type": "code",
   "execution_count": 21,
   "id": "8b30ca00-a80a-44b2-a411-265618145643",
   "metadata": {},
   "outputs": [
    {
     "name": "stdout",
     "output_type": "stream",
     "text": [
      "R2 score on training set :  0.8773412391126457\n",
      "R2 score on test set :  0.7793227198490924\n",
      "Predictions on training set...\n",
      "...Done.\n",
      "[ 6.17142586  9.3272303   4.84357674 ...  7.81504034 24.47627732\n",
      " 10.67468317]\n",
      "\n",
      "Predictions on test set...\n",
      "...Done.\n",
      "[22.10284768  7.84187096 18.5937745  ...  5.27930482  8.80036975\n",
      "  7.59332401]\n",
      "\n",
      "Mean Absolute Error on training set :  1.8398203933642716\n",
      "Mean Fare on training set :  11.330150643830464\n",
      "\n",
      "Mean Absolute Error on test set :  2.1609093314552403\n",
      "Mean Fare on test set :  11.481740000000038\n",
      "Standard-deviation on test set :  9.631479542206511\n"
     ]
    }
   ],
   "source": []
  },
  {
   "cell_type": "markdown",
   "id": "34f3162f-c68e-4155-9f52-4ade4b69eb01",
   "metadata": {},
   "source": [
    "## Feature importance\n",
    "13. Make a bar plot with the importances of each feature. Are you surprised?"
   ]
  },
  {
   "cell_type": "code",
   "execution_count": 179,
   "id": "c3de64c8-3853-4981-8629-b26a4b9fa2fd",
   "metadata": {},
   "outputs": [
    {
     "data": {
      "text/plain": [
       "['pickup_longitude',\n",
       " 'pickup_latitude',\n",
       " 'dropoff_longitude',\n",
       " 'dropoff_latitude',\n",
       " 'passenger_count',\n",
       " 'year',\n",
       " 'month',\n",
       " 'day',\n",
       " 'ride_distance',\n",
       " 'weekday_Friday',\n",
       " 'weekday_Monday',\n",
       " 'weekday_Saturday',\n",
       " 'weekday_Sunday',\n",
       " 'weekday_Thursday',\n",
       " 'weekday_Tuesday',\n",
       " 'weekday_Wednesday']"
      ]
     },
     "execution_count": 179,
     "metadata": {},
     "output_type": "execute_result"
    }
   ],
   "source": [
    "column_names = []\n",
    "for name, step, features_list in preprocessor.transformers_:  \n",
    "  if name == \"num\":  \n",
    "    features = features_list\n",
    "  else:  \n",
    "    features = step.get_feature_names_out()\n",
    "  column_names.extend(features)  # concatenate features names\n",
    "\n",
    "column_names"
   ]
  },
  {
   "cell_type": "code",
   "execution_count": 177,
   "id": "87d9d576-bcc5-48e8-818a-df0242b38dd3",
   "metadata": {},
   "outputs": [],
   "source": [
    "# Create a pandas DataFrame\n",
    "feature_importance = pd.DataFrame(\n",
    "  index=column_names,\n",
    "  data=gridsearch.best_estimator_.feature_importances_,\n",
    "  columns=[\"feature_importances\"],\n",
    ")\n",
    "\n",
    "feature_importance = feature_importance.sort_values(by=\"feature_importances\")"
   ]
  },
  {
   "cell_type": "code",
   "execution_count": 182,
   "id": "d1cb169d",
   "metadata": {},
   "outputs": [
    {
     "data": {
      "application/vnd.plotly.v1+json": {
       "config": {
        "plotlyServerURL": "https://plot.ly"
       },
       "data": [
        {
         "alignmentgroup": "True",
         "hovertemplate": "variable=feature_importances<br>value=%{x}<br>index=%{y}<extra></extra>",
         "legendgroup": "feature_importances",
         "marker": {
          "color": "#636efa",
          "pattern": {
           "shape": ""
          }
         },
         "name": "feature_importances",
         "offsetgroup": "feature_importances",
         "orientation": "h",
         "showlegend": true,
         "textposition": "auto",
         "type": "bar",
         "x": [
          0.0005739928628597342,
          0.0006740153552258477,
          0.0007157025876406176,
          0.0013443844536199763,
          0.0013754978894411096,
          0.0013943483234585916,
          0.0015538513484984425,
          0.0018431721562699609,
          0.005128505679716977,
          0.007424901650835949,
          0.011496975898331324,
          0.022323228521409458,
          0.025370360000902727,
          0.029652342559701967,
          0.04642644208337966,
          0.8427022786287077
         ],
         "xaxis": "x",
         "y": [
          "weekday_Saturday",
          "weekday_Sunday",
          "weekday_Tuesday",
          "weekday_Friday",
          "weekday_Monday",
          "weekday_Wednesday",
          "weekday_Thursday",
          "passenger_count",
          "month",
          "day",
          "pickup_latitude",
          "pickup_longitude",
          "year",
          "dropoff_latitude",
          "dropoff_longitude",
          "ride_distance"
         ],
         "yaxis": "y"
        }
       ],
       "layout": {
        "barmode": "relative",
        "legend": {
         "title": {
          "text": "variable"
         },
         "tracegroupgap": 0
        },
        "margin": {
         "l": 120,
         "t": 60
        },
        "showlegend": false,
        "template": {
         "data": {
          "bar": [
           {
            "error_x": {
             "color": "#2a3f5f"
            },
            "error_y": {
             "color": "#2a3f5f"
            },
            "marker": {
             "line": {
              "color": "#E5ECF6",
              "width": 0.5
             },
             "pattern": {
              "fillmode": "overlay",
              "size": 10,
              "solidity": 0.2
             }
            },
            "type": "bar"
           }
          ],
          "barpolar": [
           {
            "marker": {
             "line": {
              "color": "#E5ECF6",
              "width": 0.5
             },
             "pattern": {
              "fillmode": "overlay",
              "size": 10,
              "solidity": 0.2
             }
            },
            "type": "barpolar"
           }
          ],
          "carpet": [
           {
            "aaxis": {
             "endlinecolor": "#2a3f5f",
             "gridcolor": "white",
             "linecolor": "white",
             "minorgridcolor": "white",
             "startlinecolor": "#2a3f5f"
            },
            "baxis": {
             "endlinecolor": "#2a3f5f",
             "gridcolor": "white",
             "linecolor": "white",
             "minorgridcolor": "white",
             "startlinecolor": "#2a3f5f"
            },
            "type": "carpet"
           }
          ],
          "choropleth": [
           {
            "colorbar": {
             "outlinewidth": 0,
             "ticks": ""
            },
            "type": "choropleth"
           }
          ],
          "contour": [
           {
            "colorbar": {
             "outlinewidth": 0,
             "ticks": ""
            },
            "colorscale": [
             [
              0,
              "#0d0887"
             ],
             [
              0.1111111111111111,
              "#46039f"
             ],
             [
              0.2222222222222222,
              "#7201a8"
             ],
             [
              0.3333333333333333,
              "#9c179e"
             ],
             [
              0.4444444444444444,
              "#bd3786"
             ],
             [
              0.5555555555555556,
              "#d8576b"
             ],
             [
              0.6666666666666666,
              "#ed7953"
             ],
             [
              0.7777777777777778,
              "#fb9f3a"
             ],
             [
              0.8888888888888888,
              "#fdca26"
             ],
             [
              1,
              "#f0f921"
             ]
            ],
            "type": "contour"
           }
          ],
          "contourcarpet": [
           {
            "colorbar": {
             "outlinewidth": 0,
             "ticks": ""
            },
            "type": "contourcarpet"
           }
          ],
          "heatmap": [
           {
            "colorbar": {
             "outlinewidth": 0,
             "ticks": ""
            },
            "colorscale": [
             [
              0,
              "#0d0887"
             ],
             [
              0.1111111111111111,
              "#46039f"
             ],
             [
              0.2222222222222222,
              "#7201a8"
             ],
             [
              0.3333333333333333,
              "#9c179e"
             ],
             [
              0.4444444444444444,
              "#bd3786"
             ],
             [
              0.5555555555555556,
              "#d8576b"
             ],
             [
              0.6666666666666666,
              "#ed7953"
             ],
             [
              0.7777777777777778,
              "#fb9f3a"
             ],
             [
              0.8888888888888888,
              "#fdca26"
             ],
             [
              1,
              "#f0f921"
             ]
            ],
            "type": "heatmap"
           }
          ],
          "heatmapgl": [
           {
            "colorbar": {
             "outlinewidth": 0,
             "ticks": ""
            },
            "colorscale": [
             [
              0,
              "#0d0887"
             ],
             [
              0.1111111111111111,
              "#46039f"
             ],
             [
              0.2222222222222222,
              "#7201a8"
             ],
             [
              0.3333333333333333,
              "#9c179e"
             ],
             [
              0.4444444444444444,
              "#bd3786"
             ],
             [
              0.5555555555555556,
              "#d8576b"
             ],
             [
              0.6666666666666666,
              "#ed7953"
             ],
             [
              0.7777777777777778,
              "#fb9f3a"
             ],
             [
              0.8888888888888888,
              "#fdca26"
             ],
             [
              1,
              "#f0f921"
             ]
            ],
            "type": "heatmapgl"
           }
          ],
          "histogram": [
           {
            "marker": {
             "pattern": {
              "fillmode": "overlay",
              "size": 10,
              "solidity": 0.2
             }
            },
            "type": "histogram"
           }
          ],
          "histogram2d": [
           {
            "colorbar": {
             "outlinewidth": 0,
             "ticks": ""
            },
            "colorscale": [
             [
              0,
              "#0d0887"
             ],
             [
              0.1111111111111111,
              "#46039f"
             ],
             [
              0.2222222222222222,
              "#7201a8"
             ],
             [
              0.3333333333333333,
              "#9c179e"
             ],
             [
              0.4444444444444444,
              "#bd3786"
             ],
             [
              0.5555555555555556,
              "#d8576b"
             ],
             [
              0.6666666666666666,
              "#ed7953"
             ],
             [
              0.7777777777777778,
              "#fb9f3a"
             ],
             [
              0.8888888888888888,
              "#fdca26"
             ],
             [
              1,
              "#f0f921"
             ]
            ],
            "type": "histogram2d"
           }
          ],
          "histogram2dcontour": [
           {
            "colorbar": {
             "outlinewidth": 0,
             "ticks": ""
            },
            "colorscale": [
             [
              0,
              "#0d0887"
             ],
             [
              0.1111111111111111,
              "#46039f"
             ],
             [
              0.2222222222222222,
              "#7201a8"
             ],
             [
              0.3333333333333333,
              "#9c179e"
             ],
             [
              0.4444444444444444,
              "#bd3786"
             ],
             [
              0.5555555555555556,
              "#d8576b"
             ],
             [
              0.6666666666666666,
              "#ed7953"
             ],
             [
              0.7777777777777778,
              "#fb9f3a"
             ],
             [
              0.8888888888888888,
              "#fdca26"
             ],
             [
              1,
              "#f0f921"
             ]
            ],
            "type": "histogram2dcontour"
           }
          ],
          "mesh3d": [
           {
            "colorbar": {
             "outlinewidth": 0,
             "ticks": ""
            },
            "type": "mesh3d"
           }
          ],
          "parcoords": [
           {
            "line": {
             "colorbar": {
              "outlinewidth": 0,
              "ticks": ""
             }
            },
            "type": "parcoords"
           }
          ],
          "pie": [
           {
            "automargin": true,
            "type": "pie"
           }
          ],
          "scatter": [
           {
            "fillpattern": {
             "fillmode": "overlay",
             "size": 10,
             "solidity": 0.2
            },
            "type": "scatter"
           }
          ],
          "scatter3d": [
           {
            "line": {
             "colorbar": {
              "outlinewidth": 0,
              "ticks": ""
             }
            },
            "marker": {
             "colorbar": {
              "outlinewidth": 0,
              "ticks": ""
             }
            },
            "type": "scatter3d"
           }
          ],
          "scattercarpet": [
           {
            "marker": {
             "colorbar": {
              "outlinewidth": 0,
              "ticks": ""
             }
            },
            "type": "scattercarpet"
           }
          ],
          "scattergeo": [
           {
            "marker": {
             "colorbar": {
              "outlinewidth": 0,
              "ticks": ""
             }
            },
            "type": "scattergeo"
           }
          ],
          "scattergl": [
           {
            "marker": {
             "colorbar": {
              "outlinewidth": 0,
              "ticks": ""
             }
            },
            "type": "scattergl"
           }
          ],
          "scattermapbox": [
           {
            "marker": {
             "colorbar": {
              "outlinewidth": 0,
              "ticks": ""
             }
            },
            "type": "scattermapbox"
           }
          ],
          "scatterpolar": [
           {
            "marker": {
             "colorbar": {
              "outlinewidth": 0,
              "ticks": ""
             }
            },
            "type": "scatterpolar"
           }
          ],
          "scatterpolargl": [
           {
            "marker": {
             "colorbar": {
              "outlinewidth": 0,
              "ticks": ""
             }
            },
            "type": "scatterpolargl"
           }
          ],
          "scatterternary": [
           {
            "marker": {
             "colorbar": {
              "outlinewidth": 0,
              "ticks": ""
             }
            },
            "type": "scatterternary"
           }
          ],
          "surface": [
           {
            "colorbar": {
             "outlinewidth": 0,
             "ticks": ""
            },
            "colorscale": [
             [
              0,
              "#0d0887"
             ],
             [
              0.1111111111111111,
              "#46039f"
             ],
             [
              0.2222222222222222,
              "#7201a8"
             ],
             [
              0.3333333333333333,
              "#9c179e"
             ],
             [
              0.4444444444444444,
              "#bd3786"
             ],
             [
              0.5555555555555556,
              "#d8576b"
             ],
             [
              0.6666666666666666,
              "#ed7953"
             ],
             [
              0.7777777777777778,
              "#fb9f3a"
             ],
             [
              0.8888888888888888,
              "#fdca26"
             ],
             [
              1,
              "#f0f921"
             ]
            ],
            "type": "surface"
           }
          ],
          "table": [
           {
            "cells": {
             "fill": {
              "color": "#EBF0F8"
             },
             "line": {
              "color": "white"
             }
            },
            "header": {
             "fill": {
              "color": "#C8D4E3"
             },
             "line": {
              "color": "white"
             }
            },
            "type": "table"
           }
          ]
         },
         "layout": {
          "annotationdefaults": {
           "arrowcolor": "#2a3f5f",
           "arrowhead": 0,
           "arrowwidth": 1
          },
          "autotypenumbers": "strict",
          "coloraxis": {
           "colorbar": {
            "outlinewidth": 0,
            "ticks": ""
           }
          },
          "colorscale": {
           "diverging": [
            [
             0,
             "#8e0152"
            ],
            [
             0.1,
             "#c51b7d"
            ],
            [
             0.2,
             "#de77ae"
            ],
            [
             0.3,
             "#f1b6da"
            ],
            [
             0.4,
             "#fde0ef"
            ],
            [
             0.5,
             "#f7f7f7"
            ],
            [
             0.6,
             "#e6f5d0"
            ],
            [
             0.7,
             "#b8e186"
            ],
            [
             0.8,
             "#7fbc41"
            ],
            [
             0.9,
             "#4d9221"
            ],
            [
             1,
             "#276419"
            ]
           ],
           "sequential": [
            [
             0,
             "#0d0887"
            ],
            [
             0.1111111111111111,
             "#46039f"
            ],
            [
             0.2222222222222222,
             "#7201a8"
            ],
            [
             0.3333333333333333,
             "#9c179e"
            ],
            [
             0.4444444444444444,
             "#bd3786"
            ],
            [
             0.5555555555555556,
             "#d8576b"
            ],
            [
             0.6666666666666666,
             "#ed7953"
            ],
            [
             0.7777777777777778,
             "#fb9f3a"
            ],
            [
             0.8888888888888888,
             "#fdca26"
            ],
            [
             1,
             "#f0f921"
            ]
           ],
           "sequentialminus": [
            [
             0,
             "#0d0887"
            ],
            [
             0.1111111111111111,
             "#46039f"
            ],
            [
             0.2222222222222222,
             "#7201a8"
            ],
            [
             0.3333333333333333,
             "#9c179e"
            ],
            [
             0.4444444444444444,
             "#bd3786"
            ],
            [
             0.5555555555555556,
             "#d8576b"
            ],
            [
             0.6666666666666666,
             "#ed7953"
            ],
            [
             0.7777777777777778,
             "#fb9f3a"
            ],
            [
             0.8888888888888888,
             "#fdca26"
            ],
            [
             1,
             "#f0f921"
            ]
           ]
          },
          "colorway": [
           "#636efa",
           "#EF553B",
           "#00cc96",
           "#ab63fa",
           "#FFA15A",
           "#19d3f3",
           "#FF6692",
           "#B6E880",
           "#FF97FF",
           "#FECB52"
          ],
          "font": {
           "color": "#2a3f5f"
          },
          "geo": {
           "bgcolor": "white",
           "lakecolor": "white",
           "landcolor": "#E5ECF6",
           "showlakes": true,
           "showland": true,
           "subunitcolor": "white"
          },
          "hoverlabel": {
           "align": "left"
          },
          "hovermode": "closest",
          "mapbox": {
           "style": "light"
          },
          "paper_bgcolor": "white",
          "plot_bgcolor": "#E5ECF6",
          "polar": {
           "angularaxis": {
            "gridcolor": "white",
            "linecolor": "white",
            "ticks": ""
           },
           "bgcolor": "#E5ECF6",
           "radialaxis": {
            "gridcolor": "white",
            "linecolor": "white",
            "ticks": ""
           }
          },
          "scene": {
           "xaxis": {
            "backgroundcolor": "#E5ECF6",
            "gridcolor": "white",
            "gridwidth": 2,
            "linecolor": "white",
            "showbackground": true,
            "ticks": "",
            "zerolinecolor": "white"
           },
           "yaxis": {
            "backgroundcolor": "#E5ECF6",
            "gridcolor": "white",
            "gridwidth": 2,
            "linecolor": "white",
            "showbackground": true,
            "ticks": "",
            "zerolinecolor": "white"
           },
           "zaxis": {
            "backgroundcolor": "#E5ECF6",
            "gridcolor": "white",
            "gridwidth": 2,
            "linecolor": "white",
            "showbackground": true,
            "ticks": "",
            "zerolinecolor": "white"
           }
          },
          "shapedefaults": {
           "line": {
            "color": "#2a3f5f"
           }
          },
          "ternary": {
           "aaxis": {
            "gridcolor": "white",
            "linecolor": "white",
            "ticks": ""
           },
           "baxis": {
            "gridcolor": "white",
            "linecolor": "white",
            "ticks": ""
           },
           "bgcolor": "#E5ECF6",
           "caxis": {
            "gridcolor": "white",
            "linecolor": "white",
            "ticks": ""
           }
          },
          "title": {
           "x": 0.05
          },
          "xaxis": {
           "automargin": true,
           "gridcolor": "white",
           "linecolor": "white",
           "ticks": "",
           "title": {
            "standoff": 15
           },
           "zerolinecolor": "white",
           "zerolinewidth": 2
          },
          "yaxis": {
           "automargin": true,
           "gridcolor": "white",
           "linecolor": "white",
           "ticks": "",
           "title": {
            "standoff": 15
           },
           "zerolinecolor": "white",
           "zerolinewidth": 2
          }
         }
        },
        "xaxis": {
         "anchor": "y",
         "domain": [
          0,
          1
         ],
         "title": {
          "text": "value"
         }
        },
        "yaxis": {
         "anchor": "x",
         "domain": [
          0,
          1
         ],
         "title": {
          "text": "index"
         }
        }
       }
      }
     },
     "metadata": {},
     "output_type": "display_data"
    }
   ],
   "source": [
    "fig = px.bar(feature_importance, orientation=\"h\")\n",
    "fig.update_layout(\n",
    "    showlegend=False, margin={\"l\": 120}  \n",
    ")\n",
    "fig.show()"
   ]
  },
  {
   "cell_type": "markdown",
   "id": "654b9f0d",
   "metadata": {},
   "source": [
    "# Faudrait voir en virant les long et latitudes qu'on a utilisé dans ride_distance"
   ]
  },
  {
   "cell_type": "markdown",
   "id": "3f456418-343e-490b-98fc-9cba3b9ae71a",
   "metadata": {},
   "source": [
    "14. Would the model be able to make good predictions if we hadn't included the ride distance by hand? Train a new Random Forest model (with grid search) by dropping the `ride_distance` column from the features, and conclude."
   ]
  },
  {
   "cell_type": "markdown",
   "id": "3ae7760a",
   "metadata": {},
   "source": [
    "# À TERMINER !!!!!!!!!!!!!!!!!!!!!!!!!!!!!"
   ]
  },
  {
   "cell_type": "code",
   "execution_count": 26,
   "id": "4da33e5d-2b42-4326-ad77-2a89ae5022ea",
   "metadata": {},
   "outputs": [],
   "source": []
  },
  {
   "cell_type": "code",
   "execution_count": 27,
   "id": "21a338cf-736d-4fd4-910c-b6685db6194c",
   "metadata": {},
   "outputs": [
    {
     "name": "stdout",
     "output_type": "stream",
     "text": [
      "Found numeric features  ['pickup_longitude', 'pickup_latitude', 'dropoff_longitude', 'dropoff_latitude', 'passenger_count', 'year', 'month', 'day']\n",
      "Found categorical features  ['weekday']\n"
     ]
    }
   ],
   "source": []
  },
  {
   "cell_type": "code",
   "execution_count": 28,
   "id": "552aa0a2-d250-441b-aaa0-1579358fdfb2",
   "metadata": {
    "colab": {
     "base_uri": "https://localhost:8080/",
     "height": 67
    },
    "colab_type": "code",
    "id": "Ra8LgBS5s83i",
    "outputId": "6dd938b3-ca4b-4ddb-c55e-f020aed4eca3"
   },
   "outputs": [
    {
     "name": "stdout",
     "output_type": "stream",
     "text": [
      "Dividing into train and test sets...\n",
      "...Done.\n",
      "\n"
     ]
    }
   ],
   "source": []
  },
  {
   "cell_type": "code",
   "execution_count": 29,
   "id": "40c3b784-e8c3-4b63-b800-592022641164",
   "metadata": {},
   "outputs": [],
   "source": []
  },
  {
   "cell_type": "code",
   "execution_count": 30,
   "id": "d543cc22-2be4-4ca5-8731-8fa5249caf50",
   "metadata": {},
   "outputs": [],
   "source": []
  },
  {
   "cell_type": "code",
   "execution_count": 31,
   "id": "4f10068f-e6d3-4787-aa57-6fd08e049a46",
   "metadata": {},
   "outputs": [],
   "source": []
  },
  {
   "cell_type": "code",
   "execution_count": 32,
   "id": "e363a7a6-2c2c-4529-a075-2cf0c0cc053f",
   "metadata": {},
   "outputs": [
    {
     "name": "stdout",
     "output_type": "stream",
     "text": [
      "Performing preprocessings on train set...\n",
      "       pickup_longitude  pickup_latitude  dropoff_longitude  dropoff_latitude  \\\n",
      "8152         -73.966328        40.757692         -73.958325         40.768067   \n",
      "1380         -73.988100        40.764807         -74.001052         40.746947   \n",
      "14079        -74.003445        40.743692         -74.005457         40.738923   \n",
      "7725         -73.961230        40.760852         -73.957473         40.722320   \n",
      "14918        -73.966034        40.767998         -73.954902         40.783116   \n",
      "\n",
      "       passenger_count  year  month  day    weekday  \n",
      "8152                 1  2012      2   16   Thursday  \n",
      "1380                 1  2013     10   23  Wednesday  \n",
      "14079                1  2009      5   22     Friday  \n",
      "7725                 1  2013     11   10     Sunday  \n",
      "14918                1  2014      4    2  Wednesday  \n",
      "...Done.\n",
      "[[-0.14344502  0.14080045 -0.14430518  0.12085588 -0.52674365  0.14178757\n",
      "  -1.22949054  0.03136581  0.          0.          0.          1.\n",
      "   0.          0.        ]\n",
      " [-0.14549195  0.14195277 -0.14828083  0.11791826 -0.52674365  0.68019666\n",
      "   1.08407898  0.84070488  0.          0.          0.          0.\n",
      "   0.          1.        ]\n",
      " [-0.14693462  0.13853306 -0.1486907   0.11680219 -0.52674365 -1.47343971\n",
      "  -0.36190197  0.72508501  0.          0.          0.          0.\n",
      "   0.          0.        ]\n",
      " [-0.14296573  0.14131223 -0.1442259   0.11449285 -0.52674365  0.68019666\n",
      "   1.37327517 -0.66235339  0.          0.          1.          0.\n",
      "   0.          0.        ]\n",
      " [-0.14341738  0.14246957 -0.14398668  0.12294908 -0.52674365  1.21860575\n",
      "  -0.65109816 -1.58731233  0.          0.          0.          0.\n",
      "   0.          1.        ]]\n",
      "\n",
      "Performing preprocessings on test set...\n",
      "       pickup_longitude  pickup_latitude  dropoff_longitude  dropoff_latitude  \\\n",
      "5159         -73.983856        40.725628         -73.947098         40.783363   \n",
      "11184        -73.997200        40.762907         -73.978555         40.766582   \n",
      "16643        -73.974023        40.789274         -73.974023         40.789274   \n",
      "6806         -73.970758        40.761757         -74.008368         40.745677   \n",
      "16647        -74.002724        40.744602         -74.004112         40.737572   \n",
      "\n",
      "       passenger_count  year  month  day    weekday  \n",
      "5159                 1  2015      5    6  Wednesday  \n",
      "11184                1  2013      8   14  Wednesday  \n",
      "16643                1  2009      4   30   Thursday  \n",
      "6806                 2  2012      6   11     Monday  \n",
      "16647                3  2015      4    3     Friday  \n",
      "...Done.\n",
      "[[-0.14509296  0.13560747 -0.14326052  0.12298348 -0.52674365  1.75701484\n",
      "  -0.36190197 -1.12483286  0.          0.          0.          0.\n",
      "   0.          1.        ]\n",
      " [-0.14634749  0.14164505 -0.14618753  0.12064933 -0.52674365  0.68019666\n",
      "   0.5056866  -0.19987392  0.          0.          0.          0.\n",
      "   0.          1.        ]\n",
      " [-0.14416848  0.14591535 -0.14576584  0.12380561 -0.52674365 -1.47343971\n",
      "  -0.65109816  1.65004395  0.          0.          0.          1.\n",
      "   0.          0.        ]\n",
      " [-0.14386152  0.1414588  -0.14896156  0.11774162  0.23407658  0.14178757\n",
      "  -0.07270578 -0.54673353  1.          0.          0.          0.\n",
      "   0.          0.        ]\n",
      " [-0.14686681  0.13868048 -0.14856558  0.11661424  0.99489681  1.75701484\n",
      "  -0.65109816 -1.47169246  0.          0.          0.          0.\n",
      "   0.          0.        ]]\n"
     ]
    }
   ],
   "source": []
  },
  {
   "cell_type": "code",
   "execution_count": 33,
   "id": "16e553e7-bca2-478f-ab86-ac1c515521b9",
   "metadata": {},
   "outputs": [
    {
     "name": "stdout",
     "output_type": "stream",
     "text": [
      "Grid search...\n",
      "Fitting 3 folds for each of 18 candidates, totalling 54 fits\n",
      "[CV] END .max_depth=10, min_samples_split=4, n_estimators=60; total time=   2.6s\n",
      "[CV] END .max_depth=10, min_samples_split=4, n_estimators=60; total time=   2.5s\n",
      "[CV] END .max_depth=10, min_samples_split=4, n_estimators=60; total time=   2.5s\n",
      "[CV] END .max_depth=10, min_samples_split=4, n_estimators=80; total time=   3.4s\n",
      "[CV] END .max_depth=10, min_samples_split=4, n_estimators=80; total time=   3.4s\n",
      "[CV] END .max_depth=10, min_samples_split=4, n_estimators=80; total time=   3.4s\n",
      "[CV] END max_depth=10, min_samples_split=4, n_estimators=100; total time=   4.2s\n",
      "[CV] END max_depth=10, min_samples_split=4, n_estimators=100; total time=   4.2s\n",
      "[CV] END max_depth=10, min_samples_split=4, n_estimators=100; total time=   4.3s\n",
      "[CV] END .max_depth=10, min_samples_split=8, n_estimators=60; total time=   2.6s\n",
      "[CV] END .max_depth=10, min_samples_split=8, n_estimators=60; total time=   2.6s\n",
      "[CV] END .max_depth=10, min_samples_split=8, n_estimators=60; total time=   2.5s\n",
      "[CV] END .max_depth=10, min_samples_split=8, n_estimators=80; total time=   3.4s\n",
      "[CV] END .max_depth=10, min_samples_split=8, n_estimators=80; total time=   3.4s\n",
      "[CV] END .max_depth=10, min_samples_split=8, n_estimators=80; total time=   3.3s\n",
      "[CV] END max_depth=10, min_samples_split=8, n_estimators=100; total time=   4.2s\n",
      "[CV] END max_depth=10, min_samples_split=8, n_estimators=100; total time=   4.2s\n",
      "[CV] END max_depth=10, min_samples_split=8, n_estimators=100; total time=   4.2s\n",
      "[CV] END .max_depth=12, min_samples_split=4, n_estimators=60; total time=   2.9s\n",
      "[CV] END .max_depth=12, min_samples_split=4, n_estimators=60; total time=   2.9s\n",
      "[CV] END .max_depth=12, min_samples_split=4, n_estimators=60; total time=   3.0s\n",
      "[CV] END .max_depth=12, min_samples_split=4, n_estimators=80; total time=   4.1s\n",
      "[CV] END .max_depth=12, min_samples_split=4, n_estimators=80; total time=   3.9s\n",
      "[CV] END .max_depth=12, min_samples_split=4, n_estimators=80; total time=   4.0s\n",
      "[CV] END max_depth=12, min_samples_split=4, n_estimators=100; total time=   5.1s\n",
      "[CV] END max_depth=12, min_samples_split=4, n_estimators=100; total time=   4.9s\n",
      "[CV] END max_depth=12, min_samples_split=4, n_estimators=100; total time=   4.9s\n",
      "[CV] END .max_depth=12, min_samples_split=8, n_estimators=60; total time=   3.0s\n",
      "[CV] END .max_depth=12, min_samples_split=8, n_estimators=60; total time=   2.9s\n",
      "[CV] END .max_depth=12, min_samples_split=8, n_estimators=60; total time=   3.0s\n",
      "[CV] END .max_depth=12, min_samples_split=8, n_estimators=80; total time=   3.9s\n",
      "[CV] END .max_depth=12, min_samples_split=8, n_estimators=80; total time=   4.0s\n",
      "[CV] END .max_depth=12, min_samples_split=8, n_estimators=80; total time=   3.9s\n",
      "[CV] END max_depth=12, min_samples_split=8, n_estimators=100; total time=   4.9s\n",
      "[CV] END max_depth=12, min_samples_split=8, n_estimators=100; total time=   4.9s\n",
      "[CV] END max_depth=12, min_samples_split=8, n_estimators=100; total time=   4.9s\n",
      "[CV] END .max_depth=14, min_samples_split=4, n_estimators=60; total time=   3.4s\n",
      "[CV] END .max_depth=14, min_samples_split=4, n_estimators=60; total time=   3.4s\n",
      "[CV] END .max_depth=14, min_samples_split=4, n_estimators=60; total time=   3.4s\n",
      "[CV] END .max_depth=14, min_samples_split=4, n_estimators=80; total time=   4.5s\n",
      "[CV] END .max_depth=14, min_samples_split=4, n_estimators=80; total time=   4.4s\n",
      "[CV] END .max_depth=14, min_samples_split=4, n_estimators=80; total time=   4.5s\n",
      "[CV] END max_depth=14, min_samples_split=4, n_estimators=100; total time=   5.6s\n",
      "[CV] END max_depth=14, min_samples_split=4, n_estimators=100; total time=   5.6s\n",
      "[CV] END max_depth=14, min_samples_split=4, n_estimators=100; total time=   5.7s\n",
      "[CV] END .max_depth=14, min_samples_split=8, n_estimators=60; total time=   3.4s\n",
      "[CV] END .max_depth=14, min_samples_split=8, n_estimators=60; total time=   3.3s\n",
      "[CV] END .max_depth=14, min_samples_split=8, n_estimators=60; total time=   3.4s\n",
      "[CV] END .max_depth=14, min_samples_split=8, n_estimators=80; total time=   4.5s\n",
      "[CV] END .max_depth=14, min_samples_split=8, n_estimators=80; total time=   4.4s\n",
      "[CV] END .max_depth=14, min_samples_split=8, n_estimators=80; total time=   4.4s\n",
      "[CV] END max_depth=14, min_samples_split=8, n_estimators=100; total time=   5.6s\n",
      "[CV] END max_depth=14, min_samples_split=8, n_estimators=100; total time=   5.5s\n",
      "[CV] END max_depth=14, min_samples_split=8, n_estimators=100; total time=   5.6s\n",
      "...Done.\n",
      "Best hyperparameters :  {'max_depth': 14, 'min_samples_split': 8, 'n_estimators': 100}\n",
      "Best validation accuracy :  0.7098054091539289\n"
     ]
    }
   ],
   "source": []
  },
  {
   "cell_type": "code",
   "execution_count": 34,
   "id": "e5798b3f-b448-4c72-8cff-a1ef037459da",
   "metadata": {},
   "outputs": [
    {
     "name": "stdout",
     "output_type": "stream",
     "text": [
      "R2 score on training set :  0.850107087831722\n",
      "R2 score on test set :  0.713239229422019\n",
      "Predictions on training set...\n",
      "...Done.\n",
      "[ 7.45782206  8.61356464  7.42620888 ...  7.48197772 25.77105996\n",
      "  8.8216215 ]\n",
      "\n",
      "Predictions on test set...\n",
      "...Done.\n",
      "[14.02542084  8.62151493  7.51974234 ...  7.44094536  7.82347779\n",
      "  8.03063538]\n",
      "\n",
      "Mean Absolute Error on training set :  2.4255949901205986\n",
      "Mean Fare on training set :  11.330150643830464\n",
      "\n",
      "Mean Absolute Error on test set :  2.860988261156146\n",
      "Mean Fare on test set :  11.481740000000038\n",
      "Standard-deviation on test set :  9.631479542206511\n"
     ]
    }
   ],
   "source": []
  }
 ],
 "metadata": {
  "kernelspec": {
   "display_name": "Python 3 (ipykernel)",
   "language": "python",
   "name": "python3"
  },
  "language_info": {
   "codemirror_mode": {
    "name": "ipython",
    "version": 3
   },
   "file_extension": ".py",
   "mimetype": "text/x-python",
   "name": "python",
   "nbconvert_exporter": "python",
   "pygments_lexer": "ipython3",
   "version": "3.11.7"
  }
 },
 "nbformat": 4,
 "nbformat_minor": 5
}
