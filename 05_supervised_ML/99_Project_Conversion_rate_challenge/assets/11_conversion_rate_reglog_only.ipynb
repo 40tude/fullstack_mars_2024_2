{
 "cells": [
  {
   "cell_type": "code",
   "execution_count": 23,
   "metadata": {},
   "outputs": [],
   "source": [
    "import pandas as pd\n",
    "import numpy as np\n",
    "from datetime import datetime\n",
    "\n",
    "from sklearn.model_selection import train_test_split\n",
    "from sklearn.metrics import f1_score, precision_score, recall_score # confusion_matrix, \n",
    "\n",
    "from sklearn.model_selection import GridSearchCV\n",
    "\n",
    "from sklearn.preprocessing import OneHotEncoder, StandardScaler     #, LabelEncoder\n",
    "from sklearn.compose import ColumnTransformer\n",
    "\n",
    "from sklearn.linear_model import LogisticRegression #, Perceptron\n",
    "\n",
    "from sklearn.pipeline import Pipeline\n",
    "from sklearn.impute import SimpleImputer\n",
    "\n",
    "\n",
    "k_target        = \"converted\"\n",
    "k_samples_ratio = 100/100   # percentage of observation to be taken into account. Pass 100/100 for final testing \n",
    "k_test_size     = 20/100    # see train_test_split\n",
    "k_random_state  = 42        # you know why...\n",
    "header          = \"conversion_data_test_predictions_\"\n",
    "author          = \"PHILIPPE\"\n"
   ]
  },
  {
   "cell_type": "code",
   "execution_count": 24,
   "metadata": {},
   "outputs": [
    {
     "data": {
      "text/html": [
       "<div>\n",
       "<style scoped>\n",
       "    .dataframe tbody tr th:only-of-type {\n",
       "        vertical-align: middle;\n",
       "    }\n",
       "\n",
       "    .dataframe tbody tr th {\n",
       "        vertical-align: top;\n",
       "    }\n",
       "\n",
       "    .dataframe thead th {\n",
       "        text-align: right;\n",
       "    }\n",
       "</style>\n",
       "<table border=\"1\" class=\"dataframe\">\n",
       "  <thead>\n",
       "    <tr style=\"text-align: right;\">\n",
       "      <th></th>\n",
       "      <th>country</th>\n",
       "      <th>age</th>\n",
       "      <th>new_user</th>\n",
       "      <th>source</th>\n",
       "      <th>total_pages_visited</th>\n",
       "      <th>converted</th>\n",
       "    </tr>\n",
       "  </thead>\n",
       "  <tbody>\n",
       "    <tr>\n",
       "      <th>0</th>\n",
       "      <td>China</td>\n",
       "      <td>22</td>\n",
       "      <td>1</td>\n",
       "      <td>Direct</td>\n",
       "      <td>2</td>\n",
       "      <td>0</td>\n",
       "    </tr>\n",
       "    <tr>\n",
       "      <th>1</th>\n",
       "      <td>UK</td>\n",
       "      <td>21</td>\n",
       "      <td>1</td>\n",
       "      <td>Ads</td>\n",
       "      <td>3</td>\n",
       "      <td>0</td>\n",
       "    </tr>\n",
       "    <tr>\n",
       "      <th>2</th>\n",
       "      <td>Germany</td>\n",
       "      <td>20</td>\n",
       "      <td>0</td>\n",
       "      <td>Seo</td>\n",
       "      <td>14</td>\n",
       "      <td>1</td>\n",
       "    </tr>\n",
       "    <tr>\n",
       "      <th>3</th>\n",
       "      <td>US</td>\n",
       "      <td>23</td>\n",
       "      <td>1</td>\n",
       "      <td>Seo</td>\n",
       "      <td>3</td>\n",
       "      <td>0</td>\n",
       "    </tr>\n",
       "    <tr>\n",
       "      <th>4</th>\n",
       "      <td>US</td>\n",
       "      <td>28</td>\n",
       "      <td>1</td>\n",
       "      <td>Direct</td>\n",
       "      <td>3</td>\n",
       "      <td>0</td>\n",
       "    </tr>\n",
       "  </tbody>\n",
       "</table>\n",
       "</div>"
      ],
      "text/plain": [
       "   country  age  new_user  source  total_pages_visited  converted\n",
       "0    China   22         1  Direct                    2          0\n",
       "1       UK   21         1     Ads                    3          0\n",
       "2  Germany   20         0     Seo                   14          1\n",
       "3       US   23         1     Seo                    3          0\n",
       "4       US   28         1  Direct                    3          0"
      ]
     },
     "execution_count": 24,
     "metadata": {},
     "output_type": "execute_result"
    }
   ],
   "source": [
    "df = pd.read_csv('./assets/conversion_data_train.csv')\n",
    "df.head()"
   ]
  },
  {
   "cell_type": "code",
   "execution_count": 25,
   "metadata": {},
   "outputs": [
    {
     "name": "stdout",
     "output_type": "stream",
     "text": [
      "shape : (284580, 6)\n",
      "\n",
      "\n"
     ]
    },
    {
     "data": {
      "text/html": [
       "<div>\n",
       "<style scoped>\n",
       "    .dataframe tbody tr th:only-of-type {\n",
       "        vertical-align: middle;\n",
       "    }\n",
       "\n",
       "    .dataframe tbody tr th {\n",
       "        vertical-align: top;\n",
       "    }\n",
       "\n",
       "    .dataframe thead th {\n",
       "        text-align: right;\n",
       "    }\n",
       "</style>\n",
       "<table border=\"1\" class=\"dataframe\">\n",
       "  <thead>\n",
       "    <tr style=\"text-align: right;\">\n",
       "      <th></th>\n",
       "      <th>count</th>\n",
       "      <th>unique</th>\n",
       "      <th>top</th>\n",
       "      <th>freq</th>\n",
       "      <th>mean</th>\n",
       "      <th>std</th>\n",
       "      <th>min</th>\n",
       "      <th>25%</th>\n",
       "      <th>50%</th>\n",
       "      <th>75%</th>\n",
       "      <th>max</th>\n",
       "    </tr>\n",
       "  </thead>\n",
       "  <tbody>\n",
       "    <tr>\n",
       "      <th>country</th>\n",
       "      <td>284580</td>\n",
       "      <td>4</td>\n",
       "      <td>US</td>\n",
       "      <td>160124</td>\n",
       "      <td>NaN</td>\n",
       "      <td>NaN</td>\n",
       "      <td>NaN</td>\n",
       "      <td>NaN</td>\n",
       "      <td>NaN</td>\n",
       "      <td>NaN</td>\n",
       "      <td>NaN</td>\n",
       "    </tr>\n",
       "    <tr>\n",
       "      <th>age</th>\n",
       "      <td>284580.0</td>\n",
       "      <td>NaN</td>\n",
       "      <td>NaN</td>\n",
       "      <td>NaN</td>\n",
       "      <td>30.564203</td>\n",
       "      <td>8.266789</td>\n",
       "      <td>17.0</td>\n",
       "      <td>24.0</td>\n",
       "      <td>30.0</td>\n",
       "      <td>36.0</td>\n",
       "      <td>123.0</td>\n",
       "    </tr>\n",
       "    <tr>\n",
       "      <th>new_user</th>\n",
       "      <td>284580.0</td>\n",
       "      <td>NaN</td>\n",
       "      <td>NaN</td>\n",
       "      <td>NaN</td>\n",
       "      <td>0.685452</td>\n",
       "      <td>0.464336</td>\n",
       "      <td>0.0</td>\n",
       "      <td>0.0</td>\n",
       "      <td>1.0</td>\n",
       "      <td>1.0</td>\n",
       "      <td>1.0</td>\n",
       "    </tr>\n",
       "    <tr>\n",
       "      <th>source</th>\n",
       "      <td>284580</td>\n",
       "      <td>3</td>\n",
       "      <td>Seo</td>\n",
       "      <td>139477</td>\n",
       "      <td>NaN</td>\n",
       "      <td>NaN</td>\n",
       "      <td>NaN</td>\n",
       "      <td>NaN</td>\n",
       "      <td>NaN</td>\n",
       "      <td>NaN</td>\n",
       "      <td>NaN</td>\n",
       "    </tr>\n",
       "    <tr>\n",
       "      <th>total_pages_visited</th>\n",
       "      <td>284580.0</td>\n",
       "      <td>NaN</td>\n",
       "      <td>NaN</td>\n",
       "      <td>NaN</td>\n",
       "      <td>4.873252</td>\n",
       "      <td>3.341995</td>\n",
       "      <td>1.0</td>\n",
       "      <td>2.0</td>\n",
       "      <td>4.0</td>\n",
       "      <td>7.0</td>\n",
       "      <td>29.0</td>\n",
       "    </tr>\n",
       "    <tr>\n",
       "      <th>converted</th>\n",
       "      <td>284580.0</td>\n",
       "      <td>NaN</td>\n",
       "      <td>NaN</td>\n",
       "      <td>NaN</td>\n",
       "      <td>0.032258</td>\n",
       "      <td>0.176685</td>\n",
       "      <td>0.0</td>\n",
       "      <td>0.0</td>\n",
       "      <td>0.0</td>\n",
       "      <td>0.0</td>\n",
       "      <td>1.0</td>\n",
       "    </tr>\n",
       "  </tbody>\n",
       "</table>\n",
       "</div>"
      ],
      "text/plain": [
       "                        count unique  top    freq       mean       std   min  \\\n",
       "country                284580      4   US  160124        NaN       NaN   NaN   \n",
       "age                  284580.0    NaN  NaN     NaN  30.564203  8.266789  17.0   \n",
       "new_user             284580.0    NaN  NaN     NaN   0.685452  0.464336   0.0   \n",
       "source                 284580      3  Seo  139477        NaN       NaN   NaN   \n",
       "total_pages_visited  284580.0    NaN  NaN     NaN   4.873252  3.341995   1.0   \n",
       "converted            284580.0    NaN  NaN     NaN   0.032258  0.176685   0.0   \n",
       "\n",
       "                      25%   50%   75%    max  \n",
       "country               NaN   NaN   NaN    NaN  \n",
       "age                  24.0  30.0  36.0  123.0  \n",
       "new_user              0.0   1.0   1.0    1.0  \n",
       "source                NaN   NaN   NaN    NaN  \n",
       "total_pages_visited   2.0   4.0   7.0   29.0  \n",
       "converted             0.0   0.0   0.0    1.0  "
      ]
     },
     "metadata": {},
     "output_type": "display_data"
    }
   ],
   "source": [
    "print(f\"shape : {df.shape}\\n\")\n",
    "print()\n",
    "\n",
    "display(df.describe(include=\"all\").T)"
   ]
  },
  {
   "cell_type": "code",
   "execution_count": 26,
   "metadata": {},
   "outputs": [
    {
     "name": "stdout",
     "output_type": "stream",
     "text": [
      "<class 'pandas.core.frame.DataFrame'>\n",
      "RangeIndex: 284580 entries, 0 to 284579\n",
      "Data columns (total 6 columns):\n",
      " #   Column               Non-Null Count   Dtype \n",
      "---  ------               --------------   ----- \n",
      " 0   country              284580 non-null  object\n",
      " 1   age                  284580 non-null  int64 \n",
      " 2   new_user             284580 non-null  int64 \n",
      " 3   source               284580 non-null  object\n",
      " 4   total_pages_visited  284580 non-null  int64 \n",
      " 5   converted            284580 non-null  int64 \n",
      "dtypes: int64(4), object(2)\n",
      "memory usage: 13.0+ MB\n",
      "None \n",
      "\n"
     ]
    }
   ],
   "source": [
    "print(df.info(), \"\\n\")"
   ]
  },
  {
   "cell_type": "code",
   "execution_count": 27,
   "metadata": {},
   "outputs": [
    {
     "name": "stdout",
     "output_type": "stream",
     "text": [
      "Number of null val :\n",
      "country                0.0\n",
      "age                    0.0\n",
      "new_user               0.0\n",
      "source                 0.0\n",
      "total_pages_visited    0.0\n",
      "converted              0.0\n",
      "dtype: float64\n"
     ]
    }
   ],
   "source": [
    "print(f\"Number of null val :\")\n",
    "print(100 * df.isnull().sum() / df.shape[0])\n",
    "# print (df.isnull().any().any())"
   ]
  },
  {
   "cell_type": "code",
   "execution_count": 28,
   "metadata": {},
   "outputs": [
    {
     "name": "stdout",
     "output_type": "stream",
     "text": [
      "Duplicates     :  268769\n",
      "Col duplicated :  [False False False False False False]\n",
      "\n",
      "Unique countries :  ['China' 'UK' 'Germany' 'US']\n",
      "Unique sources   :  ['Direct' 'Ads' 'Seo']\n"
     ]
    }
   ],
   "source": [
    "print(\"Duplicates     : \", df.duplicated().sum())\n",
    "print(\"Col duplicated : \", df.columns.duplicated() )\n",
    "\n",
    "print()\n",
    "print(\"Unique countries : \", df[\"country\"].unique())\n",
    "print(\"Unique sources   : \", df[\"source\"].unique())\n",
    "\n",
    "# print(df[\"col_name\"].value_counts())\n",
    "# print(df.isnull().sum().sort_values(ascending=False).head(11))\n",
    "# df[k_target].value_counts()\n"
   ]
  },
  {
   "cell_type": "markdown",
   "metadata": {},
   "source": [
    "## Preprocessing on df"
   ]
  },
  {
   "cell_type": "code",
   "execution_count": 29,
   "metadata": {},
   "outputs": [],
   "source": [
    "# def add_weight_col(df):\n",
    "  \n",
    "#   # print(f\"shape : {df.shape}\\n\")\n",
    "#   # df.drop_duplicates(inplace=True)\n",
    "#   # print(f\"shape : {df.shape}\\n\")\n",
    "\n",
    "#   # print(f\"shape : {df.shape}\")\n",
    "\n",
    "#   # Créer une colonne avec l poids des doublons\n",
    "#   # Supprimer les doublons\n",
    "#   df_no_duplicates = df.drop_duplicates()\n",
    "\n",
    "#   # Compter le nombre d'occurrences de chaque ligne dans le DataFrame d'origine\n",
    "#   counts = df.groupby(df.columns.tolist()).size().reset_index(name='poids')\n",
    "\n",
    "#   # Fusionner la colonne occurences avec le df sans doublons\n",
    "#   df = pd.merge(df_no_duplicates, counts, on=df.columns.tolist(), how='left')\n",
    "\n",
    "#   # print(f\"shape : {df.shape}\")\n",
    "#   # df.to_csv(\"./assets/pourbench_colab.csv\")\n",
    "#   return df  \n",
    "\n",
    "\n",
    "\n",
    "\n"
   ]
  },
  {
   "cell_type": "code",
   "execution_count": 30,
   "metadata": {},
   "outputs": [
    {
     "name": "stdout",
     "output_type": "stream",
     "text": [
      "(284580, 6)\n",
      "<class 'pandas.core.frame.DataFrame'>\n",
      "(278101, 6)\n"
     ]
    },
    {
     "data": {
      "text/html": [
       "<div>\n",
       "<style scoped>\n",
       "    .dataframe tbody tr th:only-of-type {\n",
       "        vertical-align: middle;\n",
       "    }\n",
       "\n",
       "    .dataframe tbody tr th {\n",
       "        vertical-align: top;\n",
       "    }\n",
       "\n",
       "    .dataframe thead th {\n",
       "        text-align: right;\n",
       "    }\n",
       "</style>\n",
       "<table border=\"1\" class=\"dataframe\">\n",
       "  <thead>\n",
       "    <tr style=\"text-align: right;\">\n",
       "      <th></th>\n",
       "      <th>country</th>\n",
       "      <th>age</th>\n",
       "      <th>new_user</th>\n",
       "      <th>source</th>\n",
       "      <th>total_pages_visited</th>\n",
       "      <th>converted</th>\n",
       "    </tr>\n",
       "  </thead>\n",
       "  <tbody>\n",
       "    <tr>\n",
       "      <th>0</th>\n",
       "      <td>China</td>\n",
       "      <td>22</td>\n",
       "      <td>1</td>\n",
       "      <td>Direct</td>\n",
       "      <td>2</td>\n",
       "      <td>0</td>\n",
       "    </tr>\n",
       "    <tr>\n",
       "      <th>1</th>\n",
       "      <td>UK</td>\n",
       "      <td>21</td>\n",
       "      <td>1</td>\n",
       "      <td>Ads</td>\n",
       "      <td>3</td>\n",
       "      <td>0</td>\n",
       "    </tr>\n",
       "    <tr>\n",
       "      <th>2</th>\n",
       "      <td>Germany</td>\n",
       "      <td>20</td>\n",
       "      <td>0</td>\n",
       "      <td>Seo</td>\n",
       "      <td>14</td>\n",
       "      <td>1</td>\n",
       "    </tr>\n",
       "    <tr>\n",
       "      <th>3</th>\n",
       "      <td>US</td>\n",
       "      <td>23</td>\n",
       "      <td>1</td>\n",
       "      <td>Seo</td>\n",
       "      <td>3</td>\n",
       "      <td>0</td>\n",
       "    </tr>\n",
       "    <tr>\n",
       "      <th>4</th>\n",
       "      <td>US</td>\n",
       "      <td>28</td>\n",
       "      <td>1</td>\n",
       "      <td>Direct</td>\n",
       "      <td>3</td>\n",
       "      <td>0</td>\n",
       "    </tr>\n",
       "  </tbody>\n",
       "</table>\n",
       "</div>"
      ],
      "text/plain": [
       "   country  age  new_user  source  total_pages_visited  converted\n",
       "0    China   22         1  Direct                    2          0\n",
       "1       UK   21         1     Ads                    3          0\n",
       "2  Germany   20         0     Seo                   14          1\n",
       "3       US   23         1     Seo                    3          0\n",
       "4       US   28         1  Direct                    3          0"
      ]
     },
     "execution_count": 30,
     "metadata": {},
     "output_type": "execute_result"
    }
   ],
   "source": [
    "# Removing outliers\n",
    "\n",
    "# print(df.shape)\n",
    "\n",
    "# numeric_columns = df[[\"age\", \"total_pages_visited\"]]\n",
    "# print(type(numeric_columns))\n",
    "# # numeric_columns = [\"age\tnew_user\", \"total_pages_visited\"]\n",
    "\n",
    "# # 1. Calculez l'IQR pour chaque colonne numérique\n",
    "# Q1 = numeric_columns.quantile(0.25)\n",
    "# Q3 = numeric_columns.quantile(0.75)\n",
    "# IQR = Q3 - Q1\n",
    "\n",
    "# # 2. Calculez les limites supérieure et inférieure\n",
    "# lower_bound = Q1 - 1.5 * IQR\n",
    "# upper_bound = Q3 + 1.5 * IQR\n",
    "\n",
    "# # Créez un masque pour identifier les lignes avec des valeurs aberrantes dans les colonnes numériques\n",
    "# outliers_mask = ((numeric_columns < lower_bound) | (numeric_columns > upper_bound)).any(axis=1)\n",
    "\n",
    "# # Filtrez les lignes avec des valeurs aberrantes uniquement dans les colonnes numériques\n",
    "# df = df[~outliers_mask]\n",
    "# print(df.shape)\n",
    "\n",
    "# df.head()"
   ]
  },
  {
   "cell_type": "code",
   "execution_count": 31,
   "metadata": {},
   "outputs": [
    {
     "name": "stdout",
     "output_type": "stream",
     "text": [
      "shape : (278101, 6)\n",
      "shape : (278101, 6)\n"
     ]
    }
   ],
   "source": [
    "print(f\"shape : {df.shape}\")\n",
    "\n",
    "# df = add_weight_col(df)  \n",
    "\n",
    "print(f\"shape : {df.shape}\")\n",
    " \n",
    "\n",
    "# On peut ici limiter la taille de df pour aller plus vite par exemple  \n",
    "# df = df.sample(int(k_samples_ratio*len(df)))\n",
    "# df = df.iloc[:int(k_samples_ratio*len(df))]\n"
   ]
  },
  {
   "cell_type": "code",
   "execution_count": 32,
   "metadata": {},
   "outputs": [
    {
     "name": "stdout",
     "output_type": "stream",
     "text": [
      "X :\n",
      "   country  age  new_user  source  total_pages_visited\n",
      "0    China   22         1  Direct                    2\n",
      "1       UK   21         1     Ads                    3\n",
      "2  Germany   20         0     Seo                   14\n",
      "3       US   23         1     Seo                    3\n",
      "4       US   28         1  Direct                    3\n",
      "(278101, 5)\n",
      "\n",
      "y :\n",
      "0    0\n",
      "1    0\n",
      "2    1\n",
      "3    0\n",
      "4    0\n",
      "Name: converted, dtype: int64\n",
      "(222480, 5)\n",
      "<class 'pandas.core.frame.DataFrame'>\n"
     ]
    }
   ],
   "source": [
    "\n",
    "# Split entre X et y\n",
    "X = df.drop(columns = k_target)\n",
    "y = df[k_target]\n",
    "\n",
    "print(\"X :\")\n",
    "print(X.head())\n",
    "print(X.shape)\n",
    "print()\n",
    "\n",
    "print(\"y :\")\n",
    "print(y.head())\n",
    "\n",
    "# Des dataframes\n",
    "X_train, X_test, y_train, y_test = train_test_split(X, y, test_size=k_test_size, random_state=k_random_state, stratify = y)\n",
    "\n",
    "print(X_train.shape)\n",
    "print(type(X_train))\n"
   ]
  },
  {
   "cell_type": "code",
   "execution_count": 33,
   "metadata": {},
   "outputs": [
    {
     "name": "stdout",
     "output_type": "stream",
     "text": [
      "Index(['age', 'new_user', 'total_pages_visited'], dtype='object')\n",
      "Index(['country', 'source'], dtype='object')\n"
     ]
    }
   ],
   "source": [
    "numeric_features = X.select_dtypes(include=\"number\").columns\n",
    "print(numeric_features)\n",
    "\n",
    "categorical_features = X.select_dtypes(exclude=\"number\").columns\n",
    "print(categorical_features)\n",
    "\n",
    "numeric_transformer = Pipeline(\n",
    "  steps=[\n",
    "    # (\"imputer_num\", SimpleImputer(strategy=\"mean\")),\n",
    "    (\"scaler_num\", StandardScaler()),\n",
    "  ]\n",
    ")\n",
    "\n",
    "categorical_transformer = Pipeline(\n",
    "  steps=[\n",
    "      # (\"imputer_cat\", SimpleImputer(strategy=\"most_frequent\")),  \n",
    "      # (\"imputer_cat\", SimpleImputer(fill_value=\"missing\", strategy=\"constant\")),  \n",
    "      (\"encoder_cat\", OneHotEncoder(drop=\"first\")),                 \n",
    "      # (\"encoder_cat\", OneHotEncoder(handle_unknown='ignore', sparse=False)),                 \n",
    "    ]\n",
    "  )\n",
    "\n",
    "preprocessor = ColumnTransformer(\n",
    "  transformers=[\n",
    "      (\"num\", numeric_transformer,     numeric_features),\n",
    "      (\"cat\", categorical_transformer, categorical_features),\n",
    "    ]\n",
    "  )\n",
    "\n"
   ]
  },
  {
   "cell_type": "code",
   "execution_count": 34,
   "metadata": {},
   "outputs": [
    {
     "name": "stdout",
     "output_type": "stream",
     "text": [
      "[[-0.31   0.667 -1.264  0.     1.     0.     0.     0.   ]\n",
      " [ 1.425 -1.498 -0.223  0.     0.     0.     0.     1.   ]\n",
      " [-0.806  0.667  2.552  0.     0.     1.     0.     0.   ]\n",
      " [ 0.682 -1.498 -0.917  0.     0.     1.     0.     0.   ]\n",
      " [-1.549  0.667 -0.57   0.     0.     0.     0.     0.   ]]\n",
      "(222480, 8)\n",
      "<class 'numpy.ndarray'>\n"
     ]
    }
   ],
   "source": [
    "X_train = preprocessor.fit_transform(X_train)\n",
    "X_test = preprocessor.transform(X_test)\n",
    "\n",
    "# des nd array\n",
    "print(X_train[0:5].round(3))\n",
    "print(X_train.shape)\n",
    "print(type(X_train))\n"
   ]
  },
  {
   "cell_type": "code",
   "execution_count": 35,
   "metadata": {},
   "outputs": [
    {
     "name": "stdout",
     "output_type": "stream",
     "text": [
      "Fitting 5 folds for each of 100 candidates, totalling 500 fits\n",
      "{'C': 0.9, 'solver': 'sag'}\n",
      "0.9873291981301691\n"
     ]
    }
   ],
   "source": [
    "params = [\n",
    "  {\n",
    "    'C'             : [0.75 + i * 0.05 for i in range(20)], \n",
    "    'solver'        : ['lbfgs', 'newton-cg',\"saga\", \"newton-cholesky\" ,'sag',    ], \n",
    "    # 'random_state'  : [42], # PAS de random_state car il ne fonctionne pas avec tous les solver. Voir la doc\n",
    "  }\n",
    "]\n",
    "\n",
    "gridsearch = GridSearchCV(LogisticRegression(), params, refit=True, verbose = 3, n_jobs = -1, cv = 5)    \n",
    "gridsearch.fit(X_train, y_train)\n",
    "\n",
    "best_params = gridsearch.best_params_\n",
    "print(best_params)\n",
    "\n",
    "print(gridsearch.best_score_)\n",
    "\n",
    "\n",
    "\n",
    "model = LogisticRegression()\n",
    "model.set_params(**best_params)\n",
    "model.fit(X_train, y_train)\n",
    "\n",
    "y_pred = model.predict(X_test)\n"
   ]
  },
  {
   "cell_type": "code",
   "execution_count": 36,
   "metadata": {},
   "outputs": [
    {
     "name": "stdout",
     "output_type": "stream",
     "text": [
      "f1 \t\t precision \t recall\n",
      "0.490949 \t 0.732181 \t 0.369281\n"
     ]
    }
   ],
   "source": [
    "print(f\"f1 \\t\\t precision \\t recall\")\n",
    "print(f\"{f1_score(y_test,  y_pred):.6f} \\t {precision_score(y_test,  y_pred):.6f} \\t {recall_score(y_test,  y_pred):.6f}\")"
   ]
  },
  {
   "cell_type": "markdown",
   "metadata": {},
   "source": [
    "## Entrainement sur l'ensemble du jeu de données \n",
    "* sans le diviser en train et test\n",
    "* L'idée c'est d'utiliser un max d'observations pour ajuster les paramètres du modèle"
   ]
  },
  {
   "cell_type": "code",
   "execution_count": 37,
   "metadata": {},
   "outputs": [
    {
     "name": "stdout",
     "output_type": "stream",
     "text": [
      "(278101, 5)\n",
      "<class 'pandas.core.frame.DataFrame'>\n"
     ]
    }
   ],
   "source": [
    "X = df.drop(columns = k_target)\n",
    "y = df[k_target]\n",
    "\n",
    "print(X.shape)\n",
    "print(type(X))\n"
   ]
  },
  {
   "cell_type": "code",
   "execution_count": 38,
   "metadata": {},
   "outputs": [
    {
     "name": "stdout",
     "output_type": "stream",
     "text": [
      "[[-1.053  0.668 -0.918  0.     0.     0.     1.     0.   ]\n",
      " [-1.177  0.668 -0.57   0.     1.     0.     0.     0.   ]\n",
      " [-1.301 -1.497  3.25   1.     0.     0.     0.     1.   ]\n",
      " [-0.929  0.668 -0.57   0.     0.     1.     0.     1.   ]\n",
      " [-0.309  0.668 -0.57   0.     0.     1.     1.     0.   ]]\n",
      "(278101, 8)\n",
      "<class 'numpy.ndarray'>\n"
     ]
    }
   ],
   "source": [
    "X = preprocessor.fit_transform(X)\n",
    "\n",
    "print(X[0:5].round(3))\n",
    "print(X.shape)\n",
    "print(type(X))\n"
   ]
  },
  {
   "cell_type": "code",
   "execution_count": 39,
   "metadata": {},
   "outputs": [
    {
     "data": {
      "text/html": [
       "<style>#sk-container-id-2 {color: black;background-color: white;}#sk-container-id-2 pre{padding: 0;}#sk-container-id-2 div.sk-toggleable {background-color: white;}#sk-container-id-2 label.sk-toggleable__label {cursor: pointer;display: block;width: 100%;margin-bottom: 0;padding: 0.3em;box-sizing: border-box;text-align: center;}#sk-container-id-2 label.sk-toggleable__label-arrow:before {content: \"▸\";float: left;margin-right: 0.25em;color: #696969;}#sk-container-id-2 label.sk-toggleable__label-arrow:hover:before {color: black;}#sk-container-id-2 div.sk-estimator:hover label.sk-toggleable__label-arrow:before {color: black;}#sk-container-id-2 div.sk-toggleable__content {max-height: 0;max-width: 0;overflow: hidden;text-align: left;background-color: #f0f8ff;}#sk-container-id-2 div.sk-toggleable__content pre {margin: 0.2em;color: black;border-radius: 0.25em;background-color: #f0f8ff;}#sk-container-id-2 input.sk-toggleable__control:checked~div.sk-toggleable__content {max-height: 200px;max-width: 100%;overflow: auto;}#sk-container-id-2 input.sk-toggleable__control:checked~label.sk-toggleable__label-arrow:before {content: \"▾\";}#sk-container-id-2 div.sk-estimator input.sk-toggleable__control:checked~label.sk-toggleable__label {background-color: #d4ebff;}#sk-container-id-2 div.sk-label input.sk-toggleable__control:checked~label.sk-toggleable__label {background-color: #d4ebff;}#sk-container-id-2 input.sk-hidden--visually {border: 0;clip: rect(1px 1px 1px 1px);clip: rect(1px, 1px, 1px, 1px);height: 1px;margin: -1px;overflow: hidden;padding: 0;position: absolute;width: 1px;}#sk-container-id-2 div.sk-estimator {font-family: monospace;background-color: #f0f8ff;border: 1px dotted black;border-radius: 0.25em;box-sizing: border-box;margin-bottom: 0.5em;}#sk-container-id-2 div.sk-estimator:hover {background-color: #d4ebff;}#sk-container-id-2 div.sk-parallel-item::after {content: \"\";width: 100%;border-bottom: 1px solid gray;flex-grow: 1;}#sk-container-id-2 div.sk-label:hover label.sk-toggleable__label {background-color: #d4ebff;}#sk-container-id-2 div.sk-serial::before {content: \"\";position: absolute;border-left: 1px solid gray;box-sizing: border-box;top: 0;bottom: 0;left: 50%;z-index: 0;}#sk-container-id-2 div.sk-serial {display: flex;flex-direction: column;align-items: center;background-color: white;padding-right: 0.2em;padding-left: 0.2em;position: relative;}#sk-container-id-2 div.sk-item {position: relative;z-index: 1;}#sk-container-id-2 div.sk-parallel {display: flex;align-items: stretch;justify-content: center;background-color: white;position: relative;}#sk-container-id-2 div.sk-item::before, #sk-container-id-2 div.sk-parallel-item::before {content: \"\";position: absolute;border-left: 1px solid gray;box-sizing: border-box;top: 0;bottom: 0;left: 50%;z-index: -1;}#sk-container-id-2 div.sk-parallel-item {display: flex;flex-direction: column;z-index: 1;position: relative;background-color: white;}#sk-container-id-2 div.sk-parallel-item:first-child::after {align-self: flex-end;width: 50%;}#sk-container-id-2 div.sk-parallel-item:last-child::after {align-self: flex-start;width: 50%;}#sk-container-id-2 div.sk-parallel-item:only-child::after {width: 0;}#sk-container-id-2 div.sk-dashed-wrapped {border: 1px dashed gray;margin: 0 0.4em 0.5em 0.4em;box-sizing: border-box;padding-bottom: 0.4em;background-color: white;}#sk-container-id-2 div.sk-label label {font-family: monospace;font-weight: bold;display: inline-block;line-height: 1.2em;}#sk-container-id-2 div.sk-label-container {text-align: center;}#sk-container-id-2 div.sk-container {/* jupyter's `normalize.less` sets `[hidden] { display: none; }` but bootstrap.min.css set `[hidden] { display: none !important; }` so we also need the `!important` here to be able to override the default hidden behavior on the sphinx rendered scikit-learn.org. See: https://github.com/scikit-learn/scikit-learn/issues/21755 */display: inline-block !important;position: relative;}#sk-container-id-2 div.sk-text-repr-fallback {display: none;}</style><div id=\"sk-container-id-2\" class=\"sk-top-container\"><div class=\"sk-text-repr-fallback\"><pre>LogisticRegression(C=1.15, solver=&#x27;sag&#x27;)</pre><b>In a Jupyter environment, please rerun this cell to show the HTML representation or trust the notebook. <br />On GitHub, the HTML representation is unable to render, please try loading this page with nbviewer.org.</b></div><div class=\"sk-container\" hidden><div class=\"sk-item\"><div class=\"sk-estimator sk-toggleable\"><input class=\"sk-toggleable__control sk-hidden--visually\" id=\"sk-estimator-id-2\" type=\"checkbox\" checked><label for=\"sk-estimator-id-2\" class=\"sk-toggleable__label sk-toggleable__label-arrow\">LogisticRegression</label><div class=\"sk-toggleable__content\"><pre>LogisticRegression(C=1.15, solver=&#x27;sag&#x27;)</pre></div></div></div></div></div>"
      ],
      "text/plain": [
       "LogisticRegression(C=1.15, solver='sag')"
      ]
     },
     "execution_count": 39,
     "metadata": {},
     "output_type": "execute_result"
    }
   ],
   "source": [
    "clf = LogisticRegression(C=1.15, solver=\"sag\")  # random_state=k_random_state \n",
    "\n",
    "\n",
    "# print(X.columns)\n",
    "clf.fit(X, y)\n"
   ]
  },
  {
   "cell_type": "code",
   "execution_count": 40,
   "metadata": {},
   "outputs": [
    {
     "name": "stdout",
     "output_type": "stream",
     "text": [
      "f1 \t\t precision \t recall\n",
      "0.502967 \t 0.716010 \t 0.387631\n"
     ]
    }
   ],
   "source": [
    "y_pred = clf.predict(X)\n",
    "\n",
    "print(f\"f1 \\t\\t precision \\t recall\")\n",
    "print(f\"{f1_score(y,  y_pred):.6f} \\t {precision_score(y,  y_pred):.6f} \\t {recall_score(y,  y_pred):.6f}\")"
   ]
  },
  {
   "cell_type": "markdown",
   "metadata": {},
   "source": [
    "## Predictions sur le jeu sans label"
   ]
  },
  {
   "cell_type": "code",
   "execution_count": 41,
   "metadata": {},
   "outputs": [
    {
     "name": "stdout",
     "output_type": "stream",
     "text": [
      "<class 'pandas.core.frame.DataFrame'>\n",
      "(31620, 5)\n",
      "<class 'pandas.core.frame.DataFrame'>\n",
      "(31620, 5)\n"
     ]
    }
   ],
   "source": [
    "df_no_labels = pd.read_csv('./assets/conversion_data_test.csv')\n",
    "print(type(df_no_labels))\n",
    "print(df_no_labels.shape)\n",
    "\n",
    "# X_no_labels = add_weight_col(df_no_labels)  \n",
    "X_no_labels = df_no_labels\n",
    "print(type(X_no_labels))\n",
    "print(X_no_labels.shape)\n",
    "\n"
   ]
  },
  {
   "cell_type": "code",
   "execution_count": 42,
   "metadata": {},
   "outputs": [],
   "source": [
    "# print(df.shape)\n",
    "\n",
    "# numeric_columns = df[[\"age\", \"total_pages_visited\"]]\n",
    "# print(type(numeric_columns))\n",
    "# # numeric_columns = [\"age\tnew_user\", \"total_pages_visited\"]\n",
    "\n",
    "# # 1. Calculez l'IQR pour chaque colonne numérique\n",
    "# Q1 = numeric_columns.quantile(0.25)\n",
    "# Q3 = numeric_columns.quantile(0.75)\n",
    "# IQR = Q3 - Q1\n",
    "\n",
    "# # 2. Calculez les limites supérieure et inférieure\n",
    "# lower_bound = Q1 - 1.5 * IQR\n",
    "# upper_bound = Q3 + 1.5 * IQR\n",
    "\n",
    "# # Créez un masque pour identifier les lignes avec des valeurs aberrantes dans les colonnes numériques\n",
    "# outliers_mask = ((numeric_columns < lower_bound) | (numeric_columns > upper_bound)).any(axis=1)\n",
    "\n",
    "# # Filtrez les lignes avec des valeurs aberrantes uniquement dans les colonnes numériques\n",
    "# df = df[~outliers_mask]\n",
    "# print(df.shape)"
   ]
  },
  {
   "cell_type": "code",
   "execution_count": 43,
   "metadata": {},
   "outputs": [
    {
     "name": "stdout",
     "output_type": "stream",
     "text": [
      "<class 'numpy.ndarray'>\n",
      "(31620, 8)\n",
      "[[-0.309 -1.497  3.945  0.     1.     0.     0.     1.   ]\n",
      " [-1.053  0.668  0.124  0.     1.     0.     1.     0.   ]\n",
      " [ 0.187  0.668 -1.265  0.     0.     0.     0.     1.   ]\n",
      " [ 0.187  0.668  0.472  0.     0.     1.     0.     0.   ]\n",
      " [-0.681 -1.497 -0.57   0.     0.     0.     0.     1.   ]]\n"
     ]
    }
   ],
   "source": [
    "X_no_labels = preprocessor.transform(X_no_labels)\n",
    "\n",
    "print(type(X_no_labels))\n",
    "print(X_no_labels.shape)\n",
    "print(X_no_labels[0:5,:].round(3))"
   ]
  },
  {
   "cell_type": "code",
   "execution_count": 44,
   "metadata": {},
   "outputs": [],
   "source": [
    "data = {\n",
    "  'converted': clf.predict(X_no_labels)\n",
    "}\n",
    "\n",
    "Y_predictions = pd.DataFrame(columns=['converted'], data=data)\n",
    "\n",
    "trailer         = datetime.now().strftime(\"%Y%m%d_%H%M%S\")\n",
    "out_file = \"./assets/\" + header + author + \"-\" + trailer + \".csv\"\n",
    "Y_predictions.to_csv(out_file, index=False)\n",
    "\n"
   ]
  }
 ],
 "metadata": {
  "kernelspec": {
   "display_name": "jedha",
   "language": "python",
   "name": "python3"
  },
  "language_info": {
   "codemirror_mode": {
    "name": "ipython",
    "version": 3
   },
   "file_extension": ".py",
   "mimetype": "text/x-python",
   "name": "python",
   "nbconvert_exporter": "python",
   "pygments_lexer": "ipython3",
   "version": "3.11.7"
  }
 },
 "nbformat": 4,
 "nbformat_minor": 2
}
