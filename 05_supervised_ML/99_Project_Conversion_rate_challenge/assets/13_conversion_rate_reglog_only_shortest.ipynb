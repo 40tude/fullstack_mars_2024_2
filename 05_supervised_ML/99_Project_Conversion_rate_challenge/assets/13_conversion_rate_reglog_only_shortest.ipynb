{
 "cells": [
  {
   "cell_type": "code",
   "execution_count": 1,
   "metadata": {},
   "outputs": [
    {
     "name": "stderr",
     "output_type": "stream",
     "text": [
      "c:\\Users\\phili\\anaconda3\\envs\\jedha\\Lib\\site-packages\\sklearn\\linear_model\\_logistic.py:1173: FutureWarning: `penalty='none'`has been deprecated in 1.2 and will be removed in 1.4. To keep the past behaviour, set `penalty=None`.\n",
      "  warnings.warn(\n",
      "c:\\Users\\phili\\anaconda3\\envs\\jedha\\Lib\\site-packages\\sklearn\\linear_model\\_logistic.py:1181: UserWarning: Setting penalty=None will ignore the C and l1_ratio parameters\n",
      "  warnings.warn(\n"
     ]
    },
    {
     "name": "stdout",
     "output_type": "stream",
     "text": [
      "f1 \t\t precision \t recall\n",
      "0.768485 \t 0.866120 \t 0.690632\n"
     ]
    },
    {
     "name": "stderr",
     "output_type": "stream",
     "text": [
      "c:\\Users\\phili\\anaconda3\\envs\\jedha\\Lib\\site-packages\\sklearn\\linear_model\\_logistic.py:1173: FutureWarning: `penalty='none'`has been deprecated in 1.2 and will be removed in 1.4. To keep the past behaviour, set `penalty=None`.\n",
      "  warnings.warn(\n",
      "c:\\Users\\phili\\anaconda3\\envs\\jedha\\Lib\\site-packages\\sklearn\\linear_model\\_logistic.py:1181: UserWarning: Setting penalty=None will ignore the C and l1_ratio parameters\n",
      "  warnings.warn(\n"
     ]
    },
    {
     "name": "stdout",
     "output_type": "stream",
     "text": [
      "f1 \t\t precision \t recall\n",
      "0.763880 \t 0.855176 \t 0.690196\n"
     ]
    }
   ],
   "source": [
    "import pandas as pd\n",
    "import numpy as np\n",
    "from datetime import datetime\n",
    "from sklearn.model_selection import train_test_split\n",
    "from sklearn.metrics import f1_score, precision_score, recall_score  \n",
    "from sklearn.model_selection import GridSearchCV\n",
    "from sklearn.preprocessing import OneHotEncoder, StandardScaler, PolynomialFeatures   \n",
    "from sklearn.compose import ColumnTransformer\n",
    "from sklearn.linear_model import LogisticRegression \n",
    "from sklearn.pipeline import Pipeline\n",
    "\n",
    "k_target        = \"converted\"\n",
    "k_samples_ratio = 100/100   # percentage of observation to be taken into account. Pass 100/100 for final testing \n",
    "k_test_size     = 20/100    # see train_test_split\n",
    "k_random_state  = 42        # you know why...\n",
    "header          = \"conversion_data_test_predictions_\"\n",
    "author          = \"PHILIPPE\"\n",
    "\n",
    "df = pd.read_csv('./assets/conversion_data_train.csv')\n",
    "\n",
    "#######################################################################\n",
    "# training on train and test set\n",
    "X = df.drop(columns = k_target)\n",
    "y = df[k_target]\n",
    "\n",
    "X_train, X_test, y_train, y_test = train_test_split(X, y, test_size=k_test_size, random_state=k_random_state, stratify = y)\n",
    "\n",
    "numeric_features      = X.select_dtypes(include=\"number\").columns\n",
    "categorical_features  = X.select_dtypes(exclude=\"number\").columns\n",
    "\n",
    "numeric_transformer = Pipeline(\n",
    "  steps=[\n",
    "    (\"scaler_num\", StandardScaler()),\n",
    "  ]\n",
    ")\n",
    "\n",
    "categorical_transformer = Pipeline(\n",
    "  steps=[\n",
    "      (\"encoder_cat\", OneHotEncoder(drop=\"first\")),                 \n",
    "  ]\n",
    ")\n",
    "\n",
    "preprocessor = ColumnTransformer(\n",
    "  transformers=[\n",
    "    (\"num\", numeric_transformer,     numeric_features),\n",
    "    (\"cat\", categorical_transformer, categorical_features),\n",
    "  ]\n",
    ")\n",
    "\n",
    "X_train = preprocessor.fit_transform(X_train)\n",
    "X_test  = preprocessor.transform(X_test)\n",
    "\n",
    "pipe = Pipeline(steps=[\n",
    "    (\"poly\", PolynomialFeatures()),\n",
    "    (\"logit\", LogisticRegression())\n",
    "])\n",
    "\n",
    "params = {\n",
    "    \"poly__degree\"      : [1],\n",
    "    \"logit__C\"          : [3, 0.1],\n",
    "    \"logit__penalty\"    : [\"none\", \"l2\"],\n",
    "}\n",
    "\n",
    "gridsearch = GridSearchCV(pipe, param_grid = params, cv = 3, scoring=\"f1\", n_jobs = -1)\n",
    "gridsearch.fit(X_train, y_train)\n",
    "\n",
    "best_estimator = gridsearch.best_estimator_\n",
    "y_pred = best_estimator.predict(X_test)\n",
    "\n",
    "print(f\"f1 \\t\\t precision \\t recall\")\n",
    "print(f\"{f1_score(y_test,  y_pred):.6f} \\t {precision_score(y_test,  y_pred):.6f} \\t {recall_score(y_test,  y_pred):.6f}\")\n",
    "\n",
    "#######################################################################\n",
    "# Training on the whole dataset\n",
    "X = df.drop(columns = k_target)\n",
    "y = df[k_target]\n",
    "\n",
    "X = preprocessor.fit_transform(X)\n",
    "gridsearch.fit(X, y)\n",
    "best_estimator = gridsearch.best_estimator_\n",
    "y_pred = best_estimator.predict(X)\n",
    "\n",
    "print(f\"f1 \\t\\t precision \\t recall\")\n",
    "print(f\"{f1_score(y,  y_pred):.6f} \\t {precision_score(y,  y_pred):.6f} \\t {recall_score(y,  y_pred):.6f}\")\n",
    "\n",
    "#######################################################################\n",
    "# Prediction on unlabeled data\n",
    "X_no_labels = pd.read_csv('./assets/conversion_data_test.csv')\n",
    "X_no_labels = preprocessor.transform(X_no_labels)\n",
    "\n",
    "data = {\n",
    "  'converted': best_estimator.predict(X_no_labels)\n",
    "}\n",
    "\n",
    "y_predictions = pd.DataFrame(columns=['converted'], data=data)\n",
    "\n",
    "trailer         = datetime.now().strftime(\"%Y%m%d_%H%M%S\")\n",
    "out_file = \"./assets/\" + header + author + \"-\" + trailer + \".csv\"\n",
    "y_predictions.to_csv(out_file, index=False)"
   ]
  }
 ],
 "metadata": {
  "kernelspec": {
   "display_name": "jedha",
   "language": "python",
   "name": "python3"
  },
  "language_info": {
   "codemirror_mode": {
    "name": "ipython",
    "version": 3
   },
   "file_extension": ".py",
   "mimetype": "text/x-python",
   "name": "python",
   "nbconvert_exporter": "python",
   "pygments_lexer": "ipython3",
   "version": "3.11.7"
  }
 },
 "nbformat": 4,
 "nbformat_minor": 2
}
