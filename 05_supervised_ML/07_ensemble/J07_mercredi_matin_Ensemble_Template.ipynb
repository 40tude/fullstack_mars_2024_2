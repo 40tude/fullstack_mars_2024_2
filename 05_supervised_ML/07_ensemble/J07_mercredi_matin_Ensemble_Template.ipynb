{
  "cells": [
    {
      "cell_type": "markdown",
      "id": "63a1373e-d82b-4ba3-876e-abd05669ef18",
      "metadata": {
        "id": "63a1373e-d82b-4ba3-876e-abd05669ef18"
      },
      "source": [
        "# Mercredi 17 \n",
        "\n",
        "\n",
        "## Ensemble Learning\n",
        "\n",
        "* Voir https://app.jedha.co/course/boosting-ft/what-is-boosting-ft\n",
        "\n",
        "\n",
        "# Ensemble methods with scikit-learn and XGBoost 🧑‍🤝‍🧑🧑‍🤝‍🧑\n",
        "\n",
        "Let's train ensemble models on our toy-dataset.\n",
        "\n",
        "## What will you learn in this course? 🧐🧐\n",
        "\n",
        "This lecture is a follow-along demo that will guide you through the steps of building ensemble models, choosing the base estimators, optimizing the hyperparameters and evaluating the performances on actual data.\n",
        "\n",
        "- Preprocessing\n",
        "  - Training pipeline\n",
        "  - Test pipeline\n",
        "- Bagging\n",
        "  - Bagging with logistic regression as base estimator\n",
        "  - Bagging with decision tree as base estimator\n",
        "- Boosting\n",
        "  - AdaBoost\n",
        "  - scikit-learn's GradientBoosting\n",
        "  - XGBoost\n",
        "- Voting\n",
        "- Stacking\n"
      ]
    },
    {
      "cell_type": "code",
      "execution_count": 30,
      "id": "77cfddf4-0a6a-44b6-b592-48b6ed1eeea0",
      "metadata": {
        "id": "77cfddf4-0a6a-44b6-b592-48b6ed1eeea0"
      },
      "outputs": [],
      "source": [
        "import pandas as pd\n",
        "import numpy as np\n",
        "from sklearn.model_selection import train_test_split\n",
        "from sklearn.pipeline import Pipeline\n",
        "from sklearn.impute import SimpleImputer\n",
        "from sklearn.preprocessing import OneHotEncoder, StandardScaler, LabelEncoder\n",
        "from sklearn.compose import ColumnTransformer\n",
        "\n",
        "# import ensemble methods\n",
        "from sklearn.ensemble import (        # ! Zzzzzzzzzzzzzzzz\n",
        "    BaggingClassifier,\n",
        "    AdaBoostClassifier,\n",
        "    GradientBoostingClassifier,\n",
        "    VotingClassifier,\n",
        "    StackingClassifier,\n",
        ")\n",
        "from xgboost import XGBClassifier    # ! ZZZZZZZZZZZZZZZ\n",
        "\n",
        "# import base estimators\n",
        "from sklearn.tree import DecisionTreeClassifier\n",
        "from sklearn.linear_model import LogisticRegression\n",
        "from sklearn.svm import SVC\n",
        "from sklearn.model_selection import GridSearchCV\n",
        "from sklearn.metrics import (\n",
        "    accuracy_score,\n",
        "    f1_score,\n",
        "    ConfusionMatrixDisplay,\n",
        "    RocCurveDisplay,\n",
        ")\n",
        "import matplotlib.pyplot as plt\n",
        "import warnings\n",
        "\n",
        "warnings.filterwarnings(\n",
        "    \"ignore\", category=DeprecationWarning\n",
        ")  # to avoid deprecation warnings\n",
        "\n",
        "import plotly.express as px\n",
        "import plotly.graph_objects as go\n",
        "import plotly.io as pio\n",
        "\n",
        "# setting Jedha color palette as default\n",
        "# pio.templates[\"jedha\"] = go.layout.Template(\n",
        "#     layout_colorway=[\n",
        "#         \"#4B9AC7\",\n",
        "#         \"#4BE8E0\",\n",
        "#         \"#9DD4F3\",\n",
        "#         \"#97FBF6\",\n",
        "#         \"#2A7FAF\",\n",
        "#         \"#23B1AB\",\n",
        "#         \"#0E3449\",\n",
        "#         \"#015955\",\n",
        "#     ]\n",
        "# )\n",
        "# pio.templates.default = \"jedha\"\n",
        "# pio.renderers.default = \"svg\"  # to be replaced by \"iframe\" if working on JULIE"
      ]
    },
    {
      "cell_type": "code",
      "execution_count": 31,
      "id": "9a1bc617-7b42-48dc-bb83-006142c51330",
      "metadata": {
        "colab": {
          "base_uri": "https://localhost:8080/"
        },
        "id": "9a1bc617-7b42-48dc-bb83-006142c51330",
        "outputId": "4674fca3-df47-4b09-f5aa-288e78b0451c"
      },
      "outputs": [
        {
          "name": "stdout",
          "output_type": "stream",
          "text": [
            "Loading dataset...\n",
            "...Done.\n",
            "\n"
          ]
        }
      ],
      "source": [
        "# Import dataset\n",
        "print(\"Loading dataset...\")\n",
        "dataset = pd.read_csv(\"../12_assets/05_supervised_ML/Data.csv\")\n",
        "print(\"...Done.\")\n",
        "print()"
      ]
    },
    {
      "cell_type": "code",
      "execution_count": 32,
      "id": "6572043b-8c19-4959-9175-d500460fea80",
      "metadata": {
        "colab": {
          "base_uri": "https://localhost:8080/",
          "height": 791
        },
        "id": "6572043b-8c19-4959-9175-d500460fea80",
        "outputId": "e876b30a-c5a4-4cca-ca96-1a04fca5e526"
      },
      "outputs": [
        {
          "name": "stdout",
          "output_type": "stream",
          "text": [
            "Number of rows : 10\n",
            "\n",
            "Display of dataset: \n"
          ]
        },
        {
          "data": {
            "text/html": [
              "<div>\n",
              "<style scoped>\n",
              "    .dataframe tbody tr th:only-of-type {\n",
              "        vertical-align: middle;\n",
              "    }\n",
              "\n",
              "    .dataframe tbody tr th {\n",
              "        vertical-align: top;\n",
              "    }\n",
              "\n",
              "    .dataframe thead th {\n",
              "        text-align: right;\n",
              "    }\n",
              "</style>\n",
              "<table border=\"1\" class=\"dataframe\">\n",
              "  <thead>\n",
              "    <tr style=\"text-align: right;\">\n",
              "      <th></th>\n",
              "      <th>Country</th>\n",
              "      <th>Age</th>\n",
              "      <th>Salary</th>\n",
              "      <th>Purchased</th>\n",
              "    </tr>\n",
              "  </thead>\n",
              "  <tbody>\n",
              "    <tr>\n",
              "      <th>0</th>\n",
              "      <td>France</td>\n",
              "      <td>44.0</td>\n",
              "      <td>72000</td>\n",
              "      <td>No</td>\n",
              "    </tr>\n",
              "    <tr>\n",
              "      <th>1</th>\n",
              "      <td>Spain</td>\n",
              "      <td>27.0</td>\n",
              "      <td>48000</td>\n",
              "      <td>Yes</td>\n",
              "    </tr>\n",
              "    <tr>\n",
              "      <th>2</th>\n",
              "      <td>Germany</td>\n",
              "      <td>30.0</td>\n",
              "      <td>54000</td>\n",
              "      <td>No</td>\n",
              "    </tr>\n",
              "    <tr>\n",
              "      <th>3</th>\n",
              "      <td>Spain</td>\n",
              "      <td>38.0</td>\n",
              "      <td>61000</td>\n",
              "      <td>No</td>\n",
              "    </tr>\n",
              "    <tr>\n",
              "      <th>4</th>\n",
              "      <td>Germany</td>\n",
              "      <td>40.0</td>\n",
              "      <td>69000</td>\n",
              "      <td>Yes</td>\n",
              "    </tr>\n",
              "  </tbody>\n",
              "</table>\n",
              "</div>"
            ],
            "text/plain": [
              "   Country   Age  Salary Purchased\n",
              "0   France  44.0   72000        No\n",
              "1    Spain  27.0   48000       Yes\n",
              "2  Germany  30.0   54000        No\n",
              "3    Spain  38.0   61000        No\n",
              "4  Germany  40.0   69000       Yes"
            ]
          },
          "metadata": {},
          "output_type": "display_data"
        },
        {
          "name": "stdout",
          "output_type": "stream",
          "text": [
            "\n",
            "Basics statistics: \n"
          ]
        },
        {
          "data": {
            "text/html": [
              "<div>\n",
              "<style scoped>\n",
              "    .dataframe tbody tr th:only-of-type {\n",
              "        vertical-align: middle;\n",
              "    }\n",
              "\n",
              "    .dataframe tbody tr th {\n",
              "        vertical-align: top;\n",
              "    }\n",
              "\n",
              "    .dataframe thead th {\n",
              "        text-align: right;\n",
              "    }\n",
              "</style>\n",
              "<table border=\"1\" class=\"dataframe\">\n",
              "  <thead>\n",
              "    <tr style=\"text-align: right;\">\n",
              "      <th></th>\n",
              "      <th>Country</th>\n",
              "      <th>Age</th>\n",
              "      <th>Salary</th>\n",
              "      <th>Purchased</th>\n",
              "    </tr>\n",
              "  </thead>\n",
              "  <tbody>\n",
              "    <tr>\n",
              "      <th>count</th>\n",
              "      <td>10</td>\n",
              "      <td>9.000000</td>\n",
              "      <td>10.000000</td>\n",
              "      <td>10</td>\n",
              "    </tr>\n",
              "    <tr>\n",
              "      <th>unique</th>\n",
              "      <td>3</td>\n",
              "      <td>NaN</td>\n",
              "      <td>NaN</td>\n",
              "      <td>2</td>\n",
              "    </tr>\n",
              "    <tr>\n",
              "      <th>top</th>\n",
              "      <td>France</td>\n",
              "      <td>NaN</td>\n",
              "      <td>NaN</td>\n",
              "      <td>No</td>\n",
              "    </tr>\n",
              "    <tr>\n",
              "      <th>freq</th>\n",
              "      <td>4</td>\n",
              "      <td>NaN</td>\n",
              "      <td>NaN</td>\n",
              "      <td>5</td>\n",
              "    </tr>\n",
              "    <tr>\n",
              "      <th>mean</th>\n",
              "      <td>NaN</td>\n",
              "      <td>38.777778</td>\n",
              "      <td>64300.000000</td>\n",
              "      <td>NaN</td>\n",
              "    </tr>\n",
              "    <tr>\n",
              "      <th>std</th>\n",
              "      <td>NaN</td>\n",
              "      <td>7.693793</td>\n",
              "      <td>11681.419244</td>\n",
              "      <td>NaN</td>\n",
              "    </tr>\n",
              "    <tr>\n",
              "      <th>min</th>\n",
              "      <td>NaN</td>\n",
              "      <td>27.000000</td>\n",
              "      <td>48000.000000</td>\n",
              "      <td>NaN</td>\n",
              "    </tr>\n",
              "    <tr>\n",
              "      <th>25%</th>\n",
              "      <td>NaN</td>\n",
              "      <td>35.000000</td>\n",
              "      <td>55000.000000</td>\n",
              "      <td>NaN</td>\n",
              "    </tr>\n",
              "    <tr>\n",
              "      <th>50%</th>\n",
              "      <td>NaN</td>\n",
              "      <td>38.000000</td>\n",
              "      <td>64000.000000</td>\n",
              "      <td>NaN</td>\n",
              "    </tr>\n",
              "    <tr>\n",
              "      <th>75%</th>\n",
              "      <td>NaN</td>\n",
              "      <td>44.000000</td>\n",
              "      <td>71250.000000</td>\n",
              "      <td>NaN</td>\n",
              "    </tr>\n",
              "    <tr>\n",
              "      <th>max</th>\n",
              "      <td>NaN</td>\n",
              "      <td>50.000000</td>\n",
              "      <td>83000.000000</td>\n",
              "      <td>NaN</td>\n",
              "    </tr>\n",
              "  </tbody>\n",
              "</table>\n",
              "</div>"
            ],
            "text/plain": [
              "       Country        Age        Salary Purchased\n",
              "count       10   9.000000     10.000000        10\n",
              "unique       3        NaN           NaN         2\n",
              "top     France        NaN           NaN        No\n",
              "freq         4        NaN           NaN         5\n",
              "mean       NaN  38.777778  64300.000000       NaN\n",
              "std        NaN   7.693793  11681.419244       NaN\n",
              "min        NaN  27.000000  48000.000000       NaN\n",
              "25%        NaN  35.000000  55000.000000       NaN\n",
              "50%        NaN  38.000000  64000.000000       NaN\n",
              "75%        NaN  44.000000  71250.000000       NaN\n",
              "max        NaN  50.000000  83000.000000       NaN"
            ]
          },
          "metadata": {},
          "output_type": "display_data"
        },
        {
          "name": "stdout",
          "output_type": "stream",
          "text": [
            "\n",
            "Percentage of missing values: \n"
          ]
        },
        {
          "data": {
            "text/plain": [
              "Country       0.0\n",
              "Age          10.0\n",
              "Salary        0.0\n",
              "Purchased     0.0\n",
              "dtype: float64"
            ]
          },
          "metadata": {},
          "output_type": "display_data"
        }
      ],
      "source": [
        "# Basic stats\n",
        "print(\"Number of rows : {}\".format(dataset.shape[0]))\n",
        "print()\n",
        "\n",
        "print(\"Display of dataset: \")\n",
        "display(dataset.head())\n",
        "print()\n",
        "\n",
        "print(\"Basics statistics: \")\n",
        "data_desc = dataset.describe(include=\"all\")\n",
        "display(data_desc)\n",
        "print()\n",
        "\n",
        "print(\"Percentage of missing values: \")\n",
        "display(100 * dataset.isnull().sum() / dataset.shape[0])"
      ]
    },
    {
      "cell_type": "markdown",
      "id": "ca47316e-3f7c-4222-8e4f-e3a061d5ee54",
      "metadata": {
        "id": "ca47316e-3f7c-4222-8e4f-e3a061d5ee54",
        "tags": []
      },
      "source": [
        "## Preprocessing\n"
      ]
    },
    {
      "cell_type": "code",
      "execution_count": 33,
      "id": "40cc490c-01cf-4042-96f9-92662f0a6e0e",
      "metadata": {
        "colab": {
          "base_uri": "https://localhost:8080/"
        },
        "id": "40cc490c-01cf-4042-96f9-92662f0a6e0e",
        "outputId": "6cfa8249-7796-4fe5-b935-763fb2fbb3cf"
      },
      "outputs": [
        {
          "name": "stdout",
          "output_type": "stream",
          "text": [
            "Separating labels from features...\n",
            "...Done.\n",
            "\n",
            "Y : \n",
            "0     No\n",
            "1    Yes\n",
            "2     No\n",
            "3     No\n",
            "4    Yes\n",
            "Name: Purchased, dtype: object\n",
            "\n",
            "X :\n",
            "   Country   Age  Salary\n",
            "0   France  44.0   72000\n",
            "1    Spain  27.0   48000\n",
            "2  Germany  30.0   54000\n",
            "3    Spain  38.0   61000\n",
            "4  Germany  40.0   69000\n"
          ]
        }
      ],
      "source": [
        "# Separate target variable Y from features X\n",
        "print(\"Separating labels from features...\")\n",
        "target_variable = \"Purchased\"\n",
        "\n",
        "X = dataset.drop(target_variable, axis=1)\n",
        "Y = dataset.loc[:, target_variable]\n",
        "\n",
        "print(\"...Done.\")\n",
        "print()\n",
        "\n",
        "print(\"Y : \")\n",
        "print(Y.head())\n",
        "print()\n",
        "print(\"X :\")\n",
        "print(X.head())"
      ]
    },
    {
      "cell_type": "code",
      "execution_count": 34,
      "id": "597f1c42-0346-40b0-8352-6793a39190d9",
      "metadata": {
        "colab": {
          "base_uri": "https://localhost:8080/"
        },
        "id": "597f1c42-0346-40b0-8352-6793a39190d9",
        "outputId": "f3cd9e2e-f119-4582-d40f-7ad2b168e5e9"
      },
      "outputs": [
        {
          "name": "stdout",
          "output_type": "stream",
          "text": [
            "Found numeric features  ['Age', 'Salary']\n",
            "Found categorical features  ['Country']\n"
          ]
        }
      ],
      "source": [
        "# Automatically detect names of numeric/categorical columns\n",
        "numeric_features = []\n",
        "categorical_features = []\n",
        "for i, t in X.dtypes.items():\n",
        "    if (\"float\" in str(t)) or (\"int\" in str(t)):\n",
        "        numeric_features.append(i)\n",
        "    else:\n",
        "        categorical_features.append(i)\n",
        "\n",
        "print(\"Found numeric features \", numeric_features)\n",
        "print(\"Found categorical features \", categorical_features)"
      ]
    },
    {
      "cell_type": "code",
      "execution_count": 35,
      "id": "8445b5d9-a5eb-4dbd-a877-b5b27070b746",
      "metadata": {
        "colab": {
          "base_uri": "https://localhost:8080/"
        },
        "id": "8445b5d9-a5eb-4dbd-a877-b5b27070b746",
        "outputId": "eebfde27-92b7-4cac-fbdc-ff6a829d2a33"
      },
      "outputs": [
        {
          "name": "stdout",
          "output_type": "stream",
          "text": [
            "Dividing into train and test sets...\n",
            "...Done.\n",
            "\n"
          ]
        }
      ],
      "source": [
        "# Divide dataset Train set & Test set\n",
        "print(\"Dividing into train and test sets...\")\n",
        "# WARNING : don't forget stratify=Y for classification problems\n",
        "X_train, X_test, Y_train, Y_test = train_test_split(\n",
        "    X, Y, test_size=0.2, random_state=0, stratify=Y\n",
        ")\n",
        "print(\"...Done.\")\n",
        "print()"
      ]
    },
    {
      "cell_type": "code",
      "execution_count": 36,
      "id": "0721517e-f60e-4153-9823-110d335f731c",
      "metadata": {
        "id": "0721517e-f60e-4153-9823-110d335f731c"
      },
      "outputs": [],
      "source": [
        "# Create pipeline for numeric features\n",
        "numeric_transformer = Pipeline(\n",
        "    steps=[\n",
        "        (\"imputer\", SimpleImputer(strategy=\"mean\")),  # missing values will be replaced by columns' mean\n",
        "        (\"scaler\", StandardScaler()),\n",
        "    ]\n",
        ")"
      ]
    },
    {
      "cell_type": "code",
      "execution_count": 37,
      "id": "ecf7b6dc-386b-4b7b-a2c4-c1c4d44cb18a",
      "metadata": {
        "id": "ecf7b6dc-386b-4b7b-a2c4-c1c4d44cb18a"
      },
      "outputs": [],
      "source": [
        "# Create pipeline for categorical features\n",
        "categorical_transformer = OneHotEncoder(\n",
        "    drop=\"first\"\n",
        ")  # no missing values in categorical data, so we only need the OHE"
      ]
    },
    {
      "cell_type": "code",
      "execution_count": 38,
      "id": "a53252d3-2af7-49cb-8f07-f8277d46413a",
      "metadata": {
        "id": "a53252d3-2af7-49cb-8f07-f8277d46413a"
      },
      "outputs": [],
      "source": [
        "# Use ColumnTransformer to make a preprocessor object that describes all the treatments to be done\n",
        "preprocessor = ColumnTransformer(\n",
        "    transformers=[\n",
        "        (\"num\", numeric_transformer, numeric_features),\n",
        "        (\"cat\", categorical_transformer, categorical_features),\n",
        "    ]\n",
        ")"
      ]
    },
    {
      "cell_type": "code",
      "execution_count": 39,
      "id": "e212e063-6d16-4566-b12d-5fa76698ccb5",
      "metadata": {
        "colab": {
          "base_uri": "https://localhost:8080/"
        },
        "id": "e212e063-6d16-4566-b12d-5fa76698ccb5",
        "outputId": "fb761be6-eb3b-4886-88b1-6f52b0117992"
      },
      "outputs": [
        {
          "name": "stdout",
          "output_type": "stream",
          "text": [
            "Performing preprocessings on train set...\n",
            "   Country   Age  Salary\n",
            "0   France  44.0   72000\n",
            "4  Germany  40.0   69000\n",
            "6    Spain   NaN   52000\n",
            "9   France  37.0   67000\n",
            "3    Spain  38.0   61000\n",
            "...Done.\n",
            "[[ 1.61706195e+00  1.46885753e+00  0.00000000e+00  0.00000000e+00]\n",
            " [ 8.22715727e-01  1.09777773e+00  1.00000000e+00  0.00000000e+00]\n",
            " [-1.41104234e-15 -1.00500778e+00  0.00000000e+00  1.00000000e+00]\n",
            " [ 2.26956063e-01  8.50391200e-01  0.00000000e+00  0.00000000e+00]\n",
            " [ 4.25542617e-01  1.08231607e-01  0.00000000e+00  1.00000000e+00]]\n",
            "\n",
            "Encoding labels...\n",
            "0     No\n",
            "4    Yes\n",
            "6     No\n",
            "9    Yes\n",
            "3     No\n",
            "Name: Purchased, dtype: object\n",
            "...Done\n",
            "[0 1 0 1 0]\n",
            "Performing preprocessings on test set...\n",
            "   Country   Age  Salary\n",
            "8  Germany  50.0   83000\n",
            "7   France  48.0   79000\n",
            "...Done.\n",
            "[[2.80858127 2.82948345 1.         0.        ]\n",
            " [2.41140816 2.33471038 0.         0.        ]]\n",
            "\n",
            "Encoding labels...\n",
            "8     No\n",
            "7    Yes\n",
            "Name: Purchased, dtype: object\n",
            "...Done\n",
            "[0 1]\n"
          ]
        }
      ],
      "source": [
        "# Preprocessings on train set\n",
        "print(\"Performing preprocessings on train set...\")\n",
        "print(X_train.head())\n",
        "X_train = preprocessor.fit_transform(X_train)\n",
        "print(\"...Done.\")\n",
        "print(\n",
        "    X_train[0:5]\n",
        ")  # MUST use this syntax because X_train is a numpy array and not a pandas DataFrame anymore\n",
        "print()\n",
        "# Label encoding\n",
        "print(\"Encoding labels...\")\n",
        "print(Y_train.head())\n",
        "encoder = LabelEncoder()\n",
        "Y_train = encoder.fit_transform(Y_train)\n",
        "print(\"...Done\")\n",
        "print(Y_train[0:5])\n",
        "\n",
        "# Preprocessings on test set\n",
        "print(\"Performing preprocessings on test set...\")\n",
        "print(X_test.head())\n",
        "X_test = preprocessor.transform(\n",
        "    X_test\n",
        ")  # Don't fit again !! The test set is used for validating decisions\n",
        "# we made based on the training set, therefore we can only apply transformations that were parametered using the training set.\n",
        "# Otherwise this creates what is called a leak from the test set which will introduce a bias in all your results.\n",
        "print(\"...Done.\")\n",
        "print(\n",
        "    X_test[0:5, :]\n",
        ")  # MUST use this syntax because X_test is a numpy array and not a pandas DataFrame anymore\n",
        "print()\n",
        "# Label encoding\n",
        "print(\"Encoding labels...\")\n",
        "print(Y_test[0:5])\n",
        "Y_test = encoder.transform(Y_test)\n",
        "print(\"...Done\")\n",
        "print(Y_test[0:5])"
      ]
    },
    {
      "cell_type": "markdown",
      "id": "5ce24b5a-a5bd-4f12-a7a5-4c239fef5f0a",
      "metadata": {
        "id": "5ce24b5a-a5bd-4f12-a7a5-4c239fef5f0a",
        "tags": []
      },
      "source": [
        "## Bagging\n",
        "\n",
        "### Bagging with logistic regression as base estimator\n"
      ]
    },
    {
      "cell_type": "code",
      "execution_count": 40,
      "id": "53cbec0b-df0f-4144-8b49-fc7544787f4c",
      "metadata": {
        "colab": {
          "base_uri": "https://localhost:8080/"
        },
        "id": "53cbec0b-df0f-4144-8b49-fc7544787f4c",
        "outputId": "97a4dfa9-931e-4a2c-86ee-c9100597564d"
      },
      "outputs": [
        {
          "name": "stdout",
          "output_type": "stream",
          "text": [
            "Grid search...\n",
            "{'estimator__C': [0.01, 0.05, 0.1, 0.5], 'n_estimators': [5, 10, 20, 30]}\n"
          ]
        },
        {
          "name": "stdout",
          "output_type": "stream",
          "text": [
            "...Done.\n",
            "Best hyperparameters :  {'estimator__C': 0.05, 'n_estimators': 5}\n",
            "Best validation accuracy :  0.5\n",
            "\n",
            "Accuracy on training set :  0.5\n",
            "Accuracy on test set :  0.5\n"
          ]
        }
      ],
      "source": [
        "# Perform grid search\n",
        "print(\"Grid search...\")\n",
        "logistic_regression = LogisticRegression( max_iter=1000)  # max_iter changed because of convergence warning\n",
        "model               = BaggingClassifier(estimator=logistic_regression)\n",
        "\n",
        "# Grid of values to be tested\n",
        "params = {\n",
        "    \"estimator__C\": [0.01, 0.05, 0.1, 0.5, ],  # base_estimator__ prefix because C is a parameter from LogisticRegression!\n",
        "    \"n_estimators\": [5, 10, 20, 30, ],         # n_estimators is a hyperparameter of the ensemble method\n",
        "}\n",
        "print(params)\n",
        "\n",
        "gridsearch = GridSearchCV(\n",
        "    model, param_grid=params, cv=3\n",
        ")  # cv : the number of folds to be used for CV\n",
        "gridsearch.fit(X_train, Y_train)\n",
        "\n",
        "\n",
        "print(\"...Done.\")\n",
        "print(\"Best hyperparameters : \", gridsearch.best_params_)\n",
        "print(\"Best validation accuracy : \", gridsearch.best_score_)\n",
        "print()\n",
        "print(\"Accuracy on training set : \", gridsearch.score(X_train, Y_train))\n",
        "print(\"Accuracy on test set : \", gridsearch.score(X_test, Y_test))"
      ]
    },
    {
      "cell_type": "markdown",
      "id": "be56f1eb-f17b-4489-bd4e-01d923d04113",
      "metadata": {
        "id": "be56f1eb-f17b-4489-bd4e-01d923d04113"
      },
      "source": [
        "### Bagging with decision tree as base estimator\n"
      ]
    },
    {
      "cell_type": "code",
      "execution_count": 41,
      "id": "28cb660a-50a1-45d7-a0f4-699d3d8d71db",
      "metadata": {
        "colab": {
          "base_uri": "https://localhost:8080/"
        },
        "id": "28cb660a-50a1-45d7-a0f4-699d3d8d71db",
        "outputId": "7adaf22d-bf16-49bb-ae01-687aaa1f100b"
      },
      "outputs": [
        {
          "name": "stdout",
          "output_type": "stream",
          "text": [
            "Grid search...\n",
            "{'estimator__max_depth': [1, 2, 3], 'estimator__min_samples_leaf': [1, 2, 3], 'estimator__min_samples_split': [2, 3, 4], 'n_estimators': [2, 4, 6, 8, 10]}\n",
            "...Done.\n",
            "Best hyperparameters :  {'estimator__max_depth': 1, 'estimator__min_samples_leaf': 2, 'estimator__min_samples_split': 3, 'n_estimators': 2}\n",
            "Best validation accuracy :  0.611111111111111\n",
            "\n",
            "Accuracy on training set :  0.5\n",
            "Accuracy on test set :  0.5\n"
          ]
        }
      ],
      "source": [
        "# Perform grid search\n",
        "print(\"Grid search...\")\n",
        "decision_tree = DecisionTreeClassifier()\n",
        "model = BaggingClassifier(estimator=decision_tree)\n",
        "\n",
        "# Grid of values to be tested\n",
        "params = {\n",
        "    \"estimator__max_depth\": [1, 2, 3],\n",
        "    \"estimator__min_samples_leaf\": [1, 2, 3],\n",
        "    \"estimator__min_samples_split\": [2, 3, 4],\n",
        "    \"n_estimators\": [2, 4, 6, 8, 10],\n",
        "}\n",
        "print(params)\n",
        "gridsearch = GridSearchCV(\n",
        "    model, param_grid=params, cv=3\n",
        ")  # cv : the number of folds to be used for CV\n",
        "gridsearch.fit(X_train, Y_train)\n",
        "print(\"...Done.\")\n",
        "print(\"Best hyperparameters : \", gridsearch.best_params_)\n",
        "print(\"Best validation accuracy : \", gridsearch.best_score_)\n",
        "print()\n",
        "print(\"Accuracy on training set : \", gridsearch.score(X_train, Y_train))\n",
        "print(\"Accuracy on test set : \", gridsearch.score(X_test, Y_test))"
      ]
    },
    {
      "cell_type": "markdown",
      "id": "24eabc75-dd0b-4919-b485-89cea18bdfef",
      "metadata": {
        "id": "24eabc75-dd0b-4919-b485-89cea18bdfef",
        "tags": []
      },
      "source": [
        "## Boosting\n",
        "\n",
        "### Adaboost\n",
        "\n",
        "#### Adaboost with logistic regression as base estimator\n"
      ]
    },
    {
      "cell_type": "code",
      "execution_count": 42,
      "id": "e18623fe-37a7-4ceb-913a-9bc78d056c5a",
      "metadata": {
        "colab": {
          "base_uri": "https://localhost:8080/"
        },
        "id": "e18623fe-37a7-4ceb-913a-9bc78d056c5a",
        "outputId": "bdb841a8-081e-48df-d220-3c1c35bc95ee"
      },
      "outputs": [
        {
          "name": "stdout",
          "output_type": "stream",
          "text": [
            "Grid search...\n",
            "{'estimator__C': [0.01, 0.05, 0.1, 0.5], 'n_estimators': [5, 10, 20, 30]}\n",
            "...Done.\n",
            "Best hyperparameters :  {'estimator__C': 0.01, 'n_estimators': 5}\n",
            "Best validation accuracy :  0.38888888888888884\n",
            "\n",
            "Accuracy on training set :  0.625\n",
            "Accuracy on test set :  0.5\n"
          ]
        }
      ],
      "source": [
        "# Perform grid search\n",
        "print(\"Grid search...\")\n",
        "logistic_regression = LogisticRegression(max_iter=1000)  # max_iter changed because of convergence warning\n",
        "model = AdaBoostClassifier(estimator=logistic_regression)\n",
        "\n",
        "# Grid of values to be tested\n",
        "params = {\n",
        "    \"estimator__C\": [0.01, 0.05, 0.1, 0.5,],  # base_estimator__ prefix because C is a parameter from LogisticRegression!\n",
        "    \"n_estimators\": [5, 10, 20, 30, ],  # n_estimators is a hyperparameter of the ensemble method\n",
        "}\n",
        "print(params)\n",
        "\n",
        "gridsearch = GridSearchCV(\n",
        "    model, param_grid=params, cv=3\n",
        ")  # cv : the number of folds to be used for CV\n",
        "gridsearch.fit(X_train, Y_train)\n",
        "\n",
        "print(\"...Done.\")\n",
        "print(\"Best hyperparameters : \", gridsearch.best_params_)\n",
        "print(\"Best validation accuracy : \", gridsearch.best_score_)\n",
        "print()\n",
        "print(\"Accuracy on training set : \", gridsearch.score(X_train, Y_train))\n",
        "print(\"Accuracy on test set : \", gridsearch.score(X_test, Y_test))"
      ]
    },
    {
      "cell_type": "markdown",
      "id": "9ca61f5f-0e1e-4c6c-8534-8a1b550b8f6b",
      "metadata": {
        "id": "9ca61f5f-0e1e-4c6c-8534-8a1b550b8f6b"
      },
      "source": [
        "#### Adaboost with decision tree as base estimator\n"
      ]
    },
    {
      "cell_type": "code",
      "execution_count": 43,
      "id": "e1d35929-9b62-4b7d-9a73-9a981f8b4084",
      "metadata": {
        "colab": {
          "base_uri": "https://localhost:8080/"
        },
        "id": "e1d35929-9b62-4b7d-9a73-9a981f8b4084",
        "outputId": "4ed28fc2-070a-4360-d3fd-31d5d3a723b9"
      },
      "outputs": [
        {
          "name": "stdout",
          "output_type": "stream",
          "text": [
            "Grid search...\n",
            "{'estimator__max_depth': [1, 2, 3], 'estimator__min_samples_leaf': [1, 2, 3], 'estimator__min_samples_split': [2, 3, 4], 'n_estimators': [2, 4, 6, 8, 10]}\n",
            "...Done.\n",
            "Best hyperparameters :  {'estimator__max_depth': 1, 'estimator__min_samples_leaf': 1, 'estimator__min_samples_split': 2, 'n_estimators': 2}\n",
            "Best validation accuracy :  0.38888888888888884\n",
            "\n",
            "Accuracy on training set :  0.75\n",
            "Accuracy on test set :  0.5\n"
          ]
        }
      ],
      "source": [
        "# Perform grid search\n",
        "print(\"Grid search...\")\n",
        "decision_tree = DecisionTreeClassifier()\n",
        "model = AdaBoostClassifier(estimator=decision_tree)\n",
        "\n",
        "# Grid of values to be tested\n",
        "params = {\n",
        "    \"estimator__max_depth\": [1, 2, 3],\n",
        "    \"estimator__min_samples_leaf\": [1, 2, 3],\n",
        "    \"estimator__min_samples_split\": [2, 3, 4],\n",
        "    \"n_estimators\": [2, 4, 6, 8, 10],\n",
        "}\n",
        "print(params)\n",
        "\n",
        "\n",
        "gridsearch = GridSearchCV(\n",
        "    model, param_grid=params, cv=3\n",
        ")  # cv : the number of folds to be used for CV\n",
        "gridsearch.fit(X_train, Y_train)\n",
        "\n",
        "\n",
        "print(\"...Done.\")\n",
        "print(\"Best hyperparameters : \", gridsearch.best_params_)\n",
        "print(\"Best validation accuracy : \", gridsearch.best_score_)\n",
        "print()\n",
        "print(\"Accuracy on training set : \", gridsearch.score(X_train, Y_train))\n",
        "print(\"Accuracy on test set : \", gridsearch.score(X_test, Y_test))"
      ]
    },
    {
      "cell_type": "markdown",
      "id": "05824d1e-7a5d-42a0-9893-60b5d589e2c7",
      "metadata": {
        "id": "05824d1e-7a5d-42a0-9893-60b5d589e2c7"
      },
      "source": [
        "### Scikit-learn's GradientBoosting\n",
        "\n",
        "#### Boosting with logistic regression as base estimator: forbidden ⛔️\n"
      ]
    },
    {
      "cell_type": "code",
      "execution_count": 44,
      "id": "31f68266-f613-4665-9261-0f7ed6b3482a",
      "metadata": {
        "colab": {
          "base_uri": "https://localhost:8080/"
        },
        "id": "31f68266-f613-4665-9261-0f7ed6b3482a",
        "outputId": "a0646914-8b5a-4d3d-d141-ea50b50ae8ac"
      },
      "outputs": [
        {
          "name": "stdout",
          "output_type": "stream",
          "text": [
            "Grid search...\n"
          ]
        }
      ],
      "source": [
        "# Perform grid search\n",
        "print(\"Grid search...\")\n",
        "logistic_regression = LogisticRegression(\n",
        "    max_iter=1000\n",
        ")  # max_iter changed because of convergence warning\n",
        "# model = GradientBoostingClassifier(logistic_regression) # this will fail: only decision trees are accepted as base estimators in GradientBoosting !"
      ]
    },
    {
      "cell_type": "markdown",
      "id": "ce1942ba-578e-4704-8cce-8e7a6d3455ab",
      "metadata": {
        "id": "ce1942ba-578e-4704-8cce-8e7a6d3455ab"
      },
      "source": [
        "#### Boosting with decision tree as base estimator\n",
        "\n",
        "Actually, only trees are implemented in boosting models.\n"
      ]
    },
    {
      "cell_type": "code",
      "execution_count": 45,
      "id": "cc1baed3-7994-407c-b3fb-fe9ed6b79993",
      "metadata": {
        "colab": {
          "base_uri": "https://localhost:8080/"
        },
        "id": "cc1baed3-7994-407c-b3fb-fe9ed6b79993",
        "outputId": "746e9172-de05-4732-fa34-fa34657cc99a"
      },
      "outputs": [
        {
          "name": "stdout",
          "output_type": "stream",
          "text": [
            "Grid search...\n",
            "{'max_depth': [1, 2, 3], 'min_samples_leaf': [1, 2, 3], 'min_samples_split': [2, 3, 4], 'n_estimators': [2, 4, 6, 8, 10]}\n",
            "...Done.\n",
            "Best hyperparameters :  {'max_depth': 1, 'min_samples_leaf': 2, 'min_samples_split': 2, 'n_estimators': 2}\n",
            "Best validation accuracy :  0.38888888888888884\n",
            "\n",
            "Accuracy on training set :  0.75\n",
            "Accuracy on test set :  0.5\n"
          ]
        }
      ],
      "source": [
        "# Perform grid search\n",
        "print(\"Grid search...\")\n",
        "model = GradientBoostingClassifier()\n",
        "\n",
        "# Grid of values to be tested\n",
        "params = {\n",
        "    \"max_depth\": [1, 2, 3, ],  # no base_estimator_ prefix because these are all arguments of GradientBoostingClassifier\n",
        "    \"min_samples_leaf\": [1, 2, 3],\n",
        "    \"min_samples_split\": [2, 3, 4],\n",
        "    \"n_estimators\": [2, 4, 6, 8, 10],\n",
        "}\n",
        "print(params)\n",
        "gridsearch = GridSearchCV(\n",
        "    model, param_grid=params, cv=3\n",
        ")  # cv : the number of folds to be used for CV\n",
        "gridsearch.fit(X_train, Y_train)\n",
        "print(\"...Done.\")\n",
        "print(\"Best hyperparameters : \", gridsearch.best_params_)\n",
        "print(\"Best validation accuracy : \", gridsearch.best_score_)\n",
        "print()\n",
        "print(\"Accuracy on training set : \", gridsearch.score(X_train, Y_train))\n",
        "print(\"Accuracy on test set : \", gridsearch.score(X_test, Y_test))"
      ]
    },
    {
      "cell_type": "markdown",
      "id": "a8d178f5-5941-4108-80cc-8ca8199677bf",
      "metadata": {
        "id": "a8d178f5-5941-4108-80cc-8ca8199677bf"
      },
      "source": [
        "## XGBoost\n",
        "\n",
        "XGBoost is a different library, but it provides a [scikit-learn API](https://xgboost.readthedocs.io/en/stable/python/python_api.html#module-xgboost.sklearn) that allows to train a model as if it had been built from a scikit-learn class.\n"
      ]
    },
    {
      "cell_type": "code",
      "execution_count": 46,
      "id": "c457ce94-a138-48fc-99b0-7a653ffb3ce2",
      "metadata": {
        "colab": {
          "base_uri": "https://localhost:8080/"
        },
        "id": "c457ce94-a138-48fc-99b0-7a653ffb3ce2",
        "outputId": "8b382fa5-0e0c-456b-916a-35875299c534"
      },
      "outputs": [
        {
          "name": "stdout",
          "output_type": "stream",
          "text": [
            "Grid search...\n",
            "{'max_depth': [2, 4, 6], 'min_child_weight': [1, 2, 3], 'n_estimators': [2, 4, 6, 8]}\n",
            "...Done.\n",
            "Best hyperparameters :  {'max_depth': 2, 'min_child_weight': 2, 'n_estimators': 2}\n",
            "Best validation accuracy :  0.5\n",
            "\n",
            "Accuracy on training set :  0.5\n",
            "Accuracy on test set :  0.5\n"
          ]
        }
      ],
      "source": [
        "# Perform grid search\n",
        "print(\"Grid search...\")\n",
        "xgboost = XGBClassifier()\n",
        "\n",
        "# Grid of values to be tested\n",
        "params = {\n",
        "    \"max_depth\": [2, 4, 6],  # exactly the same role as in scikit-learn\n",
        "    \"min_child_weight\": [\n",
        "        1,\n",
        "        2,\n",
        "        3,\n",
        "    ],  # effect is more or less similar to min_samples_leaf and min_samples_split\n",
        "    \"n_estimators\": [\n",
        "        2,\n",
        "        4,\n",
        "        6,\n",
        "        8,\n",
        "    ],  # exactly the same role as in scikit-learn\n",
        "}\n",
        "print(params)\n",
        "gridsearch = GridSearchCV(\n",
        "    xgboost, param_grid=params, cv=3\n",
        ")  # cv : the number of folds to be used for CV\n",
        "gridsearch.fit(X_train, Y_train)\n",
        "print(\"...Done.\")\n",
        "print(\"Best hyperparameters : \", gridsearch.best_params_)\n",
        "print(\"Best validation accuracy : \", gridsearch.best_score_)\n",
        "print()\n",
        "print(\"Accuracy on training set : \", gridsearch.score(X_train, Y_train))\n",
        "print(\"Accuracy on test set : \", gridsearch.score(X_test, Y_test))"
      ]
    },
    {
      "cell_type": "markdown",
      "id": "3bf96ae6-f322-44f3-815d-0c6b4609e598",
      "metadata": {
        "id": "3bf96ae6-f322-44f3-815d-0c6b4609e598"
      },
      "source": [
        "## Voting\n",
        "\n",
        "Contrary to bagging and boosting, the voting classifier is meant to mix different base estimators. Let's see an example with three base estimators:\n",
        "\n",
        "- logistic regression\n",
        "- decision tree\n",
        "- SVM with rbf kernel\n"
      ]
    },
    {
      "cell_type": "code",
      "execution_count": 47,
      "id": "9b7bfad0-aa7f-4c28-b201-40b107779656",
      "metadata": {
        "colab": {
          "base_uri": "https://localhost:8080/"
        },
        "id": "9b7bfad0-aa7f-4c28-b201-40b107779656",
        "outputId": "9586fd55-a9d7-48d2-afa5-447ef686e583"
      },
      "outputs": [
        {
          "name": "stdout",
          "output_type": "stream",
          "text": [
            "Grid search...\n",
            "...Done.\n",
            "Best hyperparameters :  {'C': 10.0}\n",
            "Best validation accuracy :  0.611111111111111\n",
            "\n",
            "Accuracy on training set :  0.75\n",
            "Accuracy on test set :  0.5\n"
          ]
        }
      ],
      "source": [
        "# Logistic regression\n",
        "# Perform grid search\n",
        "print(\"Grid search...\")\n",
        "logreg = LogisticRegression()\n",
        "\n",
        "# Grid of values to be tested\n",
        "params = {\"C\": [0.1, 1.0, 10.0]}\n",
        "logreg_opt = GridSearchCV(\n",
        "    logreg, param_grid=params, cv=3\n",
        ")  # cv : the number of folds to be used for CV\n",
        "logreg_opt.fit(X_train, Y_train)\n",
        "print(\"...Done.\")\n",
        "print(\"Best hyperparameters : \", logreg_opt.best_params_)\n",
        "print(\"Best validation accuracy : \", logreg_opt.best_score_)\n",
        "print()\n",
        "print(\"Accuracy on training set : \", logreg_opt.score(X_train, Y_train))\n",
        "print(\"Accuracy on test set : \", logreg_opt.score(X_test, Y_test))"
      ]
    },
    {
      "cell_type": "code",
      "execution_count": 48,
      "id": "b588f473-74ec-41ef-94eb-d0cbebd5db20",
      "metadata": {
        "colab": {
          "base_uri": "https://localhost:8080/"
        },
        "id": "b588f473-74ec-41ef-94eb-d0cbebd5db20",
        "outputId": "43e8d8d1-2184-4108-9f71-a0a3a7502162"
      },
      "outputs": [
        {
          "name": "stdout",
          "output_type": "stream",
          "text": [
            "Grid search...\n",
            "...Done.\n",
            "Best hyperparameters :  {'max_depth': 1, 'min_samples_leaf': 2, 'min_samples_split': 2}\n",
            "Best validation accuracy :  0.5\n",
            "\n",
            "Accuracy on training set :  0.625\n",
            "Accuracy on test set :  0.5\n"
          ]
        }
      ],
      "source": [
        "# Decision tree\n",
        "# Perform grid search\n",
        "print(\"Grid search...\")\n",
        "dt = DecisionTreeClassifier()\n",
        "\n",
        "# Grid of values to be tested\n",
        "params = {\n",
        "    \"max_depth\": [1, 2, 3],\n",
        "    \"min_samples_leaf\": [1, 2, 3],\n",
        "    \"min_samples_split\": [2, 3, 4],\n",
        "}\n",
        "dt_opt = GridSearchCV(\n",
        "    dt, param_grid=params, cv=3\n",
        ")  # cv : the number of folds to be used for CV\n",
        "dt_opt.fit(X_train, Y_train)\n",
        "print(\"...Done.\")\n",
        "print(\"Best hyperparameters : \", dt_opt.best_params_)\n",
        "print(\"Best validation accuracy : \", dt_opt.best_score_)\n",
        "print()\n",
        "print(\"Accuracy on training set : \", dt_opt.score(X_train, Y_train))\n",
        "print(\"Accuracy on test set : \", dt_opt.score(X_test, Y_test))"
      ]
    },
    {
      "cell_type": "code",
      "execution_count": 49,
      "id": "6e211c40-7340-4b45-97e8-dffff25788a9",
      "metadata": {
        "colab": {
          "base_uri": "https://localhost:8080/"
        },
        "id": "6e211c40-7340-4b45-97e8-dffff25788a9",
        "outputId": "bcbc057f-c47b-4132-91a6-5917a56d81fd"
      },
      "outputs": [
        {
          "name": "stdout",
          "output_type": "stream",
          "text": [
            "Grid search...\n",
            "...Done.\n",
            "Best hyperparameters :  {'C': 0.1, 'gamma': 10.0}\n",
            "Best validation accuracy :  0.5555555555555555\n",
            "\n",
            "Accuracy on training set :  1.0\n",
            "Accuracy on test set :  0.5\n"
          ]
        }
      ],
      "source": [
        "# SVM\n",
        "# Perform grid search\n",
        "print(\"Grid search...\")\n",
        "svm = SVC(kernel=\"rbf\", probability=True)\n",
        "\n",
        "# Grid of values to be tested\n",
        "params = {\"C\": [0.1, 1.0, 10.0], \"gamma\": [0.1, 1.0, 10.0]}\n",
        "svm_opt = GridSearchCV(\n",
        "    svm, param_grid=params, cv=3\n",
        ")  # cv : the number of folds to be used for CV\n",
        "svm_opt.fit(X_train, Y_train)\n",
        "print(\"...Done.\")\n",
        "print(\"Best hyperparameters : \", svm_opt.best_params_)\n",
        "print(\"Best validation accuracy : \", svm_opt.best_score_)\n",
        "print()\n",
        "print(\"Accuracy on training set : \", svm_opt.score(X_train, Y_train))\n",
        "print(\"Accuracy on test set : \", svm_opt.score(X_test, Y_test))"
      ]
    },
    {
      "cell_type": "code",
      "execution_count": 50,
      "id": "9f506f35-e480-49d1-b4fb-f94834ab9cde",
      "metadata": {
        "colab": {
          "base_uri": "https://localhost:8080/"
        },
        "id": "9f506f35-e480-49d1-b4fb-f94834ab9cde",
        "outputId": "ed621a7d-0afd-4574-8360-81c3485fe8db"
      },
      "outputs": [
        {
          "name": "stdout",
          "output_type": "stream",
          "text": [
            "Accuracy on training set :  0.5\n",
            "Accuracy on test set :  0.5\n"
          ]
        }
      ],
      "source": [
        "# Voting\n",
        "voting = VotingClassifier(\n",
        "    estimators=[(\"logistic\", logreg_opt), (\"tree\", dt_opt), (\"svm\", svm_opt)],\n",
        "    voting=\"soft\",\n",
        ")  # soft: use probabilities for voting\n",
        "voting.fit(X_train, Y_train)\n",
        "print(\"Accuracy on training set : \", voting.score(X_train, Y_train))\n",
        "print(\"Accuracy on test set : \", voting.score(X_test, Y_test))"
      ]
    },
    {
      "cell_type": "markdown",
      "id": "d401d767-eefa-446c-ac28-5b01f1175dab",
      "metadata": {
        "id": "d401d767-eefa-446c-ac28-5b01f1175dab"
      },
      "source": [
        "## Stacking\n",
        "\n",
        "As voting, the stacking concerns different base estimators, but this time they will be used to estimate independent probabilities that will be plugged as input of a final estimator. The default final estimator is LogisticRegression, but it can be changed using the `final_estimator` parameter.\n",
        "\n",
        "In the examples below, the models `logreg`, `tree` and `svm` have already been optimized through a grid search.\n"
      ]
    },
    {
      "cell_type": "code",
      "execution_count": 51,
      "id": "7a5f0441-ee64-401a-9724-50f1231009e1",
      "metadata": {
        "colab": {
          "base_uri": "https://localhost:8080/",
          "height": 786
        },
        "id": "7a5f0441-ee64-401a-9724-50f1231009e1",
        "outputId": "05ef747c-5fb7-4990-d084-20a6dcdf641e"
      },
      "outputs": [
        {
          "name": "stdout",
          "output_type": "stream",
          "text": [
            "Training stacking classifier...\n"
          ]
        },
        {
          "name": "stderr",
          "output_type": "stream",
          "text": [
            "c:\\Users\\phili\\anaconda3\\envs\\jedha\\Lib\\site-packages\\sklearn\\model_selection\\_split.py:725: UserWarning:\n",
            "\n",
            "The least populated class in y has only 2 members, which is less than n_splits=3.\n",
            "\n",
            "c:\\Users\\phili\\anaconda3\\envs\\jedha\\Lib\\site-packages\\sklearn\\model_selection\\_split.py:725: UserWarning:\n",
            "\n",
            "The least populated class in y has only 2 members, which is less than n_splits=3.\n",
            "\n",
            "c:\\Users\\phili\\anaconda3\\envs\\jedha\\Lib\\site-packages\\sklearn\\model_selection\\_split.py:725: UserWarning:\n",
            "\n",
            "The least populated class in y has only 2 members, which is less than n_splits=3.\n",
            "\n",
            "c:\\Users\\phili\\anaconda3\\envs\\jedha\\Lib\\site-packages\\sklearn\\model_selection\\_split.py:725: UserWarning:\n",
            "\n",
            "The least populated class in y has only 2 members, which is less than n_splits=3.\n",
            "\n"
          ]
        },
        {
          "name": "stdout",
          "output_type": "stream",
          "text": [
            "...Done.\n"
          ]
        },
        {
          "name": "stderr",
          "output_type": "stream",
          "text": [
            "c:\\Users\\phili\\anaconda3\\envs\\jedha\\Lib\\site-packages\\sklearn\\model_selection\\_split.py:725: UserWarning:\n",
            "\n",
            "The least populated class in y has only 2 members, which is less than n_splits=3.\n",
            "\n",
            "c:\\Users\\phili\\anaconda3\\envs\\jedha\\Lib\\site-packages\\sklearn\\model_selection\\_split.py:725: UserWarning:\n",
            "\n",
            "The least populated class in y has only 2 members, which is less than n_splits=3.\n",
            "\n"
          ]
        },
        {
          "data": {
            "text/html": [
              "<div>\n",
              "<style scoped>\n",
              "    .dataframe tbody tr th:only-of-type {\n",
              "        vertical-align: middle;\n",
              "    }\n",
              "\n",
              "    .dataframe tbody tr th {\n",
              "        vertical-align: top;\n",
              "    }\n",
              "\n",
              "    .dataframe thead th {\n",
              "        text-align: right;\n",
              "    }\n",
              "</style>\n",
              "<table border=\"1\" class=\"dataframe\">\n",
              "  <thead>\n",
              "    <tr style=\"text-align: right;\">\n",
              "      <th></th>\n",
              "      <th>logistic</th>\n",
              "      <th>tree</th>\n",
              "      <th>svm</th>\n",
              "    </tr>\n",
              "  </thead>\n",
              "  <tbody>\n",
              "    <tr>\n",
              "      <th>0</th>\n",
              "      <td>0.427373</td>\n",
              "      <td>0.400000</td>\n",
              "      <td>0.544746</td>\n",
              "    </tr>\n",
              "    <tr>\n",
              "      <th>1</th>\n",
              "      <td>0.436606</td>\n",
              "      <td>0.400000</td>\n",
              "      <td>0.459113</td>\n",
              "    </tr>\n",
              "    <tr>\n",
              "      <th>2</th>\n",
              "      <td>0.132350</td>\n",
              "      <td>0.400000</td>\n",
              "      <td>0.544746</td>\n",
              "    </tr>\n",
              "    <tr>\n",
              "      <th>3</th>\n",
              "      <td>0.801275</td>\n",
              "      <td>0.400000</td>\n",
              "      <td>0.459113</td>\n",
              "    </tr>\n",
              "    <tr>\n",
              "      <th>4</th>\n",
              "      <td>0.278804</td>\n",
              "      <td>0.400000</td>\n",
              "      <td>0.544746</td>\n",
              "    </tr>\n",
              "    <tr>\n",
              "      <th>5</th>\n",
              "      <td>0.669196</td>\n",
              "      <td>0.666667</td>\n",
              "      <td>0.459113</td>\n",
              "    </tr>\n",
              "    <tr>\n",
              "      <th>6</th>\n",
              "      <td>0.653270</td>\n",
              "      <td>0.666667</td>\n",
              "      <td>0.544746</td>\n",
              "    </tr>\n",
              "    <tr>\n",
              "      <th>7</th>\n",
              "      <td>0.601127</td>\n",
              "      <td>0.666667</td>\n",
              "      <td>0.459113</td>\n",
              "    </tr>\n",
              "  </tbody>\n",
              "</table>\n",
              "</div>"
            ],
            "text/plain": [
              "   logistic      tree       svm\n",
              "0  0.427373  0.400000  0.544746\n",
              "1  0.436606  0.400000  0.459113\n",
              "2  0.132350  0.400000  0.544746\n",
              "3  0.801275  0.400000  0.459113\n",
              "4  0.278804  0.400000  0.544746\n",
              "5  0.669196  0.666667  0.459113\n",
              "6  0.653270  0.666667  0.544746\n",
              "7  0.601127  0.666667  0.459113"
            ]
          },
          "metadata": {},
          "output_type": "display_data"
        },
        {
          "name": "stdout",
          "output_type": "stream",
          "text": [
            "Accuracy on training set :  0.25\n",
            "Accuracy on test set :  0.5\n"
          ]
        }
      ],
      "source": [
        "# Default: LogisticRegression will be used as final estimator\n",
        "print(\"Training stacking classifier...\")\n",
        "stacking = StackingClassifier(\n",
        "    estimators=[(\"logistic\", logreg_opt), (\"tree\", dt_opt), (\"svm\", svm_opt)], cv=3\n",
        ")\n",
        "preds = stacking.fit_transform(X_train, Y_train)\n",
        "predictions = pd.DataFrame(preds, columns=stacking.named_estimators_.keys())\n",
        "print(\"...Done.\")\n",
        "display(predictions)\n",
        "print(\"Accuracy on training set : \", stacking.score(X_train, Y_train))\n",
        "print(\"Accuracy on test set : \", stacking.score(X_test, Y_test))"
      ]
    },
    {
      "cell_type": "markdown",
      "id": "22d35065-bc0c-44e7-a6e1-e3b11e00c542",
      "metadata": {
        "id": "22d35065-bc0c-44e7-a6e1-e3b11e00c542"
      },
      "source": [
        "<Note type=\"tip\" title=\"Check for correlations\">\n",
        "\n",
        "As the predictions used in stacking are supposed to be independent, it's a good practice to check the correlation matrix of the outputs from the different estimators. If some predictions have a strong correlation, it's better to re-train the stacking model by dropping one of the estimators\n",
        "\n",
        "</Note>\n"
      ]
    },
    {
      "cell_type": "code",
      "execution_count": 52,
      "id": "c53262cb-2cec-4e41-bf4e-f0178ffaecda",
      "metadata": {
        "colab": {
          "base_uri": "https://localhost:8080/",
          "height": 522
        },
        "id": "c53262cb-2cec-4e41-bf4e-f0178ffaecda",
        "outputId": "e38e5982-4844-49e2-a448-61b4f2dc6383"
      },
      "outputs": [
        {
          "data": {
            "application/vnd.plotly.v1+json": {
              "config": {
                "plotlyServerURL": "https://plot.ly"
              },
              "data": [
                {
                  "colorscale": [
                    [
                      0,
                      "#0d0887"
                    ],
                    [
                      0.1111111111111111,
                      "#46039f"
                    ],
                    [
                      0.2222222222222222,
                      "#7201a8"
                    ],
                    [
                      0.3333333333333333,
                      "#9c179e"
                    ],
                    [
                      0.4444444444444444,
                      "#bd3786"
                    ],
                    [
                      0.5555555555555556,
                      "#d8576b"
                    ],
                    [
                      0.6666666666666666,
                      "#ed7953"
                    ],
                    [
                      0.7777777777777778,
                      "#fb9f3a"
                    ],
                    [
                      0.8888888888888888,
                      "#fdca26"
                    ],
                    [
                      1,
                      "#f0f921"
                    ]
                  ],
                  "reversescale": false,
                  "showscale": false,
                  "type": "heatmap",
                  "x": [
                    "logistic",
                    "tree",
                    "svm"
                  ],
                  "y": [
                    "logistic",
                    "tree",
                    "svm"
                  ],
                  "z": [
                    [
                      1,
                      0.53,
                      -0.61
                    ],
                    [
                      0.53,
                      1,
                      -0.26
                    ],
                    [
                      -0.61,
                      -0.26,
                      1
                    ]
                  ]
                }
              ],
              "layout": {
                "annotations": [
                  {
                    "font": {
                      "color": "#000000"
                    },
                    "showarrow": false,
                    "text": "1.0",
                    "x": "logistic",
                    "xref": "x",
                    "y": "logistic",
                    "yref": "y"
                  },
                  {
                    "font": {
                      "color": "#000000"
                    },
                    "showarrow": false,
                    "text": "0.53",
                    "x": "tree",
                    "xref": "x",
                    "y": "logistic",
                    "yref": "y"
                  },
                  {
                    "font": {
                      "color": "#FFFFFF"
                    },
                    "showarrow": false,
                    "text": "-0.61",
                    "x": "svm",
                    "xref": "x",
                    "y": "logistic",
                    "yref": "y"
                  },
                  {
                    "font": {
                      "color": "#000000"
                    },
                    "showarrow": false,
                    "text": "0.53",
                    "x": "logistic",
                    "xref": "x",
                    "y": "tree",
                    "yref": "y"
                  },
                  {
                    "font": {
                      "color": "#000000"
                    },
                    "showarrow": false,
                    "text": "1.0",
                    "x": "tree",
                    "xref": "x",
                    "y": "tree",
                    "yref": "y"
                  },
                  {
                    "font": {
                      "color": "#FFFFFF"
                    },
                    "showarrow": false,
                    "text": "-0.26",
                    "x": "svm",
                    "xref": "x",
                    "y": "tree",
                    "yref": "y"
                  },
                  {
                    "font": {
                      "color": "#FFFFFF"
                    },
                    "showarrow": false,
                    "text": "-0.61",
                    "x": "logistic",
                    "xref": "x",
                    "y": "svm",
                    "yref": "y"
                  },
                  {
                    "font": {
                      "color": "#FFFFFF"
                    },
                    "showarrow": false,
                    "text": "-0.26",
                    "x": "tree",
                    "xref": "x",
                    "y": "svm",
                    "yref": "y"
                  },
                  {
                    "font": {
                      "color": "#000000"
                    },
                    "showarrow": false,
                    "text": "1.0",
                    "x": "svm",
                    "xref": "x",
                    "y": "svm",
                    "yref": "y"
                  }
                ],
                "template": {
                  "data": {
                    "bar": [
                      {
                        "error_x": {
                          "color": "#2a3f5f"
                        },
                        "error_y": {
                          "color": "#2a3f5f"
                        },
                        "marker": {
                          "line": {
                            "color": "#E5ECF6",
                            "width": 0.5
                          },
                          "pattern": {
                            "fillmode": "overlay",
                            "size": 10,
                            "solidity": 0.2
                          }
                        },
                        "type": "bar"
                      }
                    ],
                    "barpolar": [
                      {
                        "marker": {
                          "line": {
                            "color": "#E5ECF6",
                            "width": 0.5
                          },
                          "pattern": {
                            "fillmode": "overlay",
                            "size": 10,
                            "solidity": 0.2
                          }
                        },
                        "type": "barpolar"
                      }
                    ],
                    "carpet": [
                      {
                        "aaxis": {
                          "endlinecolor": "#2a3f5f",
                          "gridcolor": "white",
                          "linecolor": "white",
                          "minorgridcolor": "white",
                          "startlinecolor": "#2a3f5f"
                        },
                        "baxis": {
                          "endlinecolor": "#2a3f5f",
                          "gridcolor": "white",
                          "linecolor": "white",
                          "minorgridcolor": "white",
                          "startlinecolor": "#2a3f5f"
                        },
                        "type": "carpet"
                      }
                    ],
                    "choropleth": [
                      {
                        "colorbar": {
                          "outlinewidth": 0,
                          "ticks": ""
                        },
                        "type": "choropleth"
                      }
                    ],
                    "contour": [
                      {
                        "colorbar": {
                          "outlinewidth": 0,
                          "ticks": ""
                        },
                        "colorscale": [
                          [
                            0,
                            "#0d0887"
                          ],
                          [
                            0.1111111111111111,
                            "#46039f"
                          ],
                          [
                            0.2222222222222222,
                            "#7201a8"
                          ],
                          [
                            0.3333333333333333,
                            "#9c179e"
                          ],
                          [
                            0.4444444444444444,
                            "#bd3786"
                          ],
                          [
                            0.5555555555555556,
                            "#d8576b"
                          ],
                          [
                            0.6666666666666666,
                            "#ed7953"
                          ],
                          [
                            0.7777777777777778,
                            "#fb9f3a"
                          ],
                          [
                            0.8888888888888888,
                            "#fdca26"
                          ],
                          [
                            1,
                            "#f0f921"
                          ]
                        ],
                        "type": "contour"
                      }
                    ],
                    "contourcarpet": [
                      {
                        "colorbar": {
                          "outlinewidth": 0,
                          "ticks": ""
                        },
                        "type": "contourcarpet"
                      }
                    ],
                    "heatmap": [
                      {
                        "colorbar": {
                          "outlinewidth": 0,
                          "ticks": ""
                        },
                        "colorscale": [
                          [
                            0,
                            "#0d0887"
                          ],
                          [
                            0.1111111111111111,
                            "#46039f"
                          ],
                          [
                            0.2222222222222222,
                            "#7201a8"
                          ],
                          [
                            0.3333333333333333,
                            "#9c179e"
                          ],
                          [
                            0.4444444444444444,
                            "#bd3786"
                          ],
                          [
                            0.5555555555555556,
                            "#d8576b"
                          ],
                          [
                            0.6666666666666666,
                            "#ed7953"
                          ],
                          [
                            0.7777777777777778,
                            "#fb9f3a"
                          ],
                          [
                            0.8888888888888888,
                            "#fdca26"
                          ],
                          [
                            1,
                            "#f0f921"
                          ]
                        ],
                        "type": "heatmap"
                      }
                    ],
                    "heatmapgl": [
                      {
                        "colorbar": {
                          "outlinewidth": 0,
                          "ticks": ""
                        },
                        "colorscale": [
                          [
                            0,
                            "#0d0887"
                          ],
                          [
                            0.1111111111111111,
                            "#46039f"
                          ],
                          [
                            0.2222222222222222,
                            "#7201a8"
                          ],
                          [
                            0.3333333333333333,
                            "#9c179e"
                          ],
                          [
                            0.4444444444444444,
                            "#bd3786"
                          ],
                          [
                            0.5555555555555556,
                            "#d8576b"
                          ],
                          [
                            0.6666666666666666,
                            "#ed7953"
                          ],
                          [
                            0.7777777777777778,
                            "#fb9f3a"
                          ],
                          [
                            0.8888888888888888,
                            "#fdca26"
                          ],
                          [
                            1,
                            "#f0f921"
                          ]
                        ],
                        "type": "heatmapgl"
                      }
                    ],
                    "histogram": [
                      {
                        "marker": {
                          "pattern": {
                            "fillmode": "overlay",
                            "size": 10,
                            "solidity": 0.2
                          }
                        },
                        "type": "histogram"
                      }
                    ],
                    "histogram2d": [
                      {
                        "colorbar": {
                          "outlinewidth": 0,
                          "ticks": ""
                        },
                        "colorscale": [
                          [
                            0,
                            "#0d0887"
                          ],
                          [
                            0.1111111111111111,
                            "#46039f"
                          ],
                          [
                            0.2222222222222222,
                            "#7201a8"
                          ],
                          [
                            0.3333333333333333,
                            "#9c179e"
                          ],
                          [
                            0.4444444444444444,
                            "#bd3786"
                          ],
                          [
                            0.5555555555555556,
                            "#d8576b"
                          ],
                          [
                            0.6666666666666666,
                            "#ed7953"
                          ],
                          [
                            0.7777777777777778,
                            "#fb9f3a"
                          ],
                          [
                            0.8888888888888888,
                            "#fdca26"
                          ],
                          [
                            1,
                            "#f0f921"
                          ]
                        ],
                        "type": "histogram2d"
                      }
                    ],
                    "histogram2dcontour": [
                      {
                        "colorbar": {
                          "outlinewidth": 0,
                          "ticks": ""
                        },
                        "colorscale": [
                          [
                            0,
                            "#0d0887"
                          ],
                          [
                            0.1111111111111111,
                            "#46039f"
                          ],
                          [
                            0.2222222222222222,
                            "#7201a8"
                          ],
                          [
                            0.3333333333333333,
                            "#9c179e"
                          ],
                          [
                            0.4444444444444444,
                            "#bd3786"
                          ],
                          [
                            0.5555555555555556,
                            "#d8576b"
                          ],
                          [
                            0.6666666666666666,
                            "#ed7953"
                          ],
                          [
                            0.7777777777777778,
                            "#fb9f3a"
                          ],
                          [
                            0.8888888888888888,
                            "#fdca26"
                          ],
                          [
                            1,
                            "#f0f921"
                          ]
                        ],
                        "type": "histogram2dcontour"
                      }
                    ],
                    "mesh3d": [
                      {
                        "colorbar": {
                          "outlinewidth": 0,
                          "ticks": ""
                        },
                        "type": "mesh3d"
                      }
                    ],
                    "parcoords": [
                      {
                        "line": {
                          "colorbar": {
                            "outlinewidth": 0,
                            "ticks": ""
                          }
                        },
                        "type": "parcoords"
                      }
                    ],
                    "pie": [
                      {
                        "automargin": true,
                        "type": "pie"
                      }
                    ],
                    "scatter": [
                      {
                        "fillpattern": {
                          "fillmode": "overlay",
                          "size": 10,
                          "solidity": 0.2
                        },
                        "type": "scatter"
                      }
                    ],
                    "scatter3d": [
                      {
                        "line": {
                          "colorbar": {
                            "outlinewidth": 0,
                            "ticks": ""
                          }
                        },
                        "marker": {
                          "colorbar": {
                            "outlinewidth": 0,
                            "ticks": ""
                          }
                        },
                        "type": "scatter3d"
                      }
                    ],
                    "scattercarpet": [
                      {
                        "marker": {
                          "colorbar": {
                            "outlinewidth": 0,
                            "ticks": ""
                          }
                        },
                        "type": "scattercarpet"
                      }
                    ],
                    "scattergeo": [
                      {
                        "marker": {
                          "colorbar": {
                            "outlinewidth": 0,
                            "ticks": ""
                          }
                        },
                        "type": "scattergeo"
                      }
                    ],
                    "scattergl": [
                      {
                        "marker": {
                          "colorbar": {
                            "outlinewidth": 0,
                            "ticks": ""
                          }
                        },
                        "type": "scattergl"
                      }
                    ],
                    "scattermapbox": [
                      {
                        "marker": {
                          "colorbar": {
                            "outlinewidth": 0,
                            "ticks": ""
                          }
                        },
                        "type": "scattermapbox"
                      }
                    ],
                    "scatterpolar": [
                      {
                        "marker": {
                          "colorbar": {
                            "outlinewidth": 0,
                            "ticks": ""
                          }
                        },
                        "type": "scatterpolar"
                      }
                    ],
                    "scatterpolargl": [
                      {
                        "marker": {
                          "colorbar": {
                            "outlinewidth": 0,
                            "ticks": ""
                          }
                        },
                        "type": "scatterpolargl"
                      }
                    ],
                    "scatterternary": [
                      {
                        "marker": {
                          "colorbar": {
                            "outlinewidth": 0,
                            "ticks": ""
                          }
                        },
                        "type": "scatterternary"
                      }
                    ],
                    "surface": [
                      {
                        "colorbar": {
                          "outlinewidth": 0,
                          "ticks": ""
                        },
                        "colorscale": [
                          [
                            0,
                            "#0d0887"
                          ],
                          [
                            0.1111111111111111,
                            "#46039f"
                          ],
                          [
                            0.2222222222222222,
                            "#7201a8"
                          ],
                          [
                            0.3333333333333333,
                            "#9c179e"
                          ],
                          [
                            0.4444444444444444,
                            "#bd3786"
                          ],
                          [
                            0.5555555555555556,
                            "#d8576b"
                          ],
                          [
                            0.6666666666666666,
                            "#ed7953"
                          ],
                          [
                            0.7777777777777778,
                            "#fb9f3a"
                          ],
                          [
                            0.8888888888888888,
                            "#fdca26"
                          ],
                          [
                            1,
                            "#f0f921"
                          ]
                        ],
                        "type": "surface"
                      }
                    ],
                    "table": [
                      {
                        "cells": {
                          "fill": {
                            "color": "#EBF0F8"
                          },
                          "line": {
                            "color": "white"
                          }
                        },
                        "header": {
                          "fill": {
                            "color": "#C8D4E3"
                          },
                          "line": {
                            "color": "white"
                          }
                        },
                        "type": "table"
                      }
                    ]
                  },
                  "layout": {
                    "annotationdefaults": {
                      "arrowcolor": "#2a3f5f",
                      "arrowhead": 0,
                      "arrowwidth": 1
                    },
                    "autotypenumbers": "strict",
                    "coloraxis": {
                      "colorbar": {
                        "outlinewidth": 0,
                        "ticks": ""
                      }
                    },
                    "colorscale": {
                      "diverging": [
                        [
                          0,
                          "#8e0152"
                        ],
                        [
                          0.1,
                          "#c51b7d"
                        ],
                        [
                          0.2,
                          "#de77ae"
                        ],
                        [
                          0.3,
                          "#f1b6da"
                        ],
                        [
                          0.4,
                          "#fde0ef"
                        ],
                        [
                          0.5,
                          "#f7f7f7"
                        ],
                        [
                          0.6,
                          "#e6f5d0"
                        ],
                        [
                          0.7,
                          "#b8e186"
                        ],
                        [
                          0.8,
                          "#7fbc41"
                        ],
                        [
                          0.9,
                          "#4d9221"
                        ],
                        [
                          1,
                          "#276419"
                        ]
                      ],
                      "sequential": [
                        [
                          0,
                          "#0d0887"
                        ],
                        [
                          0.1111111111111111,
                          "#46039f"
                        ],
                        [
                          0.2222222222222222,
                          "#7201a8"
                        ],
                        [
                          0.3333333333333333,
                          "#9c179e"
                        ],
                        [
                          0.4444444444444444,
                          "#bd3786"
                        ],
                        [
                          0.5555555555555556,
                          "#d8576b"
                        ],
                        [
                          0.6666666666666666,
                          "#ed7953"
                        ],
                        [
                          0.7777777777777778,
                          "#fb9f3a"
                        ],
                        [
                          0.8888888888888888,
                          "#fdca26"
                        ],
                        [
                          1,
                          "#f0f921"
                        ]
                      ],
                      "sequentialminus": [
                        [
                          0,
                          "#0d0887"
                        ],
                        [
                          0.1111111111111111,
                          "#46039f"
                        ],
                        [
                          0.2222222222222222,
                          "#7201a8"
                        ],
                        [
                          0.3333333333333333,
                          "#9c179e"
                        ],
                        [
                          0.4444444444444444,
                          "#bd3786"
                        ],
                        [
                          0.5555555555555556,
                          "#d8576b"
                        ],
                        [
                          0.6666666666666666,
                          "#ed7953"
                        ],
                        [
                          0.7777777777777778,
                          "#fb9f3a"
                        ],
                        [
                          0.8888888888888888,
                          "#fdca26"
                        ],
                        [
                          1,
                          "#f0f921"
                        ]
                      ]
                    },
                    "colorway": [
                      "#636efa",
                      "#EF553B",
                      "#00cc96",
                      "#ab63fa",
                      "#FFA15A",
                      "#19d3f3",
                      "#FF6692",
                      "#B6E880",
                      "#FF97FF",
                      "#FECB52"
                    ],
                    "font": {
                      "color": "#2a3f5f"
                    },
                    "geo": {
                      "bgcolor": "white",
                      "lakecolor": "white",
                      "landcolor": "#E5ECF6",
                      "showlakes": true,
                      "showland": true,
                      "subunitcolor": "white"
                    },
                    "hoverlabel": {
                      "align": "left"
                    },
                    "hovermode": "closest",
                    "mapbox": {
                      "style": "light"
                    },
                    "paper_bgcolor": "white",
                    "plot_bgcolor": "#E5ECF6",
                    "polar": {
                      "angularaxis": {
                        "gridcolor": "white",
                        "linecolor": "white",
                        "ticks": ""
                      },
                      "bgcolor": "#E5ECF6",
                      "radialaxis": {
                        "gridcolor": "white",
                        "linecolor": "white",
                        "ticks": ""
                      }
                    },
                    "scene": {
                      "xaxis": {
                        "backgroundcolor": "#E5ECF6",
                        "gridcolor": "white",
                        "gridwidth": 2,
                        "linecolor": "white",
                        "showbackground": true,
                        "ticks": "",
                        "zerolinecolor": "white"
                      },
                      "yaxis": {
                        "backgroundcolor": "#E5ECF6",
                        "gridcolor": "white",
                        "gridwidth": 2,
                        "linecolor": "white",
                        "showbackground": true,
                        "ticks": "",
                        "zerolinecolor": "white"
                      },
                      "zaxis": {
                        "backgroundcolor": "#E5ECF6",
                        "gridcolor": "white",
                        "gridwidth": 2,
                        "linecolor": "white",
                        "showbackground": true,
                        "ticks": "",
                        "zerolinecolor": "white"
                      }
                    },
                    "shapedefaults": {
                      "line": {
                        "color": "#2a3f5f"
                      }
                    },
                    "ternary": {
                      "aaxis": {
                        "gridcolor": "white",
                        "linecolor": "white",
                        "ticks": ""
                      },
                      "baxis": {
                        "gridcolor": "white",
                        "linecolor": "white",
                        "ticks": ""
                      },
                      "bgcolor": "#E5ECF6",
                      "caxis": {
                        "gridcolor": "white",
                        "linecolor": "white",
                        "ticks": ""
                      }
                    },
                    "title": {
                      "x": 0.05
                    },
                    "xaxis": {
                      "automargin": true,
                      "gridcolor": "white",
                      "linecolor": "white",
                      "ticks": "",
                      "title": {
                        "standoff": 15
                      },
                      "zerolinecolor": "white",
                      "zerolinewidth": 2
                    },
                    "yaxis": {
                      "automargin": true,
                      "gridcolor": "white",
                      "linecolor": "white",
                      "ticks": "",
                      "title": {
                        "standoff": 15
                      },
                      "zerolinecolor": "white",
                      "zerolinewidth": 2
                    }
                  }
                },
                "xaxis": {
                  "dtick": 1,
                  "gridcolor": "rgb(0, 0, 0)",
                  "side": "top",
                  "ticks": ""
                },
                "yaxis": {
                  "dtick": 1,
                  "ticks": "",
                  "ticksuffix": "  "
                }
              }
            }
          },
          "metadata": {},
          "output_type": "display_data"
        }
      ],
      "source": [
        "# Check the predictions are independent\n",
        "# Correlation matrix\n",
        "corr_matrix = predictions.corr().round(2)\n",
        "import plotly.figure_factory as ff\n",
        "\n",
        "fig = ff.create_annotated_heatmap(\n",
        "    corr_matrix.values, x=corr_matrix.columns.tolist(), y=corr_matrix.index.tolist()\n",
        ")\n",
        "\n",
        "\n",
        "fig.show()"
      ]
    },
    {
      "cell_type": "code",
      "execution_count": 53,
      "id": "ffc1f78a-dfdc-404f-8d62-4f075f884f6e",
      "metadata": {
        "colab": {
          "base_uri": "https://localhost:8080/",
          "height": 647
        },
        "id": "ffc1f78a-dfdc-404f-8d62-4f075f884f6e",
        "outputId": "0479350d-f796-4dd0-f4c9-7aca47aa265e"
      },
      "outputs": [
        {
          "name": "stderr",
          "output_type": "stream",
          "text": [
            "c:\\Users\\phili\\anaconda3\\envs\\jedha\\Lib\\site-packages\\sklearn\\model_selection\\_split.py:725: UserWarning:\n",
            "\n",
            "The least populated class in y has only 2 members, which is less than n_splits=3.\n",
            "\n"
          ]
        },
        {
          "name": "stdout",
          "output_type": "stream",
          "text": [
            "Training stacking classifier...\n"
          ]
        },
        {
          "name": "stderr",
          "output_type": "stream",
          "text": [
            "c:\\Users\\phili\\anaconda3\\envs\\jedha\\Lib\\site-packages\\sklearn\\model_selection\\_split.py:725: UserWarning:\n",
            "\n",
            "The least populated class in y has only 2 members, which is less than n_splits=3.\n",
            "\n",
            "c:\\Users\\phili\\anaconda3\\envs\\jedha\\Lib\\site-packages\\sklearn\\model_selection\\_split.py:725: UserWarning:\n",
            "\n",
            "The least populated class in y has only 2 members, which is less than n_splits=3.\n",
            "\n",
            "c:\\Users\\phili\\anaconda3\\envs\\jedha\\Lib\\site-packages\\sklearn\\model_selection\\_split.py:725: UserWarning:\n",
            "\n",
            "The least populated class in y has only 2 members, which is less than n_splits=3.\n",
            "\n"
          ]
        },
        {
          "name": "stdout",
          "output_type": "stream",
          "text": [
            "...Done.\n"
          ]
        },
        {
          "data": {
            "text/html": [
              "<div>\n",
              "<style scoped>\n",
              "    .dataframe tbody tr th:only-of-type {\n",
              "        vertical-align: middle;\n",
              "    }\n",
              "\n",
              "    .dataframe tbody tr th {\n",
              "        vertical-align: top;\n",
              "    }\n",
              "\n",
              "    .dataframe thead th {\n",
              "        text-align: right;\n",
              "    }\n",
              "</style>\n",
              "<table border=\"1\" class=\"dataframe\">\n",
              "  <thead>\n",
              "    <tr style=\"text-align: right;\">\n",
              "      <th></th>\n",
              "      <th>logistic</th>\n",
              "      <th>svm</th>\n",
              "    </tr>\n",
              "  </thead>\n",
              "  <tbody>\n",
              "    <tr>\n",
              "      <th>0</th>\n",
              "      <td>0.427373</td>\n",
              "      <td>0.542650</td>\n",
              "    </tr>\n",
              "    <tr>\n",
              "      <th>1</th>\n",
              "      <td>0.436606</td>\n",
              "      <td>0.457402</td>\n",
              "    </tr>\n",
              "    <tr>\n",
              "      <th>2</th>\n",
              "      <td>0.132350</td>\n",
              "      <td>0.542650</td>\n",
              "    </tr>\n",
              "    <tr>\n",
              "      <th>3</th>\n",
              "      <td>0.801275</td>\n",
              "      <td>0.457402</td>\n",
              "    </tr>\n",
              "    <tr>\n",
              "      <th>4</th>\n",
              "      <td>0.278804</td>\n",
              "      <td>0.542650</td>\n",
              "    </tr>\n",
              "    <tr>\n",
              "      <th>5</th>\n",
              "      <td>0.669196</td>\n",
              "      <td>0.457402</td>\n",
              "    </tr>\n",
              "    <tr>\n",
              "      <th>6</th>\n",
              "      <td>0.653270</td>\n",
              "      <td>0.542650</td>\n",
              "    </tr>\n",
              "    <tr>\n",
              "      <th>7</th>\n",
              "      <td>0.601127</td>\n",
              "      <td>0.457402</td>\n",
              "    </tr>\n",
              "  </tbody>\n",
              "</table>\n",
              "</div>"
            ],
            "text/plain": [
              "   logistic       svm\n",
              "0  0.427373  0.542650\n",
              "1  0.436606  0.457402\n",
              "2  0.132350  0.542650\n",
              "3  0.801275  0.457402\n",
              "4  0.278804  0.542650\n",
              "5  0.669196  0.457402\n",
              "6  0.653270  0.542650\n",
              "7  0.601127  0.457402"
            ]
          },
          "metadata": {},
          "output_type": "display_data"
        },
        {
          "name": "stdout",
          "output_type": "stream",
          "text": [
            "Accuracy on training set :  0.25\n",
            "Accuracy on test set :  0.5\n"
          ]
        }
      ],
      "source": [
        "# Re-train by dropping the tree estimator because it's quite correlated with the svm\n",
        "print(\"Training stacking classifier...\")\n",
        "stacking = StackingClassifier(\n",
        "    estimators=[(\"logistic\", logreg_opt), (\"svm\", svm_opt)], cv=3\n",
        ")\n",
        "preds = stacking.fit_transform(X_train, Y_train)\n",
        "predictions = pd.DataFrame(preds, columns=stacking.named_estimators_.keys())\n",
        "print(\"...Done.\")\n",
        "display(predictions)\n",
        "print(\"Accuracy on training set : \", stacking.score(X_train, Y_train))\n",
        "print(\"Accuracy on test set : \", stacking.score(X_test, Y_test))"
      ]
    },
    {
      "cell_type": "code",
      "execution_count": 54,
      "id": "f9bc93f8-25ae-4c85-8b1f-816059efa059",
      "metadata": {
        "colab": {
          "base_uri": "https://localhost:8080/",
          "height": 647
        },
        "id": "f9bc93f8-25ae-4c85-8b1f-816059efa059",
        "outputId": "151c58d1-47b8-4788-b45d-b90d46a6fe3d"
      },
      "outputs": [
        {
          "name": "stdout",
          "output_type": "stream",
          "text": [
            "Training stacking classifier...\n",
            "...Done.\n"
          ]
        },
        {
          "name": "stderr",
          "output_type": "stream",
          "text": [
            "c:\\Users\\phili\\anaconda3\\envs\\jedha\\Lib\\site-packages\\sklearn\\model_selection\\_split.py:725: UserWarning:\n",
            "\n",
            "The least populated class in y has only 2 members, which is less than n_splits=3.\n",
            "\n",
            "c:\\Users\\phili\\anaconda3\\envs\\jedha\\Lib\\site-packages\\sklearn\\model_selection\\_split.py:725: UserWarning:\n",
            "\n",
            "The least populated class in y has only 2 members, which is less than n_splits=3.\n",
            "\n",
            "c:\\Users\\phili\\anaconda3\\envs\\jedha\\Lib\\site-packages\\sklearn\\model_selection\\_split.py:725: UserWarning:\n",
            "\n",
            "The least populated class in y has only 2 members, which is less than n_splits=3.\n",
            "\n",
            "c:\\Users\\phili\\anaconda3\\envs\\jedha\\Lib\\site-packages\\sklearn\\model_selection\\_split.py:725: UserWarning:\n",
            "\n",
            "The least populated class in y has only 2 members, which is less than n_splits=3.\n",
            "\n"
          ]
        },
        {
          "data": {
            "text/html": [
              "<div>\n",
              "<style scoped>\n",
              "    .dataframe tbody tr th:only-of-type {\n",
              "        vertical-align: middle;\n",
              "    }\n",
              "\n",
              "    .dataframe tbody tr th {\n",
              "        vertical-align: top;\n",
              "    }\n",
              "\n",
              "    .dataframe thead th {\n",
              "        text-align: right;\n",
              "    }\n",
              "</style>\n",
              "<table border=\"1\" class=\"dataframe\">\n",
              "  <thead>\n",
              "    <tr style=\"text-align: right;\">\n",
              "      <th></th>\n",
              "      <th>logistic</th>\n",
              "      <th>svm</th>\n",
              "    </tr>\n",
              "  </thead>\n",
              "  <tbody>\n",
              "    <tr>\n",
              "      <th>0</th>\n",
              "      <td>0.427373</td>\n",
              "      <td>0.545228</td>\n",
              "    </tr>\n",
              "    <tr>\n",
              "      <th>1</th>\n",
              "      <td>0.436606</td>\n",
              "      <td>0.460154</td>\n",
              "    </tr>\n",
              "    <tr>\n",
              "      <th>2</th>\n",
              "      <td>0.132350</td>\n",
              "      <td>0.545228</td>\n",
              "    </tr>\n",
              "    <tr>\n",
              "      <th>3</th>\n",
              "      <td>0.801275</td>\n",
              "      <td>0.460154</td>\n",
              "    </tr>\n",
              "    <tr>\n",
              "      <th>4</th>\n",
              "      <td>0.278804</td>\n",
              "      <td>0.545228</td>\n",
              "    </tr>\n",
              "    <tr>\n",
              "      <th>5</th>\n",
              "      <td>0.669196</td>\n",
              "      <td>0.460154</td>\n",
              "    </tr>\n",
              "    <tr>\n",
              "      <th>6</th>\n",
              "      <td>0.653270</td>\n",
              "      <td>0.545228</td>\n",
              "    </tr>\n",
              "    <tr>\n",
              "      <th>7</th>\n",
              "      <td>0.601127</td>\n",
              "      <td>0.460154</td>\n",
              "    </tr>\n",
              "  </tbody>\n",
              "</table>\n",
              "</div>"
            ],
            "text/plain": [
              "   logistic       svm\n",
              "0  0.427373  0.545228\n",
              "1  0.436606  0.460154\n",
              "2  0.132350  0.545228\n",
              "3  0.801275  0.460154\n",
              "4  0.278804  0.545228\n",
              "5  0.669196  0.460154\n",
              "6  0.653270  0.545228\n",
              "7  0.601127  0.460154"
            ]
          },
          "metadata": {},
          "output_type": "display_data"
        },
        {
          "name": "stdout",
          "output_type": "stream",
          "text": [
            "Accuracy on training set :  0.375\n",
            "Accuracy on test set :  0.5\n"
          ]
        }
      ],
      "source": [
        "# DecisionTree as final estimator\n",
        "print(\"Training stacking classifier...\")\n",
        "stacking = StackingClassifier(\n",
        "    estimators=[(\"logistic\", logreg_opt), (\"svm\", svm_opt)],\n",
        "    final_estimator=DecisionTreeClassifier(),\n",
        "    cv=3,\n",
        ")\n",
        "preds = stacking.fit_transform(X_train, Y_train)\n",
        "predictions = pd.DataFrame(preds, columns=stacking.named_estimators_.keys())\n",
        "print(\"...Done.\")\n",
        "display(predictions)\n",
        "print(\"Accuracy on training set : \", stacking.score(X_train, Y_train))\n",
        "print(\"Accuracy on test set : \", stacking.score(X_test, Y_test))"
      ]
    },
    {
      "cell_type": "code",
      "execution_count": null,
      "id": "EOBIjmFdMKCI",
      "metadata": {
        "id": "EOBIjmFdMKCI"
      },
      "outputs": [],
      "source": []
    }
  ],
  "metadata": {
    "colab": {
      "provenance": []
    },
    "kernelspec": {
      "display_name": "Python 3 (ipykernel)",
      "language": "python",
      "name": "python3"
    },
    "language_info": {
      "codemirror_mode": {
        "name": "ipython",
        "version": 3
      },
      "file_extension": ".py",
      "mimetype": "text/x-python",
      "name": "python",
      "nbconvert_exporter": "python",
      "pygments_lexer": "ipython3",
      "version": "3.11.7"
    }
  },
  "nbformat": 4,
  "nbformat_minor": 5
}
