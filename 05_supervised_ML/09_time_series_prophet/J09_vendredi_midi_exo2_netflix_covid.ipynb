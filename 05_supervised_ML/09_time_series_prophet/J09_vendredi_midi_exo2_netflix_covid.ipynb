{
 "cells": [
  {
   "cell_type": "markdown",
   "metadata": {},
   "source": [
    "# Project Covid impact on video streaming services\n",
    "\n",
    "This project will focus on the netflix stock price, and we'll demonstrate here how time series modeling (and more generally all sorts ML) fail when an unpreticted crisis occurs."
   ]
  },
  {
   "cell_type": "markdown",
   "metadata": {},
   "source": [
    "## Get the Data \n",
    "\n",
    "Load the financial data from Yahoo and its `yfinance` library for Netflix : ```NFLX``` between january 2017 and september 2020."
   ]
  },
  {
   "cell_type": "code",
   "execution_count": 81,
   "metadata": {
    "tags": []
   },
   "outputs": [
    {
     "name": "stdout",
     "output_type": "stream",
     "text": [
      "Requirement already satisfied: fbprophet in c:\\users\\admis\\anaconda3\\lib\\site-packages (0.6)\n",
      "Requirement already satisfied: setuptools-git>=1.2 in c:\\users\\admis\\anaconda3\\lib\\site-packages (from fbprophet) (1.2)\n",
      "Requirement already satisfied: numpy>=1.10.0 in c:\\users\\admis\\anaconda3\\lib\\site-packages (from fbprophet) (1.18.1)\n",
      "Requirement already satisfied: LunarCalendar>=0.0.9 in c:\\users\\admis\\anaconda3\\lib\\site-packages (from fbprophet) (0.0.9)\n",
      "Requirement already satisfied: Cython>=0.22 in c:\\users\\admis\\anaconda3\\lib\\site-packages (from fbprophet) (0.29.15)\n",
      "Requirement already satisfied: python-dateutil>=2.8.0 in c:\\users\\admis\\anaconda3\\lib\\site-packages (from fbprophet) (2.8.1)\n",
      "Requirement already satisfied: matplotlib>=2.0.0 in c:\\users\\admis\\anaconda3\\lib\\site-packages (from fbprophet) (3.1.3)\n",
      "Requirement already satisfied: convertdate>=2.1.2 in c:\\users\\admis\\anaconda3\\lib\\site-packages (from fbprophet) (2.2.1)\n",
      "Requirement already satisfied: holidays>=0.9.5 in c:\\users\\admis\\anaconda3\\lib\\site-packages (from fbprophet) (0.10.3)\n",
      "Requirement already satisfied: pandas>=0.23.4 in c:\\users\\admis\\anaconda3\\lib\\site-packages (from fbprophet) (1.0.1)\n",
      "Requirement already satisfied: cmdstanpy==0.4 in c:\\users\\admis\\anaconda3\\lib\\site-packages (from fbprophet) (0.4.0)\n",
      "Requirement already satisfied: pystan>=2.14 in c:\\users\\admis\\anaconda3\\lib\\site-packages (from fbprophet) (2.19.1.1)\n",
      "Requirement already satisfied: pytz in c:\\users\\admis\\anaconda3\\lib\\site-packages (from LunarCalendar>=0.0.9->fbprophet) (2019.3)\n",
      "Requirement already satisfied: ephem>=3.7.5.3 in c:\\users\\admis\\anaconda3\\lib\\site-packages (from LunarCalendar>=0.0.9->fbprophet) (3.7.7.1)\n",
      "Requirement already satisfied: six>=1.5 in c:\\users\\admis\\anaconda3\\lib\\site-packages (from python-dateutil>=2.8.0->fbprophet) (1.14.0)\n",
      "Requirement already satisfied: kiwisolver>=1.0.1 in c:\\users\\admis\\anaconda3\\lib\\site-packages (from matplotlib>=2.0.0->fbprophet) (1.1.0)\n",
      "Requirement already satisfied: cycler>=0.10 in c:\\users\\admis\\anaconda3\\lib\\site-packages (from matplotlib>=2.0.0->fbprophet) (0.10.0)\n",
      "Requirement already satisfied: pyparsing!=2.0.4,!=2.1.2,!=2.1.6,>=2.0.1 in c:\\users\\admis\\anaconda3\\lib\\site-packages (from matplotlib>=2.0.0->fbprophet) (2.4.6)\n",
      "Requirement already satisfied: pymeeus<=1,>=0.3.6 in c:\\users\\admis\\anaconda3\\lib\\site-packages (from convertdate>=2.1.2->fbprophet) (0.3.7)\n",
      "Requirement already satisfied: korean-lunar-calendar in c:\\users\\admis\\anaconda3\\lib\\site-packages (from holidays>=0.9.5->fbprophet) (0.2.1)\n",
      "Requirement already satisfied: setuptools in c:\\users\\admis\\anaconda3\\lib\\site-packages (from kiwisolver>=1.0.1->matplotlib>=2.0.0->fbprophet) (45.2.0.post20200210)\n"
     ]
    }
   ],
   "source": [
    "# !pip install prophet \n",
    "import prophet"
   ]
  },
  {
   "cell_type": "code",
   "execution_count": 82,
   "metadata": {
    "tags": []
   },
   "outputs": [
    {
     "name": "stdout",
     "output_type": "stream",
     "text": [
      "Requirement already satisfied: yfinance in c:\\users\\admis\\anaconda3\\lib\\site-packages (0.1.54)\n",
      "Requirement already satisfied: requests>=2.20 in c:\\users\\admis\\anaconda3\\lib\\site-packages (from yfinance) (2.22.0)\n",
      "Requirement already satisfied: pandas>=0.24 in c:\\users\\admis\\anaconda3\\lib\\site-packages (from yfinance) (1.0.1)\n",
      "Requirement already satisfied: numpy>=1.15 in c:\\users\\admis\\anaconda3\\lib\\site-packages (from yfinance) (1.18.1)\n",
      "Requirement already satisfied: multitasking>=0.0.7 in c:\\users\\admis\\anaconda3\\lib\\site-packages (from yfinance) (0.0.9)\n",
      "Requirement already satisfied: certifi>=2017.4.17 in c:\\users\\admis\\anaconda3\\lib\\site-packages (from requests>=2.20->yfinance) (2019.11.28)\n",
      "Requirement already satisfied: idna<2.9,>=2.5 in c:\\users\\admis\\anaconda3\\lib\\site-packages (from requests>=2.20->yfinance) (2.8)\n",
      "Requirement already satisfied: urllib3!=1.25.0,!=1.25.1,<1.26,>=1.21.1 in c:\\users\\admis\\anaconda3\\lib\\site-packages (from requests>=2.20->yfinance) (1.25.8)\n",
      "Requirement already satisfied: chardet<3.1.0,>=3.0.2 in c:\\users\\admis\\anaconda3\\lib\\site-packages (from requests>=2.20->yfinance) (3.0.4)\n",
      "Requirement already satisfied: python-dateutil>=2.6.1 in c:\\users\\admis\\anaconda3\\lib\\site-packages (from pandas>=0.24->yfinance) (2.8.1)\n",
      "Requirement already satisfied: pytz>=2017.2 in c:\\users\\admis\\anaconda3\\lib\\site-packages (from pandas>=0.24->yfinance) (2019.3)\n",
      "Requirement already satisfied: six>=1.5 in c:\\users\\admis\\anaconda3\\lib\\site-packages (from python-dateutil>=2.6.1->pandas>=0.24->yfinance) (1.14.0)\n"
     ]
    }
   ],
   "source": [
    "!pip install yfinance"
   ]
  },
  {
   "cell_type": "markdown",
   "metadata": {},
   "source": [
    "Our goal is to predict future stock prices of Netflix Inc. from data pre-covid, then we will add the first month then the frist two months after covid crisis was declared pandemic to our training data"
   ]
  }
 ],
 "metadata": {
  "kernelspec": {
   "display_name": "Python 3",
   "name": "python3"
  },
  "language_info": {
   "codemirror_mode": {
    "name": "ipython",
    "version": 3
   },
   "file_extension": ".py",
   "mimetype": "text/x-python",
   "name": "python",
   "nbconvert_exporter": "python",
   "pygments_lexer": "ipython3",
   "version": "3.7.6-final"
  },
  "orig_nbformat": 2
 },
 "nbformat": 4,
 "nbformat_minor": 2
}
