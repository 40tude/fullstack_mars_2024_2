{
 "cells": [
  {
   "cell_type": "markdown",
   "metadata": {
    "colab_type": "text",
    "id": "usOJx9DirKlc"
   },
   "source": [
    "# First Classification"
   ]
  },
  {
   "cell_type": "markdown",
   "metadata": {
    "colab_type": "text",
    "id": "4HOSklqzr1L0"
   },
   "source": [
    "0. Import usual libraries"
   ]
  },
  {
   "cell_type": "markdown",
   "metadata": {},
   "source": [
    "# TODO\n",
    "### Faire Label Encoding\n",
    "### Voir la fin du code"
   ]
  },
  {
   "cell_type": "code",
   "execution_count": 7,
   "metadata": {
    "colab": {},
    "colab_type": "code",
    "id": "-rZlhFzrr4rG"
   },
   "outputs": [],
   "source": [
    "import pandas as pd\n",
    "import plotly.express as px\n",
    "from sklearn.model_selection import train_test_split\n",
    "from sklearn.pipeline import Pipeline\n",
    "from sklearn.preprocessing import  StandardScaler # OneHotEncoder,, LabelEncoder\n",
    "from sklearn.compose import ColumnTransformer\n",
    "from sklearn.linear_model import LogisticRegression\n",
    "from sklearn.model_selection import cross_val_score\n",
    "from sklearn.metrics import (\n",
    "    accuracy_score,\n",
    "    # f1_score,\n",
    "    ConfusionMatrixDisplay,\n",
    "    RocCurveDisplay,\n",
    "    # classification_report\n",
    ")\n",
    "import matplotlib.pyplot as plt\n",
    "\n",
    "\n",
    "\n",
    "# import numpy as np\n",
    "# from sklearn.impute import SimpleImputer\n",
    "# from sklearn.linear_model import LogisticRegression\n",
    "\n",
    "# import plotly.graph_objects as go\n",
    "# import plotly.io as pio\n"
   ]
  },
  {
   "cell_type": "markdown",
   "metadata": {
    "colab_type": "text",
    "id": "gu6y8V-trQ_M"
   },
   "source": [
    "1. Download the following data using this link : ```https://full-stack-bigdata-datasets.s3.eu-west-3.amazonaws.com/Machine+Learning+Supervis%C3%A9/R%C3%A9gression+logistique+Cross+validation/Datasets/ex2data1.txt``` and put it into a DataFrame\n",
    "\n",
    "Pay attention to the header of the DataFrame, there's something annoying with it! Look at the documentation of `pd.read_csv()` to find a way of solving the problem 🤓"
   ]
  },
  {
   "cell_type": "code",
   "execution_count": 8,
   "metadata": {
    "colab": {
     "base_uri": "https://localhost:8080/",
     "height": 203
    },
    "colab_type": "code",
    "id": "KZ0E_o644KCx",
    "outputId": "5af9a362-4f97-4563-d7e3-1b387deda315"
   },
   "outputs": [
    {
     "data": {
      "text/html": [
       "<div>\n",
       "<style scoped>\n",
       "    .dataframe tbody tr th:only-of-type {\n",
       "        vertical-align: middle;\n",
       "    }\n",
       "\n",
       "    .dataframe tbody tr th {\n",
       "        vertical-align: top;\n",
       "    }\n",
       "\n",
       "    .dataframe thead th {\n",
       "        text-align: right;\n",
       "    }\n",
       "</style>\n",
       "<table border=\"1\" class=\"dataframe\">\n",
       "  <thead>\n",
       "    <tr style=\"text-align: right;\">\n",
       "      <th></th>\n",
       "      <th>0</th>\n",
       "      <th>1</th>\n",
       "      <th>2</th>\n",
       "    </tr>\n",
       "  </thead>\n",
       "  <tbody>\n",
       "    <tr>\n",
       "      <th>0</th>\n",
       "      <td>34.623660</td>\n",
       "      <td>78.024693</td>\n",
       "      <td>0</td>\n",
       "    </tr>\n",
       "    <tr>\n",
       "      <th>1</th>\n",
       "      <td>30.286711</td>\n",
       "      <td>43.894998</td>\n",
       "      <td>0</td>\n",
       "    </tr>\n",
       "    <tr>\n",
       "      <th>2</th>\n",
       "      <td>35.847409</td>\n",
       "      <td>72.902198</td>\n",
       "      <td>0</td>\n",
       "    </tr>\n",
       "    <tr>\n",
       "      <th>3</th>\n",
       "      <td>60.182599</td>\n",
       "      <td>86.308552</td>\n",
       "      <td>1</td>\n",
       "    </tr>\n",
       "    <tr>\n",
       "      <th>4</th>\n",
       "      <td>79.032736</td>\n",
       "      <td>75.344376</td>\n",
       "      <td>1</td>\n",
       "    </tr>\n",
       "  </tbody>\n",
       "</table>\n",
       "</div>"
      ],
      "text/plain": [
       "           0          1  2\n",
       "0  34.623660  78.024693  0\n",
       "1  30.286711  43.894998  0\n",
       "2  35.847409  72.902198  0\n",
       "3  60.182599  86.308552  1\n",
       "4  79.032736  75.344376  1"
      ]
     },
     "execution_count": 8,
     "metadata": {},
     "output_type": "execute_result"
    }
   ],
   "source": [
    "\n",
    "\n",
    "df = pd.read_csv(\"https://full-stack-bigdata-datasets.s3.eu-west-3.amazonaws.com/Machine+Learning+Supervis%C3%A9/R%C3%A9gression+logistique+Cross+validation/Datasets/ex2data1.txt\", header=None)\n",
    "df.head()\n",
    "\n",
    "\n"
   ]
  },
  {
   "cell_type": "markdown",
   "metadata": {
    "colab_type": "text",
    "id": "8w2DsE8XsD6w"
   },
   "source": [
    "2. Rename the columns using the following names : \n",
    "\n",
    "\"Col_1\" / \"Col_2\" / \"Target\""
   ]
  },
  {
   "cell_type": "code",
   "execution_count": 9,
   "metadata": {
    "colab": {
     "base_uri": "https://localhost:8080/",
     "height": 203
    },
    "colab_type": "code",
    "id": "tT6oikN_rj2B",
    "outputId": "def0aae5-123e-418a-ac33-f76248e05725"
   },
   "outputs": [
    {
     "data": {
      "text/html": [
       "<div>\n",
       "<style scoped>\n",
       "    .dataframe tbody tr th:only-of-type {\n",
       "        vertical-align: middle;\n",
       "    }\n",
       "\n",
       "    .dataframe tbody tr th {\n",
       "        vertical-align: top;\n",
       "    }\n",
       "\n",
       "    .dataframe thead th {\n",
       "        text-align: right;\n",
       "    }\n",
       "</style>\n",
       "<table border=\"1\" class=\"dataframe\">\n",
       "  <thead>\n",
       "    <tr style=\"text-align: right;\">\n",
       "      <th></th>\n",
       "      <th>Col1</th>\n",
       "      <th>Col2</th>\n",
       "      <th>Target</th>\n",
       "    </tr>\n",
       "  </thead>\n",
       "  <tbody>\n",
       "    <tr>\n",
       "      <th>0</th>\n",
       "      <td>34.623660</td>\n",
       "      <td>78.024693</td>\n",
       "      <td>0</td>\n",
       "    </tr>\n",
       "    <tr>\n",
       "      <th>1</th>\n",
       "      <td>30.286711</td>\n",
       "      <td>43.894998</td>\n",
       "      <td>0</td>\n",
       "    </tr>\n",
       "    <tr>\n",
       "      <th>2</th>\n",
       "      <td>35.847409</td>\n",
       "      <td>72.902198</td>\n",
       "      <td>0</td>\n",
       "    </tr>\n",
       "    <tr>\n",
       "      <th>3</th>\n",
       "      <td>60.182599</td>\n",
       "      <td>86.308552</td>\n",
       "      <td>1</td>\n",
       "    </tr>\n",
       "    <tr>\n",
       "      <th>4</th>\n",
       "      <td>79.032736</td>\n",
       "      <td>75.344376</td>\n",
       "      <td>1</td>\n",
       "    </tr>\n",
       "  </tbody>\n",
       "</table>\n",
       "</div>"
      ],
      "text/plain": [
       "        Col1       Col2  Target\n",
       "0  34.623660  78.024693       0\n",
       "1  30.286711  43.894998       0\n",
       "2  35.847409  72.902198       0\n",
       "3  60.182599  86.308552       1\n",
       "4  79.032736  75.344376       1"
      ]
     },
     "execution_count": 9,
     "metadata": {},
     "output_type": "execute_result"
    }
   ],
   "source": [
    "# df.rename(index = {0: 'Col_1', 1: 'Col_2', 2:\"Target\"}, inplace = True)\n",
    "df.columns=[\"Col1\", \"Col2\", \"Target\"]\n",
    "df.head()"
   ]
  },
  {
   "cell_type": "markdown",
   "metadata": {
    "colab_type": "text",
    "id": "tIk791Zls60V"
   },
   "source": [
    "3. Visualize the data as a scatter plot where the two different classes are displayed with different colors."
   ]
  },
  {
   "cell_type": "code",
   "execution_count": 10,
   "metadata": {},
   "outputs": [
    {
     "data": {
      "application/vnd.plotly.v1+json": {
       "config": {
        "plotlyServerURL": "https://plot.ly"
       },
       "data": [
        {
         "hovertemplate": "Target=0<br>Col1=%{x}<br>Col2=%{y}<extra></extra>",
         "legendgroup": "0",
         "marker": {
          "color": "#636efa",
          "symbol": "circle"
         },
         "mode": "markers",
         "name": "0",
         "orientation": "v",
         "showlegend": true,
         "type": "scatter",
         "x": [
          34.62365962451697,
          30.28671076822607,
          35.84740876993872,
          45.08327747668339,
          95.86155507093572,
          75.01365838958247,
          39.53833914367223,
          67.94685547711617,
          67.37202754570876,
          50.534788289883,
          34.21206097786789,
          93.114388797442,
          61.83020602312595,
          38.78580379679423,
          52.10797973193984,
          40.23689373545111,
          54.63510555424817,
          33.91550010906887,
          74.78925295941542,
          34.1836400264419,
          51.54772026906181,
          82.36875375713919,
          51.04775177128865,
          62.22267576120188,
          34.52451385320009,
          50.2864961189907,
          49.58667721632031,
          32.57720016809309,
          35.28611281526193,
          56.25381749711624,
          30.05882244669796,
          44.66826172480893,
          66.56089447242954,
          49.07256321908844,
          32.72283304060323,
          60.45555629271532,
          82.22666157785568,
          42.0754545384731,
          52.34800398794107,
          55.48216114069585
         ],
         "xaxis": "x",
         "y": [
          78.0246928153624,
          43.89499752400101,
          72.90219802708364,
          56.3163717815305,
          38.22527805795094,
          30.60326323428011,
          76.03681085115882,
          46.67857410673128,
          42.83843832029179,
          48.85581152764205,
          44.20952859866288,
          38.80067033713209,
          50.25610789244621,
          64.99568095539578,
          63.12762376881715,
          71.16774802184875,
          52.21388588061123,
          98.86943574220612,
          41.57341522824434,
          75.2377203360134,
          46.85629026349976,
          40.61825515970618,
          45.82270145776001,
          52.06099194836679,
          60.39634245837173,
          49.80453881323059,
          59.80895099453265,
          95.59854761387876,
          47.02051394723416,
          39.26147251058019,
          49.59297386723685,
          66.45008614558913,
          41.09209807936973,
          51.88321182073966,
          43.30717306430063,
          42.50840943572217,
          42.71987853716458,
          78.84478600148043,
          60.76950525602592,
          35.57070347228866
         ],
         "yaxis": "y"
        },
        {
         "hovertemplate": "Target=1<br>Col1=%{x}<br>Col2=%{y}<extra></extra>",
         "legendgroup": "1",
         "marker": {
          "color": "#EF553B",
          "symbol": "circle"
         },
         "mode": "markers",
         "name": "1",
         "orientation": "v",
         "showlegend": true,
         "type": "scatter",
         "x": [
          60.18259938620976,
          79.0327360507101,
          61.10666453684766,
          75.02474556738889,
          76.09878670226257,
          84.43281996120035,
          82.30705337399482,
          69.36458875970939,
          53.9710521485623,
          69.07014406283025,
          70.66150955499435,
          76.97878372747498,
          89.6767757507208,
          77.9240914545704,
          62.27101367004632,
          80.1901807509566,
          61.379289447425,
          85.40451939411645,
          52.04540476831827,
          64.17698887494485,
          83.90239366249155,
          94.44336776917852,
          77.19303492601364,
          97.77159928000232,
          62.07306379667647,
          91.56497449807442,
          79.94481794066932,
          99.2725269292572,
          90.54671411399852,
          97.64563396007767,
          74.24869136721598,
          71.7964620586338,
          75.3956114656803,
          40.45755098375164,
          80.27957401466998,
          66.74671856944039,
          64.0393204150601,
          72.34649422579923,
          60.45788573918959,
          58.84095621726802,
          99.82785779692128,
          47.26426910848174,
          50.45815980285988,
          88.9138964166533,
          94.83450672430196,
          67.31925746917527,
          57.23870631569862,
          80.36675600171273,
          68.46852178591112,
          75.47770200533905,
          78.63542434898018,
          94.09433112516793,
          90.44855097096364,
          74.49269241843041,
          89.84580670720979,
          83.48916274498238,
          42.2617008099817,
          99.31500880510394,
          55.34001756003703,
          74.77589300092767
         ],
         "xaxis": "x",
         "y": [
          86.30855209546826,
          75.3443764369103,
          96.51142588489624,
          46.55401354116538,
          87.42056971926803,
          43.53339331072109,
          76.48196330235604,
          97.71869196188608,
          89.20735013750205,
          52.74046973016765,
          92.92713789364832,
          47.57596364975532,
          65.79936592745237,
          68.9723599933059,
          69.95445795447587,
          44.82162893218353,
          72.80788731317097,
          57.05198397627122,
          69.43286012045222,
          80.90806058670817,
          56.30804621605327,
          65.56892160559052,
          70.45820000180959,
          86.7278223300282,
          96.76882412413984,
          88.696292545466,
          74.16311935043758,
          60.99903099844988,
          43.39060180650027,
          68.86157272420604,
          69.82457122657193,
          78.45356224515052,
          85.75993667331619,
          97.53518548909936,
          92.11606081344084,
          60.99139402740988,
          78.03168802018232,
          96.22759296761404,
          73.09499809758037,
          75.85844831279042,
          72.36925193383885,
          88.47586499559782,
          75.80985952982456,
          69.80378889835472,
          45.69430680250754,
          66.58935317747915,
          59.51428198012956,
          90.96014789746954,
          85.59430710452014,
          90.42453899753964,
          96.64742716885644,
          77.15910509073893,
          87.50879176484702,
          84.84513684930135,
          45.35828361091658,
          48.38028579728175,
          87.10385094025457,
          68.77540947206617,
          64.9319380069486,
          89.52981289513276
         ],
         "yaxis": "y"
        }
       ],
       "layout": {
        "height": 400,
        "legend": {
         "title": {
          "text": "Target"
         },
         "tracegroupgap": 0
        },
        "margin": {
         "t": 60
        },
        "template": {
         "data": {
          "bar": [
           {
            "error_x": {
             "color": "#2a3f5f"
            },
            "error_y": {
             "color": "#2a3f5f"
            },
            "marker": {
             "line": {
              "color": "#E5ECF6",
              "width": 0.5
             },
             "pattern": {
              "fillmode": "overlay",
              "size": 10,
              "solidity": 0.2
             }
            },
            "type": "bar"
           }
          ],
          "barpolar": [
           {
            "marker": {
             "line": {
              "color": "#E5ECF6",
              "width": 0.5
             },
             "pattern": {
              "fillmode": "overlay",
              "size": 10,
              "solidity": 0.2
             }
            },
            "type": "barpolar"
           }
          ],
          "carpet": [
           {
            "aaxis": {
             "endlinecolor": "#2a3f5f",
             "gridcolor": "white",
             "linecolor": "white",
             "minorgridcolor": "white",
             "startlinecolor": "#2a3f5f"
            },
            "baxis": {
             "endlinecolor": "#2a3f5f",
             "gridcolor": "white",
             "linecolor": "white",
             "minorgridcolor": "white",
             "startlinecolor": "#2a3f5f"
            },
            "type": "carpet"
           }
          ],
          "choropleth": [
           {
            "colorbar": {
             "outlinewidth": 0,
             "ticks": ""
            },
            "type": "choropleth"
           }
          ],
          "contour": [
           {
            "colorbar": {
             "outlinewidth": 0,
             "ticks": ""
            },
            "colorscale": [
             [
              0,
              "#0d0887"
             ],
             [
              0.1111111111111111,
              "#46039f"
             ],
             [
              0.2222222222222222,
              "#7201a8"
             ],
             [
              0.3333333333333333,
              "#9c179e"
             ],
             [
              0.4444444444444444,
              "#bd3786"
             ],
             [
              0.5555555555555556,
              "#d8576b"
             ],
             [
              0.6666666666666666,
              "#ed7953"
             ],
             [
              0.7777777777777778,
              "#fb9f3a"
             ],
             [
              0.8888888888888888,
              "#fdca26"
             ],
             [
              1,
              "#f0f921"
             ]
            ],
            "type": "contour"
           }
          ],
          "contourcarpet": [
           {
            "colorbar": {
             "outlinewidth": 0,
             "ticks": ""
            },
            "type": "contourcarpet"
           }
          ],
          "heatmap": [
           {
            "colorbar": {
             "outlinewidth": 0,
             "ticks": ""
            },
            "colorscale": [
             [
              0,
              "#0d0887"
             ],
             [
              0.1111111111111111,
              "#46039f"
             ],
             [
              0.2222222222222222,
              "#7201a8"
             ],
             [
              0.3333333333333333,
              "#9c179e"
             ],
             [
              0.4444444444444444,
              "#bd3786"
             ],
             [
              0.5555555555555556,
              "#d8576b"
             ],
             [
              0.6666666666666666,
              "#ed7953"
             ],
             [
              0.7777777777777778,
              "#fb9f3a"
             ],
             [
              0.8888888888888888,
              "#fdca26"
             ],
             [
              1,
              "#f0f921"
             ]
            ],
            "type": "heatmap"
           }
          ],
          "heatmapgl": [
           {
            "colorbar": {
             "outlinewidth": 0,
             "ticks": ""
            },
            "colorscale": [
             [
              0,
              "#0d0887"
             ],
             [
              0.1111111111111111,
              "#46039f"
             ],
             [
              0.2222222222222222,
              "#7201a8"
             ],
             [
              0.3333333333333333,
              "#9c179e"
             ],
             [
              0.4444444444444444,
              "#bd3786"
             ],
             [
              0.5555555555555556,
              "#d8576b"
             ],
             [
              0.6666666666666666,
              "#ed7953"
             ],
             [
              0.7777777777777778,
              "#fb9f3a"
             ],
             [
              0.8888888888888888,
              "#fdca26"
             ],
             [
              1,
              "#f0f921"
             ]
            ],
            "type": "heatmapgl"
           }
          ],
          "histogram": [
           {
            "marker": {
             "pattern": {
              "fillmode": "overlay",
              "size": 10,
              "solidity": 0.2
             }
            },
            "type": "histogram"
           }
          ],
          "histogram2d": [
           {
            "colorbar": {
             "outlinewidth": 0,
             "ticks": ""
            },
            "colorscale": [
             [
              0,
              "#0d0887"
             ],
             [
              0.1111111111111111,
              "#46039f"
             ],
             [
              0.2222222222222222,
              "#7201a8"
             ],
             [
              0.3333333333333333,
              "#9c179e"
             ],
             [
              0.4444444444444444,
              "#bd3786"
             ],
             [
              0.5555555555555556,
              "#d8576b"
             ],
             [
              0.6666666666666666,
              "#ed7953"
             ],
             [
              0.7777777777777778,
              "#fb9f3a"
             ],
             [
              0.8888888888888888,
              "#fdca26"
             ],
             [
              1,
              "#f0f921"
             ]
            ],
            "type": "histogram2d"
           }
          ],
          "histogram2dcontour": [
           {
            "colorbar": {
             "outlinewidth": 0,
             "ticks": ""
            },
            "colorscale": [
             [
              0,
              "#0d0887"
             ],
             [
              0.1111111111111111,
              "#46039f"
             ],
             [
              0.2222222222222222,
              "#7201a8"
             ],
             [
              0.3333333333333333,
              "#9c179e"
             ],
             [
              0.4444444444444444,
              "#bd3786"
             ],
             [
              0.5555555555555556,
              "#d8576b"
             ],
             [
              0.6666666666666666,
              "#ed7953"
             ],
             [
              0.7777777777777778,
              "#fb9f3a"
             ],
             [
              0.8888888888888888,
              "#fdca26"
             ],
             [
              1,
              "#f0f921"
             ]
            ],
            "type": "histogram2dcontour"
           }
          ],
          "mesh3d": [
           {
            "colorbar": {
             "outlinewidth": 0,
             "ticks": ""
            },
            "type": "mesh3d"
           }
          ],
          "parcoords": [
           {
            "line": {
             "colorbar": {
              "outlinewidth": 0,
              "ticks": ""
             }
            },
            "type": "parcoords"
           }
          ],
          "pie": [
           {
            "automargin": true,
            "type": "pie"
           }
          ],
          "scatter": [
           {
            "fillpattern": {
             "fillmode": "overlay",
             "size": 10,
             "solidity": 0.2
            },
            "type": "scatter"
           }
          ],
          "scatter3d": [
           {
            "line": {
             "colorbar": {
              "outlinewidth": 0,
              "ticks": ""
             }
            },
            "marker": {
             "colorbar": {
              "outlinewidth": 0,
              "ticks": ""
             }
            },
            "type": "scatter3d"
           }
          ],
          "scattercarpet": [
           {
            "marker": {
             "colorbar": {
              "outlinewidth": 0,
              "ticks": ""
             }
            },
            "type": "scattercarpet"
           }
          ],
          "scattergeo": [
           {
            "marker": {
             "colorbar": {
              "outlinewidth": 0,
              "ticks": ""
             }
            },
            "type": "scattergeo"
           }
          ],
          "scattergl": [
           {
            "marker": {
             "colorbar": {
              "outlinewidth": 0,
              "ticks": ""
             }
            },
            "type": "scattergl"
           }
          ],
          "scattermapbox": [
           {
            "marker": {
             "colorbar": {
              "outlinewidth": 0,
              "ticks": ""
             }
            },
            "type": "scattermapbox"
           }
          ],
          "scatterpolar": [
           {
            "marker": {
             "colorbar": {
              "outlinewidth": 0,
              "ticks": ""
             }
            },
            "type": "scatterpolar"
           }
          ],
          "scatterpolargl": [
           {
            "marker": {
             "colorbar": {
              "outlinewidth": 0,
              "ticks": ""
             }
            },
            "type": "scatterpolargl"
           }
          ],
          "scatterternary": [
           {
            "marker": {
             "colorbar": {
              "outlinewidth": 0,
              "ticks": ""
             }
            },
            "type": "scatterternary"
           }
          ],
          "surface": [
           {
            "colorbar": {
             "outlinewidth": 0,
             "ticks": ""
            },
            "colorscale": [
             [
              0,
              "#0d0887"
             ],
             [
              0.1111111111111111,
              "#46039f"
             ],
             [
              0.2222222222222222,
              "#7201a8"
             ],
             [
              0.3333333333333333,
              "#9c179e"
             ],
             [
              0.4444444444444444,
              "#bd3786"
             ],
             [
              0.5555555555555556,
              "#d8576b"
             ],
             [
              0.6666666666666666,
              "#ed7953"
             ],
             [
              0.7777777777777778,
              "#fb9f3a"
             ],
             [
              0.8888888888888888,
              "#fdca26"
             ],
             [
              1,
              "#f0f921"
             ]
            ],
            "type": "surface"
           }
          ],
          "table": [
           {
            "cells": {
             "fill": {
              "color": "#EBF0F8"
             },
             "line": {
              "color": "white"
             }
            },
            "header": {
             "fill": {
              "color": "#C8D4E3"
             },
             "line": {
              "color": "white"
             }
            },
            "type": "table"
           }
          ]
         },
         "layout": {
          "annotationdefaults": {
           "arrowcolor": "#2a3f5f",
           "arrowhead": 0,
           "arrowwidth": 1
          },
          "autotypenumbers": "strict",
          "coloraxis": {
           "colorbar": {
            "outlinewidth": 0,
            "ticks": ""
           }
          },
          "colorscale": {
           "diverging": [
            [
             0,
             "#8e0152"
            ],
            [
             0.1,
             "#c51b7d"
            ],
            [
             0.2,
             "#de77ae"
            ],
            [
             0.3,
             "#f1b6da"
            ],
            [
             0.4,
             "#fde0ef"
            ],
            [
             0.5,
             "#f7f7f7"
            ],
            [
             0.6,
             "#e6f5d0"
            ],
            [
             0.7,
             "#b8e186"
            ],
            [
             0.8,
             "#7fbc41"
            ],
            [
             0.9,
             "#4d9221"
            ],
            [
             1,
             "#276419"
            ]
           ],
           "sequential": [
            [
             0,
             "#0d0887"
            ],
            [
             0.1111111111111111,
             "#46039f"
            ],
            [
             0.2222222222222222,
             "#7201a8"
            ],
            [
             0.3333333333333333,
             "#9c179e"
            ],
            [
             0.4444444444444444,
             "#bd3786"
            ],
            [
             0.5555555555555556,
             "#d8576b"
            ],
            [
             0.6666666666666666,
             "#ed7953"
            ],
            [
             0.7777777777777778,
             "#fb9f3a"
            ],
            [
             0.8888888888888888,
             "#fdca26"
            ],
            [
             1,
             "#f0f921"
            ]
           ],
           "sequentialminus": [
            [
             0,
             "#0d0887"
            ],
            [
             0.1111111111111111,
             "#46039f"
            ],
            [
             0.2222222222222222,
             "#7201a8"
            ],
            [
             0.3333333333333333,
             "#9c179e"
            ],
            [
             0.4444444444444444,
             "#bd3786"
            ],
            [
             0.5555555555555556,
             "#d8576b"
            ],
            [
             0.6666666666666666,
             "#ed7953"
            ],
            [
             0.7777777777777778,
             "#fb9f3a"
            ],
            [
             0.8888888888888888,
             "#fdca26"
            ],
            [
             1,
             "#f0f921"
            ]
           ]
          },
          "colorway": [
           "#636efa",
           "#EF553B",
           "#00cc96",
           "#ab63fa",
           "#FFA15A",
           "#19d3f3",
           "#FF6692",
           "#B6E880",
           "#FF97FF",
           "#FECB52"
          ],
          "font": {
           "color": "#2a3f5f"
          },
          "geo": {
           "bgcolor": "white",
           "lakecolor": "white",
           "landcolor": "#E5ECF6",
           "showlakes": true,
           "showland": true,
           "subunitcolor": "white"
          },
          "hoverlabel": {
           "align": "left"
          },
          "hovermode": "closest",
          "mapbox": {
           "style": "light"
          },
          "paper_bgcolor": "white",
          "plot_bgcolor": "#E5ECF6",
          "polar": {
           "angularaxis": {
            "gridcolor": "white",
            "linecolor": "white",
            "ticks": ""
           },
           "bgcolor": "#E5ECF6",
           "radialaxis": {
            "gridcolor": "white",
            "linecolor": "white",
            "ticks": ""
           }
          },
          "scene": {
           "xaxis": {
            "backgroundcolor": "#E5ECF6",
            "gridcolor": "white",
            "gridwidth": 2,
            "linecolor": "white",
            "showbackground": true,
            "ticks": "",
            "zerolinecolor": "white"
           },
           "yaxis": {
            "backgroundcolor": "#E5ECF6",
            "gridcolor": "white",
            "gridwidth": 2,
            "linecolor": "white",
            "showbackground": true,
            "ticks": "",
            "zerolinecolor": "white"
           },
           "zaxis": {
            "backgroundcolor": "#E5ECF6",
            "gridcolor": "white",
            "gridwidth": 2,
            "linecolor": "white",
            "showbackground": true,
            "ticks": "",
            "zerolinecolor": "white"
           }
          },
          "shapedefaults": {
           "line": {
            "color": "#2a3f5f"
           }
          },
          "ternary": {
           "aaxis": {
            "gridcolor": "white",
            "linecolor": "white",
            "ticks": ""
           },
           "baxis": {
            "gridcolor": "white",
            "linecolor": "white",
            "ticks": ""
           },
           "bgcolor": "#E5ECF6",
           "caxis": {
            "gridcolor": "white",
            "linecolor": "white",
            "ticks": ""
           }
          },
          "title": {
           "x": 0.05
          },
          "xaxis": {
           "automargin": true,
           "gridcolor": "white",
           "linecolor": "white",
           "ticks": "",
           "title": {
            "standoff": 15
           },
           "zerolinecolor": "white",
           "zerolinewidth": 2
          },
          "yaxis": {
           "automargin": true,
           "gridcolor": "white",
           "linecolor": "white",
           "ticks": "",
           "title": {
            "standoff": 15
           },
           "zerolinecolor": "white",
           "zerolinewidth": 2
          }
         }
        },
        "width": 800,
        "xaxis": {
         "anchor": "y",
         "domain": [
          0,
          1
         ],
         "title": {
          "text": "Col1"
         }
        },
        "yaxis": {
         "anchor": "x",
         "domain": [
          0,
          1
         ],
         "title": {
          "text": "Col2"
         }
        }
       }
      }
     },
     "metadata": {},
     "output_type": "display_data"
    }
   ],
   "source": [
    "# fig = px.scatter(df, x=\"Col1\", y=\"Col2\", color=\"Target\", width=800, height=400)\n",
    "fig = px.scatter(df, x = 'Col1', y = 'Col2', color = df['Target'].astype('str'), labels = {'color': 'Target'}, width=800, height=400)\n",
    "fig.show()"
   ]
  },
  {
   "cell_type": "code",
   "execution_count": null,
   "metadata": {},
   "outputs": [],
   "source": []
  },
  {
   "cell_type": "markdown",
   "metadata": {
    "colab_type": "text",
    "id": "yr6jQNa0t-1N"
   },
   "source": [
    "4. Separate X and y into two different objects."
   ]
  },
  {
   "cell_type": "code",
   "execution_count": 11,
   "metadata": {
    "colab": {},
    "colab_type": "code",
    "id": "_qVXX4QZt-j_"
   },
   "outputs": [],
   "source": [
    "features_list = [\"Col1\", \"Col2\"]\n",
    "target_variable = \"Target\"\n",
    "\n",
    "X = df.loc[:, features_list]\n",
    "Y = df.loc[:, target_variable]\n"
   ]
  },
  {
   "cell_type": "markdown",
   "metadata": {
    "colab_type": "text",
    "id": "eiW1VJ4hu0eC"
   },
   "source": [
    "5. Split the data into a train set and a test set"
   ]
  },
  {
   "cell_type": "code",
   "execution_count": 12,
   "metadata": {
    "colab": {},
    "colab_type": "code",
    "id": "KpEn7djMu5SA"
   },
   "outputs": [],
   "source": [
    "X_train, X_test, Y_train, Y_test = train_test_split(X, Y, test_size=0.2, random_state=42, stratify=Y)\n"
   ]
  },
  {
   "cell_type": "markdown",
   "metadata": {},
   "source": [
    "6. Do you think that the two variables \"Col_1\" and \"Col_2\" would be good predictors of the target?"
   ]
  },
  {
   "cell_type": "code",
   "execution_count": 13,
   "metadata": {},
   "outputs": [
    {
     "data": {
      "application/vnd.plotly.v1+json": {
       "config": {
        "plotlyServerURL": "https://plot.ly"
       },
       "data": [
        {
         "alignmentgroup": "True",
         "bingroup": "x",
         "histnorm": "probability",
         "hovertemplate": "Target=0<br>Col1=%{x}<br>probability=%{y}<extra></extra>",
         "legendgroup": "0",
         "marker": {
          "color": "#636efa",
          "pattern": {
           "shape": ""
          }
         },
         "name": "0",
         "offsetgroup": "0",
         "orientation": "v",
         "showlegend": true,
         "type": "histogram",
         "x": [
          34.62365962451697,
          30.28671076822607,
          35.84740876993872,
          45.08327747668339,
          95.86155507093572,
          75.01365838958247,
          39.53833914367223,
          67.94685547711617,
          67.37202754570876,
          50.534788289883,
          34.21206097786789,
          93.114388797442,
          61.83020602312595,
          38.78580379679423,
          52.10797973193984,
          40.23689373545111,
          54.63510555424817,
          33.91550010906887,
          74.78925295941542,
          34.1836400264419,
          51.54772026906181,
          82.36875375713919,
          51.04775177128865,
          62.22267576120188,
          34.52451385320009,
          50.2864961189907,
          49.58667721632031,
          32.57720016809309,
          35.28611281526193,
          56.25381749711624,
          30.05882244669796,
          44.66826172480893,
          66.56089447242954,
          49.07256321908844,
          32.72283304060323,
          60.45555629271532,
          82.22666157785568,
          42.0754545384731,
          52.34800398794107,
          55.48216114069585
         ],
         "xaxis": "x2",
         "yaxis": "y2"
        },
        {
         "alignmentgroup": "True",
         "bingroup": "x",
         "histnorm": "probability",
         "hovertemplate": "Target=1<br>Col1=%{x}<br>probability=%{y}<extra></extra>",
         "legendgroup": "1",
         "marker": {
          "color": "#EF553B",
          "pattern": {
           "shape": ""
          }
         },
         "name": "1",
         "offsetgroup": "1",
         "orientation": "v",
         "showlegend": true,
         "type": "histogram",
         "x": [
          60.18259938620976,
          79.0327360507101,
          61.10666453684766,
          75.02474556738889,
          76.09878670226257,
          84.43281996120035,
          82.30705337399482,
          69.36458875970939,
          53.9710521485623,
          69.07014406283025,
          70.66150955499435,
          76.97878372747498,
          89.6767757507208,
          77.9240914545704,
          62.27101367004632,
          80.1901807509566,
          61.379289447425,
          85.40451939411645,
          52.04540476831827,
          64.17698887494485,
          83.90239366249155,
          94.44336776917852,
          77.19303492601364,
          97.77159928000232,
          62.07306379667647,
          91.56497449807442,
          79.94481794066932,
          99.2725269292572,
          90.54671411399852,
          97.64563396007767,
          74.24869136721598,
          71.7964620586338,
          75.3956114656803,
          40.45755098375164,
          80.27957401466998,
          66.74671856944039,
          64.0393204150601,
          72.34649422579923,
          60.45788573918959,
          58.84095621726802,
          99.82785779692128,
          47.26426910848174,
          50.45815980285988,
          88.9138964166533,
          94.83450672430196,
          67.31925746917527,
          57.23870631569862,
          80.36675600171273,
          68.46852178591112,
          75.47770200533905,
          78.63542434898018,
          94.09433112516793,
          90.44855097096364,
          74.49269241843041,
          89.84580670720979,
          83.48916274498238,
          42.2617008099817,
          99.31500880510394,
          55.34001756003703,
          74.77589300092767
         ],
         "xaxis": "x",
         "yaxis": "y"
        }
       ],
       "layout": {
        "annotations": [
         {
          "font": {},
          "showarrow": false,
          "text": "Target=1",
          "textangle": 90,
          "x": 0.98,
          "xanchor": "left",
          "xref": "paper",
          "y": 0.2425,
          "yanchor": "middle",
          "yref": "paper"
         },
         {
          "font": {},
          "showarrow": false,
          "text": "Target=0",
          "textangle": 90,
          "x": 0.98,
          "xanchor": "left",
          "xref": "paper",
          "y": 0.7575000000000001,
          "yanchor": "middle",
          "yref": "paper"
         }
        ],
        "barmode": "relative",
        "height": 400,
        "legend": {
         "title": {
          "text": "Target"
         },
         "tracegroupgap": 0
        },
        "margin": {
         "t": 60
        },
        "template": {
         "data": {
          "bar": [
           {
            "error_x": {
             "color": "#2a3f5f"
            },
            "error_y": {
             "color": "#2a3f5f"
            },
            "marker": {
             "line": {
              "color": "#E5ECF6",
              "width": 0.5
             },
             "pattern": {
              "fillmode": "overlay",
              "size": 10,
              "solidity": 0.2
             }
            },
            "type": "bar"
           }
          ],
          "barpolar": [
           {
            "marker": {
             "line": {
              "color": "#E5ECF6",
              "width": 0.5
             },
             "pattern": {
              "fillmode": "overlay",
              "size": 10,
              "solidity": 0.2
             }
            },
            "type": "barpolar"
           }
          ],
          "carpet": [
           {
            "aaxis": {
             "endlinecolor": "#2a3f5f",
             "gridcolor": "white",
             "linecolor": "white",
             "minorgridcolor": "white",
             "startlinecolor": "#2a3f5f"
            },
            "baxis": {
             "endlinecolor": "#2a3f5f",
             "gridcolor": "white",
             "linecolor": "white",
             "minorgridcolor": "white",
             "startlinecolor": "#2a3f5f"
            },
            "type": "carpet"
           }
          ],
          "choropleth": [
           {
            "colorbar": {
             "outlinewidth": 0,
             "ticks": ""
            },
            "type": "choropleth"
           }
          ],
          "contour": [
           {
            "colorbar": {
             "outlinewidth": 0,
             "ticks": ""
            },
            "colorscale": [
             [
              0,
              "#0d0887"
             ],
             [
              0.1111111111111111,
              "#46039f"
             ],
             [
              0.2222222222222222,
              "#7201a8"
             ],
             [
              0.3333333333333333,
              "#9c179e"
             ],
             [
              0.4444444444444444,
              "#bd3786"
             ],
             [
              0.5555555555555556,
              "#d8576b"
             ],
             [
              0.6666666666666666,
              "#ed7953"
             ],
             [
              0.7777777777777778,
              "#fb9f3a"
             ],
             [
              0.8888888888888888,
              "#fdca26"
             ],
             [
              1,
              "#f0f921"
             ]
            ],
            "type": "contour"
           }
          ],
          "contourcarpet": [
           {
            "colorbar": {
             "outlinewidth": 0,
             "ticks": ""
            },
            "type": "contourcarpet"
           }
          ],
          "heatmap": [
           {
            "colorbar": {
             "outlinewidth": 0,
             "ticks": ""
            },
            "colorscale": [
             [
              0,
              "#0d0887"
             ],
             [
              0.1111111111111111,
              "#46039f"
             ],
             [
              0.2222222222222222,
              "#7201a8"
             ],
             [
              0.3333333333333333,
              "#9c179e"
             ],
             [
              0.4444444444444444,
              "#bd3786"
             ],
             [
              0.5555555555555556,
              "#d8576b"
             ],
             [
              0.6666666666666666,
              "#ed7953"
             ],
             [
              0.7777777777777778,
              "#fb9f3a"
             ],
             [
              0.8888888888888888,
              "#fdca26"
             ],
             [
              1,
              "#f0f921"
             ]
            ],
            "type": "heatmap"
           }
          ],
          "heatmapgl": [
           {
            "colorbar": {
             "outlinewidth": 0,
             "ticks": ""
            },
            "colorscale": [
             [
              0,
              "#0d0887"
             ],
             [
              0.1111111111111111,
              "#46039f"
             ],
             [
              0.2222222222222222,
              "#7201a8"
             ],
             [
              0.3333333333333333,
              "#9c179e"
             ],
             [
              0.4444444444444444,
              "#bd3786"
             ],
             [
              0.5555555555555556,
              "#d8576b"
             ],
             [
              0.6666666666666666,
              "#ed7953"
             ],
             [
              0.7777777777777778,
              "#fb9f3a"
             ],
             [
              0.8888888888888888,
              "#fdca26"
             ],
             [
              1,
              "#f0f921"
             ]
            ],
            "type": "heatmapgl"
           }
          ],
          "histogram": [
           {
            "marker": {
             "pattern": {
              "fillmode": "overlay",
              "size": 10,
              "solidity": 0.2
             }
            },
            "type": "histogram"
           }
          ],
          "histogram2d": [
           {
            "colorbar": {
             "outlinewidth": 0,
             "ticks": ""
            },
            "colorscale": [
             [
              0,
              "#0d0887"
             ],
             [
              0.1111111111111111,
              "#46039f"
             ],
             [
              0.2222222222222222,
              "#7201a8"
             ],
             [
              0.3333333333333333,
              "#9c179e"
             ],
             [
              0.4444444444444444,
              "#bd3786"
             ],
             [
              0.5555555555555556,
              "#d8576b"
             ],
             [
              0.6666666666666666,
              "#ed7953"
             ],
             [
              0.7777777777777778,
              "#fb9f3a"
             ],
             [
              0.8888888888888888,
              "#fdca26"
             ],
             [
              1,
              "#f0f921"
             ]
            ],
            "type": "histogram2d"
           }
          ],
          "histogram2dcontour": [
           {
            "colorbar": {
             "outlinewidth": 0,
             "ticks": ""
            },
            "colorscale": [
             [
              0,
              "#0d0887"
             ],
             [
              0.1111111111111111,
              "#46039f"
             ],
             [
              0.2222222222222222,
              "#7201a8"
             ],
             [
              0.3333333333333333,
              "#9c179e"
             ],
             [
              0.4444444444444444,
              "#bd3786"
             ],
             [
              0.5555555555555556,
              "#d8576b"
             ],
             [
              0.6666666666666666,
              "#ed7953"
             ],
             [
              0.7777777777777778,
              "#fb9f3a"
             ],
             [
              0.8888888888888888,
              "#fdca26"
             ],
             [
              1,
              "#f0f921"
             ]
            ],
            "type": "histogram2dcontour"
           }
          ],
          "mesh3d": [
           {
            "colorbar": {
             "outlinewidth": 0,
             "ticks": ""
            },
            "type": "mesh3d"
           }
          ],
          "parcoords": [
           {
            "line": {
             "colorbar": {
              "outlinewidth": 0,
              "ticks": ""
             }
            },
            "type": "parcoords"
           }
          ],
          "pie": [
           {
            "automargin": true,
            "type": "pie"
           }
          ],
          "scatter": [
           {
            "fillpattern": {
             "fillmode": "overlay",
             "size": 10,
             "solidity": 0.2
            },
            "type": "scatter"
           }
          ],
          "scatter3d": [
           {
            "line": {
             "colorbar": {
              "outlinewidth": 0,
              "ticks": ""
             }
            },
            "marker": {
             "colorbar": {
              "outlinewidth": 0,
              "ticks": ""
             }
            },
            "type": "scatter3d"
           }
          ],
          "scattercarpet": [
           {
            "marker": {
             "colorbar": {
              "outlinewidth": 0,
              "ticks": ""
             }
            },
            "type": "scattercarpet"
           }
          ],
          "scattergeo": [
           {
            "marker": {
             "colorbar": {
              "outlinewidth": 0,
              "ticks": ""
             }
            },
            "type": "scattergeo"
           }
          ],
          "scattergl": [
           {
            "marker": {
             "colorbar": {
              "outlinewidth": 0,
              "ticks": ""
             }
            },
            "type": "scattergl"
           }
          ],
          "scattermapbox": [
           {
            "marker": {
             "colorbar": {
              "outlinewidth": 0,
              "ticks": ""
             }
            },
            "type": "scattermapbox"
           }
          ],
          "scatterpolar": [
           {
            "marker": {
             "colorbar": {
              "outlinewidth": 0,
              "ticks": ""
             }
            },
            "type": "scatterpolar"
           }
          ],
          "scatterpolargl": [
           {
            "marker": {
             "colorbar": {
              "outlinewidth": 0,
              "ticks": ""
             }
            },
            "type": "scatterpolargl"
           }
          ],
          "scatterternary": [
           {
            "marker": {
             "colorbar": {
              "outlinewidth": 0,
              "ticks": ""
             }
            },
            "type": "scatterternary"
           }
          ],
          "surface": [
           {
            "colorbar": {
             "outlinewidth": 0,
             "ticks": ""
            },
            "colorscale": [
             [
              0,
              "#0d0887"
             ],
             [
              0.1111111111111111,
              "#46039f"
             ],
             [
              0.2222222222222222,
              "#7201a8"
             ],
             [
              0.3333333333333333,
              "#9c179e"
             ],
             [
              0.4444444444444444,
              "#bd3786"
             ],
             [
              0.5555555555555556,
              "#d8576b"
             ],
             [
              0.6666666666666666,
              "#ed7953"
             ],
             [
              0.7777777777777778,
              "#fb9f3a"
             ],
             [
              0.8888888888888888,
              "#fdca26"
             ],
             [
              1,
              "#f0f921"
             ]
            ],
            "type": "surface"
           }
          ],
          "table": [
           {
            "cells": {
             "fill": {
              "color": "#EBF0F8"
             },
             "line": {
              "color": "white"
             }
            },
            "header": {
             "fill": {
              "color": "#C8D4E3"
             },
             "line": {
              "color": "white"
             }
            },
            "type": "table"
           }
          ]
         },
         "layout": {
          "annotationdefaults": {
           "arrowcolor": "#2a3f5f",
           "arrowhead": 0,
           "arrowwidth": 1
          },
          "autotypenumbers": "strict",
          "coloraxis": {
           "colorbar": {
            "outlinewidth": 0,
            "ticks": ""
           }
          },
          "colorscale": {
           "diverging": [
            [
             0,
             "#8e0152"
            ],
            [
             0.1,
             "#c51b7d"
            ],
            [
             0.2,
             "#de77ae"
            ],
            [
             0.3,
             "#f1b6da"
            ],
            [
             0.4,
             "#fde0ef"
            ],
            [
             0.5,
             "#f7f7f7"
            ],
            [
             0.6,
             "#e6f5d0"
            ],
            [
             0.7,
             "#b8e186"
            ],
            [
             0.8,
             "#7fbc41"
            ],
            [
             0.9,
             "#4d9221"
            ],
            [
             1,
             "#276419"
            ]
           ],
           "sequential": [
            [
             0,
             "#0d0887"
            ],
            [
             0.1111111111111111,
             "#46039f"
            ],
            [
             0.2222222222222222,
             "#7201a8"
            ],
            [
             0.3333333333333333,
             "#9c179e"
            ],
            [
             0.4444444444444444,
             "#bd3786"
            ],
            [
             0.5555555555555556,
             "#d8576b"
            ],
            [
             0.6666666666666666,
             "#ed7953"
            ],
            [
             0.7777777777777778,
             "#fb9f3a"
            ],
            [
             0.8888888888888888,
             "#fdca26"
            ],
            [
             1,
             "#f0f921"
            ]
           ],
           "sequentialminus": [
            [
             0,
             "#0d0887"
            ],
            [
             0.1111111111111111,
             "#46039f"
            ],
            [
             0.2222222222222222,
             "#7201a8"
            ],
            [
             0.3333333333333333,
             "#9c179e"
            ],
            [
             0.4444444444444444,
             "#bd3786"
            ],
            [
             0.5555555555555556,
             "#d8576b"
            ],
            [
             0.6666666666666666,
             "#ed7953"
            ],
            [
             0.7777777777777778,
             "#fb9f3a"
            ],
            [
             0.8888888888888888,
             "#fdca26"
            ],
            [
             1,
             "#f0f921"
            ]
           ]
          },
          "colorway": [
           "#636efa",
           "#EF553B",
           "#00cc96",
           "#ab63fa",
           "#FFA15A",
           "#19d3f3",
           "#FF6692",
           "#B6E880",
           "#FF97FF",
           "#FECB52"
          ],
          "font": {
           "color": "#2a3f5f"
          },
          "geo": {
           "bgcolor": "white",
           "lakecolor": "white",
           "landcolor": "#E5ECF6",
           "showlakes": true,
           "showland": true,
           "subunitcolor": "white"
          },
          "hoverlabel": {
           "align": "left"
          },
          "hovermode": "closest",
          "mapbox": {
           "style": "light"
          },
          "paper_bgcolor": "white",
          "plot_bgcolor": "#E5ECF6",
          "polar": {
           "angularaxis": {
            "gridcolor": "white",
            "linecolor": "white",
            "ticks": ""
           },
           "bgcolor": "#E5ECF6",
           "radialaxis": {
            "gridcolor": "white",
            "linecolor": "white",
            "ticks": ""
           }
          },
          "scene": {
           "xaxis": {
            "backgroundcolor": "#E5ECF6",
            "gridcolor": "white",
            "gridwidth": 2,
            "linecolor": "white",
            "showbackground": true,
            "ticks": "",
            "zerolinecolor": "white"
           },
           "yaxis": {
            "backgroundcolor": "#E5ECF6",
            "gridcolor": "white",
            "gridwidth": 2,
            "linecolor": "white",
            "showbackground": true,
            "ticks": "",
            "zerolinecolor": "white"
           },
           "zaxis": {
            "backgroundcolor": "#E5ECF6",
            "gridcolor": "white",
            "gridwidth": 2,
            "linecolor": "white",
            "showbackground": true,
            "ticks": "",
            "zerolinecolor": "white"
           }
          },
          "shapedefaults": {
           "line": {
            "color": "#2a3f5f"
           }
          },
          "ternary": {
           "aaxis": {
            "gridcolor": "white",
            "linecolor": "white",
            "ticks": ""
           },
           "baxis": {
            "gridcolor": "white",
            "linecolor": "white",
            "ticks": ""
           },
           "bgcolor": "#E5ECF6",
           "caxis": {
            "gridcolor": "white",
            "linecolor": "white",
            "ticks": ""
           }
          },
          "title": {
           "x": 0.05
          },
          "xaxis": {
           "automargin": true,
           "gridcolor": "white",
           "linecolor": "white",
           "ticks": "",
           "title": {
            "standoff": 15
           },
           "zerolinecolor": "white",
           "zerolinewidth": 2
          },
          "yaxis": {
           "automargin": true,
           "gridcolor": "white",
           "linecolor": "white",
           "ticks": "",
           "title": {
            "standoff": 15
           },
           "zerolinecolor": "white",
           "zerolinewidth": 2
          }
         }
        },
        "width": 800,
        "xaxis": {
         "anchor": "y",
         "domain": [
          0,
          0.98
         ],
         "title": {
          "text": "Col1"
         }
        },
        "xaxis2": {
         "anchor": "y2",
         "domain": [
          0,
          0.98
         ],
         "matches": "x",
         "showticklabels": false
        },
        "yaxis": {
         "anchor": "x",
         "domain": [
          0,
          0.485
         ],
         "title": {
          "text": "probability"
         }
        },
        "yaxis2": {
         "anchor": "x2",
         "domain": [
          0.515,
          1
         ],
         "matches": "y",
         "title": {
          "text": "probability"
         }
        }
       }
      }
     },
     "metadata": {},
     "output_type": "display_data"
    },
    {
     "data": {
      "application/vnd.plotly.v1+json": {
       "config": {
        "plotlyServerURL": "https://plot.ly"
       },
       "data": [
        {
         "alignmentgroup": "True",
         "bingroup": "x",
         "histnorm": "probability",
         "hovertemplate": "Target=0<br>Col2=%{x}<br>probability=%{y}<extra></extra>",
         "legendgroup": "0",
         "marker": {
          "color": "#636efa",
          "pattern": {
           "shape": ""
          }
         },
         "name": "0",
         "offsetgroup": "0",
         "orientation": "v",
         "showlegend": true,
         "type": "histogram",
         "x": [
          78.0246928153624,
          43.89499752400101,
          72.90219802708364,
          56.3163717815305,
          38.22527805795094,
          30.60326323428011,
          76.03681085115882,
          46.67857410673128,
          42.83843832029179,
          48.85581152764205,
          44.20952859866288,
          38.80067033713209,
          50.25610789244621,
          64.99568095539578,
          63.12762376881715,
          71.16774802184875,
          52.21388588061123,
          98.86943574220612,
          41.57341522824434,
          75.2377203360134,
          46.85629026349976,
          40.61825515970618,
          45.82270145776001,
          52.06099194836679,
          60.39634245837173,
          49.80453881323059,
          59.80895099453265,
          95.59854761387876,
          47.02051394723416,
          39.26147251058019,
          49.59297386723685,
          66.45008614558913,
          41.09209807936973,
          51.88321182073966,
          43.30717306430063,
          42.50840943572217,
          42.71987853716458,
          78.84478600148043,
          60.76950525602592,
          35.57070347228866
         ],
         "xaxis": "x2",
         "yaxis": "y2"
        },
        {
         "alignmentgroup": "True",
         "bingroup": "x",
         "histnorm": "probability",
         "hovertemplate": "Target=1<br>Col2=%{x}<br>probability=%{y}<extra></extra>",
         "legendgroup": "1",
         "marker": {
          "color": "#EF553B",
          "pattern": {
           "shape": ""
          }
         },
         "name": "1",
         "offsetgroup": "1",
         "orientation": "v",
         "showlegend": true,
         "type": "histogram",
         "x": [
          86.30855209546826,
          75.3443764369103,
          96.51142588489624,
          46.55401354116538,
          87.42056971926803,
          43.53339331072109,
          76.48196330235604,
          97.71869196188608,
          89.20735013750205,
          52.74046973016765,
          92.92713789364832,
          47.57596364975532,
          65.79936592745237,
          68.9723599933059,
          69.95445795447587,
          44.82162893218353,
          72.80788731317097,
          57.05198397627122,
          69.43286012045222,
          80.90806058670817,
          56.30804621605327,
          65.56892160559052,
          70.45820000180959,
          86.7278223300282,
          96.76882412413984,
          88.696292545466,
          74.16311935043758,
          60.99903099844988,
          43.39060180650027,
          68.86157272420604,
          69.82457122657193,
          78.45356224515052,
          85.75993667331619,
          97.53518548909936,
          92.11606081344084,
          60.99139402740988,
          78.03168802018232,
          96.22759296761404,
          73.09499809758037,
          75.85844831279042,
          72.36925193383885,
          88.47586499559782,
          75.80985952982456,
          69.80378889835472,
          45.69430680250754,
          66.58935317747915,
          59.51428198012956,
          90.96014789746954,
          85.59430710452014,
          90.42453899753964,
          96.64742716885644,
          77.15910509073893,
          87.50879176484702,
          84.84513684930135,
          45.35828361091658,
          48.38028579728175,
          87.10385094025457,
          68.77540947206617,
          64.9319380069486,
          89.52981289513276
         ],
         "xaxis": "x",
         "yaxis": "y"
        }
       ],
       "layout": {
        "annotations": [
         {
          "font": {},
          "showarrow": false,
          "text": "Target=1",
          "textangle": 90,
          "x": 0.98,
          "xanchor": "left",
          "xref": "paper",
          "y": 0.2425,
          "yanchor": "middle",
          "yref": "paper"
         },
         {
          "font": {},
          "showarrow": false,
          "text": "Target=0",
          "textangle": 90,
          "x": 0.98,
          "xanchor": "left",
          "xref": "paper",
          "y": 0.7575000000000001,
          "yanchor": "middle",
          "yref": "paper"
         }
        ],
        "barmode": "relative",
        "height": 400,
        "legend": {
         "title": {
          "text": "Target"
         },
         "tracegroupgap": 0
        },
        "margin": {
         "t": 60
        },
        "template": {
         "data": {
          "bar": [
           {
            "error_x": {
             "color": "#2a3f5f"
            },
            "error_y": {
             "color": "#2a3f5f"
            },
            "marker": {
             "line": {
              "color": "#E5ECF6",
              "width": 0.5
             },
             "pattern": {
              "fillmode": "overlay",
              "size": 10,
              "solidity": 0.2
             }
            },
            "type": "bar"
           }
          ],
          "barpolar": [
           {
            "marker": {
             "line": {
              "color": "#E5ECF6",
              "width": 0.5
             },
             "pattern": {
              "fillmode": "overlay",
              "size": 10,
              "solidity": 0.2
             }
            },
            "type": "barpolar"
           }
          ],
          "carpet": [
           {
            "aaxis": {
             "endlinecolor": "#2a3f5f",
             "gridcolor": "white",
             "linecolor": "white",
             "minorgridcolor": "white",
             "startlinecolor": "#2a3f5f"
            },
            "baxis": {
             "endlinecolor": "#2a3f5f",
             "gridcolor": "white",
             "linecolor": "white",
             "minorgridcolor": "white",
             "startlinecolor": "#2a3f5f"
            },
            "type": "carpet"
           }
          ],
          "choropleth": [
           {
            "colorbar": {
             "outlinewidth": 0,
             "ticks": ""
            },
            "type": "choropleth"
           }
          ],
          "contour": [
           {
            "colorbar": {
             "outlinewidth": 0,
             "ticks": ""
            },
            "colorscale": [
             [
              0,
              "#0d0887"
             ],
             [
              0.1111111111111111,
              "#46039f"
             ],
             [
              0.2222222222222222,
              "#7201a8"
             ],
             [
              0.3333333333333333,
              "#9c179e"
             ],
             [
              0.4444444444444444,
              "#bd3786"
             ],
             [
              0.5555555555555556,
              "#d8576b"
             ],
             [
              0.6666666666666666,
              "#ed7953"
             ],
             [
              0.7777777777777778,
              "#fb9f3a"
             ],
             [
              0.8888888888888888,
              "#fdca26"
             ],
             [
              1,
              "#f0f921"
             ]
            ],
            "type": "contour"
           }
          ],
          "contourcarpet": [
           {
            "colorbar": {
             "outlinewidth": 0,
             "ticks": ""
            },
            "type": "contourcarpet"
           }
          ],
          "heatmap": [
           {
            "colorbar": {
             "outlinewidth": 0,
             "ticks": ""
            },
            "colorscale": [
             [
              0,
              "#0d0887"
             ],
             [
              0.1111111111111111,
              "#46039f"
             ],
             [
              0.2222222222222222,
              "#7201a8"
             ],
             [
              0.3333333333333333,
              "#9c179e"
             ],
             [
              0.4444444444444444,
              "#bd3786"
             ],
             [
              0.5555555555555556,
              "#d8576b"
             ],
             [
              0.6666666666666666,
              "#ed7953"
             ],
             [
              0.7777777777777778,
              "#fb9f3a"
             ],
             [
              0.8888888888888888,
              "#fdca26"
             ],
             [
              1,
              "#f0f921"
             ]
            ],
            "type": "heatmap"
           }
          ],
          "heatmapgl": [
           {
            "colorbar": {
             "outlinewidth": 0,
             "ticks": ""
            },
            "colorscale": [
             [
              0,
              "#0d0887"
             ],
             [
              0.1111111111111111,
              "#46039f"
             ],
             [
              0.2222222222222222,
              "#7201a8"
             ],
             [
              0.3333333333333333,
              "#9c179e"
             ],
             [
              0.4444444444444444,
              "#bd3786"
             ],
             [
              0.5555555555555556,
              "#d8576b"
             ],
             [
              0.6666666666666666,
              "#ed7953"
             ],
             [
              0.7777777777777778,
              "#fb9f3a"
             ],
             [
              0.8888888888888888,
              "#fdca26"
             ],
             [
              1,
              "#f0f921"
             ]
            ],
            "type": "heatmapgl"
           }
          ],
          "histogram": [
           {
            "marker": {
             "pattern": {
              "fillmode": "overlay",
              "size": 10,
              "solidity": 0.2
             }
            },
            "type": "histogram"
           }
          ],
          "histogram2d": [
           {
            "colorbar": {
             "outlinewidth": 0,
             "ticks": ""
            },
            "colorscale": [
             [
              0,
              "#0d0887"
             ],
             [
              0.1111111111111111,
              "#46039f"
             ],
             [
              0.2222222222222222,
              "#7201a8"
             ],
             [
              0.3333333333333333,
              "#9c179e"
             ],
             [
              0.4444444444444444,
              "#bd3786"
             ],
             [
              0.5555555555555556,
              "#d8576b"
             ],
             [
              0.6666666666666666,
              "#ed7953"
             ],
             [
              0.7777777777777778,
              "#fb9f3a"
             ],
             [
              0.8888888888888888,
              "#fdca26"
             ],
             [
              1,
              "#f0f921"
             ]
            ],
            "type": "histogram2d"
           }
          ],
          "histogram2dcontour": [
           {
            "colorbar": {
             "outlinewidth": 0,
             "ticks": ""
            },
            "colorscale": [
             [
              0,
              "#0d0887"
             ],
             [
              0.1111111111111111,
              "#46039f"
             ],
             [
              0.2222222222222222,
              "#7201a8"
             ],
             [
              0.3333333333333333,
              "#9c179e"
             ],
             [
              0.4444444444444444,
              "#bd3786"
             ],
             [
              0.5555555555555556,
              "#d8576b"
             ],
             [
              0.6666666666666666,
              "#ed7953"
             ],
             [
              0.7777777777777778,
              "#fb9f3a"
             ],
             [
              0.8888888888888888,
              "#fdca26"
             ],
             [
              1,
              "#f0f921"
             ]
            ],
            "type": "histogram2dcontour"
           }
          ],
          "mesh3d": [
           {
            "colorbar": {
             "outlinewidth": 0,
             "ticks": ""
            },
            "type": "mesh3d"
           }
          ],
          "parcoords": [
           {
            "line": {
             "colorbar": {
              "outlinewidth": 0,
              "ticks": ""
             }
            },
            "type": "parcoords"
           }
          ],
          "pie": [
           {
            "automargin": true,
            "type": "pie"
           }
          ],
          "scatter": [
           {
            "fillpattern": {
             "fillmode": "overlay",
             "size": 10,
             "solidity": 0.2
            },
            "type": "scatter"
           }
          ],
          "scatter3d": [
           {
            "line": {
             "colorbar": {
              "outlinewidth": 0,
              "ticks": ""
             }
            },
            "marker": {
             "colorbar": {
              "outlinewidth": 0,
              "ticks": ""
             }
            },
            "type": "scatter3d"
           }
          ],
          "scattercarpet": [
           {
            "marker": {
             "colorbar": {
              "outlinewidth": 0,
              "ticks": ""
             }
            },
            "type": "scattercarpet"
           }
          ],
          "scattergeo": [
           {
            "marker": {
             "colorbar": {
              "outlinewidth": 0,
              "ticks": ""
             }
            },
            "type": "scattergeo"
           }
          ],
          "scattergl": [
           {
            "marker": {
             "colorbar": {
              "outlinewidth": 0,
              "ticks": ""
             }
            },
            "type": "scattergl"
           }
          ],
          "scattermapbox": [
           {
            "marker": {
             "colorbar": {
              "outlinewidth": 0,
              "ticks": ""
             }
            },
            "type": "scattermapbox"
           }
          ],
          "scatterpolar": [
           {
            "marker": {
             "colorbar": {
              "outlinewidth": 0,
              "ticks": ""
             }
            },
            "type": "scatterpolar"
           }
          ],
          "scatterpolargl": [
           {
            "marker": {
             "colorbar": {
              "outlinewidth": 0,
              "ticks": ""
             }
            },
            "type": "scatterpolargl"
           }
          ],
          "scatterternary": [
           {
            "marker": {
             "colorbar": {
              "outlinewidth": 0,
              "ticks": ""
             }
            },
            "type": "scatterternary"
           }
          ],
          "surface": [
           {
            "colorbar": {
             "outlinewidth": 0,
             "ticks": ""
            },
            "colorscale": [
             [
              0,
              "#0d0887"
             ],
             [
              0.1111111111111111,
              "#46039f"
             ],
             [
              0.2222222222222222,
              "#7201a8"
             ],
             [
              0.3333333333333333,
              "#9c179e"
             ],
             [
              0.4444444444444444,
              "#bd3786"
             ],
             [
              0.5555555555555556,
              "#d8576b"
             ],
             [
              0.6666666666666666,
              "#ed7953"
             ],
             [
              0.7777777777777778,
              "#fb9f3a"
             ],
             [
              0.8888888888888888,
              "#fdca26"
             ],
             [
              1,
              "#f0f921"
             ]
            ],
            "type": "surface"
           }
          ],
          "table": [
           {
            "cells": {
             "fill": {
              "color": "#EBF0F8"
             },
             "line": {
              "color": "white"
             }
            },
            "header": {
             "fill": {
              "color": "#C8D4E3"
             },
             "line": {
              "color": "white"
             }
            },
            "type": "table"
           }
          ]
         },
         "layout": {
          "annotationdefaults": {
           "arrowcolor": "#2a3f5f",
           "arrowhead": 0,
           "arrowwidth": 1
          },
          "autotypenumbers": "strict",
          "coloraxis": {
           "colorbar": {
            "outlinewidth": 0,
            "ticks": ""
           }
          },
          "colorscale": {
           "diverging": [
            [
             0,
             "#8e0152"
            ],
            [
             0.1,
             "#c51b7d"
            ],
            [
             0.2,
             "#de77ae"
            ],
            [
             0.3,
             "#f1b6da"
            ],
            [
             0.4,
             "#fde0ef"
            ],
            [
             0.5,
             "#f7f7f7"
            ],
            [
             0.6,
             "#e6f5d0"
            ],
            [
             0.7,
             "#b8e186"
            ],
            [
             0.8,
             "#7fbc41"
            ],
            [
             0.9,
             "#4d9221"
            ],
            [
             1,
             "#276419"
            ]
           ],
           "sequential": [
            [
             0,
             "#0d0887"
            ],
            [
             0.1111111111111111,
             "#46039f"
            ],
            [
             0.2222222222222222,
             "#7201a8"
            ],
            [
             0.3333333333333333,
             "#9c179e"
            ],
            [
             0.4444444444444444,
             "#bd3786"
            ],
            [
             0.5555555555555556,
             "#d8576b"
            ],
            [
             0.6666666666666666,
             "#ed7953"
            ],
            [
             0.7777777777777778,
             "#fb9f3a"
            ],
            [
             0.8888888888888888,
             "#fdca26"
            ],
            [
             1,
             "#f0f921"
            ]
           ],
           "sequentialminus": [
            [
             0,
             "#0d0887"
            ],
            [
             0.1111111111111111,
             "#46039f"
            ],
            [
             0.2222222222222222,
             "#7201a8"
            ],
            [
             0.3333333333333333,
             "#9c179e"
            ],
            [
             0.4444444444444444,
             "#bd3786"
            ],
            [
             0.5555555555555556,
             "#d8576b"
            ],
            [
             0.6666666666666666,
             "#ed7953"
            ],
            [
             0.7777777777777778,
             "#fb9f3a"
            ],
            [
             0.8888888888888888,
             "#fdca26"
            ],
            [
             1,
             "#f0f921"
            ]
           ]
          },
          "colorway": [
           "#636efa",
           "#EF553B",
           "#00cc96",
           "#ab63fa",
           "#FFA15A",
           "#19d3f3",
           "#FF6692",
           "#B6E880",
           "#FF97FF",
           "#FECB52"
          ],
          "font": {
           "color": "#2a3f5f"
          },
          "geo": {
           "bgcolor": "white",
           "lakecolor": "white",
           "landcolor": "#E5ECF6",
           "showlakes": true,
           "showland": true,
           "subunitcolor": "white"
          },
          "hoverlabel": {
           "align": "left"
          },
          "hovermode": "closest",
          "mapbox": {
           "style": "light"
          },
          "paper_bgcolor": "white",
          "plot_bgcolor": "#E5ECF6",
          "polar": {
           "angularaxis": {
            "gridcolor": "white",
            "linecolor": "white",
            "ticks": ""
           },
           "bgcolor": "#E5ECF6",
           "radialaxis": {
            "gridcolor": "white",
            "linecolor": "white",
            "ticks": ""
           }
          },
          "scene": {
           "xaxis": {
            "backgroundcolor": "#E5ECF6",
            "gridcolor": "white",
            "gridwidth": 2,
            "linecolor": "white",
            "showbackground": true,
            "ticks": "",
            "zerolinecolor": "white"
           },
           "yaxis": {
            "backgroundcolor": "#E5ECF6",
            "gridcolor": "white",
            "gridwidth": 2,
            "linecolor": "white",
            "showbackground": true,
            "ticks": "",
            "zerolinecolor": "white"
           },
           "zaxis": {
            "backgroundcolor": "#E5ECF6",
            "gridcolor": "white",
            "gridwidth": 2,
            "linecolor": "white",
            "showbackground": true,
            "ticks": "",
            "zerolinecolor": "white"
           }
          },
          "shapedefaults": {
           "line": {
            "color": "#2a3f5f"
           }
          },
          "ternary": {
           "aaxis": {
            "gridcolor": "white",
            "linecolor": "white",
            "ticks": ""
           },
           "baxis": {
            "gridcolor": "white",
            "linecolor": "white",
            "ticks": ""
           },
           "bgcolor": "#E5ECF6",
           "caxis": {
            "gridcolor": "white",
            "linecolor": "white",
            "ticks": ""
           }
          },
          "title": {
           "x": 0.05
          },
          "xaxis": {
           "automargin": true,
           "gridcolor": "white",
           "linecolor": "white",
           "ticks": "",
           "title": {
            "standoff": 15
           },
           "zerolinecolor": "white",
           "zerolinewidth": 2
          },
          "yaxis": {
           "automargin": true,
           "gridcolor": "white",
           "linecolor": "white",
           "ticks": "",
           "title": {
            "standoff": 15
           },
           "zerolinecolor": "white",
           "zerolinewidth": 2
          }
         }
        },
        "width": 800,
        "xaxis": {
         "anchor": "y",
         "domain": [
          0,
          0.98
         ],
         "title": {
          "text": "Col2"
         }
        },
        "xaxis2": {
         "anchor": "y2",
         "domain": [
          0,
          0.98
         ],
         "matches": "x",
         "showticklabels": false
        },
        "yaxis": {
         "anchor": "x",
         "domain": [
          0,
          0.485
         ],
         "title": {
          "text": "probability"
         }
        },
        "yaxis2": {
         "anchor": "x2",
         "domain": [
          0.515,
          1
         ],
         "matches": "y",
         "title": {
          "text": "probability"
         }
        }
       }
      }
     },
     "metadata": {},
     "output_type": "display_data"
    }
   ],
   "source": [
    "# num_features = [\"Age\", \"Salary\"]\n",
    "for f in features_list:\n",
    "    fig = px.histogram(df, f, color=\"Target\", facet_row=\"Target\", histnorm=\"probability\", width=800, height=400)\n",
    "    fig.show()"
   ]
  },
  {
   "cell_type": "code",
   "execution_count": null,
   "metadata": {},
   "outputs": [],
   "source": []
  },
  {
   "cell_type": "markdown",
   "metadata": {
    "colab_type": "text",
    "id": "vrMMuiomtYse"
   },
   "source": [
    "7. Analyze the explanatory variables, what preprocessings are necessary? Make the preprocessings."
   ]
  },
  {
   "cell_type": "code",
   "execution_count": 14,
   "metadata": {},
   "outputs": [
    {
     "data": {
      "text/html": [
       "<div>\n",
       "<style scoped>\n",
       "    .dataframe tbody tr th:only-of-type {\n",
       "        vertical-align: middle;\n",
       "    }\n",
       "\n",
       "    .dataframe tbody tr th {\n",
       "        vertical-align: top;\n",
       "    }\n",
       "\n",
       "    .dataframe thead th {\n",
       "        text-align: right;\n",
       "    }\n",
       "</style>\n",
       "<table border=\"1\" class=\"dataframe\">\n",
       "  <thead>\n",
       "    <tr style=\"text-align: right;\">\n",
       "      <th></th>\n",
       "      <th>Col1</th>\n",
       "      <th>Col2</th>\n",
       "      <th>Target</th>\n",
       "    </tr>\n",
       "  </thead>\n",
       "  <tbody>\n",
       "    <tr>\n",
       "      <th>count</th>\n",
       "      <td>100.000000</td>\n",
       "      <td>100.000000</td>\n",
       "      <td>100.000000</td>\n",
       "    </tr>\n",
       "    <tr>\n",
       "      <th>mean</th>\n",
       "      <td>65.644274</td>\n",
       "      <td>66.221998</td>\n",
       "      <td>0.600000</td>\n",
       "    </tr>\n",
       "    <tr>\n",
       "      <th>std</th>\n",
       "      <td>19.458222</td>\n",
       "      <td>18.582783</td>\n",
       "      <td>0.492366</td>\n",
       "    </tr>\n",
       "    <tr>\n",
       "      <th>min</th>\n",
       "      <td>30.058822</td>\n",
       "      <td>30.603263</td>\n",
       "      <td>0.000000</td>\n",
       "    </tr>\n",
       "    <tr>\n",
       "      <th>25%</th>\n",
       "      <td>50.919511</td>\n",
       "      <td>48.179205</td>\n",
       "      <td>0.000000</td>\n",
       "    </tr>\n",
       "    <tr>\n",
       "      <th>50%</th>\n",
       "      <td>67.032988</td>\n",
       "      <td>67.682381</td>\n",
       "      <td>1.000000</td>\n",
       "    </tr>\n",
       "    <tr>\n",
       "      <th>75%</th>\n",
       "      <td>80.212529</td>\n",
       "      <td>79.360605</td>\n",
       "      <td>1.000000</td>\n",
       "    </tr>\n",
       "    <tr>\n",
       "      <th>max</th>\n",
       "      <td>99.827858</td>\n",
       "      <td>98.869436</td>\n",
       "      <td>1.000000</td>\n",
       "    </tr>\n",
       "  </tbody>\n",
       "</table>\n",
       "</div>"
      ],
      "text/plain": [
       "             Col1        Col2      Target\n",
       "count  100.000000  100.000000  100.000000\n",
       "mean    65.644274   66.221998    0.600000\n",
       "std     19.458222   18.582783    0.492366\n",
       "min     30.058822   30.603263    0.000000\n",
       "25%     50.919511   48.179205    0.000000\n",
       "50%     67.032988   67.682381    1.000000\n",
       "75%     80.212529   79.360605    1.000000\n",
       "max     99.827858   98.869436    1.000000"
      ]
     },
     "execution_count": 14,
     "metadata": {},
     "output_type": "execute_result"
    }
   ],
   "source": [
    "df.describe(include=\"all\")"
   ]
  },
  {
   "cell_type": "code",
   "execution_count": 15,
   "metadata": {
    "colab": {
     "base_uri": "https://localhost:8080/",
     "height": 296
    },
    "colab_type": "code",
    "id": "GCFXoeAUzBMV",
    "outputId": "b302fd15-2718-4c98-9fc4-0545c602e50c"
   },
   "outputs": [
    {
     "data": {
      "text/plain": [
       "Col1      0.0\n",
       "Col2      0.0\n",
       "Target    0.0\n",
       "dtype: float64"
      ]
     },
     "execution_count": 15,
     "metadata": {},
     "output_type": "execute_result"
    }
   ],
   "source": [
    "100 * df.isnull().sum() / len(df)"
   ]
  },
  {
   "cell_type": "markdown",
   "metadata": {},
   "source": [
    "Some good news:\n",
    "* There are no missing values in this dataset --> no imputation needed\n",
    "* Although we're dealing with a classification problem, the _Target_ is alrady encoded as 0s and 1s, so we don't need to use the LabelEncoder\n",
    "* All the features (_Col1_ and _Col2_) are numeric, so we just want to apply a StandardScaler to the whole array X"
   ]
  },
  {
   "cell_type": "code",
   "execution_count": 16,
   "metadata": {},
   "outputs": [],
   "source": [
    "# numeric_features = df.select_dtypes(include=\"number\").columns\n",
    "# categorical_features = df.select_dtypes(exclude=\"number\").columns\n",
    "numeric_features=[\"Col1\", \"Col2\"]"
   ]
  },
  {
   "cell_type": "code",
   "execution_count": 17,
   "metadata": {},
   "outputs": [],
   "source": [
    "# Create pipeline for numeric features\n",
    "numeric_transformer = Pipeline(\n",
    "    steps=[\n",
    "        # (\n",
    "        #     \"imputer\",\n",
    "        #     SimpleImputer(strategy=\"mean\"),\n",
    "        # ),  # missing values will be replaced by columns' mean\n",
    "        (\"scaler\", StandardScaler()),\n",
    "    ]\n",
    ")"
   ]
  },
  {
   "cell_type": "code",
   "execution_count": 18,
   "metadata": {},
   "outputs": [],
   "source": [
    "# Create pipeline for categorical features\n",
    "# categorical_transformer = OneHotEncoder(\n",
    "#     drop=\"first\"\n",
    "# )  # no missing values in categorical data, so we only need the OHE"
   ]
  },
  {
   "cell_type": "code",
   "execution_count": 19,
   "metadata": {},
   "outputs": [],
   "source": [
    "# Use ColumnTransformer to make a preprocessor object that describes all the treatments to be done\n",
    "feature_encoder = ColumnTransformer(\n",
    "    transformers=[\n",
    "        (\"num\", numeric_transformer, numeric_features),\n",
    "        # (\"cat\", categorical_transformer, categorical_features),\n",
    "    ]\n",
    ")"
   ]
  },
  {
   "cell_type": "code",
   "execution_count": 20,
   "metadata": {},
   "outputs": [
    {
     "name": "stdout",
     "output_type": "stream",
     "text": [
      "[[-0.83 -0.78]\n",
      " [-0.68  0.17]\n",
      " [ 0.49  1.05]\n",
      " [-0.42 -0.37]\n",
      " [ 1.21 -0.03]]\n"
     ]
    }
   ],
   "source": [
    "X_train = feature_encoder.fit_transform(X_train)\n",
    "print(X_train[0:5,:].round(2))"
   ]
  },
  {
   "cell_type": "code",
   "execution_count": 21,
   "metadata": {},
   "outputs": [
    {
     "name": "stdout",
     "output_type": "stream",
     "text": [
      "[[ 0.46  1.25]\n",
      " [-0.18  1.64]\n",
      " [ 0.68  0.48]\n",
      " [ 1.   -0.5 ]\n",
      " [-0.68 -0.17]]\n"
     ]
    }
   ],
   "source": [
    "X_test = feature_encoder.transform(X_test)\n",
    "print(X_test[0:5,:].round(2))"
   ]
  },
  {
   "cell_type": "code",
   "execution_count": null,
   "metadata": {
    "colab": {},
    "colab_type": "code",
    "id": "fOvQMobybPjl"
   },
   "outputs": [],
   "source": []
  },
  {
   "cell_type": "markdown",
   "metadata": {
    "colab_type": "text",
    "id": "iG6bk4uUvXXQ"
   },
   "source": [
    "8. Use the LogisticRegression function from sklearn in order to create a model instance and train it."
   ]
  },
  {
   "cell_type": "code",
   "execution_count": 22,
   "metadata": {},
   "outputs": [
    {
     "data": {
      "text/html": [
       "<style>#sk-container-id-1 {color: black;}#sk-container-id-1 pre{padding: 0;}#sk-container-id-1 div.sk-toggleable {background-color: white;}#sk-container-id-1 label.sk-toggleable__label {cursor: pointer;display: block;width: 100%;margin-bottom: 0;padding: 0.3em;box-sizing: border-box;text-align: center;}#sk-container-id-1 label.sk-toggleable__label-arrow:before {content: \"▸\";float: left;margin-right: 0.25em;color: #696969;}#sk-container-id-1 label.sk-toggleable__label-arrow:hover:before {color: black;}#sk-container-id-1 div.sk-estimator:hover label.sk-toggleable__label-arrow:before {color: black;}#sk-container-id-1 div.sk-toggleable__content {max-height: 0;max-width: 0;overflow: hidden;text-align: left;background-color: #f0f8ff;}#sk-container-id-1 div.sk-toggleable__content pre {margin: 0.2em;color: black;border-radius: 0.25em;background-color: #f0f8ff;}#sk-container-id-1 input.sk-toggleable__control:checked~div.sk-toggleable__content {max-height: 200px;max-width: 100%;overflow: auto;}#sk-container-id-1 input.sk-toggleable__control:checked~label.sk-toggleable__label-arrow:before {content: \"▾\";}#sk-container-id-1 div.sk-estimator input.sk-toggleable__control:checked~label.sk-toggleable__label {background-color: #d4ebff;}#sk-container-id-1 div.sk-label input.sk-toggleable__control:checked~label.sk-toggleable__label {background-color: #d4ebff;}#sk-container-id-1 input.sk-hidden--visually {border: 0;clip: rect(1px 1px 1px 1px);clip: rect(1px, 1px, 1px, 1px);height: 1px;margin: -1px;overflow: hidden;padding: 0;position: absolute;width: 1px;}#sk-container-id-1 div.sk-estimator {font-family: monospace;background-color: #f0f8ff;border: 1px dotted black;border-radius: 0.25em;box-sizing: border-box;margin-bottom: 0.5em;}#sk-container-id-1 div.sk-estimator:hover {background-color: #d4ebff;}#sk-container-id-1 div.sk-parallel-item::after {content: \"\";width: 100%;border-bottom: 1px solid gray;flex-grow: 1;}#sk-container-id-1 div.sk-label:hover label.sk-toggleable__label {background-color: #d4ebff;}#sk-container-id-1 div.sk-serial::before {content: \"\";position: absolute;border-left: 1px solid gray;box-sizing: border-box;top: 0;bottom: 0;left: 50%;z-index: 0;}#sk-container-id-1 div.sk-serial {display: flex;flex-direction: column;align-items: center;background-color: white;padding-right: 0.2em;padding-left: 0.2em;position: relative;}#sk-container-id-1 div.sk-item {position: relative;z-index: 1;}#sk-container-id-1 div.sk-parallel {display: flex;align-items: stretch;justify-content: center;background-color: white;position: relative;}#sk-container-id-1 div.sk-item::before, #sk-container-id-1 div.sk-parallel-item::before {content: \"\";position: absolute;border-left: 1px solid gray;box-sizing: border-box;top: 0;bottom: 0;left: 50%;z-index: -1;}#sk-container-id-1 div.sk-parallel-item {display: flex;flex-direction: column;z-index: 1;position: relative;background-color: white;}#sk-container-id-1 div.sk-parallel-item:first-child::after {align-self: flex-end;width: 50%;}#sk-container-id-1 div.sk-parallel-item:last-child::after {align-self: flex-start;width: 50%;}#sk-container-id-1 div.sk-parallel-item:only-child::after {width: 0;}#sk-container-id-1 div.sk-dashed-wrapped {border: 1px dashed gray;margin: 0 0.4em 0.5em 0.4em;box-sizing: border-box;padding-bottom: 0.4em;background-color: white;}#sk-container-id-1 div.sk-label label {font-family: monospace;font-weight: bold;display: inline-block;line-height: 1.2em;}#sk-container-id-1 div.sk-label-container {text-align: center;}#sk-container-id-1 div.sk-container {/* jupyter's `normalize.less` sets `[hidden] { display: none; }` but bootstrap.min.css set `[hidden] { display: none !important; }` so we also need the `!important` here to be able to override the default hidden behavior on the sphinx rendered scikit-learn.org. See: https://github.com/scikit-learn/scikit-learn/issues/21755 */display: inline-block !important;position: relative;}#sk-container-id-1 div.sk-text-repr-fallback {display: none;}</style><div id=\"sk-container-id-1\" class=\"sk-top-container\"><div class=\"sk-text-repr-fallback\"><pre>LogisticRegression()</pre><b>In a Jupyter environment, please rerun this cell to show the HTML representation or trust the notebook. <br />On GitHub, the HTML representation is unable to render, please try loading this page with nbviewer.org.</b></div><div class=\"sk-container\" hidden><div class=\"sk-item\"><div class=\"sk-estimator sk-toggleable\"><input class=\"sk-toggleable__control sk-hidden--visually\" id=\"sk-estimator-id-1\" type=\"checkbox\" checked><label for=\"sk-estimator-id-1\" class=\"sk-toggleable__label sk-toggleable__label-arrow\">LogisticRegression</label><div class=\"sk-toggleable__content\"><pre>LogisticRegression()</pre></div></div></div></div></div>"
      ],
      "text/plain": [
       "LogisticRegression()"
      ]
     },
     "execution_count": 22,
     "metadata": {},
     "output_type": "execute_result"
    }
   ],
   "source": [
    "classifier = LogisticRegression()\n",
    "classifier.fit(X_train, Y_train)\n"
   ]
  },
  {
   "cell_type": "code",
   "execution_count": null,
   "metadata": {
    "colab": {
     "base_uri": "https://localhost:8080/",
     "height": 105
    },
    "colab_type": "code",
    "id": "BV-kq27ovUXB",
    "outputId": "8d514a4a-ca86-4095-a24f-cdcb26e9b25b"
   },
   "outputs": [],
   "source": []
  },
  {
   "cell_type": "markdown",
   "metadata": {
    "colab_type": "text",
    "id": "JH8gQTnvvi8u"
   },
   "source": [
    "9. What's the accuracy on the train set ? and on the test set ?\n",
    "\n",
    "Find a way of evaluating the scores without explicitely computing the model's predictions."
   ]
  },
  {
   "cell_type": "code",
   "execution_count": 23,
   "metadata": {},
   "outputs": [
    {
     "name": "stdout",
     "output_type": "stream",
     "text": [
      "accuracy on training set :  0.875\n"
     ]
    }
   ],
   "source": [
    "Y_train_pred = classifier.predict(X_train)\n",
    "print(\"accuracy on training set : \", accuracy_score(Y_train, Y_train_pred))\n",
    "\n"
   ]
  },
  {
   "cell_type": "code",
   "execution_count": 24,
   "metadata": {},
   "outputs": [
    {
     "name": "stdout",
     "output_type": "stream",
     "text": [
      "accuracy on training set :  0.95\n"
     ]
    }
   ],
   "source": [
    "Y_test_pred = classifier.predict(X_test)\n",
    "print(\"accuracy on training set : \", accuracy_score(Y_test, Y_test_pred))\n"
   ]
  },
  {
   "cell_type": "code",
   "execution_count": null,
   "metadata": {
    "colab": {
     "base_uri": "https://localhost:8080/",
     "height": 34
    },
    "colab_type": "code",
    "id": "ykqcvNrSvl5-",
    "outputId": "a0195cf2-6e0f-463c-c664-32ae1b0bf43e"
   },
   "outputs": [],
   "source": []
  },
  {
   "cell_type": "markdown",
   "metadata": {
    "colab_type": "text",
    "id": "2Ed3oR-HvsaR"
   },
   "source": [
    "10. What's the average score with a cross-validation using K=10, what's the score's standard deviation?"
   ]
  },
  {
   "cell_type": "code",
   "execution_count": 25,
   "metadata": {},
   "outputs": [
    {
     "name": "stdout",
     "output_type": "stream",
     "text": [
      "avg 0.875\n",
      "std 0.137\n"
     ]
    }
   ],
   "source": [
    "scores = cross_val_score(classifier,X_train, Y_train, cv=10)\n",
    "avg = scores.mean()\n",
    "std = scores.std()\n",
    "\n",
    "print(\"avg\", avg.round(3))\n",
    "print(\"std\", std.round(3))"
   ]
  },
  {
   "cell_type": "code",
   "execution_count": null,
   "metadata": {
    "colab": {
     "base_uri": "https://localhost:8080/",
     "height": 34
    },
    "colab_type": "code",
    "id": "KYR1Yk1Yvhuj",
    "outputId": "0e33437a-eea8-47f5-99ba-ba84981201b0"
   },
   "outputs": [],
   "source": []
  },
  {
   "cell_type": "markdown",
   "metadata": {},
   "source": [
    "11. Is the model underfitting/overfitting?"
   ]
  },
  {
   "cell_type": "markdown",
   "metadata": {
    "colab_type": "text",
    "id": "WDc2BPmkxQ4x"
   },
   "source": [
    "12. Create objects containing the model's predictions on the train/test sets, as well as the estimated probabilities"
   ]
  },
  {
   "cell_type": "code",
   "execution_count": 26,
   "metadata": {},
   "outputs": [
    {
     "name": "stdout",
     "output_type": "stream",
     "text": [
      "[0 0 1 0 1 0 1 1 0 1 0 1 1 1 1 1 1 1 0 1 1 0 0 0 0 0 1 0 1 1 1 1 0 1 1 0 0\n",
      " 1 0 0 0 1 1 1 0 0 1 1 1 0 1 1 0 0 1 1 1 0 1 0 1 1 1 1 1 0 0 1 1 1 0 1 0 1\n",
      " 1 1 1 1 1 1]\n",
      "[[0.90927094 0.09072906]\n",
      " [0.55116875 0.44883125]\n",
      " [0.01889995 0.98110005]\n",
      " [0.65851648 0.34148352]\n",
      " [0.03073989 0.96926011]\n",
      " [0.77996864 0.22003136]\n",
      " [0.47171552 0.52828448]\n",
      " [0.34752387 0.65247613]\n",
      " [0.95242695 0.04757305]\n",
      " [0.13355303 0.86644697]\n",
      " [0.94363062 0.05636938]\n",
      " [0.22861149 0.77138851]\n",
      " [0.00449092 0.99550908]\n",
      " [0.24313367 0.75686633]\n",
      " [0.00981306 0.99018694]\n",
      " [0.30083165 0.69916835]\n",
      " [0.03700576 0.96299424]\n",
      " [0.0227522  0.9772478 ]\n",
      " [0.91574697 0.08425303]\n",
      " [0.12326295 0.87673705]\n",
      " [0.36776694 0.63223306]\n",
      " [0.75125604 0.24874396]\n",
      " [0.84423008 0.15576992]\n",
      " [0.70685058 0.29314942]\n",
      " [0.70533985 0.29466015]\n",
      " [0.84240213 0.15759787]\n",
      " [0.00546644 0.99453356]\n",
      " [0.76794929 0.23205071]\n",
      " [0.06987808 0.93012192]\n",
      " [0.37513358 0.62486642]\n",
      " [0.19874289 0.80125711]\n",
      " [0.03947712 0.96052288]\n",
      " [0.90733186 0.09266814]\n",
      " [0.00914016 0.99085984]\n",
      " [0.2193581  0.7806419 ]\n",
      " [0.88481039 0.11518961]\n",
      " [0.80926909 0.19073091]\n",
      " [0.00829316 0.99170684]\n",
      " [0.5768508  0.4231492 ]\n",
      " [0.82193438 0.17806562]\n",
      " [0.88835886 0.11164114]\n",
      " [0.08486851 0.91513149]\n",
      " [0.19660212 0.80339788]\n",
      " [0.00321358 0.99678642]\n",
      " [0.99278324 0.00721676]\n",
      " [0.96356047 0.03643953]\n",
      " [0.4323845  0.5676155 ]\n",
      " [0.00159199 0.99840801]\n",
      " [0.26483452 0.73516548]\n",
      " [0.83002896 0.16997104]\n",
      " [0.00595766 0.99404234]\n",
      " [0.28063408 0.71936592]\n",
      " [0.78454871 0.21545129]\n",
      " [0.78537137 0.21462863]\n",
      " [0.01912531 0.98087469]\n",
      " [0.0062026  0.9937974 ]\n",
      " [0.42387247 0.57612753]\n",
      " [0.82152691 0.17847309]\n",
      " [0.43955358 0.56044642]\n",
      " [0.98975852 0.01024148]\n",
      " [0.25385525 0.74614475]\n",
      " [0.00663265 0.99336735]\n",
      " [0.05609917 0.94390083]\n",
      " [0.02240432 0.97759568]\n",
      " [0.24237176 0.75762824]\n",
      " [0.51967397 0.48032603]\n",
      " [0.99408902 0.00591098]\n",
      " [0.01487198 0.98512802]\n",
      " [0.01078992 0.98921008]\n",
      " [0.12451562 0.87548438]\n",
      " [0.92097425 0.07902575]\n",
      " [0.23618417 0.76381583]\n",
      " [0.57845965 0.42154035]\n",
      " [0.42277636 0.57722364]\n",
      " [0.0152074  0.9847926 ]\n",
      " [0.21188563 0.78811437]\n",
      " [0.09891761 0.90108239]\n",
      " [0.02304431 0.97695569]\n",
      " [0.02895996 0.97104004]\n",
      " [0.40898127 0.59101873]]\n"
     ]
    }
   ],
   "source": [
    "Y_train_pred = classifier.predict(X_train)\n",
    "print(Y_train_pred)\n",
    "\n",
    "Y_train_proba = classifier.predict_proba(X_train)\n",
    "print(Y_train_proba)\n"
   ]
  },
  {
   "cell_type": "code",
   "execution_count": 27,
   "metadata": {},
   "outputs": [
    {
     "name": "stdout",
     "output_type": "stream",
     "text": [
      "[1 1 1 1 0 0 0 1 0 0 0 1 0 1 0 1 0 1 1 1]\n",
      "[[0.01384498 0.98615502]\n",
      " [0.02553222 0.97446778]\n",
      " [0.03621767 0.96378233]\n",
      " [0.10850643 0.89149357]\n",
      " [0.69819491 0.30180509]\n",
      " [0.74123646 0.25876354]\n",
      " [0.69300444 0.30699556]\n",
      " [0.25613365 0.74386635]\n",
      " [0.64577471 0.35422529]\n",
      " [0.93753614 0.06246386]\n",
      " [0.9862518  0.0137482 ]\n",
      " [0.11838647 0.88161353]\n",
      " [0.92759191 0.07240809]\n",
      " [0.094744   0.905256  ]\n",
      " [0.99074432 0.00925568]\n",
      " [0.01175353 0.98824647]\n",
      " [0.51743553 0.48256447]\n",
      " [0.01816178 0.98183822]\n",
      " [0.07474831 0.92525169]\n",
      " [0.00252974 0.99747026]]\n"
     ]
    }
   ],
   "source": [
    "Y_test_pred = classifier.predict(X_test)\n",
    "print(Y_test_pred)\n",
    "\n",
    "Y_test_proba = classifier.predict_proba(X_test)\n",
    "print(Y_test_proba)"
   ]
  },
  {
   "cell_type": "code",
   "execution_count": null,
   "metadata": {},
   "outputs": [],
   "source": []
  },
  {
   "cell_type": "code",
   "execution_count": null,
   "metadata": {},
   "outputs": [],
   "source": []
  },
  {
   "cell_type": "markdown",
   "metadata": {
    "colab_type": "text",
    "id": "vzOqG02CxZgD"
   },
   "source": [
    "13. Display the confusion matrix derived from the predictions performed by your model on the training data, do the same on your test data. What do you think of your model's performance, do you think it would generalize well on unknown data?"
   ]
  },
  {
   "cell_type": "code",
   "execution_count": 28,
   "metadata": {},
   "outputs": [
    {
     "data": {
      "image/png": "[encoded data removed]",
      "text/plain": [
       "<Figure size 640x480 with 2 Axes>"
      ]
     },
     "metadata": {},
     "output_type": "display_data"
    }
   ],
   "source": [
    "_, ax = plt.subplots()  \n",
    "ax.set(\n",
    "    title=\"Confusion Matrix on Train set\"\n",
    ")  \n",
    "ConfusionMatrixDisplay.from_estimator(\n",
    "    classifier, X_train, Y_train, ax=ax\n",
    ")  \n",
    "plt.show()\n",
    "\n"
   ]
  },
  {
   "cell_type": "code",
   "execution_count": 29,
   "metadata": {},
   "outputs": [
    {
     "data": {
      "image/png": "[encoded data removed]",
      "text/plain": [
       "<Figure size 640x480 with 2 Axes>"
      ]
     },
     "metadata": {},
     "output_type": "display_data"
    }
   ],
   "source": [
    "_, ax = plt.subplots()  \n",
    "ax.set(\n",
    "    title=\"Confusion Matrix on Test set\"\n",
    ")  \n",
    "ConfusionMatrixDisplay.from_estimator(\n",
    "    classifier, X_test, Y_test, ax=ax\n",
    ")  \n",
    "plt.show()"
   ]
  },
  {
   "cell_type": "code",
   "execution_count": null,
   "metadata": {
    "colab": {
     "base_uri": "https://localhost:8080/",
     "height": 282
    },
    "colab_type": "code",
    "id": "Y9Lph6c_BXJv",
    "outputId": "b399861c-fa8b-48b1-eb98-b616d80f0e4f"
   },
   "outputs": [],
   "source": []
  },
  {
   "cell_type": "markdown",
   "metadata": {},
   "source": [
    "**From the questions above, we can deduce that the generalized performances are very good ! Indeed, the test accuracy is comparable to the train accuracy and we can see in the confusion matrix that the prediction errors are very rare 🥳🥳**"
   ]
  },
  {
   "cell_type": "markdown",
   "metadata": {
    "colab_type": "text",
    "id": "a-baBi4gxo-K"
   },
   "source": [
    "14. Produce the ROC curve for the train set and the test set"
   ]
  },
  {
   "cell_type": "code",
   "execution_count": 30,
   "metadata": {},
   "outputs": [
    {
     "data": {
      "image/png": "[encoded data removed]",
      "text/plain": [
       "<Figure size 640x480 with 1 Axes>"
      ]
     },
     "metadata": {},
     "output_type": "display_data"
    }
   ],
   "source": [
    "_, ax = plt.subplots()  \n",
    "ax.set(\n",
    "    title=\"ROC Curve on Train set\"\n",
    ")  \n",
    "RocCurveDisplay.from_estimator(\n",
    "    classifier, X_train, Y_train, ax=ax\n",
    ")  \n",
    "plt.show()\n",
    "\n"
   ]
  },
  {
   "cell_type": "code",
   "execution_count": null,
   "metadata": {
    "colab": {
     "base_uri": "https://localhost:8080/",
     "height": 295
    },
    "colab_type": "code",
    "id": "aRS1KP0VxkjR",
    "outputId": "87b216d0-0bf3-4b5b-8c2d-7d25047a6a7d"
   },
   "outputs": [],
   "source": []
  },
  {
   "cell_type": "code",
   "execution_count": 31,
   "metadata": {},
   "outputs": [
    {
     "data": {
      "image/png": "[encoded data removed]",
      "text/plain": [
       "<Figure size 640x480 with 1 Axes>"
      ]
     },
     "metadata": {},
     "output_type": "display_data"
    }
   ],
   "source": [
    "_, ax = plt.subplots()  \n",
    "ax.set(\n",
    "    title=\"ROC Curve on Test set\"\n",
    ")  \n",
    "RocCurveDisplay.from_estimator(\n",
    "    classifier, X_test, Y_test, ax=ax\n",
    ")  \n",
    "plt.show()"
   ]
  },
  {
   "cell_type": "markdown",
   "metadata": {},
   "source": [
    "**The area under the curves is quite close to 1. This means that the model is robust as it does not depend on the choice of the threshold used in the logistic regression.**"
   ]
  },
  {
   "cell_type": "markdown",
   "metadata": {},
   "source": [
    "15. Create a DataFrame named predictions_df_train that contains the following values on train set:\n",
    "* explanatory variables \"Col_1\" and \"Col_2\"\n",
    "* the target variable Y\n",
    "* the predictions Y_pred \n",
    "* the estimated probabilites from the classifier. \n",
    "\n",
    "Sort the values according to the probabilities (in ascending order)."
   ]
  },
  {
   "cell_type": "code",
   "execution_count": 35,
   "metadata": {},
   "outputs": [
    {
     "name": "stdout",
     "output_type": "stream",
     "text": [
      "<class 'numpy.ndarray'> 2\n",
      "<class 'pandas.core.series.Series'> 1\n",
      "<class 'numpy.ndarray'> 1\n",
      "<class 'numpy.ndarray'> 2\n",
      "<class 'pandas.core.series.Series'> 1\n"
     ]
    }
   ],
   "source": [
    "print(type(X_train), X_train.ndim)\n",
    "print(type(Y_train), Y_train.ndim)\n",
    "print(type(Y_train_pred), Y_train_pred.ndim)\n",
    "print(type(Y_train_proba), Y_train_proba.ndim)\n",
    "print(type(Y_train), Y_train.ndim)"
   ]
  },
  {
   "cell_type": "code",
   "execution_count": 32,
   "metadata": {
    "colab": {},
    "colab_type": "code",
    "id": "M4JrL7FUcIwF"
   },
   "outputs": [
    {
     "data": {
      "text/html": [
       "<div>\n",
       "<style scoped>\n",
       "    .dataframe tbody tr th:only-of-type {\n",
       "        vertical-align: middle;\n",
       "    }\n",
       "\n",
       "    .dataframe tbody tr th {\n",
       "        vertical-align: top;\n",
       "    }\n",
       "\n",
       "    .dataframe thead th {\n",
       "        text-align: right;\n",
       "    }\n",
       "</style>\n",
       "<table border=\"1\" class=\"dataframe\">\n",
       "  <thead>\n",
       "    <tr style=\"text-align: right;\">\n",
       "      <th></th>\n",
       "      <th>Col_1</th>\n",
       "      <th>Col_2</th>\n",
       "      <th>Y</th>\n",
       "      <th>Y_pred</th>\n",
       "      <th>Proba</th>\n",
       "    </tr>\n",
       "  </thead>\n",
       "  <tbody>\n",
       "    <tr>\n",
       "      <th>66</th>\n",
       "      <td>-1.771519</td>\n",
       "      <td>-1.210111</td>\n",
       "      <td>0</td>\n",
       "      <td>0</td>\n",
       "      <td>0.005911</td>\n",
       "    </tr>\n",
       "    <tr>\n",
       "      <th>44</th>\n",
       "      <td>-1.649222</td>\n",
       "      <td>-1.241779</td>\n",
       "      <td>0</td>\n",
       "      <td>0</td>\n",
       "      <td>0.007217</td>\n",
       "    </tr>\n",
       "    <tr>\n",
       "      <th>59</th>\n",
       "      <td>-1.782960</td>\n",
       "      <td>-0.903145</td>\n",
       "      <td>0</td>\n",
       "      <td>0</td>\n",
       "      <td>0.010241</td>\n",
       "    </tr>\n",
       "    <tr>\n",
       "      <th>45</th>\n",
       "      <td>-0.506668</td>\n",
       "      <td>-1.658564</td>\n",
       "      <td>0</td>\n",
       "      <td>0</td>\n",
       "      <td>0.036440</td>\n",
       "    </tr>\n",
       "    <tr>\n",
       "      <th>8</th>\n",
       "      <td>-1.558775</td>\n",
       "      <td>-0.321138</td>\n",
       "      <td>0</td>\n",
       "      <td>0</td>\n",
       "      <td>0.047573</td>\n",
       "    </tr>\n",
       "  </tbody>\n",
       "</table>\n",
       "</div>"
      ],
      "text/plain": [
       "       Col_1     Col_2  Y  Y_pred     Proba\n",
       "66 -1.771519 -1.210111  0       0  0.005911\n",
       "44 -1.649222 -1.241779  0       0  0.007217\n",
       "59 -1.782960 -0.903145  0       0  0.010241\n",
       "45 -0.506668 -1.658564  0       0  0.036440\n",
       "8  -1.558775 -0.321138  0       0  0.047573"
      ]
     },
     "execution_count": 32,
     "metadata": {},
     "output_type": "execute_result"
    }
   ],
   "source": [
    "# prediction_df_train = df[[\"Col1\", \"Col2\"]]\n",
    "# prediction_df_train = pd.DataFrame[X_train, [\"Col1\", \"Col2\"]]\n",
    "# prediction_df_train[\"Y\"] = Y\n",
    "# prediction_df_train[\"Y_pred\"] = pd.DataFrame(Y_train_pred)\n",
    "\n",
    "# On a 2 colonnes avec les probas que ce soit 0 ou 1 dans proba\n",
    "# prediction_df_train[\"Proba\"] = pd.DataFrame(Y_train_proba[:,1])\n",
    "\n",
    "\n",
    "# prediction_df_train.sort_values(by=[\"Proba\"])\n",
    "\n",
    "# prediction_df_train.head()\n",
    "\n",
    "\n",
    "predictions_df_train = pd.DataFrame(X_train, columns = ['Col_1', 'Col_2'])\n",
    "predictions_df_train[\"Y\"] = Y_train.tolist()\n",
    "predictions_df_train[\"Y_pred\"] = Y_train_pred.tolist()\n",
    "predictions_df_train[\"Proba\"] = Y_train_proba[:,1]\n",
    "predictions_df_train = predictions_df_train.sort_values(by=\"Proba\")\n",
    "predictions_df_train.head()\n",
    "\n",
    "\n"
   ]
  },
  {
   "cell_type": "markdown",
   "metadata": {},
   "source": [
    "16. Plot the probabilities as a function of the variables \"Col_1\" and \"Col_2\". Change the marker color according to the values of \"Y_pred\"."
   ]
  },
  {
   "cell_type": "code",
   "execution_count": 36,
   "metadata": {},
   "outputs": [
    {
     "data": {
      "application/vnd.plotly.v1+json": {
       "config": {
        "plotlyServerURL": "https://plot.ly"
       },
       "data": [
        {
         "hovertemplate": "Col_1=%{x}<br>Col_2=%{y}<br>Proba=%{z}<br>Y_pred=%{marker.color}<extra></extra>",
         "legendgroup": "",
         "marker": {
          "color": [
           0,
           0,
           0,
           0,
           0,
           0,
           0,
           0,
           0,
           0,
           0,
           0,
           0,
           0,
           0,
           0,
           0,
           0,
           0,
           0,
           0,
           0,
           0,
           0,
           0,
           0,
           0,
           0,
           0,
           0,
           1,
           1,
           1,
           1,
           1,
           1,
           1,
           1,
           1,
           1,
           1,
           1,
           1,
           1,
           1,
           1,
           1,
           1,
           1,
           1,
           1,
           1,
           1,
           1,
           1,
           1,
           1,
           1,
           1,
           1,
           1,
           1,
           1,
           1,
           1,
           1,
           1,
           1,
           1,
           1,
           1,
           1,
           1,
           1,
           1,
           1,
           1,
           1,
           1,
           1
          ],
          "coloraxis": "coloraxis",
          "symbol": "circle"
         },
         "mode": "markers",
         "name": "",
         "scene": "scene",
         "showlegend": false,
         "type": "scatter3d",
         "x": [
          -1.7715194337226732,
          -1.6492222006553112,
          -1.782959791822621,
          -0.5066675412795493,
          -1.5587749432456306,
          -0.46792915842450145,
          -0.7550335684973022,
          -0.7674982324580262,
          -0.8284396049297036,
          -1.0287081274678374,
          -1.3448513749138948,
          -0.25699515293546865,
          0.473844848548403,
          -0.5491910860340241,
          -1.49236350331485,
          0.049502585205967155,
          -1.5758873543550003,
          -0.802630260277513,
          -1.049542581759859,
          -1.2720043399182104,
          0.09022276236467622,
          -1.5537976670063096,
          -0.18798553861017098,
          -0.16828293025852956,
          -1.3070728973095,
          -0.41848616504220504,
          -1.1797056480236165,
          -0.5138033762948819,
          -0.679198206030736,
          0.17547092655772217,
          0.8430823956937779,
          0.5724972824511995,
          -0.7588804410633169,
          0.7337145475720204,
          0.8359491411096688,
          -1.656533203700434,
          0.05883125198076432,
          -1.1703557874140391,
          0.9467018192698423,
          -1.5893484069226258,
          -0.16585628994947418,
          0.8993287182493858,
          1.3825304553752704,
          -0.2106222716583135,
          0.08757362015125954,
          -0.33805065822620967,
          -0.9192188604731492,
          1.2536290809398098,
          1.5204425946113764,
          1.2184424084732273,
          -1.2609269932556884,
          0.9200735710025871,
          -0.07708446409259133,
          1.4688831255141406,
          0.4354422809581022,
          -0.2706980260591904,
          0.5832530351733632,
          0.31233644892051315,
          0.14526852635262077,
          0.7213969421972766,
          1.2099567842023395,
          -0.2243084780556269,
          0.8399849378102746,
          0.4476915238501405,
          1.171659021902549,
          1.4492473245944362,
          0.4930195036541793,
          0.2553600186190338,
          0.528320024802317,
          0.19025252111395055,
          1.6100062073207857,
          0.3399489431311337,
          1.6938114936210298,
          0.7425789074773129,
          1.4317251270078757,
          0.7382022323368491,
          1.7195573329788567,
          0.6556632903705732,
          1.2487011342113201,
          1.6163298677806512
         ],
         "y": [
          -1.2101113573883253,
          -1.241779111619144,
          -0.9031453720964194,
          -1.6585644522273102,
          -0.3211375706800197,
          -1.459732360607809,
          -0.9428583772517376,
          -0.8917477743901226,
          -0.779763822647819,
          -0.5409370474302894,
          -0.07335829109315324,
          -1.284810751185882,
          -1.9261744062154684,
          -0.7619494825234606,
          0.3525879847314398,
          -1.3611114208962702,
          0.478409129563486,
          -0.3527819982079551,
          0.004994600412153307,
          0.2591482926855926,
          -1.267031168466665,
          0.6285511627294148,
          -0.8674204801054888,
          -0.7701863079733036,
          0.5214583794274703,
          -0.36865664543224874,
          0.6727318854533245,
          -0.07679230271356469,
          0.16568500994392332,
          -0.7335809319221963,
          -1.3866386695098565,
          -1.0118073761933768,
          0.5092318744772749,
          -1.1601911214868827,
          -1.2734183168946929,
          1.5753040673825651,
          -0.28908047177575147,
          1.1176709048176783,
          -1.2295919917273828,
          1.751515995374076,
          0.19378494988791184,
          -0.9684762836028205,
          -1.4845570676048934,
          0.3475072017523818,
          0.012497306476131873,
          0.5118494886509373,
          1.1915851545377127,
          -1.2372845710123934,
          -1.5155550653620924,
          -1.1312800270394021,
          1.6796361877197148,
          -0.5413855690203909,
          0.6289280140553093,
          -1.1131775141691795,
          0.18678758713916946,
          1.0748259228827926,
          0.22092294846460336,
          0.6516555631597133,
          1.0363475396500381,
          0.4205173570354161,
          -0.030061524934319597,
          1.624483383166687,
          0.5454399919431271,
          0.9959876343623258,
          0.18566798476219076,
          -0.0424762076311377,
          1.0452704696020567,
          1.4313877245457989,
          1.134733434776359,
          1.6895221966873175,
          0.1349081537567728,
          1.6091925069216082,
          0.13026629742115145,
          1.325420450225132,
          0.5819195214694357,
          1.3876927247641426,
          0.3238766821977664,
          1.6318101542196004,
          1.1394862040955525,
          1.0974131877120061
         ],
         "z": [
          0.005910982910683746,
          0.007216763811595642,
          0.01024148352975146,
          0.036439530412681706,
          0.04757304696733481,
          0.05636938298311258,
          0.07902575156082864,
          0.08425303493283133,
          0.09072906382165015,
          0.0926681430876003,
          0.11164113533545444,
          0.11518961430008233,
          0.1557699213775399,
          0.15759787407552212,
          0.16997103819492257,
          0.17806561824421796,
          0.17847309394941108,
          0.19073091226864416,
          0.21462863030495055,
          0.21545129398742058,
          0.22003135856145487,
          0.23205071124079413,
          0.2487439587693127,
          0.29314942288310564,
          0.29466015196657724,
          0.3414835212409806,
          0.4215403502403672,
          0.423149200768537,
          0.4488312509249362,
          0.4803260318769536,
          0.5282844773874766,
          0.5604464212825572,
          0.5676155021524325,
          0.576127527810983,
          0.5772236403158953,
          0.5910187278758512,
          0.6248664158866322,
          0.6322330639927161,
          0.6524761327061747,
          0.6991683521498353,
          0.7193659205958007,
          0.7351654849162557,
          0.7461447473032397,
          0.7568663302364749,
          0.7576282413155309,
          0.7638158279735787,
          0.7713885141895788,
          0.7806419013509047,
          0.7881143736300356,
          0.801257114777,
          0.8033978807258819,
          0.8664469725151077,
          0.8754843765453754,
          0.8767370509644197,
          0.9010823877146852,
          0.9151314880875464,
          0.9301219195921142,
          0.9439008332163619,
          0.9605228822103006,
          0.9629942385732579,
          0.9692601088068113,
          0.9710400422190454,
          0.9769556877609412,
          0.977247800865769,
          0.9775956811299972,
          0.9808746895244,
          0.981100048546124,
          0.9847926005136344,
          0.9851280183136447,
          0.9892100837177633,
          0.9901869443788816,
          0.9908598400456332,
          0.9917068385777742,
          0.9933673517950233,
          0.9937974019740708,
          0.9940423434264152,
          0.994533564959824,
          0.995509081689229,
          0.9967864153393617,
          0.9984080082764073
         ]
        }
       ],
       "layout": {
        "coloraxis": {
         "colorbar": {
          "title": {
           "text": "Y_pred"
          }
         },
         "colorscale": [
          [
           0,
           "#0d0887"
          ],
          [
           0.1111111111111111,
           "#46039f"
          ],
          [
           0.2222222222222222,
           "#7201a8"
          ],
          [
           0.3333333333333333,
           "#9c179e"
          ],
          [
           0.4444444444444444,
           "#bd3786"
          ],
          [
           0.5555555555555556,
           "#d8576b"
          ],
          [
           0.6666666666666666,
           "#ed7953"
          ],
          [
           0.7777777777777778,
           "#fb9f3a"
          ],
          [
           0.8888888888888888,
           "#fdca26"
          ],
          [
           1,
           "#f0f921"
          ]
         ]
        },
        "legend": {
         "tracegroupgap": 0
        },
        "margin": {
         "t": 60
        },
        "scene": {
         "domain": {
          "x": [
           0,
           1
          ],
          "y": [
           0,
           1
          ]
         },
         "xaxis": {
          "title": {
           "text": "Col_1"
          }
         },
         "yaxis": {
          "title": {
           "text": "Col_2"
          }
         },
         "zaxis": {
          "title": {
           "text": "Proba"
          }
         }
        },
        "template": {
         "data": {
          "bar": [
           {
            "error_x": {
             "color": "#2a3f5f"
            },
            "error_y": {
             "color": "#2a3f5f"
            },
            "marker": {
             "line": {
              "color": "#E5ECF6",
              "width": 0.5
             },
             "pattern": {
              "fillmode": "overlay",
              "size": 10,
              "solidity": 0.2
             }
            },
            "type": "bar"
           }
          ],
          "barpolar": [
           {
            "marker": {
             "line": {
              "color": "#E5ECF6",
              "width": 0.5
             },
             "pattern": {
              "fillmode": "overlay",
              "size": 10,
              "solidity": 0.2
             }
            },
            "type": "barpolar"
           }
          ],
          "carpet": [
           {
            "aaxis": {
             "endlinecolor": "#2a3f5f",
             "gridcolor": "white",
             "linecolor": "white",
             "minorgridcolor": "white",
             "startlinecolor": "#2a3f5f"
            },
            "baxis": {
             "endlinecolor": "#2a3f5f",
             "gridcolor": "white",
             "linecolor": "white",
             "minorgridcolor": "white",
             "startlinecolor": "#2a3f5f"
            },
            "type": "carpet"
           }
          ],
          "choropleth": [
           {
            "colorbar": {
             "outlinewidth": 0,
             "ticks": ""
            },
            "type": "choropleth"
           }
          ],
          "contour": [
           {
            "colorbar": {
             "outlinewidth": 0,
             "ticks": ""
            },
            "colorscale": [
             [
              0,
              "#0d0887"
             ],
             [
              0.1111111111111111,
              "#46039f"
             ],
             [
              0.2222222222222222,
              "#7201a8"
             ],
             [
              0.3333333333333333,
              "#9c179e"
             ],
             [
              0.4444444444444444,
              "#bd3786"
             ],
             [
              0.5555555555555556,
              "#d8576b"
             ],
             [
              0.6666666666666666,
              "#ed7953"
             ],
             [
              0.7777777777777778,
              "#fb9f3a"
             ],
             [
              0.8888888888888888,
              "#fdca26"
             ],
             [
              1,
              "#f0f921"
             ]
            ],
            "type": "contour"
           }
          ],
          "contourcarpet": [
           {
            "colorbar": {
             "outlinewidth": 0,
             "ticks": ""
            },
            "type": "contourcarpet"
           }
          ],
          "heatmap": [
           {
            "colorbar": {
             "outlinewidth": 0,
             "ticks": ""
            },
            "colorscale": [
             [
              0,
              "#0d0887"
             ],
             [
              0.1111111111111111,
              "#46039f"
             ],
             [
              0.2222222222222222,
              "#7201a8"
             ],
             [
              0.3333333333333333,
              "#9c179e"
             ],
             [
              0.4444444444444444,
              "#bd3786"
             ],
             [
              0.5555555555555556,
              "#d8576b"
             ],
             [
              0.6666666666666666,
              "#ed7953"
             ],
             [
              0.7777777777777778,
              "#fb9f3a"
             ],
             [
              0.8888888888888888,
              "#fdca26"
             ],
             [
              1,
              "#f0f921"
             ]
            ],
            "type": "heatmap"
           }
          ],
          "heatmapgl": [
           {
            "colorbar": {
             "outlinewidth": 0,
             "ticks": ""
            },
            "colorscale": [
             [
              0,
              "#0d0887"
             ],
             [
              0.1111111111111111,
              "#46039f"
             ],
             [
              0.2222222222222222,
              "#7201a8"
             ],
             [
              0.3333333333333333,
              "#9c179e"
             ],
             [
              0.4444444444444444,
              "#bd3786"
             ],
             [
              0.5555555555555556,
              "#d8576b"
             ],
             [
              0.6666666666666666,
              "#ed7953"
             ],
             [
              0.7777777777777778,
              "#fb9f3a"
             ],
             [
              0.8888888888888888,
              "#fdca26"
             ],
             [
              1,
              "#f0f921"
             ]
            ],
            "type": "heatmapgl"
           }
          ],
          "histogram": [
           {
            "marker": {
             "pattern": {
              "fillmode": "overlay",
              "size": 10,
              "solidity": 0.2
             }
            },
            "type": "histogram"
           }
          ],
          "histogram2d": [
           {
            "colorbar": {
             "outlinewidth": 0,
             "ticks": ""
            },
            "colorscale": [
             [
              0,
              "#0d0887"
             ],
             [
              0.1111111111111111,
              "#46039f"
             ],
             [
              0.2222222222222222,
              "#7201a8"
             ],
             [
              0.3333333333333333,
              "#9c179e"
             ],
             [
              0.4444444444444444,
              "#bd3786"
             ],
             [
              0.5555555555555556,
              "#d8576b"
             ],
             [
              0.6666666666666666,
              "#ed7953"
             ],
             [
              0.7777777777777778,
              "#fb9f3a"
             ],
             [
              0.8888888888888888,
              "#fdca26"
             ],
             [
              1,
              "#f0f921"
             ]
            ],
            "type": "histogram2d"
           }
          ],
          "histogram2dcontour": [
           {
            "colorbar": {
             "outlinewidth": 0,
             "ticks": ""
            },
            "colorscale": [
             [
              0,
              "#0d0887"
             ],
             [
              0.1111111111111111,
              "#46039f"
             ],
             [
              0.2222222222222222,
              "#7201a8"
             ],
             [
              0.3333333333333333,
              "#9c179e"
             ],
             [
              0.4444444444444444,
              "#bd3786"
             ],
             [
              0.5555555555555556,
              "#d8576b"
             ],
             [
              0.6666666666666666,
              "#ed7953"
             ],
             [
              0.7777777777777778,
              "#fb9f3a"
             ],
             [
              0.8888888888888888,
              "#fdca26"
             ],
             [
              1,
              "#f0f921"
             ]
            ],
            "type": "histogram2dcontour"
           }
          ],
          "mesh3d": [
           {
            "colorbar": {
             "outlinewidth": 0,
             "ticks": ""
            },
            "type": "mesh3d"
           }
          ],
          "parcoords": [
           {
            "line": {
             "colorbar": {
              "outlinewidth": 0,
              "ticks": ""
             }
            },
            "type": "parcoords"
           }
          ],
          "pie": [
           {
            "automargin": true,
            "type": "pie"
           }
          ],
          "scatter": [
           {
            "fillpattern": {
             "fillmode": "overlay",
             "size": 10,
             "solidity": 0.2
            },
            "type": "scatter"
           }
          ],
          "scatter3d": [
           {
            "line": {
             "colorbar": {
              "outlinewidth": 0,
              "ticks": ""
             }
            },
            "marker": {
             "colorbar": {
              "outlinewidth": 0,
              "ticks": ""
             }
            },
            "type": "scatter3d"
           }
          ],
          "scattercarpet": [
           {
            "marker": {
             "colorbar": {
              "outlinewidth": 0,
              "ticks": ""
             }
            },
            "type": "scattercarpet"
           }
          ],
          "scattergeo": [
           {
            "marker": {
             "colorbar": {
              "outlinewidth": 0,
              "ticks": ""
             }
            },
            "type": "scattergeo"
           }
          ],
          "scattergl": [
           {
            "marker": {
             "colorbar": {
              "outlinewidth": 0,
              "ticks": ""
             }
            },
            "type": "scattergl"
           }
          ],
          "scattermapbox": [
           {
            "marker": {
             "colorbar": {
              "outlinewidth": 0,
              "ticks": ""
             }
            },
            "type": "scattermapbox"
           }
          ],
          "scatterpolar": [
           {
            "marker": {
             "colorbar": {
              "outlinewidth": 0,
              "ticks": ""
             }
            },
            "type": "scatterpolar"
           }
          ],
          "scatterpolargl": [
           {
            "marker": {
             "colorbar": {
              "outlinewidth": 0,
              "ticks": ""
             }
            },
            "type": "scatterpolargl"
           }
          ],
          "scatterternary": [
           {
            "marker": {
             "colorbar": {
              "outlinewidth": 0,
              "ticks": ""
             }
            },
            "type": "scatterternary"
           }
          ],
          "surface": [
           {
            "colorbar": {
             "outlinewidth": 0,
             "ticks": ""
            },
            "colorscale": [
             [
              0,
              "#0d0887"
             ],
             [
              0.1111111111111111,
              "#46039f"
             ],
             [
              0.2222222222222222,
              "#7201a8"
             ],
             [
              0.3333333333333333,
              "#9c179e"
             ],
             [
              0.4444444444444444,
              "#bd3786"
             ],
             [
              0.5555555555555556,
              "#d8576b"
             ],
             [
              0.6666666666666666,
              "#ed7953"
             ],
             [
              0.7777777777777778,
              "#fb9f3a"
             ],
             [
              0.8888888888888888,
              "#fdca26"
             ],
             [
              1,
              "#f0f921"
             ]
            ],
            "type": "surface"
           }
          ],
          "table": [
           {
            "cells": {
             "fill": {
              "color": "#EBF0F8"
             },
             "line": {
              "color": "white"
             }
            },
            "header": {
             "fill": {
              "color": "#C8D4E3"
             },
             "line": {
              "color": "white"
             }
            },
            "type": "table"
           }
          ]
         },
         "layout": {
          "annotationdefaults": {
           "arrowcolor": "#2a3f5f",
           "arrowhead": 0,
           "arrowwidth": 1
          },
          "autotypenumbers": "strict",
          "coloraxis": {
           "colorbar": {
            "outlinewidth": 0,
            "ticks": ""
           }
          },
          "colorscale": {
           "diverging": [
            [
             0,
             "#8e0152"
            ],
            [
             0.1,
             "#c51b7d"
            ],
            [
             0.2,
             "#de77ae"
            ],
            [
             0.3,
             "#f1b6da"
            ],
            [
             0.4,
             "#fde0ef"
            ],
            [
             0.5,
             "#f7f7f7"
            ],
            [
             0.6,
             "#e6f5d0"
            ],
            [
             0.7,
             "#b8e186"
            ],
            [
             0.8,
             "#7fbc41"
            ],
            [
             0.9,
             "#4d9221"
            ],
            [
             1,
             "#276419"
            ]
           ],
           "sequential": [
            [
             0,
             "#0d0887"
            ],
            [
             0.1111111111111111,
             "#46039f"
            ],
            [
             0.2222222222222222,
             "#7201a8"
            ],
            [
             0.3333333333333333,
             "#9c179e"
            ],
            [
             0.4444444444444444,
             "#bd3786"
            ],
            [
             0.5555555555555556,
             "#d8576b"
            ],
            [
             0.6666666666666666,
             "#ed7953"
            ],
            [
             0.7777777777777778,
             "#fb9f3a"
            ],
            [
             0.8888888888888888,
             "#fdca26"
            ],
            [
             1,
             "#f0f921"
            ]
           ],
           "sequentialminus": [
            [
             0,
             "#0d0887"
            ],
            [
             0.1111111111111111,
             "#46039f"
            ],
            [
             0.2222222222222222,
             "#7201a8"
            ],
            [
             0.3333333333333333,
             "#9c179e"
            ],
            [
             0.4444444444444444,
             "#bd3786"
            ],
            [
             0.5555555555555556,
             "#d8576b"
            ],
            [
             0.6666666666666666,
             "#ed7953"
            ],
            [
             0.7777777777777778,
             "#fb9f3a"
            ],
            [
             0.8888888888888888,
             "#fdca26"
            ],
            [
             1,
             "#f0f921"
            ]
           ]
          },
          "colorway": [
           "#636efa",
           "#EF553B",
           "#00cc96",
           "#ab63fa",
           "#FFA15A",
           "#19d3f3",
           "#FF6692",
           "#B6E880",
           "#FF97FF",
           "#FECB52"
          ],
          "font": {
           "color": "#2a3f5f"
          },
          "geo": {
           "bgcolor": "white",
           "lakecolor": "white",
           "landcolor": "#E5ECF6",
           "showlakes": true,
           "showland": true,
           "subunitcolor": "white"
          },
          "hoverlabel": {
           "align": "left"
          },
          "hovermode": "closest",
          "mapbox": {
           "style": "light"
          },
          "paper_bgcolor": "white",
          "plot_bgcolor": "#E5ECF6",
          "polar": {
           "angularaxis": {
            "gridcolor": "white",
            "linecolor": "white",
            "ticks": ""
           },
           "bgcolor": "#E5ECF6",
           "radialaxis": {
            "gridcolor": "white",
            "linecolor": "white",
            "ticks": ""
           }
          },
          "scene": {
           "xaxis": {
            "backgroundcolor": "#E5ECF6",
            "gridcolor": "white",
            "gridwidth": 2,
            "linecolor": "white",
            "showbackground": true,
            "ticks": "",
            "zerolinecolor": "white"
           },
           "yaxis": {
            "backgroundcolor": "#E5ECF6",
            "gridcolor": "white",
            "gridwidth": 2,
            "linecolor": "white",
            "showbackground": true,
            "ticks": "",
            "zerolinecolor": "white"
           },
           "zaxis": {
            "backgroundcolor": "#E5ECF6",
            "gridcolor": "white",
            "gridwidth": 2,
            "linecolor": "white",
            "showbackground": true,
            "ticks": "",
            "zerolinecolor": "white"
           }
          },
          "shapedefaults": {
           "line": {
            "color": "#2a3f5f"
           }
          },
          "ternary": {
           "aaxis": {
            "gridcolor": "white",
            "linecolor": "white",
            "ticks": ""
           },
           "baxis": {
            "gridcolor": "white",
            "linecolor": "white",
            "ticks": ""
           },
           "bgcolor": "#E5ECF6",
           "caxis": {
            "gridcolor": "white",
            "linecolor": "white",
            "ticks": ""
           }
          },
          "title": {
           "x": 0.05
          },
          "xaxis": {
           "automargin": true,
           "gridcolor": "white",
           "linecolor": "white",
           "ticks": "",
           "title": {
            "standoff": 15
           },
           "zerolinecolor": "white",
           "zerolinewidth": 2
          },
          "yaxis": {
           "automargin": true,
           "gridcolor": "white",
           "linecolor": "white",
           "ticks": "",
           "title": {
            "standoff": 15
           },
           "zerolinecolor": "white",
           "zerolinewidth": 2
          }
         }
        }
       }
      }
     },
     "metadata": {},
     "output_type": "display_data"
    }
   ],
   "source": [
    "\n",
    "fig = px.scatter_3d(predictions_df_train, x = 'Col_1', y = 'Col_2', z=\"Proba\", color=\"Y_pred\")\n",
    "fig.show()"
   ]
  },
  {
   "cell_type": "code",
   "execution_count": null,
   "metadata": {},
   "outputs": [
    {
     "data": {
      "image/svg+xml": [
       "<svg class=\"main-svg\" xmlns=\"http://www.w3.org/2000/svg\" xmlns:xlink=\"http://www.w3.org/1999/xlink\" width=\"700\" height=\"500\" style=\"\" viewBox=\"0 0 700 500\"><rect x=\"0\" y=\"0\" width=\"700\" height=\"500\" style=\"fill: rgb(255, 255, 255); fill-opacity: 1;\"/><defs id=\"defs-2cc05b\"><g class=\"clips\"/><g class=\"gradients\"><linearGradient x1=\"0\" x2=\"0\" y1=\"1\" y2=\"0\" id=\"g2cc05b-cbcoloraxis\"><stop offset=\"0%\" stop-color=\"rgb(68, 1, 84)\" stop-opacity=\"1\"/><stop offset=\"11.111111%\" stop-color=\"rgb(72, 40, 120)\" stop-opacity=\"1\"/><stop offset=\"22.222222%\" stop-color=\"rgb(62, 73, 137)\" stop-opacity=\"1\"/><stop offset=\"33.333333%\" stop-color=\"rgb(49, 104, 142)\" stop-opacity=\"1\"/><stop offset=\"44.444444%\" stop-color=\"rgb(38, 130, 142)\" stop-opacity=\"1\"/><stop offset=\"55.555556%\" stop-color=\"rgb(31, 158, 137)\" stop-opacity=\"1\"/><stop offset=\"66.666667%\" stop-color=\"rgb(53, 183, 121)\" stop-opacity=\"1\"/><stop offset=\"77.777778%\" stop-color=\"rgb(110, 206, 88)\" stop-opacity=\"1\"/><stop offset=\"88.888889%\" stop-color=\"rgb(181, 222, 43)\" stop-opacity=\"1\"/><stop offset=\"100%\" stop-color=\"rgb(253, 231, 37)\" stop-opacity=\"1\"/></linearGradient></g><g class=\"patterns\"/></defs><g class=\"bglayer\"/><g class=\"layer-below\"><g class=\"imagelayer\"/><g class=\"shapelayer\"/></g><g class=\"cartesianlayer\"/><g class=\"polarlayer\"/><g class=\"smithlayer\"/><g class=\"ternarylayer\"/><g class=\"geolayer\"/><g class=\"funnelarealayer\"/><g class=\"pielayer\"/><g class=\"iciclelayer\"/><g class=\"treemaplayer\"/><g class=\"sunburstlayer\"/><g class=\"glimages\"><image xmlns=\"http://www.w3.org/2000/svg\" xlink:href=\"data:image/png;base64,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\" x=\"80\" y=\"100\" width=\"529\" height=\"320\" preserveAspectRatio=\"none\"/></g><defs id=\"topdefs-2cc05b\"><g class=\"clips\"/></defs><g class=\"layer-above\"><g class=\"imagelayer\"/><g class=\"shapelayer\"/></g><g class=\"infolayer\"><g class=\"cbcoloraxis colorbar\" transform=\"translate(80,100)\"><rect class=\"cbbg\" x=\"539.5\" y=\"0\" width=\"68.03125\" height=\"321\" style=\"fill: rgb(0, 0, 0); fill-opacity: 0; stroke: rgb(68, 68, 68); stroke-opacity: 1; stroke-width: 0;\"/><g class=\"cbfills\" transform=\"translate(0,31)\"><rect class=\"cbfill\" x=\"550\" y=\"0\" width=\"30\" height=\"279\" style=\"fill: url('#g2cc05b-cbcoloraxis');\"/></g><g class=\"cblines\" transform=\"translate(0,31)\"/><g class=\"cbaxis crisp\" transform=\"translate(0,-100)\"><g class=\"ycbcoloraxistick\"><text text-anchor=\"start\" x=\"583.4\" y=\"4.199999999999999\" transform=\"translate(0,410)\" style=\"font-family: 'Open Sans', verdana, arial, sans-serif; font-size: 12px; fill: rgb(68, 68, 68); fill-opacity: 1; white-space: pre; opacity: 1;\">0</text></g><g class=\"ycbcoloraxistick\"><text text-anchor=\"start\" x=\"583.4\" y=\"4.199999999999999\" style=\"font-family: 'Open Sans', verdana, arial, sans-serif; font-size: 12px; fill: rgb(68, 68, 68); fill-opacity: 1; white-space: pre; opacity: 1;\" transform=\"translate(0,354.2)\">0.2</text></g><g class=\"ycbcoloraxistick\"><text text-anchor=\"start\" x=\"583.4\" y=\"4.199999999999999\" style=\"font-family: 'Open Sans', verdana, arial, sans-serif; font-size: 12px; fill: rgb(68, 68, 68); fill-opacity: 1; white-space: pre; opacity: 1;\" transform=\"translate(0,298.4)\">0.4</text></g><g class=\"ycbcoloraxistick\"><text text-anchor=\"start\" x=\"583.4\" y=\"4.199999999999999\" style=\"font-family: 'Open Sans', verdana, arial, sans-serif; font-size: 12px; fill: rgb(68, 68, 68); fill-opacity: 1; white-space: pre; opacity: 1;\" transform=\"translate(0,242.6)\">0.6</text></g><g class=\"ycbcoloraxistick\"><text text-anchor=\"start\" x=\"583.4\" y=\"4.199999999999999\" style=\"font-family: 'Open Sans', verdana, arial, sans-serif; font-size: 12px; fill: rgb(68, 68, 68); fill-opacity: 1; white-space: pre; opacity: 1;\" transform=\"translate(0,186.8)\">0.8</text></g><g class=\"ycbcoloraxistick\"><text text-anchor=\"start\" x=\"583.4\" y=\"4.199999999999999\" style=\"font-family: 'Open Sans', verdana, arial, sans-serif; font-size: 12px; fill: rgb(68, 68, 68); fill-opacity: 1; white-space: pre; opacity: 1;\" transform=\"translate(0,131)\">1</text></g></g><g class=\"cbtitleunshift\" transform=\"translate(-80,-100)\"><g class=\"cbtitle\" transform=\"translate(-0.5,-0.5)\"><text class=\"ycbcoloraxistitle\" x=\"629.58\" y=\"123.5\" text-anchor=\"start\" style=\"font-family: 'Open Sans', verdana, arial, sans-serif; font-size: 14px; fill: rgb(68, 68, 68); opacity: 1; font-weight: normal; white-space: pre;\">Y_pred</text></g></g><rect class=\"cboutline\" x=\"550\" y=\"31\" width=\"30\" height=\"279\" style=\"stroke: rgb(68, 68, 68); stroke-opacity: 1; fill: none; stroke-width: 1;\"/></g><g class=\"g-gtitle\"><text class=\"gtitle\" x=\"350\" y=\"50\" text-anchor=\"middle\" dy=\"0em\" style=\"font-family: 'Open Sans', verdana, arial, sans-serif; font-size: 17px; fill: rgb(68, 68, 68); opacity: 1; font-weight: normal; white-space: pre;\">training set</text></g></g></svg>"
      ]
     },
     "metadata": {},
     "output_type": "display_data"
    }
   ],
   "source": []
  },
  {
   "cell_type": "markdown",
   "metadata": {},
   "source": [
    "17. Use the library mlxtend to plot the decision boundary of the model. You might need to install it before : \n",
    "```python\n",
    "!pip install mlxtend\n",
    "```\n",
    "This documentation page might help you 😉 : http://rasbt.github.io/mlxtend/api_subpackages/mlxtend.plotting/"
   ]
  },
  {
   "cell_type": "code",
   "execution_count": null,
   "metadata": {
    "tags": []
   },
   "outputs": [
    {
     "data": {
      "image/png": "[encoded data removed]",
      "text/plain": [
       "<Figure size 432x288 with 1 Axes>"
      ]
     },
     "metadata": {
      "needs_background": "light"
     },
     "output_type": "display_data"
    }
   ],
   "source": []
  }
 ],
 "metadata": {
  "colab": {
   "collapsed_sections": [],
   "name": "Une première classification - Exercice SOLUTIONS.ipynb",
   "provenance": []
  },
  "interpreter": {
   "hash": "216d08ced86f1f6e0b5764233bcb18334be12ba95b6ee555f60be9cf0be8c147"
  },
  "kernelspec": {
   "display_name": "Python 3 (ipykernel)",
   "language": "python",
   "name": "python3"
  },
  "language_info": {
   "codemirror_mode": {
    "name": "ipython",
    "version": 3
   },
   "file_extension": ".py",
   "mimetype": "text/x-python",
   "name": "python",
   "nbconvert_exporter": "python",
   "pygments_lexer": "ipython3",
   "version": "3.11.7"
  }
 },
 "nbformat": 4,
 "nbformat_minor": 4
}
