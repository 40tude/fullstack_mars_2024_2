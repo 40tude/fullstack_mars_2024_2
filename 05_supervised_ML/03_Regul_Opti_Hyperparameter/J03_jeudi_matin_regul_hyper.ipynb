{
 "cells": [
  {
   "cell_type": "markdown",
   "metadata": {},
   "source": [
    "# Jeudi 11 Avril\n",
    "\n",
    "## Regularization and Hyperparameter Optimization\n",
    "\n",
    "* Voir https://app.jedha.co/course/regularization-and-hyperparameter-optimization-ft/regularization-ft\n",
    "\n",
    "\n",
    "\n",
    "# Regularization and hyperparameter optimization with scikit-learn\n",
    "\n",
    "## What will you learn in this course?\n",
    "\n",
    "Let's come back to yesterday's mutiple linear regression model. Now, our objective is to implement a **regularized** linear regression. In this process, we'll use :\n",
    "* A Ridge linear regression model\n",
    "* cross-validation to estimate how the generalized $R^2$ score varies depending on the choice of the validation set\n",
    "* cross-validated grid search to tune the value of the regularization strength\n",
    "\n",
    "It's quite an ambitious program, isn't it ?\n",
    "\n",
    "But don't worry, with scikit-learn's dedicated classes, it will be quite easy and straightforward to implement\n",
    "\n",
    "* Training Pipeline\n",
    "    * Cross-validated score for a Ridge model (with default value of $\\lambda$)\n",
    "    * Grid search : tune $\\lambda$\n",
    "* Test pipeline\n",
    "* Final remarks"
   ]
  },
  {
   "cell_type": "code",
   "execution_count": 14,
   "metadata": {},
   "outputs": [],
   "source": [
    "import pandas as pd\n",
    "import numpy as np\n",
    "\n",
    "from sklearn.model_selection import train_test_split\n",
    "from sklearn.pipeline import Pipeline\n",
    "from sklearn.impute import SimpleImputer\n",
    "from sklearn.preprocessing import  OneHotEncoder, StandardScaler\n",
    "from sklearn.compose import ColumnTransformer\n",
    "from sklearn.linear_model import Ridge                                   # ! NEW\n",
    "from sklearn.model_selection import cross_val_score, GridSearchCV        # ! NEW\n",
    "# from sklearn.metrics import r2_score"
   ]
  },
  {
   "cell_type": "code",
   "execution_count": 15,
   "metadata": {
    "colab": {
     "base_uri": "https://localhost:8080/",
     "height": 67
    },
    "colab_type": "code",
    "id": "i-teycYon6yK",
    "outputId": "67704847-2d57-40ca-d58e-29c52ae97e90"
   },
   "outputs": [
    {
     "name": "stdout",
     "output_type": "stream",
     "text": [
      "Loading dataset...\n",
      "...Done.\n"
     ]
    },
    {
     "data": {
      "text/html": [
       "<div>\n",
       "<style scoped>\n",
       "    .dataframe tbody tr th:only-of-type {\n",
       "        vertical-align: middle;\n",
       "    }\n",
       "\n",
       "    .dataframe tbody tr th {\n",
       "        vertical-align: top;\n",
       "    }\n",
       "\n",
       "    .dataframe thead th {\n",
       "        text-align: right;\n",
       "    }\n",
       "</style>\n",
       "<table border=\"1\" class=\"dataframe\">\n",
       "  <thead>\n",
       "    <tr style=\"text-align: right;\">\n",
       "      <th></th>\n",
       "      <th>Country</th>\n",
       "      <th>Age</th>\n",
       "      <th>Salary</th>\n",
       "      <th>Purchased</th>\n",
       "    </tr>\n",
       "  </thead>\n",
       "  <tbody>\n",
       "    <tr>\n",
       "      <th>0</th>\n",
       "      <td>France</td>\n",
       "      <td>44.0</td>\n",
       "      <td>72000</td>\n",
       "      <td>No</td>\n",
       "    </tr>\n",
       "    <tr>\n",
       "      <th>1</th>\n",
       "      <td>Spain</td>\n",
       "      <td>27.0</td>\n",
       "      <td>48000</td>\n",
       "      <td>Yes</td>\n",
       "    </tr>\n",
       "    <tr>\n",
       "      <th>2</th>\n",
       "      <td>Germany</td>\n",
       "      <td>30.0</td>\n",
       "      <td>54000</td>\n",
       "      <td>No</td>\n",
       "    </tr>\n",
       "    <tr>\n",
       "      <th>3</th>\n",
       "      <td>Spain</td>\n",
       "      <td>38.0</td>\n",
       "      <td>61000</td>\n",
       "      <td>No</td>\n",
       "    </tr>\n",
       "    <tr>\n",
       "      <th>4</th>\n",
       "      <td>Germany</td>\n",
       "      <td>40.0</td>\n",
       "      <td>69000</td>\n",
       "      <td>Yes</td>\n",
       "    </tr>\n",
       "  </tbody>\n",
       "</table>\n",
       "</div>"
      ],
      "text/plain": [
       "   Country   Age  Salary Purchased\n",
       "0   France  44.0   72000        No\n",
       "1    Spain  27.0   48000       Yes\n",
       "2  Germany  30.0   54000        No\n",
       "3    Spain  38.0   61000        No\n",
       "4  Germany  40.0   69000       Yes"
      ]
     },
     "execution_count": 15,
     "metadata": {},
     "output_type": "execute_result"
    }
   ],
   "source": [
    "# Import dataset\n",
    "print(\"Loading dataset...\")\n",
    "dataset = pd.read_csv(\"../12_assets/05_supervised_ML/Data.csv\")\n",
    "print(\"...Done.\")\n",
    "dataset.head()"
   ]
  },
  {
   "cell_type": "code",
   "execution_count": 16,
   "metadata": {},
   "outputs": [
    {
     "name": "stdout",
     "output_type": "stream",
     "text": [
      "Separating labels from features...\n",
      "...Done.\n",
      "\n",
      "Y : \n",
      "0    72000\n",
      "1    48000\n",
      "2    54000\n",
      "3    61000\n",
      "4    69000\n",
      "Name: Salary, dtype: int64\n",
      "\n",
      "X :\n",
      "   Country   Age Purchased\n",
      "0   France  44.0        No\n",
      "1    Spain  27.0       Yes\n",
      "2  Germany  30.0        No\n",
      "3    Spain  38.0        No\n",
      "4  Germany  40.0       Yes\n"
     ]
    }
   ],
   "source": [
    "# Separate target variable Y from features X\n",
    "print(\"Separating labels from features...\")\n",
    "target_variable = \"Salary\"\n",
    "\n",
    "X = dataset.drop(target_variable, axis = 1)\n",
    "Y = dataset.loc[:,target_variable]\n",
    "\n",
    "print(\"...Done.\")\n",
    "print()\n",
    "\n",
    "print('Y : ')\n",
    "print(Y.head())\n",
    "print()\n",
    "print('X :')\n",
    "print(X.head())"
   ]
  },
  {
   "cell_type": "code",
   "execution_count": 17,
   "metadata": {
    "colab": {
     "base_uri": "https://localhost:8080/",
     "height": 50
    },
    "colab_type": "code",
    "id": "uebQu3V9spss",
    "outputId": "310aa2e2-a9d2-4f84-e9fa-56fb24b3f756"
   },
   "outputs": [
    {
     "name": "stdout",
     "output_type": "stream",
     "text": [
      "Found numeric features  ['Age']\n",
      "Found categorical features  ['Country', 'Purchased']\n"
     ]
    }
   ],
   "source": [
    "# Automatically detect names of numeric/categorical columns\n",
    "numeric_features = []\n",
    "categorical_features = []\n",
    "for i,t in X.dtypes.items():\n",
    "    if ('float' in str(t)) or ('int' in str(t)) :\n",
    "        numeric_features.append(i)\n",
    "    else :\n",
    "        categorical_features.append(i)\n",
    "\n",
    "print('Found numeric features ', numeric_features)\n",
    "print('Found categorical features ', categorical_features)"
   ]
  },
  {
   "cell_type": "code",
   "execution_count": 18,
   "metadata": {
    "colab": {
     "base_uri": "https://localhost:8080/",
     "height": 67
    },
    "colab_type": "code",
    "id": "Ra8LgBS5s83i",
    "outputId": "6dd938b3-ca4b-4ddb-c55e-f020aed4eca3"
   },
   "outputs": [
    {
     "name": "stdout",
     "output_type": "stream",
     "text": [
      "Dividing into train and test sets...\n",
      "...Done.\n",
      "\n"
     ]
    }
   ],
   "source": [
    "# Divide dataset Train set & Test set \n",
    "print(\"Dividing into train and test sets...\")\n",
    "X_train, X_test, Y_train, Y_test = train_test_split(X, Y, test_size=0.2, random_state=0)\n",
    "print(\"...Done.\")\n",
    "print()"
   ]
  },
  {
   "cell_type": "markdown",
   "metadata": {
    "colab_type": "text",
    "id": "AORkIJc9vE4X",
    "tags": []
   },
   "source": [
    "### Preprocessing"
   ]
  },
  {
   "cell_type": "code",
   "execution_count": 19,
   "metadata": {},
   "outputs": [],
   "source": [
    "# Create pipeline for numeric features\n",
    "numeric_transformer = Pipeline(steps=[\n",
    "    ('imputer', SimpleImputer(strategy='mean')), # missing values will be replaced by columns' mean\n",
    "    ('scaler', StandardScaler())\n",
    "])"
   ]
  },
  {
   "cell_type": "code",
   "execution_count": 20,
   "metadata": {},
   "outputs": [],
   "source": [
    "# Create pipeline for categorical features\n",
    "categorical_transformer = Pipeline(\n",
    "    steps=[\n",
    "    ('encoder', OneHotEncoder(drop='first')) # first column will be dropped to avoid creating correlations between features\n",
    "    ])"
   ]
  },
  {
   "cell_type": "code",
   "execution_count": 21,
   "metadata": {},
   "outputs": [],
   "source": [
    "# Use ColumnTransformer to make a preprocessor object that describes all the treatments to be done\n",
    "preprocessor = ColumnTransformer(\n",
    "    transformers=[\n",
    "        ('num', numeric_transformer, numeric_features),\n",
    "        ('cat', categorical_transformer, categorical_features)\n",
    "    ])"
   ]
  },
  {
   "cell_type": "code",
   "execution_count": 22,
   "metadata": {},
   "outputs": [
    {
     "name": "stdout",
     "output_type": "stream",
     "text": [
      "Performing preprocessings on train set...\n",
      "   Country   Age Purchased\n",
      "4  Germany  40.0       Yes\n",
      "9   France  37.0       Yes\n",
      "1    Spain  27.0       Yes\n",
      "6    Spain   NaN        No\n",
      "7   France  48.0       Yes\n",
      "...Done.\n",
      "[[ 0.27063731  1.          0.          1.        ]\n",
      " [-0.24603392  0.          0.          1.        ]\n",
      " [-1.96827133  0.          1.          1.        ]\n",
      " [ 0.          0.          1.          0.        ]\n",
      " [ 1.64842723  0.          0.          1.        ]]\n",
      "\n",
      "Performing preprocessings on test set...\n",
      "   Country   Age Purchased\n",
      "2  Germany  30.0        No\n",
      "8  Germany  50.0        No\n",
      "...Done.\n",
      "[[-1.4516001   1.          0.          0.        ]\n",
      " [ 1.99287472  1.          0.          0.        ]]\n",
      "\n"
     ]
    }
   ],
   "source": [
    "# Preprocessings on train set\n",
    "print(\"Performing preprocessings on train set...\")\n",
    "print(X_train.head())\n",
    "X_train = preprocessor.fit_transform(X_train)\n",
    "print('...Done.')\n",
    "print(X_train[0:5]) # MUST use this syntax because X_train is a numpy array and not a pandas DataFrame anymore\n",
    "print()\n",
    "\n",
    "# Preprocessings on test set\n",
    "print(\"Performing preprocessings on test set...\")\n",
    "print(X_test.head()) \n",
    "X_test = preprocessor.transform(X_test) # Don't fit again !!\n",
    "print('...Done.')\n",
    "print(X_test[0:5,:]) # MUST use this syntax because X_test is a numpy array and not a pandas DataFrame anymore\n",
    "print()"
   ]
  },
  {
   "cell_type": "markdown",
   "metadata": {},
   "source": [
    "### Cross-validated score for a Ridge model (with default value of $\\lambda$)"
   ]
  },
  {
   "cell_type": "code",
   "execution_count": 24,
   "metadata": {},
   "outputs": [
    {
     "name": "stdout",
     "output_type": "stream",
     "text": [
      "3-fold cross-validation...\n",
      "The cross-validated R2-score is :  0.7148695556594437\n",
      "The standard deviation is       :  0.09273865480146797\n"
     ]
    }
   ],
   "source": [
    "# Perform 3-fold cross-validation to evaluate the generalized R2 score obtained with a Ridge model\n",
    "print(\"3-fold cross-validation...\")\n",
    "\n",
    "# https://scikit-learn.org/stable/modules/generated/sklearn.linear_model.Ridge.html\n",
    "regressor = Ridge()\n",
    "\n",
    "# On fait pas de fit, cross_val_score le fait sur l'echantillon en cours\n",
    "scores = cross_val_score(regressor, X_train, Y_train, cv=3) # Bien voir qu'on passe que X_train. Il va définir \"X_validation\" lui même\n",
    "print('The cross-validated R2-score is : ', scores.mean())\n",
    "print('The standard deviation is       : ', scores.std())"
   ]
  },
  {
   "cell_type": "markdown",
   "metadata": {},
   "source": [
    "### Grid search : tune $\\lambda$"
   ]
  },
  {
   "cell_type": "code",
   "execution_count": 26,
   "metadata": {
    "colab": {
     "base_uri": "https://localhost:8080/",
     "height": 50
    },
    "colab_type": "code",
    "id": "fKv5JHVozdpd",
    "outputId": "27248696-e55a-4cb2-d947-29893f42f42d"
   },
   "outputs": [
    {
     "name": "stdout",
     "output_type": "stream",
     "text": [
      "Grid search...\n",
      "...Done.\n",
      "Best hyperparameters :  {'alpha': 1.0}\n",
      "Best R2 score        :  0.7148695556594437\n"
     ]
    }
   ],
   "source": [
    "# Perform grid search\n",
    "print(\"Grid search...\")\n",
    "regressor = Ridge()\n",
    "# Grid of values to be tested\n",
    "params = {\n",
    "    'alpha': [0.0, 0.1, 0.5, 1.0]                                               # 0 corresponds to no regularization\n",
    "}\n",
    "gridsearch = GridSearchCV(regressor, param_grid = params, cv = 3)               # cv : the number of folds to be used for CV\n",
    "gridsearch.fit(X_train, Y_train)\n",
    "print(\"...Done.\")\n",
    "print(\"Best hyperparameters : \", gridsearch.best_params_)\n",
    "print(\"Best R2 score        : \", gridsearch.best_score_)                         # C'est le R² moyen sur les différents "
   ]
  },
  {
   "cell_type": "markdown",
   "metadata": {},
   "source": [
    "### Performance assessment"
   ]
  },
  {
   "cell_type": "code",
   "execution_count": 29,
   "metadata": {},
   "outputs": [
    {
     "name": "stdout",
     "output_type": "stream",
     "text": [
      "R2 score on training set :  0.8859961574542502\n",
      "R2 score on test set     :  0.9316887810489011\n"
     ]
    }
   ],
   "source": [
    "# Print R^2 scores\n",
    "print(\"R2 score on training set : \", gridsearch.score(X_train, Y_train))\n",
    "print(\"R2 score on test set     : \", gridsearch.score(X_test, Y_test))"
   ]
  },
  {
   "cell_type": "markdown",
   "metadata": {},
   "source": [
    "## Final remarks\n",
    "* Here, we can see that the model's generalized performance was improved by using a Ridge regression and tuning the value of the regularization strength. \n",
    "* Indeed, without regularization, the $R^2$ typically varies between 0.6 and 0.8, whereas with a regularized model we achieve a test score greater than 0.9"
   ]
  },
  {
   "cell_type": "code",
   "execution_count": 27,
   "metadata": {},
   "outputs": [
    {
     "data": {
      "text/plain": [
       "{'mean_fit_time': array([0.0012792 , 0.0012931 , 0.        , 0.00072805]),\n",
       " 'std_fit_time': array([0.00180906, 0.00182872, 0.        , 0.00043035]),\n",
       " 'mean_score_time': array([0.        , 0.00129104, 0.        , 0.        ]),\n",
       " 'std_score_time': array([0.       , 0.0018258, 0.       , 0.       ]),\n",
       " 'param_alpha': masked_array(data=[0.0, 0.1, 0.5, 1.0],\n",
       "              mask=[False, False, False, False],\n",
       "        fill_value='?',\n",
       "             dtype=object),\n",
       " 'params': [{'alpha': 0.0}, {'alpha': 0.1}, {'alpha': 0.5}, {'alpha': 1.0}],\n",
       " 'split0_test_score': array([0.5574292 , 0.61985315, 0.76254335, 0.84245348]),\n",
       " 'split1_test_score': array([-4.14353202,  0.66362103,  0.66261998,  0.62476325]),\n",
       " 'split2_test_score': array([0.48396732, 0.56311698, 0.64474707, 0.67739194]),\n",
       " 'mean_test_score': array([-1.03404517,  0.61553039,  0.68997013,  0.71486956]),\n",
       " 'std_test_score': array([2.19894376, 0.0411443 , 0.05183315, 0.09273865]),\n",
       " 'rank_test_score': array([4, 3, 2, 1])}"
      ]
     },
     "execution_count": 27,
     "metadata": {},
     "output_type": "execute_result"
    }
   ],
   "source": [
    "gridsearch.cv_results_"
   ]
  },
  {
   "cell_type": "code",
   "execution_count": null,
   "metadata": {},
   "outputs": [],
   "source": []
  }
 ],
 "metadata": {
  "kernelspec": {
   "display_name": "Python 3 (ipykernel)",
   "language": "python",
   "name": "python3"
  },
  "language_info": {
   "codemirror_mode": {
    "name": "ipython",
    "version": 3
   },
   "file_extension": ".py",
   "mimetype": "text/x-python",
   "name": "python",
   "nbconvert_exporter": "python",
   "pygments_lexer": "ipython3",
   "version": "3.11.7"
  }
 },
 "nbformat": 4,
 "nbformat_minor": 4
}
